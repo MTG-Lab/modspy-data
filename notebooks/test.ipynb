{
 "cells": [
  {
   "cell_type": "code",
   "execution_count": 1,
   "metadata": {},
   "outputs": [],
   "source": [
    "import dgl\n",
    "# import torch"
   ]
  },
  {
   "cell_type": "code",
   "execution_count": 2,
   "metadata": {},
   "outputs": [
    {
     "data": {
      "text/plain": [
       "(tensor([[0, 1, 1, 1, 2, 2, 2],\n",
       "         [1, 3, 1, 0, 1, 1, 3],\n",
       "         [2, 0, 1, 0, 1, 1, 0],\n",
       "         [0, 1, 1, 0, 1, 1, 1]]),\n",
       " tensor([1, 1, 0, 1, 1, 0, 1]))"
      ]
     },
     "execution_count": 2,
     "metadata": {},
     "output_type": "execute_result"
    }
   ],
   "source": [
    "g2 = dgl.heterograph({\n",
    "    ('user', 'follow', 'user'): ([0, 1, 1, 2, 3], [1, 2, 3, 0, 0]),\n",
    "    ('user', 'view', 'item'): ([0, 0, 1, 2, 3, 3], [0, 1, 1, 2, 2, 1]),\n",
    "    ('item', 'viewed-by', 'user'): ([0, 1, 1, 2, 2, 1], [0, 0, 1, 2, 3, 3])})\n",
    "dgl.sampling.random_walk(    g2, [0, 1, 2, 0], metapath=['follow', 'view', 'viewed-by'] * 2)\n",
    "\n",
    "# dgl.sampling.random_walk(g2, [0, 1, 2, 0], metapath=['follow', 'view', 'viewed-by'] * 2, restart_prob=torch.FloatTensor([0, 0.5, 0, 0, 0.5, 0]))"
   ]
  },
  {
   "cell_type": "code",
   "execution_count": null,
   "metadata": {},
   "outputs": [],
   "source": []
  }
 ],
 "metadata": {
  "kernelspec": {
   "display_name": ".modspy-data-p38",
   "language": "python",
   "name": "python3"
  },
  "language_info": {
   "codemirror_mode": {
    "name": "ipython",
    "version": 3
   },
   "file_extension": ".py",
   "mimetype": "text/x-python",
   "name": "python",
   "nbconvert_exporter": "python",
   "pygments_lexer": "ipython3",
   "version": "3.10.12"
  }
 },
 "nbformat": 4,
 "nbformat_minor": 2
}
