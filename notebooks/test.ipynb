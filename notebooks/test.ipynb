{
 "cells": [
  {
   "cell_type": "code",
   "execution_count": 236,
   "metadata": {},
   "outputs": [],
   "source": [
    "import dgl\n",
    "import torch"
   ]
  },
  {
   "cell_type": "code",
   "execution_count": 265,
   "metadata": {},
   "outputs": [],
   "source": [
    "\"\"\"Random walk routines\n",
    "\"\"\"\n",
    "\n",
    "from dgl import backend as F, ndarray as nd, utils\n",
    "from dgl._ffi.function import _init_api\n",
    "from dgl.base import DGLError\n",
    "\n",
    "__all__ = [\"random_walk\", \"pack_traces\"]\n",
    "\n",
    "\n",
    "def random_walk(\n",
    "    g,\n",
    "    nodes,\n",
    "    *,\n",
    "    metapath=None,\n",
    "    length=None,\n",
    "    prob=None,\n",
    "    restart_prob=None,\n",
    "    return_eids=False\n",
    "):\n",
    "    \"\"\"Generate random walk traces from an array of starting nodes based on the given metapath.\n",
    "    \"\"\"\n",
    "    n_etypes = len(g.canonical_etypes)\n",
    "    n_ntypes = len(g.ntypes)\n",
    "\n",
    "    if metapath is None:\n",
    "        if n_etypes > 1 or n_ntypes > 1:\n",
    "            raise DGLError(\n",
    "                \"metapath not specified and the graph is not homogeneous.\"\n",
    "            )\n",
    "        if length is None:\n",
    "            raise ValueError(\n",
    "                \"Please specify either the metapath or the random walk length.\"\n",
    "            )\n",
    "        metapath = [0] * length\n",
    "    else:\n",
    "        metapath = [g.get_etype_id(etype) for etype in metapath]\n",
    "\n",
    "    gidx = g._graph\n",
    "    nodes = utils.prepare_tensor(g, nodes, \"nodes\")\n",
    "    nodes = F.to_dgl_nd(nodes)\n",
    "    # (Xin) Since metapath array is created by us, safe to skip the check\n",
    "    #       and keep it on CPU to make max_nodes sanity check easier.\n",
    "    metapath = F.to_dgl_nd(F.astype(F.tensor(metapath), g.idtype))\n",
    "    # print(nodes)\n",
    "    # Load the probability tensor from the edge frames\n",
    "    ctx = utils.to_dgl_context(g.device)\n",
    "    if prob is None:\n",
    "        p_nd = [nd.array([], ctx=ctx) for _ in g.canonical_etypes]\n",
    "    else:\n",
    "        p_nd = []\n",
    "        for etype in g.canonical_etypes:\n",
    "            if prob in g.edges[etype].data:\n",
    "                prob_nd = F.to_dgl_nd(g.edges[etype].data[prob])\n",
    "            else:\n",
    "                prob_nd = nd.array([], ctx=ctx)\n",
    "            p_nd.append(prob_nd)\n",
    "    # print(p_nd)\n",
    "    # Actual random walk\n",
    "    if restart_prob is None:\n",
    "        print(gidx, nodes, metapath, p_nd)\n",
    "        traces, eids, types = _CAPI_DGLSamplingRandomWalk(\n",
    "            gidx, nodes, metapath, p_nd\n",
    "        )\n",
    "    elif F.is_tensor(restart_prob):\n",
    "        restart_prob = F.to_dgl_nd(restart_prob)\n",
    "        traces, eids, types = _CAPI_DGLSamplingRandomWalkWithStepwiseRestart(\n",
    "            gidx, nodes, metapath, p_nd, restart_prob\n",
    "        )\n",
    "    elif isinstance(restart_prob, float):\n",
    "        traces, eids, types = _CAPI_DGLSamplingRandomWalkWithRestart(\n",
    "            gidx, nodes, metapath, p_nd, restart_prob\n",
    "        )\n",
    "    else:\n",
    "        raise TypeError(\"restart_prob should be float or Tensor.\")\n",
    "\n",
    "    print(traces)\n",
    "    traces = F.from_dgl_nd(traces)\n",
    "    types = F.from_dgl_nd(types)\n",
    "    eids = F.from_dgl_nd(eids)\n",
    "    \n",
    "    # print((traces, types))\n",
    "\n",
    "    return (traces, eids, types) if return_eids else (traces, types)\n",
    "\n",
    "\n",
    "_init_api(\"dgl.sampling.randomwalks\", __name__)"
   ]
  },
  {
   "cell_type": "code",
   "execution_count": null,
   "metadata": {},
   "outputs": [],
   "source": [
    "g2 = dgl.heterograph({\n",
    "    ('user', 'follow', 'user'): ([0, 1, 1, 2, 3], [1, 2, 3, 0, 0]),\n",
    "    ('user', 'view', 'item'): ([0, 0, 1, 2, 3, 3], [0, 1, 1, 2, 2, 1]),\n",
    "    ('item', 'viewed-by', 'user'): ([0, 1, 1, 2, 2, 1], [0, 0, 1, 2, 3, 3])})"
   ]
  },
  {
   "cell_type": "code",
   "execution_count": 266,
   "metadata": {},
   "outputs": [
    {
     "data": {
      "text/plain": [
       "Graph(num_nodes={'item': 3, 'user': 4},\n",
       "      num_edges={('item', 'viewed-by', 'user'): 6, ('user', 'follow', 'user'): 5, ('user', 'view', 'item'): 6},\n",
       "      metagraph=[('item', 'user', 'viewed-by'), ('user', 'user', 'follow'), ('user', 'item', 'view')])"
      ]
     },
     "metadata": {},
     "output_type": "display_data"
    },
    {
     "data": {
      "text/html": [
       "<pre style=\"white-space:pre;overflow-x:auto;line-height:normal;font-family:Menlo,'DejaVu Sans Mono',consolas,'Courier New',monospace\"><span style=\"font-weight: bold\">&lt;</span><span style=\"color: #ff00ff; text-decoration-color: #ff00ff; font-weight: bold\">dgl.heterograph_index.HeteroGraphIndex</span><span style=\"color: #000000; text-decoration-color: #000000\"> object at </span><span style=\"color: #008080; text-decoration-color: #008080; font-weight: bold\">0x2ac0aa1aaec0</span><span style=\"font-weight: bold\">&gt;</span> <span style=\"font-weight: bold\">[</span><span style=\"color: #008080; text-decoration-color: #008080; font-weight: bold\">0</span> <span style=\"color: #008080; text-decoration-color: #008080; font-weight: bold\">1</span> <span style=\"color: #008080; text-decoration-color: #008080; font-weight: bold\">2</span> <span style=\"color: #008080; text-decoration-color: #008080; font-weight: bold\">0</span><span style=\"font-weight: bold\">]</span> <span style=\"font-weight: bold\">[</span><span style=\"color: #008080; text-decoration-color: #008080; font-weight: bold\">1</span> <span style=\"color: #008080; text-decoration-color: #008080; font-weight: bold\">2</span> <span style=\"color: #008080; text-decoration-color: #008080; font-weight: bold\">0</span> <span style=\"color: #008080; text-decoration-color: #008080; font-weight: bold\">1</span> <span style=\"color: #008080; text-decoration-color: #008080; font-weight: bold\">2</span> <span style=\"color: #008080; text-decoration-color: #008080; font-weight: bold\">0</span><span style=\"font-weight: bold\">]</span>\n",
       "<span style=\"font-weight: bold\">[</span><span style=\"color: #800080; text-decoration-color: #800080; font-weight: bold\">dgl.array</span><span style=\"font-weight: bold\">([]</span>, <span style=\"color: #808000; text-decoration-color: #808000\">dtype</span>=<span style=\"color: #800080; text-decoration-color: #800080\">float64</span><span style=\"font-weight: bold\">)</span>@<span style=\"color: #800080; text-decoration-color: #800080; font-weight: bold\">cpu</span><span style=\"font-weight: bold\">(</span><span style=\"color: #008080; text-decoration-color: #008080; font-weight: bold\">0</span><span style=\"font-weight: bold\">)</span>, <span style=\"color: #800080; text-decoration-color: #800080; font-weight: bold\">dgl.array</span><span style=\"font-weight: bold\">([]</span>, <span style=\"color: #808000; text-decoration-color: #808000\">dtype</span>=<span style=\"color: #800080; text-decoration-color: #800080\">float64</span><span style=\"font-weight: bold\">)</span>@<span style=\"color: #800080; text-decoration-color: #800080; font-weight: bold\">cpu</span><span style=\"font-weight: bold\">(</span><span style=\"color: #008080; text-decoration-color: #008080; font-weight: bold\">0</span><span style=\"font-weight: bold\">)</span>, <span style=\"color: #800080; text-decoration-color: #800080; font-weight: bold\">dgl.array</span><span style=\"font-weight: bold\">([]</span>, <span style=\"color: #808000; text-decoration-color: #808000\">dtype</span>=<span style=\"color: #800080; text-decoration-color: #800080\">float64</span><span style=\"font-weight: bold\">)</span>@<span style=\"color: #800080; text-decoration-color: #800080; font-weight: bold\">cpu</span><span style=\"font-weight: bold\">(</span><span style=\"color: #008080; text-decoration-color: #008080; font-weight: bold\">0</span><span style=\"font-weight: bold\">)]</span>\n",
       "</pre>\n"
      ],
      "text/plain": [
       "\u001b[1m<\u001b[0m\u001b[1;95mdgl.heterograph_index.HeteroGraphIndex\u001b[0m\u001b[39m object at \u001b[0m\u001b[1;36m0x2ac0aa1aaec0\u001b[0m\u001b[1m>\u001b[0m \u001b[1m[\u001b[0m\u001b[1;36m0\u001b[0m \u001b[1;36m1\u001b[0m \u001b[1;36m2\u001b[0m \u001b[1;36m0\u001b[0m\u001b[1m]\u001b[0m \u001b[1m[\u001b[0m\u001b[1;36m1\u001b[0m \u001b[1;36m2\u001b[0m \u001b[1;36m0\u001b[0m \u001b[1;36m1\u001b[0m \u001b[1;36m2\u001b[0m \u001b[1;36m0\u001b[0m\u001b[1m]\u001b[0m\n",
       "\u001b[1m[\u001b[0m\u001b[1;35mdgl.array\u001b[0m\u001b[1m(\u001b[0m\u001b[1m[\u001b[0m\u001b[1m]\u001b[0m, \u001b[33mdtype\u001b[0m=\u001b[35mfloat64\u001b[0m\u001b[1m)\u001b[0m@\u001b[1;35mcpu\u001b[0m\u001b[1m(\u001b[0m\u001b[1;36m0\u001b[0m\u001b[1m)\u001b[0m, \u001b[1;35mdgl.array\u001b[0m\u001b[1m(\u001b[0m\u001b[1m[\u001b[0m\u001b[1m]\u001b[0m, \u001b[33mdtype\u001b[0m=\u001b[35mfloat64\u001b[0m\u001b[1m)\u001b[0m@\u001b[1;35mcpu\u001b[0m\u001b[1m(\u001b[0m\u001b[1;36m0\u001b[0m\u001b[1m)\u001b[0m, \u001b[1;35mdgl.array\u001b[0m\u001b[1m(\u001b[0m\u001b[1m[\u001b[0m\u001b[1m]\u001b[0m, \u001b[33mdtype\u001b[0m=\u001b[35mfloat64\u001b[0m\u001b[1m)\u001b[0m@\u001b[1;35mcpu\u001b[0m\u001b[1m(\u001b[0m\u001b[1;36m0\u001b[0m\u001b[1m)\u001b[0m\u001b[1m]\u001b[0m\n"
      ]
     },
     "metadata": {},
     "output_type": "display_data"
    },
    {
     "data": {
      "text/html": [
       "<pre style=\"white-space:pre;overflow-x:auto;line-height:normal;font-family:Menlo,'DejaVu Sans Mono',consolas,'Courier New',monospace\"><span style=\"font-weight: bold\">[[</span>             <span style=\"color: #008080; text-decoration-color: #008080; font-weight: bold\">0</span>              <span style=\"color: #008080; text-decoration-color: #008080; font-weight: bold\">1</span>              <span style=\"color: #008080; text-decoration-color: #008080; font-weight: bold\">1</span>              <span style=\"color: #008080; text-decoration-color: #008080; font-weight: bold\">3</span>\n",
       "               <span style=\"color: #008080; text-decoration-color: #008080; font-weight: bold\">0</span>              <span style=\"color: #008080; text-decoration-color: #008080; font-weight: bold\">0</span>              <span style=\"color: #008080; text-decoration-color: #008080; font-weight: bold\">0</span><span style=\"font-weight: bold\">]</span>\n",
       " <span style=\"font-weight: bold\">[</span>           <span style=\"color: #008080; text-decoration-color: #008080; font-weight: bold\">145</span>      <span style=\"color: #008080; text-decoration-color: #008080; font-weight: bold\">228631568</span> <span style=\"color: #008080; text-decoration-color: #008080; font-weight: bold\">47001428110336</span>             <span style=\"color: #008080; text-decoration-color: #008080; font-weight: bold\">16</span>\n",
       "               <span style=\"color: #008080; text-decoration-color: #008080; font-weight: bold\">8</span>            <span style=\"color: #008080; text-decoration-color: #008080; font-weight: bold\">144</span>             <span style=\"color: #008080; text-decoration-color: #008080; font-weight: bold\">49</span><span style=\"font-weight: bold\">]</span>\n",
       " <span style=\"font-weight: bold\">[</span>     <span style=\"color: #008080; text-decoration-color: #008080; font-weight: bold\">234414112</span>      <span style=\"color: #008080; text-decoration-color: #008080; font-weight: bold\">228631616</span>             <span style=\"color: #008080; text-decoration-color: #008080; font-weight: bold\">16</span>              <span style=\"color: #008080; text-decoration-color: #008080; font-weight: bold\">8</span>\n",
       "              <span style=\"color: #008080; text-decoration-color: #008080; font-weight: bold\">96</span>             <span style=\"color: #008080; text-decoration-color: #008080; font-weight: bold\">48</span>      <span style=\"color: #008080; text-decoration-color: #008080; font-weight: bold\">234489552</span><span style=\"font-weight: bold\">]</span>\n",
       " <span style=\"font-weight: bold\">[</span>             <span style=\"color: #008080; text-decoration-color: #008080; font-weight: bold\">3</span>             <span style=\"color: #008080; text-decoration-color: #008080; font-weight: bold\">24</span>              <span style=\"color: #008080; text-decoration-color: #008080; font-weight: bold\">8</span>            <span style=\"color: #008080; text-decoration-color: #008080; font-weight: bold\">240</span>\n",
       "              <span style=\"color: #008080; text-decoration-color: #008080; font-weight: bold\">80</span>              <span style=\"color: #008080; text-decoration-color: #008080; font-weight: bold\">0</span>              <span style=\"color: #008080; text-decoration-color: #008080; font-weight: bold\">0</span><span style=\"font-weight: bold\">]]</span>\n",
       "</pre>\n"
      ],
      "text/plain": [
       "\u001b[1m[\u001b[0m\u001b[1m[\u001b[0m             \u001b[1;36m0\u001b[0m              \u001b[1;36m1\u001b[0m              \u001b[1;36m1\u001b[0m              \u001b[1;36m3\u001b[0m\n",
       "               \u001b[1;36m0\u001b[0m              \u001b[1;36m0\u001b[0m              \u001b[1;36m0\u001b[0m\u001b[1m]\u001b[0m\n",
       " \u001b[1m[\u001b[0m           \u001b[1;36m145\u001b[0m      \u001b[1;36m228631568\u001b[0m \u001b[1;36m47001428110336\u001b[0m             \u001b[1;36m16\u001b[0m\n",
       "               \u001b[1;36m8\u001b[0m            \u001b[1;36m144\u001b[0m             \u001b[1;36m49\u001b[0m\u001b[1m]\u001b[0m\n",
       " \u001b[1m[\u001b[0m     \u001b[1;36m234414112\u001b[0m      \u001b[1;36m228631616\u001b[0m             \u001b[1;36m16\u001b[0m              \u001b[1;36m8\u001b[0m\n",
       "              \u001b[1;36m96\u001b[0m             \u001b[1;36m48\u001b[0m      \u001b[1;36m234489552\u001b[0m\u001b[1m]\u001b[0m\n",
       " \u001b[1m[\u001b[0m             \u001b[1;36m3\u001b[0m             \u001b[1;36m24\u001b[0m              \u001b[1;36m8\u001b[0m            \u001b[1;36m240\u001b[0m\n",
       "              \u001b[1;36m80\u001b[0m              \u001b[1;36m0\u001b[0m              \u001b[1;36m0\u001b[0m\u001b[1m]\u001b[0m\u001b[1m]\u001b[0m\n"
      ]
     },
     "metadata": {},
     "output_type": "display_data"
    },
    {
     "data": {
      "text/plain": [
       "(tensor([[             0,              1,              1,              3,\n",
       "                       0,              0,              0],\n",
       "         [           145,      228631568, 47001428110336,             16,\n",
       "                       8,            144,             49],\n",
       "         [     234414112,      228631616,             16,              8,\n",
       "                      96,             48,      234489552],\n",
       "         [             3,             24,              8,            240,\n",
       "                      80,              0,              0]]),\n",
       " tensor([1, 1, 0, 1, 1, 0, 1]))"
      ]
     },
     "execution_count": 266,
     "metadata": {},
     "output_type": "execute_result"
    }
   ],
   "source": [
    "g2 = dgl.heterograph({\n",
    "    ('user', 'follow', 'user'): ([0, 1, 1, 2, 3], [1, 2, 3, 0, 0]),\n",
    "    ('user', 'view', 'item'): ([0, 0, 1, 2, 3, 3], [0, 1, 1, 2, 2, 1]),\n",
    "    ('item', 'viewed-by', 'user'): ([0, 1, 1, 2, 2, 1], [0, 0, 1, 2, 3, 3])}, device=torch.device('cpu'))\n",
    "# g2.pin_memory_()\n",
    "display(g2)\n",
    "random_walk(g2, [0, 1, 2, 0], metapath=['follow', 'view', 'viewed-by'] * 2)\n",
    "\n",
    "# dgl.sampling.random_walk(g2, [0, 1, 2, 0], metapath=['follow', 'view', 'viewed-by'] * 2, restart_prob=torch.FloatTensor([0, 0.5, 0, 0, 0.5, 0]))\n",
    "\n"
   ]
  },
  {
   "cell_type": "code",
   "execution_count": null,
   "metadata": {},
   "outputs": [],
   "source": []
  }
 ],
 "metadata": {
  "kernelspec": {
   "display_name": "Kedro (modspy_data)",
   "language": "python",
   "name": "kedro_modspy_data"
  },
  "language_info": {
   "codemirror_mode": {
    "name": "ipython",
    "version": 3
   },
   "file_extension": ".py",
   "mimetype": "text/x-python",
   "name": "python",
   "nbconvert_exporter": "python",
   "pygments_lexer": "ipython3",
   "version": "3.8.10"
  }
 },
 "nbformat": 4,
 "nbformat_minor": 2
}
