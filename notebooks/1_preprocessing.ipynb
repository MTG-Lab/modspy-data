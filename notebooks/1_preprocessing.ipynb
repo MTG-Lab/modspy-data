{
 "cells": [
  {
   "cell_type": "markdown",
   "id": "02ea79fe",
   "metadata": {},
   "source": [
    "# 🧹 Purpose of the Script\n",
    "\n",
    "The purpose of this script is to clean and consolidate the dataset. The goal is to have a single dataframe (persist) that has all the scores.\n",
    "\n",
    "📚 Datasets Used\n",
    "\n",
    "We use the following datasets:\n",
    "\n",
    "1. **MTG zyg-1 strain**: This dataset has a confirmed suppressor for each CVL. This is collected from Dr. Maja Tarailo-Graovac's lab's high-throughput zyg-1 suppressor identification project using C. elegans as a model organism.\n",
    "2. **Jolanda van Leeuwen's data**: This dataset was curated from published literatures. It has almost 500 unique suppressors but does not have any non-modifier (suppressor).\n",
    "3. **OLIDA dataset**: This dataset was collected from their website. The plan is to use their data as negative samples.\n",
    "\n",
    "🛠️ Preprocessing Steps\n",
    "\n",
    "The preprocessing steps include:\n",
    "\n",
    "- 🧼 Cleaning each dataset\n",
    "- ➕ Adding new columns\n",
    "- 🔄 Consolidating all datasets into one dataframe\n",
    "- 💾 Saving the dataframe\n",
    "\n",
    "<small>The git trace of this file can be found in `notebooks/1_add_go_similarity_score.ipynb` file. This file was created on 8 Dec 2023</small>"
   ]
  },
  {
   "cell_type": "code",
   "execution_count": 1,
   "id": "359404fa",
   "metadata": {
    "tags": []
   },
   "outputs": [
    {
     "data": {
      "text/html": [
       "<pre style=\"white-space:pre;overflow-x:auto;line-height:normal;font-family:Menlo,'DejaVu Sans Mono',consolas,'Courier New',monospace\"><span style=\"color: #7fbfbf; text-decoration-color: #7fbfbf\">[12/10/23 01:44:05] </span><span style=\"color: #000080; text-decoration-color: #000080\">INFO    </span> Resolved project path as: <span style=\"color: #800080; text-decoration-color: #800080\">/project/6013424/rahit/</span><span style=\"color: #ff00ff; text-decoration-color: #ff00ff\">modspy-data.</span>          <a href=\"file:///home/rahit/jupyter_py3/lib/python3.8/site-packages/kedro/ipython/__init__.py\" target=\"_blank\"><span style=\"color: #7f7f7f; text-decoration-color: #7f7f7f\">__init__.py</span></a><span style=\"color: #7f7f7f; text-decoration-color: #7f7f7f\">:</span><a href=\"file:///home/rahit/jupyter_py3/lib/python3.8/site-packages/kedro/ipython/__init__.py#139\" target=\"_blank\"><span style=\"color: #7f7f7f; text-decoration-color: #7f7f7f\">139</span></a>\n",
       "<span style=\"color: #7fbfbf; text-decoration-color: #7fbfbf\">                    </span>         To set a different path, run <span style=\"color: #008000; text-decoration-color: #008000\">'%reload_kedro &lt;project_root&gt;'</span>            <span style=\"color: #7f7f7f; text-decoration-color: #7f7f7f\">               </span>\n",
       "</pre>\n"
      ],
      "text/plain": [
       "\u001b[2;36m[12/10/23 01:44:05]\u001b[0m\u001b[2;36m \u001b[0m\u001b[34mINFO    \u001b[0m Resolved project path as: \u001b[35m/project/6013424/rahit/\u001b[0m\u001b[95mmodspy-data.\u001b[0m          \u001b]8;id=839580;file:///home/rahit/jupyter_py3/lib/python3.8/site-packages/kedro/ipython/__init__.py\u001b\\\u001b[2m__init__.py\u001b[0m\u001b]8;;\u001b\\\u001b[2m:\u001b[0m\u001b]8;id=386519;file:///home/rahit/jupyter_py3/lib/python3.8/site-packages/kedro/ipython/__init__.py#139\u001b\\\u001b[2m139\u001b[0m\u001b]8;;\u001b\\\n",
       "\u001b[2;36m                    \u001b[0m         To set a different path, run \u001b[32m'%reload_kedro \u001b[0m\u001b[32m<\u001b[0m\u001b[32mproject_root\u001b[0m\u001b[32m>\u001b[0m\u001b[32m'\u001b[0m            \u001b[2m               \u001b[0m\n"
      ]
     },
     "metadata": {},
     "output_type": "display_data"
    },
    {
     "data": {
      "text/html": [
       "<pre style=\"white-space:pre;overflow-x:auto;line-height:normal;font-family:Menlo,'DejaVu Sans Mono',consolas,'Courier New',monospace\"><span style=\"color: #7fbfbf; text-decoration-color: #7fbfbf\">                    </span><span style=\"color: #000080; text-decoration-color: #000080\">INFO    </span> Resolved project path as: <span style=\"color: #800080; text-decoration-color: #800080\">/project/6013424/rahit/</span><span style=\"color: #ff00ff; text-decoration-color: #ff00ff\">modspy-data.</span>          <a href=\"file:///home/rahit/jupyter_py3/lib/python3.8/site-packages/kedro/ipython/__init__.py\" target=\"_blank\"><span style=\"color: #7f7f7f; text-decoration-color: #7f7f7f\">__init__.py</span></a><span style=\"color: #7f7f7f; text-decoration-color: #7f7f7f\">:</span><a href=\"file:///home/rahit/jupyter_py3/lib/python3.8/site-packages/kedro/ipython/__init__.py#139\" target=\"_blank\"><span style=\"color: #7f7f7f; text-decoration-color: #7f7f7f\">139</span></a>\n",
       "<span style=\"color: #7fbfbf; text-decoration-color: #7fbfbf\">                    </span>         To set a different path, run <span style=\"color: #008000; text-decoration-color: #008000\">'%reload_kedro &lt;project_root&gt;'</span>            <span style=\"color: #7f7f7f; text-decoration-color: #7f7f7f\">               </span>\n",
       "</pre>\n"
      ],
      "text/plain": [
       "\u001b[2;36m                   \u001b[0m\u001b[2;36m \u001b[0m\u001b[34mINFO    \u001b[0m Resolved project path as: \u001b[35m/project/6013424/rahit/\u001b[0m\u001b[95mmodspy-data.\u001b[0m          \u001b]8;id=596161;file:///home/rahit/jupyter_py3/lib/python3.8/site-packages/kedro/ipython/__init__.py\u001b\\\u001b[2m__init__.py\u001b[0m\u001b]8;;\u001b\\\u001b[2m:\u001b[0m\u001b]8;id=72120;file:///home/rahit/jupyter_py3/lib/python3.8/site-packages/kedro/ipython/__init__.py#139\u001b\\\u001b[2m139\u001b[0m\u001b]8;;\u001b\\\n",
       "\u001b[2;36m                    \u001b[0m         To set a different path, run \u001b[32m'%reload_kedro \u001b[0m\u001b[32m<\u001b[0m\u001b[32mproject_root\u001b[0m\u001b[32m>\u001b[0m\u001b[32m'\u001b[0m            \u001b[2m               \u001b[0m\n"
      ]
     },
     "metadata": {},
     "output_type": "display_data"
    },
    {
     "data": {
      "text/html": [
       "<pre style=\"white-space:pre;overflow-x:auto;line-height:normal;font-family:Menlo,'DejaVu Sans Mono',consolas,'Courier New',monospace\"><span style=\"color: #7fbfbf; text-decoration-color: #7fbfbf\">[12/10/23 01:44:08] </span><span style=\"color: #000080; text-decoration-color: #000080\">INFO    </span> Kedro project ModSpy-Data                                              <a href=\"file:///home/rahit/jupyter_py3/lib/python3.8/site-packages/kedro/ipython/__init__.py\" target=\"_blank\"><span style=\"color: #7f7f7f; text-decoration-color: #7f7f7f\">__init__.py</span></a><span style=\"color: #7f7f7f; text-decoration-color: #7f7f7f\">:</span><a href=\"file:///home/rahit/jupyter_py3/lib/python3.8/site-packages/kedro/ipython/__init__.py#108\" target=\"_blank\"><span style=\"color: #7f7f7f; text-decoration-color: #7f7f7f\">108</span></a>\n",
       "</pre>\n"
      ],
      "text/plain": [
       "\u001b[2;36m[12/10/23 01:44:08]\u001b[0m\u001b[2;36m \u001b[0m\u001b[34mINFO    \u001b[0m Kedro project ModSpy-Data                                              \u001b]8;id=25059;file:///home/rahit/jupyter_py3/lib/python3.8/site-packages/kedro/ipython/__init__.py\u001b\\\u001b[2m__init__.py\u001b[0m\u001b]8;;\u001b\\\u001b[2m:\u001b[0m\u001b]8;id=449510;file:///home/rahit/jupyter_py3/lib/python3.8/site-packages/kedro/ipython/__init__.py#108\u001b\\\u001b[2m108\u001b[0m\u001b]8;;\u001b\\\n"
      ]
     },
     "metadata": {},
     "output_type": "display_data"
    },
    {
     "data": {
      "text/html": [
       "<pre style=\"white-space:pre;overflow-x:auto;line-height:normal;font-family:Menlo,'DejaVu Sans Mono',consolas,'Courier New',monospace\"><span style=\"color: #7fbfbf; text-decoration-color: #7fbfbf\">                    </span><span style=\"color: #000080; text-decoration-color: #000080\">INFO    </span> Kedro project ModSpy-Data                                              <a href=\"file:///home/rahit/jupyter_py3/lib/python3.8/site-packages/kedro/ipython/__init__.py\" target=\"_blank\"><span style=\"color: #7f7f7f; text-decoration-color: #7f7f7f\">__init__.py</span></a><span style=\"color: #7f7f7f; text-decoration-color: #7f7f7f\">:</span><a href=\"file:///home/rahit/jupyter_py3/lib/python3.8/site-packages/kedro/ipython/__init__.py#108\" target=\"_blank\"><span style=\"color: #7f7f7f; text-decoration-color: #7f7f7f\">108</span></a>\n",
       "</pre>\n"
      ],
      "text/plain": [
       "\u001b[2;36m                   \u001b[0m\u001b[2;36m \u001b[0m\u001b[34mINFO    \u001b[0m Kedro project ModSpy-Data                                              \u001b]8;id=435745;file:///home/rahit/jupyter_py3/lib/python3.8/site-packages/kedro/ipython/__init__.py\u001b\\\u001b[2m__init__.py\u001b[0m\u001b]8;;\u001b\\\u001b[2m:\u001b[0m\u001b]8;id=682440;file:///home/rahit/jupyter_py3/lib/python3.8/site-packages/kedro/ipython/__init__.py#108\u001b\\\u001b[2m108\u001b[0m\u001b]8;;\u001b\\\n"
      ]
     },
     "metadata": {},
     "output_type": "display_data"
    },
    {
     "data": {
      "text/html": [
       "<pre style=\"white-space:pre;overflow-x:auto;line-height:normal;font-family:Menlo,'DejaVu Sans Mono',consolas,'Courier New',monospace\"><span style=\"color: #7fbfbf; text-decoration-color: #7fbfbf\">                    </span><span style=\"color: #000080; text-decoration-color: #000080\">INFO    </span> Defined global variable <span style=\"color: #008000; text-decoration-color: #008000\">'context'</span>, <span style=\"color: #008000; text-decoration-color: #008000\">'session'</span>, <span style=\"color: #008000; text-decoration-color: #008000\">'catalog'</span> and            <a href=\"file:///home/rahit/jupyter_py3/lib/python3.8/site-packages/kedro/ipython/__init__.py\" target=\"_blank\"><span style=\"color: #7f7f7f; text-decoration-color: #7f7f7f\">__init__.py</span></a><span style=\"color: #7f7f7f; text-decoration-color: #7f7f7f\">:</span><a href=\"file:///home/rahit/jupyter_py3/lib/python3.8/site-packages/kedro/ipython/__init__.py#109\" target=\"_blank\"><span style=\"color: #7f7f7f; text-decoration-color: #7f7f7f\">109</span></a>\n",
       "<span style=\"color: #7fbfbf; text-decoration-color: #7fbfbf\">                    </span>         <span style=\"color: #008000; text-decoration-color: #008000\">'pipelines'</span>                                                            <span style=\"color: #7f7f7f; text-decoration-color: #7f7f7f\">               </span>\n",
       "</pre>\n"
      ],
      "text/plain": [
       "\u001b[2;36m                   \u001b[0m\u001b[2;36m \u001b[0m\u001b[34mINFO    \u001b[0m Defined global variable \u001b[32m'context'\u001b[0m, \u001b[32m'session'\u001b[0m, \u001b[32m'catalog'\u001b[0m and            \u001b]8;id=324417;file:///home/rahit/jupyter_py3/lib/python3.8/site-packages/kedro/ipython/__init__.py\u001b\\\u001b[2m__init__.py\u001b[0m\u001b]8;;\u001b\\\u001b[2m:\u001b[0m\u001b]8;id=834621;file:///home/rahit/jupyter_py3/lib/python3.8/site-packages/kedro/ipython/__init__.py#109\u001b\\\u001b[2m109\u001b[0m\u001b]8;;\u001b\\\n",
       "\u001b[2;36m                    \u001b[0m         \u001b[32m'pipelines'\u001b[0m                                                            \u001b[2m               \u001b[0m\n"
      ]
     },
     "metadata": {},
     "output_type": "display_data"
    },
    {
     "data": {
      "text/html": [
       "<pre style=\"white-space:pre;overflow-x:auto;line-height:normal;font-family:Menlo,'DejaVu Sans Mono',consolas,'Courier New',monospace\"><span style=\"color: #7fbfbf; text-decoration-color: #7fbfbf\">                    </span><span style=\"color: #000080; text-decoration-color: #000080\">INFO    </span> Defined global variable <span style=\"color: #008000; text-decoration-color: #008000\">'context'</span>, <span style=\"color: #008000; text-decoration-color: #008000\">'session'</span>, <span style=\"color: #008000; text-decoration-color: #008000\">'catalog'</span> and            <a href=\"file:///home/rahit/jupyter_py3/lib/python3.8/site-packages/kedro/ipython/__init__.py\" target=\"_blank\"><span style=\"color: #7f7f7f; text-decoration-color: #7f7f7f\">__init__.py</span></a><span style=\"color: #7f7f7f; text-decoration-color: #7f7f7f\">:</span><a href=\"file:///home/rahit/jupyter_py3/lib/python3.8/site-packages/kedro/ipython/__init__.py#109\" target=\"_blank\"><span style=\"color: #7f7f7f; text-decoration-color: #7f7f7f\">109</span></a>\n",
       "<span style=\"color: #7fbfbf; text-decoration-color: #7fbfbf\">                    </span>         <span style=\"color: #008000; text-decoration-color: #008000\">'pipelines'</span>                                                            <span style=\"color: #7f7f7f; text-decoration-color: #7f7f7f\">               </span>\n",
       "</pre>\n"
      ],
      "text/plain": [
       "\u001b[2;36m                   \u001b[0m\u001b[2;36m \u001b[0m\u001b[34mINFO    \u001b[0m Defined global variable \u001b[32m'context'\u001b[0m, \u001b[32m'session'\u001b[0m, \u001b[32m'catalog'\u001b[0m and            \u001b]8;id=67266;file:///home/rahit/jupyter_py3/lib/python3.8/site-packages/kedro/ipython/__init__.py\u001b\\\u001b[2m__init__.py\u001b[0m\u001b]8;;\u001b\\\u001b[2m:\u001b[0m\u001b]8;id=727845;file:///home/rahit/jupyter_py3/lib/python3.8/site-packages/kedro/ipython/__init__.py#109\u001b\\\u001b[2m109\u001b[0m\u001b]8;;\u001b\\\n",
       "\u001b[2;36m                    \u001b[0m         \u001b[32m'pipelines'\u001b[0m                                                            \u001b[2m               \u001b[0m\n"
      ]
     },
     "metadata": {},
     "output_type": "display_data"
    }
   ],
   "source": [
    "%reload_kedro"
   ]
  },
  {
   "cell_type": "markdown",
   "id": "5c4969ee-00f7-4125-bd01-8127601a4532",
   "metadata": {},
   "source": [
    "### Import libraries"
   ]
  },
  {
   "cell_type": "code",
   "execution_count": 4,
   "id": "e53e9338",
   "metadata": {
    "tags": []
   },
   "outputs": [],
   "source": [
    "# -*- coding: utf-8 -*-\n",
    "# from __future__ import absolute_import, division, print_function, unicode_literals\n",
    "import random\n",
    "import logging\n",
    "import itertools\n",
    "from rich import print\n",
    "\n",
    "import pandas as pd\n",
    "import numpy as np\n",
    "from modspy_data.helpers import KnowledgeGraphScores\n",
    "\n",
    "import matplotlib.pyplot as plt\n",
    "import seaborn as sns\n",
    "\n",
    "import dask\n",
    "import dask.dataframe as dd\n",
    "import dask.array as da\n",
    "from dask.distributed import Client, progress, performance_report\n",
    "from dask_jobqueue import SLURMCluster\n",
    "\n",
    "\n",
    "import torch\n",
    "import pronto\n",
    "import networkx as nx\n",
    "# from utils import visualize\n",
    "from nxontology import NXOntology\n",
    "from nxontology.imports import (from_file, multidigraph_to_digraph,\n",
    "                                pronto_to_multidigraph)\n",
    "from networkx.drawing.nx_agraph import graphviz_layout\n",
    "from nxontology.viz import create_similarity_graphviz\n",
    "from torch_geometric.data import Data, InMemoryDataset, download_url\n",
    "import torch_geometric.transforms as T\n",
    "from torch_geometric.utils.convert import from_networkx"
   ]
  },
  {
   "cell_type": "markdown",
   "id": "83852e3b",
   "metadata": {},
   "source": [
    "### Helper Functions"
   ]
  },
  {
   "cell_type": "code",
   "execution_count": 5,
   "id": "f7cb1fcb",
   "metadata": {},
   "outputs": [],
   "source": [
    "logging.getLogger().setLevel(logging.WARNING)"
   ]
  },
  {
   "cell_type": "code",
   "execution_count": 6,
   "id": "b01154ae",
   "metadata": {
    "tags": []
   },
   "outputs": [],
   "source": [
    "# Remove wraping quotation sign (\"\") from dataframe\n",
    "def remove_quotes(df):\n",
    "    df = df.applymap(lambda x: x.strip('\"') if isinstance(x, str) else x)\n",
    "    cols = [c.strip('\"') for c in df.columns]\n",
    "    df.rename(columns=dict(zip(df.columns, cols)), inplace=True)\n",
    "    return df"
   ]
  },
  {
   "cell_type": "code",
   "execution_count": 7,
   "id": "045d5f66",
   "metadata": {
    "tags": []
   },
   "outputs": [],
   "source": [
    "# Add info from GO annotations to the JVL data\n",
    "def match_on_annotation(row, goa, col_name='QueryGene'):\n",
    "    __goa_filt = goa[goa['DB_Object_Synonym'].str.contains(row[col_name])]\n",
    "    __annos = __goa_filt['GO_ID'].unique()\n",
    "    row[f\"{col_name}_GO\"] = __annos\n",
    "    return row"
   ]
  },
  {
   "cell_type": "code",
   "execution_count": 8,
   "id": "d9372d36",
   "metadata": {},
   "outputs": [
    {
     "data": {
      "text/html": [
       "<pre style=\"white-space:pre;overflow-x:auto;line-height:normal;font-family:Menlo,'DejaVu Sans Mono',consolas,'Courier New',monospace\"><span style=\"color: #7fbfbf; text-decoration-color: #7fbfbf\">[12/10/23 01:46:21] </span><span style=\"color: #000080; text-decoration-color: #000080\">INFO    </span> State start                                                          <a href=\"file:///home/rahit/jupyter_py3/lib/python3.8/site-packages/distributed/scheduler.py\" target=\"_blank\"><span style=\"color: #7f7f7f; text-decoration-color: #7f7f7f\">scheduler.py</span></a><span style=\"color: #7f7f7f; text-decoration-color: #7f7f7f\">:</span><a href=\"file:///home/rahit/jupyter_py3/lib/python3.8/site-packages/distributed/scheduler.py#1615\" target=\"_blank\"><span style=\"color: #7f7f7f; text-decoration-color: #7f7f7f\">1615</span></a>\n",
       "</pre>\n"
      ],
      "text/plain": [
       "\u001b[2;36m[12/10/23 01:46:21]\u001b[0m\u001b[2;36m \u001b[0m\u001b[34mINFO    \u001b[0m State start                                                          \u001b]8;id=680693;file:///home/rahit/jupyter_py3/lib/python3.8/site-packages/distributed/scheduler.py\u001b\\\u001b[2mscheduler.py\u001b[0m\u001b]8;;\u001b\\\u001b[2m:\u001b[0m\u001b]8;id=416509;file:///home/rahit/jupyter_py3/lib/python3.8/site-packages/distributed/scheduler.py#1615\u001b\\\u001b[2m1615\u001b[0m\u001b]8;;\u001b\\\n"
      ]
     },
     "metadata": {},
     "output_type": "display_data"
    },
    {
     "data": {
      "text/html": [
       "<pre style=\"white-space:pre;overflow-x:auto;line-height:normal;font-family:Menlo,'DejaVu Sans Mono',consolas,'Courier New',monospace\"><span style=\"color: #7fbfbf; text-decoration-color: #7fbfbf\">                    </span><span style=\"color: #000080; text-decoration-color: #000080\">INFO    </span>   Scheduler at:  tcp:<span style=\"color: #800080; text-decoration-color: #800080\">//</span><span style=\"color: #ff00ff; text-decoration-color: #ff00ff\">10.29.84.177</span>:<span style=\"color: #008080; text-decoration-color: #008080; font-weight: bold\">37730</span>                            <a href=\"file:///home/rahit/jupyter_py3/lib/python3.8/site-packages/distributed/scheduler.py\" target=\"_blank\"><span style=\"color: #7f7f7f; text-decoration-color: #7f7f7f\">scheduler.py</span></a><span style=\"color: #7f7f7f; text-decoration-color: #7f7f7f\">:</span><a href=\"file:///home/rahit/jupyter_py3/lib/python3.8/site-packages/distributed/scheduler.py#3860\" target=\"_blank\"><span style=\"color: #7f7f7f; text-decoration-color: #7f7f7f\">3860</span></a>\n",
       "</pre>\n"
      ],
      "text/plain": [
       "\u001b[2;36m                   \u001b[0m\u001b[2;36m \u001b[0m\u001b[34mINFO    \u001b[0m   Scheduler at:  tcp:\u001b[35m/\u001b[0m\u001b[35m/\u001b[0m\u001b[95m10.29.84.177\u001b[0m:\u001b[1;36m37730\u001b[0m                            \u001b]8;id=478099;file:///home/rahit/jupyter_py3/lib/python3.8/site-packages/distributed/scheduler.py\u001b\\\u001b[2mscheduler.py\u001b[0m\u001b]8;;\u001b\\\u001b[2m:\u001b[0m\u001b]8;id=960017;file:///home/rahit/jupyter_py3/lib/python3.8/site-packages/distributed/scheduler.py#3860\u001b\\\u001b[2m3860\u001b[0m\u001b]8;;\u001b\\\n"
      ]
     },
     "metadata": {},
     "output_type": "display_data"
    },
    {
     "data": {
      "text/html": [
       "<pre style=\"white-space:pre;overflow-x:auto;line-height:normal;font-family:Menlo,'DejaVu Sans Mono',consolas,'Courier New',monospace\"><span style=\"color: #7fbfbf; text-decoration-color: #7fbfbf\">                    </span><span style=\"color: #000080; text-decoration-color: #000080\">INFO    </span>   dashboard at:                     :<span style=\"color: #008080; text-decoration-color: #008080; font-weight: bold\">8787</span>                            <a href=\"file:///home/rahit/jupyter_py3/lib/python3.8/site-packages/distributed/scheduler.py\" target=\"_blank\"><span style=\"color: #7f7f7f; text-decoration-color: #7f7f7f\">scheduler.py</span></a><span style=\"color: #7f7f7f; text-decoration-color: #7f7f7f\">:</span><a href=\"file:///home/rahit/jupyter_py3/lib/python3.8/site-packages/distributed/scheduler.py#3862\" target=\"_blank\"><span style=\"color: #7f7f7f; text-decoration-color: #7f7f7f\">3862</span></a>\n",
       "</pre>\n"
      ],
      "text/plain": [
       "\u001b[2;36m                   \u001b[0m\u001b[2;36m \u001b[0m\u001b[34mINFO    \u001b[0m   dashboard at:                     :\u001b[1;36m8787\u001b[0m                            \u001b]8;id=433791;file:///home/rahit/jupyter_py3/lib/python3.8/site-packages/distributed/scheduler.py\u001b\\\u001b[2mscheduler.py\u001b[0m\u001b]8;;\u001b\\\u001b[2m:\u001b[0m\u001b]8;id=557465;file:///home/rahit/jupyter_py3/lib/python3.8/site-packages/distributed/scheduler.py#3862\u001b\\\u001b[2m3862\u001b[0m\u001b]8;;\u001b\\\n"
      ]
     },
     "metadata": {},
     "output_type": "display_data"
    },
    {
     "data": {
      "text/html": [
       "<pre style=\"white-space:pre;overflow-x:auto;line-height:normal;font-family:Menlo,'DejaVu Sans Mono',consolas,'Courier New',monospace\"><span style=\"color: #7fbfbf; text-decoration-color: #7fbfbf\">                    </span><span style=\"color: #000080; text-decoration-color: #000080\">INFO    </span> Receive client connection:                                           <a href=\"file:///home/rahit/jupyter_py3/lib/python3.8/site-packages/distributed/scheduler.py\" target=\"_blank\"><span style=\"color: #7f7f7f; text-decoration-color: #7f7f7f\">scheduler.py</span></a><span style=\"color: #7f7f7f; text-decoration-color: #7f7f7f\">:</span><a href=\"file:///home/rahit/jupyter_py3/lib/python3.8/site-packages/distributed/scheduler.py#5228\" target=\"_blank\"><span style=\"color: #7f7f7f; text-decoration-color: #7f7f7f\">5228</span></a>\n",
       "<span style=\"color: #7fbfbf; text-decoration-color: #7fbfbf\">                    </span>         Client-<span style=\"color: #ffff00; text-decoration-color: #ffff00\">d45fbf1c-9727-11ee-b921-70799057580a</span>                          <span style=\"color: #7f7f7f; text-decoration-color: #7f7f7f\">                 </span>\n",
       "</pre>\n"
      ],
      "text/plain": [
       "\u001b[2;36m                   \u001b[0m\u001b[2;36m \u001b[0m\u001b[34mINFO    \u001b[0m Receive client connection:                                           \u001b]8;id=326434;file:///home/rahit/jupyter_py3/lib/python3.8/site-packages/distributed/scheduler.py\u001b\\\u001b[2mscheduler.py\u001b[0m\u001b]8;;\u001b\\\u001b[2m:\u001b[0m\u001b]8;id=152468;file:///home/rahit/jupyter_py3/lib/python3.8/site-packages/distributed/scheduler.py#5228\u001b\\\u001b[2m5228\u001b[0m\u001b]8;;\u001b\\\n",
       "\u001b[2;36m                    \u001b[0m         Client-\u001b[93md45fbf1c-9727-11ee-b921-70799057580a\u001b[0m                          \u001b[2m                 \u001b[0m\n"
      ]
     },
     "metadata": {},
     "output_type": "display_data"
    },
    {
     "data": {
      "text/html": [
       "<pre style=\"white-space:pre;overflow-x:auto;line-height:normal;font-family:Menlo,'DejaVu Sans Mono',consolas,'Courier New',monospace\"><span style=\"color: #7fbfbf; text-decoration-color: #7fbfbf\">                    </span><span style=\"color: #000080; text-decoration-color: #000080\">INFO    </span> Starting established connection to tcp:<span style=\"color: #800080; text-decoration-color: #800080\">//</span><span style=\"color: #ff00ff; text-decoration-color: #ff00ff\">10.29.84.177</span>:<span style=\"color: #008080; text-decoration-color: #008080; font-weight: bold\">44276</span>                <a href=\"file:///home/rahit/jupyter_py3/lib/python3.8/site-packages/distributed/core.py\" target=\"_blank\"><span style=\"color: #7f7f7f; text-decoration-color: #7f7f7f\">core.py</span></a><span style=\"color: #7f7f7f; text-decoration-color: #7f7f7f\">:</span><a href=\"file:///home/rahit/jupyter_py3/lib/python3.8/site-packages/distributed/core.py#867\" target=\"_blank\"><span style=\"color: #7f7f7f; text-decoration-color: #7f7f7f\">867</span></a>\n",
       "</pre>\n"
      ],
      "text/plain": [
       "\u001b[2;36m                   \u001b[0m\u001b[2;36m \u001b[0m\u001b[34mINFO    \u001b[0m Starting established connection to tcp:\u001b[35m/\u001b[0m\u001b[35m/\u001b[0m\u001b[95m10.29.84.177\u001b[0m:\u001b[1;36m44276\u001b[0m                \u001b]8;id=287139;file:///home/rahit/jupyter_py3/lib/python3.8/site-packages/distributed/core.py\u001b\\\u001b[2mcore.py\u001b[0m\u001b]8;;\u001b\\\u001b[2m:\u001b[0m\u001b]8;id=733207;file:///home/rahit/jupyter_py3/lib/python3.8/site-packages/distributed/core.py#867\u001b\\\u001b[2m867\u001b[0m\u001b]8;;\u001b\\\n"
      ]
     },
     "metadata": {},
     "output_type": "display_data"
    },
    {
     "data": {
      "application/vnd.jupyter.widget-view+json": {
       "model_id": "c23ffecae89f4ff0b85d5475b850d5b1",
       "version_major": 2,
       "version_minor": 0
      },
      "text/plain": [
       "Tab(children=(HTML(value='<div class=\"jp-RenderedHTMLCommon jp-RenderedHTML jp-mod-trusted jp-OutputArea-outpu…"
      ]
     },
     "metadata": {},
     "output_type": "display_data"
    }
   ],
   "source": [
    "cluster = SLURMCluster(cores=1,\n",
    "                       processes=1,\n",
    "                       memory=\"8GB\",\n",
    "                       account=\"def-mtarailo_cpu\",\n",
    "                       walltime=\"00:05:00\")\n",
    "client = Client(cluster)\n",
    "cluster"
   ]
  },
  {
   "cell_type": "markdown",
   "id": "fb9bcd7e",
   "metadata": {},
   "source": [
    "### Loading Dataset"
   ]
  },
  {
   "cell_type": "markdown",
   "metadata": {},
   "source": [
    "##### 📚 Ontologies"
   ]
  },
  {
   "cell_type": "code",
   "execution_count": 9,
   "id": "e39ffa2d-7ae5-48c6-b6fd-eade4c257c17",
   "metadata": {
    "tags": []
   },
   "outputs": [
    {
     "data": {
      "text/html": [
       "<pre style=\"white-space:pre;overflow-x:auto;line-height:normal;font-family:Menlo,'DejaVu Sans Mono',consolas,'Courier New',monospace\"><span style=\"color: #7fbfbf; text-decoration-color: #7fbfbf\">[12/10/23 01:46:25] </span><span style=\"color: #000080; text-decoration-color: #000080\">INFO    </span> Loading data from <span style=\"color: #008000; text-decoration-color: #008000\">'go'</span> <span style=\"font-weight: bold\">(</span>KGDataSet<span style=\"font-weight: bold\">)</span><span style=\"color: #808000; text-decoration-color: #808000\">...</span>                              <a href=\"file:///home/rahit/jupyter_py3/lib/python3.8/site-packages/kedro/io/data_catalog.py\" target=\"_blank\"><span style=\"color: #7f7f7f; text-decoration-color: #7f7f7f\">data_catalog.py</span></a><span style=\"color: #7f7f7f; text-decoration-color: #7f7f7f\">:</span><a href=\"file:///home/rahit/jupyter_py3/lib/python3.8/site-packages/kedro/io/data_catalog.py#492\" target=\"_blank\"><span style=\"color: #7f7f7f; text-decoration-color: #7f7f7f\">492</span></a>\n",
       "</pre>\n"
      ],
      "text/plain": [
       "\u001b[2;36m[12/10/23 01:46:25]\u001b[0m\u001b[2;36m \u001b[0m\u001b[34mINFO    \u001b[0m Loading data from \u001b[32m'go'\u001b[0m \u001b[1m(\u001b[0mKGDataSet\u001b[1m)\u001b[0m\u001b[33m...\u001b[0m                              \u001b]8;id=221716;file:///home/rahit/jupyter_py3/lib/python3.8/site-packages/kedro/io/data_catalog.py\u001b\\\u001b[2mdata_catalog.py\u001b[0m\u001b]8;;\u001b\\\u001b[2m:\u001b[0m\u001b]8;id=992517;file:///home/rahit/jupyter_py3/lib/python3.8/site-packages/kedro/io/data_catalog.py#492\u001b\\\u001b[2m492\u001b[0m\u001b]8;;\u001b\\\n"
      ]
     },
     "metadata": {},
     "output_type": "display_data"
    },
    {
     "data": {
      "text/html": [
       "<pre style=\"white-space:pre;overflow-x:auto;line-height:normal;font-family:Menlo,'DejaVu Sans Mono',consolas,'Courier New',monospace\"><span style=\"color: #7fbfbf; text-decoration-color: #7fbfbf\">                    </span><span style=\"color: #000080; text-decoration-color: #000080\">INFO    </span> Loading data from <span style=\"color: #008000; text-decoration-color: #008000\">'go'</span> <span style=\"font-weight: bold\">(</span>KGDataSet<span style=\"font-weight: bold\">)</span><span style=\"color: #808000; text-decoration-color: #808000\">...</span>                              <a href=\"file:///home/rahit/jupyter_py3/lib/python3.8/site-packages/kedro/io/data_catalog.py\" target=\"_blank\"><span style=\"color: #7f7f7f; text-decoration-color: #7f7f7f\">data_catalog.py</span></a><span style=\"color: #7f7f7f; text-decoration-color: #7f7f7f\">:</span><a href=\"file:///home/rahit/jupyter_py3/lib/python3.8/site-packages/kedro/io/data_catalog.py#492\" target=\"_blank\"><span style=\"color: #7f7f7f; text-decoration-color: #7f7f7f\">492</span></a>\n",
       "</pre>\n"
      ],
      "text/plain": [
       "\u001b[2;36m                   \u001b[0m\u001b[2;36m \u001b[0m\u001b[34mINFO    \u001b[0m Loading data from \u001b[32m'go'\u001b[0m \u001b[1m(\u001b[0mKGDataSet\u001b[1m)\u001b[0m\u001b[33m...\u001b[0m                              \u001b]8;id=998934;file:///home/rahit/jupyter_py3/lib/python3.8/site-packages/kedro/io/data_catalog.py\u001b\\\u001b[2mdata_catalog.py\u001b[0m\u001b]8;;\u001b\\\u001b[2m:\u001b[0m\u001b]8;id=706384;file:///home/rahit/jupyter_py3/lib/python3.8/site-packages/kedro/io/data_catalog.py#492\u001b\\\u001b[2m492\u001b[0m\u001b]8;;\u001b\\\n"
      ]
     },
     "metadata": {},
     "output_type": "display_data"
    },
    {
     "data": {
      "text/html": [
       "<pre style=\"white-space:pre;overflow-x:auto;line-height:normal;font-family:Menlo,'DejaVu Sans Mono',consolas,'Courier New',monospace\"><span style=\"color: #7fbfbf; text-decoration-color: #7fbfbf\">[12/10/23 01:46:40] </span><span style=\"color: #000080; text-decoration-color: #000080\">INFO    </span> Event loop was unresponsive in Scheduler for <span style=\"color: #008080; text-decoration-color: #008080; font-weight: bold\">3.</span>57s.  This is often caused  <a href=\"file:///home/rahit/jupyter_py3/lib/python3.8/site-packages/distributed/core.py\" target=\"_blank\"><span style=\"color: #7f7f7f; text-decoration-color: #7f7f7f\">core.py</span></a><span style=\"color: #7f7f7f; text-decoration-color: #7f7f7f\">:</span><a href=\"file:///home/rahit/jupyter_py3/lib/python3.8/site-packages/distributed/core.py#595\" target=\"_blank\"><span style=\"color: #7f7f7f; text-decoration-color: #7f7f7f\">595</span></a>\n",
       "<span style=\"color: #7fbfbf; text-decoration-color: #7fbfbf\">                    </span>         by long-running GIL-holding functions or moving large chunks of data. This <span style=\"color: #7f7f7f; text-decoration-color: #7f7f7f\">           </span>\n",
       "<span style=\"color: #7fbfbf; text-decoration-color: #7fbfbf\">                    </span>         can cause timeouts and instability.                                        <span style=\"color: #7f7f7f; text-decoration-color: #7f7f7f\">           </span>\n",
       "</pre>\n"
      ],
      "text/plain": [
       "\u001b[2;36m[12/10/23 01:46:40]\u001b[0m\u001b[2;36m \u001b[0m\u001b[34mINFO    \u001b[0m Event loop was unresponsive in Scheduler for \u001b[1;36m3.\u001b[0m57s.  This is often caused  \u001b]8;id=647313;file:///home/rahit/jupyter_py3/lib/python3.8/site-packages/distributed/core.py\u001b\\\u001b[2mcore.py\u001b[0m\u001b]8;;\u001b\\\u001b[2m:\u001b[0m\u001b]8;id=690276;file:///home/rahit/jupyter_py3/lib/python3.8/site-packages/distributed/core.py#595\u001b\\\u001b[2m595\u001b[0m\u001b]8;;\u001b\\\n",
       "\u001b[2;36m                    \u001b[0m         by long-running GIL-holding functions or moving large chunks of data. This \u001b[2m           \u001b[0m\n",
       "\u001b[2;36m                    \u001b[0m         can cause timeouts and instability.                                        \u001b[2m           \u001b[0m\n"
      ]
     },
     "metadata": {},
     "output_type": "display_data"
    },
    {
     "data": {
      "text/html": [
       "<pre style=\"white-space:pre;overflow-x:auto;line-height:normal;font-family:Menlo,'DejaVu Sans Mono',consolas,'Courier New',monospace\"><span style=\"color: #7fbfbf; text-decoration-color: #7fbfbf\">[12/10/23 01:46:55] </span><span style=\"color: #000080; text-decoration-color: #000080\">INFO    </span> full garbage collection released <span style=\"color: #008080; text-decoration-color: #008080; font-weight: bold\">45.70</span> MiB from <span style=\"color: #008080; text-decoration-color: #008080; font-weight: bold\">62418</span> reference      <a href=\"file:///home/rahit/jupyter_py3/lib/python3.8/site-packages/distributed/utils_perf.py\" target=\"_blank\"><span style=\"color: #7f7f7f; text-decoration-color: #7f7f7f\">utils_perf.py</span></a><span style=\"color: #7f7f7f; text-decoration-color: #7f7f7f\">:</span><a href=\"file:///home/rahit/jupyter_py3/lib/python3.8/site-packages/distributed/utils_perf.py#198\" target=\"_blank\"><span style=\"color: #7f7f7f; text-decoration-color: #7f7f7f\">198</span></a>\n",
       "<span style=\"color: #7fbfbf; text-decoration-color: #7fbfbf\">                    </span>         cycles <span style=\"font-weight: bold\">(</span>threshold: <span style=\"color: #008080; text-decoration-color: #008080; font-weight: bold\">9.54</span> MiB<span style=\"font-weight: bold\">)</span>                                         <span style=\"color: #7f7f7f; text-decoration-color: #7f7f7f\">                 </span>\n",
       "</pre>\n"
      ],
      "text/plain": [
       "\u001b[2;36m[12/10/23 01:46:55]\u001b[0m\u001b[2;36m \u001b[0m\u001b[34mINFO    \u001b[0m full garbage collection released \u001b[1;36m45.70\u001b[0m MiB from \u001b[1;36m62418\u001b[0m reference      \u001b]8;id=13353;file:///home/rahit/jupyter_py3/lib/python3.8/site-packages/distributed/utils_perf.py\u001b\\\u001b[2mutils_perf.py\u001b[0m\u001b]8;;\u001b\\\u001b[2m:\u001b[0m\u001b]8;id=646409;file:///home/rahit/jupyter_py3/lib/python3.8/site-packages/distributed/utils_perf.py#198\u001b\\\u001b[2m198\u001b[0m\u001b]8;;\u001b\\\n",
       "\u001b[2;36m                    \u001b[0m         cycles \u001b[1m(\u001b[0mthreshold: \u001b[1;36m9.54\u001b[0m MiB\u001b[1m)\u001b[0m                                         \u001b[2m                 \u001b[0m\n"
      ]
     },
     "metadata": {},
     "output_type": "display_data"
    },
    {
     "data": {
      "text/html": [
       "<pre style=\"white-space:pre;overflow-x:auto;line-height:normal;font-family:Menlo,'DejaVu Sans Mono',consolas,'Courier New',monospace\"><span style=\"color: #7fbfbf; text-decoration-color: #7fbfbf\">[12/10/23 01:46:56] </span><span style=\"color: #000080; text-decoration-color: #000080\">INFO    </span> Loading data from <span style=\"color: #008000; text-decoration-color: #008000\">'goa'</span> <span style=\"font-weight: bold\">(</span>GAFDataFile<span style=\"font-weight: bold\">)</span><span style=\"color: #808000; text-decoration-color: #808000\">...</span>                           <a href=\"file:///home/rahit/jupyter_py3/lib/python3.8/site-packages/kedro/io/data_catalog.py\" target=\"_blank\"><span style=\"color: #7f7f7f; text-decoration-color: #7f7f7f\">data_catalog.py</span></a><span style=\"color: #7f7f7f; text-decoration-color: #7f7f7f\">:</span><a href=\"file:///home/rahit/jupyter_py3/lib/python3.8/site-packages/kedro/io/data_catalog.py#492\" target=\"_blank\"><span style=\"color: #7f7f7f; text-decoration-color: #7f7f7f\">492</span></a>\n",
       "</pre>\n"
      ],
      "text/plain": [
       "\u001b[2;36m[12/10/23 01:46:56]\u001b[0m\u001b[2;36m \u001b[0m\u001b[34mINFO    \u001b[0m Loading data from \u001b[32m'goa'\u001b[0m \u001b[1m(\u001b[0mGAFDataFile\u001b[1m)\u001b[0m\u001b[33m...\u001b[0m                           \u001b]8;id=686854;file:///home/rahit/jupyter_py3/lib/python3.8/site-packages/kedro/io/data_catalog.py\u001b\\\u001b[2mdata_catalog.py\u001b[0m\u001b]8;;\u001b\\\u001b[2m:\u001b[0m\u001b]8;id=783444;file:///home/rahit/jupyter_py3/lib/python3.8/site-packages/kedro/io/data_catalog.py#492\u001b\\\u001b[2m492\u001b[0m\u001b]8;;\u001b\\\n"
      ]
     },
     "metadata": {},
     "output_type": "display_data"
    },
    {
     "data": {
      "text/html": [
       "<pre style=\"white-space:pre;overflow-x:auto;line-height:normal;font-family:Menlo,'DejaVu Sans Mono',consolas,'Courier New',monospace\"><span style=\"color: #7fbfbf; text-decoration-color: #7fbfbf\">                    </span><span style=\"color: #000080; text-decoration-color: #000080\">INFO    </span> Loading data from <span style=\"color: #008000; text-decoration-color: #008000\">'goa'</span> <span style=\"font-weight: bold\">(</span>GAFDataFile<span style=\"font-weight: bold\">)</span><span style=\"color: #808000; text-decoration-color: #808000\">...</span>                           <a href=\"file:///home/rahit/jupyter_py3/lib/python3.8/site-packages/kedro/io/data_catalog.py\" target=\"_blank\"><span style=\"color: #7f7f7f; text-decoration-color: #7f7f7f\">data_catalog.py</span></a><span style=\"color: #7f7f7f; text-decoration-color: #7f7f7f\">:</span><a href=\"file:///home/rahit/jupyter_py3/lib/python3.8/site-packages/kedro/io/data_catalog.py#492\" target=\"_blank\"><span style=\"color: #7f7f7f; text-decoration-color: #7f7f7f\">492</span></a>\n",
       "</pre>\n"
      ],
      "text/plain": [
       "\u001b[2;36m                   \u001b[0m\u001b[2;36m \u001b[0m\u001b[34mINFO    \u001b[0m Loading data from \u001b[32m'goa'\u001b[0m \u001b[1m(\u001b[0mGAFDataFile\u001b[1m)\u001b[0m\u001b[33m...\u001b[0m                           \u001b]8;id=173570;file:///home/rahit/jupyter_py3/lib/python3.8/site-packages/kedro/io/data_catalog.py\u001b\\\u001b[2mdata_catalog.py\u001b[0m\u001b]8;;\u001b\\\u001b[2m:\u001b[0m\u001b]8;id=779084;file:///home/rahit/jupyter_py3/lib/python3.8/site-packages/kedro/io/data_catalog.py#492\u001b\\\u001b[2m492\u001b[0m\u001b]8;;\u001b\\\n"
      ]
     },
     "metadata": {},
     "output_type": "display_data"
    },
    {
     "data": {
      "text/html": [
       "<pre style=\"white-space:pre;overflow-x:auto;line-height:normal;font-family:Menlo,'DejaVu Sans Mono',consolas,'Courier New',monospace\"><span style=\"color: #7fbfbf; text-decoration-color: #7fbfbf\">[12/10/23 01:46:58] </span><span style=\"color: #000080; text-decoration-color: #000080\">INFO    </span> full garbage collection released <span style=\"color: #008080; text-decoration-color: #008080; font-weight: bold\">90.64</span> MiB from <span style=\"color: #008080; text-decoration-color: #008080; font-weight: bold\">284130</span> reference     <a href=\"file:///home/rahit/jupyter_py3/lib/python3.8/site-packages/distributed/utils_perf.py\" target=\"_blank\"><span style=\"color: #7f7f7f; text-decoration-color: #7f7f7f\">utils_perf.py</span></a><span style=\"color: #7f7f7f; text-decoration-color: #7f7f7f\">:</span><a href=\"file:///home/rahit/jupyter_py3/lib/python3.8/site-packages/distributed/utils_perf.py#198\" target=\"_blank\"><span style=\"color: #7f7f7f; text-decoration-color: #7f7f7f\">198</span></a>\n",
       "<span style=\"color: #7fbfbf; text-decoration-color: #7fbfbf\">                    </span>         cycles <span style=\"font-weight: bold\">(</span>threshold: <span style=\"color: #008080; text-decoration-color: #008080; font-weight: bold\">9.54</span> MiB<span style=\"font-weight: bold\">)</span>                                         <span style=\"color: #7f7f7f; text-decoration-color: #7f7f7f\">                 </span>\n",
       "</pre>\n"
      ],
      "text/plain": [
       "\u001b[2;36m[12/10/23 01:46:58]\u001b[0m\u001b[2;36m \u001b[0m\u001b[34mINFO    \u001b[0m full garbage collection released \u001b[1;36m90.64\u001b[0m MiB from \u001b[1;36m284130\u001b[0m reference     \u001b]8;id=872133;file:///home/rahit/jupyter_py3/lib/python3.8/site-packages/distributed/utils_perf.py\u001b\\\u001b[2mutils_perf.py\u001b[0m\u001b]8;;\u001b\\\u001b[2m:\u001b[0m\u001b]8;id=929904;file:///home/rahit/jupyter_py3/lib/python3.8/site-packages/distributed/utils_perf.py#198\u001b\\\u001b[2m198\u001b[0m\u001b]8;;\u001b\\\n",
       "\u001b[2;36m                    \u001b[0m         cycles \u001b[1m(\u001b[0mthreshold: \u001b[1;36m9.54\u001b[0m MiB\u001b[1m)\u001b[0m                                         \u001b[2m                 \u001b[0m\n"
      ]
     },
     "metadata": {},
     "output_type": "display_data"
    },
    {
     "data": {
      "text/html": [
       "<pre style=\"white-space:pre;overflow-x:auto;line-height:normal;font-family:Menlo,'DejaVu Sans Mono',consolas,'Courier New',monospace\"><span style=\"color: #7fbfbf; text-decoration-color: #7fbfbf\">[12/10/23 01:47:01] </span><span style=\"color: #000080; text-decoration-color: #000080\">INFO    </span> Loading data from <span style=\"color: #008000; text-decoration-color: #008000\">'wb_go'</span> <span style=\"font-weight: bold\">(</span>KGDataSet<span style=\"font-weight: bold\">)</span><span style=\"color: #808000; text-decoration-color: #808000\">...</span>                           <a href=\"file:///home/rahit/jupyter_py3/lib/python3.8/site-packages/kedro/io/data_catalog.py\" target=\"_blank\"><span style=\"color: #7f7f7f; text-decoration-color: #7f7f7f\">data_catalog.py</span></a><span style=\"color: #7f7f7f; text-decoration-color: #7f7f7f\">:</span><a href=\"file:///home/rahit/jupyter_py3/lib/python3.8/site-packages/kedro/io/data_catalog.py#492\" target=\"_blank\"><span style=\"color: #7f7f7f; text-decoration-color: #7f7f7f\">492</span></a>\n",
       "</pre>\n"
      ],
      "text/plain": [
       "\u001b[2;36m[12/10/23 01:47:01]\u001b[0m\u001b[2;36m \u001b[0m\u001b[34mINFO    \u001b[0m Loading data from \u001b[32m'wb_go'\u001b[0m \u001b[1m(\u001b[0mKGDataSet\u001b[1m)\u001b[0m\u001b[33m...\u001b[0m                           \u001b]8;id=723866;file:///home/rahit/jupyter_py3/lib/python3.8/site-packages/kedro/io/data_catalog.py\u001b\\\u001b[2mdata_catalog.py\u001b[0m\u001b]8;;\u001b\\\u001b[2m:\u001b[0m\u001b]8;id=449221;file:///home/rahit/jupyter_py3/lib/python3.8/site-packages/kedro/io/data_catalog.py#492\u001b\\\u001b[2m492\u001b[0m\u001b]8;;\u001b\\\n"
      ]
     },
     "metadata": {},
     "output_type": "display_data"
    },
    {
     "data": {
      "text/html": [
       "<pre style=\"white-space:pre;overflow-x:auto;line-height:normal;font-family:Menlo,'DejaVu Sans Mono',consolas,'Courier New',monospace\"><span style=\"color: #7fbfbf; text-decoration-color: #7fbfbf\">                    </span><span style=\"color: #000080; text-decoration-color: #000080\">INFO    </span> Loading data from <span style=\"color: #008000; text-decoration-color: #008000\">'wb_go'</span> <span style=\"font-weight: bold\">(</span>KGDataSet<span style=\"font-weight: bold\">)</span><span style=\"color: #808000; text-decoration-color: #808000\">...</span>                           <a href=\"file:///home/rahit/jupyter_py3/lib/python3.8/site-packages/kedro/io/data_catalog.py\" target=\"_blank\"><span style=\"color: #7f7f7f; text-decoration-color: #7f7f7f\">data_catalog.py</span></a><span style=\"color: #7f7f7f; text-decoration-color: #7f7f7f\">:</span><a href=\"file:///home/rahit/jupyter_py3/lib/python3.8/site-packages/kedro/io/data_catalog.py#492\" target=\"_blank\"><span style=\"color: #7f7f7f; text-decoration-color: #7f7f7f\">492</span></a>\n",
       "</pre>\n"
      ],
      "text/plain": [
       "\u001b[2;36m                   \u001b[0m\u001b[2;36m \u001b[0m\u001b[34mINFO    \u001b[0m Loading data from \u001b[32m'wb_go'\u001b[0m \u001b[1m(\u001b[0mKGDataSet\u001b[1m)\u001b[0m\u001b[33m...\u001b[0m                           \u001b]8;id=254888;file:///home/rahit/jupyter_py3/lib/python3.8/site-packages/kedro/io/data_catalog.py\u001b\\\u001b[2mdata_catalog.py\u001b[0m\u001b]8;;\u001b\\\u001b[2m:\u001b[0m\u001b]8;id=478645;file:///home/rahit/jupyter_py3/lib/python3.8/site-packages/kedro/io/data_catalog.py#492\u001b\\\u001b[2m492\u001b[0m\u001b]8;;\u001b\\\n"
      ]
     },
     "metadata": {},
     "output_type": "display_data"
    },
    {
     "data": {
      "text/html": [
       "<pre style=\"white-space:pre;overflow-x:auto;line-height:normal;font-family:Menlo,'DejaVu Sans Mono',consolas,'Courier New',monospace\"><span style=\"color: #7fbfbf; text-decoration-color: #7fbfbf\">[12/10/23 01:47:16] </span><span style=\"color: #000080; text-decoration-color: #000080\">INFO    </span> Event loop was unresponsive in Scheduler for <span style=\"color: #008080; text-decoration-color: #008080; font-weight: bold\">3.</span>26s.  This is often caused  <a href=\"file:///home/rahit/jupyter_py3/lib/python3.8/site-packages/distributed/core.py\" target=\"_blank\"><span style=\"color: #7f7f7f; text-decoration-color: #7f7f7f\">core.py</span></a><span style=\"color: #7f7f7f; text-decoration-color: #7f7f7f\">:</span><a href=\"file:///home/rahit/jupyter_py3/lib/python3.8/site-packages/distributed/core.py#595\" target=\"_blank\"><span style=\"color: #7f7f7f; text-decoration-color: #7f7f7f\">595</span></a>\n",
       "<span style=\"color: #7fbfbf; text-decoration-color: #7fbfbf\">                    </span>         by long-running GIL-holding functions or moving large chunks of data. This <span style=\"color: #7f7f7f; text-decoration-color: #7f7f7f\">           </span>\n",
       "<span style=\"color: #7fbfbf; text-decoration-color: #7fbfbf\">                    </span>         can cause timeouts and instability.                                        <span style=\"color: #7f7f7f; text-decoration-color: #7f7f7f\">           </span>\n",
       "</pre>\n"
      ],
      "text/plain": [
       "\u001b[2;36m[12/10/23 01:47:16]\u001b[0m\u001b[2;36m \u001b[0m\u001b[34mINFO    \u001b[0m Event loop was unresponsive in Scheduler for \u001b[1;36m3.\u001b[0m26s.  This is often caused  \u001b]8;id=541950;file:///home/rahit/jupyter_py3/lib/python3.8/site-packages/distributed/core.py\u001b\\\u001b[2mcore.py\u001b[0m\u001b]8;;\u001b\\\u001b[2m:\u001b[0m\u001b]8;id=652418;file:///home/rahit/jupyter_py3/lib/python3.8/site-packages/distributed/core.py#595\u001b\\\u001b[2m595\u001b[0m\u001b]8;;\u001b\\\n",
       "\u001b[2;36m                    \u001b[0m         by long-running GIL-holding functions or moving large chunks of data. This \u001b[2m           \u001b[0m\n",
       "\u001b[2;36m                    \u001b[0m         can cause timeouts and instability.                                        \u001b[2m           \u001b[0m\n"
      ]
     },
     "metadata": {},
     "output_type": "display_data"
    },
    {
     "data": {
      "text/html": [
       "<pre style=\"white-space:pre;overflow-x:auto;line-height:normal;font-family:Menlo,'DejaVu Sans Mono',consolas,'Courier New',monospace\"><span style=\"color: #7fbfbf; text-decoration-color: #7fbfbf\">[12/10/23 01:47:29] </span><span style=\"color: #000080; text-decoration-color: #000080\">INFO    </span> Loading data from <span style=\"color: #008000; text-decoration-color: #008000\">'wb_goa'</span> <span style=\"font-weight: bold\">(</span>GAFDataFile<span style=\"font-weight: bold\">)</span><span style=\"color: #808000; text-decoration-color: #808000\">...</span>                        <a href=\"file:///home/rahit/jupyter_py3/lib/python3.8/site-packages/kedro/io/data_catalog.py\" target=\"_blank\"><span style=\"color: #7f7f7f; text-decoration-color: #7f7f7f\">data_catalog.py</span></a><span style=\"color: #7f7f7f; text-decoration-color: #7f7f7f\">:</span><a href=\"file:///home/rahit/jupyter_py3/lib/python3.8/site-packages/kedro/io/data_catalog.py#492\" target=\"_blank\"><span style=\"color: #7f7f7f; text-decoration-color: #7f7f7f\">492</span></a>\n",
       "</pre>\n"
      ],
      "text/plain": [
       "\u001b[2;36m[12/10/23 01:47:29]\u001b[0m\u001b[2;36m \u001b[0m\u001b[34mINFO    \u001b[0m Loading data from \u001b[32m'wb_goa'\u001b[0m \u001b[1m(\u001b[0mGAFDataFile\u001b[1m)\u001b[0m\u001b[33m...\u001b[0m                        \u001b]8;id=863296;file:///home/rahit/jupyter_py3/lib/python3.8/site-packages/kedro/io/data_catalog.py\u001b\\\u001b[2mdata_catalog.py\u001b[0m\u001b]8;;\u001b\\\u001b[2m:\u001b[0m\u001b]8;id=763705;file:///home/rahit/jupyter_py3/lib/python3.8/site-packages/kedro/io/data_catalog.py#492\u001b\\\u001b[2m492\u001b[0m\u001b]8;;\u001b\\\n"
      ]
     },
     "metadata": {},
     "output_type": "display_data"
    },
    {
     "data": {
      "text/html": [
       "<pre style=\"white-space:pre;overflow-x:auto;line-height:normal;font-family:Menlo,'DejaVu Sans Mono',consolas,'Courier New',monospace\"><span style=\"color: #7fbfbf; text-decoration-color: #7fbfbf\">                    </span><span style=\"color: #000080; text-decoration-color: #000080\">INFO    </span> Loading data from <span style=\"color: #008000; text-decoration-color: #008000\">'wb_goa'</span> <span style=\"font-weight: bold\">(</span>GAFDataFile<span style=\"font-weight: bold\">)</span><span style=\"color: #808000; text-decoration-color: #808000\">...</span>                        <a href=\"file:///home/rahit/jupyter_py3/lib/python3.8/site-packages/kedro/io/data_catalog.py\" target=\"_blank\"><span style=\"color: #7f7f7f; text-decoration-color: #7f7f7f\">data_catalog.py</span></a><span style=\"color: #7f7f7f; text-decoration-color: #7f7f7f\">:</span><a href=\"file:///home/rahit/jupyter_py3/lib/python3.8/site-packages/kedro/io/data_catalog.py#492\" target=\"_blank\"><span style=\"color: #7f7f7f; text-decoration-color: #7f7f7f\">492</span></a>\n",
       "</pre>\n"
      ],
      "text/plain": [
       "\u001b[2;36m                   \u001b[0m\u001b[2;36m \u001b[0m\u001b[34mINFO    \u001b[0m Loading data from \u001b[32m'wb_goa'\u001b[0m \u001b[1m(\u001b[0mGAFDataFile\u001b[1m)\u001b[0m\u001b[33m...\u001b[0m                        \u001b]8;id=704961;file:///home/rahit/jupyter_py3/lib/python3.8/site-packages/kedro/io/data_catalog.py\u001b\\\u001b[2mdata_catalog.py\u001b[0m\u001b]8;;\u001b\\\u001b[2m:\u001b[0m\u001b]8;id=817956;file:///home/rahit/jupyter_py3/lib/python3.8/site-packages/kedro/io/data_catalog.py#492\u001b\\\u001b[2m492\u001b[0m\u001b]8;;\u001b\\\n"
      ]
     },
     "metadata": {},
     "output_type": "display_data"
    },
    {
     "data": {
      "text/html": [
       "<pre style=\"white-space:pre;overflow-x:auto;line-height:normal;font-family:Menlo,'DejaVu Sans Mono',consolas,'Courier New',monospace\"><span style=\"color: #7fbfbf; text-decoration-color: #7fbfbf\">[12/10/23 01:47:35] </span><span style=\"color: #000080; text-decoration-color: #000080\">INFO    </span> full garbage collection released <span style=\"color: #008080; text-decoration-color: #008080; font-weight: bold\">103.00</span> MiB from <span style=\"color: #008080; text-decoration-color: #008080; font-weight: bold\">213235</span> reference    <a href=\"file:///home/rahit/jupyter_py3/lib/python3.8/site-packages/distributed/utils_perf.py\" target=\"_blank\"><span style=\"color: #7f7f7f; text-decoration-color: #7f7f7f\">utils_perf.py</span></a><span style=\"color: #7f7f7f; text-decoration-color: #7f7f7f\">:</span><a href=\"file:///home/rahit/jupyter_py3/lib/python3.8/site-packages/distributed/utils_perf.py#198\" target=\"_blank\"><span style=\"color: #7f7f7f; text-decoration-color: #7f7f7f\">198</span></a>\n",
       "<span style=\"color: #7fbfbf; text-decoration-color: #7fbfbf\">                    </span>         cycles <span style=\"font-weight: bold\">(</span>threshold: <span style=\"color: #008080; text-decoration-color: #008080; font-weight: bold\">9.54</span> MiB<span style=\"font-weight: bold\">)</span>                                         <span style=\"color: #7f7f7f; text-decoration-color: #7f7f7f\">                 </span>\n",
       "</pre>\n"
      ],
      "text/plain": [
       "\u001b[2;36m[12/10/23 01:47:35]\u001b[0m\u001b[2;36m \u001b[0m\u001b[34mINFO    \u001b[0m full garbage collection released \u001b[1;36m103.00\u001b[0m MiB from \u001b[1;36m213235\u001b[0m reference    \u001b]8;id=932074;file:///home/rahit/jupyter_py3/lib/python3.8/site-packages/distributed/utils_perf.py\u001b\\\u001b[2mutils_perf.py\u001b[0m\u001b]8;;\u001b\\\u001b[2m:\u001b[0m\u001b]8;id=120153;file:///home/rahit/jupyter_py3/lib/python3.8/site-packages/distributed/utils_perf.py#198\u001b\\\u001b[2m198\u001b[0m\u001b]8;;\u001b\\\n",
       "\u001b[2;36m                    \u001b[0m         cycles \u001b[1m(\u001b[0mthreshold: \u001b[1;36m9.54\u001b[0m MiB\u001b[1m)\u001b[0m                                         \u001b[2m                 \u001b[0m\n"
      ]
     },
     "metadata": {},
     "output_type": "display_data"
    },
    {
     "data": {
      "text/html": [
       "<pre style=\"white-space:pre;overflow-x:auto;line-height:normal;font-family:Menlo,'DejaVu Sans Mono',consolas,'Courier New',monospace\"><span style=\"color: #7fbfbf; text-decoration-color: #7fbfbf\">[12/10/23 01:47:36] </span><span style=\"color: #000080; text-decoration-color: #000080\">INFO    </span> Loading data from <span style=\"color: #008000; text-decoration-color: #008000\">'hpo'</span> <span style=\"font-weight: bold\">(</span>KGDataSet<span style=\"font-weight: bold\">)</span><span style=\"color: #808000; text-decoration-color: #808000\">...</span>                             <a href=\"file:///home/rahit/jupyter_py3/lib/python3.8/site-packages/kedro/io/data_catalog.py\" target=\"_blank\"><span style=\"color: #7f7f7f; text-decoration-color: #7f7f7f\">data_catalog.py</span></a><span style=\"color: #7f7f7f; text-decoration-color: #7f7f7f\">:</span><a href=\"file:///home/rahit/jupyter_py3/lib/python3.8/site-packages/kedro/io/data_catalog.py#492\" target=\"_blank\"><span style=\"color: #7f7f7f; text-decoration-color: #7f7f7f\">492</span></a>\n",
       "</pre>\n"
      ],
      "text/plain": [
       "\u001b[2;36m[12/10/23 01:47:36]\u001b[0m\u001b[2;36m \u001b[0m\u001b[34mINFO    \u001b[0m Loading data from \u001b[32m'hpo'\u001b[0m \u001b[1m(\u001b[0mKGDataSet\u001b[1m)\u001b[0m\u001b[33m...\u001b[0m                             \u001b]8;id=154078;file:///home/rahit/jupyter_py3/lib/python3.8/site-packages/kedro/io/data_catalog.py\u001b\\\u001b[2mdata_catalog.py\u001b[0m\u001b]8;;\u001b\\\u001b[2m:\u001b[0m\u001b]8;id=914751;file:///home/rahit/jupyter_py3/lib/python3.8/site-packages/kedro/io/data_catalog.py#492\u001b\\\u001b[2m492\u001b[0m\u001b]8;;\u001b\\\n"
      ]
     },
     "metadata": {},
     "output_type": "display_data"
    },
    {
     "data": {
      "text/html": [
       "<pre style=\"white-space:pre;overflow-x:auto;line-height:normal;font-family:Menlo,'DejaVu Sans Mono',consolas,'Courier New',monospace\"><span style=\"color: #7fbfbf; text-decoration-color: #7fbfbf\">                    </span><span style=\"color: #000080; text-decoration-color: #000080\">INFO    </span> Loading data from <span style=\"color: #008000; text-decoration-color: #008000\">'hpo'</span> <span style=\"font-weight: bold\">(</span>KGDataSet<span style=\"font-weight: bold\">)</span><span style=\"color: #808000; text-decoration-color: #808000\">...</span>                             <a href=\"file:///home/rahit/jupyter_py3/lib/python3.8/site-packages/kedro/io/data_catalog.py\" target=\"_blank\"><span style=\"color: #7f7f7f; text-decoration-color: #7f7f7f\">data_catalog.py</span></a><span style=\"color: #7f7f7f; text-decoration-color: #7f7f7f\">:</span><a href=\"file:///home/rahit/jupyter_py3/lib/python3.8/site-packages/kedro/io/data_catalog.py#492\" target=\"_blank\"><span style=\"color: #7f7f7f; text-decoration-color: #7f7f7f\">492</span></a>\n",
       "</pre>\n"
      ],
      "text/plain": [
       "\u001b[2;36m                   \u001b[0m\u001b[2;36m \u001b[0m\u001b[34mINFO    \u001b[0m Loading data from \u001b[32m'hpo'\u001b[0m \u001b[1m(\u001b[0mKGDataSet\u001b[1m)\u001b[0m\u001b[33m...\u001b[0m                             \u001b]8;id=88570;file:///home/rahit/jupyter_py3/lib/python3.8/site-packages/kedro/io/data_catalog.py\u001b\\\u001b[2mdata_catalog.py\u001b[0m\u001b]8;;\u001b\\\u001b[2m:\u001b[0m\u001b]8;id=978966;file:///home/rahit/jupyter_py3/lib/python3.8/site-packages/kedro/io/data_catalog.py#492\u001b\\\u001b[2m492\u001b[0m\u001b]8;;\u001b\\\n"
      ]
     },
     "metadata": {},
     "output_type": "display_data"
    },
    {
     "data": {
      "text/html": [
       "<pre style=\"white-space:pre;overflow-x:auto;line-height:normal;font-family:Menlo,'DejaVu Sans Mono',consolas,'Courier New',monospace\"><span style=\"color: #7fbfbf; text-decoration-color: #7fbfbf\">[12/10/23 01:47:37] </span><span style=\"color: #800000; text-decoration-color: #800000\">WARNING </span> <span style=\"color: #800080; text-decoration-color: #800080\">/project/6013424/rahit/modspy-data/src/modspy_data/extras/datasets/</span><span style=\"color: #ff00ff; text-decoration-color: #ff00ff\">kno</span> <a href=\"file:///cvmfs/soft.computecanada.ca/easybuild/software/2020/avx2/Core/python/3.8.10/lib/python3.8/warnings.py\" target=\"_blank\"><span style=\"color: #7f7f7f; text-decoration-color: #7f7f7f\">warnings.py</span></a><span style=\"color: #7f7f7f; text-decoration-color: #7f7f7f\">:</span><a href=\"file:///cvmfs/soft.computecanada.ca/easybuild/software/2020/avx2/Core/python/3.8.10/lib/python3.8/warnings.py#109\" target=\"_blank\"><span style=\"color: #7f7f7f; text-decoration-color: #7f7f7f\">109</span></a>\n",
       "<span style=\"color: #7fbfbf; text-decoration-color: #7fbfbf\">                    </span>         <span style=\"color: #ff00ff; text-decoration-color: #ff00ff\">wledge_graph_dataset.py</span>:<span style=\"color: #008080; text-decoration-color: #008080; font-weight: bold\">70</span>: UnicodeWarning: unsound encoding, assuming <span style=\"color: #7f7f7f; text-decoration-color: #7f7f7f\">               </span>\n",
       "<span style=\"color: #7fbfbf; text-decoration-color: #7fbfbf\">                    </span>         utf-<span style=\"color: #008080; text-decoration-color: #008080; font-weight: bold\">8</span> <span style=\"font-weight: bold\">(</span><span style=\"color: #008080; text-decoration-color: #008080; font-weight: bold\">75</span>% confidence<span style=\"font-weight: bold\">)</span>                                                 <span style=\"color: #7f7f7f; text-decoration-color: #7f7f7f\">               </span>\n",
       "<span style=\"color: #7fbfbf; text-decoration-color: #7fbfbf\">                    </span>           po = <span style=\"color: #800080; text-decoration-color: #800080; font-weight: bold\">pronto.Ontology</span><span style=\"font-weight: bold\">(</span><span style=\"color: #808000; text-decoration-color: #808000\">handle</span>=<span style=\"color: #800080; text-decoration-color: #800080\">load_path</span><span style=\"font-weight: bold\">)</span>                               <span style=\"color: #7f7f7f; text-decoration-color: #7f7f7f\">               </span>\n",
       "<span style=\"color: #7fbfbf; text-decoration-color: #7fbfbf\">                    </span>                                                                                <span style=\"color: #7f7f7f; text-decoration-color: #7f7f7f\">               </span>\n",
       "</pre>\n"
      ],
      "text/plain": [
       "\u001b[2;36m[12/10/23 01:47:37]\u001b[0m\u001b[2;36m \u001b[0m\u001b[31mWARNING \u001b[0m \u001b[35m/project/6013424/rahit/modspy-data/src/modspy_data/extras/datasets/\u001b[0m\u001b[95mkno\u001b[0m \u001b]8;id=27071;file:///cvmfs/soft.computecanada.ca/easybuild/software/2020/avx2/Core/python/3.8.10/lib/python3.8/warnings.py\u001b\\\u001b[2mwarnings.py\u001b[0m\u001b]8;;\u001b\\\u001b[2m:\u001b[0m\u001b]8;id=61211;file:///cvmfs/soft.computecanada.ca/easybuild/software/2020/avx2/Core/python/3.8.10/lib/python3.8/warnings.py#109\u001b\\\u001b[2m109\u001b[0m\u001b]8;;\u001b\\\n",
       "\u001b[2;36m                    \u001b[0m         \u001b[95mwledge_graph_dataset.py\u001b[0m:\u001b[1;36m70\u001b[0m: UnicodeWarning: unsound encoding, assuming \u001b[2m               \u001b[0m\n",
       "\u001b[2;36m                    \u001b[0m         utf-\u001b[1;36m8\u001b[0m \u001b[1m(\u001b[0m\u001b[1;36m75\u001b[0m% confidence\u001b[1m)\u001b[0m                                                 \u001b[2m               \u001b[0m\n",
       "\u001b[2;36m                    \u001b[0m           po = \u001b[1;35mpronto.Ontology\u001b[0m\u001b[1m(\u001b[0m\u001b[33mhandle\u001b[0m=\u001b[35mload_path\u001b[0m\u001b[1m)\u001b[0m                               \u001b[2m               \u001b[0m\n",
       "\u001b[2;36m                    \u001b[0m                                                                                \u001b[2m               \u001b[0m\n"
      ]
     },
     "metadata": {},
     "output_type": "display_data"
    },
    {
     "data": {
      "text/html": [
       "<pre style=\"white-space:pre;overflow-x:auto;line-height:normal;font-family:Menlo,'DejaVu Sans Mono',consolas,'Courier New',monospace\"><span style=\"color: #7fbfbf; text-decoration-color: #7fbfbf\">[12/10/23 01:47:41] </span><span style=\"color: #000080; text-decoration-color: #000080\">INFO    </span> Loading data from <span style=\"color: #008000; text-decoration-color: #008000\">'hpoa'</span> <span style=\"font-weight: bold\">(</span>CSVDataSet<span style=\"font-weight: bold\">)</span><span style=\"color: #808000; text-decoration-color: #808000\">...</span>                           <a href=\"file:///home/rahit/jupyter_py3/lib/python3.8/site-packages/kedro/io/data_catalog.py\" target=\"_blank\"><span style=\"color: #7f7f7f; text-decoration-color: #7f7f7f\">data_catalog.py</span></a><span style=\"color: #7f7f7f; text-decoration-color: #7f7f7f\">:</span><a href=\"file:///home/rahit/jupyter_py3/lib/python3.8/site-packages/kedro/io/data_catalog.py#492\" target=\"_blank\"><span style=\"color: #7f7f7f; text-decoration-color: #7f7f7f\">492</span></a>\n",
       "</pre>\n"
      ],
      "text/plain": [
       "\u001b[2;36m[12/10/23 01:47:41]\u001b[0m\u001b[2;36m \u001b[0m\u001b[34mINFO    \u001b[0m Loading data from \u001b[32m'hpoa'\u001b[0m \u001b[1m(\u001b[0mCSVDataSet\u001b[1m)\u001b[0m\u001b[33m...\u001b[0m                           \u001b]8;id=832187;file:///home/rahit/jupyter_py3/lib/python3.8/site-packages/kedro/io/data_catalog.py\u001b\\\u001b[2mdata_catalog.py\u001b[0m\u001b]8;;\u001b\\\u001b[2m:\u001b[0m\u001b]8;id=503036;file:///home/rahit/jupyter_py3/lib/python3.8/site-packages/kedro/io/data_catalog.py#492\u001b\\\u001b[2m492\u001b[0m\u001b]8;;\u001b\\\n"
      ]
     },
     "metadata": {},
     "output_type": "display_data"
    },
    {
     "data": {
      "text/html": [
       "<pre style=\"white-space:pre;overflow-x:auto;line-height:normal;font-family:Menlo,'DejaVu Sans Mono',consolas,'Courier New',monospace\"><span style=\"color: #7fbfbf; text-decoration-color: #7fbfbf\">                    </span><span style=\"color: #000080; text-decoration-color: #000080\">INFO    </span> Loading data from <span style=\"color: #008000; text-decoration-color: #008000\">'hpoa'</span> <span style=\"font-weight: bold\">(</span>CSVDataSet<span style=\"font-weight: bold\">)</span><span style=\"color: #808000; text-decoration-color: #808000\">...</span>                           <a href=\"file:///home/rahit/jupyter_py3/lib/python3.8/site-packages/kedro/io/data_catalog.py\" target=\"_blank\"><span style=\"color: #7f7f7f; text-decoration-color: #7f7f7f\">data_catalog.py</span></a><span style=\"color: #7f7f7f; text-decoration-color: #7f7f7f\">:</span><a href=\"file:///home/rahit/jupyter_py3/lib/python3.8/site-packages/kedro/io/data_catalog.py#492\" target=\"_blank\"><span style=\"color: #7f7f7f; text-decoration-color: #7f7f7f\">492</span></a>\n",
       "</pre>\n"
      ],
      "text/plain": [
       "\u001b[2;36m                   \u001b[0m\u001b[2;36m \u001b[0m\u001b[34mINFO    \u001b[0m Loading data from \u001b[32m'hpoa'\u001b[0m \u001b[1m(\u001b[0mCSVDataSet\u001b[1m)\u001b[0m\u001b[33m...\u001b[0m                           \u001b]8;id=180102;file:///home/rahit/jupyter_py3/lib/python3.8/site-packages/kedro/io/data_catalog.py\u001b\\\u001b[2mdata_catalog.py\u001b[0m\u001b]8;;\u001b\\\u001b[2m:\u001b[0m\u001b]8;id=265695;file:///home/rahit/jupyter_py3/lib/python3.8/site-packages/kedro/io/data_catalog.py#492\u001b\\\u001b[2m492\u001b[0m\u001b]8;;\u001b\\\n"
      ]
     },
     "metadata": {},
     "output_type": "display_data"
    },
    {
     "data": {
      "text/html": [
       "<pre style=\"white-space:pre;overflow-x:auto;line-height:normal;font-family:Menlo,'DejaVu Sans Mono',consolas,'Courier New',monospace\"><span style=\"color: #7fbfbf; text-decoration-color: #7fbfbf\">[12/10/23 01:47:42] </span><span style=\"color: #800000; text-decoration-color: #800000\">WARNING </span> <span style=\"color: #800080; text-decoration-color: #800080\">/home/rahit/jupyter_py3/lib/python3.8/site-packages/kedro/extras/datas</span> <a href=\"file:///cvmfs/soft.computecanada.ca/easybuild/software/2020/avx2/Core/python/3.8.10/lib/python3.8/warnings.py\" target=\"_blank\"><span style=\"color: #7f7f7f; text-decoration-color: #7f7f7f\">warnings.py</span></a><span style=\"color: #7f7f7f; text-decoration-color: #7f7f7f\">:</span><a href=\"file:///cvmfs/soft.computecanada.ca/easybuild/software/2020/avx2/Core/python/3.8.10/lib/python3.8/warnings.py#109\" target=\"_blank\"><span style=\"color: #7f7f7f; text-decoration-color: #7f7f7f\">109</span></a>\n",
       "<span style=\"color: #7fbfbf; text-decoration-color: #7fbfbf\">                    </span>         <span style=\"color: #800080; text-decoration-color: #800080\">ets/pandas/</span><span style=\"color: #ff00ff; text-decoration-color: #ff00ff\">csv_dataset.py</span>:<span style=\"color: #008080; text-decoration-color: #008080; font-weight: bold\">160</span>: ParserWarning: Falling back to the      <span style=\"color: #7f7f7f; text-decoration-color: #7f7f7f\">               </span>\n",
       "<span style=\"color: #7fbfbf; text-decoration-color: #7fbfbf\">                    </span>         <span style=\"color: #008000; text-decoration-color: #008000\">'python'</span> engine because the <span style=\"color: #008000; text-decoration-color: #008000\">'c'</span> engine does not support regex          <span style=\"color: #7f7f7f; text-decoration-color: #7f7f7f\">               </span>\n",
       "<span style=\"color: #7fbfbf; text-decoration-color: #7fbfbf\">                    </span>         separators <span style=\"font-weight: bold\">(</span>separators &gt; <span style=\"color: #008080; text-decoration-color: #008080; font-weight: bold\">1</span> char and different from <span style=\"color: #008000; text-decoration-color: #008000\">'\\s+'</span> are           <span style=\"color: #7f7f7f; text-decoration-color: #7f7f7f\">               </span>\n",
       "<span style=\"color: #7fbfbf; text-decoration-color: #7fbfbf\">                    </span>         interpreted as regex<span style=\"font-weight: bold\">)</span>; you can avoid this warning by specifying        <span style=\"color: #7f7f7f; text-decoration-color: #7f7f7f\">               </span>\n",
       "<span style=\"color: #7fbfbf; text-decoration-color: #7fbfbf\">                    </span>         <span style=\"color: #808000; text-decoration-color: #808000\">engine</span>=<span style=\"color: #008000; text-decoration-color: #008000\">'python'</span>.                                                       <span style=\"color: #7f7f7f; text-decoration-color: #7f7f7f\">               </span>\n",
       "<span style=\"color: #7fbfbf; text-decoration-color: #7fbfbf\">                    </span>           return <span style=\"color: #800080; text-decoration-color: #800080; font-weight: bold\">pd.read_csv</span><span style=\"font-weight: bold\">(</span>load_path, **self._load_args<span style=\"font-weight: bold\">)</span>                     <span style=\"color: #7f7f7f; text-decoration-color: #7f7f7f\">               </span>\n",
       "<span style=\"color: #7fbfbf; text-decoration-color: #7fbfbf\">                    </span>                                                                                <span style=\"color: #7f7f7f; text-decoration-color: #7f7f7f\">               </span>\n",
       "</pre>\n"
      ],
      "text/plain": [
       "\u001b[2;36m[12/10/23 01:47:42]\u001b[0m\u001b[2;36m \u001b[0m\u001b[31mWARNING \u001b[0m \u001b[35m/home/rahit/jupyter_py3/lib/python3.8/site-packages/kedro/extras/datas\u001b[0m \u001b]8;id=790093;file:///cvmfs/soft.computecanada.ca/easybuild/software/2020/avx2/Core/python/3.8.10/lib/python3.8/warnings.py\u001b\\\u001b[2mwarnings.py\u001b[0m\u001b]8;;\u001b\\\u001b[2m:\u001b[0m\u001b]8;id=884292;file:///cvmfs/soft.computecanada.ca/easybuild/software/2020/avx2/Core/python/3.8.10/lib/python3.8/warnings.py#109\u001b\\\u001b[2m109\u001b[0m\u001b]8;;\u001b\\\n",
       "\u001b[2;36m                    \u001b[0m         \u001b[35mets/pandas/\u001b[0m\u001b[95mcsv_dataset.py\u001b[0m:\u001b[1;36m160\u001b[0m: ParserWarning: Falling back to the      \u001b[2m               \u001b[0m\n",
       "\u001b[2;36m                    \u001b[0m         \u001b[32m'python'\u001b[0m engine because the \u001b[32m'c'\u001b[0m engine does not support regex          \u001b[2m               \u001b[0m\n",
       "\u001b[2;36m                    \u001b[0m         separators \u001b[1m(\u001b[0mseparators > \u001b[1;36m1\u001b[0m char and different from \u001b[32m'\\s+'\u001b[0m are           \u001b[2m               \u001b[0m\n",
       "\u001b[2;36m                    \u001b[0m         interpreted as regex\u001b[1m)\u001b[0m; you can avoid this warning by specifying        \u001b[2m               \u001b[0m\n",
       "\u001b[2;36m                    \u001b[0m         \u001b[33mengine\u001b[0m=\u001b[32m'python'\u001b[0m.                                                       \u001b[2m               \u001b[0m\n",
       "\u001b[2;36m                    \u001b[0m           return \u001b[1;35mpd.read_csv\u001b[0m\u001b[1m(\u001b[0mload_path, **self._load_args\u001b[1m)\u001b[0m                     \u001b[2m               \u001b[0m\n",
       "\u001b[2;36m                    \u001b[0m                                                                                \u001b[2m               \u001b[0m\n"
      ]
     },
     "metadata": {},
     "output_type": "display_data"
    },
    {
     "data": {
      "text/html": [
       "<pre style=\"white-space:pre;overflow-x:auto;line-height:normal;font-family:Menlo,'DejaVu Sans Mono',consolas,'Courier New',monospace\"><span style=\"color: #7fbfbf; text-decoration-color: #7fbfbf\">[12/10/23 01:47:46] </span><span style=\"color: #000080; text-decoration-color: #000080\">INFO    </span> Loading data from <span style=\"color: #008000; text-decoration-color: #008000\">'wb_po'</span> <span style=\"font-weight: bold\">(</span>KGDataSet<span style=\"font-weight: bold\">)</span><span style=\"color: #808000; text-decoration-color: #808000\">...</span>                           <a href=\"file:///home/rahit/jupyter_py3/lib/python3.8/site-packages/kedro/io/data_catalog.py\" target=\"_blank\"><span style=\"color: #7f7f7f; text-decoration-color: #7f7f7f\">data_catalog.py</span></a><span style=\"color: #7f7f7f; text-decoration-color: #7f7f7f\">:</span><a href=\"file:///home/rahit/jupyter_py3/lib/python3.8/site-packages/kedro/io/data_catalog.py#492\" target=\"_blank\"><span style=\"color: #7f7f7f; text-decoration-color: #7f7f7f\">492</span></a>\n",
       "</pre>\n"
      ],
      "text/plain": [
       "\u001b[2;36m[12/10/23 01:47:46]\u001b[0m\u001b[2;36m \u001b[0m\u001b[34mINFO    \u001b[0m Loading data from \u001b[32m'wb_po'\u001b[0m \u001b[1m(\u001b[0mKGDataSet\u001b[1m)\u001b[0m\u001b[33m...\u001b[0m                           \u001b]8;id=494548;file:///home/rahit/jupyter_py3/lib/python3.8/site-packages/kedro/io/data_catalog.py\u001b\\\u001b[2mdata_catalog.py\u001b[0m\u001b]8;;\u001b\\\u001b[2m:\u001b[0m\u001b]8;id=826538;file:///home/rahit/jupyter_py3/lib/python3.8/site-packages/kedro/io/data_catalog.py#492\u001b\\\u001b[2m492\u001b[0m\u001b]8;;\u001b\\\n"
      ]
     },
     "metadata": {},
     "output_type": "display_data"
    },
    {
     "data": {
      "text/html": [
       "<pre style=\"white-space:pre;overflow-x:auto;line-height:normal;font-family:Menlo,'DejaVu Sans Mono',consolas,'Courier New',monospace\"><span style=\"color: #7fbfbf; text-decoration-color: #7fbfbf\">                    </span><span style=\"color: #000080; text-decoration-color: #000080\">INFO    </span> Loading data from <span style=\"color: #008000; text-decoration-color: #008000\">'wb_po'</span> <span style=\"font-weight: bold\">(</span>KGDataSet<span style=\"font-weight: bold\">)</span><span style=\"color: #808000; text-decoration-color: #808000\">...</span>                           <a href=\"file:///home/rahit/jupyter_py3/lib/python3.8/site-packages/kedro/io/data_catalog.py\" target=\"_blank\"><span style=\"color: #7f7f7f; text-decoration-color: #7f7f7f\">data_catalog.py</span></a><span style=\"color: #7f7f7f; text-decoration-color: #7f7f7f\">:</span><a href=\"file:///home/rahit/jupyter_py3/lib/python3.8/site-packages/kedro/io/data_catalog.py#492\" target=\"_blank\"><span style=\"color: #7f7f7f; text-decoration-color: #7f7f7f\">492</span></a>\n",
       "</pre>\n"
      ],
      "text/plain": [
       "\u001b[2;36m                   \u001b[0m\u001b[2;36m \u001b[0m\u001b[34mINFO    \u001b[0m Loading data from \u001b[32m'wb_po'\u001b[0m \u001b[1m(\u001b[0mKGDataSet\u001b[1m)\u001b[0m\u001b[33m...\u001b[0m                           \u001b]8;id=664103;file:///home/rahit/jupyter_py3/lib/python3.8/site-packages/kedro/io/data_catalog.py\u001b\\\u001b[2mdata_catalog.py\u001b[0m\u001b]8;;\u001b\\\u001b[2m:\u001b[0m\u001b]8;id=702694;file:///home/rahit/jupyter_py3/lib/python3.8/site-packages/kedro/io/data_catalog.py#492\u001b\\\u001b[2m492\u001b[0m\u001b]8;;\u001b\\\n"
      ]
     },
     "metadata": {},
     "output_type": "display_data"
    },
    {
     "data": {
      "text/html": [
       "<pre style=\"white-space:pre;overflow-x:auto;line-height:normal;font-family:Menlo,'DejaVu Sans Mono',consolas,'Courier New',monospace\"><span style=\"color: #7fbfbf; text-decoration-color: #7fbfbf\">                    </span><span style=\"color: #000080; text-decoration-color: #000080\">INFO    </span> Loading data from <span style=\"color: #008000; text-decoration-color: #008000\">'wb_poa'</span> <span style=\"font-weight: bold\">(</span>GAFDataFile<span style=\"font-weight: bold\">)</span><span style=\"color: #808000; text-decoration-color: #808000\">...</span>                        <a href=\"file:///home/rahit/jupyter_py3/lib/python3.8/site-packages/kedro/io/data_catalog.py\" target=\"_blank\"><span style=\"color: #7f7f7f; text-decoration-color: #7f7f7f\">data_catalog.py</span></a><span style=\"color: #7f7f7f; text-decoration-color: #7f7f7f\">:</span><a href=\"file:///home/rahit/jupyter_py3/lib/python3.8/site-packages/kedro/io/data_catalog.py#492\" target=\"_blank\"><span style=\"color: #7f7f7f; text-decoration-color: #7f7f7f\">492</span></a>\n",
       "</pre>\n"
      ],
      "text/plain": [
       "\u001b[2;36m                   \u001b[0m\u001b[2;36m \u001b[0m\u001b[34mINFO    \u001b[0m Loading data from \u001b[32m'wb_poa'\u001b[0m \u001b[1m(\u001b[0mGAFDataFile\u001b[1m)\u001b[0m\u001b[33m...\u001b[0m                        \u001b]8;id=921332;file:///home/rahit/jupyter_py3/lib/python3.8/site-packages/kedro/io/data_catalog.py\u001b\\\u001b[2mdata_catalog.py\u001b[0m\u001b]8;;\u001b\\\u001b[2m:\u001b[0m\u001b]8;id=735111;file:///home/rahit/jupyter_py3/lib/python3.8/site-packages/kedro/io/data_catalog.py#492\u001b\\\u001b[2m492\u001b[0m\u001b]8;;\u001b\\\n"
      ]
     },
     "metadata": {},
     "output_type": "display_data"
    },
    {
     "data": {
      "text/html": [
       "<pre style=\"white-space:pre;overflow-x:auto;line-height:normal;font-family:Menlo,'DejaVu Sans Mono',consolas,'Courier New',monospace\"><span style=\"color: #7fbfbf; text-decoration-color: #7fbfbf\">                    </span><span style=\"color: #000080; text-decoration-color: #000080\">INFO    </span> Loading data from <span style=\"color: #008000; text-decoration-color: #008000\">'wb_poa'</span> <span style=\"font-weight: bold\">(</span>GAFDataFile<span style=\"font-weight: bold\">)</span><span style=\"color: #808000; text-decoration-color: #808000\">...</span>                        <a href=\"file:///home/rahit/jupyter_py3/lib/python3.8/site-packages/kedro/io/data_catalog.py\" target=\"_blank\"><span style=\"color: #7f7f7f; text-decoration-color: #7f7f7f\">data_catalog.py</span></a><span style=\"color: #7f7f7f; text-decoration-color: #7f7f7f\">:</span><a href=\"file:///home/rahit/jupyter_py3/lib/python3.8/site-packages/kedro/io/data_catalog.py#492\" target=\"_blank\"><span style=\"color: #7f7f7f; text-decoration-color: #7f7f7f\">492</span></a>\n",
       "</pre>\n"
      ],
      "text/plain": [
       "\u001b[2;36m                   \u001b[0m\u001b[2;36m \u001b[0m\u001b[34mINFO    \u001b[0m Loading data from \u001b[32m'wb_poa'\u001b[0m \u001b[1m(\u001b[0mGAFDataFile\u001b[1m)\u001b[0m\u001b[33m...\u001b[0m                        \u001b]8;id=121753;file:///home/rahit/jupyter_py3/lib/python3.8/site-packages/kedro/io/data_catalog.py\u001b\\\u001b[2mdata_catalog.py\u001b[0m\u001b]8;;\u001b\\\u001b[2m:\u001b[0m\u001b]8;id=45506;file:///home/rahit/jupyter_py3/lib/python3.8/site-packages/kedro/io/data_catalog.py#492\u001b\\\u001b[2m492\u001b[0m\u001b]8;;\u001b\\\n"
      ]
     },
     "metadata": {},
     "output_type": "display_data"
    },
    {
     "data": {
      "text/html": [
       "<pre style=\"white-space:pre;overflow-x:auto;line-height:normal;font-family:Menlo,'DejaVu Sans Mono',consolas,'Courier New',monospace\"><span style=\"color: #7fbfbf; text-decoration-color: #7fbfbf\">[12/10/23 01:47:55] </span><span style=\"color: #000080; text-decoration-color: #000080\">INFO    </span> Loading data from <span style=\"color: #008000; text-decoration-color: #008000\">'do'</span> <span style=\"font-weight: bold\">(</span>KGDataSet<span style=\"font-weight: bold\">)</span><span style=\"color: #808000; text-decoration-color: #808000\">...</span>                              <a href=\"file:///home/rahit/jupyter_py3/lib/python3.8/site-packages/kedro/io/data_catalog.py\" target=\"_blank\"><span style=\"color: #7f7f7f; text-decoration-color: #7f7f7f\">data_catalog.py</span></a><span style=\"color: #7f7f7f; text-decoration-color: #7f7f7f\">:</span><a href=\"file:///home/rahit/jupyter_py3/lib/python3.8/site-packages/kedro/io/data_catalog.py#492\" target=\"_blank\"><span style=\"color: #7f7f7f; text-decoration-color: #7f7f7f\">492</span></a>\n",
       "</pre>\n"
      ],
      "text/plain": [
       "\u001b[2;36m[12/10/23 01:47:55]\u001b[0m\u001b[2;36m \u001b[0m\u001b[34mINFO    \u001b[0m Loading data from \u001b[32m'do'\u001b[0m \u001b[1m(\u001b[0mKGDataSet\u001b[1m)\u001b[0m\u001b[33m...\u001b[0m                              \u001b]8;id=208875;file:///home/rahit/jupyter_py3/lib/python3.8/site-packages/kedro/io/data_catalog.py\u001b\\\u001b[2mdata_catalog.py\u001b[0m\u001b]8;;\u001b\\\u001b[2m:\u001b[0m\u001b]8;id=502863;file:///home/rahit/jupyter_py3/lib/python3.8/site-packages/kedro/io/data_catalog.py#492\u001b\\\u001b[2m492\u001b[0m\u001b]8;;\u001b\\\n"
      ]
     },
     "metadata": {},
     "output_type": "display_data"
    },
    {
     "data": {
      "text/html": [
       "<pre style=\"white-space:pre;overflow-x:auto;line-height:normal;font-family:Menlo,'DejaVu Sans Mono',consolas,'Courier New',monospace\"><span style=\"color: #7fbfbf; text-decoration-color: #7fbfbf\">                    </span><span style=\"color: #000080; text-decoration-color: #000080\">INFO    </span> Loading data from <span style=\"color: #008000; text-decoration-color: #008000\">'do'</span> <span style=\"font-weight: bold\">(</span>KGDataSet<span style=\"font-weight: bold\">)</span><span style=\"color: #808000; text-decoration-color: #808000\">...</span>                              <a href=\"file:///home/rahit/jupyter_py3/lib/python3.8/site-packages/kedro/io/data_catalog.py\" target=\"_blank\"><span style=\"color: #7f7f7f; text-decoration-color: #7f7f7f\">data_catalog.py</span></a><span style=\"color: #7f7f7f; text-decoration-color: #7f7f7f\">:</span><a href=\"file:///home/rahit/jupyter_py3/lib/python3.8/site-packages/kedro/io/data_catalog.py#492\" target=\"_blank\"><span style=\"color: #7f7f7f; text-decoration-color: #7f7f7f\">492</span></a>\n",
       "</pre>\n"
      ],
      "text/plain": [
       "\u001b[2;36m                   \u001b[0m\u001b[2;36m \u001b[0m\u001b[34mINFO    \u001b[0m Loading data from \u001b[32m'do'\u001b[0m \u001b[1m(\u001b[0mKGDataSet\u001b[1m)\u001b[0m\u001b[33m...\u001b[0m                              \u001b]8;id=954536;file:///home/rahit/jupyter_py3/lib/python3.8/site-packages/kedro/io/data_catalog.py\u001b\\\u001b[2mdata_catalog.py\u001b[0m\u001b]8;;\u001b\\\u001b[2m:\u001b[0m\u001b]8;id=547651;file:///home/rahit/jupyter_py3/lib/python3.8/site-packages/kedro/io/data_catalog.py#492\u001b\\\u001b[2m492\u001b[0m\u001b]8;;\u001b\\\n"
      ]
     },
     "metadata": {},
     "output_type": "display_data"
    },
    {
     "data": {
      "text/html": [
       "<pre style=\"white-space:pre;overflow-x:auto;line-height:normal;font-family:Menlo,'DejaVu Sans Mono',consolas,'Courier New',monospace\"><span style=\"color: #7fbfbf; text-decoration-color: #7fbfbf\">[12/10/23 01:48:02] </span><span style=\"color: #000080; text-decoration-color: #000080\">INFO    </span> Loading data from <span style=\"color: #008000; text-decoration-color: #008000\">'doa'</span> <span style=\"font-weight: bold\">(</span>CSVDataSet<span style=\"font-weight: bold\">)</span><span style=\"color: #808000; text-decoration-color: #808000\">...</span>                            <a href=\"file:///home/rahit/jupyter_py3/lib/python3.8/site-packages/kedro/io/data_catalog.py\" target=\"_blank\"><span style=\"color: #7f7f7f; text-decoration-color: #7f7f7f\">data_catalog.py</span></a><span style=\"color: #7f7f7f; text-decoration-color: #7f7f7f\">:</span><a href=\"file:///home/rahit/jupyter_py3/lib/python3.8/site-packages/kedro/io/data_catalog.py#492\" target=\"_blank\"><span style=\"color: #7f7f7f; text-decoration-color: #7f7f7f\">492</span></a>\n",
       "</pre>\n"
      ],
      "text/plain": [
       "\u001b[2;36m[12/10/23 01:48:02]\u001b[0m\u001b[2;36m \u001b[0m\u001b[34mINFO    \u001b[0m Loading data from \u001b[32m'doa'\u001b[0m \u001b[1m(\u001b[0mCSVDataSet\u001b[1m)\u001b[0m\u001b[33m...\u001b[0m                            \u001b]8;id=986717;file:///home/rahit/jupyter_py3/lib/python3.8/site-packages/kedro/io/data_catalog.py\u001b\\\u001b[2mdata_catalog.py\u001b[0m\u001b]8;;\u001b\\\u001b[2m:\u001b[0m\u001b]8;id=574566;file:///home/rahit/jupyter_py3/lib/python3.8/site-packages/kedro/io/data_catalog.py#492\u001b\\\u001b[2m492\u001b[0m\u001b]8;;\u001b\\\n"
      ]
     },
     "metadata": {},
     "output_type": "display_data"
    },
    {
     "data": {
      "text/html": [
       "<pre style=\"white-space:pre;overflow-x:auto;line-height:normal;font-family:Menlo,'DejaVu Sans Mono',consolas,'Courier New',monospace\"><span style=\"color: #7fbfbf; text-decoration-color: #7fbfbf\">                    </span><span style=\"color: #000080; text-decoration-color: #000080\">INFO    </span> Loading data from <span style=\"color: #008000; text-decoration-color: #008000\">'doa'</span> <span style=\"font-weight: bold\">(</span>CSVDataSet<span style=\"font-weight: bold\">)</span><span style=\"color: #808000; text-decoration-color: #808000\">...</span>                            <a href=\"file:///home/rahit/jupyter_py3/lib/python3.8/site-packages/kedro/io/data_catalog.py\" target=\"_blank\"><span style=\"color: #7f7f7f; text-decoration-color: #7f7f7f\">data_catalog.py</span></a><span style=\"color: #7f7f7f; text-decoration-color: #7f7f7f\">:</span><a href=\"file:///home/rahit/jupyter_py3/lib/python3.8/site-packages/kedro/io/data_catalog.py#492\" target=\"_blank\"><span style=\"color: #7f7f7f; text-decoration-color: #7f7f7f\">492</span></a>\n",
       "</pre>\n"
      ],
      "text/plain": [
       "\u001b[2;36m                   \u001b[0m\u001b[2;36m \u001b[0m\u001b[34mINFO    \u001b[0m Loading data from \u001b[32m'doa'\u001b[0m \u001b[1m(\u001b[0mCSVDataSet\u001b[1m)\u001b[0m\u001b[33m...\u001b[0m                            \u001b]8;id=581581;file:///home/rahit/jupyter_py3/lib/python3.8/site-packages/kedro/io/data_catalog.py\u001b\\\u001b[2mdata_catalog.py\u001b[0m\u001b]8;;\u001b\\\u001b[2m:\u001b[0m\u001b]8;id=690320;file:///home/rahit/jupyter_py3/lib/python3.8/site-packages/kedro/io/data_catalog.py#492\u001b\\\u001b[2m492\u001b[0m\u001b]8;;\u001b\\\n"
      ]
     },
     "metadata": {},
     "output_type": "display_data"
    },
    {
     "data": {
      "text/html": [
       "<pre style=\"white-space:pre;overflow-x:auto;line-height:normal;font-family:Menlo,'DejaVu Sans Mono',consolas,'Courier New',monospace\"><span style=\"color: #7fbfbf; text-decoration-color: #7fbfbf\">                    </span><span style=\"color: #800000; text-decoration-color: #800000\">WARNING </span> <span style=\"color: #800080; text-decoration-color: #800080\">/home/rahit/jupyter_py3/lib/python3.8/site-packages/kedro/extras/datas</span> <a href=\"file:///cvmfs/soft.computecanada.ca/easybuild/software/2020/avx2/Core/python/3.8.10/lib/python3.8/warnings.py\" target=\"_blank\"><span style=\"color: #7f7f7f; text-decoration-color: #7f7f7f\">warnings.py</span></a><span style=\"color: #7f7f7f; text-decoration-color: #7f7f7f\">:</span><a href=\"file:///cvmfs/soft.computecanada.ca/easybuild/software/2020/avx2/Core/python/3.8.10/lib/python3.8/warnings.py#109\" target=\"_blank\"><span style=\"color: #7f7f7f; text-decoration-color: #7f7f7f\">109</span></a>\n",
       "<span style=\"color: #7fbfbf; text-decoration-color: #7fbfbf\">                    </span>         <span style=\"color: #800080; text-decoration-color: #800080\">ets/pandas/</span><span style=\"color: #ff00ff; text-decoration-color: #ff00ff\">csv_dataset.py</span>:<span style=\"color: #008080; text-decoration-color: #008080; font-weight: bold\">160</span>: ParserWarning: Falling back to the      <span style=\"color: #7f7f7f; text-decoration-color: #7f7f7f\">               </span>\n",
       "<span style=\"color: #7fbfbf; text-decoration-color: #7fbfbf\">                    </span>         <span style=\"color: #008000; text-decoration-color: #008000\">'python'</span> engine because the <span style=\"color: #008000; text-decoration-color: #008000\">'c'</span> engine does not support regex          <span style=\"color: #7f7f7f; text-decoration-color: #7f7f7f\">               </span>\n",
       "<span style=\"color: #7fbfbf; text-decoration-color: #7fbfbf\">                    </span>         separators <span style=\"font-weight: bold\">(</span>separators &gt; <span style=\"color: #008080; text-decoration-color: #008080; font-weight: bold\">1</span> char and different from <span style=\"color: #008000; text-decoration-color: #008000\">'\\s+'</span> are           <span style=\"color: #7f7f7f; text-decoration-color: #7f7f7f\">               </span>\n",
       "<span style=\"color: #7fbfbf; text-decoration-color: #7fbfbf\">                    </span>         interpreted as regex<span style=\"font-weight: bold\">)</span>; you can avoid this warning by specifying        <span style=\"color: #7f7f7f; text-decoration-color: #7f7f7f\">               </span>\n",
       "<span style=\"color: #7fbfbf; text-decoration-color: #7fbfbf\">                    </span>         <span style=\"color: #808000; text-decoration-color: #808000\">engine</span>=<span style=\"color: #008000; text-decoration-color: #008000\">'python'</span>.                                                       <span style=\"color: #7f7f7f; text-decoration-color: #7f7f7f\">               </span>\n",
       "<span style=\"color: #7fbfbf; text-decoration-color: #7fbfbf\">                    </span>           return <span style=\"color: #800080; text-decoration-color: #800080; font-weight: bold\">pd.read_csv</span><span style=\"font-weight: bold\">(</span>load_path, **self._load_args<span style=\"font-weight: bold\">)</span>                     <span style=\"color: #7f7f7f; text-decoration-color: #7f7f7f\">               </span>\n",
       "<span style=\"color: #7fbfbf; text-decoration-color: #7fbfbf\">                    </span>                                                                                <span style=\"color: #7f7f7f; text-decoration-color: #7f7f7f\">               </span>\n",
       "</pre>\n"
      ],
      "text/plain": [
       "\u001b[2;36m                   \u001b[0m\u001b[2;36m \u001b[0m\u001b[31mWARNING \u001b[0m \u001b[35m/home/rahit/jupyter_py3/lib/python3.8/site-packages/kedro/extras/datas\u001b[0m \u001b]8;id=542153;file:///cvmfs/soft.computecanada.ca/easybuild/software/2020/avx2/Core/python/3.8.10/lib/python3.8/warnings.py\u001b\\\u001b[2mwarnings.py\u001b[0m\u001b]8;;\u001b\\\u001b[2m:\u001b[0m\u001b]8;id=124666;file:///cvmfs/soft.computecanada.ca/easybuild/software/2020/avx2/Core/python/3.8.10/lib/python3.8/warnings.py#109\u001b\\\u001b[2m109\u001b[0m\u001b]8;;\u001b\\\n",
       "\u001b[2;36m                    \u001b[0m         \u001b[35mets/pandas/\u001b[0m\u001b[95mcsv_dataset.py\u001b[0m:\u001b[1;36m160\u001b[0m: ParserWarning: Falling back to the      \u001b[2m               \u001b[0m\n",
       "\u001b[2;36m                    \u001b[0m         \u001b[32m'python'\u001b[0m engine because the \u001b[32m'c'\u001b[0m engine does not support regex          \u001b[2m               \u001b[0m\n",
       "\u001b[2;36m                    \u001b[0m         separators \u001b[1m(\u001b[0mseparators > \u001b[1;36m1\u001b[0m char and different from \u001b[32m'\\s+'\u001b[0m are           \u001b[2m               \u001b[0m\n",
       "\u001b[2;36m                    \u001b[0m         interpreted as regex\u001b[1m)\u001b[0m; you can avoid this warning by specifying        \u001b[2m               \u001b[0m\n",
       "\u001b[2;36m                    \u001b[0m         \u001b[33mengine\u001b[0m=\u001b[32m'python'\u001b[0m.                                                       \u001b[2m               \u001b[0m\n",
       "\u001b[2;36m                    \u001b[0m           return \u001b[1;35mpd.read_csv\u001b[0m\u001b[1m(\u001b[0mload_path, **self._load_args\u001b[1m)\u001b[0m                     \u001b[2m               \u001b[0m\n",
       "\u001b[2;36m                    \u001b[0m                                                                                \u001b[2m               \u001b[0m\n"
      ]
     },
     "metadata": {},
     "output_type": "display_data"
    }
   ],
   "source": [
    "# Human GO from UniPort\n",
    "up_go = catalog.load('go')\n",
    "up_goa = catalog.load(\"goa\")\n",
    "\n",
    "# Wormbase GO\n",
    "wb_go = catalog.load('wb_go')\n",
    "wb_goa = catalog.load(\"wb_goa\")\n",
    "\n",
    "# HPO\n",
    "hpo = catalog.load('hpo')\n",
    "hpoa = catalog.load('hpoa')\n",
    "\n",
    "# Wormbase PO\n",
    "wb_po = catalog.load('wb_po')\n",
    "wb_poa = catalog.load('wb_poa')\n",
    "\n",
    "# Alliance Genome Resource Disease Ontology\n",
    "do = catalog.load('do')\n",
    "doa = catalog.load('doa')"
   ]
  },
  {
   "cell_type": "code",
   "execution_count": 10,
   "id": "657b97df",
   "metadata": {},
   "outputs": [],
   "source": [
    "# Seperating human and worm Disease ontology annotation\n",
    "human_doa = doa[doa['Taxon'].str.contains('Taxon:9606')]\n",
    "worm_doa = doa[doa['Taxon'].str.contains('Taxon:6239')]"
   ]
  },
  {
   "cell_type": "code",
   "execution_count": 11,
   "id": "8d56d561",
   "metadata": {},
   "outputs": [
    {
     "data": {
      "text/html": [
       "<pre style=\"white-space:pre;overflow-x:auto;line-height:normal;font-family:Menlo,'DejaVu Sans Mono',consolas,'Courier New',monospace\"><span style=\"color: #008080; text-decoration-color: #008080; font-weight: bold\">30942</span> <span style=\"color: #008080; text-decoration-color: #008080; font-weight: bold\">41503</span>\n",
       "</pre>\n"
      ],
      "text/plain": [
       "\u001b[1;36m30942\u001b[0m \u001b[1;36m41503\u001b[0m\n"
      ]
     },
     "metadata": {},
     "output_type": "display_data"
    }
   ],
   "source": [
    "# Output some basic information about the graph\n",
    "\n",
    "# GO\n",
    "num_nodes = hpo.number_of_nodes()\n",
    "num_edges = hpo.number_of_edges()\n",
    "print(num_nodes, num_edges)\n",
    "\n"
   ]
  },
  {
   "cell_type": "markdown",
   "metadata": {},
   "source": [
    "MTG related"
   ]
  },
  {
   "cell_type": "code",
   "execution_count": 12,
   "metadata": {},
   "outputs": [
    {
     "data": {
      "text/html": [
       "<pre style=\"white-space:pre;overflow-x:auto;line-height:normal;font-family:Menlo,'DejaVu Sans Mono',consolas,'Courier New',monospace\"><span style=\"font-weight: bold\">(</span><span style=\"color: #008080; text-decoration-color: #008080; font-weight: bold\">5374</span>, <span style=\"color: #008080; text-decoration-color: #008080; font-weight: bold\">56</span><span style=\"font-weight: bold\">)</span>\n",
       "</pre>\n"
      ],
      "text/plain": [
       "\u001b[1m(\u001b[0m\u001b[1;36m5374\u001b[0m, \u001b[1;36m56\u001b[0m\u001b[1m)\u001b[0m\n"
      ]
     },
     "metadata": {},
     "output_type": "display_data"
    },
    {
     "data": {
      "text/html": [
       "<div>\n",
       "<style scoped>\n",
       "    .dataframe tbody tr th:only-of-type {\n",
       "        vertical-align: middle;\n",
       "    }\n",
       "\n",
       "    .dataframe tbody tr th {\n",
       "        vertical-align: top;\n",
       "    }\n",
       "\n",
       "    .dataframe thead th {\n",
       "        text-align: right;\n",
       "    }\n",
       "</style>\n",
       "<table border=\"1\" class=\"dataframe\">\n",
       "  <thead>\n",
       "    <tr style=\"text-align: right;\">\n",
       "      <th></th>\n",
       "      <th>wormbase_gene_id</th>\n",
       "      <th>target_gene_id</th>\n",
       "      <th>go_n_common_ancestors_max</th>\n",
       "      <th>go_n_common_ancestors_avg</th>\n",
       "      <th>go_n_common_ancestors_bma</th>\n",
       "      <th>go_n_union_ancestors_max</th>\n",
       "      <th>go_n_union_ancestors_avg</th>\n",
       "      <th>go_n_union_ancestors_bma</th>\n",
       "      <th>go_batet_max</th>\n",
       "      <th>go_batet_avg</th>\n",
       "      <th>...</th>\n",
       "      <th>wpo_resnik_scaled_bma</th>\n",
       "      <th>wpo_lin_max</th>\n",
       "      <th>wpo_lin_avg</th>\n",
       "      <th>wpo_lin_bma</th>\n",
       "      <th>wpo_jiang_max</th>\n",
       "      <th>wpo_jiang_avg</th>\n",
       "      <th>wpo_jiang_bma</th>\n",
       "      <th>wpo_jiang_seco_max</th>\n",
       "      <th>wpo_jiang_seco_avg</th>\n",
       "      <th>wpo_jiang_seco_bma</th>\n",
       "    </tr>\n",
       "  </thead>\n",
       "  <tbody>\n",
       "    <tr>\n",
       "      <th>0</th>\n",
       "      <td>WBGene00009065</td>\n",
       "      <td>WBGene00006988</td>\n",
       "      <td>14.0</td>\n",
       "      <td>2.310000</td>\n",
       "      <td>4.023256</td>\n",
       "      <td>132.0</td>\n",
       "      <td>31.391667</td>\n",
       "      <td>52.232558</td>\n",
       "      <td>0.368421</td>\n",
       "      <td>0.088865</td>\n",
       "      <td>...</td>\n",
       "      <td>0.000000</td>\n",
       "      <td>0.00000</td>\n",
       "      <td>0.000000</td>\n",
       "      <td>0.000000</td>\n",
       "      <td>0.000000</td>\n",
       "      <td>0.000000</td>\n",
       "      <td>0.000000</td>\n",
       "      <td>0.000000</td>\n",
       "      <td>0.000000</td>\n",
       "      <td>0.000000</td>\n",
       "    </tr>\n",
       "    <tr>\n",
       "      <th>1</th>\n",
       "      <td>WBGene00021171</td>\n",
       "      <td>WBGene00006988</td>\n",
       "      <td>0.0</td>\n",
       "      <td>0.000000</td>\n",
       "      <td>0.000000</td>\n",
       "      <td>0.0</td>\n",
       "      <td>0.000000</td>\n",
       "      <td>0.000000</td>\n",
       "      <td>0.000000</td>\n",
       "      <td>0.000000</td>\n",
       "      <td>...</td>\n",
       "      <td>0.000000</td>\n",
       "      <td>0.00000</td>\n",
       "      <td>0.000000</td>\n",
       "      <td>0.000000</td>\n",
       "      <td>0.000000</td>\n",
       "      <td>0.000000</td>\n",
       "      <td>0.000000</td>\n",
       "      <td>0.000000</td>\n",
       "      <td>0.000000</td>\n",
       "      <td>0.000000</td>\n",
       "    </tr>\n",
       "    <tr>\n",
       "      <th>2</th>\n",
       "      <td>WBGene00003196</td>\n",
       "      <td>WBGene00006988</td>\n",
       "      <td>7.0</td>\n",
       "      <td>1.637131</td>\n",
       "      <td>2.540000</td>\n",
       "      <td>114.0</td>\n",
       "      <td>22.180000</td>\n",
       "      <td>45.340000</td>\n",
       "      <td>1.000000</td>\n",
       "      <td>0.099218</td>\n",
       "      <td>...</td>\n",
       "      <td>0.705974</td>\n",
       "      <td>1.00000</td>\n",
       "      <td>0.334903</td>\n",
       "      <td>0.780028</td>\n",
       "      <td>1.000000</td>\n",
       "      <td>0.123475</td>\n",
       "      <td>0.491183</td>\n",
       "      <td>1.000000</td>\n",
       "      <td>0.310373</td>\n",
       "      <td>0.812368</td>\n",
       "    </tr>\n",
       "    <tr>\n",
       "      <th>3</th>\n",
       "      <td>WBGene00011803</td>\n",
       "      <td>WBGene00006988</td>\n",
       "      <td>10.0</td>\n",
       "      <td>2.226054</td>\n",
       "      <td>4.553571</td>\n",
       "      <td>126.0</td>\n",
       "      <td>23.554688</td>\n",
       "      <td>64.589286</td>\n",
       "      <td>1.000000</td>\n",
       "      <td>0.124857</td>\n",
       "      <td>...</td>\n",
       "      <td>0.416211</td>\n",
       "      <td>1.00000</td>\n",
       "      <td>0.414459</td>\n",
       "      <td>0.485633</td>\n",
       "      <td>1.000000</td>\n",
       "      <td>0.147428</td>\n",
       "      <td>0.213067</td>\n",
       "      <td>1.000000</td>\n",
       "      <td>0.442764</td>\n",
       "      <td>0.556453</td>\n",
       "    </tr>\n",
       "    <tr>\n",
       "      <th>4</th>\n",
       "      <td>WBGene00011563</td>\n",
       "      <td>WBGene00006988</td>\n",
       "      <td>16.0</td>\n",
       "      <td>3.196970</td>\n",
       "      <td>5.354167</td>\n",
       "      <td>159.0</td>\n",
       "      <td>32.956250</td>\n",
       "      <td>87.000000</td>\n",
       "      <td>1.000000</td>\n",
       "      <td>0.116295</td>\n",
       "      <td>...</td>\n",
       "      <td>0.430959</td>\n",
       "      <td>1.00000</td>\n",
       "      <td>0.343568</td>\n",
       "      <td>0.516151</td>\n",
       "      <td>1.000000</td>\n",
       "      <td>0.138143</td>\n",
       "      <td>0.291885</td>\n",
       "      <td>1.000000</td>\n",
       "      <td>0.371137</td>\n",
       "      <td>0.600209</td>\n",
       "    </tr>\n",
       "    <tr>\n",
       "      <th>...</th>\n",
       "      <td>...</td>\n",
       "      <td>...</td>\n",
       "      <td>...</td>\n",
       "      <td>...</td>\n",
       "      <td>...</td>\n",
       "      <td>...</td>\n",
       "      <td>...</td>\n",
       "      <td>...</td>\n",
       "      <td>...</td>\n",
       "      <td>...</td>\n",
       "      <td>...</td>\n",
       "      <td>...</td>\n",
       "      <td>...</td>\n",
       "      <td>...</td>\n",
       "      <td>...</td>\n",
       "      <td>...</td>\n",
       "      <td>...</td>\n",
       "      <td>...</td>\n",
       "      <td>...</td>\n",
       "      <td>...</td>\n",
       "      <td>...</td>\n",
       "    </tr>\n",
       "    <tr>\n",
       "      <th>5369</th>\n",
       "      <td>WBGene00001182</td>\n",
       "      <td>WBGene00006988</td>\n",
       "      <td>8.0</td>\n",
       "      <td>2.379699</td>\n",
       "      <td>4.038462</td>\n",
       "      <td>162.0</td>\n",
       "      <td>31.414583</td>\n",
       "      <td>89.576923</td>\n",
       "      <td>0.444444</td>\n",
       "      <td>0.094707</td>\n",
       "      <td>...</td>\n",
       "      <td>0.693100</td>\n",
       "      <td>1.00000</td>\n",
       "      <td>0.239683</td>\n",
       "      <td>0.773077</td>\n",
       "      <td>1.000000</td>\n",
       "      <td>0.097038</td>\n",
       "      <td>0.419774</td>\n",
       "      <td>1.000000</td>\n",
       "      <td>0.220895</td>\n",
       "      <td>0.796617</td>\n",
       "    </tr>\n",
       "    <tr>\n",
       "      <th>5370</th>\n",
       "      <td>WBGene00018280</td>\n",
       "      <td>WBGene00006988</td>\n",
       "      <td>3.0</td>\n",
       "      <td>1.646259</td>\n",
       "      <td>1.851064</td>\n",
       "      <td>112.0</td>\n",
       "      <td>21.500000</td>\n",
       "      <td>39.595745</td>\n",
       "      <td>0.400000</td>\n",
       "      <td>0.091482</td>\n",
       "      <td>...</td>\n",
       "      <td>0.000000</td>\n",
       "      <td>0.00000</td>\n",
       "      <td>0.000000</td>\n",
       "      <td>0.000000</td>\n",
       "      <td>0.000000</td>\n",
       "      <td>0.000000</td>\n",
       "      <td>0.000000</td>\n",
       "      <td>0.000000</td>\n",
       "      <td>0.000000</td>\n",
       "      <td>0.000000</td>\n",
       "    </tr>\n",
       "    <tr>\n",
       "      <th>5371</th>\n",
       "      <td>WBGene00018607</td>\n",
       "      <td>WBGene00006988</td>\n",
       "      <td>5.0</td>\n",
       "      <td>1.589286</td>\n",
       "      <td>2.121212</td>\n",
       "      <td>110.0</td>\n",
       "      <td>21.241667</td>\n",
       "      <td>33.325581</td>\n",
       "      <td>0.294118</td>\n",
       "      <td>0.105984</td>\n",
       "      <td>...</td>\n",
       "      <td>0.000000</td>\n",
       "      <td>0.00000</td>\n",
       "      <td>0.000000</td>\n",
       "      <td>0.000000</td>\n",
       "      <td>0.000000</td>\n",
       "      <td>0.000000</td>\n",
       "      <td>0.000000</td>\n",
       "      <td>0.000000</td>\n",
       "      <td>0.000000</td>\n",
       "      <td>0.000000</td>\n",
       "    </tr>\n",
       "    <tr>\n",
       "      <th>5372</th>\n",
       "      <td>WBGene00016534</td>\n",
       "      <td>WBGene00006988</td>\n",
       "      <td>3.0</td>\n",
       "      <td>1.653846</td>\n",
       "      <td>1.947368</td>\n",
       "      <td>103.0</td>\n",
       "      <td>17.625000</td>\n",
       "      <td>24.209302</td>\n",
       "      <td>1.000000</td>\n",
       "      <td>0.220233</td>\n",
       "      <td>...</td>\n",
       "      <td>0.375910</td>\n",
       "      <td>0.79501</td>\n",
       "      <td>0.375066</td>\n",
       "      <td>0.389547</td>\n",
       "      <td>0.254411</td>\n",
       "      <td>0.108569</td>\n",
       "      <td>0.113598</td>\n",
       "      <td>0.800823</td>\n",
       "      <td>0.398932</td>\n",
       "      <td>0.412790</td>\n",
       "    </tr>\n",
       "    <tr>\n",
       "      <th>5373</th>\n",
       "      <td>WBGene00015177</td>\n",
       "      <td>WBGene00006988</td>\n",
       "      <td>3.0</td>\n",
       "      <td>1.699029</td>\n",
       "      <td>1.826087</td>\n",
       "      <td>115.0</td>\n",
       "      <td>21.920833</td>\n",
       "      <td>40.804348</td>\n",
       "      <td>0.400000</td>\n",
       "      <td>0.093442</td>\n",
       "      <td>...</td>\n",
       "      <td>0.000000</td>\n",
       "      <td>0.00000</td>\n",
       "      <td>0.000000</td>\n",
       "      <td>0.000000</td>\n",
       "      <td>0.000000</td>\n",
       "      <td>0.000000</td>\n",
       "      <td>0.000000</td>\n",
       "      <td>0.000000</td>\n",
       "      <td>0.000000</td>\n",
       "      <td>0.000000</td>\n",
       "    </tr>\n",
       "  </tbody>\n",
       "</table>\n",
       "<p>5374 rows × 56 columns</p>\n",
       "</div>"
      ],
      "text/plain": [
       "     wormbase_gene_id  target_gene_id  go_n_common_ancestors_max  \\\n",
       "0      WBGene00009065  WBGene00006988                       14.0   \n",
       "1      WBGene00021171  WBGene00006988                        0.0   \n",
       "2      WBGene00003196  WBGene00006988                        7.0   \n",
       "3      WBGene00011803  WBGene00006988                       10.0   \n",
       "4      WBGene00011563  WBGene00006988                       16.0   \n",
       "...               ...             ...                        ...   \n",
       "5369   WBGene00001182  WBGene00006988                        8.0   \n",
       "5370   WBGene00018280  WBGene00006988                        3.0   \n",
       "5371   WBGene00018607  WBGene00006988                        5.0   \n",
       "5372   WBGene00016534  WBGene00006988                        3.0   \n",
       "5373   WBGene00015177  WBGene00006988                        3.0   \n",
       "\n",
       "      go_n_common_ancestors_avg  go_n_common_ancestors_bma  \\\n",
       "0                      2.310000                   4.023256   \n",
       "1                      0.000000                   0.000000   \n",
       "2                      1.637131                   2.540000   \n",
       "3                      2.226054                   4.553571   \n",
       "4                      3.196970                   5.354167   \n",
       "...                         ...                        ...   \n",
       "5369                   2.379699                   4.038462   \n",
       "5370                   1.646259                   1.851064   \n",
       "5371                   1.589286                   2.121212   \n",
       "5372                   1.653846                   1.947368   \n",
       "5373                   1.699029                   1.826087   \n",
       "\n",
       "      go_n_union_ancestors_max  go_n_union_ancestors_avg  \\\n",
       "0                        132.0                 31.391667   \n",
       "1                          0.0                  0.000000   \n",
       "2                        114.0                 22.180000   \n",
       "3                        126.0                 23.554688   \n",
       "4                        159.0                 32.956250   \n",
       "...                        ...                       ...   \n",
       "5369                     162.0                 31.414583   \n",
       "5370                     112.0                 21.500000   \n",
       "5371                     110.0                 21.241667   \n",
       "5372                     103.0                 17.625000   \n",
       "5373                     115.0                 21.920833   \n",
       "\n",
       "      go_n_union_ancestors_bma  go_batet_max  go_batet_avg  ...  \\\n",
       "0                    52.232558      0.368421      0.088865  ...   \n",
       "1                     0.000000      0.000000      0.000000  ...   \n",
       "2                    45.340000      1.000000      0.099218  ...   \n",
       "3                    64.589286      1.000000      0.124857  ...   \n",
       "4                    87.000000      1.000000      0.116295  ...   \n",
       "...                        ...           ...           ...  ...   \n",
       "5369                 89.576923      0.444444      0.094707  ...   \n",
       "5370                 39.595745      0.400000      0.091482  ...   \n",
       "5371                 33.325581      0.294118      0.105984  ...   \n",
       "5372                 24.209302      1.000000      0.220233  ...   \n",
       "5373                 40.804348      0.400000      0.093442  ...   \n",
       "\n",
       "      wpo_resnik_scaled_bma  wpo_lin_max  wpo_lin_avg  wpo_lin_bma  \\\n",
       "0                  0.000000      0.00000     0.000000     0.000000   \n",
       "1                  0.000000      0.00000     0.000000     0.000000   \n",
       "2                  0.705974      1.00000     0.334903     0.780028   \n",
       "3                  0.416211      1.00000     0.414459     0.485633   \n",
       "4                  0.430959      1.00000     0.343568     0.516151   \n",
       "...                     ...          ...          ...          ...   \n",
       "5369               0.693100      1.00000     0.239683     0.773077   \n",
       "5370               0.000000      0.00000     0.000000     0.000000   \n",
       "5371               0.000000      0.00000     0.000000     0.000000   \n",
       "5372               0.375910      0.79501     0.375066     0.389547   \n",
       "5373               0.000000      0.00000     0.000000     0.000000   \n",
       "\n",
       "      wpo_jiang_max  wpo_jiang_avg  wpo_jiang_bma  wpo_jiang_seco_max  \\\n",
       "0          0.000000       0.000000       0.000000            0.000000   \n",
       "1          0.000000       0.000000       0.000000            0.000000   \n",
       "2          1.000000       0.123475       0.491183            1.000000   \n",
       "3          1.000000       0.147428       0.213067            1.000000   \n",
       "4          1.000000       0.138143       0.291885            1.000000   \n",
       "...             ...            ...            ...                 ...   \n",
       "5369       1.000000       0.097038       0.419774            1.000000   \n",
       "5370       0.000000       0.000000       0.000000            0.000000   \n",
       "5371       0.000000       0.000000       0.000000            0.000000   \n",
       "5372       0.254411       0.108569       0.113598            0.800823   \n",
       "5373       0.000000       0.000000       0.000000            0.000000   \n",
       "\n",
       "      wpo_jiang_seco_avg  wpo_jiang_seco_bma  \n",
       "0               0.000000            0.000000  \n",
       "1               0.000000            0.000000  \n",
       "2               0.310373            0.812368  \n",
       "3               0.442764            0.556453  \n",
       "4               0.371137            0.600209  \n",
       "...                  ...                 ...  \n",
       "5369            0.220895            0.796617  \n",
       "5370            0.000000            0.000000  \n",
       "5371            0.000000            0.000000  \n",
       "5372            0.398932            0.412790  \n",
       "5373            0.000000            0.000000  \n",
       "\n",
       "[5374 rows x 56 columns]"
      ]
     },
     "execution_count": 12,
     "metadata": {},
     "output_type": "execute_result"
    }
   ],
   "source": [
    "all_files = [\n",
    "    # \"./data/01_raw/mtgjan_2023_all_combs_scores_2023-01-21.tsv\",\n",
    "     \"./data/01_raw/mtg/june_2023_all_combs_scores_2023-05-31.tsv\",\n",
    "    ]\n",
    "paired_score_df = pd.concat((pd.read_csv(f, sep='\\t') for f in all_files))\n",
    "print(paired_score_df.shape)\n",
    "paired_score_df"
   ]
  },
  {
   "cell_type": "code",
   "execution_count": 13,
   "metadata": {},
   "outputs": [
    {
     "data": {
      "text/html": [
       "<div>\n",
       "<style scoped>\n",
       "    .dataframe tbody tr th:only-of-type {\n",
       "        vertical-align: middle;\n",
       "    }\n",
       "\n",
       "    .dataframe tbody tr th {\n",
       "        vertical-align: top;\n",
       "    }\n",
       "\n",
       "    .dataframe thead th {\n",
       "        text-align: right;\n",
       "    }\n",
       "</style>\n",
       "<table border=\"1\" class=\"dataframe\">\n",
       "  <thead>\n",
       "    <tr style=\"text-align: right;\">\n",
       "      <th></th>\n",
       "      <th>index</th>\n",
       "      <th>Sample</th>\n",
       "      <th>chromosome</th>\n",
       "      <th>position</th>\n",
       "      <th>ref</th>\n",
       "      <th>alt</th>\n",
       "      <th>wormbase_gene_id</th>\n",
       "      <th>gene_symbol</th>\n",
       "      <th>gene_start_position</th>\n",
       "      <th>gene_end_position</th>\n",
       "      <th>...</th>\n",
       "      <th>homology</th>\n",
       "      <th>coexpression</th>\n",
       "      <th>coexpression_transferred</th>\n",
       "      <th>experiments</th>\n",
       "      <th>experiments_transferred</th>\n",
       "      <th>database</th>\n",
       "      <th>database_transferred</th>\n",
       "      <th>textmining</th>\n",
       "      <th>textmining_transferred</th>\n",
       "      <th>combined_score</th>\n",
       "    </tr>\n",
       "  </thead>\n",
       "  <tbody>\n",
       "    <tr>\n",
       "      <th>0</th>\n",
       "      <td>0</td>\n",
       "      <td>MTG93</td>\n",
       "      <td>I</td>\n",
       "      <td>13162538</td>\n",
       "      <td>G</td>\n",
       "      <td>A</td>\n",
       "      <td>WBGene00009065</td>\n",
       "      <td>F22G12.5</td>\n",
       "      <td>13162492</td>\n",
       "      <td>13182725.0</td>\n",
       "      <td>...</td>\n",
       "      <td>0.0</td>\n",
       "      <td>0.0</td>\n",
       "      <td>0.0</td>\n",
       "      <td>0.0</td>\n",
       "      <td>0.0</td>\n",
       "      <td>0.0</td>\n",
       "      <td>0.0</td>\n",
       "      <td>0.0</td>\n",
       "      <td>0.0</td>\n",
       "      <td>0.0</td>\n",
       "    </tr>\n",
       "    <tr>\n",
       "      <th>1</th>\n",
       "      <td>1</td>\n",
       "      <td>MTG93</td>\n",
       "      <td>II</td>\n",
       "      <td>3797021</td>\n",
       "      <td>T</td>\n",
       "      <td>C</td>\n",
       "      <td>WBGene00021171</td>\n",
       "      <td>Y8A9A.2</td>\n",
       "      <td>3795623</td>\n",
       "      <td>3800608.0</td>\n",
       "      <td>...</td>\n",
       "      <td>0.0</td>\n",
       "      <td>0.0</td>\n",
       "      <td>0.0</td>\n",
       "      <td>0.0</td>\n",
       "      <td>0.0</td>\n",
       "      <td>0.0</td>\n",
       "      <td>0.0</td>\n",
       "      <td>0.0</td>\n",
       "      <td>0.0</td>\n",
       "      <td>0.0</td>\n",
       "    </tr>\n",
       "    <tr>\n",
       "      <th>2</th>\n",
       "      <td>2</td>\n",
       "      <td>MTG93</td>\n",
       "      <td>II</td>\n",
       "      <td>9362312</td>\n",
       "      <td>G</td>\n",
       "      <td>A</td>\n",
       "      <td>WBGene00003196</td>\n",
       "      <td>mel-11</td>\n",
       "      <td>9358531</td>\n",
       "      <td>9369098.0</td>\n",
       "      <td>...</td>\n",
       "      <td>0.0</td>\n",
       "      <td>74.0</td>\n",
       "      <td>48.0</td>\n",
       "      <td>0.0</td>\n",
       "      <td>101.0</td>\n",
       "      <td>0.0</td>\n",
       "      <td>0.0</td>\n",
       "      <td>0.0</td>\n",
       "      <td>61.0</td>\n",
       "      <td>156.0</td>\n",
       "    </tr>\n",
       "    <tr>\n",
       "      <th>3</th>\n",
       "      <td>3</td>\n",
       "      <td>MTG93</td>\n",
       "      <td>III</td>\n",
       "      <td>10045380</td>\n",
       "      <td>C</td>\n",
       "      <td>T</td>\n",
       "      <td>WBGene00011803</td>\n",
       "      <td>T16G12.1</td>\n",
       "      <td>10040191</td>\n",
       "      <td>10049857.0</td>\n",
       "      <td>...</td>\n",
       "      <td>0.0</td>\n",
       "      <td>0.0</td>\n",
       "      <td>0.0</td>\n",
       "      <td>0.0</td>\n",
       "      <td>0.0</td>\n",
       "      <td>0.0</td>\n",
       "      <td>0.0</td>\n",
       "      <td>0.0</td>\n",
       "      <td>0.0</td>\n",
       "      <td>0.0</td>\n",
       "    </tr>\n",
       "    <tr>\n",
       "      <th>4</th>\n",
       "      <td>4</td>\n",
       "      <td>MTG93</td>\n",
       "      <td>III</td>\n",
       "      <td>10333748</td>\n",
       "      <td>G</td>\n",
       "      <td>A</td>\n",
       "      <td>WBGene00011563</td>\n",
       "      <td>jmjd-4</td>\n",
       "      <td>10332526</td>\n",
       "      <td>10334083.0</td>\n",
       "      <td>...</td>\n",
       "      <td>0.0</td>\n",
       "      <td>0.0</td>\n",
       "      <td>0.0</td>\n",
       "      <td>0.0</td>\n",
       "      <td>0.0</td>\n",
       "      <td>0.0</td>\n",
       "      <td>0.0</td>\n",
       "      <td>0.0</td>\n",
       "      <td>0.0</td>\n",
       "      <td>0.0</td>\n",
       "    </tr>\n",
       "    <tr>\n",
       "      <th>...</th>\n",
       "      <td>...</td>\n",
       "      <td>...</td>\n",
       "      <td>...</td>\n",
       "      <td>...</td>\n",
       "      <td>...</td>\n",
       "      <td>...</td>\n",
       "      <td>...</td>\n",
       "      <td>...</td>\n",
       "      <td>...</td>\n",
       "      <td>...</td>\n",
       "      <td>...</td>\n",
       "      <td>...</td>\n",
       "      <td>...</td>\n",
       "      <td>...</td>\n",
       "      <td>...</td>\n",
       "      <td>...</td>\n",
       "      <td>...</td>\n",
       "      <td>...</td>\n",
       "      <td>...</td>\n",
       "      <td>...</td>\n",
       "      <td>...</td>\n",
       "    </tr>\n",
       "    <tr>\n",
       "      <th>7849</th>\n",
       "      <td>109</td>\n",
       "      <td>MTG83</td>\n",
       "      <td>X</td>\n",
       "      <td>7912032</td>\n",
       "      <td>G</td>\n",
       "      <td>A</td>\n",
       "      <td>WBGene00016534</td>\n",
       "      <td>C39D10.7</td>\n",
       "      <td>7907955</td>\n",
       "      <td>7913930.0</td>\n",
       "      <td>...</td>\n",
       "      <td>0.0</td>\n",
       "      <td>0.0</td>\n",
       "      <td>0.0</td>\n",
       "      <td>0.0</td>\n",
       "      <td>0.0</td>\n",
       "      <td>0.0</td>\n",
       "      <td>0.0</td>\n",
       "      <td>0.0</td>\n",
       "      <td>0.0</td>\n",
       "      <td>0.0</td>\n",
       "    </tr>\n",
       "    <tr>\n",
       "      <th>7850</th>\n",
       "      <td>110</td>\n",
       "      <td>MTG83</td>\n",
       "      <td>X</td>\n",
       "      <td>8092257</td>\n",
       "      <td>G</td>\n",
       "      <td>A</td>\n",
       "      <td>WBGene00019493</td>\n",
       "      <td>catp-5</td>\n",
       "      <td>8089826</td>\n",
       "      <td>8098863.0</td>\n",
       "      <td>...</td>\n",
       "      <td>0.0</td>\n",
       "      <td>0.0</td>\n",
       "      <td>0.0</td>\n",
       "      <td>0.0</td>\n",
       "      <td>0.0</td>\n",
       "      <td>0.0</td>\n",
       "      <td>0.0</td>\n",
       "      <td>0.0</td>\n",
       "      <td>0.0</td>\n",
       "      <td>0.0</td>\n",
       "    </tr>\n",
       "    <tr>\n",
       "      <th>7851</th>\n",
       "      <td>111</td>\n",
       "      <td>MTG83</td>\n",
       "      <td>X</td>\n",
       "      <td>9304661</td>\n",
       "      <td>G</td>\n",
       "      <td>A</td>\n",
       "      <td>WBGene00015177</td>\n",
       "      <td>tmc-2</td>\n",
       "      <td>9303724</td>\n",
       "      <td>9310439.0</td>\n",
       "      <td>...</td>\n",
       "      <td>0.0</td>\n",
       "      <td>0.0</td>\n",
       "      <td>0.0</td>\n",
       "      <td>0.0</td>\n",
       "      <td>0.0</td>\n",
       "      <td>0.0</td>\n",
       "      <td>0.0</td>\n",
       "      <td>0.0</td>\n",
       "      <td>0.0</td>\n",
       "      <td>0.0</td>\n",
       "    </tr>\n",
       "    <tr>\n",
       "      <th>7852</th>\n",
       "      <td>112</td>\n",
       "      <td>MTG83</td>\n",
       "      <td>X</td>\n",
       "      <td>9435571</td>\n",
       "      <td>G</td>\n",
       "      <td>A</td>\n",
       "      <td>WBGene00006538</td>\n",
       "      <td>tbb-4</td>\n",
       "      <td>9434452</td>\n",
       "      <td>9436893.0</td>\n",
       "      <td>...</td>\n",
       "      <td>0.0</td>\n",
       "      <td>0.0</td>\n",
       "      <td>0.0</td>\n",
       "      <td>0.0</td>\n",
       "      <td>0.0</td>\n",
       "      <td>0.0</td>\n",
       "      <td>0.0</td>\n",
       "      <td>0.0</td>\n",
       "      <td>0.0</td>\n",
       "      <td>0.0</td>\n",
       "    </tr>\n",
       "    <tr>\n",
       "      <th>7853</th>\n",
       "      <td>113</td>\n",
       "      <td>MTG83</td>\n",
       "      <td>X</td>\n",
       "      <td>9828814</td>\n",
       "      <td>G</td>\n",
       "      <td>A</td>\n",
       "      <td>WBGene00009800</td>\n",
       "      <td>rrc-1</td>\n",
       "      <td>9823752</td>\n",
       "      <td>9831249.0</td>\n",
       "      <td>...</td>\n",
       "      <td>0.0</td>\n",
       "      <td>0.0</td>\n",
       "      <td>0.0</td>\n",
       "      <td>0.0</td>\n",
       "      <td>0.0</td>\n",
       "      <td>0.0</td>\n",
       "      <td>0.0</td>\n",
       "      <td>0.0</td>\n",
       "      <td>0.0</td>\n",
       "      <td>0.0</td>\n",
       "    </tr>\n",
       "  </tbody>\n",
       "</table>\n",
       "<p>7854 rows × 102 columns</p>\n",
       "</div>"
      ],
      "text/plain": [
       "      index Sample chromosome  position ref alt wormbase_gene_id gene_symbol  \\\n",
       "0         0  MTG93          I  13162538   G   A   WBGene00009065    F22G12.5   \n",
       "1         1  MTG93         II   3797021   T   C   WBGene00021171     Y8A9A.2   \n",
       "2         2  MTG93         II   9362312   G   A   WBGene00003196      mel-11   \n",
       "3         3  MTG93        III  10045380   C   T   WBGene00011803    T16G12.1   \n",
       "4         4  MTG93        III  10333748   G   A   WBGene00011563      jmjd-4   \n",
       "...     ...    ...        ...       ...  ..  ..              ...         ...   \n",
       "7849    109  MTG83          X   7912032   G   A   WBGene00016534    C39D10.7   \n",
       "7850    110  MTG83          X   8092257   G   A   WBGene00019493      catp-5   \n",
       "7851    111  MTG83          X   9304661   G   A   WBGene00015177       tmc-2   \n",
       "7852    112  MTG83          X   9435571   G   A   WBGene00006538       tbb-4   \n",
       "7853    113  MTG83          X   9828814   G   A   WBGene00009800       rrc-1   \n",
       "\n",
       "     gene_start_position  gene_end_position  ...  homology coexpression  \\\n",
       "0               13162492         13182725.0  ...       0.0          0.0   \n",
       "1                3795623          3800608.0  ...       0.0          0.0   \n",
       "2                9358531          9369098.0  ...       0.0         74.0   \n",
       "3               10040191         10049857.0  ...       0.0          0.0   \n",
       "4               10332526         10334083.0  ...       0.0          0.0   \n",
       "...                  ...                ...  ...       ...          ...   \n",
       "7849             7907955          7913930.0  ...       0.0          0.0   \n",
       "7850             8089826          8098863.0  ...       0.0          0.0   \n",
       "7851             9303724          9310439.0  ...       0.0          0.0   \n",
       "7852             9434452          9436893.0  ...       0.0          0.0   \n",
       "7853             9823752          9831249.0  ...       0.0          0.0   \n",
       "\n",
       "     coexpression_transferred experiments  experiments_transferred  database  \\\n",
       "0                         0.0         0.0                      0.0       0.0   \n",
       "1                         0.0         0.0                      0.0       0.0   \n",
       "2                        48.0         0.0                    101.0       0.0   \n",
       "3                         0.0         0.0                      0.0       0.0   \n",
       "4                         0.0         0.0                      0.0       0.0   \n",
       "...                       ...         ...                      ...       ...   \n",
       "7849                      0.0         0.0                      0.0       0.0   \n",
       "7850                      0.0         0.0                      0.0       0.0   \n",
       "7851                      0.0         0.0                      0.0       0.0   \n",
       "7852                      0.0         0.0                      0.0       0.0   \n",
       "7853                      0.0         0.0                      0.0       0.0   \n",
       "\n",
       "      database_transferred  textmining  textmining_transferred  combined_score  \n",
       "0                      0.0         0.0                     0.0             0.0  \n",
       "1                      0.0         0.0                     0.0             0.0  \n",
       "2                      0.0         0.0                    61.0           156.0  \n",
       "3                      0.0         0.0                     0.0             0.0  \n",
       "4                      0.0         0.0                     0.0             0.0  \n",
       "...                    ...         ...                     ...             ...  \n",
       "7849                   0.0         0.0                     0.0             0.0  \n",
       "7850                   0.0         0.0                     0.0             0.0  \n",
       "7851                   0.0         0.0                     0.0             0.0  \n",
       "7852                   0.0         0.0                     0.0             0.0  \n",
       "7853                   0.0         0.0                     0.0             0.0  \n",
       "\n",
       "[7854 rows x 102 columns]"
      ]
     },
     "execution_count": 13,
     "metadata": {},
     "output_type": "execute_result"
    }
   ],
   "source": [
    "df = pd.read_csv(\"./data/01_raw/mtg/combined_dataset_2022-11-15-07-04.tsv\", sep=\"\\t\")\n",
    "df"
   ]
  },
  {
   "cell_type": "code",
   "execution_count": 14,
   "metadata": {},
   "outputs": [],
   "source": [
    "true_mods = pd.read_csv('./data/01_raw/mtg/confirmed_modifiers.tsv', sep=\"\\t\")\n",
    "true_mods.rename(columns={\"strain\": \"Sample\", \"true_modifier\": \"gene_symbol\"}, inplace=True)"
   ]
  },
  {
   "cell_type": "markdown",
   "metadata": {},
   "source": [
    "OLIDA related"
   ]
  },
  {
   "cell_type": "code",
   "execution_count": 15,
   "id": "76ba3f18",
   "metadata": {},
   "outputs": [
    {
     "data": {
      "text/html": [
       "<pre style=\"white-space:pre;overflow-x:auto;line-height:normal;font-family:Menlo,'DejaVu Sans Mono',consolas,'Courier New',monospace\"><span style=\"color: #7fbfbf; text-decoration-color: #7fbfbf\">[12/10/23 01:48:14] </span><span style=\"color: #000080; text-decoration-color: #000080\">INFO    </span> Loading data from <span style=\"color: #008000; text-decoration-color: #008000\">'olida_combinations'</span> <span style=\"font-weight: bold\">(</span>CSVDataSet<span style=\"font-weight: bold\">)</span><span style=\"color: #808000; text-decoration-color: #808000\">...</span>             <a href=\"file:///home/rahit/jupyter_py3/lib/python3.8/site-packages/kedro/io/data_catalog.py\" target=\"_blank\"><span style=\"color: #7f7f7f; text-decoration-color: #7f7f7f\">data_catalog.py</span></a><span style=\"color: #7f7f7f; text-decoration-color: #7f7f7f\">:</span><a href=\"file:///home/rahit/jupyter_py3/lib/python3.8/site-packages/kedro/io/data_catalog.py#492\" target=\"_blank\"><span style=\"color: #7f7f7f; text-decoration-color: #7f7f7f\">492</span></a>\n",
       "</pre>\n"
      ],
      "text/plain": [
       "\u001b[2;36m[12/10/23 01:48:14]\u001b[0m\u001b[2;36m \u001b[0m\u001b[34mINFO    \u001b[0m Loading data from \u001b[32m'olida_combinations'\u001b[0m \u001b[1m(\u001b[0mCSVDataSet\u001b[1m)\u001b[0m\u001b[33m...\u001b[0m             \u001b]8;id=842238;file:///home/rahit/jupyter_py3/lib/python3.8/site-packages/kedro/io/data_catalog.py\u001b\\\u001b[2mdata_catalog.py\u001b[0m\u001b]8;;\u001b\\\u001b[2m:\u001b[0m\u001b]8;id=537145;file:///home/rahit/jupyter_py3/lib/python3.8/site-packages/kedro/io/data_catalog.py#492\u001b\\\u001b[2m492\u001b[0m\u001b]8;;\u001b\\\n"
      ]
     },
     "metadata": {},
     "output_type": "display_data"
    },
    {
     "data": {
      "text/html": [
       "<pre style=\"white-space:pre;overflow-x:auto;line-height:normal;font-family:Menlo,'DejaVu Sans Mono',consolas,'Courier New',monospace\"><span style=\"color: #7fbfbf; text-decoration-color: #7fbfbf\">                    </span><span style=\"color: #000080; text-decoration-color: #000080\">INFO    </span> Loading data from <span style=\"color: #008000; text-decoration-color: #008000\">'olida_combinations'</span> <span style=\"font-weight: bold\">(</span>CSVDataSet<span style=\"font-weight: bold\">)</span><span style=\"color: #808000; text-decoration-color: #808000\">...</span>             <a href=\"file:///home/rahit/jupyter_py3/lib/python3.8/site-packages/kedro/io/data_catalog.py\" target=\"_blank\"><span style=\"color: #7f7f7f; text-decoration-color: #7f7f7f\">data_catalog.py</span></a><span style=\"color: #7f7f7f; text-decoration-color: #7f7f7f\">:</span><a href=\"file:///home/rahit/jupyter_py3/lib/python3.8/site-packages/kedro/io/data_catalog.py#492\" target=\"_blank\"><span style=\"color: #7f7f7f; text-decoration-color: #7f7f7f\">492</span></a>\n",
       "</pre>\n"
      ],
      "text/plain": [
       "\u001b[2;36m                   \u001b[0m\u001b[2;36m \u001b[0m\u001b[34mINFO    \u001b[0m Loading data from \u001b[32m'olida_combinations'\u001b[0m \u001b[1m(\u001b[0mCSVDataSet\u001b[1m)\u001b[0m\u001b[33m...\u001b[0m             \u001b]8;id=580620;file:///home/rahit/jupyter_py3/lib/python3.8/site-packages/kedro/io/data_catalog.py\u001b\\\u001b[2mdata_catalog.py\u001b[0m\u001b]8;;\u001b\\\u001b[2m:\u001b[0m\u001b]8;id=511104;file:///home/rahit/jupyter_py3/lib/python3.8/site-packages/kedro/io/data_catalog.py#492\u001b\\\u001b[2m492\u001b[0m\u001b]8;;\u001b\\\n"
      ]
     },
     "metadata": {},
     "output_type": "display_data"
    },
    {
     "data": {
      "text/html": [
       "<pre style=\"white-space:pre;overflow-x:auto;line-height:normal;font-family:Menlo,'DejaVu Sans Mono',consolas,'Courier New',monospace\"><span style=\"color: #7fbfbf; text-decoration-color: #7fbfbf\">                    </span><span style=\"color: #800000; text-decoration-color: #800000\">WARNING </span> <span style=\"color: #800080; text-decoration-color: #800080\">/home/rahit/jupyter_py3/lib/python3.8/site-packages/kedro/extras/datas</span> <a href=\"file:///cvmfs/soft.computecanada.ca/easybuild/software/2020/avx2/Core/python/3.8.10/lib/python3.8/warnings.py\" target=\"_blank\"><span style=\"color: #7f7f7f; text-decoration-color: #7f7f7f\">warnings.py</span></a><span style=\"color: #7f7f7f; text-decoration-color: #7f7f7f\">:</span><a href=\"file:///cvmfs/soft.computecanada.ca/easybuild/software/2020/avx2/Core/python/3.8.10/lib/python3.8/warnings.py#109\" target=\"_blank\"><span style=\"color: #7f7f7f; text-decoration-color: #7f7f7f\">109</span></a>\n",
       "<span style=\"color: #7fbfbf; text-decoration-color: #7fbfbf\">                    </span>         <span style=\"color: #800080; text-decoration-color: #800080\">ets/pandas/</span><span style=\"color: #ff00ff; text-decoration-color: #ff00ff\">csv_dataset.py</span>:<span style=\"color: #008080; text-decoration-color: #008080; font-weight: bold\">160</span>: ParserWarning: Falling back to the      <span style=\"color: #7f7f7f; text-decoration-color: #7f7f7f\">               </span>\n",
       "<span style=\"color: #7fbfbf; text-decoration-color: #7fbfbf\">                    </span>         <span style=\"color: #008000; text-decoration-color: #008000\">'python'</span> engine because the <span style=\"color: #008000; text-decoration-color: #008000\">'c'</span> engine does not support regex          <span style=\"color: #7f7f7f; text-decoration-color: #7f7f7f\">               </span>\n",
       "<span style=\"color: #7fbfbf; text-decoration-color: #7fbfbf\">                    </span>         separators <span style=\"font-weight: bold\">(</span>separators &gt; <span style=\"color: #008080; text-decoration-color: #008080; font-weight: bold\">1</span> char and different from <span style=\"color: #008000; text-decoration-color: #008000\">'\\s+'</span> are           <span style=\"color: #7f7f7f; text-decoration-color: #7f7f7f\">               </span>\n",
       "<span style=\"color: #7fbfbf; text-decoration-color: #7fbfbf\">                    </span>         interpreted as regex<span style=\"font-weight: bold\">)</span>; you can avoid this warning by specifying        <span style=\"color: #7f7f7f; text-decoration-color: #7f7f7f\">               </span>\n",
       "<span style=\"color: #7fbfbf; text-decoration-color: #7fbfbf\">                    </span>         <span style=\"color: #808000; text-decoration-color: #808000\">engine</span>=<span style=\"color: #008000; text-decoration-color: #008000\">'python'</span>.                                                       <span style=\"color: #7f7f7f; text-decoration-color: #7f7f7f\">               </span>\n",
       "<span style=\"color: #7fbfbf; text-decoration-color: #7fbfbf\">                    </span>           return <span style=\"color: #800080; text-decoration-color: #800080; font-weight: bold\">pd.read_csv</span><span style=\"font-weight: bold\">(</span>load_path, **self._load_args<span style=\"font-weight: bold\">)</span>                     <span style=\"color: #7f7f7f; text-decoration-color: #7f7f7f\">               </span>\n",
       "<span style=\"color: #7fbfbf; text-decoration-color: #7fbfbf\">                    </span>                                                                                <span style=\"color: #7f7f7f; text-decoration-color: #7f7f7f\">               </span>\n",
       "</pre>\n"
      ],
      "text/plain": [
       "\u001b[2;36m                   \u001b[0m\u001b[2;36m \u001b[0m\u001b[31mWARNING \u001b[0m \u001b[35m/home/rahit/jupyter_py3/lib/python3.8/site-packages/kedro/extras/datas\u001b[0m \u001b]8;id=841401;file:///cvmfs/soft.computecanada.ca/easybuild/software/2020/avx2/Core/python/3.8.10/lib/python3.8/warnings.py\u001b\\\u001b[2mwarnings.py\u001b[0m\u001b]8;;\u001b\\\u001b[2m:\u001b[0m\u001b]8;id=370349;file:///cvmfs/soft.computecanada.ca/easybuild/software/2020/avx2/Core/python/3.8.10/lib/python3.8/warnings.py#109\u001b\\\u001b[2m109\u001b[0m\u001b]8;;\u001b\\\n",
       "\u001b[2;36m                    \u001b[0m         \u001b[35mets/pandas/\u001b[0m\u001b[95mcsv_dataset.py\u001b[0m:\u001b[1;36m160\u001b[0m: ParserWarning: Falling back to the      \u001b[2m               \u001b[0m\n",
       "\u001b[2;36m                    \u001b[0m         \u001b[32m'python'\u001b[0m engine because the \u001b[32m'c'\u001b[0m engine does not support regex          \u001b[2m               \u001b[0m\n",
       "\u001b[2;36m                    \u001b[0m         separators \u001b[1m(\u001b[0mseparators > \u001b[1;36m1\u001b[0m char and different from \u001b[32m'\\s+'\u001b[0m are           \u001b[2m               \u001b[0m\n",
       "\u001b[2;36m                    \u001b[0m         interpreted as regex\u001b[1m)\u001b[0m; you can avoid this warning by specifying        \u001b[2m               \u001b[0m\n",
       "\u001b[2;36m                    \u001b[0m         \u001b[33mengine\u001b[0m=\u001b[32m'python'\u001b[0m.                                                       \u001b[2m               \u001b[0m\n",
       "\u001b[2;36m                    \u001b[0m           return \u001b[1;35mpd.read_csv\u001b[0m\u001b[1m(\u001b[0mload_path, **self._load_args\u001b[1m)\u001b[0m                     \u001b[2m               \u001b[0m\n",
       "\u001b[2;36m                    \u001b[0m                                                                                \u001b[2m               \u001b[0m\n"
      ]
     },
     "metadata": {},
     "output_type": "display_data"
    },
    {
     "data": {
      "text/html": [
       "<pre style=\"white-space:pre;overflow-x:auto;line-height:normal;font-family:Menlo,'DejaVu Sans Mono',consolas,'Courier New',monospace\"><span style=\"color: #7fbfbf; text-decoration-color: #7fbfbf\">                    </span><span style=\"color: #000080; text-decoration-color: #000080\">INFO    </span> Loading data from <span style=\"color: #008000; text-decoration-color: #008000\">'olida_gene_combinations'</span> <span style=\"font-weight: bold\">(</span>CSVDataSet<span style=\"font-weight: bold\">)</span><span style=\"color: #808000; text-decoration-color: #808000\">...</span>        <a href=\"file:///home/rahit/jupyter_py3/lib/python3.8/site-packages/kedro/io/data_catalog.py\" target=\"_blank\"><span style=\"color: #7f7f7f; text-decoration-color: #7f7f7f\">data_catalog.py</span></a><span style=\"color: #7f7f7f; text-decoration-color: #7f7f7f\">:</span><a href=\"file:///home/rahit/jupyter_py3/lib/python3.8/site-packages/kedro/io/data_catalog.py#492\" target=\"_blank\"><span style=\"color: #7f7f7f; text-decoration-color: #7f7f7f\">492</span></a>\n",
       "</pre>\n"
      ],
      "text/plain": [
       "\u001b[2;36m                   \u001b[0m\u001b[2;36m \u001b[0m\u001b[34mINFO    \u001b[0m Loading data from \u001b[32m'olida_gene_combinations'\u001b[0m \u001b[1m(\u001b[0mCSVDataSet\u001b[1m)\u001b[0m\u001b[33m...\u001b[0m        \u001b]8;id=833504;file:///home/rahit/jupyter_py3/lib/python3.8/site-packages/kedro/io/data_catalog.py\u001b\\\u001b[2mdata_catalog.py\u001b[0m\u001b]8;;\u001b\\\u001b[2m:\u001b[0m\u001b]8;id=166230;file:///home/rahit/jupyter_py3/lib/python3.8/site-packages/kedro/io/data_catalog.py#492\u001b\\\u001b[2m492\u001b[0m\u001b]8;;\u001b\\\n"
      ]
     },
     "metadata": {},
     "output_type": "display_data"
    },
    {
     "data": {
      "text/html": [
       "<pre style=\"white-space:pre;overflow-x:auto;line-height:normal;font-family:Menlo,'DejaVu Sans Mono',consolas,'Courier New',monospace\"><span style=\"color: #7fbfbf; text-decoration-color: #7fbfbf\">                    </span><span style=\"color: #000080; text-decoration-color: #000080\">INFO    </span> Loading data from <span style=\"color: #008000; text-decoration-color: #008000\">'olida_gene_combinations'</span> <span style=\"font-weight: bold\">(</span>CSVDataSet<span style=\"font-weight: bold\">)</span><span style=\"color: #808000; text-decoration-color: #808000\">...</span>        <a href=\"file:///home/rahit/jupyter_py3/lib/python3.8/site-packages/kedro/io/data_catalog.py\" target=\"_blank\"><span style=\"color: #7f7f7f; text-decoration-color: #7f7f7f\">data_catalog.py</span></a><span style=\"color: #7f7f7f; text-decoration-color: #7f7f7f\">:</span><a href=\"file:///home/rahit/jupyter_py3/lib/python3.8/site-packages/kedro/io/data_catalog.py#492\" target=\"_blank\"><span style=\"color: #7f7f7f; text-decoration-color: #7f7f7f\">492</span></a>\n",
       "</pre>\n"
      ],
      "text/plain": [
       "\u001b[2;36m                   \u001b[0m\u001b[2;36m \u001b[0m\u001b[34mINFO    \u001b[0m Loading data from \u001b[32m'olida_gene_combinations'\u001b[0m \u001b[1m(\u001b[0mCSVDataSet\u001b[1m)\u001b[0m\u001b[33m...\u001b[0m        \u001b]8;id=110034;file:///home/rahit/jupyter_py3/lib/python3.8/site-packages/kedro/io/data_catalog.py\u001b\\\u001b[2mdata_catalog.py\u001b[0m\u001b]8;;\u001b\\\u001b[2m:\u001b[0m\u001b]8;id=221155;file:///home/rahit/jupyter_py3/lib/python3.8/site-packages/kedro/io/data_catalog.py#492\u001b\\\u001b[2m492\u001b[0m\u001b]8;;\u001b\\\n"
      ]
     },
     "metadata": {},
     "output_type": "display_data"
    },
    {
     "data": {
      "text/html": [
       "<pre style=\"white-space:pre;overflow-x:auto;line-height:normal;font-family:Menlo,'DejaVu Sans Mono',consolas,'Courier New',monospace\"><span style=\"color: #7fbfbf; text-decoration-color: #7fbfbf\">                    </span><span style=\"color: #800000; text-decoration-color: #800000\">WARNING </span> <span style=\"color: #800080; text-decoration-color: #800080\">/home/rahit/jupyter_py3/lib/python3.8/site-packages/kedro/extras/datas</span> <a href=\"file:///cvmfs/soft.computecanada.ca/easybuild/software/2020/avx2/Core/python/3.8.10/lib/python3.8/warnings.py\" target=\"_blank\"><span style=\"color: #7f7f7f; text-decoration-color: #7f7f7f\">warnings.py</span></a><span style=\"color: #7f7f7f; text-decoration-color: #7f7f7f\">:</span><a href=\"file:///cvmfs/soft.computecanada.ca/easybuild/software/2020/avx2/Core/python/3.8.10/lib/python3.8/warnings.py#109\" target=\"_blank\"><span style=\"color: #7f7f7f; text-decoration-color: #7f7f7f\">109</span></a>\n",
       "<span style=\"color: #7fbfbf; text-decoration-color: #7fbfbf\">                    </span>         <span style=\"color: #800080; text-decoration-color: #800080\">ets/pandas/</span><span style=\"color: #ff00ff; text-decoration-color: #ff00ff\">csv_dataset.py</span>:<span style=\"color: #008080; text-decoration-color: #008080; font-weight: bold\">160</span>: ParserWarning: Falling back to the      <span style=\"color: #7f7f7f; text-decoration-color: #7f7f7f\">               </span>\n",
       "<span style=\"color: #7fbfbf; text-decoration-color: #7fbfbf\">                    </span>         <span style=\"color: #008000; text-decoration-color: #008000\">'python'</span> engine because the <span style=\"color: #008000; text-decoration-color: #008000\">'c'</span> engine does not support regex          <span style=\"color: #7f7f7f; text-decoration-color: #7f7f7f\">               </span>\n",
       "<span style=\"color: #7fbfbf; text-decoration-color: #7fbfbf\">                    </span>         separators <span style=\"font-weight: bold\">(</span>separators &gt; <span style=\"color: #008080; text-decoration-color: #008080; font-weight: bold\">1</span> char and different from <span style=\"color: #008000; text-decoration-color: #008000\">'\\s+'</span> are           <span style=\"color: #7f7f7f; text-decoration-color: #7f7f7f\">               </span>\n",
       "<span style=\"color: #7fbfbf; text-decoration-color: #7fbfbf\">                    </span>         interpreted as regex<span style=\"font-weight: bold\">)</span>; you can avoid this warning by specifying        <span style=\"color: #7f7f7f; text-decoration-color: #7f7f7f\">               </span>\n",
       "<span style=\"color: #7fbfbf; text-decoration-color: #7fbfbf\">                    </span>         <span style=\"color: #808000; text-decoration-color: #808000\">engine</span>=<span style=\"color: #008000; text-decoration-color: #008000\">'python'</span>.                                                       <span style=\"color: #7f7f7f; text-decoration-color: #7f7f7f\">               </span>\n",
       "<span style=\"color: #7fbfbf; text-decoration-color: #7fbfbf\">                    </span>           return <span style=\"color: #800080; text-decoration-color: #800080; font-weight: bold\">pd.read_csv</span><span style=\"font-weight: bold\">(</span>load_path, **self._load_args<span style=\"font-weight: bold\">)</span>                     <span style=\"color: #7f7f7f; text-decoration-color: #7f7f7f\">               </span>\n",
       "<span style=\"color: #7fbfbf; text-decoration-color: #7fbfbf\">                    </span>                                                                                <span style=\"color: #7f7f7f; text-decoration-color: #7f7f7f\">               </span>\n",
       "</pre>\n"
      ],
      "text/plain": [
       "\u001b[2;36m                   \u001b[0m\u001b[2;36m \u001b[0m\u001b[31mWARNING \u001b[0m \u001b[35m/home/rahit/jupyter_py3/lib/python3.8/site-packages/kedro/extras/datas\u001b[0m \u001b]8;id=193815;file:///cvmfs/soft.computecanada.ca/easybuild/software/2020/avx2/Core/python/3.8.10/lib/python3.8/warnings.py\u001b\\\u001b[2mwarnings.py\u001b[0m\u001b]8;;\u001b\\\u001b[2m:\u001b[0m\u001b]8;id=692114;file:///cvmfs/soft.computecanada.ca/easybuild/software/2020/avx2/Core/python/3.8.10/lib/python3.8/warnings.py#109\u001b\\\u001b[2m109\u001b[0m\u001b]8;;\u001b\\\n",
       "\u001b[2;36m                    \u001b[0m         \u001b[35mets/pandas/\u001b[0m\u001b[95mcsv_dataset.py\u001b[0m:\u001b[1;36m160\u001b[0m: ParserWarning: Falling back to the      \u001b[2m               \u001b[0m\n",
       "\u001b[2;36m                    \u001b[0m         \u001b[32m'python'\u001b[0m engine because the \u001b[32m'c'\u001b[0m engine does not support regex          \u001b[2m               \u001b[0m\n",
       "\u001b[2;36m                    \u001b[0m         separators \u001b[1m(\u001b[0mseparators > \u001b[1;36m1\u001b[0m char and different from \u001b[32m'\\s+'\u001b[0m are           \u001b[2m               \u001b[0m\n",
       "\u001b[2;36m                    \u001b[0m         interpreted as regex\u001b[1m)\u001b[0m; you can avoid this warning by specifying        \u001b[2m               \u001b[0m\n",
       "\u001b[2;36m                    \u001b[0m         \u001b[33mengine\u001b[0m=\u001b[32m'python'\u001b[0m.                                                       \u001b[2m               \u001b[0m\n",
       "\u001b[2;36m                    \u001b[0m           return \u001b[1;35mpd.read_csv\u001b[0m\u001b[1m(\u001b[0mload_path, **self._load_args\u001b[1m)\u001b[0m                     \u001b[2m               \u001b[0m\n",
       "\u001b[2;36m                    \u001b[0m                                                                                \u001b[2m               \u001b[0m\n"
      ]
     },
     "metadata": {},
     "output_type": "display_data"
    }
   ],
   "source": [
    "olida_comb = catalog.load('olida_combinations').pipe(remove_quotes)\n",
    "# olida_genes = catalog.load('olida_genes') # pd.read_csv('./data/01_raw/olida/Gene.tsv', sep='\\t')\n",
    "olida_gene_comb = catalog.load('olida_gene_combinations').pipe(remove_quotes) #pd.read_csv('./data/01_raw/olida/GeneCombination.tsv', sep='\\t')"
   ]
  },
  {
   "cell_type": "code",
   "execution_count": 16,
   "id": "9b9129f3",
   "metadata": {},
   "outputs": [
    {
     "data": {
      "text/html": [
       "<pre style=\"white-space:pre;overflow-x:auto;line-height:normal;font-family:Menlo,'DejaVu Sans Mono',consolas,'Courier New',monospace\"><span style=\"font-weight: bold\">(</span><span style=\"color: #008080; text-decoration-color: #008080; font-weight: bold\">1610</span>, <span style=\"color: #008080; text-decoration-color: #008080; font-weight: bold\">22</span><span style=\"font-weight: bold\">)</span>\n",
       "</pre>\n"
      ],
      "text/plain": [
       "\u001b[1m(\u001b[0m\u001b[1;36m1610\u001b[0m, \u001b[1;36m22\u001b[0m\u001b[1m)\u001b[0m\n"
      ]
     },
     "metadata": {},
     "output_type": "display_data"
    },
    {
     "data": {
      "text/html": [
       "<pre style=\"white-space:pre;overflow-x:auto;line-height:normal;font-family:Menlo,'DejaVu Sans Mono',consolas,'Courier New',monospace\"><span style=\"font-weight: bold\">(</span><span style=\"color: #008080; text-decoration-color: #008080; font-weight: bold\">1138</span>, <span style=\"color: #008080; text-decoration-color: #008080; font-weight: bold\">7</span><span style=\"font-weight: bold\">)</span>\n",
       "</pre>\n"
      ],
      "text/plain": [
       "\u001b[1m(\u001b[0m\u001b[1;36m1138\u001b[0m, \u001b[1;36m7\u001b[0m\u001b[1m)\u001b[0m\n"
      ]
     },
     "metadata": {},
     "output_type": "display_data"
    }
   ],
   "source": [
    "print(olida_comb.shape)\n",
    "# print(olida_genes.shape)\n",
    "print(olida_gene_comb.shape)"
   ]
  },
  {
   "cell_type": "markdown",
   "metadata": {},
   "source": [
    "JVL related"
   ]
  },
  {
   "cell_type": "code",
   "execution_count": 17,
   "id": "c0eb6220-727d-4770-91f1-f7b754795bdf",
   "metadata": {
    "tags": []
   },
   "outputs": [
    {
     "data": {
      "text/html": [
       "<pre style=\"white-space:pre;overflow-x:auto;line-height:normal;font-family:Menlo,'DejaVu Sans Mono',consolas,'Courier New',monospace\"><span style=\"color: #7fbfbf; text-decoration-color: #7fbfbf\">[12/10/23 01:48:16] </span><span style=\"color: #000080; text-decoration-color: #000080\">INFO    </span> Loading data from <span style=\"color: #008000; text-decoration-color: #008000\">'jvl'</span> <span style=\"font-weight: bold\">(</span>ExcelDataSet<span style=\"font-weight: bold\">)</span><span style=\"color: #808000; text-decoration-color: #808000\">...</span>                          <a href=\"file:///home/rahit/jupyter_py3/lib/python3.8/site-packages/kedro/io/data_catalog.py\" target=\"_blank\"><span style=\"color: #7f7f7f; text-decoration-color: #7f7f7f\">data_catalog.py</span></a><span style=\"color: #7f7f7f; text-decoration-color: #7f7f7f\">:</span><a href=\"file:///home/rahit/jupyter_py3/lib/python3.8/site-packages/kedro/io/data_catalog.py#492\" target=\"_blank\"><span style=\"color: #7f7f7f; text-decoration-color: #7f7f7f\">492</span></a>\n",
       "</pre>\n"
      ],
      "text/plain": [
       "\u001b[2;36m[12/10/23 01:48:16]\u001b[0m\u001b[2;36m \u001b[0m\u001b[34mINFO    \u001b[0m Loading data from \u001b[32m'jvl'\u001b[0m \u001b[1m(\u001b[0mExcelDataSet\u001b[1m)\u001b[0m\u001b[33m...\u001b[0m                          \u001b]8;id=552403;file:///home/rahit/jupyter_py3/lib/python3.8/site-packages/kedro/io/data_catalog.py\u001b\\\u001b[2mdata_catalog.py\u001b[0m\u001b]8;;\u001b\\\u001b[2m:\u001b[0m\u001b]8;id=451336;file:///home/rahit/jupyter_py3/lib/python3.8/site-packages/kedro/io/data_catalog.py#492\u001b\\\u001b[2m492\u001b[0m\u001b]8;;\u001b\\\n"
      ]
     },
     "metadata": {},
     "output_type": "display_data"
    },
    {
     "data": {
      "text/html": [
       "<pre style=\"white-space:pre;overflow-x:auto;line-height:normal;font-family:Menlo,'DejaVu Sans Mono',consolas,'Courier New',monospace\"><span style=\"color: #7fbfbf; text-decoration-color: #7fbfbf\">                    </span><span style=\"color: #000080; text-decoration-color: #000080\">INFO    </span> Loading data from <span style=\"color: #008000; text-decoration-color: #008000\">'jvl'</span> <span style=\"font-weight: bold\">(</span>ExcelDataSet<span style=\"font-weight: bold\">)</span><span style=\"color: #808000; text-decoration-color: #808000\">...</span>                          <a href=\"file:///home/rahit/jupyter_py3/lib/python3.8/site-packages/kedro/io/data_catalog.py\" target=\"_blank\"><span style=\"color: #7f7f7f; text-decoration-color: #7f7f7f\">data_catalog.py</span></a><span style=\"color: #7f7f7f; text-decoration-color: #7f7f7f\">:</span><a href=\"file:///home/rahit/jupyter_py3/lib/python3.8/site-packages/kedro/io/data_catalog.py#492\" target=\"_blank\"><span style=\"color: #7f7f7f; text-decoration-color: #7f7f7f\">492</span></a>\n",
       "</pre>\n"
      ],
      "text/plain": [
       "\u001b[2;36m                   \u001b[0m\u001b[2;36m \u001b[0m\u001b[34mINFO    \u001b[0m Loading data from \u001b[32m'jvl'\u001b[0m \u001b[1m(\u001b[0mExcelDataSet\u001b[1m)\u001b[0m\u001b[33m...\u001b[0m                          \u001b]8;id=146920;file:///home/rahit/jupyter_py3/lib/python3.8/site-packages/kedro/io/data_catalog.py\u001b\\\u001b[2mdata_catalog.py\u001b[0m\u001b]8;;\u001b\\\u001b[2m:\u001b[0m\u001b]8;id=702419;file:///home/rahit/jupyter_py3/lib/python3.8/site-packages/kedro/io/data_catalog.py#492\u001b\\\u001b[2m492\u001b[0m\u001b]8;;\u001b\\\n"
      ]
     },
     "metadata": {},
     "output_type": "display_data"
    },
    {
     "data": {
      "text/html": [
       "<pre style=\"white-space:pre;overflow-x:auto;line-height:normal;font-family:Menlo,'DejaVu Sans Mono',consolas,'Courier New',monospace\">JVL shap: <span style=\"font-weight: bold\">(</span><span style=\"color: #008080; text-decoration-color: #008080; font-weight: bold\">932</span>, <span style=\"color: #008080; text-decoration-color: #008080; font-weight: bold\">18</span><span style=\"font-weight: bold\">)</span>\n",
       "</pre>\n"
      ],
      "text/plain": [
       "JVL shap: \u001b[1m(\u001b[0m\u001b[1;36m932\u001b[0m, \u001b[1;36m18\u001b[0m\u001b[1m)\u001b[0m\n"
      ]
     },
     "metadata": {},
     "output_type": "display_data"
    }
   ],
   "source": [
    "jvl = catalog.load('jvl')\n",
    "print(f\"JVL shap: {jvl.shape}\")"
   ]
  },
  {
   "cell_type": "markdown",
   "id": "ac745a16",
   "metadata": {},
   "source": [
    "## 🔍 Adding Ontology Annotation to each Dataset\n",
    "In this step, we're conducting a thorough examination of our data sources. Our goal is to ensure standardization across all sources, which will facilitate smoother processing down the line. Standardization here means that the data is clean, consistent, and in a format that our later processes can easily handle. \n",
    "\n",
    "Ideally, each dataset should have at least two columns (target and modifier) containing gene symbols. These gene symbols are crucial as they serve as unique identifiers for our genetic data. Having these in each dataset ensures we can accurately cross-reference and analyze our data across multiple sources. 🧬🔬"
   ]
  },
  {
   "cell_type": "markdown",
   "metadata": {},
   "source": [
    "### 📚 Ontologies"
   ]
  },
  {
   "cell_type": "code",
   "execution_count": 18,
   "id": "ff6fdf09",
   "metadata": {},
   "outputs": [],
   "source": [
    "def add_annotation(df: pd.DataFrame, src_trgt_cols: list, term_id_map: dict):\n",
    "    # Adding a new column to df for Ontology IDs associated with each gene in source_col\n",
    "    for source, target in src_trgt_cols:\n",
    "        df[target] = df[source].map(term_id_map)\n",
    "        df[target+'_count'] = df[target].apply(lambda x: len(x.split(',')) if isinstance(x, str) else 0)\n",
    "    return df"
   ]
  },
  {
   "cell_type": "code",
   "execution_count": 19,
   "id": "e4628897",
   "metadata": {},
   "outputs": [],
   "source": [
    "# Creating mappin of genes to their associated ontology term IDs\n",
    "onto_to_gene_map = {\n",
    "    'human': {\n",
    "        'GO': up_goa.groupby('DB_Object_Symbol')['GO_ID'].apply(lambda x: ','.join(x)).to_dict(),\n",
    "        'PO': hpoa.groupby('gene_symbol')['hpo_id'].apply(lambda x: ','.join(x)).to_dict(),\n",
    "        'DO': human_doa.groupby('DBObjectSymbol')['DOID'].apply(lambda x: ','.join(x)).to_dict(),\n",
    "    },\n",
    "    'celegans': {\n",
    "        'GO': wb_goa.groupby('DB_Object_Symbol')['GO_ID'].apply(lambda x: ','.join(x)).to_dict(),\n",
    "        'PO': wb_poa.groupby('DB_Object_Symbol')['GO_ID'].apply(lambda x: ','.join(x)).to_dict(),\n",
    "        'DO': worm_doa.groupby('DBObjectSymbol')['DOID'].apply(lambda x: ','.join(x)).to_dict(),\n",
    "    }\n",
    "}"
   ]
  },
  {
   "cell_type": "code",
   "execution_count": 20,
   "id": "f48c9475",
   "metadata": {},
   "outputs": [],
   "source": [
    "\n",
    "src_trgt_cols = {\n",
    "    'MTG': [\n",
    "        [('target_gene_symbol', 'target_GOs'), ('gene_symbol', 'modifier_GOs')],\n",
    "        [('target_gene_symbol', 'target_POs'), ('gene_symbol', 'modifier_POs')],\n",
    "        [('target_gene_symbol', 'target_DOs'), ('gene_symbol', 'modifier_DOs')],\n",
    "    ],\n",
    "    'OLIDA': [\n",
    "        [('gene_a', 'target_GOs'), ('gene_b', 'modifier_GOs')],\n",
    "        [('gene_a', 'target_POs'), ('gene_b', 'modifier_POs')],\n",
    "        [('gene_a', 'target_DOs'), ('gene_b', 'modifier_DOs')],\n",
    "    ],\n",
    "    'JVL': [\n",
    "        [('QueryGene', 'target_GOs'), ('SuppressorGene', 'modifier_GOs')],\n",
    "        [('QueryGene', 'target_POs'), ('SuppressorGene', 'modifier_POs')],\n",
    "        [('QueryGene', 'target_DOs'), ('SuppressorGene', 'modifier_DOs')],\n",
    "    ],\n",
    "}"
   ]
  },
  {
   "cell_type": "markdown",
   "metadata": {},
   "source": [
    "##### 1️⃣ MTG"
   ]
  },
  {
   "cell_type": "code",
   "execution_count": 21,
   "metadata": {},
   "outputs": [],
   "source": [
    "# Setting modifier value to int 1\n",
    "true_mods['is_modifier'] = 1"
   ]
  },
  {
   "cell_type": "code",
   "execution_count": 22,
   "metadata": {},
   "outputs": [
    {
     "data": {
      "text/html": [
       "<pre style=\"white-space:pre;overflow-x:auto;line-height:normal;font-family:Menlo,'DejaVu Sans Mono',consolas,'Courier New',monospace\">Old dataframe shape: <span style=\"font-weight: bold\">(</span><span style=\"color: #008080; text-decoration-color: #008080; font-weight: bold\">7854</span>, <span style=\"color: #008080; text-decoration-color: #008080; font-weight: bold\">102</span><span style=\"font-weight: bold\">)</span>\n",
       "</pre>\n"
      ],
      "text/plain": [
       "Old dataframe shape: \u001b[1m(\u001b[0m\u001b[1;36m7854\u001b[0m, \u001b[1;36m102\u001b[0m\u001b[1m)\u001b[0m\n"
      ]
     },
     "metadata": {},
     "output_type": "display_data"
    },
    {
     "data": {
      "text/html": [
       "<pre style=\"white-space:pre;overflow-x:auto;line-height:normal;font-family:Menlo,'DejaVu Sans Mono',consolas,'Courier New',monospace\">New dataframe shape: <span style=\"font-weight: bold\">(</span><span style=\"color: #008080; text-decoration-color: #008080; font-weight: bold\">7854</span>, <span style=\"color: #008080; text-decoration-color: #008080; font-weight: bold\">156</span><span style=\"font-weight: bold\">)</span>\n",
       "</pre>\n"
      ],
      "text/plain": [
       "New dataframe shape: \u001b[1m(\u001b[0m\u001b[1;36m7854\u001b[0m, \u001b[1;36m156\u001b[0m\u001b[1m)\u001b[0m\n"
      ]
     },
     "metadata": {},
     "output_type": "display_data"
    }
   ],
   "source": [
    "# Merge dataframes (to use already calculated similarity values and consistency)\n",
    "print(f\"Old dataframe shape: {df.shape}\")\n",
    "paired_df = df.merge(paired_score_df, how='left', on=['wormbase_gene_id','target_gene_id'])\n",
    "print(f\"New dataframe shape: {paired_df.shape}\")"
   ]
  },
  {
   "cell_type": "code",
   "execution_count": 23,
   "metadata": {},
   "outputs": [
    {
     "data": {
      "text/html": [
       "<div>\n",
       "<style scoped>\n",
       "    .dataframe tbody tr th:only-of-type {\n",
       "        vertical-align: middle;\n",
       "    }\n",
       "\n",
       "    .dataframe tbody tr th {\n",
       "        vertical-align: top;\n",
       "    }\n",
       "\n",
       "    .dataframe thead th {\n",
       "        text-align: right;\n",
       "    }\n",
       "</style>\n",
       "<table border=\"1\" class=\"dataframe\">\n",
       "  <thead>\n",
       "    <tr style=\"text-align: right;\">\n",
       "      <th></th>\n",
       "      <th>Sample</th>\n",
       "      <th>chromosome</th>\n",
       "      <th>position</th>\n",
       "      <th>ref</th>\n",
       "      <th>alt</th>\n",
       "      <th>wormbase_gene_id</th>\n",
       "      <th>gene_symbol</th>\n",
       "      <th>gene_start_position</th>\n",
       "      <th>gene_end_position</th>\n",
       "      <th>strain</th>\n",
       "      <th>...</th>\n",
       "      <th>wpo_lin_max</th>\n",
       "      <th>wpo_lin_avg</th>\n",
       "      <th>wpo_lin_bma</th>\n",
       "      <th>wpo_jiang_max</th>\n",
       "      <th>wpo_jiang_avg</th>\n",
       "      <th>wpo_jiang_bma</th>\n",
       "      <th>wpo_jiang_seco_max</th>\n",
       "      <th>wpo_jiang_seco_avg</th>\n",
       "      <th>wpo_jiang_seco_bma</th>\n",
       "      <th>is_modifier</th>\n",
       "    </tr>\n",
       "  </thead>\n",
       "  <tbody>\n",
       "    <tr>\n",
       "      <th>0</th>\n",
       "      <td>MTG93</td>\n",
       "      <td>I</td>\n",
       "      <td>13162538</td>\n",
       "      <td>G</td>\n",
       "      <td>A</td>\n",
       "      <td>WBGene00009065</td>\n",
       "      <td>F22G12.5</td>\n",
       "      <td>13162492</td>\n",
       "      <td>13182725.0</td>\n",
       "      <td>93</td>\n",
       "      <td>...</td>\n",
       "      <td>0.0</td>\n",
       "      <td>0.000000</td>\n",
       "      <td>0.000000</td>\n",
       "      <td>0.0</td>\n",
       "      <td>0.000000</td>\n",
       "      <td>0.000000</td>\n",
       "      <td>0.0</td>\n",
       "      <td>0.000000</td>\n",
       "      <td>0.000000</td>\n",
       "      <td>0.0</td>\n",
       "    </tr>\n",
       "    <tr>\n",
       "      <th>1</th>\n",
       "      <td>MTG93</td>\n",
       "      <td>II</td>\n",
       "      <td>3797021</td>\n",
       "      <td>T</td>\n",
       "      <td>C</td>\n",
       "      <td>WBGene00021171</td>\n",
       "      <td>Y8A9A.2</td>\n",
       "      <td>3795623</td>\n",
       "      <td>3800608.0</td>\n",
       "      <td>93</td>\n",
       "      <td>...</td>\n",
       "      <td>0.0</td>\n",
       "      <td>0.000000</td>\n",
       "      <td>0.000000</td>\n",
       "      <td>0.0</td>\n",
       "      <td>0.000000</td>\n",
       "      <td>0.000000</td>\n",
       "      <td>0.0</td>\n",
       "      <td>0.000000</td>\n",
       "      <td>0.000000</td>\n",
       "      <td>0.0</td>\n",
       "    </tr>\n",
       "    <tr>\n",
       "      <th>2</th>\n",
       "      <td>MTG93</td>\n",
       "      <td>II</td>\n",
       "      <td>9362312</td>\n",
       "      <td>G</td>\n",
       "      <td>A</td>\n",
       "      <td>WBGene00003196</td>\n",
       "      <td>mel-11</td>\n",
       "      <td>9358531</td>\n",
       "      <td>9369098.0</td>\n",
       "      <td>93</td>\n",
       "      <td>...</td>\n",
       "      <td>1.0</td>\n",
       "      <td>0.334903</td>\n",
       "      <td>0.780028</td>\n",
       "      <td>1.0</td>\n",
       "      <td>0.123475</td>\n",
       "      <td>0.491183</td>\n",
       "      <td>1.0</td>\n",
       "      <td>0.310373</td>\n",
       "      <td>0.812368</td>\n",
       "      <td>0.0</td>\n",
       "    </tr>\n",
       "    <tr>\n",
       "      <th>3</th>\n",
       "      <td>MTG93</td>\n",
       "      <td>III</td>\n",
       "      <td>10045380</td>\n",
       "      <td>C</td>\n",
       "      <td>T</td>\n",
       "      <td>WBGene00011803</td>\n",
       "      <td>T16G12.1</td>\n",
       "      <td>10040191</td>\n",
       "      <td>10049857.0</td>\n",
       "      <td>93</td>\n",
       "      <td>...</td>\n",
       "      <td>1.0</td>\n",
       "      <td>0.414459</td>\n",
       "      <td>0.485633</td>\n",
       "      <td>1.0</td>\n",
       "      <td>0.147428</td>\n",
       "      <td>0.213067</td>\n",
       "      <td>1.0</td>\n",
       "      <td>0.442764</td>\n",
       "      <td>0.556453</td>\n",
       "      <td>0.0</td>\n",
       "    </tr>\n",
       "    <tr>\n",
       "      <th>4</th>\n",
       "      <td>MTG93</td>\n",
       "      <td>III</td>\n",
       "      <td>10333748</td>\n",
       "      <td>G</td>\n",
       "      <td>A</td>\n",
       "      <td>WBGene00011563</td>\n",
       "      <td>jmjd-4</td>\n",
       "      <td>10332526</td>\n",
       "      <td>10334083.0</td>\n",
       "      <td>93</td>\n",
       "      <td>...</td>\n",
       "      <td>1.0</td>\n",
       "      <td>0.343568</td>\n",
       "      <td>0.516151</td>\n",
       "      <td>1.0</td>\n",
       "      <td>0.138143</td>\n",
       "      <td>0.291885</td>\n",
       "      <td>1.0</td>\n",
       "      <td>0.371137</td>\n",
       "      <td>0.600209</td>\n",
       "      <td>0.0</td>\n",
       "    </tr>\n",
       "  </tbody>\n",
       "</table>\n",
       "<p>5 rows × 156 columns</p>\n",
       "</div>"
      ],
      "text/plain": [
       "  Sample chromosome  position ref alt wormbase_gene_id gene_symbol  \\\n",
       "0  MTG93          I  13162538   G   A   WBGene00009065    F22G12.5   \n",
       "1  MTG93         II   3797021   T   C   WBGene00021171     Y8A9A.2   \n",
       "2  MTG93         II   9362312   G   A   WBGene00003196      mel-11   \n",
       "3  MTG93        III  10045380   C   T   WBGene00011803    T16G12.1   \n",
       "4  MTG93        III  10333748   G   A   WBGene00011563      jmjd-4   \n",
       "\n",
       "  gene_start_position  gene_end_position  strain  ... wpo_lin_max wpo_lin_avg  \\\n",
       "0            13162492         13182725.0      93  ...         0.0    0.000000   \n",
       "1             3795623          3800608.0      93  ...         0.0    0.000000   \n",
       "2             9358531          9369098.0      93  ...         1.0    0.334903   \n",
       "3            10040191         10049857.0      93  ...         1.0    0.414459   \n",
       "4            10332526         10334083.0      93  ...         1.0    0.343568   \n",
       "\n",
       "  wpo_lin_bma  wpo_jiang_max  wpo_jiang_avg  wpo_jiang_bma  \\\n",
       "0    0.000000            0.0       0.000000       0.000000   \n",
       "1    0.000000            0.0       0.000000       0.000000   \n",
       "2    0.780028            1.0       0.123475       0.491183   \n",
       "3    0.485633            1.0       0.147428       0.213067   \n",
       "4    0.516151            1.0       0.138143       0.291885   \n",
       "\n",
       "   wpo_jiang_seco_max  wpo_jiang_seco_avg  wpo_jiang_seco_bma  is_modifier  \n",
       "0                 0.0            0.000000            0.000000          0.0  \n",
       "1                 0.0            0.000000            0.000000          0.0  \n",
       "2                 1.0            0.310373            0.812368          0.0  \n",
       "3                 1.0            0.442764            0.556453          0.0  \n",
       "4                 1.0            0.371137            0.600209          0.0  \n",
       "\n",
       "[5 rows x 156 columns]"
      ]
     },
     "execution_count": 23,
     "metadata": {},
     "output_type": "execute_result"
    }
   ],
   "source": [
    "# now merging data table containing true modifiers\n",
    "m_df = pd.merge(paired_df, true_mods, how='left', on=['Sample', 'gene_symbol']).drop('index', axis=1).fillna(0)\n",
    "confirmed_samples = m_df[m_df['is_modifier']==True]['Sample'].unique()\n",
    "m_df = m_df[m_df['Sample'].isin(confirmed_samples)]\n",
    "m_df.head()"
   ]
  },
  {
   "cell_type": "code",
   "execution_count": 24,
   "metadata": {},
   "outputs": [
    {
     "data": {
      "text/html": [
       "<pre style=\"white-space:pre;overflow-x:auto;line-height:normal;font-family:Menlo,'DejaVu Sans Mono',consolas,'Courier New',monospace\"># of Samples: <span style=\"color: #008080; text-decoration-color: #008080; font-weight: bold\">71</span>\n",
       "</pre>\n"
      ],
      "text/plain": [
       "# of Samples: \u001b[1;36m71\u001b[0m\n"
      ]
     },
     "metadata": {},
     "output_type": "display_data"
    },
    {
     "data": {
      "text/html": [
       "<pre style=\"white-space:pre;overflow-x:auto;line-height:normal;font-family:Menlo,'DejaVu Sans Mono',consolas,'Courier New',monospace\"># of Unique Genes: <span style=\"color: #008080; text-decoration-color: #008080; font-weight: bold\">5182</span>\n",
       "</pre>\n"
      ],
      "text/plain": [
       "# of Unique Genes: \u001b[1;36m5182\u001b[0m\n"
      ]
     },
     "metadata": {},
     "output_type": "display_data"
    },
    {
     "data": {
      "text/html": [
       "<pre style=\"white-space:pre;overflow-x:auto;line-height:normal;font-family:Menlo,'DejaVu Sans Mono',consolas,'Courier New',monospace\"># of Variants: <span style=\"color: #008080; text-decoration-color: #008080; font-weight: bold\">7330</span>\n",
       "</pre>\n"
      ],
      "text/plain": [
       "# of Variants: \u001b[1;36m7330\u001b[0m\n"
      ]
     },
     "metadata": {},
     "output_type": "display_data"
    },
    {
     "data": {
      "text/html": [
       "<pre style=\"white-space:pre;overflow-x:auto;line-height:normal;font-family:Menlo,'DejaVu Sans Mono',consolas,'Courier New',monospace\"># of columns: <span style=\"color: #008080; text-decoration-color: #008080; font-weight: bold\">156</span>\n",
       "</pre>\n"
      ],
      "text/plain": [
       "# of columns: \u001b[1;36m156\u001b[0m\n"
      ]
     },
     "metadata": {},
     "output_type": "display_data"
    }
   ],
   "source": [
    "print(f\"# of Samples: {len(m_df['Sample'].unique())}\")\n",
    "print(f\"# of Unique Genes: {len(m_df['wormbase_gene_id'].unique())}\")\n",
    "print(f\"# of Variants: {m_df.shape[0]}\")\n",
    "print(f\"# of columns: {len(m_df.columns)}\")"
   ]
  },
  {
   "cell_type": "code",
   "execution_count": 25,
   "metadata": {},
   "outputs": [
    {
     "data": {
      "text/html": [
       "<pre style=\"white-space:pre;overflow-x:auto;line-height:normal;font-family:Menlo,'DejaVu Sans Mono',consolas,'Courier New',monospace\">Last column: is_modifier\n",
       "</pre>\n"
      ],
      "text/plain": [
       "Last column: is_modifier\n"
      ]
     },
     "metadata": {},
     "output_type": "display_data"
    }
   ],
   "source": [
    "print(f\"Last column: {m_df.columns[-1]}\")"
   ]
  },
  {
   "cell_type": "code",
   "execution_count": 26,
   "id": "b1b742fe",
   "metadata": {},
   "outputs": [
    {
     "data": {
      "text/plain": [
       "['Sample',\n",
       " 'chromosome',\n",
       " 'position',\n",
       " 'ref',\n",
       " 'alt',\n",
       " 'wormbase_gene_id',\n",
       " 'gene_symbol',\n",
       " 'gene_start_position',\n",
       " 'gene_end_position',\n",
       " 'strain',\n",
       " 'variant_id',\n",
       " 'target_gene_id',\n",
       " 'target_gene_symbol',\n",
       " 'go_Resnik_max_similarity',\n",
       " 'go_Resnik_BMA_similarity',\n",
       " 'go_Resnik_avg_similarity',\n",
       " 'go_Lin_max_similarity',\n",
       " 'go_Lin_BMA_similarity',\n",
       " 'go_Lin_avg_similarity',\n",
       " 'go_Jiang-Conrath_max_similarity',\n",
       " 'go_Jiang-Conrath_BMA_similarity',\n",
       " 'go_Jiang-Conrath_avg_similarity',\n",
       " 'go_SimRel_max_similarity',\n",
       " 'go_SimRel_BMA_similarity',\n",
       " 'go_SimRel_avg_similarity',\n",
       " 'go_SimIC_max_similarity',\n",
       " 'go_SimIC_BMA_similarity',\n",
       " 'go_SimIC_avg_similarity',\n",
       " 'go_G-SESAME_max_similarity',\n",
       " 'go_G-SESAME_BMA_similarity',\n",
       " 'go_G-SESAME_avg_similarity',\n",
       " 'go_SimICND_max_similarity',\n",
       " 'go_SimICND_BMA_similarity',\n",
       " 'go_SimICND_avg_similarity',\n",
       " 'go_SimICNP_max_similarity',\n",
       " 'go_SimICNP_BMA_similarity',\n",
       " 'go_SimICNP_avg_similarity',\n",
       " 'wpo_Resnik_max_similarity',\n",
       " 'wpo_Resnik_BMA_similarity',\n",
       " 'wpo_Resnik_avg_similarity',\n",
       " 'wpo_Lin_max_similarity',\n",
       " 'wpo_Lin_BMA_similarity',\n",
       " 'wpo_Lin_avg_similarity',\n",
       " 'wpo_Jiang-Conrath_max_similarity',\n",
       " 'wpo_Jiang-Conrath_BMA_similarity',\n",
       " 'wpo_Jiang-Conrath_avg_similarity',\n",
       " 'wpo_SimRel_max_similarity',\n",
       " 'wpo_SimRel_BMA_similarity',\n",
       " 'wpo_SimRel_avg_similarity',\n",
       " 'wpo_SimIC_max_similarity',\n",
       " 'wpo_SimIC_BMA_similarity',\n",
       " 'wpo_SimIC_avg_similarity',\n",
       " 'wpo_G-SESAME_max_similarity',\n",
       " 'wpo_G-SESAME_BMA_similarity',\n",
       " 'wpo_G-SESAME_avg_similarity',\n",
       " 'wpo_SimICND_max_similarity',\n",
       " 'wpo_SimICND_BMA_similarity',\n",
       " 'wpo_SimICND_avg_similarity',\n",
       " 'wpo_SimICNP_max_similarity',\n",
       " 'wpo_SimICNP_BMA_similarity',\n",
       " 'wpo_SimICNP_avg_similarity',\n",
       " 'wpo_not_Resnik_max_similarity',\n",
       " 'wpo_not_Resnik_BMA_similarity',\n",
       " 'wpo_not_Resnik_avg_similarity',\n",
       " 'wpo_not_Lin_max_similarity',\n",
       " 'wpo_not_Lin_BMA_similarity',\n",
       " 'wpo_not_Lin_avg_similarity',\n",
       " 'wpo_not_Jiang-Conrath_max_similarity',\n",
       " 'wpo_not_Jiang-Conrath_BMA_similarity',\n",
       " 'wpo_not_Jiang-Conrath_avg_similarity',\n",
       " 'wpo_not_SimRel_max_similarity',\n",
       " 'wpo_not_SimRel_BMA_similarity',\n",
       " 'wpo_not_SimRel_avg_similarity',\n",
       " 'wpo_not_SimIC_max_similarity',\n",
       " 'wpo_not_SimIC_BMA_similarity',\n",
       " 'wpo_not_SimIC_avg_similarity',\n",
       " 'wpo_not_G-SESAME_max_similarity',\n",
       " 'wpo_not_G-SESAME_BMA_similarity',\n",
       " 'wpo_not_G-SESAME_avg_similarity',\n",
       " 'wpo_not_SimICND_max_similarity',\n",
       " 'wpo_not_SimICND_BMA_similarity',\n",
       " 'wpo_not_SimICND_avg_similarity',\n",
       " 'wpo_not_SimICNP_max_similarity',\n",
       " 'wpo_not_SimICNP_BMA_similarity',\n",
       " 'wpo_not_SimICNP_avg_similarity',\n",
       " 'protein1',\n",
       " 'protein2',\n",
       " 'neighborhood',\n",
       " 'neighborhood_transferred',\n",
       " 'fusion',\n",
       " 'cooccurence',\n",
       " 'homology',\n",
       " 'coexpression',\n",
       " 'coexpression_transferred',\n",
       " 'experiments',\n",
       " 'experiments_transferred',\n",
       " 'database',\n",
       " 'database_transferred',\n",
       " 'textmining',\n",
       " 'textmining_transferred',\n",
       " 'combined_score',\n",
       " 'go_n_common_ancestors_max',\n",
       " 'go_n_common_ancestors_avg',\n",
       " 'go_n_common_ancestors_bma',\n",
       " 'go_n_union_ancestors_max',\n",
       " 'go_n_union_ancestors_avg',\n",
       " 'go_n_union_ancestors_bma',\n",
       " 'go_batet_max',\n",
       " 'go_batet_avg',\n",
       " 'go_batet_bma',\n",
       " 'go_batet_log_max',\n",
       " 'go_batet_log_avg',\n",
       " 'go_batet_log_bma',\n",
       " 'go_resnik_max',\n",
       " 'go_resnik_avg',\n",
       " 'go_resnik_bma',\n",
       " 'go_resnik_scaled_max',\n",
       " 'go_resnik_scaled_avg',\n",
       " 'go_resnik_scaled_bma',\n",
       " 'go_lin_max',\n",
       " 'go_lin_avg',\n",
       " 'go_lin_bma',\n",
       " 'go_jiang_max',\n",
       " 'go_jiang_avg',\n",
       " 'go_jiang_bma',\n",
       " 'go_jiang_seco_max',\n",
       " 'go_jiang_seco_avg',\n",
       " 'go_jiang_seco_bma',\n",
       " 'wpo_n_common_ancestors_max',\n",
       " 'wpo_n_common_ancestors_avg',\n",
       " 'wpo_n_common_ancestors_bma',\n",
       " 'wpo_n_union_ancestors_max',\n",
       " 'wpo_n_union_ancestors_avg',\n",
       " 'wpo_n_union_ancestors_bma',\n",
       " 'wpo_batet_max',\n",
       " 'wpo_batet_avg',\n",
       " 'wpo_batet_bma',\n",
       " 'wpo_batet_log_max',\n",
       " 'wpo_batet_log_avg',\n",
       " 'wpo_batet_log_bma',\n",
       " 'wpo_resnik_max',\n",
       " 'wpo_resnik_avg',\n",
       " 'wpo_resnik_bma',\n",
       " 'wpo_resnik_scaled_max',\n",
       " 'wpo_resnik_scaled_avg',\n",
       " 'wpo_resnik_scaled_bma',\n",
       " 'wpo_lin_max',\n",
       " 'wpo_lin_avg',\n",
       " 'wpo_lin_bma',\n",
       " 'wpo_jiang_max',\n",
       " 'wpo_jiang_avg',\n",
       " 'wpo_jiang_bma',\n",
       " 'wpo_jiang_seco_max',\n",
       " 'wpo_jiang_seco_avg',\n",
       " 'wpo_jiang_seco_bma',\n",
       " 'is_modifier']"
      ]
     },
     "execution_count": 26,
     "metadata": {},
     "output_type": "execute_result"
    }
   ],
   "source": [
    "list(m_df.columns)"
   ]
  },
  {
   "cell_type": "markdown",
   "id": "ec4a09c1",
   "metadata": {},
   "source": [
    "🏷️ Adding Ontology Annotation - MTG"
   ]
  },
  {
   "cell_type": "code",
   "execution_count": 27,
   "id": "4effe771",
   "metadata": {},
   "outputs": [],
   "source": [
    "i = 0\n",
    "for onto, map in onto_to_gene_map['celegans'].items():\n",
    "    # for each type of ontologies\n",
    "    # we add annotation for soure and target gene\n",
    "    m_df = add_annotation(m_df, src_trgt_cols['MTG'][i], map)\n",
    "    i += 1"
   ]
  },
  {
   "cell_type": "code",
   "execution_count": 28,
   "id": "992d5208",
   "metadata": {},
   "outputs": [
    {
     "data": {
      "image/png": "[encoded data removed]",
      "text/plain": [
       "<Figure size 640x480 with 1 Axes>"
      ]
     },
     "metadata": {},
     "output_type": "display_data"
    }
   ],
   "source": [
    "# Plotting annotation count\n",
    "melted_df = pd.melt(m_df, value_vars=['target_GOs_count', 'modifier_GOs_count'])\n",
    "\n",
    "sns.histplot(data=melted_df, x='value', hue='variable', kde=False, palette='viridis')\n",
    "plt.legend(title='Gene Type', labels=['Query gene', 'Suppressor gene'])\n",
    "plt.show()"
   ]
  },
  {
   "cell_type": "code",
   "execution_count": 29,
   "metadata": {},
   "outputs": [],
   "source": [
    "# catalog.save('mtg_cleaned', m_df)"
   ]
  },
  {
   "cell_type": "markdown",
   "id": "6169187d",
   "metadata": {},
   "source": [
    "####  2️⃣ OLIDA"
   ]
  },
  {
   "cell_type": "code",
   "execution_count": 30,
   "id": "a8075ec7",
   "metadata": {},
   "outputs": [
    {
     "data": {
      "text/html": [
       "<pre style=\"white-space:pre;overflow-x:auto;line-height:normal;font-family:Menlo,'DejaVu Sans Mono',consolas,'Courier New',monospace\"><span style=\"font-weight: bold\">(</span><span style=\"color: #008080; text-decoration-color: #008080; font-weight: bold\">173</span>, <span style=\"color: #008080; text-decoration-color: #008080; font-weight: bold\">22</span><span style=\"font-weight: bold\">)</span>\n",
       "</pre>\n"
      ],
      "text/plain": [
       "\u001b[1m(\u001b[0m\u001b[1;36m173\u001b[0m, \u001b[1;36m22\u001b[0m\u001b[1m)\u001b[0m\n"
      ]
     },
     "metadata": {},
     "output_type": "display_data"
    },
    {
     "data": {
      "text/html": [
       "<pre style=\"white-space:pre;overflow-x:auto;line-height:normal;font-family:Menlo,'DejaVu Sans Mono',consolas,'Courier New',monospace\">Monogenic+Modifier          <span style=\"color: #008080; text-decoration-color: #008080; font-weight: bold\">85</span>\n",
       "<span style=\"color: #00ff00; text-decoration-color: #00ff00; font-style: italic\">True</span> Digenic                <span style=\"color: #008080; text-decoration-color: #008080; font-weight: bold\">70</span>\n",
       "Dual Molecular Diagnosis    <span style=\"color: #008080; text-decoration-color: #008080; font-weight: bold\">18</span>\n",
       "Name: Oligogenic Effect, dtype: int64\n",
       "</pre>\n"
      ],
      "text/plain": [
       "Monogenic+Modifier          \u001b[1;36m85\u001b[0m\n",
       "\u001b[3;92mTrue\u001b[0m Digenic                \u001b[1;36m70\u001b[0m\n",
       "Dual Molecular Diagnosis    \u001b[1;36m18\u001b[0m\n",
       "Name: Oligogenic Effect, dtype: int64\n"
      ]
     },
     "metadata": {},
     "output_type": "display_data"
    }
   ],
   "source": [
    "olida_comb_filtered = olida_comb[olida_comb['Oligogenic Effect'] != 'Unknown']\n",
    "print(olida_comb_filtered.shape)\n",
    "print(olida_comb_filtered['Oligogenic Effect'].value_counts())"
   ]
  },
  {
   "cell_type": "code",
   "execution_count": 31,
   "metadata": {},
   "outputs": [
    {
     "data": {
      "text/plain": [
       "Index(['OLIDA ID', 'Omim Id', 'Diseases', 'Oligogenic Effect', 'Ethnicity',\n",
       "       'References', 'Associated Variants', 'FAMmanual', 'STATmanual',\n",
       "       'STATknowledge', 'STATmeta', 'GENEmanual', 'GENEmanual harmonized',\n",
       "       'GENEknowledge', 'GENEmeta', 'VARmanual', 'VARknowledge', 'VARmeta',\n",
       "       'FUNmanual', 'FUNmeta', 'FINALmanual', 'FINALmeta'],\n",
       "      dtype='object')"
      ]
     },
     "execution_count": 31,
     "metadata": {},
     "output_type": "execute_result"
    }
   ],
   "source": [
    "olida_comb_filtered.columns"
   ]
  },
  {
   "cell_type": "code",
   "execution_count": 32,
   "metadata": {},
   "outputs": [],
   "source": [
    "# Splitting and expanding on synonymous gene symbols\n",
    "olida_gene_comb['olida_id'] = olida_gene_comb['Oligogenic variant combinations'].str.split(';')\n",
    "olida_gene_comb = olida_gene_comb.explode('olida_id')"
   ]
  },
  {
   "cell_type": "code",
   "execution_count": 33,
   "metadata": {},
   "outputs": [
    {
     "data": {
      "text/html": [
       "<pre style=\"white-space:pre;overflow-x:auto;line-height:normal;font-family:Menlo,'DejaVu Sans Mono',consolas,'Courier New',monospace\"><span style=\"font-weight: bold\">(</span><span style=\"color: #008080; text-decoration-color: #008080; font-weight: bold\">1610</span>, <span style=\"color: #008080; text-decoration-color: #008080; font-weight: bold\">30</span><span style=\"font-weight: bold\">)</span>\n",
       "</pre>\n"
      ],
      "text/plain": [
       "\u001b[1m(\u001b[0m\u001b[1;36m1610\u001b[0m, \u001b[1;36m30\u001b[0m\u001b[1m)\u001b[0m\n"
      ]
     },
     "metadata": {},
     "output_type": "display_data"
    }
   ],
   "source": [
    "# Adding OLIDA combination information\n",
    "_olida_m = olida_gene_comb.merge(olida_comb_filtered, how='left', left_on='olida_id', right_on='OLIDA ID')\n",
    "print(_olida_m.shape)\n",
    "olida_merged = _olida_m.dropna(subset=['OLIDA ID']).reindex()"
   ]
  },
  {
   "cell_type": "code",
   "execution_count": 34,
   "metadata": {},
   "outputs": [
    {
     "data": {
      "text/plain": [
       "(111, 30)"
      ]
     },
     "execution_count": 34,
     "metadata": {},
     "output_type": "execute_result"
    }
   ],
   "source": [
    "olida_merged.shape"
   ]
  },
  {
   "cell_type": "code",
   "execution_count": 35,
   "metadata": {},
   "outputs": [
    {
     "data": {
      "text/html": [
       "<pre style=\"white-space:pre;overflow-x:auto;line-height:normal;font-family:Menlo,'DejaVu Sans Mono',consolas,'Courier New',monospace\"><span style=\"font-weight: bold\">(</span><span style=\"color: #008080; text-decoration-color: #008080; font-weight: bold\">111</span>, <span style=\"color: #008080; text-decoration-color: #008080; font-weight: bold\">30</span><span style=\"font-weight: bold\">)</span>\n",
       "</pre>\n"
      ],
      "text/plain": [
       "\u001b[1m(\u001b[0m\u001b[1;36m111\u001b[0m, \u001b[1;36m30\u001b[0m\u001b[1m)\u001b[0m\n"
      ]
     },
     "metadata": {},
     "output_type": "display_data"
    },
    {
     "data": {
      "text/html": [
       "<pre style=\"white-space:pre;overflow-x:auto;line-height:normal;font-family:Menlo,'DejaVu Sans Mono',consolas,'Courier New',monospace\">Monogenic+Modifier          <span style=\"color: #008080; text-decoration-color: #008080; font-weight: bold\">50</span>\n",
       "<span style=\"color: #00ff00; text-decoration-color: #00ff00; font-style: italic\">True</span> Digenic                <span style=\"color: #008080; text-decoration-color: #008080; font-weight: bold\">43</span>\n",
       "Dual Molecular Diagnosis    <span style=\"color: #008080; text-decoration-color: #008080; font-weight: bold\">18</span>\n",
       "Name: Oligogenic Effect, dtype: int64\n",
       "</pre>\n"
      ],
      "text/plain": [
       "Monogenic+Modifier          \u001b[1;36m50\u001b[0m\n",
       "\u001b[3;92mTrue\u001b[0m Digenic                \u001b[1;36m43\u001b[0m\n",
       "Dual Molecular Diagnosis    \u001b[1;36m18\u001b[0m\n",
       "Name: Oligogenic Effect, dtype: int64\n"
      ]
     },
     "metadata": {},
     "output_type": "display_data"
    }
   ],
   "source": [
    "print(olida_merged.shape)\n",
    "print(olida_merged['Oligogenic Effect'].value_counts())"
   ]
  },
  {
   "cell_type": "code",
   "execution_count": 36,
   "metadata": {},
   "outputs": [
    {
     "data": {
      "text/html": [
       "<pre style=\"white-space:pre;overflow-x:auto;line-height:normal;font-family:Menlo,'DejaVu Sans Mono',consolas,'Courier New',monospace\"><span style=\"color: #008080; text-decoration-color: #008080; font-weight: bold\">2</span>    <span style=\"color: #008080; text-decoration-color: #008080; font-weight: bold\">96</span>\n",
       "<span style=\"color: #008080; text-decoration-color: #008080; font-weight: bold\">3</span>    <span style=\"color: #008080; text-decoration-color: #008080; font-weight: bold\">15</span>\n",
       "Name: gene_list_len, dtype: int64\n",
       "</pre>\n"
      ],
      "text/plain": [
       "\u001b[1;36m2\u001b[0m    \u001b[1;36m96\u001b[0m\n",
       "\u001b[1;36m3\u001b[0m    \u001b[1;36m15\u001b[0m\n",
       "Name: gene_list_len, dtype: int64\n"
      ]
     },
     "metadata": {},
     "output_type": "display_data"
    }
   ],
   "source": [
    "# Splitting gene symbols and keeping as a list\n",
    "olida_merged['gene_list'] = olida_merged['Genes'].str.split(';')\n",
    "olida_merged['gene_list_len'] = olida_merged.apply(lambda row: len(row['gene_list']), axis=1)\n",
    "print(olida_merged['gene_list_len'].value_counts())"
   ]
  },
  {
   "cell_type": "code",
   "execution_count": 37,
   "metadata": {},
   "outputs": [
    {
     "data": {
      "text/html": [
       "<pre style=\"white-space:pre;overflow-x:auto;line-height:normal;font-family:Menlo,'DejaVu Sans Mono',consolas,'Courier New',monospace\"><span style=\"font-weight: bold\">(</span><span style=\"color: #008080; text-decoration-color: #008080; font-weight: bold\">141</span>, <span style=\"color: #008080; text-decoration-color: #008080; font-weight: bold\">33</span><span style=\"font-weight: bold\">)</span>\n",
       "</pre>\n"
      ],
      "text/plain": [
       "\u001b[1m(\u001b[0m\u001b[1;36m141\u001b[0m, \u001b[1;36m33\u001b[0m\u001b[1m)\u001b[0m\n"
      ]
     },
     "metadata": {},
     "output_type": "display_data"
    }
   ],
   "source": [
    "# Generate unique pairs from the gene list\n",
    "olida_merged['gene_pairs'] = olida_merged.apply(lambda r: list(itertools.combinations(r['gene_list'], 2)), axis=1)\n",
    "olida_pairs = olida_merged.explode('gene_pairs')\n",
    "print(olida_pairs.shape)"
   ]
  },
  {
   "cell_type": "code",
   "execution_count": 38,
   "metadata": {},
   "outputs": [
    {
     "data": {
      "text/html": [
       "<pre style=\"white-space:pre;overflow-x:auto;line-height:normal;font-family:Menlo,'DejaVu Sans Mono',consolas,'Courier New',monospace\">CHD7      <span style=\"color: #008080; text-decoration-color: #008080; font-weight: bold\">6</span>\n",
       "FGFR1     <span style=\"color: #008080; text-decoration-color: #008080; font-weight: bold\">5</span>\n",
       "MYO7A     <span style=\"color: #008080; text-decoration-color: #008080; font-weight: bold\">4</span>\n",
       "GJB2      <span style=\"color: #008080; text-decoration-color: #008080; font-weight: bold\">3</span>\n",
       "CYP7A1    <span style=\"color: #008080; text-decoration-color: #008080; font-weight: bold\">3</span>\n",
       "         ..\n",
       "EDA       <span style=\"color: #008080; text-decoration-color: #008080; font-weight: bold\">1</span>\n",
       "LMBRD1    <span style=\"color: #008080; text-decoration-color: #008080; font-weight: bold\">1</span>\n",
       "NKX2-<span style=\"color: #008080; text-decoration-color: #008080; font-weight: bold\">5</span>    <span style=\"color: #008080; text-decoration-color: #008080; font-weight: bold\">1</span>\n",
       "CARD9     <span style=\"color: #008080; text-decoration-color: #008080; font-weight: bold\">1</span>\n",
       "FOXC2     <span style=\"color: #008080; text-decoration-color: #008080; font-weight: bold\">1</span>\n",
       "Name: gene_a, Length: <span style=\"color: #008080; text-decoration-color: #008080; font-weight: bold\">106</span>, dtype: int64\n",
       "</pre>\n"
      ],
      "text/plain": [
       "CHD7      \u001b[1;36m6\u001b[0m\n",
       "FGFR1     \u001b[1;36m5\u001b[0m\n",
       "MYO7A     \u001b[1;36m4\u001b[0m\n",
       "GJB2      \u001b[1;36m3\u001b[0m\n",
       "CYP7A1    \u001b[1;36m3\u001b[0m\n",
       "         ..\n",
       "EDA       \u001b[1;36m1\u001b[0m\n",
       "LMBRD1    \u001b[1;36m1\u001b[0m\n",
       "NKX2-\u001b[1;36m5\u001b[0m    \u001b[1;36m1\u001b[0m\n",
       "CARD9     \u001b[1;36m1\u001b[0m\n",
       "FOXC2     \u001b[1;36m1\u001b[0m\n",
       "Name: gene_a, Length: \u001b[1;36m106\u001b[0m, dtype: int64\n"
      ]
     },
     "metadata": {},
     "output_type": "display_data"
    },
    {
     "data": {
      "text/html": [
       "<pre style=\"white-space:pre;overflow-x:auto;line-height:normal;font-family:Menlo,'DejaVu Sans Mono',consolas,'Courier New',monospace\">USH2A     <span style=\"color: #008080; text-decoration-color: #008080; font-weight: bold\">4</span>\n",
       "PROKR2    <span style=\"color: #008080; text-decoration-color: #008080; font-weight: bold\">3</span>\n",
       "LRP6      <span style=\"color: #008080; text-decoration-color: #008080; font-weight: bold\">3</span>\n",
       "MYH7      <span style=\"color: #008080; text-decoration-color: #008080; font-weight: bold\">3</span>\n",
       "OPTN      <span style=\"color: #008080; text-decoration-color: #008080; font-weight: bold\">2</span>\n",
       "         ..\n",
       "WNT10A    <span style=\"color: #008080; text-decoration-color: #008080; font-weight: bold\">1</span>\n",
       "MTR       <span style=\"color: #008080; text-decoration-color: #008080; font-weight: bold\">1</span>\n",
       "ZIC3      <span style=\"color: #008080; text-decoration-color: #008080; font-weight: bold\">1</span>\n",
       "MYD88     <span style=\"color: #008080; text-decoration-color: #008080; font-weight: bold\">1</span>\n",
       "PIEZO1    <span style=\"color: #008080; text-decoration-color: #008080; font-weight: bold\">1</span>\n",
       "Name: gene_b, Length: <span style=\"color: #008080; text-decoration-color: #008080; font-weight: bold\">114</span>, dtype: int64\n",
       "</pre>\n"
      ],
      "text/plain": [
       "USH2A     \u001b[1;36m4\u001b[0m\n",
       "PROKR2    \u001b[1;36m3\u001b[0m\n",
       "LRP6      \u001b[1;36m3\u001b[0m\n",
       "MYH7      \u001b[1;36m3\u001b[0m\n",
       "OPTN      \u001b[1;36m2\u001b[0m\n",
       "         ..\n",
       "WNT10A    \u001b[1;36m1\u001b[0m\n",
       "MTR       \u001b[1;36m1\u001b[0m\n",
       "ZIC3      \u001b[1;36m1\u001b[0m\n",
       "MYD88     \u001b[1;36m1\u001b[0m\n",
       "PIEZO1    \u001b[1;36m1\u001b[0m\n",
       "Name: gene_b, Length: \u001b[1;36m114\u001b[0m, dtype: int64\n"
      ]
     },
     "metadata": {},
     "output_type": "display_data"
    }
   ],
   "source": [
    "# Splitting the gene_pairs into two columns\n",
    "# olida_pairs[['gene_a', 'gene_b']] = olida_pairs['gene_pairs'].map(pd.Series)\n",
    "olida_pairs[['gene_a', 'gene_b']] = olida_pairs['gene_pairs'].apply(pd.Series)\n",
    "olida_pairs['gene_a'] = olida_pairs['gene_a'].map(lambda x: x.strip())\n",
    "olida_pairs['gene_b'] = olida_pairs['gene_b'].map(lambda x: x.strip())\n",
    "\n",
    "print(olida_pairs['gene_a'].value_counts())\n",
    "print(olida_pairs['gene_b'].value_counts())\n"
   ]
  },
  {
   "cell_type": "markdown",
   "id": "204d64ba",
   "metadata": {},
   "source": [
    "🏷️ Adding Ontology Annotation - OLIDA"
   ]
  },
  {
   "cell_type": "code",
   "execution_count": 39,
   "id": "4133df72",
   "metadata": {},
   "outputs": [],
   "source": [
    "i = 0\n",
    "for onto, map in onto_to_gene_map['human'].items():\n",
    "    # for each type of ontologies\n",
    "    # we add annotation for soure and target gene\n",
    "    olida_pairs = add_annotation(olida_pairs, src_trgt_cols['OLIDA'][i], map)\n",
    "    i += 1"
   ]
  },
  {
   "cell_type": "code",
   "execution_count": 41,
   "id": "3d62b2e9",
   "metadata": {},
   "outputs": [
    {
     "data": {
      "image/png": "[encoded data removed]",
      "text/plain": [
       "<Figure size 640x480 with 1 Axes>"
      ]
     },
     "metadata": {},
     "output_type": "display_data"
    }
   ],
   "source": [
    "# Plotting annotation count\n",
    "melted_df = pd.melt(olida_pairs, value_vars=['target_GOs_count', 'modifier_GOs_count'])\n",
    "\n",
    "sns.histplot(data=melted_df, x='value', hue='variable', kde=False, palette='viridis')\n",
    "plt.legend(title='Gene Type', labels=['Query gene', 'Suppressor gene'])\n",
    "plt.show()"
   ]
  },
  {
   "cell_type": "code",
   "execution_count": null,
   "id": "e7b9dcee",
   "metadata": {},
   "outputs": [
    {
     "data": {
      "image/png": "[encoded data removed]",
      "text/plain": [
       "<Figure size 640x480 with 1 Axes>"
      ]
     },
     "metadata": {},
     "output_type": "display_data"
    }
   ],
   "source": [
    "# Assuming df is your DataFrame and 'column' is the column you want to plot\n",
    "sns.histplot(olida_pairs[['gene_a_go_id_count','gene_b_go_id_count']], kde=False, bins=30)\n",
    "plt.legend(labels=['Gene A', 'Gene B'])\n",
    "plt.show()"
   ]
  },
  {
   "cell_type": "code",
   "execution_count": null,
   "id": "358a94e3",
   "metadata": {},
   "outputs": [
    {
     "data": {
      "text/html": [
       "<pre style=\"white-space:pre;overflow-x:auto;line-height:normal;font-family:Menlo,'DejaVu Sans Mono',consolas,'Courier New',monospace\"><span style=\"color: #7fbfbf; text-decoration-color: #7fbfbf\">[12/08/23 23:54:16] </span><span style=\"color: #000080; text-decoration-color: #000080\">INFO    </span> Saving data to <span style=\"color: #008000; text-decoration-color: #008000\">'olida_pairs'</span> <span style=\"font-weight: bold\">(</span>CSVDataSet<span style=\"font-weight: bold\">)</span><span style=\"color: #808000; text-decoration-color: #808000\">...</span>                       <a href=\"file:///home/rahit/jupyter_py3/lib/python3.8/site-packages/kedro/io/data_catalog.py\" target=\"_blank\"><span style=\"color: #7f7f7f; text-decoration-color: #7f7f7f\">data_catalog.py</span></a><span style=\"color: #7f7f7f; text-decoration-color: #7f7f7f\">:</span><a href=\"file:///home/rahit/jupyter_py3/lib/python3.8/site-packages/kedro/io/data_catalog.py#531\" target=\"_blank\"><span style=\"color: #7f7f7f; text-decoration-color: #7f7f7f\">531</span></a>\n",
       "</pre>\n"
      ],
      "text/plain": [
       "\u001b[2;36m[12/08/23 23:54:16]\u001b[0m\u001b[2;36m \u001b[0m\u001b[34mINFO    \u001b[0m Saving data to \u001b[32m'olida_pairs'\u001b[0m \u001b[1m(\u001b[0mCSVDataSet\u001b[1m)\u001b[0m\u001b[33m...\u001b[0m                       \u001b]8;id=50105;file:///home/rahit/jupyter_py3/lib/python3.8/site-packages/kedro/io/data_catalog.py\u001b\\\u001b[2mdata_catalog.py\u001b[0m\u001b]8;;\u001b\\\u001b[2m:\u001b[0m\u001b]8;id=401257;file:///home/rahit/jupyter_py3/lib/python3.8/site-packages/kedro/io/data_catalog.py#531\u001b\\\u001b[2m531\u001b[0m\u001b]8;;\u001b\\\n"
      ]
     },
     "metadata": {},
     "output_type": "display_data"
    },
    {
     "data": {
      "text/html": [
       "<pre style=\"white-space:pre;overflow-x:auto;line-height:normal;font-family:Menlo,'DejaVu Sans Mono',consolas,'Courier New',monospace\"><span style=\"color: #7fbfbf; text-decoration-color: #7fbfbf\">                    </span><span style=\"color: #000080; text-decoration-color: #000080\">INFO    </span> Saving data to <span style=\"color: #008000; text-decoration-color: #008000\">'olida_pairs'</span> <span style=\"font-weight: bold\">(</span>CSVDataSet<span style=\"font-weight: bold\">)</span><span style=\"color: #808000; text-decoration-color: #808000\">...</span>                       <a href=\"file:///home/rahit/jupyter_py3/lib/python3.8/site-packages/kedro/io/data_catalog.py\" target=\"_blank\"><span style=\"color: #7f7f7f; text-decoration-color: #7f7f7f\">data_catalog.py</span></a><span style=\"color: #7f7f7f; text-decoration-color: #7f7f7f\">:</span><a href=\"file:///home/rahit/jupyter_py3/lib/python3.8/site-packages/kedro/io/data_catalog.py#531\" target=\"_blank\"><span style=\"color: #7f7f7f; text-decoration-color: #7f7f7f\">531</span></a>\n",
       "</pre>\n"
      ],
      "text/plain": [
       "\u001b[2;36m                   \u001b[0m\u001b[2;36m \u001b[0m\u001b[34mINFO    \u001b[0m Saving data to \u001b[32m'olida_pairs'\u001b[0m \u001b[1m(\u001b[0mCSVDataSet\u001b[1m)\u001b[0m\u001b[33m...\u001b[0m                       \u001b]8;id=13607;file:///home/rahit/jupyter_py3/lib/python3.8/site-packages/kedro/io/data_catalog.py\u001b\\\u001b[2mdata_catalog.py\u001b[0m\u001b]8;;\u001b\\\u001b[2m:\u001b[0m\u001b]8;id=991624;file:///home/rahit/jupyter_py3/lib/python3.8/site-packages/kedro/io/data_catalog.py#531\u001b\\\u001b[2m531\u001b[0m\u001b]8;;\u001b\\\n"
      ]
     },
     "metadata": {},
     "output_type": "display_data"
    }
   ],
   "source": [
    "catalog.save('olida_pairs', olida_pairs)"
   ]
  },
  {
   "cell_type": "markdown",
   "id": "b37abfd9",
   "metadata": {},
   "source": [
    "#### 3️⃣ Jolanda van Leewen"
   ]
  },
  {
   "cell_type": "code",
   "execution_count": 42,
   "id": "d5e3767f",
   "metadata": {},
   "outputs": [
    {
     "data": {
      "text/html": [
       "<pre style=\"white-space:pre;overflow-x:auto;line-height:normal;font-family:Menlo,'DejaVu Sans Mono',consolas,'Courier New',monospace\">HBB       <span style=\"color: #008080; text-decoration-color: #008080; font-weight: bold\">412</span>\n",
       "CFTR      <span style=\"color: #008080; text-decoration-color: #008080; font-weight: bold\">144</span>\n",
       "SMN1       <span style=\"color: #008080; text-decoration-color: #008080; font-weight: bold\">44</span>\n",
       "BRCA1      <span style=\"color: #008080; text-decoration-color: #008080; font-weight: bold\">37</span>\n",
       "HTT        <span style=\"color: #008080; text-decoration-color: #008080; font-weight: bold\">27</span>\n",
       "         <span style=\"color: #808000; text-decoration-color: #808000\">...</span> \n",
       "LUC7L3      <span style=\"color: #008080; text-decoration-color: #008080; font-weight: bold\">1</span>\n",
       "MFAP1       <span style=\"color: #008080; text-decoration-color: #008080; font-weight: bold\">1</span>\n",
       "MITF        <span style=\"color: #008080; text-decoration-color: #008080; font-weight: bold\">1</span>\n",
       "MUS81       <span style=\"color: #008080; text-decoration-color: #008080; font-weight: bold\">1</span>\n",
       "XPA         <span style=\"color: #008080; text-decoration-color: #008080; font-weight: bold\">1</span>\n",
       "Name: QueryGene, Length: <span style=\"color: #008080; text-decoration-color: #008080; font-weight: bold\">93</span>, dtype: int64\n",
       "</pre>\n"
      ],
      "text/plain": [
       "HBB       \u001b[1;36m412\u001b[0m\n",
       "CFTR      \u001b[1;36m144\u001b[0m\n",
       "SMN1       \u001b[1;36m44\u001b[0m\n",
       "BRCA1      \u001b[1;36m37\u001b[0m\n",
       "HTT        \u001b[1;36m27\u001b[0m\n",
       "         \u001b[33m...\u001b[0m \n",
       "LUC7L3      \u001b[1;36m1\u001b[0m\n",
       "MFAP1       \u001b[1;36m1\u001b[0m\n",
       "MITF        \u001b[1;36m1\u001b[0m\n",
       "MUS81       \u001b[1;36m1\u001b[0m\n",
       "XPA         \u001b[1;36m1\u001b[0m\n",
       "Name: QueryGene, Length: \u001b[1;36m93\u001b[0m, dtype: int64\n"
      ]
     },
     "metadata": {},
     "output_type": "display_data"
    },
    {
     "data": {
      "text/html": [
       "<pre style=\"white-space:pre;overflow-x:auto;line-height:normal;font-family:Menlo,'DejaVu Sans Mono',consolas,'Courier New',monospace\">HBA2       <span style=\"color: #008080; text-decoration-color: #008080; font-weight: bold\">96</span>\n",
       "BCL11A     <span style=\"color: #008080; text-decoration-color: #008080; font-weight: bold\">79</span>\n",
       "MYB        <span style=\"color: #008080; text-decoration-color: #008080; font-weight: bold\">62</span>\n",
       "HBG2       <span style=\"color: #008080; text-decoration-color: #008080; font-weight: bold\">53</span>\n",
       "SMN2       <span style=\"color: #008080; text-decoration-color: #008080; font-weight: bold\">43</span>\n",
       "           ..\n",
       "PRKD2       <span style=\"color: #008080; text-decoration-color: #008080; font-weight: bold\">1</span>\n",
       "PPP2R2B     <span style=\"color: #008080; text-decoration-color: #008080; font-weight: bold\">1</span>\n",
       "PPP2R1A     <span style=\"color: #008080; text-decoration-color: #008080; font-weight: bold\">1</span>\n",
       "PLXNA1      <span style=\"color: #008080; text-decoration-color: #008080; font-weight: bold\">1</span>\n",
       "MUTYH       <span style=\"color: #008080; text-decoration-color: #008080; font-weight: bold\">1</span>\n",
       "Name: SuppressorGene, Length: <span style=\"color: #008080; text-decoration-color: #008080; font-weight: bold\">417</span>, dtype: int64\n",
       "</pre>\n"
      ],
      "text/plain": [
       "HBA2       \u001b[1;36m96\u001b[0m\n",
       "BCL11A     \u001b[1;36m79\u001b[0m\n",
       "MYB        \u001b[1;36m62\u001b[0m\n",
       "HBG2       \u001b[1;36m53\u001b[0m\n",
       "SMN2       \u001b[1;36m43\u001b[0m\n",
       "           ..\n",
       "PRKD2       \u001b[1;36m1\u001b[0m\n",
       "PPP2R2B     \u001b[1;36m1\u001b[0m\n",
       "PPP2R1A     \u001b[1;36m1\u001b[0m\n",
       "PLXNA1      \u001b[1;36m1\u001b[0m\n",
       "MUTYH       \u001b[1;36m1\u001b[0m\n",
       "Name: SuppressorGene, Length: \u001b[1;36m417\u001b[0m, dtype: int64\n"
      ]
     },
     "metadata": {},
     "output_type": "display_data"
    }
   ],
   "source": [
    "jvl_pairs = jvl[['QueryGene', 'SuppressorGene']]\n",
    "print(jvl_pairs['QueryGene'].value_counts())\n",
    "print(jvl_pairs['SuppressorGene'].value_counts())"
   ]
  },
  {
   "cell_type": "markdown",
   "id": "6d570b53",
   "metadata": {},
   "source": [
    "🏷️ Adding Ontology Annotation - JVL"
   ]
  },
  {
   "cell_type": "code",
   "execution_count": 43,
   "id": "3c0fb698",
   "metadata": {},
   "outputs": [],
   "source": [
    "i = 0\n",
    "for onto, map in onto_to_gene_map['human'].items():\n",
    "    # for each type of ontologies\n",
    "    # we add annotation for soure and target gene\n",
    "    jvl = add_annotation(jvl, src_trgt_cols['JVL'][i], map)\n",
    "    i += 1"
   ]
  },
  {
   "cell_type": "code",
   "execution_count": 44,
   "id": "8732a2c1",
   "metadata": {},
   "outputs": [
    {
     "data": {
      "image/png": "[encoded data removed]",
      "text/plain": [
       "<Figure size 640x480 with 1 Axes>"
      ]
     },
     "metadata": {},
     "output_type": "display_data"
    }
   ],
   "source": [
    "# Assuming df is your DataFrame and 'column' is the column you want to plot\n",
    "sns.histplot(jvl[['target_GOs_count', 'modifier_GOs_count']], kde=False, bins=30)\n",
    "plt.legend(labels=['Query gene', 'Suppressor gene'])\n",
    "plt.show()"
   ]
  },
  {
   "cell_type": "markdown",
   "metadata": {},
   "source": [
    "# Combine Datasets"
   ]
  },
  {
   "cell_type": "markdown",
   "metadata": {},
   "source": [
    "Comparing OLIDA pairs with JVL"
   ]
  },
  {
   "cell_type": "code",
   "execution_count": 45,
   "metadata": {},
   "outputs": [
    {
     "data": {
      "text/html": [
       "<pre style=\"white-space:pre;overflow-x:auto;line-height:normal;font-family:Menlo,'DejaVu Sans Mono',consolas,'Courier New',monospace\">Monogenic+Modifier          <span style=\"color: #008080; text-decoration-color: #008080; font-weight: bold\">66</span>\n",
       "<span style=\"color: #00ff00; text-decoration-color: #00ff00; font-style: italic\">True</span> Digenic                <span style=\"color: #008080; text-decoration-color: #008080; font-weight: bold\">47</span>\n",
       "Dual Molecular Diagnosis    <span style=\"color: #008080; text-decoration-color: #008080; font-weight: bold\">28</span>\n",
       "Name: Oligogenic Effect, dtype: int64\n",
       "</pre>\n"
      ],
      "text/plain": [
       "Monogenic+Modifier          \u001b[1;36m66\u001b[0m\n",
       "\u001b[3;92mTrue\u001b[0m Digenic                \u001b[1;36m47\u001b[0m\n",
       "Dual Molecular Diagnosis    \u001b[1;36m28\u001b[0m\n",
       "Name: Oligogenic Effect, dtype: int64\n"
      ]
     },
     "metadata": {},
     "output_type": "display_data"
    }
   ],
   "source": [
    "print(olida_pairs['Oligogenic Effect'].value_counts())"
   ]
  },
  {
   "cell_type": "code",
   "execution_count": 123,
   "metadata": {},
   "outputs": [
    {
     "data": {
      "text/html": [
       "<pre style=\"white-space:pre;overflow-x:auto;line-height:normal;font-family:Menlo,'DejaVu Sans Mono',consolas,'Courier New',monospace\">  QueryGene SuppressorGene gene_a  gene_b\n",
       "<span style=\"color: #008080; text-decoration-color: #008080; font-weight: bold\">0</span>      CFTR          FGFR1  FGFR1  PROKR2\n",
       "<span style=\"color: #008080; text-decoration-color: #008080; font-weight: bold\">1</span>      CFTR          FGFR1  FGFR1  SEMA3A\n",
       "<span style=\"color: #008080; text-decoration-color: #008080; font-weight: bold\">2</span>      CFTR          FGFR1  FGFR1   GNRHR\n",
       "<span style=\"color: #008080; text-decoration-color: #008080; font-weight: bold\">3</span>      KRAS          FGFR1  FGFR1  PROKR2\n",
       "<span style=\"color: #008080; text-decoration-color: #008080; font-weight: bold\">4</span>      KRAS          FGFR1  FGFR1  SEMA3A\n",
       "<span style=\"color: #008080; text-decoration-color: #008080; font-weight: bold\">5</span>      KRAS          FGFR1  FGFR1   GNRHR\n",
       "<span style=\"color: #008080; text-decoration-color: #008080; font-weight: bold\">6</span>       HFE           BMP2   BMP2   SMAD6\n",
       "<span style=\"color: #008080; text-decoration-color: #008080; font-weight: bold\">7</span>       HFE           BMP2   BMP2   SMAD6\n",
       "<span style=\"color: #008080; text-decoration-color: #008080; font-weight: bold\">8</span>     PARP1          DNAH6  DNAH6   DNAI1\n",
       "<span style=\"color: #008080; text-decoration-color: #008080; font-weight: bold\">9</span>       XPA          MUTYH  MUTYH    OGG1\n",
       "</pre>\n"
      ],
      "text/plain": [
       "  QueryGene SuppressorGene gene_a  gene_b\n",
       "\u001b[1;36m0\u001b[0m      CFTR          FGFR1  FGFR1  PROKR2\n",
       "\u001b[1;36m1\u001b[0m      CFTR          FGFR1  FGFR1  SEMA3A\n",
       "\u001b[1;36m2\u001b[0m      CFTR          FGFR1  FGFR1   GNRHR\n",
       "\u001b[1;36m3\u001b[0m      KRAS          FGFR1  FGFR1  PROKR2\n",
       "\u001b[1;36m4\u001b[0m      KRAS          FGFR1  FGFR1  SEMA3A\n",
       "\u001b[1;36m5\u001b[0m      KRAS          FGFR1  FGFR1   GNRHR\n",
       "\u001b[1;36m6\u001b[0m       HFE           BMP2   BMP2   SMAD6\n",
       "\u001b[1;36m7\u001b[0m       HFE           BMP2   BMP2   SMAD6\n",
       "\u001b[1;36m8\u001b[0m     PARP1          DNAH6  DNAH6   DNAI1\n",
       "\u001b[1;36m9\u001b[0m       XPA          MUTYH  MUTYH    OGG1\n"
      ]
     },
     "metadata": {},
     "output_type": "display_data"
    },
    {
     "data": {
      "text/html": [
       "<pre style=\"white-space:pre;overflow-x:auto;line-height:normal;font-family:Menlo,'DejaVu Sans Mono',consolas,'Courier New',monospace\">   QueryGene SuppressorGene gene_a gene_b\n",
       "<span style=\"color: #008080; text-decoration-color: #008080; font-weight: bold\">0</span>       BBS4           DRD5   BBS4   BBS7\n",
       "<span style=\"color: #008080; text-decoration-color: #008080; font-weight: bold\">1</span>       BBS4           DTX1   BBS4   BBS7\n",
       "<span style=\"color: #008080; text-decoration-color: #008080; font-weight: bold\">2</span>       BBS4         ENGASE   BBS4   BBS7\n",
       "<span style=\"color: #008080; text-decoration-color: #008080; font-weight: bold\">3</span>       BBS4          ENPP7   BBS4   BBS7\n",
       "<span style=\"color: #008080; text-decoration-color: #008080; font-weight: bold\">4</span>       BBS4         ENTPD6   BBS4   BBS7\n",
       "<span style=\"color: #008080; text-decoration-color: #008080; font-weight: bold\">5</span>       BBS4        LRRC74A   BBS4   BBS7\n",
       "<span style=\"color: #008080; text-decoration-color: #008080; font-weight: bold\">6</span>       BBS4          PCF11   BBS4   BBS7\n",
       "<span style=\"color: #008080; text-decoration-color: #008080; font-weight: bold\">7</span>       BBS4        PITPNM2   BBS4   BBS7\n",
       "<span style=\"color: #008080; text-decoration-color: #008080; font-weight: bold\">8</span>       BBS4           PTMA   BBS4   BBS7\n",
       "<span style=\"color: #008080; text-decoration-color: #008080; font-weight: bold\">9</span>       BBS4         RHOXF1   BBS4   BBS7\n",
       "<span style=\"color: #008080; text-decoration-color: #008080; font-weight: bold\">10</span>      BBS4         TDRD12   BBS4   BBS7\n",
       "<span style=\"color: #008080; text-decoration-color: #008080; font-weight: bold\">11</span>      BBS4          TEX36   BBS4   BBS7\n",
       "<span style=\"color: #008080; text-decoration-color: #008080; font-weight: bold\">12</span>      BBS4          USP35   BBS4   BBS7\n",
       "<span style=\"color: #008080; text-decoration-color: #008080; font-weight: bold\">13</span>      BBS4          USP38   BBS4   BBS7\n",
       "<span style=\"color: #008080; text-decoration-color: #008080; font-weight: bold\">14</span>      BBS4           ZIC1   BBS4   BBS7\n",
       "<span style=\"color: #008080; text-decoration-color: #008080; font-weight: bold\">15</span>     FOXC1           GJA1  FOXC1  PITX2\n",
       "<span style=\"color: #008080; text-decoration-color: #008080; font-weight: bold\">16</span>     KCNH2         KCNK17  KCNH2  KCNQ1\n",
       "<span style=\"color: #008080; text-decoration-color: #008080; font-weight: bold\">17</span>     KCNQ1          AKAP9  KCNQ1  SCN5A\n",
       "<span style=\"color: #008080; text-decoration-color: #008080; font-weight: bold\">18</span>     KCNQ1          MTMR4  KCNQ1  SCN5A\n",
       "<span style=\"color: #008080; text-decoration-color: #008080; font-weight: bold\">19</span>      MEFV           MICA   MEFV  TRAP1\n",
       "<span style=\"color: #008080; text-decoration-color: #008080; font-weight: bold\">20</span>      MEFV           MICA   MEFV  TRAP1\n",
       "<span style=\"color: #008080; text-decoration-color: #008080; font-weight: bold\">21</span>      MEFV           SAA1   MEFV  TRAP1\n",
       "<span style=\"color: #008080; text-decoration-color: #008080; font-weight: bold\">22</span>      MITF           CDK2   MITF    TYR\n",
       "</pre>\n"
      ],
      "text/plain": [
       "   QueryGene SuppressorGene gene_a gene_b\n",
       "\u001b[1;36m0\u001b[0m       BBS4           DRD5   BBS4   BBS7\n",
       "\u001b[1;36m1\u001b[0m       BBS4           DTX1   BBS4   BBS7\n",
       "\u001b[1;36m2\u001b[0m       BBS4         ENGASE   BBS4   BBS7\n",
       "\u001b[1;36m3\u001b[0m       BBS4          ENPP7   BBS4   BBS7\n",
       "\u001b[1;36m4\u001b[0m       BBS4         ENTPD6   BBS4   BBS7\n",
       "\u001b[1;36m5\u001b[0m       BBS4        LRRC74A   BBS4   BBS7\n",
       "\u001b[1;36m6\u001b[0m       BBS4          PCF11   BBS4   BBS7\n",
       "\u001b[1;36m7\u001b[0m       BBS4        PITPNM2   BBS4   BBS7\n",
       "\u001b[1;36m8\u001b[0m       BBS4           PTMA   BBS4   BBS7\n",
       "\u001b[1;36m9\u001b[0m       BBS4         RHOXF1   BBS4   BBS7\n",
       "\u001b[1;36m10\u001b[0m      BBS4         TDRD12   BBS4   BBS7\n",
       "\u001b[1;36m11\u001b[0m      BBS4          TEX36   BBS4   BBS7\n",
       "\u001b[1;36m12\u001b[0m      BBS4          USP35   BBS4   BBS7\n",
       "\u001b[1;36m13\u001b[0m      BBS4          USP38   BBS4   BBS7\n",
       "\u001b[1;36m14\u001b[0m      BBS4           ZIC1   BBS4   BBS7\n",
       "\u001b[1;36m15\u001b[0m     FOXC1           GJA1  FOXC1  PITX2\n",
       "\u001b[1;36m16\u001b[0m     KCNH2         KCNK17  KCNH2  KCNQ1\n",
       "\u001b[1;36m17\u001b[0m     KCNQ1          AKAP9  KCNQ1  SCN5A\n",
       "\u001b[1;36m18\u001b[0m     KCNQ1          MTMR4  KCNQ1  SCN5A\n",
       "\u001b[1;36m19\u001b[0m      MEFV           MICA   MEFV  TRAP1\n",
       "\u001b[1;36m20\u001b[0m      MEFV           MICA   MEFV  TRAP1\n",
       "\u001b[1;36m21\u001b[0m      MEFV           SAA1   MEFV  TRAP1\n",
       "\u001b[1;36m22\u001b[0m      MITF           CDK2   MITF    TYR\n"
      ]
     },
     "metadata": {},
     "output_type": "display_data"
    },
    {
     "data": {
      "text/html": [
       "<pre style=\"white-space:pre;overflow-x:auto;line-height:normal;font-family:Menlo,'DejaVu Sans Mono',consolas,'Courier New',monospace\">  QueryGene SuppressorGene    gene_a gene_b\n",
       "<span style=\"color: #008080; text-decoration-color: #008080; font-weight: bold\">0</span>     BRCA2          MED25     COQ8A  MED25\n",
       "<span style=\"color: #008080; text-decoration-color: #008080; font-weight: bold\">1</span>     PARP3            TTN  TRAPPC11    TTN\n",
       "</pre>\n"
      ],
      "text/plain": [
       "  QueryGene SuppressorGene    gene_a gene_b\n",
       "\u001b[1;36m0\u001b[0m     BRCA2          MED25     COQ8A  MED25\n",
       "\u001b[1;36m1\u001b[0m     PARP3            TTN  TRAPPC11    TTN\n"
      ]
     },
     "metadata": {},
     "output_type": "display_data"
    },
    {
     "data": {
      "text/html": [
       "<pre style=\"white-space:pre;overflow-x:auto;line-height:normal;font-family:Menlo,'DejaVu Sans Mono',consolas,'Courier New',monospace\">   QueryGene SuppressorGene gene_a gene_b\n",
       "<span style=\"color: #008080; text-decoration-color: #008080; font-weight: bold\">0</span>        DMD          ADRB2  ATP7B    DMD\n",
       "<span style=\"color: #008080; text-decoration-color: #008080; font-weight: bold\">1</span>        DMD            FST  ATP7B    DMD\n",
       "<span style=\"color: #008080; text-decoration-color: #008080; font-weight: bold\">2</span>        DMD          LTBP4  ATP7B    DMD\n",
       "<span style=\"color: #008080; text-decoration-color: #008080; font-weight: bold\">3</span>        DMD          LTBP4  ATP7B    DMD\n",
       "<span style=\"color: #008080; text-decoration-color: #008080; font-weight: bold\">4</span>        DMD          LTBP4  ATP7B    DMD\n",
       "<span style=\"color: #008080; text-decoration-color: #008080; font-weight: bold\">5</span>        DMD          LTBP4  ATP7B    DMD\n",
       "<span style=\"color: #008080; text-decoration-color: #008080; font-weight: bold\">6</span>        DMD          LTBP4  ATP7B    DMD\n",
       "<span style=\"color: #008080; text-decoration-color: #008080; font-weight: bold\">7</span>        DMD          LTBP4  ATP7B    DMD\n",
       "<span style=\"color: #008080; text-decoration-color: #008080; font-weight: bold\">8</span>        DMD          THBS1  ATP7B    DMD\n",
       "<span style=\"color: #008080; text-decoration-color: #008080; font-weight: bold\">9</span>      FOXC1           GJA1    DPT  FOXC1\n",
       "<span style=\"color: #008080; text-decoration-color: #008080; font-weight: bold\">10</span>       HFE           BMP2   HAMP    HFE\n",
       "<span style=\"color: #008080; text-decoration-color: #008080; font-weight: bold\">11</span>       HFE           BMP2   HAMP    HFE\n",
       "<span style=\"color: #008080; text-decoration-color: #008080; font-weight: bold\">12</span>       HFE         CYBRD1   HAMP    HFE\n",
       "<span style=\"color: #008080; text-decoration-color: #008080; font-weight: bold\">13</span>       HFE         CYBRD1   HAMP    HFE\n",
       "<span style=\"color: #008080; text-decoration-color: #008080; font-weight: bold\">14</span>       HFE           TFR2   HAMP    HFE\n",
       "<span style=\"color: #008080; text-decoration-color: #008080; font-weight: bold\">15</span>       HFE        TMPRSS6   HAMP    HFE\n",
       "<span style=\"color: #008080; text-decoration-color: #008080; font-weight: bold\">16</span>     KCNQ1          AKAP9  KCNH2  KCNQ1\n",
       "<span style=\"color: #008080; text-decoration-color: #008080; font-weight: bold\">17</span>     KCNQ1          MTMR4  KCNH2  KCNQ1\n",
       "</pre>\n"
      ],
      "text/plain": [
       "   QueryGene SuppressorGene gene_a gene_b\n",
       "\u001b[1;36m0\u001b[0m        DMD          ADRB2  ATP7B    DMD\n",
       "\u001b[1;36m1\u001b[0m        DMD            FST  ATP7B    DMD\n",
       "\u001b[1;36m2\u001b[0m        DMD          LTBP4  ATP7B    DMD\n",
       "\u001b[1;36m3\u001b[0m        DMD          LTBP4  ATP7B    DMD\n",
       "\u001b[1;36m4\u001b[0m        DMD          LTBP4  ATP7B    DMD\n",
       "\u001b[1;36m5\u001b[0m        DMD          LTBP4  ATP7B    DMD\n",
       "\u001b[1;36m6\u001b[0m        DMD          LTBP4  ATP7B    DMD\n",
       "\u001b[1;36m7\u001b[0m        DMD          LTBP4  ATP7B    DMD\n",
       "\u001b[1;36m8\u001b[0m        DMD          THBS1  ATP7B    DMD\n",
       "\u001b[1;36m9\u001b[0m      FOXC1           GJA1    DPT  FOXC1\n",
       "\u001b[1;36m10\u001b[0m       HFE           BMP2   HAMP    HFE\n",
       "\u001b[1;36m11\u001b[0m       HFE           BMP2   HAMP    HFE\n",
       "\u001b[1;36m12\u001b[0m       HFE         CYBRD1   HAMP    HFE\n",
       "\u001b[1;36m13\u001b[0m       HFE         CYBRD1   HAMP    HFE\n",
       "\u001b[1;36m14\u001b[0m       HFE           TFR2   HAMP    HFE\n",
       "\u001b[1;36m15\u001b[0m       HFE        TMPRSS6   HAMP    HFE\n",
       "\u001b[1;36m16\u001b[0m     KCNQ1          AKAP9  KCNH2  KCNQ1\n",
       "\u001b[1;36m17\u001b[0m     KCNQ1          MTMR4  KCNH2  KCNQ1\n"
      ]
     },
     "metadata": {},
     "output_type": "display_data"
    }
   ],
   "source": [
    "# All type of pairs\n",
    "jvl_match = jvl.merge(olida_pairs[olida_pairs['gene_list_len']==2], how='inner', left_on='SuppressorGene', right_on='gene_a')\n",
    "print(jvl_match[['QueryGene', 'SuppressorGene','gene_a', 'gene_b']])\n",
    "\n",
    "jvl_match = jvl.merge(olida_pairs[olida_pairs['gene_list_len']==2], how='inner', left_on='QueryGene', right_on='gene_a')\n",
    "print(jvl_match[['QueryGene', 'SuppressorGene','gene_a', 'gene_b']])\n",
    "\n",
    "\n",
    "jvl_match = jvl.merge(olida_pairs[olida_pairs['gene_list_len']==2], how='inner', left_on='SuppressorGene', right_on='gene_b')\n",
    "print(jvl_match[['QueryGene', 'SuppressorGene','gene_a', 'gene_b']])\n",
    "\n",
    "jvl_match = jvl.merge(olida_pairs[olida_pairs['gene_list_len']==2], how='inner', left_on='QueryGene', right_on='gene_b')\n",
    "print(jvl_match[['QueryGene', 'SuppressorGene','gene_a', 'gene_b']])"
   ]
  },
  {
   "cell_type": "code",
   "execution_count": 124,
   "metadata": {},
   "outputs": [
    {
     "data": {
      "text/html": [
       "<pre style=\"white-space:pre;overflow-x:auto;line-height:normal;font-family:Menlo,'DejaVu Sans Mono',consolas,'Courier New',monospace\"><span style=\"font-weight: bold\">(</span><span style=\"color: #008080; text-decoration-color: #008080; font-weight: bold\">75</span>, <span style=\"color: #008080; text-decoration-color: #008080; font-weight: bold\">47</span><span style=\"font-weight: bold\">)</span>\n",
       "</pre>\n"
      ],
      "text/plain": [
       "\u001b[1m(\u001b[0m\u001b[1;36m75\u001b[0m, \u001b[1;36m47\u001b[0m\u001b[1m)\u001b[0m\n"
      ]
     },
     "metadata": {},
     "output_type": "display_data"
    },
    {
     "data": {
      "text/html": [
       "<pre style=\"white-space:pre;overflow-x:auto;line-height:normal;font-family:Menlo,'DejaVu Sans Mono',consolas,'Courier New',monospace\">  QueryGene SuppressorGene gene_a  gene_b\n",
       "<span style=\"color: #008080; text-decoration-color: #008080; font-weight: bold\">0</span>      CFTR          FGFR1  FGFR1  SEMA3A\n",
       "<span style=\"color: #008080; text-decoration-color: #008080; font-weight: bold\">1</span>      KRAS          FGFR1  FGFR1  SEMA3A\n",
       "<span style=\"color: #008080; text-decoration-color: #008080; font-weight: bold\">2</span>       HFE           BMP2   BMP2   SMAD6\n",
       "<span style=\"color: #008080; text-decoration-color: #008080; font-weight: bold\">3</span>       HFE           BMP2   BMP2   SMAD6\n",
       "<span style=\"color: #008080; text-decoration-color: #008080; font-weight: bold\">4</span>     PARP1          DNAH6  DNAH6   DNAI1\n",
       "</pre>\n"
      ],
      "text/plain": [
       "  QueryGene SuppressorGene gene_a  gene_b\n",
       "\u001b[1;36m0\u001b[0m      CFTR          FGFR1  FGFR1  SEMA3A\n",
       "\u001b[1;36m1\u001b[0m      KRAS          FGFR1  FGFR1  SEMA3A\n",
       "\u001b[1;36m2\u001b[0m       HFE           BMP2   BMP2   SMAD6\n",
       "\u001b[1;36m3\u001b[0m       HFE           BMP2   BMP2   SMAD6\n",
       "\u001b[1;36m4\u001b[0m     PARP1          DNAH6  DNAH6   DNAI1\n"
      ]
     },
     "metadata": {},
     "output_type": "display_data"
    },
    {
     "data": {
      "text/html": [
       "<pre style=\"white-space:pre;overflow-x:auto;line-height:normal;font-family:Menlo,'DejaVu Sans Mono',consolas,'Courier New',monospace\">  QueryGene SuppressorGene gene_a gene_b\n",
       "<span style=\"color: #008080; text-decoration-color: #008080; font-weight: bold\">0</span>      MEFV           MICA   MEFV  TRAP1\n",
       "<span style=\"color: #008080; text-decoration-color: #008080; font-weight: bold\">1</span>      MEFV           MICA   MEFV  TRAP1\n",
       "<span style=\"color: #008080; text-decoration-color: #008080; font-weight: bold\">2</span>      MEFV           SAA1   MEFV  TRAP1\n",
       "<span style=\"color: #008080; text-decoration-color: #008080; font-weight: bold\">3</span>      MITF           CDK2   MITF    TYR\n",
       "</pre>\n"
      ],
      "text/plain": [
       "  QueryGene SuppressorGene gene_a gene_b\n",
       "\u001b[1;36m0\u001b[0m      MEFV           MICA   MEFV  TRAP1\n",
       "\u001b[1;36m1\u001b[0m      MEFV           MICA   MEFV  TRAP1\n",
       "\u001b[1;36m2\u001b[0m      MEFV           SAA1   MEFV  TRAP1\n",
       "\u001b[1;36m3\u001b[0m      MITF           CDK2   MITF    TYR\n"
      ]
     },
     "metadata": {},
     "output_type": "display_data"
    },
    {
     "data": {
      "text/html": [
       "<pre style=\"white-space:pre;overflow-x:auto;line-height:normal;font-family:Menlo,'DejaVu Sans Mono',consolas,'Courier New',monospace\">  QueryGene SuppressorGene    gene_a gene_b\n",
       "<span style=\"color: #008080; text-decoration-color: #008080; font-weight: bold\">0</span>     BRCA2          MED25     COQ8A  MED25\n",
       "<span style=\"color: #008080; text-decoration-color: #008080; font-weight: bold\">1</span>     PARP3            TTN  TRAPPC11    TTN\n",
       "</pre>\n"
      ],
      "text/plain": [
       "  QueryGene SuppressorGene    gene_a gene_b\n",
       "\u001b[1;36m0\u001b[0m     BRCA2          MED25     COQ8A  MED25\n",
       "\u001b[1;36m1\u001b[0m     PARP3            TTN  TRAPPC11    TTN\n"
      ]
     },
     "metadata": {},
     "output_type": "display_data"
    },
    {
     "data": {
      "text/html": [
       "<pre style=\"white-space:pre;overflow-x:auto;line-height:normal;font-family:Menlo,'DejaVu Sans Mono',consolas,'Courier New',monospace\">   QueryGene SuppressorGene gene_a gene_b\n",
       "<span style=\"color: #008080; text-decoration-color: #008080; font-weight: bold\">0</span>        DMD          ADRB2  ATP7B    DMD\n",
       "<span style=\"color: #008080; text-decoration-color: #008080; font-weight: bold\">1</span>        DMD            FST  ATP7B    DMD\n",
       "<span style=\"color: #008080; text-decoration-color: #008080; font-weight: bold\">2</span>        DMD          LTBP4  ATP7B    DMD\n",
       "<span style=\"color: #008080; text-decoration-color: #008080; font-weight: bold\">3</span>        DMD          LTBP4  ATP7B    DMD\n",
       "<span style=\"color: #008080; text-decoration-color: #008080; font-weight: bold\">4</span>        DMD          LTBP4  ATP7B    DMD\n",
       "<span style=\"color: #008080; text-decoration-color: #008080; font-weight: bold\">5</span>        DMD          LTBP4  ATP7B    DMD\n",
       "<span style=\"color: #008080; text-decoration-color: #008080; font-weight: bold\">6</span>        DMD          LTBP4  ATP7B    DMD\n",
       "<span style=\"color: #008080; text-decoration-color: #008080; font-weight: bold\">7</span>        DMD          LTBP4  ATP7B    DMD\n",
       "<span style=\"color: #008080; text-decoration-color: #008080; font-weight: bold\">8</span>        DMD          THBS1  ATP7B    DMD\n",
       "<span style=\"color: #008080; text-decoration-color: #008080; font-weight: bold\">9</span>      FOXC1           GJA1    DPT  FOXC1\n",
       "<span style=\"color: #008080; text-decoration-color: #008080; font-weight: bold\">10</span>       HFE           BMP2   HAMP    HFE\n",
       "<span style=\"color: #008080; text-decoration-color: #008080; font-weight: bold\">11</span>       HFE           BMP2   HAMP    HFE\n",
       "<span style=\"color: #008080; text-decoration-color: #008080; font-weight: bold\">12</span>       HFE         CYBRD1   HAMP    HFE\n",
       "<span style=\"color: #008080; text-decoration-color: #008080; font-weight: bold\">13</span>       HFE         CYBRD1   HAMP    HFE\n",
       "<span style=\"color: #008080; text-decoration-color: #008080; font-weight: bold\">14</span>       HFE           TFR2   HAMP    HFE\n",
       "<span style=\"color: #008080; text-decoration-color: #008080; font-weight: bold\">15</span>       HFE        TMPRSS6   HAMP    HFE\n",
       "</pre>\n"
      ],
      "text/plain": [
       "   QueryGene SuppressorGene gene_a gene_b\n",
       "\u001b[1;36m0\u001b[0m        DMD          ADRB2  ATP7B    DMD\n",
       "\u001b[1;36m1\u001b[0m        DMD            FST  ATP7B    DMD\n",
       "\u001b[1;36m2\u001b[0m        DMD          LTBP4  ATP7B    DMD\n",
       "\u001b[1;36m3\u001b[0m        DMD          LTBP4  ATP7B    DMD\n",
       "\u001b[1;36m4\u001b[0m        DMD          LTBP4  ATP7B    DMD\n",
       "\u001b[1;36m5\u001b[0m        DMD          LTBP4  ATP7B    DMD\n",
       "\u001b[1;36m6\u001b[0m        DMD          LTBP4  ATP7B    DMD\n",
       "\u001b[1;36m7\u001b[0m        DMD          LTBP4  ATP7B    DMD\n",
       "\u001b[1;36m8\u001b[0m        DMD          THBS1  ATP7B    DMD\n",
       "\u001b[1;36m9\u001b[0m      FOXC1           GJA1    DPT  FOXC1\n",
       "\u001b[1;36m10\u001b[0m       HFE           BMP2   HAMP    HFE\n",
       "\u001b[1;36m11\u001b[0m       HFE           BMP2   HAMP    HFE\n",
       "\u001b[1;36m12\u001b[0m       HFE         CYBRD1   HAMP    HFE\n",
       "\u001b[1;36m13\u001b[0m       HFE         CYBRD1   HAMP    HFE\n",
       "\u001b[1;36m14\u001b[0m       HFE           TFR2   HAMP    HFE\n",
       "\u001b[1;36m15\u001b[0m       HFE        TMPRSS6   HAMP    HFE\n"
      ]
     },
     "metadata": {},
     "output_type": "display_data"
    }
   ],
   "source": [
    "# Considering ONLY Digenic or Dual Molecular effects FOR COMPARISON.\n",
    "########################################################################################\n",
    "op_filt = olida_pairs[olida_pairs['Oligogenic Effect']!='Monogenic+Modifier']\n",
    "print(op_filt.shape)\n",
    "######################################################################################\n",
    "\n",
    "jvl_match = jvl.merge(op_filt[op_filt['gene_list_len']==2], how='inner', left_on='SuppressorGene', right_on='gene_a')\n",
    "print(jvl_match[['QueryGene', 'SuppressorGene','gene_a', 'gene_b']])\n",
    "\n",
    "jvl_match = jvl.merge(op_filt[op_filt['gene_list_len']==2], how='inner', left_on='QueryGene', right_on='gene_a')\n",
    "print(jvl_match[['QueryGene', 'SuppressorGene','gene_a', 'gene_b']])\n",
    "\n",
    "\n",
    "jvl_match = jvl.merge(op_filt[op_filt['gene_list_len']==2], how='inner', left_on='SuppressorGene', right_on='gene_b')\n",
    "print(jvl_match[['QueryGene', 'SuppressorGene','gene_a', 'gene_b']])\n",
    "\n",
    "jvl_match = jvl.merge(op_filt[op_filt['gene_list_len']==2], how='inner', left_on='QueryGene', right_on='gene_b')\n",
    "print(jvl_match[['QueryGene', 'SuppressorGene','gene_a', 'gene_b']])"
   ]
  },
  {
   "cell_type": "code",
   "execution_count": 46,
   "metadata": {},
   "outputs": [
    {
     "data": {
      "text/plain": [
       "Index(['Entry Id', 'Genes', 'Genes Relationship', 'Protein Interactions',\n",
       "       'Common Pathways', 'GENEmeta_x', 'Oligogenic variant combinations',\n",
       "       'olida_id', 'OLIDA ID', 'Omim Id', 'Diseases', 'Oligogenic Effect',\n",
       "       'Ethnicity', 'References', 'Associated Variants', 'FAMmanual',\n",
       "       'STATmanual', 'STATknowledge', 'STATmeta', 'GENEmanual',\n",
       "       'GENEmanual harmonized', 'GENEknowledge', 'GENEmeta_y', 'VARmanual',\n",
       "       'VARknowledge', 'VARmeta', 'FUNmanual', 'FUNmeta', 'FINALmanual',\n",
       "       'FINALmeta', 'gene_list', 'gene_list_len', 'gene_pairs', 'gene_a',\n",
       "       'gene_b', 'target_GOs', 'target_GOs_count', 'modifier_GOs',\n",
       "       'modifier_GOs_count', 'target_POs', 'target_POs_count', 'modifier_POs',\n",
       "       'modifier_POs_count', 'target_DOs', 'target_DOs_count', 'modifier_DOs',\n",
       "       'modifier_DOs_count'],\n",
       "      dtype='object')"
      ]
     },
     "execution_count": 46,
     "metadata": {},
     "output_type": "execute_result"
    }
   ],
   "source": [
    "olida_pairs.columns"
   ]
  },
  {
   "cell_type": "code",
   "execution_count": 47,
   "metadata": {},
   "outputs": [
    {
     "data": {
      "text/html": [
       "<pre style=\"white-space:pre;overflow-x:auto;line-height:normal;font-family:Menlo,'DejaVu Sans Mono',consolas,'Courier New',monospace\"><span style=\"color: #00ff00; text-decoration-color: #00ff00; font-style: italic\">True</span> Digenic                <span style=\"color: #008080; text-decoration-color: #008080; font-weight: bold\">47</span>\n",
       "Dual Molecular Diagnosis    <span style=\"color: #008080; text-decoration-color: #008080; font-weight: bold\">28</span>\n",
       "Name: Oligogenic Effect, dtype: int64\n",
       "</pre>\n"
      ],
      "text/plain": [
       "\u001b[3;92mTrue\u001b[0m Digenic                \u001b[1;36m47\u001b[0m\n",
       "Dual Molecular Diagnosis    \u001b[1;36m28\u001b[0m\n",
       "Name: Oligogenic Effect, dtype: int64\n"
      ]
     },
     "metadata": {},
     "output_type": "display_data"
    },
    {
     "data": {
      "text/html": [
       "<pre style=\"white-space:pre;overflow-x:auto;line-height:normal;font-family:Menlo,'DejaVu Sans Mono',consolas,'Courier New',monospace\"><span style=\"font-weight: bold\">(</span><span style=\"color: #008080; text-decoration-color: #008080; font-weight: bold\">75</span>, <span style=\"color: #008080; text-decoration-color: #008080; font-weight: bold\">47</span><span style=\"font-weight: bold\">)</span>\n",
       "</pre>\n"
      ],
      "text/plain": [
       "\u001b[1m(\u001b[0m\u001b[1;36m75\u001b[0m, \u001b[1;36m47\u001b[0m\u001b[1m)\u001b[0m\n"
      ]
     },
     "metadata": {},
     "output_type": "display_data"
    }
   ],
   "source": [
    "# Taking ONLY Digenic or Dual Molecular effects. Because we don't know the direction of \n",
    "# effect for Monogenic+Modifier pairs\n",
    "olida_pairs = olida_pairs[olida_pairs['Oligogenic Effect']!='Monogenic+Modifier']\n",
    "print(olida_pairs['Oligogenic Effect'].value_counts())\n",
    "print(olida_pairs.shape)"
   ]
  },
  {
   "cell_type": "code",
   "execution_count": 48,
   "metadata": {},
   "outputs": [],
   "source": [
    "# Adding source column\n",
    "jvl['source'] = 'JVL'\n",
    "olida_pairs['source'] = 'OLIDA'\n",
    "m_df['source'] = 'MTG'\n",
    "\n",
    "# Classification labels\n",
    "jvl['is_modifier'] = 1\n",
    "olida_pairs['is_modifier'] = 0\n",
    "\n",
    "# Rename columns to indicate same information\n",
    "jvl.rename(columns={'QueryGene': 'target_gene', 'SuppressorGene': 'modifier_gene'}, inplace=True)\n",
    "olida_pairs.rename(columns={'gene_a': 'target_gene', 'gene_b': 'modifier_gene'}, inplace=True)\n",
    "m_df.rename(columns={'gene_symbol': 'target_gene', 'target_gene_symbol': 'modifier_gene'}, inplace=True)\n"
   ]
  },
  {
   "cell_type": "markdown",
   "id": "e41214ea",
   "metadata": {},
   "source": [
    "## Consolidating 3 datasets"
   ]
  },
  {
   "cell_type": "code",
   "execution_count": 49,
   "metadata": {},
   "outputs": [
    {
     "data": {
      "text/html": [
       "<pre style=\"white-space:pre;overflow-x:auto;line-height:normal;font-family:Menlo,'DejaVu Sans Mono',consolas,'Courier New',monospace\"><span style=\"font-weight: bold\">(</span><span style=\"color: #008080; text-decoration-color: #008080; font-weight: bold\">8337</span>, <span style=\"color: #008080; text-decoration-color: #008080; font-weight: bold\">218</span><span style=\"font-weight: bold\">)</span>\n",
       "</pre>\n"
      ],
      "text/plain": [
       "\u001b[1m(\u001b[0m\u001b[1;36m8337\u001b[0m, \u001b[1;36m218\u001b[0m\u001b[1m)\u001b[0m\n"
      ]
     },
     "metadata": {},
     "output_type": "display_data"
    },
    {
     "data": {
      "text/html": [
       "<pre style=\"white-space:pre;overflow-x:auto;line-height:normal;font-family:Menlo,'DejaVu Sans Mono',consolas,'Courier New',monospace\">MTG      <span style=\"color: #008080; text-decoration-color: #008080; font-weight: bold\">7330</span>\n",
       "JVL       <span style=\"color: #008080; text-decoration-color: #008080; font-weight: bold\">932</span>\n",
       "OLIDA      <span style=\"color: #008080; text-decoration-color: #008080; font-weight: bold\">75</span>\n",
       "Name: source, dtype: int64\n",
       "</pre>\n"
      ],
      "text/plain": [
       "MTG      \u001b[1;36m7330\u001b[0m\n",
       "JVL       \u001b[1;36m932\u001b[0m\n",
       "OLIDA      \u001b[1;36m75\u001b[0m\n",
       "Name: source, dtype: int64\n"
      ]
     },
     "metadata": {},
     "output_type": "display_data"
    }
   ],
   "source": [
    "dataset_df = pd.concat([jvl, olida_pairs, m_df])\n",
    "print(dataset_df.shape)\n",
    "print(dataset_df['source'].value_counts())"
   ]
  },
  {
   "cell_type": "code",
   "execution_count": 50,
   "metadata": {},
   "outputs": [
    {
     "data": {
      "text/html": [
       "<div>\n",
       "<style scoped>\n",
       "    .dataframe tbody tr th:only-of-type {\n",
       "        vertical-align: middle;\n",
       "    }\n",
       "\n",
       "    .dataframe tbody tr th {\n",
       "        vertical-align: top;\n",
       "    }\n",
       "\n",
       "    .dataframe thead th {\n",
       "        text-align: right;\n",
       "    }\n",
       "</style>\n",
       "<table border=\"1\" class=\"dataframe\">\n",
       "  <thead>\n",
       "    <tr style=\"text-align: right;\">\n",
       "      <th></th>\n",
       "      <th>source</th>\n",
       "      <th>target_gene</th>\n",
       "      <th>modifier_gene</th>\n",
       "      <th>is_modifier</th>\n",
       "      <th>PubmedID</th>\n",
       "      <th>Category</th>\n",
       "      <th>Tissue</th>\n",
       "      <th>QueryFunction</th>\n",
       "      <th>QueryMutation</th>\n",
       "      <th>QueryType</th>\n",
       "      <th>...</th>\n",
       "      <th>wpo_resnik_scaled_bma</th>\n",
       "      <th>wpo_lin_max</th>\n",
       "      <th>wpo_lin_avg</th>\n",
       "      <th>wpo_lin_bma</th>\n",
       "      <th>wpo_jiang_max</th>\n",
       "      <th>wpo_jiang_avg</th>\n",
       "      <th>wpo_jiang_bma</th>\n",
       "      <th>wpo_jiang_seco_max</th>\n",
       "      <th>wpo_jiang_seco_avg</th>\n",
       "      <th>wpo_jiang_seco_bma</th>\n",
       "    </tr>\n",
       "  </thead>\n",
       "  <tbody>\n",
       "    <tr>\n",
       "      <th>0</th>\n",
       "      <td>JVL</td>\n",
       "      <td>APOE</td>\n",
       "      <td>CASP7</td>\n",
       "      <td>1.0</td>\n",
       "      <td>27358062.0</td>\n",
       "      <td>Patients</td>\n",
       "      <td>Neuron</td>\n",
       "      <td>Lipid and sterol biosynthesis &amp; transport</td>\n",
       "      <td>C112R/C112R</td>\n",
       "      <td>-</td>\n",
       "      <td>...</td>\n",
       "      <td>NaN</td>\n",
       "      <td>NaN</td>\n",
       "      <td>NaN</td>\n",
       "      <td>NaN</td>\n",
       "      <td>NaN</td>\n",
       "      <td>NaN</td>\n",
       "      <td>NaN</td>\n",
       "      <td>NaN</td>\n",
       "      <td>NaN</td>\n",
       "      <td>NaN</td>\n",
       "    </tr>\n",
       "    <tr>\n",
       "      <th>1</th>\n",
       "      <td>JVL</td>\n",
       "      <td>APOE</td>\n",
       "      <td>HBB</td>\n",
       "      <td>1.0</td>\n",
       "      <td>24116184.0</td>\n",
       "      <td>Patients</td>\n",
       "      <td>-</td>\n",
       "      <td>Lipid and sterol biosynthesis &amp; transport</td>\n",
       "      <td>C112R/?</td>\n",
       "      <td>-</td>\n",
       "      <td>...</td>\n",
       "      <td>NaN</td>\n",
       "      <td>NaN</td>\n",
       "      <td>NaN</td>\n",
       "      <td>NaN</td>\n",
       "      <td>NaN</td>\n",
       "      <td>NaN</td>\n",
       "      <td>NaN</td>\n",
       "      <td>NaN</td>\n",
       "      <td>NaN</td>\n",
       "      <td>NaN</td>\n",
       "    </tr>\n",
       "    <tr>\n",
       "      <th>2</th>\n",
       "      <td>JVL</td>\n",
       "      <td>APOE</td>\n",
       "      <td>KL</td>\n",
       "      <td>1.0</td>\n",
       "      <td>30867273.0</td>\n",
       "      <td>Patients</td>\n",
       "      <td>Neuron</td>\n",
       "      <td>Lipid and sterol biosynthesis &amp; transport</td>\n",
       "      <td>C112R/?</td>\n",
       "      <td>-</td>\n",
       "      <td>...</td>\n",
       "      <td>NaN</td>\n",
       "      <td>NaN</td>\n",
       "      <td>NaN</td>\n",
       "      <td>NaN</td>\n",
       "      <td>NaN</td>\n",
       "      <td>NaN</td>\n",
       "      <td>NaN</td>\n",
       "      <td>NaN</td>\n",
       "      <td>NaN</td>\n",
       "      <td>NaN</td>\n",
       "    </tr>\n",
       "    <tr>\n",
       "      <th>3</th>\n",
       "      <td>JVL</td>\n",
       "      <td>APOE</td>\n",
       "      <td>KL</td>\n",
       "      <td>1.0</td>\n",
       "      <td>32282020.0</td>\n",
       "      <td>Patients</td>\n",
       "      <td>Neuron</td>\n",
       "      <td>Lipid and sterol biosynthesis &amp; transport</td>\n",
       "      <td>C112R/?</td>\n",
       "      <td>-</td>\n",
       "      <td>...</td>\n",
       "      <td>NaN</td>\n",
       "      <td>NaN</td>\n",
       "      <td>NaN</td>\n",
       "      <td>NaN</td>\n",
       "      <td>NaN</td>\n",
       "      <td>NaN</td>\n",
       "      <td>NaN</td>\n",
       "      <td>NaN</td>\n",
       "      <td>NaN</td>\n",
       "      <td>NaN</td>\n",
       "    </tr>\n",
       "    <tr>\n",
       "      <th>4</th>\n",
       "      <td>JVL</td>\n",
       "      <td>ATR</td>\n",
       "      <td>ETV1</td>\n",
       "      <td>1.0</td>\n",
       "      <td>23284306.0</td>\n",
       "      <td>Cells</td>\n",
       "      <td>-</td>\n",
       "      <td>DNA replication and repair;Signaling &amp; stress ...</td>\n",
       "      <td>silencing/silencing</td>\n",
       "      <td>LOF</td>\n",
       "      <td>...</td>\n",
       "      <td>NaN</td>\n",
       "      <td>NaN</td>\n",
       "      <td>NaN</td>\n",
       "      <td>NaN</td>\n",
       "      <td>NaN</td>\n",
       "      <td>NaN</td>\n",
       "      <td>NaN</td>\n",
       "      <td>NaN</td>\n",
       "      <td>NaN</td>\n",
       "      <td>NaN</td>\n",
       "    </tr>\n",
       "  </tbody>\n",
       "</table>\n",
       "<p>5 rows × 218 columns</p>\n",
       "</div>"
      ],
      "text/plain": [
       "  source target_gene modifier_gene  is_modifier    PubmedID  Category  Tissue  \\\n",
       "0    JVL        APOE         CASP7          1.0  27358062.0  Patients  Neuron   \n",
       "1    JVL        APOE           HBB          1.0  24116184.0  Patients       -   \n",
       "2    JVL        APOE            KL          1.0  30867273.0  Patients  Neuron   \n",
       "3    JVL        APOE            KL          1.0  32282020.0  Patients  Neuron   \n",
       "4    JVL         ATR          ETV1          1.0  23284306.0     Cells       -   \n",
       "\n",
       "                                       QueryFunction        QueryMutation  \\\n",
       "0          Lipid and sterol biosynthesis & transport          C112R/C112R   \n",
       "1          Lipid and sterol biosynthesis & transport              C112R/?   \n",
       "2          Lipid and sterol biosynthesis & transport              C112R/?   \n",
       "3          Lipid and sterol biosynthesis & transport              C112R/?   \n",
       "4  DNA replication and repair;Signaling & stress ...  silencing/silencing   \n",
       "\n",
       "  QueryType  ... wpo_resnik_scaled_bma wpo_lin_max wpo_lin_avg wpo_lin_bma  \\\n",
       "0         -  ...                   NaN         NaN         NaN         NaN   \n",
       "1         -  ...                   NaN         NaN         NaN         NaN   \n",
       "2         -  ...                   NaN         NaN         NaN         NaN   \n",
       "3         -  ...                   NaN         NaN         NaN         NaN   \n",
       "4       LOF  ...                   NaN         NaN         NaN         NaN   \n",
       "\n",
       "  wpo_jiang_max wpo_jiang_avg wpo_jiang_bma wpo_jiang_seco_max  \\\n",
       "0           NaN           NaN           NaN                NaN   \n",
       "1           NaN           NaN           NaN                NaN   \n",
       "2           NaN           NaN           NaN                NaN   \n",
       "3           NaN           NaN           NaN                NaN   \n",
       "4           NaN           NaN           NaN                NaN   \n",
       "\n",
       "  wpo_jiang_seco_avg wpo_jiang_seco_bma  \n",
       "0                NaN                NaN  \n",
       "1                NaN                NaN  \n",
       "2                NaN                NaN  \n",
       "3                NaN                NaN  \n",
       "4                NaN                NaN  \n",
       "\n",
       "[5 rows x 218 columns]"
      ]
     },
     "execution_count": 50,
     "metadata": {},
     "output_type": "execute_result"
    }
   ],
   "source": [
    "# Reordering important columns\n",
    "desired_first_columns = ['source', 'target_gene', 'modifier_gene', 'is_modifier'] \n",
    "remaining_columns = [col for col in dataset_df.columns if col not in desired_first_columns]\n",
    "new_column_order = desired_first_columns + remaining_columns\n",
    "dataset_df = dataset_df[new_column_order]\n",
    "dataset_df.head()\n"
   ]
  },
  {
   "cell_type": "code",
   "execution_count": 51,
   "metadata": {},
   "outputs": [],
   "source": [
    "# # TODO check gene info to retrieve gene ID for better comparison of uniqueness\n",
    "dataset_df.to_csv('./data/02_intermediate/v4/20231209-combined-uncleaned-uncalc.tsv', index=False, sep='\\t')"
   ]
  },
  {
   "cell_type": "code",
   "execution_count": 52,
   "id": "adaa5460",
   "metadata": {},
   "outputs": [],
   "source": [
    "dataset_df.drop_duplicates(subset=['target_gene', 'modifier_gene'], inplace=True)"
   ]
  },
  {
   "cell_type": "code",
   "execution_count": 53,
   "id": "aacbea21",
   "metadata": {},
   "outputs": [],
   "source": [
    "# dataset_df.sample(100)[['target_gene', 'modifier_gene', 'target_POs', 'modifier_POs']].to_csv('./data/02_intermediate/v4/combined-sampled-sm.tsv', index=False, sep='\\t')"
   ]
  },
  {
   "cell_type": "code",
   "execution_count": 54,
   "id": "008b94e2",
   "metadata": {},
   "outputs": [
    {
     "data": {
      "text/html": [
       "<pre style=\"white-space:pre;overflow-x:auto;line-height:normal;font-family:Menlo,'DejaVu Sans Mono',consolas,'Courier New',monospace\">MTG      <span style=\"color: #008080; text-decoration-color: #008080; font-weight: bold\">5182</span>\n",
       "JVL       <span style=\"color: #008080; text-decoration-color: #008080; font-weight: bold\">476</span>\n",
       "OLIDA      <span style=\"color: #008080; text-decoration-color: #008080; font-weight: bold\">74</span>\n",
       "Name: source, dtype: int64\n",
       "</pre>\n"
      ],
      "text/plain": [
       "MTG      \u001b[1;36m5182\u001b[0m\n",
       "JVL       \u001b[1;36m476\u001b[0m\n",
       "OLIDA      \u001b[1;36m74\u001b[0m\n",
       "Name: source, dtype: int64\n"
      ]
     },
     "metadata": {},
     "output_type": "display_data"
    },
    {
     "data": {
      "text/html": [
       "<pre style=\"white-space:pre;overflow-x:auto;line-height:normal;font-family:Menlo,'DejaVu Sans Mono',consolas,'Courier New',monospace\"><span style=\"font-weight: bold\">(</span><span style=\"color: #008080; text-decoration-color: #008080; font-weight: bold\">5732</span>, <span style=\"color: #008080; text-decoration-color: #008080; font-weight: bold\">218</span><span style=\"font-weight: bold\">)</span>\n",
       "</pre>\n"
      ],
      "text/plain": [
       "\u001b[1m(\u001b[0m\u001b[1;36m5732\u001b[0m, \u001b[1;36m218\u001b[0m\u001b[1m)\u001b[0m\n"
      ]
     },
     "metadata": {},
     "output_type": "display_data"
    }
   ],
   "source": [
    "print(dataset_df['source'].value_counts())\n",
    "print(dataset_df.shape)"
   ]
  },
  {
   "cell_type": "code",
   "execution_count": 144,
   "id": "f4b0063b",
   "metadata": {},
   "outputs": [
    {
     "data": {
      "text/plain": [
       "<nxontology.ontology.NXOntology at 0x2adf54e559a0>"
      ]
     },
     "execution_count": 144,
     "metadata": {},
     "output_type": "execute_result"
    }
   ],
   "source": [
    "up_go"
   ]
  },
  {
   "cell_type": "code",
   "execution_count": 55,
   "id": "e344759c",
   "metadata": {},
   "outputs": [],
   "source": [
    "def get_subgraph(phenotype_list: list, graph):\n",
    "    # Remove any potential empty strings and duplicates\n",
    "    phenotype_list = list(filter(None, set(phenotype_list)))\n",
    "    # Filter nodes that are in the graph\n",
    "    nodes = [node for node in phenotype_list if node in graph.nodes]\n",
    "    return graph.subgraph(nodes).copy()\n",
    "\n",
    "def terms_to_nx_subgraph(terms: str, g):\n",
    "    if type(terms) is str:\n",
    "        return get_subgraph(terms.split(','), g)\n",
    "    else:\n",
    "        return None\n",
    "\n",
    "# Parse the 'target_*Os' and 'modifier_*Os' columns and create subgraphs\n",
    "#########################################################################\n",
    "dataset_df['target_GOs_subgraph'] = dataset_df['target_GOs'].apply(terms_to_nx_subgraph, g=up_go.graph)\n",
    "dataset_df['modifier_GOs_subgraph'] = dataset_df['modifier_GOs'].apply(terms_to_nx_subgraph, g=up_go.graph)\n",
    "\n",
    "# PO\n",
    "dataset_df['target_POs_subgraph'] = dataset_df['target_POs'].apply(terms_to_nx_subgraph, g=up_go.graph)\n",
    "dataset_df['modifier_POs_subgraph'] = dataset_df['modifier_POs'].apply(terms_to_nx_subgraph, g=up_go.graph)"
   ]
  },
  {
   "cell_type": "code",
   "execution_count": 92,
   "id": "bacd4c95",
   "metadata": {},
   "outputs": [],
   "source": [
    "# DO\n",
    "dataset_df['target_DOs_subgraph'] = dataset_df['target_DOs'].apply(terms_to_nx_subgraph, g=up_go.graph)\n",
    "dataset_df['modifier_DOs_subgraph'] = dataset_df['modifier_DOs'].apply(terms_to_nx_subgraph, g=up_go.graph)"
   ]
  },
  {
   "cell_type": "code",
   "execution_count": 93,
   "id": "68b0cebc",
   "metadata": {},
   "outputs": [
    {
     "data": {
      "text/html": [
       "<pre style=\"white-space:pre;overflow-x:auto;line-height:normal;font-family:Menlo,'DejaVu Sans Mono',consolas,'Courier New',monospace\">GO not available\n",
       "</pre>\n"
      ],
      "text/plain": [
       "GO not available\n"
      ]
     },
     "metadata": {},
     "output_type": "display_data"
    },
    {
     "data": {
      "text/html": [
       "<pre style=\"white-space:pre;overflow-x:auto;line-height:normal;font-family:Menlo,'DejaVu Sans Mono',consolas,'Courier New',monospace\">MTG    <span style=\"color: #008080; text-decoration-color: #008080; font-weight: bold\">1356</span>\n",
       "JVL       <span style=\"color: #008080; text-decoration-color: #008080; font-weight: bold\">6</span>\n",
       "Name: source, dtype: int64\n",
       "</pre>\n"
      ],
      "text/plain": [
       "MTG    \u001b[1;36m1356\u001b[0m\n",
       "JVL       \u001b[1;36m6\u001b[0m\n",
       "Name: source, dtype: int64\n"
      ]
     },
     "metadata": {},
     "output_type": "display_data"
    },
    {
     "data": {
      "text/html": [
       "<pre style=\"white-space:pre;overflow-x:auto;line-height:normal;font-family:Menlo,'DejaVu Sans Mono',consolas,'Courier New',monospace\">JVL    <span style=\"color: #008080; text-decoration-color: #008080; font-weight: bold\">1</span>\n",
       "Name: source, dtype: int64\n",
       "</pre>\n"
      ],
      "text/plain": [
       "JVL    \u001b[1;36m1\u001b[0m\n",
       "Name: source, dtype: int64\n"
      ]
     },
     "metadata": {},
     "output_type": "display_data"
    },
    {
     "data": {
      "text/html": [
       "<pre style=\"white-space:pre;overflow-x:auto;line-height:normal;font-family:Menlo,'DejaVu Sans Mono',consolas,'Courier New',monospace\">PO not available\n",
       "</pre>\n"
      ],
      "text/plain": [
       "PO not available\n"
      ]
     },
     "metadata": {},
     "output_type": "display_data"
    },
    {
     "data": {
      "text/html": [
       "<pre style=\"white-space:pre;overflow-x:auto;line-height:normal;font-family:Menlo,'DejaVu Sans Mono',consolas,'Courier New',monospace\">MTG      <span style=\"color: #008080; text-decoration-color: #008080; font-weight: bold\">469</span>\n",
       "JVL      <span style=\"color: #008080; text-decoration-color: #008080; font-weight: bold\">210</span>\n",
       "OLIDA      <span style=\"color: #008080; text-decoration-color: #008080; font-weight: bold\">7</span>\n",
       "Name: source, dtype: int64\n",
       "</pre>\n"
      ],
      "text/plain": [
       "MTG      \u001b[1;36m469\u001b[0m\n",
       "JVL      \u001b[1;36m210\u001b[0m\n",
       "OLIDA      \u001b[1;36m7\u001b[0m\n",
       "Name: source, dtype: int64\n"
      ]
     },
     "metadata": {},
     "output_type": "display_data"
    },
    {
     "data": {
      "text/html": [
       "<pre style=\"white-space:pre;overflow-x:auto;line-height:normal;font-family:Menlo,'DejaVu Sans Mono',consolas,'Courier New',monospace\">JVL      <span style=\"color: #008080; text-decoration-color: #008080; font-weight: bold\">72</span>\n",
       "OLIDA     <span style=\"color: #008080; text-decoration-color: #008080; font-weight: bold\">4</span>\n",
       "Name: source, dtype: int64\n",
       "</pre>\n"
      ],
      "text/plain": [
       "JVL      \u001b[1;36m72\u001b[0m\n",
       "OLIDA     \u001b[1;36m4\u001b[0m\n",
       "Name: source, dtype: int64\n"
      ]
     },
     "metadata": {},
     "output_type": "display_data"
    },
    {
     "data": {
      "text/html": [
       "<pre style=\"white-space:pre;overflow-x:auto;line-height:normal;font-family:Menlo,'DejaVu Sans Mono',consolas,'Courier New',monospace\">DO not available\n",
       "</pre>\n"
      ],
      "text/plain": [
       "DO not available\n"
      ]
     },
     "metadata": {},
     "output_type": "display_data"
    },
    {
     "data": {
      "text/html": [
       "<pre style=\"white-space:pre;overflow-x:auto;line-height:normal;font-family:Menlo,'DejaVu Sans Mono',consolas,'Courier New',monospace\">MTG      <span style=\"color: #008080; text-decoration-color: #008080; font-weight: bold\">3834</span>\n",
       "JVL       <span style=\"color: #008080; text-decoration-color: #008080; font-weight: bold\">130</span>\n",
       "OLIDA       <span style=\"color: #008080; text-decoration-color: #008080; font-weight: bold\">8</span>\n",
       "Name: source, dtype: int64\n",
       "</pre>\n"
      ],
      "text/plain": [
       "MTG      \u001b[1;36m3834\u001b[0m\n",
       "JVL       \u001b[1;36m130\u001b[0m\n",
       "OLIDA       \u001b[1;36m8\u001b[0m\n",
       "Name: source, dtype: int64\n"
      ]
     },
     "metadata": {},
     "output_type": "display_data"
    },
    {
     "data": {
      "text/html": [
       "<pre style=\"white-space:pre;overflow-x:auto;line-height:normal;font-family:Menlo,'DejaVu Sans Mono',consolas,'Courier New',monospace\">MTG      <span style=\"color: #008080; text-decoration-color: #008080; font-weight: bold\">5182</span>\n",
       "JVL        <span style=\"color: #008080; text-decoration-color: #008080; font-weight: bold\">48</span>\n",
       "OLIDA       <span style=\"color: #008080; text-decoration-color: #008080; font-weight: bold\">4</span>\n",
       "Name: source, dtype: int64\n",
       "</pre>\n"
      ],
      "text/plain": [
       "MTG      \u001b[1;36m5182\u001b[0m\n",
       "JVL        \u001b[1;36m48\u001b[0m\n",
       "OLIDA       \u001b[1;36m4\u001b[0m\n",
       "Name: source, dtype: int64\n"
      ]
     },
     "metadata": {},
     "output_type": "display_data"
    }
   ],
   "source": [
    "print('GO not available')\n",
    "print(dataset_df[dataset_df['modifier_GOs_subgraph'].isna()]['source'].value_counts())\n",
    "print(dataset_df[dataset_df['target_GOs_subgraph'].isna()]['source'].value_counts())\n",
    "\n",
    "print('PO not available')\n",
    "print(dataset_df[dataset_df['modifier_POs_subgraph'].isna()]['source'].value_counts())\n",
    "print(dataset_df[dataset_df['target_POs_subgraph'].isna()]['source'].value_counts())\n",
    "\n",
    "print('DO not available')\n",
    "print(dataset_df[dataset_df['modifier_DOs_subgraph'].isna()]['source'].value_counts())\n",
    "print(dataset_df[dataset_df['target_DOs_subgraph'].isna()]['source'].value_counts())"
   ]
  },
  {
   "cell_type": "markdown",
   "id": "6c8e890e",
   "metadata": {},
   "source": [
    "Exploring the entris that does not have any annotations"
   ]
  },
  {
   "cell_type": "code",
   "execution_count": 68,
   "id": "cc1d0534",
   "metadata": {},
   "outputs": [],
   "source": [
    "from IPython.display import display"
   ]
  },
  {
   "cell_type": "code",
   "execution_count": 78,
   "id": "707fd1ec",
   "metadata": {},
   "outputs": [
    {
     "data": {
      "text/html": [
       "<div>\n",
       "<style scoped>\n",
       "    .dataframe tbody tr th:only-of-type {\n",
       "        vertical-align: middle;\n",
       "    }\n",
       "\n",
       "    .dataframe tbody tr th {\n",
       "        vertical-align: top;\n",
       "    }\n",
       "\n",
       "    .dataframe thead th {\n",
       "        text-align: right;\n",
       "    }\n",
       "</style>\n",
       "<table border=\"1\" class=\"dataframe\">\n",
       "  <thead>\n",
       "    <tr style=\"text-align: right;\">\n",
       "      <th></th>\n",
       "      <th>target_gene</th>\n",
       "      <th>modifier_gene</th>\n",
       "      <th>target_GOs</th>\n",
       "      <th>modifier_GOs</th>\n",
       "    </tr>\n",
       "  </thead>\n",
       "  <tbody>\n",
       "    <tr>\n",
       "      <th>61</th>\n",
       "      <td>mat-2</td>\n",
       "      <td>zyg-1</td>\n",
       "      <td>GO:0000003,GO:0000166,GO:0000278,GO:0004672,GO...</td>\n",
       "      <td>NaN</td>\n",
       "    </tr>\n",
       "    <tr>\n",
       "      <th>1969</th>\n",
       "      <td>apc-17</td>\n",
       "      <td>zyg-1</td>\n",
       "      <td>GO:0000003,GO:0000166,GO:0000278,GO:0004672,GO...</td>\n",
       "      <td>NaN</td>\n",
       "    </tr>\n",
       "  </tbody>\n",
       "</table>\n",
       "</div>"
      ],
      "text/plain": [
       "     target_gene modifier_gene  \\\n",
       "61         mat-2         zyg-1   \n",
       "1969      apc-17         zyg-1   \n",
       "\n",
       "                                             target_GOs modifier_GOs  \n",
       "61    GO:0000003,GO:0000166,GO:0000278,GO:0004672,GO...          NaN  \n",
       "1969  GO:0000003,GO:0000166,GO:0000278,GO:0004672,GO...          NaN  "
      ]
     },
     "metadata": {},
     "output_type": "display_data"
    }
   ],
   "source": [
    "__df = dataset_df[(dataset_df['modifier_GOs_subgraph'].isna()) & (dataset_df['source']=='MTG')]\n",
    "display(__df[__df['is_modifier']==1][['target_gene', 'modifier_gene', 'target_GOs', 'modifier_GOs']])\n",
    "del __df"
   ]
  },
  {
   "cell_type": "code",
   "execution_count": 79,
   "id": "681e3c44",
   "metadata": {},
   "outputs": [
    {
     "data": {
      "text/html": [
       "<div>\n",
       "<style scoped>\n",
       "    .dataframe tbody tr th:only-of-type {\n",
       "        vertical-align: middle;\n",
       "    }\n",
       "\n",
       "    .dataframe tbody tr th {\n",
       "        vertical-align: top;\n",
       "    }\n",
       "\n",
       "    .dataframe thead th {\n",
       "        text-align: right;\n",
       "    }\n",
       "</style>\n",
       "<table border=\"1\" class=\"dataframe\">\n",
       "  <thead>\n",
       "    <tr style=\"text-align: right;\">\n",
       "      <th></th>\n",
       "      <th>Sample</th>\n",
       "      <th>chromosome</th>\n",
       "      <th>position</th>\n",
       "      <th>ref</th>\n",
       "      <th>alt</th>\n",
       "      <th>wormbase_gene_id</th>\n",
       "      <th>target_gene</th>\n",
       "      <th>gene_start_position</th>\n",
       "      <th>gene_end_position</th>\n",
       "      <th>strain</th>\n",
       "      <th>...</th>\n",
       "      <th>modifier_GOs_count</th>\n",
       "      <th>target_POs</th>\n",
       "      <th>target_POs_count</th>\n",
       "      <th>modifier_POs</th>\n",
       "      <th>modifier_POs_count</th>\n",
       "      <th>target_DOs</th>\n",
       "      <th>target_DOs_count</th>\n",
       "      <th>modifier_DOs</th>\n",
       "      <th>modifier_DOs_count</th>\n",
       "      <th>source</th>\n",
       "    </tr>\n",
       "  </thead>\n",
       "  <tbody>\n",
       "    <tr>\n",
       "      <th>61</th>\n",
       "      <td>MTG29</td>\n",
       "      <td>II</td>\n",
       "      <td>11117776</td>\n",
       "      <td>G</td>\n",
       "      <td>A</td>\n",
       "      <td>WBGene00003133</td>\n",
       "      <td>mat-2</td>\n",
       "      <td>II</td>\n",
       "      <td>11112719.0</td>\n",
       "      <td>29</td>\n",
       "      <td>...</td>\n",
       "      <td>0</td>\n",
       "      <td>WBPhenotype:0000025,WBPhenotype:0000050,WBPhen...</td>\n",
       "      <td>88</td>\n",
       "      <td>NaN</td>\n",
       "      <td>0</td>\n",
       "      <td>NaN</td>\n",
       "      <td>0</td>\n",
       "      <td>NaN</td>\n",
       "      <td>0</td>\n",
       "      <td>MTG</td>\n",
       "    </tr>\n",
       "    <tr>\n",
       "      <th>1810</th>\n",
       "      <td>MTG352</td>\n",
       "      <td>II</td>\n",
       "      <td>11119736</td>\n",
       "      <td>G</td>\n",
       "      <td>A</td>\n",
       "      <td>WBGene00003133</td>\n",
       "      <td>mat-2</td>\n",
       "      <td>11112719</td>\n",
       "      <td>11120788.0</td>\n",
       "      <td>352</td>\n",
       "      <td>...</td>\n",
       "      <td>0</td>\n",
       "      <td>WBPhenotype:0000025,WBPhenotype:0000050,WBPhen...</td>\n",
       "      <td>88</td>\n",
       "      <td>NaN</td>\n",
       "      <td>0</td>\n",
       "      <td>NaN</td>\n",
       "      <td>0</td>\n",
       "      <td>NaN</td>\n",
       "      <td>0</td>\n",
       "      <td>MTG</td>\n",
       "    </tr>\n",
       "    <tr>\n",
       "      <th>3684</th>\n",
       "      <td>MTG142</td>\n",
       "      <td>II</td>\n",
       "      <td>11117514</td>\n",
       "      <td>T</td>\n",
       "      <td>G</td>\n",
       "      <td>WBGene00003133</td>\n",
       "      <td>mat-2</td>\n",
       "      <td>11112719</td>\n",
       "      <td>11120788.0</td>\n",
       "      <td>142</td>\n",
       "      <td>...</td>\n",
       "      <td>0</td>\n",
       "      <td>WBPhenotype:0000025,WBPhenotype:0000050,WBPhen...</td>\n",
       "      <td>88</td>\n",
       "      <td>NaN</td>\n",
       "      <td>0</td>\n",
       "      <td>NaN</td>\n",
       "      <td>0</td>\n",
       "      <td>NaN</td>\n",
       "      <td>0</td>\n",
       "      <td>MTG</td>\n",
       "    </tr>\n",
       "    <tr>\n",
       "      <th>6369</th>\n",
       "      <td>MTG345</td>\n",
       "      <td>II</td>\n",
       "      <td>11115668</td>\n",
       "      <td>T</td>\n",
       "      <td>A</td>\n",
       "      <td>WBGene00003133</td>\n",
       "      <td>mat-2</td>\n",
       "      <td>11112719</td>\n",
       "      <td>11120788.0</td>\n",
       "      <td>345</td>\n",
       "      <td>...</td>\n",
       "      <td>0</td>\n",
       "      <td>WBPhenotype:0000025,WBPhenotype:0000050,WBPhen...</td>\n",
       "      <td>88</td>\n",
       "      <td>NaN</td>\n",
       "      <td>0</td>\n",
       "      <td>NaN</td>\n",
       "      <td>0</td>\n",
       "      <td>NaN</td>\n",
       "      <td>0</td>\n",
       "      <td>MTG</td>\n",
       "    </tr>\n",
       "  </tbody>\n",
       "</table>\n",
       "<p>4 rows × 169 columns</p>\n",
       "</div>"
      ],
      "text/plain": [
       "      Sample chromosome  position ref alt wormbase_gene_id target_gene  \\\n",
       "61     MTG29         II  11117776   G   A   WBGene00003133       mat-2   \n",
       "1810  MTG352         II  11119736   G   A   WBGene00003133       mat-2   \n",
       "3684  MTG142         II  11117514   T   G   WBGene00003133       mat-2   \n",
       "6369  MTG345         II  11115668   T   A   WBGene00003133       mat-2   \n",
       "\n",
       "     gene_start_position  gene_end_position  strain  ... modifier_GOs_count  \\\n",
       "61                    II         11112719.0      29  ...                  0   \n",
       "1810            11112719         11120788.0     352  ...                  0   \n",
       "3684            11112719         11120788.0     142  ...                  0   \n",
       "6369            11112719         11120788.0     345  ...                  0   \n",
       "\n",
       "                                             target_POs target_POs_count  \\\n",
       "61    WBPhenotype:0000025,WBPhenotype:0000050,WBPhen...               88   \n",
       "1810  WBPhenotype:0000025,WBPhenotype:0000050,WBPhen...               88   \n",
       "3684  WBPhenotype:0000025,WBPhenotype:0000050,WBPhen...               88   \n",
       "6369  WBPhenotype:0000025,WBPhenotype:0000050,WBPhen...               88   \n",
       "\n",
       "      modifier_POs  modifier_POs_count  target_DOs  target_DOs_count  \\\n",
       "61             NaN                   0         NaN                 0   \n",
       "1810           NaN                   0         NaN                 0   \n",
       "3684           NaN                   0         NaN                 0   \n",
       "6369           NaN                   0         NaN                 0   \n",
       "\n",
       "      modifier_DOs  modifier_DOs_count  source  \n",
       "61             NaN                   0     MTG  \n",
       "1810           NaN                   0     MTG  \n",
       "3684           NaN                   0     MTG  \n",
       "6369           NaN                   0     MTG  \n",
       "\n",
       "[4 rows x 169 columns]"
      ]
     },
     "metadata": {},
     "output_type": "display_data"
    }
   ],
   "source": [
    "display(m_df[m_df['target_gene']=='mat-2']) # ***Obsolite gene***"
   ]
  },
  {
   "cell_type": "code",
   "execution_count": 91,
   "id": "a4963bb2",
   "metadata": {},
   "outputs": [
    {
     "data": {
      "text/html": [
       "<div>\n",
       "<style scoped>\n",
       "    .dataframe tbody tr th:only-of-type {\n",
       "        vertical-align: middle;\n",
       "    }\n",
       "\n",
       "    .dataframe tbody tr th {\n",
       "        vertical-align: top;\n",
       "    }\n",
       "\n",
       "    .dataframe thead th {\n",
       "        text-align: right;\n",
       "    }\n",
       "</style>\n",
       "<table border=\"1\" class=\"dataframe\">\n",
       "  <thead>\n",
       "    <tr style=\"text-align: right;\">\n",
       "      <th></th>\n",
       "      <th>ncbi_gene_id</th>\n",
       "      <th>gene_symbol</th>\n",
       "      <th>hpo_id</th>\n",
       "      <th>hpo_name</th>\n",
       "      <th>frequency</th>\n",
       "      <th>disease_id</th>\n",
       "    </tr>\n",
       "  </thead>\n",
       "  <tbody>\n",
       "  </tbody>\n",
       "</table>\n",
       "</div>"
      ],
      "text/plain": [
       "Empty DataFrame\n",
       "Columns: [ncbi_gene_id, gene_symbol, hpo_id, hpo_name, frequency, disease_id]\n",
       "Index: []"
      ]
     },
     "execution_count": 91,
     "metadata": {},
     "output_type": "execute_result"
    }
   ],
   "source": [
    "hpoa[hpoa['gene_symbol']=='PLCD3'].head()"
   ]
  },
  {
   "cell_type": "code",
   "execution_count": 86,
   "id": "687cc975",
   "metadata": {},
   "outputs": [
    {
     "data": {
      "text/html": [
       "<pre style=\"white-space:pre;overflow-x:auto;line-height:normal;font-family:Menlo,'DejaVu Sans Mono',consolas,'Courier New',monospace\"><span style=\"font-weight: bold\">(</span><span style=\"color: #008080; text-decoration-color: #008080; font-weight: bold\">210</span>, <span style=\"color: #008080; text-decoration-color: #008080; font-weight: bold\">222</span><span style=\"font-weight: bold\">)</span>\n",
       "</pre>\n"
      ],
      "text/plain": [
       "\u001b[1m(\u001b[0m\u001b[1;36m210\u001b[0m, \u001b[1;36m222\u001b[0m\u001b[1m)\u001b[0m\n"
      ]
     },
     "metadata": {},
     "output_type": "display_data"
    },
    {
     "data": {
      "text/html": [
       "<div>\n",
       "<style scoped>\n",
       "    .dataframe tbody tr th:only-of-type {\n",
       "        vertical-align: middle;\n",
       "    }\n",
       "\n",
       "    .dataframe tbody tr th {\n",
       "        vertical-align: top;\n",
       "    }\n",
       "\n",
       "    .dataframe thead th {\n",
       "        text-align: right;\n",
       "    }\n",
       "</style>\n",
       "<table border=\"1\" class=\"dataframe\">\n",
       "  <thead>\n",
       "    <tr style=\"text-align: right;\">\n",
       "      <th></th>\n",
       "      <th>target_gene</th>\n",
       "      <th>modifier_gene</th>\n",
       "      <th>target_POs</th>\n",
       "      <th>modifier_POs</th>\n",
       "    </tr>\n",
       "  </thead>\n",
       "  <tbody>\n",
       "    <tr>\n",
       "      <th>0</th>\n",
       "      <td>APOE</td>\n",
       "      <td>CASP7</td>\n",
       "      <td>HP:0001114,HP:0010874,HP:0002423,HP:0100820,HP...</td>\n",
       "      <td>NaN</td>\n",
       "    </tr>\n",
       "    <tr>\n",
       "      <th>4</th>\n",
       "      <td>ATR</td>\n",
       "      <td>ETV1</td>\n",
       "      <td>HP:0025127,HP:0001250,HP:0001249,HP:0001249,HP...</td>\n",
       "      <td>NaN</td>\n",
       "    </tr>\n",
       "    <tr>\n",
       "      <th>7</th>\n",
       "      <td>ATXN1</td>\n",
       "      <td>DNAJA1</td>\n",
       "      <td>HP:0001151,HP:0002483,HP:0002495,HP:0002460,HP...</td>\n",
       "      <td>NaN</td>\n",
       "    </tr>\n",
       "    <tr>\n",
       "      <th>12</th>\n",
       "      <td>BBS4</td>\n",
       "      <td>DTX1</td>\n",
       "      <td>HP:0001156,HP:0001162,HP:0001159,HP:0001249,HP...</td>\n",
       "      <td>NaN</td>\n",
       "    </tr>\n",
       "    <tr>\n",
       "      <th>13</th>\n",
       "      <td>BBS4</td>\n",
       "      <td>ENGASE</td>\n",
       "      <td>HP:0001156,HP:0001162,HP:0001159,HP:0001249,HP...</td>\n",
       "      <td>NaN</td>\n",
       "    </tr>\n",
       "    <tr>\n",
       "      <th>...</th>\n",
       "      <td>...</td>\n",
       "      <td>...</td>\n",
       "      <td>...</td>\n",
       "      <td>...</td>\n",
       "    </tr>\n",
       "    <tr>\n",
       "      <th>912</th>\n",
       "      <td>TRPC6</td>\n",
       "      <td>NCLN</td>\n",
       "      <td>HP:0003774,HP:0003774,HP:0002586,HP:0000097,HP...</td>\n",
       "      <td>NaN</td>\n",
       "    </tr>\n",
       "    <tr>\n",
       "      <th>913</th>\n",
       "      <td>TRPC6</td>\n",
       "      <td>PLCD3</td>\n",
       "      <td>HP:0003774,HP:0003774,HP:0002586,HP:0000097,HP...</td>\n",
       "      <td>NaN</td>\n",
       "    </tr>\n",
       "    <tr>\n",
       "      <th>916</th>\n",
       "      <td>TRPC6</td>\n",
       "      <td>TMEM208</td>\n",
       "      <td>HP:0003774,HP:0003774,HP:0002586,HP:0000097,HP...</td>\n",
       "      <td>NaN</td>\n",
       "    </tr>\n",
       "    <tr>\n",
       "      <th>917</th>\n",
       "      <td>TRPC6</td>\n",
       "      <td>WDR83OS</td>\n",
       "      <td>HP:0003774,HP:0003774,HP:0002586,HP:0000097,HP...</td>\n",
       "      <td>NaN</td>\n",
       "    </tr>\n",
       "    <tr>\n",
       "      <th>928</th>\n",
       "      <td>UBE2F</td>\n",
       "      <td>PMAIP1</td>\n",
       "      <td>NaN</td>\n",
       "      <td>NaN</td>\n",
       "    </tr>\n",
       "  </tbody>\n",
       "</table>\n",
       "<p>210 rows × 4 columns</p>\n",
       "</div>"
      ],
      "text/plain": [
       "    target_gene modifier_gene  \\\n",
       "0          APOE         CASP7   \n",
       "4           ATR          ETV1   \n",
       "7         ATXN1        DNAJA1   \n",
       "12         BBS4          DTX1   \n",
       "13         BBS4        ENGASE   \n",
       "..          ...           ...   \n",
       "912       TRPC6          NCLN   \n",
       "913       TRPC6         PLCD3   \n",
       "916       TRPC6       TMEM208   \n",
       "917       TRPC6       WDR83OS   \n",
       "928       UBE2F        PMAIP1   \n",
       "\n",
       "                                            target_POs modifier_POs  \n",
       "0    HP:0001114,HP:0010874,HP:0002423,HP:0100820,HP...          NaN  \n",
       "4    HP:0025127,HP:0001250,HP:0001249,HP:0001249,HP...          NaN  \n",
       "7    HP:0001151,HP:0002483,HP:0002495,HP:0002460,HP...          NaN  \n",
       "12   HP:0001156,HP:0001162,HP:0001159,HP:0001249,HP...          NaN  \n",
       "13   HP:0001156,HP:0001162,HP:0001159,HP:0001249,HP...          NaN  \n",
       "..                                                 ...          ...  \n",
       "912  HP:0003774,HP:0003774,HP:0002586,HP:0000097,HP...          NaN  \n",
       "913  HP:0003774,HP:0003774,HP:0002586,HP:0000097,HP...          NaN  \n",
       "916  HP:0003774,HP:0003774,HP:0002586,HP:0000097,HP...          NaN  \n",
       "917  HP:0003774,HP:0003774,HP:0002586,HP:0000097,HP...          NaN  \n",
       "928                                                NaN          NaN  \n",
       "\n",
       "[210 rows x 4 columns]"
      ]
     },
     "metadata": {},
     "output_type": "display_data"
    }
   ],
   "source": [
    "__df = dataset_df[(dataset_df['modifier_POs_subgraph'].isna()) & (dataset_df['source']=='JVL')]\n",
    "print(__df.shape)\n",
    "display(__df[__df['is_modifier']==1][['target_gene', 'modifier_gene', 'target_POs', 'modifier_POs']])\n",
    "del __df"
   ]
  },
  {
   "cell_type": "code",
   "execution_count": null,
   "id": "68c225fd",
   "metadata": {},
   "outputs": [],
   "source": [
    "import torch\n",
    "from torch.nn import Linear, ModuleList\n",
    "from torch_geometric.nn import GATConv, GraphConv\n"
   ]
  },
  {
   "cell_type": "code",
   "execution_count": 94,
   "id": "e49fde56",
   "metadata": {},
   "outputs": [],
   "source": [
    "\n",
    "class SimGNN(torch.nn.Module):\n",
    "    def __init__(self, in_features, hidden_features, out_features, heads=1):\n",
    "        super(SimGNN, self).__init__()\n",
    "        self.node_embed = Linear(in_features, hidden_features)\n",
    "        self.conv1 = GATConv(hidden_features, hidden_features, heads=heads)\n",
    "        self.conv2 = GraphConv(hidden_features, hidden_features)\n",
    "        self.attention = Attention(hidden_features)\n",
    "        self.pairwise_compare = PairwiseCompare(hidden_features)\n",
    "        self.out_layer = Linear(hidden_features, out_features)\n",
    "\n",
    "    def forward(self, data):\n",
    "        x, edge_index = data.x, data.edge_index\n",
    "        x = self.node_embed(x)\n",
    "        x = torch.relu(self.conv1(x, edge_index))\n",
    "        x = torch.relu(self.conv2(x, edge_index))\n",
    "        attention_weights = self.attention(x)\n",
    "        x = torch.einsum('nvf,nf->nv', x, attention_weights)\n",
    "        pairwise_features = self.pairwise_compare(x)\n",
    "        sim_score = self.out_layer(pairwise_features)\n",
    "        return sim_score\n",
    "\n",
    "class Attention(torch.nn.Module):\n",
    "    def __init__(self, hidden_features):\n",
    "        super(Attention, self).__init__()\n",
    "        self.w1 = Linear(hidden_features, hidden_features)\n",
    "        self.w2 = Linear(hidden_features, 1)\n",
    "\n",
    "    def forward(self, x):\n",
    "        x = torch.tanh(self.w1(x))\n",
    "        attention_weights = torch.sigmoid(self.w2(x))\n",
    "        return attention_weights\n",
    "\n",
    "class PairwiseCompare(torch.nn.Module):\n",
    "    def __init__(self, hidden_features):\n",
    "        super(PairwiseCompare, self).__init__()\n",
    "        self.w = Linear(hidden_features, hidden_features)\n",
    "\n",
    "    def forward(self, x):\n",
    "        pairwise_features = torch.cat([x[i] * x[j] for i, j in zip(range(len(x)), range(len(x)))], dim=1)\n",
    "        pairwise_features = self.w(pairwise_features)\n",
    "        return pairwise_features\n"
   ]
  },
  {
   "cell_type": "code",
   "execution_count": null,
   "id": "7ce4a213",
   "metadata": {},
   "outputs": [],
   "source": [
    "from torch_geometric.data import Dataset, GraphData\n",
    "import networkx as nx\n",
    "\n",
    "class NetworkXDataset(Dataset):\n",
    "    def __init__(self, df, transform=None, pre_transform=None):\n",
    "        super(NetworkXDataset, self).__init__(df, transform, pre_transform)\n",
    "        # Your data loading logic here\n",
    "        # e.g., load NetworkX graphs from files in root directory\n",
    "        self.data_list = []\n",
    "        for filename in os.listdir(root):\n",
    "            if filename.endswith(\".gpickle\"):\n",
    "                with open(os.path.join(root, filename), \"rb\") as f:\n",
    "                    graph = nx.read_gpickle(f)\n",
    "                self.data_list.append(graph)\n",
    "\n",
    "    def len(self):\n",
    "        return len(self.data_list)\n",
    "\n",
    "    def get(self, idx):\n",
    "        graph = self.data_list[idx]\n",
    "        data = self.process_graph(graph)\n",
    "        return data\n",
    "\n",
    "    def process_graph(self, graph):\n",
    "        # Convert NetworkX graph to GraphData\n",
    "        edge_index = torch.tensor(list(zip(*graph.edges)), dtype=torch.long).t()\n",
    "        x = torch.tensor([list(d.values()) for d in graph.nodes(data=True)], dtype=torch.float)\n",
    "        y = torch.tensor(graph.graph.get(\"label\"), dtype=torch.long)\n",
    "        data = GraphData(x=x, edge_index=edge_index, y=y)\n",
    "        return data\n",
    "\n"
   ]
  },
  {
   "cell_type": "code",
   "execution_count": null,
   "id": "1bba3f20",
   "metadata": {},
   "outputs": [],
   "source": [
    "import torch\n",
    "from torch.utils.data import DataLoader\n",
    "from torch.nn import BCEWithLogitsLoss\n",
    "from torch.optim import Adam\n",
    "\n",
    "from simgnn import SimGNN\n",
    "from graph_dataset import GraphDataset\n",
    "\n",
    "# Define data paths and hyperparameters\n",
    "data_path = \"path/to/your/data\"\n",
    "batch_size = 32\n",
    "learning_rate = 0.001\n",
    "epochs = 100\n",
    "\n",
    "# Load the dataset\n",
    "# dataset = GraphDataset(data_path)\n",
    "data_list = \n",
    "train_loader = DataLoader(dataset, batch_size=batch_size, shuffle=True)\n",
    "\n",
    "# Initialize model and optimizer\n",
    "model = SimGNN(in_features=dataset.node_features,\n",
    "               hidden_features=32,\n",
    "               out_features=1)\n",
    "optimizer = Adam(model.parameters(), lr=learning_rate)\n",
    "\n",
    "# Define loss function\n",
    "loss_fn = BCEWithLogitsLoss()\n",
    "\n",
    "# Train the model\n",
    "for epoch in range(epochs):\n",
    "    for i, data in enumerate(train_loader):\n",
    "        # Extract graph data\n",
    "        x1, x2, edge_index1, edge_index2, label = data\n",
    "        \n",
    "        # Predict similarity score\n",
    "        pred = model((x1, edge_index1), (x2, edge_index2))\n",
    "\n",
    "        # Calculate loss\n",
    "        loss = loss_fn(pred, label.float())\n",
    "\n",
    "        # Optimize model\n",
    "        optimizer.zero_grad()\n",
    "        loss.backward()\n",
    "        optimizer.step()\n",
    "\n",
    "        # Print training progress\n",
    "        if i % 10 == 0:\n",
    "            print(f\"Epoch: {epoch + 1}/{epochs}, Step: {i}/{len(train_loader)}, Loss: {loss.item():.4f}\")\n",
    "\n",
    "# Evaluate the model\n",
    "# TODO: Implement evaluation logic\n",
    "\n",
    "# Save the trained model\n",
    "torch.save(model.state_dict(), \"model.pt\")\n"
   ]
  },
  {
   "cell_type": "code",
   "execution_count": null,
   "id": "f4e6a1fd-1ccb-400e-8bb5-25389ea63af2",
   "metadata": {},
   "outputs": [],
   "source": []
  },
  {
   "cell_type": "code",
   "execution_count": null,
   "id": "fdfab146-07d7-4b34-bc9d-b98a33939918",
   "metadata": {},
   "outputs": [],
   "source": []
  },
  {
   "cell_type": "markdown",
   "id": "d4f2f63a-22aa-4e7e-b93d-1c953d2bd57e",
   "metadata": {},
   "source": [
    "## Similarity (with target gene) as node feature and interaction as edge"
   ]
  },
  {
   "cell_type": "code",
   "execution_count": 77,
   "id": "a651819c-1220-43d4-984d-e30a8e9e16a8",
   "metadata": {},
   "outputs": [
    {
     "data": {
      "text/html": [
       "<pre style=\"white-space:pre;overflow-x:auto;line-height:normal;font-family:Menlo,'DejaVu Sans Mono',consolas,'Courier New',monospace\"><span style=\"color: #008080; text-decoration-color: #008080; font-weight: bold\">268278</span>\n",
       "</pre>\n"
      ],
      "text/plain": [
       "\u001b[1;36m268278\u001b[0m\n"
      ]
     },
     "metadata": {},
     "output_type": "display_data"
    }
   ],
   "source": [
    "src = df['wormbase_gene_id'].values\n",
    "tgt = df['target_gene_id'].values\n",
    "len(src)\n",
    "# node_sets = [np.union1d(G[0].values, G[1].values) for G in self.graphs]\n",
    "# union = reduce(np.union1d, node_sets)\n",
    "# return node_sets, union"
   ]
  },
  {
   "cell_type": "markdown",
   "id": "6e48cf3c-067b-4d2a-acd9-8ae50ff73fa4",
   "metadata": {},
   "source": [
    "Creating hashmap for the gene/nodes"
   ]
  },
  {
   "cell_type": "code",
   "execution_count": 78,
   "id": "3b674f1c-bab1-4c46-8473-09f40b26c835",
   "metadata": {},
   "outputs": [
    {
     "data": {
      "text/html": [
       "<pre style=\"white-space:pre;overflow-x:auto;line-height:normal;font-family:Menlo,'DejaVu Sans Mono',consolas,'Courier New',monospace\"><span style=\"color: #008080; text-decoration-color: #008080; font-weight: bold\">733</span>\n",
       "</pre>\n"
      ],
      "text/plain": [
       "\u001b[1;36m733\u001b[0m\n"
      ]
     },
     "metadata": {},
     "output_type": "display_data"
    }
   ],
   "source": [
    "v = np.union1d(src, tgt)\n",
    "v_hashmap = dict(enumerate(v))\n",
    "v_invmap = {v: k for k, v in v_hashmap.items()}\n",
    "len(v_hashmap.keys())"
   ]
  },
  {
   "cell_type": "code",
   "execution_count": 79,
   "id": "f17613e7-bca2-414b-a6f4-ed6b7f60ecc4",
   "metadata": {},
   "outputs": [
    {
     "data": {
      "text/html": [
       "<div>\n",
       "<style scoped>\n",
       "    .dataframe tbody tr th:only-of-type {\n",
       "        vertical-align: middle;\n",
       "    }\n",
       "\n",
       "    .dataframe tbody tr th {\n",
       "        vertical-align: top;\n",
       "    }\n",
       "\n",
       "    .dataframe thead th {\n",
       "        text-align: right;\n",
       "    }\n",
       "</style>\n",
       "<table border=\"1\" class=\"dataframe\">\n",
       "  <thead>\n",
       "    <tr style=\"text-align: right;\">\n",
       "      <th></th>\n",
       "      <th>wormbase_gene_id</th>\n",
       "      <th>target_gene_id</th>\n",
       "      <th>go_n_common_ancestors_max</th>\n",
       "      <th>go_n_common_ancestors_avg</th>\n",
       "      <th>go_n_common_ancestors_bma</th>\n",
       "      <th>go_n_union_ancestors_max</th>\n",
       "      <th>go_n_union_ancestors_avg</th>\n",
       "      <th>go_n_union_ancestors_bma</th>\n",
       "      <th>go_batet_max</th>\n",
       "      <th>go_batet_avg</th>\n",
       "      <th>...</th>\n",
       "      <th>wpo_lin_avg</th>\n",
       "      <th>wpo_lin_bma</th>\n",
       "      <th>wpo_jiang_max</th>\n",
       "      <th>wpo_jiang_avg</th>\n",
       "      <th>wpo_jiang_bma</th>\n",
       "      <th>wpo_jiang_seco_max</th>\n",
       "      <th>wpo_jiang_seco_avg</th>\n",
       "      <th>wpo_jiang_seco_bma</th>\n",
       "      <th>vx</th>\n",
       "      <th>vy</th>\n",
       "    </tr>\n",
       "  </thead>\n",
       "  <tbody>\n",
       "    <tr>\n",
       "      <th>0</th>\n",
       "      <td>WBGene00013931</td>\n",
       "      <td>WBGene00013177</td>\n",
       "      <td>2.0</td>\n",
       "      <td>2.00</td>\n",
       "      <td>2.0</td>\n",
       "      <td>19.0</td>\n",
       "      <td>11.000000</td>\n",
       "      <td>12.600000</td>\n",
       "      <td>0.500000</td>\n",
       "      <td>0.500000</td>\n",
       "      <td>...</td>\n",
       "      <td>0.120405</td>\n",
       "      <td>0.120405</td>\n",
       "      <td>0.073647</td>\n",
       "      <td>0.073647</td>\n",
       "      <td>0.073647</td>\n",
       "      <td>0.145140</td>\n",
       "      <td>0.145140</td>\n",
       "      <td>0.145140</td>\n",
       "      <td>451</td>\n",
       "      <td>420</td>\n",
       "    </tr>\n",
       "    <tr>\n",
       "      <th>1</th>\n",
       "      <td>WBGene00013931</td>\n",
       "      <td>WBGene00021689</td>\n",
       "      <td>2.0</td>\n",
       "      <td>2.00</td>\n",
       "      <td>2.0</td>\n",
       "      <td>89.0</td>\n",
       "      <td>46.200000</td>\n",
       "      <td>53.333333</td>\n",
       "      <td>0.133333</td>\n",
       "      <td>0.077903</td>\n",
       "      <td>...</td>\n",
       "      <td>0.136612</td>\n",
       "      <td>0.140814</td>\n",
       "      <td>0.092446</td>\n",
       "      <td>0.084209</td>\n",
       "      <td>0.086955</td>\n",
       "      <td>0.332797</td>\n",
       "      <td>0.253088</td>\n",
       "      <td>0.279658</td>\n",
       "      <td>451</td>\n",
       "      <td>668</td>\n",
       "    </tr>\n",
       "    <tr>\n",
       "      <th>2</th>\n",
       "      <td>WBGene00013931</td>\n",
       "      <td>WBGene00004225</td>\n",
       "      <td>0.0</td>\n",
       "      <td>0.00</td>\n",
       "      <td>0.0</td>\n",
       "      <td>18.0</td>\n",
       "      <td>10.666667</td>\n",
       "      <td>11.714286</td>\n",
       "      <td>0.000000</td>\n",
       "      <td>0.000000</td>\n",
       "      <td>...</td>\n",
       "      <td>0.349787</td>\n",
       "      <td>0.418544</td>\n",
       "      <td>0.137472</td>\n",
       "      <td>0.081294</td>\n",
       "      <td>0.089319</td>\n",
       "      <td>0.573584</td>\n",
       "      <td>0.165064</td>\n",
       "      <td>0.223424</td>\n",
       "      <td>451</td>\n",
       "      <td>137</td>\n",
       "    </tr>\n",
       "    <tr>\n",
       "      <th>3</th>\n",
       "      <td>WBGene00013931</td>\n",
       "      <td>WBGene00006771</td>\n",
       "      <td>2.0</td>\n",
       "      <td>1.75</td>\n",
       "      <td>1.8</td>\n",
       "      <td>32.0</td>\n",
       "      <td>12.631579</td>\n",
       "      <td>13.600000</td>\n",
       "      <td>0.333333</td>\n",
       "      <td>0.221491</td>\n",
       "      <td>...</td>\n",
       "      <td>0.221559</td>\n",
       "      <td>0.231321</td>\n",
       "      <td>0.140949</td>\n",
       "      <td>0.082794</td>\n",
       "      <td>0.083981</td>\n",
       "      <td>0.585782</td>\n",
       "      <td>0.207192</td>\n",
       "      <td>0.214919</td>\n",
       "      <td>451</td>\n",
       "      <td>208</td>\n",
       "    </tr>\n",
       "    <tr>\n",
       "      <th>4</th>\n",
       "      <td>WBGene00013931</td>\n",
       "      <td>WBGene00021771</td>\n",
       "      <td>2.0</td>\n",
       "      <td>2.00</td>\n",
       "      <td>2.0</td>\n",
       "      <td>45.0</td>\n",
       "      <td>26.666667</td>\n",
       "      <td>31.250000</td>\n",
       "      <td>0.333333</td>\n",
       "      <td>0.333333</td>\n",
       "      <td>...</td>\n",
       "      <td>0.120484</td>\n",
       "      <td>0.120568</td>\n",
       "      <td>0.073968</td>\n",
       "      <td>0.073698</td>\n",
       "      <td>0.073752</td>\n",
       "      <td>0.149139</td>\n",
       "      <td>0.145779</td>\n",
       "      <td>0.146451</td>\n",
       "      <td>451</td>\n",
       "      <td>669</td>\n",
       "    </tr>\n",
       "  </tbody>\n",
       "</table>\n",
       "<p>5 rows × 58 columns</p>\n",
       "</div>"
      ]
     },
     "execution_count": 79,
     "metadata": {},
     "output_type": "execute_result"
    }
   ],
   "source": [
    "df['vx'] = df.apply(lambda r: v_invmap[r['wormbase_gene_id']], axis=1)\n",
    "df['vy'] = df.apply(lambda r: v_invmap[r['target_gene_id']], axis=1)\n",
    "df.head()"
   ]
  },
  {
   "cell_type": "markdown",
   "id": "78a35df4-85aa-4f73-a5bf-1c35a4b0ab48",
   "metadata": {},
   "source": [
    "Create Tensors for PyG object"
   ]
  },
  {
   "cell_type": "code",
   "execution_count": 80,
   "id": "a3dc64be-1f26-43a5-9acf-c34006b1e283",
   "metadata": {},
   "outputs": [
    {
     "data": {
      "text/html": [
       "<pre style=\"white-space:pre;overflow-x:auto;line-height:normal;font-family:Menlo,'DejaVu Sans Mono',consolas,'Courier New',monospace\"><span style=\"font-weight: bold\">[</span><span style=\"color: #008080; text-decoration-color: #008080; font-weight: bold\">451</span> <span style=\"color: #008080; text-decoration-color: #008080; font-weight: bold\">451</span> <span style=\"color: #008080; text-decoration-color: #008080; font-weight: bold\">451</span> <span style=\"color: #808000; text-decoration-color: #808000\">...</span> <span style=\"color: #008080; text-decoration-color: #008080; font-weight: bold\">252</span> <span style=\"color: #008080; text-decoration-color: #008080; font-weight: bold\">252</span> <span style=\"color: #008080; text-decoration-color: #008080; font-weight: bold\">522</span><span style=\"font-weight: bold\">]</span> <span style=\"font-weight: bold\">[</span><span style=\"color: #008080; text-decoration-color: #008080; font-weight: bold\">420</span> <span style=\"color: #008080; text-decoration-color: #008080; font-weight: bold\">668</span> <span style=\"color: #008080; text-decoration-color: #008080; font-weight: bold\">137</span> <span style=\"color: #808000; text-decoration-color: #808000\">...</span> <span style=\"color: #008080; text-decoration-color: #008080; font-weight: bold\">522</span> <span style=\"color: #008080; text-decoration-color: #008080; font-weight: bold\">227</span> <span style=\"color: #008080; text-decoration-color: #008080; font-weight: bold\">227</span><span style=\"font-weight: bold\">]</span> <span style=\"font-weight: bold\">[</span><span style=\"color: #008080; text-decoration-color: #008080; font-weight: bold\">0.5</span>        <span style=\"color: #008080; text-decoration-color: #008080; font-weight: bold\">0.09637953</span> <span style=\"color: #008080; text-decoration-color: #008080; font-weight: bold\">0</span>.        \n",
       "<span style=\"color: #808000; text-decoration-color: #808000\">...</span> <span style=\"color: #008080; text-decoration-color: #008080; font-weight: bold\">0.45518207</span> <span style=\"color: #008080; text-decoration-color: #008080; font-weight: bold\">0.39176449</span> <span style=\"color: #008080; text-decoration-color: #008080; font-weight: bold\">0.2168107</span> <span style=\"font-weight: bold\">]</span>\n",
       "</pre>\n"
      ],
      "text/plain": [
       "\u001b[1m[\u001b[0m\u001b[1;36m451\u001b[0m \u001b[1;36m451\u001b[0m \u001b[1;36m451\u001b[0m \u001b[33m...\u001b[0m \u001b[1;36m252\u001b[0m \u001b[1;36m252\u001b[0m \u001b[1;36m522\u001b[0m\u001b[1m]\u001b[0m \u001b[1m[\u001b[0m\u001b[1;36m420\u001b[0m \u001b[1;36m668\u001b[0m \u001b[1;36m137\u001b[0m \u001b[33m...\u001b[0m \u001b[1;36m522\u001b[0m \u001b[1;36m227\u001b[0m \u001b[1;36m227\u001b[0m\u001b[1m]\u001b[0m \u001b[1m[\u001b[0m\u001b[1;36m0.5\u001b[0m        \u001b[1;36m0.09637953\u001b[0m \u001b[1;36m0\u001b[0m.        \n",
       "\u001b[33m...\u001b[0m \u001b[1;36m0.45518207\u001b[0m \u001b[1;36m0.39176449\u001b[0m \u001b[1;36m0.2168107\u001b[0m \u001b[1m]\u001b[0m\n"
      ]
     },
     "metadata": {},
     "output_type": "display_data"
    }
   ],
   "source": [
    "vx = df['vx'].to_numpy()\n",
    "vy = df['vy'].to_numpy()\n",
    "e = df['go_batet_bma'].to_numpy()\n",
    "print(vx, vy, e)"
   ]
  },
  {
   "cell_type": "code",
   "execution_count": 81,
   "id": "bb96a2bb-b6b5-40d5-ba3c-1e139ef8f27d",
   "metadata": {},
   "outputs": [],
   "source": [
    "nodes = np.union1d(vx,vy)\n",
    "n = len(nodes)"
   ]
  },
  {
   "cell_type": "code",
   "execution_count": 82,
   "id": "45e2c424-d4ce-4adb-be21-2347efff3b00",
   "metadata": {},
   "outputs": [
    {
     "data": {
      "text/html": [
       "<pre style=\"white-space:pre;overflow-x:auto;line-height:normal;font-family:Menlo,'DejaVu Sans Mono',consolas,'Courier New',monospace\"><span style=\"color: #800080; text-decoration-color: #800080; font-weight: bold\">tensor</span><span style=\"font-weight: bold\">([[</span><span style=\"color: #008080; text-decoration-color: #008080; font-weight: bold\">451</span>, <span style=\"color: #008080; text-decoration-color: #008080; font-weight: bold\">451</span>, <span style=\"color: #008080; text-decoration-color: #008080; font-weight: bold\">451</span>,  <span style=\"color: #808000; text-decoration-color: #808000\">...</span>, <span style=\"color: #008080; text-decoration-color: #008080; font-weight: bold\">252</span>, <span style=\"color: #008080; text-decoration-color: #008080; font-weight: bold\">252</span>, <span style=\"color: #008080; text-decoration-color: #008080; font-weight: bold\">522</span><span style=\"font-weight: bold\">]</span>,\n",
       "        <span style=\"font-weight: bold\">[</span><span style=\"color: #008080; text-decoration-color: #008080; font-weight: bold\">420</span>, <span style=\"color: #008080; text-decoration-color: #008080; font-weight: bold\">668</span>, <span style=\"color: #008080; text-decoration-color: #008080; font-weight: bold\">137</span>,  <span style=\"color: #808000; text-decoration-color: #808000\">...</span>, <span style=\"color: #008080; text-decoration-color: #008080; font-weight: bold\">522</span>, <span style=\"color: #008080; text-decoration-color: #008080; font-weight: bold\">227</span>, <span style=\"color: #008080; text-decoration-color: #008080; font-weight: bold\">227</span><span style=\"font-weight: bold\">]])</span> <span style=\"color: #800080; text-decoration-color: #800080; font-weight: bold\">tensor</span><span style=\"font-weight: bold\">([</span><span style=\"color: #008080; text-decoration-color: #008080; font-weight: bold\">0.5000</span>, <span style=\"color: #008080; text-decoration-color: #008080; font-weight: bold\">0.0964</span>, <span style=\"color: #008080; text-decoration-color: #008080; font-weight: bold\">0.0000</span>,  <span style=\"color: #808000; text-decoration-color: #808000\">...</span>, <span style=\"color: #008080; text-decoration-color: #008080; font-weight: bold\">0.4552</span>, \n",
       "<span style=\"color: #008080; text-decoration-color: #008080; font-weight: bold\">0.3918</span>, <span style=\"color: #008080; text-decoration-color: #008080; font-weight: bold\">0.2168</span><span style=\"font-weight: bold\">])</span>\n",
       "</pre>\n"
      ],
      "text/plain": [
       "\u001b[1;35mtensor\u001b[0m\u001b[1m(\u001b[0m\u001b[1m[\u001b[0m\u001b[1m[\u001b[0m\u001b[1;36m451\u001b[0m, \u001b[1;36m451\u001b[0m, \u001b[1;36m451\u001b[0m,  \u001b[33m...\u001b[0m, \u001b[1;36m252\u001b[0m, \u001b[1;36m252\u001b[0m, \u001b[1;36m522\u001b[0m\u001b[1m]\u001b[0m,\n",
       "        \u001b[1m[\u001b[0m\u001b[1;36m420\u001b[0m, \u001b[1;36m668\u001b[0m, \u001b[1;36m137\u001b[0m,  \u001b[33m...\u001b[0m, \u001b[1;36m522\u001b[0m, \u001b[1;36m227\u001b[0m, \u001b[1;36m227\u001b[0m\u001b[1m]\u001b[0m\u001b[1m]\u001b[0m\u001b[1m)\u001b[0m \u001b[1;35mtensor\u001b[0m\u001b[1m(\u001b[0m\u001b[1m[\u001b[0m\u001b[1;36m0.5000\u001b[0m, \u001b[1;36m0.0964\u001b[0m, \u001b[1;36m0.0000\u001b[0m,  \u001b[33m...\u001b[0m, \u001b[1;36m0.4552\u001b[0m, \n",
       "\u001b[1;36m0.3918\u001b[0m, \u001b[1;36m0.2168\u001b[0m\u001b[1m]\u001b[0m\u001b[1m)\u001b[0m\n"
      ]
     },
     "metadata": {},
     "output_type": "display_data"
    }
   ],
   "source": [
    "edge_index = torch.tensor(np.array([vx, vy]), dtype=torch.long)\n",
    "edge_attr = torch.tensor(e, dtype=torch.float)\n",
    "print(edge_index, edge_attr)"
   ]
  },
  {
   "cell_type": "code",
   "execution_count": 83,
   "id": "aa78946f-d0c0-4800-870f-179605ea36bb",
   "metadata": {},
   "outputs": [
    {
     "data": {
      "text/html": [
       "<pre style=\"white-space:pre;overflow-x:auto;line-height:normal;font-family:Menlo,'DejaVu Sans Mono',consolas,'Courier New',monospace\"><span style=\"color: #800080; text-decoration-color: #800080; font-weight: bold\">Data</span><span style=\"font-weight: bold\">(</span><span style=\"color: #808000; text-decoration-color: #808000\">x</span>=<span style=\"font-weight: bold\">[</span><span style=\"color: #008080; text-decoration-color: #008080; font-weight: bold\">733</span>, <span style=\"color: #008080; text-decoration-color: #008080; font-weight: bold\">3</span><span style=\"font-weight: bold\">]</span>, <span style=\"color: #808000; text-decoration-color: #808000\">edge_index</span>=<span style=\"font-weight: bold\">[</span><span style=\"color: #008080; text-decoration-color: #008080; font-weight: bold\">2</span>, <span style=\"color: #008080; text-decoration-color: #008080; font-weight: bold\">268278</span><span style=\"font-weight: bold\">]</span>, <span style=\"color: #808000; text-decoration-color: #808000\">edge_attr</span>=<span style=\"font-weight: bold\">[</span><span style=\"color: #008080; text-decoration-color: #008080; font-weight: bold\">268278</span><span style=\"font-weight: bold\">])</span>\n",
       "</pre>\n"
      ],
      "text/plain": [
       "\u001b[1;35mData\u001b[0m\u001b[1m(\u001b[0m\u001b[33mx\u001b[0m=\u001b[1m[\u001b[0m\u001b[1;36m733\u001b[0m, \u001b[1;36m3\u001b[0m\u001b[1m]\u001b[0m, \u001b[33medge_index\u001b[0m=\u001b[1m[\u001b[0m\u001b[1;36m2\u001b[0m, \u001b[1;36m268278\u001b[0m\u001b[1m]\u001b[0m, \u001b[33medge_attr\u001b[0m=\u001b[1m[\u001b[0m\u001b[1;36m268278\u001b[0m\u001b[1m]\u001b[0m\u001b[1m)\u001b[0m\n"
      ]
     },
     "metadata": {},
     "output_type": "display_data"
    }
   ],
   "source": [
    "data = Data(x=torch.zeros((n,3)), edge_index=edge_index, edge_attr=edge_attr)\n",
    "print(data)"
   ]
  },
  {
   "cell_type": "code",
   "execution_count": 84,
   "id": "7a69bdc0-5449-4961-8971-cbd1e128256c",
   "metadata": {},
   "outputs": [
    {
     "data": {
      "text/html": [
       "<pre style=\"white-space:pre;overflow-x:auto;line-height:normal;font-family:Menlo,'DejaVu Sans Mono',consolas,'Courier New',monospace\">\n",
       "<span style=\"color: #800080; text-decoration-color: #800080; font-weight: bold\">tensor</span><span style=\"font-weight: bold\">([[</span><span style=\"color: #008080; text-decoration-color: #008080; font-weight: bold\">451</span>, <span style=\"color: #008080; text-decoration-color: #008080; font-weight: bold\">451</span>, <span style=\"color: #008080; text-decoration-color: #008080; font-weight: bold\">451</span>,  <span style=\"color: #808000; text-decoration-color: #808000\">...</span>, <span style=\"color: #008080; text-decoration-color: #008080; font-weight: bold\">252</span>, <span style=\"color: #008080; text-decoration-color: #008080; font-weight: bold\">252</span>, <span style=\"color: #008080; text-decoration-color: #008080; font-weight: bold\">522</span><span style=\"font-weight: bold\">]</span>,\n",
       "        <span style=\"font-weight: bold\">[</span><span style=\"color: #008080; text-decoration-color: #008080; font-weight: bold\">420</span>, <span style=\"color: #008080; text-decoration-color: #008080; font-weight: bold\">668</span>, <span style=\"color: #008080; text-decoration-color: #008080; font-weight: bold\">137</span>,  <span style=\"color: #808000; text-decoration-color: #808000\">...</span>, <span style=\"color: #008080; text-decoration-color: #008080; font-weight: bold\">522</span>, <span style=\"color: #008080; text-decoration-color: #008080; font-weight: bold\">227</span>, <span style=\"color: #008080; text-decoration-color: #008080; font-weight: bold\">227</span><span style=\"font-weight: bold\">]])</span>\n",
       "</pre>\n"
      ],
      "text/plain": [
       "\n",
       "\u001b[1;35mtensor\u001b[0m\u001b[1m(\u001b[0m\u001b[1m[\u001b[0m\u001b[1m[\u001b[0m\u001b[1;36m451\u001b[0m, \u001b[1;36m451\u001b[0m, \u001b[1;36m451\u001b[0m,  \u001b[33m...\u001b[0m, \u001b[1;36m252\u001b[0m, \u001b[1;36m252\u001b[0m, \u001b[1;36m522\u001b[0m\u001b[1m]\u001b[0m,\n",
       "        \u001b[1m[\u001b[0m\u001b[1;36m420\u001b[0m, \u001b[1;36m668\u001b[0m, \u001b[1;36m137\u001b[0m,  \u001b[33m...\u001b[0m, \u001b[1;36m522\u001b[0m, \u001b[1;36m227\u001b[0m, \u001b[1;36m227\u001b[0m\u001b[1m]\u001b[0m\u001b[1m]\u001b[0m\u001b[1m)\u001b[0m\n"
      ]
     },
     "metadata": {},
     "output_type": "display_data"
    }
   ],
   "source": [
    "data['edge_index']"
   ]
  },
  {
   "cell_type": "code",
   "execution_count": 85,
   "id": "56638ae7-a494-4d7e-abb4-d0701d1a6d4c",
   "metadata": {},
   "outputs": [
    {
     "data": {
      "text/html": [
       "<pre style=\"white-space:pre;overflow-x:auto;line-height:normal;font-family:Menlo,'DejaVu Sans Mono',consolas,'Courier New',monospace\"># Nodes:  <span style=\"color: #008080; text-decoration-color: #008080; font-weight: bold\">733</span>\n",
       "</pre>\n"
      ],
      "text/plain": [
       "# Nodes:  \u001b[1;36m733\u001b[0m\n"
      ]
     },
     "metadata": {},
     "output_type": "display_data"
    },
    {
     "data": {
      "text/html": [
       "<pre style=\"white-space:pre;overflow-x:auto;line-height:normal;font-family:Menlo,'DejaVu Sans Mono',consolas,'Courier New',monospace\"># Edges:  <span style=\"color: #008080; text-decoration-color: #008080; font-weight: bold\">268278</span>\n",
       "</pre>\n"
      ],
      "text/plain": [
       "# Edges:  \u001b[1;36m268278\u001b[0m\n"
      ]
     },
     "metadata": {},
     "output_type": "display_data"
    },
    {
     "data": {
      "text/html": [
       "<pre style=\"white-space:pre;overflow-x:auto;line-height:normal;font-family:Menlo,'DejaVu Sans Mono',consolas,'Courier New',monospace\"># Node Features:  <span style=\"color: #008080; text-decoration-color: #008080; font-weight: bold\">3</span>\n",
       "</pre>\n"
      ],
      "text/plain": [
       "# Node Features:  \u001b[1;36m3\u001b[0m\n"
      ]
     },
     "metadata": {},
     "output_type": "display_data"
    },
    {
     "data": {
      "text/html": [
       "<pre style=\"white-space:pre;overflow-x:auto;line-height:normal;font-family:Menlo,'DejaVu Sans Mono',consolas,'Courier New',monospace\">Has isolated nodes?  <span style=\"color: #ff0000; text-decoration-color: #ff0000; font-style: italic\">False</span>\n",
       "</pre>\n"
      ],
      "text/plain": [
       "Has isolated nodes?  \u001b[3;91mFalse\u001b[0m\n"
      ]
     },
     "metadata": {},
     "output_type": "display_data"
    },
    {
     "data": {
      "text/html": [
       "<pre style=\"white-space:pre;overflow-x:auto;line-height:normal;font-family:Menlo,'DejaVu Sans Mono',consolas,'Courier New',monospace\">Has self loops?  <span style=\"color: #ff0000; text-decoration-color: #ff0000; font-style: italic\">False</span>\n",
       "</pre>\n"
      ],
      "text/plain": [
       "Has self loops?  \u001b[3;91mFalse\u001b[0m\n"
      ]
     },
     "metadata": {},
     "output_type": "display_data"
    },
    {
     "data": {
      "text/html": [
       "<pre style=\"white-space:pre;overflow-x:auto;line-height:normal;font-family:Menlo,'DejaVu Sans Mono',consolas,'Courier New',monospace\">Directed?  <span style=\"color: #00ff00; text-decoration-color: #00ff00; font-style: italic\">True</span>\n",
       "</pre>\n"
      ],
      "text/plain": [
       "Directed?  \u001b[3;92mTrue\u001b[0m\n"
      ]
     },
     "metadata": {},
     "output_type": "display_data"
    }
   ],
   "source": [
    "print(\"# Nodes: \", data.num_nodes)\n",
    "print(\"# Edges: \", data.num_edges)\n",
    "print(\"# Node Features: \", data.num_node_features)\n",
    "print(\"Has isolated nodes? \", data.has_isolated_nodes())\n",
    "print(\"Has self loops? \", data.has_self_loops())\n",
    "print(\"Directed? \", data.is_directed())"
   ]
  },
  {
   "cell_type": "code",
   "execution_count": null,
   "id": "fccb27b4-f823-45c4-a977-f763b9d5263f",
   "metadata": {},
   "outputs": [],
   "source": []
  },
  {
   "cell_type": "markdown",
   "id": "b824631a-9f21-457a-8d70-321d9833c24e",
   "metadata": {},
   "source": [
    "We do not want our model to learn label while embed. So we will do embedding in unsupervised way"
   ]
  },
  {
   "cell_type": "code",
   "execution_count": 86,
   "id": "419fa8e6-fae8-4a27-b74c-95862a323c91",
   "metadata": {},
   "outputs": [],
   "source": [
    "from torch_geometric.nn import GCNConv\n",
    "# from torch.utils.tensorboard import SummaryWriter\n",
    "from torch_geometric.utils import train_test_split_edges\n",
    "from torch_geometric.nn import GAE\n",
    "from torch_geometric.nn import VGAE"
   ]
  },
  {
   "cell_type": "code",
   "execution_count": 87,
   "id": "9ab3ad83-d810-4d3b-90c8-c702d6091f8d",
   "metadata": {},
   "outputs": [],
   "source": [
    "class GCNEncoder(torch.nn.Module):\n",
    "    def __init__(self, in_channels, out_channels):\n",
    "        super(GCNEncoder, self).__init__()\n",
    "        self.conv1 = GCNConv(in_channels, 2 * out_channels, cached=True) # cached only for transductive learning\n",
    "        self.conv2 = GCNConv(2 * out_channels, out_channels, cached=True) # cached only for transductive learning\n",
    "\n",
    "    def forward(self, x, edge_index):\n",
    "        x = self.conv1(x, edge_index).relu()\n",
    "        return self.conv2(x, edge_index)\n",
    "    \n",
    "class VariationalGCNEncoder(torch.nn.Module):\n",
    "    def __init__(self, in_channels, out_channels):\n",
    "        super(VariationalGCNEncoder, self).__init__()\n",
    "        self.conv1 = GCNConv(in_channels, 2 * out_channels, cached=True) # cached only for transductive learning\n",
    "        self.conv_mu = GCNConv(2 * out_channels, out_channels, cached=True)\n",
    "        self.conv_logstd = GCNConv(2 * out_channels, out_channels, cached=True)\n",
    "\n",
    "    def forward(self, x, edge_index):\n",
    "        x = self.conv1(x, edge_index).relu()\n",
    "        return self.conv_mu(x, edge_index), self.conv_logstd(x, edge_index)"
   ]
  },
  {
   "cell_type": "code",
   "execution_count": 88,
   "id": "504c61d8-94dd-461c-88b0-736a50943a65",
   "metadata": {},
   "outputs": [
    {
     "name": "stderr",
     "output_type": "stream",
     "text": [
      "/home/rahit/.cache/pypoetry/virtualenvs/gemo-data-DHiuQg47-py3.8/lib/python3.8/site-packages/torch_geometric/deprecation.py:12: UserWarning: 'train_test_split_edges' is deprecated, use 'transforms.RandomLinkSplit' instead\n",
      "  warnings.warn(out)\n"
     ]
    },
    {
     "data": {
      "text/html": [
       "<pre style=\"white-space:pre;overflow-x:auto;line-height:normal;font-family:Menlo,'DejaVu Sans Mono',consolas,'Courier New',monospace\"><span style=\"color: #800080; text-decoration-color: #800080; font-weight: bold\">Data</span><span style=\"font-weight: bold\">(</span><span style=\"color: #808000; text-decoration-color: #808000\">x</span>=<span style=\"font-weight: bold\">[</span><span style=\"color: #008080; text-decoration-color: #008080; font-weight: bold\">733</span>, <span style=\"color: #008080; text-decoration-color: #008080; font-weight: bold\">3</span><span style=\"font-weight: bold\">]</span>, <span style=\"color: #808000; text-decoration-color: #808000\">val_pos_edge_index</span>=<span style=\"font-weight: bold\">[</span><span style=\"color: #008080; text-decoration-color: #008080; font-weight: bold\">2</span>, <span style=\"color: #008080; text-decoration-color: #008080; font-weight: bold\">6800</span><span style=\"font-weight: bold\">]</span>, <span style=\"color: #808000; text-decoration-color: #808000\">val_pos_edge_attr</span>=<span style=\"font-weight: bold\">[</span><span style=\"color: #008080; text-decoration-color: #008080; font-weight: bold\">6800</span><span style=\"font-weight: bold\">]</span>, <span style=\"color: #808000; text-decoration-color: #808000\">test_pos_edge_index</span>=<span style=\"font-weight: bold\">[</span><span style=\"color: #008080; text-decoration-color: #008080; font-weight: bold\">2</span>, <span style=\"color: #008080; text-decoration-color: #008080; font-weight: bold\">13601</span><span style=\"font-weight: bold\">]</span>, <span style=\"color: #808000; text-decoration-color: #808000\">test_pos_edge_attr</span>=<span style=\"font-weight: bold\">[</span><span style=\"color: #008080; text-decoration-color: #008080; font-weight: bold\">13601</span><span style=\"font-weight: bold\">]</span>, <span style=\"color: #808000; text-decoration-color: #808000\">train_pos_edge_index</span>=<span style=\"font-weight: bold\">[</span><span style=\"color: #008080; text-decoration-color: #008080; font-weight: bold\">2</span>, <span style=\"color: #008080; text-decoration-color: #008080; font-weight: bold\">231230</span><span style=\"font-weight: bold\">]</span>, <span style=\"color: #808000; text-decoration-color: #808000\">train_pos_edge_attr</span>=<span style=\"font-weight: bold\">[</span><span style=\"color: #008080; text-decoration-color: #008080; font-weight: bold\">231230</span><span style=\"font-weight: bold\">]</span>, <span style=\"color: #808000; text-decoration-color: #808000\">train_neg_adj_mask</span>=<span style=\"font-weight: bold\">[</span><span style=\"color: #008080; text-decoration-color: #008080; font-weight: bold\">733</span>, <span style=\"color: #008080; text-decoration-color: #008080; font-weight: bold\">733</span><span style=\"font-weight: bold\">]</span>, <span style=\"color: #808000; text-decoration-color: #808000\">val_neg_edge_index</span>=<span style=\"font-weight: bold\">[</span><span style=\"color: #008080; text-decoration-color: #008080; font-weight: bold\">2</span>, <span style=\"color: #008080; text-decoration-color: #008080; font-weight: bold\">6800</span><span style=\"font-weight: bold\">]</span>, <span style=\"color: #808000; text-decoration-color: #808000\">test_neg_edge_index</span>=<span style=\"font-weight: bold\">[</span><span style=\"color: #008080; text-decoration-color: #008080; font-weight: bold\">2</span>, <span style=\"color: #008080; text-decoration-color: #008080; font-weight: bold\">13601</span><span style=\"font-weight: bold\">])</span>\n",
       "</pre>\n"
      ],
      "text/plain": [
       "\u001b[1;35mData\u001b[0m\u001b[1m(\u001b[0m\u001b[33mx\u001b[0m=\u001b[1m[\u001b[0m\u001b[1;36m733\u001b[0m, \u001b[1;36m3\u001b[0m\u001b[1m]\u001b[0m, \u001b[33mval_pos_edge_index\u001b[0m=\u001b[1m[\u001b[0m\u001b[1;36m2\u001b[0m, \u001b[1;36m6800\u001b[0m\u001b[1m]\u001b[0m, \u001b[33mval_pos_edge_attr\u001b[0m=\u001b[1m[\u001b[0m\u001b[1;36m6800\u001b[0m\u001b[1m]\u001b[0m, \u001b[33mtest_pos_edge_index\u001b[0m=\u001b[1m[\u001b[0m\u001b[1;36m2\u001b[0m, \u001b[1;36m13601\u001b[0m\u001b[1m]\u001b[0m, \u001b[33mtest_pos_edge_attr\u001b[0m=\u001b[1m[\u001b[0m\u001b[1;36m13601\u001b[0m\u001b[1m]\u001b[0m, \u001b[33mtrain_pos_edge_index\u001b[0m=\u001b[1m[\u001b[0m\u001b[1;36m2\u001b[0m, \u001b[1;36m231230\u001b[0m\u001b[1m]\u001b[0m, \u001b[33mtrain_pos_edge_attr\u001b[0m=\u001b[1m[\u001b[0m\u001b[1;36m231230\u001b[0m\u001b[1m]\u001b[0m, \u001b[33mtrain_neg_adj_mask\u001b[0m=\u001b[1m[\u001b[0m\u001b[1;36m733\u001b[0m, \u001b[1;36m733\u001b[0m\u001b[1m]\u001b[0m, \u001b[33mval_neg_edge_index\u001b[0m=\u001b[1m[\u001b[0m\u001b[1;36m2\u001b[0m, \u001b[1;36m6800\u001b[0m\u001b[1m]\u001b[0m, \u001b[33mtest_neg_edge_index\u001b[0m=\u001b[1m[\u001b[0m\u001b[1;36m2\u001b[0m, \u001b[1;36m13601\u001b[0m\u001b[1m]\u001b[0m\u001b[1m)\u001b[0m\n"
      ]
     },
     "metadata": {},
     "output_type": "display_data"
    }
   ],
   "source": [
    "data = train_test_split_edges(data)\n",
    "data"
   ]
  },
  {
   "cell_type": "code",
   "execution_count": 89,
   "id": "53179d19-8e32-4f90-831c-ac721bd4ebcd",
   "metadata": {},
   "outputs": [],
   "source": [
    "out_channels = 2\n",
    "num_features = 3\n",
    "epochs = 300\n",
    "\n",
    "\n",
    "model = VGAE(VariationalGCNEncoder(num_features, out_channels))  # new line\n",
    "\n",
    "device = torch.device('cuda' if torch.cuda.is_available() else 'cpu')\n",
    "model = model.to(device)\n",
    "x = data.x.to(device)\n",
    "train_pos_edge_index = data.train_pos_edge_index.to(device)\n",
    "optimizer = torch.optim.Adam(model.parameters(), lr=0.01)"
   ]
  },
  {
   "cell_type": "code",
   "execution_count": 72,
   "id": "316c6cdc-965b-4f5c-b384-4a16ccac5616",
   "metadata": {},
   "outputs": [
    {
     "data": {
      "text/html": [
       "<pre style=\"white-space:pre;overflow-x:auto;line-height:normal;font-family:Menlo,'DejaVu Sans Mono',consolas,'Courier New',monospace\"><span style=\"color: #ff0000; text-decoration-color: #ff0000\">╭──────────────────────────── </span><span style=\"color: #800000; text-decoration-color: #800000; font-weight: bold\">Traceback </span><span style=\"color: #bf7f7f; text-decoration-color: #bf7f7f; font-weight: bold\">(most recent call last)</span><span style=\"color: #ff0000; text-decoration-color: #ff0000\"> ────────────────────────────╮</span>\n",
       "<span style=\"color: #ff0000; text-decoration-color: #ff0000\">│</span>                                                                                           <span style=\"color: #ff0000; text-decoration-color: #ff0000\">│</span>\n",
       "<span style=\"color: #ff0000; text-decoration-color: #ff0000\">│</span> <span style=\"color: #bfbf7f; text-decoration-color: #bfbf7f\">/tmp/ipykernel_12274/</span><span style=\"color: #808000; text-decoration-color: #808000; font-weight: bold\">1614924763.py</span>:<span style=\"color: #0000ff; text-decoration-color: #0000ff\">1</span> in <span style=\"color: #00ff00; text-decoration-color: #00ff00\">&lt;module&gt;</span>                                          <span style=\"color: #ff0000; text-decoration-color: #ff0000\">│</span>\n",
       "<span style=\"color: #ff0000; text-decoration-color: #ff0000\">│</span>                                                                                           <span style=\"color: #ff0000; text-decoration-color: #ff0000\">│</span>\n",
       "<span style=\"color: #ff0000; text-decoration-color: #ff0000\">│</span> <span style=\"color: #800000; text-decoration-color: #800000; font-style: italic\">[Errno 2] No such file or directory: '/tmp/ipykernel_12274/1614924763.py'</span>                 <span style=\"color: #ff0000; text-decoration-color: #ff0000\">│</span>\n",
       "<span style=\"color: #ff0000; text-decoration-color: #ff0000\">╰───────────────────────────────────────────────────────────────────────────────────────────╯</span>\n",
       "<span style=\"color: #ff0000; text-decoration-color: #ff0000; font-weight: bold\">NameError: </span>name <span style=\"color: #008000; text-decoration-color: #008000\">'SummaryWriter'</span> is not defined\n",
       "</pre>\n"
      ],
      "text/plain": [
       "\u001b[91m╭─\u001b[0m\u001b[91m─────────────────────────── \u001b[0m\u001b[1;31mTraceback \u001b[0m\u001b[1;2;31m(most recent call last)\u001b[0m\u001b[91m ───────────────────────────\u001b[0m\u001b[91m─╮\u001b[0m\n",
       "\u001b[91m│\u001b[0m                                                                                           \u001b[91m│\u001b[0m\n",
       "\u001b[91m│\u001b[0m \u001b[2;33m/tmp/ipykernel_12274/\u001b[0m\u001b[1;33m1614924763.py\u001b[0m:\u001b[94m1\u001b[0m in \u001b[92m<module>\u001b[0m                                          \u001b[91m│\u001b[0m\n",
       "\u001b[91m│\u001b[0m                                                                                           \u001b[91m│\u001b[0m\n",
       "\u001b[91m│\u001b[0m \u001b[3;31m[Errno 2] No such file or directory: '/tmp/ipykernel_12274/1614924763.py'\u001b[0m                 \u001b[91m│\u001b[0m\n",
       "\u001b[91m╰───────────────────────────────────────────────────────────────────────────────────────────╯\u001b[0m\n",
       "\u001b[1;91mNameError: \u001b[0mname \u001b[32m'SummaryWriter'\u001b[0m is not defined\n"
      ]
     },
     "metadata": {},
     "output_type": "display_data"
    }
   ],
   "source": [
    "writer = SummaryWriter('runs/GAE1_experiment_'+'2d_100_epochs')"
   ]
  },
  {
   "cell_type": "code",
   "execution_count": 90,
   "id": "9eeee451-38cc-4291-b039-a674d256d4d5",
   "metadata": {},
   "outputs": [],
   "source": [
    "def train():\n",
    "    model.train()\n",
    "    optimizer.zero_grad()\n",
    "    z = model.encode(x, train_pos_edge_index)\n",
    "    loss = model.recon_loss(z, train_pos_edge_index)\n",
    "    \n",
    "    loss = loss + (1 / data.num_nodes) * model.kl_loss()  # new line\n",
    "    loss.backward()\n",
    "    optimizer.step()\n",
    "    return float(loss)\n",
    "\n",
    "\n",
    "def test(pos_edge_index, neg_edge_index):\n",
    "    model.eval()\n",
    "    with torch.no_grad():\n",
    "        z = model.encode(x, train_pos_edge_index)\n",
    "    return model.test(z, pos_edge_index, neg_edge_index)"
   ]
  },
  {
   "cell_type": "code",
   "execution_count": null,
   "id": "b6a3822c-162a-4e36-b374-5a1ba1353b98",
   "metadata": {},
   "outputs": [
    {
     "data": {
      "text/html": [
       "<pre style=\"white-space:pre;overflow-x:auto;line-height:normal;font-family:Menlo,'DejaVu Sans Mono',consolas,'Courier New',monospace\">Epoch: <span style=\"color: #008080; text-decoration-color: #008080; font-weight: bold\">001</span>, AUC: <span style=\"color: #008080; text-decoration-color: #008080; font-weight: bold\">0.5000</span>, AP: <span style=\"color: #008080; text-decoration-color: #008080; font-weight: bold\">0.5000</span>\n",
       "</pre>\n"
      ],
      "text/plain": [
       "Epoch: \u001b[1;36m001\u001b[0m, AUC: \u001b[1;36m0.5000\u001b[0m, AP: \u001b[1;36m0.5000\u001b[0m\n"
      ]
     },
     "metadata": {},
     "output_type": "display_data"
    }
   ],
   "source": [
    "\n",
    "for epoch in range(1, epochs + 1):\n",
    "    loss = train()\n",
    "    auc, ap = test(data.test_pos_edge_index, data.test_neg_edge_index)\n",
    "    print('Epoch: {:03d}, AUC: {:.4f}, AP: {:.4f}'.format(epoch, auc, ap))\n",
    "    \n",
    "    # writer.add_scalar('auc train',auc,epoch) # new line\n",
    "    # writer.add_scalar('ap train',ap,epoch)   # new line"
   ]
  },
  {
   "cell_type": "code",
   "execution_count": null,
   "id": "04435d8f",
   "metadata": {},
   "outputs": [],
   "source": []
  },
  {
   "cell_type": "code",
   "execution_count": null,
   "id": "e130ee60",
   "metadata": {},
   "outputs": [],
   "source": []
  },
  {
   "cell_type": "code",
   "execution_count": null,
   "id": "c58f1b56",
   "metadata": {},
   "outputs": [],
   "source": []
  },
  {
   "cell_type": "code",
   "execution_count": null,
   "id": "26daef8d",
   "metadata": {},
   "outputs": [],
   "source": []
  },
  {
   "cell_type": "code",
   "execution_count": null,
   "id": "06b9df94",
   "metadata": {},
   "outputs": [],
   "source": []
  },
  {
   "cell_type": "code",
   "execution_count": null,
   "id": "7386daeb",
   "metadata": {},
   "outputs": [],
   "source": []
  },
  {
   "cell_type": "code",
   "execution_count": 70,
   "id": "5e19f364-251d-424a-86b2-e6a2f0b02fc4",
   "metadata": {},
   "outputs": [
    {
     "data": {
      "text/html": [
       "<pre style=\"white-space:pre;overflow-x:auto;line-height:normal;font-family:Menlo,'DejaVu Sans Mono',consolas,'Courier New',monospace\"><span style=\"color: #800000; text-decoration-color: #800000\">╭─────────────────────────────── </span><span style=\"color: #800000; text-decoration-color: #800000; font-weight: bold\">Traceback </span><span style=\"color: #bf7f7f; text-decoration-color: #bf7f7f; font-weight: bold\">(most recent call last)</span><span style=\"color: #800000; text-decoration-color: #800000\"> ────────────────────────────────╮</span>\n",
       "<span style=\"color: #800000; text-decoration-color: #800000\">│</span> <span style=\"color: #bfbf7f; text-decoration-color: #bfbf7f\">/tmp/ipykernel_24008/</span><span style=\"color: #808000; text-decoration-color: #808000; font-weight: bold\">3608489440.py</span>:<span style=\"color: #0000ff; text-decoration-color: #0000ff\">3</span> in <span style=\"color: #00ff00; text-decoration-color: #00ff00\">&lt;module&gt;</span>                                                 <span style=\"color: #800000; text-decoration-color: #800000\">│</span>\n",
       "<span style=\"color: #800000; text-decoration-color: #800000\">│</span>                                                                                                  <span style=\"color: #800000; text-decoration-color: #800000\">│</span>\n",
       "<span style=\"color: #800000; text-decoration-color: #800000\">│</span> <span style=\"color: #800000; text-decoration-color: #800000; font-style: italic\">[Errno 2] No such file or directory: '/tmp/ipykernel_24008/3608489440.py'</span>                        <span style=\"color: #800000; text-decoration-color: #800000\">│</span>\n",
       "<span style=\"color: #800000; text-decoration-color: #800000\">│</span>                                                                                                  <span style=\"color: #800000; text-decoration-color: #800000\">│</span>\n",
       "<span style=\"color: #800000; text-decoration-color: #800000\">│</span> <span style=\"color: #bfbf7f; text-decoration-color: #bfbf7f\">/home/rahit/jupyter_py3/lib/python3.8/site-packages/pandas/core/reshape/</span><span style=\"color: #808000; text-decoration-color: #808000; font-weight: bold\">merge.py</span>:<span style=\"color: #0000ff; text-decoration-color: #0000ff\">107</span> in <span style=\"color: #00ff00; text-decoration-color: #00ff00\">merge</span>    <span style=\"color: #800000; text-decoration-color: #800000\">│</span>\n",
       "<span style=\"color: #800000; text-decoration-color: #800000\">│</span>                                                                                                  <span style=\"color: #800000; text-decoration-color: #800000\">│</span>\n",
       "<span style=\"color: #800000; text-decoration-color: #800000\">│</span>   <span style=\"color: #7f7f7f; text-decoration-color: #7f7f7f\"> 104 │   </span>indicator: <span style=\"color: #00ffff; text-decoration-color: #00ffff\">bool</span> = <span style=\"color: #0000ff; text-decoration-color: #0000ff\">False</span>,                                                              <span style=\"color: #800000; text-decoration-color: #800000\">│</span>\n",
       "<span style=\"color: #800000; text-decoration-color: #800000\">│</span>   <span style=\"color: #7f7f7f; text-decoration-color: #7f7f7f\"> 105 │   </span>validate: <span style=\"color: #00ffff; text-decoration-color: #00ffff\">str</span> | <span style=\"color: #0000ff; text-decoration-color: #0000ff\">None</span> = <span style=\"color: #0000ff; text-decoration-color: #0000ff\">None</span>,                                                          <span style=\"color: #800000; text-decoration-color: #800000\">│</span>\n",
       "<span style=\"color: #800000; text-decoration-color: #800000\">│</span>   <span style=\"color: #7f7f7f; text-decoration-color: #7f7f7f\"> 106 </span>) -&gt; DataFrame:                                                                           <span style=\"color: #800000; text-decoration-color: #800000\">│</span>\n",
       "<span style=\"color: #800000; text-decoration-color: #800000\">│</span> <span style=\"color: #800000; text-decoration-color: #800000\">❱ </span> 107 <span style=\"color: #7f7f7f; text-decoration-color: #7f7f7f\">│   </span>op = _MergeOperation(                                                                 <span style=\"color: #800000; text-decoration-color: #800000\">│</span>\n",
       "<span style=\"color: #800000; text-decoration-color: #800000\">│</span>   <span style=\"color: #7f7f7f; text-decoration-color: #7f7f7f\"> 108 │   │   </span>left,                                                                             <span style=\"color: #800000; text-decoration-color: #800000\">│</span>\n",
       "<span style=\"color: #800000; text-decoration-color: #800000\">│</span>   <span style=\"color: #7f7f7f; text-decoration-color: #7f7f7f\"> 109 │   │   </span>right,                                                                            <span style=\"color: #800000; text-decoration-color: #800000\">│</span>\n",
       "<span style=\"color: #800000; text-decoration-color: #800000\">│</span>   <span style=\"color: #7f7f7f; text-decoration-color: #7f7f7f\"> 110 │   │   </span>how=how,                                                                          <span style=\"color: #800000; text-decoration-color: #800000\">│</span>\n",
       "<span style=\"color: #800000; text-decoration-color: #800000\">│</span>                                                                                                  <span style=\"color: #800000; text-decoration-color: #800000\">│</span>\n",
       "<span style=\"color: #800000; text-decoration-color: #800000\">│</span> <span style=\"color: #bfbf7f; text-decoration-color: #bfbf7f\">/home/rahit/jupyter_py3/lib/python3.8/site-packages/pandas/core/reshape/</span><span style=\"color: #808000; text-decoration-color: #808000; font-weight: bold\">merge.py</span>:<span style=\"color: #0000ff; text-decoration-color: #0000ff\">700</span> in <span style=\"color: #00ff00; text-decoration-color: #00ff00\">__init__</span> <span style=\"color: #800000; text-decoration-color: #800000\">│</span>\n",
       "<span style=\"color: #800000; text-decoration-color: #800000\">│</span>                                                                                                  <span style=\"color: #800000; text-decoration-color: #800000\">│</span>\n",
       "<span style=\"color: #800000; text-decoration-color: #800000\">│</span>   <span style=\"color: #7f7f7f; text-decoration-color: #7f7f7f\"> 697 │   │   │   </span><span style=\"color: #00ffff; text-decoration-color: #00ffff\">self</span>.left_join_keys,                                                          <span style=\"color: #800000; text-decoration-color: #800000\">│</span>\n",
       "<span style=\"color: #800000; text-decoration-color: #800000\">│</span>   <span style=\"color: #7f7f7f; text-decoration-color: #7f7f7f\"> 698 │   │   │   </span><span style=\"color: #00ffff; text-decoration-color: #00ffff\">self</span>.right_join_keys,                                                         <span style=\"color: #800000; text-decoration-color: #800000\">│</span>\n",
       "<span style=\"color: #800000; text-decoration-color: #800000\">│</span>   <span style=\"color: #7f7f7f; text-decoration-color: #7f7f7f\"> 699 │   │   │   </span><span style=\"color: #00ffff; text-decoration-color: #00ffff\">self</span>.join_names,                                                              <span style=\"color: #800000; text-decoration-color: #800000\">│</span>\n",
       "<span style=\"color: #800000; text-decoration-color: #800000\">│</span> <span style=\"color: #800000; text-decoration-color: #800000\">❱ </span> 700 <span style=\"color: #7f7f7f; text-decoration-color: #7f7f7f\">│   │   </span>) = <span style=\"color: #00ffff; text-decoration-color: #00ffff\">self</span>._get_merge_keys()                                                        <span style=\"color: #800000; text-decoration-color: #800000\">│</span>\n",
       "<span style=\"color: #800000; text-decoration-color: #800000\">│</span>   <span style=\"color: #7f7f7f; text-decoration-color: #7f7f7f\"> 701 │   │   </span>                                                                                  <span style=\"color: #800000; text-decoration-color: #800000\">│</span>\n",
       "<span style=\"color: #800000; text-decoration-color: #800000\">│</span>   <span style=\"color: #7f7f7f; text-decoration-color: #7f7f7f\"> 702 │   │   # validate the merge keys dtypes. We may need to coerce</span>                           <span style=\"color: #800000; text-decoration-color: #800000\">│</span>\n",
       "<span style=\"color: #800000; text-decoration-color: #800000\">│</span>   <span style=\"color: #7f7f7f; text-decoration-color: #7f7f7f\"> 703 │   │   # to avoid incompatible dtypes</span>                                                    <span style=\"color: #800000; text-decoration-color: #800000\">│</span>\n",
       "<span style=\"color: #800000; text-decoration-color: #800000\">│</span>                                                                                                  <span style=\"color: #800000; text-decoration-color: #800000\">│</span>\n",
       "<span style=\"color: #800000; text-decoration-color: #800000\">│</span> <span style=\"color: #bfbf7f; text-decoration-color: #bfbf7f\">/home/rahit/jupyter_py3/lib/python3.8/site-packages/pandas/core/reshape/</span><span style=\"color: #808000; text-decoration-color: #808000; font-weight: bold\">merge.py</span>:<span style=\"color: #0000ff; text-decoration-color: #0000ff\">1097</span> in         <span style=\"color: #800000; text-decoration-color: #800000\">│</span>\n",
       "<span style=\"color: #800000; text-decoration-color: #800000\">│</span> <span style=\"color: #00ff00; text-decoration-color: #00ff00\">_get_merge_keys</span>                                                                                  <span style=\"color: #800000; text-decoration-color: #800000\">│</span>\n",
       "<span style=\"color: #800000; text-decoration-color: #800000\">│</span>                                                                                                  <span style=\"color: #800000; text-decoration-color: #800000\">│</span>\n",
       "<span style=\"color: #800000; text-decoration-color: #800000\">│</span>   <span style=\"color: #7f7f7f; text-decoration-color: #7f7f7f\">1094 │   │   │   │   </span><span style=\"color: #0000ff; text-decoration-color: #0000ff\">else</span>:                                                                     <span style=\"color: #800000; text-decoration-color: #800000\">│</span>\n",
       "<span style=\"color: #800000; text-decoration-color: #800000\">│</span>   <span style=\"color: #7f7f7f; text-decoration-color: #7f7f7f\">1095 │   │   │   │   │   </span><span style=\"color: #0000ff; text-decoration-color: #0000ff\">if</span> <span style=\"color: #ff00ff; text-decoration-color: #ff00ff\">not</span> is_rkey(rk):                                                   <span style=\"color: #800000; text-decoration-color: #800000\">│</span>\n",
       "<span style=\"color: #800000; text-decoration-color: #800000\">│</span>   <span style=\"color: #7f7f7f; text-decoration-color: #7f7f7f\">1096 │   │   │   │   │   │   </span><span style=\"color: #0000ff; text-decoration-color: #0000ff\">if</span> rk <span style=\"color: #ff00ff; text-decoration-color: #ff00ff\">is</span> <span style=\"color: #ff00ff; text-decoration-color: #ff00ff\">not</span> <span style=\"color: #0000ff; text-decoration-color: #0000ff\">None</span>:                                                <span style=\"color: #800000; text-decoration-color: #800000\">│</span>\n",
       "<span style=\"color: #800000; text-decoration-color: #800000\">│</span> <span style=\"color: #800000; text-decoration-color: #800000\">❱ </span>1097 <span style=\"color: #7f7f7f; text-decoration-color: #7f7f7f\">│   │   │   │   │   │   │   </span>right_keys.append(right._get_label_or_level_values(rk))       <span style=\"color: #800000; text-decoration-color: #800000\">│</span>\n",
       "<span style=\"color: #800000; text-decoration-color: #800000\">│</span>   <span style=\"color: #7f7f7f; text-decoration-color: #7f7f7f\">1098 │   │   │   │   │   │   </span><span style=\"color: #0000ff; text-decoration-color: #0000ff\">else</span>:                                                             <span style=\"color: #800000; text-decoration-color: #800000\">│</span>\n",
       "<span style=\"color: #800000; text-decoration-color: #800000\">│</span>   <span style=\"color: #7f7f7f; text-decoration-color: #7f7f7f\">1099 │   │   │   │   │   │   │   # work-around for merge_asof(right_index=True)</span>                <span style=\"color: #800000; text-decoration-color: #800000\">│</span>\n",
       "<span style=\"color: #800000; text-decoration-color: #800000\">│</span>   <span style=\"color: #7f7f7f; text-decoration-color: #7f7f7f\">1100 │   │   │   │   │   │   │   </span>right_keys.append(right.index)                                <span style=\"color: #800000; text-decoration-color: #800000\">│</span>\n",
       "<span style=\"color: #800000; text-decoration-color: #800000\">│</span>                                                                                                  <span style=\"color: #800000; text-decoration-color: #800000\">│</span>\n",
       "<span style=\"color: #800000; text-decoration-color: #800000\">│</span> <span style=\"color: #bfbf7f; text-decoration-color: #bfbf7f\">/home/rahit/jupyter_py3/lib/python3.8/site-packages/pandas/core/</span><span style=\"color: #808000; text-decoration-color: #808000; font-weight: bold\">generic.py</span>:<span style=\"color: #0000ff; text-decoration-color: #0000ff\">1848</span> in               <span style=\"color: #800000; text-decoration-color: #800000\">│</span>\n",
       "<span style=\"color: #800000; text-decoration-color: #800000\">│</span> <span style=\"color: #00ff00; text-decoration-color: #00ff00\">_get_label_or_level_values</span>                                                                       <span style=\"color: #800000; text-decoration-color: #800000\">│</span>\n",
       "<span style=\"color: #800000; text-decoration-color: #800000\">│</span>                                                                                                  <span style=\"color: #800000; text-decoration-color: #800000\">│</span>\n",
       "<span style=\"color: #800000; text-decoration-color: #800000\">│</span>   <span style=\"color: #7f7f7f; text-decoration-color: #7f7f7f\"> 1845 │   │   </span><span style=\"color: #0000ff; text-decoration-color: #0000ff\">elif</span> <span style=\"color: #00ffff; text-decoration-color: #00ffff\">self</span>._is_level_reference(key, axis=axis):                                   <span style=\"color: #800000; text-decoration-color: #800000\">│</span>\n",
       "<span style=\"color: #800000; text-decoration-color: #800000\">│</span>   <span style=\"color: #7f7f7f; text-decoration-color: #7f7f7f\"> 1846 │   │   │   </span>values = <span style=\"color: #00ffff; text-decoration-color: #00ffff\">self</span>.axes[axis].get_level_values(key)._values                       <span style=\"color: #800000; text-decoration-color: #800000\">│</span>\n",
       "<span style=\"color: #800000; text-decoration-color: #800000\">│</span>   <span style=\"color: #7f7f7f; text-decoration-color: #7f7f7f\"> 1847 │   │   </span><span style=\"color: #0000ff; text-decoration-color: #0000ff\">else</span>:                                                                            <span style=\"color: #800000; text-decoration-color: #800000\">│</span>\n",
       "<span style=\"color: #800000; text-decoration-color: #800000\">│</span> <span style=\"color: #800000; text-decoration-color: #800000\">❱ </span> 1848 <span style=\"color: #7f7f7f; text-decoration-color: #7f7f7f\">│   │   │   </span><span style=\"color: #0000ff; text-decoration-color: #0000ff\">raise</span> <span style=\"color: #00ffff; text-decoration-color: #00ffff\">KeyError</span>(key)                                                          <span style=\"color: #800000; text-decoration-color: #800000\">│</span>\n",
       "<span style=\"color: #800000; text-decoration-color: #800000\">│</span>   <span style=\"color: #7f7f7f; text-decoration-color: #7f7f7f\"> 1849 │   │   </span>                                                                                 <span style=\"color: #800000; text-decoration-color: #800000\">│</span>\n",
       "<span style=\"color: #800000; text-decoration-color: #800000\">│</span>   <span style=\"color: #7f7f7f; text-decoration-color: #7f7f7f\"> 1850 │   │   # Check for duplicates</span>                                                           <span style=\"color: #800000; text-decoration-color: #800000\">│</span>\n",
       "<span style=\"color: #800000; text-decoration-color: #800000\">│</span>   <span style=\"color: #7f7f7f; text-decoration-color: #7f7f7f\"> 1851 │   │   </span><span style=\"color: #0000ff; text-decoration-color: #0000ff\">if</span> values.ndim &gt; <span style=\"color: #0000ff; text-decoration-color: #0000ff\">1</span>:                                                              <span style=\"color: #800000; text-decoration-color: #800000\">│</span>\n",
       "<span style=\"color: #800000; text-decoration-color: #800000\">╰──────────────────────────────────────────────────────────────────────────────────────────────────╯</span>\n",
       "<span style=\"color: #ff0000; text-decoration-color: #ff0000; font-weight: bold\">KeyError: </span><span style=\"color: #008000; text-decoration-color: #008000\">'a'</span>\n",
       "</pre>\n"
      ],
      "text/plain": [
       "\u001b[31m╭─\u001b[0m\u001b[31m──────────────────────────────\u001b[0m\u001b[31m \u001b[0m\u001b[1;31mTraceback \u001b[0m\u001b[1;2;31m(most recent call last)\u001b[0m\u001b[31m \u001b[0m\u001b[31m───────────────────────────────\u001b[0m\u001b[31m─╮\u001b[0m\n",
       "\u001b[31m│\u001b[0m \u001b[2;33m/tmp/ipykernel_24008/\u001b[0m\u001b[1;33m3608489440.py\u001b[0m:\u001b[94m3\u001b[0m in \u001b[92m<module>\u001b[0m                                                 \u001b[31m│\u001b[0m\n",
       "\u001b[31m│\u001b[0m                                                                                                  \u001b[31m│\u001b[0m\n",
       "\u001b[31m│\u001b[0m \u001b[3;31m[Errno 2] No such file or directory: '/tmp/ipykernel_24008/3608489440.py'\u001b[0m                        \u001b[31m│\u001b[0m\n",
       "\u001b[31m│\u001b[0m                                                                                                  \u001b[31m│\u001b[0m\n",
       "\u001b[31m│\u001b[0m \u001b[2;33m/home/rahit/jupyter_py3/lib/python3.8/site-packages/pandas/core/reshape/\u001b[0m\u001b[1;33mmerge.py\u001b[0m:\u001b[94m107\u001b[0m in \u001b[92mmerge\u001b[0m    \u001b[31m│\u001b[0m\n",
       "\u001b[31m│\u001b[0m                                                                                                  \u001b[31m│\u001b[0m\n",
       "\u001b[31m│\u001b[0m   \u001b[2m 104 \u001b[0m\u001b[2m│   \u001b[0mindicator: \u001b[96mbool\u001b[0m = \u001b[94mFalse\u001b[0m,                                                              \u001b[31m│\u001b[0m\n",
       "\u001b[31m│\u001b[0m   \u001b[2m 105 \u001b[0m\u001b[2m│   \u001b[0mvalidate: \u001b[96mstr\u001b[0m | \u001b[94mNone\u001b[0m = \u001b[94mNone\u001b[0m,                                                          \u001b[31m│\u001b[0m\n",
       "\u001b[31m│\u001b[0m   \u001b[2m 106 \u001b[0m) -> DataFrame:                                                                           \u001b[31m│\u001b[0m\n",
       "\u001b[31m│\u001b[0m \u001b[31m❱ \u001b[0m 107 \u001b[2m│   \u001b[0mop = _MergeOperation(                                                                 \u001b[31m│\u001b[0m\n",
       "\u001b[31m│\u001b[0m   \u001b[2m 108 \u001b[0m\u001b[2m│   │   \u001b[0mleft,                                                                             \u001b[31m│\u001b[0m\n",
       "\u001b[31m│\u001b[0m   \u001b[2m 109 \u001b[0m\u001b[2m│   │   \u001b[0mright,                                                                            \u001b[31m│\u001b[0m\n",
       "\u001b[31m│\u001b[0m   \u001b[2m 110 \u001b[0m\u001b[2m│   │   \u001b[0mhow=how,                                                                          \u001b[31m│\u001b[0m\n",
       "\u001b[31m│\u001b[0m                                                                                                  \u001b[31m│\u001b[0m\n",
       "\u001b[31m│\u001b[0m \u001b[2;33m/home/rahit/jupyter_py3/lib/python3.8/site-packages/pandas/core/reshape/\u001b[0m\u001b[1;33mmerge.py\u001b[0m:\u001b[94m700\u001b[0m in \u001b[92m__init__\u001b[0m \u001b[31m│\u001b[0m\n",
       "\u001b[31m│\u001b[0m                                                                                                  \u001b[31m│\u001b[0m\n",
       "\u001b[31m│\u001b[0m   \u001b[2m 697 \u001b[0m\u001b[2m│   │   │   \u001b[0m\u001b[96mself\u001b[0m.left_join_keys,                                                          \u001b[31m│\u001b[0m\n",
       "\u001b[31m│\u001b[0m   \u001b[2m 698 \u001b[0m\u001b[2m│   │   │   \u001b[0m\u001b[96mself\u001b[0m.right_join_keys,                                                         \u001b[31m│\u001b[0m\n",
       "\u001b[31m│\u001b[0m   \u001b[2m 699 \u001b[0m\u001b[2m│   │   │   \u001b[0m\u001b[96mself\u001b[0m.join_names,                                                              \u001b[31m│\u001b[0m\n",
       "\u001b[31m│\u001b[0m \u001b[31m❱ \u001b[0m 700 \u001b[2m│   │   \u001b[0m) = \u001b[96mself\u001b[0m._get_merge_keys()                                                        \u001b[31m│\u001b[0m\n",
       "\u001b[31m│\u001b[0m   \u001b[2m 701 \u001b[0m\u001b[2m│   │   \u001b[0m                                                                                  \u001b[31m│\u001b[0m\n",
       "\u001b[31m│\u001b[0m   \u001b[2m 702 \u001b[0m\u001b[2m│   │   \u001b[0m\u001b[2m# validate the merge keys dtypes. We may need to coerce\u001b[0m                           \u001b[31m│\u001b[0m\n",
       "\u001b[31m│\u001b[0m   \u001b[2m 703 \u001b[0m\u001b[2m│   │   \u001b[0m\u001b[2m# to avoid incompatible dtypes\u001b[0m                                                    \u001b[31m│\u001b[0m\n",
       "\u001b[31m│\u001b[0m                                                                                                  \u001b[31m│\u001b[0m\n",
       "\u001b[31m│\u001b[0m \u001b[2;33m/home/rahit/jupyter_py3/lib/python3.8/site-packages/pandas/core/reshape/\u001b[0m\u001b[1;33mmerge.py\u001b[0m:\u001b[94m1097\u001b[0m in         \u001b[31m│\u001b[0m\n",
       "\u001b[31m│\u001b[0m \u001b[92m_get_merge_keys\u001b[0m                                                                                  \u001b[31m│\u001b[0m\n",
       "\u001b[31m│\u001b[0m                                                                                                  \u001b[31m│\u001b[0m\n",
       "\u001b[31m│\u001b[0m   \u001b[2m1094 \u001b[0m\u001b[2m│   │   │   │   \u001b[0m\u001b[94melse\u001b[0m:                                                                     \u001b[31m│\u001b[0m\n",
       "\u001b[31m│\u001b[0m   \u001b[2m1095 \u001b[0m\u001b[2m│   │   │   │   │   \u001b[0m\u001b[94mif\u001b[0m \u001b[95mnot\u001b[0m is_rkey(rk):                                                   \u001b[31m│\u001b[0m\n",
       "\u001b[31m│\u001b[0m   \u001b[2m1096 \u001b[0m\u001b[2m│   │   │   │   │   │   \u001b[0m\u001b[94mif\u001b[0m rk \u001b[95mis\u001b[0m \u001b[95mnot\u001b[0m \u001b[94mNone\u001b[0m:                                                \u001b[31m│\u001b[0m\n",
       "\u001b[31m│\u001b[0m \u001b[31m❱ \u001b[0m1097 \u001b[2m│   │   │   │   │   │   │   \u001b[0mright_keys.append(right._get_label_or_level_values(rk))       \u001b[31m│\u001b[0m\n",
       "\u001b[31m│\u001b[0m   \u001b[2m1098 \u001b[0m\u001b[2m│   │   │   │   │   │   \u001b[0m\u001b[94melse\u001b[0m:                                                             \u001b[31m│\u001b[0m\n",
       "\u001b[31m│\u001b[0m   \u001b[2m1099 \u001b[0m\u001b[2m│   │   │   │   │   │   │   \u001b[0m\u001b[2m# work-around for merge_asof(right_index=True)\u001b[0m                \u001b[31m│\u001b[0m\n",
       "\u001b[31m│\u001b[0m   \u001b[2m1100 \u001b[0m\u001b[2m│   │   │   │   │   │   │   \u001b[0mright_keys.append(right.index)                                \u001b[31m│\u001b[0m\n",
       "\u001b[31m│\u001b[0m                                                                                                  \u001b[31m│\u001b[0m\n",
       "\u001b[31m│\u001b[0m \u001b[2;33m/home/rahit/jupyter_py3/lib/python3.8/site-packages/pandas/core/\u001b[0m\u001b[1;33mgeneric.py\u001b[0m:\u001b[94m1848\u001b[0m in               \u001b[31m│\u001b[0m\n",
       "\u001b[31m│\u001b[0m \u001b[92m_get_label_or_level_values\u001b[0m                                                                       \u001b[31m│\u001b[0m\n",
       "\u001b[31m│\u001b[0m                                                                                                  \u001b[31m│\u001b[0m\n",
       "\u001b[31m│\u001b[0m   \u001b[2m 1845 \u001b[0m\u001b[2m│   │   \u001b[0m\u001b[94melif\u001b[0m \u001b[96mself\u001b[0m._is_level_reference(key, axis=axis):                                   \u001b[31m│\u001b[0m\n",
       "\u001b[31m│\u001b[0m   \u001b[2m 1846 \u001b[0m\u001b[2m│   │   │   \u001b[0mvalues = \u001b[96mself\u001b[0m.axes[axis].get_level_values(key)._values                       \u001b[31m│\u001b[0m\n",
       "\u001b[31m│\u001b[0m   \u001b[2m 1847 \u001b[0m\u001b[2m│   │   \u001b[0m\u001b[94melse\u001b[0m:                                                                            \u001b[31m│\u001b[0m\n",
       "\u001b[31m│\u001b[0m \u001b[31m❱ \u001b[0m 1848 \u001b[2m│   │   │   \u001b[0m\u001b[94mraise\u001b[0m \u001b[96mKeyError\u001b[0m(key)                                                          \u001b[31m│\u001b[0m\n",
       "\u001b[31m│\u001b[0m   \u001b[2m 1849 \u001b[0m\u001b[2m│   │   \u001b[0m                                                                                 \u001b[31m│\u001b[0m\n",
       "\u001b[31m│\u001b[0m   \u001b[2m 1850 \u001b[0m\u001b[2m│   │   \u001b[0m\u001b[2m# Check for duplicates\u001b[0m                                                           \u001b[31m│\u001b[0m\n",
       "\u001b[31m│\u001b[0m   \u001b[2m 1851 \u001b[0m\u001b[2m│   │   \u001b[0m\u001b[94mif\u001b[0m values.ndim > \u001b[94m1\u001b[0m:                                                              \u001b[31m│\u001b[0m\n",
       "\u001b[31m╰──────────────────────────────────────────────────────────────────────────────────────────────────╯\u001b[0m\n",
       "\u001b[1;91mKeyError: \u001b[0m\u001b[32m'a'\u001b[0m\n"
      ]
     },
     "metadata": {},
     "output_type": "display_data"
    }
   ],
   "source": [
    "pairs_df = pd.merge(protein_alias_df, pairs_df, how='left', on=['source', 'alias'])#.drop('index', axis=1).fillna(0)\n",
    "pairs_df"
   ]
  },
  {
   "cell_type": "code",
   "execution_count": null,
   "id": "90cc8c6a",
   "metadata": {},
   "outputs": [],
   "source": [
    "pint_df"
   ]
  },
  {
   "cell_type": "code",
   "execution_count": 46,
   "id": "4cd9e4c9-ff53-4657-a6e3-9589893d08ee",
   "metadata": {},
   "outputs": [
    {
     "data": {
      "text/html": [
       "<div>\n",
       "<style scoped>\n",
       "    .dataframe tbody tr th:only-of-type {\n",
       "        vertical-align: middle;\n",
       "    }\n",
       "\n",
       "    .dataframe tbody tr th {\n",
       "        vertical-align: top;\n",
       "    }\n",
       "\n",
       "    .dataframe thead th {\n",
       "        text-align: right;\n",
       "    }\n",
       "</style>\n",
       "<table border=\"1\" class=\"dataframe\">\n",
       "  <thead>\n",
       "    <tr style=\"text-align: right;\">\n",
       "      <th></th>\n",
       "      <th>protein1</th>\n",
       "      <th>protein2</th>\n",
       "      <th>combined_score</th>\n",
       "    </tr>\n",
       "  </thead>\n",
       "  <tbody>\n",
       "    <tr>\n",
       "      <th>0</th>\n",
       "      <td>6239.2L52.1</td>\n",
       "      <td>6239.C16C8.14</td>\n",
       "      <td>196</td>\n",
       "    </tr>\n",
       "    <tr>\n",
       "      <th>1</th>\n",
       "      <td>6239.2L52.1</td>\n",
       "      <td>6239.R06A4.7</td>\n",
       "      <td>375</td>\n",
       "    </tr>\n",
       "    <tr>\n",
       "      <th>2</th>\n",
       "      <td>6239.2L52.1</td>\n",
       "      <td>6239.B0218.3</td>\n",
       "      <td>207</td>\n",
       "    </tr>\n",
       "    <tr>\n",
       "      <th>3</th>\n",
       "      <td>6239.2L52.1</td>\n",
       "      <td>6239.C49F5.2</td>\n",
       "      <td>189</td>\n",
       "    </tr>\n",
       "    <tr>\n",
       "      <th>4</th>\n",
       "      <td>6239.2L52.1</td>\n",
       "      <td>6239.Y39B6A.13</td>\n",
       "      <td>152</td>\n",
       "    </tr>\n",
       "  </tbody>\n",
       "</table>\n",
       "</div>"
      ]
     },
     "execution_count": 46,
     "metadata": {},
     "output_type": "execute_result"
    }
   ],
   "source": [
    "protein_interaction_df.head()"
   ]
  },
  {
   "cell_type": "code",
   "execution_count": 49,
   "id": "450c89ca-a3f0-4b20-bd57-b560073c8ee5",
   "metadata": {},
   "outputs": [],
   "source": [
    "cluster.scale(2)"
   ]
  },
  {
   "cell_type": "code",
   "execution_count": 50,
   "id": "4634e56d-dcfe-476d-b051-9039d9624405",
   "metadata": {},
   "outputs": [
    {
     "name": "stdout",
     "output_type": "stream",
     "text": [
      "            JOBID     USER              ACCOUNT           NAME  ST  TIME_LEFT NODES CPUS TRES_PER_N MIN_MEM NODELIST (REASON) \n",
      "          3377875    rahit     def-mtarailo_cpu    dask-worker   R       4:59     1    8        N/A      4G gra781 (None) \n",
      "          3377876    rahit     def-mtarailo_cpu    dask-worker   R       4:59     1    8        N/A      4G gra781 (None) \n",
      "          3377073    rahit     def-mtarailo_cpu    interactive   R      34:45     1    1        N/A      8G gra630 (None) \n"
     ]
    }
   ],
   "source": [
    "!squeue -u $USER"
   ]
  },
  {
   "cell_type": "code",
   "execution_count": 37,
   "id": "c842d4ec-99f8-41b5-abc1-2a5c5a24caf3",
   "metadata": {},
   "outputs": [],
   "source": [
    "!scancel -n \"dask-worker\""
   ]
  },
  {
   "cell_type": "markdown",
   "id": "a766437a-7593-4176-828d-8d17136a649b",
   "metadata": {},
   "source": [
    "Create protein pairs from gene pairs using STRING protein alias"
   ]
  },
  {
   "cell_type": "code",
   "execution_count": 60,
   "id": "a3861d78-78a6-4708-b867-96b50f4c7938",
   "metadata": {},
   "outputs": [
    {
     "data": {
      "text/html": [
       "<pre style=\"white-space:pre;overflow-x:auto;line-height:normal;font-family:Menlo,'DejaVu Sans Mono',consolas,'Courier New',monospace\">\n",
       "<span style=\"color: #800080; text-decoration-color: #800080; font-weight: bold\">array</span><span style=\"font-weight: bold\">([[</span><span style=\"color: #008000; text-decoration-color: #008000\">'WBGene00000022'</span>, <span style=\"color: #008000; text-decoration-color: #008000\">'WBGene00000045'</span><span style=\"font-weight: bold\">]</span>,\n",
       "       <span style=\"font-weight: bold\">[</span><span style=\"color: #008000; text-decoration-color: #008000\">'WBGene00000022'</span>, <span style=\"color: #008000; text-decoration-color: #008000\">'WBGene00000055'</span><span style=\"font-weight: bold\">]</span>,\n",
       "       <span style=\"font-weight: bold\">[</span><span style=\"color: #008000; text-decoration-color: #008000\">'WBGene00000022'</span>, <span style=\"color: #008000; text-decoration-color: #008000\">'WBGene00000057'</span><span style=\"font-weight: bold\">]</span>,\n",
       "       <span style=\"font-weight: bold\">[</span><span style=\"color: #008000; text-decoration-color: #008000\">'WBGene00000022'</span>, <span style=\"color: #008000; text-decoration-color: #008000\">'WBGene00000070'</span><span style=\"font-weight: bold\">]</span>,\n",
       "       <span style=\"font-weight: bold\">[</span><span style=\"color: #008000; text-decoration-color: #008000\">'WBGene00000022'</span>, <span style=\"color: #008000; text-decoration-color: #008000\">'WBGene00000103'</span><span style=\"font-weight: bold\">]</span>,\n",
       "       <span style=\"font-weight: bold\">[</span><span style=\"color: #008000; text-decoration-color: #008000\">'WBGene00000022'</span>, <span style=\"color: #008000; text-decoration-color: #008000\">'WBGene00000109'</span><span style=\"font-weight: bold\">]</span>,\n",
       "       <span style=\"font-weight: bold\">[</span><span style=\"color: #008000; text-decoration-color: #008000\">'WBGene00000022'</span>, <span style=\"color: #008000; text-decoration-color: #008000\">'WBGene00000135'</span><span style=\"font-weight: bold\">]</span>,\n",
       "       <span style=\"font-weight: bold\">[</span><span style=\"color: #008000; text-decoration-color: #008000\">'WBGene00000022'</span>, <span style=\"color: #008000; text-decoration-color: #008000\">'WBGene00000158'</span><span style=\"font-weight: bold\">]</span>,\n",
       "       <span style=\"font-weight: bold\">[</span><span style=\"color: #008000; text-decoration-color: #008000\">'WBGene00000022'</span>, <span style=\"color: #008000; text-decoration-color: #008000\">'WBGene00000166'</span><span style=\"font-weight: bold\">]</span>,\n",
       "       <span style=\"font-weight: bold\">[</span><span style=\"color: #008000; text-decoration-color: #008000\">'WBGene00000022'</span>, <span style=\"color: #008000; text-decoration-color: #008000\">'WBGene00000220'</span><span style=\"font-weight: bold\">]]</span>, <span style=\"color: #808000; text-decoration-color: #808000\">dtype</span>=<span style=\"color: #008000; text-decoration-color: #008000\">'&lt;U14'</span><span style=\"font-weight: bold\">)</span>\n",
       "</pre>\n"
      ],
      "text/plain": [
       "\n",
       "\u001b[1;35marray\u001b[0m\u001b[1m(\u001b[0m\u001b[1m[\u001b[0m\u001b[1m[\u001b[0m\u001b[32m'WBGene00000022'\u001b[0m, \u001b[32m'WBGene00000045'\u001b[0m\u001b[1m]\u001b[0m,\n",
       "       \u001b[1m[\u001b[0m\u001b[32m'WBGene00000022'\u001b[0m, \u001b[32m'WBGene00000055'\u001b[0m\u001b[1m]\u001b[0m,\n",
       "       \u001b[1m[\u001b[0m\u001b[32m'WBGene00000022'\u001b[0m, \u001b[32m'WBGene00000057'\u001b[0m\u001b[1m]\u001b[0m,\n",
       "       \u001b[1m[\u001b[0m\u001b[32m'WBGene00000022'\u001b[0m, \u001b[32m'WBGene00000070'\u001b[0m\u001b[1m]\u001b[0m,\n",
       "       \u001b[1m[\u001b[0m\u001b[32m'WBGene00000022'\u001b[0m, \u001b[32m'WBGene00000103'\u001b[0m\u001b[1m]\u001b[0m,\n",
       "       \u001b[1m[\u001b[0m\u001b[32m'WBGene00000022'\u001b[0m, \u001b[32m'WBGene00000109'\u001b[0m\u001b[1m]\u001b[0m,\n",
       "       \u001b[1m[\u001b[0m\u001b[32m'WBGene00000022'\u001b[0m, \u001b[32m'WBGene00000135'\u001b[0m\u001b[1m]\u001b[0m,\n",
       "       \u001b[1m[\u001b[0m\u001b[32m'WBGene00000022'\u001b[0m, \u001b[32m'WBGene00000158'\u001b[0m\u001b[1m]\u001b[0m,\n",
       "       \u001b[1m[\u001b[0m\u001b[32m'WBGene00000022'\u001b[0m, \u001b[32m'WBGene00000166'\u001b[0m\u001b[1m]\u001b[0m,\n",
       "       \u001b[1m[\u001b[0m\u001b[32m'WBGene00000022'\u001b[0m, \u001b[32m'WBGene00000220'\u001b[0m\u001b[1m]\u001b[0m\u001b[1m]\u001b[0m, \u001b[33mdtype\u001b[0m=\u001b[32m'<U14'\u001b[0m\u001b[1m)\u001b[0m\n"
      ]
     },
     "metadata": {},
     "output_type": "display_data"
    }
   ],
   "source": [
    "\n",
    "\n",
    "def int_score(pair, protein_interaction_df, protein_alias_df):\n",
    "    print(pair)\n",
    "    return get_interaction_score(pair[0], pair[1], protein_interaction_df=protein_interaction_df, protein_alias_df=protein_alias_df)\n",
    "\n",
    "adj_mtx = np.array(pairs[:10])\n",
    "# scores = []\n",
    "# client.scatter(protein_interaction_df)\n",
    "# client.scatter(protein_alias_df)\n",
    "# for p in tqdm(adj_mtx):\n",
    "#     score = dask.delayed(get_interaction_score)(p[0], p[1], protein_interaction_df, protein_alias_df)\n",
    "#     scores.append(score)\n",
    "    \n",
    "# absnp.apply_along_axis(int_score, 1, adj_mtx, protein_interaction_df=protein_interaction_df, protein_alias_df=protein_alias_df)\n",
    "# adj_mtx = da.from_array(np.array(pairs[:50]), chunks=10)\n",
    "# adj_mtx.compute()\n",
    "adj_mtx"
   ]
  },
  {
   "cell_type": "code",
   "execution_count": 61,
   "id": "f7488fd6-6a87-45a0-b5ee-740f2b99d463",
   "metadata": {},
   "outputs": [
    {
     "data": {
      "text/html": [
       "<pre style=\"white-space:pre;overflow-x:auto;line-height:normal;font-family:Menlo,'DejaVu Sans Mono',consolas,'Courier New',monospace\"><span style=\"font-weight: bold\">[</span><span style=\"color: #008000; text-decoration-color: #008000\">'1'</span><span style=\"font-weight: bold\">]</span>\n",
       "</pre>\n"
      ],
      "text/plain": [
       "\u001b[1m[\u001b[0m\u001b[32m'1'\u001b[0m\u001b[1m]\u001b[0m\n"
      ]
     },
     "metadata": {},
     "output_type": "display_data"
    },
    {
     "data": {
      "text/html": [
       "<pre style=\"white-space:pre;overflow-x:auto;line-height:normal;font-family:Menlo,'DejaVu Sans Mono',consolas,'Courier New',monospace\"><span style=\"color: #800000; text-decoration-color: #800000\">╭─────────────────────────────── </span><span style=\"color: #800000; text-decoration-color: #800000; font-weight: bold\">Traceback </span><span style=\"color: #bf7f7f; text-decoration-color: #bf7f7f; font-weight: bold\">(most recent call last)</span><span style=\"color: #800000; text-decoration-color: #800000\"> ────────────────────────────────╮</span>\n",
       "<span style=\"color: #800000; text-decoration-color: #800000\">│</span> <span style=\"color: #bfbf7f; text-decoration-color: #bfbf7f\">/tmp/ipykernel_24008/</span><span style=\"color: #808000; text-decoration-color: #808000; font-weight: bold\">495367488.py</span>:<span style=\"color: #0000ff; text-decoration-color: #0000ff\">2</span> in <span style=\"color: #00ff00; text-decoration-color: #00ff00\">&lt;module&gt;</span>                                                  <span style=\"color: #800000; text-decoration-color: #800000\">│</span>\n",
       "<span style=\"color: #800000; text-decoration-color: #800000\">│</span>                                                                                                  <span style=\"color: #800000; text-decoration-color: #800000\">│</span>\n",
       "<span style=\"color: #800000; text-decoration-color: #800000\">│</span> <span style=\"color: #800000; text-decoration-color: #800000; font-style: italic\">[Errno 2] No such file or directory: '/tmp/ipykernel_24008/495367488.py'</span>                         <span style=\"color: #800000; text-decoration-color: #800000\">│</span>\n",
       "<span style=\"color: #800000; text-decoration-color: #800000\">│</span>                                                                                                  <span style=\"color: #800000; text-decoration-color: #800000\">│</span>\n",
       "<span style=\"color: #800000; text-decoration-color: #800000\">│</span> <span style=\"color: #bfbf7f; text-decoration-color: #bfbf7f\">/home/rahit/jupyter_py3/lib/python3.8/site-packages/dask/array/</span><span style=\"color: #808000; text-decoration-color: #808000; font-weight: bold\">routines.py</span>:<span style=\"color: #0000ff; text-decoration-color: #0000ff\">508</span> in                <span style=\"color: #800000; text-decoration-color: #800000\">│</span>\n",
       "<span style=\"color: #800000; text-decoration-color: #800000\">│</span> <span style=\"color: #00ff00; text-decoration-color: #00ff00\">apply_along_axis</span>                                                                                 <span style=\"color: #800000; text-decoration-color: #800000\">│</span>\n",
       "<span style=\"color: #800000; text-decoration-color: #800000\">│</span>                                                                                                  <span style=\"color: #800000; text-decoration-color: #800000\">│</span>\n",
       "<span style=\"color: #800000; text-decoration-color: #800000\">│</span>   <span style=\"color: #7f7f7f; text-decoration-color: #7f7f7f\"> 505 │   # If necessary, infer dtype and shape of the output of func1d by calling it on test </span>  <span style=\"color: #800000; text-decoration-color: #800000\">│</span>\n",
       "<span style=\"color: #800000; text-decoration-color: #800000\">│</span>   <span style=\"color: #7f7f7f; text-decoration-color: #7f7f7f\"> 506 │   </span><span style=\"color: #0000ff; text-decoration-color: #0000ff\">if</span> shape <span style=\"color: #ff00ff; text-decoration-color: #ff00ff\">is</span> <span style=\"color: #0000ff; text-decoration-color: #0000ff\">None</span> <span style=\"color: #ff00ff; text-decoration-color: #ff00ff\">or</span> dtype <span style=\"color: #ff00ff; text-decoration-color: #ff00ff\">is</span> <span style=\"color: #0000ff; text-decoration-color: #0000ff\">None</span>:                                                    <span style=\"color: #800000; text-decoration-color: #800000\">│</span>\n",
       "<span style=\"color: #800000; text-decoration-color: #800000\">│</span>   <span style=\"color: #7f7f7f; text-decoration-color: #7f7f7f\"> 507 │   │   </span>test_data = np.ones((<span style=\"color: #0000ff; text-decoration-color: #0000ff\">1</span>,), dtype=arr.dtype)                                        <span style=\"color: #800000; text-decoration-color: #800000\">│</span>\n",
       "<span style=\"color: #800000; text-decoration-color: #800000\">│</span> <span style=\"color: #800000; text-decoration-color: #800000\">❱ </span> 508 <span style=\"color: #7f7f7f; text-decoration-color: #7f7f7f\">│   │   </span>test_result = np.array(func1d(test_data, *args, **kwargs))                        <span style=\"color: #800000; text-decoration-color: #800000\">│</span>\n",
       "<span style=\"color: #800000; text-decoration-color: #800000\">│</span>   <span style=\"color: #7f7f7f; text-decoration-color: #7f7f7f\"> 509 │   │   </span><span style=\"color: #0000ff; text-decoration-color: #0000ff\">if</span> shape <span style=\"color: #ff00ff; text-decoration-color: #ff00ff\">is</span> <span style=\"color: #0000ff; text-decoration-color: #0000ff\">None</span>:                                                                 <span style=\"color: #800000; text-decoration-color: #800000\">│</span>\n",
       "<span style=\"color: #800000; text-decoration-color: #800000\">│</span>   <span style=\"color: #7f7f7f; text-decoration-color: #7f7f7f\"> 510 │   │   │   </span>shape = test_result.shape                                                     <span style=\"color: #800000; text-decoration-color: #800000\">│</span>\n",
       "<span style=\"color: #800000; text-decoration-color: #800000\">│</span>   <span style=\"color: #7f7f7f; text-decoration-color: #7f7f7f\"> 511 │   │   </span><span style=\"color: #0000ff; text-decoration-color: #0000ff\">if</span> dtype <span style=\"color: #ff00ff; text-decoration-color: #ff00ff\">is</span> <span style=\"color: #0000ff; text-decoration-color: #0000ff\">None</span>:                                                                 <span style=\"color: #800000; text-decoration-color: #800000\">│</span>\n",
       "<span style=\"color: #800000; text-decoration-color: #800000\">│</span>                                                                                                  <span style=\"color: #800000; text-decoration-color: #800000\">│</span>\n",
       "<span style=\"color: #800000; text-decoration-color: #800000\">│</span> <span style=\"color: #bfbf7f; text-decoration-color: #bfbf7f\">/tmp/ipykernel_24008/</span><span style=\"color: #808000; text-decoration-color: #808000; font-weight: bold\">2388726200.py</span>:<span style=\"color: #0000ff; text-decoration-color: #0000ff\">5</span> in <span style=\"color: #00ff00; text-decoration-color: #00ff00\">int_score</span>                                                <span style=\"color: #800000; text-decoration-color: #800000\">│</span>\n",
       "<span style=\"color: #800000; text-decoration-color: #800000\">│</span>                                                                                                  <span style=\"color: #800000; text-decoration-color: #800000\">│</span>\n",
       "<span style=\"color: #800000; text-decoration-color: #800000\">│</span> <span style=\"color: #800000; text-decoration-color: #800000; font-style: italic\">[Errno 2] No such file or directory: '/tmp/ipykernel_24008/2388726200.py'</span>                        <span style=\"color: #800000; text-decoration-color: #800000\">│</span>\n",
       "<span style=\"color: #800000; text-decoration-color: #800000\">╰──────────────────────────────────────────────────────────────────────────────────────────────────╯</span>\n",
       "<span style=\"color: #ff0000; text-decoration-color: #ff0000; font-weight: bold\">IndexError: </span>index <span style=\"color: #008080; text-decoration-color: #008080; font-weight: bold\">1</span> is out of bounds for axis <span style=\"color: #008080; text-decoration-color: #008080; font-weight: bold\">0</span> with size <span style=\"color: #008080; text-decoration-color: #008080; font-weight: bold\">1</span>\n",
       "</pre>\n"
      ],
      "text/plain": [
       "\u001b[31m╭─\u001b[0m\u001b[31m──────────────────────────────\u001b[0m\u001b[31m \u001b[0m\u001b[1;31mTraceback \u001b[0m\u001b[1;2;31m(most recent call last)\u001b[0m\u001b[31m \u001b[0m\u001b[31m───────────────────────────────\u001b[0m\u001b[31m─╮\u001b[0m\n",
       "\u001b[31m│\u001b[0m \u001b[2;33m/tmp/ipykernel_24008/\u001b[0m\u001b[1;33m495367488.py\u001b[0m:\u001b[94m2\u001b[0m in \u001b[92m<module>\u001b[0m                                                  \u001b[31m│\u001b[0m\n",
       "\u001b[31m│\u001b[0m                                                                                                  \u001b[31m│\u001b[0m\n",
       "\u001b[31m│\u001b[0m \u001b[3;31m[Errno 2] No such file or directory: '/tmp/ipykernel_24008/495367488.py'\u001b[0m                         \u001b[31m│\u001b[0m\n",
       "\u001b[31m│\u001b[0m                                                                                                  \u001b[31m│\u001b[0m\n",
       "\u001b[31m│\u001b[0m \u001b[2;33m/home/rahit/jupyter_py3/lib/python3.8/site-packages/dask/array/\u001b[0m\u001b[1;33mroutines.py\u001b[0m:\u001b[94m508\u001b[0m in                \u001b[31m│\u001b[0m\n",
       "\u001b[31m│\u001b[0m \u001b[92mapply_along_axis\u001b[0m                                                                                 \u001b[31m│\u001b[0m\n",
       "\u001b[31m│\u001b[0m                                                                                                  \u001b[31m│\u001b[0m\n",
       "\u001b[31m│\u001b[0m   \u001b[2m 505 \u001b[0m\u001b[2m│   \u001b[0m\u001b[2m# If necessary, infer dtype and shape of the output of func1d by calling it on test \u001b[0m  \u001b[31m│\u001b[0m\n",
       "\u001b[31m│\u001b[0m   \u001b[2m 506 \u001b[0m\u001b[2m│   \u001b[0m\u001b[94mif\u001b[0m shape \u001b[95mis\u001b[0m \u001b[94mNone\u001b[0m \u001b[95mor\u001b[0m dtype \u001b[95mis\u001b[0m \u001b[94mNone\u001b[0m:                                                    \u001b[31m│\u001b[0m\n",
       "\u001b[31m│\u001b[0m   \u001b[2m 507 \u001b[0m\u001b[2m│   │   \u001b[0mtest_data = np.ones((\u001b[94m1\u001b[0m,), dtype=arr.dtype)                                        \u001b[31m│\u001b[0m\n",
       "\u001b[31m│\u001b[0m \u001b[31m❱ \u001b[0m 508 \u001b[2m│   │   \u001b[0mtest_result = np.array(func1d(test_data, *args, **kwargs))                        \u001b[31m│\u001b[0m\n",
       "\u001b[31m│\u001b[0m   \u001b[2m 509 \u001b[0m\u001b[2m│   │   \u001b[0m\u001b[94mif\u001b[0m shape \u001b[95mis\u001b[0m \u001b[94mNone\u001b[0m:                                                                 \u001b[31m│\u001b[0m\n",
       "\u001b[31m│\u001b[0m   \u001b[2m 510 \u001b[0m\u001b[2m│   │   │   \u001b[0mshape = test_result.shape                                                     \u001b[31m│\u001b[0m\n",
       "\u001b[31m│\u001b[0m   \u001b[2m 511 \u001b[0m\u001b[2m│   │   \u001b[0m\u001b[94mif\u001b[0m dtype \u001b[95mis\u001b[0m \u001b[94mNone\u001b[0m:                                                                 \u001b[31m│\u001b[0m\n",
       "\u001b[31m│\u001b[0m                                                                                                  \u001b[31m│\u001b[0m\n",
       "\u001b[31m│\u001b[0m \u001b[2;33m/tmp/ipykernel_24008/\u001b[0m\u001b[1;33m2388726200.py\u001b[0m:\u001b[94m5\u001b[0m in \u001b[92mint_score\u001b[0m                                                \u001b[31m│\u001b[0m\n",
       "\u001b[31m│\u001b[0m                                                                                                  \u001b[31m│\u001b[0m\n",
       "\u001b[31m│\u001b[0m \u001b[3;31m[Errno 2] No such file or directory: '/tmp/ipykernel_24008/2388726200.py'\u001b[0m                        \u001b[31m│\u001b[0m\n",
       "\u001b[31m╰──────────────────────────────────────────────────────────────────────────────────────────────────╯\u001b[0m\n",
       "\u001b[1;91mIndexError: \u001b[0mindex \u001b[1;36m1\u001b[0m is out of bounds for axis \u001b[1;36m0\u001b[0m with size \u001b[1;36m1\u001b[0m\n"
      ]
     },
     "metadata": {},
     "output_type": "display_data"
    }
   ],
   "source": [
    "with TqdmCallback(desc=\"dasking\"):\n",
    "    result = da.apply_along_axis(int_score, 1, adj_mtx, protein_interaction_df=protein_interaction_df, protein_alias_df=protein_alias_df)\n",
    "    cresult = result.compute()\n",
    "\n",
    "# time1 = time.time()\n",
    "# result = result.compute()\n",
    "# print('Result computed:', elapsed(time1))"
   ]
  },
  {
   "cell_type": "code",
   "execution_count": null,
   "id": "5758f4c2-f055-4fdf-b987-c1f0958fd0c4",
   "metadata": {},
   "outputs": [],
   "source": [
    "with TqdmCallback(desc=\"dasking\"):\n",
    "    results = dask.compute(*scores)\n",
    "    # print(compute(result))\n",
    "    "
   ]
  },
  {
   "cell_type": "code",
   "execution_count": null,
   "id": "fbff14e6-87fa-449e-8344-8d9617820e67",
   "metadata": {},
   "outputs": [],
   "source": [
    "results[:5]"
   ]
  },
  {
   "cell_type": "code",
   "execution_count": 43,
   "id": "97456aa1-d5c4-4d0c-8d94-ffcf1fe5df8c",
   "metadata": {},
   "outputs": [],
   "source": [
    "# How many seconds since start?\n",
    "def elapsed(start):\n",
    "    return str(time.time() - start) + ' seconds'"
   ]
  },
  {
   "cell_type": "code",
   "execution_count": 44,
   "id": "c419846f-e4e8-4f0a-ac1d-f9478437380a",
   "metadata": {},
   "outputs": [
    {
     "data": {
      "text/html": [
       "<pre style=\"white-space:pre;overflow-x:auto;line-height:normal;font-family:Menlo,'DejaVu Sans Mono',consolas,'Courier New',monospace\"><span style=\"color: #ff0000; text-decoration-color: #ff0000\">╭──────────────────────────── </span><span style=\"color: #800000; text-decoration-color: #800000; font-weight: bold\">Traceback </span><span style=\"color: #bf7f7f; text-decoration-color: #bf7f7f; font-weight: bold\">(most recent call last)</span><span style=\"color: #ff0000; text-decoration-color: #ff0000\"> ────────────────────────────╮</span>\n",
       "<span style=\"color: #ff0000; text-decoration-color: #ff0000\">│</span>                                                                                           <span style=\"color: #ff0000; text-decoration-color: #ff0000\">│</span>\n",
       "<span style=\"color: #ff0000; text-decoration-color: #ff0000\">│</span> <span style=\"color: #bfbf7f; text-decoration-color: #bfbf7f\">/tmp/ipykernel_2043/</span><span style=\"color: #808000; text-decoration-color: #808000; font-weight: bold\">725368228.py</span>:<span style=\"color: #0000ff; text-decoration-color: #0000ff\">1</span> in <span style=\"color: #00ff00; text-decoration-color: #00ff00\">&lt;module&gt;</span>                                            <span style=\"color: #ff0000; text-decoration-color: #ff0000\">│</span>\n",
       "<span style=\"color: #ff0000; text-decoration-color: #ff0000\">│</span>                                                                                           <span style=\"color: #ff0000; text-decoration-color: #ff0000\">│</span>\n",
       "<span style=\"color: #ff0000; text-decoration-color: #ff0000\">│</span> <span style=\"color: #800000; text-decoration-color: #800000; font-style: italic\">[Errno 2] No such file or directory: '/tmp/ipykernel_2043/725368228.py'</span>                   <span style=\"color: #ff0000; text-decoration-color: #ff0000\">│</span>\n",
       "<span style=\"color: #ff0000; text-decoration-color: #ff0000\">│</span> <span style=\"color: #bfbf7f; text-decoration-color: #bfbf7f\">/home/rahit/.cache/pypoetry/virtualenvs/gemo-data-DHiuQg47-py3.8/lib/python3.8/site-packa</span> <span style=\"color: #ff0000; text-decoration-color: #ff0000\">│</span>\n",
       "<span style=\"color: #ff0000; text-decoration-color: #ff0000\">│</span> <span style=\"color: #bfbf7f; text-decoration-color: #bfbf7f\">ges/dask/array/</span><span style=\"color: #808000; text-decoration-color: #808000; font-weight: bold\">routines.py</span>:<span style=\"color: #0000ff; text-decoration-color: #0000ff\">508</span> in <span style=\"color: #00ff00; text-decoration-color: #00ff00\">apply_along_axis</span>                                        <span style=\"color: #ff0000; text-decoration-color: #ff0000\">│</span>\n",
       "<span style=\"color: #ff0000; text-decoration-color: #ff0000\">│</span>                                                                                           <span style=\"color: #ff0000; text-decoration-color: #ff0000\">│</span>\n",
       "<span style=\"color: #ff0000; text-decoration-color: #ff0000\">│</span>   <span style=\"color: #7f7f7f; text-decoration-color: #7f7f7f\"> 505 │   # If necessary, infer dtype and shape of the output of func1d by calling it on</span> <span style=\"color: #ff0000; text-decoration-color: #ff0000\">│</span>\n",
       "<span style=\"color: #ff0000; text-decoration-color: #ff0000\">│</span>   <span style=\"color: #7f7f7f; text-decoration-color: #7f7f7f\"> 506 │   </span><span style=\"color: #0000ff; text-decoration-color: #0000ff\">if</span> shape <span style=\"color: #ff00ff; text-decoration-color: #ff00ff\">is</span> <span style=\"color: #0000ff; text-decoration-color: #0000ff\">None</span> <span style=\"color: #ff00ff; text-decoration-color: #ff00ff\">or</span> dtype <span style=\"color: #ff00ff; text-decoration-color: #ff00ff\">is</span> <span style=\"color: #0000ff; text-decoration-color: #0000ff\">None</span>:                                             <span style=\"color: #ff0000; text-decoration-color: #ff0000\">│</span>\n",
       "<span style=\"color: #ff0000; text-decoration-color: #ff0000\">│</span>   <span style=\"color: #7f7f7f; text-decoration-color: #7f7f7f\"> 507 │   │   </span>test_data = np.ones((<span style=\"color: #0000ff; text-decoration-color: #0000ff\">1</span>,), dtype=arr.dtype)                                 <span style=\"color: #ff0000; text-decoration-color: #ff0000\">│</span>\n",
       "<span style=\"color: #ff0000; text-decoration-color: #ff0000\">│</span> <span style=\"color: #800000; text-decoration-color: #800000\">❱ </span> 508 <span style=\"color: #7f7f7f; text-decoration-color: #7f7f7f\">│   │   </span>test_result = np.array(func1d(test_data, *args, **kwargs))                 <span style=\"color: #ff0000; text-decoration-color: #ff0000\">│</span>\n",
       "<span style=\"color: #ff0000; text-decoration-color: #ff0000\">│</span>   <span style=\"color: #7f7f7f; text-decoration-color: #7f7f7f\"> 509 │   │   </span><span style=\"color: #0000ff; text-decoration-color: #0000ff\">if</span> shape <span style=\"color: #ff00ff; text-decoration-color: #ff00ff\">is</span> <span style=\"color: #0000ff; text-decoration-color: #0000ff\">None</span>:                                                          <span style=\"color: #ff0000; text-decoration-color: #ff0000\">│</span>\n",
       "<span style=\"color: #ff0000; text-decoration-color: #ff0000\">│</span>   <span style=\"color: #7f7f7f; text-decoration-color: #7f7f7f\"> 510 │   │   │   </span>shape = test_result.shape                                              <span style=\"color: #ff0000; text-decoration-color: #ff0000\">│</span>\n",
       "<span style=\"color: #ff0000; text-decoration-color: #ff0000\">│</span>   <span style=\"color: #7f7f7f; text-decoration-color: #7f7f7f\"> 511 │   │   </span><span style=\"color: #0000ff; text-decoration-color: #0000ff\">if</span> dtype <span style=\"color: #ff00ff; text-decoration-color: #ff00ff\">is</span> <span style=\"color: #0000ff; text-decoration-color: #0000ff\">None</span>:                                                          <span style=\"color: #ff0000; text-decoration-color: #ff0000\">│</span>\n",
       "<span style=\"color: #ff0000; text-decoration-color: #ff0000\">│</span>                                                                                           <span style=\"color: #ff0000; text-decoration-color: #ff0000\">│</span>\n",
       "<span style=\"color: #ff0000; text-decoration-color: #ff0000\">│</span> <span style=\"color: #bfbf7f; text-decoration-color: #bfbf7f\">/tmp/ipykernel_2043/</span><span style=\"color: #808000; text-decoration-color: #808000; font-weight: bold\">2114408459.py</span>:<span style=\"color: #0000ff; text-decoration-color: #0000ff\">2</span> in <span style=\"color: #00ff00; text-decoration-color: #00ff00\">int_score</span>                                          <span style=\"color: #ff0000; text-decoration-color: #ff0000\">│</span>\n",
       "<span style=\"color: #ff0000; text-decoration-color: #ff0000\">│</span>                                                                                           <span style=\"color: #ff0000; text-decoration-color: #ff0000\">│</span>\n",
       "<span style=\"color: #ff0000; text-decoration-color: #ff0000\">│</span> <span style=\"color: #800000; text-decoration-color: #800000; font-style: italic\">[Errno 2] No such file or directory: '/tmp/ipykernel_2043/2114408459.py'</span>                  <span style=\"color: #ff0000; text-decoration-color: #ff0000\">│</span>\n",
       "<span style=\"color: #ff0000; text-decoration-color: #ff0000\">╰───────────────────────────────────────────────────────────────────────────────────────────╯</span>\n",
       "<span style=\"color: #ff0000; text-decoration-color: #ff0000; font-weight: bold\">IndexError: </span>index <span style=\"color: #008080; text-decoration-color: #008080; font-weight: bold\">1</span> is out of bounds for axis <span style=\"color: #008080; text-decoration-color: #008080; font-weight: bold\">0</span> with size <span style=\"color: #008080; text-decoration-color: #008080; font-weight: bold\">1</span>\n",
       "</pre>\n"
      ],
      "text/plain": [
       "\u001b[91m╭─\u001b[0m\u001b[91m─────────────────────────── \u001b[0m\u001b[1;31mTraceback \u001b[0m\u001b[1;2;31m(most recent call last)\u001b[0m\u001b[91m ───────────────────────────\u001b[0m\u001b[91m─╮\u001b[0m\n",
       "\u001b[91m│\u001b[0m                                                                                           \u001b[91m│\u001b[0m\n",
       "\u001b[91m│\u001b[0m \u001b[2;33m/tmp/ipykernel_2043/\u001b[0m\u001b[1;33m725368228.py\u001b[0m:\u001b[94m1\u001b[0m in \u001b[92m<module>\u001b[0m                                            \u001b[91m│\u001b[0m\n",
       "\u001b[91m│\u001b[0m                                                                                           \u001b[91m│\u001b[0m\n",
       "\u001b[91m│\u001b[0m \u001b[3;31m[Errno 2] No such file or directory: '/tmp/ipykernel_2043/725368228.py'\u001b[0m                   \u001b[91m│\u001b[0m\n",
       "\u001b[91m│\u001b[0m \u001b[2;33m/home/rahit/.cache/pypoetry/virtualenvs/gemo-data-DHiuQg47-py3.8/lib/python3.8/site-packa\u001b[0m \u001b[91m│\u001b[0m\n",
       "\u001b[91m│\u001b[0m \u001b[2;33mges/dask/array/\u001b[0m\u001b[1;33mroutines.py\u001b[0m:\u001b[94m508\u001b[0m in \u001b[92mapply_along_axis\u001b[0m                                        \u001b[91m│\u001b[0m\n",
       "\u001b[91m│\u001b[0m                                                                                           \u001b[91m│\u001b[0m\n",
       "\u001b[91m│\u001b[0m   \u001b[2m 505 \u001b[0m\u001b[2m│   \u001b[0m\u001b[2m# If necessary, infer dtype and shape of the output of func1d by calling it on\u001b[0m \u001b[91m│\u001b[0m\n",
       "\u001b[91m│\u001b[0m   \u001b[2m 506 \u001b[0m\u001b[2m│   \u001b[0m\u001b[94mif\u001b[0m shape \u001b[95mis\u001b[0m \u001b[94mNone\u001b[0m \u001b[95mor\u001b[0m dtype \u001b[95mis\u001b[0m \u001b[94mNone\u001b[0m:                                             \u001b[91m│\u001b[0m\n",
       "\u001b[91m│\u001b[0m   \u001b[2m 507 \u001b[0m\u001b[2m│   │   \u001b[0mtest_data = np.ones((\u001b[94m1\u001b[0m,), dtype=arr.dtype)                                 \u001b[91m│\u001b[0m\n",
       "\u001b[91m│\u001b[0m \u001b[31m❱ \u001b[0m 508 \u001b[2m│   │   \u001b[0mtest_result = np.array(func1d(test_data, *args, **kwargs))                 \u001b[91m│\u001b[0m\n",
       "\u001b[91m│\u001b[0m   \u001b[2m 509 \u001b[0m\u001b[2m│   │   \u001b[0m\u001b[94mif\u001b[0m shape \u001b[95mis\u001b[0m \u001b[94mNone\u001b[0m:                                                          \u001b[91m│\u001b[0m\n",
       "\u001b[91m│\u001b[0m   \u001b[2m 510 \u001b[0m\u001b[2m│   │   │   \u001b[0mshape = test_result.shape                                              \u001b[91m│\u001b[0m\n",
       "\u001b[91m│\u001b[0m   \u001b[2m 511 \u001b[0m\u001b[2m│   │   \u001b[0m\u001b[94mif\u001b[0m dtype \u001b[95mis\u001b[0m \u001b[94mNone\u001b[0m:                                                          \u001b[91m│\u001b[0m\n",
       "\u001b[91m│\u001b[0m                                                                                           \u001b[91m│\u001b[0m\n",
       "\u001b[91m│\u001b[0m \u001b[2;33m/tmp/ipykernel_2043/\u001b[0m\u001b[1;33m2114408459.py\u001b[0m:\u001b[94m2\u001b[0m in \u001b[92mint_score\u001b[0m                                          \u001b[91m│\u001b[0m\n",
       "\u001b[91m│\u001b[0m                                                                                           \u001b[91m│\u001b[0m\n",
       "\u001b[91m│\u001b[0m \u001b[3;31m[Errno 2] No such file or directory: '/tmp/ipykernel_2043/2114408459.py'\u001b[0m                  \u001b[91m│\u001b[0m\n",
       "\u001b[91m╰───────────────────────────────────────────────────────────────────────────────────────────╯\u001b[0m\n",
       "\u001b[1;91mIndexError: \u001b[0mindex \u001b[1;36m1\u001b[0m is out of bounds for axis \u001b[1;36m0\u001b[0m with size \u001b[1;36m1\u001b[0m\n"
      ]
     },
     "metadata": {},
     "output_type": "display_data"
    }
   ],
   "source": [
    "result = da.apply_along_axis(int_score, 1, adj_mtx, protein_interaction_df=protein_interaction_df, protein_alias_df=protein_alias_df)\n",
    "\n",
    "time1 = time.time()\n",
    "result = result.compute()\n",
    "print('Result computed:', elapsed(time1))"
   ]
  },
  {
   "cell_type": "code",
   "execution_count": 17,
   "id": "a9852963-7864-4cde-8bf4-0f0856dd54a6",
   "metadata": {},
   "outputs": [
    {
     "data": {
      "application/vnd.jupyter.widget-view+json": {
       "model_id": "a712a3fe31c640fba3160122d08315a9",
       "version_major": 2,
       "version_minor": 0
      },
      "text/plain": [
       "  0%|          | 0/14437251 [00:00<?, ?it/s]"
      ]
     },
     "metadata": {},
     "output_type": "display_data"
    },
    {
     "data": {
      "text/html": [
       "<pre style=\"white-space:pre;overflow-x:auto;line-height:normal;font-family:Menlo,'DejaVu Sans Mono',consolas,'Courier New',monospace\"><span style=\"color: #ff0000; text-decoration-color: #ff0000\">╭──────────────────────────── </span><span style=\"color: #800000; text-decoration-color: #800000; font-weight: bold\">Traceback </span><span style=\"color: #bf7f7f; text-decoration-color: #bf7f7f; font-weight: bold\">(most recent call last)</span><span style=\"color: #ff0000; text-decoration-color: #ff0000\"> ────────────────────────────╮</span>\n",
       "<span style=\"color: #ff0000; text-decoration-color: #ff0000\">│</span>                                                                                           <span style=\"color: #ff0000; text-decoration-color: #ff0000\">│</span>\n",
       "<span style=\"color: #ff0000; text-decoration-color: #ff0000\">│</span> <span style=\"color: #bfbf7f; text-decoration-color: #bfbf7f\">/tmp/ipykernel_2043/</span><span style=\"color: #808000; text-decoration-color: #808000; font-weight: bold\">2146878348.py</span>:<span style=\"color: #0000ff; text-decoration-color: #0000ff\">2</span> in <span style=\"color: #00ff00; text-decoration-color: #00ff00\">&lt;module&gt;</span>                                           <span style=\"color: #ff0000; text-decoration-color: #ff0000\">│</span>\n",
       "<span style=\"color: #ff0000; text-decoration-color: #ff0000\">│</span>                                                                                           <span style=\"color: #ff0000; text-decoration-color: #ff0000\">│</span>\n",
       "<span style=\"color: #ff0000; text-decoration-color: #ff0000\">│</span> <span style=\"color: #800000; text-decoration-color: #800000; font-style: italic\">[Errno 2] No such file or directory: '/tmp/ipykernel_2043/2146878348.py'</span>                  <span style=\"color: #ff0000; text-decoration-color: #ff0000\">│</span>\n",
       "<span style=\"color: #ff0000; text-decoration-color: #ff0000\">│</span> <span style=\"color: #bfbf7f; text-decoration-color: #bfbf7f\">/tmp/ipykernel_2043/</span><span style=\"color: #808000; text-decoration-color: #808000; font-weight: bold\">1766830248.py</span>:<span style=\"color: #0000ff; text-decoration-color: #0000ff\">22</span> in <span style=\"color: #00ff00; text-decoration-color: #00ff00\">get_interaction_score</span>                             <span style=\"color: #ff0000; text-decoration-color: #ff0000\">│</span>\n",
       "<span style=\"color: #ff0000; text-decoration-color: #ff0000\">│</span>                                                                                           <span style=\"color: #ff0000; text-decoration-color: #ff0000\">│</span>\n",
       "<span style=\"color: #ff0000; text-decoration-color: #ff0000\">│</span> <span style=\"color: #800000; text-decoration-color: #800000; font-style: italic\">[Errno 2] No such file or directory: '/tmp/ipykernel_2043/1766830248.py'</span>                  <span style=\"color: #ff0000; text-decoration-color: #ff0000\">│</span>\n",
       "<span style=\"color: #ff0000; text-decoration-color: #ff0000\">│</span>                                                                                           <span style=\"color: #ff0000; text-decoration-color: #ff0000\">│</span>\n",
       "<span style=\"color: #ff0000; text-decoration-color: #ff0000\">│</span> <span style=\"color: #bfbf7f; text-decoration-color: #bfbf7f\">/tmp/ipykernel_2043/</span><span style=\"color: #808000; text-decoration-color: #808000; font-weight: bold\">1766830248.py</span>:<span style=\"color: #0000ff; text-decoration-color: #0000ff\">11</span> in <span style=\"color: #00ff00; text-decoration-color: #00ff00\">get_string_protein_id</span>                             <span style=\"color: #ff0000; text-decoration-color: #ff0000\">│</span>\n",
       "<span style=\"color: #ff0000; text-decoration-color: #ff0000\">│</span>                                                                                           <span style=\"color: #ff0000; text-decoration-color: #ff0000\">│</span>\n",
       "<span style=\"color: #ff0000; text-decoration-color: #ff0000\">│</span> <span style=\"color: #800000; text-decoration-color: #800000; font-style: italic\">[Errno 2] No such file or directory: '/tmp/ipykernel_2043/1766830248.py'</span>                  <span style=\"color: #ff0000; text-decoration-color: #ff0000\">│</span>\n",
       "<span style=\"color: #ff0000; text-decoration-color: #ff0000\">│</span>                                                                                           <span style=\"color: #ff0000; text-decoration-color: #ff0000\">│</span>\n",
       "<span style=\"color: #ff0000; text-decoration-color: #ff0000\">│</span> <span style=\"color: #bfbf7f; text-decoration-color: #bfbf7f\">/home/rahit/.cache/pypoetry/virtualenvs/gemo-data-DHiuQg47-py3.8/lib/python3.8/site-packa</span> <span style=\"color: #ff0000; text-decoration-color: #ff0000\">│</span>\n",
       "<span style=\"color: #ff0000; text-decoration-color: #ff0000\">│</span> <span style=\"color: #bfbf7f; text-decoration-color: #bfbf7f\">ges/pandas/core/strings/</span><span style=\"color: #808000; text-decoration-color: #808000; font-weight: bold\">accessor.py</span>:<span style=\"color: #0000ff; text-decoration-color: #0000ff\">129</span> in <span style=\"color: #00ff00; text-decoration-color: #00ff00\">wrapper</span>                                        <span style=\"color: #ff0000; text-decoration-color: #ff0000\">│</span>\n",
       "<span style=\"color: #ff0000; text-decoration-color: #ff0000\">│</span>                                                                                           <span style=\"color: #ff0000; text-decoration-color: #ff0000\">│</span>\n",
       "<span style=\"color: #ff0000; text-decoration-color: #ff0000\">│</span>   <span style=\"color: #7f7f7f; text-decoration-color: #7f7f7f\"> 126 │   │   │   │   │   </span><span style=\"color: #808000; text-decoration-color: #808000\">f\"inferred dtype '{</span><span style=\"color: #00ffff; text-decoration-color: #00ffff\">self</span>._inferred_dtype<span style=\"color: #808000; text-decoration-color: #808000\">}'.\"</span>                    <span style=\"color: #ff0000; text-decoration-color: #ff0000\">│</span>\n",
       "<span style=\"color: #ff0000; text-decoration-color: #ff0000\">│</span>   <span style=\"color: #7f7f7f; text-decoration-color: #7f7f7f\"> 127 │   │   │   │   </span>)                                                                  <span style=\"color: #ff0000; text-decoration-color: #ff0000\">│</span>\n",
       "<span style=\"color: #ff0000; text-decoration-color: #ff0000\">│</span>   <span style=\"color: #7f7f7f; text-decoration-color: #7f7f7f\"> 128 │   │   │   │   </span><span style=\"color: #0000ff; text-decoration-color: #0000ff\">raise</span> <span style=\"color: #00ffff; text-decoration-color: #00ffff\">TypeError</span>(msg)                                               <span style=\"color: #ff0000; text-decoration-color: #ff0000\">│</span>\n",
       "<span style=\"color: #ff0000; text-decoration-color: #ff0000\">│</span> <span style=\"color: #800000; text-decoration-color: #800000\">❱ </span> 129 <span style=\"color: #7f7f7f; text-decoration-color: #7f7f7f\">│   │   │   </span><span style=\"color: #0000ff; text-decoration-color: #0000ff\">return</span> func(<span style=\"color: #00ffff; text-decoration-color: #00ffff\">self</span>, *args, **kwargs)                                     <span style=\"color: #ff0000; text-decoration-color: #ff0000\">│</span>\n",
       "<span style=\"color: #ff0000; text-decoration-color: #ff0000\">│</span>   <span style=\"color: #7f7f7f; text-decoration-color: #7f7f7f\"> 130 │   │   </span>                                                                           <span style=\"color: #ff0000; text-decoration-color: #ff0000\">│</span>\n",
       "<span style=\"color: #ff0000; text-decoration-color: #ff0000\">│</span>   <span style=\"color: #7f7f7f; text-decoration-color: #7f7f7f\"> 131 │   │   </span>wrapper.<span style=\"color: #ff0000; text-decoration-color: #ff0000\">__name__</span> = func_name                                               <span style=\"color: #ff0000; text-decoration-color: #ff0000\">│</span>\n",
       "<span style=\"color: #ff0000; text-decoration-color: #ff0000\">│</span>   <span style=\"color: #7f7f7f; text-decoration-color: #7f7f7f\"> 132 │   │   </span><span style=\"color: #0000ff; text-decoration-color: #0000ff\">return</span> cast(F, wrapper)                                                    <span style=\"color: #ff0000; text-decoration-color: #ff0000\">│</span>\n",
       "<span style=\"color: #ff0000; text-decoration-color: #ff0000\">│</span>                                                                                           <span style=\"color: #ff0000; text-decoration-color: #ff0000\">│</span>\n",
       "<span style=\"color: #ff0000; text-decoration-color: #ff0000\">│</span> <span style=\"color: #808000; text-decoration-color: #808000\">╭─────────────────────────────────────── locals ────────────────────────────────────────╮</span> <span style=\"color: #ff0000; text-decoration-color: #ff0000\">│</span>\n",
       "<span style=\"color: #ff0000; text-decoration-color: #ff0000\">│</span> <span style=\"color: #808000; text-decoration-color: #808000\">│</span> allowed_types = <span style=\"font-weight: bold\">{</span><span style=\"color: #808000; text-decoration-color: #808000\">'mixed-integer'</span>, <span style=\"color: #808000; text-decoration-color: #808000\">'mixed'</span>, <span style=\"color: #808000; text-decoration-color: #808000\">'string'</span>, <span style=\"color: #808000; text-decoration-color: #808000\">'empty'</span><span style=\"font-weight: bold\">}</span>                         <span style=\"color: #808000; text-decoration-color: #808000\">│</span> <span style=\"color: #ff0000; text-decoration-color: #ff0000\">│</span>\n",
       "<span style=\"color: #ff0000; text-decoration-color: #ff0000\">│</span> <span style=\"color: #808000; text-decoration-color: #808000\">│</span>          args = <span style=\"font-weight: bold\">(</span><span style=\"color: #808000; text-decoration-color: #808000\">'^ $'</span>,<span style=\"font-weight: bold\">)</span>                                                              <span style=\"color: #808000; text-decoration-color: #808000\">│</span> <span style=\"color: #ff0000; text-decoration-color: #ff0000\">│</span>\n",
       "<span style=\"color: #ff0000; text-decoration-color: #ff0000\">│</span> <span style=\"color: #808000; text-decoration-color: #808000\">│</span>          func = <span style=\"font-weight: bold\">&lt;</span><span style=\"color: #ff00ff; text-decoration-color: #ff00ff; font-weight: bold\">function</span><span style=\"color: #000000; text-decoration-color: #000000\"> StringMethods.match at </span><span style=\"color: #0000ff; text-decoration-color: #0000ff\">0x2b886b0e1f70</span><span style=\"font-weight: bold\">&gt;</span>                      <span style=\"color: #808000; text-decoration-color: #808000\">│</span> <span style=\"color: #ff0000; text-decoration-color: #ff0000\">│</span>\n",
       "<span style=\"color: #ff0000; text-decoration-color: #ff0000\">│</span> <span style=\"color: #808000; text-decoration-color: #808000\">│</span>     func_name = <span style=\"color: #808000; text-decoration-color: #808000\">'match'</span>                                                               <span style=\"color: #808000; text-decoration-color: #808000\">│</span> <span style=\"color: #ff0000; text-decoration-color: #ff0000\">│</span>\n",
       "<span style=\"color: #ff0000; text-decoration-color: #ff0000\">│</span> <span style=\"color: #808000; text-decoration-color: #808000\">│</span>        kwargs = <span style=\"font-weight: bold\">{</span><span style=\"color: #808000; text-decoration-color: #808000\">'case'</span>: <span style=\"color: #0000ff; text-decoration-color: #0000ff\">False</span><span style=\"font-weight: bold\">}</span>                                                       <span style=\"color: #808000; text-decoration-color: #808000\">│</span> <span style=\"color: #ff0000; text-decoration-color: #ff0000\">│</span>\n",
       "<span style=\"color: #ff0000; text-decoration-color: #ff0000\">│</span> <span style=\"color: #808000; text-decoration-color: #808000\">│</span>          self = <span style=\"font-weight: bold\">&lt;</span><span style=\"color: #ff00ff; text-decoration-color: #ff00ff; font-weight: bold\">pandas.core.strings.accessor.StringMethods</span><span style=\"color: #000000; text-decoration-color: #000000\"> object at </span><span style=\"color: #0000ff; text-decoration-color: #0000ff\">0x2b8957da8550</span><span style=\"font-weight: bold\">&gt;</span> <span style=\"color: #808000; text-decoration-color: #808000\">│</span> <span style=\"color: #ff0000; text-decoration-color: #ff0000\">│</span>\n",
       "<span style=\"color: #ff0000; text-decoration-color: #ff0000\">│</span> <span style=\"color: #808000; text-decoration-color: #808000\">╰───────────────────────────────────────────────────────────────────────────────────────╯</span> <span style=\"color: #ff0000; text-decoration-color: #ff0000\">│</span>\n",
       "<span style=\"color: #ff0000; text-decoration-color: #ff0000\">│</span>                                                                                           <span style=\"color: #ff0000; text-decoration-color: #ff0000\">│</span>\n",
       "<span style=\"color: #ff0000; text-decoration-color: #ff0000\">│</span> <span style=\"color: #bfbf7f; text-decoration-color: #bfbf7f\">/home/rahit/.cache/pypoetry/virtualenvs/gemo-data-DHiuQg47-py3.8/lib/python3.8/site-packa</span> <span style=\"color: #ff0000; text-decoration-color: #ff0000\">│</span>\n",
       "<span style=\"color: #ff0000; text-decoration-color: #ff0000\">│</span> <span style=\"color: #bfbf7f; text-decoration-color: #bfbf7f\">ges/pandas/core/strings/</span><span style=\"color: #808000; text-decoration-color: #808000; font-weight: bold\">accessor.py</span>:<span style=\"color: #0000ff; text-decoration-color: #0000ff\">1292</span> in <span style=\"color: #00ff00; text-decoration-color: #00ff00\">match</span>                                         <span style=\"color: #ff0000; text-decoration-color: #ff0000\">│</span>\n",
       "<span style=\"color: #ff0000; text-decoration-color: #ff0000\">│</span>                                                                                           <span style=\"color: #ff0000; text-decoration-color: #ff0000\">│</span>\n",
       "<span style=\"color: #ff0000; text-decoration-color: #ff0000\">│</span>   <span style=\"color: #7f7f7f; text-decoration-color: #7f7f7f\">1289 </span><span style=\"color: #bfbf7f; text-decoration-color: #bfbf7f\">│   │   │   </span><span style=\"color: #808000; text-decoration-color: #808000\">re.match.</span>                                                              <span style=\"color: #ff0000; text-decoration-color: #ff0000\">│</span>\n",
       "<span style=\"color: #ff0000; text-decoration-color: #ff0000\">│</span>   <span style=\"color: #7f7f7f; text-decoration-color: #7f7f7f\">1290 </span><span style=\"color: #bfbf7f; text-decoration-color: #bfbf7f\">│   │   </span><span style=\"color: #808000; text-decoration-color: #808000\">extract : Extract matched groups.</span>                                          <span style=\"color: #ff0000; text-decoration-color: #ff0000\">│</span>\n",
       "<span style=\"color: #ff0000; text-decoration-color: #ff0000\">│</span>   <span style=\"color: #7f7f7f; text-decoration-color: #7f7f7f\">1291 </span><span style=\"color: #bfbf7f; text-decoration-color: #bfbf7f\">│   │   </span><span style=\"color: #808000; text-decoration-color: #808000\">\"\"\"</span>                                                                        <span style=\"color: #ff0000; text-decoration-color: #ff0000\">│</span>\n",
       "<span style=\"color: #ff0000; text-decoration-color: #ff0000\">│</span> <span style=\"color: #800000; text-decoration-color: #800000\">❱ </span>1292 <span style=\"color: #7f7f7f; text-decoration-color: #7f7f7f\">│   │   </span>result = <span style=\"color: #00ffff; text-decoration-color: #00ffff\">self</span>._data.array._str_match(pat, case=case, flags=flags, na=na)   <span style=\"color: #ff0000; text-decoration-color: #ff0000\">│</span>\n",
       "<span style=\"color: #ff0000; text-decoration-color: #ff0000\">│</span>   <span style=\"color: #7f7f7f; text-decoration-color: #7f7f7f\">1293 │   │   </span><span style=\"color: #0000ff; text-decoration-color: #0000ff\">return</span> <span style=\"color: #00ffff; text-decoration-color: #00ffff\">self</span>._wrap_result(result, fill_value=na, returns_string=<span style=\"color: #0000ff; text-decoration-color: #0000ff\">False</span>)      <span style=\"color: #ff0000; text-decoration-color: #ff0000\">│</span>\n",
       "<span style=\"color: #ff0000; text-decoration-color: #ff0000\">│</span>   <span style=\"color: #7f7f7f; text-decoration-color: #7f7f7f\">1294 │   </span>                                                                               <span style=\"color: #ff0000; text-decoration-color: #ff0000\">│</span>\n",
       "<span style=\"color: #ff0000; text-decoration-color: #ff0000\">│</span>   <span style=\"color: #7f7f7f; text-decoration-color: #7f7f7f\">1295 │   </span><span style=\"color: #ff00ff; text-decoration-color: #ff00ff; font-weight: bold\">@forbid_nonstring_types</span>([<span style=\"color: #808000; text-decoration-color: #808000\">\"bytes\"</span>])                                             <span style=\"color: #ff0000; text-decoration-color: #ff0000\">│</span>\n",
       "<span style=\"color: #ff0000; text-decoration-color: #ff0000\">│</span>                                                                                           <span style=\"color: #ff0000; text-decoration-color: #ff0000\">│</span>\n",
       "<span style=\"color: #ff0000; text-decoration-color: #ff0000\">│</span> <span style=\"color: #808000; text-decoration-color: #808000\">╭─────────────────────────────────── locals ────────────────────────────────────╮</span>         <span style=\"color: #ff0000; text-decoration-color: #ff0000\">│</span>\n",
       "<span style=\"color: #ff0000; text-decoration-color: #ff0000\">│</span> <span style=\"color: #808000; text-decoration-color: #808000\">│</span>  case = <span style=\"color: #0000ff; text-decoration-color: #0000ff\">False</span>                                                                 <span style=\"color: #808000; text-decoration-color: #808000\">│</span>         <span style=\"color: #ff0000; text-decoration-color: #ff0000\">│</span>\n",
       "<span style=\"color: #ff0000; text-decoration-color: #ff0000\">│</span> <span style=\"color: #808000; text-decoration-color: #808000\">│</span> flags = <span style=\"color: #0000ff; text-decoration-color: #0000ff\">0</span>                                                                     <span style=\"color: #808000; text-decoration-color: #808000\">│</span>         <span style=\"color: #ff0000; text-decoration-color: #ff0000\">│</span>\n",
       "<span style=\"color: #ff0000; text-decoration-color: #ff0000\">│</span> <span style=\"color: #808000; text-decoration-color: #808000\">│</span>    na = <span style=\"color: #0000ff; text-decoration-color: #0000ff\">None</span>                                                                  <span style=\"color: #808000; text-decoration-color: #808000\">│</span>         <span style=\"color: #ff0000; text-decoration-color: #ff0000\">│</span>\n",
       "<span style=\"color: #ff0000; text-decoration-color: #ff0000\">│</span> <span style=\"color: #808000; text-decoration-color: #808000\">│</span>   pat = <span style=\"color: #808000; text-decoration-color: #808000\">'^ $'</span>                                                                 <span style=\"color: #808000; text-decoration-color: #808000\">│</span>         <span style=\"color: #ff0000; text-decoration-color: #ff0000\">│</span>\n",
       "<span style=\"color: #ff0000; text-decoration-color: #ff0000\">│</span> <span style=\"color: #808000; text-decoration-color: #808000\">│</span>  self = <span style=\"font-weight: bold\">&lt;</span><span style=\"color: #ff00ff; text-decoration-color: #ff00ff; font-weight: bold\">pandas.core.strings.accessor.StringMethods</span><span style=\"color: #000000; text-decoration-color: #000000\"> object at </span><span style=\"color: #0000ff; text-decoration-color: #0000ff\">0x2b8957da8550</span><span style=\"font-weight: bold\">&gt;</span> <span style=\"color: #808000; text-decoration-color: #808000\">│</span>         <span style=\"color: #ff0000; text-decoration-color: #ff0000\">│</span>\n",
       "<span style=\"color: #ff0000; text-decoration-color: #ff0000\">│</span> <span style=\"color: #808000; text-decoration-color: #808000\">╰───────────────────────────────────────────────────────────────────────────────╯</span>         <span style=\"color: #ff0000; text-decoration-color: #ff0000\">│</span>\n",
       "<span style=\"color: #ff0000; text-decoration-color: #ff0000\">│</span>                                                                                           <span style=\"color: #ff0000; text-decoration-color: #ff0000\">│</span>\n",
       "<span style=\"color: #ff0000; text-decoration-color: #ff0000\">│</span> <span style=\"color: #bfbf7f; text-decoration-color: #bfbf7f\">/home/rahit/.cache/pypoetry/virtualenvs/gemo-data-DHiuQg47-py3.8/lib/python3.8/site-packa</span> <span style=\"color: #ff0000; text-decoration-color: #ff0000\">│</span>\n",
       "<span style=\"color: #ff0000; text-decoration-color: #ff0000\">│</span> <span style=\"color: #bfbf7f; text-decoration-color: #bfbf7f\">ges/pandas/core/strings/</span><span style=\"color: #808000; text-decoration-color: #808000; font-weight: bold\">object_array.py</span>:<span style=\"color: #0000ff; text-decoration-color: #0000ff\">204</span> in <span style=\"color: #00ff00; text-decoration-color: #00ff00\">_str_match</span>                                 <span style=\"color: #ff0000; text-decoration-color: #ff0000\">│</span>\n",
       "<span style=\"color: #ff0000; text-decoration-color: #ff0000\">│</span>                                                                                           <span style=\"color: #ff0000; text-decoration-color: #ff0000\">│</span>\n",
       "<span style=\"color: #ff0000; text-decoration-color: #ff0000\">│</span>   <span style=\"color: #7f7f7f; text-decoration-color: #7f7f7f\">201 │   │   </span>regex = re.compile(pat, flags=flags)                                        <span style=\"color: #ff0000; text-decoration-color: #ff0000\">│</span>\n",
       "<span style=\"color: #ff0000; text-decoration-color: #ff0000\">│</span>   <span style=\"color: #7f7f7f; text-decoration-color: #7f7f7f\">202 │   │   </span>                                                                            <span style=\"color: #ff0000; text-decoration-color: #ff0000\">│</span>\n",
       "<span style=\"color: #ff0000; text-decoration-color: #ff0000\">│</span>   <span style=\"color: #7f7f7f; text-decoration-color: #7f7f7f\">203 │   │   </span>f = <span style=\"color: #0000ff; text-decoration-color: #0000ff\">lambda</span> x: regex.match(x) <span style=\"color: #ff00ff; text-decoration-color: #ff00ff\">is</span> <span style=\"color: #ff00ff; text-decoration-color: #ff00ff\">not</span> <span style=\"color: #0000ff; text-decoration-color: #0000ff\">None</span>                                    <span style=\"color: #ff0000; text-decoration-color: #ff0000\">│</span>\n",
       "<span style=\"color: #ff0000; text-decoration-color: #ff0000\">│</span> <span style=\"color: #800000; text-decoration-color: #800000\">❱ </span>204 <span style=\"color: #7f7f7f; text-decoration-color: #7f7f7f\">│   │   </span><span style=\"color: #0000ff; text-decoration-color: #0000ff\">return</span> <span style=\"color: #00ffff; text-decoration-color: #00ffff\">self</span>._str_map(f, na_value=na, dtype=np.dtype(<span style=\"color: #00ffff; text-decoration-color: #00ffff\">bool</span>))                  <span style=\"color: #ff0000; text-decoration-color: #ff0000\">│</span>\n",
       "<span style=\"color: #ff0000; text-decoration-color: #ff0000\">│</span>   <span style=\"color: #7f7f7f; text-decoration-color: #7f7f7f\">205 │   </span>                                                                                <span style=\"color: #ff0000; text-decoration-color: #ff0000\">│</span>\n",
       "<span style=\"color: #ff0000; text-decoration-color: #ff0000\">│</span>   <span style=\"color: #7f7f7f; text-decoration-color: #7f7f7f\">206 │   </span><span style=\"color: #0000ff; text-decoration-color: #0000ff\">def</span> <span style=\"color: #00ff00; text-decoration-color: #00ff00\">_str_fullmatch</span>(                                                             <span style=\"color: #ff0000; text-decoration-color: #ff0000\">│</span>\n",
       "<span style=\"color: #ff0000; text-decoration-color: #ff0000\">│</span>   <span style=\"color: #7f7f7f; text-decoration-color: #7f7f7f\">207 │   │   </span><span style=\"color: #00ffff; text-decoration-color: #00ffff\">self</span>,                                                                       <span style=\"color: #ff0000; text-decoration-color: #ff0000\">│</span>\n",
       "<span style=\"color: #ff0000; text-decoration-color: #ff0000\">│</span>                                                                                           <span style=\"color: #ff0000; text-decoration-color: #ff0000\">│</span>\n",
       "<span style=\"color: #ff0000; text-decoration-color: #ff0000\">│</span> <span style=\"color: #808000; text-decoration-color: #808000\">╭─────────────────────────────────────── locals ────────────────────────────────────────╮</span> <span style=\"color: #ff0000; text-decoration-color: #ff0000\">│</span>\n",
       "<span style=\"color: #ff0000; text-decoration-color: #ff0000\">│</span> <span style=\"color: #808000; text-decoration-color: #808000\">│</span>  case = <span style=\"color: #0000ff; text-decoration-color: #0000ff\">False</span>                                                                         <span style=\"color: #808000; text-decoration-color: #808000\">│</span> <span style=\"color: #ff0000; text-decoration-color: #ff0000\">│</span>\n",
       "<span style=\"color: #ff0000; text-decoration-color: #ff0000\">│</span> <span style=\"color: #808000; text-decoration-color: #808000\">│</span>     f = <span style=\"font-weight: bold\">&lt;</span><span style=\"color: #ff00ff; text-decoration-color: #ff00ff; font-weight: bold\">function</span><span style=\"color: #000000; text-decoration-color: #000000\"> ObjectStringArrayMixin._str_match.&lt;locals</span><span style=\"font-weight: bold\">&gt;</span>.<span style=\"font-weight: bold\">&lt;</span><span style=\"color: #ff00ff; text-decoration-color: #ff00ff; font-weight: bold\">lambda</span><span style=\"font-weight: bold\">&gt;</span> at              <span style=\"color: #808000; text-decoration-color: #808000\">│</span> <span style=\"color: #ff0000; text-decoration-color: #ff0000\">│</span>\n",
       "<span style=\"color: #ff0000; text-decoration-color: #ff0000\">│</span> <span style=\"color: #808000; text-decoration-color: #808000\">│</span>         <span style=\"color: #0000ff; text-decoration-color: #0000ff\">0x2b895c75d940</span>&gt;                                                               <span style=\"color: #808000; text-decoration-color: #808000\">│</span> <span style=\"color: #ff0000; text-decoration-color: #ff0000\">│</span>\n",
       "<span style=\"color: #ff0000; text-decoration-color: #ff0000\">│</span> <span style=\"color: #808000; text-decoration-color: #808000\">│</span> flags = re.IGNORECASE                                                                 <span style=\"color: #808000; text-decoration-color: #808000\">│</span> <span style=\"color: #ff0000; text-decoration-color: #ff0000\">│</span>\n",
       "<span style=\"color: #ff0000; text-decoration-color: #ff0000\">│</span> <span style=\"color: #808000; text-decoration-color: #808000\">│</span>    na = <span style=\"color: #0000ff; text-decoration-color: #0000ff\">None</span>                                                                          <span style=\"color: #808000; text-decoration-color: #808000\">│</span> <span style=\"color: #ff0000; text-decoration-color: #ff0000\">│</span>\n",
       "<span style=\"color: #ff0000; text-decoration-color: #ff0000\">│</span> <span style=\"color: #808000; text-decoration-color: #808000\">│</span>   pat = <span style=\"color: #808000; text-decoration-color: #808000\">'^ $'</span>                                                                         <span style=\"color: #808000; text-decoration-color: #808000\">│</span> <span style=\"color: #ff0000; text-decoration-color: #ff0000\">│</span>\n",
       "<span style=\"color: #ff0000; text-decoration-color: #ff0000\">│</span> <span style=\"color: #808000; text-decoration-color: #808000\">│</span> regex = <span style=\"color: #800080; text-decoration-color: #800080; font-weight: bold\">re.compile</span><span style=\"font-weight: bold\">(</span><span style=\"color: #808000; text-decoration-color: #808000\">'^ $'</span>, re.IGNORECASE<span style=\"font-weight: bold\">)</span>                                              <span style=\"color: #808000; text-decoration-color: #808000\">│</span> <span style=\"color: #ff0000; text-decoration-color: #ff0000\">│</span>\n",
       "<span style=\"color: #ff0000; text-decoration-color: #ff0000\">│</span> <span style=\"color: #808000; text-decoration-color: #808000\">│</span>  self = <span style=\"font-weight: bold\">&lt;</span><span style=\"color: #ff00ff; text-decoration-color: #ff00ff; font-weight: bold\">PandasArray</span><span style=\"font-weight: bold\">&gt;</span>                                                                 <span style=\"color: #808000; text-decoration-color: #808000\">│</span> <span style=\"color: #ff0000; text-decoration-color: #ff0000\">│</span>\n",
       "<span style=\"color: #ff0000; text-decoration-color: #ff0000\">│</span> <span style=\"color: #808000; text-decoration-color: #808000\">│</span>         <span style=\"font-weight: bold\">[</span>                                   <span style=\"color: #808000; text-decoration-color: #808000\">'1.-.-.-'</span>,                                <span style=\"color: #808000; text-decoration-color: #808000\">│</span> <span style=\"color: #ff0000; text-decoration-color: #ff0000\">│</span>\n",
       "<span style=\"color: #ff0000; text-decoration-color: #ff0000\">│</span> <span style=\"color: #808000; text-decoration-color: #808000\">│</span>         <span style=\"color: #7f7f7f; text-decoration-color: #7f7f7f\">│   │   │   │   │   │   │   │   │   </span><span style=\"color: #808000; text-decoration-color: #808000\">'1.-.-.-'</span>,                                <span style=\"color: #808000; text-decoration-color: #808000\">│</span> <span style=\"color: #ff0000; text-decoration-color: #ff0000\">│</span>\n",
       "<span style=\"color: #ff0000; text-decoration-color: #ff0000\">│</span> <span style=\"color: #808000; text-decoration-color: #808000\">│</span>         <span style=\"color: #7f7f7f; text-decoration-color: #7f7f7f\">│   │   │   │   │   │   │   │   │   </span><span style=\"color: #808000; text-decoration-color: #808000\">'1.-.-.-'</span>,                                <span style=\"color: #808000; text-decoration-color: #808000\">│</span> <span style=\"color: #ff0000; text-decoration-color: #ff0000\">│</span>\n",
       "<span style=\"color: #ff0000; text-decoration-color: #ff0000\">│</span> <span style=\"color: #808000; text-decoration-color: #808000\">│</span>         <span style=\"color: #7f7f7f; text-decoration-color: #7f7f7f\">│   </span><span style=\"color: #808000; text-decoration-color: #808000\">'10-formyltetrahydrofolate dehydrogenase'</span>,                                <span style=\"color: #808000; text-decoration-color: #808000\">│</span> <span style=\"color: #ff0000; text-decoration-color: #ff0000\">│</span>\n",
       "<span style=\"color: #ff0000; text-decoration-color: #ff0000\">│</span> <span style=\"color: #808000; text-decoration-color: #808000\">│</span>         <span style=\"color: #7f7f7f; text-decoration-color: #7f7f7f\">│   │   │   │   │   │   │   │   │   </span><span style=\"color: #808000; text-decoration-color: #808000\">'1.1.-.-'</span>,                                <span style=\"color: #808000; text-decoration-color: #808000\">│</span> <span style=\"color: #ff0000; text-decoration-color: #ff0000\">│</span>\n",
       "<span style=\"color: #ff0000; text-decoration-color: #ff0000\">│</span> <span style=\"color: #808000; text-decoration-color: #808000\">│</span>         <span style=\"color: #7f7f7f; text-decoration-color: #7f7f7f\">│   │   │   │   │   │   │   │   │   </span><span style=\"color: #808000; text-decoration-color: #808000\">'1.1.-.-'</span>,                                <span style=\"color: #808000; text-decoration-color: #808000\">│</span> <span style=\"color: #ff0000; text-decoration-color: #ff0000\">│</span>\n",
       "<span style=\"color: #ff0000; text-decoration-color: #ff0000\">│</span> <span style=\"color: #808000; text-decoration-color: #808000\">│</span>         <span style=\"color: #7f7f7f; text-decoration-color: #7f7f7f\">│   │   │   │   │   │   │   │   │   </span><span style=\"color: #808000; text-decoration-color: #808000\">'1.1.-.-'</span>,                                <span style=\"color: #808000; text-decoration-color: #808000\">│</span> <span style=\"color: #ff0000; text-decoration-color: #ff0000\">│</span>\n",
       "<span style=\"color: #ff0000; text-decoration-color: #ff0000\">│</span> <span style=\"color: #808000; text-decoration-color: #808000\">│</span>         <span style=\"color: #7f7f7f; text-decoration-color: #7f7f7f\">│   │   │   │   │   │   │   │   │   </span><span style=\"color: #808000; text-decoration-color: #808000\">'1.1.-.-'</span>,                                <span style=\"color: #808000; text-decoration-color: #808000\">│</span> <span style=\"color: #ff0000; text-decoration-color: #ff0000\">│</span>\n",
       "<span style=\"color: #ff0000; text-decoration-color: #ff0000\">│</span> <span style=\"color: #808000; text-decoration-color: #808000\">│</span>         <span style=\"color: #7f7f7f; text-decoration-color: #7f7f7f\">│   │   │   │   │   │   │   │   │   </span><span style=\"color: #808000; text-decoration-color: #808000\">'1.1.-.-'</span>,                                <span style=\"color: #808000; text-decoration-color: #808000\">│</span> <span style=\"color: #ff0000; text-decoration-color: #ff0000\">│</span>\n",
       "<span style=\"color: #ff0000; text-decoration-color: #ff0000\">│</span> <span style=\"color: #808000; text-decoration-color: #808000\">│</span>         <span style=\"color: #7f7f7f; text-decoration-color: #7f7f7f\">│   │   │   │   │   │   │   │   │   </span><span style=\"color: #808000; text-decoration-color: #808000\">'1.1.-.-'</span>,                                <span style=\"color: #808000; text-decoration-color: #808000\">│</span> <span style=\"color: #ff0000; text-decoration-color: #ff0000\">│</span>\n",
       "<span style=\"color: #ff0000; text-decoration-color: #ff0000\">│</span> <span style=\"color: #808000; text-decoration-color: #808000\">│</span>         <span style=\"color: #7f7f7f; text-decoration-color: #7f7f7f\"> </span><span style=\"color: #808000; text-decoration-color: #808000\">...</span>                                                                          <span style=\"color: #808000; text-decoration-color: #808000\">│</span> <span style=\"color: #ff0000; text-decoration-color: #ff0000\">│</span>\n",
       "<span style=\"color: #ff0000; text-decoration-color: #ff0000\">│</span> <span style=\"color: #808000; text-decoration-color: #808000\">│</span>         <span style=\"color: #7f7f7f; text-decoration-color: #7f7f7f\">│   │   │   │   │   │   │   │   </span><span style=\"color: #808000; text-decoration-color: #808000\">'CELE_6R55.2'</span>,                                <span style=\"color: #808000; text-decoration-color: #808000\">│</span> <span style=\"color: #ff0000; text-decoration-color: #ff0000\">│</span>\n",
       "<span style=\"color: #ff0000; text-decoration-color: #ff0000\">│</span> <span style=\"color: #808000; text-decoration-color: #808000\">│</span>         <span style=\"color: #7f7f7f; text-decoration-color: #7f7f7f\">│   │   │   │   │   │   │   │      </span><span style=\"color: #808000; text-decoration-color: #808000\">'FO080088'</span>,                                <span style=\"color: #808000; text-decoration-color: #808000\">│</span> <span style=\"color: #ff0000; text-decoration-color: #ff0000\">│</span>\n",
       "<span style=\"color: #ff0000; text-decoration-color: #ff0000\">│</span> <span style=\"color: #808000; text-decoration-color: #808000\">│</span>         <span style=\"color: #7f7f7f; text-decoration-color: #7f7f7f\">│   │   │   │   │   │   │   │     </span><span style=\"color: #808000; text-decoration-color: #808000\">'NM_078462'</span>,                                <span style=\"color: #808000; text-decoration-color: #808000\">│</span> <span style=\"color: #ff0000; text-decoration-color: #ff0000\">│</span>\n",
       "<span style=\"color: #ff0000; text-decoration-color: #ff0000\">│</span> <span style=\"color: #808000; text-decoration-color: #808000\">│</span>         <span style=\"color: #7f7f7f; text-decoration-color: #7f7f7f\">│   │   │   │   │   │   │   │   </span><span style=\"color: #808000; text-decoration-color: #808000\">'NM_078462.2'</span>,                                <span style=\"color: #808000; text-decoration-color: #808000\">│</span> <span style=\"color: #ff0000; text-decoration-color: #ff0000\">│</span>\n",
       "<span style=\"color: #ff0000; text-decoration-color: #ff0000\">│</span> <span style=\"color: #808000; text-decoration-color: #808000\">│</span>         <span style=\"color: #7f7f7f; text-decoration-color: #7f7f7f\">│   │   │   │   │   │   │   │     </span><span style=\"color: #808000; text-decoration-color: #808000\">'NP_510863'</span>,                                <span style=\"color: #808000; text-decoration-color: #808000\">│</span> <span style=\"color: #ff0000; text-decoration-color: #ff0000\">│</span>\n",
       "<span style=\"color: #ff0000; text-decoration-color: #ff0000\">│</span> <span style=\"color: #808000; text-decoration-color: #808000\">│</span>         <span style=\"color: #7f7f7f; text-decoration-color: #7f7f7f\">│   │   │   │   │   │   │   │   </span><span style=\"color: #808000; text-decoration-color: #808000\">'NP_510863.2'</span>,                                <span style=\"color: #808000; text-decoration-color: #808000\">│</span> <span style=\"color: #ff0000; text-decoration-color: #ff0000\">│</span>\n",
       "<span style=\"color: #ff0000; text-decoration-color: #ff0000\">│</span> <span style=\"color: #808000; text-decoration-color: #808000\">│</span>         <span style=\"color: #7f7f7f; text-decoration-color: #7f7f7f\"> </span><span style=\"color: #808000; text-decoration-color: #808000\">'Protein 6R55.2 </span><span style=\"color: #808000; text-decoration-color: #808000; font-weight: bold\">(</span><span style=\"color: #808000; text-decoration-color: #808000\">6R55.2</span><span style=\"color: #808000; text-decoration-color: #808000; font-weight: bold\">)</span><span style=\"color: #808000; text-decoration-color: #808000\"> mRNA, complete cds'</span>,                                <span style=\"color: #808000; text-decoration-color: #808000\">│</span> <span style=\"color: #ff0000; text-decoration-color: #ff0000\">│</span>\n",
       "<span style=\"color: #ff0000; text-decoration-color: #ff0000\">│</span> <span style=\"color: #808000; text-decoration-color: #808000\">│</span>         <span style=\"color: #7f7f7f; text-decoration-color: #7f7f7f\">│   │   │   │   │   </span><span style=\"color: #808000; text-decoration-color: #808000\">'Uncharacterized protein'</span>,                                <span style=\"color: #808000; text-decoration-color: #808000\">│</span> <span style=\"color: #ff0000; text-decoration-color: #ff0000\">│</span>\n",
       "<span style=\"color: #ff0000; text-decoration-color: #ff0000\">│</span> <span style=\"color: #808000; text-decoration-color: #808000\">│</span>         <span style=\"color: #7f7f7f; text-decoration-color: #7f7f7f\">│   │   │   │   │   │   │     </span><span style=\"color: #808000; text-decoration-color: #808000\">'UPI0001DB04A1'</span>,                                <span style=\"color: #808000; text-decoration-color: #808000\">│</span> <span style=\"color: #ff0000; text-decoration-color: #ff0000\">│</span>\n",
       "<span style=\"color: #ff0000; text-decoration-color: #ff0000\">│</span> <span style=\"color: #808000; text-decoration-color: #808000\">│</span>         <span style=\"color: #7f7f7f; text-decoration-color: #7f7f7f\">│   │   │   │   │   │   │    </span><span style=\"color: #808000; text-decoration-color: #808000\">'WBGene00007069'</span><span style=\"font-weight: bold\">]</span>                                <span style=\"color: #808000; text-decoration-color: #808000\">│</span> <span style=\"color: #ff0000; text-decoration-color: #ff0000\">│</span>\n",
       "<span style=\"color: #ff0000; text-decoration-color: #ff0000\">│</span> <span style=\"color: #808000; text-decoration-color: #808000\">│</span>         Length: <span style=\"color: #0000ff; text-decoration-color: #0000ff\">440652</span>, dtype: object                                                 <span style=\"color: #808000; text-decoration-color: #808000\">│</span> <span style=\"color: #ff0000; text-decoration-color: #ff0000\">│</span>\n",
       "<span style=\"color: #ff0000; text-decoration-color: #ff0000\">│</span> <span style=\"color: #808000; text-decoration-color: #808000\">╰───────────────────────────────────────────────────────────────────────────────────────╯</span> <span style=\"color: #ff0000; text-decoration-color: #ff0000\">│</span>\n",
       "<span style=\"color: #ff0000; text-decoration-color: #ff0000\">│</span>                                                                                           <span style=\"color: #ff0000; text-decoration-color: #ff0000\">│</span>\n",
       "<span style=\"color: #ff0000; text-decoration-color: #ff0000\">│</span> <span style=\"color: #bfbf7f; text-decoration-color: #bfbf7f\">/home/rahit/.cache/pypoetry/virtualenvs/gemo-data-DHiuQg47-py3.8/lib/python3.8/site-packa</span> <span style=\"color: #ff0000; text-decoration-color: #ff0000\">│</span>\n",
       "<span style=\"color: #ff0000; text-decoration-color: #ff0000\">│</span> <span style=\"color: #bfbf7f; text-decoration-color: #bfbf7f\">ges/pandas/core/strings/</span><span style=\"color: #808000; text-decoration-color: #808000; font-weight: bold\">object_array.py</span>:<span style=\"color: #0000ff; text-decoration-color: #0000ff\">71</span> in <span style=\"color: #00ff00; text-decoration-color: #00ff00\">_str_map</span>                                    <span style=\"color: #ff0000; text-decoration-color: #ff0000\">│</span>\n",
       "<span style=\"color: #ff0000; text-decoration-color: #ff0000\">│</span>                                                                                           <span style=\"color: #ff0000; text-decoration-color: #ff0000\">│</span>\n",
       "<span style=\"color: #ff0000; text-decoration-color: #ff0000\">│</span>   <span style=\"color: #7f7f7f; text-decoration-color: #7f7f7f\"> 68 │   │   </span>mask = isna(arr)                                                            <span style=\"color: #ff0000; text-decoration-color: #ff0000\">│</span>\n",
       "<span style=\"color: #ff0000; text-decoration-color: #ff0000\">│</span>   <span style=\"color: #7f7f7f; text-decoration-color: #7f7f7f\"> 69 │   │   </span>map_convert = convert <span style=\"color: #ff00ff; text-decoration-color: #ff00ff\">and</span> <span style=\"color: #ff00ff; text-decoration-color: #ff00ff\">not</span> np.all(mask)                                  <span style=\"color: #ff0000; text-decoration-color: #ff0000\">│</span>\n",
       "<span style=\"color: #ff0000; text-decoration-color: #ff0000\">│</span>   <span style=\"color: #7f7f7f; text-decoration-color: #7f7f7f\"> 70 │   │   </span><span style=\"color: #0000ff; text-decoration-color: #0000ff\">try</span>:                                                                        <span style=\"color: #ff0000; text-decoration-color: #ff0000\">│</span>\n",
       "<span style=\"color: #ff0000; text-decoration-color: #ff0000\">│</span> <span style=\"color: #800000; text-decoration-color: #800000\">❱ </span> 71 <span style=\"color: #7f7f7f; text-decoration-color: #7f7f7f\">│   │   │   </span>result = lib.map_infer_mask(arr, f, mask.view(np.uint8), map_convert)   <span style=\"color: #ff0000; text-decoration-color: #ff0000\">│</span>\n",
       "<span style=\"color: #ff0000; text-decoration-color: #ff0000\">│</span>   <span style=\"color: #7f7f7f; text-decoration-color: #7f7f7f\"> 72 │   │   </span><span style=\"color: #0000ff; text-decoration-color: #0000ff\">except</span> (<span style=\"color: #00ffff; text-decoration-color: #00ffff\">TypeError</span>, <span style=\"color: #00ffff; text-decoration-color: #00ffff\">AttributeError</span>) <span style=\"color: #0000ff; text-decoration-color: #0000ff\">as</span> err:                                  <span style=\"color: #ff0000; text-decoration-color: #ff0000\">│</span>\n",
       "<span style=\"color: #ff0000; text-decoration-color: #ff0000\">│</span>   <span style=\"color: #7f7f7f; text-decoration-color: #7f7f7f\"> 73 │   │   │   # Reraise the exception if callable `f` got wrong number of args.</span>       <span style=\"color: #ff0000; text-decoration-color: #ff0000\">│</span>\n",
       "<span style=\"color: #ff0000; text-decoration-color: #ff0000\">│</span>   <span style=\"color: #7f7f7f; text-decoration-color: #7f7f7f\"> 74 │   │   │   # The user may want to be warned by this, instead of getting NaN</span>        <span style=\"color: #ff0000; text-decoration-color: #ff0000\">│</span>\n",
       "<span style=\"color: #ff0000; text-decoration-color: #ff0000\">│</span>                                                                                           <span style=\"color: #ff0000; text-decoration-color: #ff0000\">│</span>\n",
       "<span style=\"color: #ff0000; text-decoration-color: #ff0000\">│</span> <span style=\"color: #808000; text-decoration-color: #808000\">╭─────────────────────────────────────── locals ────────────────────────────────────────╮</span> <span style=\"color: #ff0000; text-decoration-color: #ff0000\">│</span>\n",
       "<span style=\"color: #ff0000; text-decoration-color: #ff0000\">│</span> <span style=\"color: #808000; text-decoration-color: #808000\">│</span>         arr = <span style=\"color: #800080; text-decoration-color: #800080; font-weight: bold\">array</span><span style=\"font-weight: bold\">([</span><span style=\"color: #808000; text-decoration-color: #808000\">'1.-.-.-'</span>, <span style=\"color: #808000; text-decoration-color: #808000\">'1.-.-.-'</span>, <span style=\"color: #808000; text-decoration-color: #808000\">'1.-.-.-'</span>, <span style=\"color: #808000; text-decoration-color: #808000\">...</span>, <span style=\"color: #808000; text-decoration-color: #808000\">'Uncharacterized protein'</span>, <span style=\"color: #808000; text-decoration-color: #808000\">│</span> <span style=\"color: #ff0000; text-decoration-color: #ff0000\">│</span>\n",
       "<span style=\"color: #ff0000; text-decoration-color: #ff0000\">│</span> <span style=\"color: #808000; text-decoration-color: #808000\">│</span>               <span style=\"color: #7f7f7f; text-decoration-color: #7f7f7f\">│      </span><span style=\"color: #808000; text-decoration-color: #808000\">'UPI0001DB04A1'</span>, <span style=\"color: #808000; text-decoration-color: #808000\">'WBGene00007069'</span><span style=\"font-weight: bold\">]</span>, <span style=\"color: #808000; text-decoration-color: #808000\">dtype</span>=<span style=\"color: #800080; text-decoration-color: #800080\">object</span><span style=\"font-weight: bold\">)</span>                <span style=\"color: #808000; text-decoration-color: #808000\">│</span> <span style=\"color: #ff0000; text-decoration-color: #ff0000\">│</span>\n",
       "<span style=\"color: #ff0000; text-decoration-color: #ff0000\">│</span> <span style=\"color: #808000; text-decoration-color: #808000\">│</span>     convert = <span style=\"color: #0000ff; text-decoration-color: #0000ff\">True</span>                                                                    <span style=\"color: #808000; text-decoration-color: #808000\">│</span> <span style=\"color: #ff0000; text-decoration-color: #ff0000\">│</span>\n",
       "<span style=\"color: #ff0000; text-decoration-color: #ff0000\">│</span> <span style=\"color: #808000; text-decoration-color: #808000\">│</span>       dtype = <span style=\"color: #800080; text-decoration-color: #800080; font-weight: bold\">dtype</span><span style=\"font-weight: bold\">(</span><span style=\"color: #808000; text-decoration-color: #808000\">'bool'</span><span style=\"font-weight: bold\">)</span>                                                           <span style=\"color: #808000; text-decoration-color: #808000\">│</span> <span style=\"color: #ff0000; text-decoration-color: #ff0000\">│</span>\n",
       "<span style=\"color: #ff0000; text-decoration-color: #ff0000\">│</span> <span style=\"color: #808000; text-decoration-color: #808000\">│</span>           f = <span style=\"font-weight: bold\">&lt;</span><span style=\"color: #ff00ff; text-decoration-color: #ff00ff; font-weight: bold\">function</span><span style=\"color: #000000; text-decoration-color: #000000\"> ObjectStringArrayMixin._str_match.&lt;locals</span><span style=\"font-weight: bold\">&gt;</span>.<span style=\"font-weight: bold\">&lt;</span><span style=\"color: #ff00ff; text-decoration-color: #ff00ff; font-weight: bold\">lambda</span><span style=\"font-weight: bold\">&gt;</span> at        <span style=\"color: #808000; text-decoration-color: #808000\">│</span> <span style=\"color: #ff0000; text-decoration-color: #ff0000\">│</span>\n",
       "<span style=\"color: #ff0000; text-decoration-color: #ff0000\">│</span> <span style=\"color: #808000; text-decoration-color: #808000\">│</span>               <span style=\"color: #0000ff; text-decoration-color: #0000ff\">0x2b895c75d940</span>&gt;                                                         <span style=\"color: #808000; text-decoration-color: #808000\">│</span> <span style=\"color: #ff0000; text-decoration-color: #ff0000\">│</span>\n",
       "<span style=\"color: #ff0000; text-decoration-color: #ff0000\">│</span> <span style=\"color: #808000; text-decoration-color: #808000\">│</span> map_convert = <span style=\"color: #0000ff; text-decoration-color: #0000ff\">True</span>                                                                    <span style=\"color: #808000; text-decoration-color: #808000\">│</span> <span style=\"color: #ff0000; text-decoration-color: #ff0000\">│</span>\n",
       "<span style=\"color: #ff0000; text-decoration-color: #ff0000\">│</span> <span style=\"color: #808000; text-decoration-color: #808000\">│</span>        mask = <span style=\"color: #800080; text-decoration-color: #800080; font-weight: bold\">array</span><span style=\"font-weight: bold\">([</span><span style=\"color: #0000ff; text-decoration-color: #0000ff\">False</span>, <span style=\"color: #0000ff; text-decoration-color: #0000ff\">False</span>, <span style=\"color: #0000ff; text-decoration-color: #0000ff\">False</span>, <span style=\"color: #808000; text-decoration-color: #808000\">...</span>, <span style=\"color: #0000ff; text-decoration-color: #0000ff\">False</span>, <span style=\"color: #0000ff; text-decoration-color: #0000ff\">False</span>, <span style=\"color: #0000ff; text-decoration-color: #0000ff\">False</span><span style=\"font-weight: bold\">])</span>                  <span style=\"color: #808000; text-decoration-color: #808000\">│</span> <span style=\"color: #ff0000; text-decoration-color: #ff0000\">│</span>\n",
       "<span style=\"color: #ff0000; text-decoration-color: #ff0000\">│</span> <span style=\"color: #808000; text-decoration-color: #808000\">│</span>    na_value = nan                                                                     <span style=\"color: #808000; text-decoration-color: #808000\">│</span> <span style=\"color: #ff0000; text-decoration-color: #ff0000\">│</span>\n",
       "<span style=\"color: #ff0000; text-decoration-color: #ff0000\">│</span> <span style=\"color: #808000; text-decoration-color: #808000\">│</span>        self = <span style=\"font-weight: bold\">&lt;</span><span style=\"color: #ff00ff; text-decoration-color: #ff00ff; font-weight: bold\">PandasArray</span><span style=\"font-weight: bold\">&gt;</span>                                                           <span style=\"color: #808000; text-decoration-color: #808000\">│</span> <span style=\"color: #ff0000; text-decoration-color: #ff0000\">│</span>\n",
       "<span style=\"color: #ff0000; text-decoration-color: #ff0000\">│</span> <span style=\"color: #808000; text-decoration-color: #808000\">│</span>               <span style=\"font-weight: bold\">[</span>                                   <span style=\"color: #808000; text-decoration-color: #808000\">'1.-.-.-'</span>,                          <span style=\"color: #808000; text-decoration-color: #808000\">│</span> <span style=\"color: #ff0000; text-decoration-color: #ff0000\">│</span>\n",
       "<span style=\"color: #ff0000; text-decoration-color: #ff0000\">│</span> <span style=\"color: #808000; text-decoration-color: #808000\">│</span>               <span style=\"color: #7f7f7f; text-decoration-color: #7f7f7f\">│   │   │   │   │   │   │   │   │   </span><span style=\"color: #808000; text-decoration-color: #808000\">'1.-.-.-'</span>,                          <span style=\"color: #808000; text-decoration-color: #808000\">│</span> <span style=\"color: #ff0000; text-decoration-color: #ff0000\">│</span>\n",
       "<span style=\"color: #ff0000; text-decoration-color: #ff0000\">│</span> <span style=\"color: #808000; text-decoration-color: #808000\">│</span>               <span style=\"color: #7f7f7f; text-decoration-color: #7f7f7f\">│   │   │   │   │   │   │   │   │   </span><span style=\"color: #808000; text-decoration-color: #808000\">'1.-.-.-'</span>,                          <span style=\"color: #808000; text-decoration-color: #808000\">│</span> <span style=\"color: #ff0000; text-decoration-color: #ff0000\">│</span>\n",
       "<span style=\"color: #ff0000; text-decoration-color: #ff0000\">│</span> <span style=\"color: #808000; text-decoration-color: #808000\">│</span>               <span style=\"color: #7f7f7f; text-decoration-color: #7f7f7f\">│   </span><span style=\"color: #808000; text-decoration-color: #808000\">'10-formyltetrahydrofolate dehydrogenase'</span>,                          <span style=\"color: #808000; text-decoration-color: #808000\">│</span> <span style=\"color: #ff0000; text-decoration-color: #ff0000\">│</span>\n",
       "<span style=\"color: #ff0000; text-decoration-color: #ff0000\">│</span> <span style=\"color: #808000; text-decoration-color: #808000\">│</span>               <span style=\"color: #7f7f7f; text-decoration-color: #7f7f7f\">│   │   │   │   │   │   │   │   │   </span><span style=\"color: #808000; text-decoration-color: #808000\">'1.1.-.-'</span>,                          <span style=\"color: #808000; text-decoration-color: #808000\">│</span> <span style=\"color: #ff0000; text-decoration-color: #ff0000\">│</span>\n",
       "<span style=\"color: #ff0000; text-decoration-color: #ff0000\">│</span> <span style=\"color: #808000; text-decoration-color: #808000\">│</span>               <span style=\"color: #7f7f7f; text-decoration-color: #7f7f7f\">│   │   │   │   │   │   │   │   │   </span><span style=\"color: #808000; text-decoration-color: #808000\">'1.1.-.-'</span>,                          <span style=\"color: #808000; text-decoration-color: #808000\">│</span> <span style=\"color: #ff0000; text-decoration-color: #ff0000\">│</span>\n",
       "<span style=\"color: #ff0000; text-decoration-color: #ff0000\">│</span> <span style=\"color: #808000; text-decoration-color: #808000\">│</span>               <span style=\"color: #7f7f7f; text-decoration-color: #7f7f7f\">│   │   │   │   │   │   │   │   │   </span><span style=\"color: #808000; text-decoration-color: #808000\">'1.1.-.-'</span>,                          <span style=\"color: #808000; text-decoration-color: #808000\">│</span> <span style=\"color: #ff0000; text-decoration-color: #ff0000\">│</span>\n",
       "<span style=\"color: #ff0000; text-decoration-color: #ff0000\">│</span> <span style=\"color: #808000; text-decoration-color: #808000\">│</span>               <span style=\"color: #7f7f7f; text-decoration-color: #7f7f7f\">│   │   │   │   │   │   │   │   │   </span><span style=\"color: #808000; text-decoration-color: #808000\">'1.1.-.-'</span>,                          <span style=\"color: #808000; text-decoration-color: #808000\">│</span> <span style=\"color: #ff0000; text-decoration-color: #ff0000\">│</span>\n",
       "<span style=\"color: #ff0000; text-decoration-color: #ff0000\">│</span> <span style=\"color: #808000; text-decoration-color: #808000\">│</span>               <span style=\"color: #7f7f7f; text-decoration-color: #7f7f7f\">│   │   │   │   │   │   │   │   │   </span><span style=\"color: #808000; text-decoration-color: #808000\">'1.1.-.-'</span>,                          <span style=\"color: #808000; text-decoration-color: #808000\">│</span> <span style=\"color: #ff0000; text-decoration-color: #ff0000\">│</span>\n",
       "<span style=\"color: #ff0000; text-decoration-color: #ff0000\">│</span> <span style=\"color: #808000; text-decoration-color: #808000\">│</span>               <span style=\"color: #7f7f7f; text-decoration-color: #7f7f7f\">│   │   │   │   │   │   │   │   │   </span><span style=\"color: #808000; text-decoration-color: #808000\">'1.1.-.-'</span>,                          <span style=\"color: #808000; text-decoration-color: #808000\">│</span> <span style=\"color: #ff0000; text-decoration-color: #ff0000\">│</span>\n",
       "<span style=\"color: #ff0000; text-decoration-color: #ff0000\">│</span> <span style=\"color: #808000; text-decoration-color: #808000\">│</span>               <span style=\"color: #7f7f7f; text-decoration-color: #7f7f7f\"> </span><span style=\"color: #808000; text-decoration-color: #808000\">...</span>                                                                    <span style=\"color: #808000; text-decoration-color: #808000\">│</span> <span style=\"color: #ff0000; text-decoration-color: #ff0000\">│</span>\n",
       "<span style=\"color: #ff0000; text-decoration-color: #ff0000\">│</span> <span style=\"color: #808000; text-decoration-color: #808000\">│</span>               <span style=\"color: #7f7f7f; text-decoration-color: #7f7f7f\">│   │   │   │   │   │   │   │   </span><span style=\"color: #808000; text-decoration-color: #808000\">'CELE_6R55.2'</span>,                          <span style=\"color: #808000; text-decoration-color: #808000\">│</span> <span style=\"color: #ff0000; text-decoration-color: #ff0000\">│</span>\n",
       "<span style=\"color: #ff0000; text-decoration-color: #ff0000\">│</span> <span style=\"color: #808000; text-decoration-color: #808000\">│</span>               <span style=\"color: #7f7f7f; text-decoration-color: #7f7f7f\">│   │   │   │   │   │   │   │      </span><span style=\"color: #808000; text-decoration-color: #808000\">'FO080088'</span>,                          <span style=\"color: #808000; text-decoration-color: #808000\">│</span> <span style=\"color: #ff0000; text-decoration-color: #ff0000\">│</span>\n",
       "<span style=\"color: #ff0000; text-decoration-color: #ff0000\">│</span> <span style=\"color: #808000; text-decoration-color: #808000\">│</span>               <span style=\"color: #7f7f7f; text-decoration-color: #7f7f7f\">│   │   │   │   │   │   │   │     </span><span style=\"color: #808000; text-decoration-color: #808000\">'NM_078462'</span>,                          <span style=\"color: #808000; text-decoration-color: #808000\">│</span> <span style=\"color: #ff0000; text-decoration-color: #ff0000\">│</span>\n",
       "<span style=\"color: #ff0000; text-decoration-color: #ff0000\">│</span> <span style=\"color: #808000; text-decoration-color: #808000\">│</span>               <span style=\"color: #7f7f7f; text-decoration-color: #7f7f7f\">│   │   │   │   │   │   │   │   </span><span style=\"color: #808000; text-decoration-color: #808000\">'NM_078462.2'</span>,                          <span style=\"color: #808000; text-decoration-color: #808000\">│</span> <span style=\"color: #ff0000; text-decoration-color: #ff0000\">│</span>\n",
       "<span style=\"color: #ff0000; text-decoration-color: #ff0000\">│</span> <span style=\"color: #808000; text-decoration-color: #808000\">│</span>               <span style=\"color: #7f7f7f; text-decoration-color: #7f7f7f\">│   │   │   │   │   │   │   │     </span><span style=\"color: #808000; text-decoration-color: #808000\">'NP_510863'</span>,                          <span style=\"color: #808000; text-decoration-color: #808000\">│</span> <span style=\"color: #ff0000; text-decoration-color: #ff0000\">│</span>\n",
       "<span style=\"color: #ff0000; text-decoration-color: #ff0000\">│</span> <span style=\"color: #808000; text-decoration-color: #808000\">│</span>               <span style=\"color: #7f7f7f; text-decoration-color: #7f7f7f\">│   │   │   │   │   │   │   │   </span><span style=\"color: #808000; text-decoration-color: #808000\">'NP_510863.2'</span>,                          <span style=\"color: #808000; text-decoration-color: #808000\">│</span> <span style=\"color: #ff0000; text-decoration-color: #ff0000\">│</span>\n",
       "<span style=\"color: #ff0000; text-decoration-color: #ff0000\">│</span> <span style=\"color: #808000; text-decoration-color: #808000\">│</span>               <span style=\"color: #7f7f7f; text-decoration-color: #7f7f7f\"> </span><span style=\"color: #808000; text-decoration-color: #808000\">'Protein 6R55.2 </span><span style=\"color: #808000; text-decoration-color: #808000; font-weight: bold\">(</span><span style=\"color: #808000; text-decoration-color: #808000\">6R55.2</span><span style=\"color: #808000; text-decoration-color: #808000; font-weight: bold\">)</span><span style=\"color: #808000; text-decoration-color: #808000\"> mRNA, complete cds'</span>,                          <span style=\"color: #808000; text-decoration-color: #808000\">│</span> <span style=\"color: #ff0000; text-decoration-color: #ff0000\">│</span>\n",
       "<span style=\"color: #ff0000; text-decoration-color: #ff0000\">│</span> <span style=\"color: #808000; text-decoration-color: #808000\">│</span>               <span style=\"color: #7f7f7f; text-decoration-color: #7f7f7f\">│   │   │   │   │   </span><span style=\"color: #808000; text-decoration-color: #808000\">'Uncharacterized protein'</span>,                          <span style=\"color: #808000; text-decoration-color: #808000\">│</span> <span style=\"color: #ff0000; text-decoration-color: #ff0000\">│</span>\n",
       "<span style=\"color: #ff0000; text-decoration-color: #ff0000\">│</span> <span style=\"color: #808000; text-decoration-color: #808000\">│</span>               <span style=\"color: #7f7f7f; text-decoration-color: #7f7f7f\">│   │   │   │   │   │   │     </span><span style=\"color: #808000; text-decoration-color: #808000\">'UPI0001DB04A1'</span>,                          <span style=\"color: #808000; text-decoration-color: #808000\">│</span> <span style=\"color: #ff0000; text-decoration-color: #ff0000\">│</span>\n",
       "<span style=\"color: #ff0000; text-decoration-color: #ff0000\">│</span> <span style=\"color: #808000; text-decoration-color: #808000\">│</span>               <span style=\"color: #7f7f7f; text-decoration-color: #7f7f7f\">│   │   │   │   │   │   │    </span><span style=\"color: #808000; text-decoration-color: #808000\">'WBGene00007069'</span><span style=\"font-weight: bold\">]</span>                          <span style=\"color: #808000; text-decoration-color: #808000\">│</span> <span style=\"color: #ff0000; text-decoration-color: #ff0000\">│</span>\n",
       "<span style=\"color: #ff0000; text-decoration-color: #ff0000\">│</span> <span style=\"color: #808000; text-decoration-color: #808000\">│</span>               Length: <span style=\"color: #0000ff; text-decoration-color: #0000ff\">440652</span>, dtype: object                                           <span style=\"color: #808000; text-decoration-color: #808000\">│</span> <span style=\"color: #ff0000; text-decoration-color: #ff0000\">│</span>\n",
       "<span style=\"color: #ff0000; text-decoration-color: #ff0000\">│</span> <span style=\"color: #808000; text-decoration-color: #808000\">╰───────────────────────────────────────────────────────────────────────────────────────╯</span> <span style=\"color: #ff0000; text-decoration-color: #ff0000\">│</span>\n",
       "<span style=\"color: #ff0000; text-decoration-color: #ff0000\">╰───────────────────────────────────────────────────────────────────────────────────────────╯</span>\n",
       "<span style=\"color: #ff0000; text-decoration-color: #ff0000; font-weight: bold\">KeyboardInterrupt</span>\n",
       "</pre>\n"
      ],
      "text/plain": [
       "\u001b[91m╭─\u001b[0m\u001b[91m─────────────────────────── \u001b[0m\u001b[1;31mTraceback \u001b[0m\u001b[1;2;31m(most recent call last)\u001b[0m\u001b[91m ───────────────────────────\u001b[0m\u001b[91m─╮\u001b[0m\n",
       "\u001b[91m│\u001b[0m                                                                                           \u001b[91m│\u001b[0m\n",
       "\u001b[91m│\u001b[0m \u001b[2;33m/tmp/ipykernel_2043/\u001b[0m\u001b[1;33m2146878348.py\u001b[0m:\u001b[94m2\u001b[0m in \u001b[92m<module>\u001b[0m                                           \u001b[91m│\u001b[0m\n",
       "\u001b[91m│\u001b[0m                                                                                           \u001b[91m│\u001b[0m\n",
       "\u001b[91m│\u001b[0m \u001b[3;31m[Errno 2] No such file or directory: '/tmp/ipykernel_2043/2146878348.py'\u001b[0m                  \u001b[91m│\u001b[0m\n",
       "\u001b[91m│\u001b[0m \u001b[2;33m/tmp/ipykernel_2043/\u001b[0m\u001b[1;33m1766830248.py\u001b[0m:\u001b[94m22\u001b[0m in \u001b[92mget_interaction_score\u001b[0m                             \u001b[91m│\u001b[0m\n",
       "\u001b[91m│\u001b[0m                                                                                           \u001b[91m│\u001b[0m\n",
       "\u001b[91m│\u001b[0m \u001b[3;31m[Errno 2] No such file or directory: '/tmp/ipykernel_2043/1766830248.py'\u001b[0m                  \u001b[91m│\u001b[0m\n",
       "\u001b[91m│\u001b[0m                                                                                           \u001b[91m│\u001b[0m\n",
       "\u001b[91m│\u001b[0m \u001b[2;33m/tmp/ipykernel_2043/\u001b[0m\u001b[1;33m1766830248.py\u001b[0m:\u001b[94m11\u001b[0m in \u001b[92mget_string_protein_id\u001b[0m                             \u001b[91m│\u001b[0m\n",
       "\u001b[91m│\u001b[0m                                                                                           \u001b[91m│\u001b[0m\n",
       "\u001b[91m│\u001b[0m \u001b[3;31m[Errno 2] No such file or directory: '/tmp/ipykernel_2043/1766830248.py'\u001b[0m                  \u001b[91m│\u001b[0m\n",
       "\u001b[91m│\u001b[0m                                                                                           \u001b[91m│\u001b[0m\n",
       "\u001b[91m│\u001b[0m \u001b[2;33m/home/rahit/.cache/pypoetry/virtualenvs/gemo-data-DHiuQg47-py3.8/lib/python3.8/site-packa\u001b[0m \u001b[91m│\u001b[0m\n",
       "\u001b[91m│\u001b[0m \u001b[2;33mges/pandas/core/strings/\u001b[0m\u001b[1;33maccessor.py\u001b[0m:\u001b[94m129\u001b[0m in \u001b[92mwrapper\u001b[0m                                        \u001b[91m│\u001b[0m\n",
       "\u001b[91m│\u001b[0m                                                                                           \u001b[91m│\u001b[0m\n",
       "\u001b[91m│\u001b[0m   \u001b[2m 126 \u001b[0m\u001b[2m│   │   │   │   │   \u001b[0m\u001b[33mf\u001b[0m\u001b[33m\"\u001b[0m\u001b[33minferred dtype \u001b[0m\u001b[33m'\u001b[0m\u001b[33m{\u001b[0m\u001b[96mself\u001b[0m._inferred_dtype\u001b[33m}\u001b[0m\u001b[33m'\u001b[0m\u001b[33m.\u001b[0m\u001b[33m\"\u001b[0m                    \u001b[91m│\u001b[0m\n",
       "\u001b[91m│\u001b[0m   \u001b[2m 127 \u001b[0m\u001b[2m│   │   │   │   \u001b[0m)                                                                  \u001b[91m│\u001b[0m\n",
       "\u001b[91m│\u001b[0m   \u001b[2m 128 \u001b[0m\u001b[2m│   │   │   │   \u001b[0m\u001b[94mraise\u001b[0m \u001b[96mTypeError\u001b[0m(msg)                                               \u001b[91m│\u001b[0m\n",
       "\u001b[91m│\u001b[0m \u001b[31m❱ \u001b[0m 129 \u001b[2m│   │   │   \u001b[0m\u001b[94mreturn\u001b[0m func(\u001b[96mself\u001b[0m, *args, **kwargs)                                     \u001b[91m│\u001b[0m\n",
       "\u001b[91m│\u001b[0m   \u001b[2m 130 \u001b[0m\u001b[2m│   │   \u001b[0m                                                                           \u001b[91m│\u001b[0m\n",
       "\u001b[91m│\u001b[0m   \u001b[2m 131 \u001b[0m\u001b[2m│   │   \u001b[0mwrapper.\u001b[91m__name__\u001b[0m = func_name                                               \u001b[91m│\u001b[0m\n",
       "\u001b[91m│\u001b[0m   \u001b[2m 132 \u001b[0m\u001b[2m│   │   \u001b[0m\u001b[94mreturn\u001b[0m cast(F, wrapper)                                                    \u001b[91m│\u001b[0m\n",
       "\u001b[91m│\u001b[0m                                                                                           \u001b[91m│\u001b[0m\n",
       "\u001b[91m│\u001b[0m \u001b[33m╭─\u001b[0m\u001b[33m────────────────────────────────────── locals ───────────────────────────────────────\u001b[0m\u001b[33m─╮\u001b[0m \u001b[91m│\u001b[0m\n",
       "\u001b[91m│\u001b[0m \u001b[33m│\u001b[0m allowed_types = \u001b[1m{\u001b[0m\u001b[33m'mixed-integer'\u001b[0m, \u001b[33m'mixed'\u001b[0m, \u001b[33m'string'\u001b[0m, \u001b[33m'empty'\u001b[0m\u001b[1m}\u001b[0m                         \u001b[33m│\u001b[0m \u001b[91m│\u001b[0m\n",
       "\u001b[91m│\u001b[0m \u001b[33m│\u001b[0m          args = \u001b[1m(\u001b[0m\u001b[33m'^ $'\u001b[0m,\u001b[1m)\u001b[0m                                                              \u001b[33m│\u001b[0m \u001b[91m│\u001b[0m\n",
       "\u001b[91m│\u001b[0m \u001b[33m│\u001b[0m          func = \u001b[1m<\u001b[0m\u001b[1;95mfunction\u001b[0m\u001b[39m StringMethods.match at \u001b[0m\u001b[94m0x2b886b0e1f70\u001b[0m\u001b[1m>\u001b[0m                      \u001b[33m│\u001b[0m \u001b[91m│\u001b[0m\n",
       "\u001b[91m│\u001b[0m \u001b[33m│\u001b[0m     func_name = \u001b[33m'match'\u001b[0m                                                               \u001b[33m│\u001b[0m \u001b[91m│\u001b[0m\n",
       "\u001b[91m│\u001b[0m \u001b[33m│\u001b[0m        kwargs = \u001b[1m{\u001b[0m\u001b[33m'case'\u001b[0m: \u001b[94mFalse\u001b[0m\u001b[1m}\u001b[0m                                                       \u001b[33m│\u001b[0m \u001b[91m│\u001b[0m\n",
       "\u001b[91m│\u001b[0m \u001b[33m│\u001b[0m          self = \u001b[1m<\u001b[0m\u001b[1;95mpandas.core.strings.accessor.StringMethods\u001b[0m\u001b[39m object at \u001b[0m\u001b[94m0x2b8957da8550\u001b[0m\u001b[1m>\u001b[0m \u001b[33m│\u001b[0m \u001b[91m│\u001b[0m\n",
       "\u001b[91m│\u001b[0m \u001b[33m╰───────────────────────────────────────────────────────────────────────────────────────╯\u001b[0m \u001b[91m│\u001b[0m\n",
       "\u001b[91m│\u001b[0m                                                                                           \u001b[91m│\u001b[0m\n",
       "\u001b[91m│\u001b[0m \u001b[2;33m/home/rahit/.cache/pypoetry/virtualenvs/gemo-data-DHiuQg47-py3.8/lib/python3.8/site-packa\u001b[0m \u001b[91m│\u001b[0m\n",
       "\u001b[91m│\u001b[0m \u001b[2;33mges/pandas/core/strings/\u001b[0m\u001b[1;33maccessor.py\u001b[0m:\u001b[94m1292\u001b[0m in \u001b[92mmatch\u001b[0m                                         \u001b[91m│\u001b[0m\n",
       "\u001b[91m│\u001b[0m                                                                                           \u001b[91m│\u001b[0m\n",
       "\u001b[91m│\u001b[0m   \u001b[2m1289 \u001b[0m\u001b[2;33m│   │   │   \u001b[0m\u001b[33mre.match.\u001b[0m                                                              \u001b[91m│\u001b[0m\n",
       "\u001b[91m│\u001b[0m   \u001b[2m1290 \u001b[0m\u001b[2;33m│   │   \u001b[0m\u001b[33mextract : Extract matched groups.\u001b[0m                                          \u001b[91m│\u001b[0m\n",
       "\u001b[91m│\u001b[0m   \u001b[2m1291 \u001b[0m\u001b[2;33m│   │   \u001b[0m\u001b[33m\"\"\"\u001b[0m                                                                        \u001b[91m│\u001b[0m\n",
       "\u001b[91m│\u001b[0m \u001b[31m❱ \u001b[0m1292 \u001b[2m│   │   \u001b[0mresult = \u001b[96mself\u001b[0m._data.array._str_match(pat, case=case, flags=flags, na=na)   \u001b[91m│\u001b[0m\n",
       "\u001b[91m│\u001b[0m   \u001b[2m1293 \u001b[0m\u001b[2m│   │   \u001b[0m\u001b[94mreturn\u001b[0m \u001b[96mself\u001b[0m._wrap_result(result, fill_value=na, returns_string=\u001b[94mFalse\u001b[0m)      \u001b[91m│\u001b[0m\n",
       "\u001b[91m│\u001b[0m   \u001b[2m1294 \u001b[0m\u001b[2m│   \u001b[0m                                                                               \u001b[91m│\u001b[0m\n",
       "\u001b[91m│\u001b[0m   \u001b[2m1295 \u001b[0m\u001b[2m│   \u001b[0m\u001b[1;95m@forbid_nonstring_types\u001b[0m([\u001b[33m\"\u001b[0m\u001b[33mbytes\u001b[0m\u001b[33m\"\u001b[0m])                                             \u001b[91m│\u001b[0m\n",
       "\u001b[91m│\u001b[0m                                                                                           \u001b[91m│\u001b[0m\n",
       "\u001b[91m│\u001b[0m \u001b[33m╭─\u001b[0m\u001b[33m────────────────────────────────── locals ───────────────────────────────────\u001b[0m\u001b[33m─╮\u001b[0m         \u001b[91m│\u001b[0m\n",
       "\u001b[91m│\u001b[0m \u001b[33m│\u001b[0m  case = \u001b[94mFalse\u001b[0m                                                                 \u001b[33m│\u001b[0m         \u001b[91m│\u001b[0m\n",
       "\u001b[91m│\u001b[0m \u001b[33m│\u001b[0m flags = \u001b[94m0\u001b[0m                                                                     \u001b[33m│\u001b[0m         \u001b[91m│\u001b[0m\n",
       "\u001b[91m│\u001b[0m \u001b[33m│\u001b[0m    na = \u001b[94mNone\u001b[0m                                                                  \u001b[33m│\u001b[0m         \u001b[91m│\u001b[0m\n",
       "\u001b[91m│\u001b[0m \u001b[33m│\u001b[0m   pat = \u001b[33m'^ $'\u001b[0m                                                                 \u001b[33m│\u001b[0m         \u001b[91m│\u001b[0m\n",
       "\u001b[91m│\u001b[0m \u001b[33m│\u001b[0m  self = \u001b[1m<\u001b[0m\u001b[1;95mpandas.core.strings.accessor.StringMethods\u001b[0m\u001b[39m object at \u001b[0m\u001b[94m0x2b8957da8550\u001b[0m\u001b[1m>\u001b[0m \u001b[33m│\u001b[0m         \u001b[91m│\u001b[0m\n",
       "\u001b[91m│\u001b[0m \u001b[33m╰───────────────────────────────────────────────────────────────────────────────╯\u001b[0m         \u001b[91m│\u001b[0m\n",
       "\u001b[91m│\u001b[0m                                                                                           \u001b[91m│\u001b[0m\n",
       "\u001b[91m│\u001b[0m \u001b[2;33m/home/rahit/.cache/pypoetry/virtualenvs/gemo-data-DHiuQg47-py3.8/lib/python3.8/site-packa\u001b[0m \u001b[91m│\u001b[0m\n",
       "\u001b[91m│\u001b[0m \u001b[2;33mges/pandas/core/strings/\u001b[0m\u001b[1;33mobject_array.py\u001b[0m:\u001b[94m204\u001b[0m in \u001b[92m_str_match\u001b[0m                                 \u001b[91m│\u001b[0m\n",
       "\u001b[91m│\u001b[0m                                                                                           \u001b[91m│\u001b[0m\n",
       "\u001b[91m│\u001b[0m   \u001b[2m201 \u001b[0m\u001b[2m│   │   \u001b[0mregex = re.compile(pat, flags=flags)                                        \u001b[91m│\u001b[0m\n",
       "\u001b[91m│\u001b[0m   \u001b[2m202 \u001b[0m\u001b[2m│   │   \u001b[0m                                                                            \u001b[91m│\u001b[0m\n",
       "\u001b[91m│\u001b[0m   \u001b[2m203 \u001b[0m\u001b[2m│   │   \u001b[0mf = \u001b[94mlambda\u001b[0m x: regex.match(x) \u001b[95mis\u001b[0m \u001b[95mnot\u001b[0m \u001b[94mNone\u001b[0m                                    \u001b[91m│\u001b[0m\n",
       "\u001b[91m│\u001b[0m \u001b[31m❱ \u001b[0m204 \u001b[2m│   │   \u001b[0m\u001b[94mreturn\u001b[0m \u001b[96mself\u001b[0m._str_map(f, na_value=na, dtype=np.dtype(\u001b[96mbool\u001b[0m))                  \u001b[91m│\u001b[0m\n",
       "\u001b[91m│\u001b[0m   \u001b[2m205 \u001b[0m\u001b[2m│   \u001b[0m                                                                                \u001b[91m│\u001b[0m\n",
       "\u001b[91m│\u001b[0m   \u001b[2m206 \u001b[0m\u001b[2m│   \u001b[0m\u001b[94mdef\u001b[0m \u001b[92m_str_fullmatch\u001b[0m(                                                             \u001b[91m│\u001b[0m\n",
       "\u001b[91m│\u001b[0m   \u001b[2m207 \u001b[0m\u001b[2m│   │   \u001b[0m\u001b[96mself\u001b[0m,                                                                       \u001b[91m│\u001b[0m\n",
       "\u001b[91m│\u001b[0m                                                                                           \u001b[91m│\u001b[0m\n",
       "\u001b[91m│\u001b[0m \u001b[33m╭─\u001b[0m\u001b[33m────────────────────────────────────── locals ───────────────────────────────────────\u001b[0m\u001b[33m─╮\u001b[0m \u001b[91m│\u001b[0m\n",
       "\u001b[91m│\u001b[0m \u001b[33m│\u001b[0m  case = \u001b[94mFalse\u001b[0m                                                                         \u001b[33m│\u001b[0m \u001b[91m│\u001b[0m\n",
       "\u001b[91m│\u001b[0m \u001b[33m│\u001b[0m     f = \u001b[1m<\u001b[0m\u001b[1;95mfunction\u001b[0m\u001b[39m ObjectStringArrayMixin._str_match.<locals\u001b[0m\u001b[1m>\u001b[0m.\u001b[1m<\u001b[0m\u001b[1;95mlambda\u001b[0m\u001b[1m>\u001b[0m at              \u001b[33m│\u001b[0m \u001b[91m│\u001b[0m\n",
       "\u001b[91m│\u001b[0m \u001b[33m│\u001b[0m         \u001b[94m0x2b895c75d940\u001b[0m>                                                               \u001b[33m│\u001b[0m \u001b[91m│\u001b[0m\n",
       "\u001b[91m│\u001b[0m \u001b[33m│\u001b[0m flags = re.IGNORECASE                                                                 \u001b[33m│\u001b[0m \u001b[91m│\u001b[0m\n",
       "\u001b[91m│\u001b[0m \u001b[33m│\u001b[0m    na = \u001b[94mNone\u001b[0m                                                                          \u001b[33m│\u001b[0m \u001b[91m│\u001b[0m\n",
       "\u001b[91m│\u001b[0m \u001b[33m│\u001b[0m   pat = \u001b[33m'^ $'\u001b[0m                                                                         \u001b[33m│\u001b[0m \u001b[91m│\u001b[0m\n",
       "\u001b[91m│\u001b[0m \u001b[33m│\u001b[0m regex = \u001b[1;35mre.compile\u001b[0m\u001b[1m(\u001b[0m\u001b[33m'^ $'\u001b[0m, re.IGNORECASE\u001b[1m)\u001b[0m                                              \u001b[33m│\u001b[0m \u001b[91m│\u001b[0m\n",
       "\u001b[91m│\u001b[0m \u001b[33m│\u001b[0m  self = \u001b[1m<\u001b[0m\u001b[1;95mPandasArray\u001b[0m\u001b[1m>\u001b[0m                                                                 \u001b[33m│\u001b[0m \u001b[91m│\u001b[0m\n",
       "\u001b[91m│\u001b[0m \u001b[33m│\u001b[0m         \u001b[1m[\u001b[0m                                   \u001b[33m'1.-.-.-'\u001b[0m,                                \u001b[33m│\u001b[0m \u001b[91m│\u001b[0m\n",
       "\u001b[91m│\u001b[0m \u001b[33m│\u001b[0m         \u001b[2m│   │   │   │   │   │   │   │   │   \u001b[0m\u001b[33m'1.-.-.-'\u001b[0m,                                \u001b[33m│\u001b[0m \u001b[91m│\u001b[0m\n",
       "\u001b[91m│\u001b[0m \u001b[33m│\u001b[0m         \u001b[2m│   │   │   │   │   │   │   │   │   \u001b[0m\u001b[33m'1.-.-.-'\u001b[0m,                                \u001b[33m│\u001b[0m \u001b[91m│\u001b[0m\n",
       "\u001b[91m│\u001b[0m \u001b[33m│\u001b[0m         \u001b[2m│   \u001b[0m\u001b[33m'10-formyltetrahydrofolate dehydrogenase'\u001b[0m,                                \u001b[33m│\u001b[0m \u001b[91m│\u001b[0m\n",
       "\u001b[91m│\u001b[0m \u001b[33m│\u001b[0m         \u001b[2m│   │   │   │   │   │   │   │   │   \u001b[0m\u001b[33m'1.1.-.-'\u001b[0m,                                \u001b[33m│\u001b[0m \u001b[91m│\u001b[0m\n",
       "\u001b[91m│\u001b[0m \u001b[33m│\u001b[0m         \u001b[2m│   │   │   │   │   │   │   │   │   \u001b[0m\u001b[33m'1.1.-.-'\u001b[0m,                                \u001b[33m│\u001b[0m \u001b[91m│\u001b[0m\n",
       "\u001b[91m│\u001b[0m \u001b[33m│\u001b[0m         \u001b[2m│   │   │   │   │   │   │   │   │   \u001b[0m\u001b[33m'1.1.-.-'\u001b[0m,                                \u001b[33m│\u001b[0m \u001b[91m│\u001b[0m\n",
       "\u001b[91m│\u001b[0m \u001b[33m│\u001b[0m         \u001b[2m│   │   │   │   │   │   │   │   │   \u001b[0m\u001b[33m'1.1.-.-'\u001b[0m,                                \u001b[33m│\u001b[0m \u001b[91m│\u001b[0m\n",
       "\u001b[91m│\u001b[0m \u001b[33m│\u001b[0m         \u001b[2m│   │   │   │   │   │   │   │   │   \u001b[0m\u001b[33m'1.1.-.-'\u001b[0m,                                \u001b[33m│\u001b[0m \u001b[91m│\u001b[0m\n",
       "\u001b[91m│\u001b[0m \u001b[33m│\u001b[0m         \u001b[2m│   │   │   │   │   │   │   │   │   \u001b[0m\u001b[33m'1.1.-.-'\u001b[0m,                                \u001b[33m│\u001b[0m \u001b[91m│\u001b[0m\n",
       "\u001b[91m│\u001b[0m \u001b[33m│\u001b[0m         \u001b[2m \u001b[0m\u001b[33m...\u001b[0m                                                                          \u001b[33m│\u001b[0m \u001b[91m│\u001b[0m\n",
       "\u001b[91m│\u001b[0m \u001b[33m│\u001b[0m         \u001b[2m│   │   │   │   │   │   │   │   \u001b[0m\u001b[33m'CELE_6R55.2'\u001b[0m,                                \u001b[33m│\u001b[0m \u001b[91m│\u001b[0m\n",
       "\u001b[91m│\u001b[0m \u001b[33m│\u001b[0m         \u001b[2m│   │   │   │   │   │   │   │      \u001b[0m\u001b[33m'FO080088'\u001b[0m,                                \u001b[33m│\u001b[0m \u001b[91m│\u001b[0m\n",
       "\u001b[91m│\u001b[0m \u001b[33m│\u001b[0m         \u001b[2m│   │   │   │   │   │   │   │     \u001b[0m\u001b[33m'NM_078462'\u001b[0m,                                \u001b[33m│\u001b[0m \u001b[91m│\u001b[0m\n",
       "\u001b[91m│\u001b[0m \u001b[33m│\u001b[0m         \u001b[2m│   │   │   │   │   │   │   │   \u001b[0m\u001b[33m'NM_078462.2'\u001b[0m,                                \u001b[33m│\u001b[0m \u001b[91m│\u001b[0m\n",
       "\u001b[91m│\u001b[0m \u001b[33m│\u001b[0m         \u001b[2m│   │   │   │   │   │   │   │     \u001b[0m\u001b[33m'NP_510863'\u001b[0m,                                \u001b[33m│\u001b[0m \u001b[91m│\u001b[0m\n",
       "\u001b[91m│\u001b[0m \u001b[33m│\u001b[0m         \u001b[2m│   │   │   │   │   │   │   │   \u001b[0m\u001b[33m'NP_510863.2'\u001b[0m,                                \u001b[33m│\u001b[0m \u001b[91m│\u001b[0m\n",
       "\u001b[91m│\u001b[0m \u001b[33m│\u001b[0m         \u001b[2m \u001b[0m\u001b[33m'Protein 6R55.2 \u001b[0m\u001b[1;33m(\u001b[0m\u001b[33m6R55.2\u001b[0m\u001b[1;33m)\u001b[0m\u001b[33m mRNA, complete cds'\u001b[0m,                                \u001b[33m│\u001b[0m \u001b[91m│\u001b[0m\n",
       "\u001b[91m│\u001b[0m \u001b[33m│\u001b[0m         \u001b[2m│   │   │   │   │   \u001b[0m\u001b[33m'Uncharacterized protein'\u001b[0m,                                \u001b[33m│\u001b[0m \u001b[91m│\u001b[0m\n",
       "\u001b[91m│\u001b[0m \u001b[33m│\u001b[0m         \u001b[2m│   │   │   │   │   │   │     \u001b[0m\u001b[33m'UPI0001DB04A1'\u001b[0m,                                \u001b[33m│\u001b[0m \u001b[91m│\u001b[0m\n",
       "\u001b[91m│\u001b[0m \u001b[33m│\u001b[0m         \u001b[2m│   │   │   │   │   │   │    \u001b[0m\u001b[33m'WBGene00007069'\u001b[0m\u001b[1m]\u001b[0m                                \u001b[33m│\u001b[0m \u001b[91m│\u001b[0m\n",
       "\u001b[91m│\u001b[0m \u001b[33m│\u001b[0m         Length: \u001b[94m440652\u001b[0m, dtype: object                                                 \u001b[33m│\u001b[0m \u001b[91m│\u001b[0m\n",
       "\u001b[91m│\u001b[0m \u001b[33m╰───────────────────────────────────────────────────────────────────────────────────────╯\u001b[0m \u001b[91m│\u001b[0m\n",
       "\u001b[91m│\u001b[0m                                                                                           \u001b[91m│\u001b[0m\n",
       "\u001b[91m│\u001b[0m \u001b[2;33m/home/rahit/.cache/pypoetry/virtualenvs/gemo-data-DHiuQg47-py3.8/lib/python3.8/site-packa\u001b[0m \u001b[91m│\u001b[0m\n",
       "\u001b[91m│\u001b[0m \u001b[2;33mges/pandas/core/strings/\u001b[0m\u001b[1;33mobject_array.py\u001b[0m:\u001b[94m71\u001b[0m in \u001b[92m_str_map\u001b[0m                                    \u001b[91m│\u001b[0m\n",
       "\u001b[91m│\u001b[0m                                                                                           \u001b[91m│\u001b[0m\n",
       "\u001b[91m│\u001b[0m   \u001b[2m 68 \u001b[0m\u001b[2m│   │   \u001b[0mmask = isna(arr)                                                            \u001b[91m│\u001b[0m\n",
       "\u001b[91m│\u001b[0m   \u001b[2m 69 \u001b[0m\u001b[2m│   │   \u001b[0mmap_convert = convert \u001b[95mand\u001b[0m \u001b[95mnot\u001b[0m np.all(mask)                                  \u001b[91m│\u001b[0m\n",
       "\u001b[91m│\u001b[0m   \u001b[2m 70 \u001b[0m\u001b[2m│   │   \u001b[0m\u001b[94mtry\u001b[0m:                                                                        \u001b[91m│\u001b[0m\n",
       "\u001b[91m│\u001b[0m \u001b[31m❱ \u001b[0m 71 \u001b[2m│   │   │   \u001b[0mresult = lib.map_infer_mask(arr, f, mask.view(np.uint8), map_convert)   \u001b[91m│\u001b[0m\n",
       "\u001b[91m│\u001b[0m   \u001b[2m 72 \u001b[0m\u001b[2m│   │   \u001b[0m\u001b[94mexcept\u001b[0m (\u001b[96mTypeError\u001b[0m, \u001b[96mAttributeError\u001b[0m) \u001b[94mas\u001b[0m err:                                  \u001b[91m│\u001b[0m\n",
       "\u001b[91m│\u001b[0m   \u001b[2m 73 \u001b[0m\u001b[2m│   │   │   \u001b[0m\u001b[2m# Reraise the exception if callable `f` got wrong number of args.\u001b[0m       \u001b[91m│\u001b[0m\n",
       "\u001b[91m│\u001b[0m   \u001b[2m 74 \u001b[0m\u001b[2m│   │   │   \u001b[0m\u001b[2m# The user may want to be warned by this, instead of getting NaN\u001b[0m        \u001b[91m│\u001b[0m\n",
       "\u001b[91m│\u001b[0m                                                                                           \u001b[91m│\u001b[0m\n",
       "\u001b[91m│\u001b[0m \u001b[33m╭─\u001b[0m\u001b[33m────────────────────────────────────── locals ───────────────────────────────────────\u001b[0m\u001b[33m─╮\u001b[0m \u001b[91m│\u001b[0m\n",
       "\u001b[91m│\u001b[0m \u001b[33m│\u001b[0m         arr = \u001b[1;35marray\u001b[0m\u001b[1m(\u001b[0m\u001b[1m[\u001b[0m\u001b[33m'1.-.-.-'\u001b[0m, \u001b[33m'1.-.-.-'\u001b[0m, \u001b[33m'1.-.-.-'\u001b[0m, \u001b[33m...\u001b[0m, \u001b[33m'Uncharacterized protein'\u001b[0m, \u001b[33m│\u001b[0m \u001b[91m│\u001b[0m\n",
       "\u001b[91m│\u001b[0m \u001b[33m│\u001b[0m               \u001b[2m│      \u001b[0m\u001b[33m'UPI0001DB04A1'\u001b[0m, \u001b[33m'WBGene00007069'\u001b[0m\u001b[1m]\u001b[0m, \u001b[33mdtype\u001b[0m=\u001b[35mobject\u001b[0m\u001b[1m)\u001b[0m                \u001b[33m│\u001b[0m \u001b[91m│\u001b[0m\n",
       "\u001b[91m│\u001b[0m \u001b[33m│\u001b[0m     convert = \u001b[94mTrue\u001b[0m                                                                    \u001b[33m│\u001b[0m \u001b[91m│\u001b[0m\n",
       "\u001b[91m│\u001b[0m \u001b[33m│\u001b[0m       dtype = \u001b[1;35mdtype\u001b[0m\u001b[1m(\u001b[0m\u001b[33m'bool'\u001b[0m\u001b[1m)\u001b[0m                                                           \u001b[33m│\u001b[0m \u001b[91m│\u001b[0m\n",
       "\u001b[91m│\u001b[0m \u001b[33m│\u001b[0m           f = \u001b[1m<\u001b[0m\u001b[1;95mfunction\u001b[0m\u001b[39m ObjectStringArrayMixin._str_match.<locals\u001b[0m\u001b[1m>\u001b[0m.\u001b[1m<\u001b[0m\u001b[1;95mlambda\u001b[0m\u001b[1m>\u001b[0m at        \u001b[33m│\u001b[0m \u001b[91m│\u001b[0m\n",
       "\u001b[91m│\u001b[0m \u001b[33m│\u001b[0m               \u001b[94m0x2b895c75d940\u001b[0m>                                                         \u001b[33m│\u001b[0m \u001b[91m│\u001b[0m\n",
       "\u001b[91m│\u001b[0m \u001b[33m│\u001b[0m map_convert = \u001b[94mTrue\u001b[0m                                                                    \u001b[33m│\u001b[0m \u001b[91m│\u001b[0m\n",
       "\u001b[91m│\u001b[0m \u001b[33m│\u001b[0m        mask = \u001b[1;35marray\u001b[0m\u001b[1m(\u001b[0m\u001b[1m[\u001b[0m\u001b[94mFalse\u001b[0m, \u001b[94mFalse\u001b[0m, \u001b[94mFalse\u001b[0m, \u001b[33m...\u001b[0m, \u001b[94mFalse\u001b[0m, \u001b[94mFalse\u001b[0m, \u001b[94mFalse\u001b[0m\u001b[1m]\u001b[0m\u001b[1m)\u001b[0m                  \u001b[33m│\u001b[0m \u001b[91m│\u001b[0m\n",
       "\u001b[91m│\u001b[0m \u001b[33m│\u001b[0m    na_value = nan                                                                     \u001b[33m│\u001b[0m \u001b[91m│\u001b[0m\n",
       "\u001b[91m│\u001b[0m \u001b[33m│\u001b[0m        self = \u001b[1m<\u001b[0m\u001b[1;95mPandasArray\u001b[0m\u001b[1m>\u001b[0m                                                           \u001b[33m│\u001b[0m \u001b[91m│\u001b[0m\n",
       "\u001b[91m│\u001b[0m \u001b[33m│\u001b[0m               \u001b[1m[\u001b[0m                                   \u001b[33m'1.-.-.-'\u001b[0m,                          \u001b[33m│\u001b[0m \u001b[91m│\u001b[0m\n",
       "\u001b[91m│\u001b[0m \u001b[33m│\u001b[0m               \u001b[2m│   │   │   │   │   │   │   │   │   \u001b[0m\u001b[33m'1.-.-.-'\u001b[0m,                          \u001b[33m│\u001b[0m \u001b[91m│\u001b[0m\n",
       "\u001b[91m│\u001b[0m \u001b[33m│\u001b[0m               \u001b[2m│   │   │   │   │   │   │   │   │   \u001b[0m\u001b[33m'1.-.-.-'\u001b[0m,                          \u001b[33m│\u001b[0m \u001b[91m│\u001b[0m\n",
       "\u001b[91m│\u001b[0m \u001b[33m│\u001b[0m               \u001b[2m│   \u001b[0m\u001b[33m'10-formyltetrahydrofolate dehydrogenase'\u001b[0m,                          \u001b[33m│\u001b[0m \u001b[91m│\u001b[0m\n",
       "\u001b[91m│\u001b[0m \u001b[33m│\u001b[0m               \u001b[2m│   │   │   │   │   │   │   │   │   \u001b[0m\u001b[33m'1.1.-.-'\u001b[0m,                          \u001b[33m│\u001b[0m \u001b[91m│\u001b[0m\n",
       "\u001b[91m│\u001b[0m \u001b[33m│\u001b[0m               \u001b[2m│   │   │   │   │   │   │   │   │   \u001b[0m\u001b[33m'1.1.-.-'\u001b[0m,                          \u001b[33m│\u001b[0m \u001b[91m│\u001b[0m\n",
       "\u001b[91m│\u001b[0m \u001b[33m│\u001b[0m               \u001b[2m│   │   │   │   │   │   │   │   │   \u001b[0m\u001b[33m'1.1.-.-'\u001b[0m,                          \u001b[33m│\u001b[0m \u001b[91m│\u001b[0m\n",
       "\u001b[91m│\u001b[0m \u001b[33m│\u001b[0m               \u001b[2m│   │   │   │   │   │   │   │   │   \u001b[0m\u001b[33m'1.1.-.-'\u001b[0m,                          \u001b[33m│\u001b[0m \u001b[91m│\u001b[0m\n",
       "\u001b[91m│\u001b[0m \u001b[33m│\u001b[0m               \u001b[2m│   │   │   │   │   │   │   │   │   \u001b[0m\u001b[33m'1.1.-.-'\u001b[0m,                          \u001b[33m│\u001b[0m \u001b[91m│\u001b[0m\n",
       "\u001b[91m│\u001b[0m \u001b[33m│\u001b[0m               \u001b[2m│   │   │   │   │   │   │   │   │   \u001b[0m\u001b[33m'1.1.-.-'\u001b[0m,                          \u001b[33m│\u001b[0m \u001b[91m│\u001b[0m\n",
       "\u001b[91m│\u001b[0m \u001b[33m│\u001b[0m               \u001b[2m \u001b[0m\u001b[33m...\u001b[0m                                                                    \u001b[33m│\u001b[0m \u001b[91m│\u001b[0m\n",
       "\u001b[91m│\u001b[0m \u001b[33m│\u001b[0m               \u001b[2m│   │   │   │   │   │   │   │   \u001b[0m\u001b[33m'CELE_6R55.2'\u001b[0m,                          \u001b[33m│\u001b[0m \u001b[91m│\u001b[0m\n",
       "\u001b[91m│\u001b[0m \u001b[33m│\u001b[0m               \u001b[2m│   │   │   │   │   │   │   │      \u001b[0m\u001b[33m'FO080088'\u001b[0m,                          \u001b[33m│\u001b[0m \u001b[91m│\u001b[0m\n",
       "\u001b[91m│\u001b[0m \u001b[33m│\u001b[0m               \u001b[2m│   │   │   │   │   │   │   │     \u001b[0m\u001b[33m'NM_078462'\u001b[0m,                          \u001b[33m│\u001b[0m \u001b[91m│\u001b[0m\n",
       "\u001b[91m│\u001b[0m \u001b[33m│\u001b[0m               \u001b[2m│   │   │   │   │   │   │   │   \u001b[0m\u001b[33m'NM_078462.2'\u001b[0m,                          \u001b[33m│\u001b[0m \u001b[91m│\u001b[0m\n",
       "\u001b[91m│\u001b[0m \u001b[33m│\u001b[0m               \u001b[2m│   │   │   │   │   │   │   │     \u001b[0m\u001b[33m'NP_510863'\u001b[0m,                          \u001b[33m│\u001b[0m \u001b[91m│\u001b[0m\n",
       "\u001b[91m│\u001b[0m \u001b[33m│\u001b[0m               \u001b[2m│   │   │   │   │   │   │   │   \u001b[0m\u001b[33m'NP_510863.2'\u001b[0m,                          \u001b[33m│\u001b[0m \u001b[91m│\u001b[0m\n",
       "\u001b[91m│\u001b[0m \u001b[33m│\u001b[0m               \u001b[2m \u001b[0m\u001b[33m'Protein 6R55.2 \u001b[0m\u001b[1;33m(\u001b[0m\u001b[33m6R55.2\u001b[0m\u001b[1;33m)\u001b[0m\u001b[33m mRNA, complete cds'\u001b[0m,                          \u001b[33m│\u001b[0m \u001b[91m│\u001b[0m\n",
       "\u001b[91m│\u001b[0m \u001b[33m│\u001b[0m               \u001b[2m│   │   │   │   │   \u001b[0m\u001b[33m'Uncharacterized protein'\u001b[0m,                          \u001b[33m│\u001b[0m \u001b[91m│\u001b[0m\n",
       "\u001b[91m│\u001b[0m \u001b[33m│\u001b[0m               \u001b[2m│   │   │   │   │   │   │     \u001b[0m\u001b[33m'UPI0001DB04A1'\u001b[0m,                          \u001b[33m│\u001b[0m \u001b[91m│\u001b[0m\n",
       "\u001b[91m│\u001b[0m \u001b[33m│\u001b[0m               \u001b[2m│   │   │   │   │   │   │    \u001b[0m\u001b[33m'WBGene00007069'\u001b[0m\u001b[1m]\u001b[0m                          \u001b[33m│\u001b[0m \u001b[91m│\u001b[0m\n",
       "\u001b[91m│\u001b[0m \u001b[33m│\u001b[0m               Length: \u001b[94m440652\u001b[0m, dtype: object                                           \u001b[33m│\u001b[0m \u001b[91m│\u001b[0m\n",
       "\u001b[91m│\u001b[0m \u001b[33m╰───────────────────────────────────────────────────────────────────────────────────────╯\u001b[0m \u001b[91m│\u001b[0m\n",
       "\u001b[91m╰───────────────────────────────────────────────────────────────────────────────────────────╯\u001b[0m\n",
       "\u001b[1;91mKeyboardInterrupt\u001b[0m\n"
      ]
     },
     "metadata": {},
     "output_type": "display_data"
    }
   ],
   "source": [
    "for p in tqdm(pairs):\n",
    "    score = get_interaction_score(p[0], p[1], protein_interaction_df, protein_alias_df)\n",
    "    if score:\n",
    "        G.add_edge(v_invmap[p[0]], v_invmap[p[1]], weight=score )"
   ]
  },
  {
   "cell_type": "code",
   "execution_count": null,
   "id": "bc451c4a-0e0f-4d97-b894-0bf62a1d8c0d",
   "metadata": {
    "tags": []
   },
   "outputs": [],
   "source": [
    "groups = df.groupby('Sample')\n",
    "\n",
    "for g in groups:\n",
    "    pairs = []\n",
    "    for # check list if pair exist"
   ]
  },
  {
   "cell_type": "code",
   "execution_count": null,
   "id": "a840c1b8-bc19-42f5-83b4-17f836e712eb",
   "metadata": {},
   "outputs": [],
   "source": []
  },
  {
   "cell_type": "code",
   "execution_count": null,
   "id": "ff070bf8-be77-4ef0-8f89-e893d7b18a7e",
   "metadata": {},
   "outputs": [],
   "source": []
  },
  {
   "cell_type": "code",
   "execution_count": null,
   "id": "2ff833be-6e5d-4c58-a183-e714f80c8c10",
   "metadata": {},
   "outputs": [],
   "source": []
  },
  {
   "cell_type": "code",
   "execution_count": null,
   "id": "e20de300-f9bf-4072-b084-7e4d97ac5097",
   "metadata": {},
   "outputs": [],
   "source": []
  },
  {
   "cell_type": "code",
   "execution_count": null,
   "id": "b75bddda-efff-4db7-b89b-b70657567fd0",
   "metadata": {},
   "outputs": [],
   "source": []
  },
  {
   "cell_type": "code",
   "execution_count": null,
   "id": "bb09b808-9bc6-480d-be95-a5bd372b2c9e",
   "metadata": {},
   "outputs": [],
   "source": []
  },
  {
   "cell_type": "code",
   "execution_count": null,
   "id": "437f0a2f-1066-4bc6-bfee-c8043a7deaf2",
   "metadata": {},
   "outputs": [],
   "source": []
  },
  {
   "cell_type": "code",
   "execution_count": null,
   "id": "2773b90d-7bc8-44ef-99ea-719490917b5b",
   "metadata": {},
   "outputs": [],
   "source": []
  },
  {
   "cell_type": "code",
   "execution_count": null,
   "id": "ca944706-48aa-4c47-a5e3-92129f6c6c9d",
   "metadata": {},
   "outputs": [],
   "source": []
  },
  {
   "cell_type": "code",
   "execution_count": null,
   "id": "4abc35c4-2a0f-4f92-a543-e4914925d12c",
   "metadata": {},
   "outputs": [],
   "source": []
  },
  {
   "cell_type": "code",
   "execution_count": null,
   "id": "403454f8-3d54-4e28-9126-7baf2620c4e8",
   "metadata": {},
   "outputs": [],
   "source": []
  },
  {
   "cell_type": "markdown",
   "id": "aa17e9c2-1686-4bc2-8ad4-f29654db34dd",
   "metadata": {},
   "source": [
    "## Edge list with no node features (zero valued) and GO similarity as edge weight"
   ]
  },
  {
   "cell_type": "code",
   "execution_count": 77,
   "id": "0acfb899-5bec-4c21-9533-18d452233a8c",
   "metadata": {},
   "outputs": [
    {
     "data": {
      "text/html": [
       "<pre style=\"white-space:pre;overflow-x:auto;line-height:normal;font-family:Menlo,'DejaVu Sans Mono',consolas,'Courier New',monospace\"><span style=\"color: #008080; text-decoration-color: #008080; font-weight: bold\">268278</span>\n",
       "</pre>\n"
      ],
      "text/plain": [
       "\u001b[1;36m268278\u001b[0m\n"
      ]
     },
     "metadata": {},
     "output_type": "display_data"
    }
   ],
   "source": [
    "src = df['wormbase_gene_id'].values\n",
    "tgt = df['target_gene_id'].values\n",
    "len(src)\n",
    "# node_sets = [np.union1d(G[0].values, G[1].values) for G in self.graphs]\n",
    "# union = reduce(np.union1d, node_sets)\n",
    "# return node_sets, union"
   ]
  },
  {
   "cell_type": "markdown",
   "id": "2574bfbe-44eb-4c39-b30b-2236ac273c33",
   "metadata": {},
   "source": [
    "Creating hashmap for the gene/nodes"
   ]
  },
  {
   "cell_type": "code",
   "execution_count": 78,
   "id": "1cb0799d-68a3-459d-9f2d-3770afa44ed8",
   "metadata": {},
   "outputs": [
    {
     "data": {
      "text/html": [
       "<pre style=\"white-space:pre;overflow-x:auto;line-height:normal;font-family:Menlo,'DejaVu Sans Mono',consolas,'Courier New',monospace\"><span style=\"color: #008080; text-decoration-color: #008080; font-weight: bold\">733</span>\n",
       "</pre>\n"
      ],
      "text/plain": [
       "\u001b[1;36m733\u001b[0m\n"
      ]
     },
     "metadata": {},
     "output_type": "display_data"
    }
   ],
   "source": [
    "v = np.union1d(src, tgt)\n",
    "v_hashmap = dict(enumerate(v))\n",
    "v_invmap = {v: k for k, v in v_hashmap.items()}\n",
    "len(v_hashmap.keys())"
   ]
  },
  {
   "cell_type": "code",
   "execution_count": 79,
   "id": "7930075f-97df-4b1e-bf44-48925b3a2633",
   "metadata": {},
   "outputs": [
    {
     "data": {
      "text/html": [
       "<div>\n",
       "<style scoped>\n",
       "    .dataframe tbody tr th:only-of-type {\n",
       "        vertical-align: middle;\n",
       "    }\n",
       "\n",
       "    .dataframe tbody tr th {\n",
       "        vertical-align: top;\n",
       "    }\n",
       "\n",
       "    .dataframe thead th {\n",
       "        text-align: right;\n",
       "    }\n",
       "</style>\n",
       "<table border=\"1\" class=\"dataframe\">\n",
       "  <thead>\n",
       "    <tr style=\"text-align: right;\">\n",
       "      <th></th>\n",
       "      <th>wormbase_gene_id</th>\n",
       "      <th>target_gene_id</th>\n",
       "      <th>go_n_common_ancestors_max</th>\n",
       "      <th>go_n_common_ancestors_avg</th>\n",
       "      <th>go_n_common_ancestors_bma</th>\n",
       "      <th>go_n_union_ancestors_max</th>\n",
       "      <th>go_n_union_ancestors_avg</th>\n",
       "      <th>go_n_union_ancestors_bma</th>\n",
       "      <th>go_batet_max</th>\n",
       "      <th>go_batet_avg</th>\n",
       "      <th>...</th>\n",
       "      <th>wpo_lin_avg</th>\n",
       "      <th>wpo_lin_bma</th>\n",
       "      <th>wpo_jiang_max</th>\n",
       "      <th>wpo_jiang_avg</th>\n",
       "      <th>wpo_jiang_bma</th>\n",
       "      <th>wpo_jiang_seco_max</th>\n",
       "      <th>wpo_jiang_seco_avg</th>\n",
       "      <th>wpo_jiang_seco_bma</th>\n",
       "      <th>vx</th>\n",
       "      <th>vy</th>\n",
       "    </tr>\n",
       "  </thead>\n",
       "  <tbody>\n",
       "    <tr>\n",
       "      <th>0</th>\n",
       "      <td>WBGene00013931</td>\n",
       "      <td>WBGene00013177</td>\n",
       "      <td>2.0</td>\n",
       "      <td>2.00</td>\n",
       "      <td>2.0</td>\n",
       "      <td>19.0</td>\n",
       "      <td>11.000000</td>\n",
       "      <td>12.600000</td>\n",
       "      <td>0.500000</td>\n",
       "      <td>0.500000</td>\n",
       "      <td>...</td>\n",
       "      <td>0.120405</td>\n",
       "      <td>0.120405</td>\n",
       "      <td>0.073647</td>\n",
       "      <td>0.073647</td>\n",
       "      <td>0.073647</td>\n",
       "      <td>0.145140</td>\n",
       "      <td>0.145140</td>\n",
       "      <td>0.145140</td>\n",
       "      <td>451</td>\n",
       "      <td>420</td>\n",
       "    </tr>\n",
       "    <tr>\n",
       "      <th>1</th>\n",
       "      <td>WBGene00013931</td>\n",
       "      <td>WBGene00021689</td>\n",
       "      <td>2.0</td>\n",
       "      <td>2.00</td>\n",
       "      <td>2.0</td>\n",
       "      <td>89.0</td>\n",
       "      <td>46.200000</td>\n",
       "      <td>53.333333</td>\n",
       "      <td>0.133333</td>\n",
       "      <td>0.077903</td>\n",
       "      <td>...</td>\n",
       "      <td>0.136612</td>\n",
       "      <td>0.140814</td>\n",
       "      <td>0.092446</td>\n",
       "      <td>0.084209</td>\n",
       "      <td>0.086955</td>\n",
       "      <td>0.332797</td>\n",
       "      <td>0.253088</td>\n",
       "      <td>0.279658</td>\n",
       "      <td>451</td>\n",
       "      <td>668</td>\n",
       "    </tr>\n",
       "    <tr>\n",
       "      <th>2</th>\n",
       "      <td>WBGene00013931</td>\n",
       "      <td>WBGene00004225</td>\n",
       "      <td>0.0</td>\n",
       "      <td>0.00</td>\n",
       "      <td>0.0</td>\n",
       "      <td>18.0</td>\n",
       "      <td>10.666667</td>\n",
       "      <td>11.714286</td>\n",
       "      <td>0.000000</td>\n",
       "      <td>0.000000</td>\n",
       "      <td>...</td>\n",
       "      <td>0.349787</td>\n",
       "      <td>0.418544</td>\n",
       "      <td>0.137472</td>\n",
       "      <td>0.081294</td>\n",
       "      <td>0.089319</td>\n",
       "      <td>0.573584</td>\n",
       "      <td>0.165064</td>\n",
       "      <td>0.223424</td>\n",
       "      <td>451</td>\n",
       "      <td>137</td>\n",
       "    </tr>\n",
       "    <tr>\n",
       "      <th>3</th>\n",
       "      <td>WBGene00013931</td>\n",
       "      <td>WBGene00006771</td>\n",
       "      <td>2.0</td>\n",
       "      <td>1.75</td>\n",
       "      <td>1.8</td>\n",
       "      <td>32.0</td>\n",
       "      <td>12.631579</td>\n",
       "      <td>13.600000</td>\n",
       "      <td>0.333333</td>\n",
       "      <td>0.221491</td>\n",
       "      <td>...</td>\n",
       "      <td>0.221559</td>\n",
       "      <td>0.231321</td>\n",
       "      <td>0.140949</td>\n",
       "      <td>0.082794</td>\n",
       "      <td>0.083981</td>\n",
       "      <td>0.585782</td>\n",
       "      <td>0.207192</td>\n",
       "      <td>0.214919</td>\n",
       "      <td>451</td>\n",
       "      <td>208</td>\n",
       "    </tr>\n",
       "    <tr>\n",
       "      <th>4</th>\n",
       "      <td>WBGene00013931</td>\n",
       "      <td>WBGene00021771</td>\n",
       "      <td>2.0</td>\n",
       "      <td>2.00</td>\n",
       "      <td>2.0</td>\n",
       "      <td>45.0</td>\n",
       "      <td>26.666667</td>\n",
       "      <td>31.250000</td>\n",
       "      <td>0.333333</td>\n",
       "      <td>0.333333</td>\n",
       "      <td>...</td>\n",
       "      <td>0.120484</td>\n",
       "      <td>0.120568</td>\n",
       "      <td>0.073968</td>\n",
       "      <td>0.073698</td>\n",
       "      <td>0.073752</td>\n",
       "      <td>0.149139</td>\n",
       "      <td>0.145779</td>\n",
       "      <td>0.146451</td>\n",
       "      <td>451</td>\n",
       "      <td>669</td>\n",
       "    </tr>\n",
       "  </tbody>\n",
       "</table>\n",
       "<p>5 rows × 58 columns</p>\n",
       "</div>"
      ]
     },
     "execution_count": 79,
     "metadata": {},
     "output_type": "execute_result"
    }
   ],
   "source": [
    "df['vx'] = df.apply(lambda r: v_invmap[r['wormbase_gene_id']], axis=1)\n",
    "df['vy'] = df.apply(lambda r: v_invmap[r['target_gene_id']], axis=1)\n",
    "df.head()"
   ]
  },
  {
   "cell_type": "markdown",
   "id": "6428a494-e8df-4a70-9b60-860f1748b3c1",
   "metadata": {},
   "source": [
    "Create Tensors for PyG object"
   ]
  },
  {
   "cell_type": "code",
   "execution_count": 80,
   "id": "36e1e428-271b-479b-b2eb-3f903b1828d4",
   "metadata": {},
   "outputs": [
    {
     "data": {
      "text/html": [
       "<pre style=\"white-space:pre;overflow-x:auto;line-height:normal;font-family:Menlo,'DejaVu Sans Mono',consolas,'Courier New',monospace\"><span style=\"font-weight: bold\">[</span><span style=\"color: #008080; text-decoration-color: #008080; font-weight: bold\">451</span> <span style=\"color: #008080; text-decoration-color: #008080; font-weight: bold\">451</span> <span style=\"color: #008080; text-decoration-color: #008080; font-weight: bold\">451</span> <span style=\"color: #808000; text-decoration-color: #808000\">...</span> <span style=\"color: #008080; text-decoration-color: #008080; font-weight: bold\">252</span> <span style=\"color: #008080; text-decoration-color: #008080; font-weight: bold\">252</span> <span style=\"color: #008080; text-decoration-color: #008080; font-weight: bold\">522</span><span style=\"font-weight: bold\">]</span> <span style=\"font-weight: bold\">[</span><span style=\"color: #008080; text-decoration-color: #008080; font-weight: bold\">420</span> <span style=\"color: #008080; text-decoration-color: #008080; font-weight: bold\">668</span> <span style=\"color: #008080; text-decoration-color: #008080; font-weight: bold\">137</span> <span style=\"color: #808000; text-decoration-color: #808000\">...</span> <span style=\"color: #008080; text-decoration-color: #008080; font-weight: bold\">522</span> <span style=\"color: #008080; text-decoration-color: #008080; font-weight: bold\">227</span> <span style=\"color: #008080; text-decoration-color: #008080; font-weight: bold\">227</span><span style=\"font-weight: bold\">]</span> <span style=\"font-weight: bold\">[</span><span style=\"color: #008080; text-decoration-color: #008080; font-weight: bold\">0.5</span>        <span style=\"color: #008080; text-decoration-color: #008080; font-weight: bold\">0.09637953</span> <span style=\"color: #008080; text-decoration-color: #008080; font-weight: bold\">0</span>.        \n",
       "<span style=\"color: #808000; text-decoration-color: #808000\">...</span> <span style=\"color: #008080; text-decoration-color: #008080; font-weight: bold\">0.45518207</span> <span style=\"color: #008080; text-decoration-color: #008080; font-weight: bold\">0.39176449</span> <span style=\"color: #008080; text-decoration-color: #008080; font-weight: bold\">0.2168107</span> <span style=\"font-weight: bold\">]</span>\n",
       "</pre>\n"
      ],
      "text/plain": [
       "\u001b[1m[\u001b[0m\u001b[1;36m451\u001b[0m \u001b[1;36m451\u001b[0m \u001b[1;36m451\u001b[0m \u001b[33m...\u001b[0m \u001b[1;36m252\u001b[0m \u001b[1;36m252\u001b[0m \u001b[1;36m522\u001b[0m\u001b[1m]\u001b[0m \u001b[1m[\u001b[0m\u001b[1;36m420\u001b[0m \u001b[1;36m668\u001b[0m \u001b[1;36m137\u001b[0m \u001b[33m...\u001b[0m \u001b[1;36m522\u001b[0m \u001b[1;36m227\u001b[0m \u001b[1;36m227\u001b[0m\u001b[1m]\u001b[0m \u001b[1m[\u001b[0m\u001b[1;36m0.5\u001b[0m        \u001b[1;36m0.09637953\u001b[0m \u001b[1;36m0\u001b[0m.        \n",
       "\u001b[33m...\u001b[0m \u001b[1;36m0.45518207\u001b[0m \u001b[1;36m0.39176449\u001b[0m \u001b[1;36m0.2168107\u001b[0m \u001b[1m]\u001b[0m\n"
      ]
     },
     "metadata": {},
     "output_type": "display_data"
    }
   ],
   "source": [
    "vx = df['vx'].to_numpy()\n",
    "vy = df['vy'].to_numpy()\n",
    "e = df['go_batet_bma'].to_numpy()\n",
    "print(vx, vy, e)"
   ]
  },
  {
   "cell_type": "code",
   "execution_count": 81,
   "id": "f6039bb5-2c91-4270-9f23-67d1a7823525",
   "metadata": {},
   "outputs": [],
   "source": [
    "nodes = np.union1d(vx,vy)\n",
    "n = len(nodes)"
   ]
  },
  {
   "cell_type": "code",
   "execution_count": 82,
   "id": "2369020b-e1ef-4595-9889-741eb33945d5",
   "metadata": {},
   "outputs": [
    {
     "data": {
      "text/html": [
       "<pre style=\"white-space:pre;overflow-x:auto;line-height:normal;font-family:Menlo,'DejaVu Sans Mono',consolas,'Courier New',monospace\"><span style=\"color: #800080; text-decoration-color: #800080; font-weight: bold\">tensor</span><span style=\"font-weight: bold\">([[</span><span style=\"color: #008080; text-decoration-color: #008080; font-weight: bold\">451</span>, <span style=\"color: #008080; text-decoration-color: #008080; font-weight: bold\">451</span>, <span style=\"color: #008080; text-decoration-color: #008080; font-weight: bold\">451</span>,  <span style=\"color: #808000; text-decoration-color: #808000\">...</span>, <span style=\"color: #008080; text-decoration-color: #008080; font-weight: bold\">252</span>, <span style=\"color: #008080; text-decoration-color: #008080; font-weight: bold\">252</span>, <span style=\"color: #008080; text-decoration-color: #008080; font-weight: bold\">522</span><span style=\"font-weight: bold\">]</span>,\n",
       "        <span style=\"font-weight: bold\">[</span><span style=\"color: #008080; text-decoration-color: #008080; font-weight: bold\">420</span>, <span style=\"color: #008080; text-decoration-color: #008080; font-weight: bold\">668</span>, <span style=\"color: #008080; text-decoration-color: #008080; font-weight: bold\">137</span>,  <span style=\"color: #808000; text-decoration-color: #808000\">...</span>, <span style=\"color: #008080; text-decoration-color: #008080; font-weight: bold\">522</span>, <span style=\"color: #008080; text-decoration-color: #008080; font-weight: bold\">227</span>, <span style=\"color: #008080; text-decoration-color: #008080; font-weight: bold\">227</span><span style=\"font-weight: bold\">]])</span> <span style=\"color: #800080; text-decoration-color: #800080; font-weight: bold\">tensor</span><span style=\"font-weight: bold\">([</span><span style=\"color: #008080; text-decoration-color: #008080; font-weight: bold\">0.5000</span>, <span style=\"color: #008080; text-decoration-color: #008080; font-weight: bold\">0.0964</span>, <span style=\"color: #008080; text-decoration-color: #008080; font-weight: bold\">0.0000</span>,  <span style=\"color: #808000; text-decoration-color: #808000\">...</span>, <span style=\"color: #008080; text-decoration-color: #008080; font-weight: bold\">0.4552</span>, \n",
       "<span style=\"color: #008080; text-decoration-color: #008080; font-weight: bold\">0.3918</span>, <span style=\"color: #008080; text-decoration-color: #008080; font-weight: bold\">0.2168</span><span style=\"font-weight: bold\">])</span>\n",
       "</pre>\n"
      ],
      "text/plain": [
       "\u001b[1;35mtensor\u001b[0m\u001b[1m(\u001b[0m\u001b[1m[\u001b[0m\u001b[1m[\u001b[0m\u001b[1;36m451\u001b[0m, \u001b[1;36m451\u001b[0m, \u001b[1;36m451\u001b[0m,  \u001b[33m...\u001b[0m, \u001b[1;36m252\u001b[0m, \u001b[1;36m252\u001b[0m, \u001b[1;36m522\u001b[0m\u001b[1m]\u001b[0m,\n",
       "        \u001b[1m[\u001b[0m\u001b[1;36m420\u001b[0m, \u001b[1;36m668\u001b[0m, \u001b[1;36m137\u001b[0m,  \u001b[33m...\u001b[0m, \u001b[1;36m522\u001b[0m, \u001b[1;36m227\u001b[0m, \u001b[1;36m227\u001b[0m\u001b[1m]\u001b[0m\u001b[1m]\u001b[0m\u001b[1m)\u001b[0m \u001b[1;35mtensor\u001b[0m\u001b[1m(\u001b[0m\u001b[1m[\u001b[0m\u001b[1;36m0.5000\u001b[0m, \u001b[1;36m0.0964\u001b[0m, \u001b[1;36m0.0000\u001b[0m,  \u001b[33m...\u001b[0m, \u001b[1;36m0.4552\u001b[0m, \n",
       "\u001b[1;36m0.3918\u001b[0m, \u001b[1;36m0.2168\u001b[0m\u001b[1m]\u001b[0m\u001b[1m)\u001b[0m\n"
      ]
     },
     "metadata": {},
     "output_type": "display_data"
    }
   ],
   "source": [
    "edge_index = torch.tensor(np.array([vx, vy]), dtype=torch.long)\n",
    "edge_attr = torch.tensor(e, dtype=torch.float)\n",
    "print(edge_index, edge_attr)"
   ]
  },
  {
   "cell_type": "code",
   "execution_count": 83,
   "id": "6138f67e-e926-4ec9-9746-a956483f0960",
   "metadata": {},
   "outputs": [
    {
     "data": {
      "text/html": [
       "<pre style=\"white-space:pre;overflow-x:auto;line-height:normal;font-family:Menlo,'DejaVu Sans Mono',consolas,'Courier New',monospace\"><span style=\"color: #800080; text-decoration-color: #800080; font-weight: bold\">Data</span><span style=\"font-weight: bold\">(</span><span style=\"color: #808000; text-decoration-color: #808000\">x</span>=<span style=\"font-weight: bold\">[</span><span style=\"color: #008080; text-decoration-color: #008080; font-weight: bold\">733</span>, <span style=\"color: #008080; text-decoration-color: #008080; font-weight: bold\">3</span><span style=\"font-weight: bold\">]</span>, <span style=\"color: #808000; text-decoration-color: #808000\">edge_index</span>=<span style=\"font-weight: bold\">[</span><span style=\"color: #008080; text-decoration-color: #008080; font-weight: bold\">2</span>, <span style=\"color: #008080; text-decoration-color: #008080; font-weight: bold\">268278</span><span style=\"font-weight: bold\">]</span>, <span style=\"color: #808000; text-decoration-color: #808000\">edge_attr</span>=<span style=\"font-weight: bold\">[</span><span style=\"color: #008080; text-decoration-color: #008080; font-weight: bold\">268278</span><span style=\"font-weight: bold\">])</span>\n",
       "</pre>\n"
      ],
      "text/plain": [
       "\u001b[1;35mData\u001b[0m\u001b[1m(\u001b[0m\u001b[33mx\u001b[0m=\u001b[1m[\u001b[0m\u001b[1;36m733\u001b[0m, \u001b[1;36m3\u001b[0m\u001b[1m]\u001b[0m, \u001b[33medge_index\u001b[0m=\u001b[1m[\u001b[0m\u001b[1;36m2\u001b[0m, \u001b[1;36m268278\u001b[0m\u001b[1m]\u001b[0m, \u001b[33medge_attr\u001b[0m=\u001b[1m[\u001b[0m\u001b[1;36m268278\u001b[0m\u001b[1m]\u001b[0m\u001b[1m)\u001b[0m\n"
      ]
     },
     "metadata": {},
     "output_type": "display_data"
    }
   ],
   "source": [
    "data = Data(x=torch.zeros((n,3)), edge_index=edge_index, edge_attr=edge_attr)\n",
    "print(data)"
   ]
  },
  {
   "cell_type": "code",
   "execution_count": 84,
   "id": "5464353f-a9e5-4623-91fa-1fc1f669a9b0",
   "metadata": {},
   "outputs": [
    {
     "data": {
      "text/html": [
       "<pre style=\"white-space:pre;overflow-x:auto;line-height:normal;font-family:Menlo,'DejaVu Sans Mono',consolas,'Courier New',monospace\">\n",
       "<span style=\"color: #800080; text-decoration-color: #800080; font-weight: bold\">tensor</span><span style=\"font-weight: bold\">([[</span><span style=\"color: #008080; text-decoration-color: #008080; font-weight: bold\">451</span>, <span style=\"color: #008080; text-decoration-color: #008080; font-weight: bold\">451</span>, <span style=\"color: #008080; text-decoration-color: #008080; font-weight: bold\">451</span>,  <span style=\"color: #808000; text-decoration-color: #808000\">...</span>, <span style=\"color: #008080; text-decoration-color: #008080; font-weight: bold\">252</span>, <span style=\"color: #008080; text-decoration-color: #008080; font-weight: bold\">252</span>, <span style=\"color: #008080; text-decoration-color: #008080; font-weight: bold\">522</span><span style=\"font-weight: bold\">]</span>,\n",
       "        <span style=\"font-weight: bold\">[</span><span style=\"color: #008080; text-decoration-color: #008080; font-weight: bold\">420</span>, <span style=\"color: #008080; text-decoration-color: #008080; font-weight: bold\">668</span>, <span style=\"color: #008080; text-decoration-color: #008080; font-weight: bold\">137</span>,  <span style=\"color: #808000; text-decoration-color: #808000\">...</span>, <span style=\"color: #008080; text-decoration-color: #008080; font-weight: bold\">522</span>, <span style=\"color: #008080; text-decoration-color: #008080; font-weight: bold\">227</span>, <span style=\"color: #008080; text-decoration-color: #008080; font-weight: bold\">227</span><span style=\"font-weight: bold\">]])</span>\n",
       "</pre>\n"
      ],
      "text/plain": [
       "\n",
       "\u001b[1;35mtensor\u001b[0m\u001b[1m(\u001b[0m\u001b[1m[\u001b[0m\u001b[1m[\u001b[0m\u001b[1;36m451\u001b[0m, \u001b[1;36m451\u001b[0m, \u001b[1;36m451\u001b[0m,  \u001b[33m...\u001b[0m, \u001b[1;36m252\u001b[0m, \u001b[1;36m252\u001b[0m, \u001b[1;36m522\u001b[0m\u001b[1m]\u001b[0m,\n",
       "        \u001b[1m[\u001b[0m\u001b[1;36m420\u001b[0m, \u001b[1;36m668\u001b[0m, \u001b[1;36m137\u001b[0m,  \u001b[33m...\u001b[0m, \u001b[1;36m522\u001b[0m, \u001b[1;36m227\u001b[0m, \u001b[1;36m227\u001b[0m\u001b[1m]\u001b[0m\u001b[1m]\u001b[0m\u001b[1m)\u001b[0m\n"
      ]
     },
     "metadata": {},
     "output_type": "display_data"
    }
   ],
   "source": [
    "data['edge_index']"
   ]
  },
  {
   "cell_type": "code",
   "execution_count": 85,
   "id": "dff13ad6-c9ed-471e-8e0d-028c49be27ac",
   "metadata": {},
   "outputs": [
    {
     "data": {
      "text/html": [
       "<pre style=\"white-space:pre;overflow-x:auto;line-height:normal;font-family:Menlo,'DejaVu Sans Mono',consolas,'Courier New',monospace\"># Nodes:  <span style=\"color: #008080; text-decoration-color: #008080; font-weight: bold\">733</span>\n",
       "</pre>\n"
      ],
      "text/plain": [
       "# Nodes:  \u001b[1;36m733\u001b[0m\n"
      ]
     },
     "metadata": {},
     "output_type": "display_data"
    },
    {
     "data": {
      "text/html": [
       "<pre style=\"white-space:pre;overflow-x:auto;line-height:normal;font-family:Menlo,'DejaVu Sans Mono',consolas,'Courier New',monospace\"># Edges:  <span style=\"color: #008080; text-decoration-color: #008080; font-weight: bold\">268278</span>\n",
       "</pre>\n"
      ],
      "text/plain": [
       "# Edges:  \u001b[1;36m268278\u001b[0m\n"
      ]
     },
     "metadata": {},
     "output_type": "display_data"
    },
    {
     "data": {
      "text/html": [
       "<pre style=\"white-space:pre;overflow-x:auto;line-height:normal;font-family:Menlo,'DejaVu Sans Mono',consolas,'Courier New',monospace\"># Node Features:  <span style=\"color: #008080; text-decoration-color: #008080; font-weight: bold\">3</span>\n",
       "</pre>\n"
      ],
      "text/plain": [
       "# Node Features:  \u001b[1;36m3\u001b[0m\n"
      ]
     },
     "metadata": {},
     "output_type": "display_data"
    },
    {
     "data": {
      "text/html": [
       "<pre style=\"white-space:pre;overflow-x:auto;line-height:normal;font-family:Menlo,'DejaVu Sans Mono',consolas,'Courier New',monospace\">Has isolated nodes?  <span style=\"color: #ff0000; text-decoration-color: #ff0000; font-style: italic\">False</span>\n",
       "</pre>\n"
      ],
      "text/plain": [
       "Has isolated nodes?  \u001b[3;91mFalse\u001b[0m\n"
      ]
     },
     "metadata": {},
     "output_type": "display_data"
    },
    {
     "data": {
      "text/html": [
       "<pre style=\"white-space:pre;overflow-x:auto;line-height:normal;font-family:Menlo,'DejaVu Sans Mono',consolas,'Courier New',monospace\">Has self loops?  <span style=\"color: #ff0000; text-decoration-color: #ff0000; font-style: italic\">False</span>\n",
       "</pre>\n"
      ],
      "text/plain": [
       "Has self loops?  \u001b[3;91mFalse\u001b[0m\n"
      ]
     },
     "metadata": {},
     "output_type": "display_data"
    },
    {
     "data": {
      "text/html": [
       "<pre style=\"white-space:pre;overflow-x:auto;line-height:normal;font-family:Menlo,'DejaVu Sans Mono',consolas,'Courier New',monospace\">Directed?  <span style=\"color: #00ff00; text-decoration-color: #00ff00; font-style: italic\">True</span>\n",
       "</pre>\n"
      ],
      "text/plain": [
       "Directed?  \u001b[3;92mTrue\u001b[0m\n"
      ]
     },
     "metadata": {},
     "output_type": "display_data"
    }
   ],
   "source": [
    "print(\"# Nodes: \", data.num_nodes)\n",
    "print(\"# Edges: \", data.num_edges)\n",
    "print(\"# Node Features: \", data.num_node_features)\n",
    "print(\"Has isolated nodes? \", data.has_isolated_nodes())\n",
    "print(\"Has self loops? \", data.has_self_loops())\n",
    "print(\"Directed? \", data.is_directed())"
   ]
  },
  {
   "cell_type": "code",
   "execution_count": null,
   "id": "3b2f765f-79da-4375-b041-aca67dc27680",
   "metadata": {},
   "outputs": [],
   "source": []
  },
  {
   "cell_type": "markdown",
   "id": "739be9bb-bd19-4f85-b55d-168397eb0762",
   "metadata": {},
   "source": [
    "We do not want our model to learn label while embed. So we will do embedding in unsupervised way"
   ]
  },
  {
   "cell_type": "code",
   "execution_count": 86,
   "id": "5fbc6ea5-2099-4c41-95bc-276a4970e4ff",
   "metadata": {},
   "outputs": [],
   "source": [
    "from torch_geometric.nn import GCNConv\n",
    "# from torch.utils.tensorboard import SummaryWriter\n",
    "from torch_geometric.utils import train_test_split_edges\n",
    "from torch_geometric.nn import GAE\n",
    "from torch_geometric.nn import VGAE"
   ]
  },
  {
   "cell_type": "code",
   "execution_count": 87,
   "id": "82437aac-27c6-4a4a-b36d-5030cd297a58",
   "metadata": {},
   "outputs": [],
   "source": [
    "class GCNEncoder(torch.nn.Module):\n",
    "    def __init__(self, in_channels, out_channels):\n",
    "        super(GCNEncoder, self).__init__()\n",
    "        self.conv1 = GCNConv(in_channels, 2 * out_channels, cached=True) # cached only for transductive learning\n",
    "        self.conv2 = GCNConv(2 * out_channels, out_channels, cached=True) # cached only for transductive learning\n",
    "\n",
    "    def forward(self, x, edge_index):\n",
    "        x = self.conv1(x, edge_index).relu()\n",
    "        return self.conv2(x, edge_index)\n",
    "    \n",
    "class VariationalGCNEncoder(torch.nn.Module):\n",
    "    def __init__(self, in_channels, out_channels):\n",
    "        super(VariationalGCNEncoder, self).__init__()\n",
    "        self.conv1 = GCNConv(in_channels, 2 * out_channels, cached=True) # cached only for transductive learning\n",
    "        self.conv_mu = GCNConv(2 * out_channels, out_channels, cached=True)\n",
    "        self.conv_logstd = GCNConv(2 * out_channels, out_channels, cached=True)\n",
    "\n",
    "    def forward(self, x, edge_index):\n",
    "        x = self.conv1(x, edge_index).relu()\n",
    "        return self.conv_mu(x, edge_index), self.conv_logstd(x, edge_index)"
   ]
  },
  {
   "cell_type": "code",
   "execution_count": 88,
   "id": "f8fc58e8-06e1-4f8a-ad61-b8a3faf8a4e5",
   "metadata": {},
   "outputs": [
    {
     "name": "stderr",
     "output_type": "stream",
     "text": [
      "/home/rahit/.cache/pypoetry/virtualenvs/gemo-data-DHiuQg47-py3.8/lib/python3.8/site-packages/torch_geometric/deprecation.py:12: UserWarning: 'train_test_split_edges' is deprecated, use 'transforms.RandomLinkSplit' instead\n",
      "  warnings.warn(out)\n"
     ]
    },
    {
     "data": {
      "text/html": [
       "<pre style=\"white-space:pre;overflow-x:auto;line-height:normal;font-family:Menlo,'DejaVu Sans Mono',consolas,'Courier New',monospace\"><span style=\"color: #800080; text-decoration-color: #800080; font-weight: bold\">Data</span><span style=\"font-weight: bold\">(</span><span style=\"color: #808000; text-decoration-color: #808000\">x</span>=<span style=\"font-weight: bold\">[</span><span style=\"color: #008080; text-decoration-color: #008080; font-weight: bold\">733</span>, <span style=\"color: #008080; text-decoration-color: #008080; font-weight: bold\">3</span><span style=\"font-weight: bold\">]</span>, <span style=\"color: #808000; text-decoration-color: #808000\">val_pos_edge_index</span>=<span style=\"font-weight: bold\">[</span><span style=\"color: #008080; text-decoration-color: #008080; font-weight: bold\">2</span>, <span style=\"color: #008080; text-decoration-color: #008080; font-weight: bold\">6800</span><span style=\"font-weight: bold\">]</span>, <span style=\"color: #808000; text-decoration-color: #808000\">val_pos_edge_attr</span>=<span style=\"font-weight: bold\">[</span><span style=\"color: #008080; text-decoration-color: #008080; font-weight: bold\">6800</span><span style=\"font-weight: bold\">]</span>, <span style=\"color: #808000; text-decoration-color: #808000\">test_pos_edge_index</span>=<span style=\"font-weight: bold\">[</span><span style=\"color: #008080; text-decoration-color: #008080; font-weight: bold\">2</span>, <span style=\"color: #008080; text-decoration-color: #008080; font-weight: bold\">13601</span><span style=\"font-weight: bold\">]</span>, <span style=\"color: #808000; text-decoration-color: #808000\">test_pos_edge_attr</span>=<span style=\"font-weight: bold\">[</span><span style=\"color: #008080; text-decoration-color: #008080; font-weight: bold\">13601</span><span style=\"font-weight: bold\">]</span>, <span style=\"color: #808000; text-decoration-color: #808000\">train_pos_edge_index</span>=<span style=\"font-weight: bold\">[</span><span style=\"color: #008080; text-decoration-color: #008080; font-weight: bold\">2</span>, <span style=\"color: #008080; text-decoration-color: #008080; font-weight: bold\">231230</span><span style=\"font-weight: bold\">]</span>, <span style=\"color: #808000; text-decoration-color: #808000\">train_pos_edge_attr</span>=<span style=\"font-weight: bold\">[</span><span style=\"color: #008080; text-decoration-color: #008080; font-weight: bold\">231230</span><span style=\"font-weight: bold\">]</span>, <span style=\"color: #808000; text-decoration-color: #808000\">train_neg_adj_mask</span>=<span style=\"font-weight: bold\">[</span><span style=\"color: #008080; text-decoration-color: #008080; font-weight: bold\">733</span>, <span style=\"color: #008080; text-decoration-color: #008080; font-weight: bold\">733</span><span style=\"font-weight: bold\">]</span>, <span style=\"color: #808000; text-decoration-color: #808000\">val_neg_edge_index</span>=<span style=\"font-weight: bold\">[</span><span style=\"color: #008080; text-decoration-color: #008080; font-weight: bold\">2</span>, <span style=\"color: #008080; text-decoration-color: #008080; font-weight: bold\">6800</span><span style=\"font-weight: bold\">]</span>, <span style=\"color: #808000; text-decoration-color: #808000\">test_neg_edge_index</span>=<span style=\"font-weight: bold\">[</span><span style=\"color: #008080; text-decoration-color: #008080; font-weight: bold\">2</span>, <span style=\"color: #008080; text-decoration-color: #008080; font-weight: bold\">13601</span><span style=\"font-weight: bold\">])</span>\n",
       "</pre>\n"
      ],
      "text/plain": [
       "\u001b[1;35mData\u001b[0m\u001b[1m(\u001b[0m\u001b[33mx\u001b[0m=\u001b[1m[\u001b[0m\u001b[1;36m733\u001b[0m, \u001b[1;36m3\u001b[0m\u001b[1m]\u001b[0m, \u001b[33mval_pos_edge_index\u001b[0m=\u001b[1m[\u001b[0m\u001b[1;36m2\u001b[0m, \u001b[1;36m6800\u001b[0m\u001b[1m]\u001b[0m, \u001b[33mval_pos_edge_attr\u001b[0m=\u001b[1m[\u001b[0m\u001b[1;36m6800\u001b[0m\u001b[1m]\u001b[0m, \u001b[33mtest_pos_edge_index\u001b[0m=\u001b[1m[\u001b[0m\u001b[1;36m2\u001b[0m, \u001b[1;36m13601\u001b[0m\u001b[1m]\u001b[0m, \u001b[33mtest_pos_edge_attr\u001b[0m=\u001b[1m[\u001b[0m\u001b[1;36m13601\u001b[0m\u001b[1m]\u001b[0m, \u001b[33mtrain_pos_edge_index\u001b[0m=\u001b[1m[\u001b[0m\u001b[1;36m2\u001b[0m, \u001b[1;36m231230\u001b[0m\u001b[1m]\u001b[0m, \u001b[33mtrain_pos_edge_attr\u001b[0m=\u001b[1m[\u001b[0m\u001b[1;36m231230\u001b[0m\u001b[1m]\u001b[0m, \u001b[33mtrain_neg_adj_mask\u001b[0m=\u001b[1m[\u001b[0m\u001b[1;36m733\u001b[0m, \u001b[1;36m733\u001b[0m\u001b[1m]\u001b[0m, \u001b[33mval_neg_edge_index\u001b[0m=\u001b[1m[\u001b[0m\u001b[1;36m2\u001b[0m, \u001b[1;36m6800\u001b[0m\u001b[1m]\u001b[0m, \u001b[33mtest_neg_edge_index\u001b[0m=\u001b[1m[\u001b[0m\u001b[1;36m2\u001b[0m, \u001b[1;36m13601\u001b[0m\u001b[1m]\u001b[0m\u001b[1m)\u001b[0m\n"
      ]
     },
     "metadata": {},
     "output_type": "display_data"
    }
   ],
   "source": [
    "data = train_test_split_edges(data)\n",
    "data"
   ]
  },
  {
   "cell_type": "code",
   "execution_count": 89,
   "id": "8529dab8-dad0-496d-8a9d-fa9d5ccee655",
   "metadata": {},
   "outputs": [],
   "source": [
    "out_channels = 2\n",
    "num_features = 3\n",
    "epochs = 300\n",
    "\n",
    "\n",
    "model = VGAE(VariationalGCNEncoder(num_features, out_channels))  # new line\n",
    "\n",
    "device = torch.device('cuda' if torch.cuda.is_available() else 'cpu')\n",
    "model = model.to(device)\n",
    "x = data.x.to(device)\n",
    "train_pos_edge_index = data.train_pos_edge_index.to(device)\n",
    "optimizer = torch.optim.Adam(model.parameters(), lr=0.01)"
   ]
  },
  {
   "cell_type": "code",
   "execution_count": 72,
   "id": "bd1cce7f-206f-4216-8f17-5b2bac244a6b",
   "metadata": {},
   "outputs": [
    {
     "data": {
      "text/html": [
       "<pre style=\"white-space:pre;overflow-x:auto;line-height:normal;font-family:Menlo,'DejaVu Sans Mono',consolas,'Courier New',monospace\"><span style=\"color: #ff0000; text-decoration-color: #ff0000\">╭──────────────────────────── </span><span style=\"color: #800000; text-decoration-color: #800000; font-weight: bold\">Traceback </span><span style=\"color: #bf7f7f; text-decoration-color: #bf7f7f; font-weight: bold\">(most recent call last)</span><span style=\"color: #ff0000; text-decoration-color: #ff0000\"> ────────────────────────────╮</span>\n",
       "<span style=\"color: #ff0000; text-decoration-color: #ff0000\">│</span>                                                                                           <span style=\"color: #ff0000; text-decoration-color: #ff0000\">│</span>\n",
       "<span style=\"color: #ff0000; text-decoration-color: #ff0000\">│</span> <span style=\"color: #bfbf7f; text-decoration-color: #bfbf7f\">/tmp/ipykernel_12274/</span><span style=\"color: #808000; text-decoration-color: #808000; font-weight: bold\">1614924763.py</span>:<span style=\"color: #0000ff; text-decoration-color: #0000ff\">1</span> in <span style=\"color: #00ff00; text-decoration-color: #00ff00\">&lt;module&gt;</span>                                          <span style=\"color: #ff0000; text-decoration-color: #ff0000\">│</span>\n",
       "<span style=\"color: #ff0000; text-decoration-color: #ff0000\">│</span>                                                                                           <span style=\"color: #ff0000; text-decoration-color: #ff0000\">│</span>\n",
       "<span style=\"color: #ff0000; text-decoration-color: #ff0000\">│</span> <span style=\"color: #800000; text-decoration-color: #800000; font-style: italic\">[Errno 2] No such file or directory: '/tmp/ipykernel_12274/1614924763.py'</span>                 <span style=\"color: #ff0000; text-decoration-color: #ff0000\">│</span>\n",
       "<span style=\"color: #ff0000; text-decoration-color: #ff0000\">╰───────────────────────────────────────────────────────────────────────────────────────────╯</span>\n",
       "<span style=\"color: #ff0000; text-decoration-color: #ff0000; font-weight: bold\">NameError: </span>name <span style=\"color: #008000; text-decoration-color: #008000\">'SummaryWriter'</span> is not defined\n",
       "</pre>\n"
      ],
      "text/plain": [
       "\u001b[91m╭─\u001b[0m\u001b[91m─────────────────────────── \u001b[0m\u001b[1;31mTraceback \u001b[0m\u001b[1;2;31m(most recent call last)\u001b[0m\u001b[91m ───────────────────────────\u001b[0m\u001b[91m─╮\u001b[0m\n",
       "\u001b[91m│\u001b[0m                                                                                           \u001b[91m│\u001b[0m\n",
       "\u001b[91m│\u001b[0m \u001b[2;33m/tmp/ipykernel_12274/\u001b[0m\u001b[1;33m1614924763.py\u001b[0m:\u001b[94m1\u001b[0m in \u001b[92m<module>\u001b[0m                                          \u001b[91m│\u001b[0m\n",
       "\u001b[91m│\u001b[0m                                                                                           \u001b[91m│\u001b[0m\n",
       "\u001b[91m│\u001b[0m \u001b[3;31m[Errno 2] No such file or directory: '/tmp/ipykernel_12274/1614924763.py'\u001b[0m                 \u001b[91m│\u001b[0m\n",
       "\u001b[91m╰───────────────────────────────────────────────────────────────────────────────────────────╯\u001b[0m\n",
       "\u001b[1;91mNameError: \u001b[0mname \u001b[32m'SummaryWriter'\u001b[0m is not defined\n"
      ]
     },
     "metadata": {},
     "output_type": "display_data"
    }
   ],
   "source": [
    "writer = SummaryWriter('runs/GAE1_experiment_'+'2d_100_epochs')"
   ]
  },
  {
   "cell_type": "code",
   "execution_count": 90,
   "id": "7a826a36-aede-4229-9d39-1baa96c4a95d",
   "metadata": {},
   "outputs": [],
   "source": [
    "def train():\n",
    "    model.train()\n",
    "    optimizer.zero_grad()\n",
    "    z = model.encode(x, train_pos_edge_index)\n",
    "    loss = model.recon_loss(z, train_pos_edge_index)\n",
    "    \n",
    "    loss = loss + (1 / data.num_nodes) * model.kl_loss()  # new line\n",
    "    loss.backward()\n",
    "    optimizer.step()\n",
    "    return float(loss)\n",
    "\n",
    "\n",
    "def test(pos_edge_index, neg_edge_index):\n",
    "    model.eval()\n",
    "    with torch.no_grad():\n",
    "        z = model.encode(x, train_pos_edge_index)\n",
    "    return model.test(z, pos_edge_index, neg_edge_index)"
   ]
  },
  {
   "cell_type": "code",
   "execution_count": null,
   "id": "ba9330c0-6b93-42a2-97dc-92bcf7641d61",
   "metadata": {},
   "outputs": [
    {
     "data": {
      "text/html": [
       "<pre style=\"white-space:pre;overflow-x:auto;line-height:normal;font-family:Menlo,'DejaVu Sans Mono',consolas,'Courier New',monospace\">Epoch: <span style=\"color: #008080; text-decoration-color: #008080; font-weight: bold\">001</span>, AUC: <span style=\"color: #008080; text-decoration-color: #008080; font-weight: bold\">0.5000</span>, AP: <span style=\"color: #008080; text-decoration-color: #008080; font-weight: bold\">0.5000</span>\n",
       "</pre>\n"
      ],
      "text/plain": [
       "Epoch: \u001b[1;36m001\u001b[0m, AUC: \u001b[1;36m0.5000\u001b[0m, AP: \u001b[1;36m0.5000\u001b[0m\n"
      ]
     },
     "metadata": {},
     "output_type": "display_data"
    }
   ],
   "source": [
    "\n",
    "for epoch in range(1, epochs + 1):\n",
    "    loss = train()\n",
    "    auc, ap = test(data.test_pos_edge_index, data.test_neg_edge_index)\n",
    "    print('Epoch: {:03d}, AUC: {:.4f}, AP: {:.4f}'.format(epoch, auc, ap))\n",
    "    \n",
    "    # writer.add_scalar('auc train',auc,epoch) # new line\n",
    "    # writer.add_scalar('ap train',ap,epoch)   # new line"
   ]
  },
  {
   "cell_type": "code",
   "execution_count": null,
   "id": "1a1539ed-876b-4e11-bbe9-bcd063df7910",
   "metadata": {},
   "outputs": [],
   "source": []
  },
  {
   "cell_type": "code",
   "execution_count": null,
   "id": "656fdaa7-1a43-45df-bc2d-a953fd1d09d5",
   "metadata": {},
   "outputs": [],
   "source": []
  },
  {
   "cell_type": "code",
   "execution_count": null,
   "id": "2be830ff-f94f-4d6b-821b-a1db6796775a",
   "metadata": {},
   "outputs": [],
   "source": []
  },
  {
   "cell_type": "code",
   "execution_count": null,
   "id": "81a925ad-d31e-4f7c-aadf-308d86a57a34",
   "metadata": {},
   "outputs": [],
   "source": []
  },
  {
   "cell_type": "code",
   "execution_count": null,
   "id": "87940611-5c67-4adc-8535-4cc65d639f5a",
   "metadata": {},
   "outputs": [],
   "source": []
  },
  {
   "cell_type": "code",
   "execution_count": null,
   "id": "21fae1b5-139a-46fd-abb9-4da1729d0447",
   "metadata": {},
   "outputs": [],
   "source": []
  },
  {
   "cell_type": "code",
   "execution_count": null,
   "id": "7227589c-57f8-4d55-997a-a608b6739ca9",
   "metadata": {},
   "outputs": [],
   "source": []
  },
  {
   "cell_type": "code",
   "execution_count": null,
   "id": "2e8480a8-7d96-4dd8-a47a-bcc8b4871909",
   "metadata": {},
   "outputs": [],
   "source": []
  },
  {
   "cell_type": "code",
   "execution_count": null,
   "id": "484adc70-8563-4be3-8b52-da49921d4124",
   "metadata": {},
   "outputs": [],
   "source": []
  },
  {
   "cell_type": "code",
   "execution_count": null,
   "id": "6bf46163-2806-438a-ba11-dc94c0752046",
   "metadata": {},
   "outputs": [],
   "source": []
  },
  {
   "cell_type": "code",
   "execution_count": null,
   "id": "45bd1a45-1791-4e0b-811d-5f6839d5048f",
   "metadata": {},
   "outputs": [],
   "source": []
  },
  {
   "cell_type": "code",
   "execution_count": null,
   "id": "288b94a8-2d58-43ba-a367-4b332e5ecc6e",
   "metadata": {},
   "outputs": [],
   "source": []
  },
  {
   "cell_type": "code",
   "execution_count": null,
   "id": "d55eec35-a34e-485c-999f-41af8693299f",
   "metadata": {},
   "outputs": [],
   "source": []
  },
  {
   "cell_type": "code",
   "execution_count": null,
   "id": "c75cd204-fb4c-47e0-a1a0-ffaa95625145",
   "metadata": {},
   "outputs": [],
   "source": []
  },
  {
   "cell_type": "code",
   "execution_count": null,
   "id": "3dee82ec-eebb-4804-b560-98d456ed0fa2",
   "metadata": {},
   "outputs": [],
   "source": []
  },
  {
   "cell_type": "code",
   "execution_count": null,
   "id": "d009aa52-61bc-474b-8967-144737667d80",
   "metadata": {},
   "outputs": [],
   "source": []
  },
  {
   "cell_type": "code",
   "execution_count": null,
   "id": "8b2c7a0c-9dfc-4957-8f81-8bfb6b580901",
   "metadata": {},
   "outputs": [],
   "source": []
  },
  {
   "cell_type": "code",
   "execution_count": null,
   "id": "e24cbdda-683f-4d10-8b09-edb581413e9c",
   "metadata": {},
   "outputs": [],
   "source": []
  },
  {
   "cell_type": "code",
   "execution_count": null,
   "id": "e460803a-0c65-4d6d-8b4c-fe522bf89cdf",
   "metadata": {},
   "outputs": [],
   "source": []
  },
  {
   "cell_type": "code",
   "execution_count": null,
   "id": "f0ac4cc2-8741-46d8-b858-a46bc1251e64",
   "metadata": {},
   "outputs": [],
   "source": []
  },
  {
   "cell_type": "code",
   "execution_count": null,
   "id": "4f09fe6e-17d8-425a-9534-fdb9167ccc85",
   "metadata": {},
   "outputs": [],
   "source": []
  },
  {
   "cell_type": "code",
   "execution_count": 40,
   "id": "c10b80fb-5f80-4cec-9e6b-65f7053ab4b4",
   "metadata": {},
   "outputs": [],
   "source": [
    "\n",
    "cluster.close()\n",
    "client.close()"
   ]
  },
  {
   "cell_type": "code",
   "execution_count": null,
   "id": "4d5589d6-58e5-4e83-8bb5-628c5a314da8",
   "metadata": {},
   "outputs": [],
   "source": []
  }
 ],
 "metadata": {
  "kernelspec": {
   "display_name": "Kedro (modspy_data)",
   "language": "python",
   "name": "kedro_modspy_data"
  },
  "language_info": {
   "codemirror_mode": {
    "name": "ipython",
    "version": 3
   },
   "file_extension": ".py",
   "mimetype": "text/x-python",
   "name": "python",
   "nbconvert_exporter": "python",
   "pygments_lexer": "ipython3",
   "version": "3.8.10"
  },
  "toc-autonumbering": true,
  "toc-showcode": true,
  "toc-showmarkdowntxt": true,
  "toc-showtags": false
 },
 "nbformat": 4,
 "nbformat_minor": 5
}
