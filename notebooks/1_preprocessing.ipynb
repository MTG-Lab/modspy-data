{
 "cells": [
  {
   "cell_type": "markdown",
   "id": "02ea79fe",
   "metadata": {},
   "source": [
    "# 🧹 Purpose of the Script\n",
    "\n",
    "The purpose of this script is to clean and consolidate the dataset. The goal is to have a single dataframe (persist) that has all the scores.\n",
    "\n",
    "📚 Datasets Used\n",
    "\n",
    "We use the following datasets:\n",
    "\n",
    "1. **MTG zyg-1 strain**: This dataset has a confirmed suppressor for each CVL. This is collected from Dr. Maja Tarailo-Graovac's lab's high-throughput zyg-1 suppressor identification project using C. elegans as a model organism.\n",
    "2. **Jolanda van Leeuwen's data**: This dataset was curated from published literatures. It has almost 500 unique suppressors but does not have any non-modifier (suppressor).\n",
    "3. **OLIDA dataset**: This dataset was collected from their website. The plan is to use their data as negative samples.\n",
    "\n",
    "🛠️ Preprocessing Steps\n",
    "\n",
    "The preprocessing steps include:\n",
    "\n",
    "- 🧼 Cleaning each dataset\n",
    "- ➕ Adding new columns\n",
    "- 🔄 Consolidating all datasets into one dataframe\n",
    "- 💾 Saving the dataframe\n",
    "\n",
    "<small>The git trace of this file can be found in `notebooks/1_add_go_similarity_score.ipynb` file. This file was created on 8 Dec 2023</small>"
   ]
  },
  {
   "cell_type": "code",
   "execution_count": 26,
   "id": "359404fa",
   "metadata": {
    "tags": []
   },
   "outputs": [
    {
     "data": {
      "text/html": [
       "<pre style=\"white-space:pre;overflow-x:auto;line-height:normal;font-family:Menlo,'DejaVu Sans Mono',consolas,'Courier New',monospace\"><span style=\"color: #7fbfbf; text-decoration-color: #7fbfbf\">[12/13/23 04:03:55] </span><span style=\"color: #000080; text-decoration-color: #000080\">INFO    </span> Resolved project path as: <span style=\"color: #800080; text-decoration-color: #800080\">/project/6013424/rahit/</span><span style=\"color: #ff00ff; text-decoration-color: #ff00ff\">modspy-data.</span>          <a href=\"file:///home/rahit/jupyter_py3/lib/python3.8/site-packages/kedro/ipython/__init__.py\" target=\"_blank\"><span style=\"color: #7f7f7f; text-decoration-color: #7f7f7f\">__init__.py</span></a><span style=\"color: #7f7f7f; text-decoration-color: #7f7f7f\">:</span><a href=\"file:///home/rahit/jupyter_py3/lib/python3.8/site-packages/kedro/ipython/__init__.py#139\" target=\"_blank\"><span style=\"color: #7f7f7f; text-decoration-color: #7f7f7f\">139</span></a>\n",
       "<span style=\"color: #7fbfbf; text-decoration-color: #7fbfbf\">                    </span>         To set a different path, run <span style=\"color: #008000; text-decoration-color: #008000\">'%reload_kedro &lt;project_root&gt;'</span>            <span style=\"color: #7f7f7f; text-decoration-color: #7f7f7f\">               </span>\n",
       "</pre>\n"
      ],
      "text/plain": [
       "\u001b[2;36m[12/13/23 04:03:55]\u001b[0m\u001b[2;36m \u001b[0m\u001b[34mINFO    \u001b[0m Resolved project path as: \u001b[35m/project/6013424/rahit/\u001b[0m\u001b[95mmodspy-data.\u001b[0m          \u001b]8;id=48245;file:///home/rahit/jupyter_py3/lib/python3.8/site-packages/kedro/ipython/__init__.py\u001b\\\u001b[2m__init__.py\u001b[0m\u001b]8;;\u001b\\\u001b[2m:\u001b[0m\u001b]8;id=386681;file:///home/rahit/jupyter_py3/lib/python3.8/site-packages/kedro/ipython/__init__.py#139\u001b\\\u001b[2m139\u001b[0m\u001b]8;;\u001b\\\n",
       "\u001b[2;36m                    \u001b[0m         To set a different path, run \u001b[32m'%reload_kedro \u001b[0m\u001b[32m<\u001b[0m\u001b[32mproject_root\u001b[0m\u001b[32m>\u001b[0m\u001b[32m'\u001b[0m            \u001b[2m               \u001b[0m\n"
      ]
     },
     "metadata": {},
     "output_type": "display_data"
    },
    {
     "data": {
      "text/html": [
       "<pre style=\"white-space:pre;overflow-x:auto;line-height:normal;font-family:Menlo,'DejaVu Sans Mono',consolas,'Courier New',monospace\"><span style=\"color: #7fbfbf; text-decoration-color: #7fbfbf\">                    </span><span style=\"color: #000080; text-decoration-color: #000080\">INFO    </span> Resolved project path as: <span style=\"color: #800080; text-decoration-color: #800080\">/project/6013424/rahit/</span><span style=\"color: #ff00ff; text-decoration-color: #ff00ff\">modspy-data.</span>          <a href=\"file:///home/rahit/jupyter_py3/lib/python3.8/site-packages/kedro/ipython/__init__.py\" target=\"_blank\"><span style=\"color: #7f7f7f; text-decoration-color: #7f7f7f\">__init__.py</span></a><span style=\"color: #7f7f7f; text-decoration-color: #7f7f7f\">:</span><a href=\"file:///home/rahit/jupyter_py3/lib/python3.8/site-packages/kedro/ipython/__init__.py#139\" target=\"_blank\"><span style=\"color: #7f7f7f; text-decoration-color: #7f7f7f\">139</span></a>\n",
       "<span style=\"color: #7fbfbf; text-decoration-color: #7fbfbf\">                    </span>         To set a different path, run <span style=\"color: #008000; text-decoration-color: #008000\">'%reload_kedro &lt;project_root&gt;'</span>            <span style=\"color: #7f7f7f; text-decoration-color: #7f7f7f\">               </span>\n",
       "</pre>\n"
      ],
      "text/plain": [
       "\u001b[2;36m                   \u001b[0m\u001b[2;36m \u001b[0m\u001b[34mINFO    \u001b[0m Resolved project path as: \u001b[35m/project/6013424/rahit/\u001b[0m\u001b[95mmodspy-data.\u001b[0m          \u001b]8;id=984209;file:///home/rahit/jupyter_py3/lib/python3.8/site-packages/kedro/ipython/__init__.py\u001b\\\u001b[2m__init__.py\u001b[0m\u001b]8;;\u001b\\\u001b[2m:\u001b[0m\u001b]8;id=204076;file:///home/rahit/jupyter_py3/lib/python3.8/site-packages/kedro/ipython/__init__.py#139\u001b\\\u001b[2m139\u001b[0m\u001b]8;;\u001b\\\n",
       "\u001b[2;36m                    \u001b[0m         To set a different path, run \u001b[32m'%reload_kedro \u001b[0m\u001b[32m<\u001b[0m\u001b[32mproject_root\u001b[0m\u001b[32m>\u001b[0m\u001b[32m'\u001b[0m            \u001b[2m               \u001b[0m\n"
      ]
     },
     "metadata": {},
     "output_type": "display_data"
    },
    {
     "data": {
      "text/html": [
       "<pre style=\"white-space:pre;overflow-x:auto;line-height:normal;font-family:Menlo,'DejaVu Sans Mono',consolas,'Courier New',monospace\"><span style=\"color: #7fbfbf; text-decoration-color: #7fbfbf\">[12/13/23 04:03:57] </span><span style=\"color: #000080; text-decoration-color: #000080\">INFO    </span> Kedro project ModSpy-Data                                              <a href=\"file:///home/rahit/jupyter_py3/lib/python3.8/site-packages/kedro/ipython/__init__.py\" target=\"_blank\"><span style=\"color: #7f7f7f; text-decoration-color: #7f7f7f\">__init__.py</span></a><span style=\"color: #7f7f7f; text-decoration-color: #7f7f7f\">:</span><a href=\"file:///home/rahit/jupyter_py3/lib/python3.8/site-packages/kedro/ipython/__init__.py#108\" target=\"_blank\"><span style=\"color: #7f7f7f; text-decoration-color: #7f7f7f\">108</span></a>\n",
       "</pre>\n"
      ],
      "text/plain": [
       "\u001b[2;36m[12/13/23 04:03:57]\u001b[0m\u001b[2;36m \u001b[0m\u001b[34mINFO    \u001b[0m Kedro project ModSpy-Data                                              \u001b]8;id=336962;file:///home/rahit/jupyter_py3/lib/python3.8/site-packages/kedro/ipython/__init__.py\u001b\\\u001b[2m__init__.py\u001b[0m\u001b]8;;\u001b\\\u001b[2m:\u001b[0m\u001b]8;id=560779;file:///home/rahit/jupyter_py3/lib/python3.8/site-packages/kedro/ipython/__init__.py#108\u001b\\\u001b[2m108\u001b[0m\u001b]8;;\u001b\\\n"
      ]
     },
     "metadata": {},
     "output_type": "display_data"
    },
    {
     "data": {
      "text/html": [
       "<pre style=\"white-space:pre;overflow-x:auto;line-height:normal;font-family:Menlo,'DejaVu Sans Mono',consolas,'Courier New',monospace\"><span style=\"color: #7fbfbf; text-decoration-color: #7fbfbf\">                    </span><span style=\"color: #000080; text-decoration-color: #000080\">INFO    </span> Kedro project ModSpy-Data                                              <a href=\"file:///home/rahit/jupyter_py3/lib/python3.8/site-packages/kedro/ipython/__init__.py\" target=\"_blank\"><span style=\"color: #7f7f7f; text-decoration-color: #7f7f7f\">__init__.py</span></a><span style=\"color: #7f7f7f; text-decoration-color: #7f7f7f\">:</span><a href=\"file:///home/rahit/jupyter_py3/lib/python3.8/site-packages/kedro/ipython/__init__.py#108\" target=\"_blank\"><span style=\"color: #7f7f7f; text-decoration-color: #7f7f7f\">108</span></a>\n",
       "</pre>\n"
      ],
      "text/plain": [
       "\u001b[2;36m                   \u001b[0m\u001b[2;36m \u001b[0m\u001b[34mINFO    \u001b[0m Kedro project ModSpy-Data                                              \u001b]8;id=47177;file:///home/rahit/jupyter_py3/lib/python3.8/site-packages/kedro/ipython/__init__.py\u001b\\\u001b[2m__init__.py\u001b[0m\u001b]8;;\u001b\\\u001b[2m:\u001b[0m\u001b]8;id=604672;file:///home/rahit/jupyter_py3/lib/python3.8/site-packages/kedro/ipython/__init__.py#108\u001b\\\u001b[2m108\u001b[0m\u001b]8;;\u001b\\\n"
      ]
     },
     "metadata": {},
     "output_type": "display_data"
    },
    {
     "data": {
      "text/html": [
       "<pre style=\"white-space:pre;overflow-x:auto;line-height:normal;font-family:Menlo,'DejaVu Sans Mono',consolas,'Courier New',monospace\"><span style=\"color: #7fbfbf; text-decoration-color: #7fbfbf\">                    </span><span style=\"color: #000080; text-decoration-color: #000080\">INFO    </span> Defined global variable <span style=\"color: #008000; text-decoration-color: #008000\">'context'</span>, <span style=\"color: #008000; text-decoration-color: #008000\">'session'</span>, <span style=\"color: #008000; text-decoration-color: #008000\">'catalog'</span> and            <a href=\"file:///home/rahit/jupyter_py3/lib/python3.8/site-packages/kedro/ipython/__init__.py\" target=\"_blank\"><span style=\"color: #7f7f7f; text-decoration-color: #7f7f7f\">__init__.py</span></a><span style=\"color: #7f7f7f; text-decoration-color: #7f7f7f\">:</span><a href=\"file:///home/rahit/jupyter_py3/lib/python3.8/site-packages/kedro/ipython/__init__.py#109\" target=\"_blank\"><span style=\"color: #7f7f7f; text-decoration-color: #7f7f7f\">109</span></a>\n",
       "<span style=\"color: #7fbfbf; text-decoration-color: #7fbfbf\">                    </span>         <span style=\"color: #008000; text-decoration-color: #008000\">'pipelines'</span>                                                            <span style=\"color: #7f7f7f; text-decoration-color: #7f7f7f\">               </span>\n",
       "</pre>\n"
      ],
      "text/plain": [
       "\u001b[2;36m                   \u001b[0m\u001b[2;36m \u001b[0m\u001b[34mINFO    \u001b[0m Defined global variable \u001b[32m'context'\u001b[0m, \u001b[32m'session'\u001b[0m, \u001b[32m'catalog'\u001b[0m and            \u001b]8;id=484952;file:///home/rahit/jupyter_py3/lib/python3.8/site-packages/kedro/ipython/__init__.py\u001b\\\u001b[2m__init__.py\u001b[0m\u001b]8;;\u001b\\\u001b[2m:\u001b[0m\u001b]8;id=502981;file:///home/rahit/jupyter_py3/lib/python3.8/site-packages/kedro/ipython/__init__.py#109\u001b\\\u001b[2m109\u001b[0m\u001b]8;;\u001b\\\n",
       "\u001b[2;36m                    \u001b[0m         \u001b[32m'pipelines'\u001b[0m                                                            \u001b[2m               \u001b[0m\n"
      ]
     },
     "metadata": {},
     "output_type": "display_data"
    },
    {
     "data": {
      "text/html": [
       "<pre style=\"white-space:pre;overflow-x:auto;line-height:normal;font-family:Menlo,'DejaVu Sans Mono',consolas,'Courier New',monospace\"><span style=\"color: #7fbfbf; text-decoration-color: #7fbfbf\">                    </span><span style=\"color: #000080; text-decoration-color: #000080\">INFO    </span> Defined global variable <span style=\"color: #008000; text-decoration-color: #008000\">'context'</span>, <span style=\"color: #008000; text-decoration-color: #008000\">'session'</span>, <span style=\"color: #008000; text-decoration-color: #008000\">'catalog'</span> and            <a href=\"file:///home/rahit/jupyter_py3/lib/python3.8/site-packages/kedro/ipython/__init__.py\" target=\"_blank\"><span style=\"color: #7f7f7f; text-decoration-color: #7f7f7f\">__init__.py</span></a><span style=\"color: #7f7f7f; text-decoration-color: #7f7f7f\">:</span><a href=\"file:///home/rahit/jupyter_py3/lib/python3.8/site-packages/kedro/ipython/__init__.py#109\" target=\"_blank\"><span style=\"color: #7f7f7f; text-decoration-color: #7f7f7f\">109</span></a>\n",
       "<span style=\"color: #7fbfbf; text-decoration-color: #7fbfbf\">                    </span>         <span style=\"color: #008000; text-decoration-color: #008000\">'pipelines'</span>                                                            <span style=\"color: #7f7f7f; text-decoration-color: #7f7f7f\">               </span>\n",
       "</pre>\n"
      ],
      "text/plain": [
       "\u001b[2;36m                   \u001b[0m\u001b[2;36m \u001b[0m\u001b[34mINFO    \u001b[0m Defined global variable \u001b[32m'context'\u001b[0m, \u001b[32m'session'\u001b[0m, \u001b[32m'catalog'\u001b[0m and            \u001b]8;id=197336;file:///home/rahit/jupyter_py3/lib/python3.8/site-packages/kedro/ipython/__init__.py\u001b\\\u001b[2m__init__.py\u001b[0m\u001b]8;;\u001b\\\u001b[2m:\u001b[0m\u001b]8;id=765164;file:///home/rahit/jupyter_py3/lib/python3.8/site-packages/kedro/ipython/__init__.py#109\u001b\\\u001b[2m109\u001b[0m\u001b]8;;\u001b\\\n",
       "\u001b[2;36m                    \u001b[0m         \u001b[32m'pipelines'\u001b[0m                                                            \u001b[2m               \u001b[0m\n"
      ]
     },
     "metadata": {},
     "output_type": "display_data"
    }
   ],
   "source": [
    "%reload_kedro"
   ]
  },
  {
   "cell_type": "markdown",
   "id": "5c4969ee-00f7-4125-bd01-8127601a4532",
   "metadata": {},
   "source": [
    "### Import libraries"
   ]
  },
  {
   "cell_type": "code",
   "execution_count": 27,
   "id": "e53e9338",
   "metadata": {
    "tags": []
   },
   "outputs": [
    {
     "data": {
      "text/html": [
       "<pre style=\"white-space:pre;overflow-x:auto;line-height:normal;font-family:Menlo,'DejaVu Sans Mono',consolas,'Courier New',monospace\"><span style=\"color: #800000; text-decoration-color: #800000\">╭─────────────────────────────── </span><span style=\"color: #800000; text-decoration-color: #800000; font-weight: bold\">Traceback </span><span style=\"color: #bf7f7f; text-decoration-color: #bf7f7f; font-weight: bold\">(most recent call last)</span><span style=\"color: #800000; text-decoration-color: #800000\"> ────────────────────────────────╮</span>\n",
       "<span style=\"color: #800000; text-decoration-color: #800000\">│</span> in <span style=\"color: #00ff00; text-decoration-color: #00ff00\">&lt;module&gt;</span>:<span style=\"color: #0000ff; text-decoration-color: #0000ff\">37</span>                                                                                   <span style=\"color: #800000; text-decoration-color: #800000\">│</span>\n",
       "<span style=\"color: #800000; text-decoration-color: #800000\">│</span>                                                                                                  <span style=\"color: #800000; text-decoration-color: #800000\">│</span>\n",
       "<span style=\"color: #800000; text-decoration-color: #800000\">│</span>   <span style=\"color: #7f7f7f; text-decoration-color: #7f7f7f\">34 </span><span style=\"color: #0000ff; text-decoration-color: #0000ff\">from</span> <span style=\"color: #00ffff; text-decoration-color: #00ffff; text-decoration: underline\">torch_geometric.utils.convert</span> <span style=\"color: #0000ff; text-decoration-color: #0000ff\">import</span> from_networkx                                     <span style=\"color: #800000; text-decoration-color: #800000\">│</span>\n",
       "<span style=\"color: #800000; text-decoration-color: #800000\">│</span>   <span style=\"color: #7f7f7f; text-decoration-color: #7f7f7f\">35 </span><span style=\"color: #0000ff; text-decoration-color: #0000ff\">from</span> <span style=\"color: #00ffff; text-decoration-color: #00ffff; text-decoration: underline\">torch.nn</span> <span style=\"color: #0000ff; text-decoration-color: #0000ff\">import</span> Linear, ModuleList                                                     <span style=\"color: #800000; text-decoration-color: #800000\">│</span>\n",
       "<span style=\"color: #800000; text-decoration-color: #800000\">│</span>   <span style=\"color: #7f7f7f; text-decoration-color: #7f7f7f\">36 </span><span style=\"color: #0000ff; text-decoration-color: #0000ff\">from</span> <span style=\"color: #00ffff; text-decoration-color: #00ffff; text-decoration: underline\">torch_geometric.nn</span> <span style=\"color: #0000ff; text-decoration-color: #0000ff\">import</span> GATConv, GraphConv                                           <span style=\"color: #800000; text-decoration-color: #800000\">│</span>\n",
       "<span style=\"color: #800000; text-decoration-color: #800000\">│</span> <span style=\"color: #800000; text-decoration-color: #800000\">❱ </span>37 <span style=\"color: #0000ff; text-decoration-color: #0000ff\">from</span> <span style=\"color: #00ffff; text-decoration-color: #00ffff; text-decoration: underline\">torch_geometric.loaders</span> <span style=\"color: #0000ff; text-decoration-color: #0000ff\">import</span> DataLoader, Dataset                                     <span style=\"color: #800000; text-decoration-color: #800000\">│</span>\n",
       "<span style=\"color: #800000; text-decoration-color: #800000\">│</span>   <span style=\"color: #7f7f7f; text-decoration-color: #7f7f7f\">38 </span><span style=\"color: #0000ff; text-decoration-color: #0000ff\">from</span> <span style=\"color: #00ffff; text-decoration-color: #00ffff; text-decoration: underline\">torch_geometric.data</span> <span style=\"color: #0000ff; text-decoration-color: #0000ff\">import</span> DataLoader                                                 <span style=\"color: #800000; text-decoration-color: #800000\">│</span>\n",
       "<span style=\"color: #800000; text-decoration-color: #800000\">│</span>   <span style=\"color: #7f7f7f; text-decoration-color: #7f7f7f\">39 </span><span style=\"color: #0000ff; text-decoration-color: #0000ff\">from</span> <span style=\"color: #00ffff; text-decoration-color: #00ffff; text-decoration: underline\">torch_geometric.utils</span> <span style=\"color: #0000ff; text-decoration-color: #0000ff\">import</span> convert                                                   <span style=\"color: #800000; text-decoration-color: #800000\">│</span>\n",
       "<span style=\"color: #800000; text-decoration-color: #800000\">│</span>   <span style=\"color: #7f7f7f; text-decoration-color: #7f7f7f\">40 </span>                                                                                            <span style=\"color: #800000; text-decoration-color: #800000\">│</span>\n",
       "<span style=\"color: #800000; text-decoration-color: #800000\">╰──────────────────────────────────────────────────────────────────────────────────────────────────╯</span>\n",
       "<span style=\"color: #ff0000; text-decoration-color: #ff0000; font-weight: bold\">ModuleNotFoundError: </span>No module named <span style=\"color: #008000; text-decoration-color: #008000\">'torch_geometric.loaders'</span>\n",
       "</pre>\n"
      ],
      "text/plain": [
       "\u001b[31m╭─\u001b[0m\u001b[31m──────────────────────────────\u001b[0m\u001b[31m \u001b[0m\u001b[1;31mTraceback \u001b[0m\u001b[1;2;31m(most recent call last)\u001b[0m\u001b[31m \u001b[0m\u001b[31m───────────────────────────────\u001b[0m\u001b[31m─╮\u001b[0m\n",
       "\u001b[31m│\u001b[0m in \u001b[92m<module>\u001b[0m:\u001b[94m37\u001b[0m                                                                                   \u001b[31m│\u001b[0m\n",
       "\u001b[31m│\u001b[0m                                                                                                  \u001b[31m│\u001b[0m\n",
       "\u001b[31m│\u001b[0m   \u001b[2m34 \u001b[0m\u001b[94mfrom\u001b[0m \u001b[4;96mtorch_geometric\u001b[0m\u001b[4;96m.\u001b[0m\u001b[4;96mutils\u001b[0m\u001b[4;96m.\u001b[0m\u001b[4;96mconvert\u001b[0m \u001b[94mimport\u001b[0m from_networkx                                     \u001b[31m│\u001b[0m\n",
       "\u001b[31m│\u001b[0m   \u001b[2m35 \u001b[0m\u001b[94mfrom\u001b[0m \u001b[4;96mtorch\u001b[0m\u001b[4;96m.\u001b[0m\u001b[4;96mnn\u001b[0m \u001b[94mimport\u001b[0m Linear, ModuleList                                                     \u001b[31m│\u001b[0m\n",
       "\u001b[31m│\u001b[0m   \u001b[2m36 \u001b[0m\u001b[94mfrom\u001b[0m \u001b[4;96mtorch_geometric\u001b[0m\u001b[4;96m.\u001b[0m\u001b[4;96mnn\u001b[0m \u001b[94mimport\u001b[0m GATConv, GraphConv                                           \u001b[31m│\u001b[0m\n",
       "\u001b[31m│\u001b[0m \u001b[31m❱ \u001b[0m37 \u001b[94mfrom\u001b[0m \u001b[4;96mtorch_geometric\u001b[0m\u001b[4;96m.\u001b[0m\u001b[4;96mloaders\u001b[0m \u001b[94mimport\u001b[0m DataLoader, Dataset                                     \u001b[31m│\u001b[0m\n",
       "\u001b[31m│\u001b[0m   \u001b[2m38 \u001b[0m\u001b[94mfrom\u001b[0m \u001b[4;96mtorch_geometric\u001b[0m\u001b[4;96m.\u001b[0m\u001b[4;96mdata\u001b[0m \u001b[94mimport\u001b[0m DataLoader                                                 \u001b[31m│\u001b[0m\n",
       "\u001b[31m│\u001b[0m   \u001b[2m39 \u001b[0m\u001b[94mfrom\u001b[0m \u001b[4;96mtorch_geometric\u001b[0m\u001b[4;96m.\u001b[0m\u001b[4;96mutils\u001b[0m \u001b[94mimport\u001b[0m convert                                                   \u001b[31m│\u001b[0m\n",
       "\u001b[31m│\u001b[0m   \u001b[2m40 \u001b[0m                                                                                            \u001b[31m│\u001b[0m\n",
       "\u001b[31m╰──────────────────────────────────────────────────────────────────────────────────────────────────╯\u001b[0m\n",
       "\u001b[1;91mModuleNotFoundError: \u001b[0mNo module named \u001b[32m'torch_geometric.loaders'\u001b[0m\n"
      ]
     },
     "metadata": {},
     "output_type": "display_data"
    }
   ],
   "source": [
    "# -*- coding: utf-8 -*-\n",
    "# from __future__ import absolute_import, division, print_function, unicode_literals\n",
    "import random\n",
    "import logging\n",
    "import itertools\n",
    "from rich import print\n",
    "from IPython.display import display\n",
    "\n",
    "import pandas as pd\n",
    "import numpy as np\n",
    "from modspy_data.helpers import KnowledgeGraphScores\n",
    "\n",
    "import matplotlib.pyplot as plt\n",
    "import seaborn as sns\n",
    "\n",
    "import dask\n",
    "import dask.dataframe as dd\n",
    "import dask.array as da\n",
    "from dask.distributed import Client, progress, performance_report\n",
    "from dask_jobqueue import SLURMCluster\n",
    "\n",
    "\n",
    "import torch\n",
    "import pronto\n",
    "import networkx as nx\n",
    "# from utils import visualize\n",
    "from nxontology import NXOntology\n",
    "from nxontology.imports import (from_file, multidigraph_to_digraph,\n",
    "                                pronto_to_multidigraph)\n",
    "from networkx.drawing.nx_agraph import graphviz_layout\n",
    "from nxontology.viz import create_similarity_graphviz\n",
    "from torch_geometric.data import Data, InMemoryDataset, download_url\n",
    "import torch_geometric.transforms as T\n",
    "from torch_geometric.utils.convert import from_networkx\n",
    "from torch.nn import Linear, ModuleList\n",
    "from torch_geometric.nn import GATConv, GraphConv\n",
    "from torch_geometric.loaders import DataLoader, Dataset\n",
    "from torch_geometric.data import DataLoader\n",
    "from torch_geometric.utils import convert\n"
   ]
  },
  {
   "cell_type": "markdown",
   "id": "83852e3b",
   "metadata": {},
   "source": [
    "### Helper Functions"
   ]
  },
  {
   "cell_type": "code",
   "execution_count": 28,
   "id": "f7cb1fcb",
   "metadata": {},
   "outputs": [],
   "source": [
    "logging.getLogger().setLevel(logging.WARNING)"
   ]
  },
  {
   "cell_type": "code",
   "execution_count": 29,
   "id": "b01154ae",
   "metadata": {
    "tags": []
   },
   "outputs": [],
   "source": [
    "# Remove wraping quotation sign (\"\") from dataframe\n",
    "def remove_quotes(df):\n",
    "    df = df.applymap(lambda x: x.strip('\"') if isinstance(x, str) else x)\n",
    "    cols = [c.strip('\"') for c in df.columns]\n",
    "    df.rename(columns=dict(zip(df.columns, cols)), inplace=True)\n",
    "    return df"
   ]
  },
  {
   "cell_type": "code",
   "execution_count": 30,
   "id": "045d5f66",
   "metadata": {
    "tags": []
   },
   "outputs": [],
   "source": [
    "# Add info from GO annotations to the JVL data\n",
    "def match_on_annotation(row, goa, col_name='QueryGene'):\n",
    "    __goa_filt = goa[goa['DB_Object_Synonym'].str.contains(row[col_name])]\n",
    "    __annos = __goa_filt['GO_ID'].unique()\n",
    "    row[f\"{col_name}_GO\"] = __annos\n",
    "    return row"
   ]
  },
  {
   "cell_type": "code",
   "execution_count": 31,
   "id": "d9372d36",
   "metadata": {},
   "outputs": [],
   "source": [
    "# cluster = SLURMCluster(cores=1,\n",
    "#                        processes=1,\n",
    "#                        memory=\"8GB\",\n",
    "#                        account=\"def-mtarailo_cpu\",\n",
    "#                        walltime=\"00:05:00\")\n",
    "# client = Client(cluster)\n",
    "# cluster"
   ]
  },
  {
   "cell_type": "markdown",
   "id": "fb9bcd7e",
   "metadata": {},
   "source": [
    "### Loading Dataset"
   ]
  },
  {
   "cell_type": "markdown",
   "metadata": {},
   "source": [
    "##### 📚 Ontologies"
   ]
  },
  {
   "cell_type": "code",
   "execution_count": 32,
   "id": "e39ffa2d-7ae5-48c6-b6fd-eade4c257c17",
   "metadata": {
    "tags": []
   },
   "outputs": [
    {
     "data": {
      "text/html": [
       "<pre style=\"white-space:pre;overflow-x:auto;line-height:normal;font-family:Menlo,'DejaVu Sans Mono',consolas,'Courier New',monospace\"><span style=\"color: #7fbfbf; text-decoration-color: #7fbfbf\">                    </span><span style=\"color: #000080; text-decoration-color: #000080\">INFO    </span> Loading data from <span style=\"color: #008000; text-decoration-color: #008000\">'go'</span> <span style=\"font-weight: bold\">(</span>KGDataSet<span style=\"font-weight: bold\">)</span><span style=\"color: #808000; text-decoration-color: #808000\">...</span>                              <a href=\"file:///home/rahit/jupyter_py3/lib/python3.8/site-packages/kedro/io/data_catalog.py\" target=\"_blank\"><span style=\"color: #7f7f7f; text-decoration-color: #7f7f7f\">data_catalog.py</span></a><span style=\"color: #7f7f7f; text-decoration-color: #7f7f7f\">:</span><a href=\"file:///home/rahit/jupyter_py3/lib/python3.8/site-packages/kedro/io/data_catalog.py#492\" target=\"_blank\"><span style=\"color: #7f7f7f; text-decoration-color: #7f7f7f\">492</span></a>\n",
       "</pre>\n"
      ],
      "text/plain": [
       "\u001b[2;36m                   \u001b[0m\u001b[2;36m \u001b[0m\u001b[34mINFO    \u001b[0m Loading data from \u001b[32m'go'\u001b[0m \u001b[1m(\u001b[0mKGDataSet\u001b[1m)\u001b[0m\u001b[33m...\u001b[0m                              \u001b]8;id=527408;file:///home/rahit/jupyter_py3/lib/python3.8/site-packages/kedro/io/data_catalog.py\u001b\\\u001b[2mdata_catalog.py\u001b[0m\u001b]8;;\u001b\\\u001b[2m:\u001b[0m\u001b]8;id=440024;file:///home/rahit/jupyter_py3/lib/python3.8/site-packages/kedro/io/data_catalog.py#492\u001b\\\u001b[2m492\u001b[0m\u001b]8;;\u001b\\\n"
      ]
     },
     "metadata": {},
     "output_type": "display_data"
    },
    {
     "data": {
      "text/html": [
       "<pre style=\"white-space:pre;overflow-x:auto;line-height:normal;font-family:Menlo,'DejaVu Sans Mono',consolas,'Courier New',monospace\"><span style=\"color: #7fbfbf; text-decoration-color: #7fbfbf\">                    </span><span style=\"color: #000080; text-decoration-color: #000080\">INFO    </span> Loading data from <span style=\"color: #008000; text-decoration-color: #008000\">'go'</span> <span style=\"font-weight: bold\">(</span>KGDataSet<span style=\"font-weight: bold\">)</span><span style=\"color: #808000; text-decoration-color: #808000\">...</span>                              <a href=\"file:///home/rahit/jupyter_py3/lib/python3.8/site-packages/kedro/io/data_catalog.py\" target=\"_blank\"><span style=\"color: #7f7f7f; text-decoration-color: #7f7f7f\">data_catalog.py</span></a><span style=\"color: #7f7f7f; text-decoration-color: #7f7f7f\">:</span><a href=\"file:///home/rahit/jupyter_py3/lib/python3.8/site-packages/kedro/io/data_catalog.py#492\" target=\"_blank\"><span style=\"color: #7f7f7f; text-decoration-color: #7f7f7f\">492</span></a>\n",
       "</pre>\n"
      ],
      "text/plain": [
       "\u001b[2;36m                   \u001b[0m\u001b[2;36m \u001b[0m\u001b[34mINFO    \u001b[0m Loading data from \u001b[32m'go'\u001b[0m \u001b[1m(\u001b[0mKGDataSet\u001b[1m)\u001b[0m\u001b[33m...\u001b[0m                              \u001b]8;id=942374;file:///home/rahit/jupyter_py3/lib/python3.8/site-packages/kedro/io/data_catalog.py\u001b\\\u001b[2mdata_catalog.py\u001b[0m\u001b]8;;\u001b\\\u001b[2m:\u001b[0m\u001b]8;id=906582;file:///home/rahit/jupyter_py3/lib/python3.8/site-packages/kedro/io/data_catalog.py#492\u001b\\\u001b[2m492\u001b[0m\u001b]8;;\u001b\\\n"
      ]
     },
     "metadata": {},
     "output_type": "display_data"
    },
    {
     "data": {
      "text/html": [
       "<pre style=\"white-space:pre;overflow-x:auto;line-height:normal;font-family:Menlo,'DejaVu Sans Mono',consolas,'Courier New',monospace\"><span style=\"color: #7fbfbf; text-decoration-color: #7fbfbf\">[12/13/23 04:04:20] </span><span style=\"color: #000080; text-decoration-color: #000080\">INFO    </span> Loading data from <span style=\"color: #008000; text-decoration-color: #008000\">'goa'</span> <span style=\"font-weight: bold\">(</span>GAFDataFile<span style=\"font-weight: bold\">)</span><span style=\"color: #808000; text-decoration-color: #808000\">...</span>                           <a href=\"file:///home/rahit/jupyter_py3/lib/python3.8/site-packages/kedro/io/data_catalog.py\" target=\"_blank\"><span style=\"color: #7f7f7f; text-decoration-color: #7f7f7f\">data_catalog.py</span></a><span style=\"color: #7f7f7f; text-decoration-color: #7f7f7f\">:</span><a href=\"file:///home/rahit/jupyter_py3/lib/python3.8/site-packages/kedro/io/data_catalog.py#492\" target=\"_blank\"><span style=\"color: #7f7f7f; text-decoration-color: #7f7f7f\">492</span></a>\n",
       "</pre>\n"
      ],
      "text/plain": [
       "\u001b[2;36m[12/13/23 04:04:20]\u001b[0m\u001b[2;36m \u001b[0m\u001b[34mINFO    \u001b[0m Loading data from \u001b[32m'goa'\u001b[0m \u001b[1m(\u001b[0mGAFDataFile\u001b[1m)\u001b[0m\u001b[33m...\u001b[0m                           \u001b]8;id=51942;file:///home/rahit/jupyter_py3/lib/python3.8/site-packages/kedro/io/data_catalog.py\u001b\\\u001b[2mdata_catalog.py\u001b[0m\u001b]8;;\u001b\\\u001b[2m:\u001b[0m\u001b]8;id=285376;file:///home/rahit/jupyter_py3/lib/python3.8/site-packages/kedro/io/data_catalog.py#492\u001b\\\u001b[2m492\u001b[0m\u001b]8;;\u001b\\\n"
      ]
     },
     "metadata": {},
     "output_type": "display_data"
    },
    {
     "data": {
      "text/html": [
       "<pre style=\"white-space:pre;overflow-x:auto;line-height:normal;font-family:Menlo,'DejaVu Sans Mono',consolas,'Courier New',monospace\"><span style=\"color: #7fbfbf; text-decoration-color: #7fbfbf\">                    </span><span style=\"color: #000080; text-decoration-color: #000080\">INFO    </span> Loading data from <span style=\"color: #008000; text-decoration-color: #008000\">'goa'</span> <span style=\"font-weight: bold\">(</span>GAFDataFile<span style=\"font-weight: bold\">)</span><span style=\"color: #808000; text-decoration-color: #808000\">...</span>                           <a href=\"file:///home/rahit/jupyter_py3/lib/python3.8/site-packages/kedro/io/data_catalog.py\" target=\"_blank\"><span style=\"color: #7f7f7f; text-decoration-color: #7f7f7f\">data_catalog.py</span></a><span style=\"color: #7f7f7f; text-decoration-color: #7f7f7f\">:</span><a href=\"file:///home/rahit/jupyter_py3/lib/python3.8/site-packages/kedro/io/data_catalog.py#492\" target=\"_blank\"><span style=\"color: #7f7f7f; text-decoration-color: #7f7f7f\">492</span></a>\n",
       "</pre>\n"
      ],
      "text/plain": [
       "\u001b[2;36m                   \u001b[0m\u001b[2;36m \u001b[0m\u001b[34mINFO    \u001b[0m Loading data from \u001b[32m'goa'\u001b[0m \u001b[1m(\u001b[0mGAFDataFile\u001b[1m)\u001b[0m\u001b[33m...\u001b[0m                           \u001b]8;id=247041;file:///home/rahit/jupyter_py3/lib/python3.8/site-packages/kedro/io/data_catalog.py\u001b\\\u001b[2mdata_catalog.py\u001b[0m\u001b]8;;\u001b\\\u001b[2m:\u001b[0m\u001b]8;id=40603;file:///home/rahit/jupyter_py3/lib/python3.8/site-packages/kedro/io/data_catalog.py#492\u001b\\\u001b[2m492\u001b[0m\u001b]8;;\u001b\\\n"
      ]
     },
     "metadata": {},
     "output_type": "display_data"
    },
    {
     "data": {
      "text/html": [
       "<pre style=\"white-space:pre;overflow-x:auto;line-height:normal;font-family:Menlo,'DejaVu Sans Mono',consolas,'Courier New',monospace\"><span style=\"color: #7fbfbf; text-decoration-color: #7fbfbf\">[12/13/23 04:04:24] </span><span style=\"color: #000080; text-decoration-color: #000080\">INFO    </span> Loading data from <span style=\"color: #008000; text-decoration-color: #008000\">'wb_go'</span> <span style=\"font-weight: bold\">(</span>KGDataSet<span style=\"font-weight: bold\">)</span><span style=\"color: #808000; text-decoration-color: #808000\">...</span>                           <a href=\"file:///home/rahit/jupyter_py3/lib/python3.8/site-packages/kedro/io/data_catalog.py\" target=\"_blank\"><span style=\"color: #7f7f7f; text-decoration-color: #7f7f7f\">data_catalog.py</span></a><span style=\"color: #7f7f7f; text-decoration-color: #7f7f7f\">:</span><a href=\"file:///home/rahit/jupyter_py3/lib/python3.8/site-packages/kedro/io/data_catalog.py#492\" target=\"_blank\"><span style=\"color: #7f7f7f; text-decoration-color: #7f7f7f\">492</span></a>\n",
       "</pre>\n"
      ],
      "text/plain": [
       "\u001b[2;36m[12/13/23 04:04:24]\u001b[0m\u001b[2;36m \u001b[0m\u001b[34mINFO    \u001b[0m Loading data from \u001b[32m'wb_go'\u001b[0m \u001b[1m(\u001b[0mKGDataSet\u001b[1m)\u001b[0m\u001b[33m...\u001b[0m                           \u001b]8;id=24149;file:///home/rahit/jupyter_py3/lib/python3.8/site-packages/kedro/io/data_catalog.py\u001b\\\u001b[2mdata_catalog.py\u001b[0m\u001b]8;;\u001b\\\u001b[2m:\u001b[0m\u001b]8;id=501271;file:///home/rahit/jupyter_py3/lib/python3.8/site-packages/kedro/io/data_catalog.py#492\u001b\\\u001b[2m492\u001b[0m\u001b]8;;\u001b\\\n"
      ]
     },
     "metadata": {},
     "output_type": "display_data"
    },
    {
     "data": {
      "text/html": [
       "<pre style=\"white-space:pre;overflow-x:auto;line-height:normal;font-family:Menlo,'DejaVu Sans Mono',consolas,'Courier New',monospace\"><span style=\"color: #7fbfbf; text-decoration-color: #7fbfbf\">                    </span><span style=\"color: #000080; text-decoration-color: #000080\">INFO    </span> Loading data from <span style=\"color: #008000; text-decoration-color: #008000\">'wb_go'</span> <span style=\"font-weight: bold\">(</span>KGDataSet<span style=\"font-weight: bold\">)</span><span style=\"color: #808000; text-decoration-color: #808000\">...</span>                           <a href=\"file:///home/rahit/jupyter_py3/lib/python3.8/site-packages/kedro/io/data_catalog.py\" target=\"_blank\"><span style=\"color: #7f7f7f; text-decoration-color: #7f7f7f\">data_catalog.py</span></a><span style=\"color: #7f7f7f; text-decoration-color: #7f7f7f\">:</span><a href=\"file:///home/rahit/jupyter_py3/lib/python3.8/site-packages/kedro/io/data_catalog.py#492\" target=\"_blank\"><span style=\"color: #7f7f7f; text-decoration-color: #7f7f7f\">492</span></a>\n",
       "</pre>\n"
      ],
      "text/plain": [
       "\u001b[2;36m                   \u001b[0m\u001b[2;36m \u001b[0m\u001b[34mINFO    \u001b[0m Loading data from \u001b[32m'wb_go'\u001b[0m \u001b[1m(\u001b[0mKGDataSet\u001b[1m)\u001b[0m\u001b[33m...\u001b[0m                           \u001b]8;id=111083;file:///home/rahit/jupyter_py3/lib/python3.8/site-packages/kedro/io/data_catalog.py\u001b\\\u001b[2mdata_catalog.py\u001b[0m\u001b]8;;\u001b\\\u001b[2m:\u001b[0m\u001b]8;id=749836;file:///home/rahit/jupyter_py3/lib/python3.8/site-packages/kedro/io/data_catalog.py#492\u001b\\\u001b[2m492\u001b[0m\u001b]8;;\u001b\\\n"
      ]
     },
     "metadata": {},
     "output_type": "display_data"
    },
    {
     "data": {
      "text/html": [
       "<pre style=\"white-space:pre;overflow-x:auto;line-height:normal;font-family:Menlo,'DejaVu Sans Mono',consolas,'Courier New',monospace\"><span style=\"color: #7fbfbf; text-decoration-color: #7fbfbf\">[12/13/23 04:04:42] </span><span style=\"color: #000080; text-decoration-color: #000080\">INFO    </span> Loading data from <span style=\"color: #008000; text-decoration-color: #008000\">'wb_goa'</span> <span style=\"font-weight: bold\">(</span>GAFDataFile<span style=\"font-weight: bold\">)</span><span style=\"color: #808000; text-decoration-color: #808000\">...</span>                        <a href=\"file:///home/rahit/jupyter_py3/lib/python3.8/site-packages/kedro/io/data_catalog.py\" target=\"_blank\"><span style=\"color: #7f7f7f; text-decoration-color: #7f7f7f\">data_catalog.py</span></a><span style=\"color: #7f7f7f; text-decoration-color: #7f7f7f\">:</span><a href=\"file:///home/rahit/jupyter_py3/lib/python3.8/site-packages/kedro/io/data_catalog.py#492\" target=\"_blank\"><span style=\"color: #7f7f7f; text-decoration-color: #7f7f7f\">492</span></a>\n",
       "</pre>\n"
      ],
      "text/plain": [
       "\u001b[2;36m[12/13/23 04:04:42]\u001b[0m\u001b[2;36m \u001b[0m\u001b[34mINFO    \u001b[0m Loading data from \u001b[32m'wb_goa'\u001b[0m \u001b[1m(\u001b[0mGAFDataFile\u001b[1m)\u001b[0m\u001b[33m...\u001b[0m                        \u001b]8;id=999369;file:///home/rahit/jupyter_py3/lib/python3.8/site-packages/kedro/io/data_catalog.py\u001b\\\u001b[2mdata_catalog.py\u001b[0m\u001b]8;;\u001b\\\u001b[2m:\u001b[0m\u001b]8;id=232607;file:///home/rahit/jupyter_py3/lib/python3.8/site-packages/kedro/io/data_catalog.py#492\u001b\\\u001b[2m492\u001b[0m\u001b]8;;\u001b\\\n"
      ]
     },
     "metadata": {},
     "output_type": "display_data"
    },
    {
     "data": {
      "text/html": [
       "<pre style=\"white-space:pre;overflow-x:auto;line-height:normal;font-family:Menlo,'DejaVu Sans Mono',consolas,'Courier New',monospace\"><span style=\"color: #7fbfbf; text-decoration-color: #7fbfbf\">                    </span><span style=\"color: #000080; text-decoration-color: #000080\">INFO    </span> Loading data from <span style=\"color: #008000; text-decoration-color: #008000\">'wb_goa'</span> <span style=\"font-weight: bold\">(</span>GAFDataFile<span style=\"font-weight: bold\">)</span><span style=\"color: #808000; text-decoration-color: #808000\">...</span>                        <a href=\"file:///home/rahit/jupyter_py3/lib/python3.8/site-packages/kedro/io/data_catalog.py\" target=\"_blank\"><span style=\"color: #7f7f7f; text-decoration-color: #7f7f7f\">data_catalog.py</span></a><span style=\"color: #7f7f7f; text-decoration-color: #7f7f7f\">:</span><a href=\"file:///home/rahit/jupyter_py3/lib/python3.8/site-packages/kedro/io/data_catalog.py#492\" target=\"_blank\"><span style=\"color: #7f7f7f; text-decoration-color: #7f7f7f\">492</span></a>\n",
       "</pre>\n"
      ],
      "text/plain": [
       "\u001b[2;36m                   \u001b[0m\u001b[2;36m \u001b[0m\u001b[34mINFO    \u001b[0m Loading data from \u001b[32m'wb_goa'\u001b[0m \u001b[1m(\u001b[0mGAFDataFile\u001b[1m)\u001b[0m\u001b[33m...\u001b[0m                        \u001b]8;id=348349;file:///home/rahit/jupyter_py3/lib/python3.8/site-packages/kedro/io/data_catalog.py\u001b\\\u001b[2mdata_catalog.py\u001b[0m\u001b]8;;\u001b\\\u001b[2m:\u001b[0m\u001b]8;id=456219;file:///home/rahit/jupyter_py3/lib/python3.8/site-packages/kedro/io/data_catalog.py#492\u001b\\\u001b[2m492\u001b[0m\u001b]8;;\u001b\\\n"
      ]
     },
     "metadata": {},
     "output_type": "display_data"
    },
    {
     "data": {
      "text/html": [
       "<pre style=\"white-space:pre;overflow-x:auto;line-height:normal;font-family:Menlo,'DejaVu Sans Mono',consolas,'Courier New',monospace\"><span style=\"color: #7fbfbf; text-decoration-color: #7fbfbf\">[12/13/23 04:04:44] </span><span style=\"color: #000080; text-decoration-color: #000080\">INFO    </span> Loading data from <span style=\"color: #008000; text-decoration-color: #008000\">'hpo'</span> <span style=\"font-weight: bold\">(</span>KGDataSet<span style=\"font-weight: bold\">)</span><span style=\"color: #808000; text-decoration-color: #808000\">...</span>                             <a href=\"file:///home/rahit/jupyter_py3/lib/python3.8/site-packages/kedro/io/data_catalog.py\" target=\"_blank\"><span style=\"color: #7f7f7f; text-decoration-color: #7f7f7f\">data_catalog.py</span></a><span style=\"color: #7f7f7f; text-decoration-color: #7f7f7f\">:</span><a href=\"file:///home/rahit/jupyter_py3/lib/python3.8/site-packages/kedro/io/data_catalog.py#492\" target=\"_blank\"><span style=\"color: #7f7f7f; text-decoration-color: #7f7f7f\">492</span></a>\n",
       "</pre>\n"
      ],
      "text/plain": [
       "\u001b[2;36m[12/13/23 04:04:44]\u001b[0m\u001b[2;36m \u001b[0m\u001b[34mINFO    \u001b[0m Loading data from \u001b[32m'hpo'\u001b[0m \u001b[1m(\u001b[0mKGDataSet\u001b[1m)\u001b[0m\u001b[33m...\u001b[0m                             \u001b]8;id=752582;file:///home/rahit/jupyter_py3/lib/python3.8/site-packages/kedro/io/data_catalog.py\u001b\\\u001b[2mdata_catalog.py\u001b[0m\u001b]8;;\u001b\\\u001b[2m:\u001b[0m\u001b]8;id=947587;file:///home/rahit/jupyter_py3/lib/python3.8/site-packages/kedro/io/data_catalog.py#492\u001b\\\u001b[2m492\u001b[0m\u001b]8;;\u001b\\\n"
      ]
     },
     "metadata": {},
     "output_type": "display_data"
    },
    {
     "data": {
      "text/html": [
       "<pre style=\"white-space:pre;overflow-x:auto;line-height:normal;font-family:Menlo,'DejaVu Sans Mono',consolas,'Courier New',monospace\"><span style=\"color: #7fbfbf; text-decoration-color: #7fbfbf\">                    </span><span style=\"color: #000080; text-decoration-color: #000080\">INFO    </span> Loading data from <span style=\"color: #008000; text-decoration-color: #008000\">'hpo'</span> <span style=\"font-weight: bold\">(</span>KGDataSet<span style=\"font-weight: bold\">)</span><span style=\"color: #808000; text-decoration-color: #808000\">...</span>                             <a href=\"file:///home/rahit/jupyter_py3/lib/python3.8/site-packages/kedro/io/data_catalog.py\" target=\"_blank\"><span style=\"color: #7f7f7f; text-decoration-color: #7f7f7f\">data_catalog.py</span></a><span style=\"color: #7f7f7f; text-decoration-color: #7f7f7f\">:</span><a href=\"file:///home/rahit/jupyter_py3/lib/python3.8/site-packages/kedro/io/data_catalog.py#492\" target=\"_blank\"><span style=\"color: #7f7f7f; text-decoration-color: #7f7f7f\">492</span></a>\n",
       "</pre>\n"
      ],
      "text/plain": [
       "\u001b[2;36m                   \u001b[0m\u001b[2;36m \u001b[0m\u001b[34mINFO    \u001b[0m Loading data from \u001b[32m'hpo'\u001b[0m \u001b[1m(\u001b[0mKGDataSet\u001b[1m)\u001b[0m\u001b[33m...\u001b[0m                             \u001b]8;id=240201;file:///home/rahit/jupyter_py3/lib/python3.8/site-packages/kedro/io/data_catalog.py\u001b\\\u001b[2mdata_catalog.py\u001b[0m\u001b]8;;\u001b\\\u001b[2m:\u001b[0m\u001b]8;id=969285;file:///home/rahit/jupyter_py3/lib/python3.8/site-packages/kedro/io/data_catalog.py#492\u001b\\\u001b[2m492\u001b[0m\u001b]8;;\u001b\\\n"
      ]
     },
     "metadata": {},
     "output_type": "display_data"
    },
    {
     "data": {
      "text/html": [
       "<pre style=\"white-space:pre;overflow-x:auto;line-height:normal;font-family:Menlo,'DejaVu Sans Mono',consolas,'Courier New',monospace\"><span style=\"color: #7fbfbf; text-decoration-color: #7fbfbf\">[12/13/23 04:04:45] </span><span style=\"color: #800000; text-decoration-color: #800000\">WARNING </span> <span style=\"color: #800080; text-decoration-color: #800080\">/project/6013424/rahit/modspy-data/src/modspy_data/extras/datasets/</span><span style=\"color: #ff00ff; text-decoration-color: #ff00ff\">kno</span> <a href=\"file:///cvmfs/soft.computecanada.ca/easybuild/software/2020/avx2/Core/python/3.8.10/lib/python3.8/warnings.py\" target=\"_blank\"><span style=\"color: #7f7f7f; text-decoration-color: #7f7f7f\">warnings.py</span></a><span style=\"color: #7f7f7f; text-decoration-color: #7f7f7f\">:</span><a href=\"file:///cvmfs/soft.computecanada.ca/easybuild/software/2020/avx2/Core/python/3.8.10/lib/python3.8/warnings.py#109\" target=\"_blank\"><span style=\"color: #7f7f7f; text-decoration-color: #7f7f7f\">109</span></a>\n",
       "<span style=\"color: #7fbfbf; text-decoration-color: #7fbfbf\">                    </span>         <span style=\"color: #ff00ff; text-decoration-color: #ff00ff\">wledge_graph_dataset.py</span>:<span style=\"color: #008080; text-decoration-color: #008080; font-weight: bold\">70</span>: UnicodeWarning: unsound encoding, assuming <span style=\"color: #7f7f7f; text-decoration-color: #7f7f7f\">               </span>\n",
       "<span style=\"color: #7fbfbf; text-decoration-color: #7fbfbf\">                    </span>         utf-<span style=\"color: #008080; text-decoration-color: #008080; font-weight: bold\">8</span> <span style=\"font-weight: bold\">(</span><span style=\"color: #008080; text-decoration-color: #008080; font-weight: bold\">75</span>% confidence<span style=\"font-weight: bold\">)</span>                                                 <span style=\"color: #7f7f7f; text-decoration-color: #7f7f7f\">               </span>\n",
       "<span style=\"color: #7fbfbf; text-decoration-color: #7fbfbf\">                    </span>           po = <span style=\"color: #800080; text-decoration-color: #800080; font-weight: bold\">pronto.Ontology</span><span style=\"font-weight: bold\">(</span><span style=\"color: #808000; text-decoration-color: #808000\">handle</span>=<span style=\"color: #800080; text-decoration-color: #800080\">load_path</span><span style=\"font-weight: bold\">)</span>                               <span style=\"color: #7f7f7f; text-decoration-color: #7f7f7f\">               </span>\n",
       "<span style=\"color: #7fbfbf; text-decoration-color: #7fbfbf\">                    </span>                                                                                <span style=\"color: #7f7f7f; text-decoration-color: #7f7f7f\">               </span>\n",
       "</pre>\n"
      ],
      "text/plain": [
       "\u001b[2;36m[12/13/23 04:04:45]\u001b[0m\u001b[2;36m \u001b[0m\u001b[31mWARNING \u001b[0m \u001b[35m/project/6013424/rahit/modspy-data/src/modspy_data/extras/datasets/\u001b[0m\u001b[95mkno\u001b[0m \u001b]8;id=370891;file:///cvmfs/soft.computecanada.ca/easybuild/software/2020/avx2/Core/python/3.8.10/lib/python3.8/warnings.py\u001b\\\u001b[2mwarnings.py\u001b[0m\u001b]8;;\u001b\\\u001b[2m:\u001b[0m\u001b]8;id=127439;file:///cvmfs/soft.computecanada.ca/easybuild/software/2020/avx2/Core/python/3.8.10/lib/python3.8/warnings.py#109\u001b\\\u001b[2m109\u001b[0m\u001b]8;;\u001b\\\n",
       "\u001b[2;36m                    \u001b[0m         \u001b[95mwledge_graph_dataset.py\u001b[0m:\u001b[1;36m70\u001b[0m: UnicodeWarning: unsound encoding, assuming \u001b[2m               \u001b[0m\n",
       "\u001b[2;36m                    \u001b[0m         utf-\u001b[1;36m8\u001b[0m \u001b[1m(\u001b[0m\u001b[1;36m75\u001b[0m% confidence\u001b[1m)\u001b[0m                                                 \u001b[2m               \u001b[0m\n",
       "\u001b[2;36m                    \u001b[0m           po = \u001b[1;35mpronto.Ontology\u001b[0m\u001b[1m(\u001b[0m\u001b[33mhandle\u001b[0m=\u001b[35mload_path\u001b[0m\u001b[1m)\u001b[0m                               \u001b[2m               \u001b[0m\n",
       "\u001b[2;36m                    \u001b[0m                                                                                \u001b[2m               \u001b[0m\n"
      ]
     },
     "metadata": {},
     "output_type": "display_data"
    },
    {
     "data": {
      "text/html": [
       "<pre style=\"white-space:pre;overflow-x:auto;line-height:normal;font-family:Menlo,'DejaVu Sans Mono',consolas,'Courier New',monospace\"><span style=\"color: #7fbfbf; text-decoration-color: #7fbfbf\">[12/13/23 04:04:46] </span><span style=\"color: #000080; text-decoration-color: #000080\">INFO    </span> Loading data from <span style=\"color: #008000; text-decoration-color: #008000\">'hpoa'</span> <span style=\"font-weight: bold\">(</span>CSVDataSet<span style=\"font-weight: bold\">)</span><span style=\"color: #808000; text-decoration-color: #808000\">...</span>                           <a href=\"file:///home/rahit/jupyter_py3/lib/python3.8/site-packages/kedro/io/data_catalog.py\" target=\"_blank\"><span style=\"color: #7f7f7f; text-decoration-color: #7f7f7f\">data_catalog.py</span></a><span style=\"color: #7f7f7f; text-decoration-color: #7f7f7f\">:</span><a href=\"file:///home/rahit/jupyter_py3/lib/python3.8/site-packages/kedro/io/data_catalog.py#492\" target=\"_blank\"><span style=\"color: #7f7f7f; text-decoration-color: #7f7f7f\">492</span></a>\n",
       "</pre>\n"
      ],
      "text/plain": [
       "\u001b[2;36m[12/13/23 04:04:46]\u001b[0m\u001b[2;36m \u001b[0m\u001b[34mINFO    \u001b[0m Loading data from \u001b[32m'hpoa'\u001b[0m \u001b[1m(\u001b[0mCSVDataSet\u001b[1m)\u001b[0m\u001b[33m...\u001b[0m                           \u001b]8;id=840226;file:///home/rahit/jupyter_py3/lib/python3.8/site-packages/kedro/io/data_catalog.py\u001b\\\u001b[2mdata_catalog.py\u001b[0m\u001b]8;;\u001b\\\u001b[2m:\u001b[0m\u001b]8;id=484300;file:///home/rahit/jupyter_py3/lib/python3.8/site-packages/kedro/io/data_catalog.py#492\u001b\\\u001b[2m492\u001b[0m\u001b]8;;\u001b\\\n"
      ]
     },
     "metadata": {},
     "output_type": "display_data"
    },
    {
     "data": {
      "text/html": [
       "<pre style=\"white-space:pre;overflow-x:auto;line-height:normal;font-family:Menlo,'DejaVu Sans Mono',consolas,'Courier New',monospace\"><span style=\"color: #7fbfbf; text-decoration-color: #7fbfbf\">                    </span><span style=\"color: #000080; text-decoration-color: #000080\">INFO    </span> Loading data from <span style=\"color: #008000; text-decoration-color: #008000\">'hpoa'</span> <span style=\"font-weight: bold\">(</span>CSVDataSet<span style=\"font-weight: bold\">)</span><span style=\"color: #808000; text-decoration-color: #808000\">...</span>                           <a href=\"file:///home/rahit/jupyter_py3/lib/python3.8/site-packages/kedro/io/data_catalog.py\" target=\"_blank\"><span style=\"color: #7f7f7f; text-decoration-color: #7f7f7f\">data_catalog.py</span></a><span style=\"color: #7f7f7f; text-decoration-color: #7f7f7f\">:</span><a href=\"file:///home/rahit/jupyter_py3/lib/python3.8/site-packages/kedro/io/data_catalog.py#492\" target=\"_blank\"><span style=\"color: #7f7f7f; text-decoration-color: #7f7f7f\">492</span></a>\n",
       "</pre>\n"
      ],
      "text/plain": [
       "\u001b[2;36m                   \u001b[0m\u001b[2;36m \u001b[0m\u001b[34mINFO    \u001b[0m Loading data from \u001b[32m'hpoa'\u001b[0m \u001b[1m(\u001b[0mCSVDataSet\u001b[1m)\u001b[0m\u001b[33m...\u001b[0m                           \u001b]8;id=812695;file:///home/rahit/jupyter_py3/lib/python3.8/site-packages/kedro/io/data_catalog.py\u001b\\\u001b[2mdata_catalog.py\u001b[0m\u001b]8;;\u001b\\\u001b[2m:\u001b[0m\u001b]8;id=753880;file:///home/rahit/jupyter_py3/lib/python3.8/site-packages/kedro/io/data_catalog.py#492\u001b\\\u001b[2m492\u001b[0m\u001b]8;;\u001b\\\n"
      ]
     },
     "metadata": {},
     "output_type": "display_data"
    },
    {
     "data": {
      "text/html": [
       "<pre style=\"white-space:pre;overflow-x:auto;line-height:normal;font-family:Menlo,'DejaVu Sans Mono',consolas,'Courier New',monospace\"><span style=\"color: #7fbfbf; text-decoration-color: #7fbfbf\">                    </span><span style=\"color: #800000; text-decoration-color: #800000\">WARNING </span> <span style=\"color: #800080; text-decoration-color: #800080\">/home/rahit/jupyter_py3/lib/python3.8/site-packages/kedro/extras/datas</span> <a href=\"file:///cvmfs/soft.computecanada.ca/easybuild/software/2020/avx2/Core/python/3.8.10/lib/python3.8/warnings.py\" target=\"_blank\"><span style=\"color: #7f7f7f; text-decoration-color: #7f7f7f\">warnings.py</span></a><span style=\"color: #7f7f7f; text-decoration-color: #7f7f7f\">:</span><a href=\"file:///cvmfs/soft.computecanada.ca/easybuild/software/2020/avx2/Core/python/3.8.10/lib/python3.8/warnings.py#109\" target=\"_blank\"><span style=\"color: #7f7f7f; text-decoration-color: #7f7f7f\">109</span></a>\n",
       "<span style=\"color: #7fbfbf; text-decoration-color: #7fbfbf\">                    </span>         <span style=\"color: #800080; text-decoration-color: #800080\">ets/pandas/</span><span style=\"color: #ff00ff; text-decoration-color: #ff00ff\">csv_dataset.py</span>:<span style=\"color: #008080; text-decoration-color: #008080; font-weight: bold\">160</span>: ParserWarning: Falling back to the      <span style=\"color: #7f7f7f; text-decoration-color: #7f7f7f\">               </span>\n",
       "<span style=\"color: #7fbfbf; text-decoration-color: #7fbfbf\">                    </span>         <span style=\"color: #008000; text-decoration-color: #008000\">'python'</span> engine because the <span style=\"color: #008000; text-decoration-color: #008000\">'c'</span> engine does not support regex          <span style=\"color: #7f7f7f; text-decoration-color: #7f7f7f\">               </span>\n",
       "<span style=\"color: #7fbfbf; text-decoration-color: #7fbfbf\">                    </span>         separators <span style=\"font-weight: bold\">(</span>separators &gt; <span style=\"color: #008080; text-decoration-color: #008080; font-weight: bold\">1</span> char and different from <span style=\"color: #008000; text-decoration-color: #008000\">'\\s+'</span> are           <span style=\"color: #7f7f7f; text-decoration-color: #7f7f7f\">               </span>\n",
       "<span style=\"color: #7fbfbf; text-decoration-color: #7fbfbf\">                    </span>         interpreted as regex<span style=\"font-weight: bold\">)</span>; you can avoid this warning by specifying        <span style=\"color: #7f7f7f; text-decoration-color: #7f7f7f\">               </span>\n",
       "<span style=\"color: #7fbfbf; text-decoration-color: #7fbfbf\">                    </span>         <span style=\"color: #808000; text-decoration-color: #808000\">engine</span>=<span style=\"color: #008000; text-decoration-color: #008000\">'python'</span>.                                                       <span style=\"color: #7f7f7f; text-decoration-color: #7f7f7f\">               </span>\n",
       "<span style=\"color: #7fbfbf; text-decoration-color: #7fbfbf\">                    </span>           return <span style=\"color: #800080; text-decoration-color: #800080; font-weight: bold\">pd.read_csv</span><span style=\"font-weight: bold\">(</span>load_path, **self._load_args<span style=\"font-weight: bold\">)</span>                     <span style=\"color: #7f7f7f; text-decoration-color: #7f7f7f\">               </span>\n",
       "<span style=\"color: #7fbfbf; text-decoration-color: #7fbfbf\">                    </span>                                                                                <span style=\"color: #7f7f7f; text-decoration-color: #7f7f7f\">               </span>\n",
       "</pre>\n"
      ],
      "text/plain": [
       "\u001b[2;36m                   \u001b[0m\u001b[2;36m \u001b[0m\u001b[31mWARNING \u001b[0m \u001b[35m/home/rahit/jupyter_py3/lib/python3.8/site-packages/kedro/extras/datas\u001b[0m \u001b]8;id=439840;file:///cvmfs/soft.computecanada.ca/easybuild/software/2020/avx2/Core/python/3.8.10/lib/python3.8/warnings.py\u001b\\\u001b[2mwarnings.py\u001b[0m\u001b]8;;\u001b\\\u001b[2m:\u001b[0m\u001b]8;id=147258;file:///cvmfs/soft.computecanada.ca/easybuild/software/2020/avx2/Core/python/3.8.10/lib/python3.8/warnings.py#109\u001b\\\u001b[2m109\u001b[0m\u001b]8;;\u001b\\\n",
       "\u001b[2;36m                    \u001b[0m         \u001b[35mets/pandas/\u001b[0m\u001b[95mcsv_dataset.py\u001b[0m:\u001b[1;36m160\u001b[0m: ParserWarning: Falling back to the      \u001b[2m               \u001b[0m\n",
       "\u001b[2;36m                    \u001b[0m         \u001b[32m'python'\u001b[0m engine because the \u001b[32m'c'\u001b[0m engine does not support regex          \u001b[2m               \u001b[0m\n",
       "\u001b[2;36m                    \u001b[0m         separators \u001b[1m(\u001b[0mseparators > \u001b[1;36m1\u001b[0m char and different from \u001b[32m'\\s+'\u001b[0m are           \u001b[2m               \u001b[0m\n",
       "\u001b[2;36m                    \u001b[0m         interpreted as regex\u001b[1m)\u001b[0m; you can avoid this warning by specifying        \u001b[2m               \u001b[0m\n",
       "\u001b[2;36m                    \u001b[0m         \u001b[33mengine\u001b[0m=\u001b[32m'python'\u001b[0m.                                                       \u001b[2m               \u001b[0m\n",
       "\u001b[2;36m                    \u001b[0m           return \u001b[1;35mpd.read_csv\u001b[0m\u001b[1m(\u001b[0mload_path, **self._load_args\u001b[1m)\u001b[0m                     \u001b[2m               \u001b[0m\n",
       "\u001b[2;36m                    \u001b[0m                                                                                \u001b[2m               \u001b[0m\n"
      ]
     },
     "metadata": {},
     "output_type": "display_data"
    },
    {
     "data": {
      "text/html": [
       "<pre style=\"white-space:pre;overflow-x:auto;line-height:normal;font-family:Menlo,'DejaVu Sans Mono',consolas,'Courier New',monospace\"><span style=\"color: #7fbfbf; text-decoration-color: #7fbfbf\">[12/13/23 04:04:48] </span><span style=\"color: #000080; text-decoration-color: #000080\">INFO    </span> Loading data from <span style=\"color: #008000; text-decoration-color: #008000\">'wb_po'</span> <span style=\"font-weight: bold\">(</span>KGDataSet<span style=\"font-weight: bold\">)</span><span style=\"color: #808000; text-decoration-color: #808000\">...</span>                           <a href=\"file:///home/rahit/jupyter_py3/lib/python3.8/site-packages/kedro/io/data_catalog.py\" target=\"_blank\"><span style=\"color: #7f7f7f; text-decoration-color: #7f7f7f\">data_catalog.py</span></a><span style=\"color: #7f7f7f; text-decoration-color: #7f7f7f\">:</span><a href=\"file:///home/rahit/jupyter_py3/lib/python3.8/site-packages/kedro/io/data_catalog.py#492\" target=\"_blank\"><span style=\"color: #7f7f7f; text-decoration-color: #7f7f7f\">492</span></a>\n",
       "</pre>\n"
      ],
      "text/plain": [
       "\u001b[2;36m[12/13/23 04:04:48]\u001b[0m\u001b[2;36m \u001b[0m\u001b[34mINFO    \u001b[0m Loading data from \u001b[32m'wb_po'\u001b[0m \u001b[1m(\u001b[0mKGDataSet\u001b[1m)\u001b[0m\u001b[33m...\u001b[0m                           \u001b]8;id=363032;file:///home/rahit/jupyter_py3/lib/python3.8/site-packages/kedro/io/data_catalog.py\u001b\\\u001b[2mdata_catalog.py\u001b[0m\u001b]8;;\u001b\\\u001b[2m:\u001b[0m\u001b]8;id=808063;file:///home/rahit/jupyter_py3/lib/python3.8/site-packages/kedro/io/data_catalog.py#492\u001b\\\u001b[2m492\u001b[0m\u001b]8;;\u001b\\\n"
      ]
     },
     "metadata": {},
     "output_type": "display_data"
    },
    {
     "data": {
      "text/html": [
       "<pre style=\"white-space:pre;overflow-x:auto;line-height:normal;font-family:Menlo,'DejaVu Sans Mono',consolas,'Courier New',monospace\"><span style=\"color: #7fbfbf; text-decoration-color: #7fbfbf\">                    </span><span style=\"color: #000080; text-decoration-color: #000080\">INFO    </span> Loading data from <span style=\"color: #008000; text-decoration-color: #008000\">'wb_po'</span> <span style=\"font-weight: bold\">(</span>KGDataSet<span style=\"font-weight: bold\">)</span><span style=\"color: #808000; text-decoration-color: #808000\">...</span>                           <a href=\"file:///home/rahit/jupyter_py3/lib/python3.8/site-packages/kedro/io/data_catalog.py\" target=\"_blank\"><span style=\"color: #7f7f7f; text-decoration-color: #7f7f7f\">data_catalog.py</span></a><span style=\"color: #7f7f7f; text-decoration-color: #7f7f7f\">:</span><a href=\"file:///home/rahit/jupyter_py3/lib/python3.8/site-packages/kedro/io/data_catalog.py#492\" target=\"_blank\"><span style=\"color: #7f7f7f; text-decoration-color: #7f7f7f\">492</span></a>\n",
       "</pre>\n"
      ],
      "text/plain": [
       "\u001b[2;36m                   \u001b[0m\u001b[2;36m \u001b[0m\u001b[34mINFO    \u001b[0m Loading data from \u001b[32m'wb_po'\u001b[0m \u001b[1m(\u001b[0mKGDataSet\u001b[1m)\u001b[0m\u001b[33m...\u001b[0m                           \u001b]8;id=26477;file:///home/rahit/jupyter_py3/lib/python3.8/site-packages/kedro/io/data_catalog.py\u001b\\\u001b[2mdata_catalog.py\u001b[0m\u001b]8;;\u001b\\\u001b[2m:\u001b[0m\u001b]8;id=850491;file:///home/rahit/jupyter_py3/lib/python3.8/site-packages/kedro/io/data_catalog.py#492\u001b\\\u001b[2m492\u001b[0m\u001b]8;;\u001b\\\n"
      ]
     },
     "metadata": {},
     "output_type": "display_data"
    },
    {
     "data": {
      "text/html": [
       "<pre style=\"white-space:pre;overflow-x:auto;line-height:normal;font-family:Menlo,'DejaVu Sans Mono',consolas,'Courier New',monospace\"><span style=\"color: #7fbfbf; text-decoration-color: #7fbfbf\">[12/13/23 04:04:49] </span><span style=\"color: #000080; text-decoration-color: #000080\">INFO    </span> Loading data from <span style=\"color: #008000; text-decoration-color: #008000\">'wb_poa'</span> <span style=\"font-weight: bold\">(</span>GAFDataFile<span style=\"font-weight: bold\">)</span><span style=\"color: #808000; text-decoration-color: #808000\">...</span>                        <a href=\"file:///home/rahit/jupyter_py3/lib/python3.8/site-packages/kedro/io/data_catalog.py\" target=\"_blank\"><span style=\"color: #7f7f7f; text-decoration-color: #7f7f7f\">data_catalog.py</span></a><span style=\"color: #7f7f7f; text-decoration-color: #7f7f7f\">:</span><a href=\"file:///home/rahit/jupyter_py3/lib/python3.8/site-packages/kedro/io/data_catalog.py#492\" target=\"_blank\"><span style=\"color: #7f7f7f; text-decoration-color: #7f7f7f\">492</span></a>\n",
       "</pre>\n"
      ],
      "text/plain": [
       "\u001b[2;36m[12/13/23 04:04:49]\u001b[0m\u001b[2;36m \u001b[0m\u001b[34mINFO    \u001b[0m Loading data from \u001b[32m'wb_poa'\u001b[0m \u001b[1m(\u001b[0mGAFDataFile\u001b[1m)\u001b[0m\u001b[33m...\u001b[0m                        \u001b]8;id=281481;file:///home/rahit/jupyter_py3/lib/python3.8/site-packages/kedro/io/data_catalog.py\u001b\\\u001b[2mdata_catalog.py\u001b[0m\u001b]8;;\u001b\\\u001b[2m:\u001b[0m\u001b]8;id=954373;file:///home/rahit/jupyter_py3/lib/python3.8/site-packages/kedro/io/data_catalog.py#492\u001b\\\u001b[2m492\u001b[0m\u001b]8;;\u001b\\\n"
      ]
     },
     "metadata": {},
     "output_type": "display_data"
    },
    {
     "data": {
      "text/html": [
       "<pre style=\"white-space:pre;overflow-x:auto;line-height:normal;font-family:Menlo,'DejaVu Sans Mono',consolas,'Courier New',monospace\"><span style=\"color: #7fbfbf; text-decoration-color: #7fbfbf\">                    </span><span style=\"color: #000080; text-decoration-color: #000080\">INFO    </span> Loading data from <span style=\"color: #008000; text-decoration-color: #008000\">'wb_poa'</span> <span style=\"font-weight: bold\">(</span>GAFDataFile<span style=\"font-weight: bold\">)</span><span style=\"color: #808000; text-decoration-color: #808000\">...</span>                        <a href=\"file:///home/rahit/jupyter_py3/lib/python3.8/site-packages/kedro/io/data_catalog.py\" target=\"_blank\"><span style=\"color: #7f7f7f; text-decoration-color: #7f7f7f\">data_catalog.py</span></a><span style=\"color: #7f7f7f; text-decoration-color: #7f7f7f\">:</span><a href=\"file:///home/rahit/jupyter_py3/lib/python3.8/site-packages/kedro/io/data_catalog.py#492\" target=\"_blank\"><span style=\"color: #7f7f7f; text-decoration-color: #7f7f7f\">492</span></a>\n",
       "</pre>\n"
      ],
      "text/plain": [
       "\u001b[2;36m                   \u001b[0m\u001b[2;36m \u001b[0m\u001b[34mINFO    \u001b[0m Loading data from \u001b[32m'wb_poa'\u001b[0m \u001b[1m(\u001b[0mGAFDataFile\u001b[1m)\u001b[0m\u001b[33m...\u001b[0m                        \u001b]8;id=739953;file:///home/rahit/jupyter_py3/lib/python3.8/site-packages/kedro/io/data_catalog.py\u001b\\\u001b[2mdata_catalog.py\u001b[0m\u001b]8;;\u001b\\\u001b[2m:\u001b[0m\u001b]8;id=739619;file:///home/rahit/jupyter_py3/lib/python3.8/site-packages/kedro/io/data_catalog.py#492\u001b\\\u001b[2m492\u001b[0m\u001b]8;;\u001b\\\n"
      ]
     },
     "metadata": {},
     "output_type": "display_data"
    },
    {
     "data": {
      "text/html": [
       "<pre style=\"white-space:pre;overflow-x:auto;line-height:normal;font-family:Menlo,'DejaVu Sans Mono',consolas,'Courier New',monospace\"><span style=\"color: #7fbfbf; text-decoration-color: #7fbfbf\">[12/13/23 04:04:52] </span><span style=\"color: #000080; text-decoration-color: #000080\">INFO    </span> Loading data from <span style=\"color: #008000; text-decoration-color: #008000\">'do'</span> <span style=\"font-weight: bold\">(</span>KGDataSet<span style=\"font-weight: bold\">)</span><span style=\"color: #808000; text-decoration-color: #808000\">...</span>                              <a href=\"file:///home/rahit/jupyter_py3/lib/python3.8/site-packages/kedro/io/data_catalog.py\" target=\"_blank\"><span style=\"color: #7f7f7f; text-decoration-color: #7f7f7f\">data_catalog.py</span></a><span style=\"color: #7f7f7f; text-decoration-color: #7f7f7f\">:</span><a href=\"file:///home/rahit/jupyter_py3/lib/python3.8/site-packages/kedro/io/data_catalog.py#492\" target=\"_blank\"><span style=\"color: #7f7f7f; text-decoration-color: #7f7f7f\">492</span></a>\n",
       "</pre>\n"
      ],
      "text/plain": [
       "\u001b[2;36m[12/13/23 04:04:52]\u001b[0m\u001b[2;36m \u001b[0m\u001b[34mINFO    \u001b[0m Loading data from \u001b[32m'do'\u001b[0m \u001b[1m(\u001b[0mKGDataSet\u001b[1m)\u001b[0m\u001b[33m...\u001b[0m                              \u001b]8;id=877228;file:///home/rahit/jupyter_py3/lib/python3.8/site-packages/kedro/io/data_catalog.py\u001b\\\u001b[2mdata_catalog.py\u001b[0m\u001b]8;;\u001b\\\u001b[2m:\u001b[0m\u001b]8;id=61087;file:///home/rahit/jupyter_py3/lib/python3.8/site-packages/kedro/io/data_catalog.py#492\u001b\\\u001b[2m492\u001b[0m\u001b]8;;\u001b\\\n"
      ]
     },
     "metadata": {},
     "output_type": "display_data"
    },
    {
     "data": {
      "text/html": [
       "<pre style=\"white-space:pre;overflow-x:auto;line-height:normal;font-family:Menlo,'DejaVu Sans Mono',consolas,'Courier New',monospace\"><span style=\"color: #7fbfbf; text-decoration-color: #7fbfbf\">                    </span><span style=\"color: #000080; text-decoration-color: #000080\">INFO    </span> Loading data from <span style=\"color: #008000; text-decoration-color: #008000\">'do'</span> <span style=\"font-weight: bold\">(</span>KGDataSet<span style=\"font-weight: bold\">)</span><span style=\"color: #808000; text-decoration-color: #808000\">...</span>                              <a href=\"file:///home/rahit/jupyter_py3/lib/python3.8/site-packages/kedro/io/data_catalog.py\" target=\"_blank\"><span style=\"color: #7f7f7f; text-decoration-color: #7f7f7f\">data_catalog.py</span></a><span style=\"color: #7f7f7f; text-decoration-color: #7f7f7f\">:</span><a href=\"file:///home/rahit/jupyter_py3/lib/python3.8/site-packages/kedro/io/data_catalog.py#492\" target=\"_blank\"><span style=\"color: #7f7f7f; text-decoration-color: #7f7f7f\">492</span></a>\n",
       "</pre>\n"
      ],
      "text/plain": [
       "\u001b[2;36m                   \u001b[0m\u001b[2;36m \u001b[0m\u001b[34mINFO    \u001b[0m Loading data from \u001b[32m'do'\u001b[0m \u001b[1m(\u001b[0mKGDataSet\u001b[1m)\u001b[0m\u001b[33m...\u001b[0m                              \u001b]8;id=209575;file:///home/rahit/jupyter_py3/lib/python3.8/site-packages/kedro/io/data_catalog.py\u001b\\\u001b[2mdata_catalog.py\u001b[0m\u001b]8;;\u001b\\\u001b[2m:\u001b[0m\u001b]8;id=604992;file:///home/rahit/jupyter_py3/lib/python3.8/site-packages/kedro/io/data_catalog.py#492\u001b\\\u001b[2m492\u001b[0m\u001b]8;;\u001b\\\n"
      ]
     },
     "metadata": {},
     "output_type": "display_data"
    },
    {
     "data": {
      "text/html": [
       "<pre style=\"white-space:pre;overflow-x:auto;line-height:normal;font-family:Menlo,'DejaVu Sans Mono',consolas,'Courier New',monospace\"><span style=\"color: #7fbfbf; text-decoration-color: #7fbfbf\">[12/13/23 04:04:58] </span><span style=\"color: #000080; text-decoration-color: #000080\">INFO    </span> Loading data from <span style=\"color: #008000; text-decoration-color: #008000\">'doa'</span> <span style=\"font-weight: bold\">(</span>CSVDataSet<span style=\"font-weight: bold\">)</span><span style=\"color: #808000; text-decoration-color: #808000\">...</span>                            <a href=\"file:///home/rahit/jupyter_py3/lib/python3.8/site-packages/kedro/io/data_catalog.py\" target=\"_blank\"><span style=\"color: #7f7f7f; text-decoration-color: #7f7f7f\">data_catalog.py</span></a><span style=\"color: #7f7f7f; text-decoration-color: #7f7f7f\">:</span><a href=\"file:///home/rahit/jupyter_py3/lib/python3.8/site-packages/kedro/io/data_catalog.py#492\" target=\"_blank\"><span style=\"color: #7f7f7f; text-decoration-color: #7f7f7f\">492</span></a>\n",
       "</pre>\n"
      ],
      "text/plain": [
       "\u001b[2;36m[12/13/23 04:04:58]\u001b[0m\u001b[2;36m \u001b[0m\u001b[34mINFO    \u001b[0m Loading data from \u001b[32m'doa'\u001b[0m \u001b[1m(\u001b[0mCSVDataSet\u001b[1m)\u001b[0m\u001b[33m...\u001b[0m                            \u001b]8;id=402436;file:///home/rahit/jupyter_py3/lib/python3.8/site-packages/kedro/io/data_catalog.py\u001b\\\u001b[2mdata_catalog.py\u001b[0m\u001b]8;;\u001b\\\u001b[2m:\u001b[0m\u001b]8;id=985691;file:///home/rahit/jupyter_py3/lib/python3.8/site-packages/kedro/io/data_catalog.py#492\u001b\\\u001b[2m492\u001b[0m\u001b]8;;\u001b\\\n"
      ]
     },
     "metadata": {},
     "output_type": "display_data"
    },
    {
     "data": {
      "text/html": [
       "<pre style=\"white-space:pre;overflow-x:auto;line-height:normal;font-family:Menlo,'DejaVu Sans Mono',consolas,'Courier New',monospace\"><span style=\"color: #7fbfbf; text-decoration-color: #7fbfbf\">                    </span><span style=\"color: #000080; text-decoration-color: #000080\">INFO    </span> Loading data from <span style=\"color: #008000; text-decoration-color: #008000\">'doa'</span> <span style=\"font-weight: bold\">(</span>CSVDataSet<span style=\"font-weight: bold\">)</span><span style=\"color: #808000; text-decoration-color: #808000\">...</span>                            <a href=\"file:///home/rahit/jupyter_py3/lib/python3.8/site-packages/kedro/io/data_catalog.py\" target=\"_blank\"><span style=\"color: #7f7f7f; text-decoration-color: #7f7f7f\">data_catalog.py</span></a><span style=\"color: #7f7f7f; text-decoration-color: #7f7f7f\">:</span><a href=\"file:///home/rahit/jupyter_py3/lib/python3.8/site-packages/kedro/io/data_catalog.py#492\" target=\"_blank\"><span style=\"color: #7f7f7f; text-decoration-color: #7f7f7f\">492</span></a>\n",
       "</pre>\n"
      ],
      "text/plain": [
       "\u001b[2;36m                   \u001b[0m\u001b[2;36m \u001b[0m\u001b[34mINFO    \u001b[0m Loading data from \u001b[32m'doa'\u001b[0m \u001b[1m(\u001b[0mCSVDataSet\u001b[1m)\u001b[0m\u001b[33m...\u001b[0m                            \u001b]8;id=203758;file:///home/rahit/jupyter_py3/lib/python3.8/site-packages/kedro/io/data_catalog.py\u001b\\\u001b[2mdata_catalog.py\u001b[0m\u001b]8;;\u001b\\\u001b[2m:\u001b[0m\u001b]8;id=921341;file:///home/rahit/jupyter_py3/lib/python3.8/site-packages/kedro/io/data_catalog.py#492\u001b\\\u001b[2m492\u001b[0m\u001b]8;;\u001b\\\n"
      ]
     },
     "metadata": {},
     "output_type": "display_data"
    },
    {
     "data": {
      "text/html": [
       "<pre style=\"white-space:pre;overflow-x:auto;line-height:normal;font-family:Menlo,'DejaVu Sans Mono',consolas,'Courier New',monospace\"><span style=\"color: #7fbfbf; text-decoration-color: #7fbfbf\">                    </span><span style=\"color: #800000; text-decoration-color: #800000\">WARNING </span> <span style=\"color: #800080; text-decoration-color: #800080\">/home/rahit/jupyter_py3/lib/python3.8/site-packages/kedro/extras/datas</span> <a href=\"file:///cvmfs/soft.computecanada.ca/easybuild/software/2020/avx2/Core/python/3.8.10/lib/python3.8/warnings.py\" target=\"_blank\"><span style=\"color: #7f7f7f; text-decoration-color: #7f7f7f\">warnings.py</span></a><span style=\"color: #7f7f7f; text-decoration-color: #7f7f7f\">:</span><a href=\"file:///cvmfs/soft.computecanada.ca/easybuild/software/2020/avx2/Core/python/3.8.10/lib/python3.8/warnings.py#109\" target=\"_blank\"><span style=\"color: #7f7f7f; text-decoration-color: #7f7f7f\">109</span></a>\n",
       "<span style=\"color: #7fbfbf; text-decoration-color: #7fbfbf\">                    </span>         <span style=\"color: #800080; text-decoration-color: #800080\">ets/pandas/</span><span style=\"color: #ff00ff; text-decoration-color: #ff00ff\">csv_dataset.py</span>:<span style=\"color: #008080; text-decoration-color: #008080; font-weight: bold\">160</span>: ParserWarning: Falling back to the      <span style=\"color: #7f7f7f; text-decoration-color: #7f7f7f\">               </span>\n",
       "<span style=\"color: #7fbfbf; text-decoration-color: #7fbfbf\">                    </span>         <span style=\"color: #008000; text-decoration-color: #008000\">'python'</span> engine because the <span style=\"color: #008000; text-decoration-color: #008000\">'c'</span> engine does not support regex          <span style=\"color: #7f7f7f; text-decoration-color: #7f7f7f\">               </span>\n",
       "<span style=\"color: #7fbfbf; text-decoration-color: #7fbfbf\">                    </span>         separators <span style=\"font-weight: bold\">(</span>separators &gt; <span style=\"color: #008080; text-decoration-color: #008080; font-weight: bold\">1</span> char and different from <span style=\"color: #008000; text-decoration-color: #008000\">'\\s+'</span> are           <span style=\"color: #7f7f7f; text-decoration-color: #7f7f7f\">               </span>\n",
       "<span style=\"color: #7fbfbf; text-decoration-color: #7fbfbf\">                    </span>         interpreted as regex<span style=\"font-weight: bold\">)</span>; you can avoid this warning by specifying        <span style=\"color: #7f7f7f; text-decoration-color: #7f7f7f\">               </span>\n",
       "<span style=\"color: #7fbfbf; text-decoration-color: #7fbfbf\">                    </span>         <span style=\"color: #808000; text-decoration-color: #808000\">engine</span>=<span style=\"color: #008000; text-decoration-color: #008000\">'python'</span>.                                                       <span style=\"color: #7f7f7f; text-decoration-color: #7f7f7f\">               </span>\n",
       "<span style=\"color: #7fbfbf; text-decoration-color: #7fbfbf\">                    </span>           return <span style=\"color: #800080; text-decoration-color: #800080; font-weight: bold\">pd.read_csv</span><span style=\"font-weight: bold\">(</span>load_path, **self._load_args<span style=\"font-weight: bold\">)</span>                     <span style=\"color: #7f7f7f; text-decoration-color: #7f7f7f\">               </span>\n",
       "<span style=\"color: #7fbfbf; text-decoration-color: #7fbfbf\">                    </span>                                                                                <span style=\"color: #7f7f7f; text-decoration-color: #7f7f7f\">               </span>\n",
       "</pre>\n"
      ],
      "text/plain": [
       "\u001b[2;36m                   \u001b[0m\u001b[2;36m \u001b[0m\u001b[31mWARNING \u001b[0m \u001b[35m/home/rahit/jupyter_py3/lib/python3.8/site-packages/kedro/extras/datas\u001b[0m \u001b]8;id=437389;file:///cvmfs/soft.computecanada.ca/easybuild/software/2020/avx2/Core/python/3.8.10/lib/python3.8/warnings.py\u001b\\\u001b[2mwarnings.py\u001b[0m\u001b]8;;\u001b\\\u001b[2m:\u001b[0m\u001b]8;id=971845;file:///cvmfs/soft.computecanada.ca/easybuild/software/2020/avx2/Core/python/3.8.10/lib/python3.8/warnings.py#109\u001b\\\u001b[2m109\u001b[0m\u001b]8;;\u001b\\\n",
       "\u001b[2;36m                    \u001b[0m         \u001b[35mets/pandas/\u001b[0m\u001b[95mcsv_dataset.py\u001b[0m:\u001b[1;36m160\u001b[0m: ParserWarning: Falling back to the      \u001b[2m               \u001b[0m\n",
       "\u001b[2;36m                    \u001b[0m         \u001b[32m'python'\u001b[0m engine because the \u001b[32m'c'\u001b[0m engine does not support regex          \u001b[2m               \u001b[0m\n",
       "\u001b[2;36m                    \u001b[0m         separators \u001b[1m(\u001b[0mseparators > \u001b[1;36m1\u001b[0m char and different from \u001b[32m'\\s+'\u001b[0m are           \u001b[2m               \u001b[0m\n",
       "\u001b[2;36m                    \u001b[0m         interpreted as regex\u001b[1m)\u001b[0m; you can avoid this warning by specifying        \u001b[2m               \u001b[0m\n",
       "\u001b[2;36m                    \u001b[0m         \u001b[33mengine\u001b[0m=\u001b[32m'python'\u001b[0m.                                                       \u001b[2m               \u001b[0m\n",
       "\u001b[2;36m                    \u001b[0m           return \u001b[1;35mpd.read_csv\u001b[0m\u001b[1m(\u001b[0mload_path, **self._load_args\u001b[1m)\u001b[0m                     \u001b[2m               \u001b[0m\n",
       "\u001b[2;36m                    \u001b[0m                                                                                \u001b[2m               \u001b[0m\n"
      ]
     },
     "metadata": {},
     "output_type": "display_data"
    }
   ],
   "source": [
    "# Human GO from UniPort\n",
    "up_go = catalog.load('go')\n",
    "up_goa = catalog.load(\"goa\")\n",
    "\n",
    "# Wormbase GO\n",
    "wb_go = catalog.load('wb_go')\n",
    "wb_goa = catalog.load(\"wb_goa\")\n",
    "\n",
    "# HPO\n",
    "hpo = catalog.load('hpo')\n",
    "hpoa = catalog.load('hpoa')\n",
    "\n",
    "# Wormbase PO\n",
    "wb_po = catalog.load('wb_po')\n",
    "wb_poa = catalog.load('wb_poa')\n",
    "\n",
    "# Alliance Genome Resource Disease Ontology\n",
    "do = catalog.load('do')\n",
    "doa = catalog.load('doa')"
   ]
  },
  {
   "cell_type": "code",
   "execution_count": 33,
   "id": "657b97df",
   "metadata": {},
   "outputs": [],
   "source": [
    "# Seperating human and worm Disease ontology annotation\n",
    "human_doa = doa[doa['Taxon'].str.contains('Taxon:9606')]\n",
    "worm_doa = doa[doa['Taxon'].str.contains('Taxon:6239')]"
   ]
  },
  {
   "cell_type": "code",
   "execution_count": 34,
   "id": "8d56d561",
   "metadata": {},
   "outputs": [
    {
     "data": {
      "text/html": [
       "<pre style=\"white-space:pre;overflow-x:auto;line-height:normal;font-family:Menlo,'DejaVu Sans Mono',consolas,'Courier New',monospace\"><span style=\"color: #008080; text-decoration-color: #008080; font-weight: bold\">30942</span> <span style=\"color: #008080; text-decoration-color: #008080; font-weight: bold\">41503</span>\n",
       "</pre>\n"
      ],
      "text/plain": [
       "\u001b[1;36m30942\u001b[0m \u001b[1;36m41503\u001b[0m\n"
      ]
     },
     "metadata": {},
     "output_type": "display_data"
    }
   ],
   "source": [
    "# Output some basic information about the graph\n",
    "\n",
    "# GO\n",
    "num_nodes = hpo.number_of_nodes()\n",
    "num_edges = hpo.number_of_edges()\n",
    "print(num_nodes, num_edges)\n",
    "\n"
   ]
  },
  {
   "cell_type": "markdown",
   "metadata": {},
   "source": [
    "MTG related"
   ]
  },
  {
   "cell_type": "code",
   "execution_count": 35,
   "metadata": {},
   "outputs": [
    {
     "data": {
      "text/html": [
       "<pre style=\"white-space:pre;overflow-x:auto;line-height:normal;font-family:Menlo,'DejaVu Sans Mono',consolas,'Courier New',monospace\"><span style=\"font-weight: bold\">(</span><span style=\"color: #008080; text-decoration-color: #008080; font-weight: bold\">5374</span>, <span style=\"color: #008080; text-decoration-color: #008080; font-weight: bold\">56</span><span style=\"font-weight: bold\">)</span>\n",
       "</pre>\n"
      ],
      "text/plain": [
       "\u001b[1m(\u001b[0m\u001b[1;36m5374\u001b[0m, \u001b[1;36m56\u001b[0m\u001b[1m)\u001b[0m\n"
      ]
     },
     "metadata": {},
     "output_type": "display_data"
    },
    {
     "data": {
      "text/html": [
       "<div>\n",
       "<style scoped>\n",
       "    .dataframe tbody tr th:only-of-type {\n",
       "        vertical-align: middle;\n",
       "    }\n",
       "\n",
       "    .dataframe tbody tr th {\n",
       "        vertical-align: top;\n",
       "    }\n",
       "\n",
       "    .dataframe thead th {\n",
       "        text-align: right;\n",
       "    }\n",
       "</style>\n",
       "<table border=\"1\" class=\"dataframe\">\n",
       "  <thead>\n",
       "    <tr style=\"text-align: right;\">\n",
       "      <th></th>\n",
       "      <th>wormbase_gene_id</th>\n",
       "      <th>target_gene_id</th>\n",
       "      <th>go_n_common_ancestors_max</th>\n",
       "      <th>go_n_common_ancestors_avg</th>\n",
       "      <th>go_n_common_ancestors_bma</th>\n",
       "      <th>go_n_union_ancestors_max</th>\n",
       "      <th>go_n_union_ancestors_avg</th>\n",
       "      <th>go_n_union_ancestors_bma</th>\n",
       "      <th>go_batet_max</th>\n",
       "      <th>go_batet_avg</th>\n",
       "      <th>...</th>\n",
       "      <th>wpo_resnik_scaled_bma</th>\n",
       "      <th>wpo_lin_max</th>\n",
       "      <th>wpo_lin_avg</th>\n",
       "      <th>wpo_lin_bma</th>\n",
       "      <th>wpo_jiang_max</th>\n",
       "      <th>wpo_jiang_avg</th>\n",
       "      <th>wpo_jiang_bma</th>\n",
       "      <th>wpo_jiang_seco_max</th>\n",
       "      <th>wpo_jiang_seco_avg</th>\n",
       "      <th>wpo_jiang_seco_bma</th>\n",
       "    </tr>\n",
       "  </thead>\n",
       "  <tbody>\n",
       "    <tr>\n",
       "      <th>0</th>\n",
       "      <td>WBGene00009065</td>\n",
       "      <td>WBGene00006988</td>\n",
       "      <td>14.0</td>\n",
       "      <td>2.310000</td>\n",
       "      <td>4.023256</td>\n",
       "      <td>132.0</td>\n",
       "      <td>31.391667</td>\n",
       "      <td>52.232558</td>\n",
       "      <td>0.368421</td>\n",
       "      <td>0.088865</td>\n",
       "      <td>...</td>\n",
       "      <td>0.000000</td>\n",
       "      <td>0.00000</td>\n",
       "      <td>0.000000</td>\n",
       "      <td>0.000000</td>\n",
       "      <td>0.000000</td>\n",
       "      <td>0.000000</td>\n",
       "      <td>0.000000</td>\n",
       "      <td>0.000000</td>\n",
       "      <td>0.000000</td>\n",
       "      <td>0.000000</td>\n",
       "    </tr>\n",
       "    <tr>\n",
       "      <th>1</th>\n",
       "      <td>WBGene00021171</td>\n",
       "      <td>WBGene00006988</td>\n",
       "      <td>0.0</td>\n",
       "      <td>0.000000</td>\n",
       "      <td>0.000000</td>\n",
       "      <td>0.0</td>\n",
       "      <td>0.000000</td>\n",
       "      <td>0.000000</td>\n",
       "      <td>0.000000</td>\n",
       "      <td>0.000000</td>\n",
       "      <td>...</td>\n",
       "      <td>0.000000</td>\n",
       "      <td>0.00000</td>\n",
       "      <td>0.000000</td>\n",
       "      <td>0.000000</td>\n",
       "      <td>0.000000</td>\n",
       "      <td>0.000000</td>\n",
       "      <td>0.000000</td>\n",
       "      <td>0.000000</td>\n",
       "      <td>0.000000</td>\n",
       "      <td>0.000000</td>\n",
       "    </tr>\n",
       "    <tr>\n",
       "      <th>2</th>\n",
       "      <td>WBGene00003196</td>\n",
       "      <td>WBGene00006988</td>\n",
       "      <td>7.0</td>\n",
       "      <td>1.637131</td>\n",
       "      <td>2.540000</td>\n",
       "      <td>114.0</td>\n",
       "      <td>22.180000</td>\n",
       "      <td>45.340000</td>\n",
       "      <td>1.000000</td>\n",
       "      <td>0.099218</td>\n",
       "      <td>...</td>\n",
       "      <td>0.705974</td>\n",
       "      <td>1.00000</td>\n",
       "      <td>0.334903</td>\n",
       "      <td>0.780028</td>\n",
       "      <td>1.000000</td>\n",
       "      <td>0.123475</td>\n",
       "      <td>0.491183</td>\n",
       "      <td>1.000000</td>\n",
       "      <td>0.310373</td>\n",
       "      <td>0.812368</td>\n",
       "    </tr>\n",
       "    <tr>\n",
       "      <th>3</th>\n",
       "      <td>WBGene00011803</td>\n",
       "      <td>WBGene00006988</td>\n",
       "      <td>10.0</td>\n",
       "      <td>2.226054</td>\n",
       "      <td>4.553571</td>\n",
       "      <td>126.0</td>\n",
       "      <td>23.554688</td>\n",
       "      <td>64.589286</td>\n",
       "      <td>1.000000</td>\n",
       "      <td>0.124857</td>\n",
       "      <td>...</td>\n",
       "      <td>0.416211</td>\n",
       "      <td>1.00000</td>\n",
       "      <td>0.414459</td>\n",
       "      <td>0.485633</td>\n",
       "      <td>1.000000</td>\n",
       "      <td>0.147428</td>\n",
       "      <td>0.213067</td>\n",
       "      <td>1.000000</td>\n",
       "      <td>0.442764</td>\n",
       "      <td>0.556453</td>\n",
       "    </tr>\n",
       "    <tr>\n",
       "      <th>4</th>\n",
       "      <td>WBGene00011563</td>\n",
       "      <td>WBGene00006988</td>\n",
       "      <td>16.0</td>\n",
       "      <td>3.196970</td>\n",
       "      <td>5.354167</td>\n",
       "      <td>159.0</td>\n",
       "      <td>32.956250</td>\n",
       "      <td>87.000000</td>\n",
       "      <td>1.000000</td>\n",
       "      <td>0.116295</td>\n",
       "      <td>...</td>\n",
       "      <td>0.430959</td>\n",
       "      <td>1.00000</td>\n",
       "      <td>0.343568</td>\n",
       "      <td>0.516151</td>\n",
       "      <td>1.000000</td>\n",
       "      <td>0.138143</td>\n",
       "      <td>0.291885</td>\n",
       "      <td>1.000000</td>\n",
       "      <td>0.371137</td>\n",
       "      <td>0.600209</td>\n",
       "    </tr>\n",
       "    <tr>\n",
       "      <th>...</th>\n",
       "      <td>...</td>\n",
       "      <td>...</td>\n",
       "      <td>...</td>\n",
       "      <td>...</td>\n",
       "      <td>...</td>\n",
       "      <td>...</td>\n",
       "      <td>...</td>\n",
       "      <td>...</td>\n",
       "      <td>...</td>\n",
       "      <td>...</td>\n",
       "      <td>...</td>\n",
       "      <td>...</td>\n",
       "      <td>...</td>\n",
       "      <td>...</td>\n",
       "      <td>...</td>\n",
       "      <td>...</td>\n",
       "      <td>...</td>\n",
       "      <td>...</td>\n",
       "      <td>...</td>\n",
       "      <td>...</td>\n",
       "      <td>...</td>\n",
       "    </tr>\n",
       "    <tr>\n",
       "      <th>5369</th>\n",
       "      <td>WBGene00001182</td>\n",
       "      <td>WBGene00006988</td>\n",
       "      <td>8.0</td>\n",
       "      <td>2.379699</td>\n",
       "      <td>4.038462</td>\n",
       "      <td>162.0</td>\n",
       "      <td>31.414583</td>\n",
       "      <td>89.576923</td>\n",
       "      <td>0.444444</td>\n",
       "      <td>0.094707</td>\n",
       "      <td>...</td>\n",
       "      <td>0.693100</td>\n",
       "      <td>1.00000</td>\n",
       "      <td>0.239683</td>\n",
       "      <td>0.773077</td>\n",
       "      <td>1.000000</td>\n",
       "      <td>0.097038</td>\n",
       "      <td>0.419774</td>\n",
       "      <td>1.000000</td>\n",
       "      <td>0.220895</td>\n",
       "      <td>0.796617</td>\n",
       "    </tr>\n",
       "    <tr>\n",
       "      <th>5370</th>\n",
       "      <td>WBGene00018280</td>\n",
       "      <td>WBGene00006988</td>\n",
       "      <td>3.0</td>\n",
       "      <td>1.646259</td>\n",
       "      <td>1.851064</td>\n",
       "      <td>112.0</td>\n",
       "      <td>21.500000</td>\n",
       "      <td>39.595745</td>\n",
       "      <td>0.400000</td>\n",
       "      <td>0.091482</td>\n",
       "      <td>...</td>\n",
       "      <td>0.000000</td>\n",
       "      <td>0.00000</td>\n",
       "      <td>0.000000</td>\n",
       "      <td>0.000000</td>\n",
       "      <td>0.000000</td>\n",
       "      <td>0.000000</td>\n",
       "      <td>0.000000</td>\n",
       "      <td>0.000000</td>\n",
       "      <td>0.000000</td>\n",
       "      <td>0.000000</td>\n",
       "    </tr>\n",
       "    <tr>\n",
       "      <th>5371</th>\n",
       "      <td>WBGene00018607</td>\n",
       "      <td>WBGene00006988</td>\n",
       "      <td>5.0</td>\n",
       "      <td>1.589286</td>\n",
       "      <td>2.121212</td>\n",
       "      <td>110.0</td>\n",
       "      <td>21.241667</td>\n",
       "      <td>33.325581</td>\n",
       "      <td>0.294118</td>\n",
       "      <td>0.105984</td>\n",
       "      <td>...</td>\n",
       "      <td>0.000000</td>\n",
       "      <td>0.00000</td>\n",
       "      <td>0.000000</td>\n",
       "      <td>0.000000</td>\n",
       "      <td>0.000000</td>\n",
       "      <td>0.000000</td>\n",
       "      <td>0.000000</td>\n",
       "      <td>0.000000</td>\n",
       "      <td>0.000000</td>\n",
       "      <td>0.000000</td>\n",
       "    </tr>\n",
       "    <tr>\n",
       "      <th>5372</th>\n",
       "      <td>WBGene00016534</td>\n",
       "      <td>WBGene00006988</td>\n",
       "      <td>3.0</td>\n",
       "      <td>1.653846</td>\n",
       "      <td>1.947368</td>\n",
       "      <td>103.0</td>\n",
       "      <td>17.625000</td>\n",
       "      <td>24.209302</td>\n",
       "      <td>1.000000</td>\n",
       "      <td>0.220233</td>\n",
       "      <td>...</td>\n",
       "      <td>0.375910</td>\n",
       "      <td>0.79501</td>\n",
       "      <td>0.375066</td>\n",
       "      <td>0.389547</td>\n",
       "      <td>0.254411</td>\n",
       "      <td>0.108569</td>\n",
       "      <td>0.113598</td>\n",
       "      <td>0.800823</td>\n",
       "      <td>0.398932</td>\n",
       "      <td>0.412790</td>\n",
       "    </tr>\n",
       "    <tr>\n",
       "      <th>5373</th>\n",
       "      <td>WBGene00015177</td>\n",
       "      <td>WBGene00006988</td>\n",
       "      <td>3.0</td>\n",
       "      <td>1.699029</td>\n",
       "      <td>1.826087</td>\n",
       "      <td>115.0</td>\n",
       "      <td>21.920833</td>\n",
       "      <td>40.804348</td>\n",
       "      <td>0.400000</td>\n",
       "      <td>0.093442</td>\n",
       "      <td>...</td>\n",
       "      <td>0.000000</td>\n",
       "      <td>0.00000</td>\n",
       "      <td>0.000000</td>\n",
       "      <td>0.000000</td>\n",
       "      <td>0.000000</td>\n",
       "      <td>0.000000</td>\n",
       "      <td>0.000000</td>\n",
       "      <td>0.000000</td>\n",
       "      <td>0.000000</td>\n",
       "      <td>0.000000</td>\n",
       "    </tr>\n",
       "  </tbody>\n",
       "</table>\n",
       "<p>5374 rows × 56 columns</p>\n",
       "</div>"
      ],
      "text/plain": [
       "     wormbase_gene_id  target_gene_id  go_n_common_ancestors_max  \\\n",
       "0      WBGene00009065  WBGene00006988                       14.0   \n",
       "1      WBGene00021171  WBGene00006988                        0.0   \n",
       "2      WBGene00003196  WBGene00006988                        7.0   \n",
       "3      WBGene00011803  WBGene00006988                       10.0   \n",
       "4      WBGene00011563  WBGene00006988                       16.0   \n",
       "...               ...             ...                        ...   \n",
       "5369   WBGene00001182  WBGene00006988                        8.0   \n",
       "5370   WBGene00018280  WBGene00006988                        3.0   \n",
       "5371   WBGene00018607  WBGene00006988                        5.0   \n",
       "5372   WBGene00016534  WBGene00006988                        3.0   \n",
       "5373   WBGene00015177  WBGene00006988                        3.0   \n",
       "\n",
       "      go_n_common_ancestors_avg  go_n_common_ancestors_bma  \\\n",
       "0                      2.310000                   4.023256   \n",
       "1                      0.000000                   0.000000   \n",
       "2                      1.637131                   2.540000   \n",
       "3                      2.226054                   4.553571   \n",
       "4                      3.196970                   5.354167   \n",
       "...                         ...                        ...   \n",
       "5369                   2.379699                   4.038462   \n",
       "5370                   1.646259                   1.851064   \n",
       "5371                   1.589286                   2.121212   \n",
       "5372                   1.653846                   1.947368   \n",
       "5373                   1.699029                   1.826087   \n",
       "\n",
       "      go_n_union_ancestors_max  go_n_union_ancestors_avg  \\\n",
       "0                        132.0                 31.391667   \n",
       "1                          0.0                  0.000000   \n",
       "2                        114.0                 22.180000   \n",
       "3                        126.0                 23.554688   \n",
       "4                        159.0                 32.956250   \n",
       "...                        ...                       ...   \n",
       "5369                     162.0                 31.414583   \n",
       "5370                     112.0                 21.500000   \n",
       "5371                     110.0                 21.241667   \n",
       "5372                     103.0                 17.625000   \n",
       "5373                     115.0                 21.920833   \n",
       "\n",
       "      go_n_union_ancestors_bma  go_batet_max  go_batet_avg  ...  \\\n",
       "0                    52.232558      0.368421      0.088865  ...   \n",
       "1                     0.000000      0.000000      0.000000  ...   \n",
       "2                    45.340000      1.000000      0.099218  ...   \n",
       "3                    64.589286      1.000000      0.124857  ...   \n",
       "4                    87.000000      1.000000      0.116295  ...   \n",
       "...                        ...           ...           ...  ...   \n",
       "5369                 89.576923      0.444444      0.094707  ...   \n",
       "5370                 39.595745      0.400000      0.091482  ...   \n",
       "5371                 33.325581      0.294118      0.105984  ...   \n",
       "5372                 24.209302      1.000000      0.220233  ...   \n",
       "5373                 40.804348      0.400000      0.093442  ...   \n",
       "\n",
       "      wpo_resnik_scaled_bma  wpo_lin_max  wpo_lin_avg  wpo_lin_bma  \\\n",
       "0                  0.000000      0.00000     0.000000     0.000000   \n",
       "1                  0.000000      0.00000     0.000000     0.000000   \n",
       "2                  0.705974      1.00000     0.334903     0.780028   \n",
       "3                  0.416211      1.00000     0.414459     0.485633   \n",
       "4                  0.430959      1.00000     0.343568     0.516151   \n",
       "...                     ...          ...          ...          ...   \n",
       "5369               0.693100      1.00000     0.239683     0.773077   \n",
       "5370               0.000000      0.00000     0.000000     0.000000   \n",
       "5371               0.000000      0.00000     0.000000     0.000000   \n",
       "5372               0.375910      0.79501     0.375066     0.389547   \n",
       "5373               0.000000      0.00000     0.000000     0.000000   \n",
       "\n",
       "      wpo_jiang_max  wpo_jiang_avg  wpo_jiang_bma  wpo_jiang_seco_max  \\\n",
       "0          0.000000       0.000000       0.000000            0.000000   \n",
       "1          0.000000       0.000000       0.000000            0.000000   \n",
       "2          1.000000       0.123475       0.491183            1.000000   \n",
       "3          1.000000       0.147428       0.213067            1.000000   \n",
       "4          1.000000       0.138143       0.291885            1.000000   \n",
       "...             ...            ...            ...                 ...   \n",
       "5369       1.000000       0.097038       0.419774            1.000000   \n",
       "5370       0.000000       0.000000       0.000000            0.000000   \n",
       "5371       0.000000       0.000000       0.000000            0.000000   \n",
       "5372       0.254411       0.108569       0.113598            0.800823   \n",
       "5373       0.000000       0.000000       0.000000            0.000000   \n",
       "\n",
       "      wpo_jiang_seco_avg  wpo_jiang_seco_bma  \n",
       "0               0.000000            0.000000  \n",
       "1               0.000000            0.000000  \n",
       "2               0.310373            0.812368  \n",
       "3               0.442764            0.556453  \n",
       "4               0.371137            0.600209  \n",
       "...                  ...                 ...  \n",
       "5369            0.220895            0.796617  \n",
       "5370            0.000000            0.000000  \n",
       "5371            0.000000            0.000000  \n",
       "5372            0.398932            0.412790  \n",
       "5373            0.000000            0.000000  \n",
       "\n",
       "[5374 rows x 56 columns]"
      ]
     },
     "execution_count": 35,
     "metadata": {},
     "output_type": "execute_result"
    }
   ],
   "source": [
    "all_files = [\n",
    "    # \"./data/01_raw/mtgjan_2023_all_combs_scores_2023-01-21.tsv\",\n",
    "     \"./data/01_raw/mtg/june_2023_all_combs_scores_2023-05-31.tsv\",\n",
    "    ]\n",
    "paired_score_df = pd.concat((pd.read_csv(f, sep='\\t') for f in all_files))\n",
    "print(paired_score_df.shape)\n",
    "paired_score_df"
   ]
  },
  {
   "cell_type": "code",
   "execution_count": 36,
   "metadata": {},
   "outputs": [
    {
     "data": {
      "text/html": [
       "<div>\n",
       "<style scoped>\n",
       "    .dataframe tbody tr th:only-of-type {\n",
       "        vertical-align: middle;\n",
       "    }\n",
       "\n",
       "    .dataframe tbody tr th {\n",
       "        vertical-align: top;\n",
       "    }\n",
       "\n",
       "    .dataframe thead th {\n",
       "        text-align: right;\n",
       "    }\n",
       "</style>\n",
       "<table border=\"1\" class=\"dataframe\">\n",
       "  <thead>\n",
       "    <tr style=\"text-align: right;\">\n",
       "      <th></th>\n",
       "      <th>index</th>\n",
       "      <th>Sample</th>\n",
       "      <th>chromosome</th>\n",
       "      <th>position</th>\n",
       "      <th>ref</th>\n",
       "      <th>alt</th>\n",
       "      <th>wormbase_gene_id</th>\n",
       "      <th>gene_symbol</th>\n",
       "      <th>gene_start_position</th>\n",
       "      <th>gene_end_position</th>\n",
       "      <th>...</th>\n",
       "      <th>homology</th>\n",
       "      <th>coexpression</th>\n",
       "      <th>coexpression_transferred</th>\n",
       "      <th>experiments</th>\n",
       "      <th>experiments_transferred</th>\n",
       "      <th>database</th>\n",
       "      <th>database_transferred</th>\n",
       "      <th>textmining</th>\n",
       "      <th>textmining_transferred</th>\n",
       "      <th>combined_score</th>\n",
       "    </tr>\n",
       "  </thead>\n",
       "  <tbody>\n",
       "    <tr>\n",
       "      <th>0</th>\n",
       "      <td>0</td>\n",
       "      <td>MTG93</td>\n",
       "      <td>I</td>\n",
       "      <td>13162538</td>\n",
       "      <td>G</td>\n",
       "      <td>A</td>\n",
       "      <td>WBGene00009065</td>\n",
       "      <td>F22G12.5</td>\n",
       "      <td>13162492</td>\n",
       "      <td>13182725.0</td>\n",
       "      <td>...</td>\n",
       "      <td>0.0</td>\n",
       "      <td>0.0</td>\n",
       "      <td>0.0</td>\n",
       "      <td>0.0</td>\n",
       "      <td>0.0</td>\n",
       "      <td>0.0</td>\n",
       "      <td>0.0</td>\n",
       "      <td>0.0</td>\n",
       "      <td>0.0</td>\n",
       "      <td>0.0</td>\n",
       "    </tr>\n",
       "    <tr>\n",
       "      <th>1</th>\n",
       "      <td>1</td>\n",
       "      <td>MTG93</td>\n",
       "      <td>II</td>\n",
       "      <td>3797021</td>\n",
       "      <td>T</td>\n",
       "      <td>C</td>\n",
       "      <td>WBGene00021171</td>\n",
       "      <td>Y8A9A.2</td>\n",
       "      <td>3795623</td>\n",
       "      <td>3800608.0</td>\n",
       "      <td>...</td>\n",
       "      <td>0.0</td>\n",
       "      <td>0.0</td>\n",
       "      <td>0.0</td>\n",
       "      <td>0.0</td>\n",
       "      <td>0.0</td>\n",
       "      <td>0.0</td>\n",
       "      <td>0.0</td>\n",
       "      <td>0.0</td>\n",
       "      <td>0.0</td>\n",
       "      <td>0.0</td>\n",
       "    </tr>\n",
       "    <tr>\n",
       "      <th>2</th>\n",
       "      <td>2</td>\n",
       "      <td>MTG93</td>\n",
       "      <td>II</td>\n",
       "      <td>9362312</td>\n",
       "      <td>G</td>\n",
       "      <td>A</td>\n",
       "      <td>WBGene00003196</td>\n",
       "      <td>mel-11</td>\n",
       "      <td>9358531</td>\n",
       "      <td>9369098.0</td>\n",
       "      <td>...</td>\n",
       "      <td>0.0</td>\n",
       "      <td>74.0</td>\n",
       "      <td>48.0</td>\n",
       "      <td>0.0</td>\n",
       "      <td>101.0</td>\n",
       "      <td>0.0</td>\n",
       "      <td>0.0</td>\n",
       "      <td>0.0</td>\n",
       "      <td>61.0</td>\n",
       "      <td>156.0</td>\n",
       "    </tr>\n",
       "    <tr>\n",
       "      <th>3</th>\n",
       "      <td>3</td>\n",
       "      <td>MTG93</td>\n",
       "      <td>III</td>\n",
       "      <td>10045380</td>\n",
       "      <td>C</td>\n",
       "      <td>T</td>\n",
       "      <td>WBGene00011803</td>\n",
       "      <td>T16G12.1</td>\n",
       "      <td>10040191</td>\n",
       "      <td>10049857.0</td>\n",
       "      <td>...</td>\n",
       "      <td>0.0</td>\n",
       "      <td>0.0</td>\n",
       "      <td>0.0</td>\n",
       "      <td>0.0</td>\n",
       "      <td>0.0</td>\n",
       "      <td>0.0</td>\n",
       "      <td>0.0</td>\n",
       "      <td>0.0</td>\n",
       "      <td>0.0</td>\n",
       "      <td>0.0</td>\n",
       "    </tr>\n",
       "    <tr>\n",
       "      <th>4</th>\n",
       "      <td>4</td>\n",
       "      <td>MTG93</td>\n",
       "      <td>III</td>\n",
       "      <td>10333748</td>\n",
       "      <td>G</td>\n",
       "      <td>A</td>\n",
       "      <td>WBGene00011563</td>\n",
       "      <td>jmjd-4</td>\n",
       "      <td>10332526</td>\n",
       "      <td>10334083.0</td>\n",
       "      <td>...</td>\n",
       "      <td>0.0</td>\n",
       "      <td>0.0</td>\n",
       "      <td>0.0</td>\n",
       "      <td>0.0</td>\n",
       "      <td>0.0</td>\n",
       "      <td>0.0</td>\n",
       "      <td>0.0</td>\n",
       "      <td>0.0</td>\n",
       "      <td>0.0</td>\n",
       "      <td>0.0</td>\n",
       "    </tr>\n",
       "    <tr>\n",
       "      <th>...</th>\n",
       "      <td>...</td>\n",
       "      <td>...</td>\n",
       "      <td>...</td>\n",
       "      <td>...</td>\n",
       "      <td>...</td>\n",
       "      <td>...</td>\n",
       "      <td>...</td>\n",
       "      <td>...</td>\n",
       "      <td>...</td>\n",
       "      <td>...</td>\n",
       "      <td>...</td>\n",
       "      <td>...</td>\n",
       "      <td>...</td>\n",
       "      <td>...</td>\n",
       "      <td>...</td>\n",
       "      <td>...</td>\n",
       "      <td>...</td>\n",
       "      <td>...</td>\n",
       "      <td>...</td>\n",
       "      <td>...</td>\n",
       "      <td>...</td>\n",
       "    </tr>\n",
       "    <tr>\n",
       "      <th>7849</th>\n",
       "      <td>109</td>\n",
       "      <td>MTG83</td>\n",
       "      <td>X</td>\n",
       "      <td>7912032</td>\n",
       "      <td>G</td>\n",
       "      <td>A</td>\n",
       "      <td>WBGene00016534</td>\n",
       "      <td>C39D10.7</td>\n",
       "      <td>7907955</td>\n",
       "      <td>7913930.0</td>\n",
       "      <td>...</td>\n",
       "      <td>0.0</td>\n",
       "      <td>0.0</td>\n",
       "      <td>0.0</td>\n",
       "      <td>0.0</td>\n",
       "      <td>0.0</td>\n",
       "      <td>0.0</td>\n",
       "      <td>0.0</td>\n",
       "      <td>0.0</td>\n",
       "      <td>0.0</td>\n",
       "      <td>0.0</td>\n",
       "    </tr>\n",
       "    <tr>\n",
       "      <th>7850</th>\n",
       "      <td>110</td>\n",
       "      <td>MTG83</td>\n",
       "      <td>X</td>\n",
       "      <td>8092257</td>\n",
       "      <td>G</td>\n",
       "      <td>A</td>\n",
       "      <td>WBGene00019493</td>\n",
       "      <td>catp-5</td>\n",
       "      <td>8089826</td>\n",
       "      <td>8098863.0</td>\n",
       "      <td>...</td>\n",
       "      <td>0.0</td>\n",
       "      <td>0.0</td>\n",
       "      <td>0.0</td>\n",
       "      <td>0.0</td>\n",
       "      <td>0.0</td>\n",
       "      <td>0.0</td>\n",
       "      <td>0.0</td>\n",
       "      <td>0.0</td>\n",
       "      <td>0.0</td>\n",
       "      <td>0.0</td>\n",
       "    </tr>\n",
       "    <tr>\n",
       "      <th>7851</th>\n",
       "      <td>111</td>\n",
       "      <td>MTG83</td>\n",
       "      <td>X</td>\n",
       "      <td>9304661</td>\n",
       "      <td>G</td>\n",
       "      <td>A</td>\n",
       "      <td>WBGene00015177</td>\n",
       "      <td>tmc-2</td>\n",
       "      <td>9303724</td>\n",
       "      <td>9310439.0</td>\n",
       "      <td>...</td>\n",
       "      <td>0.0</td>\n",
       "      <td>0.0</td>\n",
       "      <td>0.0</td>\n",
       "      <td>0.0</td>\n",
       "      <td>0.0</td>\n",
       "      <td>0.0</td>\n",
       "      <td>0.0</td>\n",
       "      <td>0.0</td>\n",
       "      <td>0.0</td>\n",
       "      <td>0.0</td>\n",
       "    </tr>\n",
       "    <tr>\n",
       "      <th>7852</th>\n",
       "      <td>112</td>\n",
       "      <td>MTG83</td>\n",
       "      <td>X</td>\n",
       "      <td>9435571</td>\n",
       "      <td>G</td>\n",
       "      <td>A</td>\n",
       "      <td>WBGene00006538</td>\n",
       "      <td>tbb-4</td>\n",
       "      <td>9434452</td>\n",
       "      <td>9436893.0</td>\n",
       "      <td>...</td>\n",
       "      <td>0.0</td>\n",
       "      <td>0.0</td>\n",
       "      <td>0.0</td>\n",
       "      <td>0.0</td>\n",
       "      <td>0.0</td>\n",
       "      <td>0.0</td>\n",
       "      <td>0.0</td>\n",
       "      <td>0.0</td>\n",
       "      <td>0.0</td>\n",
       "      <td>0.0</td>\n",
       "    </tr>\n",
       "    <tr>\n",
       "      <th>7853</th>\n",
       "      <td>113</td>\n",
       "      <td>MTG83</td>\n",
       "      <td>X</td>\n",
       "      <td>9828814</td>\n",
       "      <td>G</td>\n",
       "      <td>A</td>\n",
       "      <td>WBGene00009800</td>\n",
       "      <td>rrc-1</td>\n",
       "      <td>9823752</td>\n",
       "      <td>9831249.0</td>\n",
       "      <td>...</td>\n",
       "      <td>0.0</td>\n",
       "      <td>0.0</td>\n",
       "      <td>0.0</td>\n",
       "      <td>0.0</td>\n",
       "      <td>0.0</td>\n",
       "      <td>0.0</td>\n",
       "      <td>0.0</td>\n",
       "      <td>0.0</td>\n",
       "      <td>0.0</td>\n",
       "      <td>0.0</td>\n",
       "    </tr>\n",
       "  </tbody>\n",
       "</table>\n",
       "<p>7854 rows × 102 columns</p>\n",
       "</div>"
      ],
      "text/plain": [
       "      index Sample chromosome  position ref alt wormbase_gene_id gene_symbol  \\\n",
       "0         0  MTG93          I  13162538   G   A   WBGene00009065    F22G12.5   \n",
       "1         1  MTG93         II   3797021   T   C   WBGene00021171     Y8A9A.2   \n",
       "2         2  MTG93         II   9362312   G   A   WBGene00003196      mel-11   \n",
       "3         3  MTG93        III  10045380   C   T   WBGene00011803    T16G12.1   \n",
       "4         4  MTG93        III  10333748   G   A   WBGene00011563      jmjd-4   \n",
       "...     ...    ...        ...       ...  ..  ..              ...         ...   \n",
       "7849    109  MTG83          X   7912032   G   A   WBGene00016534    C39D10.7   \n",
       "7850    110  MTG83          X   8092257   G   A   WBGene00019493      catp-5   \n",
       "7851    111  MTG83          X   9304661   G   A   WBGene00015177       tmc-2   \n",
       "7852    112  MTG83          X   9435571   G   A   WBGene00006538       tbb-4   \n",
       "7853    113  MTG83          X   9828814   G   A   WBGene00009800       rrc-1   \n",
       "\n",
       "     gene_start_position  gene_end_position  ...  homology coexpression  \\\n",
       "0               13162492         13182725.0  ...       0.0          0.0   \n",
       "1                3795623          3800608.0  ...       0.0          0.0   \n",
       "2                9358531          9369098.0  ...       0.0         74.0   \n",
       "3               10040191         10049857.0  ...       0.0          0.0   \n",
       "4               10332526         10334083.0  ...       0.0          0.0   \n",
       "...                  ...                ...  ...       ...          ...   \n",
       "7849             7907955          7913930.0  ...       0.0          0.0   \n",
       "7850             8089826          8098863.0  ...       0.0          0.0   \n",
       "7851             9303724          9310439.0  ...       0.0          0.0   \n",
       "7852             9434452          9436893.0  ...       0.0          0.0   \n",
       "7853             9823752          9831249.0  ...       0.0          0.0   \n",
       "\n",
       "     coexpression_transferred experiments  experiments_transferred  database  \\\n",
       "0                         0.0         0.0                      0.0       0.0   \n",
       "1                         0.0         0.0                      0.0       0.0   \n",
       "2                        48.0         0.0                    101.0       0.0   \n",
       "3                         0.0         0.0                      0.0       0.0   \n",
       "4                         0.0         0.0                      0.0       0.0   \n",
       "...                       ...         ...                      ...       ...   \n",
       "7849                      0.0         0.0                      0.0       0.0   \n",
       "7850                      0.0         0.0                      0.0       0.0   \n",
       "7851                      0.0         0.0                      0.0       0.0   \n",
       "7852                      0.0         0.0                      0.0       0.0   \n",
       "7853                      0.0         0.0                      0.0       0.0   \n",
       "\n",
       "      database_transferred  textmining  textmining_transferred  combined_score  \n",
       "0                      0.0         0.0                     0.0             0.0  \n",
       "1                      0.0         0.0                     0.0             0.0  \n",
       "2                      0.0         0.0                    61.0           156.0  \n",
       "3                      0.0         0.0                     0.0             0.0  \n",
       "4                      0.0         0.0                     0.0             0.0  \n",
       "...                    ...         ...                     ...             ...  \n",
       "7849                   0.0         0.0                     0.0             0.0  \n",
       "7850                   0.0         0.0                     0.0             0.0  \n",
       "7851                   0.0         0.0                     0.0             0.0  \n",
       "7852                   0.0         0.0                     0.0             0.0  \n",
       "7853                   0.0         0.0                     0.0             0.0  \n",
       "\n",
       "[7854 rows x 102 columns]"
      ]
     },
     "execution_count": 36,
     "metadata": {},
     "output_type": "execute_result"
    }
   ],
   "source": [
    "df = pd.read_csv(\"./data/01_raw/mtg/combined_dataset_2022-11-15-07-04.tsv\", sep=\"\\t\")\n",
    "df"
   ]
  },
  {
   "cell_type": "code",
   "execution_count": 37,
   "metadata": {},
   "outputs": [],
   "source": [
    "true_mods = pd.read_csv('./data/01_raw/mtg/confirmed_modifiers.tsv', sep=\"\\t\")\n",
    "true_mods.rename(columns={\"strain\": \"Sample\", \"true_modifier\": \"gene_symbol\"}, inplace=True)"
   ]
  },
  {
   "cell_type": "markdown",
   "metadata": {},
   "source": [
    "OLIDA related"
   ]
  },
  {
   "cell_type": "code",
   "execution_count": 38,
   "id": "76ba3f18",
   "metadata": {},
   "outputs": [
    {
     "data": {
      "text/html": [
       "<pre style=\"white-space:pre;overflow-x:auto;line-height:normal;font-family:Menlo,'DejaVu Sans Mono',consolas,'Courier New',monospace\"><span style=\"color: #7fbfbf; text-decoration-color: #7fbfbf\">[12/13/23 04:05:07] </span><span style=\"color: #000080; text-decoration-color: #000080\">INFO    </span> Loading data from <span style=\"color: #008000; text-decoration-color: #008000\">'olida_combinations'</span> <span style=\"font-weight: bold\">(</span>CSVDataSet<span style=\"font-weight: bold\">)</span><span style=\"color: #808000; text-decoration-color: #808000\">...</span>             <a href=\"file:///home/rahit/jupyter_py3/lib/python3.8/site-packages/kedro/io/data_catalog.py\" target=\"_blank\"><span style=\"color: #7f7f7f; text-decoration-color: #7f7f7f\">data_catalog.py</span></a><span style=\"color: #7f7f7f; text-decoration-color: #7f7f7f\">:</span><a href=\"file:///home/rahit/jupyter_py3/lib/python3.8/site-packages/kedro/io/data_catalog.py#492\" target=\"_blank\"><span style=\"color: #7f7f7f; text-decoration-color: #7f7f7f\">492</span></a>\n",
       "</pre>\n"
      ],
      "text/plain": [
       "\u001b[2;36m[12/13/23 04:05:07]\u001b[0m\u001b[2;36m \u001b[0m\u001b[34mINFO    \u001b[0m Loading data from \u001b[32m'olida_combinations'\u001b[0m \u001b[1m(\u001b[0mCSVDataSet\u001b[1m)\u001b[0m\u001b[33m...\u001b[0m             \u001b]8;id=172198;file:///home/rahit/jupyter_py3/lib/python3.8/site-packages/kedro/io/data_catalog.py\u001b\\\u001b[2mdata_catalog.py\u001b[0m\u001b]8;;\u001b\\\u001b[2m:\u001b[0m\u001b]8;id=134616;file:///home/rahit/jupyter_py3/lib/python3.8/site-packages/kedro/io/data_catalog.py#492\u001b\\\u001b[2m492\u001b[0m\u001b]8;;\u001b\\\n"
      ]
     },
     "metadata": {},
     "output_type": "display_data"
    },
    {
     "data": {
      "text/html": [
       "<pre style=\"white-space:pre;overflow-x:auto;line-height:normal;font-family:Menlo,'DejaVu Sans Mono',consolas,'Courier New',monospace\"><span style=\"color: #7fbfbf; text-decoration-color: #7fbfbf\">                    </span><span style=\"color: #000080; text-decoration-color: #000080\">INFO    </span> Loading data from <span style=\"color: #008000; text-decoration-color: #008000\">'olida_combinations'</span> <span style=\"font-weight: bold\">(</span>CSVDataSet<span style=\"font-weight: bold\">)</span><span style=\"color: #808000; text-decoration-color: #808000\">...</span>             <a href=\"file:///home/rahit/jupyter_py3/lib/python3.8/site-packages/kedro/io/data_catalog.py\" target=\"_blank\"><span style=\"color: #7f7f7f; text-decoration-color: #7f7f7f\">data_catalog.py</span></a><span style=\"color: #7f7f7f; text-decoration-color: #7f7f7f\">:</span><a href=\"file:///home/rahit/jupyter_py3/lib/python3.8/site-packages/kedro/io/data_catalog.py#492\" target=\"_blank\"><span style=\"color: #7f7f7f; text-decoration-color: #7f7f7f\">492</span></a>\n",
       "</pre>\n"
      ],
      "text/plain": [
       "\u001b[2;36m                   \u001b[0m\u001b[2;36m \u001b[0m\u001b[34mINFO    \u001b[0m Loading data from \u001b[32m'olida_combinations'\u001b[0m \u001b[1m(\u001b[0mCSVDataSet\u001b[1m)\u001b[0m\u001b[33m...\u001b[0m             \u001b]8;id=178820;file:///home/rahit/jupyter_py3/lib/python3.8/site-packages/kedro/io/data_catalog.py\u001b\\\u001b[2mdata_catalog.py\u001b[0m\u001b]8;;\u001b\\\u001b[2m:\u001b[0m\u001b]8;id=436909;file:///home/rahit/jupyter_py3/lib/python3.8/site-packages/kedro/io/data_catalog.py#492\u001b\\\u001b[2m492\u001b[0m\u001b]8;;\u001b\\\n"
      ]
     },
     "metadata": {},
     "output_type": "display_data"
    },
    {
     "data": {
      "text/html": [
       "<pre style=\"white-space:pre;overflow-x:auto;line-height:normal;font-family:Menlo,'DejaVu Sans Mono',consolas,'Courier New',monospace\"><span style=\"color: #7fbfbf; text-decoration-color: #7fbfbf\">                    </span><span style=\"color: #800000; text-decoration-color: #800000\">WARNING </span> <span style=\"color: #800080; text-decoration-color: #800080\">/home/rahit/jupyter_py3/lib/python3.8/site-packages/kedro/extras/datas</span> <a href=\"file:///cvmfs/soft.computecanada.ca/easybuild/software/2020/avx2/Core/python/3.8.10/lib/python3.8/warnings.py\" target=\"_blank\"><span style=\"color: #7f7f7f; text-decoration-color: #7f7f7f\">warnings.py</span></a><span style=\"color: #7f7f7f; text-decoration-color: #7f7f7f\">:</span><a href=\"file:///cvmfs/soft.computecanada.ca/easybuild/software/2020/avx2/Core/python/3.8.10/lib/python3.8/warnings.py#109\" target=\"_blank\"><span style=\"color: #7f7f7f; text-decoration-color: #7f7f7f\">109</span></a>\n",
       "<span style=\"color: #7fbfbf; text-decoration-color: #7fbfbf\">                    </span>         <span style=\"color: #800080; text-decoration-color: #800080\">ets/pandas/</span><span style=\"color: #ff00ff; text-decoration-color: #ff00ff\">csv_dataset.py</span>:<span style=\"color: #008080; text-decoration-color: #008080; font-weight: bold\">160</span>: ParserWarning: Falling back to the      <span style=\"color: #7f7f7f; text-decoration-color: #7f7f7f\">               </span>\n",
       "<span style=\"color: #7fbfbf; text-decoration-color: #7fbfbf\">                    </span>         <span style=\"color: #008000; text-decoration-color: #008000\">'python'</span> engine because the <span style=\"color: #008000; text-decoration-color: #008000\">'c'</span> engine does not support regex          <span style=\"color: #7f7f7f; text-decoration-color: #7f7f7f\">               </span>\n",
       "<span style=\"color: #7fbfbf; text-decoration-color: #7fbfbf\">                    </span>         separators <span style=\"font-weight: bold\">(</span>separators &gt; <span style=\"color: #008080; text-decoration-color: #008080; font-weight: bold\">1</span> char and different from <span style=\"color: #008000; text-decoration-color: #008000\">'\\s+'</span> are           <span style=\"color: #7f7f7f; text-decoration-color: #7f7f7f\">               </span>\n",
       "<span style=\"color: #7fbfbf; text-decoration-color: #7fbfbf\">                    </span>         interpreted as regex<span style=\"font-weight: bold\">)</span>; you can avoid this warning by specifying        <span style=\"color: #7f7f7f; text-decoration-color: #7f7f7f\">               </span>\n",
       "<span style=\"color: #7fbfbf; text-decoration-color: #7fbfbf\">                    </span>         <span style=\"color: #808000; text-decoration-color: #808000\">engine</span>=<span style=\"color: #008000; text-decoration-color: #008000\">'python'</span>.                                                       <span style=\"color: #7f7f7f; text-decoration-color: #7f7f7f\">               </span>\n",
       "<span style=\"color: #7fbfbf; text-decoration-color: #7fbfbf\">                    </span>           return <span style=\"color: #800080; text-decoration-color: #800080; font-weight: bold\">pd.read_csv</span><span style=\"font-weight: bold\">(</span>load_path, **self._load_args<span style=\"font-weight: bold\">)</span>                     <span style=\"color: #7f7f7f; text-decoration-color: #7f7f7f\">               </span>\n",
       "<span style=\"color: #7fbfbf; text-decoration-color: #7fbfbf\">                    </span>                                                                                <span style=\"color: #7f7f7f; text-decoration-color: #7f7f7f\">               </span>\n",
       "</pre>\n"
      ],
      "text/plain": [
       "\u001b[2;36m                   \u001b[0m\u001b[2;36m \u001b[0m\u001b[31mWARNING \u001b[0m \u001b[35m/home/rahit/jupyter_py3/lib/python3.8/site-packages/kedro/extras/datas\u001b[0m \u001b]8;id=807846;file:///cvmfs/soft.computecanada.ca/easybuild/software/2020/avx2/Core/python/3.8.10/lib/python3.8/warnings.py\u001b\\\u001b[2mwarnings.py\u001b[0m\u001b]8;;\u001b\\\u001b[2m:\u001b[0m\u001b]8;id=198152;file:///cvmfs/soft.computecanada.ca/easybuild/software/2020/avx2/Core/python/3.8.10/lib/python3.8/warnings.py#109\u001b\\\u001b[2m109\u001b[0m\u001b]8;;\u001b\\\n",
       "\u001b[2;36m                    \u001b[0m         \u001b[35mets/pandas/\u001b[0m\u001b[95mcsv_dataset.py\u001b[0m:\u001b[1;36m160\u001b[0m: ParserWarning: Falling back to the      \u001b[2m               \u001b[0m\n",
       "\u001b[2;36m                    \u001b[0m         \u001b[32m'python'\u001b[0m engine because the \u001b[32m'c'\u001b[0m engine does not support regex          \u001b[2m               \u001b[0m\n",
       "\u001b[2;36m                    \u001b[0m         separators \u001b[1m(\u001b[0mseparators > \u001b[1;36m1\u001b[0m char and different from \u001b[32m'\\s+'\u001b[0m are           \u001b[2m               \u001b[0m\n",
       "\u001b[2;36m                    \u001b[0m         interpreted as regex\u001b[1m)\u001b[0m; you can avoid this warning by specifying        \u001b[2m               \u001b[0m\n",
       "\u001b[2;36m                    \u001b[0m         \u001b[33mengine\u001b[0m=\u001b[32m'python'\u001b[0m.                                                       \u001b[2m               \u001b[0m\n",
       "\u001b[2;36m                    \u001b[0m           return \u001b[1;35mpd.read_csv\u001b[0m\u001b[1m(\u001b[0mload_path, **self._load_args\u001b[1m)\u001b[0m                     \u001b[2m               \u001b[0m\n",
       "\u001b[2;36m                    \u001b[0m                                                                                \u001b[2m               \u001b[0m\n"
      ]
     },
     "metadata": {},
     "output_type": "display_data"
    },
    {
     "data": {
      "text/html": [
       "<pre style=\"white-space:pre;overflow-x:auto;line-height:normal;font-family:Menlo,'DejaVu Sans Mono',consolas,'Courier New',monospace\"><span style=\"color: #7fbfbf; text-decoration-color: #7fbfbf\">                    </span><span style=\"color: #000080; text-decoration-color: #000080\">INFO    </span> Loading data from <span style=\"color: #008000; text-decoration-color: #008000\">'olida_gene_combinations'</span> <span style=\"font-weight: bold\">(</span>CSVDataSet<span style=\"font-weight: bold\">)</span><span style=\"color: #808000; text-decoration-color: #808000\">...</span>        <a href=\"file:///home/rahit/jupyter_py3/lib/python3.8/site-packages/kedro/io/data_catalog.py\" target=\"_blank\"><span style=\"color: #7f7f7f; text-decoration-color: #7f7f7f\">data_catalog.py</span></a><span style=\"color: #7f7f7f; text-decoration-color: #7f7f7f\">:</span><a href=\"file:///home/rahit/jupyter_py3/lib/python3.8/site-packages/kedro/io/data_catalog.py#492\" target=\"_blank\"><span style=\"color: #7f7f7f; text-decoration-color: #7f7f7f\">492</span></a>\n",
       "</pre>\n"
      ],
      "text/plain": [
       "\u001b[2;36m                   \u001b[0m\u001b[2;36m \u001b[0m\u001b[34mINFO    \u001b[0m Loading data from \u001b[32m'olida_gene_combinations'\u001b[0m \u001b[1m(\u001b[0mCSVDataSet\u001b[1m)\u001b[0m\u001b[33m...\u001b[0m        \u001b]8;id=805679;file:///home/rahit/jupyter_py3/lib/python3.8/site-packages/kedro/io/data_catalog.py\u001b\\\u001b[2mdata_catalog.py\u001b[0m\u001b]8;;\u001b\\\u001b[2m:\u001b[0m\u001b]8;id=668546;file:///home/rahit/jupyter_py3/lib/python3.8/site-packages/kedro/io/data_catalog.py#492\u001b\\\u001b[2m492\u001b[0m\u001b]8;;\u001b\\\n"
      ]
     },
     "metadata": {},
     "output_type": "display_data"
    },
    {
     "data": {
      "text/html": [
       "<pre style=\"white-space:pre;overflow-x:auto;line-height:normal;font-family:Menlo,'DejaVu Sans Mono',consolas,'Courier New',monospace\"><span style=\"color: #7fbfbf; text-decoration-color: #7fbfbf\">                    </span><span style=\"color: #000080; text-decoration-color: #000080\">INFO    </span> Loading data from <span style=\"color: #008000; text-decoration-color: #008000\">'olida_gene_combinations'</span> <span style=\"font-weight: bold\">(</span>CSVDataSet<span style=\"font-weight: bold\">)</span><span style=\"color: #808000; text-decoration-color: #808000\">...</span>        <a href=\"file:///home/rahit/jupyter_py3/lib/python3.8/site-packages/kedro/io/data_catalog.py\" target=\"_blank\"><span style=\"color: #7f7f7f; text-decoration-color: #7f7f7f\">data_catalog.py</span></a><span style=\"color: #7f7f7f; text-decoration-color: #7f7f7f\">:</span><a href=\"file:///home/rahit/jupyter_py3/lib/python3.8/site-packages/kedro/io/data_catalog.py#492\" target=\"_blank\"><span style=\"color: #7f7f7f; text-decoration-color: #7f7f7f\">492</span></a>\n",
       "</pre>\n"
      ],
      "text/plain": [
       "\u001b[2;36m                   \u001b[0m\u001b[2;36m \u001b[0m\u001b[34mINFO    \u001b[0m Loading data from \u001b[32m'olida_gene_combinations'\u001b[0m \u001b[1m(\u001b[0mCSVDataSet\u001b[1m)\u001b[0m\u001b[33m...\u001b[0m        \u001b]8;id=654205;file:///home/rahit/jupyter_py3/lib/python3.8/site-packages/kedro/io/data_catalog.py\u001b\\\u001b[2mdata_catalog.py\u001b[0m\u001b]8;;\u001b\\\u001b[2m:\u001b[0m\u001b]8;id=771434;file:///home/rahit/jupyter_py3/lib/python3.8/site-packages/kedro/io/data_catalog.py#492\u001b\\\u001b[2m492\u001b[0m\u001b]8;;\u001b\\\n"
      ]
     },
     "metadata": {},
     "output_type": "display_data"
    },
    {
     "data": {
      "text/html": [
       "<pre style=\"white-space:pre;overflow-x:auto;line-height:normal;font-family:Menlo,'DejaVu Sans Mono',consolas,'Courier New',monospace\"><span style=\"color: #7fbfbf; text-decoration-color: #7fbfbf\">                    </span><span style=\"color: #800000; text-decoration-color: #800000\">WARNING </span> <span style=\"color: #800080; text-decoration-color: #800080\">/home/rahit/jupyter_py3/lib/python3.8/site-packages/kedro/extras/datas</span> <a href=\"file:///cvmfs/soft.computecanada.ca/easybuild/software/2020/avx2/Core/python/3.8.10/lib/python3.8/warnings.py\" target=\"_blank\"><span style=\"color: #7f7f7f; text-decoration-color: #7f7f7f\">warnings.py</span></a><span style=\"color: #7f7f7f; text-decoration-color: #7f7f7f\">:</span><a href=\"file:///cvmfs/soft.computecanada.ca/easybuild/software/2020/avx2/Core/python/3.8.10/lib/python3.8/warnings.py#109\" target=\"_blank\"><span style=\"color: #7f7f7f; text-decoration-color: #7f7f7f\">109</span></a>\n",
       "<span style=\"color: #7fbfbf; text-decoration-color: #7fbfbf\">                    </span>         <span style=\"color: #800080; text-decoration-color: #800080\">ets/pandas/</span><span style=\"color: #ff00ff; text-decoration-color: #ff00ff\">csv_dataset.py</span>:<span style=\"color: #008080; text-decoration-color: #008080; font-weight: bold\">160</span>: ParserWarning: Falling back to the      <span style=\"color: #7f7f7f; text-decoration-color: #7f7f7f\">               </span>\n",
       "<span style=\"color: #7fbfbf; text-decoration-color: #7fbfbf\">                    </span>         <span style=\"color: #008000; text-decoration-color: #008000\">'python'</span> engine because the <span style=\"color: #008000; text-decoration-color: #008000\">'c'</span> engine does not support regex          <span style=\"color: #7f7f7f; text-decoration-color: #7f7f7f\">               </span>\n",
       "<span style=\"color: #7fbfbf; text-decoration-color: #7fbfbf\">                    </span>         separators <span style=\"font-weight: bold\">(</span>separators &gt; <span style=\"color: #008080; text-decoration-color: #008080; font-weight: bold\">1</span> char and different from <span style=\"color: #008000; text-decoration-color: #008000\">'\\s+'</span> are           <span style=\"color: #7f7f7f; text-decoration-color: #7f7f7f\">               </span>\n",
       "<span style=\"color: #7fbfbf; text-decoration-color: #7fbfbf\">                    </span>         interpreted as regex<span style=\"font-weight: bold\">)</span>; you can avoid this warning by specifying        <span style=\"color: #7f7f7f; text-decoration-color: #7f7f7f\">               </span>\n",
       "<span style=\"color: #7fbfbf; text-decoration-color: #7fbfbf\">                    </span>         <span style=\"color: #808000; text-decoration-color: #808000\">engine</span>=<span style=\"color: #008000; text-decoration-color: #008000\">'python'</span>.                                                       <span style=\"color: #7f7f7f; text-decoration-color: #7f7f7f\">               </span>\n",
       "<span style=\"color: #7fbfbf; text-decoration-color: #7fbfbf\">                    </span>           return <span style=\"color: #800080; text-decoration-color: #800080; font-weight: bold\">pd.read_csv</span><span style=\"font-weight: bold\">(</span>load_path, **self._load_args<span style=\"font-weight: bold\">)</span>                     <span style=\"color: #7f7f7f; text-decoration-color: #7f7f7f\">               </span>\n",
       "<span style=\"color: #7fbfbf; text-decoration-color: #7fbfbf\">                    </span>                                                                                <span style=\"color: #7f7f7f; text-decoration-color: #7f7f7f\">               </span>\n",
       "</pre>\n"
      ],
      "text/plain": [
       "\u001b[2;36m                   \u001b[0m\u001b[2;36m \u001b[0m\u001b[31mWARNING \u001b[0m \u001b[35m/home/rahit/jupyter_py3/lib/python3.8/site-packages/kedro/extras/datas\u001b[0m \u001b]8;id=281998;file:///cvmfs/soft.computecanada.ca/easybuild/software/2020/avx2/Core/python/3.8.10/lib/python3.8/warnings.py\u001b\\\u001b[2mwarnings.py\u001b[0m\u001b]8;;\u001b\\\u001b[2m:\u001b[0m\u001b]8;id=700667;file:///cvmfs/soft.computecanada.ca/easybuild/software/2020/avx2/Core/python/3.8.10/lib/python3.8/warnings.py#109\u001b\\\u001b[2m109\u001b[0m\u001b]8;;\u001b\\\n",
       "\u001b[2;36m                    \u001b[0m         \u001b[35mets/pandas/\u001b[0m\u001b[95mcsv_dataset.py\u001b[0m:\u001b[1;36m160\u001b[0m: ParserWarning: Falling back to the      \u001b[2m               \u001b[0m\n",
       "\u001b[2;36m                    \u001b[0m         \u001b[32m'python'\u001b[0m engine because the \u001b[32m'c'\u001b[0m engine does not support regex          \u001b[2m               \u001b[0m\n",
       "\u001b[2;36m                    \u001b[0m         separators \u001b[1m(\u001b[0mseparators > \u001b[1;36m1\u001b[0m char and different from \u001b[32m'\\s+'\u001b[0m are           \u001b[2m               \u001b[0m\n",
       "\u001b[2;36m                    \u001b[0m         interpreted as regex\u001b[1m)\u001b[0m; you can avoid this warning by specifying        \u001b[2m               \u001b[0m\n",
       "\u001b[2;36m                    \u001b[0m         \u001b[33mengine\u001b[0m=\u001b[32m'python'\u001b[0m.                                                       \u001b[2m               \u001b[0m\n",
       "\u001b[2;36m                    \u001b[0m           return \u001b[1;35mpd.read_csv\u001b[0m\u001b[1m(\u001b[0mload_path, **self._load_args\u001b[1m)\u001b[0m                     \u001b[2m               \u001b[0m\n",
       "\u001b[2;36m                    \u001b[0m                                                                                \u001b[2m               \u001b[0m\n"
      ]
     },
     "metadata": {},
     "output_type": "display_data"
    }
   ],
   "source": [
    "olida_comb = catalog.load('olida_combinations').pipe(remove_quotes)\n",
    "# olida_genes = catalog.load('olida_genes') # pd.read_csv('./data/01_raw/olida/Gene.tsv', sep='\\t')\n",
    "olida_gene_comb = catalog.load('olida_gene_combinations').pipe(remove_quotes) #pd.read_csv('./data/01_raw/olida/GeneCombination.tsv', sep='\\t')"
   ]
  },
  {
   "cell_type": "code",
   "execution_count": 39,
   "id": "9b9129f3",
   "metadata": {},
   "outputs": [
    {
     "data": {
      "text/html": [
       "<pre style=\"white-space:pre;overflow-x:auto;line-height:normal;font-family:Menlo,'DejaVu Sans Mono',consolas,'Courier New',monospace\"><span style=\"font-weight: bold\">(</span><span style=\"color: #008080; text-decoration-color: #008080; font-weight: bold\">1610</span>, <span style=\"color: #008080; text-decoration-color: #008080; font-weight: bold\">22</span><span style=\"font-weight: bold\">)</span>\n",
       "</pre>\n"
      ],
      "text/plain": [
       "\u001b[1m(\u001b[0m\u001b[1;36m1610\u001b[0m, \u001b[1;36m22\u001b[0m\u001b[1m)\u001b[0m\n"
      ]
     },
     "metadata": {},
     "output_type": "display_data"
    },
    {
     "data": {
      "text/html": [
       "<pre style=\"white-space:pre;overflow-x:auto;line-height:normal;font-family:Menlo,'DejaVu Sans Mono',consolas,'Courier New',monospace\"><span style=\"font-weight: bold\">(</span><span style=\"color: #008080; text-decoration-color: #008080; font-weight: bold\">1138</span>, <span style=\"color: #008080; text-decoration-color: #008080; font-weight: bold\">7</span><span style=\"font-weight: bold\">)</span>\n",
       "</pre>\n"
      ],
      "text/plain": [
       "\u001b[1m(\u001b[0m\u001b[1;36m1138\u001b[0m, \u001b[1;36m7\u001b[0m\u001b[1m)\u001b[0m\n"
      ]
     },
     "metadata": {},
     "output_type": "display_data"
    }
   ],
   "source": [
    "print(olida_comb.shape)\n",
    "# print(olida_genes.shape)\n",
    "print(olida_gene_comb.shape)"
   ]
  },
  {
   "cell_type": "markdown",
   "metadata": {},
   "source": [
    "JVL related"
   ]
  },
  {
   "cell_type": "code",
   "execution_count": 40,
   "id": "c0eb6220-727d-4770-91f1-f7b754795bdf",
   "metadata": {
    "tags": []
   },
   "outputs": [
    {
     "data": {
      "text/html": [
       "<pre style=\"white-space:pre;overflow-x:auto;line-height:normal;font-family:Menlo,'DejaVu Sans Mono',consolas,'Courier New',monospace\"><span style=\"color: #7fbfbf; text-decoration-color: #7fbfbf\">                    </span><span style=\"color: #000080; text-decoration-color: #000080\">INFO    </span> Loading data from <span style=\"color: #008000; text-decoration-color: #008000\">'jvl'</span> <span style=\"font-weight: bold\">(</span>ExcelDataSet<span style=\"font-weight: bold\">)</span><span style=\"color: #808000; text-decoration-color: #808000\">...</span>                          <a href=\"file:///home/rahit/jupyter_py3/lib/python3.8/site-packages/kedro/io/data_catalog.py\" target=\"_blank\"><span style=\"color: #7f7f7f; text-decoration-color: #7f7f7f\">data_catalog.py</span></a><span style=\"color: #7f7f7f; text-decoration-color: #7f7f7f\">:</span><a href=\"file:///home/rahit/jupyter_py3/lib/python3.8/site-packages/kedro/io/data_catalog.py#492\" target=\"_blank\"><span style=\"color: #7f7f7f; text-decoration-color: #7f7f7f\">492</span></a>\n",
       "</pre>\n"
      ],
      "text/plain": [
       "\u001b[2;36m                   \u001b[0m\u001b[2;36m \u001b[0m\u001b[34mINFO    \u001b[0m Loading data from \u001b[32m'jvl'\u001b[0m \u001b[1m(\u001b[0mExcelDataSet\u001b[1m)\u001b[0m\u001b[33m...\u001b[0m                          \u001b]8;id=589996;file:///home/rahit/jupyter_py3/lib/python3.8/site-packages/kedro/io/data_catalog.py\u001b\\\u001b[2mdata_catalog.py\u001b[0m\u001b]8;;\u001b\\\u001b[2m:\u001b[0m\u001b]8;id=180364;file:///home/rahit/jupyter_py3/lib/python3.8/site-packages/kedro/io/data_catalog.py#492\u001b\\\u001b[2m492\u001b[0m\u001b]8;;\u001b\\\n"
      ]
     },
     "metadata": {},
     "output_type": "display_data"
    },
    {
     "data": {
      "text/html": [
       "<pre style=\"white-space:pre;overflow-x:auto;line-height:normal;font-family:Menlo,'DejaVu Sans Mono',consolas,'Courier New',monospace\"><span style=\"color: #7fbfbf; text-decoration-color: #7fbfbf\">                    </span><span style=\"color: #000080; text-decoration-color: #000080\">INFO    </span> Loading data from <span style=\"color: #008000; text-decoration-color: #008000\">'jvl'</span> <span style=\"font-weight: bold\">(</span>ExcelDataSet<span style=\"font-weight: bold\">)</span><span style=\"color: #808000; text-decoration-color: #808000\">...</span>                          <a href=\"file:///home/rahit/jupyter_py3/lib/python3.8/site-packages/kedro/io/data_catalog.py\" target=\"_blank\"><span style=\"color: #7f7f7f; text-decoration-color: #7f7f7f\">data_catalog.py</span></a><span style=\"color: #7f7f7f; text-decoration-color: #7f7f7f\">:</span><a href=\"file:///home/rahit/jupyter_py3/lib/python3.8/site-packages/kedro/io/data_catalog.py#492\" target=\"_blank\"><span style=\"color: #7f7f7f; text-decoration-color: #7f7f7f\">492</span></a>\n",
       "</pre>\n"
      ],
      "text/plain": [
       "\u001b[2;36m                   \u001b[0m\u001b[2;36m \u001b[0m\u001b[34mINFO    \u001b[0m Loading data from \u001b[32m'jvl'\u001b[0m \u001b[1m(\u001b[0mExcelDataSet\u001b[1m)\u001b[0m\u001b[33m...\u001b[0m                          \u001b]8;id=404628;file:///home/rahit/jupyter_py3/lib/python3.8/site-packages/kedro/io/data_catalog.py\u001b\\\u001b[2mdata_catalog.py\u001b[0m\u001b]8;;\u001b\\\u001b[2m:\u001b[0m\u001b]8;id=969874;file:///home/rahit/jupyter_py3/lib/python3.8/site-packages/kedro/io/data_catalog.py#492\u001b\\\u001b[2m492\u001b[0m\u001b]8;;\u001b\\\n"
      ]
     },
     "metadata": {},
     "output_type": "display_data"
    },
    {
     "data": {
      "text/html": [
       "<pre style=\"white-space:pre;overflow-x:auto;line-height:normal;font-family:Menlo,'DejaVu Sans Mono',consolas,'Courier New',monospace\">JVL shap: <span style=\"font-weight: bold\">(</span><span style=\"color: #008080; text-decoration-color: #008080; font-weight: bold\">932</span>, <span style=\"color: #008080; text-decoration-color: #008080; font-weight: bold\">18</span><span style=\"font-weight: bold\">)</span>\n",
       "</pre>\n"
      ],
      "text/plain": [
       "JVL shap: \u001b[1m(\u001b[0m\u001b[1;36m932\u001b[0m, \u001b[1;36m18\u001b[0m\u001b[1m)\u001b[0m\n"
      ]
     },
     "metadata": {},
     "output_type": "display_data"
    }
   ],
   "source": [
    "jvl = catalog.load('jvl')\n",
    "print(f\"JVL shap: {jvl.shape}\")"
   ]
  },
  {
   "cell_type": "markdown",
   "id": "ac745a16",
   "metadata": {},
   "source": [
    "## 🔍 Adding Ontology Annotation to each Dataset\n",
    "In this step, we're conducting a thorough examination of our data sources. Our goal is to ensure standardization across all sources, which will facilitate smoother processing down the line. Standardization here means that the data is clean, consistent, and in a format that our later processes can easily handle. \n",
    "\n",
    "Ideally, each dataset should have at least two columns (target and modifier) containing gene symbols. These gene symbols are crucial as they serve as unique identifiers for our genetic data. Having these in each dataset ensures we can accurately cross-reference and analyze our data across multiple sources. 🧬🔬"
   ]
  },
  {
   "cell_type": "markdown",
   "metadata": {},
   "source": [
    "### 📚 Ontologies"
   ]
  },
  {
   "cell_type": "code",
   "execution_count": 41,
   "id": "ff6fdf09",
   "metadata": {},
   "outputs": [],
   "source": [
    "def add_annotation(df: pd.DataFrame, src_trgt_cols: list, term_id_map: dict):\n",
    "    # Adding a new column to df for Ontology IDs associated with each gene in source_col\n",
    "    for source, target in src_trgt_cols:\n",
    "        df[target] = df[source].map(term_id_map)\n",
    "        df[target+'_count'] = df[target].apply(lambda x: len(x.split(',')) if isinstance(x, str) else 0)\n",
    "    return df"
   ]
  },
  {
   "cell_type": "code",
   "execution_count": 42,
   "id": "e4628897",
   "metadata": {},
   "outputs": [],
   "source": [
    "# Creating mappin of genes to their associated ontology term IDs\n",
    "onto_to_gene_map = {\n",
    "    'human': {\n",
    "        'GO': up_goa.groupby('DB_Object_Symbol')['GO_ID'].apply(lambda x: ','.join(x)).to_dict(),\n",
    "        'PO': hpoa.groupby('gene_symbol')['hpo_id'].apply(lambda x: ','.join(x)).to_dict(),\n",
    "        'DO': human_doa.groupby('DBObjectSymbol')['DOID'].apply(lambda x: ','.join(x)).to_dict(),\n",
    "    },\n",
    "    'celegans': {\n",
    "        'GO': wb_goa.groupby('DB_Object_Symbol')['GO_ID'].apply(lambda x: ','.join(x)).to_dict(),\n",
    "        'PO': wb_poa.groupby('DB_Object_Symbol')['GO_ID'].apply(lambda x: ','.join(x)).to_dict(),\n",
    "        'DO': worm_doa.groupby('DBObjectSymbol')['DOID'].apply(lambda x: ','.join(x)).to_dict(),\n",
    "    }\n",
    "}"
   ]
  },
  {
   "cell_type": "code",
   "execution_count": 43,
   "id": "f48c9475",
   "metadata": {},
   "outputs": [],
   "source": [
    "\n",
    "src_trgt_cols = {\n",
    "    'MTG': [\n",
    "        [('target_gene_symbol', 'target_GOs'), ('gene_symbol', 'modifier_GOs')],\n",
    "        [('target_gene_symbol', 'target_POs'), ('gene_symbol', 'modifier_POs')],\n",
    "        [('target_gene_symbol', 'target_DOs'), ('gene_symbol', 'modifier_DOs')],\n",
    "    ],\n",
    "    'OLIDA': [\n",
    "        [('gene_a', 'target_GOs'), ('gene_b', 'modifier_GOs')],\n",
    "        [('gene_a', 'target_POs'), ('gene_b', 'modifier_POs')],\n",
    "        [('gene_a', 'target_DOs'), ('gene_b', 'modifier_DOs')],\n",
    "    ],\n",
    "    'JVL': [\n",
    "        [('QueryGene', 'target_GOs'), ('SuppressorGene', 'modifier_GOs')],\n",
    "        [('QueryGene', 'target_POs'), ('SuppressorGene', 'modifier_POs')],\n",
    "        [('QueryGene', 'target_DOs'), ('SuppressorGene', 'modifier_DOs')],\n",
    "    ],\n",
    "}"
   ]
  },
  {
   "cell_type": "markdown",
   "metadata": {},
   "source": [
    "##### 1️⃣ MTG"
   ]
  },
  {
   "cell_type": "code",
   "execution_count": 44,
   "metadata": {},
   "outputs": [],
   "source": [
    "# Setting modifier value to int 1\n",
    "true_mods['is_modifier'] = 1"
   ]
  },
  {
   "cell_type": "code",
   "execution_count": 45,
   "metadata": {},
   "outputs": [
    {
     "data": {
      "text/html": [
       "<pre style=\"white-space:pre;overflow-x:auto;line-height:normal;font-family:Menlo,'DejaVu Sans Mono',consolas,'Courier New',monospace\">Old dataframe shape: <span style=\"font-weight: bold\">(</span><span style=\"color: #008080; text-decoration-color: #008080; font-weight: bold\">7854</span>, <span style=\"color: #008080; text-decoration-color: #008080; font-weight: bold\">102</span><span style=\"font-weight: bold\">)</span>\n",
       "</pre>\n"
      ],
      "text/plain": [
       "Old dataframe shape: \u001b[1m(\u001b[0m\u001b[1;36m7854\u001b[0m, \u001b[1;36m102\u001b[0m\u001b[1m)\u001b[0m\n"
      ]
     },
     "metadata": {},
     "output_type": "display_data"
    },
    {
     "data": {
      "text/html": [
       "<pre style=\"white-space:pre;overflow-x:auto;line-height:normal;font-family:Menlo,'DejaVu Sans Mono',consolas,'Courier New',monospace\">New dataframe shape: <span style=\"font-weight: bold\">(</span><span style=\"color: #008080; text-decoration-color: #008080; font-weight: bold\">7854</span>, <span style=\"color: #008080; text-decoration-color: #008080; font-weight: bold\">156</span><span style=\"font-weight: bold\">)</span>\n",
       "</pre>\n"
      ],
      "text/plain": [
       "New dataframe shape: \u001b[1m(\u001b[0m\u001b[1;36m7854\u001b[0m, \u001b[1;36m156\u001b[0m\u001b[1m)\u001b[0m\n"
      ]
     },
     "metadata": {},
     "output_type": "display_data"
    }
   ],
   "source": [
    "# Merge dataframes (to use already calculated similarity values and consistency)\n",
    "print(f\"Old dataframe shape: {df.shape}\")\n",
    "paired_df = df.merge(paired_score_df, how='left', on=['wormbase_gene_id','target_gene_id'])\n",
    "print(f\"New dataframe shape: {paired_df.shape}\")"
   ]
  },
  {
   "cell_type": "code",
   "execution_count": 46,
   "metadata": {},
   "outputs": [
    {
     "data": {
      "text/html": [
       "<div>\n",
       "<style scoped>\n",
       "    .dataframe tbody tr th:only-of-type {\n",
       "        vertical-align: middle;\n",
       "    }\n",
       "\n",
       "    .dataframe tbody tr th {\n",
       "        vertical-align: top;\n",
       "    }\n",
       "\n",
       "    .dataframe thead th {\n",
       "        text-align: right;\n",
       "    }\n",
       "</style>\n",
       "<table border=\"1\" class=\"dataframe\">\n",
       "  <thead>\n",
       "    <tr style=\"text-align: right;\">\n",
       "      <th></th>\n",
       "      <th>Sample</th>\n",
       "      <th>chromosome</th>\n",
       "      <th>position</th>\n",
       "      <th>ref</th>\n",
       "      <th>alt</th>\n",
       "      <th>wormbase_gene_id</th>\n",
       "      <th>gene_symbol</th>\n",
       "      <th>gene_start_position</th>\n",
       "      <th>gene_end_position</th>\n",
       "      <th>strain</th>\n",
       "      <th>...</th>\n",
       "      <th>wpo_lin_max</th>\n",
       "      <th>wpo_lin_avg</th>\n",
       "      <th>wpo_lin_bma</th>\n",
       "      <th>wpo_jiang_max</th>\n",
       "      <th>wpo_jiang_avg</th>\n",
       "      <th>wpo_jiang_bma</th>\n",
       "      <th>wpo_jiang_seco_max</th>\n",
       "      <th>wpo_jiang_seco_avg</th>\n",
       "      <th>wpo_jiang_seco_bma</th>\n",
       "      <th>is_modifier</th>\n",
       "    </tr>\n",
       "  </thead>\n",
       "  <tbody>\n",
       "    <tr>\n",
       "      <th>0</th>\n",
       "      <td>MTG93</td>\n",
       "      <td>I</td>\n",
       "      <td>13162538</td>\n",
       "      <td>G</td>\n",
       "      <td>A</td>\n",
       "      <td>WBGene00009065</td>\n",
       "      <td>F22G12.5</td>\n",
       "      <td>13162492</td>\n",
       "      <td>13182725.0</td>\n",
       "      <td>93</td>\n",
       "      <td>...</td>\n",
       "      <td>0.0</td>\n",
       "      <td>0.000000</td>\n",
       "      <td>0.000000</td>\n",
       "      <td>0.0</td>\n",
       "      <td>0.000000</td>\n",
       "      <td>0.000000</td>\n",
       "      <td>0.0</td>\n",
       "      <td>0.000000</td>\n",
       "      <td>0.000000</td>\n",
       "      <td>0.0</td>\n",
       "    </tr>\n",
       "    <tr>\n",
       "      <th>1</th>\n",
       "      <td>MTG93</td>\n",
       "      <td>II</td>\n",
       "      <td>3797021</td>\n",
       "      <td>T</td>\n",
       "      <td>C</td>\n",
       "      <td>WBGene00021171</td>\n",
       "      <td>Y8A9A.2</td>\n",
       "      <td>3795623</td>\n",
       "      <td>3800608.0</td>\n",
       "      <td>93</td>\n",
       "      <td>...</td>\n",
       "      <td>0.0</td>\n",
       "      <td>0.000000</td>\n",
       "      <td>0.000000</td>\n",
       "      <td>0.0</td>\n",
       "      <td>0.000000</td>\n",
       "      <td>0.000000</td>\n",
       "      <td>0.0</td>\n",
       "      <td>0.000000</td>\n",
       "      <td>0.000000</td>\n",
       "      <td>0.0</td>\n",
       "    </tr>\n",
       "    <tr>\n",
       "      <th>2</th>\n",
       "      <td>MTG93</td>\n",
       "      <td>II</td>\n",
       "      <td>9362312</td>\n",
       "      <td>G</td>\n",
       "      <td>A</td>\n",
       "      <td>WBGene00003196</td>\n",
       "      <td>mel-11</td>\n",
       "      <td>9358531</td>\n",
       "      <td>9369098.0</td>\n",
       "      <td>93</td>\n",
       "      <td>...</td>\n",
       "      <td>1.0</td>\n",
       "      <td>0.334903</td>\n",
       "      <td>0.780028</td>\n",
       "      <td>1.0</td>\n",
       "      <td>0.123475</td>\n",
       "      <td>0.491183</td>\n",
       "      <td>1.0</td>\n",
       "      <td>0.310373</td>\n",
       "      <td>0.812368</td>\n",
       "      <td>0.0</td>\n",
       "    </tr>\n",
       "    <tr>\n",
       "      <th>3</th>\n",
       "      <td>MTG93</td>\n",
       "      <td>III</td>\n",
       "      <td>10045380</td>\n",
       "      <td>C</td>\n",
       "      <td>T</td>\n",
       "      <td>WBGene00011803</td>\n",
       "      <td>T16G12.1</td>\n",
       "      <td>10040191</td>\n",
       "      <td>10049857.0</td>\n",
       "      <td>93</td>\n",
       "      <td>...</td>\n",
       "      <td>1.0</td>\n",
       "      <td>0.414459</td>\n",
       "      <td>0.485633</td>\n",
       "      <td>1.0</td>\n",
       "      <td>0.147428</td>\n",
       "      <td>0.213067</td>\n",
       "      <td>1.0</td>\n",
       "      <td>0.442764</td>\n",
       "      <td>0.556453</td>\n",
       "      <td>0.0</td>\n",
       "    </tr>\n",
       "    <tr>\n",
       "      <th>4</th>\n",
       "      <td>MTG93</td>\n",
       "      <td>III</td>\n",
       "      <td>10333748</td>\n",
       "      <td>G</td>\n",
       "      <td>A</td>\n",
       "      <td>WBGene00011563</td>\n",
       "      <td>jmjd-4</td>\n",
       "      <td>10332526</td>\n",
       "      <td>10334083.0</td>\n",
       "      <td>93</td>\n",
       "      <td>...</td>\n",
       "      <td>1.0</td>\n",
       "      <td>0.343568</td>\n",
       "      <td>0.516151</td>\n",
       "      <td>1.0</td>\n",
       "      <td>0.138143</td>\n",
       "      <td>0.291885</td>\n",
       "      <td>1.0</td>\n",
       "      <td>0.371137</td>\n",
       "      <td>0.600209</td>\n",
       "      <td>0.0</td>\n",
       "    </tr>\n",
       "  </tbody>\n",
       "</table>\n",
       "<p>5 rows × 156 columns</p>\n",
       "</div>"
      ],
      "text/plain": [
       "  Sample chromosome  position ref alt wormbase_gene_id gene_symbol  \\\n",
       "0  MTG93          I  13162538   G   A   WBGene00009065    F22G12.5   \n",
       "1  MTG93         II   3797021   T   C   WBGene00021171     Y8A9A.2   \n",
       "2  MTG93         II   9362312   G   A   WBGene00003196      mel-11   \n",
       "3  MTG93        III  10045380   C   T   WBGene00011803    T16G12.1   \n",
       "4  MTG93        III  10333748   G   A   WBGene00011563      jmjd-4   \n",
       "\n",
       "  gene_start_position  gene_end_position  strain  ... wpo_lin_max wpo_lin_avg  \\\n",
       "0            13162492         13182725.0      93  ...         0.0    0.000000   \n",
       "1             3795623          3800608.0      93  ...         0.0    0.000000   \n",
       "2             9358531          9369098.0      93  ...         1.0    0.334903   \n",
       "3            10040191         10049857.0      93  ...         1.0    0.414459   \n",
       "4            10332526         10334083.0      93  ...         1.0    0.343568   \n",
       "\n",
       "  wpo_lin_bma  wpo_jiang_max  wpo_jiang_avg  wpo_jiang_bma  \\\n",
       "0    0.000000            0.0       0.000000       0.000000   \n",
       "1    0.000000            0.0       0.000000       0.000000   \n",
       "2    0.780028            1.0       0.123475       0.491183   \n",
       "3    0.485633            1.0       0.147428       0.213067   \n",
       "4    0.516151            1.0       0.138143       0.291885   \n",
       "\n",
       "   wpo_jiang_seco_max  wpo_jiang_seco_avg  wpo_jiang_seco_bma  is_modifier  \n",
       "0                 0.0            0.000000            0.000000          0.0  \n",
       "1                 0.0            0.000000            0.000000          0.0  \n",
       "2                 1.0            0.310373            0.812368          0.0  \n",
       "3                 1.0            0.442764            0.556453          0.0  \n",
       "4                 1.0            0.371137            0.600209          0.0  \n",
       "\n",
       "[5 rows x 156 columns]"
      ]
     },
     "execution_count": 46,
     "metadata": {},
     "output_type": "execute_result"
    }
   ],
   "source": [
    "# now merging data table containing true modifiers\n",
    "m_df = pd.merge(paired_df, true_mods, how='left', on=['Sample', 'gene_symbol']).drop('index', axis=1).fillna(0)\n",
    "confirmed_samples = m_df[m_df['is_modifier']==True]['Sample'].unique()\n",
    "m_df = m_df[m_df['Sample'].isin(confirmed_samples)]\n",
    "m_df.head()"
   ]
  },
  {
   "cell_type": "code",
   "execution_count": 47,
   "metadata": {},
   "outputs": [
    {
     "data": {
      "text/html": [
       "<pre style=\"white-space:pre;overflow-x:auto;line-height:normal;font-family:Menlo,'DejaVu Sans Mono',consolas,'Courier New',monospace\"># of Samples: <span style=\"color: #008080; text-decoration-color: #008080; font-weight: bold\">71</span>\n",
       "</pre>\n"
      ],
      "text/plain": [
       "# of Samples: \u001b[1;36m71\u001b[0m\n"
      ]
     },
     "metadata": {},
     "output_type": "display_data"
    },
    {
     "data": {
      "text/html": [
       "<pre style=\"white-space:pre;overflow-x:auto;line-height:normal;font-family:Menlo,'DejaVu Sans Mono',consolas,'Courier New',monospace\"># of Unique Genes: <span style=\"color: #008080; text-decoration-color: #008080; font-weight: bold\">5182</span>\n",
       "</pre>\n"
      ],
      "text/plain": [
       "# of Unique Genes: \u001b[1;36m5182\u001b[0m\n"
      ]
     },
     "metadata": {},
     "output_type": "display_data"
    },
    {
     "data": {
      "text/html": [
       "<pre style=\"white-space:pre;overflow-x:auto;line-height:normal;font-family:Menlo,'DejaVu Sans Mono',consolas,'Courier New',monospace\"># of Variants: <span style=\"color: #008080; text-decoration-color: #008080; font-weight: bold\">7330</span>\n",
       "</pre>\n"
      ],
      "text/plain": [
       "# of Variants: \u001b[1;36m7330\u001b[0m\n"
      ]
     },
     "metadata": {},
     "output_type": "display_data"
    },
    {
     "data": {
      "text/html": [
       "<pre style=\"white-space:pre;overflow-x:auto;line-height:normal;font-family:Menlo,'DejaVu Sans Mono',consolas,'Courier New',monospace\"># of columns: <span style=\"color: #008080; text-decoration-color: #008080; font-weight: bold\">156</span>\n",
       "</pre>\n"
      ],
      "text/plain": [
       "# of columns: \u001b[1;36m156\u001b[0m\n"
      ]
     },
     "metadata": {},
     "output_type": "display_data"
    }
   ],
   "source": [
    "print(f\"# of Samples: {len(m_df['Sample'].unique())}\")\n",
    "print(f\"# of Unique Genes: {len(m_df['wormbase_gene_id'].unique())}\")\n",
    "print(f\"# of Variants: {m_df.shape[0]}\")\n",
    "print(f\"# of columns: {len(m_df.columns)}\")"
   ]
  },
  {
   "cell_type": "code",
   "execution_count": 48,
   "metadata": {},
   "outputs": [
    {
     "data": {
      "text/html": [
       "<pre style=\"white-space:pre;overflow-x:auto;line-height:normal;font-family:Menlo,'DejaVu Sans Mono',consolas,'Courier New',monospace\">Last column: is_modifier\n",
       "</pre>\n"
      ],
      "text/plain": [
       "Last column: is_modifier\n"
      ]
     },
     "metadata": {},
     "output_type": "display_data"
    }
   ],
   "source": [
    "print(f\"Last column: {m_df.columns[-1]}\")"
   ]
  },
  {
   "cell_type": "code",
   "execution_count": 49,
   "id": "b1b742fe",
   "metadata": {},
   "outputs": [
    {
     "data": {
      "text/plain": [
       "['Sample',\n",
       " 'chromosome',\n",
       " 'position',\n",
       " 'ref',\n",
       " 'alt',\n",
       " 'wormbase_gene_id',\n",
       " 'gene_symbol',\n",
       " 'gene_start_position',\n",
       " 'gene_end_position',\n",
       " 'strain',\n",
       " 'variant_id',\n",
       " 'target_gene_id',\n",
       " 'target_gene_symbol',\n",
       " 'go_Resnik_max_similarity',\n",
       " 'go_Resnik_BMA_similarity',\n",
       " 'go_Resnik_avg_similarity',\n",
       " 'go_Lin_max_similarity',\n",
       " 'go_Lin_BMA_similarity',\n",
       " 'go_Lin_avg_similarity',\n",
       " 'go_Jiang-Conrath_max_similarity',\n",
       " 'go_Jiang-Conrath_BMA_similarity',\n",
       " 'go_Jiang-Conrath_avg_similarity',\n",
       " 'go_SimRel_max_similarity',\n",
       " 'go_SimRel_BMA_similarity',\n",
       " 'go_SimRel_avg_similarity',\n",
       " 'go_SimIC_max_similarity',\n",
       " 'go_SimIC_BMA_similarity',\n",
       " 'go_SimIC_avg_similarity',\n",
       " 'go_G-SESAME_max_similarity',\n",
       " 'go_G-SESAME_BMA_similarity',\n",
       " 'go_G-SESAME_avg_similarity',\n",
       " 'go_SimICND_max_similarity',\n",
       " 'go_SimICND_BMA_similarity',\n",
       " 'go_SimICND_avg_similarity',\n",
       " 'go_SimICNP_max_similarity',\n",
       " 'go_SimICNP_BMA_similarity',\n",
       " 'go_SimICNP_avg_similarity',\n",
       " 'wpo_Resnik_max_similarity',\n",
       " 'wpo_Resnik_BMA_similarity',\n",
       " 'wpo_Resnik_avg_similarity',\n",
       " 'wpo_Lin_max_similarity',\n",
       " 'wpo_Lin_BMA_similarity',\n",
       " 'wpo_Lin_avg_similarity',\n",
       " 'wpo_Jiang-Conrath_max_similarity',\n",
       " 'wpo_Jiang-Conrath_BMA_similarity',\n",
       " 'wpo_Jiang-Conrath_avg_similarity',\n",
       " 'wpo_SimRel_max_similarity',\n",
       " 'wpo_SimRel_BMA_similarity',\n",
       " 'wpo_SimRel_avg_similarity',\n",
       " 'wpo_SimIC_max_similarity',\n",
       " 'wpo_SimIC_BMA_similarity',\n",
       " 'wpo_SimIC_avg_similarity',\n",
       " 'wpo_G-SESAME_max_similarity',\n",
       " 'wpo_G-SESAME_BMA_similarity',\n",
       " 'wpo_G-SESAME_avg_similarity',\n",
       " 'wpo_SimICND_max_similarity',\n",
       " 'wpo_SimICND_BMA_similarity',\n",
       " 'wpo_SimICND_avg_similarity',\n",
       " 'wpo_SimICNP_max_similarity',\n",
       " 'wpo_SimICNP_BMA_similarity',\n",
       " 'wpo_SimICNP_avg_similarity',\n",
       " 'wpo_not_Resnik_max_similarity',\n",
       " 'wpo_not_Resnik_BMA_similarity',\n",
       " 'wpo_not_Resnik_avg_similarity',\n",
       " 'wpo_not_Lin_max_similarity',\n",
       " 'wpo_not_Lin_BMA_similarity',\n",
       " 'wpo_not_Lin_avg_similarity',\n",
       " 'wpo_not_Jiang-Conrath_max_similarity',\n",
       " 'wpo_not_Jiang-Conrath_BMA_similarity',\n",
       " 'wpo_not_Jiang-Conrath_avg_similarity',\n",
       " 'wpo_not_SimRel_max_similarity',\n",
       " 'wpo_not_SimRel_BMA_similarity',\n",
       " 'wpo_not_SimRel_avg_similarity',\n",
       " 'wpo_not_SimIC_max_similarity',\n",
       " 'wpo_not_SimIC_BMA_similarity',\n",
       " 'wpo_not_SimIC_avg_similarity',\n",
       " 'wpo_not_G-SESAME_max_similarity',\n",
       " 'wpo_not_G-SESAME_BMA_similarity',\n",
       " 'wpo_not_G-SESAME_avg_similarity',\n",
       " 'wpo_not_SimICND_max_similarity',\n",
       " 'wpo_not_SimICND_BMA_similarity',\n",
       " 'wpo_not_SimICND_avg_similarity',\n",
       " 'wpo_not_SimICNP_max_similarity',\n",
       " 'wpo_not_SimICNP_BMA_similarity',\n",
       " 'wpo_not_SimICNP_avg_similarity',\n",
       " 'protein1',\n",
       " 'protein2',\n",
       " 'neighborhood',\n",
       " 'neighborhood_transferred',\n",
       " 'fusion',\n",
       " 'cooccurence',\n",
       " 'homology',\n",
       " 'coexpression',\n",
       " 'coexpression_transferred',\n",
       " 'experiments',\n",
       " 'experiments_transferred',\n",
       " 'database',\n",
       " 'database_transferred',\n",
       " 'textmining',\n",
       " 'textmining_transferred',\n",
       " 'combined_score',\n",
       " 'go_n_common_ancestors_max',\n",
       " 'go_n_common_ancestors_avg',\n",
       " 'go_n_common_ancestors_bma',\n",
       " 'go_n_union_ancestors_max',\n",
       " 'go_n_union_ancestors_avg',\n",
       " 'go_n_union_ancestors_bma',\n",
       " 'go_batet_max',\n",
       " 'go_batet_avg',\n",
       " 'go_batet_bma',\n",
       " 'go_batet_log_max',\n",
       " 'go_batet_log_avg',\n",
       " 'go_batet_log_bma',\n",
       " 'go_resnik_max',\n",
       " 'go_resnik_avg',\n",
       " 'go_resnik_bma',\n",
       " 'go_resnik_scaled_max',\n",
       " 'go_resnik_scaled_avg',\n",
       " 'go_resnik_scaled_bma',\n",
       " 'go_lin_max',\n",
       " 'go_lin_avg',\n",
       " 'go_lin_bma',\n",
       " 'go_jiang_max',\n",
       " 'go_jiang_avg',\n",
       " 'go_jiang_bma',\n",
       " 'go_jiang_seco_max',\n",
       " 'go_jiang_seco_avg',\n",
       " 'go_jiang_seco_bma',\n",
       " 'wpo_n_common_ancestors_max',\n",
       " 'wpo_n_common_ancestors_avg',\n",
       " 'wpo_n_common_ancestors_bma',\n",
       " 'wpo_n_union_ancestors_max',\n",
       " 'wpo_n_union_ancestors_avg',\n",
       " 'wpo_n_union_ancestors_bma',\n",
       " 'wpo_batet_max',\n",
       " 'wpo_batet_avg',\n",
       " 'wpo_batet_bma',\n",
       " 'wpo_batet_log_max',\n",
       " 'wpo_batet_log_avg',\n",
       " 'wpo_batet_log_bma',\n",
       " 'wpo_resnik_max',\n",
       " 'wpo_resnik_avg',\n",
       " 'wpo_resnik_bma',\n",
       " 'wpo_resnik_scaled_max',\n",
       " 'wpo_resnik_scaled_avg',\n",
       " 'wpo_resnik_scaled_bma',\n",
       " 'wpo_lin_max',\n",
       " 'wpo_lin_avg',\n",
       " 'wpo_lin_bma',\n",
       " 'wpo_jiang_max',\n",
       " 'wpo_jiang_avg',\n",
       " 'wpo_jiang_bma',\n",
       " 'wpo_jiang_seco_max',\n",
       " 'wpo_jiang_seco_avg',\n",
       " 'wpo_jiang_seco_bma',\n",
       " 'is_modifier']"
      ]
     },
     "execution_count": 49,
     "metadata": {},
     "output_type": "execute_result"
    }
   ],
   "source": [
    "list(m_df.columns)"
   ]
  },
  {
   "cell_type": "markdown",
   "id": "ec4a09c1",
   "metadata": {},
   "source": [
    "🏷️ Adding Ontology Annotation - MTG"
   ]
  },
  {
   "cell_type": "code",
   "execution_count": 50,
   "id": "4effe771",
   "metadata": {},
   "outputs": [],
   "source": [
    "i = 0\n",
    "for onto, map in onto_to_gene_map['celegans'].items():\n",
    "    # for each type of ontologies\n",
    "    # we add annotation for soure and target gene\n",
    "    m_df = add_annotation(m_df, src_trgt_cols['MTG'][i], map)\n",
    "    i += 1"
   ]
  },
  {
   "cell_type": "code",
   "execution_count": 51,
   "id": "992d5208",
   "metadata": {},
   "outputs": [
    {
     "data": {
      "image/png": "[encoded data removed]",
      "text/plain": [
       "<Figure size 640x480 with 1 Axes>"
      ]
     },
     "metadata": {},
     "output_type": "display_data"
    }
   ],
   "source": [
    "# Plotting annotation count\n",
    "melted_df = pd.melt(m_df, value_vars=['target_GOs_count', 'modifier_GOs_count'])\n",
    "\n",
    "sns.histplot(data=melted_df, x='value', hue='variable', kde=False, palette='viridis')\n",
    "plt.legend(title='Gene Type', labels=['Query gene', 'Suppressor gene'])\n",
    "plt.show()"
   ]
  },
  {
   "cell_type": "code",
   "execution_count": 76,
   "metadata": {},
   "outputs": [
    {
     "data": {
      "text/html": [
       "<pre style=\"white-space:pre;overflow-x:auto;line-height:normal;font-family:Menlo,'DejaVu Sans Mono',consolas,'Courier New',monospace\"><span style=\"color: #7fbfbf; text-decoration-color: #7fbfbf\">[12/13/23 04:20:42] </span><span style=\"color: #000080; text-decoration-color: #000080\">INFO    </span> Saving data to <span style=\"color: #008000; text-decoration-color: #008000\">'zyg1_annotated'</span> <span style=\"font-weight: bold\">(</span>CSVDataSet<span style=\"font-weight: bold\">)</span><span style=\"color: #808000; text-decoration-color: #808000\">...</span>                    <a href=\"file:///home/rahit/jupyter_py3/lib/python3.8/site-packages/kedro/io/data_catalog.py\" target=\"_blank\"><span style=\"color: #7f7f7f; text-decoration-color: #7f7f7f\">data_catalog.py</span></a><span style=\"color: #7f7f7f; text-decoration-color: #7f7f7f\">:</span><a href=\"file:///home/rahit/jupyter_py3/lib/python3.8/site-packages/kedro/io/data_catalog.py#531\" target=\"_blank\"><span style=\"color: #7f7f7f; text-decoration-color: #7f7f7f\">531</span></a>\n",
       "</pre>\n"
      ],
      "text/plain": [
       "\u001b[2;36m[12/13/23 04:20:42]\u001b[0m\u001b[2;36m \u001b[0m\u001b[34mINFO    \u001b[0m Saving data to \u001b[32m'zyg1_annotated'\u001b[0m \u001b[1m(\u001b[0mCSVDataSet\u001b[1m)\u001b[0m\u001b[33m...\u001b[0m                    \u001b]8;id=521685;file:///home/rahit/jupyter_py3/lib/python3.8/site-packages/kedro/io/data_catalog.py\u001b\\\u001b[2mdata_catalog.py\u001b[0m\u001b]8;;\u001b\\\u001b[2m:\u001b[0m\u001b]8;id=29902;file:///home/rahit/jupyter_py3/lib/python3.8/site-packages/kedro/io/data_catalog.py#531\u001b\\\u001b[2m531\u001b[0m\u001b]8;;\u001b\\\n"
      ]
     },
     "metadata": {},
     "output_type": "display_data"
    },
    {
     "data": {
      "text/html": [
       "<pre style=\"white-space:pre;overflow-x:auto;line-height:normal;font-family:Menlo,'DejaVu Sans Mono',consolas,'Courier New',monospace\"><span style=\"color: #7fbfbf; text-decoration-color: #7fbfbf\">                    </span><span style=\"color: #000080; text-decoration-color: #000080\">INFO    </span> Saving data to <span style=\"color: #008000; text-decoration-color: #008000\">'zyg1_annotated'</span> <span style=\"font-weight: bold\">(</span>CSVDataSet<span style=\"font-weight: bold\">)</span><span style=\"color: #808000; text-decoration-color: #808000\">...</span>                    <a href=\"file:///home/rahit/jupyter_py3/lib/python3.8/site-packages/kedro/io/data_catalog.py\" target=\"_blank\"><span style=\"color: #7f7f7f; text-decoration-color: #7f7f7f\">data_catalog.py</span></a><span style=\"color: #7f7f7f; text-decoration-color: #7f7f7f\">:</span><a href=\"file:///home/rahit/jupyter_py3/lib/python3.8/site-packages/kedro/io/data_catalog.py#531\" target=\"_blank\"><span style=\"color: #7f7f7f; text-decoration-color: #7f7f7f\">531</span></a>\n",
       "</pre>\n"
      ],
      "text/plain": [
       "\u001b[2;36m                   \u001b[0m\u001b[2;36m \u001b[0m\u001b[34mINFO    \u001b[0m Saving data to \u001b[32m'zyg1_annotated'\u001b[0m \u001b[1m(\u001b[0mCSVDataSet\u001b[1m)\u001b[0m\u001b[33m...\u001b[0m                    \u001b]8;id=871371;file:///home/rahit/jupyter_py3/lib/python3.8/site-packages/kedro/io/data_catalog.py\u001b\\\u001b[2mdata_catalog.py\u001b[0m\u001b]8;;\u001b\\\u001b[2m:\u001b[0m\u001b]8;id=989857;file:///home/rahit/jupyter_py3/lib/python3.8/site-packages/kedro/io/data_catalog.py#531\u001b\\\u001b[2m531\u001b[0m\u001b]8;;\u001b\\\n"
      ]
     },
     "metadata": {},
     "output_type": "display_data"
    }
   ],
   "source": [
    "# catalog.save('zyg1_annotated', m_df)"
   ]
  },
  {
   "cell_type": "markdown",
   "id": "6169187d",
   "metadata": {},
   "source": [
    "####  2️⃣ OLIDA"
   ]
  },
  {
   "cell_type": "code",
   "execution_count": 53,
   "id": "a8075ec7",
   "metadata": {},
   "outputs": [
    {
     "data": {
      "text/html": [
       "<pre style=\"white-space:pre;overflow-x:auto;line-height:normal;font-family:Menlo,'DejaVu Sans Mono',consolas,'Courier New',monospace\"><span style=\"font-weight: bold\">(</span><span style=\"color: #008080; text-decoration-color: #008080; font-weight: bold\">173</span>, <span style=\"color: #008080; text-decoration-color: #008080; font-weight: bold\">22</span><span style=\"font-weight: bold\">)</span>\n",
       "</pre>\n"
      ],
      "text/plain": [
       "\u001b[1m(\u001b[0m\u001b[1;36m173\u001b[0m, \u001b[1;36m22\u001b[0m\u001b[1m)\u001b[0m\n"
      ]
     },
     "metadata": {},
     "output_type": "display_data"
    },
    {
     "data": {
      "text/html": [
       "<pre style=\"white-space:pre;overflow-x:auto;line-height:normal;font-family:Menlo,'DejaVu Sans Mono',consolas,'Courier New',monospace\">Monogenic+Modifier          <span style=\"color: #008080; text-decoration-color: #008080; font-weight: bold\">85</span>\n",
       "<span style=\"color: #00ff00; text-decoration-color: #00ff00; font-style: italic\">True</span> Digenic                <span style=\"color: #008080; text-decoration-color: #008080; font-weight: bold\">70</span>\n",
       "Dual Molecular Diagnosis    <span style=\"color: #008080; text-decoration-color: #008080; font-weight: bold\">18</span>\n",
       "Name: Oligogenic Effect, dtype: int64\n",
       "</pre>\n"
      ],
      "text/plain": [
       "Monogenic+Modifier          \u001b[1;36m85\u001b[0m\n",
       "\u001b[3;92mTrue\u001b[0m Digenic                \u001b[1;36m70\u001b[0m\n",
       "Dual Molecular Diagnosis    \u001b[1;36m18\u001b[0m\n",
       "Name: Oligogenic Effect, dtype: int64\n"
      ]
     },
     "metadata": {},
     "output_type": "display_data"
    }
   ],
   "source": [
    "olida_comb_filtered = olida_comb[olida_comb['Oligogenic Effect'] != 'Unknown']\n",
    "print(olida_comb_filtered.shape)\n",
    "print(olida_comb_filtered['Oligogenic Effect'].value_counts())"
   ]
  },
  {
   "cell_type": "code",
   "execution_count": 54,
   "metadata": {},
   "outputs": [
    {
     "data": {
      "text/plain": [
       "Index(['OLIDA ID', 'Omim Id', 'Diseases', 'Oligogenic Effect', 'Ethnicity',\n",
       "       'References', 'Associated Variants', 'FAMmanual', 'STATmanual',\n",
       "       'STATknowledge', 'STATmeta', 'GENEmanual', 'GENEmanual harmonized',\n",
       "       'GENEknowledge', 'GENEmeta', 'VARmanual', 'VARknowledge', 'VARmeta',\n",
       "       'FUNmanual', 'FUNmeta', 'FINALmanual', 'FINALmeta'],\n",
       "      dtype='object')"
      ]
     },
     "execution_count": 54,
     "metadata": {},
     "output_type": "execute_result"
    }
   ],
   "source": [
    "olida_comb_filtered.columns"
   ]
  },
  {
   "cell_type": "code",
   "execution_count": 55,
   "metadata": {},
   "outputs": [],
   "source": [
    "# Splitting and expanding on synonymous gene symbols\n",
    "olida_gene_comb['olida_id'] = olida_gene_comb['Oligogenic variant combinations'].str.split(';')\n",
    "olida_gene_comb = olida_gene_comb.explode('olida_id')"
   ]
  },
  {
   "cell_type": "code",
   "execution_count": 56,
   "metadata": {},
   "outputs": [
    {
     "data": {
      "text/html": [
       "<pre style=\"white-space:pre;overflow-x:auto;line-height:normal;font-family:Menlo,'DejaVu Sans Mono',consolas,'Courier New',monospace\"><span style=\"font-weight: bold\">(</span><span style=\"color: #008080; text-decoration-color: #008080; font-weight: bold\">1610</span>, <span style=\"color: #008080; text-decoration-color: #008080; font-weight: bold\">30</span><span style=\"font-weight: bold\">)</span>\n",
       "</pre>\n"
      ],
      "text/plain": [
       "\u001b[1m(\u001b[0m\u001b[1;36m1610\u001b[0m, \u001b[1;36m30\u001b[0m\u001b[1m)\u001b[0m\n"
      ]
     },
     "metadata": {},
     "output_type": "display_data"
    }
   ],
   "source": [
    "# Adding OLIDA combination information\n",
    "_olida_m = olida_gene_comb.merge(olida_comb_filtered, how='left', left_on='olida_id', right_on='OLIDA ID')\n",
    "print(_olida_m.shape)\n",
    "olida_merged = _olida_m.dropna(subset=['OLIDA ID']).reindex()"
   ]
  },
  {
   "cell_type": "code",
   "execution_count": 57,
   "metadata": {},
   "outputs": [
    {
     "data": {
      "text/plain": [
       "(111, 30)"
      ]
     },
     "execution_count": 57,
     "metadata": {},
     "output_type": "execute_result"
    }
   ],
   "source": [
    "olida_merged.shape"
   ]
  },
  {
   "cell_type": "code",
   "execution_count": 58,
   "metadata": {},
   "outputs": [
    {
     "data": {
      "text/html": [
       "<pre style=\"white-space:pre;overflow-x:auto;line-height:normal;font-family:Menlo,'DejaVu Sans Mono',consolas,'Courier New',monospace\"><span style=\"font-weight: bold\">(</span><span style=\"color: #008080; text-decoration-color: #008080; font-weight: bold\">111</span>, <span style=\"color: #008080; text-decoration-color: #008080; font-weight: bold\">30</span><span style=\"font-weight: bold\">)</span>\n",
       "</pre>\n"
      ],
      "text/plain": [
       "\u001b[1m(\u001b[0m\u001b[1;36m111\u001b[0m, \u001b[1;36m30\u001b[0m\u001b[1m)\u001b[0m\n"
      ]
     },
     "metadata": {},
     "output_type": "display_data"
    },
    {
     "data": {
      "text/html": [
       "<pre style=\"white-space:pre;overflow-x:auto;line-height:normal;font-family:Menlo,'DejaVu Sans Mono',consolas,'Courier New',monospace\">Monogenic+Modifier          <span style=\"color: #008080; text-decoration-color: #008080; font-weight: bold\">50</span>\n",
       "<span style=\"color: #00ff00; text-decoration-color: #00ff00; font-style: italic\">True</span> Digenic                <span style=\"color: #008080; text-decoration-color: #008080; font-weight: bold\">43</span>\n",
       "Dual Molecular Diagnosis    <span style=\"color: #008080; text-decoration-color: #008080; font-weight: bold\">18</span>\n",
       "Name: Oligogenic Effect, dtype: int64\n",
       "</pre>\n"
      ],
      "text/plain": [
       "Monogenic+Modifier          \u001b[1;36m50\u001b[0m\n",
       "\u001b[3;92mTrue\u001b[0m Digenic                \u001b[1;36m43\u001b[0m\n",
       "Dual Molecular Diagnosis    \u001b[1;36m18\u001b[0m\n",
       "Name: Oligogenic Effect, dtype: int64\n"
      ]
     },
     "metadata": {},
     "output_type": "display_data"
    }
   ],
   "source": [
    "print(olida_merged.shape)\n",
    "print(olida_merged['Oligogenic Effect'].value_counts())"
   ]
  },
  {
   "cell_type": "code",
   "execution_count": 59,
   "metadata": {},
   "outputs": [
    {
     "data": {
      "text/html": [
       "<pre style=\"white-space:pre;overflow-x:auto;line-height:normal;font-family:Menlo,'DejaVu Sans Mono',consolas,'Courier New',monospace\"><span style=\"color: #008080; text-decoration-color: #008080; font-weight: bold\">2</span>    <span style=\"color: #008080; text-decoration-color: #008080; font-weight: bold\">96</span>\n",
       "<span style=\"color: #008080; text-decoration-color: #008080; font-weight: bold\">3</span>    <span style=\"color: #008080; text-decoration-color: #008080; font-weight: bold\">15</span>\n",
       "Name: gene_list_len, dtype: int64\n",
       "</pre>\n"
      ],
      "text/plain": [
       "\u001b[1;36m2\u001b[0m    \u001b[1;36m96\u001b[0m\n",
       "\u001b[1;36m3\u001b[0m    \u001b[1;36m15\u001b[0m\n",
       "Name: gene_list_len, dtype: int64\n"
      ]
     },
     "metadata": {},
     "output_type": "display_data"
    }
   ],
   "source": [
    "# Splitting gene symbols and keeping as a list\n",
    "olida_merged['gene_list'] = olida_merged['Genes'].str.split(';')\n",
    "olida_merged['gene_list_len'] = olida_merged.apply(lambda row: len(row['gene_list']), axis=1)\n",
    "print(olida_merged['gene_list_len'].value_counts())"
   ]
  },
  {
   "cell_type": "code",
   "execution_count": 60,
   "metadata": {},
   "outputs": [
    {
     "data": {
      "text/html": [
       "<pre style=\"white-space:pre;overflow-x:auto;line-height:normal;font-family:Menlo,'DejaVu Sans Mono',consolas,'Courier New',monospace\"><span style=\"font-weight: bold\">(</span><span style=\"color: #008080; text-decoration-color: #008080; font-weight: bold\">141</span>, <span style=\"color: #008080; text-decoration-color: #008080; font-weight: bold\">33</span><span style=\"font-weight: bold\">)</span>\n",
       "</pre>\n"
      ],
      "text/plain": [
       "\u001b[1m(\u001b[0m\u001b[1;36m141\u001b[0m, \u001b[1;36m33\u001b[0m\u001b[1m)\u001b[0m\n"
      ]
     },
     "metadata": {},
     "output_type": "display_data"
    }
   ],
   "source": [
    "# Generate unique pairs from the gene list\n",
    "olida_merged['gene_pairs'] = olida_merged.apply(lambda r: list(itertools.combinations(r['gene_list'], 2)), axis=1)\n",
    "olida_pairs = olida_merged.explode('gene_pairs')\n",
    "print(olida_pairs.shape)"
   ]
  },
  {
   "cell_type": "code",
   "execution_count": 61,
   "metadata": {},
   "outputs": [
    {
     "data": {
      "text/html": [
       "<pre style=\"white-space:pre;overflow-x:auto;line-height:normal;font-family:Menlo,'DejaVu Sans Mono',consolas,'Courier New',monospace\">CHD7      <span style=\"color: #008080; text-decoration-color: #008080; font-weight: bold\">6</span>\n",
       "FGFR1     <span style=\"color: #008080; text-decoration-color: #008080; font-weight: bold\">5</span>\n",
       "MYO7A     <span style=\"color: #008080; text-decoration-color: #008080; font-weight: bold\">4</span>\n",
       "GJB2      <span style=\"color: #008080; text-decoration-color: #008080; font-weight: bold\">3</span>\n",
       "CYP7A1    <span style=\"color: #008080; text-decoration-color: #008080; font-weight: bold\">3</span>\n",
       "         ..\n",
       "EDA       <span style=\"color: #008080; text-decoration-color: #008080; font-weight: bold\">1</span>\n",
       "LMBRD1    <span style=\"color: #008080; text-decoration-color: #008080; font-weight: bold\">1</span>\n",
       "NKX2-<span style=\"color: #008080; text-decoration-color: #008080; font-weight: bold\">5</span>    <span style=\"color: #008080; text-decoration-color: #008080; font-weight: bold\">1</span>\n",
       "CARD9     <span style=\"color: #008080; text-decoration-color: #008080; font-weight: bold\">1</span>\n",
       "FOXC2     <span style=\"color: #008080; text-decoration-color: #008080; font-weight: bold\">1</span>\n",
       "Name: gene_a, Length: <span style=\"color: #008080; text-decoration-color: #008080; font-weight: bold\">106</span>, dtype: int64\n",
       "</pre>\n"
      ],
      "text/plain": [
       "CHD7      \u001b[1;36m6\u001b[0m\n",
       "FGFR1     \u001b[1;36m5\u001b[0m\n",
       "MYO7A     \u001b[1;36m4\u001b[0m\n",
       "GJB2      \u001b[1;36m3\u001b[0m\n",
       "CYP7A1    \u001b[1;36m3\u001b[0m\n",
       "         ..\n",
       "EDA       \u001b[1;36m1\u001b[0m\n",
       "LMBRD1    \u001b[1;36m1\u001b[0m\n",
       "NKX2-\u001b[1;36m5\u001b[0m    \u001b[1;36m1\u001b[0m\n",
       "CARD9     \u001b[1;36m1\u001b[0m\n",
       "FOXC2     \u001b[1;36m1\u001b[0m\n",
       "Name: gene_a, Length: \u001b[1;36m106\u001b[0m, dtype: int64\n"
      ]
     },
     "metadata": {},
     "output_type": "display_data"
    },
    {
     "data": {
      "text/html": [
       "<pre style=\"white-space:pre;overflow-x:auto;line-height:normal;font-family:Menlo,'DejaVu Sans Mono',consolas,'Courier New',monospace\">USH2A     <span style=\"color: #008080; text-decoration-color: #008080; font-weight: bold\">4</span>\n",
       "PROKR2    <span style=\"color: #008080; text-decoration-color: #008080; font-weight: bold\">3</span>\n",
       "LRP6      <span style=\"color: #008080; text-decoration-color: #008080; font-weight: bold\">3</span>\n",
       "MYH7      <span style=\"color: #008080; text-decoration-color: #008080; font-weight: bold\">3</span>\n",
       "OPTN      <span style=\"color: #008080; text-decoration-color: #008080; font-weight: bold\">2</span>\n",
       "         ..\n",
       "WNT10A    <span style=\"color: #008080; text-decoration-color: #008080; font-weight: bold\">1</span>\n",
       "MTR       <span style=\"color: #008080; text-decoration-color: #008080; font-weight: bold\">1</span>\n",
       "ZIC3      <span style=\"color: #008080; text-decoration-color: #008080; font-weight: bold\">1</span>\n",
       "MYD88     <span style=\"color: #008080; text-decoration-color: #008080; font-weight: bold\">1</span>\n",
       "PIEZO1    <span style=\"color: #008080; text-decoration-color: #008080; font-weight: bold\">1</span>\n",
       "Name: gene_b, Length: <span style=\"color: #008080; text-decoration-color: #008080; font-weight: bold\">114</span>, dtype: int64\n",
       "</pre>\n"
      ],
      "text/plain": [
       "USH2A     \u001b[1;36m4\u001b[0m\n",
       "PROKR2    \u001b[1;36m3\u001b[0m\n",
       "LRP6      \u001b[1;36m3\u001b[0m\n",
       "MYH7      \u001b[1;36m3\u001b[0m\n",
       "OPTN      \u001b[1;36m2\u001b[0m\n",
       "         ..\n",
       "WNT10A    \u001b[1;36m1\u001b[0m\n",
       "MTR       \u001b[1;36m1\u001b[0m\n",
       "ZIC3      \u001b[1;36m1\u001b[0m\n",
       "MYD88     \u001b[1;36m1\u001b[0m\n",
       "PIEZO1    \u001b[1;36m1\u001b[0m\n",
       "Name: gene_b, Length: \u001b[1;36m114\u001b[0m, dtype: int64\n"
      ]
     },
     "metadata": {},
     "output_type": "display_data"
    }
   ],
   "source": [
    "# Splitting the gene_pairs into two columns\n",
    "# olida_pairs[['gene_a', 'gene_b']] = olida_pairs['gene_pairs'].map(pd.Series)\n",
    "olida_pairs[['gene_a', 'gene_b']] = olida_pairs['gene_pairs'].apply(pd.Series)\n",
    "olida_pairs['gene_a'] = olida_pairs['gene_a'].map(lambda x: x.strip())\n",
    "olida_pairs['gene_b'] = olida_pairs['gene_b'].map(lambda x: x.strip())\n",
    "\n",
    "print(olida_pairs['gene_a'].value_counts())\n",
    "print(olida_pairs['gene_b'].value_counts())\n"
   ]
  },
  {
   "cell_type": "markdown",
   "id": "204d64ba",
   "metadata": {},
   "source": [
    "🏷️ Adding Ontology Annotation - OLIDA"
   ]
  },
  {
   "cell_type": "code",
   "execution_count": 62,
   "id": "4133df72",
   "metadata": {},
   "outputs": [],
   "source": [
    "i = 0\n",
    "for onto, map in onto_to_gene_map['human'].items():\n",
    "    # for each type of ontologies\n",
    "    # we add annotation for soure and target gene\n",
    "    olida_pairs = add_annotation(olida_pairs, src_trgt_cols['OLIDA'][i], map)\n",
    "    i += 1"
   ]
  },
  {
   "cell_type": "code",
   "execution_count": 63,
   "id": "3d62b2e9",
   "metadata": {},
   "outputs": [
    {
     "data": {
      "image/png": "[encoded data removed]",
      "text/plain": [
       "<Figure size 640x480 with 1 Axes>"
      ]
     },
     "metadata": {},
     "output_type": "display_data"
    }
   ],
   "source": [
    "# Plotting annotation count\n",
    "melted_df = pd.melt(olida_pairs, value_vars=['target_GOs_count', 'modifier_GOs_count'])\n",
    "\n",
    "sns.histplot(data=melted_df, x='value', hue='variable', kde=False, palette='viridis')\n",
    "plt.legend(title='Gene Type', labels=['Query gene', 'Suppressor gene'])\n",
    "plt.show()"
   ]
  },
  {
   "cell_type": "code",
   "execution_count": 65,
   "id": "6b197b3e",
   "metadata": {},
   "outputs": [
    {
     "data": {
      "text/html": [
       "<div>\n",
       "<style scoped>\n",
       "    .dataframe tbody tr th:only-of-type {\n",
       "        vertical-align: middle;\n",
       "    }\n",
       "\n",
       "    .dataframe tbody tr th {\n",
       "        vertical-align: top;\n",
       "    }\n",
       "\n",
       "    .dataframe thead th {\n",
       "        text-align: right;\n",
       "    }\n",
       "</style>\n",
       "<table border=\"1\" class=\"dataframe\">\n",
       "  <thead>\n",
       "    <tr style=\"text-align: right;\">\n",
       "      <th></th>\n",
       "      <th>Entry Id</th>\n",
       "      <th>Genes</th>\n",
       "      <th>Genes Relationship</th>\n",
       "      <th>Protein Interactions</th>\n",
       "      <th>Common Pathways</th>\n",
       "      <th>GENEmeta_x</th>\n",
       "      <th>Oligogenic variant combinations</th>\n",
       "      <th>olida_id</th>\n",
       "      <th>OLIDA ID</th>\n",
       "      <th>Omim Id</th>\n",
       "      <th>...</th>\n",
       "      <th>modifier_GOs</th>\n",
       "      <th>modifier_GOs_count</th>\n",
       "      <th>target_POs</th>\n",
       "      <th>target_POs_count</th>\n",
       "      <th>modifier_POs</th>\n",
       "      <th>modifier_POs_count</th>\n",
       "      <th>target_DOs</th>\n",
       "      <th>target_DOs_count</th>\n",
       "      <th>modifier_DOs</th>\n",
       "      <th>modifier_DOs_count</th>\n",
       "    </tr>\n",
       "  </thead>\n",
       "  <tbody>\n",
       "    <tr>\n",
       "      <th>0</th>\n",
       "      <td>1</td>\n",
       "      <td>ALAD; CPO</td>\n",
       "      <td>Involved in the same disease;Same pathway;Rele...</td>\n",
       "      <td>N.A.</td>\n",
       "      <td>N.A.</td>\n",
       "      <td>2</td>\n",
       "      <td>OLI001</td>\n",
       "      <td>OLI001</td>\n",
       "      <td>OLI001</td>\n",
       "      <td>121300</td>\n",
       "      <td>...</td>\n",
       "      <td>GO:0004181,GO:0008270,GO:0005886,GO:0016324,GO...</td>\n",
       "      <td>8</td>\n",
       "      <td>HP:0001271,HP:0001289,HP:0001256,HP:0001252,HP...</td>\n",
       "      <td>54</td>\n",
       "      <td>NaN</td>\n",
       "      <td>0</td>\n",
       "      <td>DOID:5082,DOID:10923,DOID:3132,DOID:3132,DOID:...</td>\n",
       "      <td>12</td>\n",
       "      <td>NaN</td>\n",
       "      <td>0</td>\n",
       "    </tr>\n",
       "    <tr>\n",
       "      <th>6</th>\n",
       "      <td>6</td>\n",
       "      <td>ADD3; KAT2B</td>\n",
       "      <td>Affecting the same tissue;Relevant pathways fo...</td>\n",
       "      <td>N.A.</td>\n",
       "      <td>N.A.</td>\n",
       "      <td>3</td>\n",
       "      <td>OLI007</td>\n",
       "      <td>OLI007</td>\n",
       "      <td>OLI007</td>\n",
       "      <td>600995; 607832; 616893; 618179; 615573; 256370...</td>\n",
       "      <td>...</td>\n",
       "      <td>GO:0000977,GO:0003682,GO:0003712,GO:0003712,GO...</td>\n",
       "      <td>167</td>\n",
       "      <td>HP:0007256,HP:0001250,HP:0001264,HP:0001260,HP...</td>\n",
       "      <td>20</td>\n",
       "      <td>NaN</td>\n",
       "      <td>0</td>\n",
       "      <td>DOID:0081361,DOID:1969,DOID:576,DOID:10763,DOI...</td>\n",
       "      <td>6</td>\n",
       "      <td>DOID:7148,DOID:684,DOID:3748,DOID:1612,DOID:55...</td>\n",
       "      <td>6</td>\n",
       "    </tr>\n",
       "    <tr>\n",
       "      <th>7</th>\n",
       "      <td>7</td>\n",
       "      <td>SLC34A1; SLC34A3</td>\n",
       "      <td>Involved in the same disease;Affecting the sam...</td>\n",
       "      <td>N.A.</td>\n",
       "      <td>Sodium-coupled phosphate cotransporters;Transp...</td>\n",
       "      <td>3</td>\n",
       "      <td>OLI008</td>\n",
       "      <td>OLI008</td>\n",
       "      <td>OLI008</td>\n",
       "      <td>241530</td>\n",
       "      <td>...</td>\n",
       "      <td>GO:0005436,GO:0005436,GO:0005436,GO:0005515,GO...</td>\n",
       "      <td>21</td>\n",
       "      <td>HP:0003774,HP:0001252,HP:0002515,HP:0000083,HP...</td>\n",
       "      <td>87</td>\n",
       "      <td>HP:0001252,HP:0002515,HP:0002663,HP:0001324,HP...</td>\n",
       "      <td>60</td>\n",
       "      <td>DOID:7998,DOID:784,DOID:0050336,DOID:1459,DOID...</td>\n",
       "      <td>14</td>\n",
       "      <td>DOID:0050947</td>\n",
       "      <td>1</td>\n",
       "    </tr>\n",
       "  </tbody>\n",
       "</table>\n",
       "<p>3 rows × 47 columns</p>\n",
       "</div>"
      ],
      "text/plain": [
       "  Entry Id             Genes  \\\n",
       "0        1         ALAD; CPO   \n",
       "6        6       ADD3; KAT2B   \n",
       "7        7  SLC34A1; SLC34A3   \n",
       "\n",
       "                                  Genes Relationship Protein Interactions  \\\n",
       "0  Involved in the same disease;Same pathway;Rele...                 N.A.   \n",
       "6  Affecting the same tissue;Relevant pathways fo...                 N.A.   \n",
       "7  Involved in the same disease;Affecting the sam...                 N.A.   \n",
       "\n",
       "                                     Common Pathways GENEmeta_x  \\\n",
       "0                                               N.A.          2   \n",
       "6                                               N.A.          3   \n",
       "7  Sodium-coupled phosphate cotransporters;Transp...          3   \n",
       "\n",
       "  Oligogenic variant combinations olida_id OLIDA ID  \\\n",
       "0                          OLI001   OLI001   OLI001   \n",
       "6                          OLI007   OLI007   OLI007   \n",
       "7                          OLI008   OLI008   OLI008   \n",
       "\n",
       "                                             Omim Id  ...  \\\n",
       "0                                             121300  ...   \n",
       "6  600995; 607832; 616893; 618179; 615573; 256370...  ...   \n",
       "7                                             241530  ...   \n",
       "\n",
       "                                        modifier_GOs modifier_GOs_count  \\\n",
       "0  GO:0004181,GO:0008270,GO:0005886,GO:0016324,GO...                  8   \n",
       "6  GO:0000977,GO:0003682,GO:0003712,GO:0003712,GO...                167   \n",
       "7  GO:0005436,GO:0005436,GO:0005436,GO:0005515,GO...                 21   \n",
       "\n",
       "                                          target_POs target_POs_count  \\\n",
       "0  HP:0001271,HP:0001289,HP:0001256,HP:0001252,HP...               54   \n",
       "6  HP:0007256,HP:0001250,HP:0001264,HP:0001260,HP...               20   \n",
       "7  HP:0003774,HP:0001252,HP:0002515,HP:0000083,HP...               87   \n",
       "\n",
       "                                        modifier_POs modifier_POs_count  \\\n",
       "0                                                NaN                  0   \n",
       "6                                                NaN                  0   \n",
       "7  HP:0001252,HP:0002515,HP:0002663,HP:0001324,HP...                 60   \n",
       "\n",
       "                                          target_DOs target_DOs_count  \\\n",
       "0  DOID:5082,DOID:10923,DOID:3132,DOID:3132,DOID:...               12   \n",
       "6  DOID:0081361,DOID:1969,DOID:576,DOID:10763,DOI...                6   \n",
       "7  DOID:7998,DOID:784,DOID:0050336,DOID:1459,DOID...               14   \n",
       "\n",
       "                                        modifier_DOs modifier_DOs_count  \n",
       "0                                                NaN                  0  \n",
       "6  DOID:7148,DOID:684,DOID:3748,DOID:1612,DOID:55...                  6  \n",
       "7                                       DOID:0050947                  1  \n",
       "\n",
       "[3 rows x 47 columns]"
      ]
     },
     "execution_count": 65,
     "metadata": {},
     "output_type": "execute_result"
    }
   ],
   "source": [
    "olida_pairs.head(3)"
   ]
  },
  {
   "cell_type": "code",
   "execution_count": 79,
   "id": "358a94e3",
   "metadata": {},
   "outputs": [
    {
     "data": {
      "text/html": [
       "<pre style=\"white-space:pre;overflow-x:auto;line-height:normal;font-family:Menlo,'DejaVu Sans Mono',consolas,'Courier New',monospace\"><span style=\"color: #7fbfbf; text-decoration-color: #7fbfbf\">[12/13/23 04:23:02] </span><span style=\"color: #000080; text-decoration-color: #000080\">INFO    </span> Saving data to <span style=\"color: #008000; text-decoration-color: #008000\">'olida_annotated'</span> <span style=\"font-weight: bold\">(</span>CSVDataSet<span style=\"font-weight: bold\">)</span><span style=\"color: #808000; text-decoration-color: #808000\">...</span>                   <a href=\"file:///home/rahit/jupyter_py3/lib/python3.8/site-packages/kedro/io/data_catalog.py\" target=\"_blank\"><span style=\"color: #7f7f7f; text-decoration-color: #7f7f7f\">data_catalog.py</span></a><span style=\"color: #7f7f7f; text-decoration-color: #7f7f7f\">:</span><a href=\"file:///home/rahit/jupyter_py3/lib/python3.8/site-packages/kedro/io/data_catalog.py#531\" target=\"_blank\"><span style=\"color: #7f7f7f; text-decoration-color: #7f7f7f\">531</span></a>\n",
       "</pre>\n"
      ],
      "text/plain": [
       "\u001b[2;36m[12/13/23 04:23:02]\u001b[0m\u001b[2;36m \u001b[0m\u001b[34mINFO    \u001b[0m Saving data to \u001b[32m'olida_annotated'\u001b[0m \u001b[1m(\u001b[0mCSVDataSet\u001b[1m)\u001b[0m\u001b[33m...\u001b[0m                   \u001b]8;id=712237;file:///home/rahit/jupyter_py3/lib/python3.8/site-packages/kedro/io/data_catalog.py\u001b\\\u001b[2mdata_catalog.py\u001b[0m\u001b]8;;\u001b\\\u001b[2m:\u001b[0m\u001b]8;id=872750;file:///home/rahit/jupyter_py3/lib/python3.8/site-packages/kedro/io/data_catalog.py#531\u001b\\\u001b[2m531\u001b[0m\u001b]8;;\u001b\\\n"
      ]
     },
     "metadata": {},
     "output_type": "display_data"
    },
    {
     "data": {
      "text/html": [
       "<pre style=\"white-space:pre;overflow-x:auto;line-height:normal;font-family:Menlo,'DejaVu Sans Mono',consolas,'Courier New',monospace\"><span style=\"color: #7fbfbf; text-decoration-color: #7fbfbf\">                    </span><span style=\"color: #000080; text-decoration-color: #000080\">INFO    </span> Saving data to <span style=\"color: #008000; text-decoration-color: #008000\">'olida_annotated'</span> <span style=\"font-weight: bold\">(</span>CSVDataSet<span style=\"font-weight: bold\">)</span><span style=\"color: #808000; text-decoration-color: #808000\">...</span>                   <a href=\"file:///home/rahit/jupyter_py3/lib/python3.8/site-packages/kedro/io/data_catalog.py\" target=\"_blank\"><span style=\"color: #7f7f7f; text-decoration-color: #7f7f7f\">data_catalog.py</span></a><span style=\"color: #7f7f7f; text-decoration-color: #7f7f7f\">:</span><a href=\"file:///home/rahit/jupyter_py3/lib/python3.8/site-packages/kedro/io/data_catalog.py#531\" target=\"_blank\"><span style=\"color: #7f7f7f; text-decoration-color: #7f7f7f\">531</span></a>\n",
       "</pre>\n"
      ],
      "text/plain": [
       "\u001b[2;36m                   \u001b[0m\u001b[2;36m \u001b[0m\u001b[34mINFO    \u001b[0m Saving data to \u001b[32m'olida_annotated'\u001b[0m \u001b[1m(\u001b[0mCSVDataSet\u001b[1m)\u001b[0m\u001b[33m...\u001b[0m                   \u001b]8;id=215568;file:///home/rahit/jupyter_py3/lib/python3.8/site-packages/kedro/io/data_catalog.py\u001b\\\u001b[2mdata_catalog.py\u001b[0m\u001b]8;;\u001b\\\u001b[2m:\u001b[0m\u001b]8;id=758033;file:///home/rahit/jupyter_py3/lib/python3.8/site-packages/kedro/io/data_catalog.py#531\u001b\\\u001b[2m531\u001b[0m\u001b]8;;\u001b\\\n"
      ]
     },
     "metadata": {},
     "output_type": "display_data"
    }
   ],
   "source": [
    "# catalog.save('olida_annotated', olida_pairs)"
   ]
  },
  {
   "cell_type": "markdown",
   "id": "b37abfd9",
   "metadata": {},
   "source": [
    "#### 3️⃣ Jolanda van Leewen"
   ]
  },
  {
   "cell_type": "code",
   "execution_count": 67,
   "id": "d5e3767f",
   "metadata": {},
   "outputs": [
    {
     "data": {
      "text/html": [
       "<pre style=\"white-space:pre;overflow-x:auto;line-height:normal;font-family:Menlo,'DejaVu Sans Mono',consolas,'Courier New',monospace\">HBB       <span style=\"color: #008080; text-decoration-color: #008080; font-weight: bold\">412</span>\n",
       "CFTR      <span style=\"color: #008080; text-decoration-color: #008080; font-weight: bold\">144</span>\n",
       "SMN1       <span style=\"color: #008080; text-decoration-color: #008080; font-weight: bold\">44</span>\n",
       "BRCA1      <span style=\"color: #008080; text-decoration-color: #008080; font-weight: bold\">37</span>\n",
       "HTT        <span style=\"color: #008080; text-decoration-color: #008080; font-weight: bold\">27</span>\n",
       "         <span style=\"color: #808000; text-decoration-color: #808000\">...</span> \n",
       "LUC7L3      <span style=\"color: #008080; text-decoration-color: #008080; font-weight: bold\">1</span>\n",
       "MFAP1       <span style=\"color: #008080; text-decoration-color: #008080; font-weight: bold\">1</span>\n",
       "MITF        <span style=\"color: #008080; text-decoration-color: #008080; font-weight: bold\">1</span>\n",
       "MUS81       <span style=\"color: #008080; text-decoration-color: #008080; font-weight: bold\">1</span>\n",
       "XPA         <span style=\"color: #008080; text-decoration-color: #008080; font-weight: bold\">1</span>\n",
       "Name: QueryGene, Length: <span style=\"color: #008080; text-decoration-color: #008080; font-weight: bold\">93</span>, dtype: int64\n",
       "</pre>\n"
      ],
      "text/plain": [
       "HBB       \u001b[1;36m412\u001b[0m\n",
       "CFTR      \u001b[1;36m144\u001b[0m\n",
       "SMN1       \u001b[1;36m44\u001b[0m\n",
       "BRCA1      \u001b[1;36m37\u001b[0m\n",
       "HTT        \u001b[1;36m27\u001b[0m\n",
       "         \u001b[33m...\u001b[0m \n",
       "LUC7L3      \u001b[1;36m1\u001b[0m\n",
       "MFAP1       \u001b[1;36m1\u001b[0m\n",
       "MITF        \u001b[1;36m1\u001b[0m\n",
       "MUS81       \u001b[1;36m1\u001b[0m\n",
       "XPA         \u001b[1;36m1\u001b[0m\n",
       "Name: QueryGene, Length: \u001b[1;36m93\u001b[0m, dtype: int64\n"
      ]
     },
     "metadata": {},
     "output_type": "display_data"
    },
    {
     "data": {
      "text/html": [
       "<pre style=\"white-space:pre;overflow-x:auto;line-height:normal;font-family:Menlo,'DejaVu Sans Mono',consolas,'Courier New',monospace\">HBA2       <span style=\"color: #008080; text-decoration-color: #008080; font-weight: bold\">96</span>\n",
       "BCL11A     <span style=\"color: #008080; text-decoration-color: #008080; font-weight: bold\">79</span>\n",
       "MYB        <span style=\"color: #008080; text-decoration-color: #008080; font-weight: bold\">62</span>\n",
       "HBG2       <span style=\"color: #008080; text-decoration-color: #008080; font-weight: bold\">53</span>\n",
       "SMN2       <span style=\"color: #008080; text-decoration-color: #008080; font-weight: bold\">43</span>\n",
       "           ..\n",
       "PRKD2       <span style=\"color: #008080; text-decoration-color: #008080; font-weight: bold\">1</span>\n",
       "PPP2R2B     <span style=\"color: #008080; text-decoration-color: #008080; font-weight: bold\">1</span>\n",
       "PPP2R1A     <span style=\"color: #008080; text-decoration-color: #008080; font-weight: bold\">1</span>\n",
       "PLXNA1      <span style=\"color: #008080; text-decoration-color: #008080; font-weight: bold\">1</span>\n",
       "MUTYH       <span style=\"color: #008080; text-decoration-color: #008080; font-weight: bold\">1</span>\n",
       "Name: SuppressorGene, Length: <span style=\"color: #008080; text-decoration-color: #008080; font-weight: bold\">417</span>, dtype: int64\n",
       "</pre>\n"
      ],
      "text/plain": [
       "HBA2       \u001b[1;36m96\u001b[0m\n",
       "BCL11A     \u001b[1;36m79\u001b[0m\n",
       "MYB        \u001b[1;36m62\u001b[0m\n",
       "HBG2       \u001b[1;36m53\u001b[0m\n",
       "SMN2       \u001b[1;36m43\u001b[0m\n",
       "           ..\n",
       "PRKD2       \u001b[1;36m1\u001b[0m\n",
       "PPP2R2B     \u001b[1;36m1\u001b[0m\n",
       "PPP2R1A     \u001b[1;36m1\u001b[0m\n",
       "PLXNA1      \u001b[1;36m1\u001b[0m\n",
       "MUTYH       \u001b[1;36m1\u001b[0m\n",
       "Name: SuppressorGene, Length: \u001b[1;36m417\u001b[0m, dtype: int64\n"
      ]
     },
     "metadata": {},
     "output_type": "display_data"
    }
   ],
   "source": [
    "jvl_pairs = jvl[['QueryGene', 'SuppressorGene']]\n",
    "print(jvl_pairs['QueryGene'].value_counts())\n",
    "print(jvl_pairs['SuppressorGene'].value_counts())"
   ]
  },
  {
   "cell_type": "markdown",
   "id": "6d570b53",
   "metadata": {},
   "source": [
    "🏷️ Adding Ontology Annotation - JVL"
   ]
  },
  {
   "cell_type": "code",
   "execution_count": 68,
   "id": "3c0fb698",
   "metadata": {},
   "outputs": [],
   "source": [
    "i = 0\n",
    "for onto, map in onto_to_gene_map['human'].items():\n",
    "    # for each type of ontologies\n",
    "    # we add annotation for soure and target gene\n",
    "    jvl = add_annotation(jvl, src_trgt_cols['JVL'][i], map)\n",
    "    i += 1"
   ]
  },
  {
   "cell_type": "code",
   "execution_count": 69,
   "id": "8732a2c1",
   "metadata": {},
   "outputs": [
    {
     "data": {
      "image/png": "[encoded data removed]",
      "text/plain": [
       "<Figure size 640x480 with 1 Axes>"
      ]
     },
     "metadata": {},
     "output_type": "display_data"
    }
   ],
   "source": [
    "# Assuming df is your DataFrame and 'column' is the column you want to plot\n",
    "sns.histplot(jvl[['target_GOs_count', 'modifier_GOs_count']], kde=False, bins=30)\n",
    "plt.legend(labels=['Query gene', 'Suppressor gene'])\n",
    "plt.show()"
   ]
  },
  {
   "cell_type": "code",
   "execution_count": 70,
   "id": "59e1405e",
   "metadata": {},
   "outputs": [
    {
     "data": {
      "text/html": [
       "<div>\n",
       "<style scoped>\n",
       "    .dataframe tbody tr th:only-of-type {\n",
       "        vertical-align: middle;\n",
       "    }\n",
       "\n",
       "    .dataframe tbody tr th {\n",
       "        vertical-align: top;\n",
       "    }\n",
       "\n",
       "    .dataframe thead th {\n",
       "        text-align: right;\n",
       "    }\n",
       "</style>\n",
       "<table border=\"1\" class=\"dataframe\">\n",
       "  <thead>\n",
       "    <tr style=\"text-align: right;\">\n",
       "      <th></th>\n",
       "      <th>PubmedID</th>\n",
       "      <th>Category</th>\n",
       "      <th>Tissue</th>\n",
       "      <th>QueryGene</th>\n",
       "      <th>QueryFunction</th>\n",
       "      <th>QueryMutation</th>\n",
       "      <th>QueryType</th>\n",
       "      <th>SuppressorGene</th>\n",
       "      <th>SuppressorFunction</th>\n",
       "      <th>SuppressorMutation</th>\n",
       "      <th>...</th>\n",
       "      <th>modifier_GOs</th>\n",
       "      <th>modifier_GOs_count</th>\n",
       "      <th>target_POs</th>\n",
       "      <th>target_POs_count</th>\n",
       "      <th>modifier_POs</th>\n",
       "      <th>modifier_POs_count</th>\n",
       "      <th>target_DOs</th>\n",
       "      <th>target_DOs_count</th>\n",
       "      <th>modifier_DOs</th>\n",
       "      <th>modifier_DOs_count</th>\n",
       "    </tr>\n",
       "  </thead>\n",
       "  <tbody>\n",
       "    <tr>\n",
       "      <th>0</th>\n",
       "      <td>27358062</td>\n",
       "      <td>Patients</td>\n",
       "      <td>Neuron</td>\n",
       "      <td>APOE</td>\n",
       "      <td>Lipid and sterol biosynthesis &amp; transport</td>\n",
       "      <td>C112R/C112R</td>\n",
       "      <td>-</td>\n",
       "      <td>CASP7</td>\n",
       "      <td>Signaling &amp; stress response</td>\n",
       "      <td>L133*/?</td>\n",
       "      <td>...</td>\n",
       "      <td>GO:0003723,GO:0004190,GO:0004197,GO:0004197,GO...</td>\n",
       "      <td>92</td>\n",
       "      <td>HP:0001114,HP:0010874,HP:0002423,HP:0100820,HP...</td>\n",
       "      <td>99</td>\n",
       "      <td>NaN</td>\n",
       "      <td>0</td>\n",
       "      <td>DOID:9970,DOID:10652,DOID:14330,DOID:9744,DOID...</td>\n",
       "      <td>85</td>\n",
       "      <td>DOID:10652,DOID:7148,DOID:219,DOID:1612,DOID:1...</td>\n",
       "      <td>12</td>\n",
       "    </tr>\n",
       "    <tr>\n",
       "      <th>1</th>\n",
       "      <td>24116184</td>\n",
       "      <td>Patients</td>\n",
       "      <td>-</td>\n",
       "      <td>APOE</td>\n",
       "      <td>Lipid and sterol biosynthesis &amp; transport</td>\n",
       "      <td>C112R/?</td>\n",
       "      <td>-</td>\n",
       "      <td>HBB</td>\n",
       "      <td>Metabolism &amp; mitochondria</td>\n",
       "      <td>E6V/+</td>\n",
       "      <td>...</td>\n",
       "      <td>GO:0004601,GO:0031720,GO:0005344,GO:0005344,GO...</td>\n",
       "      <td>89</td>\n",
       "      <td>HP:0001114,HP:0010874,HP:0002423,HP:0100820,HP...</td>\n",
       "      <td>99</td>\n",
       "      <td>HP:0010885,HP:0032231,HP:0001297,HP:0002597,HP...</td>\n",
       "      <td>262</td>\n",
       "      <td>DOID:9970,DOID:10652,DOID:14330,DOID:9744,DOID...</td>\n",
       "      <td>85</td>\n",
       "      <td>DOID:14330,DOID:12241,DOID:12241,DOID:12241,DO...</td>\n",
       "      <td>23</td>\n",
       "    </tr>\n",
       "    <tr>\n",
       "      <th>2</th>\n",
       "      <td>30867273</td>\n",
       "      <td>Patients</td>\n",
       "      <td>Neuron</td>\n",
       "      <td>APOE</td>\n",
       "      <td>Lipid and sterol biosynthesis &amp; transport</td>\n",
       "      <td>C112R/?</td>\n",
       "      <td>-</td>\n",
       "      <td>KL</td>\n",
       "      <td>NaN</td>\n",
       "      <td>F352V,C370S/+</td>\n",
       "      <td>...</td>\n",
       "      <td>GO:0004566,GO:0004566,GO:0005179,GO:0005499,GO...</td>\n",
       "      <td>85</td>\n",
       "      <td>HP:0001114,HP:0010874,HP:0002423,HP:0100820,HP...</td>\n",
       "      <td>99</td>\n",
       "      <td>HP:0006051,HP:0002514,HP:0000007,HP:0025441,HP...</td>\n",
       "      <td>16</td>\n",
       "      <td>DOID:9970,DOID:10652,DOID:14330,DOID:9744,DOID...</td>\n",
       "      <td>85</td>\n",
       "      <td>DOID:784,DOID:783,DOID:557,DOID:557,DOID:10763...</td>\n",
       "      <td>19</td>\n",
       "    </tr>\n",
       "  </tbody>\n",
       "</table>\n",
       "<p>3 rows × 30 columns</p>\n",
       "</div>"
      ],
      "text/plain": [
       "   PubmedID  Category  Tissue QueryGene  \\\n",
       "0  27358062  Patients  Neuron      APOE   \n",
       "1  24116184  Patients       -      APOE   \n",
       "2  30867273  Patients  Neuron      APOE   \n",
       "\n",
       "                               QueryFunction QueryMutation QueryType  \\\n",
       "0  Lipid and sterol biosynthesis & transport   C112R/C112R         -   \n",
       "1  Lipid and sterol biosynthesis & transport       C112R/?         -   \n",
       "2  Lipid and sterol biosynthesis & transport       C112R/?         -   \n",
       "\n",
       "  SuppressorGene           SuppressorFunction SuppressorMutation  ...  \\\n",
       "0          CASP7  Signaling & stress response            L133*/?  ...   \n",
       "1            HBB    Metabolism & mitochondria              E6V/+  ...   \n",
       "2             KL                          NaN      F352V,C370S/+  ...   \n",
       "\n",
       "                                        modifier_GOs modifier_GOs_count  \\\n",
       "0  GO:0003723,GO:0004190,GO:0004197,GO:0004197,GO...                 92   \n",
       "1  GO:0004601,GO:0031720,GO:0005344,GO:0005344,GO...                 89   \n",
       "2  GO:0004566,GO:0004566,GO:0005179,GO:0005499,GO...                 85   \n",
       "\n",
       "                                          target_POs target_POs_count  \\\n",
       "0  HP:0001114,HP:0010874,HP:0002423,HP:0100820,HP...               99   \n",
       "1  HP:0001114,HP:0010874,HP:0002423,HP:0100820,HP...               99   \n",
       "2  HP:0001114,HP:0010874,HP:0002423,HP:0100820,HP...               99   \n",
       "\n",
       "                                        modifier_POs modifier_POs_count  \\\n",
       "0                                                NaN                  0   \n",
       "1  HP:0010885,HP:0032231,HP:0001297,HP:0002597,HP...                262   \n",
       "2  HP:0006051,HP:0002514,HP:0000007,HP:0025441,HP...                 16   \n",
       "\n",
       "                                          target_DOs target_DOs_count  \\\n",
       "0  DOID:9970,DOID:10652,DOID:14330,DOID:9744,DOID...               85   \n",
       "1  DOID:9970,DOID:10652,DOID:14330,DOID:9744,DOID...               85   \n",
       "2  DOID:9970,DOID:10652,DOID:14330,DOID:9744,DOID...               85   \n",
       "\n",
       "                                        modifier_DOs  modifier_DOs_count  \n",
       "0  DOID:10652,DOID:7148,DOID:219,DOID:1612,DOID:1...                  12  \n",
       "1  DOID:14330,DOID:12241,DOID:12241,DOID:12241,DO...                  23  \n",
       "2  DOID:784,DOID:783,DOID:557,DOID:557,DOID:10763...                  19  \n",
       "\n",
       "[3 rows x 30 columns]"
      ]
     },
     "execution_count": 70,
     "metadata": {},
     "output_type": "execute_result"
    }
   ],
   "source": [
    "jvl.head(3)"
   ]
  },
  {
   "cell_type": "code",
   "execution_count": 80,
   "id": "59befddc",
   "metadata": {},
   "outputs": [
    {
     "data": {
      "text/html": [
       "<pre style=\"white-space:pre;overflow-x:auto;line-height:normal;font-family:Menlo,'DejaVu Sans Mono',consolas,'Courier New',monospace\"><span style=\"color: #7fbfbf; text-decoration-color: #7fbfbf\">[12/13/23 04:23:46] </span><span style=\"color: #000080; text-decoration-color: #000080\">INFO    </span> Saving data to <span style=\"color: #008000; text-decoration-color: #008000\">'jvl_annotated'</span> <span style=\"font-weight: bold\">(</span>CSVDataSet<span style=\"font-weight: bold\">)</span><span style=\"color: #808000; text-decoration-color: #808000\">...</span>                     <a href=\"file:///home/rahit/jupyter_py3/lib/python3.8/site-packages/kedro/io/data_catalog.py\" target=\"_blank\"><span style=\"color: #7f7f7f; text-decoration-color: #7f7f7f\">data_catalog.py</span></a><span style=\"color: #7f7f7f; text-decoration-color: #7f7f7f\">:</span><a href=\"file:///home/rahit/jupyter_py3/lib/python3.8/site-packages/kedro/io/data_catalog.py#531\" target=\"_blank\"><span style=\"color: #7f7f7f; text-decoration-color: #7f7f7f\">531</span></a>\n",
       "</pre>\n"
      ],
      "text/plain": [
       "\u001b[2;36m[12/13/23 04:23:46]\u001b[0m\u001b[2;36m \u001b[0m\u001b[34mINFO    \u001b[0m Saving data to \u001b[32m'jvl_annotated'\u001b[0m \u001b[1m(\u001b[0mCSVDataSet\u001b[1m)\u001b[0m\u001b[33m...\u001b[0m                     \u001b]8;id=145919;file:///home/rahit/jupyter_py3/lib/python3.8/site-packages/kedro/io/data_catalog.py\u001b\\\u001b[2mdata_catalog.py\u001b[0m\u001b]8;;\u001b\\\u001b[2m:\u001b[0m\u001b]8;id=653930;file:///home/rahit/jupyter_py3/lib/python3.8/site-packages/kedro/io/data_catalog.py#531\u001b\\\u001b[2m531\u001b[0m\u001b]8;;\u001b\\\n"
      ]
     },
     "metadata": {},
     "output_type": "display_data"
    },
    {
     "data": {
      "text/html": [
       "<pre style=\"white-space:pre;overflow-x:auto;line-height:normal;font-family:Menlo,'DejaVu Sans Mono',consolas,'Courier New',monospace\"><span style=\"color: #7fbfbf; text-decoration-color: #7fbfbf\">                    </span><span style=\"color: #000080; text-decoration-color: #000080\">INFO    </span> Saving data to <span style=\"color: #008000; text-decoration-color: #008000\">'jvl_annotated'</span> <span style=\"font-weight: bold\">(</span>CSVDataSet<span style=\"font-weight: bold\">)</span><span style=\"color: #808000; text-decoration-color: #808000\">...</span>                     <a href=\"file:///home/rahit/jupyter_py3/lib/python3.8/site-packages/kedro/io/data_catalog.py\" target=\"_blank\"><span style=\"color: #7f7f7f; text-decoration-color: #7f7f7f\">data_catalog.py</span></a><span style=\"color: #7f7f7f; text-decoration-color: #7f7f7f\">:</span><a href=\"file:///home/rahit/jupyter_py3/lib/python3.8/site-packages/kedro/io/data_catalog.py#531\" target=\"_blank\"><span style=\"color: #7f7f7f; text-decoration-color: #7f7f7f\">531</span></a>\n",
       "</pre>\n"
      ],
      "text/plain": [
       "\u001b[2;36m                   \u001b[0m\u001b[2;36m \u001b[0m\u001b[34mINFO    \u001b[0m Saving data to \u001b[32m'jvl_annotated'\u001b[0m \u001b[1m(\u001b[0mCSVDataSet\u001b[1m)\u001b[0m\u001b[33m...\u001b[0m                     \u001b]8;id=467345;file:///home/rahit/jupyter_py3/lib/python3.8/site-packages/kedro/io/data_catalog.py\u001b\\\u001b[2mdata_catalog.py\u001b[0m\u001b]8;;\u001b\\\u001b[2m:\u001b[0m\u001b]8;id=35946;file:///home/rahit/jupyter_py3/lib/python3.8/site-packages/kedro/io/data_catalog.py#531\u001b\\\u001b[2m531\u001b[0m\u001b]8;;\u001b\\\n"
      ]
     },
     "metadata": {},
     "output_type": "display_data"
    }
   ],
   "source": [
    "# catalog.save('jvl_annotated', jvl)"
   ]
  },
  {
   "cell_type": "markdown",
   "metadata": {},
   "source": [
    "# Combine Datasets"
   ]
  },
  {
   "cell_type": "markdown",
   "metadata": {},
   "source": [
    "Comparing OLIDA pairs with JVL"
   ]
  },
  {
   "cell_type": "code",
   "execution_count": 44,
   "metadata": {},
   "outputs": [
    {
     "data": {
      "text/html": [
       "<pre style=\"white-space:pre;overflow-x:auto;line-height:normal;font-family:Menlo,'DejaVu Sans Mono',consolas,'Courier New',monospace\">Monogenic+Modifier          <span style=\"color: #008080; text-decoration-color: #008080; font-weight: bold\">66</span>\n",
       "<span style=\"color: #00ff00; text-decoration-color: #00ff00; font-style: italic\">True</span> Digenic                <span style=\"color: #008080; text-decoration-color: #008080; font-weight: bold\">47</span>\n",
       "Dual Molecular Diagnosis    <span style=\"color: #008080; text-decoration-color: #008080; font-weight: bold\">28</span>\n",
       "Name: Oligogenic Effect, dtype: int64\n",
       "</pre>\n"
      ],
      "text/plain": [
       "Monogenic+Modifier          \u001b[1;36m66\u001b[0m\n",
       "\u001b[3;92mTrue\u001b[0m Digenic                \u001b[1;36m47\u001b[0m\n",
       "Dual Molecular Diagnosis    \u001b[1;36m28\u001b[0m\n",
       "Name: Oligogenic Effect, dtype: int64\n"
      ]
     },
     "metadata": {},
     "output_type": "display_data"
    }
   ],
   "source": [
    "print(olida_pairs['Oligogenic Effect'].value_counts())"
   ]
  },
  {
   "cell_type": "code",
   "execution_count": 45,
   "metadata": {},
   "outputs": [],
   "source": [
    "# # All type of pairs\n",
    "# jvl_match = jvl.merge(olida_pairs[olida_pairs['gene_list_len']==2], how='inner', left_on='SuppressorGene', right_on='gene_a')\n",
    "# print(jvl_match[['QueryGene', 'SuppressorGene','gene_a', 'gene_b']])\n",
    "\n",
    "# jvl_match = jvl.merge(olida_pairs[olida_pairs['gene_list_len']==2], how='inner', left_on='QueryGene', right_on='gene_a')\n",
    "# print(jvl_match[['QueryGene', 'SuppressorGene','gene_a', 'gene_b']])\n",
    "\n",
    "\n",
    "# jvl_match = jvl.merge(olida_pairs[olida_pairs['gene_list_len']==2], how='inner', left_on='SuppressorGene', right_on='gene_b')\n",
    "# print(jvl_match[['QueryGene', 'SuppressorGene','gene_a', 'gene_b']])\n",
    "\n",
    "# jvl_match = jvl.merge(olida_pairs[olida_pairs['gene_list_len']==2], how='inner', left_on='QueryGene', right_on='gene_b')\n",
    "# print(jvl_match[['QueryGene', 'SuppressorGene','gene_a', 'gene_b']])"
   ]
  },
  {
   "cell_type": "code",
   "execution_count": 46,
   "metadata": {},
   "outputs": [],
   "source": [
    "# # Considering ONLY Digenic or Dual Molecular effects FOR COMPARISON.\n",
    "# ########################################################################################\n",
    "# op_filt = olida_pairs[olida_pairs['Oligogenic Effect']!='Monogenic+Modifier']\n",
    "# print(op_filt.shape)\n",
    "# ######################################################################################\n",
    "\n",
    "# jvl_match = jvl.merge(op_filt[op_filt['gene_list_len']==2], how='inner', left_on='SuppressorGene', right_on='gene_a')\n",
    "# print(jvl_match[['QueryGene', 'SuppressorGene','gene_a', 'gene_b']])\n",
    "\n",
    "# jvl_match = jvl.merge(op_filt[op_filt['gene_list_len']==2], how='inner', left_on='QueryGene', right_on='gene_a')\n",
    "# print(jvl_match[['QueryGene', 'SuppressorGene','gene_a', 'gene_b']])\n",
    "\n",
    "\n",
    "# jvl_match = jvl.merge(op_filt[op_filt['gene_list_len']==2], how='inner', left_on='SuppressorGene', right_on='gene_b')\n",
    "# print(jvl_match[['QueryGene', 'SuppressorGene','gene_a', 'gene_b']])\n",
    "\n",
    "# jvl_match = jvl.merge(op_filt[op_filt['gene_list_len']==2], how='inner', left_on='QueryGene', right_on='gene_b')\n",
    "# print(jvl_match[['QueryGene', 'SuppressorGene','gene_a', 'gene_b']])"
   ]
  },
  {
   "cell_type": "code",
   "execution_count": 47,
   "metadata": {},
   "outputs": [
    {
     "data": {
      "text/plain": [
       "Index(['Entry Id', 'Genes', 'Genes Relationship', 'Protein Interactions',\n",
       "       'Common Pathways', 'GENEmeta_x', 'Oligogenic variant combinations',\n",
       "       'olida_id', 'OLIDA ID', 'Omim Id', 'Diseases', 'Oligogenic Effect',\n",
       "       'Ethnicity', 'References', 'Associated Variants', 'FAMmanual',\n",
       "       'STATmanual', 'STATknowledge', 'STATmeta', 'GENEmanual',\n",
       "       'GENEmanual harmonized', 'GENEknowledge', 'GENEmeta_y', 'VARmanual',\n",
       "       'VARknowledge', 'VARmeta', 'FUNmanual', 'FUNmeta', 'FINALmanual',\n",
       "       'FINALmeta', 'gene_list', 'gene_list_len', 'gene_pairs', 'gene_a',\n",
       "       'gene_b', 'target_GOs', 'target_GOs_count', 'modifier_GOs',\n",
       "       'modifier_GOs_count', 'target_POs', 'target_POs_count', 'modifier_POs',\n",
       "       'modifier_POs_count', 'target_DOs', 'target_DOs_count', 'modifier_DOs',\n",
       "       'modifier_DOs_count'],\n",
       "      dtype='object')"
      ]
     },
     "execution_count": 47,
     "metadata": {},
     "output_type": "execute_result"
    }
   ],
   "source": [
    "olida_pairs.columns"
   ]
  },
  {
   "cell_type": "code",
   "execution_count": 48,
   "metadata": {},
   "outputs": [
    {
     "data": {
      "text/html": [
       "<pre style=\"white-space:pre;overflow-x:auto;line-height:normal;font-family:Menlo,'DejaVu Sans Mono',consolas,'Courier New',monospace\"><span style=\"color: #00ff00; text-decoration-color: #00ff00; font-style: italic\">True</span> Digenic                <span style=\"color: #008080; text-decoration-color: #008080; font-weight: bold\">47</span>\n",
       "Dual Molecular Diagnosis    <span style=\"color: #008080; text-decoration-color: #008080; font-weight: bold\">28</span>\n",
       "Name: Oligogenic Effect, dtype: int64\n",
       "</pre>\n"
      ],
      "text/plain": [
       "\u001b[3;92mTrue\u001b[0m Digenic                \u001b[1;36m47\u001b[0m\n",
       "Dual Molecular Diagnosis    \u001b[1;36m28\u001b[0m\n",
       "Name: Oligogenic Effect, dtype: int64\n"
      ]
     },
     "metadata": {},
     "output_type": "display_data"
    },
    {
     "data": {
      "text/html": [
       "<pre style=\"white-space:pre;overflow-x:auto;line-height:normal;font-family:Menlo,'DejaVu Sans Mono',consolas,'Courier New',monospace\"><span style=\"font-weight: bold\">(</span><span style=\"color: #008080; text-decoration-color: #008080; font-weight: bold\">75</span>, <span style=\"color: #008080; text-decoration-color: #008080; font-weight: bold\">47</span><span style=\"font-weight: bold\">)</span>\n",
       "</pre>\n"
      ],
      "text/plain": [
       "\u001b[1m(\u001b[0m\u001b[1;36m75\u001b[0m, \u001b[1;36m47\u001b[0m\u001b[1m)\u001b[0m\n"
      ]
     },
     "metadata": {},
     "output_type": "display_data"
    }
   ],
   "source": [
    "# Taking ONLY Digenic or Dual Molecular effects. Because we don't know the direction of \n",
    "# effect for Monogenic+Modifier pairs\n",
    "olida_pairs = olida_pairs[olida_pairs['Oligogenic Effect']!='Monogenic+Modifier']\n",
    "print(olida_pairs['Oligogenic Effect'].value_counts())\n",
    "print(olida_pairs.shape)"
   ]
  },
  {
   "cell_type": "code",
   "execution_count": 49,
   "metadata": {},
   "outputs": [
    {
     "data": {
      "text/html": [
       "<pre style=\"white-space:pre;overflow-x:auto;line-height:normal;font-family:Menlo,'DejaVu Sans Mono',consolas,'Courier New',monospace\"><span style=\"color: #7fbfbf; text-decoration-color: #7fbfbf\">[12/11/23 13:46:09] </span><span style=\"color: #800000; text-decoration-color: #800000\">WARNING </span> <span style=\"color: #800080; text-decoration-color: #800080\">/tmp/ipykernel_25153/</span><span style=\"color: #ff00ff; text-decoration-color: #ff00ff\">2853934392.py</span>:<span style=\"color: #008080; text-decoration-color: #008080; font-weight: bold\">3</span>: SettingWithCopyWarning:          <a href=\"file:///cvmfs/soft.computecanada.ca/easybuild/software/2020/avx2/Core/python/3.8.10/lib/python3.8/warnings.py\" target=\"_blank\"><span style=\"color: #7f7f7f; text-decoration-color: #7f7f7f\">warnings.py</span></a><span style=\"color: #7f7f7f; text-decoration-color: #7f7f7f\">:</span><a href=\"file:///cvmfs/soft.computecanada.ca/easybuild/software/2020/avx2/Core/python/3.8.10/lib/python3.8/warnings.py#109\" target=\"_blank\"><span style=\"color: #7f7f7f; text-decoration-color: #7f7f7f\">109</span></a>\n",
       "<span style=\"color: #7fbfbf; text-decoration-color: #7fbfbf\">                    </span>         A value is trying to be set on a copy of a slice from a DataFrame.     <span style=\"color: #7f7f7f; text-decoration-color: #7f7f7f\">               </span>\n",
       "<span style=\"color: #7fbfbf; text-decoration-color: #7fbfbf\">                    </span>         Try using .loc<span style=\"font-weight: bold\">[</span>row_indexer,col_indexer<span style=\"font-weight: bold\">]</span> = value instead                <span style=\"color: #7f7f7f; text-decoration-color: #7f7f7f\">               </span>\n",
       "<span style=\"color: #7fbfbf; text-decoration-color: #7fbfbf\">                    </span>                                                                                <span style=\"color: #7f7f7f; text-decoration-color: #7f7f7f\">               </span>\n",
       "<span style=\"color: #7fbfbf; text-decoration-color: #7fbfbf\">                    </span>         See the caveats in the documentation:                                  <span style=\"color: #7f7f7f; text-decoration-color: #7f7f7f\">               </span>\n",
       "<span style=\"color: #7fbfbf; text-decoration-color: #7fbfbf\">                    </span>         <span style=\"color: #0000ff; text-decoration-color: #0000ff; text-decoration: underline\">https://pandas.pydata.org/pandas-docs/stable/user_guide/indexing.html#</span> <span style=\"color: #7f7f7f; text-decoration-color: #7f7f7f\">               </span>\n",
       "<span style=\"color: #7fbfbf; text-decoration-color: #7fbfbf\">                    </span>         <span style=\"color: #0000ff; text-decoration-color: #0000ff; text-decoration: underline\">returning-a-view-versus-a-copy</span>                                         <span style=\"color: #7f7f7f; text-decoration-color: #7f7f7f\">               </span>\n",
       "<span style=\"color: #7fbfbf; text-decoration-color: #7fbfbf\">                    </span>           olida_pairs<span style=\"font-weight: bold\">[</span><span style=\"color: #008000; text-decoration-color: #008000\">'source'</span><span style=\"font-weight: bold\">]</span> = <span style=\"color: #008000; text-decoration-color: #008000\">'OLIDA'</span>                                      <span style=\"color: #7f7f7f; text-decoration-color: #7f7f7f\">               </span>\n",
       "<span style=\"color: #7fbfbf; text-decoration-color: #7fbfbf\">                    </span>                                                                                <span style=\"color: #7f7f7f; text-decoration-color: #7f7f7f\">               </span>\n",
       "</pre>\n"
      ],
      "text/plain": [
       "\u001b[2;36m[12/11/23 13:46:09]\u001b[0m\u001b[2;36m \u001b[0m\u001b[31mWARNING \u001b[0m \u001b[35m/tmp/ipykernel_25153/\u001b[0m\u001b[95m2853934392.py\u001b[0m:\u001b[1;36m3\u001b[0m: SettingWithCopyWarning:          \u001b]8;id=155581;file:///cvmfs/soft.computecanada.ca/easybuild/software/2020/avx2/Core/python/3.8.10/lib/python3.8/warnings.py\u001b\\\u001b[2mwarnings.py\u001b[0m\u001b]8;;\u001b\\\u001b[2m:\u001b[0m\u001b]8;id=595693;file:///cvmfs/soft.computecanada.ca/easybuild/software/2020/avx2/Core/python/3.8.10/lib/python3.8/warnings.py#109\u001b\\\u001b[2m109\u001b[0m\u001b]8;;\u001b\\\n",
       "\u001b[2;36m                    \u001b[0m         A value is trying to be set on a copy of a slice from a DataFrame.     \u001b[2m               \u001b[0m\n",
       "\u001b[2;36m                    \u001b[0m         Try using .loc\u001b[1m[\u001b[0mrow_indexer,col_indexer\u001b[1m]\u001b[0m = value instead                \u001b[2m               \u001b[0m\n",
       "\u001b[2;36m                    \u001b[0m                                                                                \u001b[2m               \u001b[0m\n",
       "\u001b[2;36m                    \u001b[0m         See the caveats in the documentation:                                  \u001b[2m               \u001b[0m\n",
       "\u001b[2;36m                    \u001b[0m         \u001b[4;94mhttps://pandas.pydata.org/pandas-docs/stable/user_guide/indexing.html#\u001b[0m \u001b[2m               \u001b[0m\n",
       "\u001b[2;36m                    \u001b[0m         \u001b[4;94mreturning-a-view-versus-a-copy\u001b[0m                                         \u001b[2m               \u001b[0m\n",
       "\u001b[2;36m                    \u001b[0m           olida_pairs\u001b[1m[\u001b[0m\u001b[32m'source'\u001b[0m\u001b[1m]\u001b[0m = \u001b[32m'OLIDA'\u001b[0m                                      \u001b[2m               \u001b[0m\n",
       "\u001b[2;36m                    \u001b[0m                                                                                \u001b[2m               \u001b[0m\n"
      ]
     },
     "metadata": {},
     "output_type": "display_data"
    },
    {
     "data": {
      "text/html": [
       "<pre style=\"white-space:pre;overflow-x:auto;line-height:normal;font-family:Menlo,'DejaVu Sans Mono',consolas,'Courier New',monospace\"><span style=\"color: #7fbfbf; text-decoration-color: #7fbfbf\">                    </span><span style=\"color: #800000; text-decoration-color: #800000\">WARNING </span> <span style=\"color: #800080; text-decoration-color: #800080\">/tmp/ipykernel_25153/</span><span style=\"color: #ff00ff; text-decoration-color: #ff00ff\">2853934392.py</span>:<span style=\"color: #008080; text-decoration-color: #008080; font-weight: bold\">8</span>: SettingWithCopyWarning:          <a href=\"file:///cvmfs/soft.computecanada.ca/easybuild/software/2020/avx2/Core/python/3.8.10/lib/python3.8/warnings.py\" target=\"_blank\"><span style=\"color: #7f7f7f; text-decoration-color: #7f7f7f\">warnings.py</span></a><span style=\"color: #7f7f7f; text-decoration-color: #7f7f7f\">:</span><a href=\"file:///cvmfs/soft.computecanada.ca/easybuild/software/2020/avx2/Core/python/3.8.10/lib/python3.8/warnings.py#109\" target=\"_blank\"><span style=\"color: #7f7f7f; text-decoration-color: #7f7f7f\">109</span></a>\n",
       "<span style=\"color: #7fbfbf; text-decoration-color: #7fbfbf\">                    </span>         A value is trying to be set on a copy of a slice from a DataFrame.     <span style=\"color: #7f7f7f; text-decoration-color: #7f7f7f\">               </span>\n",
       "<span style=\"color: #7fbfbf; text-decoration-color: #7fbfbf\">                    </span>         Try using .loc<span style=\"font-weight: bold\">[</span>row_indexer,col_indexer<span style=\"font-weight: bold\">]</span> = value instead                <span style=\"color: #7f7f7f; text-decoration-color: #7f7f7f\">               </span>\n",
       "<span style=\"color: #7fbfbf; text-decoration-color: #7fbfbf\">                    </span>                                                                                <span style=\"color: #7f7f7f; text-decoration-color: #7f7f7f\">               </span>\n",
       "<span style=\"color: #7fbfbf; text-decoration-color: #7fbfbf\">                    </span>         See the caveats in the documentation:                                  <span style=\"color: #7f7f7f; text-decoration-color: #7f7f7f\">               </span>\n",
       "<span style=\"color: #7fbfbf; text-decoration-color: #7fbfbf\">                    </span>         <span style=\"color: #0000ff; text-decoration-color: #0000ff; text-decoration: underline\">https://pandas.pydata.org/pandas-docs/stable/user_guide/indexing.html#</span> <span style=\"color: #7f7f7f; text-decoration-color: #7f7f7f\">               </span>\n",
       "<span style=\"color: #7fbfbf; text-decoration-color: #7fbfbf\">                    </span>         <span style=\"color: #0000ff; text-decoration-color: #0000ff; text-decoration: underline\">returning-a-view-versus-a-copy</span>                                         <span style=\"color: #7f7f7f; text-decoration-color: #7f7f7f\">               </span>\n",
       "<span style=\"color: #7fbfbf; text-decoration-color: #7fbfbf\">                    </span>           olida_pairs<span style=\"font-weight: bold\">[</span><span style=\"color: #008000; text-decoration-color: #008000\">'is_modifier'</span><span style=\"font-weight: bold\">]</span> = <span style=\"color: #008080; text-decoration-color: #008080; font-weight: bold\">0</span>                                       <span style=\"color: #7f7f7f; text-decoration-color: #7f7f7f\">               </span>\n",
       "<span style=\"color: #7fbfbf; text-decoration-color: #7fbfbf\">                    </span>                                                                                <span style=\"color: #7f7f7f; text-decoration-color: #7f7f7f\">               </span>\n",
       "</pre>\n"
      ],
      "text/plain": [
       "\u001b[2;36m                   \u001b[0m\u001b[2;36m \u001b[0m\u001b[31mWARNING \u001b[0m \u001b[35m/tmp/ipykernel_25153/\u001b[0m\u001b[95m2853934392.py\u001b[0m:\u001b[1;36m8\u001b[0m: SettingWithCopyWarning:          \u001b]8;id=157113;file:///cvmfs/soft.computecanada.ca/easybuild/software/2020/avx2/Core/python/3.8.10/lib/python3.8/warnings.py\u001b\\\u001b[2mwarnings.py\u001b[0m\u001b]8;;\u001b\\\u001b[2m:\u001b[0m\u001b]8;id=269117;file:///cvmfs/soft.computecanada.ca/easybuild/software/2020/avx2/Core/python/3.8.10/lib/python3.8/warnings.py#109\u001b\\\u001b[2m109\u001b[0m\u001b]8;;\u001b\\\n",
       "\u001b[2;36m                    \u001b[0m         A value is trying to be set on a copy of a slice from a DataFrame.     \u001b[2m               \u001b[0m\n",
       "\u001b[2;36m                    \u001b[0m         Try using .loc\u001b[1m[\u001b[0mrow_indexer,col_indexer\u001b[1m]\u001b[0m = value instead                \u001b[2m               \u001b[0m\n",
       "\u001b[2;36m                    \u001b[0m                                                                                \u001b[2m               \u001b[0m\n",
       "\u001b[2;36m                    \u001b[0m         See the caveats in the documentation:                                  \u001b[2m               \u001b[0m\n",
       "\u001b[2;36m                    \u001b[0m         \u001b[4;94mhttps://pandas.pydata.org/pandas-docs/stable/user_guide/indexing.html#\u001b[0m \u001b[2m               \u001b[0m\n",
       "\u001b[2;36m                    \u001b[0m         \u001b[4;94mreturning-a-view-versus-a-copy\u001b[0m                                         \u001b[2m               \u001b[0m\n",
       "\u001b[2;36m                    \u001b[0m           olida_pairs\u001b[1m[\u001b[0m\u001b[32m'is_modifier'\u001b[0m\u001b[1m]\u001b[0m = \u001b[1;36m0\u001b[0m                                       \u001b[2m               \u001b[0m\n",
       "\u001b[2;36m                    \u001b[0m                                                                                \u001b[2m               \u001b[0m\n"
      ]
     },
     "metadata": {},
     "output_type": "display_data"
    },
    {
     "data": {
      "text/html": [
       "<pre style=\"white-space:pre;overflow-x:auto;line-height:normal;font-family:Menlo,'DejaVu Sans Mono',consolas,'Courier New',monospace\"><span style=\"color: #7fbfbf; text-decoration-color: #7fbfbf\">                    </span><span style=\"color: #800000; text-decoration-color: #800000\">WARNING </span> <span style=\"color: #800080; text-decoration-color: #800080\">/tmp/ipykernel_25153/</span><span style=\"color: #ff00ff; text-decoration-color: #ff00ff\">2853934392.py</span>:<span style=\"color: #008080; text-decoration-color: #008080; font-weight: bold\">12</span>: SettingWithCopyWarning:         <a href=\"file:///cvmfs/soft.computecanada.ca/easybuild/software/2020/avx2/Core/python/3.8.10/lib/python3.8/warnings.py\" target=\"_blank\"><span style=\"color: #7f7f7f; text-decoration-color: #7f7f7f\">warnings.py</span></a><span style=\"color: #7f7f7f; text-decoration-color: #7f7f7f\">:</span><a href=\"file:///cvmfs/soft.computecanada.ca/easybuild/software/2020/avx2/Core/python/3.8.10/lib/python3.8/warnings.py#109\" target=\"_blank\"><span style=\"color: #7f7f7f; text-decoration-color: #7f7f7f\">109</span></a>\n",
       "<span style=\"color: #7fbfbf; text-decoration-color: #7fbfbf\">                    </span>         A value is trying to be set on a copy of a slice from a DataFrame      <span style=\"color: #7f7f7f; text-decoration-color: #7f7f7f\">               </span>\n",
       "<span style=\"color: #7fbfbf; text-decoration-color: #7fbfbf\">                    </span>                                                                                <span style=\"color: #7f7f7f; text-decoration-color: #7f7f7f\">               </span>\n",
       "<span style=\"color: #7fbfbf; text-decoration-color: #7fbfbf\">                    </span>         See the caveats in the documentation:                                  <span style=\"color: #7f7f7f; text-decoration-color: #7f7f7f\">               </span>\n",
       "<span style=\"color: #7fbfbf; text-decoration-color: #7fbfbf\">                    </span>         <span style=\"color: #0000ff; text-decoration-color: #0000ff; text-decoration: underline\">https://pandas.pydata.org/pandas-docs/stable/user_guide/indexing.html#</span> <span style=\"color: #7f7f7f; text-decoration-color: #7f7f7f\">               </span>\n",
       "<span style=\"color: #7fbfbf; text-decoration-color: #7fbfbf\">                    </span>         <span style=\"color: #0000ff; text-decoration-color: #0000ff; text-decoration: underline\">returning-a-view-versus-a-copy</span>                                         <span style=\"color: #7f7f7f; text-decoration-color: #7f7f7f\">               </span>\n",
       "<span style=\"color: #7fbfbf; text-decoration-color: #7fbfbf\">                    </span>           <span style=\"color: #800080; text-decoration-color: #800080; font-weight: bold\">olida_pairs.rename</span><span style=\"font-weight: bold\">(</span><span style=\"color: #808000; text-decoration-color: #808000\">columns</span>=<span style=\"font-weight: bold\">{</span><span style=\"color: #008000; text-decoration-color: #008000\">'gene_a'</span>: <span style=\"color: #008000; text-decoration-color: #008000\">'target_gene'</span>, <span style=\"color: #008000; text-decoration-color: #008000\">'gene_b'</span>:       <span style=\"color: #7f7f7f; text-decoration-color: #7f7f7f\">               </span>\n",
       "<span style=\"color: #7fbfbf; text-decoration-color: #7fbfbf\">                    </span>         <span style=\"color: #008000; text-decoration-color: #008000\">'modifier_gene'</span><span style=\"font-weight: bold\">}</span>, <span style=\"color: #808000; text-decoration-color: #808000\">inplace</span>=<span style=\"color: #00ff00; text-decoration-color: #00ff00; font-style: italic\">True</span><span style=\"font-weight: bold\">)</span>                                        <span style=\"color: #7f7f7f; text-decoration-color: #7f7f7f\">               </span>\n",
       "<span style=\"color: #7fbfbf; text-decoration-color: #7fbfbf\">                    </span>                                                                                <span style=\"color: #7f7f7f; text-decoration-color: #7f7f7f\">               </span>\n",
       "</pre>\n"
      ],
      "text/plain": [
       "\u001b[2;36m                   \u001b[0m\u001b[2;36m \u001b[0m\u001b[31mWARNING \u001b[0m \u001b[35m/tmp/ipykernel_25153/\u001b[0m\u001b[95m2853934392.py\u001b[0m:\u001b[1;36m12\u001b[0m: SettingWithCopyWarning:         \u001b]8;id=612444;file:///cvmfs/soft.computecanada.ca/easybuild/software/2020/avx2/Core/python/3.8.10/lib/python3.8/warnings.py\u001b\\\u001b[2mwarnings.py\u001b[0m\u001b]8;;\u001b\\\u001b[2m:\u001b[0m\u001b]8;id=5824;file:///cvmfs/soft.computecanada.ca/easybuild/software/2020/avx2/Core/python/3.8.10/lib/python3.8/warnings.py#109\u001b\\\u001b[2m109\u001b[0m\u001b]8;;\u001b\\\n",
       "\u001b[2;36m                    \u001b[0m         A value is trying to be set on a copy of a slice from a DataFrame      \u001b[2m               \u001b[0m\n",
       "\u001b[2;36m                    \u001b[0m                                                                                \u001b[2m               \u001b[0m\n",
       "\u001b[2;36m                    \u001b[0m         See the caveats in the documentation:                                  \u001b[2m               \u001b[0m\n",
       "\u001b[2;36m                    \u001b[0m         \u001b[4;94mhttps://pandas.pydata.org/pandas-docs/stable/user_guide/indexing.html#\u001b[0m \u001b[2m               \u001b[0m\n",
       "\u001b[2;36m                    \u001b[0m         \u001b[4;94mreturning-a-view-versus-a-copy\u001b[0m                                         \u001b[2m               \u001b[0m\n",
       "\u001b[2;36m                    \u001b[0m           \u001b[1;35molida_pairs.rename\u001b[0m\u001b[1m(\u001b[0m\u001b[33mcolumns\u001b[0m=\u001b[1m{\u001b[0m\u001b[32m'gene_a'\u001b[0m: \u001b[32m'target_gene'\u001b[0m, \u001b[32m'gene_b'\u001b[0m:       \u001b[2m               \u001b[0m\n",
       "\u001b[2;36m                    \u001b[0m         \u001b[32m'modifier_gene'\u001b[0m\u001b[1m}\u001b[0m, \u001b[33minplace\u001b[0m=\u001b[3;92mTrue\u001b[0m\u001b[1m)\u001b[0m                                        \u001b[2m               \u001b[0m\n",
       "\u001b[2;36m                    \u001b[0m                                                                                \u001b[2m               \u001b[0m\n"
      ]
     },
     "metadata": {},
     "output_type": "display_data"
    }
   ],
   "source": [
    "# Adding source column\n",
    "jvl['source'] = 'JVL'\n",
    "olida_pairs['source'] = 'OLIDA'\n",
    "m_df['source'] = 'MTG'\n",
    "\n",
    "# Classification labels\n",
    "jvl['is_modifier'] = 1\n",
    "olida_pairs['is_modifier'] = 0\n",
    "\n",
    "# Rename columns to indicate same information\n",
    "jvl.rename(columns={'QueryGene': 'target_gene', 'SuppressorGene': 'modifier_gene'}, inplace=True)\n",
    "olida_pairs.rename(columns={'gene_a': 'target_gene', 'gene_b': 'modifier_gene'}, inplace=True)\n",
    "m_df.rename(columns={'gene_symbol': 'modifier_gene', 'target_gene_symbol': 'target_gene'}, inplace=True)\n"
   ]
  },
  {
   "cell_type": "markdown",
   "id": "e41214ea",
   "metadata": {},
   "source": [
    "## Consolidating 3 datasets"
   ]
  },
  {
   "cell_type": "code",
   "execution_count": 50,
   "metadata": {},
   "outputs": [
    {
     "data": {
      "text/html": [
       "<pre style=\"white-space:pre;overflow-x:auto;line-height:normal;font-family:Menlo,'DejaVu Sans Mono',consolas,'Courier New',monospace\"><span style=\"font-weight: bold\">(</span><span style=\"color: #008080; text-decoration-color: #008080; font-weight: bold\">8337</span>, <span style=\"color: #008080; text-decoration-color: #008080; font-weight: bold\">218</span><span style=\"font-weight: bold\">)</span>\n",
       "</pre>\n"
      ],
      "text/plain": [
       "\u001b[1m(\u001b[0m\u001b[1;36m8337\u001b[0m, \u001b[1;36m218\u001b[0m\u001b[1m)\u001b[0m\n"
      ]
     },
     "metadata": {},
     "output_type": "display_data"
    },
    {
     "data": {
      "text/html": [
       "<pre style=\"white-space:pre;overflow-x:auto;line-height:normal;font-family:Menlo,'DejaVu Sans Mono',consolas,'Courier New',monospace\">MTG      <span style=\"color: #008080; text-decoration-color: #008080; font-weight: bold\">7330</span>\n",
       "JVL       <span style=\"color: #008080; text-decoration-color: #008080; font-weight: bold\">932</span>\n",
       "OLIDA      <span style=\"color: #008080; text-decoration-color: #008080; font-weight: bold\">75</span>\n",
       "Name: source, dtype: int64\n",
       "</pre>\n"
      ],
      "text/plain": [
       "MTG      \u001b[1;36m7330\u001b[0m\n",
       "JVL       \u001b[1;36m932\u001b[0m\n",
       "OLIDA      \u001b[1;36m75\u001b[0m\n",
       "Name: source, dtype: int64\n"
      ]
     },
     "metadata": {},
     "output_type": "display_data"
    }
   ],
   "source": [
    "dataset_df = pd.concat([jvl, olida_pairs, m_df])\n",
    "print(dataset_df.shape)\n",
    "print(dataset_df['source'].value_counts())"
   ]
  },
  {
   "cell_type": "code",
   "execution_count": 51,
   "metadata": {},
   "outputs": [
    {
     "data": {
      "text/html": [
       "<div>\n",
       "<style scoped>\n",
       "    .dataframe tbody tr th:only-of-type {\n",
       "        vertical-align: middle;\n",
       "    }\n",
       "\n",
       "    .dataframe tbody tr th {\n",
       "        vertical-align: top;\n",
       "    }\n",
       "\n",
       "    .dataframe thead th {\n",
       "        text-align: right;\n",
       "    }\n",
       "</style>\n",
       "<table border=\"1\" class=\"dataframe\">\n",
       "  <thead>\n",
       "    <tr style=\"text-align: right;\">\n",
       "      <th></th>\n",
       "      <th>source</th>\n",
       "      <th>target_gene</th>\n",
       "      <th>modifier_gene</th>\n",
       "      <th>is_modifier</th>\n",
       "      <th>PubmedID</th>\n",
       "      <th>Category</th>\n",
       "      <th>Tissue</th>\n",
       "      <th>QueryFunction</th>\n",
       "      <th>QueryMutation</th>\n",
       "      <th>QueryType</th>\n",
       "      <th>...</th>\n",
       "      <th>wpo_resnik_scaled_bma</th>\n",
       "      <th>wpo_lin_max</th>\n",
       "      <th>wpo_lin_avg</th>\n",
       "      <th>wpo_lin_bma</th>\n",
       "      <th>wpo_jiang_max</th>\n",
       "      <th>wpo_jiang_avg</th>\n",
       "      <th>wpo_jiang_bma</th>\n",
       "      <th>wpo_jiang_seco_max</th>\n",
       "      <th>wpo_jiang_seco_avg</th>\n",
       "      <th>wpo_jiang_seco_bma</th>\n",
       "    </tr>\n",
       "  </thead>\n",
       "  <tbody>\n",
       "    <tr>\n",
       "      <th>0</th>\n",
       "      <td>JVL</td>\n",
       "      <td>APOE</td>\n",
       "      <td>CASP7</td>\n",
       "      <td>1.0</td>\n",
       "      <td>27358062.0</td>\n",
       "      <td>Patients</td>\n",
       "      <td>Neuron</td>\n",
       "      <td>Lipid and sterol biosynthesis &amp; transport</td>\n",
       "      <td>C112R/C112R</td>\n",
       "      <td>-</td>\n",
       "      <td>...</td>\n",
       "      <td>NaN</td>\n",
       "      <td>NaN</td>\n",
       "      <td>NaN</td>\n",
       "      <td>NaN</td>\n",
       "      <td>NaN</td>\n",
       "      <td>NaN</td>\n",
       "      <td>NaN</td>\n",
       "      <td>NaN</td>\n",
       "      <td>NaN</td>\n",
       "      <td>NaN</td>\n",
       "    </tr>\n",
       "    <tr>\n",
       "      <th>1</th>\n",
       "      <td>JVL</td>\n",
       "      <td>APOE</td>\n",
       "      <td>HBB</td>\n",
       "      <td>1.0</td>\n",
       "      <td>24116184.0</td>\n",
       "      <td>Patients</td>\n",
       "      <td>-</td>\n",
       "      <td>Lipid and sterol biosynthesis &amp; transport</td>\n",
       "      <td>C112R/?</td>\n",
       "      <td>-</td>\n",
       "      <td>...</td>\n",
       "      <td>NaN</td>\n",
       "      <td>NaN</td>\n",
       "      <td>NaN</td>\n",
       "      <td>NaN</td>\n",
       "      <td>NaN</td>\n",
       "      <td>NaN</td>\n",
       "      <td>NaN</td>\n",
       "      <td>NaN</td>\n",
       "      <td>NaN</td>\n",
       "      <td>NaN</td>\n",
       "    </tr>\n",
       "    <tr>\n",
       "      <th>2</th>\n",
       "      <td>JVL</td>\n",
       "      <td>APOE</td>\n",
       "      <td>KL</td>\n",
       "      <td>1.0</td>\n",
       "      <td>30867273.0</td>\n",
       "      <td>Patients</td>\n",
       "      <td>Neuron</td>\n",
       "      <td>Lipid and sterol biosynthesis &amp; transport</td>\n",
       "      <td>C112R/?</td>\n",
       "      <td>-</td>\n",
       "      <td>...</td>\n",
       "      <td>NaN</td>\n",
       "      <td>NaN</td>\n",
       "      <td>NaN</td>\n",
       "      <td>NaN</td>\n",
       "      <td>NaN</td>\n",
       "      <td>NaN</td>\n",
       "      <td>NaN</td>\n",
       "      <td>NaN</td>\n",
       "      <td>NaN</td>\n",
       "      <td>NaN</td>\n",
       "    </tr>\n",
       "    <tr>\n",
       "      <th>3</th>\n",
       "      <td>JVL</td>\n",
       "      <td>APOE</td>\n",
       "      <td>KL</td>\n",
       "      <td>1.0</td>\n",
       "      <td>32282020.0</td>\n",
       "      <td>Patients</td>\n",
       "      <td>Neuron</td>\n",
       "      <td>Lipid and sterol biosynthesis &amp; transport</td>\n",
       "      <td>C112R/?</td>\n",
       "      <td>-</td>\n",
       "      <td>...</td>\n",
       "      <td>NaN</td>\n",
       "      <td>NaN</td>\n",
       "      <td>NaN</td>\n",
       "      <td>NaN</td>\n",
       "      <td>NaN</td>\n",
       "      <td>NaN</td>\n",
       "      <td>NaN</td>\n",
       "      <td>NaN</td>\n",
       "      <td>NaN</td>\n",
       "      <td>NaN</td>\n",
       "    </tr>\n",
       "    <tr>\n",
       "      <th>4</th>\n",
       "      <td>JVL</td>\n",
       "      <td>ATR</td>\n",
       "      <td>ETV1</td>\n",
       "      <td>1.0</td>\n",
       "      <td>23284306.0</td>\n",
       "      <td>Cells</td>\n",
       "      <td>-</td>\n",
       "      <td>DNA replication and repair;Signaling &amp; stress ...</td>\n",
       "      <td>silencing/silencing</td>\n",
       "      <td>LOF</td>\n",
       "      <td>...</td>\n",
       "      <td>NaN</td>\n",
       "      <td>NaN</td>\n",
       "      <td>NaN</td>\n",
       "      <td>NaN</td>\n",
       "      <td>NaN</td>\n",
       "      <td>NaN</td>\n",
       "      <td>NaN</td>\n",
       "      <td>NaN</td>\n",
       "      <td>NaN</td>\n",
       "      <td>NaN</td>\n",
       "    </tr>\n",
       "  </tbody>\n",
       "</table>\n",
       "<p>5 rows × 218 columns</p>\n",
       "</div>"
      ],
      "text/plain": [
       "  source target_gene modifier_gene  is_modifier    PubmedID  Category  Tissue  \\\n",
       "0    JVL        APOE         CASP7          1.0  27358062.0  Patients  Neuron   \n",
       "1    JVL        APOE           HBB          1.0  24116184.0  Patients       -   \n",
       "2    JVL        APOE            KL          1.0  30867273.0  Patients  Neuron   \n",
       "3    JVL        APOE            KL          1.0  32282020.0  Patients  Neuron   \n",
       "4    JVL         ATR          ETV1          1.0  23284306.0     Cells       -   \n",
       "\n",
       "                                       QueryFunction        QueryMutation  \\\n",
       "0          Lipid and sterol biosynthesis & transport          C112R/C112R   \n",
       "1          Lipid and sterol biosynthesis & transport              C112R/?   \n",
       "2          Lipid and sterol biosynthesis & transport              C112R/?   \n",
       "3          Lipid and sterol biosynthesis & transport              C112R/?   \n",
       "4  DNA replication and repair;Signaling & stress ...  silencing/silencing   \n",
       "\n",
       "  QueryType  ... wpo_resnik_scaled_bma wpo_lin_max wpo_lin_avg wpo_lin_bma  \\\n",
       "0         -  ...                   NaN         NaN         NaN         NaN   \n",
       "1         -  ...                   NaN         NaN         NaN         NaN   \n",
       "2         -  ...                   NaN         NaN         NaN         NaN   \n",
       "3         -  ...                   NaN         NaN         NaN         NaN   \n",
       "4       LOF  ...                   NaN         NaN         NaN         NaN   \n",
       "\n",
       "  wpo_jiang_max wpo_jiang_avg wpo_jiang_bma wpo_jiang_seco_max  \\\n",
       "0           NaN           NaN           NaN                NaN   \n",
       "1           NaN           NaN           NaN                NaN   \n",
       "2           NaN           NaN           NaN                NaN   \n",
       "3           NaN           NaN           NaN                NaN   \n",
       "4           NaN           NaN           NaN                NaN   \n",
       "\n",
       "  wpo_jiang_seco_avg wpo_jiang_seco_bma  \n",
       "0                NaN                NaN  \n",
       "1                NaN                NaN  \n",
       "2                NaN                NaN  \n",
       "3                NaN                NaN  \n",
       "4                NaN                NaN  \n",
       "\n",
       "[5 rows x 218 columns]"
      ]
     },
     "execution_count": 51,
     "metadata": {},
     "output_type": "execute_result"
    }
   ],
   "source": [
    "# Reordering important columns\n",
    "desired_first_columns = ['source', 'target_gene', 'modifier_gene', 'is_modifier'] \n",
    "remaining_columns = [col for col in dataset_df.columns if col not in desired_first_columns]\n",
    "new_column_order = desired_first_columns + remaining_columns\n",
    "dataset_df = dataset_df[new_column_order]\n",
    "dataset_df.head()\n"
   ]
  },
  {
   "cell_type": "code",
   "execution_count": 52,
   "metadata": {},
   "outputs": [],
   "source": [
    "# # TODO check gene info to retrieve gene ID for better comparison of uniqueness\n",
    "dataset_df.to_csv('./data/02_intermediate/v4/20231210-combined-uncleaned-uncalc.tsv', index=False, sep='\\t')"
   ]
  },
  {
   "cell_type": "code",
   "execution_count": 53,
   "id": "adaa5460",
   "metadata": {},
   "outputs": [],
   "source": [
    "dataset_df.drop_duplicates(subset=['target_gene', 'modifier_gene'], inplace=True)"
   ]
  },
  {
   "cell_type": "code",
   "execution_count": 54,
   "id": "aacbea21",
   "metadata": {},
   "outputs": [],
   "source": [
    "# dataset_df.sample(100)[['target_gene', 'modifier_gene', 'target_POs', 'modifier_POs']].to_csv('./data/02_intermediate/v4/combined-sampled-sm.tsv', index=False, sep='\\t')"
   ]
  },
  {
   "cell_type": "code",
   "execution_count": 55,
   "id": "008b94e2",
   "metadata": {},
   "outputs": [
    {
     "data": {
      "text/html": [
       "<pre style=\"white-space:pre;overflow-x:auto;line-height:normal;font-family:Menlo,'DejaVu Sans Mono',consolas,'Courier New',monospace\">MTG      <span style=\"color: #008080; text-decoration-color: #008080; font-weight: bold\">5182</span>\n",
       "JVL       <span style=\"color: #008080; text-decoration-color: #008080; font-weight: bold\">476</span>\n",
       "OLIDA      <span style=\"color: #008080; text-decoration-color: #008080; font-weight: bold\">74</span>\n",
       "Name: source, dtype: int64\n",
       "</pre>\n"
      ],
      "text/plain": [
       "MTG      \u001b[1;36m5182\u001b[0m\n",
       "JVL       \u001b[1;36m476\u001b[0m\n",
       "OLIDA      \u001b[1;36m74\u001b[0m\n",
       "Name: source, dtype: int64\n"
      ]
     },
     "metadata": {},
     "output_type": "display_data"
    },
    {
     "data": {
      "text/html": [
       "<pre style=\"white-space:pre;overflow-x:auto;line-height:normal;font-family:Menlo,'DejaVu Sans Mono',consolas,'Courier New',monospace\"><span style=\"font-weight: bold\">(</span><span style=\"color: #008080; text-decoration-color: #008080; font-weight: bold\">5732</span>, <span style=\"color: #008080; text-decoration-color: #008080; font-weight: bold\">218</span><span style=\"font-weight: bold\">)</span>\n",
       "</pre>\n"
      ],
      "text/plain": [
       "\u001b[1m(\u001b[0m\u001b[1;36m5732\u001b[0m, \u001b[1;36m218\u001b[0m\u001b[1m)\u001b[0m\n"
      ]
     },
     "metadata": {},
     "output_type": "display_data"
    }
   ],
   "source": [
    "print(dataset_df['source'].value_counts())\n",
    "print(dataset_df.shape)"
   ]
  },
  {
   "cell_type": "code",
   "execution_count": 107,
   "id": "fefe4b7b",
   "metadata": {},
   "outputs": [
    {
     "data": {
      "text/html": [
       "<pre style=\"white-space:pre;overflow-x:auto;line-height:normal;font-family:Menlo,'DejaVu Sans Mono',consolas,'Courier New',monospace\"><span style=\"color: #800080; text-decoration-color: #800080; font-style: italic\">None</span>\n",
       "</pre>\n"
      ],
      "text/plain": [
       "\u001b[3;35mNone\u001b[0m\n"
      ]
     },
     "metadata": {},
     "output_type": "display_data"
    },
    {
     "data": {
      "text/html": [
       "<pre style=\"white-space:pre;overflow-x:auto;line-height:normal;font-family:Menlo,'DejaVu Sans Mono',consolas,'Courier New',monospace\"><span style=\"color: #800080; text-decoration-color: #800080; font-style: italic\">None</span>\n",
       "</pre>\n"
      ],
      "text/plain": [
       "\u001b[3;35mNone\u001b[0m\n"
      ]
     },
     "metadata": {},
     "output_type": "display_data"
    }
   ],
   "source": [
    "# vars(up_go.node_info('GO:0000082').nxo)\n",
    "# for node in list(up_go.graph.nodes.data())[None:2:None]:\n",
    "#     print(node)\n",
    "print(up_go.freeze())\n",
    "f_hum_go = up_go.freeze()\n",
    "print(f_hum_go)\n",
    "# nxo_info = ['n_common_ancestors', 'n_union_ancestors', 'batet', 'batet_log', 'resnik', 'resnik_scaled', 'lin', 'jiang', 'jiang_seco']\n",
    "    "
   ]
  },
  {
   "cell_type": "code",
   "execution_count": 63,
   "id": "f4b0063b",
   "metadata": {},
   "outputs": [
    {
     "data": {
      "text/html": [
       "<pre style=\"white-space:pre;overflow-x:auto;line-height:normal;font-family:Menlo,'DejaVu Sans Mono',consolas,'Courier New',monospace\">Empty DataFrame\n",
       "Columns: <span style=\"font-weight: bold\">[</span>DB, DB_Object_ID, DB_Object_Symbol, Qualifier, GO_ID, DB_Reference, Evidence_Code, With_Or_From, Aspect, \n",
       "DB_Object_Name, DB_Object_Synonym, DB_Object_Type, Taxon, Date, Assigned_By, Annotation_Extension<span style=\"font-weight: bold\">]</span>\n",
       "Index: <span style=\"font-weight: bold\">[]</span>\n",
       "</pre>\n"
      ],
      "text/plain": [
       "Empty DataFrame\n",
       "Columns: \u001b[1m[\u001b[0mDB, DB_Object_ID, DB_Object_Symbol, Qualifier, GO_ID, DB_Reference, Evidence_Code, With_Or_From, Aspect, \n",
       "DB_Object_Name, DB_Object_Synonym, DB_Object_Type, Taxon, Date, Assigned_By, Annotation_Extension\u001b[1m]\u001b[0m\n",
       "Index: \u001b[1m[\u001b[0m\u001b[1m]\u001b[0m\n"
      ]
     },
     "metadata": {},
     "output_type": "display_data"
    },
    {
     "data": {
      "text/html": [
       "<pre style=\"white-space:pre;overflow-x:auto;line-height:normal;font-family:Menlo,'DejaVu Sans Mono',consolas,'Courier New',monospace\">               DB DB_Object_ID DB_Object_Symbol    Qualifier       GO_ID  \\\n",
       "<span style=\"color: #008080; text-decoration-color: #008080; font-weight: bold\">38753</span>   UniProtKB       O60313             OPA1  involved_in  GO:<span style=\"color: #008080; text-decoration-color: #008080; font-weight: bold\">0000002</span>   \n",
       "<span style=\"color: #008080; text-decoration-color: #008080; font-weight: bold\">122794</span>  UniProtKB       P12235          SLC25A4  involved_in  GO:<span style=\"color: #008080; text-decoration-color: #008080; font-weight: bold\">0000002</span>   \n",
       "<span style=\"color: #008080; text-decoration-color: #008080; font-weight: bold\">145340</span>  UniProtKB       P19971             TYMP  involved_in  GO:<span style=\"color: #008080; text-decoration-color: #008080; font-weight: bold\">0000002</span>   \n",
       "<span style=\"color: #008080; text-decoration-color: #008080; font-weight: bold\">185939</span>  UniProtKB       P36776            LONP1  involved_in  GO:<span style=\"color: #008080; text-decoration-color: #008080; font-weight: bold\">0000002</span>   \n",
       "<span style=\"color: #008080; text-decoration-color: #008080; font-weight: bold\">189852</span>  UniProtKB       P39210            MPV17  involved_in  GO:<span style=\"color: #008080; text-decoration-color: #008080; font-weight: bold\">0000002</span>   \n",
       "<span style=\"color: #008080; text-decoration-color: #008080; font-weight: bold\">267197</span>  UniProtKB       Q02078            MEF2A  involved_in  GO:<span style=\"color: #008080; text-decoration-color: #008080; font-weight: bold\">0000002</span>   \n",
       "<span style=\"color: #008080; text-decoration-color: #008080; font-weight: bold\">436956</span>  UniProtKB       Q96CQ1         SLC25A36  involved_in  GO:<span style=\"color: #008080; text-decoration-color: #008080; font-weight: bold\">0000002</span>   \n",
       "<span style=\"color: #008080; text-decoration-color: #008080; font-weight: bold\">468496</span>  UniProtKB       Q9BQP7            MGME1  involved_in  GO:<span style=\"color: #008080; text-decoration-color: #008080; font-weight: bold\">0000002</span>   \n",
       "<span style=\"color: #008080; text-decoration-color: #008080; font-weight: bold\">470860</span>  UniProtKB       Q9BSK2         SLC25A33  involved_in  GO:<span style=\"color: #008080; text-decoration-color: #008080; font-weight: bold\">0000002</span>   \n",
       "<span style=\"color: #008080; text-decoration-color: #008080; font-weight: bold\">496905</span>  UniProtKB       Q9H611             PIF1  involved_in  GO:<span style=\"color: #008080; text-decoration-color: #008080; font-weight: bold\">0000002</span>   \n",
       "<span style=\"color: #008080; text-decoration-color: #008080; font-weight: bold\">553619</span>  UniProtKB       Q9Y243             AKT3  involved_in  GO:<span style=\"color: #008080; text-decoration-color: #008080; font-weight: bold\">0000002</span>   \n",
       "<span style=\"color: #008080; text-decoration-color: #008080; font-weight: bold\">570683</span>  UniProtKB       Q9BSK2         SLC25A33  involved_in  GO:<span style=\"color: #008080; text-decoration-color: #008080; font-weight: bold\">0000002</span>   \n",
       "<span style=\"color: #008080; text-decoration-color: #008080; font-weight: bold\">576639</span>  UniProtKB       Q96CQ1         SLC25A36  involved_in  GO:<span style=\"color: #008080; text-decoration-color: #008080; font-weight: bold\">0000002</span>   \n",
       "\n",
       "          DB_Reference Evidence_Code  \\\n",
       "<span style=\"color: #008080; text-decoration-color: #008080; font-weight: bold\">38753</span>    PMI<span style=\"color: #00ff00; text-decoration-color: #00ff00; font-weight: bold\">D:1815</span>8317           IMP   \n",
       "<span style=\"color: #008080; text-decoration-color: #008080; font-weight: bold\">122794</span>   PMI<span style=\"color: #00ff00; text-decoration-color: #00ff00; font-weight: bold\">D:1092</span>6541           TAS   \n",
       "<span style=\"color: #008080; text-decoration-color: #008080; font-weight: bold\">145340</span>    PMI<span style=\"color: #00ff00; text-decoration-color: #00ff00; font-weight: bold\">D:9924</span>029           IMP   \n",
       "<span style=\"color: #008080; text-decoration-color: #008080; font-weight: bold\">185939</span>   PMI<span style=\"color: #00ff00; text-decoration-color: #00ff00; font-weight: bold\">D:1742</span>0247           NAS   \n",
       "<span style=\"color: #008080; text-decoration-color: #008080; font-weight: bold\">189852</span>   PMI<span style=\"color: #00ff00; text-decoration-color: #00ff00; font-weight: bold\">D:1658</span>2910           IMP   \n",
       "<span style=\"color: #008080; text-decoration-color: #008080; font-weight: bold\">267197</span>  GO_R<span style=\"color: #00ff00; text-decoration-color: #00ff00; font-weight: bold\">EF:0000</span>024           ISS   \n",
       "<span style=\"color: #008080; text-decoration-color: #008080; font-weight: bold\">436956</span>   PMI<span style=\"color: #00ff00; text-decoration-color: #00ff00; font-weight: bold\">D:2532</span>0081           IDA   \n",
       "<span style=\"color: #008080; text-decoration-color: #008080; font-weight: bold\">468496</span>   PMI<span style=\"color: #00ff00; text-decoration-color: #00ff00; font-weight: bold\">D:2331</span>3956           IMP   \n",
       "<span style=\"color: #008080; text-decoration-color: #008080; font-weight: bold\">470860</span>   PMI<span style=\"color: #00ff00; text-decoration-color: #00ff00; font-weight: bold\">D:2532</span>0081           IDA   \n",
       "<span style=\"color: #008080; text-decoration-color: #008080; font-weight: bold\">496905</span>  GO_R<span style=\"color: #00ff00; text-decoration-color: #00ff00; font-weight: bold\">EF:0000</span>104           IEA   \n",
       "<span style=\"color: #008080; text-decoration-color: #008080; font-weight: bold\">553619</span>   PMI<span style=\"color: #00ff00; text-decoration-color: #00ff00; font-weight: bold\">D:1852</span>4868           IMP   \n",
       "<span style=\"color: #008080; text-decoration-color: #008080; font-weight: bold\">570683</span>   PMI<span style=\"color: #00ff00; text-decoration-color: #00ff00; font-weight: bold\">D:2187</span>3635           IBA   \n",
       "<span style=\"color: #008080; text-decoration-color: #008080; font-weight: bold\">576639</span>   PMI<span style=\"color: #00ff00; text-decoration-color: #00ff00; font-weight: bold\">D:2187</span>3635           IBA   \n",
       "\n",
       "                                             With_Or_From Aspect  \\\n",
       "<span style=\"color: #008080; text-decoration-color: #008080; font-weight: bold\">38753</span>                                                          P   \n",
       "<span style=\"color: #008080; text-decoration-color: #008080; font-weight: bold\">122794</span>                                                         P   \n",
       "<span style=\"color: #008080; text-decoration-color: #008080; font-weight: bold\">145340</span>                                                         P   \n",
       "<span style=\"color: #008080; text-decoration-color: #008080; font-weight: bold\">185939</span>                                                         P   \n",
       "<span style=\"color: #008080; text-decoration-color: #008080; font-weight: bold\">189852</span>                                                         P   \n",
       "<span style=\"color: #008080; text-decoration-color: #008080; font-weight: bold\">267197</span>                                   UniProtKB:Q60929      P   \n",
       "<span style=\"color: #008080; text-decoration-color: #008080; font-weight: bold\">436956</span>                                                         P   \n",
       "<span style=\"color: #008080; text-decoration-color: #008080; font-weight: bold\">468496</span>                                                         P   \n",
       "<span style=\"color: #008080; text-decoration-color: #008080; font-weight: bold\">470860</span>                                                         P   \n",
       "<span style=\"color: #008080; text-decoration-color: #008080; font-weight: bold\">496905</span>                                UniRule:UR000112749      P   \n",
       "<span style=\"color: #008080; text-decoration-color: #008080; font-weight: bold\">553619</span>                                                         P   \n",
       "<span style=\"color: #008080; text-decoration-color: #008080; font-weight: bold\">570683</span>  PANTHER:PTN000642030|SGD:S000000396|UniProtKB:<span style=\"color: #808000; text-decoration-color: #808000\">...</span>      P   \n",
       "<span style=\"color: #008080; text-decoration-color: #008080; font-weight: bold\">576639</span>  PANTHER:PTN000642030|SGD:S000000396|UniProtKB:<span style=\"color: #808000; text-decoration-color: #808000\">...</span>      P   \n",
       "\n",
       "                                        DB_Object_Name    DB_Object_Synonym  \\\n",
       "<span style=\"color: #008080; text-decoration-color: #008080; font-weight: bold\">38753</span>      Dynamin-like <span style=\"color: #008080; text-decoration-color: #008080; font-weight: bold\">120</span> kDa protein, mitochondrial        OPA1|KIAA0567   \n",
       "<span style=\"color: #008080; text-decoration-color: #008080; font-weight: bold\">122794</span>                           ADP/ATP translocase <span style=\"color: #008080; text-decoration-color: #008080; font-weight: bold\">1</span>    SLC25A4|AAC1|ANT1   \n",
       "<span style=\"color: #008080; text-decoration-color: #008080; font-weight: bold\">145340</span>                         Thymidine phosphorylase           TYMP|ECGF1   \n",
       "<span style=\"color: #008080; text-decoration-color: #008080; font-weight: bold\">185939</span>             Lon protease homolog, mitochondrial         LONP1|PRSS15   \n",
       "<span style=\"color: #008080; text-decoration-color: #008080; font-weight: bold\">189852</span>                                   Protein Mpv17                MPV17   \n",
       "<span style=\"color: #008080; text-decoration-color: #008080; font-weight: bold\">267197</span>             Myocyte-specific enhancer factor 2A           MEF2A|MEF2   \n",
       "<span style=\"color: #008080; text-decoration-color: #008080; font-weight: bold\">436956</span>              Solute carrier family <span style=\"color: #008080; text-decoration-color: #008080; font-weight: bold\">25</span> member <span style=\"color: #008080; text-decoration-color: #008080; font-weight: bold\">36</span>             SLC25A36   \n",
       "<span style=\"color: #008080; text-decoration-color: #008080; font-weight: bold\">468496</span>  Mitochondrial genome maintenance exonuclease <span style=\"color: #008080; text-decoration-color: #008080; font-weight: bold\">1</span>  MGME1|C20orf72|DDK1   \n",
       "<span style=\"color: #008080; text-decoration-color: #008080; font-weight: bold\">470860</span>              Solute carrier family <span style=\"color: #008080; text-decoration-color: #008080; font-weight: bold\">25</span> member <span style=\"color: #008080; text-decoration-color: #008080; font-weight: bold\">33</span>             SLC25A33   \n",
       "<span style=\"color: #008080; text-decoration-color: #008080; font-weight: bold\">496905</span>                 ATP-dependent DNA helicase PIF1        PIF1|C15orf20   \n",
       "<span style=\"color: #008080; text-decoration-color: #008080; font-weight: bold\">553619</span>       RAC-gamma serine/threonine-protein kinase            AKT3|PKBG   \n",
       "<span style=\"color: #008080; text-decoration-color: #008080; font-weight: bold\">570683</span>              Solute carrier family <span style=\"color: #008080; text-decoration-color: #008080; font-weight: bold\">25</span> member <span style=\"color: #008080; text-decoration-color: #008080; font-weight: bold\">33</span>             SLC25A33   \n",
       "<span style=\"color: #008080; text-decoration-color: #008080; font-weight: bold\">576639</span>              Solute carrier family <span style=\"color: #008080; text-decoration-color: #008080; font-weight: bold\">25</span> member <span style=\"color: #008080; text-decoration-color: #008080; font-weight: bold\">36</span>             SLC25A36   \n",
       "\n",
       "       DB_Object_Type       Taxon      Date Assigned_By Annotation_Extension  \n",
       "<span style=\"color: #008080; text-decoration-color: #008080; font-weight: bold\">38753</span>         protein  taxon:<span style=\"color: #008080; text-decoration-color: #008080; font-weight: bold\">9606</span>  <span style=\"color: #008080; text-decoration-color: #008080; font-weight: bold\">20141125</span>     UniProt                 <span style=\"color: #800080; text-decoration-color: #800080; font-style: italic\">None</span>  \n",
       "<span style=\"color: #008080; text-decoration-color: #008080; font-weight: bold\">122794</span>        protein  taxon:<span style=\"color: #008080; text-decoration-color: #008080; font-weight: bold\">9606</span>  <span style=\"color: #008080; text-decoration-color: #008080; font-weight: bold\">20030904</span>        PINC                 <span style=\"color: #800080; text-decoration-color: #800080; font-style: italic\">None</span>  \n",
       "<span style=\"color: #008080; text-decoration-color: #008080; font-weight: bold\">145340</span>        protein  taxon:<span style=\"color: #008080; text-decoration-color: #008080; font-weight: bold\">9606</span>  <span style=\"color: #008080; text-decoration-color: #008080; font-weight: bold\">20160722</span>        CAFA                 <span style=\"color: #800080; text-decoration-color: #800080; font-style: italic\">None</span>  \n",
       "<span style=\"color: #008080; text-decoration-color: #008080; font-weight: bold\">185939</span>        protein  taxon:<span style=\"color: #008080; text-decoration-color: #008080; font-weight: bold\">9606</span>  <span style=\"color: #008080; text-decoration-color: #008080; font-weight: bold\">20090212</span>     UniProt                 <span style=\"color: #800080; text-decoration-color: #800080; font-style: italic\">None</span>  \n",
       "<span style=\"color: #008080; text-decoration-color: #008080; font-weight: bold\">189852</span>        protein  taxon:<span style=\"color: #008080; text-decoration-color: #008080; font-weight: bold\">9606</span>  <span style=\"color: #008080; text-decoration-color: #008080; font-weight: bold\">20060508</span>     UniProt                 <span style=\"color: #800080; text-decoration-color: #800080; font-style: italic\">None</span>  \n",
       "<span style=\"color: #008080; text-decoration-color: #008080; font-weight: bold\">267197</span>        protein  taxon:<span style=\"color: #008080; text-decoration-color: #008080; font-weight: bold\">9606</span>  <span style=\"color: #008080; text-decoration-color: #008080; font-weight: bold\">20110518</span>     UniProt                 <span style=\"color: #800080; text-decoration-color: #800080; font-style: italic\">None</span>  \n",
       "<span style=\"color: #008080; text-decoration-color: #008080; font-weight: bold\">436956</span>        protein  taxon:<span style=\"color: #008080; text-decoration-color: #008080; font-weight: bold\">9606</span>  <span style=\"color: #008080; text-decoration-color: #008080; font-weight: bold\">20141205</span>     UniProt                 <span style=\"color: #800080; text-decoration-color: #800080; font-style: italic\">None</span>  \n",
       "<span style=\"color: #008080; text-decoration-color: #008080; font-weight: bold\">468496</span>        protein  taxon:<span style=\"color: #008080; text-decoration-color: #008080; font-weight: bold\">9606</span>  <span style=\"color: #008080; text-decoration-color: #008080; font-weight: bold\">20130118</span>     UniProt                 <span style=\"color: #800080; text-decoration-color: #800080; font-style: italic\">None</span>  \n",
       "<span style=\"color: #008080; text-decoration-color: #008080; font-weight: bold\">470860</span>        protein  taxon:<span style=\"color: #008080; text-decoration-color: #008080; font-weight: bold\">9606</span>  <span style=\"color: #008080; text-decoration-color: #008080; font-weight: bold\">20141205</span>     UniProt                 <span style=\"color: #800080; text-decoration-color: #800080; font-style: italic\">None</span>  \n",
       "<span style=\"color: #008080; text-decoration-color: #008080; font-weight: bold\">496905</span>        protein  taxon:<span style=\"color: #008080; text-decoration-color: #008080; font-weight: bold\">9606</span>  <span style=\"color: #008080; text-decoration-color: #008080; font-weight: bold\">20230911</span>     UniProt                 <span style=\"color: #800080; text-decoration-color: #800080; font-style: italic\">None</span>  \n",
       "<span style=\"color: #008080; text-decoration-color: #008080; font-weight: bold\">553619</span>        protein  taxon:<span style=\"color: #008080; text-decoration-color: #008080; font-weight: bold\">9606</span>  <span style=\"color: #008080; text-decoration-color: #008080; font-weight: bold\">20110913</span>     UniProt                 <span style=\"color: #800080; text-decoration-color: #800080; font-style: italic\">None</span>  \n",
       "<span style=\"color: #008080; text-decoration-color: #008080; font-weight: bold\">570683</span>        protein  taxon:<span style=\"color: #008080; text-decoration-color: #008080; font-weight: bold\">9606</span>  <span style=\"color: #008080; text-decoration-color: #008080; font-weight: bold\">20220106</span>  GO_Central                 <span style=\"color: #800080; text-decoration-color: #800080; font-style: italic\">None</span>  \n",
       "<span style=\"color: #008080; text-decoration-color: #008080; font-weight: bold\">576639</span>        protein  taxon:<span style=\"color: #008080; text-decoration-color: #008080; font-weight: bold\">9606</span>  <span style=\"color: #008080; text-decoration-color: #008080; font-weight: bold\">20220106</span>  GO_Central                 <span style=\"color: #800080; text-decoration-color: #800080; font-style: italic\">None</span>  \n",
       "</pre>\n"
      ],
      "text/plain": [
       "               DB DB_Object_ID DB_Object_Symbol    Qualifier       GO_ID  \\\n",
       "\u001b[1;36m38753\u001b[0m   UniProtKB       O60313             OPA1  involved_in  GO:\u001b[1;36m0000002\u001b[0m   \n",
       "\u001b[1;36m122794\u001b[0m  UniProtKB       P12235          SLC25A4  involved_in  GO:\u001b[1;36m0000002\u001b[0m   \n",
       "\u001b[1;36m145340\u001b[0m  UniProtKB       P19971             TYMP  involved_in  GO:\u001b[1;36m0000002\u001b[0m   \n",
       "\u001b[1;36m185939\u001b[0m  UniProtKB       P36776            LONP1  involved_in  GO:\u001b[1;36m0000002\u001b[0m   \n",
       "\u001b[1;36m189852\u001b[0m  UniProtKB       P39210            MPV17  involved_in  GO:\u001b[1;36m0000002\u001b[0m   \n",
       "\u001b[1;36m267197\u001b[0m  UniProtKB       Q02078            MEF2A  involved_in  GO:\u001b[1;36m0000002\u001b[0m   \n",
       "\u001b[1;36m436956\u001b[0m  UniProtKB       Q96CQ1         SLC25A36  involved_in  GO:\u001b[1;36m0000002\u001b[0m   \n",
       "\u001b[1;36m468496\u001b[0m  UniProtKB       Q9BQP7            MGME1  involved_in  GO:\u001b[1;36m0000002\u001b[0m   \n",
       "\u001b[1;36m470860\u001b[0m  UniProtKB       Q9BSK2         SLC25A33  involved_in  GO:\u001b[1;36m0000002\u001b[0m   \n",
       "\u001b[1;36m496905\u001b[0m  UniProtKB       Q9H611             PIF1  involved_in  GO:\u001b[1;36m0000002\u001b[0m   \n",
       "\u001b[1;36m553619\u001b[0m  UniProtKB       Q9Y243             AKT3  involved_in  GO:\u001b[1;36m0000002\u001b[0m   \n",
       "\u001b[1;36m570683\u001b[0m  UniProtKB       Q9BSK2         SLC25A33  involved_in  GO:\u001b[1;36m0000002\u001b[0m   \n",
       "\u001b[1;36m576639\u001b[0m  UniProtKB       Q96CQ1         SLC25A36  involved_in  GO:\u001b[1;36m0000002\u001b[0m   \n",
       "\n",
       "          DB_Reference Evidence_Code  \\\n",
       "\u001b[1;36m38753\u001b[0m    PMI\u001b[1;92mD:1815\u001b[0m8317           IMP   \n",
       "\u001b[1;36m122794\u001b[0m   PMI\u001b[1;92mD:1092\u001b[0m6541           TAS   \n",
       "\u001b[1;36m145340\u001b[0m    PMI\u001b[1;92mD:9924\u001b[0m029           IMP   \n",
       "\u001b[1;36m185939\u001b[0m   PMI\u001b[1;92mD:1742\u001b[0m0247           NAS   \n",
       "\u001b[1;36m189852\u001b[0m   PMI\u001b[1;92mD:1658\u001b[0m2910           IMP   \n",
       "\u001b[1;36m267197\u001b[0m  GO_R\u001b[1;92mEF:0000\u001b[0m024           ISS   \n",
       "\u001b[1;36m436956\u001b[0m   PMI\u001b[1;92mD:2532\u001b[0m0081           IDA   \n",
       "\u001b[1;36m468496\u001b[0m   PMI\u001b[1;92mD:2331\u001b[0m3956           IMP   \n",
       "\u001b[1;36m470860\u001b[0m   PMI\u001b[1;92mD:2532\u001b[0m0081           IDA   \n",
       "\u001b[1;36m496905\u001b[0m  GO_R\u001b[1;92mEF:0000\u001b[0m104           IEA   \n",
       "\u001b[1;36m553619\u001b[0m   PMI\u001b[1;92mD:1852\u001b[0m4868           IMP   \n",
       "\u001b[1;36m570683\u001b[0m   PMI\u001b[1;92mD:2187\u001b[0m3635           IBA   \n",
       "\u001b[1;36m576639\u001b[0m   PMI\u001b[1;92mD:2187\u001b[0m3635           IBA   \n",
       "\n",
       "                                             With_Or_From Aspect  \\\n",
       "\u001b[1;36m38753\u001b[0m                                                          P   \n",
       "\u001b[1;36m122794\u001b[0m                                                         P   \n",
       "\u001b[1;36m145340\u001b[0m                                                         P   \n",
       "\u001b[1;36m185939\u001b[0m                                                         P   \n",
       "\u001b[1;36m189852\u001b[0m                                                         P   \n",
       "\u001b[1;36m267197\u001b[0m                                   UniProtKB:Q60929      P   \n",
       "\u001b[1;36m436956\u001b[0m                                                         P   \n",
       "\u001b[1;36m468496\u001b[0m                                                         P   \n",
       "\u001b[1;36m470860\u001b[0m                                                         P   \n",
       "\u001b[1;36m496905\u001b[0m                                UniRule:UR000112749      P   \n",
       "\u001b[1;36m553619\u001b[0m                                                         P   \n",
       "\u001b[1;36m570683\u001b[0m  PANTHER:PTN000642030|SGD:S000000396|UniProtKB:\u001b[33m...\u001b[0m      P   \n",
       "\u001b[1;36m576639\u001b[0m  PANTHER:PTN000642030|SGD:S000000396|UniProtKB:\u001b[33m...\u001b[0m      P   \n",
       "\n",
       "                                        DB_Object_Name    DB_Object_Synonym  \\\n",
       "\u001b[1;36m38753\u001b[0m      Dynamin-like \u001b[1;36m120\u001b[0m kDa protein, mitochondrial        OPA1|KIAA0567   \n",
       "\u001b[1;36m122794\u001b[0m                           ADP/ATP translocase \u001b[1;36m1\u001b[0m    SLC25A4|AAC1|ANT1   \n",
       "\u001b[1;36m145340\u001b[0m                         Thymidine phosphorylase           TYMP|ECGF1   \n",
       "\u001b[1;36m185939\u001b[0m             Lon protease homolog, mitochondrial         LONP1|PRSS15   \n",
       "\u001b[1;36m189852\u001b[0m                                   Protein Mpv17                MPV17   \n",
       "\u001b[1;36m267197\u001b[0m             Myocyte-specific enhancer factor 2A           MEF2A|MEF2   \n",
       "\u001b[1;36m436956\u001b[0m              Solute carrier family \u001b[1;36m25\u001b[0m member \u001b[1;36m36\u001b[0m             SLC25A36   \n",
       "\u001b[1;36m468496\u001b[0m  Mitochondrial genome maintenance exonuclease \u001b[1;36m1\u001b[0m  MGME1|C20orf72|DDK1   \n",
       "\u001b[1;36m470860\u001b[0m              Solute carrier family \u001b[1;36m25\u001b[0m member \u001b[1;36m33\u001b[0m             SLC25A33   \n",
       "\u001b[1;36m496905\u001b[0m                 ATP-dependent DNA helicase PIF1        PIF1|C15orf20   \n",
       "\u001b[1;36m553619\u001b[0m       RAC-gamma serine/threonine-protein kinase            AKT3|PKBG   \n",
       "\u001b[1;36m570683\u001b[0m              Solute carrier family \u001b[1;36m25\u001b[0m member \u001b[1;36m33\u001b[0m             SLC25A33   \n",
       "\u001b[1;36m576639\u001b[0m              Solute carrier family \u001b[1;36m25\u001b[0m member \u001b[1;36m36\u001b[0m             SLC25A36   \n",
       "\n",
       "       DB_Object_Type       Taxon      Date Assigned_By Annotation_Extension  \n",
       "\u001b[1;36m38753\u001b[0m         protein  taxon:\u001b[1;36m9606\u001b[0m  \u001b[1;36m20141125\u001b[0m     UniProt                 \u001b[3;35mNone\u001b[0m  \n",
       "\u001b[1;36m122794\u001b[0m        protein  taxon:\u001b[1;36m9606\u001b[0m  \u001b[1;36m20030904\u001b[0m        PINC                 \u001b[3;35mNone\u001b[0m  \n",
       "\u001b[1;36m145340\u001b[0m        protein  taxon:\u001b[1;36m9606\u001b[0m  \u001b[1;36m20160722\u001b[0m        CAFA                 \u001b[3;35mNone\u001b[0m  \n",
       "\u001b[1;36m185939\u001b[0m        protein  taxon:\u001b[1;36m9606\u001b[0m  \u001b[1;36m20090212\u001b[0m     UniProt                 \u001b[3;35mNone\u001b[0m  \n",
       "\u001b[1;36m189852\u001b[0m        protein  taxon:\u001b[1;36m9606\u001b[0m  \u001b[1;36m20060508\u001b[0m     UniProt                 \u001b[3;35mNone\u001b[0m  \n",
       "\u001b[1;36m267197\u001b[0m        protein  taxon:\u001b[1;36m9606\u001b[0m  \u001b[1;36m20110518\u001b[0m     UniProt                 \u001b[3;35mNone\u001b[0m  \n",
       "\u001b[1;36m436956\u001b[0m        protein  taxon:\u001b[1;36m9606\u001b[0m  \u001b[1;36m20141205\u001b[0m     UniProt                 \u001b[3;35mNone\u001b[0m  \n",
       "\u001b[1;36m468496\u001b[0m        protein  taxon:\u001b[1;36m9606\u001b[0m  \u001b[1;36m20130118\u001b[0m     UniProt                 \u001b[3;35mNone\u001b[0m  \n",
       "\u001b[1;36m470860\u001b[0m        protein  taxon:\u001b[1;36m9606\u001b[0m  \u001b[1;36m20141205\u001b[0m     UniProt                 \u001b[3;35mNone\u001b[0m  \n",
       "\u001b[1;36m496905\u001b[0m        protein  taxon:\u001b[1;36m9606\u001b[0m  \u001b[1;36m20230911\u001b[0m     UniProt                 \u001b[3;35mNone\u001b[0m  \n",
       "\u001b[1;36m553619\u001b[0m        protein  taxon:\u001b[1;36m9606\u001b[0m  \u001b[1;36m20110913\u001b[0m     UniProt                 \u001b[3;35mNone\u001b[0m  \n",
       "\u001b[1;36m570683\u001b[0m        protein  taxon:\u001b[1;36m9606\u001b[0m  \u001b[1;36m20220106\u001b[0m  GO_Central                 \u001b[3;35mNone\u001b[0m  \n",
       "\u001b[1;36m576639\u001b[0m        protein  taxon:\u001b[1;36m9606\u001b[0m  \u001b[1;36m20220106\u001b[0m  GO_Central                 \u001b[3;35mNone\u001b[0m  \n"
      ]
     },
     "metadata": {},
     "output_type": "display_data"
    },
    {
     "data": {
      "text/html": [
       "<pre style=\"white-space:pre;overflow-x:auto;line-height:normal;font-family:Menlo,'DejaVu Sans Mono',consolas,'Courier New',monospace\">               DB DB_Object_ID DB_Object_Symbol    Qualifier       GO_ID  \\\n",
       "<span style=\"color: #008080; text-decoration-color: #008080; font-weight: bold\">52828</span>   UniProtKB       O75900           MMP23B  involved_in  GO:<span style=\"color: #008080; text-decoration-color: #008080; font-weight: bold\">0000003</span>   \n",
       "<span style=\"color: #008080; text-decoration-color: #008080; font-weight: bold\">570863</span>  UniProtKB       Q5TKA1             LIN9  involved_in  GO:<span style=\"color: #008080; text-decoration-color: #008080; font-weight: bold\">0000003</span>   \n",
       "<span style=\"color: #008080; text-decoration-color: #008080; font-weight: bold\">623757</span>  UniProtKB       O43555            GNRH2  involved_in  GO:<span style=\"color: #008080; text-decoration-color: #008080; font-weight: bold\">0000003</span>   \n",
       "<span style=\"color: #008080; text-decoration-color: #008080; font-weight: bold\">625982</span>  UniProtKB       P01148            GNRH1  involved_in  GO:<span style=\"color: #008080; text-decoration-color: #008080; font-weight: bold\">0000003</span>   \n",
       "\n",
       "         DB_Reference Evidence_Code  \\\n",
       "<span style=\"color: #008080; text-decoration-color: #008080; font-weight: bold\">52828</span>    PMI<span style=\"color: #00ff00; text-decoration-color: #00ff00; font-weight: bold\">D:9988</span>691           IEP   \n",
       "<span style=\"color: #008080; text-decoration-color: #008080; font-weight: bold\">570863</span>  PMI<span style=\"color: #00ff00; text-decoration-color: #00ff00; font-weight: bold\">D:2187</span>3635           IBA   \n",
       "<span style=\"color: #008080; text-decoration-color: #008080; font-weight: bold\">623757</span>  PMI<span style=\"color: #00ff00; text-decoration-color: #00ff00; font-weight: bold\">D:2187</span>3635           IBA   \n",
       "<span style=\"color: #008080; text-decoration-color: #008080; font-weight: bold\">625982</span>  PMI<span style=\"color: #00ff00; text-decoration-color: #00ff00; font-weight: bold\">D:2187</span>3635           IBA   \n",
       "\n",
       "                                             With_Or_From Aspect  \\\n",
       "<span style=\"color: #008080; text-decoration-color: #008080; font-weight: bold\">52828</span>                                                          P   \n",
       "<span style=\"color: #008080; text-decoration-color: #008080; font-weight: bold\">570863</span>  PANTHER:PTN000495591|<span style=\"color: #00ff00; text-decoration-color: #00ff00; font-weight: bold\">FB:FB</span>gn0004372|WB:WBGene0<span style=\"color: #808000; text-decoration-color: #808000\">...</span>      P   \n",
       "<span style=\"color: #008080; text-decoration-color: #008080; font-weight: bold\">623757</span>  PANTHER:PTN000829165|UniProtKB:P37042|ZFIN:ZDB<span style=\"color: #808000; text-decoration-color: #808000\">...</span>      P   \n",
       "<span style=\"color: #008080; text-decoration-color: #008080; font-weight: bold\">625982</span>  PANTHER:PTN000829165|UniProtKB:P37042|ZFIN:ZDB<span style=\"color: #808000; text-decoration-color: #808000\">...</span>      P   \n",
       "\n",
       "                     DB_Object_Name    DB_Object_Synonym DB_Object_Type  \\\n",
       "<span style=\"color: #008080; text-decoration-color: #008080; font-weight: bold\">52828</span>   Matrix metalloproteinase-<span style=\"color: #008080; text-decoration-color: #008080; font-weight: bold\">23</span>   MMP23B|MMP21|MMP22        protein   \n",
       "<span style=\"color: #008080; text-decoration-color: #008080; font-weight: bold\">570863</span>        Protein lin-<span style=\"color: #008080; text-decoration-color: #008080; font-weight: bold\">9</span> homolog        LIN9|BARA|TGS        protein   \n",
       "<span style=\"color: #008080; text-decoration-color: #008080; font-weight: bold\">623757</span>           Progonadoliberin-<span style=\"color: #008080; text-decoration-color: #008080; font-weight: bold\">2</span>                GNRH2        protein   \n",
       "<span style=\"color: #008080; text-decoration-color: #008080; font-weight: bold\">625982</span>           Progonadoliberin-<span style=\"color: #008080; text-decoration-color: #008080; font-weight: bold\">1</span>  GNRH1|GNRH|GRH|LHRH        protein   \n",
       "\n",
       "             Taxon      Date Assigned_By Annotation_Extension  \n",
       "<span style=\"color: #008080; text-decoration-color: #008080; font-weight: bold\">52828</span>   taxon:<span style=\"color: #008080; text-decoration-color: #008080; font-weight: bold\">9606</span>  <span style=\"color: #008080; text-decoration-color: #008080; font-weight: bold\">20061107</span>     UniProt                 <span style=\"color: #800080; text-decoration-color: #800080; font-style: italic\">None</span>  \n",
       "<span style=\"color: #008080; text-decoration-color: #008080; font-weight: bold\">570863</span>  taxon:<span style=\"color: #008080; text-decoration-color: #008080; font-weight: bold\">9606</span>  <span style=\"color: #008080; text-decoration-color: #008080; font-weight: bold\">20200808</span>  GO_Central                 <span style=\"color: #800080; text-decoration-color: #800080; font-style: italic\">None</span>  \n",
       "<span style=\"color: #008080; text-decoration-color: #008080; font-weight: bold\">623757</span>  taxon:<span style=\"color: #008080; text-decoration-color: #008080; font-weight: bold\">9606</span>  <span style=\"color: #008080; text-decoration-color: #008080; font-weight: bold\">20220922</span>  GO_Central                 <span style=\"color: #800080; text-decoration-color: #800080; font-style: italic\">None</span>  \n",
       "<span style=\"color: #008080; text-decoration-color: #008080; font-weight: bold\">625982</span>  taxon:<span style=\"color: #008080; text-decoration-color: #008080; font-weight: bold\">9606</span>  <span style=\"color: #008080; text-decoration-color: #008080; font-weight: bold\">20220922</span>  GO_Central                 <span style=\"color: #800080; text-decoration-color: #800080; font-style: italic\">None</span>  \n",
       "</pre>\n"
      ],
      "text/plain": [
       "               DB DB_Object_ID DB_Object_Symbol    Qualifier       GO_ID  \\\n",
       "\u001b[1;36m52828\u001b[0m   UniProtKB       O75900           MMP23B  involved_in  GO:\u001b[1;36m0000003\u001b[0m   \n",
       "\u001b[1;36m570863\u001b[0m  UniProtKB       Q5TKA1             LIN9  involved_in  GO:\u001b[1;36m0000003\u001b[0m   \n",
       "\u001b[1;36m623757\u001b[0m  UniProtKB       O43555            GNRH2  involved_in  GO:\u001b[1;36m0000003\u001b[0m   \n",
       "\u001b[1;36m625982\u001b[0m  UniProtKB       P01148            GNRH1  involved_in  GO:\u001b[1;36m0000003\u001b[0m   \n",
       "\n",
       "         DB_Reference Evidence_Code  \\\n",
       "\u001b[1;36m52828\u001b[0m    PMI\u001b[1;92mD:9988\u001b[0m691           IEP   \n",
       "\u001b[1;36m570863\u001b[0m  PMI\u001b[1;92mD:2187\u001b[0m3635           IBA   \n",
       "\u001b[1;36m623757\u001b[0m  PMI\u001b[1;92mD:2187\u001b[0m3635           IBA   \n",
       "\u001b[1;36m625982\u001b[0m  PMI\u001b[1;92mD:2187\u001b[0m3635           IBA   \n",
       "\n",
       "                                             With_Or_From Aspect  \\\n",
       "\u001b[1;36m52828\u001b[0m                                                          P   \n",
       "\u001b[1;36m570863\u001b[0m  PANTHER:PTN000495591|\u001b[1;92mFB:FB\u001b[0mgn0004372|WB:WBGene0\u001b[33m...\u001b[0m      P   \n",
       "\u001b[1;36m623757\u001b[0m  PANTHER:PTN000829165|UniProtKB:P37042|ZFIN:ZDB\u001b[33m...\u001b[0m      P   \n",
       "\u001b[1;36m625982\u001b[0m  PANTHER:PTN000829165|UniProtKB:P37042|ZFIN:ZDB\u001b[33m...\u001b[0m      P   \n",
       "\n",
       "                     DB_Object_Name    DB_Object_Synonym DB_Object_Type  \\\n",
       "\u001b[1;36m52828\u001b[0m   Matrix metalloproteinase-\u001b[1;36m23\u001b[0m   MMP23B|MMP21|MMP22        protein   \n",
       "\u001b[1;36m570863\u001b[0m        Protein lin-\u001b[1;36m9\u001b[0m homolog        LIN9|BARA|TGS        protein   \n",
       "\u001b[1;36m623757\u001b[0m           Progonadoliberin-\u001b[1;36m2\u001b[0m                GNRH2        protein   \n",
       "\u001b[1;36m625982\u001b[0m           Progonadoliberin-\u001b[1;36m1\u001b[0m  GNRH1|GNRH|GRH|LHRH        protein   \n",
       "\n",
       "             Taxon      Date Assigned_By Annotation_Extension  \n",
       "\u001b[1;36m52828\u001b[0m   taxon:\u001b[1;36m9606\u001b[0m  \u001b[1;36m20061107\u001b[0m     UniProt                 \u001b[3;35mNone\u001b[0m  \n",
       "\u001b[1;36m570863\u001b[0m  taxon:\u001b[1;36m9606\u001b[0m  \u001b[1;36m20200808\u001b[0m  GO_Central                 \u001b[3;35mNone\u001b[0m  \n",
       "\u001b[1;36m623757\u001b[0m  taxon:\u001b[1;36m9606\u001b[0m  \u001b[1;36m20220922\u001b[0m  GO_Central                 \u001b[3;35mNone\u001b[0m  \n",
       "\u001b[1;36m625982\u001b[0m  taxon:\u001b[1;36m9606\u001b[0m  \u001b[1;36m20220922\u001b[0m  GO_Central                 \u001b[3;35mNone\u001b[0m  \n"
      ]
     },
     "metadata": {},
     "output_type": "display_data"
    },
    {
     "data": {
      "text/html": [
       "<pre style=\"white-space:pre;overflow-x:auto;line-height:normal;font-family:Menlo,'DejaVu Sans Mono',consolas,'Courier New',monospace\">Empty DataFrame\n",
       "Columns: <span style=\"font-weight: bold\">[</span>DB, DB_Object_ID, DB_Object_Symbol, Qualifier, GO_ID, DB_Reference, Evidence_Code, With_Or_From, Aspect, \n",
       "DB_Object_Name, DB_Object_Synonym, DB_Object_Type, Taxon, Date, Assigned_By, Annotation_Extension<span style=\"font-weight: bold\">]</span>\n",
       "Index: <span style=\"font-weight: bold\">[]</span>\n",
       "</pre>\n"
      ],
      "text/plain": [
       "Empty DataFrame\n",
       "Columns: \u001b[1m[\u001b[0mDB, DB_Object_ID, DB_Object_Symbol, Qualifier, GO_ID, DB_Reference, Evidence_Code, With_Or_From, Aspect, \n",
       "DB_Object_Name, DB_Object_Synonym, DB_Object_Type, Taxon, Date, Assigned_By, Annotation_Extension\u001b[1m]\u001b[0m\n",
       "Index: \u001b[1m[\u001b[0m\u001b[1m]\u001b[0m\n"
      ]
     },
     "metadata": {},
     "output_type": "display_data"
    },
    {
     "data": {
      "text/html": [
       "<pre style=\"white-space:pre;overflow-x:auto;line-height:normal;font-family:Menlo,'DejaVu Sans Mono',consolas,'Courier New',monospace\">Empty DataFrame\n",
       "Columns: <span style=\"font-weight: bold\">[</span>DB, DB_Object_ID, DB_Object_Symbol, Qualifier, GO_ID, DB_Reference, Evidence_Code, With_Or_From, Aspect, \n",
       "DB_Object_Name, DB_Object_Synonym, DB_Object_Type, Taxon, Date, Assigned_By, Annotation_Extension<span style=\"font-weight: bold\">]</span>\n",
       "Index: <span style=\"font-weight: bold\">[]</span>\n",
       "</pre>\n"
      ],
      "text/plain": [
       "Empty DataFrame\n",
       "Columns: \u001b[1m[\u001b[0mDB, DB_Object_ID, DB_Object_Symbol, Qualifier, GO_ID, DB_Reference, Evidence_Code, With_Or_From, Aspect, \n",
       "DB_Object_Name, DB_Object_Synonym, DB_Object_Type, Taxon, Date, Assigned_By, Annotation_Extension\u001b[1m]\u001b[0m\n",
       "Index: \u001b[1m[\u001b[0m\u001b[1m]\u001b[0m\n"
      ]
     },
     "metadata": {},
     "output_type": "display_data"
    }
   ],
   "source": [
    "nodes = up_go.graph.nodes\n",
    "for n in list(nodes)[:5]:\n",
    "    print(up_goa[up_goa['GO_ID']==n])"
   ]
  },
  {
   "cell_type": "markdown",
   "id": "f984aaff",
   "metadata": {},
   "source": [
    "\\#TODO Create unified ontology\n",
    "\n",
    "- Use interaction to 'connect' the different ontology networks. A node can be used to indicate interaction. For example, if we have a node called 'interaction' and we connect it to 'GO:0000001' and 'PO:0000001', then we can say that 'GO:0000001' and 'PO:0000001' are connected. This will allow us to use the same ontology network for all 3 datasets."
   ]
  },
  {
   "cell_type": "code",
   "execution_count": 57,
   "id": "3c50cd77",
   "metadata": {},
   "outputs": [],
   "source": [
    "#int_ddf = catalog.load('string_interactions')"
   ]
  },
  {
   "cell_type": "code",
   "execution_count": 58,
   "id": "0844429f",
   "metadata": {},
   "outputs": [],
   "source": [
    "#display(int_ddf.head(5).compute())"
   ]
  },
  {
   "cell_type": "code",
   "execution_count": null,
   "id": "e98bd78c",
   "metadata": {},
   "outputs": [
    {
     "ename": "",
     "evalue": "",
     "output_type": "error",
     "traceback": [
      "\u001b[1;31mFailed to connect to the remote Jupyter Server 'http://gra802.graham.sharcnet:8888/'. Verify the server is running and reachable. (Failed to connect to the remote Jupyter Server 'http://gra802.graham.sharcnet:8888/'. Verify the server is running and reachable. (request to http://gra802.graham.sharcnet:8888/api/kernels?1702287039403 failed, reason: connect ECONNREFUSED 10.29.77.91:8888).)."
     ]
    }
   ],
   "source": [
    "up_go"
   ]
  },
  {
   "cell_type": "code",
   "execution_count": 57,
   "id": "e344759c",
   "metadata": {},
   "outputs": [
    {
     "data": {
      "text/html": [
       "<pre style=\"white-space:pre;overflow-x:auto;line-height:normal;font-family:Menlo,'DejaVu Sans Mono',consolas,'Courier New',monospace\">GO not available\n",
       "</pre>\n"
      ],
      "text/plain": [
       "GO not available\n"
      ]
     },
     "metadata": {},
     "output_type": "display_data"
    },
    {
     "data": {
      "text/html": [
       "<pre style=\"white-space:pre;overflow-x:auto;line-height:normal;font-family:Menlo,'DejaVu Sans Mono',consolas,'Courier New',monospace\">MTG    <span style=\"color: #008080; text-decoration-color: #008080; font-weight: bold\">1356</span>\n",
       "JVL       <span style=\"color: #008080; text-decoration-color: #008080; font-weight: bold\">6</span>\n",
       "Name: source, dtype: int64\n",
       "</pre>\n"
      ],
      "text/plain": [
       "MTG    \u001b[1;36m1356\u001b[0m\n",
       "JVL       \u001b[1;36m6\u001b[0m\n",
       "Name: source, dtype: int64\n"
      ]
     },
     "metadata": {},
     "output_type": "display_data"
    },
    {
     "data": {
      "text/html": [
       "<pre style=\"white-space:pre;overflow-x:auto;line-height:normal;font-family:Menlo,'DejaVu Sans Mono',consolas,'Courier New',monospace\">JVL    <span style=\"color: #008080; text-decoration-color: #008080; font-weight: bold\">1</span>\n",
       "Name: source, dtype: int64\n",
       "</pre>\n"
      ],
      "text/plain": [
       "JVL    \u001b[1;36m1\u001b[0m\n",
       "Name: source, dtype: int64\n"
      ]
     },
     "metadata": {},
     "output_type": "display_data"
    },
    {
     "data": {
      "text/html": [
       "<pre style=\"white-space:pre;overflow-x:auto;line-height:normal;font-family:Menlo,'DejaVu Sans Mono',consolas,'Courier New',monospace\">PO not available\n",
       "</pre>\n"
      ],
      "text/plain": [
       "PO not available\n"
      ]
     },
     "metadata": {},
     "output_type": "display_data"
    },
    {
     "data": {
      "text/html": [
       "<pre style=\"white-space:pre;overflow-x:auto;line-height:normal;font-family:Menlo,'DejaVu Sans Mono',consolas,'Courier New',monospace\">MTG      <span style=\"color: #008080; text-decoration-color: #008080; font-weight: bold\">469</span>\n",
       "JVL      <span style=\"color: #008080; text-decoration-color: #008080; font-weight: bold\">210</span>\n",
       "OLIDA      <span style=\"color: #008080; text-decoration-color: #008080; font-weight: bold\">7</span>\n",
       "Name: source, dtype: int64\n",
       "</pre>\n"
      ],
      "text/plain": [
       "MTG      \u001b[1;36m469\u001b[0m\n",
       "JVL      \u001b[1;36m210\u001b[0m\n",
       "OLIDA      \u001b[1;36m7\u001b[0m\n",
       "Name: source, dtype: int64\n"
      ]
     },
     "metadata": {},
     "output_type": "display_data"
    },
    {
     "data": {
      "text/html": [
       "<pre style=\"white-space:pre;overflow-x:auto;line-height:normal;font-family:Menlo,'DejaVu Sans Mono',consolas,'Courier New',monospace\">JVL      <span style=\"color: #008080; text-decoration-color: #008080; font-weight: bold\">72</span>\n",
       "OLIDA     <span style=\"color: #008080; text-decoration-color: #008080; font-weight: bold\">4</span>\n",
       "Name: source, dtype: int64\n",
       "</pre>\n"
      ],
      "text/plain": [
       "JVL      \u001b[1;36m72\u001b[0m\n",
       "OLIDA     \u001b[1;36m4\u001b[0m\n",
       "Name: source, dtype: int64\n"
      ]
     },
     "metadata": {},
     "output_type": "display_data"
    },
    {
     "data": {
      "text/html": [
       "<pre style=\"white-space:pre;overflow-x:auto;line-height:normal;font-family:Menlo,'DejaVu Sans Mono',consolas,'Courier New',monospace\">DO not available\n",
       "</pre>\n"
      ],
      "text/plain": [
       "DO not available\n"
      ]
     },
     "metadata": {},
     "output_type": "display_data"
    },
    {
     "data": {
      "text/html": [
       "<pre style=\"white-space:pre;overflow-x:auto;line-height:normal;font-family:Menlo,'DejaVu Sans Mono',consolas,'Courier New',monospace\">MTG      <span style=\"color: #008080; text-decoration-color: #008080; font-weight: bold\">3834</span>\n",
       "JVL       <span style=\"color: #008080; text-decoration-color: #008080; font-weight: bold\">130</span>\n",
       "OLIDA       <span style=\"color: #008080; text-decoration-color: #008080; font-weight: bold\">8</span>\n",
       "Name: source, dtype: int64\n",
       "</pre>\n"
      ],
      "text/plain": [
       "MTG      \u001b[1;36m3834\u001b[0m\n",
       "JVL       \u001b[1;36m130\u001b[0m\n",
       "OLIDA       \u001b[1;36m8\u001b[0m\n",
       "Name: source, dtype: int64\n"
      ]
     },
     "metadata": {},
     "output_type": "display_data"
    },
    {
     "data": {
      "text/html": [
       "<pre style=\"white-space:pre;overflow-x:auto;line-height:normal;font-family:Menlo,'DejaVu Sans Mono',consolas,'Courier New',monospace\">MTG      <span style=\"color: #008080; text-decoration-color: #008080; font-weight: bold\">5182</span>\n",
       "JVL        <span style=\"color: #008080; text-decoration-color: #008080; font-weight: bold\">48</span>\n",
       "OLIDA       <span style=\"color: #008080; text-decoration-color: #008080; font-weight: bold\">4</span>\n",
       "Name: source, dtype: int64\n",
       "</pre>\n"
      ],
      "text/plain": [
       "MTG      \u001b[1;36m5182\u001b[0m\n",
       "JVL        \u001b[1;36m48\u001b[0m\n",
       "OLIDA       \u001b[1;36m4\u001b[0m\n",
       "Name: source, dtype: int64\n"
      ]
     },
     "metadata": {},
     "output_type": "display_data"
    }
   ],
   "source": [
    "def get_subgraph(phenotype_list: list, graph):\n",
    "    # Remove any potential empty strings and duplicates\n",
    "    phenotype_list = list(filter(None, set(phenotype_list)))\n",
    "    # Filter nodes that are in the graph\n",
    "    nodes = [node for node in phenotype_list if node in graph.nodes]\n",
    "    return graph.subgraph(nodes).copy()\n",
    "\n",
    "def terms_to_nx_subgraph(terms: str, g):\n",
    "    if type(terms) is str:\n",
    "        return get_subgraph(terms.split(','), g)\n",
    "    else:\n",
    "        return None\n",
    "\n",
    "# Parse the 'target_*Os' and 'modifier_*Os' columns and create subgraphs\n",
    "#########################################################################\n",
    "dataset_df['target_GOs_subgraph'] = dataset_df['target_GOs'].apply(terms_to_nx_subgraph, g=up_go.graph)\n",
    "dataset_df['modifier_GOs_subgraph'] = dataset_df['modifier_GOs'].apply(terms_to_nx_subgraph, g=up_go.graph)\n",
    "\n",
    "print('GO not available')\n",
    "print(dataset_df[dataset_df['modifier_GOs_subgraph'].isna()]['source'].value_counts())\n",
    "print(dataset_df[dataset_df['target_GOs_subgraph'].isna()]['source'].value_counts())\n",
    "\n",
    "# PO\n",
    "dataset_df['target_POs_subgraph'] = dataset_df['target_POs'].apply(terms_to_nx_subgraph, g=up_go.graph)\n",
    "dataset_df['modifier_POs_subgraph'] = dataset_df['modifier_POs'].apply(terms_to_nx_subgraph, g=up_go.graph)\n",
    "\n",
    "print('PO not available')\n",
    "print(dataset_df[dataset_df['modifier_POs_subgraph'].isna()]['source'].value_counts())\n",
    "print(dataset_df[dataset_df['target_POs_subgraph'].isna()]['source'].value_counts())\n",
    "\n",
    "# DO\n",
    "dataset_df['target_DOs_subgraph'] = dataset_df['target_DOs'].apply(terms_to_nx_subgraph, g=up_go.graph)\n",
    "dataset_df['modifier_DOs_subgraph'] = dataset_df['modifier_DOs'].apply(terms_to_nx_subgraph, g=up_go.graph)\n",
    "\n",
    "print('DO not available')\n",
    "print(dataset_df[dataset_df['modifier_DOs_subgraph'].isna()]['source'].value_counts())\n",
    "print(dataset_df[dataset_df['target_DOs_subgraph'].isna()]['source'].value_counts())"
   ]
  },
  {
   "cell_type": "markdown",
   "id": "6c8e890e",
   "metadata": {},
   "source": [
    "Exploring the entris that does not have any annotations"
   ]
  },
  {
   "cell_type": "code",
   "execution_count": 58,
   "id": "707fd1ec",
   "metadata": {},
   "outputs": [
    {
     "data": {
      "text/html": [
       "<div>\n",
       "<style scoped>\n",
       "    .dataframe tbody tr th:only-of-type {\n",
       "        vertical-align: middle;\n",
       "    }\n",
       "\n",
       "    .dataframe tbody tr th {\n",
       "        vertical-align: top;\n",
       "    }\n",
       "\n",
       "    .dataframe thead th {\n",
       "        text-align: right;\n",
       "    }\n",
       "</style>\n",
       "<table border=\"1\" class=\"dataframe\">\n",
       "  <thead>\n",
       "    <tr style=\"text-align: right;\">\n",
       "      <th></th>\n",
       "      <th>target_gene</th>\n",
       "      <th>modifier_gene</th>\n",
       "      <th>target_GOs</th>\n",
       "      <th>modifier_GOs</th>\n",
       "    </tr>\n",
       "  </thead>\n",
       "  <tbody>\n",
       "    <tr>\n",
       "      <th>61</th>\n",
       "      <td>zyg-1</td>\n",
       "      <td>mat-2</td>\n",
       "      <td>GO:0000003,GO:0000166,GO:0000278,GO:0004672,GO...</td>\n",
       "      <td>NaN</td>\n",
       "    </tr>\n",
       "    <tr>\n",
       "      <th>1969</th>\n",
       "      <td>zyg-1</td>\n",
       "      <td>apc-17</td>\n",
       "      <td>GO:0000003,GO:0000166,GO:0000278,GO:0004672,GO...</td>\n",
       "      <td>NaN</td>\n",
       "    </tr>\n",
       "  </tbody>\n",
       "</table>\n",
       "</div>"
      ],
      "text/plain": [
       "     target_gene modifier_gene  \\\n",
       "61         zyg-1         mat-2   \n",
       "1969       zyg-1        apc-17   \n",
       "\n",
       "                                             target_GOs modifier_GOs  \n",
       "61    GO:0000003,GO:0000166,GO:0000278,GO:0004672,GO...          NaN  \n",
       "1969  GO:0000003,GO:0000166,GO:0000278,GO:0004672,GO...          NaN  "
      ]
     },
     "metadata": {},
     "output_type": "display_data"
    }
   ],
   "source": [
    "__df = dataset_df[(dataset_df['modifier_GOs_subgraph'].isna()) & (dataset_df['source']=='MTG')]\n",
    "display(__df[__df['is_modifier']==1][['target_gene', 'modifier_gene', 'target_GOs', 'modifier_GOs']])\n",
    "del __df"
   ]
  },
  {
   "cell_type": "code",
   "execution_count": 60,
   "id": "681e3c44",
   "metadata": {},
   "outputs": [
    {
     "data": {
      "text/html": [
       "<div>\n",
       "<style scoped>\n",
       "    .dataframe tbody tr th:only-of-type {\n",
       "        vertical-align: middle;\n",
       "    }\n",
       "\n",
       "    .dataframe tbody tr th {\n",
       "        vertical-align: top;\n",
       "    }\n",
       "\n",
       "    .dataframe thead th {\n",
       "        text-align: right;\n",
       "    }\n",
       "</style>\n",
       "<table border=\"1\" class=\"dataframe\">\n",
       "  <thead>\n",
       "    <tr style=\"text-align: right;\">\n",
       "      <th></th>\n",
       "      <th>Sample</th>\n",
       "      <th>chromosome</th>\n",
       "      <th>position</th>\n",
       "      <th>ref</th>\n",
       "      <th>alt</th>\n",
       "      <th>wormbase_gene_id</th>\n",
       "      <th>modifier_gene</th>\n",
       "      <th>gene_start_position</th>\n",
       "      <th>gene_end_position</th>\n",
       "      <th>strain</th>\n",
       "      <th>...</th>\n",
       "      <th>modifier_GOs_count</th>\n",
       "      <th>target_POs</th>\n",
       "      <th>target_POs_count</th>\n",
       "      <th>modifier_POs</th>\n",
       "      <th>modifier_POs_count</th>\n",
       "      <th>target_DOs</th>\n",
       "      <th>target_DOs_count</th>\n",
       "      <th>modifier_DOs</th>\n",
       "      <th>modifier_DOs_count</th>\n",
       "      <th>source</th>\n",
       "    </tr>\n",
       "  </thead>\n",
       "  <tbody>\n",
       "    <tr>\n",
       "      <th>61</th>\n",
       "      <td>MTG29</td>\n",
       "      <td>II</td>\n",
       "      <td>11117776</td>\n",
       "      <td>G</td>\n",
       "      <td>A</td>\n",
       "      <td>WBGene00003133</td>\n",
       "      <td>mat-2</td>\n",
       "      <td>II</td>\n",
       "      <td>11112719.0</td>\n",
       "      <td>29</td>\n",
       "      <td>...</td>\n",
       "      <td>0</td>\n",
       "      <td>WBPhenotype:0000025,WBPhenotype:0000050,WBPhen...</td>\n",
       "      <td>88</td>\n",
       "      <td>NaN</td>\n",
       "      <td>0</td>\n",
       "      <td>NaN</td>\n",
       "      <td>0</td>\n",
       "      <td>NaN</td>\n",
       "      <td>0</td>\n",
       "      <td>MTG</td>\n",
       "    </tr>\n",
       "    <tr>\n",
       "      <th>1810</th>\n",
       "      <td>MTG352</td>\n",
       "      <td>II</td>\n",
       "      <td>11119736</td>\n",
       "      <td>G</td>\n",
       "      <td>A</td>\n",
       "      <td>WBGene00003133</td>\n",
       "      <td>mat-2</td>\n",
       "      <td>11112719</td>\n",
       "      <td>11120788.0</td>\n",
       "      <td>352</td>\n",
       "      <td>...</td>\n",
       "      <td>0</td>\n",
       "      <td>WBPhenotype:0000025,WBPhenotype:0000050,WBPhen...</td>\n",
       "      <td>88</td>\n",
       "      <td>NaN</td>\n",
       "      <td>0</td>\n",
       "      <td>NaN</td>\n",
       "      <td>0</td>\n",
       "      <td>NaN</td>\n",
       "      <td>0</td>\n",
       "      <td>MTG</td>\n",
       "    </tr>\n",
       "    <tr>\n",
       "      <th>3684</th>\n",
       "      <td>MTG142</td>\n",
       "      <td>II</td>\n",
       "      <td>11117514</td>\n",
       "      <td>T</td>\n",
       "      <td>G</td>\n",
       "      <td>WBGene00003133</td>\n",
       "      <td>mat-2</td>\n",
       "      <td>11112719</td>\n",
       "      <td>11120788.0</td>\n",
       "      <td>142</td>\n",
       "      <td>...</td>\n",
       "      <td>0</td>\n",
       "      <td>WBPhenotype:0000025,WBPhenotype:0000050,WBPhen...</td>\n",
       "      <td>88</td>\n",
       "      <td>NaN</td>\n",
       "      <td>0</td>\n",
       "      <td>NaN</td>\n",
       "      <td>0</td>\n",
       "      <td>NaN</td>\n",
       "      <td>0</td>\n",
       "      <td>MTG</td>\n",
       "    </tr>\n",
       "    <tr>\n",
       "      <th>6369</th>\n",
       "      <td>MTG345</td>\n",
       "      <td>II</td>\n",
       "      <td>11115668</td>\n",
       "      <td>T</td>\n",
       "      <td>A</td>\n",
       "      <td>WBGene00003133</td>\n",
       "      <td>mat-2</td>\n",
       "      <td>11112719</td>\n",
       "      <td>11120788.0</td>\n",
       "      <td>345</td>\n",
       "      <td>...</td>\n",
       "      <td>0</td>\n",
       "      <td>WBPhenotype:0000025,WBPhenotype:0000050,WBPhen...</td>\n",
       "      <td>88</td>\n",
       "      <td>NaN</td>\n",
       "      <td>0</td>\n",
       "      <td>NaN</td>\n",
       "      <td>0</td>\n",
       "      <td>NaN</td>\n",
       "      <td>0</td>\n",
       "      <td>MTG</td>\n",
       "    </tr>\n",
       "  </tbody>\n",
       "</table>\n",
       "<p>4 rows × 169 columns</p>\n",
       "</div>"
      ],
      "text/plain": [
       "      Sample chromosome  position ref alt wormbase_gene_id modifier_gene  \\\n",
       "61     MTG29         II  11117776   G   A   WBGene00003133         mat-2   \n",
       "1810  MTG352         II  11119736   G   A   WBGene00003133         mat-2   \n",
       "3684  MTG142         II  11117514   T   G   WBGene00003133         mat-2   \n",
       "6369  MTG345         II  11115668   T   A   WBGene00003133         mat-2   \n",
       "\n",
       "     gene_start_position  gene_end_position  strain  ... modifier_GOs_count  \\\n",
       "61                    II         11112719.0      29  ...                  0   \n",
       "1810            11112719         11120788.0     352  ...                  0   \n",
       "3684            11112719         11120788.0     142  ...                  0   \n",
       "6369            11112719         11120788.0     345  ...                  0   \n",
       "\n",
       "                                             target_POs target_POs_count  \\\n",
       "61    WBPhenotype:0000025,WBPhenotype:0000050,WBPhen...               88   \n",
       "1810  WBPhenotype:0000025,WBPhenotype:0000050,WBPhen...               88   \n",
       "3684  WBPhenotype:0000025,WBPhenotype:0000050,WBPhen...               88   \n",
       "6369  WBPhenotype:0000025,WBPhenotype:0000050,WBPhen...               88   \n",
       "\n",
       "      modifier_POs  modifier_POs_count  target_DOs  target_DOs_count  \\\n",
       "61             NaN                   0         NaN                 0   \n",
       "1810           NaN                   0         NaN                 0   \n",
       "3684           NaN                   0         NaN                 0   \n",
       "6369           NaN                   0         NaN                 0   \n",
       "\n",
       "      modifier_DOs  modifier_DOs_count  source  \n",
       "61             NaN                   0     MTG  \n",
       "1810           NaN                   0     MTG  \n",
       "3684           NaN                   0     MTG  \n",
       "6369           NaN                   0     MTG  \n",
       "\n",
       "[4 rows x 169 columns]"
      ]
     },
     "metadata": {},
     "output_type": "display_data"
    }
   ],
   "source": [
    "display(m_df[m_df['modifier_gene']=='mat-2']) # ***Obsolite gene***"
   ]
  },
  {
   "cell_type": "code",
   "execution_count": 62,
   "id": "687cc975",
   "metadata": {},
   "outputs": [
    {
     "data": {
      "text/html": [
       "<pre style=\"white-space:pre;overflow-x:auto;line-height:normal;font-family:Menlo,'DejaVu Sans Mono',consolas,'Courier New',monospace\"><span style=\"font-weight: bold\">(</span><span style=\"color: #008080; text-decoration-color: #008080; font-weight: bold\">210</span>, <span style=\"color: #008080; text-decoration-color: #008080; font-weight: bold\">224</span><span style=\"font-weight: bold\">)</span>\n",
       "</pre>\n"
      ],
      "text/plain": [
       "\u001b[1m(\u001b[0m\u001b[1;36m210\u001b[0m, \u001b[1;36m224\u001b[0m\u001b[1m)\u001b[0m\n"
      ]
     },
     "metadata": {},
     "output_type": "display_data"
    },
    {
     "data": {
      "text/html": [
       "<div>\n",
       "<style scoped>\n",
       "    .dataframe tbody tr th:only-of-type {\n",
       "        vertical-align: middle;\n",
       "    }\n",
       "\n",
       "    .dataframe tbody tr th {\n",
       "        vertical-align: top;\n",
       "    }\n",
       "\n",
       "    .dataframe thead th {\n",
       "        text-align: right;\n",
       "    }\n",
       "</style>\n",
       "<table border=\"1\" class=\"dataframe\">\n",
       "  <thead>\n",
       "    <tr style=\"text-align: right;\">\n",
       "      <th></th>\n",
       "      <th>target_gene</th>\n",
       "      <th>modifier_gene</th>\n",
       "      <th>target_POs</th>\n",
       "      <th>modifier_POs</th>\n",
       "    </tr>\n",
       "  </thead>\n",
       "  <tbody>\n",
       "    <tr>\n",
       "      <th>0</th>\n",
       "      <td>APOE</td>\n",
       "      <td>CASP7</td>\n",
       "      <td>HP:0001114,HP:0010874,HP:0002423,HP:0100820,HP...</td>\n",
       "      <td>NaN</td>\n",
       "    </tr>\n",
       "    <tr>\n",
       "      <th>4</th>\n",
       "      <td>ATR</td>\n",
       "      <td>ETV1</td>\n",
       "      <td>HP:0025127,HP:0001250,HP:0001249,HP:0001249,HP...</td>\n",
       "      <td>NaN</td>\n",
       "    </tr>\n",
       "    <tr>\n",
       "      <th>7</th>\n",
       "      <td>ATXN1</td>\n",
       "      <td>DNAJA1</td>\n",
       "      <td>HP:0001151,HP:0002483,HP:0002495,HP:0002460,HP...</td>\n",
       "      <td>NaN</td>\n",
       "    </tr>\n",
       "    <tr>\n",
       "      <th>12</th>\n",
       "      <td>BBS4</td>\n",
       "      <td>DTX1</td>\n",
       "      <td>HP:0001156,HP:0001162,HP:0001159,HP:0001249,HP...</td>\n",
       "      <td>NaN</td>\n",
       "    </tr>\n",
       "    <tr>\n",
       "      <th>13</th>\n",
       "      <td>BBS4</td>\n",
       "      <td>ENGASE</td>\n",
       "      <td>HP:0001156,HP:0001162,HP:0001159,HP:0001249,HP...</td>\n",
       "      <td>NaN</td>\n",
       "    </tr>\n",
       "    <tr>\n",
       "      <th>...</th>\n",
       "      <td>...</td>\n",
       "      <td>...</td>\n",
       "      <td>...</td>\n",
       "      <td>...</td>\n",
       "    </tr>\n",
       "    <tr>\n",
       "      <th>912</th>\n",
       "      <td>TRPC6</td>\n",
       "      <td>NCLN</td>\n",
       "      <td>HP:0003774,HP:0003774,HP:0002586,HP:0000097,HP...</td>\n",
       "      <td>NaN</td>\n",
       "    </tr>\n",
       "    <tr>\n",
       "      <th>913</th>\n",
       "      <td>TRPC6</td>\n",
       "      <td>PLCD3</td>\n",
       "      <td>HP:0003774,HP:0003774,HP:0002586,HP:0000097,HP...</td>\n",
       "      <td>NaN</td>\n",
       "    </tr>\n",
       "    <tr>\n",
       "      <th>916</th>\n",
       "      <td>TRPC6</td>\n",
       "      <td>TMEM208</td>\n",
       "      <td>HP:0003774,HP:0003774,HP:0002586,HP:0000097,HP...</td>\n",
       "      <td>NaN</td>\n",
       "    </tr>\n",
       "    <tr>\n",
       "      <th>917</th>\n",
       "      <td>TRPC6</td>\n",
       "      <td>WDR83OS</td>\n",
       "      <td>HP:0003774,HP:0003774,HP:0002586,HP:0000097,HP...</td>\n",
       "      <td>NaN</td>\n",
       "    </tr>\n",
       "    <tr>\n",
       "      <th>928</th>\n",
       "      <td>UBE2F</td>\n",
       "      <td>PMAIP1</td>\n",
       "      <td>NaN</td>\n",
       "      <td>NaN</td>\n",
       "    </tr>\n",
       "  </tbody>\n",
       "</table>\n",
       "<p>210 rows × 4 columns</p>\n",
       "</div>"
      ],
      "text/plain": [
       "    target_gene modifier_gene  \\\n",
       "0          APOE         CASP7   \n",
       "4           ATR          ETV1   \n",
       "7         ATXN1        DNAJA1   \n",
       "12         BBS4          DTX1   \n",
       "13         BBS4        ENGASE   \n",
       "..          ...           ...   \n",
       "912       TRPC6          NCLN   \n",
       "913       TRPC6         PLCD3   \n",
       "916       TRPC6       TMEM208   \n",
       "917       TRPC6       WDR83OS   \n",
       "928       UBE2F        PMAIP1   \n",
       "\n",
       "                                            target_POs modifier_POs  \n",
       "0    HP:0001114,HP:0010874,HP:0002423,HP:0100820,HP...          NaN  \n",
       "4    HP:0025127,HP:0001250,HP:0001249,HP:0001249,HP...          NaN  \n",
       "7    HP:0001151,HP:0002483,HP:0002495,HP:0002460,HP...          NaN  \n",
       "12   HP:0001156,HP:0001162,HP:0001159,HP:0001249,HP...          NaN  \n",
       "13   HP:0001156,HP:0001162,HP:0001159,HP:0001249,HP...          NaN  \n",
       "..                                                 ...          ...  \n",
       "912  HP:0003774,HP:0003774,HP:0002586,HP:0000097,HP...          NaN  \n",
       "913  HP:0003774,HP:0003774,HP:0002586,HP:0000097,HP...          NaN  \n",
       "916  HP:0003774,HP:0003774,HP:0002586,HP:0000097,HP...          NaN  \n",
       "917  HP:0003774,HP:0003774,HP:0002586,HP:0000097,HP...          NaN  \n",
       "928                                                NaN          NaN  \n",
       "\n",
       "[210 rows x 4 columns]"
      ]
     },
     "metadata": {},
     "output_type": "display_data"
    }
   ],
   "source": [
    "__df = dataset_df[(dataset_df['modifier_POs_subgraph'].isna()) & (dataset_df['source']=='JVL')]\n",
    "print(__df.shape)\n",
    "display(__df[__df['is_modifier']==1][['target_gene', 'modifier_gene', 'target_POs', 'modifier_POs']])\n",
    "del __df"
   ]
  },
  {
   "cell_type": "code",
   "execution_count": 63,
   "id": "a4963bb2",
   "metadata": {},
   "outputs": [
    {
     "data": {
      "text/html": [
       "<div>\n",
       "<style scoped>\n",
       "    .dataframe tbody tr th:only-of-type {\n",
       "        vertical-align: middle;\n",
       "    }\n",
       "\n",
       "    .dataframe tbody tr th {\n",
       "        vertical-align: top;\n",
       "    }\n",
       "\n",
       "    .dataframe thead th {\n",
       "        text-align: right;\n",
       "    }\n",
       "</style>\n",
       "<table border=\"1\" class=\"dataframe\">\n",
       "  <thead>\n",
       "    <tr style=\"text-align: right;\">\n",
       "      <th></th>\n",
       "      <th>ncbi_gene_id</th>\n",
       "      <th>gene_symbol</th>\n",
       "      <th>hpo_id</th>\n",
       "      <th>hpo_name</th>\n",
       "      <th>frequency</th>\n",
       "      <th>disease_id</th>\n",
       "    </tr>\n",
       "  </thead>\n",
       "  <tbody>\n",
       "  </tbody>\n",
       "</table>\n",
       "</div>"
      ],
      "text/plain": [
       "Empty DataFrame\n",
       "Columns: [ncbi_gene_id, gene_symbol, hpo_id, hpo_name, frequency, disease_id]\n",
       "Index: []"
      ]
     },
     "execution_count": 63,
     "metadata": {},
     "output_type": "execute_result"
    }
   ],
   "source": [
    "hpoa[hpoa['gene_symbol']=='PLCD3'].head()"
   ]
  },
  {
   "cell_type": "markdown",
   "id": "7958b138",
   "metadata": {},
   "source": [
    "\\# TODO: Apply Weisfeiler-Lehman graph isomorphism test to see if two graphs are isomorphic. And if the isomorphism has any effect on two subgraphs."
   ]
  },
  {
   "cell_type": "code",
   "execution_count": null,
   "id": "7e2c2e10",
   "metadata": {},
   "outputs": [],
   "source": []
  },
  {
   "cell_type": "markdown",
   "id": "5ce71636",
   "metadata": {},
   "source": [
    "## 🧠 Deep Learning"
   ]
  },
  {
   "cell_type": "markdown",
   "id": "8d74cd55",
   "metadata": {},
   "source": [
    "- Choose efficient subgraph extraction algorithms: There are various algorithms available for extracting subgraphs, such as MaxWalk or SPADE. Consider using efficient algorithms to reduce computational cost.\n",
    "\n",
    "- Use appropriate similarity metrics: Explore different similarity metrics like graph edit distance, Weisfeiler-Lehman graph isomorphism test, or graph kernels, and evaluate their effectiveness on your data.\n",
    "\n",
    "- Embed subgraph similarity scores: Consider embedding the subgraph similarity scores into a lower-dimensional space to improve efficiency and potentially capture more complex relationships between subgraphs."
   ]
  },
  {
   "cell_type": "code",
   "execution_count": 64,
   "id": "68c225fd",
   "metadata": {},
   "outputs": [],
   "source": []
  },
  {
   "cell_type": "code",
   "execution_count": null,
   "id": "eff47bb2",
   "metadata": {},
   "outputs": [],
   "source": [
    "\n",
    "dataset_df['target_']\n",
    "G = nx.complete_graph(100)\n",
    "H1 = Graph(G)\n",
    "H2 = H1.clone()\n",
    "dataset = GraphDataset(graphs=[H1, H2])\n",
    "len(dataset)"
   ]
  },
  {
   "cell_type": "code",
   "execution_count": null,
   "id": "5ae1b257",
   "metadata": {},
   "outputs": [],
   "source": [
    "import torch\n",
    "import torch.nn as nn\n",
    "import torch_geometric.nn as gnn\n",
    "from torch_geometric.nn import global_mean_pool\n",
    "\n",
    "# GPT\n",
    "class SimGNN(nn.Module):\n",
    "    def __init__(self, num_features, hidden_dim):\n",
    "        super(SimGNN, self).__init__()\n",
    "        self.conv1 = gnn.GCNConv(num_features, hidden_dim)\n",
    "        self.conv2 = gnn.GCNConv(hidden_dim, hidden_dim)\n",
    "        self.fc1 = nn.Linear(2 * hidden_dim, hidden_dim)\n",
    "        self.fc2 = nn.Linear(hidden_dim, 1)\n",
    "        self.relu = nn.ReLU()\n",
    "\n",
    "    def forward(self, data1, data2):\n",
    "        # Apply GNN on both graphs\n",
    "        x1, edge_index1 = data1.x, data1.edge_index\n",
    "        x1 = self.relu(self.conv1(x1, edge_index1))\n",
    "        x1 = global_mean_pool(x1, data1.batch)\n",
    "\n",
    "        x2, edge_index2 = data2.x, data2.edge_index\n",
    "        x2 = self.relu(self.conv1(x2, edge_index2))\n",
    "        x2 = global_mean_pool(x2, data2.batch)\n",
    "\n",
    "        # Second layer of GNN\n",
    "        x1 = self.relu(self.conv2(x1, edge_index1))\n",
    "        x2 = self.relu(self.conv2(x2, edge_index2))\n",
    "\n",
    "        # Concatenate and pass through dense layers\n",
    "        combined = torch.cat([x1, x2], 1)\n",
    "        combined = self.relu(self.fc1(combined))\n",
    "        similarity = self.fc2(combined)\n",
    "\n",
    "        return similarity\n",
    "\n",
    "# Example usage\n",
    "num_features = 3  # Example feature dimension\n",
    "hidden_dim = 64   # Hidden dimension\n",
    "\n",
    "model = SimGNN(num_features, hidden_dim)\n",
    "\n",
    "# Assuming data1 and data2 are PyG Data objects representing two graphs\n",
    "# similarity = model(data1, data2)\n"
   ]
  },
  {
   "cell_type": "markdown",
   "id": "dbfae76d",
   "metadata": {},
   "source": [
    "Siamese Network"
   ]
  },
  {
   "cell_type": "code",
   "execution_count": 229,
   "id": "3861617f",
   "metadata": {},
   "outputs": [],
   "source": [
    "import torch\n",
    "from torch_geometric.nn import GCNConv\n",
    "from torch.nn import Sequential, Linear, ReLU\n",
    "\n",
    "class ModsGNN(torch.nn.Module):\n",
    "    def __init__(self, num_features, hidden_dim, embedding_dim):\n",
    "        super(ModsGNN, self).__init__()\n",
    "        self.conv1 = GCNConv(num_features, hidden_dim)\n",
    "        self.conv2 = GCNConv(hidden_dim, embedding_dim)\n",
    "\n",
    "    def forward(self, data):\n",
    "        x, edge_index = data.x, data.edge_index\n",
    "        print(data[0])\n",
    "        x = self.conv1(x, edge_index)\n",
    "        x = ReLU()(x)\n",
    "        x = self.conv2(x, edge_index)\n",
    "        return x\n",
    "\n",
    "class SiameseGNN(torch.nn.Module):\n",
    "    def __init__(self, num_node_features, hidden_dim, embedding_dim):\n",
    "        super(SiameseGNN, self).__init__()\n",
    "        self.gnn = ModsGNN(num_node_features, hidden_dim, embedding_dim)\n",
    "\n",
    "    def forward(self, data1, data2):\n",
    "        print(data1)\n",
    "        print(data2)\n",
    "        # Process each subgraph through the GNN\n",
    "        embedding1 = self.gnn(data1)\n",
    "        embedding2 = self.gnn(data2)\n",
    "\n",
    "        # Combine embeddings (e.g., concatenation, subtraction, etc.)\n",
    "        combined = torch.abs(embedding1 - embedding2)\n",
    "\n",
    "        # A fully connected layer for binary classification\n",
    "        out = torch.nn.Linear(combined.size(0), 1)(combined)\n",
    "        return out"
   ]
  },
  {
   "cell_type": "code",
   "execution_count": 218,
   "id": "0920f39a",
   "metadata": {},
   "outputs": [],
   "source": [
    "def from_networkx_to_data(graph, label):\n",
    "    data = convert.from_networkx(graph)\n",
    "    data.y = torch.tensor([label], dtype=torch.float)\n",
    "    return data\n",
    "\n",
    "# dataset_df['target_GO_pyg'] = row['target_GOs_subgraph']\n",
    "\n",
    "def prepare_dataloader(df, batch_size=32):\n",
    "    dataset = []\n",
    "    for idx, row in df.iterrows():\n",
    "        graph1 = row['target_GOs_subgraph']\n",
    "        # graph1.graph['gene'] = row['target_gene']\n",
    "        graph2 = row['modifier_GOs_subgraph']\n",
    "        # graph2.graph['gene'] = row['modifier_gene']\n",
    "        label = row['is_modifier']\n",
    "        data1 = from_networkx_to_data(graph1, label)\n",
    "        data2 = from_networkx_to_data(graph2, label)\n",
    "        # print(data1)\n",
    "        dataset.append((data1, data2, label))\n",
    "\n",
    "    return DataLoader(dataset, batch_size=batch_size, shuffle=True)\n"
   ]
  },
  {
   "cell_type": "code",
   "execution_count": 230,
   "id": "bfef20a6",
   "metadata": {},
   "outputs": [],
   "source": [
    "def train(model, dataloader, optimizer, criterion, epochs):\n",
    "    model.train()\n",
    "    for epoch in range(epochs):\n",
    "        total_loss = 0\n",
    "        # print(dataloader)\n",
    "        # print(next(iter(dataloader)))\n",
    "        for data1, data2, label in dataloader:\n",
    "            # print(data1, data1)\n",
    "            optimizer.zero_grad()\n",
    "            output = model(data1, data2)\n",
    "            loss = criterion(output, label.unsqueeze(1))\n",
    "            loss.backward()\n",
    "            optimizer.step()\n",
    "            total_loss += loss.item()\n",
    "        print(f\"Epoch {epoch+1}/{epochs}, Loss: {total_loss / len(dataloader)}\")\n",
    "\n",
    "\n",
    "@torch.no_grad()\n",
    "def evaluate(model, dataloader):\n",
    "    model.eval()\n",
    "    correct = 0\n",
    "    total = 0\n",
    "    for data1, data2, label in dataloader:\n",
    "        output = model(data1, data2)\n",
    "        pred = output.round()  # Assuming binary classification (0 or 1)\n",
    "        correct += (pred == label.unsqueeze(1)).sum().item()\n",
    "        total += label.size(0)\n",
    "    return correct / total\n"
   ]
  },
  {
   "cell_type": "code",
   "execution_count": 231,
   "id": "3ce24be9",
   "metadata": {},
   "outputs": [
    {
     "data": {
      "text/html": [
       "<pre style=\"white-space:pre;overflow-x:auto;line-height:normal;font-family:Menlo,'DejaVu Sans Mono',consolas,'Courier New',monospace\"><span style=\"color: #800080; text-decoration-color: #800080; font-weight: bold\">DataBatch</span><span style=\"font-weight: bold\">(</span><span style=\"color: #808000; text-decoration-color: #808000\">edge_index</span>=<span style=\"font-weight: bold\">[</span><span style=\"color: #008080; text-decoration-color: #008080; font-weight: bold\">2</span>, <span style=\"color: #008080; text-decoration-color: #008080; font-weight: bold\">14</span><span style=\"font-weight: bold\">]</span>, <span style=\"color: #808000; text-decoration-color: #808000\">identifier</span>=<span style=\"font-weight: bold\">[</span><span style=\"color: #008080; text-decoration-color: #008080; font-weight: bold\">2</span><span style=\"font-weight: bold\">]</span>, <span style=\"color: #808000; text-decoration-color: #808000\">name</span>=<span style=\"font-weight: bold\">[</span><span style=\"color: #008080; text-decoration-color: #008080; font-weight: bold\">2</span><span style=\"font-weight: bold\">]</span>, <span style=\"color: #808000; text-decoration-color: #808000\">namespace</span>=<span style=\"font-weight: bold\">[</span><span style=\"color: #008080; text-decoration-color: #008080; font-weight: bold\">2</span><span style=\"font-weight: bold\">]</span>, <span style=\"color: #808000; text-decoration-color: #808000\">rel_types</span>=<span style=\"font-weight: bold\">[</span><span style=\"color: #008080; text-decoration-color: #008080; font-weight: bold\">2</span><span style=\"font-weight: bold\">]</span>, <span style=\"color: #808000; text-decoration-color: #808000\">ontology</span>=<span style=\"font-weight: bold\">[</span><span style=\"color: #008080; text-decoration-color: #008080; font-weight: bold\">2</span><span style=\"font-weight: bold\">]</span>, \n",
       "<span style=\"color: #808000; text-decoration-color: #808000\">data_version</span>=<span style=\"font-weight: bold\">[</span><span style=\"color: #008080; text-decoration-color: #008080; font-weight: bold\">2</span><span style=\"font-weight: bold\">]</span>, <span style=\"color: #808000; text-decoration-color: #808000\">gene</span>=<span style=\"font-weight: bold\">[</span><span style=\"color: #008080; text-decoration-color: #008080; font-weight: bold\">2</span><span style=\"font-weight: bold\">]</span>, <span style=\"color: #808000; text-decoration-color: #808000\">num_nodes</span>=<span style=\"color: #008080; text-decoration-color: #008080; font-weight: bold\">72</span>, <span style=\"color: #808000; text-decoration-color: #808000\">batch</span>=<span style=\"font-weight: bold\">[</span><span style=\"color: #008080; text-decoration-color: #008080; font-weight: bold\">72</span><span style=\"font-weight: bold\">]</span>, <span style=\"color: #808000; text-decoration-color: #808000\">ptr</span>=<span style=\"font-weight: bold\">[</span><span style=\"color: #008080; text-decoration-color: #008080; font-weight: bold\">3</span><span style=\"font-weight: bold\">])</span>\n",
       "</pre>\n"
      ],
      "text/plain": [
       "\u001b[1;35mDataBatch\u001b[0m\u001b[1m(\u001b[0m\u001b[33medge_index\u001b[0m=\u001b[1m[\u001b[0m\u001b[1;36m2\u001b[0m, \u001b[1;36m14\u001b[0m\u001b[1m]\u001b[0m, \u001b[33midentifier\u001b[0m=\u001b[1m[\u001b[0m\u001b[1;36m2\u001b[0m\u001b[1m]\u001b[0m, \u001b[33mname\u001b[0m=\u001b[1m[\u001b[0m\u001b[1;36m2\u001b[0m\u001b[1m]\u001b[0m, \u001b[33mnamespace\u001b[0m=\u001b[1m[\u001b[0m\u001b[1;36m2\u001b[0m\u001b[1m]\u001b[0m, \u001b[33mrel_types\u001b[0m=\u001b[1m[\u001b[0m\u001b[1;36m2\u001b[0m\u001b[1m]\u001b[0m, \u001b[33montology\u001b[0m=\u001b[1m[\u001b[0m\u001b[1;36m2\u001b[0m\u001b[1m]\u001b[0m, \n",
       "\u001b[33mdata_version\u001b[0m=\u001b[1m[\u001b[0m\u001b[1;36m2\u001b[0m\u001b[1m]\u001b[0m, \u001b[33mgene\u001b[0m=\u001b[1m[\u001b[0m\u001b[1;36m2\u001b[0m\u001b[1m]\u001b[0m, \u001b[33mnum_nodes\u001b[0m=\u001b[1;36m72\u001b[0m, \u001b[33mbatch\u001b[0m=\u001b[1m[\u001b[0m\u001b[1;36m72\u001b[0m\u001b[1m]\u001b[0m, \u001b[33mptr\u001b[0m=\u001b[1m[\u001b[0m\u001b[1;36m3\u001b[0m\u001b[1m]\u001b[0m\u001b[1m)\u001b[0m\n"
      ]
     },
     "metadata": {},
     "output_type": "display_data"
    },
    {
     "data": {
      "text/html": [
       "<pre style=\"white-space:pre;overflow-x:auto;line-height:normal;font-family:Menlo,'DejaVu Sans Mono',consolas,'Courier New',monospace\"><span style=\"color: #800080; text-decoration-color: #800080; font-weight: bold\">DataBatch</span><span style=\"font-weight: bold\">(</span><span style=\"color: #808000; text-decoration-color: #808000\">edge_index</span>=<span style=\"font-weight: bold\">[</span><span style=\"color: #008080; text-decoration-color: #008080; font-weight: bold\">2</span>, <span style=\"color: #008080; text-decoration-color: #008080; font-weight: bold\">12</span><span style=\"font-weight: bold\">]</span>, <span style=\"color: #808000; text-decoration-color: #808000\">identifier</span>=<span style=\"font-weight: bold\">[</span><span style=\"color: #008080; text-decoration-color: #008080; font-weight: bold\">2</span><span style=\"font-weight: bold\">]</span>, <span style=\"color: #808000; text-decoration-color: #808000\">name</span>=<span style=\"font-weight: bold\">[</span><span style=\"color: #008080; text-decoration-color: #008080; font-weight: bold\">2</span><span style=\"font-weight: bold\">]</span>, <span style=\"color: #808000; text-decoration-color: #808000\">namespace</span>=<span style=\"font-weight: bold\">[</span><span style=\"color: #008080; text-decoration-color: #008080; font-weight: bold\">2</span><span style=\"font-weight: bold\">]</span>, <span style=\"color: #808000; text-decoration-color: #808000\">rel_types</span>=<span style=\"font-weight: bold\">[</span><span style=\"color: #008080; text-decoration-color: #008080; font-weight: bold\">2</span><span style=\"font-weight: bold\">]</span>, <span style=\"color: #808000; text-decoration-color: #808000\">ontology</span>=<span style=\"font-weight: bold\">[</span><span style=\"color: #008080; text-decoration-color: #008080; font-weight: bold\">2</span><span style=\"font-weight: bold\">]</span>, \n",
       "<span style=\"color: #808000; text-decoration-color: #808000\">data_version</span>=<span style=\"font-weight: bold\">[</span><span style=\"color: #008080; text-decoration-color: #008080; font-weight: bold\">2</span><span style=\"font-weight: bold\">]</span>, <span style=\"color: #808000; text-decoration-color: #808000\">gene</span>=<span style=\"font-weight: bold\">[</span><span style=\"color: #008080; text-decoration-color: #008080; font-weight: bold\">2</span><span style=\"font-weight: bold\">]</span>, <span style=\"color: #808000; text-decoration-color: #808000\">num_nodes</span>=<span style=\"color: #008080; text-decoration-color: #008080; font-weight: bold\">39</span>, <span style=\"color: #808000; text-decoration-color: #808000\">batch</span>=<span style=\"font-weight: bold\">[</span><span style=\"color: #008080; text-decoration-color: #008080; font-weight: bold\">39</span><span style=\"font-weight: bold\">]</span>, <span style=\"color: #808000; text-decoration-color: #808000\">ptr</span>=<span style=\"font-weight: bold\">[</span><span style=\"color: #008080; text-decoration-color: #008080; font-weight: bold\">3</span><span style=\"font-weight: bold\">])</span>\n",
       "</pre>\n"
      ],
      "text/plain": [
       "\u001b[1;35mDataBatch\u001b[0m\u001b[1m(\u001b[0m\u001b[33medge_index\u001b[0m=\u001b[1m[\u001b[0m\u001b[1;36m2\u001b[0m, \u001b[1;36m12\u001b[0m\u001b[1m]\u001b[0m, \u001b[33midentifier\u001b[0m=\u001b[1m[\u001b[0m\u001b[1;36m2\u001b[0m\u001b[1m]\u001b[0m, \u001b[33mname\u001b[0m=\u001b[1m[\u001b[0m\u001b[1;36m2\u001b[0m\u001b[1m]\u001b[0m, \u001b[33mnamespace\u001b[0m=\u001b[1m[\u001b[0m\u001b[1;36m2\u001b[0m\u001b[1m]\u001b[0m, \u001b[33mrel_types\u001b[0m=\u001b[1m[\u001b[0m\u001b[1;36m2\u001b[0m\u001b[1m]\u001b[0m, \u001b[33montology\u001b[0m=\u001b[1m[\u001b[0m\u001b[1;36m2\u001b[0m\u001b[1m]\u001b[0m, \n",
       "\u001b[33mdata_version\u001b[0m=\u001b[1m[\u001b[0m\u001b[1;36m2\u001b[0m\u001b[1m]\u001b[0m, \u001b[33mgene\u001b[0m=\u001b[1m[\u001b[0m\u001b[1;36m2\u001b[0m\u001b[1m]\u001b[0m, \u001b[33mnum_nodes\u001b[0m=\u001b[1;36m39\u001b[0m, \u001b[33mbatch\u001b[0m=\u001b[1m[\u001b[0m\u001b[1;36m39\u001b[0m\u001b[1m]\u001b[0m, \u001b[33mptr\u001b[0m=\u001b[1m[\u001b[0m\u001b[1;36m3\u001b[0m\u001b[1m]\u001b[0m\u001b[1m)\u001b[0m\n"
      ]
     },
     "metadata": {},
     "output_type": "display_data"
    },
    {
     "data": {
      "text/html": [
       "<pre style=\"white-space:pre;overflow-x:auto;line-height:normal;font-family:Menlo,'DejaVu Sans Mono',consolas,'Courier New',monospace\"><span style=\"color: #800080; text-decoration-color: #800080; font-weight: bold\">Data</span><span style=\"font-weight: bold\">(</span><span style=\"color: #808000; text-decoration-color: #808000\">edge_index</span>=<span style=\"font-weight: bold\">[</span><span style=\"color: #008080; text-decoration-color: #008080; font-weight: bold\">2</span>, <span style=\"color: #008080; text-decoration-color: #008080; font-weight: bold\">1</span><span style=\"font-weight: bold\">]</span>, <span style=\"color: #808000; text-decoration-color: #808000\">identifier</span>=<span style=\"font-weight: bold\">[</span><span style=\"color: #008080; text-decoration-color: #008080; font-weight: bold\">16</span><span style=\"font-weight: bold\">]</span>, <span style=\"color: #808000; text-decoration-color: #808000\">name</span>=<span style=\"font-weight: bold\">[</span><span style=\"color: #008080; text-decoration-color: #008080; font-weight: bold\">16</span><span style=\"font-weight: bold\">]</span>, <span style=\"color: #808000; text-decoration-color: #808000\">namespace</span>=<span style=\"font-weight: bold\">[</span><span style=\"color: #008080; text-decoration-color: #008080; font-weight: bold\">16</span><span style=\"font-weight: bold\">]</span>, <span style=\"color: #808000; text-decoration-color: #808000\">rel_types</span>=<span style=\"font-weight: bold\">[</span><span style=\"color: #008080; text-decoration-color: #008080; font-weight: bold\">1</span><span style=\"font-weight: bold\">]</span>, <span style=\"color: #808000; text-decoration-color: #808000\">ontology</span>=<span style=\"color: #008000; text-decoration-color: #008000\">'go'</span>, \n",
       "<span style=\"color: #808000; text-decoration-color: #808000\">data_version</span>=<span style=\"color: #008000; text-decoration-color: #008000\">'releases/2023-10-09'</span>, <span style=\"color: #808000; text-decoration-color: #808000\">gene</span>=<span style=\"color: #008000; text-decoration-color: #008000\">'LEO1'</span>, <span style=\"color: #808000; text-decoration-color: #808000\">num_nodes</span>=<span style=\"color: #008080; text-decoration-color: #008080; font-weight: bold\">16</span><span style=\"font-weight: bold\">)</span>\n",
       "</pre>\n"
      ],
      "text/plain": [
       "\u001b[1;35mData\u001b[0m\u001b[1m(\u001b[0m\u001b[33medge_index\u001b[0m=\u001b[1m[\u001b[0m\u001b[1;36m2\u001b[0m, \u001b[1;36m1\u001b[0m\u001b[1m]\u001b[0m, \u001b[33midentifier\u001b[0m=\u001b[1m[\u001b[0m\u001b[1;36m16\u001b[0m\u001b[1m]\u001b[0m, \u001b[33mname\u001b[0m=\u001b[1m[\u001b[0m\u001b[1;36m16\u001b[0m\u001b[1m]\u001b[0m, \u001b[33mnamespace\u001b[0m=\u001b[1m[\u001b[0m\u001b[1;36m16\u001b[0m\u001b[1m]\u001b[0m, \u001b[33mrel_types\u001b[0m=\u001b[1m[\u001b[0m\u001b[1;36m1\u001b[0m\u001b[1m]\u001b[0m, \u001b[33montology\u001b[0m=\u001b[32m'go'\u001b[0m, \n",
       "\u001b[33mdata_version\u001b[0m=\u001b[32m'releases/2023-10-09'\u001b[0m, \u001b[33mgene\u001b[0m=\u001b[32m'LEO1'\u001b[0m, \u001b[33mnum_nodes\u001b[0m=\u001b[1;36m16\u001b[0m\u001b[1m)\u001b[0m\n"
      ]
     },
     "metadata": {},
     "output_type": "display_data"
    },
    {
     "data": {
      "text/html": [
       "<pre style=\"white-space:pre;overflow-x:auto;line-height:normal;font-family:Menlo,'DejaVu Sans Mono',consolas,'Courier New',monospace\"><span style=\"color: #800000; text-decoration-color: #800000\">╭─────────────────────────────── </span><span style=\"color: #800000; text-decoration-color: #800000; font-weight: bold\">Traceback </span><span style=\"color: #bf7f7f; text-decoration-color: #bf7f7f; font-weight: bold\">(most recent call last)</span><span style=\"color: #800000; text-decoration-color: #800000\"> ────────────────────────────────╮</span>\n",
       "<span style=\"color: #800000; text-decoration-color: #800000\">│</span> in <span style=\"color: #00ff00; text-decoration-color: #00ff00\">&lt;module&gt;</span>:<span style=\"color: #0000ff; text-decoration-color: #0000ff\">14</span>                                                                                   <span style=\"color: #800000; text-decoration-color: #800000\">│</span>\n",
       "<span style=\"color: #800000; text-decoration-color: #800000\">│</span>                                                                                                  <span style=\"color: #800000; text-decoration-color: #800000\">│</span>\n",
       "<span style=\"color: #800000; text-decoration-color: #800000\">│</span>   <span style=\"color: #7f7f7f; text-decoration-color: #7f7f7f\">11 </span>criterion = torch.nn.BCEWithLogitsLoss()                                                    <span style=\"color: #800000; text-decoration-color: #800000\">│</span>\n",
       "<span style=\"color: #800000; text-decoration-color: #800000\">│</span>   <span style=\"color: #7f7f7f; text-decoration-color: #7f7f7f\">12 </span>                                                                                            <span style=\"color: #800000; text-decoration-color: #800000\">│</span>\n",
       "<span style=\"color: #800000; text-decoration-color: #800000\">│</span>   <span style=\"color: #7f7f7f; text-decoration-color: #7f7f7f\">13 # Train the model</span>                                                                           <span style=\"color: #800000; text-decoration-color: #800000\">│</span>\n",
       "<span style=\"color: #800000; text-decoration-color: #800000\">│</span> <span style=\"color: #800000; text-decoration-color: #800000\">❱ </span>14 train(model, train_loader, optimizer, criterion, epochs=<span style=\"color: #0000ff; text-decoration-color: #0000ff\">10</span>)                                 <span style=\"color: #800000; text-decoration-color: #800000\">│</span>\n",
       "<span style=\"color: #800000; text-decoration-color: #800000\">│</span>   <span style=\"color: #7f7f7f; text-decoration-color: #7f7f7f\">15 </span>                                                                                            <span style=\"color: #800000; text-decoration-color: #800000\">│</span>\n",
       "<span style=\"color: #800000; text-decoration-color: #800000\">│</span>   <span style=\"color: #7f7f7f; text-decoration-color: #7f7f7f\">16 # Evaluate the model</span>                                                                        <span style=\"color: #800000; text-decoration-color: #800000\">│</span>\n",
       "<span style=\"color: #800000; text-decoration-color: #800000\">│</span>   <span style=\"color: #7f7f7f; text-decoration-color: #7f7f7f\">17 </span>accuracy = evaluate(model, valid_loader)                                                    <span style=\"color: #800000; text-decoration-color: #800000\">│</span>\n",
       "<span style=\"color: #800000; text-decoration-color: #800000\">│</span>                                                                                                  <span style=\"color: #800000; text-decoration-color: #800000\">│</span>\n",
       "<span style=\"color: #800000; text-decoration-color: #800000\">│</span> in <span style=\"color: #00ff00; text-decoration-color: #00ff00\">train</span>:<span style=\"color: #0000ff; text-decoration-color: #0000ff\">10</span>                                                                                      <span style=\"color: #800000; text-decoration-color: #800000\">│</span>\n",
       "<span style=\"color: #800000; text-decoration-color: #800000\">│</span>                                                                                                  <span style=\"color: #800000; text-decoration-color: #800000\">│</span>\n",
       "<span style=\"color: #800000; text-decoration-color: #800000\">│</span>   <span style=\"color: #7f7f7f; text-decoration-color: #7f7f7f\"> 7 </span><span style=\"color: #7f7f7f; text-decoration-color: #7f7f7f\">│   │   </span><span style=\"color: #0000ff; text-decoration-color: #0000ff\">for</span> data1, data2, label <span style=\"color: #ff00ff; text-decoration-color: #ff00ff\">in</span> dataloader:                                              <span style=\"color: #800000; text-decoration-color: #800000\">│</span>\n",
       "<span style=\"color: #800000; text-decoration-color: #800000\">│</span>   <span style=\"color: #7f7f7f; text-decoration-color: #7f7f7f\"> 8 </span><span style=\"color: #7f7f7f; text-decoration-color: #7f7f7f\">│   │   │   </span><span style=\"color: #7f7f7f; text-decoration-color: #7f7f7f\"># print(data1, data1)</span>                                                           <span style=\"color: #800000; text-decoration-color: #800000\">│</span>\n",
       "<span style=\"color: #800000; text-decoration-color: #800000\">│</span>   <span style=\"color: #7f7f7f; text-decoration-color: #7f7f7f\"> 9 </span><span style=\"color: #7f7f7f; text-decoration-color: #7f7f7f\">│   │   │   </span>optimizer.zero_grad()                                                           <span style=\"color: #800000; text-decoration-color: #800000\">│</span>\n",
       "<span style=\"color: #800000; text-decoration-color: #800000\">│</span> <span style=\"color: #800000; text-decoration-color: #800000\">❱ </span>10 <span style=\"color: #7f7f7f; text-decoration-color: #7f7f7f\">│   │   │   </span>output = model(data1, data2)                                                    <span style=\"color: #800000; text-decoration-color: #800000\">│</span>\n",
       "<span style=\"color: #800000; text-decoration-color: #800000\">│</span>   <span style=\"color: #7f7f7f; text-decoration-color: #7f7f7f\">11 </span><span style=\"color: #7f7f7f; text-decoration-color: #7f7f7f\">│   │   │   </span>loss = criterion(output, label.unsqueeze(<span style=\"color: #0000ff; text-decoration-color: #0000ff\">1</span>))                                    <span style=\"color: #800000; text-decoration-color: #800000\">│</span>\n",
       "<span style=\"color: #800000; text-decoration-color: #800000\">│</span>   <span style=\"color: #7f7f7f; text-decoration-color: #7f7f7f\">12 </span><span style=\"color: #7f7f7f; text-decoration-color: #7f7f7f\">│   │   │   </span>loss.backward()                                                                 <span style=\"color: #800000; text-decoration-color: #800000\">│</span>\n",
       "<span style=\"color: #800000; text-decoration-color: #800000\">│</span>   <span style=\"color: #7f7f7f; text-decoration-color: #7f7f7f\">13 </span><span style=\"color: #7f7f7f; text-decoration-color: #7f7f7f\">│   │   │   </span>optimizer.step()                                                                <span style=\"color: #800000; text-decoration-color: #800000\">│</span>\n",
       "<span style=\"color: #800000; text-decoration-color: #800000\">│</span>                                                                                                  <span style=\"color: #800000; text-decoration-color: #800000\">│</span>\n",
       "<span style=\"color: #800000; text-decoration-color: #800000\">│</span> <span style=\"color: #bfbf7f; text-decoration-color: #bfbf7f\">/home/rahit/jupyter_py3/lib/python3.8/site-packages/torch/nn/modules/</span><span style=\"color: #808000; text-decoration-color: #808000; font-weight: bold\">module.py</span>:<span style=\"color: #0000ff; text-decoration-color: #0000ff\">1194</span> in           <span style=\"color: #800000; text-decoration-color: #800000\">│</span>\n",
       "<span style=\"color: #800000; text-decoration-color: #800000\">│</span> <span style=\"color: #00ff00; text-decoration-color: #00ff00\">_call_impl</span>                                                                                       <span style=\"color: #800000; text-decoration-color: #800000\">│</span>\n",
       "<span style=\"color: #800000; text-decoration-color: #800000\">│</span>                                                                                                  <span style=\"color: #800000; text-decoration-color: #800000\">│</span>\n",
       "<span style=\"color: #800000; text-decoration-color: #800000\">│</span>   <span style=\"color: #7f7f7f; text-decoration-color: #7f7f7f\">1191 </span><span style=\"color: #7f7f7f; text-decoration-color: #7f7f7f\">│   │   </span><span style=\"color: #7f7f7f; text-decoration-color: #7f7f7f\"># this function, and just call forward.</span>                                           <span style=\"color: #800000; text-decoration-color: #800000\">│</span>\n",
       "<span style=\"color: #800000; text-decoration-color: #800000\">│</span>   <span style=\"color: #7f7f7f; text-decoration-color: #7f7f7f\">1192 </span><span style=\"color: #7f7f7f; text-decoration-color: #7f7f7f\">│   │   </span><span style=\"color: #0000ff; text-decoration-color: #0000ff\">if</span> <span style=\"color: #ff00ff; text-decoration-color: #ff00ff\">not</span> (<span style=\"color: #00ffff; text-decoration-color: #00ffff\">self</span>._backward_hooks <span style=\"color: #ff00ff; text-decoration-color: #ff00ff\">or</span> <span style=\"color: #00ffff; text-decoration-color: #00ffff\">self</span>._forward_hooks <span style=\"color: #ff00ff; text-decoration-color: #ff00ff\">or</span> <span style=\"color: #00ffff; text-decoration-color: #00ffff\">self</span>._forward_pre_hooks <span style=\"color: #ff00ff; text-decoration-color: #ff00ff\">o</span>  <span style=\"color: #800000; text-decoration-color: #800000\">│</span>\n",
       "<span style=\"color: #800000; text-decoration-color: #800000\">│</span>   <span style=\"color: #7f7f7f; text-decoration-color: #7f7f7f\">1193 </span><span style=\"color: #7f7f7f; text-decoration-color: #7f7f7f\">│   │   │   │   </span><span style=\"color: #ff00ff; text-decoration-color: #ff00ff\">or</span> _global_forward_hooks <span style=\"color: #ff00ff; text-decoration-color: #ff00ff\">or</span> _global_forward_pre_hooks):                   <span style=\"color: #800000; text-decoration-color: #800000\">│</span>\n",
       "<span style=\"color: #800000; text-decoration-color: #800000\">│</span> <span style=\"color: #800000; text-decoration-color: #800000\">❱ </span>1194 <span style=\"color: #7f7f7f; text-decoration-color: #7f7f7f\">│   │   │   </span><span style=\"color: #0000ff; text-decoration-color: #0000ff\">return</span> forward_call(*<span style=\"color: #00ffff; text-decoration-color: #00ffff\">input</span>, **kwargs)                                         <span style=\"color: #800000; text-decoration-color: #800000\">│</span>\n",
       "<span style=\"color: #800000; text-decoration-color: #800000\">│</span>   <span style=\"color: #7f7f7f; text-decoration-color: #7f7f7f\">1195 </span><span style=\"color: #7f7f7f; text-decoration-color: #7f7f7f\">│   │   </span><span style=\"color: #7f7f7f; text-decoration-color: #7f7f7f\"># Do not call functions when jit is used</span>                                          <span style=\"color: #800000; text-decoration-color: #800000\">│</span>\n",
       "<span style=\"color: #800000; text-decoration-color: #800000\">│</span>   <span style=\"color: #7f7f7f; text-decoration-color: #7f7f7f\">1196 </span><span style=\"color: #7f7f7f; text-decoration-color: #7f7f7f\">│   │   </span>full_backward_hooks, non_full_backward_hooks = [], []                             <span style=\"color: #800000; text-decoration-color: #800000\">│</span>\n",
       "<span style=\"color: #800000; text-decoration-color: #800000\">│</span>   <span style=\"color: #7f7f7f; text-decoration-color: #7f7f7f\">1197 </span><span style=\"color: #7f7f7f; text-decoration-color: #7f7f7f\">│   │   </span><span style=\"color: #0000ff; text-decoration-color: #0000ff\">if</span> <span style=\"color: #00ffff; text-decoration-color: #00ffff\">self</span>._backward_hooks <span style=\"color: #ff00ff; text-decoration-color: #ff00ff\">or</span> _global_backward_hooks:                                <span style=\"color: #800000; text-decoration-color: #800000\">│</span>\n",
       "<span style=\"color: #800000; text-decoration-color: #800000\">│</span>                                                                                                  <span style=\"color: #800000; text-decoration-color: #800000\">│</span>\n",
       "<span style=\"color: #800000; text-decoration-color: #800000\">│</span> in <span style=\"color: #00ff00; text-decoration-color: #00ff00\">forward</span>:<span style=\"color: #0000ff; text-decoration-color: #0000ff\">28</span>                                                                                    <span style=\"color: #800000; text-decoration-color: #800000\">│</span>\n",
       "<span style=\"color: #800000; text-decoration-color: #800000\">│</span>                                                                                                  <span style=\"color: #800000; text-decoration-color: #800000\">│</span>\n",
       "<span style=\"color: #800000; text-decoration-color: #800000\">│</span>   <span style=\"color: #7f7f7f; text-decoration-color: #7f7f7f\">25 </span><span style=\"color: #7f7f7f; text-decoration-color: #7f7f7f\">│   │   </span><span style=\"color: #00ffff; text-decoration-color: #00ffff\">print</span>(data1)                                                                        <span style=\"color: #800000; text-decoration-color: #800000\">│</span>\n",
       "<span style=\"color: #800000; text-decoration-color: #800000\">│</span>   <span style=\"color: #7f7f7f; text-decoration-color: #7f7f7f\">26 </span><span style=\"color: #7f7f7f; text-decoration-color: #7f7f7f\">│   │   </span><span style=\"color: #00ffff; text-decoration-color: #00ffff\">print</span>(data2)                                                                        <span style=\"color: #800000; text-decoration-color: #800000\">│</span>\n",
       "<span style=\"color: #800000; text-decoration-color: #800000\">│</span>   <span style=\"color: #7f7f7f; text-decoration-color: #7f7f7f\">27 </span><span style=\"color: #7f7f7f; text-decoration-color: #7f7f7f\">│   │   </span><span style=\"color: #7f7f7f; text-decoration-color: #7f7f7f\"># Process each subgraph through the GNN</span>                                             <span style=\"color: #800000; text-decoration-color: #800000\">│</span>\n",
       "<span style=\"color: #800000; text-decoration-color: #800000\">│</span> <span style=\"color: #800000; text-decoration-color: #800000\">❱ </span>28 <span style=\"color: #7f7f7f; text-decoration-color: #7f7f7f\">│   │   </span>embedding1 = <span style=\"color: #00ffff; text-decoration-color: #00ffff\">self</span>.gnn(data1)                                                        <span style=\"color: #800000; text-decoration-color: #800000\">│</span>\n",
       "<span style=\"color: #800000; text-decoration-color: #800000\">│</span>   <span style=\"color: #7f7f7f; text-decoration-color: #7f7f7f\">29 </span><span style=\"color: #7f7f7f; text-decoration-color: #7f7f7f\">│   │   </span>embedding2 = <span style=\"color: #00ffff; text-decoration-color: #00ffff\">self</span>.gnn(data2)                                                        <span style=\"color: #800000; text-decoration-color: #800000\">│</span>\n",
       "<span style=\"color: #800000; text-decoration-color: #800000\">│</span>   <span style=\"color: #7f7f7f; text-decoration-color: #7f7f7f\">30 </span><span style=\"color: #7f7f7f; text-decoration-color: #7f7f7f\">│   │   </span>                                                                                    <span style=\"color: #800000; text-decoration-color: #800000\">│</span>\n",
       "<span style=\"color: #800000; text-decoration-color: #800000\">│</span>   <span style=\"color: #7f7f7f; text-decoration-color: #7f7f7f\">31 </span><span style=\"color: #7f7f7f; text-decoration-color: #7f7f7f\">│   │   </span><span style=\"color: #7f7f7f; text-decoration-color: #7f7f7f\"># Combine embeddings (e.g., concatenation, subtraction, etc.)</span>                       <span style=\"color: #800000; text-decoration-color: #800000\">│</span>\n",
       "<span style=\"color: #800000; text-decoration-color: #800000\">│</span>                                                                                                  <span style=\"color: #800000; text-decoration-color: #800000\">│</span>\n",
       "<span style=\"color: #800000; text-decoration-color: #800000\">│</span> <span style=\"color: #bfbf7f; text-decoration-color: #bfbf7f\">/home/rahit/jupyter_py3/lib/python3.8/site-packages/torch/nn/modules/</span><span style=\"color: #808000; text-decoration-color: #808000; font-weight: bold\">module.py</span>:<span style=\"color: #0000ff; text-decoration-color: #0000ff\">1194</span> in           <span style=\"color: #800000; text-decoration-color: #800000\">│</span>\n",
       "<span style=\"color: #800000; text-decoration-color: #800000\">│</span> <span style=\"color: #00ff00; text-decoration-color: #00ff00\">_call_impl</span>                                                                                       <span style=\"color: #800000; text-decoration-color: #800000\">│</span>\n",
       "<span style=\"color: #800000; text-decoration-color: #800000\">│</span>                                                                                                  <span style=\"color: #800000; text-decoration-color: #800000\">│</span>\n",
       "<span style=\"color: #800000; text-decoration-color: #800000\">│</span>   <span style=\"color: #7f7f7f; text-decoration-color: #7f7f7f\">1191 </span><span style=\"color: #7f7f7f; text-decoration-color: #7f7f7f\">│   │   </span><span style=\"color: #7f7f7f; text-decoration-color: #7f7f7f\"># this function, and just call forward.</span>                                           <span style=\"color: #800000; text-decoration-color: #800000\">│</span>\n",
       "<span style=\"color: #800000; text-decoration-color: #800000\">│</span>   <span style=\"color: #7f7f7f; text-decoration-color: #7f7f7f\">1192 </span><span style=\"color: #7f7f7f; text-decoration-color: #7f7f7f\">│   │   </span><span style=\"color: #0000ff; text-decoration-color: #0000ff\">if</span> <span style=\"color: #ff00ff; text-decoration-color: #ff00ff\">not</span> (<span style=\"color: #00ffff; text-decoration-color: #00ffff\">self</span>._backward_hooks <span style=\"color: #ff00ff; text-decoration-color: #ff00ff\">or</span> <span style=\"color: #00ffff; text-decoration-color: #00ffff\">self</span>._forward_hooks <span style=\"color: #ff00ff; text-decoration-color: #ff00ff\">or</span> <span style=\"color: #00ffff; text-decoration-color: #00ffff\">self</span>._forward_pre_hooks <span style=\"color: #ff00ff; text-decoration-color: #ff00ff\">o</span>  <span style=\"color: #800000; text-decoration-color: #800000\">│</span>\n",
       "<span style=\"color: #800000; text-decoration-color: #800000\">│</span>   <span style=\"color: #7f7f7f; text-decoration-color: #7f7f7f\">1193 </span><span style=\"color: #7f7f7f; text-decoration-color: #7f7f7f\">│   │   │   │   </span><span style=\"color: #ff00ff; text-decoration-color: #ff00ff\">or</span> _global_forward_hooks <span style=\"color: #ff00ff; text-decoration-color: #ff00ff\">or</span> _global_forward_pre_hooks):                   <span style=\"color: #800000; text-decoration-color: #800000\">│</span>\n",
       "<span style=\"color: #800000; text-decoration-color: #800000\">│</span> <span style=\"color: #800000; text-decoration-color: #800000\">❱ </span>1194 <span style=\"color: #7f7f7f; text-decoration-color: #7f7f7f\">│   │   │   </span><span style=\"color: #0000ff; text-decoration-color: #0000ff\">return</span> forward_call(*<span style=\"color: #00ffff; text-decoration-color: #00ffff\">input</span>, **kwargs)                                         <span style=\"color: #800000; text-decoration-color: #800000\">│</span>\n",
       "<span style=\"color: #800000; text-decoration-color: #800000\">│</span>   <span style=\"color: #7f7f7f; text-decoration-color: #7f7f7f\">1195 </span><span style=\"color: #7f7f7f; text-decoration-color: #7f7f7f\">│   │   </span><span style=\"color: #7f7f7f; text-decoration-color: #7f7f7f\"># Do not call functions when jit is used</span>                                          <span style=\"color: #800000; text-decoration-color: #800000\">│</span>\n",
       "<span style=\"color: #800000; text-decoration-color: #800000\">│</span>   <span style=\"color: #7f7f7f; text-decoration-color: #7f7f7f\">1196 </span><span style=\"color: #7f7f7f; text-decoration-color: #7f7f7f\">│   │   </span>full_backward_hooks, non_full_backward_hooks = [], []                             <span style=\"color: #800000; text-decoration-color: #800000\">│</span>\n",
       "<span style=\"color: #800000; text-decoration-color: #800000\">│</span>   <span style=\"color: #7f7f7f; text-decoration-color: #7f7f7f\">1197 </span><span style=\"color: #7f7f7f; text-decoration-color: #7f7f7f\">│   │   </span><span style=\"color: #0000ff; text-decoration-color: #0000ff\">if</span> <span style=\"color: #00ffff; text-decoration-color: #00ffff\">self</span>._backward_hooks <span style=\"color: #ff00ff; text-decoration-color: #ff00ff\">or</span> _global_backward_hooks:                                <span style=\"color: #800000; text-decoration-color: #800000\">│</span>\n",
       "<span style=\"color: #800000; text-decoration-color: #800000\">│</span>                                                                                                  <span style=\"color: #800000; text-decoration-color: #800000\">│</span>\n",
       "<span style=\"color: #800000; text-decoration-color: #800000\">│</span> in <span style=\"color: #00ff00; text-decoration-color: #00ff00\">forward</span>:<span style=\"color: #0000ff; text-decoration-color: #0000ff\">14</span>                                                                                    <span style=\"color: #800000; text-decoration-color: #800000\">│</span>\n",
       "<span style=\"color: #800000; text-decoration-color: #800000\">│</span>                                                                                                  <span style=\"color: #800000; text-decoration-color: #800000\">│</span>\n",
       "<span style=\"color: #800000; text-decoration-color: #800000\">│</span>   <span style=\"color: #7f7f7f; text-decoration-color: #7f7f7f\">11 </span><span style=\"color: #7f7f7f; text-decoration-color: #7f7f7f\">│   </span><span style=\"color: #0000ff; text-decoration-color: #0000ff\">def</span> <span style=\"color: #00ff00; text-decoration-color: #00ff00\">forward</span>(<span style=\"color: #00ffff; text-decoration-color: #00ffff\">self</span>, data):                                                                <span style=\"color: #800000; text-decoration-color: #800000\">│</span>\n",
       "<span style=\"color: #800000; text-decoration-color: #800000\">│</span>   <span style=\"color: #7f7f7f; text-decoration-color: #7f7f7f\">12 </span><span style=\"color: #7f7f7f; text-decoration-color: #7f7f7f\">│   │   </span>x, edge_index = data.x, data.edge_index                                             <span style=\"color: #800000; text-decoration-color: #800000\">│</span>\n",
       "<span style=\"color: #800000; text-decoration-color: #800000\">│</span>   <span style=\"color: #7f7f7f; text-decoration-color: #7f7f7f\">13 </span><span style=\"color: #7f7f7f; text-decoration-color: #7f7f7f\">│   │   </span><span style=\"color: #00ffff; text-decoration-color: #00ffff\">print</span>(data[<span style=\"color: #0000ff; text-decoration-color: #0000ff\">0</span>])                                                                      <span style=\"color: #800000; text-decoration-color: #800000\">│</span>\n",
       "<span style=\"color: #800000; text-decoration-color: #800000\">│</span> <span style=\"color: #800000; text-decoration-color: #800000\">❱ </span>14 <span style=\"color: #7f7f7f; text-decoration-color: #7f7f7f\">│   │   </span>x = <span style=\"color: #00ffff; text-decoration-color: #00ffff\">self</span>.conv1(x, edge_index)                                                       <span style=\"color: #800000; text-decoration-color: #800000\">│</span>\n",
       "<span style=\"color: #800000; text-decoration-color: #800000\">│</span>   <span style=\"color: #7f7f7f; text-decoration-color: #7f7f7f\">15 </span><span style=\"color: #7f7f7f; text-decoration-color: #7f7f7f\">│   │   </span>x = ReLU()(x)                                                                       <span style=\"color: #800000; text-decoration-color: #800000\">│</span>\n",
       "<span style=\"color: #800000; text-decoration-color: #800000\">│</span>   <span style=\"color: #7f7f7f; text-decoration-color: #7f7f7f\">16 </span><span style=\"color: #7f7f7f; text-decoration-color: #7f7f7f\">│   │   </span>x = <span style=\"color: #00ffff; text-decoration-color: #00ffff\">self</span>.conv2(x, edge_index)                                                       <span style=\"color: #800000; text-decoration-color: #800000\">│</span>\n",
       "<span style=\"color: #800000; text-decoration-color: #800000\">│</span>   <span style=\"color: #7f7f7f; text-decoration-color: #7f7f7f\">17 </span><span style=\"color: #7f7f7f; text-decoration-color: #7f7f7f\">│   │   </span><span style=\"color: #0000ff; text-decoration-color: #0000ff\">return</span> x                                                                            <span style=\"color: #800000; text-decoration-color: #800000\">│</span>\n",
       "<span style=\"color: #800000; text-decoration-color: #800000\">│</span>                                                                                                  <span style=\"color: #800000; text-decoration-color: #800000\">│</span>\n",
       "<span style=\"color: #800000; text-decoration-color: #800000\">│</span> <span style=\"color: #bfbf7f; text-decoration-color: #bfbf7f\">/home/rahit/jupyter_py3/lib/python3.8/site-packages/torch/nn/modules/</span><span style=\"color: #808000; text-decoration-color: #808000; font-weight: bold\">module.py</span>:<span style=\"color: #0000ff; text-decoration-color: #0000ff\">1194</span> in           <span style=\"color: #800000; text-decoration-color: #800000\">│</span>\n",
       "<span style=\"color: #800000; text-decoration-color: #800000\">│</span> <span style=\"color: #00ff00; text-decoration-color: #00ff00\">_call_impl</span>                                                                                       <span style=\"color: #800000; text-decoration-color: #800000\">│</span>\n",
       "<span style=\"color: #800000; text-decoration-color: #800000\">│</span>                                                                                                  <span style=\"color: #800000; text-decoration-color: #800000\">│</span>\n",
       "<span style=\"color: #800000; text-decoration-color: #800000\">│</span>   <span style=\"color: #7f7f7f; text-decoration-color: #7f7f7f\">1191 </span><span style=\"color: #7f7f7f; text-decoration-color: #7f7f7f\">│   │   </span><span style=\"color: #7f7f7f; text-decoration-color: #7f7f7f\"># this function, and just call forward.</span>                                           <span style=\"color: #800000; text-decoration-color: #800000\">│</span>\n",
       "<span style=\"color: #800000; text-decoration-color: #800000\">│</span>   <span style=\"color: #7f7f7f; text-decoration-color: #7f7f7f\">1192 </span><span style=\"color: #7f7f7f; text-decoration-color: #7f7f7f\">│   │   </span><span style=\"color: #0000ff; text-decoration-color: #0000ff\">if</span> <span style=\"color: #ff00ff; text-decoration-color: #ff00ff\">not</span> (<span style=\"color: #00ffff; text-decoration-color: #00ffff\">self</span>._backward_hooks <span style=\"color: #ff00ff; text-decoration-color: #ff00ff\">or</span> <span style=\"color: #00ffff; text-decoration-color: #00ffff\">self</span>._forward_hooks <span style=\"color: #ff00ff; text-decoration-color: #ff00ff\">or</span> <span style=\"color: #00ffff; text-decoration-color: #00ffff\">self</span>._forward_pre_hooks <span style=\"color: #ff00ff; text-decoration-color: #ff00ff\">o</span>  <span style=\"color: #800000; text-decoration-color: #800000\">│</span>\n",
       "<span style=\"color: #800000; text-decoration-color: #800000\">│</span>   <span style=\"color: #7f7f7f; text-decoration-color: #7f7f7f\">1193 </span><span style=\"color: #7f7f7f; text-decoration-color: #7f7f7f\">│   │   │   │   </span><span style=\"color: #ff00ff; text-decoration-color: #ff00ff\">or</span> _global_forward_hooks <span style=\"color: #ff00ff; text-decoration-color: #ff00ff\">or</span> _global_forward_pre_hooks):                   <span style=\"color: #800000; text-decoration-color: #800000\">│</span>\n",
       "<span style=\"color: #800000; text-decoration-color: #800000\">│</span> <span style=\"color: #800000; text-decoration-color: #800000\">❱ </span>1194 <span style=\"color: #7f7f7f; text-decoration-color: #7f7f7f\">│   │   │   </span><span style=\"color: #0000ff; text-decoration-color: #0000ff\">return</span> forward_call(*<span style=\"color: #00ffff; text-decoration-color: #00ffff\">input</span>, **kwargs)                                         <span style=\"color: #800000; text-decoration-color: #800000\">│</span>\n",
       "<span style=\"color: #800000; text-decoration-color: #800000\">│</span>   <span style=\"color: #7f7f7f; text-decoration-color: #7f7f7f\">1195 </span><span style=\"color: #7f7f7f; text-decoration-color: #7f7f7f\">│   │   </span><span style=\"color: #7f7f7f; text-decoration-color: #7f7f7f\"># Do not call functions when jit is used</span>                                          <span style=\"color: #800000; text-decoration-color: #800000\">│</span>\n",
       "<span style=\"color: #800000; text-decoration-color: #800000\">│</span>   <span style=\"color: #7f7f7f; text-decoration-color: #7f7f7f\">1196 </span><span style=\"color: #7f7f7f; text-decoration-color: #7f7f7f\">│   │   </span>full_backward_hooks, non_full_backward_hooks = [], []                             <span style=\"color: #800000; text-decoration-color: #800000\">│</span>\n",
       "<span style=\"color: #800000; text-decoration-color: #800000\">│</span>   <span style=\"color: #7f7f7f; text-decoration-color: #7f7f7f\">1197 </span><span style=\"color: #7f7f7f; text-decoration-color: #7f7f7f\">│   │   </span><span style=\"color: #0000ff; text-decoration-color: #0000ff\">if</span> <span style=\"color: #00ffff; text-decoration-color: #00ffff\">self</span>._backward_hooks <span style=\"color: #ff00ff; text-decoration-color: #ff00ff\">or</span> _global_backward_hooks:                                <span style=\"color: #800000; text-decoration-color: #800000\">│</span>\n",
       "<span style=\"color: #800000; text-decoration-color: #800000\">│</span>                                                                                                  <span style=\"color: #800000; text-decoration-color: #800000\">│</span>\n",
       "<span style=\"color: #800000; text-decoration-color: #800000\">│</span> <span style=\"color: #bfbf7f; text-decoration-color: #bfbf7f\">/home/rahit/jupyter_py3/lib/python3.8/site-packages/torch_geometric/nn/conv/</span><span style=\"color: #808000; text-decoration-color: #808000; font-weight: bold\">gcn_conv.py</span>:<span style=\"color: #0000ff; text-decoration-color: #0000ff\">177</span> in   <span style=\"color: #800000; text-decoration-color: #800000\">│</span>\n",
       "<span style=\"color: #800000; text-decoration-color: #800000\">│</span> <span style=\"color: #00ff00; text-decoration-color: #00ff00\">forward</span>                                                                                          <span style=\"color: #800000; text-decoration-color: #800000\">│</span>\n",
       "<span style=\"color: #800000; text-decoration-color: #800000\">│</span>                                                                                                  <span style=\"color: #800000; text-decoration-color: #800000\">│</span>\n",
       "<span style=\"color: #800000; text-decoration-color: #800000\">│</span>   <span style=\"color: #7f7f7f; text-decoration-color: #7f7f7f\">174 </span><span style=\"color: #7f7f7f; text-decoration-color: #7f7f7f\">│   │   │   │   </span>cache = <span style=\"color: #00ffff; text-decoration-color: #00ffff\">self</span>._cached_edge_index                                            <span style=\"color: #800000; text-decoration-color: #800000\">│</span>\n",
       "<span style=\"color: #800000; text-decoration-color: #800000\">│</span>   <span style=\"color: #7f7f7f; text-decoration-color: #7f7f7f\">175 </span><span style=\"color: #7f7f7f; text-decoration-color: #7f7f7f\">│   │   │   │   </span><span style=\"color: #0000ff; text-decoration-color: #0000ff\">if</span> cache <span style=\"color: #ff00ff; text-decoration-color: #ff00ff\">is</span> <span style=\"color: #0000ff; text-decoration-color: #0000ff\">None</span>:                                                          <span style=\"color: #800000; text-decoration-color: #800000\">│</span>\n",
       "<span style=\"color: #800000; text-decoration-color: #800000\">│</span>   <span style=\"color: #7f7f7f; text-decoration-color: #7f7f7f\">176 </span><span style=\"color: #7f7f7f; text-decoration-color: #7f7f7f\">│   │   │   │   │   </span>edge_index, edge_weight = gcn_norm(  <span style=\"color: #7f7f7f; text-decoration-color: #7f7f7f\"># yapf: disable</span>                   <span style=\"color: #800000; text-decoration-color: #800000\">│</span>\n",
       "<span style=\"color: #800000; text-decoration-color: #800000\">│</span> <span style=\"color: #800000; text-decoration-color: #800000\">❱ </span>177 <span style=\"color: #7f7f7f; text-decoration-color: #7f7f7f\">│   │   │   │   │   │   </span>edge_index, edge_weight, x.size(<span style=\"color: #00ffff; text-decoration-color: #00ffff\">self</span>.node_dim),                    <span style=\"color: #800000; text-decoration-color: #800000\">│</span>\n",
       "<span style=\"color: #800000; text-decoration-color: #800000\">│</span>   <span style=\"color: #7f7f7f; text-decoration-color: #7f7f7f\">178 </span><span style=\"color: #7f7f7f; text-decoration-color: #7f7f7f\">│   │   │   │   │   │   </span><span style=\"color: #00ffff; text-decoration-color: #00ffff\">self</span>.improved, <span style=\"color: #00ffff; text-decoration-color: #00ffff\">self</span>.add_self_loops, <span style=\"color: #00ffff; text-decoration-color: #00ffff\">self</span>.flow, x.dtype)            <span style=\"color: #800000; text-decoration-color: #800000\">│</span>\n",
       "<span style=\"color: #800000; text-decoration-color: #800000\">│</span>   <span style=\"color: #7f7f7f; text-decoration-color: #7f7f7f\">179 </span><span style=\"color: #7f7f7f; text-decoration-color: #7f7f7f\">│   │   │   │   │   </span><span style=\"color: #0000ff; text-decoration-color: #0000ff\">if</span> <span style=\"color: #00ffff; text-decoration-color: #00ffff\">self</span>.cached:                                                        <span style=\"color: #800000; text-decoration-color: #800000\">│</span>\n",
       "<span style=\"color: #800000; text-decoration-color: #800000\">│</span>   <span style=\"color: #7f7f7f; text-decoration-color: #7f7f7f\">180 </span><span style=\"color: #7f7f7f; text-decoration-color: #7f7f7f\">│   │   │   │   │   │   </span><span style=\"color: #00ffff; text-decoration-color: #00ffff\">self</span>._cached_edge_index = (edge_index, edge_weight)                <span style=\"color: #800000; text-decoration-color: #800000\">│</span>\n",
       "<span style=\"color: #800000; text-decoration-color: #800000\">╰──────────────────────────────────────────────────────────────────────────────────────────────────╯</span>\n",
       "<span style=\"color: #ff0000; text-decoration-color: #ff0000; font-weight: bold\">AttributeError: </span><span style=\"color: #008000; text-decoration-color: #008000\">'NoneType'</span> object has no attribute <span style=\"color: #008000; text-decoration-color: #008000\">'size'</span>\n",
       "</pre>\n"
      ],
      "text/plain": [
       "\u001b[31m╭─\u001b[0m\u001b[31m──────────────────────────────\u001b[0m\u001b[31m \u001b[0m\u001b[1;31mTraceback \u001b[0m\u001b[1;2;31m(most recent call last)\u001b[0m\u001b[31m \u001b[0m\u001b[31m───────────────────────────────\u001b[0m\u001b[31m─╮\u001b[0m\n",
       "\u001b[31m│\u001b[0m in \u001b[92m<module>\u001b[0m:\u001b[94m14\u001b[0m                                                                                   \u001b[31m│\u001b[0m\n",
       "\u001b[31m│\u001b[0m                                                                                                  \u001b[31m│\u001b[0m\n",
       "\u001b[31m│\u001b[0m   \u001b[2m11 \u001b[0mcriterion = torch.nn.BCEWithLogitsLoss()                                                    \u001b[31m│\u001b[0m\n",
       "\u001b[31m│\u001b[0m   \u001b[2m12 \u001b[0m                                                                                            \u001b[31m│\u001b[0m\n",
       "\u001b[31m│\u001b[0m   \u001b[2m13 \u001b[0m\u001b[2m# Train the model\u001b[0m                                                                           \u001b[31m│\u001b[0m\n",
       "\u001b[31m│\u001b[0m \u001b[31m❱ \u001b[0m14 train(model, train_loader, optimizer, criterion, epochs=\u001b[94m10\u001b[0m)                                 \u001b[31m│\u001b[0m\n",
       "\u001b[31m│\u001b[0m   \u001b[2m15 \u001b[0m                                                                                            \u001b[31m│\u001b[0m\n",
       "\u001b[31m│\u001b[0m   \u001b[2m16 \u001b[0m\u001b[2m# Evaluate the model\u001b[0m                                                                        \u001b[31m│\u001b[0m\n",
       "\u001b[31m│\u001b[0m   \u001b[2m17 \u001b[0maccuracy = evaluate(model, valid_loader)                                                    \u001b[31m│\u001b[0m\n",
       "\u001b[31m│\u001b[0m                                                                                                  \u001b[31m│\u001b[0m\n",
       "\u001b[31m│\u001b[0m in \u001b[92mtrain\u001b[0m:\u001b[94m10\u001b[0m                                                                                      \u001b[31m│\u001b[0m\n",
       "\u001b[31m│\u001b[0m                                                                                                  \u001b[31m│\u001b[0m\n",
       "\u001b[31m│\u001b[0m   \u001b[2m 7 \u001b[0m\u001b[2m│   │   \u001b[0m\u001b[94mfor\u001b[0m data1, data2, label \u001b[95min\u001b[0m dataloader:                                              \u001b[31m│\u001b[0m\n",
       "\u001b[31m│\u001b[0m   \u001b[2m 8 \u001b[0m\u001b[2m│   │   │   \u001b[0m\u001b[2m# print(data1, data1)\u001b[0m                                                           \u001b[31m│\u001b[0m\n",
       "\u001b[31m│\u001b[0m   \u001b[2m 9 \u001b[0m\u001b[2m│   │   │   \u001b[0moptimizer.zero_grad()                                                           \u001b[31m│\u001b[0m\n",
       "\u001b[31m│\u001b[0m \u001b[31m❱ \u001b[0m10 \u001b[2m│   │   │   \u001b[0moutput = model(data1, data2)                                                    \u001b[31m│\u001b[0m\n",
       "\u001b[31m│\u001b[0m   \u001b[2m11 \u001b[0m\u001b[2m│   │   │   \u001b[0mloss = criterion(output, label.unsqueeze(\u001b[94m1\u001b[0m))                                    \u001b[31m│\u001b[0m\n",
       "\u001b[31m│\u001b[0m   \u001b[2m12 \u001b[0m\u001b[2m│   │   │   \u001b[0mloss.backward()                                                                 \u001b[31m│\u001b[0m\n",
       "\u001b[31m│\u001b[0m   \u001b[2m13 \u001b[0m\u001b[2m│   │   │   \u001b[0moptimizer.step()                                                                \u001b[31m│\u001b[0m\n",
       "\u001b[31m│\u001b[0m                                                                                                  \u001b[31m│\u001b[0m\n",
       "\u001b[31m│\u001b[0m \u001b[2;33m/home/rahit/jupyter_py3/lib/python3.8/site-packages/torch/nn/modules/\u001b[0m\u001b[1;33mmodule.py\u001b[0m:\u001b[94m1194\u001b[0m in           \u001b[31m│\u001b[0m\n",
       "\u001b[31m│\u001b[0m \u001b[92m_call_impl\u001b[0m                                                                                       \u001b[31m│\u001b[0m\n",
       "\u001b[31m│\u001b[0m                                                                                                  \u001b[31m│\u001b[0m\n",
       "\u001b[31m│\u001b[0m   \u001b[2m1191 \u001b[0m\u001b[2m│   │   \u001b[0m\u001b[2m# this function, and just call forward.\u001b[0m                                           \u001b[31m│\u001b[0m\n",
       "\u001b[31m│\u001b[0m   \u001b[2m1192 \u001b[0m\u001b[2m│   │   \u001b[0m\u001b[94mif\u001b[0m \u001b[95mnot\u001b[0m (\u001b[96mself\u001b[0m._backward_hooks \u001b[95mor\u001b[0m \u001b[96mself\u001b[0m._forward_hooks \u001b[95mor\u001b[0m \u001b[96mself\u001b[0m._forward_pre_hooks \u001b[95mo\u001b[0m  \u001b[31m│\u001b[0m\n",
       "\u001b[31m│\u001b[0m   \u001b[2m1193 \u001b[0m\u001b[2m│   │   │   │   \u001b[0m\u001b[95mor\u001b[0m _global_forward_hooks \u001b[95mor\u001b[0m _global_forward_pre_hooks):                   \u001b[31m│\u001b[0m\n",
       "\u001b[31m│\u001b[0m \u001b[31m❱ \u001b[0m1194 \u001b[2m│   │   │   \u001b[0m\u001b[94mreturn\u001b[0m forward_call(*\u001b[96minput\u001b[0m, **kwargs)                                         \u001b[31m│\u001b[0m\n",
       "\u001b[31m│\u001b[0m   \u001b[2m1195 \u001b[0m\u001b[2m│   │   \u001b[0m\u001b[2m# Do not call functions when jit is used\u001b[0m                                          \u001b[31m│\u001b[0m\n",
       "\u001b[31m│\u001b[0m   \u001b[2m1196 \u001b[0m\u001b[2m│   │   \u001b[0mfull_backward_hooks, non_full_backward_hooks = [], []                             \u001b[31m│\u001b[0m\n",
       "\u001b[31m│\u001b[0m   \u001b[2m1197 \u001b[0m\u001b[2m│   │   \u001b[0m\u001b[94mif\u001b[0m \u001b[96mself\u001b[0m._backward_hooks \u001b[95mor\u001b[0m _global_backward_hooks:                                \u001b[31m│\u001b[0m\n",
       "\u001b[31m│\u001b[0m                                                                                                  \u001b[31m│\u001b[0m\n",
       "\u001b[31m│\u001b[0m in \u001b[92mforward\u001b[0m:\u001b[94m28\u001b[0m                                                                                    \u001b[31m│\u001b[0m\n",
       "\u001b[31m│\u001b[0m                                                                                                  \u001b[31m│\u001b[0m\n",
       "\u001b[31m│\u001b[0m   \u001b[2m25 \u001b[0m\u001b[2m│   │   \u001b[0m\u001b[96mprint\u001b[0m(data1)                                                                        \u001b[31m│\u001b[0m\n",
       "\u001b[31m│\u001b[0m   \u001b[2m26 \u001b[0m\u001b[2m│   │   \u001b[0m\u001b[96mprint\u001b[0m(data2)                                                                        \u001b[31m│\u001b[0m\n",
       "\u001b[31m│\u001b[0m   \u001b[2m27 \u001b[0m\u001b[2m│   │   \u001b[0m\u001b[2m# Process each subgraph through the GNN\u001b[0m                                             \u001b[31m│\u001b[0m\n",
       "\u001b[31m│\u001b[0m \u001b[31m❱ \u001b[0m28 \u001b[2m│   │   \u001b[0membedding1 = \u001b[96mself\u001b[0m.gnn(data1)                                                        \u001b[31m│\u001b[0m\n",
       "\u001b[31m│\u001b[0m   \u001b[2m29 \u001b[0m\u001b[2m│   │   \u001b[0membedding2 = \u001b[96mself\u001b[0m.gnn(data2)                                                        \u001b[31m│\u001b[0m\n",
       "\u001b[31m│\u001b[0m   \u001b[2m30 \u001b[0m\u001b[2m│   │   \u001b[0m                                                                                    \u001b[31m│\u001b[0m\n",
       "\u001b[31m│\u001b[0m   \u001b[2m31 \u001b[0m\u001b[2m│   │   \u001b[0m\u001b[2m# Combine embeddings (e.g., concatenation, subtraction, etc.)\u001b[0m                       \u001b[31m│\u001b[0m\n",
       "\u001b[31m│\u001b[0m                                                                                                  \u001b[31m│\u001b[0m\n",
       "\u001b[31m│\u001b[0m \u001b[2;33m/home/rahit/jupyter_py3/lib/python3.8/site-packages/torch/nn/modules/\u001b[0m\u001b[1;33mmodule.py\u001b[0m:\u001b[94m1194\u001b[0m in           \u001b[31m│\u001b[0m\n",
       "\u001b[31m│\u001b[0m \u001b[92m_call_impl\u001b[0m                                                                                       \u001b[31m│\u001b[0m\n",
       "\u001b[31m│\u001b[0m                                                                                                  \u001b[31m│\u001b[0m\n",
       "\u001b[31m│\u001b[0m   \u001b[2m1191 \u001b[0m\u001b[2m│   │   \u001b[0m\u001b[2m# this function, and just call forward.\u001b[0m                                           \u001b[31m│\u001b[0m\n",
       "\u001b[31m│\u001b[0m   \u001b[2m1192 \u001b[0m\u001b[2m│   │   \u001b[0m\u001b[94mif\u001b[0m \u001b[95mnot\u001b[0m (\u001b[96mself\u001b[0m._backward_hooks \u001b[95mor\u001b[0m \u001b[96mself\u001b[0m._forward_hooks \u001b[95mor\u001b[0m \u001b[96mself\u001b[0m._forward_pre_hooks \u001b[95mo\u001b[0m  \u001b[31m│\u001b[0m\n",
       "\u001b[31m│\u001b[0m   \u001b[2m1193 \u001b[0m\u001b[2m│   │   │   │   \u001b[0m\u001b[95mor\u001b[0m _global_forward_hooks \u001b[95mor\u001b[0m _global_forward_pre_hooks):                   \u001b[31m│\u001b[0m\n",
       "\u001b[31m│\u001b[0m \u001b[31m❱ \u001b[0m1194 \u001b[2m│   │   │   \u001b[0m\u001b[94mreturn\u001b[0m forward_call(*\u001b[96minput\u001b[0m, **kwargs)                                         \u001b[31m│\u001b[0m\n",
       "\u001b[31m│\u001b[0m   \u001b[2m1195 \u001b[0m\u001b[2m│   │   \u001b[0m\u001b[2m# Do not call functions when jit is used\u001b[0m                                          \u001b[31m│\u001b[0m\n",
       "\u001b[31m│\u001b[0m   \u001b[2m1196 \u001b[0m\u001b[2m│   │   \u001b[0mfull_backward_hooks, non_full_backward_hooks = [], []                             \u001b[31m│\u001b[0m\n",
       "\u001b[31m│\u001b[0m   \u001b[2m1197 \u001b[0m\u001b[2m│   │   \u001b[0m\u001b[94mif\u001b[0m \u001b[96mself\u001b[0m._backward_hooks \u001b[95mor\u001b[0m _global_backward_hooks:                                \u001b[31m│\u001b[0m\n",
       "\u001b[31m│\u001b[0m                                                                                                  \u001b[31m│\u001b[0m\n",
       "\u001b[31m│\u001b[0m in \u001b[92mforward\u001b[0m:\u001b[94m14\u001b[0m                                                                                    \u001b[31m│\u001b[0m\n",
       "\u001b[31m│\u001b[0m                                                                                                  \u001b[31m│\u001b[0m\n",
       "\u001b[31m│\u001b[0m   \u001b[2m11 \u001b[0m\u001b[2m│   \u001b[0m\u001b[94mdef\u001b[0m \u001b[92mforward\u001b[0m(\u001b[96mself\u001b[0m, data):                                                                \u001b[31m│\u001b[0m\n",
       "\u001b[31m│\u001b[0m   \u001b[2m12 \u001b[0m\u001b[2m│   │   \u001b[0mx, edge_index = data.x, data.edge_index                                             \u001b[31m│\u001b[0m\n",
       "\u001b[31m│\u001b[0m   \u001b[2m13 \u001b[0m\u001b[2m│   │   \u001b[0m\u001b[96mprint\u001b[0m(data[\u001b[94m0\u001b[0m])                                                                      \u001b[31m│\u001b[0m\n",
       "\u001b[31m│\u001b[0m \u001b[31m❱ \u001b[0m14 \u001b[2m│   │   \u001b[0mx = \u001b[96mself\u001b[0m.conv1(x, edge_index)                                                       \u001b[31m│\u001b[0m\n",
       "\u001b[31m│\u001b[0m   \u001b[2m15 \u001b[0m\u001b[2m│   │   \u001b[0mx = ReLU()(x)                                                                       \u001b[31m│\u001b[0m\n",
       "\u001b[31m│\u001b[0m   \u001b[2m16 \u001b[0m\u001b[2m│   │   \u001b[0mx = \u001b[96mself\u001b[0m.conv2(x, edge_index)                                                       \u001b[31m│\u001b[0m\n",
       "\u001b[31m│\u001b[0m   \u001b[2m17 \u001b[0m\u001b[2m│   │   \u001b[0m\u001b[94mreturn\u001b[0m x                                                                            \u001b[31m│\u001b[0m\n",
       "\u001b[31m│\u001b[0m                                                                                                  \u001b[31m│\u001b[0m\n",
       "\u001b[31m│\u001b[0m \u001b[2;33m/home/rahit/jupyter_py3/lib/python3.8/site-packages/torch/nn/modules/\u001b[0m\u001b[1;33mmodule.py\u001b[0m:\u001b[94m1194\u001b[0m in           \u001b[31m│\u001b[0m\n",
       "\u001b[31m│\u001b[0m \u001b[92m_call_impl\u001b[0m                                                                                       \u001b[31m│\u001b[0m\n",
       "\u001b[31m│\u001b[0m                                                                                                  \u001b[31m│\u001b[0m\n",
       "\u001b[31m│\u001b[0m   \u001b[2m1191 \u001b[0m\u001b[2m│   │   \u001b[0m\u001b[2m# this function, and just call forward.\u001b[0m                                           \u001b[31m│\u001b[0m\n",
       "\u001b[31m│\u001b[0m   \u001b[2m1192 \u001b[0m\u001b[2m│   │   \u001b[0m\u001b[94mif\u001b[0m \u001b[95mnot\u001b[0m (\u001b[96mself\u001b[0m._backward_hooks \u001b[95mor\u001b[0m \u001b[96mself\u001b[0m._forward_hooks \u001b[95mor\u001b[0m \u001b[96mself\u001b[0m._forward_pre_hooks \u001b[95mo\u001b[0m  \u001b[31m│\u001b[0m\n",
       "\u001b[31m│\u001b[0m   \u001b[2m1193 \u001b[0m\u001b[2m│   │   │   │   \u001b[0m\u001b[95mor\u001b[0m _global_forward_hooks \u001b[95mor\u001b[0m _global_forward_pre_hooks):                   \u001b[31m│\u001b[0m\n",
       "\u001b[31m│\u001b[0m \u001b[31m❱ \u001b[0m1194 \u001b[2m│   │   │   \u001b[0m\u001b[94mreturn\u001b[0m forward_call(*\u001b[96minput\u001b[0m, **kwargs)                                         \u001b[31m│\u001b[0m\n",
       "\u001b[31m│\u001b[0m   \u001b[2m1195 \u001b[0m\u001b[2m│   │   \u001b[0m\u001b[2m# Do not call functions when jit is used\u001b[0m                                          \u001b[31m│\u001b[0m\n",
       "\u001b[31m│\u001b[0m   \u001b[2m1196 \u001b[0m\u001b[2m│   │   \u001b[0mfull_backward_hooks, non_full_backward_hooks = [], []                             \u001b[31m│\u001b[0m\n",
       "\u001b[31m│\u001b[0m   \u001b[2m1197 \u001b[0m\u001b[2m│   │   \u001b[0m\u001b[94mif\u001b[0m \u001b[96mself\u001b[0m._backward_hooks \u001b[95mor\u001b[0m _global_backward_hooks:                                \u001b[31m│\u001b[0m\n",
       "\u001b[31m│\u001b[0m                                                                                                  \u001b[31m│\u001b[0m\n",
       "\u001b[31m│\u001b[0m \u001b[2;33m/home/rahit/jupyter_py3/lib/python3.8/site-packages/torch_geometric/nn/conv/\u001b[0m\u001b[1;33mgcn_conv.py\u001b[0m:\u001b[94m177\u001b[0m in   \u001b[31m│\u001b[0m\n",
       "\u001b[31m│\u001b[0m \u001b[92mforward\u001b[0m                                                                                          \u001b[31m│\u001b[0m\n",
       "\u001b[31m│\u001b[0m                                                                                                  \u001b[31m│\u001b[0m\n",
       "\u001b[31m│\u001b[0m   \u001b[2m174 \u001b[0m\u001b[2m│   │   │   │   \u001b[0mcache = \u001b[96mself\u001b[0m._cached_edge_index                                            \u001b[31m│\u001b[0m\n",
       "\u001b[31m│\u001b[0m   \u001b[2m175 \u001b[0m\u001b[2m│   │   │   │   \u001b[0m\u001b[94mif\u001b[0m cache \u001b[95mis\u001b[0m \u001b[94mNone\u001b[0m:                                                          \u001b[31m│\u001b[0m\n",
       "\u001b[31m│\u001b[0m   \u001b[2m176 \u001b[0m\u001b[2m│   │   │   │   │   \u001b[0medge_index, edge_weight = gcn_norm(  \u001b[2m# yapf: disable\u001b[0m                   \u001b[31m│\u001b[0m\n",
       "\u001b[31m│\u001b[0m \u001b[31m❱ \u001b[0m177 \u001b[2m│   │   │   │   │   │   \u001b[0medge_index, edge_weight, x.size(\u001b[96mself\u001b[0m.node_dim),                    \u001b[31m│\u001b[0m\n",
       "\u001b[31m│\u001b[0m   \u001b[2m178 \u001b[0m\u001b[2m│   │   │   │   │   │   \u001b[0m\u001b[96mself\u001b[0m.improved, \u001b[96mself\u001b[0m.add_self_loops, \u001b[96mself\u001b[0m.flow, x.dtype)            \u001b[31m│\u001b[0m\n",
       "\u001b[31m│\u001b[0m   \u001b[2m179 \u001b[0m\u001b[2m│   │   │   │   │   \u001b[0m\u001b[94mif\u001b[0m \u001b[96mself\u001b[0m.cached:                                                        \u001b[31m│\u001b[0m\n",
       "\u001b[31m│\u001b[0m   \u001b[2m180 \u001b[0m\u001b[2m│   │   │   │   │   │   \u001b[0m\u001b[96mself\u001b[0m._cached_edge_index = (edge_index, edge_weight)                \u001b[31m│\u001b[0m\n",
       "\u001b[31m╰──────────────────────────────────────────────────────────────────────────────────────────────────╯\u001b[0m\n",
       "\u001b[1;91mAttributeError: \u001b[0m\u001b[32m'NoneType'\u001b[0m object has no attribute \u001b[32m'size'\u001b[0m\n"
      ]
     },
     "metadata": {},
     "output_type": "display_data"
    }
   ],
   "source": [
    "# Example usage\n",
    "num_features = 1  # Example feature dimension\n",
    "hidden_dim = 64   # Hidden dimension\n",
    "out_features = 1\n",
    "\n",
    "# Initialize the model\n",
    "model = SiameseGNN(num_node_features, hidden_dim, embedding_dim)\n",
    "\n",
    "# Define optimizer and loss function\n",
    "optimizer = torch.optim.Adam(model.parameters(), lr=0.001)\n",
    "criterion = torch.nn.BCEWithLogitsLoss()\n",
    "\n",
    "# Train the model\n",
    "train(model, train_loader, optimizer, criterion, epochs=10)\n",
    "\n",
    "# Evaluate the model\n",
    "accuracy = evaluate(model, valid_loader)\n",
    "print(f\"Validation Accuracy: {accuracy}\")\n"
   ]
  },
  {
   "cell_type": "code",
   "execution_count": 119,
   "id": "f632a7cd",
   "metadata": {},
   "outputs": [
    {
     "data": {
      "text/html": [
       "<pre style=\"white-space:pre;overflow-x:auto;line-height:normal;font-family:Menlo,'DejaVu Sans Mono',consolas,'Courier New',monospace\"><span style=\"font-weight: bold\">[</span>\n",
       "    <span style=\"color: #008000; text-decoration-color: #008000\">'data_version'</span>,\n",
       "    <span style=\"color: #008000; text-decoration-color: #008000\">'name'</span>,\n",
       "    <span style=\"color: #008000; text-decoration-color: #008000\">'identifier'</span>,\n",
       "    <span style=\"color: #008000; text-decoration-color: #008000\">'edge_index'</span>,\n",
       "    <span style=\"color: #008000; text-decoration-color: #008000\">'rel_types'</span>,\n",
       "    <span style=\"color: #008000; text-decoration-color: #008000\">'num_nodes'</span>,\n",
       "    <span style=\"color: #008000; text-decoration-color: #008000\">'ptr'</span>,\n",
       "    <span style=\"color: #008000; text-decoration-color: #008000\">'batch'</span>,\n",
       "    <span style=\"color: #008000; text-decoration-color: #008000\">'namespace'</span>,\n",
       "    <span style=\"color: #008000; text-decoration-color: #008000\">'y'</span>,\n",
       "    <span style=\"color: #008000; text-decoration-color: #008000\">'ontology'</span>\n",
       "<span style=\"font-weight: bold\">]</span>\n",
       "</pre>\n"
      ],
      "text/plain": [
       "\u001b[1m[\u001b[0m\n",
       "    \u001b[32m'data_version'\u001b[0m,\n",
       "    \u001b[32m'name'\u001b[0m,\n",
       "    \u001b[32m'identifier'\u001b[0m,\n",
       "    \u001b[32m'edge_index'\u001b[0m,\n",
       "    \u001b[32m'rel_types'\u001b[0m,\n",
       "    \u001b[32m'num_nodes'\u001b[0m,\n",
       "    \u001b[32m'ptr'\u001b[0m,\n",
       "    \u001b[32m'batch'\u001b[0m,\n",
       "    \u001b[32m'namespace'\u001b[0m,\n",
       "    \u001b[32m'y'\u001b[0m,\n",
       "    \u001b[32m'ontology'\u001b[0m\n",
       "\u001b[1m]\u001b[0m\n"
      ]
     },
     "metadata": {},
     "output_type": "display_data"
    },
    {
     "data": {
      "text/html": [
       "<pre style=\"white-space:pre;overflow-x:auto;line-height:normal;font-family:Menlo,'DejaVu Sans Mono',consolas,'Courier New',monospace\"><span style=\"font-weight: bold\">[</span>\n",
       "    <span style=\"font-weight: bold\">[</span>\n",
       "        <span style=\"color: #008000; text-decoration-color: #008000\">'membrane hyperpolarization'</span>,\n",
       "        <span style=\"color: #008000; text-decoration-color: #008000\">'positive regulation of cyclic nucleotide-gated ion channel activity'</span>,\n",
       "        <span style=\"color: #008000; text-decoration-color: #008000\">'positive regulation of exocytosis'</span>,\n",
       "        <span style=\"color: #008000; text-decoration-color: #008000\">'cytosol'</span>,\n",
       "        <span style=\"color: #008000; text-decoration-color: #008000\">'ATPase-coupled inorganic anion transmembrane transporter activity'</span>,\n",
       "        <span style=\"color: #008000; text-decoration-color: #008000\">'ATP hydrolysis activity'</span>,\n",
       "        <span style=\"color: #008000; text-decoration-color: #008000\">'transmembrane transport'</span>,\n",
       "        <span style=\"color: #008000; text-decoration-color: #008000\">'ATP binding'</span>,\n",
       "        <span style=\"color: #008000; text-decoration-color: #008000\">'cholesterol transport'</span>,\n",
       "        <span style=\"color: #008000; text-decoration-color: #008000\">'positive regulation of voltage-gated chloride channel activity'</span>,\n",
       "        <span style=\"color: #008000; text-decoration-color: #008000\">'isomerase activity'</span>,\n",
       "        <span style=\"color: #008000; text-decoration-color: #008000\">'positive regulation of insulin secretion involved in cellular response to glucose stimulus'</span>,\n",
       "        <span style=\"color: #008000; text-decoration-color: #008000\">'ATPase-coupled transmembrane transporter activity'</span>,\n",
       "        <span style=\"color: #008000; text-decoration-color: #008000\">'recycling endosome'</span>,\n",
       "        <span style=\"color: #008000; text-decoration-color: #008000\">'early endosome'</span>,\n",
       "        <span style=\"color: #008000; text-decoration-color: #008000\">'cellular response to forskolin'</span>,\n",
       "        <span style=\"color: #008000; text-decoration-color: #008000\">'apical plasma membrane'</span>,\n",
       "        <span style=\"color: #008000; text-decoration-color: #008000\">'recycling endosome membrane'</span>,\n",
       "        <span style=\"color: #008000; text-decoration-color: #008000\">'protein-containing complex'</span>,\n",
       "        <span style=\"color: #008000; text-decoration-color: #008000\">'response to endoplasmic reticulum stress'</span>,\n",
       "        <span style=\"color: #008000; text-decoration-color: #008000\">'membrane'</span>,\n",
       "        <span style=\"color: #008000; text-decoration-color: #008000\">'cellular response to cAMP'</span>,\n",
       "        <span style=\"color: #008000; text-decoration-color: #008000\">'amelogenesis'</span>,\n",
       "        <span style=\"color: #008000; text-decoration-color: #008000\">'nucleus'</span>,\n",
       "        <span style=\"color: #008000; text-decoration-color: #008000\">'chloride channel complex'</span>,\n",
       "        <span style=\"color: #008000; text-decoration-color: #008000\">'early endosome membrane'</span>,\n",
       "        <span style=\"color: #008000; text-decoration-color: #008000\">'ABC-type transporter activity'</span>,\n",
       "        <span style=\"color: #008000; text-decoration-color: #008000\">'intracellular pH elevation'</span>,\n",
       "        <span style=\"color: #008000; text-decoration-color: #008000\">'chloride channel activity'</span>,\n",
       "        <span style=\"color: #008000; text-decoration-color: #008000\">'chloride transmembrane transport'</span>,\n",
       "        <span style=\"color: #008000; text-decoration-color: #008000\">'multicellular organismal-level water homeostasis'</span>,\n",
       "        <span style=\"color: #008000; text-decoration-color: #008000\">'enzyme binding'</span>,\n",
       "        <span style=\"color: #008000; text-decoration-color: #008000\">'endoplasmic reticulum membrane'</span>,\n",
       "        <span style=\"color: #008000; text-decoration-color: #008000\">'cell surface'</span>,\n",
       "        <span style=\"color: #008000; text-decoration-color: #008000\">'Golgi-associated vesicle membrane'</span>,\n",
       "        <span style=\"color: #008000; text-decoration-color: #008000\">'endosome membrane'</span>,\n",
       "        <span style=\"color: #008000; text-decoration-color: #008000\">'cytoplasm'</span>,\n",
       "        <span style=\"color: #008000; text-decoration-color: #008000\">'lysosomal membrane'</span>,\n",
       "        <span style=\"color: #008000; text-decoration-color: #008000\">'vesicle docking involved in exocytosis'</span>,\n",
       "        <span style=\"color: #008000; text-decoration-color: #008000\">'chloride transmembrane transporter activity'</span>,\n",
       "        <span style=\"color: #008000; text-decoration-color: #008000\">'cholesterol biosynthetic process'</span>,\n",
       "        <span style=\"color: #008000; text-decoration-color: #008000\">'transepithelial water transport'</span>,\n",
       "        <span style=\"color: #008000; text-decoration-color: #008000\">'Sec61 translocon complex binding'</span>,\n",
       "        <span style=\"color: #008000; text-decoration-color: #008000\">'chloride channel inhibitor activity'</span>,\n",
       "        <span style=\"color: #008000; text-decoration-color: #008000\">'protein binding'</span>,\n",
       "        <span style=\"color: #008000; text-decoration-color: #008000\">'sperm capacitation'</span>,\n",
       "        <span style=\"color: #008000; text-decoration-color: #008000\">'PDZ domain binding'</span>,\n",
       "        <span style=\"color: #008000; text-decoration-color: #008000\">'protein-folding chaperone binding'</span>,\n",
       "        <span style=\"color: #008000; text-decoration-color: #008000\">'positive regulation of enamel mineralization'</span>,\n",
       "        <span style=\"color: #008000; text-decoration-color: #008000\">'intracellularly ATP-gated chloride channel activity'</span>,\n",
       "        <span style=\"color: #008000; text-decoration-color: #008000\">'bicarbonate transport'</span>,\n",
       "        <span style=\"color: #008000; text-decoration-color: #008000\">'establishment of localization in cell'</span>,\n",
       "        <span style=\"color: #008000; text-decoration-color: #008000\">'clathrin-coated endocytic vesicle membrane'</span>,\n",
       "        <span style=\"color: #008000; text-decoration-color: #008000\">'plasma membrane'</span>,\n",
       "        <span style=\"color: #008000; text-decoration-color: #008000\">'bicarbonate transmembrane transporter activity'</span>,\n",
       "        <span style=\"color: #008000; text-decoration-color: #008000\">'chloride channel regulator activity'</span>\n",
       "    <span style=\"font-weight: bold\">]</span>,\n",
       "    <span style=\"font-weight: bold\">[</span>\n",
       "        <span style=\"color: #008000; text-decoration-color: #008000\">'ribonucleoprotein complex'</span>,\n",
       "        <span style=\"color: #008000; text-decoration-color: #008000\">'negative regulation of gene expression via CpG island methylation'</span>,\n",
       "        <span style=\"color: #008000; text-decoration-color: #008000\">'intracellular non-membrane-bounded organelle'</span>,\n",
       "        <span style=\"color: #008000; text-decoration-color: #008000\">'BRCA1-B complex'</span>,\n",
       "        <span style=\"color: #008000; text-decoration-color: #008000\">'positive regulation of angiogenesis'</span>,\n",
       "        <span style=\"color: #008000; text-decoration-color: #008000\">'double-strand break repair'</span>,\n",
       "        <span style=\"color: #008000; text-decoration-color: #008000\">'positive regulation of transcription by RNA polymerase II'</span>,\n",
       "        <span style=\"color: #008000; text-decoration-color: #008000\">'positive regulation of histone acetylation'</span>,\n",
       "        <span style=\"color: #008000; text-decoration-color: #008000\">'identical protein binding'</span>,\n",
       "        <span style=\"color: #008000; text-decoration-color: #008000\">'enzyme binding'</span>,\n",
       "        <span style=\"color: #008000; text-decoration-color: #008000\">'DNA repair complex'</span>,\n",
       "        <span style=\"color: #008000; text-decoration-color: #008000\">'BRCA1-A complex'</span>,\n",
       "        <span style=\"color: #008000; text-decoration-color: #008000\">'random inactivation of X chromosome'</span>,\n",
       "        <span style=\"color: #008000; text-decoration-color: #008000\">'cellular response to tumor necrosis factor'</span>,\n",
       "        <span style=\"color: #008000; text-decoration-color: #008000\">'transcription cis-regulatory region binding'</span>,\n",
       "        <span style=\"color: #008000; text-decoration-color: #008000\">'mitotic G2 DNA damage checkpoint signaling'</span>,\n",
       "        <span style=\"color: #008000; text-decoration-color: #008000\">'chromosome'</span>,\n",
       "        <span style=\"color: #008000; text-decoration-color: #008000\">'male germ cell nucleus'</span>,\n",
       "        <span style=\"color: #008000; text-decoration-color: #008000\">'ubiquitin ligase complex'</span>,\n",
       "        <span style=\"color: #008000; text-decoration-color: #008000\">'postreplication repair'</span>,\n",
       "        <span style=\"color: #008000; text-decoration-color: #008000\">'zinc ion binding'</span>,\n",
       "        <span style=\"color: #008000; text-decoration-color: #008000\">'RNA polymerase binding'</span>,\n",
       "        <span style=\"color: #008000; text-decoration-color: #008000\">'intrinsic apoptotic signaling pathway in response to DNA damage'</span>,\n",
       "        <span style=\"color: #008000; text-decoration-color: #008000\">'DNA-binding transcription activator activity'</span>,\n",
       "        <span style=\"color: #008000; text-decoration-color: #008000\">'homologous recombination'</span>,\n",
       "        <span style=\"color: #008000; text-decoration-color: #008000\">'positive regulation of DNA-templated transcription'</span>,\n",
       "        <span style=\"color: #008000; text-decoration-color: #008000\">'positive regulation of gene expression'</span>,\n",
       "        <span style=\"color: #008000; text-decoration-color: #008000\">'DNA damage response'</span>,\n",
       "        <span style=\"color: #008000; text-decoration-color: #008000\">'protein K6-linked ubiquitination'</span>,\n",
       "        <span style=\"color: #008000; text-decoration-color: #008000\">'protein autoubiquitination'</span>,\n",
       "        <span style=\"color: #008000; text-decoration-color: #008000\">'RNA binding'</span>,\n",
       "        <span style=\"color: #008000; text-decoration-color: #008000\">'damaged DNA binding'</span>,\n",
       "        <span style=\"color: #008000; text-decoration-color: #008000\">'protein polyubiquitination'</span>,\n",
       "        <span style=\"color: #008000; text-decoration-color: #008000\">'negative regulation of fatty acid biosynthetic process'</span>,\n",
       "        <span style=\"color: #008000; text-decoration-color: #008000\">'regulation of DNA repair'</span>,\n",
       "        <span style=\"color: #008000; text-decoration-color: #008000\">'negative regulation of DNA-templated transcription'</span>,\n",
       "        <span style=\"color: #008000; text-decoration-color: #008000\">'response to ionizing radiation'</span>,\n",
       "        <span style=\"color: #008000; text-decoration-color: #008000\">'DNA strand resection involved in replication fork processing'</span>,\n",
       "        <span style=\"color: #008000; text-decoration-color: #008000\">'chordate embryonic development'</span>,\n",
       "        <span style=\"color: #008000; text-decoration-color: #008000\">'nuclear ubiquitin ligase complex'</span>,\n",
       "        <span style=\"color: #008000; text-decoration-color: #008000\">'double-strand break repair via homologous recombination'</span>,\n",
       "        <span style=\"color: #008000; text-decoration-color: #008000\">'regulation of DNA damage checkpoint'</span>,\n",
       "        <span style=\"color: #008000; text-decoration-color: #008000\">'mitotic G2/M transition checkpoint'</span>,\n",
       "        <span style=\"color: #008000; text-decoration-color: #008000\">'negative regulation of centriole replication'</span>,\n",
       "        <span style=\"color: #008000; text-decoration-color: #008000\">'negative regulation of extrinsic apoptotic signaling pathway via death domain receptors'</span>,\n",
       "        <span style=\"color: #008000; text-decoration-color: #008000\">'XY body'</span>,\n",
       "        <span style=\"color: #008000; text-decoration-color: #008000\">'protein-containing complex'</span>,\n",
       "        <span style=\"color: #008000; text-decoration-color: #008000\">'nuclear body'</span>,\n",
       "        <span style=\"color: #008000; text-decoration-color: #008000\">'cellular response to ionizing radiation'</span>,\n",
       "        <span style=\"color: #008000; text-decoration-color: #008000\">'ubiquitin protein ligase binding'</span>,\n",
       "        <span style=\"color: #008000; text-decoration-color: #008000\">'cellular response to indole-3-methanol'</span>,\n",
       "        <span style=\"color: #008000; text-decoration-color: #008000\">'positive regulation of DNA repair'</span>,\n",
       "        <span style=\"color: #008000; text-decoration-color: #008000\">'p53 binding'</span>,\n",
       "        <span style=\"color: #008000; text-decoration-color: #008000\">'dosage compensation by inactivation of X chromosome'</span>,\n",
       "        <span style=\"color: #008000; text-decoration-color: #008000\">'protein ubiquitination'</span>,\n",
       "        <span style=\"color: #008000; text-decoration-color: #008000\">'regulation of transcription by RNA polymerase II'</span>,\n",
       "        <span style=\"color: #008000; text-decoration-color: #008000\">'DNA binding'</span>,\n",
       "        <span style=\"color: #008000; text-decoration-color: #008000\">'cytoplasm'</span>,\n",
       "        <span style=\"color: #008000; text-decoration-color: #008000\">'BRCA1-C complex'</span>,\n",
       "        <span style=\"color: #008000; text-decoration-color: #008000\">'protein binding'</span>,\n",
       "        <span style=\"color: #008000; text-decoration-color: #008000\">'positive regulation of vascular endothelial growth factor production'</span>,\n",
       "        <span style=\"color: #008000; text-decoration-color: #008000\">'regulation of cell cycle'</span>,\n",
       "        <span style=\"color: #008000; text-decoration-color: #008000\">'tubulin binding'</span>,\n",
       "        <span style=\"color: #008000; text-decoration-color: #008000\">'negative regulation of reactive oxygen species metabolic process'</span>,\n",
       "        <span style=\"color: #008000; text-decoration-color: #008000\">'transcription coactivator activity'</span>,\n",
       "        <span style=\"color: #008000; text-decoration-color: #008000\">'BRCA1-BARD1 complex'</span>,\n",
       "        <span style=\"color: #008000; text-decoration-color: #008000\">'negative regulation of histone acetylation'</span>,\n",
       "        <span style=\"color: #008000; text-decoration-color: #008000\">'DNA repair'</span>,\n",
       "        <span style=\"color: #008000; text-decoration-color: #008000\">'lateral element'</span>,\n",
       "        <span style=\"color: #008000; text-decoration-color: #008000\">'localization'</span>,\n",
       "        <span style=\"color: #008000; text-decoration-color: #008000\">'nucleoplasm'</span>,\n",
       "        <span style=\"color: #008000; text-decoration-color: #008000\">'negative regulation of cell cycle'</span>,\n",
       "        <span style=\"color: #008000; text-decoration-color: #008000\">'gamma-tubulin ring complex'</span>,\n",
       "        <span style=\"color: #008000; text-decoration-color: #008000\">'negative regulation of intracellular estrogen receptor signaling pathway'</span>,\n",
       "        <span style=\"color: #008000; text-decoration-color: #008000\">'fatty acid biosynthetic process'</span>,\n",
       "        <span style=\"color: #008000; text-decoration-color: #008000\">'negative regulation of cell growth'</span>,\n",
       "        <span style=\"color: #008000; text-decoration-color: #008000\">'chromosome segregation'</span>,\n",
       "        <span style=\"color: #008000; text-decoration-color: #008000\">'centrosome cycle'</span>,\n",
       "        <span style=\"color: #008000; text-decoration-color: #008000\">'ubiquitin-protein transferase activity'</span>,\n",
       "        <span style=\"color: #008000; text-decoration-color: #008000\">'plasma membrane'</span>,\n",
       "        <span style=\"color: #008000; text-decoration-color: #008000\">'nucleus'</span>\n",
       "    <span style=\"font-weight: bold\">]</span>,\n",
       "    <span style=\"font-weight: bold\">[</span>\n",
       "        <span style=\"color: #008000; text-decoration-color: #008000\">'membrane hyperpolarization'</span>,\n",
       "        <span style=\"color: #008000; text-decoration-color: #008000\">'positive regulation of cyclic nucleotide-gated ion channel activity'</span>,\n",
       "        <span style=\"color: #008000; text-decoration-color: #008000\">'positive regulation of exocytosis'</span>,\n",
       "        <span style=\"color: #008000; text-decoration-color: #008000\">'cytosol'</span>,\n",
       "        <span style=\"color: #008000; text-decoration-color: #008000\">'ATPase-coupled inorganic anion transmembrane transporter activity'</span>,\n",
       "        <span style=\"color: #008000; text-decoration-color: #008000\">'ATP hydrolysis activity'</span>,\n",
       "        <span style=\"color: #008000; text-decoration-color: #008000\">'transmembrane transport'</span>,\n",
       "        <span style=\"color: #008000; text-decoration-color: #008000\">'ATP binding'</span>,\n",
       "        <span style=\"color: #008000; text-decoration-color: #008000\">'cholesterol transport'</span>,\n",
       "        <span style=\"color: #008000; text-decoration-color: #008000\">'positive regulation of voltage-gated chloride channel activity'</span>,\n",
       "        <span style=\"color: #008000; text-decoration-color: #008000\">'isomerase activity'</span>,\n",
       "        <span style=\"color: #008000; text-decoration-color: #008000\">'positive regulation of insulin secretion involved in cellular response to glucose stimulus'</span>,\n",
       "        <span style=\"color: #008000; text-decoration-color: #008000\">'ATPase-coupled transmembrane transporter activity'</span>,\n",
       "        <span style=\"color: #008000; text-decoration-color: #008000\">'recycling endosome'</span>,\n",
       "        <span style=\"color: #008000; text-decoration-color: #008000\">'early endosome'</span>,\n",
       "        <span style=\"color: #008000; text-decoration-color: #008000\">'cellular response to forskolin'</span>,\n",
       "        <span style=\"color: #008000; text-decoration-color: #008000\">'apical plasma membrane'</span>,\n",
       "        <span style=\"color: #008000; text-decoration-color: #008000\">'recycling endosome membrane'</span>,\n",
       "        <span style=\"color: #008000; text-decoration-color: #008000\">'protein-containing complex'</span>,\n",
       "        <span style=\"color: #008000; text-decoration-color: #008000\">'response to endoplasmic reticulum stress'</span>,\n",
       "        <span style=\"color: #008000; text-decoration-color: #008000\">'membrane'</span>,\n",
       "        <span style=\"color: #008000; text-decoration-color: #008000\">'cellular response to cAMP'</span>,\n",
       "        <span style=\"color: #008000; text-decoration-color: #008000\">'amelogenesis'</span>,\n",
       "        <span style=\"color: #008000; text-decoration-color: #008000\">'nucleus'</span>,\n",
       "        <span style=\"color: #008000; text-decoration-color: #008000\">'chloride channel complex'</span>,\n",
       "        <span style=\"color: #008000; text-decoration-color: #008000\">'early endosome membrane'</span>,\n",
       "        <span style=\"color: #008000; text-decoration-color: #008000\">'ABC-type transporter activity'</span>,\n",
       "        <span style=\"color: #008000; text-decoration-color: #008000\">'intracellular pH elevation'</span>,\n",
       "        <span style=\"color: #008000; text-decoration-color: #008000\">'chloride channel activity'</span>,\n",
       "        <span style=\"color: #008000; text-decoration-color: #008000\">'chloride transmembrane transport'</span>,\n",
       "        <span style=\"color: #008000; text-decoration-color: #008000\">'multicellular organismal-level water homeostasis'</span>,\n",
       "        <span style=\"color: #008000; text-decoration-color: #008000\">'enzyme binding'</span>,\n",
       "        <span style=\"color: #008000; text-decoration-color: #008000\">'endoplasmic reticulum membrane'</span>,\n",
       "        <span style=\"color: #008000; text-decoration-color: #008000\">'cell surface'</span>,\n",
       "        <span style=\"color: #008000; text-decoration-color: #008000\">'Golgi-associated vesicle membrane'</span>,\n",
       "        <span style=\"color: #008000; text-decoration-color: #008000\">'endosome membrane'</span>,\n",
       "        <span style=\"color: #008000; text-decoration-color: #008000\">'cytoplasm'</span>,\n",
       "        <span style=\"color: #008000; text-decoration-color: #008000\">'lysosomal membrane'</span>,\n",
       "        <span style=\"color: #008000; text-decoration-color: #008000\">'vesicle docking involved in exocytosis'</span>,\n",
       "        <span style=\"color: #008000; text-decoration-color: #008000\">'chloride transmembrane transporter activity'</span>,\n",
       "        <span style=\"color: #008000; text-decoration-color: #008000\">'cholesterol biosynthetic process'</span>,\n",
       "        <span style=\"color: #008000; text-decoration-color: #008000\">'transepithelial water transport'</span>,\n",
       "        <span style=\"color: #008000; text-decoration-color: #008000\">'Sec61 translocon complex binding'</span>,\n",
       "        <span style=\"color: #008000; text-decoration-color: #008000\">'chloride channel inhibitor activity'</span>,\n",
       "        <span style=\"color: #008000; text-decoration-color: #008000\">'protein binding'</span>,\n",
       "        <span style=\"color: #008000; text-decoration-color: #008000\">'sperm capacitation'</span>,\n",
       "        <span style=\"color: #008000; text-decoration-color: #008000\">'PDZ domain binding'</span>,\n",
       "        <span style=\"color: #008000; text-decoration-color: #008000\">'protein-folding chaperone binding'</span>,\n",
       "        <span style=\"color: #008000; text-decoration-color: #008000\">'positive regulation of enamel mineralization'</span>,\n",
       "        <span style=\"color: #008000; text-decoration-color: #008000\">'intracellularly ATP-gated chloride channel activity'</span>,\n",
       "        <span style=\"color: #008000; text-decoration-color: #008000\">'bicarbonate transport'</span>,\n",
       "        <span style=\"color: #008000; text-decoration-color: #008000\">'establishment of localization in cell'</span>,\n",
       "        <span style=\"color: #008000; text-decoration-color: #008000\">'clathrin-coated endocytic vesicle membrane'</span>,\n",
       "        <span style=\"color: #008000; text-decoration-color: #008000\">'plasma membrane'</span>,\n",
       "        <span style=\"color: #008000; text-decoration-color: #008000\">'bicarbonate transmembrane transporter activity'</span>,\n",
       "        <span style=\"color: #008000; text-decoration-color: #008000\">'chloride channel regulator activity'</span>\n",
       "    <span style=\"font-weight: bold\">]</span>\n",
       "<span style=\"font-weight: bold\">]</span>\n",
       "</pre>\n"
      ],
      "text/plain": [
       "\u001b[1m[\u001b[0m\n",
       "    \u001b[1m[\u001b[0m\n",
       "        \u001b[32m'membrane hyperpolarization'\u001b[0m,\n",
       "        \u001b[32m'positive regulation of cyclic nucleotide-gated ion channel activity'\u001b[0m,\n",
       "        \u001b[32m'positive regulation of exocytosis'\u001b[0m,\n",
       "        \u001b[32m'cytosol'\u001b[0m,\n",
       "        \u001b[32m'ATPase-coupled inorganic anion transmembrane transporter activity'\u001b[0m,\n",
       "        \u001b[32m'ATP hydrolysis activity'\u001b[0m,\n",
       "        \u001b[32m'transmembrane transport'\u001b[0m,\n",
       "        \u001b[32m'ATP binding'\u001b[0m,\n",
       "        \u001b[32m'cholesterol transport'\u001b[0m,\n",
       "        \u001b[32m'positive regulation of voltage-gated chloride channel activity'\u001b[0m,\n",
       "        \u001b[32m'isomerase activity'\u001b[0m,\n",
       "        \u001b[32m'positive regulation of insulin secretion involved in cellular response to glucose stimulus'\u001b[0m,\n",
       "        \u001b[32m'ATPase-coupled transmembrane transporter activity'\u001b[0m,\n",
       "        \u001b[32m'recycling endosome'\u001b[0m,\n",
       "        \u001b[32m'early endosome'\u001b[0m,\n",
       "        \u001b[32m'cellular response to forskolin'\u001b[0m,\n",
       "        \u001b[32m'apical plasma membrane'\u001b[0m,\n",
       "        \u001b[32m'recycling endosome membrane'\u001b[0m,\n",
       "        \u001b[32m'protein-containing complex'\u001b[0m,\n",
       "        \u001b[32m'response to endoplasmic reticulum stress'\u001b[0m,\n",
       "        \u001b[32m'membrane'\u001b[0m,\n",
       "        \u001b[32m'cellular response to cAMP'\u001b[0m,\n",
       "        \u001b[32m'amelogenesis'\u001b[0m,\n",
       "        \u001b[32m'nucleus'\u001b[0m,\n",
       "        \u001b[32m'chloride channel complex'\u001b[0m,\n",
       "        \u001b[32m'early endosome membrane'\u001b[0m,\n",
       "        \u001b[32m'ABC-type transporter activity'\u001b[0m,\n",
       "        \u001b[32m'intracellular pH elevation'\u001b[0m,\n",
       "        \u001b[32m'chloride channel activity'\u001b[0m,\n",
       "        \u001b[32m'chloride transmembrane transport'\u001b[0m,\n",
       "        \u001b[32m'multicellular organismal-level water homeostasis'\u001b[0m,\n",
       "        \u001b[32m'enzyme binding'\u001b[0m,\n",
       "        \u001b[32m'endoplasmic reticulum membrane'\u001b[0m,\n",
       "        \u001b[32m'cell surface'\u001b[0m,\n",
       "        \u001b[32m'Golgi-associated vesicle membrane'\u001b[0m,\n",
       "        \u001b[32m'endosome membrane'\u001b[0m,\n",
       "        \u001b[32m'cytoplasm'\u001b[0m,\n",
       "        \u001b[32m'lysosomal membrane'\u001b[0m,\n",
       "        \u001b[32m'vesicle docking involved in exocytosis'\u001b[0m,\n",
       "        \u001b[32m'chloride transmembrane transporter activity'\u001b[0m,\n",
       "        \u001b[32m'cholesterol biosynthetic process'\u001b[0m,\n",
       "        \u001b[32m'transepithelial water transport'\u001b[0m,\n",
       "        \u001b[32m'Sec61 translocon complex binding'\u001b[0m,\n",
       "        \u001b[32m'chloride channel inhibitor activity'\u001b[0m,\n",
       "        \u001b[32m'protein binding'\u001b[0m,\n",
       "        \u001b[32m'sperm capacitation'\u001b[0m,\n",
       "        \u001b[32m'PDZ domain binding'\u001b[0m,\n",
       "        \u001b[32m'protein-folding chaperone binding'\u001b[0m,\n",
       "        \u001b[32m'positive regulation of enamel mineralization'\u001b[0m,\n",
       "        \u001b[32m'intracellularly ATP-gated chloride channel activity'\u001b[0m,\n",
       "        \u001b[32m'bicarbonate transport'\u001b[0m,\n",
       "        \u001b[32m'establishment of localization in cell'\u001b[0m,\n",
       "        \u001b[32m'clathrin-coated endocytic vesicle membrane'\u001b[0m,\n",
       "        \u001b[32m'plasma membrane'\u001b[0m,\n",
       "        \u001b[32m'bicarbonate transmembrane transporter activity'\u001b[0m,\n",
       "        \u001b[32m'chloride channel regulator activity'\u001b[0m\n",
       "    \u001b[1m]\u001b[0m,\n",
       "    \u001b[1m[\u001b[0m\n",
       "        \u001b[32m'ribonucleoprotein complex'\u001b[0m,\n",
       "        \u001b[32m'negative regulation of gene expression via CpG island methylation'\u001b[0m,\n",
       "        \u001b[32m'intracellular non-membrane-bounded organelle'\u001b[0m,\n",
       "        \u001b[32m'BRCA1-B complex'\u001b[0m,\n",
       "        \u001b[32m'positive regulation of angiogenesis'\u001b[0m,\n",
       "        \u001b[32m'double-strand break repair'\u001b[0m,\n",
       "        \u001b[32m'positive regulation of transcription by RNA polymerase II'\u001b[0m,\n",
       "        \u001b[32m'positive regulation of histone acetylation'\u001b[0m,\n",
       "        \u001b[32m'identical protein binding'\u001b[0m,\n",
       "        \u001b[32m'enzyme binding'\u001b[0m,\n",
       "        \u001b[32m'DNA repair complex'\u001b[0m,\n",
       "        \u001b[32m'BRCA1-A complex'\u001b[0m,\n",
       "        \u001b[32m'random inactivation of X chromosome'\u001b[0m,\n",
       "        \u001b[32m'cellular response to tumor necrosis factor'\u001b[0m,\n",
       "        \u001b[32m'transcription cis-regulatory region binding'\u001b[0m,\n",
       "        \u001b[32m'mitotic G2 DNA damage checkpoint signaling'\u001b[0m,\n",
       "        \u001b[32m'chromosome'\u001b[0m,\n",
       "        \u001b[32m'male germ cell nucleus'\u001b[0m,\n",
       "        \u001b[32m'ubiquitin ligase complex'\u001b[0m,\n",
       "        \u001b[32m'postreplication repair'\u001b[0m,\n",
       "        \u001b[32m'zinc ion binding'\u001b[0m,\n",
       "        \u001b[32m'RNA polymerase binding'\u001b[0m,\n",
       "        \u001b[32m'intrinsic apoptotic signaling pathway in response to DNA damage'\u001b[0m,\n",
       "        \u001b[32m'DNA-binding transcription activator activity'\u001b[0m,\n",
       "        \u001b[32m'homologous recombination'\u001b[0m,\n",
       "        \u001b[32m'positive regulation of DNA-templated transcription'\u001b[0m,\n",
       "        \u001b[32m'positive regulation of gene expression'\u001b[0m,\n",
       "        \u001b[32m'DNA damage response'\u001b[0m,\n",
       "        \u001b[32m'protein K6-linked ubiquitination'\u001b[0m,\n",
       "        \u001b[32m'protein autoubiquitination'\u001b[0m,\n",
       "        \u001b[32m'RNA binding'\u001b[0m,\n",
       "        \u001b[32m'damaged DNA binding'\u001b[0m,\n",
       "        \u001b[32m'protein polyubiquitination'\u001b[0m,\n",
       "        \u001b[32m'negative regulation of fatty acid biosynthetic process'\u001b[0m,\n",
       "        \u001b[32m'regulation of DNA repair'\u001b[0m,\n",
       "        \u001b[32m'negative regulation of DNA-templated transcription'\u001b[0m,\n",
       "        \u001b[32m'response to ionizing radiation'\u001b[0m,\n",
       "        \u001b[32m'DNA strand resection involved in replication fork processing'\u001b[0m,\n",
       "        \u001b[32m'chordate embryonic development'\u001b[0m,\n",
       "        \u001b[32m'nuclear ubiquitin ligase complex'\u001b[0m,\n",
       "        \u001b[32m'double-strand break repair via homologous recombination'\u001b[0m,\n",
       "        \u001b[32m'regulation of DNA damage checkpoint'\u001b[0m,\n",
       "        \u001b[32m'mitotic G2/M transition checkpoint'\u001b[0m,\n",
       "        \u001b[32m'negative regulation of centriole replication'\u001b[0m,\n",
       "        \u001b[32m'negative regulation of extrinsic apoptotic signaling pathway via death domain receptors'\u001b[0m,\n",
       "        \u001b[32m'XY body'\u001b[0m,\n",
       "        \u001b[32m'protein-containing complex'\u001b[0m,\n",
       "        \u001b[32m'nuclear body'\u001b[0m,\n",
       "        \u001b[32m'cellular response to ionizing radiation'\u001b[0m,\n",
       "        \u001b[32m'ubiquitin protein ligase binding'\u001b[0m,\n",
       "        \u001b[32m'cellular response to indole-3-methanol'\u001b[0m,\n",
       "        \u001b[32m'positive regulation of DNA repair'\u001b[0m,\n",
       "        \u001b[32m'p53 binding'\u001b[0m,\n",
       "        \u001b[32m'dosage compensation by inactivation of X chromosome'\u001b[0m,\n",
       "        \u001b[32m'protein ubiquitination'\u001b[0m,\n",
       "        \u001b[32m'regulation of transcription by RNA polymerase II'\u001b[0m,\n",
       "        \u001b[32m'DNA binding'\u001b[0m,\n",
       "        \u001b[32m'cytoplasm'\u001b[0m,\n",
       "        \u001b[32m'BRCA1-C complex'\u001b[0m,\n",
       "        \u001b[32m'protein binding'\u001b[0m,\n",
       "        \u001b[32m'positive regulation of vascular endothelial growth factor production'\u001b[0m,\n",
       "        \u001b[32m'regulation of cell cycle'\u001b[0m,\n",
       "        \u001b[32m'tubulin binding'\u001b[0m,\n",
       "        \u001b[32m'negative regulation of reactive oxygen species metabolic process'\u001b[0m,\n",
       "        \u001b[32m'transcription coactivator activity'\u001b[0m,\n",
       "        \u001b[32m'BRCA1-BARD1 complex'\u001b[0m,\n",
       "        \u001b[32m'negative regulation of histone acetylation'\u001b[0m,\n",
       "        \u001b[32m'DNA repair'\u001b[0m,\n",
       "        \u001b[32m'lateral element'\u001b[0m,\n",
       "        \u001b[32m'localization'\u001b[0m,\n",
       "        \u001b[32m'nucleoplasm'\u001b[0m,\n",
       "        \u001b[32m'negative regulation of cell cycle'\u001b[0m,\n",
       "        \u001b[32m'gamma-tubulin ring complex'\u001b[0m,\n",
       "        \u001b[32m'negative regulation of intracellular estrogen receptor signaling pathway'\u001b[0m,\n",
       "        \u001b[32m'fatty acid biosynthetic process'\u001b[0m,\n",
       "        \u001b[32m'negative regulation of cell growth'\u001b[0m,\n",
       "        \u001b[32m'chromosome segregation'\u001b[0m,\n",
       "        \u001b[32m'centrosome cycle'\u001b[0m,\n",
       "        \u001b[32m'ubiquitin-protein transferase activity'\u001b[0m,\n",
       "        \u001b[32m'plasma membrane'\u001b[0m,\n",
       "        \u001b[32m'nucleus'\u001b[0m\n",
       "    \u001b[1m]\u001b[0m,\n",
       "    \u001b[1m[\u001b[0m\n",
       "        \u001b[32m'membrane hyperpolarization'\u001b[0m,\n",
       "        \u001b[32m'positive regulation of cyclic nucleotide-gated ion channel activity'\u001b[0m,\n",
       "        \u001b[32m'positive regulation of exocytosis'\u001b[0m,\n",
       "        \u001b[32m'cytosol'\u001b[0m,\n",
       "        \u001b[32m'ATPase-coupled inorganic anion transmembrane transporter activity'\u001b[0m,\n",
       "        \u001b[32m'ATP hydrolysis activity'\u001b[0m,\n",
       "        \u001b[32m'transmembrane transport'\u001b[0m,\n",
       "        \u001b[32m'ATP binding'\u001b[0m,\n",
       "        \u001b[32m'cholesterol transport'\u001b[0m,\n",
       "        \u001b[32m'positive regulation of voltage-gated chloride channel activity'\u001b[0m,\n",
       "        \u001b[32m'isomerase activity'\u001b[0m,\n",
       "        \u001b[32m'positive regulation of insulin secretion involved in cellular response to glucose stimulus'\u001b[0m,\n",
       "        \u001b[32m'ATPase-coupled transmembrane transporter activity'\u001b[0m,\n",
       "        \u001b[32m'recycling endosome'\u001b[0m,\n",
       "        \u001b[32m'early endosome'\u001b[0m,\n",
       "        \u001b[32m'cellular response to forskolin'\u001b[0m,\n",
       "        \u001b[32m'apical plasma membrane'\u001b[0m,\n",
       "        \u001b[32m'recycling endosome membrane'\u001b[0m,\n",
       "        \u001b[32m'protein-containing complex'\u001b[0m,\n",
       "        \u001b[32m'response to endoplasmic reticulum stress'\u001b[0m,\n",
       "        \u001b[32m'membrane'\u001b[0m,\n",
       "        \u001b[32m'cellular response to cAMP'\u001b[0m,\n",
       "        \u001b[32m'amelogenesis'\u001b[0m,\n",
       "        \u001b[32m'nucleus'\u001b[0m,\n",
       "        \u001b[32m'chloride channel complex'\u001b[0m,\n",
       "        \u001b[32m'early endosome membrane'\u001b[0m,\n",
       "        \u001b[32m'ABC-type transporter activity'\u001b[0m,\n",
       "        \u001b[32m'intracellular pH elevation'\u001b[0m,\n",
       "        \u001b[32m'chloride channel activity'\u001b[0m,\n",
       "        \u001b[32m'chloride transmembrane transport'\u001b[0m,\n",
       "        \u001b[32m'multicellular organismal-level water homeostasis'\u001b[0m,\n",
       "        \u001b[32m'enzyme binding'\u001b[0m,\n",
       "        \u001b[32m'endoplasmic reticulum membrane'\u001b[0m,\n",
       "        \u001b[32m'cell surface'\u001b[0m,\n",
       "        \u001b[32m'Golgi-associated vesicle membrane'\u001b[0m,\n",
       "        \u001b[32m'endosome membrane'\u001b[0m,\n",
       "        \u001b[32m'cytoplasm'\u001b[0m,\n",
       "        \u001b[32m'lysosomal membrane'\u001b[0m,\n",
       "        \u001b[32m'vesicle docking involved in exocytosis'\u001b[0m,\n",
       "        \u001b[32m'chloride transmembrane transporter activity'\u001b[0m,\n",
       "        \u001b[32m'cholesterol biosynthetic process'\u001b[0m,\n",
       "        \u001b[32m'transepithelial water transport'\u001b[0m,\n",
       "        \u001b[32m'Sec61 translocon complex binding'\u001b[0m,\n",
       "        \u001b[32m'chloride channel inhibitor activity'\u001b[0m,\n",
       "        \u001b[32m'protein binding'\u001b[0m,\n",
       "        \u001b[32m'sperm capacitation'\u001b[0m,\n",
       "        \u001b[32m'PDZ domain binding'\u001b[0m,\n",
       "        \u001b[32m'protein-folding chaperone binding'\u001b[0m,\n",
       "        \u001b[32m'positive regulation of enamel mineralization'\u001b[0m,\n",
       "        \u001b[32m'intracellularly ATP-gated chloride channel activity'\u001b[0m,\n",
       "        \u001b[32m'bicarbonate transport'\u001b[0m,\n",
       "        \u001b[32m'establishment of localization in cell'\u001b[0m,\n",
       "        \u001b[32m'clathrin-coated endocytic vesicle membrane'\u001b[0m,\n",
       "        \u001b[32m'plasma membrane'\u001b[0m,\n",
       "        \u001b[32m'bicarbonate transmembrane transporter activity'\u001b[0m,\n",
       "        \u001b[32m'chloride channel regulator activity'\u001b[0m\n",
       "    \u001b[1m]\u001b[0m\n",
       "\u001b[1m]\u001b[0m\n"
      ]
     },
     "metadata": {},
     "output_type": "display_data"
    },
    {
     "data": {
      "text/html": [
       "<pre style=\"white-space:pre;overflow-x:auto;line-height:normal;font-family:Menlo,'DejaVu Sans Mono',consolas,'Courier New',monospace\"><span style=\"color: #008080; text-decoration-color: #008080; font-weight: bold\">193</span>\n",
       "</pre>\n"
      ],
      "text/plain": [
       "\u001b[1;36m193\u001b[0m\n"
      ]
     },
     "metadata": {},
     "output_type": "display_data"
    }
   ],
   "source": [
    "# Assuming `dataloader` is your DataLoader instance\n",
    "for i, batch in enumerate(train_loader):\n",
    "    print(batch[0].keys)\n",
    "    print(batch[0]['name'])\n",
    "    print(batch[0]['num_nodes'])\n",
    "    if i == 3:  # Print only the first 4 batches\n",
    "        break"
   ]
  },
  {
   "cell_type": "code",
   "execution_count": 174,
   "id": "3d1d5d2e",
   "metadata": {},
   "outputs": [
    {
     "data": {
      "text/html": [
       "<pre style=\"white-space:pre;overflow-x:auto;line-height:normal;font-family:Menlo,'DejaVu Sans Mono',consolas,'Courier New',monospace\"><span style=\"color: #800000; text-decoration-color: #800000\">╭─────────────────────────────── </span><span style=\"color: #800000; text-decoration-color: #800000; font-weight: bold\">Traceback </span><span style=\"color: #bf7f7f; text-decoration-color: #bf7f7f; font-weight: bold\">(most recent call last)</span><span style=\"color: #800000; text-decoration-color: #800000\"> ────────────────────────────────╮</span>\n",
       "<span style=\"color: #800000; text-decoration-color: #800000\">│</span> in <span style=\"color: #00ff00; text-decoration-color: #00ff00\">&lt;module&gt;</span>:<span style=\"color: #0000ff; text-decoration-color: #0000ff\">1</span>                                                                                    <span style=\"color: #800000; text-decoration-color: #800000\">│</span>\n",
       "<span style=\"color: #800000; text-decoration-color: #800000\">│</span>                                                                                                  <span style=\"color: #800000; text-decoration-color: #800000\">│</span>\n",
       "<span style=\"color: #800000; text-decoration-color: #800000\">│</span> <span style=\"color: #800000; text-decoration-color: #800000\">❱ </span> 1 <span style=\"color: #0000ff; text-decoration-color: #0000ff\">from</span> <span style=\"color: #00ffff; text-decoration-color: #00ffff; text-decoration: underline\">torch_geometric.loaders</span> <span style=\"color: #0000ff; text-decoration-color: #0000ff\">import</span> DataLoader, Dataset                                     <span style=\"color: #800000; text-decoration-color: #800000\">│</span>\n",
       "<span style=\"color: #800000; text-decoration-color: #800000\">│</span>   <span style=\"color: #7f7f7f; text-decoration-color: #7f7f7f\"> 2 </span>                                                                                            <span style=\"color: #800000; text-decoration-color: #800000\">│</span>\n",
       "<span style=\"color: #800000; text-decoration-color: #800000\">│</span>   <span style=\"color: #7f7f7f; text-decoration-color: #7f7f7f\"> 3 </span><span style=\"color: #0000ff; text-decoration-color: #0000ff\">class</span> <span style=\"color: #00ff00; text-decoration-color: #00ff00; text-decoration: underline\">GenePairDataset</span>(Dataset):                                                             <span style=\"color: #800000; text-decoration-color: #800000\">│</span>\n",
       "<span style=\"color: #800000; text-decoration-color: #800000\">│</span>   <span style=\"color: #7f7f7f; text-decoration-color: #7f7f7f\"> 4 </span><span style=\"color: #7f7f7f; text-decoration-color: #7f7f7f\">│   </span><span style=\"color: #0000ff; text-decoration-color: #0000ff\">def</span> <span style=\"color: #00ff00; text-decoration-color: #00ff00\">__init__</span>(<span style=\"color: #00ffff; text-decoration-color: #00ffff\">self</span>, subgraph_pairs, labels):                                             <span style=\"color: #800000; text-decoration-color: #800000\">│</span>\n",
       "<span style=\"color: #800000; text-decoration-color: #800000\">╰──────────────────────────────────────────────────────────────────────────────────────────────────╯</span>\n",
       "<span style=\"color: #ff0000; text-decoration-color: #ff0000; font-weight: bold\">ModuleNotFoundError: </span>No module named <span style=\"color: #008000; text-decoration-color: #008000\">'torch_geometric.loaders'</span>\n",
       "</pre>\n"
      ],
      "text/plain": [
       "\u001b[31m╭─\u001b[0m\u001b[31m──────────────────────────────\u001b[0m\u001b[31m \u001b[0m\u001b[1;31mTraceback \u001b[0m\u001b[1;2;31m(most recent call last)\u001b[0m\u001b[31m \u001b[0m\u001b[31m───────────────────────────────\u001b[0m\u001b[31m─╮\u001b[0m\n",
       "\u001b[31m│\u001b[0m in \u001b[92m<module>\u001b[0m:\u001b[94m1\u001b[0m                                                                                    \u001b[31m│\u001b[0m\n",
       "\u001b[31m│\u001b[0m                                                                                                  \u001b[31m│\u001b[0m\n",
       "\u001b[31m│\u001b[0m \u001b[31m❱ \u001b[0m 1 \u001b[94mfrom\u001b[0m \u001b[4;96mtorch_geometric\u001b[0m\u001b[4;96m.\u001b[0m\u001b[4;96mloaders\u001b[0m \u001b[94mimport\u001b[0m DataLoader, Dataset                                     \u001b[31m│\u001b[0m\n",
       "\u001b[31m│\u001b[0m   \u001b[2m 2 \u001b[0m                                                                                            \u001b[31m│\u001b[0m\n",
       "\u001b[31m│\u001b[0m   \u001b[2m 3 \u001b[0m\u001b[94mclass\u001b[0m \u001b[4;92mGenePairDataset\u001b[0m(Dataset):                                                             \u001b[31m│\u001b[0m\n",
       "\u001b[31m│\u001b[0m   \u001b[2m 4 \u001b[0m\u001b[2m│   \u001b[0m\u001b[94mdef\u001b[0m \u001b[92m__init__\u001b[0m(\u001b[96mself\u001b[0m, subgraph_pairs, labels):                                             \u001b[31m│\u001b[0m\n",
       "\u001b[31m╰──────────────────────────────────────────────────────────────────────────────────────────────────╯\u001b[0m\n",
       "\u001b[1;91mModuleNotFoundError: \u001b[0mNo module named \u001b[32m'torch_geometric.loaders'\u001b[0m\n"
      ]
     },
     "metadata": {},
     "output_type": "display_data"
    }
   ],
   "source": [
    "\n",
    "class GenePairDataset(Dataset):\n",
    "    def __init__(self, subgraph_pairs, labels):\n",
    "        super(GenePairDataset, self).__init__()\n",
    "        self.subgraph_pairs = subgraph_pairs  # List of tuples: [(subgraph1, subgraph2), ...]\n",
    "        self.labels = labels\n",
    "\n",
    "    def len(self):\n",
    "        return len(self.subgraph_pairs)\n",
    "\n",
    "    def get(self, idx):\n",
    "        data1, data2 = self.subgraph_pairs[idx]\n",
    "        # data1, data2, gene1, gene2 = self.subgraph_pairs[idx]\n",
    "        # data1['gene'] = gene1\n",
    "        # data2['gene'] = gene2\n",
    "        label = self.labels[idx]\n",
    "        return data1, data2, label\n",
    "        # return from_networkx_to_data(data1, label), from_networkx_to_data(data2, label), label\n"
   ]
  },
  {
   "cell_type": "code",
   "execution_count": 242,
   "id": "29300620",
   "metadata": {},
   "outputs": [
    {
     "data": {
      "text/html": [
       "<pre style=\"white-space:pre;overflow-x:auto;line-height:normal;font-family:Menlo,'DejaVu Sans Mono',consolas,'Courier New',monospace\">Number of nodes: <span style=\"color: #008080; text-decoration-color: #008080; font-weight: bold\">43</span>\n",
       "</pre>\n"
      ],
      "text/plain": [
       "Number of nodes: \u001b[1;36m43\u001b[0m\n"
      ]
     },
     "metadata": {},
     "output_type": "display_data"
    },
    {
     "data": {
      "text/html": [
       "<pre style=\"white-space:pre;overflow-x:auto;line-height:normal;font-family:Menlo,'DejaVu Sans Mono',consolas,'Courier New',monospace\">Number of edges: <span style=\"color: #008080; text-decoration-color: #008080; font-weight: bold\">19</span>\n",
       "</pre>\n"
      ],
      "text/plain": [
       "Number of edges: \u001b[1;36m19\u001b[0m\n"
      ]
     },
     "metadata": {},
     "output_type": "display_data"
    },
    {
     "data": {
      "text/html": [
       "<pre style=\"white-space:pre;overflow-x:auto;line-height:normal;font-family:Menlo,'DejaVu Sans Mono',consolas,'Courier New',monospace\">Nodes: <span style=\"font-weight: bold\">[</span><span style=\"color: #008000; text-decoration-color: #008000\">'GO:0051726'</span>, <span style=\"color: #008000; text-decoration-color: #008000\">'GO:0006468'</span>, <span style=\"color: #008000; text-decoration-color: #008000\">'GO:0005829'</span>, <span style=\"color: #008000; text-decoration-color: #008000\">'GO:0090169'</span>, <span style=\"color: #008000; text-decoration-color: #008000\">'GO:0004672'</span>, <span style=\"color: #008000; text-decoration-color: #008000\">'GO:0004694'</span>, <span style=\"color: #008000; text-decoration-color: #008000\">'GO:0005524'</span>, \n",
       "<span style=\"color: #008000; text-decoration-color: #008000\">'GO:0005813'</span>, <span style=\"color: #008000; text-decoration-color: #008000\">'GO:0007099'</span>, <span style=\"color: #008000; text-decoration-color: #008000\">'GO:0051298'</span>, <span style=\"color: #008000; text-decoration-color: #008000\">'GO:0000166'</span>, <span style=\"color: #008000; text-decoration-color: #008000\">'GO:0005856'</span>, <span style=\"color: #008000; text-decoration-color: #008000\">'GO:1905342'</span>, <span style=\"color: #008000; text-decoration-color: #008000\">'GO:0000003'</span>, <span style=\"color: #008000; text-decoration-color: #008000\">'GO:0004674'</span>, \n",
       "<span style=\"color: #008000; text-decoration-color: #008000\">'GO:0016301'</span>, <span style=\"color: #008000; text-decoration-color: #008000\">'GO:1904779'</span>, <span style=\"color: #008000; text-decoration-color: #008000\">'GO:0051301'</span>, <span style=\"color: #008000; text-decoration-color: #008000\">'GO:0018105'</span>, <span style=\"color: #008000; text-decoration-color: #008000\">'GO:0010998'</span>, <span style=\"color: #008000; text-decoration-color: #008000\">'GO:0045977'</span>, <span style=\"color: #008000; text-decoration-color: #008000\">'GO:0000278'</span>, <span style=\"color: #008000; text-decoration-color: #008000\">'GO:0042802'</span>, \n",
       "<span style=\"color: #008000; text-decoration-color: #008000\">'GO:1905832'</span>, <span style=\"color: #008000; text-decoration-color: #008000\">'GO:0010824'</span>, <span style=\"color: #008000; text-decoration-color: #008000\">'GO:0005737'</span>, <span style=\"color: #008000; text-decoration-color: #008000\">'GO:0008104'</span>, <span style=\"color: #008000; text-decoration-color: #008000\">'GO:0016740'</span>, <span style=\"color: #008000; text-decoration-color: #008000\">'GO:0051225'</span>, <span style=\"color: #008000; text-decoration-color: #008000\">'GO:0005815'</span>, <span style=\"color: #008000; text-decoration-color: #008000\">'GO:0106310'</span>, \n",
       "<span style=\"color: #008000; text-decoration-color: #008000\">'GO:1990625'</span>, <span style=\"color: #008000; text-decoration-color: #008000\">'GO:0005515'</span>, <span style=\"color: #008000; text-decoration-color: #008000\">'GO:0009794'</span>, <span style=\"color: #008000; text-decoration-color: #008000\">'GO:0016310'</span>, <span style=\"color: #008000; text-decoration-color: #008000\">'GO:0010825'</span>, <span style=\"color: #008000; text-decoration-color: #008000\">'GO:0005814'</span>, <span style=\"color: #008000; text-decoration-color: #008000\">'GO:0007049'</span>, <span style=\"color: #008000; text-decoration-color: #008000\">'GO:0090268'</span>, \n",
       "<span style=\"color: #008000; text-decoration-color: #008000\">'GO:0016048'</span>, <span style=\"color: #008000; text-decoration-color: #008000\">'GO:1903436'</span>, <span style=\"color: #008000; text-decoration-color: #008000\">'GO:0005634'</span>, <span style=\"color: #008000; text-decoration-color: #008000\">'GO:0009792'</span><span style=\"font-weight: bold\">]</span>\n",
       "</pre>\n"
      ],
      "text/plain": [
       "Nodes: \u001b[1m[\u001b[0m\u001b[32m'GO:0051726'\u001b[0m, \u001b[32m'GO:0006468'\u001b[0m, \u001b[32m'GO:0005829'\u001b[0m, \u001b[32m'GO:0090169'\u001b[0m, \u001b[32m'GO:0004672'\u001b[0m, \u001b[32m'GO:0004694'\u001b[0m, \u001b[32m'GO:0005524'\u001b[0m, \n",
       "\u001b[32m'GO:0005813'\u001b[0m, \u001b[32m'GO:0007099'\u001b[0m, \u001b[32m'GO:0051298'\u001b[0m, \u001b[32m'GO:0000166'\u001b[0m, \u001b[32m'GO:0005856'\u001b[0m, \u001b[32m'GO:1905342'\u001b[0m, \u001b[32m'GO:0000003'\u001b[0m, \u001b[32m'GO:0004674'\u001b[0m, \n",
       "\u001b[32m'GO:0016301'\u001b[0m, \u001b[32m'GO:1904779'\u001b[0m, \u001b[32m'GO:0051301'\u001b[0m, \u001b[32m'GO:0018105'\u001b[0m, \u001b[32m'GO:0010998'\u001b[0m, \u001b[32m'GO:0045977'\u001b[0m, \u001b[32m'GO:0000278'\u001b[0m, \u001b[32m'GO:0042802'\u001b[0m, \n",
       "\u001b[32m'GO:1905832'\u001b[0m, \u001b[32m'GO:0010824'\u001b[0m, \u001b[32m'GO:0005737'\u001b[0m, \u001b[32m'GO:0008104'\u001b[0m, \u001b[32m'GO:0016740'\u001b[0m, \u001b[32m'GO:0051225'\u001b[0m, \u001b[32m'GO:0005815'\u001b[0m, \u001b[32m'GO:0106310'\u001b[0m, \n",
       "\u001b[32m'GO:1990625'\u001b[0m, \u001b[32m'GO:0005515'\u001b[0m, \u001b[32m'GO:0009794'\u001b[0m, \u001b[32m'GO:0016310'\u001b[0m, \u001b[32m'GO:0010825'\u001b[0m, \u001b[32m'GO:0005814'\u001b[0m, \u001b[32m'GO:0007049'\u001b[0m, \u001b[32m'GO:0090268'\u001b[0m, \n",
       "\u001b[32m'GO:0016048'\u001b[0m, \u001b[32m'GO:1903436'\u001b[0m, \u001b[32m'GO:0005634'\u001b[0m, \u001b[32m'GO:0009792'\u001b[0m\u001b[1m]\u001b[0m\n"
      ]
     },
     "metadata": {},
     "output_type": "display_data"
    },
    {
     "data": {
      "text/html": [
       "<pre style=\"white-space:pre;overflow-x:auto;line-height:normal;font-family:Menlo,'DejaVu Sans Mono',consolas,'Courier New',monospace\">Edges: <span style=\"font-weight: bold\">[(</span><span style=\"color: #008000; text-decoration-color: #008000\">'GO:0006468'</span>, <span style=\"color: #008000; text-decoration-color: #008000\">'GO:0018105'</span><span style=\"font-weight: bold\">)</span>, <span style=\"font-weight: bold\">(</span><span style=\"color: #008000; text-decoration-color: #008000\">'GO:0006468'</span>, <span style=\"color: #008000; text-decoration-color: #008000\">'GO:0010998'</span><span style=\"font-weight: bold\">)</span>, <span style=\"font-weight: bold\">(</span><span style=\"color: #008000; text-decoration-color: #008000\">'GO:0090169'</span>, <span style=\"color: #008000; text-decoration-color: #008000\">'GO:1905832'</span><span style=\"font-weight: bold\">)</span>, <span style=\"font-weight: bold\">(</span><span style=\"color: #008000; text-decoration-color: #008000\">'GO:0004672'</span>, \n",
       "<span style=\"color: #008000; text-decoration-color: #008000\">'GO:0004674'</span><span style=\"font-weight: bold\">)</span>, <span style=\"font-weight: bold\">(</span><span style=\"color: #008000; text-decoration-color: #008000\">'GO:0004672'</span>, <span style=\"color: #008000; text-decoration-color: #008000\">'GO:0106310'</span><span style=\"font-weight: bold\">)</span>, <span style=\"font-weight: bold\">(</span><span style=\"color: #008000; text-decoration-color: #008000\">'GO:0051298'</span>, <span style=\"color: #008000; text-decoration-color: #008000\">'GO:0010824'</span><span style=\"font-weight: bold\">)</span>, <span style=\"font-weight: bold\">(</span><span style=\"color: #008000; text-decoration-color: #008000\">'GO:0051298'</span>, <span style=\"color: #008000; text-decoration-color: #008000\">'GO:0007099'</span><span style=\"font-weight: bold\">)</span>, \n",
       "<span style=\"font-weight: bold\">(</span><span style=\"color: #008000; text-decoration-color: #008000\">'GO:0004674'</span>, <span style=\"color: #008000; text-decoration-color: #008000\">'GO:0004694'</span><span style=\"font-weight: bold\">)</span>, <span style=\"font-weight: bold\">(</span><span style=\"color: #008000; text-decoration-color: #008000\">'GO:0016301'</span>, <span style=\"color: #008000; text-decoration-color: #008000\">'GO:0004672'</span><span style=\"font-weight: bold\">)</span>, <span style=\"font-weight: bold\">(</span><span style=\"color: #008000; text-decoration-color: #008000\">'GO:0010824'</span>, <span style=\"color: #008000; text-decoration-color: #008000\">'GO:0010825'</span><span style=\"font-weight: bold\">)</span>, <span style=\"font-weight: bold\">(</span><span style=\"color: #008000; text-decoration-color: #008000\">'GO:0005737'</span>, \n",
       "<span style=\"color: #008000; text-decoration-color: #008000\">'GO:0005829'</span><span style=\"font-weight: bold\">)</span>, <span style=\"font-weight: bold\">(</span><span style=\"color: #008000; text-decoration-color: #008000\">'GO:0051225'</span>, <span style=\"color: #008000; text-decoration-color: #008000\">'GO:0090169'</span><span style=\"font-weight: bold\">)</span>, <span style=\"font-weight: bold\">(</span><span style=\"color: #008000; text-decoration-color: #008000\">'GO:0005815'</span>, <span style=\"color: #008000; text-decoration-color: #008000\">'GO:0005814'</span><span style=\"font-weight: bold\">)</span>, <span style=\"font-weight: bold\">(</span><span style=\"color: #008000; text-decoration-color: #008000\">'GO:0005815'</span>, <span style=\"color: #008000; text-decoration-color: #008000\">'GO:0005813'</span><span style=\"font-weight: bold\">)</span>, \n",
       "<span style=\"font-weight: bold\">(</span><span style=\"color: #008000; text-decoration-color: #008000\">'GO:0005515'</span>, <span style=\"color: #008000; text-decoration-color: #008000\">'GO:0042802'</span><span style=\"font-weight: bold\">)</span>, <span style=\"font-weight: bold\">(</span><span style=\"color: #008000; text-decoration-color: #008000\">'GO:0009794'</span>, <span style=\"color: #008000; text-decoration-color: #008000\">'GO:0045977'</span><span style=\"font-weight: bold\">)</span>, <span style=\"font-weight: bold\">(</span><span style=\"color: #008000; text-decoration-color: #008000\">'GO:0016310'</span>, <span style=\"color: #008000; text-decoration-color: #008000\">'GO:0006468'</span><span style=\"font-weight: bold\">)</span>, <span style=\"font-weight: bold\">(</span><span style=\"color: #008000; text-decoration-color: #008000\">'GO:0007049'</span>, \n",
       "<span style=\"color: #008000; text-decoration-color: #008000\">'GO:0051726'</span><span style=\"font-weight: bold\">)</span>, <span style=\"font-weight: bold\">(</span><span style=\"color: #008000; text-decoration-color: #008000\">'GO:0007049'</span>, <span style=\"color: #008000; text-decoration-color: #008000\">'GO:0000278'</span><span style=\"font-weight: bold\">)]</span>\n",
       "</pre>\n"
      ],
      "text/plain": [
       "Edges: \u001b[1m[\u001b[0m\u001b[1m(\u001b[0m\u001b[32m'GO:0006468'\u001b[0m, \u001b[32m'GO:0018105'\u001b[0m\u001b[1m)\u001b[0m, \u001b[1m(\u001b[0m\u001b[32m'GO:0006468'\u001b[0m, \u001b[32m'GO:0010998'\u001b[0m\u001b[1m)\u001b[0m, \u001b[1m(\u001b[0m\u001b[32m'GO:0090169'\u001b[0m, \u001b[32m'GO:1905832'\u001b[0m\u001b[1m)\u001b[0m, \u001b[1m(\u001b[0m\u001b[32m'GO:0004672'\u001b[0m, \n",
       "\u001b[32m'GO:0004674'\u001b[0m\u001b[1m)\u001b[0m, \u001b[1m(\u001b[0m\u001b[32m'GO:0004672'\u001b[0m, \u001b[32m'GO:0106310'\u001b[0m\u001b[1m)\u001b[0m, \u001b[1m(\u001b[0m\u001b[32m'GO:0051298'\u001b[0m, \u001b[32m'GO:0010824'\u001b[0m\u001b[1m)\u001b[0m, \u001b[1m(\u001b[0m\u001b[32m'GO:0051298'\u001b[0m, \u001b[32m'GO:0007099'\u001b[0m\u001b[1m)\u001b[0m, \n",
       "\u001b[1m(\u001b[0m\u001b[32m'GO:0004674'\u001b[0m, \u001b[32m'GO:0004694'\u001b[0m\u001b[1m)\u001b[0m, \u001b[1m(\u001b[0m\u001b[32m'GO:0016301'\u001b[0m, \u001b[32m'GO:0004672'\u001b[0m\u001b[1m)\u001b[0m, \u001b[1m(\u001b[0m\u001b[32m'GO:0010824'\u001b[0m, \u001b[32m'GO:0010825'\u001b[0m\u001b[1m)\u001b[0m, \u001b[1m(\u001b[0m\u001b[32m'GO:0005737'\u001b[0m, \n",
       "\u001b[32m'GO:0005829'\u001b[0m\u001b[1m)\u001b[0m, \u001b[1m(\u001b[0m\u001b[32m'GO:0051225'\u001b[0m, \u001b[32m'GO:0090169'\u001b[0m\u001b[1m)\u001b[0m, \u001b[1m(\u001b[0m\u001b[32m'GO:0005815'\u001b[0m, \u001b[32m'GO:0005814'\u001b[0m\u001b[1m)\u001b[0m, \u001b[1m(\u001b[0m\u001b[32m'GO:0005815'\u001b[0m, \u001b[32m'GO:0005813'\u001b[0m\u001b[1m)\u001b[0m, \n",
       "\u001b[1m(\u001b[0m\u001b[32m'GO:0005515'\u001b[0m, \u001b[32m'GO:0042802'\u001b[0m\u001b[1m)\u001b[0m, \u001b[1m(\u001b[0m\u001b[32m'GO:0009794'\u001b[0m, \u001b[32m'GO:0045977'\u001b[0m\u001b[1m)\u001b[0m, \u001b[1m(\u001b[0m\u001b[32m'GO:0016310'\u001b[0m, \u001b[32m'GO:0006468'\u001b[0m\u001b[1m)\u001b[0m, \u001b[1m(\u001b[0m\u001b[32m'GO:0007049'\u001b[0m, \n",
       "\u001b[32m'GO:0051726'\u001b[0m\u001b[1m)\u001b[0m, \u001b[1m(\u001b[0m\u001b[32m'GO:0007049'\u001b[0m, \u001b[32m'GO:0000278'\u001b[0m\u001b[1m)\u001b[0m\u001b[1m]\u001b[0m\n"
      ]
     },
     "metadata": {},
     "output_type": "display_data"
    },
    {
     "data": {
      "text/html": [
       "<pre style=\"white-space:pre;overflow-x:auto;line-height:normal;font-family:Menlo,'DejaVu Sans Mono',consolas,'Courier New',monospace\">Graph attributes:\n",
       "<span style=\"font-weight: bold\">{</span><span style=\"color: #008000; text-decoration-color: #008000\">'ontology'</span>: <span style=\"color: #008000; text-decoration-color: #008000\">'go'</span>, <span style=\"color: #008000; text-decoration-color: #008000\">'data_version'</span>: <span style=\"color: #008000; text-decoration-color: #008000\">'releases/2023-10-09'</span>, <span style=\"color: #008000; text-decoration-color: #008000\">'gene'</span>: <span style=\"color: #008000; text-decoration-color: #008000\">'zyg-1'</span><span style=\"font-weight: bold\">}</span>\n",
       "</pre>\n"
      ],
      "text/plain": [
       "Graph attributes:\n",
       "\u001b[1m{\u001b[0m\u001b[32m'ontology'\u001b[0m: \u001b[32m'go'\u001b[0m, \u001b[32m'data_version'\u001b[0m: \u001b[32m'releases/2023-10-09'\u001b[0m, \u001b[32m'gene'\u001b[0m: \u001b[32m'zyg-1'\u001b[0m\u001b[1m}\u001b[0m\n"
      ]
     },
     "metadata": {},
     "output_type": "display_data"
    },
    {
     "data": {
      "text/html": [
       "<pre style=\"white-space:pre;overflow-x:auto;line-height:normal;font-family:Menlo,'DejaVu Sans Mono',consolas,'Courier New',monospace\">Attributes of the first node <span style=\"font-weight: bold\">(</span>GO:<span style=\"color: #008080; text-decoration-color: #008080; font-weight: bold\">0051726</span><span style=\"font-weight: bold\">)</span>:\n",
       "<span style=\"font-weight: bold\">{</span><span style=\"color: #008000; text-decoration-color: #008000\">'identifier'</span>: <span style=\"color: #008000; text-decoration-color: #008000\">'GO:0051726'</span>, <span style=\"color: #008000; text-decoration-color: #008000\">'name'</span>: <span style=\"color: #008000; text-decoration-color: #008000\">'regulation of cell cycle'</span>, <span style=\"color: #008000; text-decoration-color: #008000\">'namespace'</span>: <span style=\"color: #008000; text-decoration-color: #008000\">'biological_process'</span><span style=\"font-weight: bold\">}</span>\n",
       "</pre>\n"
      ],
      "text/plain": [
       "Attributes of the first node \u001b[1m(\u001b[0mGO:\u001b[1;36m0051726\u001b[0m\u001b[1m)\u001b[0m:\n",
       "\u001b[1m{\u001b[0m\u001b[32m'identifier'\u001b[0m: \u001b[32m'GO:0051726'\u001b[0m, \u001b[32m'name'\u001b[0m: \u001b[32m'regulation of cell cycle'\u001b[0m, \u001b[32m'namespace'\u001b[0m: \u001b[32m'biological_process'\u001b[0m\u001b[1m}\u001b[0m\n"
      ]
     },
     "metadata": {},
     "output_type": "display_data"
    },
    {
     "data": {
      "text/html": [
       "<pre style=\"white-space:pre;overflow-x:auto;line-height:normal;font-family:Menlo,'DejaVu Sans Mono',consolas,'Courier New',monospace\">Attributes of the first edge <span style=\"font-weight: bold\">((</span><span style=\"color: #008000; text-decoration-color: #008000\">'GO:0006468'</span>, <span style=\"color: #008000; text-decoration-color: #008000\">'GO:0018105'</span><span style=\"font-weight: bold\">))</span>:\n",
       "<span style=\"font-weight: bold\">{</span><span style=\"color: #008000; text-decoration-color: #008000\">'rel_types'</span>: <span style=\"font-weight: bold\">[</span><span style=\"color: #008000; text-decoration-color: #008000\">'is a'</span><span style=\"font-weight: bold\">]}</span>\n",
       "</pre>\n"
      ],
      "text/plain": [
       "Attributes of the first edge \u001b[1m(\u001b[0m\u001b[1m(\u001b[0m\u001b[32m'GO:0006468'\u001b[0m, \u001b[32m'GO:0018105'\u001b[0m\u001b[1m)\u001b[0m\u001b[1m)\u001b[0m:\n",
       "\u001b[1m{\u001b[0m\u001b[32m'rel_types'\u001b[0m: \u001b[1m[\u001b[0m\u001b[32m'is a'\u001b[0m\u001b[1m]\u001b[0m\u001b[1m}\u001b[0m\n"
      ]
     },
     "metadata": {},
     "output_type": "display_data"
    }
   ],
   "source": [
    "a = cleaned_df['target_GOs_subgraph'].sample(1).values[0]\n",
    "\n",
    "# Print the number of nodes and edges in the graph\n",
    "print(f\"Number of nodes: {a.number_of_nodes()}\")\n",
    "print(f\"Number of edges: {a.number_of_edges()}\")\n",
    "\n",
    "# Print the nodes in the graph\n",
    "print(\"Nodes:\", a.nodes())\n",
    "\n",
    "# Print the edges in the graph\n",
    "print(\"Edges:\", a.edges())\n",
    "\n",
    "# Print the attributes of the graph\n",
    "print(\"Graph attributes:\", a.graph)\n",
    "\n",
    "# If nodes have attributes, print the attributes of the first node\n",
    "if a.number_of_nodes() > 0:\n",
    "    first_node = list(a.nodes())[0]\n",
    "    print(f\"Attributes of the first node ({first_node}):\", a.nodes[first_node])\n",
    "\n",
    "# If edges have attributes, print the attributes of the first edge\n",
    "if a.number_of_edges() > 0:\n",
    "    first_edge = list(a.edges())[0]\n",
    "    print(f\"Attributes of the first edge ({first_edge}):\", a.edges[first_edge])"
   ]
  },
  {
   "cell_type": "code",
   "execution_count": 228,
   "id": "20cfd045",
   "metadata": {},
   "outputs": [
    {
     "data": {
      "text/html": [
       "<pre style=\"white-space:pre;overflow-x:auto;line-height:normal;font-family:Menlo,'DejaVu Sans Mono',consolas,'Courier New',monospace\"><span style=\"color: #7fbfbf; text-decoration-color: #7fbfbf\">[12/11/23 03:44:01] </span><span style=\"color: #800000; text-decoration-color: #800000\">WARNING </span> <span style=\"color: #800080; text-decoration-color: #800080\">/home/rahit/jupyter_py3/lib/python3.8/site-packages/torch_geometric/</span><span style=\"color: #ff00ff; text-decoration-color: #ff00ff\">de</span> <a href=\"file:///cvmfs/soft.computecanada.ca/easybuild/software/2020/avx2/Core/python/3.8.10/lib/python3.8/warnings.py\" target=\"_blank\"><span style=\"color: #7f7f7f; text-decoration-color: #7f7f7f\">warnings.py</span></a><span style=\"color: #7f7f7f; text-decoration-color: #7f7f7f\">:</span><a href=\"file:///cvmfs/soft.computecanada.ca/easybuild/software/2020/avx2/Core/python/3.8.10/lib/python3.8/warnings.py#109\" target=\"_blank\"><span style=\"color: #7f7f7f; text-decoration-color: #7f7f7f\">109</span></a>\n",
       "<span style=\"color: #7fbfbf; text-decoration-color: #7fbfbf\">                    </span>         <span style=\"color: #ff00ff; text-decoration-color: #ff00ff\">precation.py</span>:<span style=\"color: #008080; text-decoration-color: #008080; font-weight: bold\">12</span>: UserWarning: <span style=\"color: #008000; text-decoration-color: #008000\">'data.DataLoader'</span> is deprecated, use     <span style=\"color: #7f7f7f; text-decoration-color: #7f7f7f\">               </span>\n",
       "<span style=\"color: #7fbfbf; text-decoration-color: #7fbfbf\">                    </span>         <span style=\"color: #008000; text-decoration-color: #008000\">'loader.DataLoader'</span> instead                                            <span style=\"color: #7f7f7f; text-decoration-color: #7f7f7f\">               </span>\n",
       "<span style=\"color: #7fbfbf; text-decoration-color: #7fbfbf\">                    </span>           <span style=\"color: #800080; text-decoration-color: #800080; font-weight: bold\">warnings.warn</span><span style=\"font-weight: bold\">(</span>out<span style=\"font-weight: bold\">)</span>                                                   <span style=\"color: #7f7f7f; text-decoration-color: #7f7f7f\">               </span>\n",
       "<span style=\"color: #7fbfbf; text-decoration-color: #7fbfbf\">                    </span>                                                                                <span style=\"color: #7f7f7f; text-decoration-color: #7f7f7f\">               </span>\n",
       "</pre>\n"
      ],
      "text/plain": [
       "\u001b[2;36m[12/11/23 03:44:01]\u001b[0m\u001b[2;36m \u001b[0m\u001b[31mWARNING \u001b[0m \u001b[35m/home/rahit/jupyter_py3/lib/python3.8/site-packages/torch_geometric/\u001b[0m\u001b[95mde\u001b[0m \u001b]8;id=985723;file:///cvmfs/soft.computecanada.ca/easybuild/software/2020/avx2/Core/python/3.8.10/lib/python3.8/warnings.py\u001b\\\u001b[2mwarnings.py\u001b[0m\u001b]8;;\u001b\\\u001b[2m:\u001b[0m\u001b]8;id=333326;file:///cvmfs/soft.computecanada.ca/easybuild/software/2020/avx2/Core/python/3.8.10/lib/python3.8/warnings.py#109\u001b\\\u001b[2m109\u001b[0m\u001b]8;;\u001b\\\n",
       "\u001b[2;36m                    \u001b[0m         \u001b[95mprecation.py\u001b[0m:\u001b[1;36m12\u001b[0m: UserWarning: \u001b[32m'data.DataLoader'\u001b[0m is deprecated, use     \u001b[2m               \u001b[0m\n",
       "\u001b[2;36m                    \u001b[0m         \u001b[32m'loader.DataLoader'\u001b[0m instead                                            \u001b[2m               \u001b[0m\n",
       "\u001b[2;36m                    \u001b[0m           \u001b[1;35mwarnings.warn\u001b[0m\u001b[1m(\u001b[0mout\u001b[1m)\u001b[0m                                                   \u001b[2m               \u001b[0m\n",
       "\u001b[2;36m                    \u001b[0m                                                                                \u001b[2m               \u001b[0m\n"
      ]
     },
     "metadata": {},
     "output_type": "display_data"
    }
   ],
   "source": [
    "batch_size = 2\n",
    "\n",
    "cleaned_df = dataset_df.dropna(how='any', subset=['target_GOs_subgraph', 'modifier_GOs_subgraph']).reindex()\n",
    "\n",
    "cleaned_df['target_pyg'] = cleaned_df['target_GOs_subgraph'].apply(convert.from_networkx)\n",
    "cleaned_df['modifier_pyg'] = cleaned_df['modifier_GOs_subgraph'].apply(convert.from_networkx)\n",
    "\n",
    "train_df = cleaned_df[~(cleaned_df['source']=='MTG')]\n",
    "valid_df = cleaned_df[cleaned_df['source']=='MTG']\n",
    "\n",
    "training_pairs = list(zip(train_df['target_pyg'], train_df['modifier_pyg']))\n",
    "valid_pairs = list(zip(valid_df['target_pyg'], valid_df['modifier_pyg']))\n",
    "\n",
    "\n",
    "train_dataset = GenePairDataset(training_pairs, train_df['is_modifier'].values)\n",
    "valid_dataset = GenePairDataset(valid_pairs, valid_df['is_modifier'].values)\n",
    "\n",
    "\n",
    "train_loader = DataLoader(train_dataset, batch_size=batch_size, shuffle=True)\n",
    "valid_loader = DataLoader(valid_dataset, batch_size=batch_size, shuffle=True)\n",
    "\n",
    "# # Prepare data loaders\n",
    "# train_loader = prepare_dataloader(train_df)\n",
    "# valid_loader = prepare_dataloader(valid_df)"
   ]
  },
  {
   "cell_type": "code",
   "execution_count": 167,
   "id": "e9feb782",
   "metadata": {},
   "outputs": [
    {
     "data": {
      "text/html": [
       "<pre style=\"white-space:pre;overflow-x:auto;line-height:normal;font-family:Menlo,'DejaVu Sans Mono',consolas,'Courier New',monospace\"><span style=\"color: #800080; text-decoration-color: #800080; font-weight: bold\">Data</span><span style=\"font-weight: bold\">(</span><span style=\"color: #808000; text-decoration-color: #808000\">edge_index</span>=<span style=\"font-weight: bold\">[</span><span style=\"color: #008080; text-decoration-color: #008080; font-weight: bold\">2</span>, <span style=\"color: #008080; text-decoration-color: #008080; font-weight: bold\">13</span><span style=\"font-weight: bold\">]</span>, <span style=\"color: #808000; text-decoration-color: #808000\">identifier</span>=<span style=\"font-weight: bold\">[</span><span style=\"color: #008080; text-decoration-color: #008080; font-weight: bold\">56</span><span style=\"font-weight: bold\">]</span>, <span style=\"color: #808000; text-decoration-color: #808000\">name</span>=<span style=\"font-weight: bold\">[</span><span style=\"color: #008080; text-decoration-color: #008080; font-weight: bold\">56</span><span style=\"font-weight: bold\">]</span>, <span style=\"color: #808000; text-decoration-color: #808000\">namespace</span>=<span style=\"font-weight: bold\">[</span><span style=\"color: #008080; text-decoration-color: #008080; font-weight: bold\">56</span><span style=\"font-weight: bold\">]</span>, <span style=\"color: #808000; text-decoration-color: #808000\">rel_types</span>=<span style=\"font-weight: bold\">[</span><span style=\"color: #008080; text-decoration-color: #008080; font-weight: bold\">13</span><span style=\"font-weight: bold\">]</span>, <span style=\"color: #808000; text-decoration-color: #808000\">ontology</span>=<span style=\"color: #008000; text-decoration-color: #008000\">'go'</span>, \n",
       "<span style=\"color: #808000; text-decoration-color: #808000\">data_version</span>=<span style=\"color: #008000; text-decoration-color: #008000\">'releases/2023-10-09'</span>, <span style=\"color: #808000; text-decoration-color: #808000\">gene</span>=<span style=\"color: #008000; text-decoration-color: #008000\">'CFTR'</span>, <span style=\"color: #808000; text-decoration-color: #808000\">num_nodes</span>=<span style=\"color: #008080; text-decoration-color: #008080; font-weight: bold\">56</span><span style=\"font-weight: bold\">)</span>\n",
       "</pre>\n"
      ],
      "text/plain": [
       "\u001b[1;35mData\u001b[0m\u001b[1m(\u001b[0m\u001b[33medge_index\u001b[0m=\u001b[1m[\u001b[0m\u001b[1;36m2\u001b[0m, \u001b[1;36m13\u001b[0m\u001b[1m]\u001b[0m, \u001b[33midentifier\u001b[0m=\u001b[1m[\u001b[0m\u001b[1;36m56\u001b[0m\u001b[1m]\u001b[0m, \u001b[33mname\u001b[0m=\u001b[1m[\u001b[0m\u001b[1;36m56\u001b[0m\u001b[1m]\u001b[0m, \u001b[33mnamespace\u001b[0m=\u001b[1m[\u001b[0m\u001b[1;36m56\u001b[0m\u001b[1m]\u001b[0m, \u001b[33mrel_types\u001b[0m=\u001b[1m[\u001b[0m\u001b[1;36m13\u001b[0m\u001b[1m]\u001b[0m, \u001b[33montology\u001b[0m=\u001b[32m'go'\u001b[0m, \n",
       "\u001b[33mdata_version\u001b[0m=\u001b[32m'releases/2023-10-09'\u001b[0m, \u001b[33mgene\u001b[0m=\u001b[32m'CFTR'\u001b[0m, \u001b[33mnum_nodes\u001b[0m=\u001b[1;36m56\u001b[0m\u001b[1m)\u001b[0m\n"
      ]
     },
     "metadata": {},
     "output_type": "display_data"
    },
    {
     "data": {
      "text/html": [
       "<pre style=\"white-space:pre;overflow-x:auto;line-height:normal;font-family:Menlo,'DejaVu Sans Mono',consolas,'Courier New',monospace\"><span style=\"color: #800080; text-decoration-color: #800080; font-weight: bold\">Data</span><span style=\"font-weight: bold\">(</span><span style=\"color: #808000; text-decoration-color: #808000\">edge_index</span>=<span style=\"font-weight: bold\">[</span><span style=\"color: #008080; text-decoration-color: #008080; font-weight: bold\">2</span>, <span style=\"color: #008080; text-decoration-color: #008080; font-weight: bold\">7</span><span style=\"font-weight: bold\">]</span>, <span style=\"color: #808000; text-decoration-color: #808000\">identifier</span>=<span style=\"font-weight: bold\">[</span><span style=\"color: #008080; text-decoration-color: #008080; font-weight: bold\">31</span><span style=\"font-weight: bold\">]</span>, <span style=\"color: #808000; text-decoration-color: #808000\">name</span>=<span style=\"font-weight: bold\">[</span><span style=\"color: #008080; text-decoration-color: #008080; font-weight: bold\">31</span><span style=\"font-weight: bold\">]</span>, <span style=\"color: #808000; text-decoration-color: #808000\">namespace</span>=<span style=\"font-weight: bold\">[</span><span style=\"color: #008080; text-decoration-color: #008080; font-weight: bold\">31</span><span style=\"font-weight: bold\">]</span>, <span style=\"color: #808000; text-decoration-color: #808000\">rel_types</span>=<span style=\"font-weight: bold\">[</span><span style=\"color: #008080; text-decoration-color: #008080; font-weight: bold\">7</span><span style=\"font-weight: bold\">]</span>, <span style=\"color: #808000; text-decoration-color: #808000\">ontology</span>=<span style=\"color: #008000; text-decoration-color: #008000\">'go'</span>, \n",
       "<span style=\"color: #808000; text-decoration-color: #808000\">data_version</span>=<span style=\"color: #008000; text-decoration-color: #008000\">'releases/2023-10-09'</span>, <span style=\"color: #808000; text-decoration-color: #808000\">gene</span>=<span style=\"color: #008000; text-decoration-color: #008000\">'HBB'</span>, <span style=\"color: #808000; text-decoration-color: #808000\">num_nodes</span>=<span style=\"color: #008080; text-decoration-color: #008080; font-weight: bold\">31</span><span style=\"font-weight: bold\">)</span>\n",
       "</pre>\n"
      ],
      "text/plain": [
       "\u001b[1;35mData\u001b[0m\u001b[1m(\u001b[0m\u001b[33medge_index\u001b[0m=\u001b[1m[\u001b[0m\u001b[1;36m2\u001b[0m, \u001b[1;36m7\u001b[0m\u001b[1m]\u001b[0m, \u001b[33midentifier\u001b[0m=\u001b[1m[\u001b[0m\u001b[1;36m31\u001b[0m\u001b[1m]\u001b[0m, \u001b[33mname\u001b[0m=\u001b[1m[\u001b[0m\u001b[1;36m31\u001b[0m\u001b[1m]\u001b[0m, \u001b[33mnamespace\u001b[0m=\u001b[1m[\u001b[0m\u001b[1;36m31\u001b[0m\u001b[1m]\u001b[0m, \u001b[33mrel_types\u001b[0m=\u001b[1m[\u001b[0m\u001b[1;36m7\u001b[0m\u001b[1m]\u001b[0m, \u001b[33montology\u001b[0m=\u001b[32m'go'\u001b[0m, \n",
       "\u001b[33mdata_version\u001b[0m=\u001b[32m'releases/2023-10-09'\u001b[0m, \u001b[33mgene\u001b[0m=\u001b[32m'HBB'\u001b[0m, \u001b[33mnum_nodes\u001b[0m=\u001b[1;36m31\u001b[0m\u001b[1m)\u001b[0m\n"
      ]
     },
     "metadata": {},
     "output_type": "display_data"
    },
    {
     "data": {
      "text/html": [
       "<pre style=\"white-space:pre;overflow-x:auto;line-height:normal;font-family:Menlo,'DejaVu Sans Mono',consolas,'Courier New',monospace\"><span style=\"color: #800080; text-decoration-color: #800080; font-weight: bold\">Data</span><span style=\"font-weight: bold\">(</span><span style=\"color: #808000; text-decoration-color: #808000\">edge_index</span>=<span style=\"font-weight: bold\">[</span><span style=\"color: #008080; text-decoration-color: #008080; font-weight: bold\">2</span>, <span style=\"color: #008080; text-decoration-color: #008080; font-weight: bold\">4</span><span style=\"font-weight: bold\">]</span>, <span style=\"color: #808000; text-decoration-color: #808000\">identifier</span>=<span style=\"font-weight: bold\">[</span><span style=\"color: #008080; text-decoration-color: #008080; font-weight: bold\">28</span><span style=\"font-weight: bold\">]</span>, <span style=\"color: #808000; text-decoration-color: #808000\">name</span>=<span style=\"font-weight: bold\">[</span><span style=\"color: #008080; text-decoration-color: #008080; font-weight: bold\">28</span><span style=\"font-weight: bold\">]</span>, <span style=\"color: #808000; text-decoration-color: #808000\">namespace</span>=<span style=\"font-weight: bold\">[</span><span style=\"color: #008080; text-decoration-color: #008080; font-weight: bold\">28</span><span style=\"font-weight: bold\">]</span>, <span style=\"color: #808000; text-decoration-color: #808000\">rel_types</span>=<span style=\"font-weight: bold\">[</span><span style=\"color: #008080; text-decoration-color: #008080; font-weight: bold\">4</span><span style=\"font-weight: bold\">]</span>, <span style=\"color: #808000; text-decoration-color: #808000\">ontology</span>=<span style=\"color: #008000; text-decoration-color: #008000\">'go'</span>, \n",
       "<span style=\"color: #808000; text-decoration-color: #808000\">data_version</span>=<span style=\"color: #008000; text-decoration-color: #008000\">'releases/2023-10-09'</span>, <span style=\"color: #808000; text-decoration-color: #808000\">gene</span>=<span style=\"color: #008000; text-decoration-color: #008000\">'PARP3'</span>, <span style=\"color: #808000; text-decoration-color: #808000\">num_nodes</span>=<span style=\"color: #008080; text-decoration-color: #008080; font-weight: bold\">28</span><span style=\"font-weight: bold\">)</span>\n",
       "</pre>\n"
      ],
      "text/plain": [
       "\u001b[1;35mData\u001b[0m\u001b[1m(\u001b[0m\u001b[33medge_index\u001b[0m=\u001b[1m[\u001b[0m\u001b[1;36m2\u001b[0m, \u001b[1;36m4\u001b[0m\u001b[1m]\u001b[0m, \u001b[33midentifier\u001b[0m=\u001b[1m[\u001b[0m\u001b[1;36m28\u001b[0m\u001b[1m]\u001b[0m, \u001b[33mname\u001b[0m=\u001b[1m[\u001b[0m\u001b[1;36m28\u001b[0m\u001b[1m]\u001b[0m, \u001b[33mnamespace\u001b[0m=\u001b[1m[\u001b[0m\u001b[1;36m28\u001b[0m\u001b[1m]\u001b[0m, \u001b[33mrel_types\u001b[0m=\u001b[1m[\u001b[0m\u001b[1;36m4\u001b[0m\u001b[1m]\u001b[0m, \u001b[33montology\u001b[0m=\u001b[32m'go'\u001b[0m, \n",
       "\u001b[33mdata_version\u001b[0m=\u001b[32m'releases/2023-10-09'\u001b[0m, \u001b[33mgene\u001b[0m=\u001b[32m'PARP3'\u001b[0m, \u001b[33mnum_nodes\u001b[0m=\u001b[1;36m28\u001b[0m\u001b[1m)\u001b[0m\n"
      ]
     },
     "metadata": {},
     "output_type": "display_data"
    },
    {
     "data": {
      "text/html": [
       "<pre style=\"white-space:pre;overflow-x:auto;line-height:normal;font-family:Menlo,'DejaVu Sans Mono',consolas,'Courier New',monospace\"><span style=\"color: #800080; text-decoration-color: #800080; font-weight: bold\">Data</span><span style=\"font-weight: bold\">(</span><span style=\"color: #808000; text-decoration-color: #808000\">edge_index</span>=<span style=\"font-weight: bold\">[</span><span style=\"color: #008080; text-decoration-color: #008080; font-weight: bold\">2</span>, <span style=\"color: #008080; text-decoration-color: #008080; font-weight: bold\">8</span><span style=\"font-weight: bold\">]</span>, <span style=\"color: #808000; text-decoration-color: #808000\">identifier</span>=<span style=\"font-weight: bold\">[</span><span style=\"color: #008080; text-decoration-color: #008080; font-weight: bold\">43</span><span style=\"font-weight: bold\">]</span>, <span style=\"color: #808000; text-decoration-color: #808000\">name</span>=<span style=\"font-weight: bold\">[</span><span style=\"color: #008080; text-decoration-color: #008080; font-weight: bold\">43</span><span style=\"font-weight: bold\">]</span>, <span style=\"color: #808000; text-decoration-color: #808000\">namespace</span>=<span style=\"font-weight: bold\">[</span><span style=\"color: #008080; text-decoration-color: #008080; font-weight: bold\">43</span><span style=\"font-weight: bold\">]</span>, <span style=\"color: #808000; text-decoration-color: #808000\">rel_types</span>=<span style=\"font-weight: bold\">[</span><span style=\"color: #008080; text-decoration-color: #008080; font-weight: bold\">8</span><span style=\"font-weight: bold\">]</span>, <span style=\"color: #808000; text-decoration-color: #808000\">ontology</span>=<span style=\"color: #008000; text-decoration-color: #008000\">'go'</span>, \n",
       "<span style=\"color: #808000; text-decoration-color: #808000\">data_version</span>=<span style=\"color: #008000; text-decoration-color: #008000\">'releases/2023-10-09'</span>, <span style=\"color: #808000; text-decoration-color: #808000\">gene</span>=<span style=\"color: #008000; text-decoration-color: #008000\">'CCND1'</span>, <span style=\"color: #808000; text-decoration-color: #808000\">num_nodes</span>=<span style=\"color: #008080; text-decoration-color: #008080; font-weight: bold\">43</span><span style=\"font-weight: bold\">)</span>\n",
       "</pre>\n"
      ],
      "text/plain": [
       "\u001b[1;35mData\u001b[0m\u001b[1m(\u001b[0m\u001b[33medge_index\u001b[0m=\u001b[1m[\u001b[0m\u001b[1;36m2\u001b[0m, \u001b[1;36m8\u001b[0m\u001b[1m]\u001b[0m, \u001b[33midentifier\u001b[0m=\u001b[1m[\u001b[0m\u001b[1;36m43\u001b[0m\u001b[1m]\u001b[0m, \u001b[33mname\u001b[0m=\u001b[1m[\u001b[0m\u001b[1;36m43\u001b[0m\u001b[1m]\u001b[0m, \u001b[33mnamespace\u001b[0m=\u001b[1m[\u001b[0m\u001b[1;36m43\u001b[0m\u001b[1m]\u001b[0m, \u001b[33mrel_types\u001b[0m=\u001b[1m[\u001b[0m\u001b[1;36m8\u001b[0m\u001b[1m]\u001b[0m, \u001b[33montology\u001b[0m=\u001b[32m'go'\u001b[0m, \n",
       "\u001b[33mdata_version\u001b[0m=\u001b[32m'releases/2023-10-09'\u001b[0m, \u001b[33mgene\u001b[0m=\u001b[32m'CCND1'\u001b[0m, \u001b[33mnum_nodes\u001b[0m=\u001b[1;36m43\u001b[0m\u001b[1m)\u001b[0m\n"
      ]
     },
     "metadata": {},
     "output_type": "display_data"
    },
    {
     "data": {
      "text/html": [
       "<pre style=\"white-space:pre;overflow-x:auto;line-height:normal;font-family:Menlo,'DejaVu Sans Mono',consolas,'Courier New',monospace\"><span style=\"color: #800080; text-decoration-color: #800080; font-weight: bold\">Data</span><span style=\"font-weight: bold\">(</span><span style=\"color: #808000; text-decoration-color: #808000\">edge_index</span>=<span style=\"font-weight: bold\">[</span><span style=\"color: #008080; text-decoration-color: #008080; font-weight: bold\">2</span>, <span style=\"color: #008080; text-decoration-color: #008080; font-weight: bold\">37</span><span style=\"font-weight: bold\">]</span>, <span style=\"color: #808000; text-decoration-color: #808000\">identifier</span>=<span style=\"font-weight: bold\">[</span><span style=\"color: #008080; text-decoration-color: #008080; font-weight: bold\">103</span><span style=\"font-weight: bold\">]</span>, <span style=\"color: #808000; text-decoration-color: #808000\">name</span>=<span style=\"font-weight: bold\">[</span><span style=\"color: #008080; text-decoration-color: #008080; font-weight: bold\">103</span><span style=\"font-weight: bold\">]</span>, <span style=\"color: #808000; text-decoration-color: #808000\">namespace</span>=<span style=\"font-weight: bold\">[</span><span style=\"color: #008080; text-decoration-color: #008080; font-weight: bold\">103</span><span style=\"font-weight: bold\">]</span>, <span style=\"color: #808000; text-decoration-color: #808000\">rel_types</span>=<span style=\"font-weight: bold\">[</span><span style=\"color: #008080; text-decoration-color: #008080; font-weight: bold\">37</span><span style=\"font-weight: bold\">]</span>, <span style=\"color: #808000; text-decoration-color: #808000\">ontology</span>=<span style=\"color: #008000; text-decoration-color: #008000\">'go'</span>, \n",
       "<span style=\"color: #808000; text-decoration-color: #808000\">data_version</span>=<span style=\"color: #008000; text-decoration-color: #008000\">'releases/2023-10-09'</span>, <span style=\"color: #808000; text-decoration-color: #808000\">gene</span>=<span style=\"color: #008000; text-decoration-color: #008000\">'MAPT'</span>, <span style=\"color: #808000; text-decoration-color: #808000\">num_nodes</span>=<span style=\"color: #008080; text-decoration-color: #008080; font-weight: bold\">103</span><span style=\"font-weight: bold\">)</span>\n",
       "</pre>\n"
      ],
      "text/plain": [
       "\u001b[1;35mData\u001b[0m\u001b[1m(\u001b[0m\u001b[33medge_index\u001b[0m=\u001b[1m[\u001b[0m\u001b[1;36m2\u001b[0m, \u001b[1;36m37\u001b[0m\u001b[1m]\u001b[0m, \u001b[33midentifier\u001b[0m=\u001b[1m[\u001b[0m\u001b[1;36m103\u001b[0m\u001b[1m]\u001b[0m, \u001b[33mname\u001b[0m=\u001b[1m[\u001b[0m\u001b[1;36m103\u001b[0m\u001b[1m]\u001b[0m, \u001b[33mnamespace\u001b[0m=\u001b[1m[\u001b[0m\u001b[1;36m103\u001b[0m\u001b[1m]\u001b[0m, \u001b[33mrel_types\u001b[0m=\u001b[1m[\u001b[0m\u001b[1;36m37\u001b[0m\u001b[1m]\u001b[0m, \u001b[33montology\u001b[0m=\u001b[32m'go'\u001b[0m, \n",
       "\u001b[33mdata_version\u001b[0m=\u001b[32m'releases/2023-10-09'\u001b[0m, \u001b[33mgene\u001b[0m=\u001b[32m'MAPT'\u001b[0m, \u001b[33mnum_nodes\u001b[0m=\u001b[1;36m103\u001b[0m\u001b[1m)\u001b[0m\n"
      ]
     },
     "metadata": {},
     "output_type": "display_data"
    },
    {
     "data": {
      "text/html": [
       "<pre style=\"white-space:pre;overflow-x:auto;line-height:normal;font-family:Menlo,'DejaVu Sans Mono',consolas,'Courier New',monospace\"><span style=\"color: #800080; text-decoration-color: #800080; font-weight: bold\">Data</span><span style=\"font-weight: bold\">(</span><span style=\"color: #808000; text-decoration-color: #808000\">edge_index</span>=<span style=\"font-weight: bold\">[</span><span style=\"color: #008080; text-decoration-color: #008080; font-weight: bold\">2</span>, <span style=\"color: #008080; text-decoration-color: #008080; font-weight: bold\">13</span><span style=\"font-weight: bold\">]</span>, <span style=\"color: #808000; text-decoration-color: #808000\">identifier</span>=<span style=\"font-weight: bold\">[</span><span style=\"color: #008080; text-decoration-color: #008080; font-weight: bold\">56</span><span style=\"font-weight: bold\">]</span>, <span style=\"color: #808000; text-decoration-color: #808000\">name</span>=<span style=\"font-weight: bold\">[</span><span style=\"color: #008080; text-decoration-color: #008080; font-weight: bold\">56</span><span style=\"font-weight: bold\">]</span>, <span style=\"color: #808000; text-decoration-color: #808000\">namespace</span>=<span style=\"font-weight: bold\">[</span><span style=\"color: #008080; text-decoration-color: #008080; font-weight: bold\">56</span><span style=\"font-weight: bold\">]</span>, <span style=\"color: #808000; text-decoration-color: #808000\">rel_types</span>=<span style=\"font-weight: bold\">[</span><span style=\"color: #008080; text-decoration-color: #008080; font-weight: bold\">13</span><span style=\"font-weight: bold\">]</span>, <span style=\"color: #808000; text-decoration-color: #808000\">ontology</span>=<span style=\"color: #008000; text-decoration-color: #008000\">'go'</span>, \n",
       "<span style=\"color: #808000; text-decoration-color: #808000\">data_version</span>=<span style=\"color: #008000; text-decoration-color: #008000\">'releases/2023-10-09'</span>, <span style=\"color: #808000; text-decoration-color: #808000\">gene</span>=<span style=\"color: #008000; text-decoration-color: #008000\">'CFTR'</span>, <span style=\"color: #808000; text-decoration-color: #808000\">num_nodes</span>=<span style=\"color: #008080; text-decoration-color: #008080; font-weight: bold\">56</span><span style=\"font-weight: bold\">)</span>\n",
       "</pre>\n"
      ],
      "text/plain": [
       "\u001b[1;35mData\u001b[0m\u001b[1m(\u001b[0m\u001b[33medge_index\u001b[0m=\u001b[1m[\u001b[0m\u001b[1;36m2\u001b[0m, \u001b[1;36m13\u001b[0m\u001b[1m]\u001b[0m, \u001b[33midentifier\u001b[0m=\u001b[1m[\u001b[0m\u001b[1;36m56\u001b[0m\u001b[1m]\u001b[0m, \u001b[33mname\u001b[0m=\u001b[1m[\u001b[0m\u001b[1;36m56\u001b[0m\u001b[1m]\u001b[0m, \u001b[33mnamespace\u001b[0m=\u001b[1m[\u001b[0m\u001b[1;36m56\u001b[0m\u001b[1m]\u001b[0m, \u001b[33mrel_types\u001b[0m=\u001b[1m[\u001b[0m\u001b[1;36m13\u001b[0m\u001b[1m]\u001b[0m, \u001b[33montology\u001b[0m=\u001b[32m'go'\u001b[0m, \n",
       "\u001b[33mdata_version\u001b[0m=\u001b[32m'releases/2023-10-09'\u001b[0m, \u001b[33mgene\u001b[0m=\u001b[32m'CFTR'\u001b[0m, \u001b[33mnum_nodes\u001b[0m=\u001b[1;36m56\u001b[0m\u001b[1m)\u001b[0m\n"
      ]
     },
     "metadata": {},
     "output_type": "display_data"
    },
    {
     "data": {
      "text/html": [
       "<pre style=\"white-space:pre;overflow-x:auto;line-height:normal;font-family:Menlo,'DejaVu Sans Mono',consolas,'Courier New',monospace\"><span style=\"color: #800080; text-decoration-color: #800080; font-weight: bold\">Data</span><span style=\"font-weight: bold\">(</span><span style=\"color: #808000; text-decoration-color: #808000\">edge_index</span>=<span style=\"font-weight: bold\">[</span><span style=\"color: #008080; text-decoration-color: #008080; font-weight: bold\">2</span>, <span style=\"color: #008080; text-decoration-color: #008080; font-weight: bold\">4</span><span style=\"font-weight: bold\">]</span>, <span style=\"color: #808000; text-decoration-color: #808000\">identifier</span>=<span style=\"font-weight: bold\">[</span><span style=\"color: #008080; text-decoration-color: #008080; font-weight: bold\">28</span><span style=\"font-weight: bold\">]</span>, <span style=\"color: #808000; text-decoration-color: #808000\">name</span>=<span style=\"font-weight: bold\">[</span><span style=\"color: #008080; text-decoration-color: #008080; font-weight: bold\">28</span><span style=\"font-weight: bold\">]</span>, <span style=\"color: #808000; text-decoration-color: #808000\">namespace</span>=<span style=\"font-weight: bold\">[</span><span style=\"color: #008080; text-decoration-color: #008080; font-weight: bold\">28</span><span style=\"font-weight: bold\">]</span>, <span style=\"color: #808000; text-decoration-color: #808000\">rel_types</span>=<span style=\"font-weight: bold\">[</span><span style=\"color: #008080; text-decoration-color: #008080; font-weight: bold\">4</span><span style=\"font-weight: bold\">]</span>, <span style=\"color: #808000; text-decoration-color: #808000\">ontology</span>=<span style=\"color: #008000; text-decoration-color: #008000\">'go'</span>, \n",
       "<span style=\"color: #808000; text-decoration-color: #808000\">data_version</span>=<span style=\"color: #008000; text-decoration-color: #008000\">'releases/2023-10-09'</span>, <span style=\"color: #808000; text-decoration-color: #808000\">gene</span>=<span style=\"color: #008000; text-decoration-color: #008000\">'PARP3'</span>, <span style=\"color: #808000; text-decoration-color: #808000\">num_nodes</span>=<span style=\"color: #008080; text-decoration-color: #008080; font-weight: bold\">28</span><span style=\"font-weight: bold\">)</span>\n",
       "</pre>\n"
      ],
      "text/plain": [
       "\u001b[1;35mData\u001b[0m\u001b[1m(\u001b[0m\u001b[33medge_index\u001b[0m=\u001b[1m[\u001b[0m\u001b[1;36m2\u001b[0m, \u001b[1;36m4\u001b[0m\u001b[1m]\u001b[0m, \u001b[33midentifier\u001b[0m=\u001b[1m[\u001b[0m\u001b[1;36m28\u001b[0m\u001b[1m]\u001b[0m, \u001b[33mname\u001b[0m=\u001b[1m[\u001b[0m\u001b[1;36m28\u001b[0m\u001b[1m]\u001b[0m, \u001b[33mnamespace\u001b[0m=\u001b[1m[\u001b[0m\u001b[1;36m28\u001b[0m\u001b[1m]\u001b[0m, \u001b[33mrel_types\u001b[0m=\u001b[1m[\u001b[0m\u001b[1;36m4\u001b[0m\u001b[1m]\u001b[0m, \u001b[33montology\u001b[0m=\u001b[32m'go'\u001b[0m, \n",
       "\u001b[33mdata_version\u001b[0m=\u001b[32m'releases/2023-10-09'\u001b[0m, \u001b[33mgene\u001b[0m=\u001b[32m'PARP3'\u001b[0m, \u001b[33mnum_nodes\u001b[0m=\u001b[1;36m28\u001b[0m\u001b[1m)\u001b[0m\n"
      ]
     },
     "metadata": {},
     "output_type": "display_data"
    },
    {
     "data": {
      "text/html": [
       "<pre style=\"white-space:pre;overflow-x:auto;line-height:normal;font-family:Menlo,'DejaVu Sans Mono',consolas,'Courier New',monospace\"><span style=\"color: #800080; text-decoration-color: #800080; font-weight: bold\">Data</span><span style=\"font-weight: bold\">(</span><span style=\"color: #808000; text-decoration-color: #808000\">edge_index</span>=<span style=\"font-weight: bold\">[</span><span style=\"color: #008080; text-decoration-color: #008080; font-weight: bold\">2</span>, <span style=\"color: #008080; text-decoration-color: #008080; font-weight: bold\">13</span><span style=\"font-weight: bold\">]</span>, <span style=\"color: #808000; text-decoration-color: #808000\">identifier</span>=<span style=\"font-weight: bold\">[</span><span style=\"color: #008080; text-decoration-color: #008080; font-weight: bold\">67</span><span style=\"font-weight: bold\">]</span>, <span style=\"color: #808000; text-decoration-color: #808000\">name</span>=<span style=\"font-weight: bold\">[</span><span style=\"color: #008080; text-decoration-color: #008080; font-weight: bold\">67</span><span style=\"font-weight: bold\">]</span>, <span style=\"color: #808000; text-decoration-color: #808000\">namespace</span>=<span style=\"font-weight: bold\">[</span><span style=\"color: #008080; text-decoration-color: #008080; font-weight: bold\">67</span><span style=\"font-weight: bold\">]</span>, <span style=\"color: #808000; text-decoration-color: #808000\">rel_types</span>=<span style=\"font-weight: bold\">[</span><span style=\"color: #008080; text-decoration-color: #008080; font-weight: bold\">13</span><span style=\"font-weight: bold\">]</span>, <span style=\"color: #808000; text-decoration-color: #808000\">ontology</span>=<span style=\"color: #008000; text-decoration-color: #008000\">'go'</span>, \n",
       "<span style=\"color: #808000; text-decoration-color: #808000\">data_version</span>=<span style=\"color: #008000; text-decoration-color: #008000\">'releases/2023-10-09'</span>, <span style=\"color: #808000; text-decoration-color: #808000\">gene</span>=<span style=\"color: #008000; text-decoration-color: #008000\">'BBS4'</span>, <span style=\"color: #808000; text-decoration-color: #808000\">num_nodes</span>=<span style=\"color: #008080; text-decoration-color: #008080; font-weight: bold\">67</span><span style=\"font-weight: bold\">)</span>\n",
       "</pre>\n"
      ],
      "text/plain": [
       "\u001b[1;35mData\u001b[0m\u001b[1m(\u001b[0m\u001b[33medge_index\u001b[0m=\u001b[1m[\u001b[0m\u001b[1;36m2\u001b[0m, \u001b[1;36m13\u001b[0m\u001b[1m]\u001b[0m, \u001b[33midentifier\u001b[0m=\u001b[1m[\u001b[0m\u001b[1;36m67\u001b[0m\u001b[1m]\u001b[0m, \u001b[33mname\u001b[0m=\u001b[1m[\u001b[0m\u001b[1;36m67\u001b[0m\u001b[1m]\u001b[0m, \u001b[33mnamespace\u001b[0m=\u001b[1m[\u001b[0m\u001b[1;36m67\u001b[0m\u001b[1m]\u001b[0m, \u001b[33mrel_types\u001b[0m=\u001b[1m[\u001b[0m\u001b[1;36m13\u001b[0m\u001b[1m]\u001b[0m, \u001b[33montology\u001b[0m=\u001b[32m'go'\u001b[0m, \n",
       "\u001b[33mdata_version\u001b[0m=\u001b[32m'releases/2023-10-09'\u001b[0m, \u001b[33mgene\u001b[0m=\u001b[32m'BBS4'\u001b[0m, \u001b[33mnum_nodes\u001b[0m=\u001b[1;36m67\u001b[0m\u001b[1m)\u001b[0m\n"
      ]
     },
     "metadata": {},
     "output_type": "display_data"
    },
    {
     "data": {
      "text/html": [
       "<pre style=\"white-space:pre;overflow-x:auto;line-height:normal;font-family:Menlo,'DejaVu Sans Mono',consolas,'Courier New',monospace\"><span style=\"color: #800080; text-decoration-color: #800080; font-weight: bold\">Data</span><span style=\"font-weight: bold\">(</span><span style=\"color: #808000; text-decoration-color: #808000\">edge_index</span>=<span style=\"font-weight: bold\">[</span><span style=\"color: #008080; text-decoration-color: #008080; font-weight: bold\">2</span>, <span style=\"color: #008080; text-decoration-color: #008080; font-weight: bold\">13</span><span style=\"font-weight: bold\">]</span>, <span style=\"color: #808000; text-decoration-color: #808000\">identifier</span>=<span style=\"font-weight: bold\">[</span><span style=\"color: #008080; text-decoration-color: #008080; font-weight: bold\">56</span><span style=\"font-weight: bold\">]</span>, <span style=\"color: #808000; text-decoration-color: #808000\">name</span>=<span style=\"font-weight: bold\">[</span><span style=\"color: #008080; text-decoration-color: #008080; font-weight: bold\">56</span><span style=\"font-weight: bold\">]</span>, <span style=\"color: #808000; text-decoration-color: #808000\">namespace</span>=<span style=\"font-weight: bold\">[</span><span style=\"color: #008080; text-decoration-color: #008080; font-weight: bold\">56</span><span style=\"font-weight: bold\">]</span>, <span style=\"color: #808000; text-decoration-color: #808000\">rel_types</span>=<span style=\"font-weight: bold\">[</span><span style=\"color: #008080; text-decoration-color: #008080; font-weight: bold\">13</span><span style=\"font-weight: bold\">]</span>, <span style=\"color: #808000; text-decoration-color: #808000\">ontology</span>=<span style=\"color: #008000; text-decoration-color: #008000\">'go'</span>, \n",
       "<span style=\"color: #808000; text-decoration-color: #808000\">data_version</span>=<span style=\"color: #008000; text-decoration-color: #008000\">'releases/2023-10-09'</span>, <span style=\"color: #808000; text-decoration-color: #808000\">gene</span>=<span style=\"color: #008000; text-decoration-color: #008000\">'CFTR'</span>, <span style=\"color: #808000; text-decoration-color: #808000\">num_nodes</span>=<span style=\"color: #008080; text-decoration-color: #008080; font-weight: bold\">56</span><span style=\"font-weight: bold\">)</span>\n",
       "</pre>\n"
      ],
      "text/plain": [
       "\u001b[1;35mData\u001b[0m\u001b[1m(\u001b[0m\u001b[33medge_index\u001b[0m=\u001b[1m[\u001b[0m\u001b[1;36m2\u001b[0m, \u001b[1;36m13\u001b[0m\u001b[1m]\u001b[0m, \u001b[33midentifier\u001b[0m=\u001b[1m[\u001b[0m\u001b[1;36m56\u001b[0m\u001b[1m]\u001b[0m, \u001b[33mname\u001b[0m=\u001b[1m[\u001b[0m\u001b[1;36m56\u001b[0m\u001b[1m]\u001b[0m, \u001b[33mnamespace\u001b[0m=\u001b[1m[\u001b[0m\u001b[1;36m56\u001b[0m\u001b[1m]\u001b[0m, \u001b[33mrel_types\u001b[0m=\u001b[1m[\u001b[0m\u001b[1;36m13\u001b[0m\u001b[1m]\u001b[0m, \u001b[33montology\u001b[0m=\u001b[32m'go'\u001b[0m, \n",
       "\u001b[33mdata_version\u001b[0m=\u001b[32m'releases/2023-10-09'\u001b[0m, \u001b[33mgene\u001b[0m=\u001b[32m'CFTR'\u001b[0m, \u001b[33mnum_nodes\u001b[0m=\u001b[1;36m56\u001b[0m\u001b[1m)\u001b[0m\n"
      ]
     },
     "metadata": {},
     "output_type": "display_data"
    },
    {
     "data": {
      "text/html": [
       "<pre style=\"white-space:pre;overflow-x:auto;line-height:normal;font-family:Menlo,'DejaVu Sans Mono',consolas,'Courier New',monospace\"><span style=\"color: #800080; text-decoration-color: #800080; font-weight: bold\">Data</span><span style=\"font-weight: bold\">(</span><span style=\"color: #808000; text-decoration-color: #808000\">edge_index</span>=<span style=\"font-weight: bold\">[</span><span style=\"color: #008080; text-decoration-color: #008080; font-weight: bold\">2</span>, <span style=\"color: #008080; text-decoration-color: #008080; font-weight: bold\">13</span><span style=\"font-weight: bold\">]</span>, <span style=\"color: #808000; text-decoration-color: #808000\">identifier</span>=<span style=\"font-weight: bold\">[</span><span style=\"color: #008080; text-decoration-color: #008080; font-weight: bold\">56</span><span style=\"font-weight: bold\">]</span>, <span style=\"color: #808000; text-decoration-color: #808000\">name</span>=<span style=\"font-weight: bold\">[</span><span style=\"color: #008080; text-decoration-color: #008080; font-weight: bold\">56</span><span style=\"font-weight: bold\">]</span>, <span style=\"color: #808000; text-decoration-color: #808000\">namespace</span>=<span style=\"font-weight: bold\">[</span><span style=\"color: #008080; text-decoration-color: #008080; font-weight: bold\">56</span><span style=\"font-weight: bold\">]</span>, <span style=\"color: #808000; text-decoration-color: #808000\">rel_types</span>=<span style=\"font-weight: bold\">[</span><span style=\"color: #008080; text-decoration-color: #008080; font-weight: bold\">13</span><span style=\"font-weight: bold\">]</span>, <span style=\"color: #808000; text-decoration-color: #808000\">ontology</span>=<span style=\"color: #008000; text-decoration-color: #008000\">'go'</span>, \n",
       "<span style=\"color: #808000; text-decoration-color: #808000\">data_version</span>=<span style=\"color: #008000; text-decoration-color: #008000\">'releases/2023-10-09'</span>, <span style=\"color: #808000; text-decoration-color: #808000\">gene</span>=<span style=\"color: #008000; text-decoration-color: #008000\">'CFTR'</span>, <span style=\"color: #808000; text-decoration-color: #808000\">num_nodes</span>=<span style=\"color: #008080; text-decoration-color: #008080; font-weight: bold\">56</span><span style=\"font-weight: bold\">)</span>\n",
       "</pre>\n"
      ],
      "text/plain": [
       "\u001b[1;35mData\u001b[0m\u001b[1m(\u001b[0m\u001b[33medge_index\u001b[0m=\u001b[1m[\u001b[0m\u001b[1;36m2\u001b[0m, \u001b[1;36m13\u001b[0m\u001b[1m]\u001b[0m, \u001b[33midentifier\u001b[0m=\u001b[1m[\u001b[0m\u001b[1;36m56\u001b[0m\u001b[1m]\u001b[0m, \u001b[33mname\u001b[0m=\u001b[1m[\u001b[0m\u001b[1;36m56\u001b[0m\u001b[1m]\u001b[0m, \u001b[33mnamespace\u001b[0m=\u001b[1m[\u001b[0m\u001b[1;36m56\u001b[0m\u001b[1m]\u001b[0m, \u001b[33mrel_types\u001b[0m=\u001b[1m[\u001b[0m\u001b[1;36m13\u001b[0m\u001b[1m]\u001b[0m, \u001b[33montology\u001b[0m=\u001b[32m'go'\u001b[0m, \n",
       "\u001b[33mdata_version\u001b[0m=\u001b[32m'releases/2023-10-09'\u001b[0m, \u001b[33mgene\u001b[0m=\u001b[32m'CFTR'\u001b[0m, \u001b[33mnum_nodes\u001b[0m=\u001b[1;36m56\u001b[0m\u001b[1m)\u001b[0m\n"
      ]
     },
     "metadata": {},
     "output_type": "display_data"
    }
   ],
   "source": [
    "\n",
    "for idx, row in train_df.sample(10).iterrows():\n",
    "    torch.save(row['modifier_pyg'], f\"./data/02_intermediate/v4/20231210-pyg/{idx}.pt\")\n",
    "    print(row['target_pyg'])"
   ]
  },
  {
   "cell_type": "code",
   "execution_count": 153,
   "id": "e598c1d7",
   "metadata": {},
   "outputs": [],
   "source": [
    "def lol():\n",
    "    pass\n",
    "\n",
    "# Example usage\n",
    "# dataset = GenePairDataset(subgraph_pairs, labels)\n",
    "# data_loader = DataLoader(train_loader, batch_size=32, shuffle=True)\n",
    "\n",
    "# Assuming `df` is your DataFrame and 'col1', 'col2' are the names of your columns\n",
    "# train_df['target_GOs_subgraph'] = train_df.apply(lambda row: row['target_GOs_subgraph']['gene'] = row['target_gene'], axis=1)\n",
    "# valid_df['target_GOs_subgraph'] = valid_df.apply(lambda row: row['target_GOs_subgraph']['gene'] = row['target_gene'], axis=1)\n",
    "\n",
    "# valid_df['modifier_GOs_subgraph'] = valid_df.apply(lambda row: row['modifier_GOs_subgraph']['gene'] = row['modifier_gene'], axis=1)\n",
    "\n",
    "\n",
    "# training_pairs = list(zip(train_df['target_GOs_subgraph'], train_df['modifier_GOs_subgraph'], train_df['target_gene', train_df['modifier_gene']]))\n",
    "# valid_pairs = list(zip(valid_df['target_GOs_subgraph'], valid_df['modifier_GOs_subgraph'], valid_df['target_gene'], valid_df['modifier_gene']))\n",
    "\n",
    "training_pairs = list(zip(train_df['target_GOs_subgraph'], train_df['modifier_GOs_subgraph'], train_df['target_gene'], train_df['modifier_gene']))\n",
    "valid_pairs = list(zip(valid_df['target_GOs_subgraph'], valid_df['modifier_GOs_subgraph'], valid_df['target_gene'], valid_df['modifier_gene']))\n",
    "\n",
    "\n",
    "# Example usage\n",
    "train_dataset = GenePairDataset(training_pairs, train_df['is_modifier'].values)\n",
    "valid_dataset = GenePairDataset(valid_pairs, valid_df['is_modifier'].values)\n",
    "\n",
    "\n",
    "train_loader = DataLoader(train_dataset, batch_size=32, shuffle=True)\n",
    "valid_loader = DataLoader(valid_dataset, batch_size=32, shuffle=True)\n"
   ]
  },
  {
   "cell_type": "code",
   "execution_count": null,
   "id": "36cc856d",
   "metadata": {},
   "outputs": [],
   "source": [
    "train_dataset"
   ]
  },
  {
   "cell_type": "markdown",
   "id": "0e93e883",
   "metadata": {},
   "source": [
    "SimGNN"
   ]
  },
  {
   "cell_type": "code",
   "execution_count": 67,
   "id": "e49fde56",
   "metadata": {},
   "outputs": [],
   "source": [
    "\n",
    "# Bard\n",
    "class SimGNN(torch.nn.Module):\n",
    "    def __init__(self, in_features, hidden_features, out_features, heads=1):\n",
    "        super(SimGNN, self).__init__()\n",
    "        self.node_embed = Linear(in_features, hidden_features)\n",
    "        self.conv1 = GATConv(hidden_features, hidden_features, heads=heads)\n",
    "        self.conv2 = GraphConv(hidden_features, hidden_features)\n",
    "        self.attention = Attention(hidden_features)\n",
    "        self.pairwise_compare = PairwiseCompare(hidden_features)\n",
    "        self.out_layer = Linear(hidden_features, out_features)\n",
    "\n",
    "    def forward(self, data):\n",
    "        x, edge_index = data.x, data.edge_index\n",
    "        x = self.node_embed(x)\n",
    "        x = torch.relu(self.conv1(x, edge_index))\n",
    "        x = torch.relu(self.conv2(x, edge_index))\n",
    "        attention_weights = self.attention(x)\n",
    "        x = torch.einsum('nvf,nf->nv', x, attention_weights)\n",
    "        pairwise_features = self.pairwise_compare(x)\n",
    "        sim_score = self.out_layer(pairwise_features)\n",
    "        return sim_score\n",
    "\n",
    "class Attention(torch.nn.Module):\n",
    "    def __init__(self, hidden_features):\n",
    "        super(Attention, self).__init__()\n",
    "        self.w1 = Linear(hidden_features, hidden_features)\n",
    "        self.w2 = Linear(hidden_features, 1)\n",
    "\n",
    "    def forward(self, x):\n",
    "        x = torch.tanh(self.w1(x))\n",
    "        attention_weights = torch.sigmoid(self.w2(x))\n",
    "        return attention_weights\n",
    "\n",
    "class PairwiseCompare(torch.nn.Module):\n",
    "    def __init__(self, hidden_features):\n",
    "        super(PairwiseCompare, self).__init__()\n",
    "        self.w = Linear(hidden_features, hidden_features)\n",
    "\n",
    "    def forward(self, x):\n",
    "        pairwise_features = torch.cat([x[i] * x[j] for i, j in zip(range(len(x)), range(len(x)))], dim=1)\n",
    "        pairwise_features = self.w(pairwise_features)\n",
    "        return pairwise_features\n"
   ]
  },
  {
   "cell_type": "code",
   "execution_count": 73,
   "id": "e2c9c91a",
   "metadata": {},
   "outputs": [],
   "source": []
  },
  {
   "cell_type": "code",
   "execution_count": 129,
   "id": "6f3f1c9d",
   "metadata": {},
   "outputs": [],
   "source": [
    "def from_networkx_to_data(graph, label):\n",
    "    # Convert a NetworkX graph to a PyTorch Geometric Data object\n",
    "    # print(list(graph))\n",
    "    # print(torch.tensor(nx.adjacency_matrix(graph).todense(), dtype=torch.float))\n",
    "    # data = Data()\n",
    "    # data.x = torch.tensor(nx.adjacency_matrix(graph).todense(), dtype=torch.float)\n",
    "    # data.edge_index = torch.tensor(list(graph.edges)).t().contiguous()\n",
    "\n",
    "    data = convert.from_networkx(graph)\n",
    "    data.y = torch.tensor([label], dtype=torch.float)\n",
    "    return data\n",
    "\n",
    "dataset_df['target_GO_pyg'] = row['target_GOs_subgraph']\n",
    "\n",
    "def prepare_dataloader(df, batch_size=32):\n",
    "    dataset = []\n",
    "    for idx, row in df.iterrows():\n",
    "        graph1 = row['target_GOs_subgraph']\n",
    "        graph1.graph['gene'] = row['target_gene']\n",
    "        graph2 = row['modifier_GOs_subgraph']\n",
    "        graph2.graph['gene'] = row['modifier_gene']\n",
    "        label = row['is_modifier']\n",
    "        data1 = from_networkx_to_data(graph1, label)\n",
    "        data2 = from_networkx_to_data(graph2, label)\n",
    "        # print(data1)\n",
    "        dataset.append((data1, data2, label))\n",
    "\n",
    "    return DataLoader(dataset, batch_size=batch_size, shuffle=True)\n",
    "\n",
    "def train(model, dataloader, optimizer, criterion, epochs):\n",
    "    model.train()\n",
    "    for epoch in range(epochs):\n",
    "        total_loss = 0\n",
    "        for data1, data2, label in dataloader:\n",
    "            optimizer.zero_grad()\n",
    "            output = model(data1, data2)\n",
    "            loss = criterion(output, label.unsqueeze(1))\n",
    "            loss.backward()\n",
    "            optimizer.step()\n",
    "            total_loss += loss.item()\n",
    "        print(f\"Epoch {epoch+1}/{epochs}, Loss: {total_loss / len(dataloader)}\")\n",
    "\n",
    "@torch.no_grad()\n",
    "def evaluate(model, dataloader):\n",
    "    model.eval()\n",
    "    correct = 0\n",
    "    total = 0\n",
    "    for data1, data2, label in dataloader:\n",
    "        output = model(data1, data2)\n",
    "        pred = output.round()  # Assuming binary classification (0 or 1)\n",
    "        correct += (pred == label.unsqueeze(1)).sum().item()\n",
    "        total += label.size(0)\n",
    "    return correct / total\n"
   ]
  },
  {
   "cell_type": "code",
   "execution_count": 130,
   "id": "76aed17e",
   "metadata": {},
   "outputs": [
    {
     "data": {
      "text/html": [
       "<pre style=\"white-space:pre;overflow-x:auto;line-height:normal;font-family:Menlo,'DejaVu Sans Mono',consolas,'Courier New',monospace\"><span style=\"color: #7fbfbf; text-decoration-color: #7fbfbf\">[12/11/23 00:27:41] </span><span style=\"color: #800000; text-decoration-color: #800000\">WARNING </span> <span style=\"color: #800080; text-decoration-color: #800080\">/home/rahit/jupyter_py3/lib/python3.8/site-packages/torch_geometric/</span><span style=\"color: #ff00ff; text-decoration-color: #ff00ff\">de</span> <a href=\"file:///cvmfs/soft.computecanada.ca/easybuild/software/2020/avx2/Core/python/3.8.10/lib/python3.8/warnings.py\" target=\"_blank\"><span style=\"color: #7f7f7f; text-decoration-color: #7f7f7f\">warnings.py</span></a><span style=\"color: #7f7f7f; text-decoration-color: #7f7f7f\">:</span><a href=\"file:///cvmfs/soft.computecanada.ca/easybuild/software/2020/avx2/Core/python/3.8.10/lib/python3.8/warnings.py#109\" target=\"_blank\"><span style=\"color: #7f7f7f; text-decoration-color: #7f7f7f\">109</span></a>\n",
       "<span style=\"color: #7fbfbf; text-decoration-color: #7fbfbf\">                    </span>         <span style=\"color: #ff00ff; text-decoration-color: #ff00ff\">precation.py</span>:<span style=\"color: #008080; text-decoration-color: #008080; font-weight: bold\">12</span>: UserWarning: <span style=\"color: #008000; text-decoration-color: #008000\">'data.DataLoader'</span> is deprecated, use     <span style=\"color: #7f7f7f; text-decoration-color: #7f7f7f\">               </span>\n",
       "<span style=\"color: #7fbfbf; text-decoration-color: #7fbfbf\">                    </span>         <span style=\"color: #008000; text-decoration-color: #008000\">'loader.DataLoader'</span> instead                                            <span style=\"color: #7f7f7f; text-decoration-color: #7f7f7f\">               </span>\n",
       "<span style=\"color: #7fbfbf; text-decoration-color: #7fbfbf\">                    </span>           <span style=\"color: #800080; text-decoration-color: #800080; font-weight: bold\">warnings.warn</span><span style=\"font-weight: bold\">(</span>out<span style=\"font-weight: bold\">)</span>                                                   <span style=\"color: #7f7f7f; text-decoration-color: #7f7f7f\">               </span>\n",
       "<span style=\"color: #7fbfbf; text-decoration-color: #7fbfbf\">                    </span>                                                                                <span style=\"color: #7f7f7f; text-decoration-color: #7f7f7f\">               </span>\n",
       "</pre>\n"
      ],
      "text/plain": [
       "\u001b[2;36m[12/11/23 00:27:41]\u001b[0m\u001b[2;36m \u001b[0m\u001b[31mWARNING \u001b[0m \u001b[35m/home/rahit/jupyter_py3/lib/python3.8/site-packages/torch_geometric/\u001b[0m\u001b[95mde\u001b[0m \u001b]8;id=733782;file:///cvmfs/soft.computecanada.ca/easybuild/software/2020/avx2/Core/python/3.8.10/lib/python3.8/warnings.py\u001b\\\u001b[2mwarnings.py\u001b[0m\u001b]8;;\u001b\\\u001b[2m:\u001b[0m\u001b]8;id=17127;file:///cvmfs/soft.computecanada.ca/easybuild/software/2020/avx2/Core/python/3.8.10/lib/python3.8/warnings.py#109\u001b\\\u001b[2m109\u001b[0m\u001b]8;;\u001b\\\n",
       "\u001b[2;36m                    \u001b[0m         \u001b[95mprecation.py\u001b[0m:\u001b[1;36m12\u001b[0m: UserWarning: \u001b[32m'data.DataLoader'\u001b[0m is deprecated, use     \u001b[2m               \u001b[0m\n",
       "\u001b[2;36m                    \u001b[0m         \u001b[32m'loader.DataLoader'\u001b[0m instead                                            \u001b[2m               \u001b[0m\n",
       "\u001b[2;36m                    \u001b[0m           \u001b[1;35mwarnings.warn\u001b[0m\u001b[1m(\u001b[0mout\u001b[1m)\u001b[0m                                                   \u001b[2m               \u001b[0m\n",
       "\u001b[2;36m                    \u001b[0m                                                                                \u001b[2m               \u001b[0m\n"
      ]
     },
     "metadata": {},
     "output_type": "display_data"
    }
   ],
   "source": [
    "# Create your DataFrame `df` with columns 'graph1', 'graph2', and 'label'\n",
    "# remove NAs and split dataframe\n",
    "cleaned_df = dataset_df.dropna(how='any', subset=['target_GOs_subgraph', 'modifier_GOs_subgraph']).reindex()\n",
    "train_df = cleaned_df[~(cleaned_df['source']=='MTG')]\n",
    "valid_df = cleaned_df[cleaned_df['source']=='MTG']\n",
    "\n",
    "# Prepare data loaders\n",
    "train_loader = prepare_dataloader(train_df)\n",
    "valid_loader = prepare_dataloader(valid_df)"
   ]
  },
  {
   "cell_type": "code",
   "execution_count": 87,
   "id": "86a1b1be",
   "metadata": {},
   "outputs": [
    {
     "data": {
      "text/html": [
       "<pre style=\"white-space:pre;overflow-x:auto;line-height:normal;font-family:Menlo,'DejaVu Sans Mono',consolas,'Courier New',monospace\"><span style=\"color: #800000; text-decoration-color: #800000\">╭─────────────────────────────── </span><span style=\"color: #800000; text-decoration-color: #800000; font-weight: bold\">Traceback </span><span style=\"color: #bf7f7f; text-decoration-color: #bf7f7f; font-weight: bold\">(most recent call last)</span><span style=\"color: #800000; text-decoration-color: #800000\"> ────────────────────────────────╮</span>\n",
       "<span style=\"color: #800000; text-decoration-color: #800000\">│</span> in <span style=\"color: #00ff00; text-decoration-color: #00ff00\">&lt;module&gt;</span>:<span style=\"color: #0000ff; text-decoration-color: #0000ff\">14</span>                                                                                   <span style=\"color: #800000; text-decoration-color: #800000\">│</span>\n",
       "<span style=\"color: #800000; text-decoration-color: #800000\">│</span>                                                                                                  <span style=\"color: #800000; text-decoration-color: #800000\">│</span>\n",
       "<span style=\"color: #800000; text-decoration-color: #800000\">│</span>   <span style=\"color: #7f7f7f; text-decoration-color: #7f7f7f\">11 </span>criterion = torch.nn.BCEWithLogitsLoss()                                                    <span style=\"color: #800000; text-decoration-color: #800000\">│</span>\n",
       "<span style=\"color: #800000; text-decoration-color: #800000\">│</span>   <span style=\"color: #7f7f7f; text-decoration-color: #7f7f7f\">12 </span>                                                                                            <span style=\"color: #800000; text-decoration-color: #800000\">│</span>\n",
       "<span style=\"color: #800000; text-decoration-color: #800000\">│</span>   <span style=\"color: #7f7f7f; text-decoration-color: #7f7f7f\">13 # Train the model</span>                                                                           <span style=\"color: #800000; text-decoration-color: #800000\">│</span>\n",
       "<span style=\"color: #800000; text-decoration-color: #800000\">│</span> <span style=\"color: #800000; text-decoration-color: #800000\">❱ </span>14 train(model, train_loader, optimizer, criterion, epochs=<span style=\"color: #0000ff; text-decoration-color: #0000ff\">10</span>)                                 <span style=\"color: #800000; text-decoration-color: #800000\">│</span>\n",
       "<span style=\"color: #800000; text-decoration-color: #800000\">│</span>   <span style=\"color: #7f7f7f; text-decoration-color: #7f7f7f\">15 </span>                                                                                            <span style=\"color: #800000; text-decoration-color: #800000\">│</span>\n",
       "<span style=\"color: #800000; text-decoration-color: #800000\">│</span>   <span style=\"color: #7f7f7f; text-decoration-color: #7f7f7f\">16 # Evaluate the model</span>                                                                        <span style=\"color: #800000; text-decoration-color: #800000\">│</span>\n",
       "<span style=\"color: #800000; text-decoration-color: #800000\">│</span>   <span style=\"color: #7f7f7f; text-decoration-color: #7f7f7f\">17 </span>accuracy = evaluate(model, valid_loader)                                                    <span style=\"color: #800000; text-decoration-color: #800000\">│</span>\n",
       "<span style=\"color: #800000; text-decoration-color: #800000\">│</span>                                                                                                  <span style=\"color: #800000; text-decoration-color: #800000\">│</span>\n",
       "<span style=\"color: #800000; text-decoration-color: #800000\">│</span> in <span style=\"color: #00ff00; text-decoration-color: #00ff00\">train</span>:<span style=\"color: #0000ff; text-decoration-color: #0000ff\">29</span>                                                                                      <span style=\"color: #800000; text-decoration-color: #800000\">│</span>\n",
       "<span style=\"color: #800000; text-decoration-color: #800000\">│</span>                                                                                                  <span style=\"color: #800000; text-decoration-color: #800000\">│</span>\n",
       "<span style=\"color: #800000; text-decoration-color: #800000\">│</span>   <span style=\"color: #7f7f7f; text-decoration-color: #7f7f7f\">26 </span><span style=\"color: #7f7f7f; text-decoration-color: #7f7f7f\">│   </span>model.train()                                                                           <span style=\"color: #800000; text-decoration-color: #800000\">│</span>\n",
       "<span style=\"color: #800000; text-decoration-color: #800000\">│</span>   <span style=\"color: #7f7f7f; text-decoration-color: #7f7f7f\">27 </span><span style=\"color: #7f7f7f; text-decoration-color: #7f7f7f\">│   </span><span style=\"color: #0000ff; text-decoration-color: #0000ff\">for</span> epoch <span style=\"color: #ff00ff; text-decoration-color: #ff00ff\">in</span> <span style=\"color: #00ffff; text-decoration-color: #00ffff\">range</span>(epochs):                                                             <span style=\"color: #800000; text-decoration-color: #800000\">│</span>\n",
       "<span style=\"color: #800000; text-decoration-color: #800000\">│</span>   <span style=\"color: #7f7f7f; text-decoration-color: #7f7f7f\">28 </span><span style=\"color: #7f7f7f; text-decoration-color: #7f7f7f\">│   │   </span>total_loss = <span style=\"color: #0000ff; text-decoration-color: #0000ff\">0</span>                                                                      <span style=\"color: #800000; text-decoration-color: #800000\">│</span>\n",
       "<span style=\"color: #800000; text-decoration-color: #800000\">│</span> <span style=\"color: #800000; text-decoration-color: #800000\">❱ </span>29 <span style=\"color: #7f7f7f; text-decoration-color: #7f7f7f\">│   │   </span><span style=\"color: #0000ff; text-decoration-color: #0000ff\">for</span> data1, data2, label <span style=\"color: #ff00ff; text-decoration-color: #ff00ff\">in</span> dataloader:                                              <span style=\"color: #800000; text-decoration-color: #800000\">│</span>\n",
       "<span style=\"color: #800000; text-decoration-color: #800000\">│</span>   <span style=\"color: #7f7f7f; text-decoration-color: #7f7f7f\">30 </span><span style=\"color: #7f7f7f; text-decoration-color: #7f7f7f\">│   │   │   </span>optimizer.zero_grad()                                                           <span style=\"color: #800000; text-decoration-color: #800000\">│</span>\n",
       "<span style=\"color: #800000; text-decoration-color: #800000\">│</span>   <span style=\"color: #7f7f7f; text-decoration-color: #7f7f7f\">31 </span><span style=\"color: #7f7f7f; text-decoration-color: #7f7f7f\">│   │   │   </span>output = model(data1, data2)                                                    <span style=\"color: #800000; text-decoration-color: #800000\">│</span>\n",
       "<span style=\"color: #800000; text-decoration-color: #800000\">│</span>   <span style=\"color: #7f7f7f; text-decoration-color: #7f7f7f\">32 </span><span style=\"color: #7f7f7f; text-decoration-color: #7f7f7f\">│   │   │   </span>loss = criterion(output, label.unsqueeze(<span style=\"color: #0000ff; text-decoration-color: #0000ff\">1</span>))                                    <span style=\"color: #800000; text-decoration-color: #800000\">│</span>\n",
       "<span style=\"color: #800000; text-decoration-color: #800000\">│</span>                                                                                                  <span style=\"color: #800000; text-decoration-color: #800000\">│</span>\n",
       "<span style=\"color: #800000; text-decoration-color: #800000\">│</span> <span style=\"color: #bfbf7f; text-decoration-color: #bfbf7f\">/home/rahit/jupyter_py3/lib/python3.8/site-packages/torch/utils/data/</span><span style=\"color: #808000; text-decoration-color: #808000; font-weight: bold\">dataloader.py</span>:<span style=\"color: #0000ff; text-decoration-color: #0000ff\">628</span> in        <span style=\"color: #800000; text-decoration-color: #800000\">│</span>\n",
       "<span style=\"color: #800000; text-decoration-color: #800000\">│</span> <span style=\"color: #00ff00; text-decoration-color: #00ff00\">__next__</span>                                                                                         <span style=\"color: #800000; text-decoration-color: #800000\">│</span>\n",
       "<span style=\"color: #800000; text-decoration-color: #800000\">│</span>                                                                                                  <span style=\"color: #800000; text-decoration-color: #800000\">│</span>\n",
       "<span style=\"color: #800000; text-decoration-color: #800000\">│</span>   <span style=\"color: #7f7f7f; text-decoration-color: #7f7f7f\"> 625 </span><span style=\"color: #7f7f7f; text-decoration-color: #7f7f7f\">│   │   │   </span><span style=\"color: #0000ff; text-decoration-color: #0000ff\">if</span> <span style=\"color: #00ffff; text-decoration-color: #00ffff\">self</span>._sampler_iter <span style=\"color: #ff00ff; text-decoration-color: #ff00ff\">is</span> <span style=\"color: #0000ff; text-decoration-color: #0000ff\">None</span>:                                                <span style=\"color: #800000; text-decoration-color: #800000\">│</span>\n",
       "<span style=\"color: #800000; text-decoration-color: #800000\">│</span>   <span style=\"color: #7f7f7f; text-decoration-color: #7f7f7f\"> 626 </span><span style=\"color: #7f7f7f; text-decoration-color: #7f7f7f\">│   │   │   │   </span><span style=\"color: #7f7f7f; text-decoration-color: #7f7f7f\"># TODO(https://github.com/pytorch/pytorch/issues/76750)</span>                   <span style=\"color: #800000; text-decoration-color: #800000\">│</span>\n",
       "<span style=\"color: #800000; text-decoration-color: #800000\">│</span>   <span style=\"color: #7f7f7f; text-decoration-color: #7f7f7f\"> 627 </span><span style=\"color: #7f7f7f; text-decoration-color: #7f7f7f\">│   │   │   │   </span><span style=\"color: #00ffff; text-decoration-color: #00ffff\">self</span>._reset()  <span style=\"color: #7f7f7f; text-decoration-color: #7f7f7f\"># type: ignore[call-arg]</span>                                   <span style=\"color: #800000; text-decoration-color: #800000\">│</span>\n",
       "<span style=\"color: #800000; text-decoration-color: #800000\">│</span> <span style=\"color: #800000; text-decoration-color: #800000\">❱ </span> 628 <span style=\"color: #7f7f7f; text-decoration-color: #7f7f7f\">│   │   │   </span>data = <span style=\"color: #00ffff; text-decoration-color: #00ffff\">self</span>._next_data()                                                      <span style=\"color: #800000; text-decoration-color: #800000\">│</span>\n",
       "<span style=\"color: #800000; text-decoration-color: #800000\">│</span>   <span style=\"color: #7f7f7f; text-decoration-color: #7f7f7f\"> 629 </span><span style=\"color: #7f7f7f; text-decoration-color: #7f7f7f\">│   │   │   </span><span style=\"color: #00ffff; text-decoration-color: #00ffff\">self</span>._num_yielded += <span style=\"color: #0000ff; text-decoration-color: #0000ff\">1</span>                                                        <span style=\"color: #800000; text-decoration-color: #800000\">│</span>\n",
       "<span style=\"color: #800000; text-decoration-color: #800000\">│</span>   <span style=\"color: #7f7f7f; text-decoration-color: #7f7f7f\"> 630 </span><span style=\"color: #7f7f7f; text-decoration-color: #7f7f7f\">│   │   │   </span><span style=\"color: #0000ff; text-decoration-color: #0000ff\">if</span> <span style=\"color: #00ffff; text-decoration-color: #00ffff\">self</span>._dataset_kind == _DatasetKind.Iterable <span style=\"color: #ff00ff; text-decoration-color: #ff00ff\">and</span> \\                          <span style=\"color: #800000; text-decoration-color: #800000\">│</span>\n",
       "<span style=\"color: #800000; text-decoration-color: #800000\">│</span>   <span style=\"color: #7f7f7f; text-decoration-color: #7f7f7f\"> 631 </span><span style=\"color: #7f7f7f; text-decoration-color: #7f7f7f\">│   │   │   │   │   </span><span style=\"color: #00ffff; text-decoration-color: #00ffff\">self</span>._IterableDataset_len_called <span style=\"color: #ff00ff; text-decoration-color: #ff00ff\">is</span> <span style=\"color: #ff00ff; text-decoration-color: #ff00ff\">not</span> <span style=\"color: #0000ff; text-decoration-color: #0000ff\">None</span> <span style=\"color: #ff00ff; text-decoration-color: #ff00ff\">and</span> \\                    <span style=\"color: #800000; text-decoration-color: #800000\">│</span>\n",
       "<span style=\"color: #800000; text-decoration-color: #800000\">│</span>                                                                                                  <span style=\"color: #800000; text-decoration-color: #800000\">│</span>\n",
       "<span style=\"color: #800000; text-decoration-color: #800000\">│</span> <span style=\"color: #bfbf7f; text-decoration-color: #bfbf7f\">/home/rahit/jupyter_py3/lib/python3.8/site-packages/torch/utils/data/</span><span style=\"color: #808000; text-decoration-color: #808000; font-weight: bold\">dataloader.py</span>:<span style=\"color: #0000ff; text-decoration-color: #0000ff\">671</span> in        <span style=\"color: #800000; text-decoration-color: #800000\">│</span>\n",
       "<span style=\"color: #800000; text-decoration-color: #800000\">│</span> <span style=\"color: #00ff00; text-decoration-color: #00ff00\">_next_data</span>                                                                                       <span style=\"color: #800000; text-decoration-color: #800000\">│</span>\n",
       "<span style=\"color: #800000; text-decoration-color: #800000\">│</span>                                                                                                  <span style=\"color: #800000; text-decoration-color: #800000\">│</span>\n",
       "<span style=\"color: #800000; text-decoration-color: #800000\">│</span>   <span style=\"color: #7f7f7f; text-decoration-color: #7f7f7f\"> 668 </span><span style=\"color: #7f7f7f; text-decoration-color: #7f7f7f\">│   </span>                                                                                      <span style=\"color: #800000; text-decoration-color: #800000\">│</span>\n",
       "<span style=\"color: #800000; text-decoration-color: #800000\">│</span>   <span style=\"color: #7f7f7f; text-decoration-color: #7f7f7f\"> 669 </span><span style=\"color: #7f7f7f; text-decoration-color: #7f7f7f\">│   </span><span style=\"color: #0000ff; text-decoration-color: #0000ff\">def</span> <span style=\"color: #00ff00; text-decoration-color: #00ff00\">_next_data</span>(<span style=\"color: #00ffff; text-decoration-color: #00ffff\">self</span>):                                                                 <span style=\"color: #800000; text-decoration-color: #800000\">│</span>\n",
       "<span style=\"color: #800000; text-decoration-color: #800000\">│</span>   <span style=\"color: #7f7f7f; text-decoration-color: #7f7f7f\"> 670 </span><span style=\"color: #7f7f7f; text-decoration-color: #7f7f7f\">│   │   </span>index = <span style=\"color: #00ffff; text-decoration-color: #00ffff\">self</span>._next_index()  <span style=\"color: #7f7f7f; text-decoration-color: #7f7f7f\"># may raise StopIteration</span>                             <span style=\"color: #800000; text-decoration-color: #800000\">│</span>\n",
       "<span style=\"color: #800000; text-decoration-color: #800000\">│</span> <span style=\"color: #800000; text-decoration-color: #800000\">❱ </span> 671 <span style=\"color: #7f7f7f; text-decoration-color: #7f7f7f\">│   │   </span>data = <span style=\"color: #00ffff; text-decoration-color: #00ffff\">self</span>._dataset_fetcher.fetch(index)  <span style=\"color: #7f7f7f; text-decoration-color: #7f7f7f\"># may raise StopIteration</span>              <span style=\"color: #800000; text-decoration-color: #800000\">│</span>\n",
       "<span style=\"color: #800000; text-decoration-color: #800000\">│</span>   <span style=\"color: #7f7f7f; text-decoration-color: #7f7f7f\"> 672 </span><span style=\"color: #7f7f7f; text-decoration-color: #7f7f7f\">│   │   </span><span style=\"color: #0000ff; text-decoration-color: #0000ff\">if</span> <span style=\"color: #00ffff; text-decoration-color: #00ffff\">self</span>._pin_memory:                                                              <span style=\"color: #800000; text-decoration-color: #800000\">│</span>\n",
       "<span style=\"color: #800000; text-decoration-color: #800000\">│</span>   <span style=\"color: #7f7f7f; text-decoration-color: #7f7f7f\"> 673 </span><span style=\"color: #7f7f7f; text-decoration-color: #7f7f7f\">│   │   │   </span>data = _utils.pin_memory.pin_memory(data, <span style=\"color: #00ffff; text-decoration-color: #00ffff\">self</span>._pin_memory_device)            <span style=\"color: #800000; text-decoration-color: #800000\">│</span>\n",
       "<span style=\"color: #800000; text-decoration-color: #800000\">│</span>   <span style=\"color: #7f7f7f; text-decoration-color: #7f7f7f\"> 674 </span><span style=\"color: #7f7f7f; text-decoration-color: #7f7f7f\">│   │   </span><span style=\"color: #0000ff; text-decoration-color: #0000ff\">return</span> data                                                                       <span style=\"color: #800000; text-decoration-color: #800000\">│</span>\n",
       "<span style=\"color: #800000; text-decoration-color: #800000\">│</span>                                                                                                  <span style=\"color: #800000; text-decoration-color: #800000\">│</span>\n",
       "<span style=\"color: #800000; text-decoration-color: #800000\">│</span> <span style=\"color: #bfbf7f; text-decoration-color: #bfbf7f\">/home/rahit/jupyter_py3/lib/python3.8/site-packages/torch/utils/data/_utils/</span><span style=\"color: #808000; text-decoration-color: #808000; font-weight: bold\">fetch.py</span>:<span style=\"color: #0000ff; text-decoration-color: #0000ff\">61</span> in <span style=\"color: #00ff00; text-decoration-color: #00ff00\">fetch</span> <span style=\"color: #800000; text-decoration-color: #800000\">│</span>\n",
       "<span style=\"color: #800000; text-decoration-color: #800000\">│</span>                                                                                                  <span style=\"color: #800000; text-decoration-color: #800000\">│</span>\n",
       "<span style=\"color: #800000; text-decoration-color: #800000\">│</span>   <span style=\"color: #7f7f7f; text-decoration-color: #7f7f7f\">58 </span><span style=\"color: #7f7f7f; text-decoration-color: #7f7f7f\">│   │   │   │   </span>data = [<span style=\"color: #00ffff; text-decoration-color: #00ffff\">self</span>.dataset[idx] <span style=\"color: #0000ff; text-decoration-color: #0000ff\">for</span> idx <span style=\"color: #ff00ff; text-decoration-color: #ff00ff\">in</span> possibly_batched_index]                <span style=\"color: #800000; text-decoration-color: #800000\">│</span>\n",
       "<span style=\"color: #800000; text-decoration-color: #800000\">│</span>   <span style=\"color: #7f7f7f; text-decoration-color: #7f7f7f\">59 </span><span style=\"color: #7f7f7f; text-decoration-color: #7f7f7f\">│   │   </span><span style=\"color: #0000ff; text-decoration-color: #0000ff\">else</span>:                                                                               <span style=\"color: #800000; text-decoration-color: #800000\">│</span>\n",
       "<span style=\"color: #800000; text-decoration-color: #800000\">│</span>   <span style=\"color: #7f7f7f; text-decoration-color: #7f7f7f\">60 </span><span style=\"color: #7f7f7f; text-decoration-color: #7f7f7f\">│   │   │   </span>data = <span style=\"color: #00ffff; text-decoration-color: #00ffff\">self</span>.dataset[possibly_batched_index]                                     <span style=\"color: #800000; text-decoration-color: #800000\">│</span>\n",
       "<span style=\"color: #800000; text-decoration-color: #800000\">│</span> <span style=\"color: #800000; text-decoration-color: #800000\">❱ </span>61 <span style=\"color: #7f7f7f; text-decoration-color: #7f7f7f\">│   │   </span><span style=\"color: #0000ff; text-decoration-color: #0000ff\">return</span> <span style=\"color: #00ffff; text-decoration-color: #00ffff\">self</span>.collate_fn(data)                                                        <span style=\"color: #800000; text-decoration-color: #800000\">│</span>\n",
       "<span style=\"color: #800000; text-decoration-color: #800000\">│</span>   <span style=\"color: #7f7f7f; text-decoration-color: #7f7f7f\">62 </span>                                                                                            <span style=\"color: #800000; text-decoration-color: #800000\">│</span>\n",
       "<span style=\"color: #800000; text-decoration-color: #800000\">│</span>                                                                                                  <span style=\"color: #800000; text-decoration-color: #800000\">│</span>\n",
       "<span style=\"color: #800000; text-decoration-color: #800000\">│</span> <span style=\"color: #bfbf7f; text-decoration-color: #bfbf7f\">/home/rahit/jupyter_py3/lib/python3.8/site-packages/torch_geometric/loader/</span><span style=\"color: #808000; text-decoration-color: #808000; font-weight: bold\">dataloader.py</span>:<span style=\"color: #0000ff; text-decoration-color: #0000ff\">34</span> in   <span style=\"color: #800000; text-decoration-color: #800000\">│</span>\n",
       "<span style=\"color: #800000; text-decoration-color: #800000\">│</span> <span style=\"color: #00ff00; text-decoration-color: #00ff00\">__call__</span>                                                                                         <span style=\"color: #800000; text-decoration-color: #800000\">│</span>\n",
       "<span style=\"color: #800000; text-decoration-color: #800000\">│</span>                                                                                                  <span style=\"color: #800000; text-decoration-color: #800000\">│</span>\n",
       "<span style=\"color: #800000; text-decoration-color: #800000\">│</span>   <span style=\"color: #7f7f7f; text-decoration-color: #7f7f7f\">31 </span><span style=\"color: #7f7f7f; text-decoration-color: #7f7f7f\">│   │   </span><span style=\"color: #0000ff; text-decoration-color: #0000ff\">elif</span> <span style=\"color: #00ffff; text-decoration-color: #00ffff\">isinstance</span>(elem, <span style=\"color: #00ffff; text-decoration-color: #00ffff\">tuple</span>) <span style=\"color: #ff00ff; text-decoration-color: #ff00ff\">and</span> <span style=\"color: #00ffff; text-decoration-color: #00ffff\">hasattr</span>(elem, <span style=\"color: #808000; text-decoration-color: #808000\">'_fields'</span>):                          <span style=\"color: #800000; text-decoration-color: #800000\">│</span>\n",
       "<span style=\"color: #800000; text-decoration-color: #800000\">│</span>   <span style=\"color: #7f7f7f; text-decoration-color: #7f7f7f\">32 </span><span style=\"color: #7f7f7f; text-decoration-color: #7f7f7f\">│   │   │   </span><span style=\"color: #0000ff; text-decoration-color: #0000ff\">return</span> <span style=\"color: #00ffff; text-decoration-color: #00ffff\">type</span>(elem)(*(<span style=\"color: #00ffff; text-decoration-color: #00ffff\">self</span>(s) <span style=\"color: #0000ff; text-decoration-color: #0000ff\">for</span> s <span style=\"color: #ff00ff; text-decoration-color: #ff00ff\">in</span> <span style=\"color: #00ffff; text-decoration-color: #00ffff\">zip</span>(*batch)))                              <span style=\"color: #800000; text-decoration-color: #800000\">│</span>\n",
       "<span style=\"color: #800000; text-decoration-color: #800000\">│</span>   <span style=\"color: #7f7f7f; text-decoration-color: #7f7f7f\">33 </span><span style=\"color: #7f7f7f; text-decoration-color: #7f7f7f\">│   │   </span><span style=\"color: #0000ff; text-decoration-color: #0000ff\">elif</span> <span style=\"color: #00ffff; text-decoration-color: #00ffff\">isinstance</span>(elem, Sequence) <span style=\"color: #ff00ff; text-decoration-color: #ff00ff\">and</span> <span style=\"color: #ff00ff; text-decoration-color: #ff00ff\">not</span> <span style=\"color: #00ffff; text-decoration-color: #00ffff\">isinstance</span>(elem, <span style=\"color: #00ffff; text-decoration-color: #00ffff\">str</span>):                      <span style=\"color: #800000; text-decoration-color: #800000\">│</span>\n",
       "<span style=\"color: #800000; text-decoration-color: #800000\">│</span> <span style=\"color: #800000; text-decoration-color: #800000\">❱ </span>34 <span style=\"color: #7f7f7f; text-decoration-color: #7f7f7f\">│   │   │   </span><span style=\"color: #0000ff; text-decoration-color: #0000ff\">return</span> [<span style=\"color: #00ffff; text-decoration-color: #00ffff\">self</span>(s) <span style=\"color: #0000ff; text-decoration-color: #0000ff\">for</span> s <span style=\"color: #ff00ff; text-decoration-color: #ff00ff\">in</span> <span style=\"color: #00ffff; text-decoration-color: #00ffff\">zip</span>(*batch)]                                           <span style=\"color: #800000; text-decoration-color: #800000\">│</span>\n",
       "<span style=\"color: #800000; text-decoration-color: #800000\">│</span>   <span style=\"color: #7f7f7f; text-decoration-color: #7f7f7f\">35 </span><span style=\"color: #7f7f7f; text-decoration-color: #7f7f7f\">│   │   </span>                                                                                    <span style=\"color: #800000; text-decoration-color: #800000\">│</span>\n",
       "<span style=\"color: #800000; text-decoration-color: #800000\">│</span>   <span style=\"color: #7f7f7f; text-decoration-color: #7f7f7f\">36 </span><span style=\"color: #7f7f7f; text-decoration-color: #7f7f7f\">│   │   </span><span style=\"color: #0000ff; text-decoration-color: #0000ff\">raise</span> <span style=\"color: #00ffff; text-decoration-color: #00ffff\">TypeError</span>(<span style=\"color: #808000; text-decoration-color: #808000\">f'DataLoader found invalid type: {</span><span style=\"color: #00ffff; text-decoration-color: #00ffff\">type</span>(elem)<span style=\"color: #808000; text-decoration-color: #808000\">}'</span>)                     <span style=\"color: #800000; text-decoration-color: #800000\">│</span>\n",
       "<span style=\"color: #800000; text-decoration-color: #800000\">│</span>   <span style=\"color: #7f7f7f; text-decoration-color: #7f7f7f\">37 </span>                                                                                            <span style=\"color: #800000; text-decoration-color: #800000\">│</span>\n",
       "<span style=\"color: #800000; text-decoration-color: #800000\">│</span>                                                                                                  <span style=\"color: #800000; text-decoration-color: #800000\">│</span>\n",
       "<span style=\"color: #800000; text-decoration-color: #800000\">│</span> <span style=\"color: #bfbf7f; text-decoration-color: #bfbf7f\">/home/rahit/jupyter_py3/lib/python3.8/site-packages/torch_geometric/loader/</span><span style=\"color: #808000; text-decoration-color: #808000; font-weight: bold\">dataloader.py</span>:<span style=\"color: #0000ff; text-decoration-color: #0000ff\">34</span> in   <span style=\"color: #800000; text-decoration-color: #800000\">│</span>\n",
       "<span style=\"color: #800000; text-decoration-color: #800000\">│</span> <span style=\"color: #00ff00; text-decoration-color: #00ff00\">&lt;listcomp&gt;</span>                                                                                       <span style=\"color: #800000; text-decoration-color: #800000\">│</span>\n",
       "<span style=\"color: #800000; text-decoration-color: #800000\">│</span>                                                                                                  <span style=\"color: #800000; text-decoration-color: #800000\">│</span>\n",
       "<span style=\"color: #800000; text-decoration-color: #800000\">│</span>   <span style=\"color: #7f7f7f; text-decoration-color: #7f7f7f\">31 </span><span style=\"color: #7f7f7f; text-decoration-color: #7f7f7f\">│   │   </span><span style=\"color: #0000ff; text-decoration-color: #0000ff\">elif</span> <span style=\"color: #00ffff; text-decoration-color: #00ffff\">isinstance</span>(elem, <span style=\"color: #00ffff; text-decoration-color: #00ffff\">tuple</span>) <span style=\"color: #ff00ff; text-decoration-color: #ff00ff\">and</span> <span style=\"color: #00ffff; text-decoration-color: #00ffff\">hasattr</span>(elem, <span style=\"color: #808000; text-decoration-color: #808000\">'_fields'</span>):                          <span style=\"color: #800000; text-decoration-color: #800000\">│</span>\n",
       "<span style=\"color: #800000; text-decoration-color: #800000\">│</span>   <span style=\"color: #7f7f7f; text-decoration-color: #7f7f7f\">32 </span><span style=\"color: #7f7f7f; text-decoration-color: #7f7f7f\">│   │   │   </span><span style=\"color: #0000ff; text-decoration-color: #0000ff\">return</span> <span style=\"color: #00ffff; text-decoration-color: #00ffff\">type</span>(elem)(*(<span style=\"color: #00ffff; text-decoration-color: #00ffff\">self</span>(s) <span style=\"color: #0000ff; text-decoration-color: #0000ff\">for</span> s <span style=\"color: #ff00ff; text-decoration-color: #ff00ff\">in</span> <span style=\"color: #00ffff; text-decoration-color: #00ffff\">zip</span>(*batch)))                              <span style=\"color: #800000; text-decoration-color: #800000\">│</span>\n",
       "<span style=\"color: #800000; text-decoration-color: #800000\">│</span>   <span style=\"color: #7f7f7f; text-decoration-color: #7f7f7f\">33 </span><span style=\"color: #7f7f7f; text-decoration-color: #7f7f7f\">│   │   </span><span style=\"color: #0000ff; text-decoration-color: #0000ff\">elif</span> <span style=\"color: #00ffff; text-decoration-color: #00ffff\">isinstance</span>(elem, Sequence) <span style=\"color: #ff00ff; text-decoration-color: #ff00ff\">and</span> <span style=\"color: #ff00ff; text-decoration-color: #ff00ff\">not</span> <span style=\"color: #00ffff; text-decoration-color: #00ffff\">isinstance</span>(elem, <span style=\"color: #00ffff; text-decoration-color: #00ffff\">str</span>):                      <span style=\"color: #800000; text-decoration-color: #800000\">│</span>\n",
       "<span style=\"color: #800000; text-decoration-color: #800000\">│</span> <span style=\"color: #800000; text-decoration-color: #800000\">❱ </span>34 <span style=\"color: #7f7f7f; text-decoration-color: #7f7f7f\">│   │   │   </span><span style=\"color: #0000ff; text-decoration-color: #0000ff\">return</span> [<span style=\"color: #00ffff; text-decoration-color: #00ffff\">self</span>(s) <span style=\"color: #0000ff; text-decoration-color: #0000ff\">for</span> s <span style=\"color: #ff00ff; text-decoration-color: #ff00ff\">in</span> <span style=\"color: #00ffff; text-decoration-color: #00ffff\">zip</span>(*batch)]                                           <span style=\"color: #800000; text-decoration-color: #800000\">│</span>\n",
       "<span style=\"color: #800000; text-decoration-color: #800000\">│</span>   <span style=\"color: #7f7f7f; text-decoration-color: #7f7f7f\">35 </span><span style=\"color: #7f7f7f; text-decoration-color: #7f7f7f\">│   │   </span>                                                                                    <span style=\"color: #800000; text-decoration-color: #800000\">│</span>\n",
       "<span style=\"color: #800000; text-decoration-color: #800000\">│</span>   <span style=\"color: #7f7f7f; text-decoration-color: #7f7f7f\">36 </span><span style=\"color: #7f7f7f; text-decoration-color: #7f7f7f\">│   │   </span><span style=\"color: #0000ff; text-decoration-color: #0000ff\">raise</span> <span style=\"color: #00ffff; text-decoration-color: #00ffff\">TypeError</span>(<span style=\"color: #808000; text-decoration-color: #808000\">f'DataLoader found invalid type: {</span><span style=\"color: #00ffff; text-decoration-color: #00ffff\">type</span>(elem)<span style=\"color: #808000; text-decoration-color: #808000\">}'</span>)                     <span style=\"color: #800000; text-decoration-color: #800000\">│</span>\n",
       "<span style=\"color: #800000; text-decoration-color: #800000\">│</span>   <span style=\"color: #7f7f7f; text-decoration-color: #7f7f7f\">37 </span>                                                                                            <span style=\"color: #800000; text-decoration-color: #800000\">│</span>\n",
       "<span style=\"color: #800000; text-decoration-color: #800000\">│</span>                                                                                                  <span style=\"color: #800000; text-decoration-color: #800000\">│</span>\n",
       "<span style=\"color: #800000; text-decoration-color: #800000\">│</span> <span style=\"color: #bfbf7f; text-decoration-color: #bfbf7f\">/home/rahit/jupyter_py3/lib/python3.8/site-packages/torch_geometric/loader/</span><span style=\"color: #808000; text-decoration-color: #808000; font-weight: bold\">dataloader.py</span>:<span style=\"color: #0000ff; text-decoration-color: #0000ff\">19</span> in   <span style=\"color: #800000; text-decoration-color: #800000\">│</span>\n",
       "<span style=\"color: #800000; text-decoration-color: #800000\">│</span> <span style=\"color: #00ff00; text-decoration-color: #00ff00\">__call__</span>                                                                                         <span style=\"color: #800000; text-decoration-color: #800000\">│</span>\n",
       "<span style=\"color: #800000; text-decoration-color: #800000\">│</span>                                                                                                  <span style=\"color: #800000; text-decoration-color: #800000\">│</span>\n",
       "<span style=\"color: #800000; text-decoration-color: #800000\">│</span>   <span style=\"color: #7f7f7f; text-decoration-color: #7f7f7f\">16 </span><span style=\"color: #7f7f7f; text-decoration-color: #7f7f7f\">│   </span><span style=\"color: #0000ff; text-decoration-color: #0000ff\">def</span> <span style=\"color: #00ff00; text-decoration-color: #00ff00\">__call__</span>(<span style=\"color: #00ffff; text-decoration-color: #00ffff\">self</span>, batch):                                                              <span style=\"color: #800000; text-decoration-color: #800000\">│</span>\n",
       "<span style=\"color: #800000; text-decoration-color: #800000\">│</span>   <span style=\"color: #7f7f7f; text-decoration-color: #7f7f7f\">17 </span><span style=\"color: #7f7f7f; text-decoration-color: #7f7f7f\">│   │   </span>elem = batch[<span style=\"color: #0000ff; text-decoration-color: #0000ff\">0</span>]                                                                     <span style=\"color: #800000; text-decoration-color: #800000\">│</span>\n",
       "<span style=\"color: #800000; text-decoration-color: #800000\">│</span>   <span style=\"color: #7f7f7f; text-decoration-color: #7f7f7f\">18 </span><span style=\"color: #7f7f7f; text-decoration-color: #7f7f7f\">│   │   </span><span style=\"color: #0000ff; text-decoration-color: #0000ff\">if</span> <span style=\"color: #00ffff; text-decoration-color: #00ffff\">isinstance</span>(elem, BaseData):                                                      <span style=\"color: #800000; text-decoration-color: #800000\">│</span>\n",
       "<span style=\"color: #800000; text-decoration-color: #800000\">│</span> <span style=\"color: #800000; text-decoration-color: #800000\">❱ </span>19 <span style=\"color: #7f7f7f; text-decoration-color: #7f7f7f\">│   │   │   </span><span style=\"color: #0000ff; text-decoration-color: #0000ff\">return</span> Batch.from_data_list(batch, <span style=\"color: #00ffff; text-decoration-color: #00ffff\">self</span>.follow_batch,                           <span style=\"color: #800000; text-decoration-color: #800000\">│</span>\n",
       "<span style=\"color: #800000; text-decoration-color: #800000\">│</span>   <span style=\"color: #7f7f7f; text-decoration-color: #7f7f7f\">20 </span><span style=\"color: #7f7f7f; text-decoration-color: #7f7f7f\">│   │   │   │   │   │   │   │   │   │   </span><span style=\"color: #00ffff; text-decoration-color: #00ffff\">self</span>.exclude_keys)                                  <span style=\"color: #800000; text-decoration-color: #800000\">│</span>\n",
       "<span style=\"color: #800000; text-decoration-color: #800000\">│</span>   <span style=\"color: #7f7f7f; text-decoration-color: #7f7f7f\">21 </span><span style=\"color: #7f7f7f; text-decoration-color: #7f7f7f\">│   │   </span><span style=\"color: #0000ff; text-decoration-color: #0000ff\">elif</span> <span style=\"color: #00ffff; text-decoration-color: #00ffff\">isinstance</span>(elem, torch.Tensor):                                                <span style=\"color: #800000; text-decoration-color: #800000\">│</span>\n",
       "<span style=\"color: #800000; text-decoration-color: #800000\">│</span>   <span style=\"color: #7f7f7f; text-decoration-color: #7f7f7f\">22 </span><span style=\"color: #7f7f7f; text-decoration-color: #7f7f7f\">│   │   │   </span><span style=\"color: #0000ff; text-decoration-color: #0000ff\">return</span> default_collate(batch)                                                   <span style=\"color: #800000; text-decoration-color: #800000\">│</span>\n",
       "<span style=\"color: #800000; text-decoration-color: #800000\">│</span>                                                                                                  <span style=\"color: #800000; text-decoration-color: #800000\">│</span>\n",
       "<span style=\"color: #800000; text-decoration-color: #800000\">│</span> <span style=\"color: #bfbf7f; text-decoration-color: #bfbf7f\">/home/rahit/jupyter_py3/lib/python3.8/site-packages/torch_geometric/data/</span><span style=\"color: #808000; text-decoration-color: #808000; font-weight: bold\">batch.py</span>:<span style=\"color: #0000ff; text-decoration-color: #0000ff\">76</span> in          <span style=\"color: #800000; text-decoration-color: #800000\">│</span>\n",
       "<span style=\"color: #800000; text-decoration-color: #800000\">│</span> <span style=\"color: #00ff00; text-decoration-color: #00ff00\">from_data_list</span>                                                                                   <span style=\"color: #800000; text-decoration-color: #800000\">│</span>\n",
       "<span style=\"color: #800000; text-decoration-color: #800000\">│</span>                                                                                                  <span style=\"color: #800000; text-decoration-color: #800000\">│</span>\n",
       "<span style=\"color: #800000; text-decoration-color: #800000\">│</span>   <span style=\"color: #7f7f7f; text-decoration-color: #7f7f7f\"> 73 </span><span style=\"color: #bfbf7f; text-decoration-color: #bfbf7f\">│   │   </span><span style=\"color: #808000; text-decoration-color: #808000\">:obj:`follow_batch`.</span>                                                               <span style=\"color: #800000; text-decoration-color: #800000\">│</span>\n",
       "<span style=\"color: #800000; text-decoration-color: #800000\">│</span>   <span style=\"color: #7f7f7f; text-decoration-color: #7f7f7f\"> 74 </span><span style=\"color: #bfbf7f; text-decoration-color: #bfbf7f\">│   │   </span><span style=\"color: #808000; text-decoration-color: #808000\">Will exclude any keys given in :obj:`exclude_keys`.\"\"\"</span>                             <span style=\"color: #800000; text-decoration-color: #800000\">│</span>\n",
       "<span style=\"color: #800000; text-decoration-color: #800000\">│</span>   <span style=\"color: #7f7f7f; text-decoration-color: #7f7f7f\"> 75 </span><span style=\"color: #7f7f7f; text-decoration-color: #7f7f7f\">│   │   </span>                                                                                   <span style=\"color: #800000; text-decoration-color: #800000\">│</span>\n",
       "<span style=\"color: #800000; text-decoration-color: #800000\">│</span> <span style=\"color: #800000; text-decoration-color: #800000\">❱ </span> 76 <span style=\"color: #7f7f7f; text-decoration-color: #7f7f7f\">│   │   </span>batch, slice_dict, inc_dict = collate(                                             <span style=\"color: #800000; text-decoration-color: #800000\">│</span>\n",
       "<span style=\"color: #800000; text-decoration-color: #800000\">│</span>   <span style=\"color: #7f7f7f; text-decoration-color: #7f7f7f\"> 77 </span><span style=\"color: #7f7f7f; text-decoration-color: #7f7f7f\">│   │   │   </span><span style=\"color: #00ffff; text-decoration-color: #00ffff\">cls</span>,                                                                           <span style=\"color: #800000; text-decoration-color: #800000\">│</span>\n",
       "<span style=\"color: #800000; text-decoration-color: #800000\">│</span>   <span style=\"color: #7f7f7f; text-decoration-color: #7f7f7f\"> 78 </span><span style=\"color: #7f7f7f; text-decoration-color: #7f7f7f\">│   │   │   </span>data_list=data_list,                                                           <span style=\"color: #800000; text-decoration-color: #800000\">│</span>\n",
       "<span style=\"color: #800000; text-decoration-color: #800000\">│</span>   <span style=\"color: #7f7f7f; text-decoration-color: #7f7f7f\"> 79 </span><span style=\"color: #7f7f7f; text-decoration-color: #7f7f7f\">│   │   │   </span>increment=<span style=\"color: #0000ff; text-decoration-color: #0000ff\">True</span>,                                                                <span style=\"color: #800000; text-decoration-color: #800000\">│</span>\n",
       "<span style=\"color: #800000; text-decoration-color: #800000\">│</span>                                                                                                  <span style=\"color: #800000; text-decoration-color: #800000\">│</span>\n",
       "<span style=\"color: #800000; text-decoration-color: #800000\">│</span> <span style=\"color: #bfbf7f; text-decoration-color: #bfbf7f\">/home/rahit/jupyter_py3/lib/python3.8/site-packages/torch_geometric/data/</span><span style=\"color: #808000; text-decoration-color: #808000; font-weight: bold\">collate.py</span>:<span style=\"color: #0000ff; text-decoration-color: #0000ff\">70</span> in        <span style=\"color: #800000; text-decoration-color: #800000\">│</span>\n",
       "<span style=\"color: #800000; text-decoration-color: #800000\">│</span> <span style=\"color: #00ff00; text-decoration-color: #00ff00\">collate</span>                                                                                          <span style=\"color: #800000; text-decoration-color: #800000\">│</span>\n",
       "<span style=\"color: #800000; text-decoration-color: #800000\">│</span>                                                                                                  <span style=\"color: #800000; text-decoration-color: #800000\">│</span>\n",
       "<span style=\"color: #800000; text-decoration-color: #800000\">│</span>   <span style=\"color: #7f7f7f; text-decoration-color: #7f7f7f\"> 67 </span><span style=\"color: #7f7f7f; text-decoration-color: #7f7f7f\">│   │   │   </span><span style=\"color: #0000ff; text-decoration-color: #0000ff\">if</span> attr <span style=\"color: #ff00ff; text-decoration-color: #ff00ff\">in</span> exclude_keys:  <span style=\"color: #7f7f7f; text-decoration-color: #7f7f7f\"># Do not include top-level attribute.</span>                <span style=\"color: #800000; text-decoration-color: #800000\">│</span>\n",
       "<span style=\"color: #800000; text-decoration-color: #800000\">│</span>   <span style=\"color: #7f7f7f; text-decoration-color: #7f7f7f\"> 68 </span><span style=\"color: #7f7f7f; text-decoration-color: #7f7f7f\">│   │   │   │   </span><span style=\"color: #0000ff; text-decoration-color: #0000ff\">continue</span>                                                                   <span style=\"color: #800000; text-decoration-color: #800000\">│</span>\n",
       "<span style=\"color: #800000; text-decoration-color: #800000\">│</span>   <span style=\"color: #7f7f7f; text-decoration-color: #7f7f7f\"> 69 </span><span style=\"color: #7f7f7f; text-decoration-color: #7f7f7f\">│   │   │   </span>                                                                               <span style=\"color: #800000; text-decoration-color: #800000\">│</span>\n",
       "<span style=\"color: #800000; text-decoration-color: #800000\">│</span> <span style=\"color: #800000; text-decoration-color: #800000\">❱ </span> 70 <span style=\"color: #7f7f7f; text-decoration-color: #7f7f7f\">│   │   │   </span>values = [store[attr] <span style=\"color: #0000ff; text-decoration-color: #0000ff\">for</span> store <span style=\"color: #ff00ff; text-decoration-color: #ff00ff\">in</span> stores]                                     <span style=\"color: #800000; text-decoration-color: #800000\">│</span>\n",
       "<span style=\"color: #800000; text-decoration-color: #800000\">│</span>   <span style=\"color: #7f7f7f; text-decoration-color: #7f7f7f\"> 71 </span><span style=\"color: #7f7f7f; text-decoration-color: #7f7f7f\">│   │   │   </span>                                                                               <span style=\"color: #800000; text-decoration-color: #800000\">│</span>\n",
       "<span style=\"color: #800000; text-decoration-color: #800000\">│</span>   <span style=\"color: #7f7f7f; text-decoration-color: #7f7f7f\"> 72 </span><span style=\"color: #7f7f7f; text-decoration-color: #7f7f7f\">│   │   │   </span><span style=\"color: #7f7f7f; text-decoration-color: #7f7f7f\"># The `num_nodes` attribute needs special treatment, as we need to</span>             <span style=\"color: #800000; text-decoration-color: #800000\">│</span>\n",
       "<span style=\"color: #800000; text-decoration-color: #800000\">│</span>   <span style=\"color: #7f7f7f; text-decoration-color: #7f7f7f\"> 73 </span><span style=\"color: #7f7f7f; text-decoration-color: #7f7f7f\">│   │   │   </span><span style=\"color: #7f7f7f; text-decoration-color: #7f7f7f\"># sum their values up instead of merging them to a list:</span>                       <span style=\"color: #800000; text-decoration-color: #800000\">│</span>\n",
       "<span style=\"color: #800000; text-decoration-color: #800000\">│</span>                                                                                                  <span style=\"color: #800000; text-decoration-color: #800000\">│</span>\n",
       "<span style=\"color: #800000; text-decoration-color: #800000\">│</span> <span style=\"color: #bfbf7f; text-decoration-color: #bfbf7f\">/home/rahit/jupyter_py3/lib/python3.8/site-packages/torch_geometric/data/</span><span style=\"color: #808000; text-decoration-color: #808000; font-weight: bold\">collate.py</span>:<span style=\"color: #0000ff; text-decoration-color: #0000ff\">70</span> in        <span style=\"color: #800000; text-decoration-color: #800000\">│</span>\n",
       "<span style=\"color: #800000; text-decoration-color: #800000\">│</span> <span style=\"color: #00ff00; text-decoration-color: #00ff00\">&lt;listcomp&gt;</span>                                                                                       <span style=\"color: #800000; text-decoration-color: #800000\">│</span>\n",
       "<span style=\"color: #800000; text-decoration-color: #800000\">│</span>                                                                                                  <span style=\"color: #800000; text-decoration-color: #800000\">│</span>\n",
       "<span style=\"color: #800000; text-decoration-color: #800000\">│</span>   <span style=\"color: #7f7f7f; text-decoration-color: #7f7f7f\"> 67 </span><span style=\"color: #7f7f7f; text-decoration-color: #7f7f7f\">│   │   │   </span><span style=\"color: #0000ff; text-decoration-color: #0000ff\">if</span> attr <span style=\"color: #ff00ff; text-decoration-color: #ff00ff\">in</span> exclude_keys:  <span style=\"color: #7f7f7f; text-decoration-color: #7f7f7f\"># Do not include top-level attribute.</span>                <span style=\"color: #800000; text-decoration-color: #800000\">│</span>\n",
       "<span style=\"color: #800000; text-decoration-color: #800000\">│</span>   <span style=\"color: #7f7f7f; text-decoration-color: #7f7f7f\"> 68 </span><span style=\"color: #7f7f7f; text-decoration-color: #7f7f7f\">│   │   │   │   </span><span style=\"color: #0000ff; text-decoration-color: #0000ff\">continue</span>                                                                   <span style=\"color: #800000; text-decoration-color: #800000\">│</span>\n",
       "<span style=\"color: #800000; text-decoration-color: #800000\">│</span>   <span style=\"color: #7f7f7f; text-decoration-color: #7f7f7f\"> 69 </span><span style=\"color: #7f7f7f; text-decoration-color: #7f7f7f\">│   │   │   </span>                                                                               <span style=\"color: #800000; text-decoration-color: #800000\">│</span>\n",
       "<span style=\"color: #800000; text-decoration-color: #800000\">│</span> <span style=\"color: #800000; text-decoration-color: #800000\">❱ </span> 70 <span style=\"color: #7f7f7f; text-decoration-color: #7f7f7f\">│   │   │   </span>values = [store[attr] <span style=\"color: #0000ff; text-decoration-color: #0000ff\">for</span> store <span style=\"color: #ff00ff; text-decoration-color: #ff00ff\">in</span> stores]                                     <span style=\"color: #800000; text-decoration-color: #800000\">│</span>\n",
       "<span style=\"color: #800000; text-decoration-color: #800000\">│</span>   <span style=\"color: #7f7f7f; text-decoration-color: #7f7f7f\"> 71 </span><span style=\"color: #7f7f7f; text-decoration-color: #7f7f7f\">│   │   │   </span>                                                                               <span style=\"color: #800000; text-decoration-color: #800000\">│</span>\n",
       "<span style=\"color: #800000; text-decoration-color: #800000\">│</span>   <span style=\"color: #7f7f7f; text-decoration-color: #7f7f7f\"> 72 </span><span style=\"color: #7f7f7f; text-decoration-color: #7f7f7f\">│   │   │   </span><span style=\"color: #7f7f7f; text-decoration-color: #7f7f7f\"># The `num_nodes` attribute needs special treatment, as we need to</span>             <span style=\"color: #800000; text-decoration-color: #800000\">│</span>\n",
       "<span style=\"color: #800000; text-decoration-color: #800000\">│</span>   <span style=\"color: #7f7f7f; text-decoration-color: #7f7f7f\"> 73 </span><span style=\"color: #7f7f7f; text-decoration-color: #7f7f7f\">│   │   │   </span><span style=\"color: #7f7f7f; text-decoration-color: #7f7f7f\"># sum their values up instead of merging them to a list:</span>                       <span style=\"color: #800000; text-decoration-color: #800000\">│</span>\n",
       "<span style=\"color: #800000; text-decoration-color: #800000\">│</span>                                                                                                  <span style=\"color: #800000; text-decoration-color: #800000\">│</span>\n",
       "<span style=\"color: #800000; text-decoration-color: #800000\">│</span> <span style=\"color: #bfbf7f; text-decoration-color: #bfbf7f\">/home/rahit/jupyter_py3/lib/python3.8/site-packages/torch_geometric/data/</span><span style=\"color: #808000; text-decoration-color: #808000; font-weight: bold\">storage.py</span>:<span style=\"color: #0000ff; text-decoration-color: #0000ff\">85</span> in        <span style=\"color: #800000; text-decoration-color: #800000\">│</span>\n",
       "<span style=\"color: #800000; text-decoration-color: #800000\">│</span> <span style=\"color: #00ff00; text-decoration-color: #00ff00\">__getitem__</span>                                                                                      <span style=\"color: #800000; text-decoration-color: #800000\">│</span>\n",
       "<span style=\"color: #800000; text-decoration-color: #800000\">│</span>                                                                                                  <span style=\"color: #800000; text-decoration-color: #800000\">│</span>\n",
       "<span style=\"color: #800000; text-decoration-color: #800000\">│</span>   <span style=\"color: #7f7f7f; text-decoration-color: #7f7f7f\"> 82 </span><span style=\"color: #7f7f7f; text-decoration-color: #7f7f7f\">│   │   │   </span><span style=\"color: #0000ff; text-decoration-color: #0000ff\">del</span> <span style=\"color: #00ffff; text-decoration-color: #00ffff\">self</span>[key]                                                                  <span style=\"color: #800000; text-decoration-color: #800000\">│</span>\n",
       "<span style=\"color: #800000; text-decoration-color: #800000\">│</span>   <span style=\"color: #7f7f7f; text-decoration-color: #7f7f7f\"> 83 </span><span style=\"color: #7f7f7f; text-decoration-color: #7f7f7f\">│   </span>                                                                                       <span style=\"color: #800000; text-decoration-color: #800000\">│</span>\n",
       "<span style=\"color: #800000; text-decoration-color: #800000\">│</span>   <span style=\"color: #7f7f7f; text-decoration-color: #7f7f7f\"> 84 </span><span style=\"color: #7f7f7f; text-decoration-color: #7f7f7f\">│   </span><span style=\"color: #0000ff; text-decoration-color: #0000ff\">def</span> <span style=\"color: #00ff00; text-decoration-color: #00ff00\">__getitem__</span>(<span style=\"color: #00ffff; text-decoration-color: #00ffff\">self</span>, key: <span style=\"color: #00ffff; text-decoration-color: #00ffff\">str</span>) -&gt; Any:                                                <span style=\"color: #800000; text-decoration-color: #800000\">│</span>\n",
       "<span style=\"color: #800000; text-decoration-color: #800000\">│</span> <span style=\"color: #800000; text-decoration-color: #800000\">❱ </span> 85 <span style=\"color: #7f7f7f; text-decoration-color: #7f7f7f\">│   │   </span><span style=\"color: #0000ff; text-decoration-color: #0000ff\">return</span> <span style=\"color: #00ffff; text-decoration-color: #00ffff\">self</span>._mapping[key]                                                          <span style=\"color: #800000; text-decoration-color: #800000\">│</span>\n",
       "<span style=\"color: #800000; text-decoration-color: #800000\">│</span>   <span style=\"color: #7f7f7f; text-decoration-color: #7f7f7f\"> 86 </span><span style=\"color: #7f7f7f; text-decoration-color: #7f7f7f\">│   </span>                                                                                       <span style=\"color: #800000; text-decoration-color: #800000\">│</span>\n",
       "<span style=\"color: #800000; text-decoration-color: #800000\">│</span>   <span style=\"color: #7f7f7f; text-decoration-color: #7f7f7f\"> 87 </span><span style=\"color: #7f7f7f; text-decoration-color: #7f7f7f\">│   </span><span style=\"color: #0000ff; text-decoration-color: #0000ff\">def</span> <span style=\"color: #00ff00; text-decoration-color: #00ff00\">__setitem__</span>(<span style=\"color: #00ffff; text-decoration-color: #00ffff\">self</span>, key: <span style=\"color: #00ffff; text-decoration-color: #00ffff\">str</span>, value: Any):                                           <span style=\"color: #800000; text-decoration-color: #800000\">│</span>\n",
       "<span style=\"color: #800000; text-decoration-color: #800000\">│</span>   <span style=\"color: #7f7f7f; text-decoration-color: #7f7f7f\"> 88 </span><span style=\"color: #7f7f7f; text-decoration-color: #7f7f7f\">│   │   </span><span style=\"color: #0000ff; text-decoration-color: #0000ff\">if</span> value <span style=\"color: #ff00ff; text-decoration-color: #ff00ff\">is</span> <span style=\"color: #0000ff; text-decoration-color: #0000ff\">None</span> <span style=\"color: #ff00ff; text-decoration-color: #ff00ff\">and</span> key <span style=\"color: #ff00ff; text-decoration-color: #ff00ff\">in</span> <span style=\"color: #00ffff; text-decoration-color: #00ffff\">self</span>._mapping:                                         <span style=\"color: #800000; text-decoration-color: #800000\">│</span>\n",
       "<span style=\"color: #800000; text-decoration-color: #800000\">╰──────────────────────────────────────────────────────────────────────────────────────────────────╯</span>\n",
       "<span style=\"color: #ff0000; text-decoration-color: #ff0000; font-weight: bold\">KeyError: </span><span style=\"color: #008000; text-decoration-color: #008000\">'rel_types'</span>\n",
       "</pre>\n"
      ],
      "text/plain": [
       "\u001b[31m╭─\u001b[0m\u001b[31m──────────────────────────────\u001b[0m\u001b[31m \u001b[0m\u001b[1;31mTraceback \u001b[0m\u001b[1;2;31m(most recent call last)\u001b[0m\u001b[31m \u001b[0m\u001b[31m───────────────────────────────\u001b[0m\u001b[31m─╮\u001b[0m\n",
       "\u001b[31m│\u001b[0m in \u001b[92m<module>\u001b[0m:\u001b[94m14\u001b[0m                                                                                   \u001b[31m│\u001b[0m\n",
       "\u001b[31m│\u001b[0m                                                                                                  \u001b[31m│\u001b[0m\n",
       "\u001b[31m│\u001b[0m   \u001b[2m11 \u001b[0mcriterion = torch.nn.BCEWithLogitsLoss()                                                    \u001b[31m│\u001b[0m\n",
       "\u001b[31m│\u001b[0m   \u001b[2m12 \u001b[0m                                                                                            \u001b[31m│\u001b[0m\n",
       "\u001b[31m│\u001b[0m   \u001b[2m13 \u001b[0m\u001b[2m# Train the model\u001b[0m                                                                           \u001b[31m│\u001b[0m\n",
       "\u001b[31m│\u001b[0m \u001b[31m❱ \u001b[0m14 train(model, train_loader, optimizer, criterion, epochs=\u001b[94m10\u001b[0m)                                 \u001b[31m│\u001b[0m\n",
       "\u001b[31m│\u001b[0m   \u001b[2m15 \u001b[0m                                                                                            \u001b[31m│\u001b[0m\n",
       "\u001b[31m│\u001b[0m   \u001b[2m16 \u001b[0m\u001b[2m# Evaluate the model\u001b[0m                                                                        \u001b[31m│\u001b[0m\n",
       "\u001b[31m│\u001b[0m   \u001b[2m17 \u001b[0maccuracy = evaluate(model, valid_loader)                                                    \u001b[31m│\u001b[0m\n",
       "\u001b[31m│\u001b[0m                                                                                                  \u001b[31m│\u001b[0m\n",
       "\u001b[31m│\u001b[0m in \u001b[92mtrain\u001b[0m:\u001b[94m29\u001b[0m                                                                                      \u001b[31m│\u001b[0m\n",
       "\u001b[31m│\u001b[0m                                                                                                  \u001b[31m│\u001b[0m\n",
       "\u001b[31m│\u001b[0m   \u001b[2m26 \u001b[0m\u001b[2m│   \u001b[0mmodel.train()                                                                           \u001b[31m│\u001b[0m\n",
       "\u001b[31m│\u001b[0m   \u001b[2m27 \u001b[0m\u001b[2m│   \u001b[0m\u001b[94mfor\u001b[0m epoch \u001b[95min\u001b[0m \u001b[96mrange\u001b[0m(epochs):                                                             \u001b[31m│\u001b[0m\n",
       "\u001b[31m│\u001b[0m   \u001b[2m28 \u001b[0m\u001b[2m│   │   \u001b[0mtotal_loss = \u001b[94m0\u001b[0m                                                                      \u001b[31m│\u001b[0m\n",
       "\u001b[31m│\u001b[0m \u001b[31m❱ \u001b[0m29 \u001b[2m│   │   \u001b[0m\u001b[94mfor\u001b[0m data1, data2, label \u001b[95min\u001b[0m dataloader:                                              \u001b[31m│\u001b[0m\n",
       "\u001b[31m│\u001b[0m   \u001b[2m30 \u001b[0m\u001b[2m│   │   │   \u001b[0moptimizer.zero_grad()                                                           \u001b[31m│\u001b[0m\n",
       "\u001b[31m│\u001b[0m   \u001b[2m31 \u001b[0m\u001b[2m│   │   │   \u001b[0moutput = model(data1, data2)                                                    \u001b[31m│\u001b[0m\n",
       "\u001b[31m│\u001b[0m   \u001b[2m32 \u001b[0m\u001b[2m│   │   │   \u001b[0mloss = criterion(output, label.unsqueeze(\u001b[94m1\u001b[0m))                                    \u001b[31m│\u001b[0m\n",
       "\u001b[31m│\u001b[0m                                                                                                  \u001b[31m│\u001b[0m\n",
       "\u001b[31m│\u001b[0m \u001b[2;33m/home/rahit/jupyter_py3/lib/python3.8/site-packages/torch/utils/data/\u001b[0m\u001b[1;33mdataloader.py\u001b[0m:\u001b[94m628\u001b[0m in        \u001b[31m│\u001b[0m\n",
       "\u001b[31m│\u001b[0m \u001b[92m__next__\u001b[0m                                                                                         \u001b[31m│\u001b[0m\n",
       "\u001b[31m│\u001b[0m                                                                                                  \u001b[31m│\u001b[0m\n",
       "\u001b[31m│\u001b[0m   \u001b[2m 625 \u001b[0m\u001b[2m│   │   │   \u001b[0m\u001b[94mif\u001b[0m \u001b[96mself\u001b[0m._sampler_iter \u001b[95mis\u001b[0m \u001b[94mNone\u001b[0m:                                                \u001b[31m│\u001b[0m\n",
       "\u001b[31m│\u001b[0m   \u001b[2m 626 \u001b[0m\u001b[2m│   │   │   │   \u001b[0m\u001b[2m# TODO(https://github.com/pytorch/pytorch/issues/76750)\u001b[0m                   \u001b[31m│\u001b[0m\n",
       "\u001b[31m│\u001b[0m   \u001b[2m 627 \u001b[0m\u001b[2m│   │   │   │   \u001b[0m\u001b[96mself\u001b[0m._reset()  \u001b[2m# type: ignore[call-arg]\u001b[0m                                   \u001b[31m│\u001b[0m\n",
       "\u001b[31m│\u001b[0m \u001b[31m❱ \u001b[0m 628 \u001b[2m│   │   │   \u001b[0mdata = \u001b[96mself\u001b[0m._next_data()                                                      \u001b[31m│\u001b[0m\n",
       "\u001b[31m│\u001b[0m   \u001b[2m 629 \u001b[0m\u001b[2m│   │   │   \u001b[0m\u001b[96mself\u001b[0m._num_yielded += \u001b[94m1\u001b[0m                                                        \u001b[31m│\u001b[0m\n",
       "\u001b[31m│\u001b[0m   \u001b[2m 630 \u001b[0m\u001b[2m│   │   │   \u001b[0m\u001b[94mif\u001b[0m \u001b[96mself\u001b[0m._dataset_kind == _DatasetKind.Iterable \u001b[95mand\u001b[0m \\                          \u001b[31m│\u001b[0m\n",
       "\u001b[31m│\u001b[0m   \u001b[2m 631 \u001b[0m\u001b[2m│   │   │   │   │   \u001b[0m\u001b[96mself\u001b[0m._IterableDataset_len_called \u001b[95mis\u001b[0m \u001b[95mnot\u001b[0m \u001b[94mNone\u001b[0m \u001b[95mand\u001b[0m \\                    \u001b[31m│\u001b[0m\n",
       "\u001b[31m│\u001b[0m                                                                                                  \u001b[31m│\u001b[0m\n",
       "\u001b[31m│\u001b[0m \u001b[2;33m/home/rahit/jupyter_py3/lib/python3.8/site-packages/torch/utils/data/\u001b[0m\u001b[1;33mdataloader.py\u001b[0m:\u001b[94m671\u001b[0m in        \u001b[31m│\u001b[0m\n",
       "\u001b[31m│\u001b[0m \u001b[92m_next_data\u001b[0m                                                                                       \u001b[31m│\u001b[0m\n",
       "\u001b[31m│\u001b[0m                                                                                                  \u001b[31m│\u001b[0m\n",
       "\u001b[31m│\u001b[0m   \u001b[2m 668 \u001b[0m\u001b[2m│   \u001b[0m                                                                                      \u001b[31m│\u001b[0m\n",
       "\u001b[31m│\u001b[0m   \u001b[2m 669 \u001b[0m\u001b[2m│   \u001b[0m\u001b[94mdef\u001b[0m \u001b[92m_next_data\u001b[0m(\u001b[96mself\u001b[0m):                                                                 \u001b[31m│\u001b[0m\n",
       "\u001b[31m│\u001b[0m   \u001b[2m 670 \u001b[0m\u001b[2m│   │   \u001b[0mindex = \u001b[96mself\u001b[0m._next_index()  \u001b[2m# may raise StopIteration\u001b[0m                             \u001b[31m│\u001b[0m\n",
       "\u001b[31m│\u001b[0m \u001b[31m❱ \u001b[0m 671 \u001b[2m│   │   \u001b[0mdata = \u001b[96mself\u001b[0m._dataset_fetcher.fetch(index)  \u001b[2m# may raise StopIteration\u001b[0m              \u001b[31m│\u001b[0m\n",
       "\u001b[31m│\u001b[0m   \u001b[2m 672 \u001b[0m\u001b[2m│   │   \u001b[0m\u001b[94mif\u001b[0m \u001b[96mself\u001b[0m._pin_memory:                                                              \u001b[31m│\u001b[0m\n",
       "\u001b[31m│\u001b[0m   \u001b[2m 673 \u001b[0m\u001b[2m│   │   │   \u001b[0mdata = _utils.pin_memory.pin_memory(data, \u001b[96mself\u001b[0m._pin_memory_device)            \u001b[31m│\u001b[0m\n",
       "\u001b[31m│\u001b[0m   \u001b[2m 674 \u001b[0m\u001b[2m│   │   \u001b[0m\u001b[94mreturn\u001b[0m data                                                                       \u001b[31m│\u001b[0m\n",
       "\u001b[31m│\u001b[0m                                                                                                  \u001b[31m│\u001b[0m\n",
       "\u001b[31m│\u001b[0m \u001b[2;33m/home/rahit/jupyter_py3/lib/python3.8/site-packages/torch/utils/data/_utils/\u001b[0m\u001b[1;33mfetch.py\u001b[0m:\u001b[94m61\u001b[0m in \u001b[92mfetch\u001b[0m \u001b[31m│\u001b[0m\n",
       "\u001b[31m│\u001b[0m                                                                                                  \u001b[31m│\u001b[0m\n",
       "\u001b[31m│\u001b[0m   \u001b[2m58 \u001b[0m\u001b[2m│   │   │   │   \u001b[0mdata = [\u001b[96mself\u001b[0m.dataset[idx] \u001b[94mfor\u001b[0m idx \u001b[95min\u001b[0m possibly_batched_index]                \u001b[31m│\u001b[0m\n",
       "\u001b[31m│\u001b[0m   \u001b[2m59 \u001b[0m\u001b[2m│   │   \u001b[0m\u001b[94melse\u001b[0m:                                                                               \u001b[31m│\u001b[0m\n",
       "\u001b[31m│\u001b[0m   \u001b[2m60 \u001b[0m\u001b[2m│   │   │   \u001b[0mdata = \u001b[96mself\u001b[0m.dataset[possibly_batched_index]                                     \u001b[31m│\u001b[0m\n",
       "\u001b[31m│\u001b[0m \u001b[31m❱ \u001b[0m61 \u001b[2m│   │   \u001b[0m\u001b[94mreturn\u001b[0m \u001b[96mself\u001b[0m.collate_fn(data)                                                        \u001b[31m│\u001b[0m\n",
       "\u001b[31m│\u001b[0m   \u001b[2m62 \u001b[0m                                                                                            \u001b[31m│\u001b[0m\n",
       "\u001b[31m│\u001b[0m                                                                                                  \u001b[31m│\u001b[0m\n",
       "\u001b[31m│\u001b[0m \u001b[2;33m/home/rahit/jupyter_py3/lib/python3.8/site-packages/torch_geometric/loader/\u001b[0m\u001b[1;33mdataloader.py\u001b[0m:\u001b[94m34\u001b[0m in   \u001b[31m│\u001b[0m\n",
       "\u001b[31m│\u001b[0m \u001b[92m__call__\u001b[0m                                                                                         \u001b[31m│\u001b[0m\n",
       "\u001b[31m│\u001b[0m                                                                                                  \u001b[31m│\u001b[0m\n",
       "\u001b[31m│\u001b[0m   \u001b[2m31 \u001b[0m\u001b[2m│   │   \u001b[0m\u001b[94melif\u001b[0m \u001b[96misinstance\u001b[0m(elem, \u001b[96mtuple\u001b[0m) \u001b[95mand\u001b[0m \u001b[96mhasattr\u001b[0m(elem, \u001b[33m'\u001b[0m\u001b[33m_fields\u001b[0m\u001b[33m'\u001b[0m):                          \u001b[31m│\u001b[0m\n",
       "\u001b[31m│\u001b[0m   \u001b[2m32 \u001b[0m\u001b[2m│   │   │   \u001b[0m\u001b[94mreturn\u001b[0m \u001b[96mtype\u001b[0m(elem)(*(\u001b[96mself\u001b[0m(s) \u001b[94mfor\u001b[0m s \u001b[95min\u001b[0m \u001b[96mzip\u001b[0m(*batch)))                              \u001b[31m│\u001b[0m\n",
       "\u001b[31m│\u001b[0m   \u001b[2m33 \u001b[0m\u001b[2m│   │   \u001b[0m\u001b[94melif\u001b[0m \u001b[96misinstance\u001b[0m(elem, Sequence) \u001b[95mand\u001b[0m \u001b[95mnot\u001b[0m \u001b[96misinstance\u001b[0m(elem, \u001b[96mstr\u001b[0m):                      \u001b[31m│\u001b[0m\n",
       "\u001b[31m│\u001b[0m \u001b[31m❱ \u001b[0m34 \u001b[2m│   │   │   \u001b[0m\u001b[94mreturn\u001b[0m [\u001b[96mself\u001b[0m(s) \u001b[94mfor\u001b[0m s \u001b[95min\u001b[0m \u001b[96mzip\u001b[0m(*batch)]                                           \u001b[31m│\u001b[0m\n",
       "\u001b[31m│\u001b[0m   \u001b[2m35 \u001b[0m\u001b[2m│   │   \u001b[0m                                                                                    \u001b[31m│\u001b[0m\n",
       "\u001b[31m│\u001b[0m   \u001b[2m36 \u001b[0m\u001b[2m│   │   \u001b[0m\u001b[94mraise\u001b[0m \u001b[96mTypeError\u001b[0m(\u001b[33mf\u001b[0m\u001b[33m'\u001b[0m\u001b[33mDataLoader found invalid type: \u001b[0m\u001b[33m{\u001b[0m\u001b[96mtype\u001b[0m(elem)\u001b[33m}\u001b[0m\u001b[33m'\u001b[0m)                     \u001b[31m│\u001b[0m\n",
       "\u001b[31m│\u001b[0m   \u001b[2m37 \u001b[0m                                                                                            \u001b[31m│\u001b[0m\n",
       "\u001b[31m│\u001b[0m                                                                                                  \u001b[31m│\u001b[0m\n",
       "\u001b[31m│\u001b[0m \u001b[2;33m/home/rahit/jupyter_py3/lib/python3.8/site-packages/torch_geometric/loader/\u001b[0m\u001b[1;33mdataloader.py\u001b[0m:\u001b[94m34\u001b[0m in   \u001b[31m│\u001b[0m\n",
       "\u001b[31m│\u001b[0m \u001b[92m<listcomp>\u001b[0m                                                                                       \u001b[31m│\u001b[0m\n",
       "\u001b[31m│\u001b[0m                                                                                                  \u001b[31m│\u001b[0m\n",
       "\u001b[31m│\u001b[0m   \u001b[2m31 \u001b[0m\u001b[2m│   │   \u001b[0m\u001b[94melif\u001b[0m \u001b[96misinstance\u001b[0m(elem, \u001b[96mtuple\u001b[0m) \u001b[95mand\u001b[0m \u001b[96mhasattr\u001b[0m(elem, \u001b[33m'\u001b[0m\u001b[33m_fields\u001b[0m\u001b[33m'\u001b[0m):                          \u001b[31m│\u001b[0m\n",
       "\u001b[31m│\u001b[0m   \u001b[2m32 \u001b[0m\u001b[2m│   │   │   \u001b[0m\u001b[94mreturn\u001b[0m \u001b[96mtype\u001b[0m(elem)(*(\u001b[96mself\u001b[0m(s) \u001b[94mfor\u001b[0m s \u001b[95min\u001b[0m \u001b[96mzip\u001b[0m(*batch)))                              \u001b[31m│\u001b[0m\n",
       "\u001b[31m│\u001b[0m   \u001b[2m33 \u001b[0m\u001b[2m│   │   \u001b[0m\u001b[94melif\u001b[0m \u001b[96misinstance\u001b[0m(elem, Sequence) \u001b[95mand\u001b[0m \u001b[95mnot\u001b[0m \u001b[96misinstance\u001b[0m(elem, \u001b[96mstr\u001b[0m):                      \u001b[31m│\u001b[0m\n",
       "\u001b[31m│\u001b[0m \u001b[31m❱ \u001b[0m34 \u001b[2m│   │   │   \u001b[0m\u001b[94mreturn\u001b[0m [\u001b[96mself\u001b[0m(s) \u001b[94mfor\u001b[0m s \u001b[95min\u001b[0m \u001b[96mzip\u001b[0m(*batch)]                                           \u001b[31m│\u001b[0m\n",
       "\u001b[31m│\u001b[0m   \u001b[2m35 \u001b[0m\u001b[2m│   │   \u001b[0m                                                                                    \u001b[31m│\u001b[0m\n",
       "\u001b[31m│\u001b[0m   \u001b[2m36 \u001b[0m\u001b[2m│   │   \u001b[0m\u001b[94mraise\u001b[0m \u001b[96mTypeError\u001b[0m(\u001b[33mf\u001b[0m\u001b[33m'\u001b[0m\u001b[33mDataLoader found invalid type: \u001b[0m\u001b[33m{\u001b[0m\u001b[96mtype\u001b[0m(elem)\u001b[33m}\u001b[0m\u001b[33m'\u001b[0m)                     \u001b[31m│\u001b[0m\n",
       "\u001b[31m│\u001b[0m   \u001b[2m37 \u001b[0m                                                                                            \u001b[31m│\u001b[0m\n",
       "\u001b[31m│\u001b[0m                                                                                                  \u001b[31m│\u001b[0m\n",
       "\u001b[31m│\u001b[0m \u001b[2;33m/home/rahit/jupyter_py3/lib/python3.8/site-packages/torch_geometric/loader/\u001b[0m\u001b[1;33mdataloader.py\u001b[0m:\u001b[94m19\u001b[0m in   \u001b[31m│\u001b[0m\n",
       "\u001b[31m│\u001b[0m \u001b[92m__call__\u001b[0m                                                                                         \u001b[31m│\u001b[0m\n",
       "\u001b[31m│\u001b[0m                                                                                                  \u001b[31m│\u001b[0m\n",
       "\u001b[31m│\u001b[0m   \u001b[2m16 \u001b[0m\u001b[2m│   \u001b[0m\u001b[94mdef\u001b[0m \u001b[92m__call__\u001b[0m(\u001b[96mself\u001b[0m, batch):                                                              \u001b[31m│\u001b[0m\n",
       "\u001b[31m│\u001b[0m   \u001b[2m17 \u001b[0m\u001b[2m│   │   \u001b[0melem = batch[\u001b[94m0\u001b[0m]                                                                     \u001b[31m│\u001b[0m\n",
       "\u001b[31m│\u001b[0m   \u001b[2m18 \u001b[0m\u001b[2m│   │   \u001b[0m\u001b[94mif\u001b[0m \u001b[96misinstance\u001b[0m(elem, BaseData):                                                      \u001b[31m│\u001b[0m\n",
       "\u001b[31m│\u001b[0m \u001b[31m❱ \u001b[0m19 \u001b[2m│   │   │   \u001b[0m\u001b[94mreturn\u001b[0m Batch.from_data_list(batch, \u001b[96mself\u001b[0m.follow_batch,                           \u001b[31m│\u001b[0m\n",
       "\u001b[31m│\u001b[0m   \u001b[2m20 \u001b[0m\u001b[2m│   │   │   │   │   │   │   │   │   │   \u001b[0m\u001b[96mself\u001b[0m.exclude_keys)                                  \u001b[31m│\u001b[0m\n",
       "\u001b[31m│\u001b[0m   \u001b[2m21 \u001b[0m\u001b[2m│   │   \u001b[0m\u001b[94melif\u001b[0m \u001b[96misinstance\u001b[0m(elem, torch.Tensor):                                                \u001b[31m│\u001b[0m\n",
       "\u001b[31m│\u001b[0m   \u001b[2m22 \u001b[0m\u001b[2m│   │   │   \u001b[0m\u001b[94mreturn\u001b[0m default_collate(batch)                                                   \u001b[31m│\u001b[0m\n",
       "\u001b[31m│\u001b[0m                                                                                                  \u001b[31m│\u001b[0m\n",
       "\u001b[31m│\u001b[0m \u001b[2;33m/home/rahit/jupyter_py3/lib/python3.8/site-packages/torch_geometric/data/\u001b[0m\u001b[1;33mbatch.py\u001b[0m:\u001b[94m76\u001b[0m in          \u001b[31m│\u001b[0m\n",
       "\u001b[31m│\u001b[0m \u001b[92mfrom_data_list\u001b[0m                                                                                   \u001b[31m│\u001b[0m\n",
       "\u001b[31m│\u001b[0m                                                                                                  \u001b[31m│\u001b[0m\n",
       "\u001b[31m│\u001b[0m   \u001b[2m 73 \u001b[0m\u001b[2;33m│   │   \u001b[0m\u001b[33m:obj:`follow_batch`.\u001b[0m                                                               \u001b[31m│\u001b[0m\n",
       "\u001b[31m│\u001b[0m   \u001b[2m 74 \u001b[0m\u001b[2;33m│   │   \u001b[0m\u001b[33mWill exclude any keys given in :obj:`exclude_keys`.\"\"\"\u001b[0m                             \u001b[31m│\u001b[0m\n",
       "\u001b[31m│\u001b[0m   \u001b[2m 75 \u001b[0m\u001b[2m│   │   \u001b[0m                                                                                   \u001b[31m│\u001b[0m\n",
       "\u001b[31m│\u001b[0m \u001b[31m❱ \u001b[0m 76 \u001b[2m│   │   \u001b[0mbatch, slice_dict, inc_dict = collate(                                             \u001b[31m│\u001b[0m\n",
       "\u001b[31m│\u001b[0m   \u001b[2m 77 \u001b[0m\u001b[2m│   │   │   \u001b[0m\u001b[96mcls\u001b[0m,                                                                           \u001b[31m│\u001b[0m\n",
       "\u001b[31m│\u001b[0m   \u001b[2m 78 \u001b[0m\u001b[2m│   │   │   \u001b[0mdata_list=data_list,                                                           \u001b[31m│\u001b[0m\n",
       "\u001b[31m│\u001b[0m   \u001b[2m 79 \u001b[0m\u001b[2m│   │   │   \u001b[0mincrement=\u001b[94mTrue\u001b[0m,                                                                \u001b[31m│\u001b[0m\n",
       "\u001b[31m│\u001b[0m                                                                                                  \u001b[31m│\u001b[0m\n",
       "\u001b[31m│\u001b[0m \u001b[2;33m/home/rahit/jupyter_py3/lib/python3.8/site-packages/torch_geometric/data/\u001b[0m\u001b[1;33mcollate.py\u001b[0m:\u001b[94m70\u001b[0m in        \u001b[31m│\u001b[0m\n",
       "\u001b[31m│\u001b[0m \u001b[92mcollate\u001b[0m                                                                                          \u001b[31m│\u001b[0m\n",
       "\u001b[31m│\u001b[0m                                                                                                  \u001b[31m│\u001b[0m\n",
       "\u001b[31m│\u001b[0m   \u001b[2m 67 \u001b[0m\u001b[2m│   │   │   \u001b[0m\u001b[94mif\u001b[0m attr \u001b[95min\u001b[0m exclude_keys:  \u001b[2m# Do not include top-level attribute.\u001b[0m                \u001b[31m│\u001b[0m\n",
       "\u001b[31m│\u001b[0m   \u001b[2m 68 \u001b[0m\u001b[2m│   │   │   │   \u001b[0m\u001b[94mcontinue\u001b[0m                                                                   \u001b[31m│\u001b[0m\n",
       "\u001b[31m│\u001b[0m   \u001b[2m 69 \u001b[0m\u001b[2m│   │   │   \u001b[0m                                                                               \u001b[31m│\u001b[0m\n",
       "\u001b[31m│\u001b[0m \u001b[31m❱ \u001b[0m 70 \u001b[2m│   │   │   \u001b[0mvalues = [store[attr] \u001b[94mfor\u001b[0m store \u001b[95min\u001b[0m stores]                                     \u001b[31m│\u001b[0m\n",
       "\u001b[31m│\u001b[0m   \u001b[2m 71 \u001b[0m\u001b[2m│   │   │   \u001b[0m                                                                               \u001b[31m│\u001b[0m\n",
       "\u001b[31m│\u001b[0m   \u001b[2m 72 \u001b[0m\u001b[2m│   │   │   \u001b[0m\u001b[2m# The `num_nodes` attribute needs special treatment, as we need to\u001b[0m             \u001b[31m│\u001b[0m\n",
       "\u001b[31m│\u001b[0m   \u001b[2m 73 \u001b[0m\u001b[2m│   │   │   \u001b[0m\u001b[2m# sum their values up instead of merging them to a list:\u001b[0m                       \u001b[31m│\u001b[0m\n",
       "\u001b[31m│\u001b[0m                                                                                                  \u001b[31m│\u001b[0m\n",
       "\u001b[31m│\u001b[0m \u001b[2;33m/home/rahit/jupyter_py3/lib/python3.8/site-packages/torch_geometric/data/\u001b[0m\u001b[1;33mcollate.py\u001b[0m:\u001b[94m70\u001b[0m in        \u001b[31m│\u001b[0m\n",
       "\u001b[31m│\u001b[0m \u001b[92m<listcomp>\u001b[0m                                                                                       \u001b[31m│\u001b[0m\n",
       "\u001b[31m│\u001b[0m                                                                                                  \u001b[31m│\u001b[0m\n",
       "\u001b[31m│\u001b[0m   \u001b[2m 67 \u001b[0m\u001b[2m│   │   │   \u001b[0m\u001b[94mif\u001b[0m attr \u001b[95min\u001b[0m exclude_keys:  \u001b[2m# Do not include top-level attribute.\u001b[0m                \u001b[31m│\u001b[0m\n",
       "\u001b[31m│\u001b[0m   \u001b[2m 68 \u001b[0m\u001b[2m│   │   │   │   \u001b[0m\u001b[94mcontinue\u001b[0m                                                                   \u001b[31m│\u001b[0m\n",
       "\u001b[31m│\u001b[0m   \u001b[2m 69 \u001b[0m\u001b[2m│   │   │   \u001b[0m                                                                               \u001b[31m│\u001b[0m\n",
       "\u001b[31m│\u001b[0m \u001b[31m❱ \u001b[0m 70 \u001b[2m│   │   │   \u001b[0mvalues = [store[attr] \u001b[94mfor\u001b[0m store \u001b[95min\u001b[0m stores]                                     \u001b[31m│\u001b[0m\n",
       "\u001b[31m│\u001b[0m   \u001b[2m 71 \u001b[0m\u001b[2m│   │   │   \u001b[0m                                                                               \u001b[31m│\u001b[0m\n",
       "\u001b[31m│\u001b[0m   \u001b[2m 72 \u001b[0m\u001b[2m│   │   │   \u001b[0m\u001b[2m# The `num_nodes` attribute needs special treatment, as we need to\u001b[0m             \u001b[31m│\u001b[0m\n",
       "\u001b[31m│\u001b[0m   \u001b[2m 73 \u001b[0m\u001b[2m│   │   │   \u001b[0m\u001b[2m# sum their values up instead of merging them to a list:\u001b[0m                       \u001b[31m│\u001b[0m\n",
       "\u001b[31m│\u001b[0m                                                                                                  \u001b[31m│\u001b[0m\n",
       "\u001b[31m│\u001b[0m \u001b[2;33m/home/rahit/jupyter_py3/lib/python3.8/site-packages/torch_geometric/data/\u001b[0m\u001b[1;33mstorage.py\u001b[0m:\u001b[94m85\u001b[0m in        \u001b[31m│\u001b[0m\n",
       "\u001b[31m│\u001b[0m \u001b[92m__getitem__\u001b[0m                                                                                      \u001b[31m│\u001b[0m\n",
       "\u001b[31m│\u001b[0m                                                                                                  \u001b[31m│\u001b[0m\n",
       "\u001b[31m│\u001b[0m   \u001b[2m 82 \u001b[0m\u001b[2m│   │   │   \u001b[0m\u001b[94mdel\u001b[0m \u001b[96mself\u001b[0m[key]                                                                  \u001b[31m│\u001b[0m\n",
       "\u001b[31m│\u001b[0m   \u001b[2m 83 \u001b[0m\u001b[2m│   \u001b[0m                                                                                       \u001b[31m│\u001b[0m\n",
       "\u001b[31m│\u001b[0m   \u001b[2m 84 \u001b[0m\u001b[2m│   \u001b[0m\u001b[94mdef\u001b[0m \u001b[92m__getitem__\u001b[0m(\u001b[96mself\u001b[0m, key: \u001b[96mstr\u001b[0m) -> Any:                                                \u001b[31m│\u001b[0m\n",
       "\u001b[31m│\u001b[0m \u001b[31m❱ \u001b[0m 85 \u001b[2m│   │   \u001b[0m\u001b[94mreturn\u001b[0m \u001b[96mself\u001b[0m._mapping[key]                                                          \u001b[31m│\u001b[0m\n",
       "\u001b[31m│\u001b[0m   \u001b[2m 86 \u001b[0m\u001b[2m│   \u001b[0m                                                                                       \u001b[31m│\u001b[0m\n",
       "\u001b[31m│\u001b[0m   \u001b[2m 87 \u001b[0m\u001b[2m│   \u001b[0m\u001b[94mdef\u001b[0m \u001b[92m__setitem__\u001b[0m(\u001b[96mself\u001b[0m, key: \u001b[96mstr\u001b[0m, value: Any):                                           \u001b[31m│\u001b[0m\n",
       "\u001b[31m│\u001b[0m   \u001b[2m 88 \u001b[0m\u001b[2m│   │   \u001b[0m\u001b[94mif\u001b[0m value \u001b[95mis\u001b[0m \u001b[94mNone\u001b[0m \u001b[95mand\u001b[0m key \u001b[95min\u001b[0m \u001b[96mself\u001b[0m._mapping:                                         \u001b[31m│\u001b[0m\n",
       "\u001b[31m╰──────────────────────────────────────────────────────────────────────────────────────────────────╯\u001b[0m\n",
       "\u001b[1;91mKeyError: \u001b[0m\u001b[32m'rel_types'\u001b[0m\n"
      ]
     },
     "metadata": {},
     "output_type": "display_data"
    }
   ],
   "source": [
    "# Example usage\n",
    "num_features = 1  # Example feature dimension\n",
    "hidden_dim = 64   # Hidden dimension\n",
    "out_features = 1\n",
    "\n",
    "# Initialize the model\n",
    "model = SimGNN(num_features, hidden_dim, out_features)\n",
    "\n",
    "# Define optimizer and loss function\n",
    "optimizer = torch.optim.Adam(model.parameters(), lr=0.001)\n",
    "criterion = torch.nn.BCEWithLogitsLoss()\n",
    "\n",
    "# Train the model\n",
    "train(model, train_loader, optimizer, criterion, epochs=10)\n",
    "\n",
    "# Evaluate the model\n",
    "accuracy = evaluate(model, valid_loader)\n",
    "print(f\"Validation Accuracy: {accuracy}\")\n"
   ]
  },
  {
   "cell_type": "code",
   "execution_count": null,
   "id": "7ce4a213",
   "metadata": {},
   "outputs": [],
   "source": [
    "from torch_geometric.data import Dataset, GraphData\n",
    "import networkx as nx\n",
    "\n",
    "class NetworkXDataset(Dataset):\n",
    "    def __init__(self, df, transform=None, pre_transform=None):\n",
    "        super(NetworkXDataset, self).__init__(df, transform, pre_transform)\n",
    "        # Your data loading logic here\n",
    "        # e.g., load NetworkX graphs from files in root directory\n",
    "        self.data_list = []\n",
    "        # for filename in os.listdir(root):\n",
    "        #     if filename.endswith(\".gpickle\"):\n",
    "        #         with open(os.path.join(root, filename), \"rb\") as f:\n",
    "        #             graph = nx.read_gpickle(f)\n",
    "        #         self.data_list.append(graph)\n",
    "\n",
    "        # target_GOs_subgraph, modifier_GOs_subgraph target_POs_subgraph modifier_POs_subgraph target_DOs_subgraph modifier_DOs_subgraph\n",
    "        self.data_list = df['target_GOs_subgraph']\n",
    "\n",
    "    def len(self):\n",
    "        return len(self.data_list)\n",
    "\n",
    "    def get(self, idx):\n",
    "        graph = self.data_list[idx]\n",
    "        data = self.process_graph(graph)\n",
    "        return data\n",
    "\n",
    "    def process_graph(self, graph):\n",
    "        # Convert NetworkX graph to GraphData\n",
    "        edge_index = torch.tensor(list(zip(*graph.edges)), dtype=torch.long).t()\n",
    "        x = torch.tensor([list(d.values()) for d in graph.nodes(data=True)], dtype=torch.float)\n",
    "        y = torch.tensor(graph.graph.get(\"label\"), dtype=torch.long)\n",
    "        data = GraphData(x=x, edge_index=edge_index, y=y)\n",
    "        return data\n",
    "\n"
   ]
  },
  {
   "cell_type": "code",
   "execution_count": null,
   "id": "c32893c8",
   "metadata": {},
   "outputs": [],
   "source": [
    "\n",
    "from graph_dataset import GraphDataset\n",
    "# dataset = GraphDataset(data_path)"
   ]
  },
  {
   "cell_type": "code",
   "execution_count": 173,
   "id": "1bba3f20",
   "metadata": {},
   "outputs": [
    {
     "data": {
      "text/html": [
       "<pre style=\"white-space:pre;overflow-x:auto;line-height:normal;font-family:Menlo,'DejaVu Sans Mono',consolas,'Courier New',monospace\"><span style=\"color: #800000; text-decoration-color: #800000\">╭─────────────────────────────── </span><span style=\"color: #800000; text-decoration-color: #800000; font-weight: bold\">Traceback </span><span style=\"color: #bf7f7f; text-decoration-color: #bf7f7f; font-weight: bold\">(most recent call last)</span><span style=\"color: #800000; text-decoration-color: #800000\"> ────────────────────────────────╮</span>\n",
       "<span style=\"color: #800000; text-decoration-color: #800000\">│</span> in <span style=\"color: #00ff00; text-decoration-color: #00ff00\">&lt;module&gt;</span>:<span style=\"color: #0000ff; text-decoration-color: #0000ff\">2</span>                                                                                    <span style=\"color: #800000; text-decoration-color: #800000\">│</span>\n",
       "<span style=\"color: #800000; text-decoration-color: #800000\">│</span>                                                                                                  <span style=\"color: #800000; text-decoration-color: #800000\">│</span>\n",
       "<span style=\"color: #800000; text-decoration-color: #800000\">│</span>   <span style=\"color: #7f7f7f; text-decoration-color: #7f7f7f\"> 1 </span><span style=\"color: #0000ff; text-decoration-color: #0000ff\">import</span> <span style=\"color: #00ffff; text-decoration-color: #00ffff; text-decoration: underline\">torch</span>                                                                                <span style=\"color: #800000; text-decoration-color: #800000\">│</span>\n",
       "<span style=\"color: #800000; text-decoration-color: #800000\">│</span> <span style=\"color: #800000; text-decoration-color: #800000\">❱ </span> 2 <span style=\"color: #0000ff; text-decoration-color: #0000ff\">from</span> <span style=\"color: #00ffff; text-decoration-color: #00ffff; text-decoration: underline\">torch.utils.loader</span> <span style=\"color: #0000ff; text-decoration-color: #0000ff\">import</span> DataLoader                                                   <span style=\"color: #800000; text-decoration-color: #800000\">│</span>\n",
       "<span style=\"color: #800000; text-decoration-color: #800000\">│</span>   <span style=\"color: #7f7f7f; text-decoration-color: #7f7f7f\"> 3 </span><span style=\"color: #0000ff; text-decoration-color: #0000ff\">from</span> <span style=\"color: #00ffff; text-decoration-color: #00ffff; text-decoration: underline\">torch.nn</span> <span style=\"color: #0000ff; text-decoration-color: #0000ff\">import</span> BCEWithLogitsLoss                                                      <span style=\"color: #800000; text-decoration-color: #800000\">│</span>\n",
       "<span style=\"color: #800000; text-decoration-color: #800000\">│</span>   <span style=\"color: #7f7f7f; text-decoration-color: #7f7f7f\"> 4 </span><span style=\"color: #0000ff; text-decoration-color: #0000ff\">from</span> <span style=\"color: #00ffff; text-decoration-color: #00ffff; text-decoration: underline\">torch.optim</span> <span style=\"color: #0000ff; text-decoration-color: #0000ff\">import</span> Adam                                                                <span style=\"color: #800000; text-decoration-color: #800000\">│</span>\n",
       "<span style=\"color: #800000; text-decoration-color: #800000\">│</span>   <span style=\"color: #7f7f7f; text-decoration-color: #7f7f7f\"> 5 </span>                                                                                            <span style=\"color: #800000; text-decoration-color: #800000\">│</span>\n",
       "<span style=\"color: #800000; text-decoration-color: #800000\">╰──────────────────────────────────────────────────────────────────────────────────────────────────╯</span>\n",
       "<span style=\"color: #ff0000; text-decoration-color: #ff0000; font-weight: bold\">ModuleNotFoundError: </span>No module named <span style=\"color: #008000; text-decoration-color: #008000\">'torch.utils.loader'</span>\n",
       "</pre>\n"
      ],
      "text/plain": [
       "\u001b[31m╭─\u001b[0m\u001b[31m──────────────────────────────\u001b[0m\u001b[31m \u001b[0m\u001b[1;31mTraceback \u001b[0m\u001b[1;2;31m(most recent call last)\u001b[0m\u001b[31m \u001b[0m\u001b[31m───────────────────────────────\u001b[0m\u001b[31m─╮\u001b[0m\n",
       "\u001b[31m│\u001b[0m in \u001b[92m<module>\u001b[0m:\u001b[94m2\u001b[0m                                                                                    \u001b[31m│\u001b[0m\n",
       "\u001b[31m│\u001b[0m                                                                                                  \u001b[31m│\u001b[0m\n",
       "\u001b[31m│\u001b[0m   \u001b[2m 1 \u001b[0m\u001b[94mimport\u001b[0m \u001b[4;96mtorch\u001b[0m                                                                                \u001b[31m│\u001b[0m\n",
       "\u001b[31m│\u001b[0m \u001b[31m❱ \u001b[0m 2 \u001b[94mfrom\u001b[0m \u001b[4;96mtorch\u001b[0m\u001b[4;96m.\u001b[0m\u001b[4;96mutils\u001b[0m\u001b[4;96m.\u001b[0m\u001b[4;96mloader\u001b[0m \u001b[94mimport\u001b[0m DataLoader                                                   \u001b[31m│\u001b[0m\n",
       "\u001b[31m│\u001b[0m   \u001b[2m 3 \u001b[0m\u001b[94mfrom\u001b[0m \u001b[4;96mtorch\u001b[0m\u001b[4;96m.\u001b[0m\u001b[4;96mnn\u001b[0m \u001b[94mimport\u001b[0m BCEWithLogitsLoss                                                      \u001b[31m│\u001b[0m\n",
       "\u001b[31m│\u001b[0m   \u001b[2m 4 \u001b[0m\u001b[94mfrom\u001b[0m \u001b[4;96mtorch\u001b[0m\u001b[4;96m.\u001b[0m\u001b[4;96moptim\u001b[0m \u001b[94mimport\u001b[0m Adam                                                                \u001b[31m│\u001b[0m\n",
       "\u001b[31m│\u001b[0m   \u001b[2m 5 \u001b[0m                                                                                            \u001b[31m│\u001b[0m\n",
       "\u001b[31m╰──────────────────────────────────────────────────────────────────────────────────────────────────╯\u001b[0m\n",
       "\u001b[1;91mModuleNotFoundError: \u001b[0mNo module named \u001b[32m'torch.utils.loader'\u001b[0m\n"
      ]
     },
     "metadata": {},
     "output_type": "display_data"
    }
   ],
   "source": [
    "import torch\n",
    "from torch.utils.data import DataLoader\n",
    "from torch.nn import BCEWithLogitsLoss\n",
    "from torch.optim import Adam\n",
    "\n",
    "from simgnn import SimGNN\n",
    "from graph_dataset import GraphDataset\n",
    "\n",
    "# Define data paths and hyperparameters\n",
    "data_path = \"path/to/your/data\"\n",
    "batch_size = 32\n",
    "learning_rate = 0.001\n",
    "epochs = 100\n",
    "\n",
    "# Load the dataset\n",
    "# dataset = GraphDataset(data_path)\n",
    "data_list = \n",
    "train_loader = DataLoader(dataset, batch_size=batch_size, shuffle=True)\n",
    "\n",
    "# Initialize model and optimizer\n",
    "model = SimGNN(in_features=dataset.node_features,\n",
    "               hidden_features=32,\n",
    "               out_features=1)\n",
    "optimizer = Adam(model.parameters(), lr=learning_rate)\n",
    "\n",
    "# Define loss function\n",
    "loss_fn = BCEWithLogitsLoss()\n",
    "\n",
    "# Train the model\n",
    "for epoch in range(epochs):\n",
    "    for i, data in enumerate(train_loader):\n",
    "        # Extract graph data\n",
    "        x1, x2, edge_index1, edge_index2, label = data\n",
    "        \n",
    "        # Predict similarity score\n",
    "        pred = model((x1, edge_index1), (x2, edge_index2))\n",
    "\n",
    "        # Calculate loss\n",
    "        loss = loss_fn(pred, label.float())\n",
    "\n",
    "        # Optimize model\n",
    "        optimizer.zero_grad()\n",
    "        loss.backward()\n",
    "        optimizer.step()\n",
    "\n",
    "        # Print training progress\n",
    "        if i % 10 == 0:\n",
    "            print(f\"Epoch: {epoch + 1}/{epochs}, Step: {i}/{len(train_loader)}, Loss: {loss.item():.4f}\")\n",
    "\n",
    "# Evaluate the model\n",
    "# TODO: Implement evaluation logic\n",
    "\n",
    "# Save the trained model\n",
    "torch.save(model.state_dict(), \"model.pt\")\n"
   ]
  },
  {
   "cell_type": "code",
   "execution_count": null,
   "id": "f4e6a1fd-1ccb-400e-8bb5-25389ea63af2",
   "metadata": {},
   "outputs": [],
   "source": []
  },
  {
   "cell_type": "code",
   "execution_count": null,
   "id": "fdfab146-07d7-4b34-bc9d-b98a33939918",
   "metadata": {},
   "outputs": [],
   "source": []
  },
  {
   "cell_type": "markdown",
   "id": "d4f2f63a-22aa-4e7e-b93d-1c953d2bd57e",
   "metadata": {},
   "source": [
    "## Similarity (with target gene) as node feature and interaction as edge"
   ]
  },
  {
   "cell_type": "code",
   "execution_count": 77,
   "id": "a651819c-1220-43d4-984d-e30a8e9e16a8",
   "metadata": {},
   "outputs": [
    {
     "data": {
      "text/html": [
       "<pre style=\"white-space:pre;overflow-x:auto;line-height:normal;font-family:Menlo,'DejaVu Sans Mono',consolas,'Courier New',monospace\"><span style=\"color: #008080; text-decoration-color: #008080; font-weight: bold\">268278</span>\n",
       "</pre>\n"
      ],
      "text/plain": [
       "\u001b[1;36m268278\u001b[0m\n"
      ]
     },
     "metadata": {},
     "output_type": "display_data"
    }
   ],
   "source": [
    "src = df['wormbase_gene_id'].values\n",
    "tgt = df['target_gene_id'].values\n",
    "len(src)\n",
    "# node_sets = [np.union1d(G[0].values, G[1].values) for G in self.graphs]\n",
    "# union = reduce(np.union1d, node_sets)\n",
    "# return node_sets, union"
   ]
  },
  {
   "cell_type": "markdown",
   "id": "6e48cf3c-067b-4d2a-acd9-8ae50ff73fa4",
   "metadata": {},
   "source": [
    "Creating hashmap for the gene/nodes"
   ]
  },
  {
   "cell_type": "code",
   "execution_count": 78,
   "id": "3b674f1c-bab1-4c46-8473-09f40b26c835",
   "metadata": {},
   "outputs": [
    {
     "data": {
      "text/html": [
       "<pre style=\"white-space:pre;overflow-x:auto;line-height:normal;font-family:Menlo,'DejaVu Sans Mono',consolas,'Courier New',monospace\"><span style=\"color: #008080; text-decoration-color: #008080; font-weight: bold\">733</span>\n",
       "</pre>\n"
      ],
      "text/plain": [
       "\u001b[1;36m733\u001b[0m\n"
      ]
     },
     "metadata": {},
     "output_type": "display_data"
    }
   ],
   "source": [
    "v = np.union1d(src, tgt)\n",
    "v_hashmap = dict(enumerate(v))\n",
    "v_invmap = {v: k for k, v in v_hashmap.items()}\n",
    "len(v_hashmap.keys())"
   ]
  },
  {
   "cell_type": "code",
   "execution_count": 79,
   "id": "f17613e7-bca2-414b-a6f4-ed6b7f60ecc4",
   "metadata": {},
   "outputs": [
    {
     "data": {
      "text/html": [
       "<div>\n",
       "<style scoped>\n",
       "    .dataframe tbody tr th:only-of-type {\n",
       "        vertical-align: middle;\n",
       "    }\n",
       "\n",
       "    .dataframe tbody tr th {\n",
       "        vertical-align: top;\n",
       "    }\n",
       "\n",
       "    .dataframe thead th {\n",
       "        text-align: right;\n",
       "    }\n",
       "</style>\n",
       "<table border=\"1\" class=\"dataframe\">\n",
       "  <thead>\n",
       "    <tr style=\"text-align: right;\">\n",
       "      <th></th>\n",
       "      <th>wormbase_gene_id</th>\n",
       "      <th>target_gene_id</th>\n",
       "      <th>go_n_common_ancestors_max</th>\n",
       "      <th>go_n_common_ancestors_avg</th>\n",
       "      <th>go_n_common_ancestors_bma</th>\n",
       "      <th>go_n_union_ancestors_max</th>\n",
       "      <th>go_n_union_ancestors_avg</th>\n",
       "      <th>go_n_union_ancestors_bma</th>\n",
       "      <th>go_batet_max</th>\n",
       "      <th>go_batet_avg</th>\n",
       "      <th>...</th>\n",
       "      <th>wpo_lin_avg</th>\n",
       "      <th>wpo_lin_bma</th>\n",
       "      <th>wpo_jiang_max</th>\n",
       "      <th>wpo_jiang_avg</th>\n",
       "      <th>wpo_jiang_bma</th>\n",
       "      <th>wpo_jiang_seco_max</th>\n",
       "      <th>wpo_jiang_seco_avg</th>\n",
       "      <th>wpo_jiang_seco_bma</th>\n",
       "      <th>vx</th>\n",
       "      <th>vy</th>\n",
       "    </tr>\n",
       "  </thead>\n",
       "  <tbody>\n",
       "    <tr>\n",
       "      <th>0</th>\n",
       "      <td>WBGene00013931</td>\n",
       "      <td>WBGene00013177</td>\n",
       "      <td>2.0</td>\n",
       "      <td>2.00</td>\n",
       "      <td>2.0</td>\n",
       "      <td>19.0</td>\n",
       "      <td>11.000000</td>\n",
       "      <td>12.600000</td>\n",
       "      <td>0.500000</td>\n",
       "      <td>0.500000</td>\n",
       "      <td>...</td>\n",
       "      <td>0.120405</td>\n",
       "      <td>0.120405</td>\n",
       "      <td>0.073647</td>\n",
       "      <td>0.073647</td>\n",
       "      <td>0.073647</td>\n",
       "      <td>0.145140</td>\n",
       "      <td>0.145140</td>\n",
       "      <td>0.145140</td>\n",
       "      <td>451</td>\n",
       "      <td>420</td>\n",
       "    </tr>\n",
       "    <tr>\n",
       "      <th>1</th>\n",
       "      <td>WBGene00013931</td>\n",
       "      <td>WBGene00021689</td>\n",
       "      <td>2.0</td>\n",
       "      <td>2.00</td>\n",
       "      <td>2.0</td>\n",
       "      <td>89.0</td>\n",
       "      <td>46.200000</td>\n",
       "      <td>53.333333</td>\n",
       "      <td>0.133333</td>\n",
       "      <td>0.077903</td>\n",
       "      <td>...</td>\n",
       "      <td>0.136612</td>\n",
       "      <td>0.140814</td>\n",
       "      <td>0.092446</td>\n",
       "      <td>0.084209</td>\n",
       "      <td>0.086955</td>\n",
       "      <td>0.332797</td>\n",
       "      <td>0.253088</td>\n",
       "      <td>0.279658</td>\n",
       "      <td>451</td>\n",
       "      <td>668</td>\n",
       "    </tr>\n",
       "    <tr>\n",
       "      <th>2</th>\n",
       "      <td>WBGene00013931</td>\n",
       "      <td>WBGene00004225</td>\n",
       "      <td>0.0</td>\n",
       "      <td>0.00</td>\n",
       "      <td>0.0</td>\n",
       "      <td>18.0</td>\n",
       "      <td>10.666667</td>\n",
       "      <td>11.714286</td>\n",
       "      <td>0.000000</td>\n",
       "      <td>0.000000</td>\n",
       "      <td>...</td>\n",
       "      <td>0.349787</td>\n",
       "      <td>0.418544</td>\n",
       "      <td>0.137472</td>\n",
       "      <td>0.081294</td>\n",
       "      <td>0.089319</td>\n",
       "      <td>0.573584</td>\n",
       "      <td>0.165064</td>\n",
       "      <td>0.223424</td>\n",
       "      <td>451</td>\n",
       "      <td>137</td>\n",
       "    </tr>\n",
       "    <tr>\n",
       "      <th>3</th>\n",
       "      <td>WBGene00013931</td>\n",
       "      <td>WBGene00006771</td>\n",
       "      <td>2.0</td>\n",
       "      <td>1.75</td>\n",
       "      <td>1.8</td>\n",
       "      <td>32.0</td>\n",
       "      <td>12.631579</td>\n",
       "      <td>13.600000</td>\n",
       "      <td>0.333333</td>\n",
       "      <td>0.221491</td>\n",
       "      <td>...</td>\n",
       "      <td>0.221559</td>\n",
       "      <td>0.231321</td>\n",
       "      <td>0.140949</td>\n",
       "      <td>0.082794</td>\n",
       "      <td>0.083981</td>\n",
       "      <td>0.585782</td>\n",
       "      <td>0.207192</td>\n",
       "      <td>0.214919</td>\n",
       "      <td>451</td>\n",
       "      <td>208</td>\n",
       "    </tr>\n",
       "    <tr>\n",
       "      <th>4</th>\n",
       "      <td>WBGene00013931</td>\n",
       "      <td>WBGene00021771</td>\n",
       "      <td>2.0</td>\n",
       "      <td>2.00</td>\n",
       "      <td>2.0</td>\n",
       "      <td>45.0</td>\n",
       "      <td>26.666667</td>\n",
       "      <td>31.250000</td>\n",
       "      <td>0.333333</td>\n",
       "      <td>0.333333</td>\n",
       "      <td>...</td>\n",
       "      <td>0.120484</td>\n",
       "      <td>0.120568</td>\n",
       "      <td>0.073968</td>\n",
       "      <td>0.073698</td>\n",
       "      <td>0.073752</td>\n",
       "      <td>0.149139</td>\n",
       "      <td>0.145779</td>\n",
       "      <td>0.146451</td>\n",
       "      <td>451</td>\n",
       "      <td>669</td>\n",
       "    </tr>\n",
       "  </tbody>\n",
       "</table>\n",
       "<p>5 rows × 58 columns</p>\n",
       "</div>"
      ]
     },
     "execution_count": 79,
     "metadata": {},
     "output_type": "execute_result"
    }
   ],
   "source": [
    "df['vx'] = df.apply(lambda r: v_invmap[r['wormbase_gene_id']], axis=1)\n",
    "df['vy'] = df.apply(lambda r: v_invmap[r['target_gene_id']], axis=1)\n",
    "df.head()"
   ]
  },
  {
   "cell_type": "markdown",
   "id": "78a35df4-85aa-4f73-a5bf-1c35a4b0ab48",
   "metadata": {},
   "source": [
    "Create Tensors for PyG object"
   ]
  },
  {
   "cell_type": "code",
   "execution_count": 80,
   "id": "a3dc64be-1f26-43a5-9acf-c34006b1e283",
   "metadata": {},
   "outputs": [
    {
     "data": {
      "text/html": [
       "<pre style=\"white-space:pre;overflow-x:auto;line-height:normal;font-family:Menlo,'DejaVu Sans Mono',consolas,'Courier New',monospace\"><span style=\"font-weight: bold\">[</span><span style=\"color: #008080; text-decoration-color: #008080; font-weight: bold\">451</span> <span style=\"color: #008080; text-decoration-color: #008080; font-weight: bold\">451</span> <span style=\"color: #008080; text-decoration-color: #008080; font-weight: bold\">451</span> <span style=\"color: #808000; text-decoration-color: #808000\">...</span> <span style=\"color: #008080; text-decoration-color: #008080; font-weight: bold\">252</span> <span style=\"color: #008080; text-decoration-color: #008080; font-weight: bold\">252</span> <span style=\"color: #008080; text-decoration-color: #008080; font-weight: bold\">522</span><span style=\"font-weight: bold\">]</span> <span style=\"font-weight: bold\">[</span><span style=\"color: #008080; text-decoration-color: #008080; font-weight: bold\">420</span> <span style=\"color: #008080; text-decoration-color: #008080; font-weight: bold\">668</span> <span style=\"color: #008080; text-decoration-color: #008080; font-weight: bold\">137</span> <span style=\"color: #808000; text-decoration-color: #808000\">...</span> <span style=\"color: #008080; text-decoration-color: #008080; font-weight: bold\">522</span> <span style=\"color: #008080; text-decoration-color: #008080; font-weight: bold\">227</span> <span style=\"color: #008080; text-decoration-color: #008080; font-weight: bold\">227</span><span style=\"font-weight: bold\">]</span> <span style=\"font-weight: bold\">[</span><span style=\"color: #008080; text-decoration-color: #008080; font-weight: bold\">0.5</span>        <span style=\"color: #008080; text-decoration-color: #008080; font-weight: bold\">0.09637953</span> <span style=\"color: #008080; text-decoration-color: #008080; font-weight: bold\">0</span>.        \n",
       "<span style=\"color: #808000; text-decoration-color: #808000\">...</span> <span style=\"color: #008080; text-decoration-color: #008080; font-weight: bold\">0.45518207</span> <span style=\"color: #008080; text-decoration-color: #008080; font-weight: bold\">0.39176449</span> <span style=\"color: #008080; text-decoration-color: #008080; font-weight: bold\">0.2168107</span> <span style=\"font-weight: bold\">]</span>\n",
       "</pre>\n"
      ],
      "text/plain": [
       "\u001b[1m[\u001b[0m\u001b[1;36m451\u001b[0m \u001b[1;36m451\u001b[0m \u001b[1;36m451\u001b[0m \u001b[33m...\u001b[0m \u001b[1;36m252\u001b[0m \u001b[1;36m252\u001b[0m \u001b[1;36m522\u001b[0m\u001b[1m]\u001b[0m \u001b[1m[\u001b[0m\u001b[1;36m420\u001b[0m \u001b[1;36m668\u001b[0m \u001b[1;36m137\u001b[0m \u001b[33m...\u001b[0m \u001b[1;36m522\u001b[0m \u001b[1;36m227\u001b[0m \u001b[1;36m227\u001b[0m\u001b[1m]\u001b[0m \u001b[1m[\u001b[0m\u001b[1;36m0.5\u001b[0m        \u001b[1;36m0.09637953\u001b[0m \u001b[1;36m0\u001b[0m.        \n",
       "\u001b[33m...\u001b[0m \u001b[1;36m0.45518207\u001b[0m \u001b[1;36m0.39176449\u001b[0m \u001b[1;36m0.2168107\u001b[0m \u001b[1m]\u001b[0m\n"
      ]
     },
     "metadata": {},
     "output_type": "display_data"
    }
   ],
   "source": [
    "vx = df['vx'].to_numpy()\n",
    "vy = df['vy'].to_numpy()\n",
    "e = df['go_batet_bma'].to_numpy()\n",
    "print(vx, vy, e)"
   ]
  },
  {
   "cell_type": "code",
   "execution_count": 81,
   "id": "bb96a2bb-b6b5-40d5-ba3c-1e139ef8f27d",
   "metadata": {},
   "outputs": [],
   "source": [
    "nodes = np.union1d(vx,vy)\n",
    "n = len(nodes)"
   ]
  },
  {
   "cell_type": "code",
   "execution_count": 82,
   "id": "45e2c424-d4ce-4adb-be21-2347efff3b00",
   "metadata": {},
   "outputs": [
    {
     "data": {
      "text/html": [
       "<pre style=\"white-space:pre;overflow-x:auto;line-height:normal;font-family:Menlo,'DejaVu Sans Mono',consolas,'Courier New',monospace\"><span style=\"color: #800080; text-decoration-color: #800080; font-weight: bold\">tensor</span><span style=\"font-weight: bold\">([[</span><span style=\"color: #008080; text-decoration-color: #008080; font-weight: bold\">451</span>, <span style=\"color: #008080; text-decoration-color: #008080; font-weight: bold\">451</span>, <span style=\"color: #008080; text-decoration-color: #008080; font-weight: bold\">451</span>,  <span style=\"color: #808000; text-decoration-color: #808000\">...</span>, <span style=\"color: #008080; text-decoration-color: #008080; font-weight: bold\">252</span>, <span style=\"color: #008080; text-decoration-color: #008080; font-weight: bold\">252</span>, <span style=\"color: #008080; text-decoration-color: #008080; font-weight: bold\">522</span><span style=\"font-weight: bold\">]</span>,\n",
       "        <span style=\"font-weight: bold\">[</span><span style=\"color: #008080; text-decoration-color: #008080; font-weight: bold\">420</span>, <span style=\"color: #008080; text-decoration-color: #008080; font-weight: bold\">668</span>, <span style=\"color: #008080; text-decoration-color: #008080; font-weight: bold\">137</span>,  <span style=\"color: #808000; text-decoration-color: #808000\">...</span>, <span style=\"color: #008080; text-decoration-color: #008080; font-weight: bold\">522</span>, <span style=\"color: #008080; text-decoration-color: #008080; font-weight: bold\">227</span>, <span style=\"color: #008080; text-decoration-color: #008080; font-weight: bold\">227</span><span style=\"font-weight: bold\">]])</span> <span style=\"color: #800080; text-decoration-color: #800080; font-weight: bold\">tensor</span><span style=\"font-weight: bold\">([</span><span style=\"color: #008080; text-decoration-color: #008080; font-weight: bold\">0.5000</span>, <span style=\"color: #008080; text-decoration-color: #008080; font-weight: bold\">0.0964</span>, <span style=\"color: #008080; text-decoration-color: #008080; font-weight: bold\">0.0000</span>,  <span style=\"color: #808000; text-decoration-color: #808000\">...</span>, <span style=\"color: #008080; text-decoration-color: #008080; font-weight: bold\">0.4552</span>, \n",
       "<span style=\"color: #008080; text-decoration-color: #008080; font-weight: bold\">0.3918</span>, <span style=\"color: #008080; text-decoration-color: #008080; font-weight: bold\">0.2168</span><span style=\"font-weight: bold\">])</span>\n",
       "</pre>\n"
      ],
      "text/plain": [
       "\u001b[1;35mtensor\u001b[0m\u001b[1m(\u001b[0m\u001b[1m[\u001b[0m\u001b[1m[\u001b[0m\u001b[1;36m451\u001b[0m, \u001b[1;36m451\u001b[0m, \u001b[1;36m451\u001b[0m,  \u001b[33m...\u001b[0m, \u001b[1;36m252\u001b[0m, \u001b[1;36m252\u001b[0m, \u001b[1;36m522\u001b[0m\u001b[1m]\u001b[0m,\n",
       "        \u001b[1m[\u001b[0m\u001b[1;36m420\u001b[0m, \u001b[1;36m668\u001b[0m, \u001b[1;36m137\u001b[0m,  \u001b[33m...\u001b[0m, \u001b[1;36m522\u001b[0m, \u001b[1;36m227\u001b[0m, \u001b[1;36m227\u001b[0m\u001b[1m]\u001b[0m\u001b[1m]\u001b[0m\u001b[1m)\u001b[0m \u001b[1;35mtensor\u001b[0m\u001b[1m(\u001b[0m\u001b[1m[\u001b[0m\u001b[1;36m0.5000\u001b[0m, \u001b[1;36m0.0964\u001b[0m, \u001b[1;36m0.0000\u001b[0m,  \u001b[33m...\u001b[0m, \u001b[1;36m0.4552\u001b[0m, \n",
       "\u001b[1;36m0.3918\u001b[0m, \u001b[1;36m0.2168\u001b[0m\u001b[1m]\u001b[0m\u001b[1m)\u001b[0m\n"
      ]
     },
     "metadata": {},
     "output_type": "display_data"
    }
   ],
   "source": [
    "edge_index = torch.tensor(np.array([vx, vy]), dtype=torch.long)\n",
    "edge_attr = torch.tensor(e, dtype=torch.float)\n",
    "print(edge_index, edge_attr)"
   ]
  },
  {
   "cell_type": "code",
   "execution_count": 83,
   "id": "aa78946f-d0c0-4800-870f-179605ea36bb",
   "metadata": {},
   "outputs": [
    {
     "data": {
      "text/html": [
       "<pre style=\"white-space:pre;overflow-x:auto;line-height:normal;font-family:Menlo,'DejaVu Sans Mono',consolas,'Courier New',monospace\"><span style=\"color: #800080; text-decoration-color: #800080; font-weight: bold\">Data</span><span style=\"font-weight: bold\">(</span><span style=\"color: #808000; text-decoration-color: #808000\">x</span>=<span style=\"font-weight: bold\">[</span><span style=\"color: #008080; text-decoration-color: #008080; font-weight: bold\">733</span>, <span style=\"color: #008080; text-decoration-color: #008080; font-weight: bold\">3</span><span style=\"font-weight: bold\">]</span>, <span style=\"color: #808000; text-decoration-color: #808000\">edge_index</span>=<span style=\"font-weight: bold\">[</span><span style=\"color: #008080; text-decoration-color: #008080; font-weight: bold\">2</span>, <span style=\"color: #008080; text-decoration-color: #008080; font-weight: bold\">268278</span><span style=\"font-weight: bold\">]</span>, <span style=\"color: #808000; text-decoration-color: #808000\">edge_attr</span>=<span style=\"font-weight: bold\">[</span><span style=\"color: #008080; text-decoration-color: #008080; font-weight: bold\">268278</span><span style=\"font-weight: bold\">])</span>\n",
       "</pre>\n"
      ],
      "text/plain": [
       "\u001b[1;35mData\u001b[0m\u001b[1m(\u001b[0m\u001b[33mx\u001b[0m=\u001b[1m[\u001b[0m\u001b[1;36m733\u001b[0m, \u001b[1;36m3\u001b[0m\u001b[1m]\u001b[0m, \u001b[33medge_index\u001b[0m=\u001b[1m[\u001b[0m\u001b[1;36m2\u001b[0m, \u001b[1;36m268278\u001b[0m\u001b[1m]\u001b[0m, \u001b[33medge_attr\u001b[0m=\u001b[1m[\u001b[0m\u001b[1;36m268278\u001b[0m\u001b[1m]\u001b[0m\u001b[1m)\u001b[0m\n"
      ]
     },
     "metadata": {},
     "output_type": "display_data"
    }
   ],
   "source": [
    "data = Data(x=torch.zeros((n,3)), edge_index=edge_index, edge_attr=edge_attr)\n",
    "print(data)"
   ]
  },
  {
   "cell_type": "code",
   "execution_count": 84,
   "id": "7a69bdc0-5449-4961-8971-cbd1e128256c",
   "metadata": {},
   "outputs": [
    {
     "data": {
      "text/html": [
       "<pre style=\"white-space:pre;overflow-x:auto;line-height:normal;font-family:Menlo,'DejaVu Sans Mono',consolas,'Courier New',monospace\">\n",
       "<span style=\"color: #800080; text-decoration-color: #800080; font-weight: bold\">tensor</span><span style=\"font-weight: bold\">([[</span><span style=\"color: #008080; text-decoration-color: #008080; font-weight: bold\">451</span>, <span style=\"color: #008080; text-decoration-color: #008080; font-weight: bold\">451</span>, <span style=\"color: #008080; text-decoration-color: #008080; font-weight: bold\">451</span>,  <span style=\"color: #808000; text-decoration-color: #808000\">...</span>, <span style=\"color: #008080; text-decoration-color: #008080; font-weight: bold\">252</span>, <span style=\"color: #008080; text-decoration-color: #008080; font-weight: bold\">252</span>, <span style=\"color: #008080; text-decoration-color: #008080; font-weight: bold\">522</span><span style=\"font-weight: bold\">]</span>,\n",
       "        <span style=\"font-weight: bold\">[</span><span style=\"color: #008080; text-decoration-color: #008080; font-weight: bold\">420</span>, <span style=\"color: #008080; text-decoration-color: #008080; font-weight: bold\">668</span>, <span style=\"color: #008080; text-decoration-color: #008080; font-weight: bold\">137</span>,  <span style=\"color: #808000; text-decoration-color: #808000\">...</span>, <span style=\"color: #008080; text-decoration-color: #008080; font-weight: bold\">522</span>, <span style=\"color: #008080; text-decoration-color: #008080; font-weight: bold\">227</span>, <span style=\"color: #008080; text-decoration-color: #008080; font-weight: bold\">227</span><span style=\"font-weight: bold\">]])</span>\n",
       "</pre>\n"
      ],
      "text/plain": [
       "\n",
       "\u001b[1;35mtensor\u001b[0m\u001b[1m(\u001b[0m\u001b[1m[\u001b[0m\u001b[1m[\u001b[0m\u001b[1;36m451\u001b[0m, \u001b[1;36m451\u001b[0m, \u001b[1;36m451\u001b[0m,  \u001b[33m...\u001b[0m, \u001b[1;36m252\u001b[0m, \u001b[1;36m252\u001b[0m, \u001b[1;36m522\u001b[0m\u001b[1m]\u001b[0m,\n",
       "        \u001b[1m[\u001b[0m\u001b[1;36m420\u001b[0m, \u001b[1;36m668\u001b[0m, \u001b[1;36m137\u001b[0m,  \u001b[33m...\u001b[0m, \u001b[1;36m522\u001b[0m, \u001b[1;36m227\u001b[0m, \u001b[1;36m227\u001b[0m\u001b[1m]\u001b[0m\u001b[1m]\u001b[0m\u001b[1m)\u001b[0m\n"
      ]
     },
     "metadata": {},
     "output_type": "display_data"
    }
   ],
   "source": [
    "data['edge_index']"
   ]
  },
  {
   "cell_type": "code",
   "execution_count": 85,
   "id": "56638ae7-a494-4d7e-abb4-d0701d1a6d4c",
   "metadata": {},
   "outputs": [
    {
     "data": {
      "text/html": [
       "<pre style=\"white-space:pre;overflow-x:auto;line-height:normal;font-family:Menlo,'DejaVu Sans Mono',consolas,'Courier New',monospace\"># Nodes:  <span style=\"color: #008080; text-decoration-color: #008080; font-weight: bold\">733</span>\n",
       "</pre>\n"
      ],
      "text/plain": [
       "# Nodes:  \u001b[1;36m733\u001b[0m\n"
      ]
     },
     "metadata": {},
     "output_type": "display_data"
    },
    {
     "data": {
      "text/html": [
       "<pre style=\"white-space:pre;overflow-x:auto;line-height:normal;font-family:Menlo,'DejaVu Sans Mono',consolas,'Courier New',monospace\"># Edges:  <span style=\"color: #008080; text-decoration-color: #008080; font-weight: bold\">268278</span>\n",
       "</pre>\n"
      ],
      "text/plain": [
       "# Edges:  \u001b[1;36m268278\u001b[0m\n"
      ]
     },
     "metadata": {},
     "output_type": "display_data"
    },
    {
     "data": {
      "text/html": [
       "<pre style=\"white-space:pre;overflow-x:auto;line-height:normal;font-family:Menlo,'DejaVu Sans Mono',consolas,'Courier New',monospace\"># Node Features:  <span style=\"color: #008080; text-decoration-color: #008080; font-weight: bold\">3</span>\n",
       "</pre>\n"
      ],
      "text/plain": [
       "# Node Features:  \u001b[1;36m3\u001b[0m\n"
      ]
     },
     "metadata": {},
     "output_type": "display_data"
    },
    {
     "data": {
      "text/html": [
       "<pre style=\"white-space:pre;overflow-x:auto;line-height:normal;font-family:Menlo,'DejaVu Sans Mono',consolas,'Courier New',monospace\">Has isolated nodes?  <span style=\"color: #ff0000; text-decoration-color: #ff0000; font-style: italic\">False</span>\n",
       "</pre>\n"
      ],
      "text/plain": [
       "Has isolated nodes?  \u001b[3;91mFalse\u001b[0m\n"
      ]
     },
     "metadata": {},
     "output_type": "display_data"
    },
    {
     "data": {
      "text/html": [
       "<pre style=\"white-space:pre;overflow-x:auto;line-height:normal;font-family:Menlo,'DejaVu Sans Mono',consolas,'Courier New',monospace\">Has self loops?  <span style=\"color: #ff0000; text-decoration-color: #ff0000; font-style: italic\">False</span>\n",
       "</pre>\n"
      ],
      "text/plain": [
       "Has self loops?  \u001b[3;91mFalse\u001b[0m\n"
      ]
     },
     "metadata": {},
     "output_type": "display_data"
    },
    {
     "data": {
      "text/html": [
       "<pre style=\"white-space:pre;overflow-x:auto;line-height:normal;font-family:Menlo,'DejaVu Sans Mono',consolas,'Courier New',monospace\">Directed?  <span style=\"color: #00ff00; text-decoration-color: #00ff00; font-style: italic\">True</span>\n",
       "</pre>\n"
      ],
      "text/plain": [
       "Directed?  \u001b[3;92mTrue\u001b[0m\n"
      ]
     },
     "metadata": {},
     "output_type": "display_data"
    }
   ],
   "source": [
    "print(\"# Nodes: \", data.num_nodes)\n",
    "print(\"# Edges: \", data.num_edges)\n",
    "print(\"# Node Features: \", data.num_node_features)\n",
    "print(\"Has isolated nodes? \", data.has_isolated_nodes())\n",
    "print(\"Has self loops? \", data.has_self_loops())\n",
    "print(\"Directed? \", data.is_directed())"
   ]
  },
  {
   "cell_type": "code",
   "execution_count": null,
   "id": "fccb27b4-f823-45c4-a977-f763b9d5263f",
   "metadata": {},
   "outputs": [],
   "source": []
  },
  {
   "cell_type": "markdown",
   "id": "b824631a-9f21-457a-8d70-321d9833c24e",
   "metadata": {},
   "source": [
    "We do not want our model to learn label while embed. So we will do embedding in unsupervised way"
   ]
  },
  {
   "cell_type": "code",
   "execution_count": 86,
   "id": "419fa8e6-fae8-4a27-b74c-95862a323c91",
   "metadata": {},
   "outputs": [],
   "source": [
    "from torch_geometric.nn import GCNConv\n",
    "# from torch.utils.tensorboard import SummaryWriter\n",
    "from torch_geometric.utils import train_test_split_edges\n",
    "from torch_geometric.nn import GAE\n",
    "from torch_geometric.nn import VGAE"
   ]
  },
  {
   "cell_type": "code",
   "execution_count": 87,
   "id": "9ab3ad83-d810-4d3b-90c8-c702d6091f8d",
   "metadata": {},
   "outputs": [],
   "source": [
    "class GCNEncoder(torch.nn.Module):\n",
    "    def __init__(self, in_channels, out_channels):\n",
    "        super(GCNEncoder, self).__init__()\n",
    "        self.conv1 = GCNConv(in_channels, 2 * out_channels, cached=True) # cached only for transductive learning\n",
    "        self.conv2 = GCNConv(2 * out_channels, out_channels, cached=True) # cached only for transductive learning\n",
    "\n",
    "    def forward(self, x, edge_index):\n",
    "        x = self.conv1(x, edge_index).relu()\n",
    "        return self.conv2(x, edge_index)\n",
    "    \n",
    "class VariationalGCNEncoder(torch.nn.Module):\n",
    "    def __init__(self, in_channels, out_channels):\n",
    "        super(VariationalGCNEncoder, self).__init__()\n",
    "        self.conv1 = GCNConv(in_channels, 2 * out_channels, cached=True) # cached only for transductive learning\n",
    "        self.conv_mu = GCNConv(2 * out_channels, out_channels, cached=True)\n",
    "        self.conv_logstd = GCNConv(2 * out_channels, out_channels, cached=True)\n",
    "\n",
    "    def forward(self, x, edge_index):\n",
    "        x = self.conv1(x, edge_index).relu()\n",
    "        return self.conv_mu(x, edge_index), self.conv_logstd(x, edge_index)"
   ]
  },
  {
   "cell_type": "code",
   "execution_count": 88,
   "id": "504c61d8-94dd-461c-88b0-736a50943a65",
   "metadata": {},
   "outputs": [
    {
     "name": "stderr",
     "output_type": "stream",
     "text": [
      "/home/rahit/.cache/pypoetry/virtualenvs/gemo-data-DHiuQg47-py3.8/lib/python3.8/site-packages/torch_geometric/deprecation.py:12: UserWarning: 'train_test_split_edges' is deprecated, use 'transforms.RandomLinkSplit' instead\n",
      "  warnings.warn(out)\n"
     ]
    },
    {
     "data": {
      "text/html": [
       "<pre style=\"white-space:pre;overflow-x:auto;line-height:normal;font-family:Menlo,'DejaVu Sans Mono',consolas,'Courier New',monospace\"><span style=\"color: #800080; text-decoration-color: #800080; font-weight: bold\">Data</span><span style=\"font-weight: bold\">(</span><span style=\"color: #808000; text-decoration-color: #808000\">x</span>=<span style=\"font-weight: bold\">[</span><span style=\"color: #008080; text-decoration-color: #008080; font-weight: bold\">733</span>, <span style=\"color: #008080; text-decoration-color: #008080; font-weight: bold\">3</span><span style=\"font-weight: bold\">]</span>, <span style=\"color: #808000; text-decoration-color: #808000\">val_pos_edge_index</span>=<span style=\"font-weight: bold\">[</span><span style=\"color: #008080; text-decoration-color: #008080; font-weight: bold\">2</span>, <span style=\"color: #008080; text-decoration-color: #008080; font-weight: bold\">6800</span><span style=\"font-weight: bold\">]</span>, <span style=\"color: #808000; text-decoration-color: #808000\">val_pos_edge_attr</span>=<span style=\"font-weight: bold\">[</span><span style=\"color: #008080; text-decoration-color: #008080; font-weight: bold\">6800</span><span style=\"font-weight: bold\">]</span>, <span style=\"color: #808000; text-decoration-color: #808000\">test_pos_edge_index</span>=<span style=\"font-weight: bold\">[</span><span style=\"color: #008080; text-decoration-color: #008080; font-weight: bold\">2</span>, <span style=\"color: #008080; text-decoration-color: #008080; font-weight: bold\">13601</span><span style=\"font-weight: bold\">]</span>, <span style=\"color: #808000; text-decoration-color: #808000\">test_pos_edge_attr</span>=<span style=\"font-weight: bold\">[</span><span style=\"color: #008080; text-decoration-color: #008080; font-weight: bold\">13601</span><span style=\"font-weight: bold\">]</span>, <span style=\"color: #808000; text-decoration-color: #808000\">train_pos_edge_index</span>=<span style=\"font-weight: bold\">[</span><span style=\"color: #008080; text-decoration-color: #008080; font-weight: bold\">2</span>, <span style=\"color: #008080; text-decoration-color: #008080; font-weight: bold\">231230</span><span style=\"font-weight: bold\">]</span>, <span style=\"color: #808000; text-decoration-color: #808000\">train_pos_edge_attr</span>=<span style=\"font-weight: bold\">[</span><span style=\"color: #008080; text-decoration-color: #008080; font-weight: bold\">231230</span><span style=\"font-weight: bold\">]</span>, <span style=\"color: #808000; text-decoration-color: #808000\">train_neg_adj_mask</span>=<span style=\"font-weight: bold\">[</span><span style=\"color: #008080; text-decoration-color: #008080; font-weight: bold\">733</span>, <span style=\"color: #008080; text-decoration-color: #008080; font-weight: bold\">733</span><span style=\"font-weight: bold\">]</span>, <span style=\"color: #808000; text-decoration-color: #808000\">val_neg_edge_index</span>=<span style=\"font-weight: bold\">[</span><span style=\"color: #008080; text-decoration-color: #008080; font-weight: bold\">2</span>, <span style=\"color: #008080; text-decoration-color: #008080; font-weight: bold\">6800</span><span style=\"font-weight: bold\">]</span>, <span style=\"color: #808000; text-decoration-color: #808000\">test_neg_edge_index</span>=<span style=\"font-weight: bold\">[</span><span style=\"color: #008080; text-decoration-color: #008080; font-weight: bold\">2</span>, <span style=\"color: #008080; text-decoration-color: #008080; font-weight: bold\">13601</span><span style=\"font-weight: bold\">])</span>\n",
       "</pre>\n"
      ],
      "text/plain": [
       "\u001b[1;35mData\u001b[0m\u001b[1m(\u001b[0m\u001b[33mx\u001b[0m=\u001b[1m[\u001b[0m\u001b[1;36m733\u001b[0m, \u001b[1;36m3\u001b[0m\u001b[1m]\u001b[0m, \u001b[33mval_pos_edge_index\u001b[0m=\u001b[1m[\u001b[0m\u001b[1;36m2\u001b[0m, \u001b[1;36m6800\u001b[0m\u001b[1m]\u001b[0m, \u001b[33mval_pos_edge_attr\u001b[0m=\u001b[1m[\u001b[0m\u001b[1;36m6800\u001b[0m\u001b[1m]\u001b[0m, \u001b[33mtest_pos_edge_index\u001b[0m=\u001b[1m[\u001b[0m\u001b[1;36m2\u001b[0m, \u001b[1;36m13601\u001b[0m\u001b[1m]\u001b[0m, \u001b[33mtest_pos_edge_attr\u001b[0m=\u001b[1m[\u001b[0m\u001b[1;36m13601\u001b[0m\u001b[1m]\u001b[0m, \u001b[33mtrain_pos_edge_index\u001b[0m=\u001b[1m[\u001b[0m\u001b[1;36m2\u001b[0m, \u001b[1;36m231230\u001b[0m\u001b[1m]\u001b[0m, \u001b[33mtrain_pos_edge_attr\u001b[0m=\u001b[1m[\u001b[0m\u001b[1;36m231230\u001b[0m\u001b[1m]\u001b[0m, \u001b[33mtrain_neg_adj_mask\u001b[0m=\u001b[1m[\u001b[0m\u001b[1;36m733\u001b[0m, \u001b[1;36m733\u001b[0m\u001b[1m]\u001b[0m, \u001b[33mval_neg_edge_index\u001b[0m=\u001b[1m[\u001b[0m\u001b[1;36m2\u001b[0m, \u001b[1;36m6800\u001b[0m\u001b[1m]\u001b[0m, \u001b[33mtest_neg_edge_index\u001b[0m=\u001b[1m[\u001b[0m\u001b[1;36m2\u001b[0m, \u001b[1;36m13601\u001b[0m\u001b[1m]\u001b[0m\u001b[1m)\u001b[0m\n"
      ]
     },
     "metadata": {},
     "output_type": "display_data"
    }
   ],
   "source": [
    "data = train_test_split_edges(data)\n",
    "data"
   ]
  },
  {
   "cell_type": "code",
   "execution_count": 89,
   "id": "53179d19-8e32-4f90-831c-ac721bd4ebcd",
   "metadata": {},
   "outputs": [],
   "source": [
    "out_channels = 2\n",
    "num_features = 3\n",
    "epochs = 300\n",
    "\n",
    "\n",
    "model = VGAE(VariationalGCNEncoder(num_features, out_channels))  # new line\n",
    "\n",
    "device = torch.device('cuda' if torch.cuda.is_available() else 'cpu')\n",
    "model = model.to(device)\n",
    "x = data.x.to(device)\n",
    "train_pos_edge_index = data.train_pos_edge_index.to(device)\n",
    "optimizer = torch.optim.Adam(model.parameters(), lr=0.01)"
   ]
  },
  {
   "cell_type": "code",
   "execution_count": 72,
   "id": "316c6cdc-965b-4f5c-b384-4a16ccac5616",
   "metadata": {},
   "outputs": [
    {
     "data": {
      "text/html": [
       "<pre style=\"white-space:pre;overflow-x:auto;line-height:normal;font-family:Menlo,'DejaVu Sans Mono',consolas,'Courier New',monospace\"><span style=\"color: #ff0000; text-decoration-color: #ff0000\">╭──────────────────────────── </span><span style=\"color: #800000; text-decoration-color: #800000; font-weight: bold\">Traceback </span><span style=\"color: #bf7f7f; text-decoration-color: #bf7f7f; font-weight: bold\">(most recent call last)</span><span style=\"color: #ff0000; text-decoration-color: #ff0000\"> ────────────────────────────╮</span>\n",
       "<span style=\"color: #ff0000; text-decoration-color: #ff0000\">│</span>                                                                                           <span style=\"color: #ff0000; text-decoration-color: #ff0000\">│</span>\n",
       "<span style=\"color: #ff0000; text-decoration-color: #ff0000\">│</span> <span style=\"color: #bfbf7f; text-decoration-color: #bfbf7f\">/tmp/ipykernel_12274/</span><span style=\"color: #808000; text-decoration-color: #808000; font-weight: bold\">1614924763.py</span>:<span style=\"color: #0000ff; text-decoration-color: #0000ff\">1</span> in <span style=\"color: #00ff00; text-decoration-color: #00ff00\">&lt;module&gt;</span>                                          <span style=\"color: #ff0000; text-decoration-color: #ff0000\">│</span>\n",
       "<span style=\"color: #ff0000; text-decoration-color: #ff0000\">│</span>                                                                                           <span style=\"color: #ff0000; text-decoration-color: #ff0000\">│</span>\n",
       "<span style=\"color: #ff0000; text-decoration-color: #ff0000\">│</span> <span style=\"color: #800000; text-decoration-color: #800000; font-style: italic\">[Errno 2] No such file or directory: '/tmp/ipykernel_12274/1614924763.py'</span>                 <span style=\"color: #ff0000; text-decoration-color: #ff0000\">│</span>\n",
       "<span style=\"color: #ff0000; text-decoration-color: #ff0000\">╰───────────────────────────────────────────────────────────────────────────────────────────╯</span>\n",
       "<span style=\"color: #ff0000; text-decoration-color: #ff0000; font-weight: bold\">NameError: </span>name <span style=\"color: #008000; text-decoration-color: #008000\">'SummaryWriter'</span> is not defined\n",
       "</pre>\n"
      ],
      "text/plain": [
       "\u001b[91m╭─\u001b[0m\u001b[91m─────────────────────────── \u001b[0m\u001b[1;31mTraceback \u001b[0m\u001b[1;2;31m(most recent call last)\u001b[0m\u001b[91m ───────────────────────────\u001b[0m\u001b[91m─╮\u001b[0m\n",
       "\u001b[91m│\u001b[0m                                                                                           \u001b[91m│\u001b[0m\n",
       "\u001b[91m│\u001b[0m \u001b[2;33m/tmp/ipykernel_12274/\u001b[0m\u001b[1;33m1614924763.py\u001b[0m:\u001b[94m1\u001b[0m in \u001b[92m<module>\u001b[0m                                          \u001b[91m│\u001b[0m\n",
       "\u001b[91m│\u001b[0m                                                                                           \u001b[91m│\u001b[0m\n",
       "\u001b[91m│\u001b[0m \u001b[3;31m[Errno 2] No such file or directory: '/tmp/ipykernel_12274/1614924763.py'\u001b[0m                 \u001b[91m│\u001b[0m\n",
       "\u001b[91m╰───────────────────────────────────────────────────────────────────────────────────────────╯\u001b[0m\n",
       "\u001b[1;91mNameError: \u001b[0mname \u001b[32m'SummaryWriter'\u001b[0m is not defined\n"
      ]
     },
     "metadata": {},
     "output_type": "display_data"
    }
   ],
   "source": [
    "writer = SummaryWriter('runs/GAE1_experiment_'+'2d_100_epochs')"
   ]
  },
  {
   "cell_type": "code",
   "execution_count": 90,
   "id": "9eeee451-38cc-4291-b039-a674d256d4d5",
   "metadata": {},
   "outputs": [],
   "source": [
    "def train():\n",
    "    model.train()\n",
    "    optimizer.zero_grad()\n",
    "    z = model.encode(x, train_pos_edge_index)\n",
    "    loss = model.recon_loss(z, train_pos_edge_index)\n",
    "    \n",
    "    loss = loss + (1 / data.num_nodes) * model.kl_loss()  # new line\n",
    "    loss.backward()\n",
    "    optimizer.step()\n",
    "    return float(loss)\n",
    "\n",
    "\n",
    "def test(pos_edge_index, neg_edge_index):\n",
    "    model.eval()\n",
    "    with torch.no_grad():\n",
    "        z = model.encode(x, train_pos_edge_index)\n",
    "    return model.test(z, pos_edge_index, neg_edge_index)"
   ]
  },
  {
   "cell_type": "code",
   "execution_count": null,
   "id": "b6a3822c-162a-4e36-b374-5a1ba1353b98",
   "metadata": {},
   "outputs": [
    {
     "data": {
      "text/html": [
       "<pre style=\"white-space:pre;overflow-x:auto;line-height:normal;font-family:Menlo,'DejaVu Sans Mono',consolas,'Courier New',monospace\">Epoch: <span style=\"color: #008080; text-decoration-color: #008080; font-weight: bold\">001</span>, AUC: <span style=\"color: #008080; text-decoration-color: #008080; font-weight: bold\">0.5000</span>, AP: <span style=\"color: #008080; text-decoration-color: #008080; font-weight: bold\">0.5000</span>\n",
       "</pre>\n"
      ],
      "text/plain": [
       "Epoch: \u001b[1;36m001\u001b[0m, AUC: \u001b[1;36m0.5000\u001b[0m, AP: \u001b[1;36m0.5000\u001b[0m\n"
      ]
     },
     "metadata": {},
     "output_type": "display_data"
    }
   ],
   "source": [
    "\n",
    "for epoch in range(1, epochs + 1):\n",
    "    loss = train()\n",
    "    auc, ap = test(data.test_pos_edge_index, data.test_neg_edge_index)\n",
    "    print('Epoch: {:03d}, AUC: {:.4f}, AP: {:.4f}'.format(epoch, auc, ap))\n",
    "    \n",
    "    # writer.add_scalar('auc train',auc,epoch) # new line\n",
    "    # writer.add_scalar('ap train',ap,epoch)   # new line"
   ]
  },
  {
   "cell_type": "code",
   "execution_count": null,
   "id": "04435d8f",
   "metadata": {},
   "outputs": [],
   "source": []
  },
  {
   "cell_type": "code",
   "execution_count": null,
   "id": "e130ee60",
   "metadata": {},
   "outputs": [],
   "source": []
  },
  {
   "cell_type": "code",
   "execution_count": null,
   "id": "c58f1b56",
   "metadata": {},
   "outputs": [],
   "source": []
  },
  {
   "cell_type": "code",
   "execution_count": null,
   "id": "26daef8d",
   "metadata": {},
   "outputs": [],
   "source": []
  },
  {
   "cell_type": "code",
   "execution_count": null,
   "id": "06b9df94",
   "metadata": {},
   "outputs": [],
   "source": []
  },
  {
   "cell_type": "code",
   "execution_count": null,
   "id": "7386daeb",
   "metadata": {},
   "outputs": [],
   "source": []
  },
  {
   "cell_type": "code",
   "execution_count": 70,
   "id": "5e19f364-251d-424a-86b2-e6a2f0b02fc4",
   "metadata": {},
   "outputs": [
    {
     "data": {
      "text/html": [
       "<pre style=\"white-space:pre;overflow-x:auto;line-height:normal;font-family:Menlo,'DejaVu Sans Mono',consolas,'Courier New',monospace\"><span style=\"color: #800000; text-decoration-color: #800000\">╭─────────────────────────────── </span><span style=\"color: #800000; text-decoration-color: #800000; font-weight: bold\">Traceback </span><span style=\"color: #bf7f7f; text-decoration-color: #bf7f7f; font-weight: bold\">(most recent call last)</span><span style=\"color: #800000; text-decoration-color: #800000\"> ────────────────────────────────╮</span>\n",
       "<span style=\"color: #800000; text-decoration-color: #800000\">│</span> <span style=\"color: #bfbf7f; text-decoration-color: #bfbf7f\">/tmp/ipykernel_24008/</span><span style=\"color: #808000; text-decoration-color: #808000; font-weight: bold\">3608489440.py</span>:<span style=\"color: #0000ff; text-decoration-color: #0000ff\">3</span> in <span style=\"color: #00ff00; text-decoration-color: #00ff00\">&lt;module&gt;</span>                                                 <span style=\"color: #800000; text-decoration-color: #800000\">│</span>\n",
       "<span style=\"color: #800000; text-decoration-color: #800000\">│</span>                                                                                                  <span style=\"color: #800000; text-decoration-color: #800000\">│</span>\n",
       "<span style=\"color: #800000; text-decoration-color: #800000\">│</span> <span style=\"color: #800000; text-decoration-color: #800000; font-style: italic\">[Errno 2] No such file or directory: '/tmp/ipykernel_24008/3608489440.py'</span>                        <span style=\"color: #800000; text-decoration-color: #800000\">│</span>\n",
       "<span style=\"color: #800000; text-decoration-color: #800000\">│</span>                                                                                                  <span style=\"color: #800000; text-decoration-color: #800000\">│</span>\n",
       "<span style=\"color: #800000; text-decoration-color: #800000\">│</span> <span style=\"color: #bfbf7f; text-decoration-color: #bfbf7f\">/home/rahit/jupyter_py3/lib/python3.8/site-packages/pandas/core/reshape/</span><span style=\"color: #808000; text-decoration-color: #808000; font-weight: bold\">merge.py</span>:<span style=\"color: #0000ff; text-decoration-color: #0000ff\">107</span> in <span style=\"color: #00ff00; text-decoration-color: #00ff00\">merge</span>    <span style=\"color: #800000; text-decoration-color: #800000\">│</span>\n",
       "<span style=\"color: #800000; text-decoration-color: #800000\">│</span>                                                                                                  <span style=\"color: #800000; text-decoration-color: #800000\">│</span>\n",
       "<span style=\"color: #800000; text-decoration-color: #800000\">│</span>   <span style=\"color: #7f7f7f; text-decoration-color: #7f7f7f\"> 104 │   </span>indicator: <span style=\"color: #00ffff; text-decoration-color: #00ffff\">bool</span> = <span style=\"color: #0000ff; text-decoration-color: #0000ff\">False</span>,                                                              <span style=\"color: #800000; text-decoration-color: #800000\">│</span>\n",
       "<span style=\"color: #800000; text-decoration-color: #800000\">│</span>   <span style=\"color: #7f7f7f; text-decoration-color: #7f7f7f\"> 105 │   </span>validate: <span style=\"color: #00ffff; text-decoration-color: #00ffff\">str</span> | <span style=\"color: #0000ff; text-decoration-color: #0000ff\">None</span> = <span style=\"color: #0000ff; text-decoration-color: #0000ff\">None</span>,                                                          <span style=\"color: #800000; text-decoration-color: #800000\">│</span>\n",
       "<span style=\"color: #800000; text-decoration-color: #800000\">│</span>   <span style=\"color: #7f7f7f; text-decoration-color: #7f7f7f\"> 106 </span>) -&gt; DataFrame:                                                                           <span style=\"color: #800000; text-decoration-color: #800000\">│</span>\n",
       "<span style=\"color: #800000; text-decoration-color: #800000\">│</span> <span style=\"color: #800000; text-decoration-color: #800000\">❱ </span> 107 <span style=\"color: #7f7f7f; text-decoration-color: #7f7f7f\">│   </span>op = _MergeOperation(                                                                 <span style=\"color: #800000; text-decoration-color: #800000\">│</span>\n",
       "<span style=\"color: #800000; text-decoration-color: #800000\">│</span>   <span style=\"color: #7f7f7f; text-decoration-color: #7f7f7f\"> 108 │   │   </span>left,                                                                             <span style=\"color: #800000; text-decoration-color: #800000\">│</span>\n",
       "<span style=\"color: #800000; text-decoration-color: #800000\">│</span>   <span style=\"color: #7f7f7f; text-decoration-color: #7f7f7f\"> 109 │   │   </span>right,                                                                            <span style=\"color: #800000; text-decoration-color: #800000\">│</span>\n",
       "<span style=\"color: #800000; text-decoration-color: #800000\">│</span>   <span style=\"color: #7f7f7f; text-decoration-color: #7f7f7f\"> 110 │   │   </span>how=how,                                                                          <span style=\"color: #800000; text-decoration-color: #800000\">│</span>\n",
       "<span style=\"color: #800000; text-decoration-color: #800000\">│</span>                                                                                                  <span style=\"color: #800000; text-decoration-color: #800000\">│</span>\n",
       "<span style=\"color: #800000; text-decoration-color: #800000\">│</span> <span style=\"color: #bfbf7f; text-decoration-color: #bfbf7f\">/home/rahit/jupyter_py3/lib/python3.8/site-packages/pandas/core/reshape/</span><span style=\"color: #808000; text-decoration-color: #808000; font-weight: bold\">merge.py</span>:<span style=\"color: #0000ff; text-decoration-color: #0000ff\">700</span> in <span style=\"color: #00ff00; text-decoration-color: #00ff00\">__init__</span> <span style=\"color: #800000; text-decoration-color: #800000\">│</span>\n",
       "<span style=\"color: #800000; text-decoration-color: #800000\">│</span>                                                                                                  <span style=\"color: #800000; text-decoration-color: #800000\">│</span>\n",
       "<span style=\"color: #800000; text-decoration-color: #800000\">│</span>   <span style=\"color: #7f7f7f; text-decoration-color: #7f7f7f\"> 697 │   │   │   </span><span style=\"color: #00ffff; text-decoration-color: #00ffff\">self</span>.left_join_keys,                                                          <span style=\"color: #800000; text-decoration-color: #800000\">│</span>\n",
       "<span style=\"color: #800000; text-decoration-color: #800000\">│</span>   <span style=\"color: #7f7f7f; text-decoration-color: #7f7f7f\"> 698 │   │   │   </span><span style=\"color: #00ffff; text-decoration-color: #00ffff\">self</span>.right_join_keys,                                                         <span style=\"color: #800000; text-decoration-color: #800000\">│</span>\n",
       "<span style=\"color: #800000; text-decoration-color: #800000\">│</span>   <span style=\"color: #7f7f7f; text-decoration-color: #7f7f7f\"> 699 │   │   │   </span><span style=\"color: #00ffff; text-decoration-color: #00ffff\">self</span>.join_names,                                                              <span style=\"color: #800000; text-decoration-color: #800000\">│</span>\n",
       "<span style=\"color: #800000; text-decoration-color: #800000\">│</span> <span style=\"color: #800000; text-decoration-color: #800000\">❱ </span> 700 <span style=\"color: #7f7f7f; text-decoration-color: #7f7f7f\">│   │   </span>) = <span style=\"color: #00ffff; text-decoration-color: #00ffff\">self</span>._get_merge_keys()                                                        <span style=\"color: #800000; text-decoration-color: #800000\">│</span>\n",
       "<span style=\"color: #800000; text-decoration-color: #800000\">│</span>   <span style=\"color: #7f7f7f; text-decoration-color: #7f7f7f\"> 701 │   │   </span>                                                                                  <span style=\"color: #800000; text-decoration-color: #800000\">│</span>\n",
       "<span style=\"color: #800000; text-decoration-color: #800000\">│</span>   <span style=\"color: #7f7f7f; text-decoration-color: #7f7f7f\"> 702 │   │   # validate the merge keys dtypes. We may need to coerce</span>                           <span style=\"color: #800000; text-decoration-color: #800000\">│</span>\n",
       "<span style=\"color: #800000; text-decoration-color: #800000\">│</span>   <span style=\"color: #7f7f7f; text-decoration-color: #7f7f7f\"> 703 │   │   # to avoid incompatible dtypes</span>                                                    <span style=\"color: #800000; text-decoration-color: #800000\">│</span>\n",
       "<span style=\"color: #800000; text-decoration-color: #800000\">│</span>                                                                                                  <span style=\"color: #800000; text-decoration-color: #800000\">│</span>\n",
       "<span style=\"color: #800000; text-decoration-color: #800000\">│</span> <span style=\"color: #bfbf7f; text-decoration-color: #bfbf7f\">/home/rahit/jupyter_py3/lib/python3.8/site-packages/pandas/core/reshape/</span><span style=\"color: #808000; text-decoration-color: #808000; font-weight: bold\">merge.py</span>:<span style=\"color: #0000ff; text-decoration-color: #0000ff\">1097</span> in         <span style=\"color: #800000; text-decoration-color: #800000\">│</span>\n",
       "<span style=\"color: #800000; text-decoration-color: #800000\">│</span> <span style=\"color: #00ff00; text-decoration-color: #00ff00\">_get_merge_keys</span>                                                                                  <span style=\"color: #800000; text-decoration-color: #800000\">│</span>\n",
       "<span style=\"color: #800000; text-decoration-color: #800000\">│</span>                                                                                                  <span style=\"color: #800000; text-decoration-color: #800000\">│</span>\n",
       "<span style=\"color: #800000; text-decoration-color: #800000\">│</span>   <span style=\"color: #7f7f7f; text-decoration-color: #7f7f7f\">1094 │   │   │   │   </span><span style=\"color: #0000ff; text-decoration-color: #0000ff\">else</span>:                                                                     <span style=\"color: #800000; text-decoration-color: #800000\">│</span>\n",
       "<span style=\"color: #800000; text-decoration-color: #800000\">│</span>   <span style=\"color: #7f7f7f; text-decoration-color: #7f7f7f\">1095 │   │   │   │   │   </span><span style=\"color: #0000ff; text-decoration-color: #0000ff\">if</span> <span style=\"color: #ff00ff; text-decoration-color: #ff00ff\">not</span> is_rkey(rk):                                                   <span style=\"color: #800000; text-decoration-color: #800000\">│</span>\n",
       "<span style=\"color: #800000; text-decoration-color: #800000\">│</span>   <span style=\"color: #7f7f7f; text-decoration-color: #7f7f7f\">1096 │   │   │   │   │   │   </span><span style=\"color: #0000ff; text-decoration-color: #0000ff\">if</span> rk <span style=\"color: #ff00ff; text-decoration-color: #ff00ff\">is</span> <span style=\"color: #ff00ff; text-decoration-color: #ff00ff\">not</span> <span style=\"color: #0000ff; text-decoration-color: #0000ff\">None</span>:                                                <span style=\"color: #800000; text-decoration-color: #800000\">│</span>\n",
       "<span style=\"color: #800000; text-decoration-color: #800000\">│</span> <span style=\"color: #800000; text-decoration-color: #800000\">❱ </span>1097 <span style=\"color: #7f7f7f; text-decoration-color: #7f7f7f\">│   │   │   │   │   │   │   </span>right_keys.append(right._get_label_or_level_values(rk))       <span style=\"color: #800000; text-decoration-color: #800000\">│</span>\n",
       "<span style=\"color: #800000; text-decoration-color: #800000\">│</span>   <span style=\"color: #7f7f7f; text-decoration-color: #7f7f7f\">1098 │   │   │   │   │   │   </span><span style=\"color: #0000ff; text-decoration-color: #0000ff\">else</span>:                                                             <span style=\"color: #800000; text-decoration-color: #800000\">│</span>\n",
       "<span style=\"color: #800000; text-decoration-color: #800000\">│</span>   <span style=\"color: #7f7f7f; text-decoration-color: #7f7f7f\">1099 │   │   │   │   │   │   │   # work-around for merge_asof(right_index=True)</span>                <span style=\"color: #800000; text-decoration-color: #800000\">│</span>\n",
       "<span style=\"color: #800000; text-decoration-color: #800000\">│</span>   <span style=\"color: #7f7f7f; text-decoration-color: #7f7f7f\">1100 │   │   │   │   │   │   │   </span>right_keys.append(right.index)                                <span style=\"color: #800000; text-decoration-color: #800000\">│</span>\n",
       "<span style=\"color: #800000; text-decoration-color: #800000\">│</span>                                                                                                  <span style=\"color: #800000; text-decoration-color: #800000\">│</span>\n",
       "<span style=\"color: #800000; text-decoration-color: #800000\">│</span> <span style=\"color: #bfbf7f; text-decoration-color: #bfbf7f\">/home/rahit/jupyter_py3/lib/python3.8/site-packages/pandas/core/</span><span style=\"color: #808000; text-decoration-color: #808000; font-weight: bold\">generic.py</span>:<span style=\"color: #0000ff; text-decoration-color: #0000ff\">1848</span> in               <span style=\"color: #800000; text-decoration-color: #800000\">│</span>\n",
       "<span style=\"color: #800000; text-decoration-color: #800000\">│</span> <span style=\"color: #00ff00; text-decoration-color: #00ff00\">_get_label_or_level_values</span>                                                                       <span style=\"color: #800000; text-decoration-color: #800000\">│</span>\n",
       "<span style=\"color: #800000; text-decoration-color: #800000\">│</span>                                                                                                  <span style=\"color: #800000; text-decoration-color: #800000\">│</span>\n",
       "<span style=\"color: #800000; text-decoration-color: #800000\">│</span>   <span style=\"color: #7f7f7f; text-decoration-color: #7f7f7f\"> 1845 │   │   </span><span style=\"color: #0000ff; text-decoration-color: #0000ff\">elif</span> <span style=\"color: #00ffff; text-decoration-color: #00ffff\">self</span>._is_level_reference(key, axis=axis):                                   <span style=\"color: #800000; text-decoration-color: #800000\">│</span>\n",
       "<span style=\"color: #800000; text-decoration-color: #800000\">│</span>   <span style=\"color: #7f7f7f; text-decoration-color: #7f7f7f\"> 1846 │   │   │   </span>values = <span style=\"color: #00ffff; text-decoration-color: #00ffff\">self</span>.axes[axis].get_level_values(key)._values                       <span style=\"color: #800000; text-decoration-color: #800000\">│</span>\n",
       "<span style=\"color: #800000; text-decoration-color: #800000\">│</span>   <span style=\"color: #7f7f7f; text-decoration-color: #7f7f7f\"> 1847 │   │   </span><span style=\"color: #0000ff; text-decoration-color: #0000ff\">else</span>:                                                                            <span style=\"color: #800000; text-decoration-color: #800000\">│</span>\n",
       "<span style=\"color: #800000; text-decoration-color: #800000\">│</span> <span style=\"color: #800000; text-decoration-color: #800000\">❱ </span> 1848 <span style=\"color: #7f7f7f; text-decoration-color: #7f7f7f\">│   │   │   </span><span style=\"color: #0000ff; text-decoration-color: #0000ff\">raise</span> <span style=\"color: #00ffff; text-decoration-color: #00ffff\">KeyError</span>(key)                                                          <span style=\"color: #800000; text-decoration-color: #800000\">│</span>\n",
       "<span style=\"color: #800000; text-decoration-color: #800000\">│</span>   <span style=\"color: #7f7f7f; text-decoration-color: #7f7f7f\"> 1849 │   │   </span>                                                                                 <span style=\"color: #800000; text-decoration-color: #800000\">│</span>\n",
       "<span style=\"color: #800000; text-decoration-color: #800000\">│</span>   <span style=\"color: #7f7f7f; text-decoration-color: #7f7f7f\"> 1850 │   │   # Check for duplicates</span>                                                           <span style=\"color: #800000; text-decoration-color: #800000\">│</span>\n",
       "<span style=\"color: #800000; text-decoration-color: #800000\">│</span>   <span style=\"color: #7f7f7f; text-decoration-color: #7f7f7f\"> 1851 │   │   </span><span style=\"color: #0000ff; text-decoration-color: #0000ff\">if</span> values.ndim &gt; <span style=\"color: #0000ff; text-decoration-color: #0000ff\">1</span>:                                                              <span style=\"color: #800000; text-decoration-color: #800000\">│</span>\n",
       "<span style=\"color: #800000; text-decoration-color: #800000\">╰──────────────────────────────────────────────────────────────────────────────────────────────────╯</span>\n",
       "<span style=\"color: #ff0000; text-decoration-color: #ff0000; font-weight: bold\">KeyError: </span><span style=\"color: #008000; text-decoration-color: #008000\">'a'</span>\n",
       "</pre>\n"
      ],
      "text/plain": [
       "\u001b[31m╭─\u001b[0m\u001b[31m──────────────────────────────\u001b[0m\u001b[31m \u001b[0m\u001b[1;31mTraceback \u001b[0m\u001b[1;2;31m(most recent call last)\u001b[0m\u001b[31m \u001b[0m\u001b[31m───────────────────────────────\u001b[0m\u001b[31m─╮\u001b[0m\n",
       "\u001b[31m│\u001b[0m \u001b[2;33m/tmp/ipykernel_24008/\u001b[0m\u001b[1;33m3608489440.py\u001b[0m:\u001b[94m3\u001b[0m in \u001b[92m<module>\u001b[0m                                                 \u001b[31m│\u001b[0m\n",
       "\u001b[31m│\u001b[0m                                                                                                  \u001b[31m│\u001b[0m\n",
       "\u001b[31m│\u001b[0m \u001b[3;31m[Errno 2] No such file or directory: '/tmp/ipykernel_24008/3608489440.py'\u001b[0m                        \u001b[31m│\u001b[0m\n",
       "\u001b[31m│\u001b[0m                                                                                                  \u001b[31m│\u001b[0m\n",
       "\u001b[31m│\u001b[0m \u001b[2;33m/home/rahit/jupyter_py3/lib/python3.8/site-packages/pandas/core/reshape/\u001b[0m\u001b[1;33mmerge.py\u001b[0m:\u001b[94m107\u001b[0m in \u001b[92mmerge\u001b[0m    \u001b[31m│\u001b[0m\n",
       "\u001b[31m│\u001b[0m                                                                                                  \u001b[31m│\u001b[0m\n",
       "\u001b[31m│\u001b[0m   \u001b[2m 104 \u001b[0m\u001b[2m│   \u001b[0mindicator: \u001b[96mbool\u001b[0m = \u001b[94mFalse\u001b[0m,                                                              \u001b[31m│\u001b[0m\n",
       "\u001b[31m│\u001b[0m   \u001b[2m 105 \u001b[0m\u001b[2m│   \u001b[0mvalidate: \u001b[96mstr\u001b[0m | \u001b[94mNone\u001b[0m = \u001b[94mNone\u001b[0m,                                                          \u001b[31m│\u001b[0m\n",
       "\u001b[31m│\u001b[0m   \u001b[2m 106 \u001b[0m) -> DataFrame:                                                                           \u001b[31m│\u001b[0m\n",
       "\u001b[31m│\u001b[0m \u001b[31m❱ \u001b[0m 107 \u001b[2m│   \u001b[0mop = _MergeOperation(                                                                 \u001b[31m│\u001b[0m\n",
       "\u001b[31m│\u001b[0m   \u001b[2m 108 \u001b[0m\u001b[2m│   │   \u001b[0mleft,                                                                             \u001b[31m│\u001b[0m\n",
       "\u001b[31m│\u001b[0m   \u001b[2m 109 \u001b[0m\u001b[2m│   │   \u001b[0mright,                                                                            \u001b[31m│\u001b[0m\n",
       "\u001b[31m│\u001b[0m   \u001b[2m 110 \u001b[0m\u001b[2m│   │   \u001b[0mhow=how,                                                                          \u001b[31m│\u001b[0m\n",
       "\u001b[31m│\u001b[0m                                                                                                  \u001b[31m│\u001b[0m\n",
       "\u001b[31m│\u001b[0m \u001b[2;33m/home/rahit/jupyter_py3/lib/python3.8/site-packages/pandas/core/reshape/\u001b[0m\u001b[1;33mmerge.py\u001b[0m:\u001b[94m700\u001b[0m in \u001b[92m__init__\u001b[0m \u001b[31m│\u001b[0m\n",
       "\u001b[31m│\u001b[0m                                                                                                  \u001b[31m│\u001b[0m\n",
       "\u001b[31m│\u001b[0m   \u001b[2m 697 \u001b[0m\u001b[2m│   │   │   \u001b[0m\u001b[96mself\u001b[0m.left_join_keys,                                                          \u001b[31m│\u001b[0m\n",
       "\u001b[31m│\u001b[0m   \u001b[2m 698 \u001b[0m\u001b[2m│   │   │   \u001b[0m\u001b[96mself\u001b[0m.right_join_keys,                                                         \u001b[31m│\u001b[0m\n",
       "\u001b[31m│\u001b[0m   \u001b[2m 699 \u001b[0m\u001b[2m│   │   │   \u001b[0m\u001b[96mself\u001b[0m.join_names,                                                              \u001b[31m│\u001b[0m\n",
       "\u001b[31m│\u001b[0m \u001b[31m❱ \u001b[0m 700 \u001b[2m│   │   \u001b[0m) = \u001b[96mself\u001b[0m._get_merge_keys()                                                        \u001b[31m│\u001b[0m\n",
       "\u001b[31m│\u001b[0m   \u001b[2m 701 \u001b[0m\u001b[2m│   │   \u001b[0m                                                                                  \u001b[31m│\u001b[0m\n",
       "\u001b[31m│\u001b[0m   \u001b[2m 702 \u001b[0m\u001b[2m│   │   \u001b[0m\u001b[2m# validate the merge keys dtypes. We may need to coerce\u001b[0m                           \u001b[31m│\u001b[0m\n",
       "\u001b[31m│\u001b[0m   \u001b[2m 703 \u001b[0m\u001b[2m│   │   \u001b[0m\u001b[2m# to avoid incompatible dtypes\u001b[0m                                                    \u001b[31m│\u001b[0m\n",
       "\u001b[31m│\u001b[0m                                                                                                  \u001b[31m│\u001b[0m\n",
       "\u001b[31m│\u001b[0m \u001b[2;33m/home/rahit/jupyter_py3/lib/python3.8/site-packages/pandas/core/reshape/\u001b[0m\u001b[1;33mmerge.py\u001b[0m:\u001b[94m1097\u001b[0m in         \u001b[31m│\u001b[0m\n",
       "\u001b[31m│\u001b[0m \u001b[92m_get_merge_keys\u001b[0m                                                                                  \u001b[31m│\u001b[0m\n",
       "\u001b[31m│\u001b[0m                                                                                                  \u001b[31m│\u001b[0m\n",
       "\u001b[31m│\u001b[0m   \u001b[2m1094 \u001b[0m\u001b[2m│   │   │   │   \u001b[0m\u001b[94melse\u001b[0m:                                                                     \u001b[31m│\u001b[0m\n",
       "\u001b[31m│\u001b[0m   \u001b[2m1095 \u001b[0m\u001b[2m│   │   │   │   │   \u001b[0m\u001b[94mif\u001b[0m \u001b[95mnot\u001b[0m is_rkey(rk):                                                   \u001b[31m│\u001b[0m\n",
       "\u001b[31m│\u001b[0m   \u001b[2m1096 \u001b[0m\u001b[2m│   │   │   │   │   │   \u001b[0m\u001b[94mif\u001b[0m rk \u001b[95mis\u001b[0m \u001b[95mnot\u001b[0m \u001b[94mNone\u001b[0m:                                                \u001b[31m│\u001b[0m\n",
       "\u001b[31m│\u001b[0m \u001b[31m❱ \u001b[0m1097 \u001b[2m│   │   │   │   │   │   │   \u001b[0mright_keys.append(right._get_label_or_level_values(rk))       \u001b[31m│\u001b[0m\n",
       "\u001b[31m│\u001b[0m   \u001b[2m1098 \u001b[0m\u001b[2m│   │   │   │   │   │   \u001b[0m\u001b[94melse\u001b[0m:                                                             \u001b[31m│\u001b[0m\n",
       "\u001b[31m│\u001b[0m   \u001b[2m1099 \u001b[0m\u001b[2m│   │   │   │   │   │   │   \u001b[0m\u001b[2m# work-around for merge_asof(right_index=True)\u001b[0m                \u001b[31m│\u001b[0m\n",
       "\u001b[31m│\u001b[0m   \u001b[2m1100 \u001b[0m\u001b[2m│   │   │   │   │   │   │   \u001b[0mright_keys.append(right.index)                                \u001b[31m│\u001b[0m\n",
       "\u001b[31m│\u001b[0m                                                                                                  \u001b[31m│\u001b[0m\n",
       "\u001b[31m│\u001b[0m \u001b[2;33m/home/rahit/jupyter_py3/lib/python3.8/site-packages/pandas/core/\u001b[0m\u001b[1;33mgeneric.py\u001b[0m:\u001b[94m1848\u001b[0m in               \u001b[31m│\u001b[0m\n",
       "\u001b[31m│\u001b[0m \u001b[92m_get_label_or_level_values\u001b[0m                                                                       \u001b[31m│\u001b[0m\n",
       "\u001b[31m│\u001b[0m                                                                                                  \u001b[31m│\u001b[0m\n",
       "\u001b[31m│\u001b[0m   \u001b[2m 1845 \u001b[0m\u001b[2m│   │   \u001b[0m\u001b[94melif\u001b[0m \u001b[96mself\u001b[0m._is_level_reference(key, axis=axis):                                   \u001b[31m│\u001b[0m\n",
       "\u001b[31m│\u001b[0m   \u001b[2m 1846 \u001b[0m\u001b[2m│   │   │   \u001b[0mvalues = \u001b[96mself\u001b[0m.axes[axis].get_level_values(key)._values                       \u001b[31m│\u001b[0m\n",
       "\u001b[31m│\u001b[0m   \u001b[2m 1847 \u001b[0m\u001b[2m│   │   \u001b[0m\u001b[94melse\u001b[0m:                                                                            \u001b[31m│\u001b[0m\n",
       "\u001b[31m│\u001b[0m \u001b[31m❱ \u001b[0m 1848 \u001b[2m│   │   │   \u001b[0m\u001b[94mraise\u001b[0m \u001b[96mKeyError\u001b[0m(key)                                                          \u001b[31m│\u001b[0m\n",
       "\u001b[31m│\u001b[0m   \u001b[2m 1849 \u001b[0m\u001b[2m│   │   \u001b[0m                                                                                 \u001b[31m│\u001b[0m\n",
       "\u001b[31m│\u001b[0m   \u001b[2m 1850 \u001b[0m\u001b[2m│   │   \u001b[0m\u001b[2m# Check for duplicates\u001b[0m                                                           \u001b[31m│\u001b[0m\n",
       "\u001b[31m│\u001b[0m   \u001b[2m 1851 \u001b[0m\u001b[2m│   │   \u001b[0m\u001b[94mif\u001b[0m values.ndim > \u001b[94m1\u001b[0m:                                                              \u001b[31m│\u001b[0m\n",
       "\u001b[31m╰──────────────────────────────────────────────────────────────────────────────────────────────────╯\u001b[0m\n",
       "\u001b[1;91mKeyError: \u001b[0m\u001b[32m'a'\u001b[0m\n"
      ]
     },
     "metadata": {},
     "output_type": "display_data"
    }
   ],
   "source": [
    "pairs_df = pd.merge(protein_alias_df, pairs_df, how='left', on=['source', 'alias'])#.drop('index', axis=1).fillna(0)\n",
    "pairs_df"
   ]
  },
  {
   "cell_type": "code",
   "execution_count": null,
   "id": "90cc8c6a",
   "metadata": {},
   "outputs": [],
   "source": [
    "pint_df"
   ]
  },
  {
   "cell_type": "code",
   "execution_count": 46,
   "id": "4cd9e4c9-ff53-4657-a6e3-9589893d08ee",
   "metadata": {},
   "outputs": [
    {
     "data": {
      "text/html": [
       "<div>\n",
       "<style scoped>\n",
       "    .dataframe tbody tr th:only-of-type {\n",
       "        vertical-align: middle;\n",
       "    }\n",
       "\n",
       "    .dataframe tbody tr th {\n",
       "        vertical-align: top;\n",
       "    }\n",
       "\n",
       "    .dataframe thead th {\n",
       "        text-align: right;\n",
       "    }\n",
       "</style>\n",
       "<table border=\"1\" class=\"dataframe\">\n",
       "  <thead>\n",
       "    <tr style=\"text-align: right;\">\n",
       "      <th></th>\n",
       "      <th>protein1</th>\n",
       "      <th>protein2</th>\n",
       "      <th>combined_score</th>\n",
       "    </tr>\n",
       "  </thead>\n",
       "  <tbody>\n",
       "    <tr>\n",
       "      <th>0</th>\n",
       "      <td>6239.2L52.1</td>\n",
       "      <td>6239.C16C8.14</td>\n",
       "      <td>196</td>\n",
       "    </tr>\n",
       "    <tr>\n",
       "      <th>1</th>\n",
       "      <td>6239.2L52.1</td>\n",
       "      <td>6239.R06A4.7</td>\n",
       "      <td>375</td>\n",
       "    </tr>\n",
       "    <tr>\n",
       "      <th>2</th>\n",
       "      <td>6239.2L52.1</td>\n",
       "      <td>6239.B0218.3</td>\n",
       "      <td>207</td>\n",
       "    </tr>\n",
       "    <tr>\n",
       "      <th>3</th>\n",
       "      <td>6239.2L52.1</td>\n",
       "      <td>6239.C49F5.2</td>\n",
       "      <td>189</td>\n",
       "    </tr>\n",
       "    <tr>\n",
       "      <th>4</th>\n",
       "      <td>6239.2L52.1</td>\n",
       "      <td>6239.Y39B6A.13</td>\n",
       "      <td>152</td>\n",
       "    </tr>\n",
       "  </tbody>\n",
       "</table>\n",
       "</div>"
      ]
     },
     "execution_count": 46,
     "metadata": {},
     "output_type": "execute_result"
    }
   ],
   "source": [
    "protein_interaction_df.head()"
   ]
  },
  {
   "cell_type": "code",
   "execution_count": 49,
   "id": "450c89ca-a3f0-4b20-bd57-b560073c8ee5",
   "metadata": {},
   "outputs": [],
   "source": [
    "cluster.scale(2)"
   ]
  },
  {
   "cell_type": "code",
   "execution_count": 50,
   "id": "4634e56d-dcfe-476d-b051-9039d9624405",
   "metadata": {},
   "outputs": [
    {
     "name": "stdout",
     "output_type": "stream",
     "text": [
      "            JOBID     USER              ACCOUNT           NAME  ST  TIME_LEFT NODES CPUS TRES_PER_N MIN_MEM NODELIST (REASON) \n",
      "          3377875    rahit     def-mtarailo_cpu    dask-worker   R       4:59     1    8        N/A      4G gra781 (None) \n",
      "          3377876    rahit     def-mtarailo_cpu    dask-worker   R       4:59     1    8        N/A      4G gra781 (None) \n",
      "          3377073    rahit     def-mtarailo_cpu    interactive   R      34:45     1    1        N/A      8G gra630 (None) \n"
     ]
    }
   ],
   "source": [
    "!squeue -u $USER"
   ]
  },
  {
   "cell_type": "code",
   "execution_count": 37,
   "id": "c842d4ec-99f8-41b5-abc1-2a5c5a24caf3",
   "metadata": {},
   "outputs": [],
   "source": [
    "!scancel -n \"dask-worker\""
   ]
  },
  {
   "cell_type": "markdown",
   "id": "a766437a-7593-4176-828d-8d17136a649b",
   "metadata": {},
   "source": [
    "Create protein pairs from gene pairs using STRING protein alias"
   ]
  },
  {
   "cell_type": "code",
   "execution_count": 60,
   "id": "a3861d78-78a6-4708-b867-96b50f4c7938",
   "metadata": {},
   "outputs": [
    {
     "data": {
      "text/html": [
       "<pre style=\"white-space:pre;overflow-x:auto;line-height:normal;font-family:Menlo,'DejaVu Sans Mono',consolas,'Courier New',monospace\">\n",
       "<span style=\"color: #800080; text-decoration-color: #800080; font-weight: bold\">array</span><span style=\"font-weight: bold\">([[</span><span style=\"color: #008000; text-decoration-color: #008000\">'WBGene00000022'</span>, <span style=\"color: #008000; text-decoration-color: #008000\">'WBGene00000045'</span><span style=\"font-weight: bold\">]</span>,\n",
       "       <span style=\"font-weight: bold\">[</span><span style=\"color: #008000; text-decoration-color: #008000\">'WBGene00000022'</span>, <span style=\"color: #008000; text-decoration-color: #008000\">'WBGene00000055'</span><span style=\"font-weight: bold\">]</span>,\n",
       "       <span style=\"font-weight: bold\">[</span><span style=\"color: #008000; text-decoration-color: #008000\">'WBGene00000022'</span>, <span style=\"color: #008000; text-decoration-color: #008000\">'WBGene00000057'</span><span style=\"font-weight: bold\">]</span>,\n",
       "       <span style=\"font-weight: bold\">[</span><span style=\"color: #008000; text-decoration-color: #008000\">'WBGene00000022'</span>, <span style=\"color: #008000; text-decoration-color: #008000\">'WBGene00000070'</span><span style=\"font-weight: bold\">]</span>,\n",
       "       <span style=\"font-weight: bold\">[</span><span style=\"color: #008000; text-decoration-color: #008000\">'WBGene00000022'</span>, <span style=\"color: #008000; text-decoration-color: #008000\">'WBGene00000103'</span><span style=\"font-weight: bold\">]</span>,\n",
       "       <span style=\"font-weight: bold\">[</span><span style=\"color: #008000; text-decoration-color: #008000\">'WBGene00000022'</span>, <span style=\"color: #008000; text-decoration-color: #008000\">'WBGene00000109'</span><span style=\"font-weight: bold\">]</span>,\n",
       "       <span style=\"font-weight: bold\">[</span><span style=\"color: #008000; text-decoration-color: #008000\">'WBGene00000022'</span>, <span style=\"color: #008000; text-decoration-color: #008000\">'WBGene00000135'</span><span style=\"font-weight: bold\">]</span>,\n",
       "       <span style=\"font-weight: bold\">[</span><span style=\"color: #008000; text-decoration-color: #008000\">'WBGene00000022'</span>, <span style=\"color: #008000; text-decoration-color: #008000\">'WBGene00000158'</span><span style=\"font-weight: bold\">]</span>,\n",
       "       <span style=\"font-weight: bold\">[</span><span style=\"color: #008000; text-decoration-color: #008000\">'WBGene00000022'</span>, <span style=\"color: #008000; text-decoration-color: #008000\">'WBGene00000166'</span><span style=\"font-weight: bold\">]</span>,\n",
       "       <span style=\"font-weight: bold\">[</span><span style=\"color: #008000; text-decoration-color: #008000\">'WBGene00000022'</span>, <span style=\"color: #008000; text-decoration-color: #008000\">'WBGene00000220'</span><span style=\"font-weight: bold\">]]</span>, <span style=\"color: #808000; text-decoration-color: #808000\">dtype</span>=<span style=\"color: #008000; text-decoration-color: #008000\">'&lt;U14'</span><span style=\"font-weight: bold\">)</span>\n",
       "</pre>\n"
      ],
      "text/plain": [
       "\n",
       "\u001b[1;35marray\u001b[0m\u001b[1m(\u001b[0m\u001b[1m[\u001b[0m\u001b[1m[\u001b[0m\u001b[32m'WBGene00000022'\u001b[0m, \u001b[32m'WBGene00000045'\u001b[0m\u001b[1m]\u001b[0m,\n",
       "       \u001b[1m[\u001b[0m\u001b[32m'WBGene00000022'\u001b[0m, \u001b[32m'WBGene00000055'\u001b[0m\u001b[1m]\u001b[0m,\n",
       "       \u001b[1m[\u001b[0m\u001b[32m'WBGene00000022'\u001b[0m, \u001b[32m'WBGene00000057'\u001b[0m\u001b[1m]\u001b[0m,\n",
       "       \u001b[1m[\u001b[0m\u001b[32m'WBGene00000022'\u001b[0m, \u001b[32m'WBGene00000070'\u001b[0m\u001b[1m]\u001b[0m,\n",
       "       \u001b[1m[\u001b[0m\u001b[32m'WBGene00000022'\u001b[0m, \u001b[32m'WBGene00000103'\u001b[0m\u001b[1m]\u001b[0m,\n",
       "       \u001b[1m[\u001b[0m\u001b[32m'WBGene00000022'\u001b[0m, \u001b[32m'WBGene00000109'\u001b[0m\u001b[1m]\u001b[0m,\n",
       "       \u001b[1m[\u001b[0m\u001b[32m'WBGene00000022'\u001b[0m, \u001b[32m'WBGene00000135'\u001b[0m\u001b[1m]\u001b[0m,\n",
       "       \u001b[1m[\u001b[0m\u001b[32m'WBGene00000022'\u001b[0m, \u001b[32m'WBGene00000158'\u001b[0m\u001b[1m]\u001b[0m,\n",
       "       \u001b[1m[\u001b[0m\u001b[32m'WBGene00000022'\u001b[0m, \u001b[32m'WBGene00000166'\u001b[0m\u001b[1m]\u001b[0m,\n",
       "       \u001b[1m[\u001b[0m\u001b[32m'WBGene00000022'\u001b[0m, \u001b[32m'WBGene00000220'\u001b[0m\u001b[1m]\u001b[0m\u001b[1m]\u001b[0m, \u001b[33mdtype\u001b[0m=\u001b[32m'<U14'\u001b[0m\u001b[1m)\u001b[0m\n"
      ]
     },
     "metadata": {},
     "output_type": "display_data"
    }
   ],
   "source": [
    "\n",
    "\n",
    "def int_score(pair, protein_interaction_df, protein_alias_df):\n",
    "    print(pair)\n",
    "    return get_interaction_score(pair[0], pair[1], protein_interaction_df=protein_interaction_df, protein_alias_df=protein_alias_df)\n",
    "\n",
    "adj_mtx = np.array(pairs[:10])\n",
    "# scores = []\n",
    "# client.scatter(protein_interaction_df)\n",
    "# client.scatter(protein_alias_df)\n",
    "# for p in tqdm(adj_mtx):\n",
    "#     score = dask.delayed(get_interaction_score)(p[0], p[1], protein_interaction_df, protein_alias_df)\n",
    "#     scores.append(score)\n",
    "    \n",
    "# absnp.apply_along_axis(int_score, 1, adj_mtx, protein_interaction_df=protein_interaction_df, protein_alias_df=protein_alias_df)\n",
    "# adj_mtx = da.from_array(np.array(pairs[:50]), chunks=10)\n",
    "# adj_mtx.compute()\n",
    "adj_mtx"
   ]
  },
  {
   "cell_type": "code",
   "execution_count": 61,
   "id": "f7488fd6-6a87-45a0-b5ee-740f2b99d463",
   "metadata": {},
   "outputs": [
    {
     "data": {
      "text/html": [
       "<pre style=\"white-space:pre;overflow-x:auto;line-height:normal;font-family:Menlo,'DejaVu Sans Mono',consolas,'Courier New',monospace\"><span style=\"font-weight: bold\">[</span><span style=\"color: #008000; text-decoration-color: #008000\">'1'</span><span style=\"font-weight: bold\">]</span>\n",
       "</pre>\n"
      ],
      "text/plain": [
       "\u001b[1m[\u001b[0m\u001b[32m'1'\u001b[0m\u001b[1m]\u001b[0m\n"
      ]
     },
     "metadata": {},
     "output_type": "display_data"
    },
    {
     "data": {
      "text/html": [
       "<pre style=\"white-space:pre;overflow-x:auto;line-height:normal;font-family:Menlo,'DejaVu Sans Mono',consolas,'Courier New',monospace\"><span style=\"color: #800000; text-decoration-color: #800000\">╭─────────────────────────────── </span><span style=\"color: #800000; text-decoration-color: #800000; font-weight: bold\">Traceback </span><span style=\"color: #bf7f7f; text-decoration-color: #bf7f7f; font-weight: bold\">(most recent call last)</span><span style=\"color: #800000; text-decoration-color: #800000\"> ────────────────────────────────╮</span>\n",
       "<span style=\"color: #800000; text-decoration-color: #800000\">│</span> <span style=\"color: #bfbf7f; text-decoration-color: #bfbf7f\">/tmp/ipykernel_24008/</span><span style=\"color: #808000; text-decoration-color: #808000; font-weight: bold\">495367488.py</span>:<span style=\"color: #0000ff; text-decoration-color: #0000ff\">2</span> in <span style=\"color: #00ff00; text-decoration-color: #00ff00\">&lt;module&gt;</span>                                                  <span style=\"color: #800000; text-decoration-color: #800000\">│</span>\n",
       "<span style=\"color: #800000; text-decoration-color: #800000\">│</span>                                                                                                  <span style=\"color: #800000; text-decoration-color: #800000\">│</span>\n",
       "<span style=\"color: #800000; text-decoration-color: #800000\">│</span> <span style=\"color: #800000; text-decoration-color: #800000; font-style: italic\">[Errno 2] No such file or directory: '/tmp/ipykernel_24008/495367488.py'</span>                         <span style=\"color: #800000; text-decoration-color: #800000\">│</span>\n",
       "<span style=\"color: #800000; text-decoration-color: #800000\">│</span>                                                                                                  <span style=\"color: #800000; text-decoration-color: #800000\">│</span>\n",
       "<span style=\"color: #800000; text-decoration-color: #800000\">│</span> <span style=\"color: #bfbf7f; text-decoration-color: #bfbf7f\">/home/rahit/jupyter_py3/lib/python3.8/site-packages/dask/array/</span><span style=\"color: #808000; text-decoration-color: #808000; font-weight: bold\">routines.py</span>:<span style=\"color: #0000ff; text-decoration-color: #0000ff\">508</span> in                <span style=\"color: #800000; text-decoration-color: #800000\">│</span>\n",
       "<span style=\"color: #800000; text-decoration-color: #800000\">│</span> <span style=\"color: #00ff00; text-decoration-color: #00ff00\">apply_along_axis</span>                                                                                 <span style=\"color: #800000; text-decoration-color: #800000\">│</span>\n",
       "<span style=\"color: #800000; text-decoration-color: #800000\">│</span>                                                                                                  <span style=\"color: #800000; text-decoration-color: #800000\">│</span>\n",
       "<span style=\"color: #800000; text-decoration-color: #800000\">│</span>   <span style=\"color: #7f7f7f; text-decoration-color: #7f7f7f\"> 505 │   # If necessary, infer dtype and shape of the output of func1d by calling it on test </span>  <span style=\"color: #800000; text-decoration-color: #800000\">│</span>\n",
       "<span style=\"color: #800000; text-decoration-color: #800000\">│</span>   <span style=\"color: #7f7f7f; text-decoration-color: #7f7f7f\"> 506 │   </span><span style=\"color: #0000ff; text-decoration-color: #0000ff\">if</span> shape <span style=\"color: #ff00ff; text-decoration-color: #ff00ff\">is</span> <span style=\"color: #0000ff; text-decoration-color: #0000ff\">None</span> <span style=\"color: #ff00ff; text-decoration-color: #ff00ff\">or</span> dtype <span style=\"color: #ff00ff; text-decoration-color: #ff00ff\">is</span> <span style=\"color: #0000ff; text-decoration-color: #0000ff\">None</span>:                                                    <span style=\"color: #800000; text-decoration-color: #800000\">│</span>\n",
       "<span style=\"color: #800000; text-decoration-color: #800000\">│</span>   <span style=\"color: #7f7f7f; text-decoration-color: #7f7f7f\"> 507 │   │   </span>test_data = np.ones((<span style=\"color: #0000ff; text-decoration-color: #0000ff\">1</span>,), dtype=arr.dtype)                                        <span style=\"color: #800000; text-decoration-color: #800000\">│</span>\n",
       "<span style=\"color: #800000; text-decoration-color: #800000\">│</span> <span style=\"color: #800000; text-decoration-color: #800000\">❱ </span> 508 <span style=\"color: #7f7f7f; text-decoration-color: #7f7f7f\">│   │   </span>test_result = np.array(func1d(test_data, *args, **kwargs))                        <span style=\"color: #800000; text-decoration-color: #800000\">│</span>\n",
       "<span style=\"color: #800000; text-decoration-color: #800000\">│</span>   <span style=\"color: #7f7f7f; text-decoration-color: #7f7f7f\"> 509 │   │   </span><span style=\"color: #0000ff; text-decoration-color: #0000ff\">if</span> shape <span style=\"color: #ff00ff; text-decoration-color: #ff00ff\">is</span> <span style=\"color: #0000ff; text-decoration-color: #0000ff\">None</span>:                                                                 <span style=\"color: #800000; text-decoration-color: #800000\">│</span>\n",
       "<span style=\"color: #800000; text-decoration-color: #800000\">│</span>   <span style=\"color: #7f7f7f; text-decoration-color: #7f7f7f\"> 510 │   │   │   </span>shape = test_result.shape                                                     <span style=\"color: #800000; text-decoration-color: #800000\">│</span>\n",
       "<span style=\"color: #800000; text-decoration-color: #800000\">│</span>   <span style=\"color: #7f7f7f; text-decoration-color: #7f7f7f\"> 511 │   │   </span><span style=\"color: #0000ff; text-decoration-color: #0000ff\">if</span> dtype <span style=\"color: #ff00ff; text-decoration-color: #ff00ff\">is</span> <span style=\"color: #0000ff; text-decoration-color: #0000ff\">None</span>:                                                                 <span style=\"color: #800000; text-decoration-color: #800000\">│</span>\n",
       "<span style=\"color: #800000; text-decoration-color: #800000\">│</span>                                                                                                  <span style=\"color: #800000; text-decoration-color: #800000\">│</span>\n",
       "<span style=\"color: #800000; text-decoration-color: #800000\">│</span> <span style=\"color: #bfbf7f; text-decoration-color: #bfbf7f\">/tmp/ipykernel_24008/</span><span style=\"color: #808000; text-decoration-color: #808000; font-weight: bold\">2388726200.py</span>:<span style=\"color: #0000ff; text-decoration-color: #0000ff\">5</span> in <span style=\"color: #00ff00; text-decoration-color: #00ff00\">int_score</span>                                                <span style=\"color: #800000; text-decoration-color: #800000\">│</span>\n",
       "<span style=\"color: #800000; text-decoration-color: #800000\">│</span>                                                                                                  <span style=\"color: #800000; text-decoration-color: #800000\">│</span>\n",
       "<span style=\"color: #800000; text-decoration-color: #800000\">│</span> <span style=\"color: #800000; text-decoration-color: #800000; font-style: italic\">[Errno 2] No such file or directory: '/tmp/ipykernel_24008/2388726200.py'</span>                        <span style=\"color: #800000; text-decoration-color: #800000\">│</span>\n",
       "<span style=\"color: #800000; text-decoration-color: #800000\">╰──────────────────────────────────────────────────────────────────────────────────────────────────╯</span>\n",
       "<span style=\"color: #ff0000; text-decoration-color: #ff0000; font-weight: bold\">IndexError: </span>index <span style=\"color: #008080; text-decoration-color: #008080; font-weight: bold\">1</span> is out of bounds for axis <span style=\"color: #008080; text-decoration-color: #008080; font-weight: bold\">0</span> with size <span style=\"color: #008080; text-decoration-color: #008080; font-weight: bold\">1</span>\n",
       "</pre>\n"
      ],
      "text/plain": [
       "\u001b[31m╭─\u001b[0m\u001b[31m──────────────────────────────\u001b[0m\u001b[31m \u001b[0m\u001b[1;31mTraceback \u001b[0m\u001b[1;2;31m(most recent call last)\u001b[0m\u001b[31m \u001b[0m\u001b[31m───────────────────────────────\u001b[0m\u001b[31m─╮\u001b[0m\n",
       "\u001b[31m│\u001b[0m \u001b[2;33m/tmp/ipykernel_24008/\u001b[0m\u001b[1;33m495367488.py\u001b[0m:\u001b[94m2\u001b[0m in \u001b[92m<module>\u001b[0m                                                  \u001b[31m│\u001b[0m\n",
       "\u001b[31m│\u001b[0m                                                                                                  \u001b[31m│\u001b[0m\n",
       "\u001b[31m│\u001b[0m \u001b[3;31m[Errno 2] No such file or directory: '/tmp/ipykernel_24008/495367488.py'\u001b[0m                         \u001b[31m│\u001b[0m\n",
       "\u001b[31m│\u001b[0m                                                                                                  \u001b[31m│\u001b[0m\n",
       "\u001b[31m│\u001b[0m \u001b[2;33m/home/rahit/jupyter_py3/lib/python3.8/site-packages/dask/array/\u001b[0m\u001b[1;33mroutines.py\u001b[0m:\u001b[94m508\u001b[0m in                \u001b[31m│\u001b[0m\n",
       "\u001b[31m│\u001b[0m \u001b[92mapply_along_axis\u001b[0m                                                                                 \u001b[31m│\u001b[0m\n",
       "\u001b[31m│\u001b[0m                                                                                                  \u001b[31m│\u001b[0m\n",
       "\u001b[31m│\u001b[0m   \u001b[2m 505 \u001b[0m\u001b[2m│   \u001b[0m\u001b[2m# If necessary, infer dtype and shape of the output of func1d by calling it on test \u001b[0m  \u001b[31m│\u001b[0m\n",
       "\u001b[31m│\u001b[0m   \u001b[2m 506 \u001b[0m\u001b[2m│   \u001b[0m\u001b[94mif\u001b[0m shape \u001b[95mis\u001b[0m \u001b[94mNone\u001b[0m \u001b[95mor\u001b[0m dtype \u001b[95mis\u001b[0m \u001b[94mNone\u001b[0m:                                                    \u001b[31m│\u001b[0m\n",
       "\u001b[31m│\u001b[0m   \u001b[2m 507 \u001b[0m\u001b[2m│   │   \u001b[0mtest_data = np.ones((\u001b[94m1\u001b[0m,), dtype=arr.dtype)                                        \u001b[31m│\u001b[0m\n",
       "\u001b[31m│\u001b[0m \u001b[31m❱ \u001b[0m 508 \u001b[2m│   │   \u001b[0mtest_result = np.array(func1d(test_data, *args, **kwargs))                        \u001b[31m│\u001b[0m\n",
       "\u001b[31m│\u001b[0m   \u001b[2m 509 \u001b[0m\u001b[2m│   │   \u001b[0m\u001b[94mif\u001b[0m shape \u001b[95mis\u001b[0m \u001b[94mNone\u001b[0m:                                                                 \u001b[31m│\u001b[0m\n",
       "\u001b[31m│\u001b[0m   \u001b[2m 510 \u001b[0m\u001b[2m│   │   │   \u001b[0mshape = test_result.shape                                                     \u001b[31m│\u001b[0m\n",
       "\u001b[31m│\u001b[0m   \u001b[2m 511 \u001b[0m\u001b[2m│   │   \u001b[0m\u001b[94mif\u001b[0m dtype \u001b[95mis\u001b[0m \u001b[94mNone\u001b[0m:                                                                 \u001b[31m│\u001b[0m\n",
       "\u001b[31m│\u001b[0m                                                                                                  \u001b[31m│\u001b[0m\n",
       "\u001b[31m│\u001b[0m \u001b[2;33m/tmp/ipykernel_24008/\u001b[0m\u001b[1;33m2388726200.py\u001b[0m:\u001b[94m5\u001b[0m in \u001b[92mint_score\u001b[0m                                                \u001b[31m│\u001b[0m\n",
       "\u001b[31m│\u001b[0m                                                                                                  \u001b[31m│\u001b[0m\n",
       "\u001b[31m│\u001b[0m \u001b[3;31m[Errno 2] No such file or directory: '/tmp/ipykernel_24008/2388726200.py'\u001b[0m                        \u001b[31m│\u001b[0m\n",
       "\u001b[31m╰──────────────────────────────────────────────────────────────────────────────────────────────────╯\u001b[0m\n",
       "\u001b[1;91mIndexError: \u001b[0mindex \u001b[1;36m1\u001b[0m is out of bounds for axis \u001b[1;36m0\u001b[0m with size \u001b[1;36m1\u001b[0m\n"
      ]
     },
     "metadata": {},
     "output_type": "display_data"
    }
   ],
   "source": [
    "with TqdmCallback(desc=\"dasking\"):\n",
    "    result = da.apply_along_axis(int_score, 1, adj_mtx, protein_interaction_df=protein_interaction_df, protein_alias_df=protein_alias_df)\n",
    "    cresult = result.compute()\n",
    "\n",
    "# time1 = time.time()\n",
    "# result = result.compute()\n",
    "# print('Result computed:', elapsed(time1))"
   ]
  },
  {
   "cell_type": "code",
   "execution_count": null,
   "id": "5758f4c2-f055-4fdf-b987-c1f0958fd0c4",
   "metadata": {},
   "outputs": [],
   "source": [
    "with TqdmCallback(desc=\"dasking\"):\n",
    "    results = dask.compute(*scores)\n",
    "    # print(compute(result))\n",
    "    "
   ]
  },
  {
   "cell_type": "code",
   "execution_count": null,
   "id": "fbff14e6-87fa-449e-8344-8d9617820e67",
   "metadata": {},
   "outputs": [],
   "source": [
    "results[:5]"
   ]
  },
  {
   "cell_type": "code",
   "execution_count": 43,
   "id": "97456aa1-d5c4-4d0c-8d94-ffcf1fe5df8c",
   "metadata": {},
   "outputs": [],
   "source": [
    "# How many seconds since start?\n",
    "def elapsed(start):\n",
    "    return str(time.time() - start) + ' seconds'"
   ]
  },
  {
   "cell_type": "code",
   "execution_count": 44,
   "id": "c419846f-e4e8-4f0a-ac1d-f9478437380a",
   "metadata": {},
   "outputs": [
    {
     "data": {
      "text/html": [
       "<pre style=\"white-space:pre;overflow-x:auto;line-height:normal;font-family:Menlo,'DejaVu Sans Mono',consolas,'Courier New',monospace\"><span style=\"color: #ff0000; text-decoration-color: #ff0000\">╭──────────────────────────── </span><span style=\"color: #800000; text-decoration-color: #800000; font-weight: bold\">Traceback </span><span style=\"color: #bf7f7f; text-decoration-color: #bf7f7f; font-weight: bold\">(most recent call last)</span><span style=\"color: #ff0000; text-decoration-color: #ff0000\"> ────────────────────────────╮</span>\n",
       "<span style=\"color: #ff0000; text-decoration-color: #ff0000\">│</span>                                                                                           <span style=\"color: #ff0000; text-decoration-color: #ff0000\">│</span>\n",
       "<span style=\"color: #ff0000; text-decoration-color: #ff0000\">│</span> <span style=\"color: #bfbf7f; text-decoration-color: #bfbf7f\">/tmp/ipykernel_2043/</span><span style=\"color: #808000; text-decoration-color: #808000; font-weight: bold\">725368228.py</span>:<span style=\"color: #0000ff; text-decoration-color: #0000ff\">1</span> in <span style=\"color: #00ff00; text-decoration-color: #00ff00\">&lt;module&gt;</span>                                            <span style=\"color: #ff0000; text-decoration-color: #ff0000\">│</span>\n",
       "<span style=\"color: #ff0000; text-decoration-color: #ff0000\">│</span>                                                                                           <span style=\"color: #ff0000; text-decoration-color: #ff0000\">│</span>\n",
       "<span style=\"color: #ff0000; text-decoration-color: #ff0000\">│</span> <span style=\"color: #800000; text-decoration-color: #800000; font-style: italic\">[Errno 2] No such file or directory: '/tmp/ipykernel_2043/725368228.py'</span>                   <span style=\"color: #ff0000; text-decoration-color: #ff0000\">│</span>\n",
       "<span style=\"color: #ff0000; text-decoration-color: #ff0000\">│</span> <span style=\"color: #bfbf7f; text-decoration-color: #bfbf7f\">/home/rahit/.cache/pypoetry/virtualenvs/gemo-data-DHiuQg47-py3.8/lib/python3.8/site-packa</span> <span style=\"color: #ff0000; text-decoration-color: #ff0000\">│</span>\n",
       "<span style=\"color: #ff0000; text-decoration-color: #ff0000\">│</span> <span style=\"color: #bfbf7f; text-decoration-color: #bfbf7f\">ges/dask/array/</span><span style=\"color: #808000; text-decoration-color: #808000; font-weight: bold\">routines.py</span>:<span style=\"color: #0000ff; text-decoration-color: #0000ff\">508</span> in <span style=\"color: #00ff00; text-decoration-color: #00ff00\">apply_along_axis</span>                                        <span style=\"color: #ff0000; text-decoration-color: #ff0000\">│</span>\n",
       "<span style=\"color: #ff0000; text-decoration-color: #ff0000\">│</span>                                                                                           <span style=\"color: #ff0000; text-decoration-color: #ff0000\">│</span>\n",
       "<span style=\"color: #ff0000; text-decoration-color: #ff0000\">│</span>   <span style=\"color: #7f7f7f; text-decoration-color: #7f7f7f\"> 505 │   # If necessary, infer dtype and shape of the output of func1d by calling it on</span> <span style=\"color: #ff0000; text-decoration-color: #ff0000\">│</span>\n",
       "<span style=\"color: #ff0000; text-decoration-color: #ff0000\">│</span>   <span style=\"color: #7f7f7f; text-decoration-color: #7f7f7f\"> 506 │   </span><span style=\"color: #0000ff; text-decoration-color: #0000ff\">if</span> shape <span style=\"color: #ff00ff; text-decoration-color: #ff00ff\">is</span> <span style=\"color: #0000ff; text-decoration-color: #0000ff\">None</span> <span style=\"color: #ff00ff; text-decoration-color: #ff00ff\">or</span> dtype <span style=\"color: #ff00ff; text-decoration-color: #ff00ff\">is</span> <span style=\"color: #0000ff; text-decoration-color: #0000ff\">None</span>:                                             <span style=\"color: #ff0000; text-decoration-color: #ff0000\">│</span>\n",
       "<span style=\"color: #ff0000; text-decoration-color: #ff0000\">│</span>   <span style=\"color: #7f7f7f; text-decoration-color: #7f7f7f\"> 507 │   │   </span>test_data = np.ones((<span style=\"color: #0000ff; text-decoration-color: #0000ff\">1</span>,), dtype=arr.dtype)                                 <span style=\"color: #ff0000; text-decoration-color: #ff0000\">│</span>\n",
       "<span style=\"color: #ff0000; text-decoration-color: #ff0000\">│</span> <span style=\"color: #800000; text-decoration-color: #800000\">❱ </span> 508 <span style=\"color: #7f7f7f; text-decoration-color: #7f7f7f\">│   │   </span>test_result = np.array(func1d(test_data, *args, **kwargs))                 <span style=\"color: #ff0000; text-decoration-color: #ff0000\">│</span>\n",
       "<span style=\"color: #ff0000; text-decoration-color: #ff0000\">│</span>   <span style=\"color: #7f7f7f; text-decoration-color: #7f7f7f\"> 509 │   │   </span><span style=\"color: #0000ff; text-decoration-color: #0000ff\">if</span> shape <span style=\"color: #ff00ff; text-decoration-color: #ff00ff\">is</span> <span style=\"color: #0000ff; text-decoration-color: #0000ff\">None</span>:                                                          <span style=\"color: #ff0000; text-decoration-color: #ff0000\">│</span>\n",
       "<span style=\"color: #ff0000; text-decoration-color: #ff0000\">│</span>   <span style=\"color: #7f7f7f; text-decoration-color: #7f7f7f\"> 510 │   │   │   </span>shape = test_result.shape                                              <span style=\"color: #ff0000; text-decoration-color: #ff0000\">│</span>\n",
       "<span style=\"color: #ff0000; text-decoration-color: #ff0000\">│</span>   <span style=\"color: #7f7f7f; text-decoration-color: #7f7f7f\"> 511 │   │   </span><span style=\"color: #0000ff; text-decoration-color: #0000ff\">if</span> dtype <span style=\"color: #ff00ff; text-decoration-color: #ff00ff\">is</span> <span style=\"color: #0000ff; text-decoration-color: #0000ff\">None</span>:                                                          <span style=\"color: #ff0000; text-decoration-color: #ff0000\">│</span>\n",
       "<span style=\"color: #ff0000; text-decoration-color: #ff0000\">│</span>                                                                                           <span style=\"color: #ff0000; text-decoration-color: #ff0000\">│</span>\n",
       "<span style=\"color: #ff0000; text-decoration-color: #ff0000\">│</span> <span style=\"color: #bfbf7f; text-decoration-color: #bfbf7f\">/tmp/ipykernel_2043/</span><span style=\"color: #808000; text-decoration-color: #808000; font-weight: bold\">2114408459.py</span>:<span style=\"color: #0000ff; text-decoration-color: #0000ff\">2</span> in <span style=\"color: #00ff00; text-decoration-color: #00ff00\">int_score</span>                                          <span style=\"color: #ff0000; text-decoration-color: #ff0000\">│</span>\n",
       "<span style=\"color: #ff0000; text-decoration-color: #ff0000\">│</span>                                                                                           <span style=\"color: #ff0000; text-decoration-color: #ff0000\">│</span>\n",
       "<span style=\"color: #ff0000; text-decoration-color: #ff0000\">│</span> <span style=\"color: #800000; text-decoration-color: #800000; font-style: italic\">[Errno 2] No such file or directory: '/tmp/ipykernel_2043/2114408459.py'</span>                  <span style=\"color: #ff0000; text-decoration-color: #ff0000\">│</span>\n",
       "<span style=\"color: #ff0000; text-decoration-color: #ff0000\">╰───────────────────────────────────────────────────────────────────────────────────────────╯</span>\n",
       "<span style=\"color: #ff0000; text-decoration-color: #ff0000; font-weight: bold\">IndexError: </span>index <span style=\"color: #008080; text-decoration-color: #008080; font-weight: bold\">1</span> is out of bounds for axis <span style=\"color: #008080; text-decoration-color: #008080; font-weight: bold\">0</span> with size <span style=\"color: #008080; text-decoration-color: #008080; font-weight: bold\">1</span>\n",
       "</pre>\n"
      ],
      "text/plain": [
       "\u001b[91m╭─\u001b[0m\u001b[91m─────────────────────────── \u001b[0m\u001b[1;31mTraceback \u001b[0m\u001b[1;2;31m(most recent call last)\u001b[0m\u001b[91m ───────────────────────────\u001b[0m\u001b[91m─╮\u001b[0m\n",
       "\u001b[91m│\u001b[0m                                                                                           \u001b[91m│\u001b[0m\n",
       "\u001b[91m│\u001b[0m \u001b[2;33m/tmp/ipykernel_2043/\u001b[0m\u001b[1;33m725368228.py\u001b[0m:\u001b[94m1\u001b[0m in \u001b[92m<module>\u001b[0m                                            \u001b[91m│\u001b[0m\n",
       "\u001b[91m│\u001b[0m                                                                                           \u001b[91m│\u001b[0m\n",
       "\u001b[91m│\u001b[0m \u001b[3;31m[Errno 2] No such file or directory: '/tmp/ipykernel_2043/725368228.py'\u001b[0m                   \u001b[91m│\u001b[0m\n",
       "\u001b[91m│\u001b[0m \u001b[2;33m/home/rahit/.cache/pypoetry/virtualenvs/gemo-data-DHiuQg47-py3.8/lib/python3.8/site-packa\u001b[0m \u001b[91m│\u001b[0m\n",
       "\u001b[91m│\u001b[0m \u001b[2;33mges/dask/array/\u001b[0m\u001b[1;33mroutines.py\u001b[0m:\u001b[94m508\u001b[0m in \u001b[92mapply_along_axis\u001b[0m                                        \u001b[91m│\u001b[0m\n",
       "\u001b[91m│\u001b[0m                                                                                           \u001b[91m│\u001b[0m\n",
       "\u001b[91m│\u001b[0m   \u001b[2m 505 \u001b[0m\u001b[2m│   \u001b[0m\u001b[2m# If necessary, infer dtype and shape of the output of func1d by calling it on\u001b[0m \u001b[91m│\u001b[0m\n",
       "\u001b[91m│\u001b[0m   \u001b[2m 506 \u001b[0m\u001b[2m│   \u001b[0m\u001b[94mif\u001b[0m shape \u001b[95mis\u001b[0m \u001b[94mNone\u001b[0m \u001b[95mor\u001b[0m dtype \u001b[95mis\u001b[0m \u001b[94mNone\u001b[0m:                                             \u001b[91m│\u001b[0m\n",
       "\u001b[91m│\u001b[0m   \u001b[2m 507 \u001b[0m\u001b[2m│   │   \u001b[0mtest_data = np.ones((\u001b[94m1\u001b[0m,), dtype=arr.dtype)                                 \u001b[91m│\u001b[0m\n",
       "\u001b[91m│\u001b[0m \u001b[31m❱ \u001b[0m 508 \u001b[2m│   │   \u001b[0mtest_result = np.array(func1d(test_data, *args, **kwargs))                 \u001b[91m│\u001b[0m\n",
       "\u001b[91m│\u001b[0m   \u001b[2m 509 \u001b[0m\u001b[2m│   │   \u001b[0m\u001b[94mif\u001b[0m shape \u001b[95mis\u001b[0m \u001b[94mNone\u001b[0m:                                                          \u001b[91m│\u001b[0m\n",
       "\u001b[91m│\u001b[0m   \u001b[2m 510 \u001b[0m\u001b[2m│   │   │   \u001b[0mshape = test_result.shape                                              \u001b[91m│\u001b[0m\n",
       "\u001b[91m│\u001b[0m   \u001b[2m 511 \u001b[0m\u001b[2m│   │   \u001b[0m\u001b[94mif\u001b[0m dtype \u001b[95mis\u001b[0m \u001b[94mNone\u001b[0m:                                                          \u001b[91m│\u001b[0m\n",
       "\u001b[91m│\u001b[0m                                                                                           \u001b[91m│\u001b[0m\n",
       "\u001b[91m│\u001b[0m \u001b[2;33m/tmp/ipykernel_2043/\u001b[0m\u001b[1;33m2114408459.py\u001b[0m:\u001b[94m2\u001b[0m in \u001b[92mint_score\u001b[0m                                          \u001b[91m│\u001b[0m\n",
       "\u001b[91m│\u001b[0m                                                                                           \u001b[91m│\u001b[0m\n",
       "\u001b[91m│\u001b[0m \u001b[3;31m[Errno 2] No such file or directory: '/tmp/ipykernel_2043/2114408459.py'\u001b[0m                  \u001b[91m│\u001b[0m\n",
       "\u001b[91m╰───────────────────────────────────────────────────────────────────────────────────────────╯\u001b[0m\n",
       "\u001b[1;91mIndexError: \u001b[0mindex \u001b[1;36m1\u001b[0m is out of bounds for axis \u001b[1;36m0\u001b[0m with size \u001b[1;36m1\u001b[0m\n"
      ]
     },
     "metadata": {},
     "output_type": "display_data"
    }
   ],
   "source": [
    "result = da.apply_along_axis(int_score, 1, adj_mtx, protein_interaction_df=protein_interaction_df, protein_alias_df=protein_alias_df)\n",
    "\n",
    "time1 = time.time()\n",
    "result = result.compute()\n",
    "print('Result computed:', elapsed(time1))"
   ]
  },
  {
   "cell_type": "code",
   "execution_count": 17,
   "id": "a9852963-7864-4cde-8bf4-0f0856dd54a6",
   "metadata": {},
   "outputs": [
    {
     "data": {
      "application/vnd.jupyter.widget-view+json": {
       "model_id": "a712a3fe31c640fba3160122d08315a9",
       "version_major": 2,
       "version_minor": 0
      },
      "text/plain": [
       "  0%|          | 0/14437251 [00:00<?, ?it/s]"
      ]
     },
     "metadata": {},
     "output_type": "display_data"
    },
    {
     "data": {
      "text/html": [
       "<pre style=\"white-space:pre;overflow-x:auto;line-height:normal;font-family:Menlo,'DejaVu Sans Mono',consolas,'Courier New',monospace\"><span style=\"color: #ff0000; text-decoration-color: #ff0000\">╭──────────────────────────── </span><span style=\"color: #800000; text-decoration-color: #800000; font-weight: bold\">Traceback </span><span style=\"color: #bf7f7f; text-decoration-color: #bf7f7f; font-weight: bold\">(most recent call last)</span><span style=\"color: #ff0000; text-decoration-color: #ff0000\"> ────────────────────────────╮</span>\n",
       "<span style=\"color: #ff0000; text-decoration-color: #ff0000\">│</span>                                                                                           <span style=\"color: #ff0000; text-decoration-color: #ff0000\">│</span>\n",
       "<span style=\"color: #ff0000; text-decoration-color: #ff0000\">│</span> <span style=\"color: #bfbf7f; text-decoration-color: #bfbf7f\">/tmp/ipykernel_2043/</span><span style=\"color: #808000; text-decoration-color: #808000; font-weight: bold\">2146878348.py</span>:<span style=\"color: #0000ff; text-decoration-color: #0000ff\">2</span> in <span style=\"color: #00ff00; text-decoration-color: #00ff00\">&lt;module&gt;</span>                                           <span style=\"color: #ff0000; text-decoration-color: #ff0000\">│</span>\n",
       "<span style=\"color: #ff0000; text-decoration-color: #ff0000\">│</span>                                                                                           <span style=\"color: #ff0000; text-decoration-color: #ff0000\">│</span>\n",
       "<span style=\"color: #ff0000; text-decoration-color: #ff0000\">│</span> <span style=\"color: #800000; text-decoration-color: #800000; font-style: italic\">[Errno 2] No such file or directory: '/tmp/ipykernel_2043/2146878348.py'</span>                  <span style=\"color: #ff0000; text-decoration-color: #ff0000\">│</span>\n",
       "<span style=\"color: #ff0000; text-decoration-color: #ff0000\">│</span> <span style=\"color: #bfbf7f; text-decoration-color: #bfbf7f\">/tmp/ipykernel_2043/</span><span style=\"color: #808000; text-decoration-color: #808000; font-weight: bold\">1766830248.py</span>:<span style=\"color: #0000ff; text-decoration-color: #0000ff\">22</span> in <span style=\"color: #00ff00; text-decoration-color: #00ff00\">get_interaction_score</span>                             <span style=\"color: #ff0000; text-decoration-color: #ff0000\">│</span>\n",
       "<span style=\"color: #ff0000; text-decoration-color: #ff0000\">│</span>                                                                                           <span style=\"color: #ff0000; text-decoration-color: #ff0000\">│</span>\n",
       "<span style=\"color: #ff0000; text-decoration-color: #ff0000\">│</span> <span style=\"color: #800000; text-decoration-color: #800000; font-style: italic\">[Errno 2] No such file or directory: '/tmp/ipykernel_2043/1766830248.py'</span>                  <span style=\"color: #ff0000; text-decoration-color: #ff0000\">│</span>\n",
       "<span style=\"color: #ff0000; text-decoration-color: #ff0000\">│</span>                                                                                           <span style=\"color: #ff0000; text-decoration-color: #ff0000\">│</span>\n",
       "<span style=\"color: #ff0000; text-decoration-color: #ff0000\">│</span> <span style=\"color: #bfbf7f; text-decoration-color: #bfbf7f\">/tmp/ipykernel_2043/</span><span style=\"color: #808000; text-decoration-color: #808000; font-weight: bold\">1766830248.py</span>:<span style=\"color: #0000ff; text-decoration-color: #0000ff\">11</span> in <span style=\"color: #00ff00; text-decoration-color: #00ff00\">get_string_protein_id</span>                             <span style=\"color: #ff0000; text-decoration-color: #ff0000\">│</span>\n",
       "<span style=\"color: #ff0000; text-decoration-color: #ff0000\">│</span>                                                                                           <span style=\"color: #ff0000; text-decoration-color: #ff0000\">│</span>\n",
       "<span style=\"color: #ff0000; text-decoration-color: #ff0000\">│</span> <span style=\"color: #800000; text-decoration-color: #800000; font-style: italic\">[Errno 2] No such file or directory: '/tmp/ipykernel_2043/1766830248.py'</span>                  <span style=\"color: #ff0000; text-decoration-color: #ff0000\">│</span>\n",
       "<span style=\"color: #ff0000; text-decoration-color: #ff0000\">│</span>                                                                                           <span style=\"color: #ff0000; text-decoration-color: #ff0000\">│</span>\n",
       "<span style=\"color: #ff0000; text-decoration-color: #ff0000\">│</span> <span style=\"color: #bfbf7f; text-decoration-color: #bfbf7f\">/home/rahit/.cache/pypoetry/virtualenvs/gemo-data-DHiuQg47-py3.8/lib/python3.8/site-packa</span> <span style=\"color: #ff0000; text-decoration-color: #ff0000\">│</span>\n",
       "<span style=\"color: #ff0000; text-decoration-color: #ff0000\">│</span> <span style=\"color: #bfbf7f; text-decoration-color: #bfbf7f\">ges/pandas/core/strings/</span><span style=\"color: #808000; text-decoration-color: #808000; font-weight: bold\">accessor.py</span>:<span style=\"color: #0000ff; text-decoration-color: #0000ff\">129</span> in <span style=\"color: #00ff00; text-decoration-color: #00ff00\">wrapper</span>                                        <span style=\"color: #ff0000; text-decoration-color: #ff0000\">│</span>\n",
       "<span style=\"color: #ff0000; text-decoration-color: #ff0000\">│</span>                                                                                           <span style=\"color: #ff0000; text-decoration-color: #ff0000\">│</span>\n",
       "<span style=\"color: #ff0000; text-decoration-color: #ff0000\">│</span>   <span style=\"color: #7f7f7f; text-decoration-color: #7f7f7f\"> 126 │   │   │   │   │   </span><span style=\"color: #808000; text-decoration-color: #808000\">f\"inferred dtype '{</span><span style=\"color: #00ffff; text-decoration-color: #00ffff\">self</span>._inferred_dtype<span style=\"color: #808000; text-decoration-color: #808000\">}'.\"</span>                    <span style=\"color: #ff0000; text-decoration-color: #ff0000\">│</span>\n",
       "<span style=\"color: #ff0000; text-decoration-color: #ff0000\">│</span>   <span style=\"color: #7f7f7f; text-decoration-color: #7f7f7f\"> 127 │   │   │   │   </span>)                                                                  <span style=\"color: #ff0000; text-decoration-color: #ff0000\">│</span>\n",
       "<span style=\"color: #ff0000; text-decoration-color: #ff0000\">│</span>   <span style=\"color: #7f7f7f; text-decoration-color: #7f7f7f\"> 128 │   │   │   │   </span><span style=\"color: #0000ff; text-decoration-color: #0000ff\">raise</span> <span style=\"color: #00ffff; text-decoration-color: #00ffff\">TypeError</span>(msg)                                               <span style=\"color: #ff0000; text-decoration-color: #ff0000\">│</span>\n",
       "<span style=\"color: #ff0000; text-decoration-color: #ff0000\">│</span> <span style=\"color: #800000; text-decoration-color: #800000\">❱ </span> 129 <span style=\"color: #7f7f7f; text-decoration-color: #7f7f7f\">│   │   │   </span><span style=\"color: #0000ff; text-decoration-color: #0000ff\">return</span> func(<span style=\"color: #00ffff; text-decoration-color: #00ffff\">self</span>, *args, **kwargs)                                     <span style=\"color: #ff0000; text-decoration-color: #ff0000\">│</span>\n",
       "<span style=\"color: #ff0000; text-decoration-color: #ff0000\">│</span>   <span style=\"color: #7f7f7f; text-decoration-color: #7f7f7f\"> 130 │   │   </span>                                                                           <span style=\"color: #ff0000; text-decoration-color: #ff0000\">│</span>\n",
       "<span style=\"color: #ff0000; text-decoration-color: #ff0000\">│</span>   <span style=\"color: #7f7f7f; text-decoration-color: #7f7f7f\"> 131 │   │   </span>wrapper.<span style=\"color: #ff0000; text-decoration-color: #ff0000\">__name__</span> = func_name                                               <span style=\"color: #ff0000; text-decoration-color: #ff0000\">│</span>\n",
       "<span style=\"color: #ff0000; text-decoration-color: #ff0000\">│</span>   <span style=\"color: #7f7f7f; text-decoration-color: #7f7f7f\"> 132 │   │   </span><span style=\"color: #0000ff; text-decoration-color: #0000ff\">return</span> cast(F, wrapper)                                                    <span style=\"color: #ff0000; text-decoration-color: #ff0000\">│</span>\n",
       "<span style=\"color: #ff0000; text-decoration-color: #ff0000\">│</span>                                                                                           <span style=\"color: #ff0000; text-decoration-color: #ff0000\">│</span>\n",
       "<span style=\"color: #ff0000; text-decoration-color: #ff0000\">│</span> <span style=\"color: #808000; text-decoration-color: #808000\">╭─────────────────────────────────────── locals ────────────────────────────────────────╮</span> <span style=\"color: #ff0000; text-decoration-color: #ff0000\">│</span>\n",
       "<span style=\"color: #ff0000; text-decoration-color: #ff0000\">│</span> <span style=\"color: #808000; text-decoration-color: #808000\">│</span> allowed_types = <span style=\"font-weight: bold\">{</span><span style=\"color: #808000; text-decoration-color: #808000\">'mixed-integer'</span>, <span style=\"color: #808000; text-decoration-color: #808000\">'mixed'</span>, <span style=\"color: #808000; text-decoration-color: #808000\">'string'</span>, <span style=\"color: #808000; text-decoration-color: #808000\">'empty'</span><span style=\"font-weight: bold\">}</span>                         <span style=\"color: #808000; text-decoration-color: #808000\">│</span> <span style=\"color: #ff0000; text-decoration-color: #ff0000\">│</span>\n",
       "<span style=\"color: #ff0000; text-decoration-color: #ff0000\">│</span> <span style=\"color: #808000; text-decoration-color: #808000\">│</span>          args = <span style=\"font-weight: bold\">(</span><span style=\"color: #808000; text-decoration-color: #808000\">'^ $'</span>,<span style=\"font-weight: bold\">)</span>                                                              <span style=\"color: #808000; text-decoration-color: #808000\">│</span> <span style=\"color: #ff0000; text-decoration-color: #ff0000\">│</span>\n",
       "<span style=\"color: #ff0000; text-decoration-color: #ff0000\">│</span> <span style=\"color: #808000; text-decoration-color: #808000\">│</span>          func = <span style=\"font-weight: bold\">&lt;</span><span style=\"color: #ff00ff; text-decoration-color: #ff00ff; font-weight: bold\">function</span><span style=\"color: #000000; text-decoration-color: #000000\"> StringMethods.match at </span><span style=\"color: #0000ff; text-decoration-color: #0000ff\">0x2b886b0e1f70</span><span style=\"font-weight: bold\">&gt;</span>                      <span style=\"color: #808000; text-decoration-color: #808000\">│</span> <span style=\"color: #ff0000; text-decoration-color: #ff0000\">│</span>\n",
       "<span style=\"color: #ff0000; text-decoration-color: #ff0000\">│</span> <span style=\"color: #808000; text-decoration-color: #808000\">│</span>     func_name = <span style=\"color: #808000; text-decoration-color: #808000\">'match'</span>                                                               <span style=\"color: #808000; text-decoration-color: #808000\">│</span> <span style=\"color: #ff0000; text-decoration-color: #ff0000\">│</span>\n",
       "<span style=\"color: #ff0000; text-decoration-color: #ff0000\">│</span> <span style=\"color: #808000; text-decoration-color: #808000\">│</span>        kwargs = <span style=\"font-weight: bold\">{</span><span style=\"color: #808000; text-decoration-color: #808000\">'case'</span>: <span style=\"color: #0000ff; text-decoration-color: #0000ff\">False</span><span style=\"font-weight: bold\">}</span>                                                       <span style=\"color: #808000; text-decoration-color: #808000\">│</span> <span style=\"color: #ff0000; text-decoration-color: #ff0000\">│</span>\n",
       "<span style=\"color: #ff0000; text-decoration-color: #ff0000\">│</span> <span style=\"color: #808000; text-decoration-color: #808000\">│</span>          self = <span style=\"font-weight: bold\">&lt;</span><span style=\"color: #ff00ff; text-decoration-color: #ff00ff; font-weight: bold\">pandas.core.strings.accessor.StringMethods</span><span style=\"color: #000000; text-decoration-color: #000000\"> object at </span><span style=\"color: #0000ff; text-decoration-color: #0000ff\">0x2b8957da8550</span><span style=\"font-weight: bold\">&gt;</span> <span style=\"color: #808000; text-decoration-color: #808000\">│</span> <span style=\"color: #ff0000; text-decoration-color: #ff0000\">│</span>\n",
       "<span style=\"color: #ff0000; text-decoration-color: #ff0000\">│</span> <span style=\"color: #808000; text-decoration-color: #808000\">╰───────────────────────────────────────────────────────────────────────────────────────╯</span> <span style=\"color: #ff0000; text-decoration-color: #ff0000\">│</span>\n",
       "<span style=\"color: #ff0000; text-decoration-color: #ff0000\">│</span>                                                                                           <span style=\"color: #ff0000; text-decoration-color: #ff0000\">│</span>\n",
       "<span style=\"color: #ff0000; text-decoration-color: #ff0000\">│</span> <span style=\"color: #bfbf7f; text-decoration-color: #bfbf7f\">/home/rahit/.cache/pypoetry/virtualenvs/gemo-data-DHiuQg47-py3.8/lib/python3.8/site-packa</span> <span style=\"color: #ff0000; text-decoration-color: #ff0000\">│</span>\n",
       "<span style=\"color: #ff0000; text-decoration-color: #ff0000\">│</span> <span style=\"color: #bfbf7f; text-decoration-color: #bfbf7f\">ges/pandas/core/strings/</span><span style=\"color: #808000; text-decoration-color: #808000; font-weight: bold\">accessor.py</span>:<span style=\"color: #0000ff; text-decoration-color: #0000ff\">1292</span> in <span style=\"color: #00ff00; text-decoration-color: #00ff00\">match</span>                                         <span style=\"color: #ff0000; text-decoration-color: #ff0000\">│</span>\n",
       "<span style=\"color: #ff0000; text-decoration-color: #ff0000\">│</span>                                                                                           <span style=\"color: #ff0000; text-decoration-color: #ff0000\">│</span>\n",
       "<span style=\"color: #ff0000; text-decoration-color: #ff0000\">│</span>   <span style=\"color: #7f7f7f; text-decoration-color: #7f7f7f\">1289 </span><span style=\"color: #bfbf7f; text-decoration-color: #bfbf7f\">│   │   │   </span><span style=\"color: #808000; text-decoration-color: #808000\">re.match.</span>                                                              <span style=\"color: #ff0000; text-decoration-color: #ff0000\">│</span>\n",
       "<span style=\"color: #ff0000; text-decoration-color: #ff0000\">│</span>   <span style=\"color: #7f7f7f; text-decoration-color: #7f7f7f\">1290 </span><span style=\"color: #bfbf7f; text-decoration-color: #bfbf7f\">│   │   </span><span style=\"color: #808000; text-decoration-color: #808000\">extract : Extract matched groups.</span>                                          <span style=\"color: #ff0000; text-decoration-color: #ff0000\">│</span>\n",
       "<span style=\"color: #ff0000; text-decoration-color: #ff0000\">│</span>   <span style=\"color: #7f7f7f; text-decoration-color: #7f7f7f\">1291 </span><span style=\"color: #bfbf7f; text-decoration-color: #bfbf7f\">│   │   </span><span style=\"color: #808000; text-decoration-color: #808000\">\"\"\"</span>                                                                        <span style=\"color: #ff0000; text-decoration-color: #ff0000\">│</span>\n",
       "<span style=\"color: #ff0000; text-decoration-color: #ff0000\">│</span> <span style=\"color: #800000; text-decoration-color: #800000\">❱ </span>1292 <span style=\"color: #7f7f7f; text-decoration-color: #7f7f7f\">│   │   </span>result = <span style=\"color: #00ffff; text-decoration-color: #00ffff\">self</span>._data.array._str_match(pat, case=case, flags=flags, na=na)   <span style=\"color: #ff0000; text-decoration-color: #ff0000\">│</span>\n",
       "<span style=\"color: #ff0000; text-decoration-color: #ff0000\">│</span>   <span style=\"color: #7f7f7f; text-decoration-color: #7f7f7f\">1293 │   │   </span><span style=\"color: #0000ff; text-decoration-color: #0000ff\">return</span> <span style=\"color: #00ffff; text-decoration-color: #00ffff\">self</span>._wrap_result(result, fill_value=na, returns_string=<span style=\"color: #0000ff; text-decoration-color: #0000ff\">False</span>)      <span style=\"color: #ff0000; text-decoration-color: #ff0000\">│</span>\n",
       "<span style=\"color: #ff0000; text-decoration-color: #ff0000\">│</span>   <span style=\"color: #7f7f7f; text-decoration-color: #7f7f7f\">1294 │   </span>                                                                               <span style=\"color: #ff0000; text-decoration-color: #ff0000\">│</span>\n",
       "<span style=\"color: #ff0000; text-decoration-color: #ff0000\">│</span>   <span style=\"color: #7f7f7f; text-decoration-color: #7f7f7f\">1295 │   </span><span style=\"color: #ff00ff; text-decoration-color: #ff00ff; font-weight: bold\">@forbid_nonstring_types</span>([<span style=\"color: #808000; text-decoration-color: #808000\">\"bytes\"</span>])                                             <span style=\"color: #ff0000; text-decoration-color: #ff0000\">│</span>\n",
       "<span style=\"color: #ff0000; text-decoration-color: #ff0000\">│</span>                                                                                           <span style=\"color: #ff0000; text-decoration-color: #ff0000\">│</span>\n",
       "<span style=\"color: #ff0000; text-decoration-color: #ff0000\">│</span> <span style=\"color: #808000; text-decoration-color: #808000\">╭─────────────────────────────────── locals ────────────────────────────────────╮</span>         <span style=\"color: #ff0000; text-decoration-color: #ff0000\">│</span>\n",
       "<span style=\"color: #ff0000; text-decoration-color: #ff0000\">│</span> <span style=\"color: #808000; text-decoration-color: #808000\">│</span>  case = <span style=\"color: #0000ff; text-decoration-color: #0000ff\">False</span>                                                                 <span style=\"color: #808000; text-decoration-color: #808000\">│</span>         <span style=\"color: #ff0000; text-decoration-color: #ff0000\">│</span>\n",
       "<span style=\"color: #ff0000; text-decoration-color: #ff0000\">│</span> <span style=\"color: #808000; text-decoration-color: #808000\">│</span> flags = <span style=\"color: #0000ff; text-decoration-color: #0000ff\">0</span>                                                                     <span style=\"color: #808000; text-decoration-color: #808000\">│</span>         <span style=\"color: #ff0000; text-decoration-color: #ff0000\">│</span>\n",
       "<span style=\"color: #ff0000; text-decoration-color: #ff0000\">│</span> <span style=\"color: #808000; text-decoration-color: #808000\">│</span>    na = <span style=\"color: #0000ff; text-decoration-color: #0000ff\">None</span>                                                                  <span style=\"color: #808000; text-decoration-color: #808000\">│</span>         <span style=\"color: #ff0000; text-decoration-color: #ff0000\">│</span>\n",
       "<span style=\"color: #ff0000; text-decoration-color: #ff0000\">│</span> <span style=\"color: #808000; text-decoration-color: #808000\">│</span>   pat = <span style=\"color: #808000; text-decoration-color: #808000\">'^ $'</span>                                                                 <span style=\"color: #808000; text-decoration-color: #808000\">│</span>         <span style=\"color: #ff0000; text-decoration-color: #ff0000\">│</span>\n",
       "<span style=\"color: #ff0000; text-decoration-color: #ff0000\">│</span> <span style=\"color: #808000; text-decoration-color: #808000\">│</span>  self = <span style=\"font-weight: bold\">&lt;</span><span style=\"color: #ff00ff; text-decoration-color: #ff00ff; font-weight: bold\">pandas.core.strings.accessor.StringMethods</span><span style=\"color: #000000; text-decoration-color: #000000\"> object at </span><span style=\"color: #0000ff; text-decoration-color: #0000ff\">0x2b8957da8550</span><span style=\"font-weight: bold\">&gt;</span> <span style=\"color: #808000; text-decoration-color: #808000\">│</span>         <span style=\"color: #ff0000; text-decoration-color: #ff0000\">│</span>\n",
       "<span style=\"color: #ff0000; text-decoration-color: #ff0000\">│</span> <span style=\"color: #808000; text-decoration-color: #808000\">╰───────────────────────────────────────────────────────────────────────────────╯</span>         <span style=\"color: #ff0000; text-decoration-color: #ff0000\">│</span>\n",
       "<span style=\"color: #ff0000; text-decoration-color: #ff0000\">│</span>                                                                                           <span style=\"color: #ff0000; text-decoration-color: #ff0000\">│</span>\n",
       "<span style=\"color: #ff0000; text-decoration-color: #ff0000\">│</span> <span style=\"color: #bfbf7f; text-decoration-color: #bfbf7f\">/home/rahit/.cache/pypoetry/virtualenvs/gemo-data-DHiuQg47-py3.8/lib/python3.8/site-packa</span> <span style=\"color: #ff0000; text-decoration-color: #ff0000\">│</span>\n",
       "<span style=\"color: #ff0000; text-decoration-color: #ff0000\">│</span> <span style=\"color: #bfbf7f; text-decoration-color: #bfbf7f\">ges/pandas/core/strings/</span><span style=\"color: #808000; text-decoration-color: #808000; font-weight: bold\">object_array.py</span>:<span style=\"color: #0000ff; text-decoration-color: #0000ff\">204</span> in <span style=\"color: #00ff00; text-decoration-color: #00ff00\">_str_match</span>                                 <span style=\"color: #ff0000; text-decoration-color: #ff0000\">│</span>\n",
       "<span style=\"color: #ff0000; text-decoration-color: #ff0000\">│</span>                                                                                           <span style=\"color: #ff0000; text-decoration-color: #ff0000\">│</span>\n",
       "<span style=\"color: #ff0000; text-decoration-color: #ff0000\">│</span>   <span style=\"color: #7f7f7f; text-decoration-color: #7f7f7f\">201 │   │   </span>regex = re.compile(pat, flags=flags)                                        <span style=\"color: #ff0000; text-decoration-color: #ff0000\">│</span>\n",
       "<span style=\"color: #ff0000; text-decoration-color: #ff0000\">│</span>   <span style=\"color: #7f7f7f; text-decoration-color: #7f7f7f\">202 │   │   </span>                                                                            <span style=\"color: #ff0000; text-decoration-color: #ff0000\">│</span>\n",
       "<span style=\"color: #ff0000; text-decoration-color: #ff0000\">│</span>   <span style=\"color: #7f7f7f; text-decoration-color: #7f7f7f\">203 │   │   </span>f = <span style=\"color: #0000ff; text-decoration-color: #0000ff\">lambda</span> x: regex.match(x) <span style=\"color: #ff00ff; text-decoration-color: #ff00ff\">is</span> <span style=\"color: #ff00ff; text-decoration-color: #ff00ff\">not</span> <span style=\"color: #0000ff; text-decoration-color: #0000ff\">None</span>                                    <span style=\"color: #ff0000; text-decoration-color: #ff0000\">│</span>\n",
       "<span style=\"color: #ff0000; text-decoration-color: #ff0000\">│</span> <span style=\"color: #800000; text-decoration-color: #800000\">❱ </span>204 <span style=\"color: #7f7f7f; text-decoration-color: #7f7f7f\">│   │   </span><span style=\"color: #0000ff; text-decoration-color: #0000ff\">return</span> <span style=\"color: #00ffff; text-decoration-color: #00ffff\">self</span>._str_map(f, na_value=na, dtype=np.dtype(<span style=\"color: #00ffff; text-decoration-color: #00ffff\">bool</span>))                  <span style=\"color: #ff0000; text-decoration-color: #ff0000\">│</span>\n",
       "<span style=\"color: #ff0000; text-decoration-color: #ff0000\">│</span>   <span style=\"color: #7f7f7f; text-decoration-color: #7f7f7f\">205 │   </span>                                                                                <span style=\"color: #ff0000; text-decoration-color: #ff0000\">│</span>\n",
       "<span style=\"color: #ff0000; text-decoration-color: #ff0000\">│</span>   <span style=\"color: #7f7f7f; text-decoration-color: #7f7f7f\">206 │   </span><span style=\"color: #0000ff; text-decoration-color: #0000ff\">def</span> <span style=\"color: #00ff00; text-decoration-color: #00ff00\">_str_fullmatch</span>(                                                             <span style=\"color: #ff0000; text-decoration-color: #ff0000\">│</span>\n",
       "<span style=\"color: #ff0000; text-decoration-color: #ff0000\">│</span>   <span style=\"color: #7f7f7f; text-decoration-color: #7f7f7f\">207 │   │   </span><span style=\"color: #00ffff; text-decoration-color: #00ffff\">self</span>,                                                                       <span style=\"color: #ff0000; text-decoration-color: #ff0000\">│</span>\n",
       "<span style=\"color: #ff0000; text-decoration-color: #ff0000\">│</span>                                                                                           <span style=\"color: #ff0000; text-decoration-color: #ff0000\">│</span>\n",
       "<span style=\"color: #ff0000; text-decoration-color: #ff0000\">│</span> <span style=\"color: #808000; text-decoration-color: #808000\">╭─────────────────────────────────────── locals ────────────────────────────────────────╮</span> <span style=\"color: #ff0000; text-decoration-color: #ff0000\">│</span>\n",
       "<span style=\"color: #ff0000; text-decoration-color: #ff0000\">│</span> <span style=\"color: #808000; text-decoration-color: #808000\">│</span>  case = <span style=\"color: #0000ff; text-decoration-color: #0000ff\">False</span>                                                                         <span style=\"color: #808000; text-decoration-color: #808000\">│</span> <span style=\"color: #ff0000; text-decoration-color: #ff0000\">│</span>\n",
       "<span style=\"color: #ff0000; text-decoration-color: #ff0000\">│</span> <span style=\"color: #808000; text-decoration-color: #808000\">│</span>     f = <span style=\"font-weight: bold\">&lt;</span><span style=\"color: #ff00ff; text-decoration-color: #ff00ff; font-weight: bold\">function</span><span style=\"color: #000000; text-decoration-color: #000000\"> ObjectStringArrayMixin._str_match.&lt;locals</span><span style=\"font-weight: bold\">&gt;</span>.<span style=\"font-weight: bold\">&lt;</span><span style=\"color: #ff00ff; text-decoration-color: #ff00ff; font-weight: bold\">lambda</span><span style=\"font-weight: bold\">&gt;</span> at              <span style=\"color: #808000; text-decoration-color: #808000\">│</span> <span style=\"color: #ff0000; text-decoration-color: #ff0000\">│</span>\n",
       "<span style=\"color: #ff0000; text-decoration-color: #ff0000\">│</span> <span style=\"color: #808000; text-decoration-color: #808000\">│</span>         <span style=\"color: #0000ff; text-decoration-color: #0000ff\">0x2b895c75d940</span>&gt;                                                               <span style=\"color: #808000; text-decoration-color: #808000\">│</span> <span style=\"color: #ff0000; text-decoration-color: #ff0000\">│</span>\n",
       "<span style=\"color: #ff0000; text-decoration-color: #ff0000\">│</span> <span style=\"color: #808000; text-decoration-color: #808000\">│</span> flags = re.IGNORECASE                                                                 <span style=\"color: #808000; text-decoration-color: #808000\">│</span> <span style=\"color: #ff0000; text-decoration-color: #ff0000\">│</span>\n",
       "<span style=\"color: #ff0000; text-decoration-color: #ff0000\">│</span> <span style=\"color: #808000; text-decoration-color: #808000\">│</span>    na = <span style=\"color: #0000ff; text-decoration-color: #0000ff\">None</span>                                                                          <span style=\"color: #808000; text-decoration-color: #808000\">│</span> <span style=\"color: #ff0000; text-decoration-color: #ff0000\">│</span>\n",
       "<span style=\"color: #ff0000; text-decoration-color: #ff0000\">│</span> <span style=\"color: #808000; text-decoration-color: #808000\">│</span>   pat = <span style=\"color: #808000; text-decoration-color: #808000\">'^ $'</span>                                                                         <span style=\"color: #808000; text-decoration-color: #808000\">│</span> <span style=\"color: #ff0000; text-decoration-color: #ff0000\">│</span>\n",
       "<span style=\"color: #ff0000; text-decoration-color: #ff0000\">│</span> <span style=\"color: #808000; text-decoration-color: #808000\">│</span> regex = <span style=\"color: #800080; text-decoration-color: #800080; font-weight: bold\">re.compile</span><span style=\"font-weight: bold\">(</span><span style=\"color: #808000; text-decoration-color: #808000\">'^ $'</span>, re.IGNORECASE<span style=\"font-weight: bold\">)</span>                                              <span style=\"color: #808000; text-decoration-color: #808000\">│</span> <span style=\"color: #ff0000; text-decoration-color: #ff0000\">│</span>\n",
       "<span style=\"color: #ff0000; text-decoration-color: #ff0000\">│</span> <span style=\"color: #808000; text-decoration-color: #808000\">│</span>  self = <span style=\"font-weight: bold\">&lt;</span><span style=\"color: #ff00ff; text-decoration-color: #ff00ff; font-weight: bold\">PandasArray</span><span style=\"font-weight: bold\">&gt;</span>                                                                 <span style=\"color: #808000; text-decoration-color: #808000\">│</span> <span style=\"color: #ff0000; text-decoration-color: #ff0000\">│</span>\n",
       "<span style=\"color: #ff0000; text-decoration-color: #ff0000\">│</span> <span style=\"color: #808000; text-decoration-color: #808000\">│</span>         <span style=\"font-weight: bold\">[</span>                                   <span style=\"color: #808000; text-decoration-color: #808000\">'1.-.-.-'</span>,                                <span style=\"color: #808000; text-decoration-color: #808000\">│</span> <span style=\"color: #ff0000; text-decoration-color: #ff0000\">│</span>\n",
       "<span style=\"color: #ff0000; text-decoration-color: #ff0000\">│</span> <span style=\"color: #808000; text-decoration-color: #808000\">│</span>         <span style=\"color: #7f7f7f; text-decoration-color: #7f7f7f\">│   │   │   │   │   │   │   │   │   </span><span style=\"color: #808000; text-decoration-color: #808000\">'1.-.-.-'</span>,                                <span style=\"color: #808000; text-decoration-color: #808000\">│</span> <span style=\"color: #ff0000; text-decoration-color: #ff0000\">│</span>\n",
       "<span style=\"color: #ff0000; text-decoration-color: #ff0000\">│</span> <span style=\"color: #808000; text-decoration-color: #808000\">│</span>         <span style=\"color: #7f7f7f; text-decoration-color: #7f7f7f\">│   │   │   │   │   │   │   │   │   </span><span style=\"color: #808000; text-decoration-color: #808000\">'1.-.-.-'</span>,                                <span style=\"color: #808000; text-decoration-color: #808000\">│</span> <span style=\"color: #ff0000; text-decoration-color: #ff0000\">│</span>\n",
       "<span style=\"color: #ff0000; text-decoration-color: #ff0000\">│</span> <span style=\"color: #808000; text-decoration-color: #808000\">│</span>         <span style=\"color: #7f7f7f; text-decoration-color: #7f7f7f\">│   </span><span style=\"color: #808000; text-decoration-color: #808000\">'10-formyltetrahydrofolate dehydrogenase'</span>,                                <span style=\"color: #808000; text-decoration-color: #808000\">│</span> <span style=\"color: #ff0000; text-decoration-color: #ff0000\">│</span>\n",
       "<span style=\"color: #ff0000; text-decoration-color: #ff0000\">│</span> <span style=\"color: #808000; text-decoration-color: #808000\">│</span>         <span style=\"color: #7f7f7f; text-decoration-color: #7f7f7f\">│   │   │   │   │   │   │   │   │   </span><span style=\"color: #808000; text-decoration-color: #808000\">'1.1.-.-'</span>,                                <span style=\"color: #808000; text-decoration-color: #808000\">│</span> <span style=\"color: #ff0000; text-decoration-color: #ff0000\">│</span>\n",
       "<span style=\"color: #ff0000; text-decoration-color: #ff0000\">│</span> <span style=\"color: #808000; text-decoration-color: #808000\">│</span>         <span style=\"color: #7f7f7f; text-decoration-color: #7f7f7f\">│   │   │   │   │   │   │   │   │   </span><span style=\"color: #808000; text-decoration-color: #808000\">'1.1.-.-'</span>,                                <span style=\"color: #808000; text-decoration-color: #808000\">│</span> <span style=\"color: #ff0000; text-decoration-color: #ff0000\">│</span>\n",
       "<span style=\"color: #ff0000; text-decoration-color: #ff0000\">│</span> <span style=\"color: #808000; text-decoration-color: #808000\">│</span>         <span style=\"color: #7f7f7f; text-decoration-color: #7f7f7f\">│   │   │   │   │   │   │   │   │   </span><span style=\"color: #808000; text-decoration-color: #808000\">'1.1.-.-'</span>,                                <span style=\"color: #808000; text-decoration-color: #808000\">│</span> <span style=\"color: #ff0000; text-decoration-color: #ff0000\">│</span>\n",
       "<span style=\"color: #ff0000; text-decoration-color: #ff0000\">│</span> <span style=\"color: #808000; text-decoration-color: #808000\">│</span>         <span style=\"color: #7f7f7f; text-decoration-color: #7f7f7f\">│   │   │   │   │   │   │   │   │   </span><span style=\"color: #808000; text-decoration-color: #808000\">'1.1.-.-'</span>,                                <span style=\"color: #808000; text-decoration-color: #808000\">│</span> <span style=\"color: #ff0000; text-decoration-color: #ff0000\">│</span>\n",
       "<span style=\"color: #ff0000; text-decoration-color: #ff0000\">│</span> <span style=\"color: #808000; text-decoration-color: #808000\">│</span>         <span style=\"color: #7f7f7f; text-decoration-color: #7f7f7f\">│   │   │   │   │   │   │   │   │   </span><span style=\"color: #808000; text-decoration-color: #808000\">'1.1.-.-'</span>,                                <span style=\"color: #808000; text-decoration-color: #808000\">│</span> <span style=\"color: #ff0000; text-decoration-color: #ff0000\">│</span>\n",
       "<span style=\"color: #ff0000; text-decoration-color: #ff0000\">│</span> <span style=\"color: #808000; text-decoration-color: #808000\">│</span>         <span style=\"color: #7f7f7f; text-decoration-color: #7f7f7f\">│   │   │   │   │   │   │   │   │   </span><span style=\"color: #808000; text-decoration-color: #808000\">'1.1.-.-'</span>,                                <span style=\"color: #808000; text-decoration-color: #808000\">│</span> <span style=\"color: #ff0000; text-decoration-color: #ff0000\">│</span>\n",
       "<span style=\"color: #ff0000; text-decoration-color: #ff0000\">│</span> <span style=\"color: #808000; text-decoration-color: #808000\">│</span>         <span style=\"color: #7f7f7f; text-decoration-color: #7f7f7f\"> </span><span style=\"color: #808000; text-decoration-color: #808000\">...</span>                                                                          <span style=\"color: #808000; text-decoration-color: #808000\">│</span> <span style=\"color: #ff0000; text-decoration-color: #ff0000\">│</span>\n",
       "<span style=\"color: #ff0000; text-decoration-color: #ff0000\">│</span> <span style=\"color: #808000; text-decoration-color: #808000\">│</span>         <span style=\"color: #7f7f7f; text-decoration-color: #7f7f7f\">│   │   │   │   │   │   │   │   </span><span style=\"color: #808000; text-decoration-color: #808000\">'CELE_6R55.2'</span>,                                <span style=\"color: #808000; text-decoration-color: #808000\">│</span> <span style=\"color: #ff0000; text-decoration-color: #ff0000\">│</span>\n",
       "<span style=\"color: #ff0000; text-decoration-color: #ff0000\">│</span> <span style=\"color: #808000; text-decoration-color: #808000\">│</span>         <span style=\"color: #7f7f7f; text-decoration-color: #7f7f7f\">│   │   │   │   │   │   │   │      </span><span style=\"color: #808000; text-decoration-color: #808000\">'FO080088'</span>,                                <span style=\"color: #808000; text-decoration-color: #808000\">│</span> <span style=\"color: #ff0000; text-decoration-color: #ff0000\">│</span>\n",
       "<span style=\"color: #ff0000; text-decoration-color: #ff0000\">│</span> <span style=\"color: #808000; text-decoration-color: #808000\">│</span>         <span style=\"color: #7f7f7f; text-decoration-color: #7f7f7f\">│   │   │   │   │   │   │   │     </span><span style=\"color: #808000; text-decoration-color: #808000\">'NM_078462'</span>,                                <span style=\"color: #808000; text-decoration-color: #808000\">│</span> <span style=\"color: #ff0000; text-decoration-color: #ff0000\">│</span>\n",
       "<span style=\"color: #ff0000; text-decoration-color: #ff0000\">│</span> <span style=\"color: #808000; text-decoration-color: #808000\">│</span>         <span style=\"color: #7f7f7f; text-decoration-color: #7f7f7f\">│   │   │   │   │   │   │   │   </span><span style=\"color: #808000; text-decoration-color: #808000\">'NM_078462.2'</span>,                                <span style=\"color: #808000; text-decoration-color: #808000\">│</span> <span style=\"color: #ff0000; text-decoration-color: #ff0000\">│</span>\n",
       "<span style=\"color: #ff0000; text-decoration-color: #ff0000\">│</span> <span style=\"color: #808000; text-decoration-color: #808000\">│</span>         <span style=\"color: #7f7f7f; text-decoration-color: #7f7f7f\">│   │   │   │   │   │   │   │     </span><span style=\"color: #808000; text-decoration-color: #808000\">'NP_510863'</span>,                                <span style=\"color: #808000; text-decoration-color: #808000\">│</span> <span style=\"color: #ff0000; text-decoration-color: #ff0000\">│</span>\n",
       "<span style=\"color: #ff0000; text-decoration-color: #ff0000\">│</span> <span style=\"color: #808000; text-decoration-color: #808000\">│</span>         <span style=\"color: #7f7f7f; text-decoration-color: #7f7f7f\">│   │   │   │   │   │   │   │   </span><span style=\"color: #808000; text-decoration-color: #808000\">'NP_510863.2'</span>,                                <span style=\"color: #808000; text-decoration-color: #808000\">│</span> <span style=\"color: #ff0000; text-decoration-color: #ff0000\">│</span>\n",
       "<span style=\"color: #ff0000; text-decoration-color: #ff0000\">│</span> <span style=\"color: #808000; text-decoration-color: #808000\">│</span>         <span style=\"color: #7f7f7f; text-decoration-color: #7f7f7f\"> </span><span style=\"color: #808000; text-decoration-color: #808000\">'Protein 6R55.2 </span><span style=\"color: #808000; text-decoration-color: #808000; font-weight: bold\">(</span><span style=\"color: #808000; text-decoration-color: #808000\">6R55.2</span><span style=\"color: #808000; text-decoration-color: #808000; font-weight: bold\">)</span><span style=\"color: #808000; text-decoration-color: #808000\"> mRNA, complete cds'</span>,                                <span style=\"color: #808000; text-decoration-color: #808000\">│</span> <span style=\"color: #ff0000; text-decoration-color: #ff0000\">│</span>\n",
       "<span style=\"color: #ff0000; text-decoration-color: #ff0000\">│</span> <span style=\"color: #808000; text-decoration-color: #808000\">│</span>         <span style=\"color: #7f7f7f; text-decoration-color: #7f7f7f\">│   │   │   │   │   </span><span style=\"color: #808000; text-decoration-color: #808000\">'Uncharacterized protein'</span>,                                <span style=\"color: #808000; text-decoration-color: #808000\">│</span> <span style=\"color: #ff0000; text-decoration-color: #ff0000\">│</span>\n",
       "<span style=\"color: #ff0000; text-decoration-color: #ff0000\">│</span> <span style=\"color: #808000; text-decoration-color: #808000\">│</span>         <span style=\"color: #7f7f7f; text-decoration-color: #7f7f7f\">│   │   │   │   │   │   │     </span><span style=\"color: #808000; text-decoration-color: #808000\">'UPI0001DB04A1'</span>,                                <span style=\"color: #808000; text-decoration-color: #808000\">│</span> <span style=\"color: #ff0000; text-decoration-color: #ff0000\">│</span>\n",
       "<span style=\"color: #ff0000; text-decoration-color: #ff0000\">│</span> <span style=\"color: #808000; text-decoration-color: #808000\">│</span>         <span style=\"color: #7f7f7f; text-decoration-color: #7f7f7f\">│   │   │   │   │   │   │    </span><span style=\"color: #808000; text-decoration-color: #808000\">'WBGene00007069'</span><span style=\"font-weight: bold\">]</span>                                <span style=\"color: #808000; text-decoration-color: #808000\">│</span> <span style=\"color: #ff0000; text-decoration-color: #ff0000\">│</span>\n",
       "<span style=\"color: #ff0000; text-decoration-color: #ff0000\">│</span> <span style=\"color: #808000; text-decoration-color: #808000\">│</span>         Length: <span style=\"color: #0000ff; text-decoration-color: #0000ff\">440652</span>, dtype: object                                                 <span style=\"color: #808000; text-decoration-color: #808000\">│</span> <span style=\"color: #ff0000; text-decoration-color: #ff0000\">│</span>\n",
       "<span style=\"color: #ff0000; text-decoration-color: #ff0000\">│</span> <span style=\"color: #808000; text-decoration-color: #808000\">╰───────────────────────────────────────────────────────────────────────────────────────╯</span> <span style=\"color: #ff0000; text-decoration-color: #ff0000\">│</span>\n",
       "<span style=\"color: #ff0000; text-decoration-color: #ff0000\">│</span>                                                                                           <span style=\"color: #ff0000; text-decoration-color: #ff0000\">│</span>\n",
       "<span style=\"color: #ff0000; text-decoration-color: #ff0000\">│</span> <span style=\"color: #bfbf7f; text-decoration-color: #bfbf7f\">/home/rahit/.cache/pypoetry/virtualenvs/gemo-data-DHiuQg47-py3.8/lib/python3.8/site-packa</span> <span style=\"color: #ff0000; text-decoration-color: #ff0000\">│</span>\n",
       "<span style=\"color: #ff0000; text-decoration-color: #ff0000\">│</span> <span style=\"color: #bfbf7f; text-decoration-color: #bfbf7f\">ges/pandas/core/strings/</span><span style=\"color: #808000; text-decoration-color: #808000; font-weight: bold\">object_array.py</span>:<span style=\"color: #0000ff; text-decoration-color: #0000ff\">71</span> in <span style=\"color: #00ff00; text-decoration-color: #00ff00\">_str_map</span>                                    <span style=\"color: #ff0000; text-decoration-color: #ff0000\">│</span>\n",
       "<span style=\"color: #ff0000; text-decoration-color: #ff0000\">│</span>                                                                                           <span style=\"color: #ff0000; text-decoration-color: #ff0000\">│</span>\n",
       "<span style=\"color: #ff0000; text-decoration-color: #ff0000\">│</span>   <span style=\"color: #7f7f7f; text-decoration-color: #7f7f7f\"> 68 │   │   </span>mask = isna(arr)                                                            <span style=\"color: #ff0000; text-decoration-color: #ff0000\">│</span>\n",
       "<span style=\"color: #ff0000; text-decoration-color: #ff0000\">│</span>   <span style=\"color: #7f7f7f; text-decoration-color: #7f7f7f\"> 69 │   │   </span>map_convert = convert <span style=\"color: #ff00ff; text-decoration-color: #ff00ff\">and</span> <span style=\"color: #ff00ff; text-decoration-color: #ff00ff\">not</span> np.all(mask)                                  <span style=\"color: #ff0000; text-decoration-color: #ff0000\">│</span>\n",
       "<span style=\"color: #ff0000; text-decoration-color: #ff0000\">│</span>   <span style=\"color: #7f7f7f; text-decoration-color: #7f7f7f\"> 70 │   │   </span><span style=\"color: #0000ff; text-decoration-color: #0000ff\">try</span>:                                                                        <span style=\"color: #ff0000; text-decoration-color: #ff0000\">│</span>\n",
       "<span style=\"color: #ff0000; text-decoration-color: #ff0000\">│</span> <span style=\"color: #800000; text-decoration-color: #800000\">❱ </span> 71 <span style=\"color: #7f7f7f; text-decoration-color: #7f7f7f\">│   │   │   </span>result = lib.map_infer_mask(arr, f, mask.view(np.uint8), map_convert)   <span style=\"color: #ff0000; text-decoration-color: #ff0000\">│</span>\n",
       "<span style=\"color: #ff0000; text-decoration-color: #ff0000\">│</span>   <span style=\"color: #7f7f7f; text-decoration-color: #7f7f7f\"> 72 │   │   </span><span style=\"color: #0000ff; text-decoration-color: #0000ff\">except</span> (<span style=\"color: #00ffff; text-decoration-color: #00ffff\">TypeError</span>, <span style=\"color: #00ffff; text-decoration-color: #00ffff\">AttributeError</span>) <span style=\"color: #0000ff; text-decoration-color: #0000ff\">as</span> err:                                  <span style=\"color: #ff0000; text-decoration-color: #ff0000\">│</span>\n",
       "<span style=\"color: #ff0000; text-decoration-color: #ff0000\">│</span>   <span style=\"color: #7f7f7f; text-decoration-color: #7f7f7f\"> 73 │   │   │   # Reraise the exception if callable `f` got wrong number of args.</span>       <span style=\"color: #ff0000; text-decoration-color: #ff0000\">│</span>\n",
       "<span style=\"color: #ff0000; text-decoration-color: #ff0000\">│</span>   <span style=\"color: #7f7f7f; text-decoration-color: #7f7f7f\"> 74 │   │   │   # The user may want to be warned by this, instead of getting NaN</span>        <span style=\"color: #ff0000; text-decoration-color: #ff0000\">│</span>\n",
       "<span style=\"color: #ff0000; text-decoration-color: #ff0000\">│</span>                                                                                           <span style=\"color: #ff0000; text-decoration-color: #ff0000\">│</span>\n",
       "<span style=\"color: #ff0000; text-decoration-color: #ff0000\">│</span> <span style=\"color: #808000; text-decoration-color: #808000\">╭─────────────────────────────────────── locals ────────────────────────────────────────╮</span> <span style=\"color: #ff0000; text-decoration-color: #ff0000\">│</span>\n",
       "<span style=\"color: #ff0000; text-decoration-color: #ff0000\">│</span> <span style=\"color: #808000; text-decoration-color: #808000\">│</span>         arr = <span style=\"color: #800080; text-decoration-color: #800080; font-weight: bold\">array</span><span style=\"font-weight: bold\">([</span><span style=\"color: #808000; text-decoration-color: #808000\">'1.-.-.-'</span>, <span style=\"color: #808000; text-decoration-color: #808000\">'1.-.-.-'</span>, <span style=\"color: #808000; text-decoration-color: #808000\">'1.-.-.-'</span>, <span style=\"color: #808000; text-decoration-color: #808000\">...</span>, <span style=\"color: #808000; text-decoration-color: #808000\">'Uncharacterized protein'</span>, <span style=\"color: #808000; text-decoration-color: #808000\">│</span> <span style=\"color: #ff0000; text-decoration-color: #ff0000\">│</span>\n",
       "<span style=\"color: #ff0000; text-decoration-color: #ff0000\">│</span> <span style=\"color: #808000; text-decoration-color: #808000\">│</span>               <span style=\"color: #7f7f7f; text-decoration-color: #7f7f7f\">│      </span><span style=\"color: #808000; text-decoration-color: #808000\">'UPI0001DB04A1'</span>, <span style=\"color: #808000; text-decoration-color: #808000\">'WBGene00007069'</span><span style=\"font-weight: bold\">]</span>, <span style=\"color: #808000; text-decoration-color: #808000\">dtype</span>=<span style=\"color: #800080; text-decoration-color: #800080\">object</span><span style=\"font-weight: bold\">)</span>                <span style=\"color: #808000; text-decoration-color: #808000\">│</span> <span style=\"color: #ff0000; text-decoration-color: #ff0000\">│</span>\n",
       "<span style=\"color: #ff0000; text-decoration-color: #ff0000\">│</span> <span style=\"color: #808000; text-decoration-color: #808000\">│</span>     convert = <span style=\"color: #0000ff; text-decoration-color: #0000ff\">True</span>                                                                    <span style=\"color: #808000; text-decoration-color: #808000\">│</span> <span style=\"color: #ff0000; text-decoration-color: #ff0000\">│</span>\n",
       "<span style=\"color: #ff0000; text-decoration-color: #ff0000\">│</span> <span style=\"color: #808000; text-decoration-color: #808000\">│</span>       dtype = <span style=\"color: #800080; text-decoration-color: #800080; font-weight: bold\">dtype</span><span style=\"font-weight: bold\">(</span><span style=\"color: #808000; text-decoration-color: #808000\">'bool'</span><span style=\"font-weight: bold\">)</span>                                                           <span style=\"color: #808000; text-decoration-color: #808000\">│</span> <span style=\"color: #ff0000; text-decoration-color: #ff0000\">│</span>\n",
       "<span style=\"color: #ff0000; text-decoration-color: #ff0000\">│</span> <span style=\"color: #808000; text-decoration-color: #808000\">│</span>           f = <span style=\"font-weight: bold\">&lt;</span><span style=\"color: #ff00ff; text-decoration-color: #ff00ff; font-weight: bold\">function</span><span style=\"color: #000000; text-decoration-color: #000000\"> ObjectStringArrayMixin._str_match.&lt;locals</span><span style=\"font-weight: bold\">&gt;</span>.<span style=\"font-weight: bold\">&lt;</span><span style=\"color: #ff00ff; text-decoration-color: #ff00ff; font-weight: bold\">lambda</span><span style=\"font-weight: bold\">&gt;</span> at        <span style=\"color: #808000; text-decoration-color: #808000\">│</span> <span style=\"color: #ff0000; text-decoration-color: #ff0000\">│</span>\n",
       "<span style=\"color: #ff0000; text-decoration-color: #ff0000\">│</span> <span style=\"color: #808000; text-decoration-color: #808000\">│</span>               <span style=\"color: #0000ff; text-decoration-color: #0000ff\">0x2b895c75d940</span>&gt;                                                         <span style=\"color: #808000; text-decoration-color: #808000\">│</span> <span style=\"color: #ff0000; text-decoration-color: #ff0000\">│</span>\n",
       "<span style=\"color: #ff0000; text-decoration-color: #ff0000\">│</span> <span style=\"color: #808000; text-decoration-color: #808000\">│</span> map_convert = <span style=\"color: #0000ff; text-decoration-color: #0000ff\">True</span>                                                                    <span style=\"color: #808000; text-decoration-color: #808000\">│</span> <span style=\"color: #ff0000; text-decoration-color: #ff0000\">│</span>\n",
       "<span style=\"color: #ff0000; text-decoration-color: #ff0000\">│</span> <span style=\"color: #808000; text-decoration-color: #808000\">│</span>        mask = <span style=\"color: #800080; text-decoration-color: #800080; font-weight: bold\">array</span><span style=\"font-weight: bold\">([</span><span style=\"color: #0000ff; text-decoration-color: #0000ff\">False</span>, <span style=\"color: #0000ff; text-decoration-color: #0000ff\">False</span>, <span style=\"color: #0000ff; text-decoration-color: #0000ff\">False</span>, <span style=\"color: #808000; text-decoration-color: #808000\">...</span>, <span style=\"color: #0000ff; text-decoration-color: #0000ff\">False</span>, <span style=\"color: #0000ff; text-decoration-color: #0000ff\">False</span>, <span style=\"color: #0000ff; text-decoration-color: #0000ff\">False</span><span style=\"font-weight: bold\">])</span>                  <span style=\"color: #808000; text-decoration-color: #808000\">│</span> <span style=\"color: #ff0000; text-decoration-color: #ff0000\">│</span>\n",
       "<span style=\"color: #ff0000; text-decoration-color: #ff0000\">│</span> <span style=\"color: #808000; text-decoration-color: #808000\">│</span>    na_value = nan                                                                     <span style=\"color: #808000; text-decoration-color: #808000\">│</span> <span style=\"color: #ff0000; text-decoration-color: #ff0000\">│</span>\n",
       "<span style=\"color: #ff0000; text-decoration-color: #ff0000\">│</span> <span style=\"color: #808000; text-decoration-color: #808000\">│</span>        self = <span style=\"font-weight: bold\">&lt;</span><span style=\"color: #ff00ff; text-decoration-color: #ff00ff; font-weight: bold\">PandasArray</span><span style=\"font-weight: bold\">&gt;</span>                                                           <span style=\"color: #808000; text-decoration-color: #808000\">│</span> <span style=\"color: #ff0000; text-decoration-color: #ff0000\">│</span>\n",
       "<span style=\"color: #ff0000; text-decoration-color: #ff0000\">│</span> <span style=\"color: #808000; text-decoration-color: #808000\">│</span>               <span style=\"font-weight: bold\">[</span>                                   <span style=\"color: #808000; text-decoration-color: #808000\">'1.-.-.-'</span>,                          <span style=\"color: #808000; text-decoration-color: #808000\">│</span> <span style=\"color: #ff0000; text-decoration-color: #ff0000\">│</span>\n",
       "<span style=\"color: #ff0000; text-decoration-color: #ff0000\">│</span> <span style=\"color: #808000; text-decoration-color: #808000\">│</span>               <span style=\"color: #7f7f7f; text-decoration-color: #7f7f7f\">│   │   │   │   │   │   │   │   │   </span><span style=\"color: #808000; text-decoration-color: #808000\">'1.-.-.-'</span>,                          <span style=\"color: #808000; text-decoration-color: #808000\">│</span> <span style=\"color: #ff0000; text-decoration-color: #ff0000\">│</span>\n",
       "<span style=\"color: #ff0000; text-decoration-color: #ff0000\">│</span> <span style=\"color: #808000; text-decoration-color: #808000\">│</span>               <span style=\"color: #7f7f7f; text-decoration-color: #7f7f7f\">│   │   │   │   │   │   │   │   │   </span><span style=\"color: #808000; text-decoration-color: #808000\">'1.-.-.-'</span>,                          <span style=\"color: #808000; text-decoration-color: #808000\">│</span> <span style=\"color: #ff0000; text-decoration-color: #ff0000\">│</span>\n",
       "<span style=\"color: #ff0000; text-decoration-color: #ff0000\">│</span> <span style=\"color: #808000; text-decoration-color: #808000\">│</span>               <span style=\"color: #7f7f7f; text-decoration-color: #7f7f7f\">│   </span><span style=\"color: #808000; text-decoration-color: #808000\">'10-formyltetrahydrofolate dehydrogenase'</span>,                          <span style=\"color: #808000; text-decoration-color: #808000\">│</span> <span style=\"color: #ff0000; text-decoration-color: #ff0000\">│</span>\n",
       "<span style=\"color: #ff0000; text-decoration-color: #ff0000\">│</span> <span style=\"color: #808000; text-decoration-color: #808000\">│</span>               <span style=\"color: #7f7f7f; text-decoration-color: #7f7f7f\">│   │   │   │   │   │   │   │   │   </span><span style=\"color: #808000; text-decoration-color: #808000\">'1.1.-.-'</span>,                          <span style=\"color: #808000; text-decoration-color: #808000\">│</span> <span style=\"color: #ff0000; text-decoration-color: #ff0000\">│</span>\n",
       "<span style=\"color: #ff0000; text-decoration-color: #ff0000\">│</span> <span style=\"color: #808000; text-decoration-color: #808000\">│</span>               <span style=\"color: #7f7f7f; text-decoration-color: #7f7f7f\">│   │   │   │   │   │   │   │   │   </span><span style=\"color: #808000; text-decoration-color: #808000\">'1.1.-.-'</span>,                          <span style=\"color: #808000; text-decoration-color: #808000\">│</span> <span style=\"color: #ff0000; text-decoration-color: #ff0000\">│</span>\n",
       "<span style=\"color: #ff0000; text-decoration-color: #ff0000\">│</span> <span style=\"color: #808000; text-decoration-color: #808000\">│</span>               <span style=\"color: #7f7f7f; text-decoration-color: #7f7f7f\">│   │   │   │   │   │   │   │   │   </span><span style=\"color: #808000; text-decoration-color: #808000\">'1.1.-.-'</span>,                          <span style=\"color: #808000; text-decoration-color: #808000\">│</span> <span style=\"color: #ff0000; text-decoration-color: #ff0000\">│</span>\n",
       "<span style=\"color: #ff0000; text-decoration-color: #ff0000\">│</span> <span style=\"color: #808000; text-decoration-color: #808000\">│</span>               <span style=\"color: #7f7f7f; text-decoration-color: #7f7f7f\">│   │   │   │   │   │   │   │   │   </span><span style=\"color: #808000; text-decoration-color: #808000\">'1.1.-.-'</span>,                          <span style=\"color: #808000; text-decoration-color: #808000\">│</span> <span style=\"color: #ff0000; text-decoration-color: #ff0000\">│</span>\n",
       "<span style=\"color: #ff0000; text-decoration-color: #ff0000\">│</span> <span style=\"color: #808000; text-decoration-color: #808000\">│</span>               <span style=\"color: #7f7f7f; text-decoration-color: #7f7f7f\">│   │   │   │   │   │   │   │   │   </span><span style=\"color: #808000; text-decoration-color: #808000\">'1.1.-.-'</span>,                          <span style=\"color: #808000; text-decoration-color: #808000\">│</span> <span style=\"color: #ff0000; text-decoration-color: #ff0000\">│</span>\n",
       "<span style=\"color: #ff0000; text-decoration-color: #ff0000\">│</span> <span style=\"color: #808000; text-decoration-color: #808000\">│</span>               <span style=\"color: #7f7f7f; text-decoration-color: #7f7f7f\">│   │   │   │   │   │   │   │   │   </span><span style=\"color: #808000; text-decoration-color: #808000\">'1.1.-.-'</span>,                          <span style=\"color: #808000; text-decoration-color: #808000\">│</span> <span style=\"color: #ff0000; text-decoration-color: #ff0000\">│</span>\n",
       "<span style=\"color: #ff0000; text-decoration-color: #ff0000\">│</span> <span style=\"color: #808000; text-decoration-color: #808000\">│</span>               <span style=\"color: #7f7f7f; text-decoration-color: #7f7f7f\"> </span><span style=\"color: #808000; text-decoration-color: #808000\">...</span>                                                                    <span style=\"color: #808000; text-decoration-color: #808000\">│</span> <span style=\"color: #ff0000; text-decoration-color: #ff0000\">│</span>\n",
       "<span style=\"color: #ff0000; text-decoration-color: #ff0000\">│</span> <span style=\"color: #808000; text-decoration-color: #808000\">│</span>               <span style=\"color: #7f7f7f; text-decoration-color: #7f7f7f\">│   │   │   │   │   │   │   │   </span><span style=\"color: #808000; text-decoration-color: #808000\">'CELE_6R55.2'</span>,                          <span style=\"color: #808000; text-decoration-color: #808000\">│</span> <span style=\"color: #ff0000; text-decoration-color: #ff0000\">│</span>\n",
       "<span style=\"color: #ff0000; text-decoration-color: #ff0000\">│</span> <span style=\"color: #808000; text-decoration-color: #808000\">│</span>               <span style=\"color: #7f7f7f; text-decoration-color: #7f7f7f\">│   │   │   │   │   │   │   │      </span><span style=\"color: #808000; text-decoration-color: #808000\">'FO080088'</span>,                          <span style=\"color: #808000; text-decoration-color: #808000\">│</span> <span style=\"color: #ff0000; text-decoration-color: #ff0000\">│</span>\n",
       "<span style=\"color: #ff0000; text-decoration-color: #ff0000\">│</span> <span style=\"color: #808000; text-decoration-color: #808000\">│</span>               <span style=\"color: #7f7f7f; text-decoration-color: #7f7f7f\">│   │   │   │   │   │   │   │     </span><span style=\"color: #808000; text-decoration-color: #808000\">'NM_078462'</span>,                          <span style=\"color: #808000; text-decoration-color: #808000\">│</span> <span style=\"color: #ff0000; text-decoration-color: #ff0000\">│</span>\n",
       "<span style=\"color: #ff0000; text-decoration-color: #ff0000\">│</span> <span style=\"color: #808000; text-decoration-color: #808000\">│</span>               <span style=\"color: #7f7f7f; text-decoration-color: #7f7f7f\">│   │   │   │   │   │   │   │   </span><span style=\"color: #808000; text-decoration-color: #808000\">'NM_078462.2'</span>,                          <span style=\"color: #808000; text-decoration-color: #808000\">│</span> <span style=\"color: #ff0000; text-decoration-color: #ff0000\">│</span>\n",
       "<span style=\"color: #ff0000; text-decoration-color: #ff0000\">│</span> <span style=\"color: #808000; text-decoration-color: #808000\">│</span>               <span style=\"color: #7f7f7f; text-decoration-color: #7f7f7f\">│   │   │   │   │   │   │   │     </span><span style=\"color: #808000; text-decoration-color: #808000\">'NP_510863'</span>,                          <span style=\"color: #808000; text-decoration-color: #808000\">│</span> <span style=\"color: #ff0000; text-decoration-color: #ff0000\">│</span>\n",
       "<span style=\"color: #ff0000; text-decoration-color: #ff0000\">│</span> <span style=\"color: #808000; text-decoration-color: #808000\">│</span>               <span style=\"color: #7f7f7f; text-decoration-color: #7f7f7f\">│   │   │   │   │   │   │   │   </span><span style=\"color: #808000; text-decoration-color: #808000\">'NP_510863.2'</span>,                          <span style=\"color: #808000; text-decoration-color: #808000\">│</span> <span style=\"color: #ff0000; text-decoration-color: #ff0000\">│</span>\n",
       "<span style=\"color: #ff0000; text-decoration-color: #ff0000\">│</span> <span style=\"color: #808000; text-decoration-color: #808000\">│</span>               <span style=\"color: #7f7f7f; text-decoration-color: #7f7f7f\"> </span><span style=\"color: #808000; text-decoration-color: #808000\">'Protein 6R55.2 </span><span style=\"color: #808000; text-decoration-color: #808000; font-weight: bold\">(</span><span style=\"color: #808000; text-decoration-color: #808000\">6R55.2</span><span style=\"color: #808000; text-decoration-color: #808000; font-weight: bold\">)</span><span style=\"color: #808000; text-decoration-color: #808000\"> mRNA, complete cds'</span>,                          <span style=\"color: #808000; text-decoration-color: #808000\">│</span> <span style=\"color: #ff0000; text-decoration-color: #ff0000\">│</span>\n",
       "<span style=\"color: #ff0000; text-decoration-color: #ff0000\">│</span> <span style=\"color: #808000; text-decoration-color: #808000\">│</span>               <span style=\"color: #7f7f7f; text-decoration-color: #7f7f7f\">│   │   │   │   │   </span><span style=\"color: #808000; text-decoration-color: #808000\">'Uncharacterized protein'</span>,                          <span style=\"color: #808000; text-decoration-color: #808000\">│</span> <span style=\"color: #ff0000; text-decoration-color: #ff0000\">│</span>\n",
       "<span style=\"color: #ff0000; text-decoration-color: #ff0000\">│</span> <span style=\"color: #808000; text-decoration-color: #808000\">│</span>               <span style=\"color: #7f7f7f; text-decoration-color: #7f7f7f\">│   │   │   │   │   │   │     </span><span style=\"color: #808000; text-decoration-color: #808000\">'UPI0001DB04A1'</span>,                          <span style=\"color: #808000; text-decoration-color: #808000\">│</span> <span style=\"color: #ff0000; text-decoration-color: #ff0000\">│</span>\n",
       "<span style=\"color: #ff0000; text-decoration-color: #ff0000\">│</span> <span style=\"color: #808000; text-decoration-color: #808000\">│</span>               <span style=\"color: #7f7f7f; text-decoration-color: #7f7f7f\">│   │   │   │   │   │   │    </span><span style=\"color: #808000; text-decoration-color: #808000\">'WBGene00007069'</span><span style=\"font-weight: bold\">]</span>                          <span style=\"color: #808000; text-decoration-color: #808000\">│</span> <span style=\"color: #ff0000; text-decoration-color: #ff0000\">│</span>\n",
       "<span style=\"color: #ff0000; text-decoration-color: #ff0000\">│</span> <span style=\"color: #808000; text-decoration-color: #808000\">│</span>               Length: <span style=\"color: #0000ff; text-decoration-color: #0000ff\">440652</span>, dtype: object                                           <span style=\"color: #808000; text-decoration-color: #808000\">│</span> <span style=\"color: #ff0000; text-decoration-color: #ff0000\">│</span>\n",
       "<span style=\"color: #ff0000; text-decoration-color: #ff0000\">│</span> <span style=\"color: #808000; text-decoration-color: #808000\">╰───────────────────────────────────────────────────────────────────────────────────────╯</span> <span style=\"color: #ff0000; text-decoration-color: #ff0000\">│</span>\n",
       "<span style=\"color: #ff0000; text-decoration-color: #ff0000\">╰───────────────────────────────────────────────────────────────────────────────────────────╯</span>\n",
       "<span style=\"color: #ff0000; text-decoration-color: #ff0000; font-weight: bold\">KeyboardInterrupt</span>\n",
       "</pre>\n"
      ],
      "text/plain": [
       "\u001b[91m╭─\u001b[0m\u001b[91m─────────────────────────── \u001b[0m\u001b[1;31mTraceback \u001b[0m\u001b[1;2;31m(most recent call last)\u001b[0m\u001b[91m ───────────────────────────\u001b[0m\u001b[91m─╮\u001b[0m\n",
       "\u001b[91m│\u001b[0m                                                                                           \u001b[91m│\u001b[0m\n",
       "\u001b[91m│\u001b[0m \u001b[2;33m/tmp/ipykernel_2043/\u001b[0m\u001b[1;33m2146878348.py\u001b[0m:\u001b[94m2\u001b[0m in \u001b[92m<module>\u001b[0m                                           \u001b[91m│\u001b[0m\n",
       "\u001b[91m│\u001b[0m                                                                                           \u001b[91m│\u001b[0m\n",
       "\u001b[91m│\u001b[0m \u001b[3;31m[Errno 2] No such file or directory: '/tmp/ipykernel_2043/2146878348.py'\u001b[0m                  \u001b[91m│\u001b[0m\n",
       "\u001b[91m│\u001b[0m \u001b[2;33m/tmp/ipykernel_2043/\u001b[0m\u001b[1;33m1766830248.py\u001b[0m:\u001b[94m22\u001b[0m in \u001b[92mget_interaction_score\u001b[0m                             \u001b[91m│\u001b[0m\n",
       "\u001b[91m│\u001b[0m                                                                                           \u001b[91m│\u001b[0m\n",
       "\u001b[91m│\u001b[0m \u001b[3;31m[Errno 2] No such file or directory: '/tmp/ipykernel_2043/1766830248.py'\u001b[0m                  \u001b[91m│\u001b[0m\n",
       "\u001b[91m│\u001b[0m                                                                                           \u001b[91m│\u001b[0m\n",
       "\u001b[91m│\u001b[0m \u001b[2;33m/tmp/ipykernel_2043/\u001b[0m\u001b[1;33m1766830248.py\u001b[0m:\u001b[94m11\u001b[0m in \u001b[92mget_string_protein_id\u001b[0m                             \u001b[91m│\u001b[0m\n",
       "\u001b[91m│\u001b[0m                                                                                           \u001b[91m│\u001b[0m\n",
       "\u001b[91m│\u001b[0m \u001b[3;31m[Errno 2] No such file or directory: '/tmp/ipykernel_2043/1766830248.py'\u001b[0m                  \u001b[91m│\u001b[0m\n",
       "\u001b[91m│\u001b[0m                                                                                           \u001b[91m│\u001b[0m\n",
       "\u001b[91m│\u001b[0m \u001b[2;33m/home/rahit/.cache/pypoetry/virtualenvs/gemo-data-DHiuQg47-py3.8/lib/python3.8/site-packa\u001b[0m \u001b[91m│\u001b[0m\n",
       "\u001b[91m│\u001b[0m \u001b[2;33mges/pandas/core/strings/\u001b[0m\u001b[1;33maccessor.py\u001b[0m:\u001b[94m129\u001b[0m in \u001b[92mwrapper\u001b[0m                                        \u001b[91m│\u001b[0m\n",
       "\u001b[91m│\u001b[0m                                                                                           \u001b[91m│\u001b[0m\n",
       "\u001b[91m│\u001b[0m   \u001b[2m 126 \u001b[0m\u001b[2m│   │   │   │   │   \u001b[0m\u001b[33mf\u001b[0m\u001b[33m\"\u001b[0m\u001b[33minferred dtype \u001b[0m\u001b[33m'\u001b[0m\u001b[33m{\u001b[0m\u001b[96mself\u001b[0m._inferred_dtype\u001b[33m}\u001b[0m\u001b[33m'\u001b[0m\u001b[33m.\u001b[0m\u001b[33m\"\u001b[0m                    \u001b[91m│\u001b[0m\n",
       "\u001b[91m│\u001b[0m   \u001b[2m 127 \u001b[0m\u001b[2m│   │   │   │   \u001b[0m)                                                                  \u001b[91m│\u001b[0m\n",
       "\u001b[91m│\u001b[0m   \u001b[2m 128 \u001b[0m\u001b[2m│   │   │   │   \u001b[0m\u001b[94mraise\u001b[0m \u001b[96mTypeError\u001b[0m(msg)                                               \u001b[91m│\u001b[0m\n",
       "\u001b[91m│\u001b[0m \u001b[31m❱ \u001b[0m 129 \u001b[2m│   │   │   \u001b[0m\u001b[94mreturn\u001b[0m func(\u001b[96mself\u001b[0m, *args, **kwargs)                                     \u001b[91m│\u001b[0m\n",
       "\u001b[91m│\u001b[0m   \u001b[2m 130 \u001b[0m\u001b[2m│   │   \u001b[0m                                                                           \u001b[91m│\u001b[0m\n",
       "\u001b[91m│\u001b[0m   \u001b[2m 131 \u001b[0m\u001b[2m│   │   \u001b[0mwrapper.\u001b[91m__name__\u001b[0m = func_name                                               \u001b[91m│\u001b[0m\n",
       "\u001b[91m│\u001b[0m   \u001b[2m 132 \u001b[0m\u001b[2m│   │   \u001b[0m\u001b[94mreturn\u001b[0m cast(F, wrapper)                                                    \u001b[91m│\u001b[0m\n",
       "\u001b[91m│\u001b[0m                                                                                           \u001b[91m│\u001b[0m\n",
       "\u001b[91m│\u001b[0m \u001b[33m╭─\u001b[0m\u001b[33m────────────────────────────────────── locals ───────────────────────────────────────\u001b[0m\u001b[33m─╮\u001b[0m \u001b[91m│\u001b[0m\n",
       "\u001b[91m│\u001b[0m \u001b[33m│\u001b[0m allowed_types = \u001b[1m{\u001b[0m\u001b[33m'mixed-integer'\u001b[0m, \u001b[33m'mixed'\u001b[0m, \u001b[33m'string'\u001b[0m, \u001b[33m'empty'\u001b[0m\u001b[1m}\u001b[0m                         \u001b[33m│\u001b[0m \u001b[91m│\u001b[0m\n",
       "\u001b[91m│\u001b[0m \u001b[33m│\u001b[0m          args = \u001b[1m(\u001b[0m\u001b[33m'^ $'\u001b[0m,\u001b[1m)\u001b[0m                                                              \u001b[33m│\u001b[0m \u001b[91m│\u001b[0m\n",
       "\u001b[91m│\u001b[0m \u001b[33m│\u001b[0m          func = \u001b[1m<\u001b[0m\u001b[1;95mfunction\u001b[0m\u001b[39m StringMethods.match at \u001b[0m\u001b[94m0x2b886b0e1f70\u001b[0m\u001b[1m>\u001b[0m                      \u001b[33m│\u001b[0m \u001b[91m│\u001b[0m\n",
       "\u001b[91m│\u001b[0m \u001b[33m│\u001b[0m     func_name = \u001b[33m'match'\u001b[0m                                                               \u001b[33m│\u001b[0m \u001b[91m│\u001b[0m\n",
       "\u001b[91m│\u001b[0m \u001b[33m│\u001b[0m        kwargs = \u001b[1m{\u001b[0m\u001b[33m'case'\u001b[0m: \u001b[94mFalse\u001b[0m\u001b[1m}\u001b[0m                                                       \u001b[33m│\u001b[0m \u001b[91m│\u001b[0m\n",
       "\u001b[91m│\u001b[0m \u001b[33m│\u001b[0m          self = \u001b[1m<\u001b[0m\u001b[1;95mpandas.core.strings.accessor.StringMethods\u001b[0m\u001b[39m object at \u001b[0m\u001b[94m0x2b8957da8550\u001b[0m\u001b[1m>\u001b[0m \u001b[33m│\u001b[0m \u001b[91m│\u001b[0m\n",
       "\u001b[91m│\u001b[0m \u001b[33m╰───────────────────────────────────────────────────────────────────────────────────────╯\u001b[0m \u001b[91m│\u001b[0m\n",
       "\u001b[91m│\u001b[0m                                                                                           \u001b[91m│\u001b[0m\n",
       "\u001b[91m│\u001b[0m \u001b[2;33m/home/rahit/.cache/pypoetry/virtualenvs/gemo-data-DHiuQg47-py3.8/lib/python3.8/site-packa\u001b[0m \u001b[91m│\u001b[0m\n",
       "\u001b[91m│\u001b[0m \u001b[2;33mges/pandas/core/strings/\u001b[0m\u001b[1;33maccessor.py\u001b[0m:\u001b[94m1292\u001b[0m in \u001b[92mmatch\u001b[0m                                         \u001b[91m│\u001b[0m\n",
       "\u001b[91m│\u001b[0m                                                                                           \u001b[91m│\u001b[0m\n",
       "\u001b[91m│\u001b[0m   \u001b[2m1289 \u001b[0m\u001b[2;33m│   │   │   \u001b[0m\u001b[33mre.match.\u001b[0m                                                              \u001b[91m│\u001b[0m\n",
       "\u001b[91m│\u001b[0m   \u001b[2m1290 \u001b[0m\u001b[2;33m│   │   \u001b[0m\u001b[33mextract : Extract matched groups.\u001b[0m                                          \u001b[91m│\u001b[0m\n",
       "\u001b[91m│\u001b[0m   \u001b[2m1291 \u001b[0m\u001b[2;33m│   │   \u001b[0m\u001b[33m\"\"\"\u001b[0m                                                                        \u001b[91m│\u001b[0m\n",
       "\u001b[91m│\u001b[0m \u001b[31m❱ \u001b[0m1292 \u001b[2m│   │   \u001b[0mresult = \u001b[96mself\u001b[0m._data.array._str_match(pat, case=case, flags=flags, na=na)   \u001b[91m│\u001b[0m\n",
       "\u001b[91m│\u001b[0m   \u001b[2m1293 \u001b[0m\u001b[2m│   │   \u001b[0m\u001b[94mreturn\u001b[0m \u001b[96mself\u001b[0m._wrap_result(result, fill_value=na, returns_string=\u001b[94mFalse\u001b[0m)      \u001b[91m│\u001b[0m\n",
       "\u001b[91m│\u001b[0m   \u001b[2m1294 \u001b[0m\u001b[2m│   \u001b[0m                                                                               \u001b[91m│\u001b[0m\n",
       "\u001b[91m│\u001b[0m   \u001b[2m1295 \u001b[0m\u001b[2m│   \u001b[0m\u001b[1;95m@forbid_nonstring_types\u001b[0m([\u001b[33m\"\u001b[0m\u001b[33mbytes\u001b[0m\u001b[33m\"\u001b[0m])                                             \u001b[91m│\u001b[0m\n",
       "\u001b[91m│\u001b[0m                                                                                           \u001b[91m│\u001b[0m\n",
       "\u001b[91m│\u001b[0m \u001b[33m╭─\u001b[0m\u001b[33m────────────────────────────────── locals ───────────────────────────────────\u001b[0m\u001b[33m─╮\u001b[0m         \u001b[91m│\u001b[0m\n",
       "\u001b[91m│\u001b[0m \u001b[33m│\u001b[0m  case = \u001b[94mFalse\u001b[0m                                                                 \u001b[33m│\u001b[0m         \u001b[91m│\u001b[0m\n",
       "\u001b[91m│\u001b[0m \u001b[33m│\u001b[0m flags = \u001b[94m0\u001b[0m                                                                     \u001b[33m│\u001b[0m         \u001b[91m│\u001b[0m\n",
       "\u001b[91m│\u001b[0m \u001b[33m│\u001b[0m    na = \u001b[94mNone\u001b[0m                                                                  \u001b[33m│\u001b[0m         \u001b[91m│\u001b[0m\n",
       "\u001b[91m│\u001b[0m \u001b[33m│\u001b[0m   pat = \u001b[33m'^ $'\u001b[0m                                                                 \u001b[33m│\u001b[0m         \u001b[91m│\u001b[0m\n",
       "\u001b[91m│\u001b[0m \u001b[33m│\u001b[0m  self = \u001b[1m<\u001b[0m\u001b[1;95mpandas.core.strings.accessor.StringMethods\u001b[0m\u001b[39m object at \u001b[0m\u001b[94m0x2b8957da8550\u001b[0m\u001b[1m>\u001b[0m \u001b[33m│\u001b[0m         \u001b[91m│\u001b[0m\n",
       "\u001b[91m│\u001b[0m \u001b[33m╰───────────────────────────────────────────────────────────────────────────────╯\u001b[0m         \u001b[91m│\u001b[0m\n",
       "\u001b[91m│\u001b[0m                                                                                           \u001b[91m│\u001b[0m\n",
       "\u001b[91m│\u001b[0m \u001b[2;33m/home/rahit/.cache/pypoetry/virtualenvs/gemo-data-DHiuQg47-py3.8/lib/python3.8/site-packa\u001b[0m \u001b[91m│\u001b[0m\n",
       "\u001b[91m│\u001b[0m \u001b[2;33mges/pandas/core/strings/\u001b[0m\u001b[1;33mobject_array.py\u001b[0m:\u001b[94m204\u001b[0m in \u001b[92m_str_match\u001b[0m                                 \u001b[91m│\u001b[0m\n",
       "\u001b[91m│\u001b[0m                                                                                           \u001b[91m│\u001b[0m\n",
       "\u001b[91m│\u001b[0m   \u001b[2m201 \u001b[0m\u001b[2m│   │   \u001b[0mregex = re.compile(pat, flags=flags)                                        \u001b[91m│\u001b[0m\n",
       "\u001b[91m│\u001b[0m   \u001b[2m202 \u001b[0m\u001b[2m│   │   \u001b[0m                                                                            \u001b[91m│\u001b[0m\n",
       "\u001b[91m│\u001b[0m   \u001b[2m203 \u001b[0m\u001b[2m│   │   \u001b[0mf = \u001b[94mlambda\u001b[0m x: regex.match(x) \u001b[95mis\u001b[0m \u001b[95mnot\u001b[0m \u001b[94mNone\u001b[0m                                    \u001b[91m│\u001b[0m\n",
       "\u001b[91m│\u001b[0m \u001b[31m❱ \u001b[0m204 \u001b[2m│   │   \u001b[0m\u001b[94mreturn\u001b[0m \u001b[96mself\u001b[0m._str_map(f, na_value=na, dtype=np.dtype(\u001b[96mbool\u001b[0m))                  \u001b[91m│\u001b[0m\n",
       "\u001b[91m│\u001b[0m   \u001b[2m205 \u001b[0m\u001b[2m│   \u001b[0m                                                                                \u001b[91m│\u001b[0m\n",
       "\u001b[91m│\u001b[0m   \u001b[2m206 \u001b[0m\u001b[2m│   \u001b[0m\u001b[94mdef\u001b[0m \u001b[92m_str_fullmatch\u001b[0m(                                                             \u001b[91m│\u001b[0m\n",
       "\u001b[91m│\u001b[0m   \u001b[2m207 \u001b[0m\u001b[2m│   │   \u001b[0m\u001b[96mself\u001b[0m,                                                                       \u001b[91m│\u001b[0m\n",
       "\u001b[91m│\u001b[0m                                                                                           \u001b[91m│\u001b[0m\n",
       "\u001b[91m│\u001b[0m \u001b[33m╭─\u001b[0m\u001b[33m────────────────────────────────────── locals ───────────────────────────────────────\u001b[0m\u001b[33m─╮\u001b[0m \u001b[91m│\u001b[0m\n",
       "\u001b[91m│\u001b[0m \u001b[33m│\u001b[0m  case = \u001b[94mFalse\u001b[0m                                                                         \u001b[33m│\u001b[0m \u001b[91m│\u001b[0m\n",
       "\u001b[91m│\u001b[0m \u001b[33m│\u001b[0m     f = \u001b[1m<\u001b[0m\u001b[1;95mfunction\u001b[0m\u001b[39m ObjectStringArrayMixin._str_match.<locals\u001b[0m\u001b[1m>\u001b[0m.\u001b[1m<\u001b[0m\u001b[1;95mlambda\u001b[0m\u001b[1m>\u001b[0m at              \u001b[33m│\u001b[0m \u001b[91m│\u001b[0m\n",
       "\u001b[91m│\u001b[0m \u001b[33m│\u001b[0m         \u001b[94m0x2b895c75d940\u001b[0m>                                                               \u001b[33m│\u001b[0m \u001b[91m│\u001b[0m\n",
       "\u001b[91m│\u001b[0m \u001b[33m│\u001b[0m flags = re.IGNORECASE                                                                 \u001b[33m│\u001b[0m \u001b[91m│\u001b[0m\n",
       "\u001b[91m│\u001b[0m \u001b[33m│\u001b[0m    na = \u001b[94mNone\u001b[0m                                                                          \u001b[33m│\u001b[0m \u001b[91m│\u001b[0m\n",
       "\u001b[91m│\u001b[0m \u001b[33m│\u001b[0m   pat = \u001b[33m'^ $'\u001b[0m                                                                         \u001b[33m│\u001b[0m \u001b[91m│\u001b[0m\n",
       "\u001b[91m│\u001b[0m \u001b[33m│\u001b[0m regex = \u001b[1;35mre.compile\u001b[0m\u001b[1m(\u001b[0m\u001b[33m'^ $'\u001b[0m, re.IGNORECASE\u001b[1m)\u001b[0m                                              \u001b[33m│\u001b[0m \u001b[91m│\u001b[0m\n",
       "\u001b[91m│\u001b[0m \u001b[33m│\u001b[0m  self = \u001b[1m<\u001b[0m\u001b[1;95mPandasArray\u001b[0m\u001b[1m>\u001b[0m                                                                 \u001b[33m│\u001b[0m \u001b[91m│\u001b[0m\n",
       "\u001b[91m│\u001b[0m \u001b[33m│\u001b[0m         \u001b[1m[\u001b[0m                                   \u001b[33m'1.-.-.-'\u001b[0m,                                \u001b[33m│\u001b[0m \u001b[91m│\u001b[0m\n",
       "\u001b[91m│\u001b[0m \u001b[33m│\u001b[0m         \u001b[2m│   │   │   │   │   │   │   │   │   \u001b[0m\u001b[33m'1.-.-.-'\u001b[0m,                                \u001b[33m│\u001b[0m \u001b[91m│\u001b[0m\n",
       "\u001b[91m│\u001b[0m \u001b[33m│\u001b[0m         \u001b[2m│   │   │   │   │   │   │   │   │   \u001b[0m\u001b[33m'1.-.-.-'\u001b[0m,                                \u001b[33m│\u001b[0m \u001b[91m│\u001b[0m\n",
       "\u001b[91m│\u001b[0m \u001b[33m│\u001b[0m         \u001b[2m│   \u001b[0m\u001b[33m'10-formyltetrahydrofolate dehydrogenase'\u001b[0m,                                \u001b[33m│\u001b[0m \u001b[91m│\u001b[0m\n",
       "\u001b[91m│\u001b[0m \u001b[33m│\u001b[0m         \u001b[2m│   │   │   │   │   │   │   │   │   \u001b[0m\u001b[33m'1.1.-.-'\u001b[0m,                                \u001b[33m│\u001b[0m \u001b[91m│\u001b[0m\n",
       "\u001b[91m│\u001b[0m \u001b[33m│\u001b[0m         \u001b[2m│   │   │   │   │   │   │   │   │   \u001b[0m\u001b[33m'1.1.-.-'\u001b[0m,                                \u001b[33m│\u001b[0m \u001b[91m│\u001b[0m\n",
       "\u001b[91m│\u001b[0m \u001b[33m│\u001b[0m         \u001b[2m│   │   │   │   │   │   │   │   │   \u001b[0m\u001b[33m'1.1.-.-'\u001b[0m,                                \u001b[33m│\u001b[0m \u001b[91m│\u001b[0m\n",
       "\u001b[91m│\u001b[0m \u001b[33m│\u001b[0m         \u001b[2m│   │   │   │   │   │   │   │   │   \u001b[0m\u001b[33m'1.1.-.-'\u001b[0m,                                \u001b[33m│\u001b[0m \u001b[91m│\u001b[0m\n",
       "\u001b[91m│\u001b[0m \u001b[33m│\u001b[0m         \u001b[2m│   │   │   │   │   │   │   │   │   \u001b[0m\u001b[33m'1.1.-.-'\u001b[0m,                                \u001b[33m│\u001b[0m \u001b[91m│\u001b[0m\n",
       "\u001b[91m│\u001b[0m \u001b[33m│\u001b[0m         \u001b[2m│   │   │   │   │   │   │   │   │   \u001b[0m\u001b[33m'1.1.-.-'\u001b[0m,                                \u001b[33m│\u001b[0m \u001b[91m│\u001b[0m\n",
       "\u001b[91m│\u001b[0m \u001b[33m│\u001b[0m         \u001b[2m \u001b[0m\u001b[33m...\u001b[0m                                                                          \u001b[33m│\u001b[0m \u001b[91m│\u001b[0m\n",
       "\u001b[91m│\u001b[0m \u001b[33m│\u001b[0m         \u001b[2m│   │   │   │   │   │   │   │   \u001b[0m\u001b[33m'CELE_6R55.2'\u001b[0m,                                \u001b[33m│\u001b[0m \u001b[91m│\u001b[0m\n",
       "\u001b[91m│\u001b[0m \u001b[33m│\u001b[0m         \u001b[2m│   │   │   │   │   │   │   │      \u001b[0m\u001b[33m'FO080088'\u001b[0m,                                \u001b[33m│\u001b[0m \u001b[91m│\u001b[0m\n",
       "\u001b[91m│\u001b[0m \u001b[33m│\u001b[0m         \u001b[2m│   │   │   │   │   │   │   │     \u001b[0m\u001b[33m'NM_078462'\u001b[0m,                                \u001b[33m│\u001b[0m \u001b[91m│\u001b[0m\n",
       "\u001b[91m│\u001b[0m \u001b[33m│\u001b[0m         \u001b[2m│   │   │   │   │   │   │   │   \u001b[0m\u001b[33m'NM_078462.2'\u001b[0m,                                \u001b[33m│\u001b[0m \u001b[91m│\u001b[0m\n",
       "\u001b[91m│\u001b[0m \u001b[33m│\u001b[0m         \u001b[2m│   │   │   │   │   │   │   │     \u001b[0m\u001b[33m'NP_510863'\u001b[0m,                                \u001b[33m│\u001b[0m \u001b[91m│\u001b[0m\n",
       "\u001b[91m│\u001b[0m \u001b[33m│\u001b[0m         \u001b[2m│   │   │   │   │   │   │   │   \u001b[0m\u001b[33m'NP_510863.2'\u001b[0m,                                \u001b[33m│\u001b[0m \u001b[91m│\u001b[0m\n",
       "\u001b[91m│\u001b[0m \u001b[33m│\u001b[0m         \u001b[2m \u001b[0m\u001b[33m'Protein 6R55.2 \u001b[0m\u001b[1;33m(\u001b[0m\u001b[33m6R55.2\u001b[0m\u001b[1;33m)\u001b[0m\u001b[33m mRNA, complete cds'\u001b[0m,                                \u001b[33m│\u001b[0m \u001b[91m│\u001b[0m\n",
       "\u001b[91m│\u001b[0m \u001b[33m│\u001b[0m         \u001b[2m│   │   │   │   │   \u001b[0m\u001b[33m'Uncharacterized protein'\u001b[0m,                                \u001b[33m│\u001b[0m \u001b[91m│\u001b[0m\n",
       "\u001b[91m│\u001b[0m \u001b[33m│\u001b[0m         \u001b[2m│   │   │   │   │   │   │     \u001b[0m\u001b[33m'UPI0001DB04A1'\u001b[0m,                                \u001b[33m│\u001b[0m \u001b[91m│\u001b[0m\n",
       "\u001b[91m│\u001b[0m \u001b[33m│\u001b[0m         \u001b[2m│   │   │   │   │   │   │    \u001b[0m\u001b[33m'WBGene00007069'\u001b[0m\u001b[1m]\u001b[0m                                \u001b[33m│\u001b[0m \u001b[91m│\u001b[0m\n",
       "\u001b[91m│\u001b[0m \u001b[33m│\u001b[0m         Length: \u001b[94m440652\u001b[0m, dtype: object                                                 \u001b[33m│\u001b[0m \u001b[91m│\u001b[0m\n",
       "\u001b[91m│\u001b[0m \u001b[33m╰───────────────────────────────────────────────────────────────────────────────────────╯\u001b[0m \u001b[91m│\u001b[0m\n",
       "\u001b[91m│\u001b[0m                                                                                           \u001b[91m│\u001b[0m\n",
       "\u001b[91m│\u001b[0m \u001b[2;33m/home/rahit/.cache/pypoetry/virtualenvs/gemo-data-DHiuQg47-py3.8/lib/python3.8/site-packa\u001b[0m \u001b[91m│\u001b[0m\n",
       "\u001b[91m│\u001b[0m \u001b[2;33mges/pandas/core/strings/\u001b[0m\u001b[1;33mobject_array.py\u001b[0m:\u001b[94m71\u001b[0m in \u001b[92m_str_map\u001b[0m                                    \u001b[91m│\u001b[0m\n",
       "\u001b[91m│\u001b[0m                                                                                           \u001b[91m│\u001b[0m\n",
       "\u001b[91m│\u001b[0m   \u001b[2m 68 \u001b[0m\u001b[2m│   │   \u001b[0mmask = isna(arr)                                                            \u001b[91m│\u001b[0m\n",
       "\u001b[91m│\u001b[0m   \u001b[2m 69 \u001b[0m\u001b[2m│   │   \u001b[0mmap_convert = convert \u001b[95mand\u001b[0m \u001b[95mnot\u001b[0m np.all(mask)                                  \u001b[91m│\u001b[0m\n",
       "\u001b[91m│\u001b[0m   \u001b[2m 70 \u001b[0m\u001b[2m│   │   \u001b[0m\u001b[94mtry\u001b[0m:                                                                        \u001b[91m│\u001b[0m\n",
       "\u001b[91m│\u001b[0m \u001b[31m❱ \u001b[0m 71 \u001b[2m│   │   │   \u001b[0mresult = lib.map_infer_mask(arr, f, mask.view(np.uint8), map_convert)   \u001b[91m│\u001b[0m\n",
       "\u001b[91m│\u001b[0m   \u001b[2m 72 \u001b[0m\u001b[2m│   │   \u001b[0m\u001b[94mexcept\u001b[0m (\u001b[96mTypeError\u001b[0m, \u001b[96mAttributeError\u001b[0m) \u001b[94mas\u001b[0m err:                                  \u001b[91m│\u001b[0m\n",
       "\u001b[91m│\u001b[0m   \u001b[2m 73 \u001b[0m\u001b[2m│   │   │   \u001b[0m\u001b[2m# Reraise the exception if callable `f` got wrong number of args.\u001b[0m       \u001b[91m│\u001b[0m\n",
       "\u001b[91m│\u001b[0m   \u001b[2m 74 \u001b[0m\u001b[2m│   │   │   \u001b[0m\u001b[2m# The user may want to be warned by this, instead of getting NaN\u001b[0m        \u001b[91m│\u001b[0m\n",
       "\u001b[91m│\u001b[0m                                                                                           \u001b[91m│\u001b[0m\n",
       "\u001b[91m│\u001b[0m \u001b[33m╭─\u001b[0m\u001b[33m────────────────────────────────────── locals ───────────────────────────────────────\u001b[0m\u001b[33m─╮\u001b[0m \u001b[91m│\u001b[0m\n",
       "\u001b[91m│\u001b[0m \u001b[33m│\u001b[0m         arr = \u001b[1;35marray\u001b[0m\u001b[1m(\u001b[0m\u001b[1m[\u001b[0m\u001b[33m'1.-.-.-'\u001b[0m, \u001b[33m'1.-.-.-'\u001b[0m, \u001b[33m'1.-.-.-'\u001b[0m, \u001b[33m...\u001b[0m, \u001b[33m'Uncharacterized protein'\u001b[0m, \u001b[33m│\u001b[0m \u001b[91m│\u001b[0m\n",
       "\u001b[91m│\u001b[0m \u001b[33m│\u001b[0m               \u001b[2m│      \u001b[0m\u001b[33m'UPI0001DB04A1'\u001b[0m, \u001b[33m'WBGene00007069'\u001b[0m\u001b[1m]\u001b[0m, \u001b[33mdtype\u001b[0m=\u001b[35mobject\u001b[0m\u001b[1m)\u001b[0m                \u001b[33m│\u001b[0m \u001b[91m│\u001b[0m\n",
       "\u001b[91m│\u001b[0m \u001b[33m│\u001b[0m     convert = \u001b[94mTrue\u001b[0m                                                                    \u001b[33m│\u001b[0m \u001b[91m│\u001b[0m\n",
       "\u001b[91m│\u001b[0m \u001b[33m│\u001b[0m       dtype = \u001b[1;35mdtype\u001b[0m\u001b[1m(\u001b[0m\u001b[33m'bool'\u001b[0m\u001b[1m)\u001b[0m                                                           \u001b[33m│\u001b[0m \u001b[91m│\u001b[0m\n",
       "\u001b[91m│\u001b[0m \u001b[33m│\u001b[0m           f = \u001b[1m<\u001b[0m\u001b[1;95mfunction\u001b[0m\u001b[39m ObjectStringArrayMixin._str_match.<locals\u001b[0m\u001b[1m>\u001b[0m.\u001b[1m<\u001b[0m\u001b[1;95mlambda\u001b[0m\u001b[1m>\u001b[0m at        \u001b[33m│\u001b[0m \u001b[91m│\u001b[0m\n",
       "\u001b[91m│\u001b[0m \u001b[33m│\u001b[0m               \u001b[94m0x2b895c75d940\u001b[0m>                                                         \u001b[33m│\u001b[0m \u001b[91m│\u001b[0m\n",
       "\u001b[91m│\u001b[0m \u001b[33m│\u001b[0m map_convert = \u001b[94mTrue\u001b[0m                                                                    \u001b[33m│\u001b[0m \u001b[91m│\u001b[0m\n",
       "\u001b[91m│\u001b[0m \u001b[33m│\u001b[0m        mask = \u001b[1;35marray\u001b[0m\u001b[1m(\u001b[0m\u001b[1m[\u001b[0m\u001b[94mFalse\u001b[0m, \u001b[94mFalse\u001b[0m, \u001b[94mFalse\u001b[0m, \u001b[33m...\u001b[0m, \u001b[94mFalse\u001b[0m, \u001b[94mFalse\u001b[0m, \u001b[94mFalse\u001b[0m\u001b[1m]\u001b[0m\u001b[1m)\u001b[0m                  \u001b[33m│\u001b[0m \u001b[91m│\u001b[0m\n",
       "\u001b[91m│\u001b[0m \u001b[33m│\u001b[0m    na_value = nan                                                                     \u001b[33m│\u001b[0m \u001b[91m│\u001b[0m\n",
       "\u001b[91m│\u001b[0m \u001b[33m│\u001b[0m        self = \u001b[1m<\u001b[0m\u001b[1;95mPandasArray\u001b[0m\u001b[1m>\u001b[0m                                                           \u001b[33m│\u001b[0m \u001b[91m│\u001b[0m\n",
       "\u001b[91m│\u001b[0m \u001b[33m│\u001b[0m               \u001b[1m[\u001b[0m                                   \u001b[33m'1.-.-.-'\u001b[0m,                          \u001b[33m│\u001b[0m \u001b[91m│\u001b[0m\n",
       "\u001b[91m│\u001b[0m \u001b[33m│\u001b[0m               \u001b[2m│   │   │   │   │   │   │   │   │   \u001b[0m\u001b[33m'1.-.-.-'\u001b[0m,                          \u001b[33m│\u001b[0m \u001b[91m│\u001b[0m\n",
       "\u001b[91m│\u001b[0m \u001b[33m│\u001b[0m               \u001b[2m│   │   │   │   │   │   │   │   │   \u001b[0m\u001b[33m'1.-.-.-'\u001b[0m,                          \u001b[33m│\u001b[0m \u001b[91m│\u001b[0m\n",
       "\u001b[91m│\u001b[0m \u001b[33m│\u001b[0m               \u001b[2m│   \u001b[0m\u001b[33m'10-formyltetrahydrofolate dehydrogenase'\u001b[0m,                          \u001b[33m│\u001b[0m \u001b[91m│\u001b[0m\n",
       "\u001b[91m│\u001b[0m \u001b[33m│\u001b[0m               \u001b[2m│   │   │   │   │   │   │   │   │   \u001b[0m\u001b[33m'1.1.-.-'\u001b[0m,                          \u001b[33m│\u001b[0m \u001b[91m│\u001b[0m\n",
       "\u001b[91m│\u001b[0m \u001b[33m│\u001b[0m               \u001b[2m│   │   │   │   │   │   │   │   │   \u001b[0m\u001b[33m'1.1.-.-'\u001b[0m,                          \u001b[33m│\u001b[0m \u001b[91m│\u001b[0m\n",
       "\u001b[91m│\u001b[0m \u001b[33m│\u001b[0m               \u001b[2m│   │   │   │   │   │   │   │   │   \u001b[0m\u001b[33m'1.1.-.-'\u001b[0m,                          \u001b[33m│\u001b[0m \u001b[91m│\u001b[0m\n",
       "\u001b[91m│\u001b[0m \u001b[33m│\u001b[0m               \u001b[2m│   │   │   │   │   │   │   │   │   \u001b[0m\u001b[33m'1.1.-.-'\u001b[0m,                          \u001b[33m│\u001b[0m \u001b[91m│\u001b[0m\n",
       "\u001b[91m│\u001b[0m \u001b[33m│\u001b[0m               \u001b[2m│   │   │   │   │   │   │   │   │   \u001b[0m\u001b[33m'1.1.-.-'\u001b[0m,                          \u001b[33m│\u001b[0m \u001b[91m│\u001b[0m\n",
       "\u001b[91m│\u001b[0m \u001b[33m│\u001b[0m               \u001b[2m│   │   │   │   │   │   │   │   │   \u001b[0m\u001b[33m'1.1.-.-'\u001b[0m,                          \u001b[33m│\u001b[0m \u001b[91m│\u001b[0m\n",
       "\u001b[91m│\u001b[0m \u001b[33m│\u001b[0m               \u001b[2m \u001b[0m\u001b[33m...\u001b[0m                                                                    \u001b[33m│\u001b[0m \u001b[91m│\u001b[0m\n",
       "\u001b[91m│\u001b[0m \u001b[33m│\u001b[0m               \u001b[2m│   │   │   │   │   │   │   │   \u001b[0m\u001b[33m'CELE_6R55.2'\u001b[0m,                          \u001b[33m│\u001b[0m \u001b[91m│\u001b[0m\n",
       "\u001b[91m│\u001b[0m \u001b[33m│\u001b[0m               \u001b[2m│   │   │   │   │   │   │   │      \u001b[0m\u001b[33m'FO080088'\u001b[0m,                          \u001b[33m│\u001b[0m \u001b[91m│\u001b[0m\n",
       "\u001b[91m│\u001b[0m \u001b[33m│\u001b[0m               \u001b[2m│   │   │   │   │   │   │   │     \u001b[0m\u001b[33m'NM_078462'\u001b[0m,                          \u001b[33m│\u001b[0m \u001b[91m│\u001b[0m\n",
       "\u001b[91m│\u001b[0m \u001b[33m│\u001b[0m               \u001b[2m│   │   │   │   │   │   │   │   \u001b[0m\u001b[33m'NM_078462.2'\u001b[0m,                          \u001b[33m│\u001b[0m \u001b[91m│\u001b[0m\n",
       "\u001b[91m│\u001b[0m \u001b[33m│\u001b[0m               \u001b[2m│   │   │   │   │   │   │   │     \u001b[0m\u001b[33m'NP_510863'\u001b[0m,                          \u001b[33m│\u001b[0m \u001b[91m│\u001b[0m\n",
       "\u001b[91m│\u001b[0m \u001b[33m│\u001b[0m               \u001b[2m│   │   │   │   │   │   │   │   \u001b[0m\u001b[33m'NP_510863.2'\u001b[0m,                          \u001b[33m│\u001b[0m \u001b[91m│\u001b[0m\n",
       "\u001b[91m│\u001b[0m \u001b[33m│\u001b[0m               \u001b[2m \u001b[0m\u001b[33m'Protein 6R55.2 \u001b[0m\u001b[1;33m(\u001b[0m\u001b[33m6R55.2\u001b[0m\u001b[1;33m)\u001b[0m\u001b[33m mRNA, complete cds'\u001b[0m,                          \u001b[33m│\u001b[0m \u001b[91m│\u001b[0m\n",
       "\u001b[91m│\u001b[0m \u001b[33m│\u001b[0m               \u001b[2m│   │   │   │   │   \u001b[0m\u001b[33m'Uncharacterized protein'\u001b[0m,                          \u001b[33m│\u001b[0m \u001b[91m│\u001b[0m\n",
       "\u001b[91m│\u001b[0m \u001b[33m│\u001b[0m               \u001b[2m│   │   │   │   │   │   │     \u001b[0m\u001b[33m'UPI0001DB04A1'\u001b[0m,                          \u001b[33m│\u001b[0m \u001b[91m│\u001b[0m\n",
       "\u001b[91m│\u001b[0m \u001b[33m│\u001b[0m               \u001b[2m│   │   │   │   │   │   │    \u001b[0m\u001b[33m'WBGene00007069'\u001b[0m\u001b[1m]\u001b[0m                          \u001b[33m│\u001b[0m \u001b[91m│\u001b[0m\n",
       "\u001b[91m│\u001b[0m \u001b[33m│\u001b[0m               Length: \u001b[94m440652\u001b[0m, dtype: object                                           \u001b[33m│\u001b[0m \u001b[91m│\u001b[0m\n",
       "\u001b[91m│\u001b[0m \u001b[33m╰───────────────────────────────────────────────────────────────────────────────────────╯\u001b[0m \u001b[91m│\u001b[0m\n",
       "\u001b[91m╰───────────────────────────────────────────────────────────────────────────────────────────╯\u001b[0m\n",
       "\u001b[1;91mKeyboardInterrupt\u001b[0m\n"
      ]
     },
     "metadata": {},
     "output_type": "display_data"
    }
   ],
   "source": [
    "for p in tqdm(pairs):\n",
    "    score = get_interaction_score(p[0], p[1], protein_interaction_df, protein_alias_df)\n",
    "    if score:\n",
    "        G.add_edge(v_invmap[p[0]], v_invmap[p[1]], weight=score )"
   ]
  },
  {
   "cell_type": "code",
   "execution_count": null,
   "id": "bc451c4a-0e0f-4d97-b894-0bf62a1d8c0d",
   "metadata": {
    "tags": []
   },
   "outputs": [],
   "source": [
    "groups = df.groupby('Sample')\n",
    "\n",
    "for g in groups:\n",
    "    pairs = []\n",
    "    for # check list if pair exist"
   ]
  },
  {
   "cell_type": "code",
   "execution_count": null,
   "id": "a840c1b8-bc19-42f5-83b4-17f836e712eb",
   "metadata": {},
   "outputs": [],
   "source": []
  },
  {
   "cell_type": "code",
   "execution_count": null,
   "id": "ff070bf8-be77-4ef0-8f89-e893d7b18a7e",
   "metadata": {},
   "outputs": [],
   "source": []
  },
  {
   "cell_type": "code",
   "execution_count": null,
   "id": "2ff833be-6e5d-4c58-a183-e714f80c8c10",
   "metadata": {},
   "outputs": [],
   "source": []
  },
  {
   "cell_type": "code",
   "execution_count": null,
   "id": "e20de300-f9bf-4072-b084-7e4d97ac5097",
   "metadata": {},
   "outputs": [],
   "source": []
  },
  {
   "cell_type": "code",
   "execution_count": null,
   "id": "b75bddda-efff-4db7-b89b-b70657567fd0",
   "metadata": {},
   "outputs": [],
   "source": []
  },
  {
   "cell_type": "code",
   "execution_count": null,
   "id": "bb09b808-9bc6-480d-be95-a5bd372b2c9e",
   "metadata": {},
   "outputs": [],
   "source": []
  },
  {
   "cell_type": "code",
   "execution_count": null,
   "id": "437f0a2f-1066-4bc6-bfee-c8043a7deaf2",
   "metadata": {},
   "outputs": [],
   "source": []
  },
  {
   "cell_type": "code",
   "execution_count": null,
   "id": "2773b90d-7bc8-44ef-99ea-719490917b5b",
   "metadata": {},
   "outputs": [],
   "source": []
  },
  {
   "cell_type": "code",
   "execution_count": null,
   "id": "ca944706-48aa-4c47-a5e3-92129f6c6c9d",
   "metadata": {},
   "outputs": [],
   "source": []
  },
  {
   "cell_type": "code",
   "execution_count": null,
   "id": "4abc35c4-2a0f-4f92-a543-e4914925d12c",
   "metadata": {},
   "outputs": [],
   "source": []
  },
  {
   "cell_type": "code",
   "execution_count": null,
   "id": "403454f8-3d54-4e28-9126-7baf2620c4e8",
   "metadata": {},
   "outputs": [],
   "source": []
  },
  {
   "cell_type": "markdown",
   "id": "aa17e9c2-1686-4bc2-8ad4-f29654db34dd",
   "metadata": {},
   "source": [
    "## Edge list with no node features (zero valued) and GO similarity as edge weight"
   ]
  },
  {
   "cell_type": "code",
   "execution_count": 77,
   "id": "0acfb899-5bec-4c21-9533-18d452233a8c",
   "metadata": {},
   "outputs": [
    {
     "data": {
      "text/html": [
       "<pre style=\"white-space:pre;overflow-x:auto;line-height:normal;font-family:Menlo,'DejaVu Sans Mono',consolas,'Courier New',monospace\"><span style=\"color: #008080; text-decoration-color: #008080; font-weight: bold\">268278</span>\n",
       "</pre>\n"
      ],
      "text/plain": [
       "\u001b[1;36m268278\u001b[0m\n"
      ]
     },
     "metadata": {},
     "output_type": "display_data"
    }
   ],
   "source": [
    "src = df['wormbase_gene_id'].values\n",
    "tgt = df['target_gene_id'].values\n",
    "len(src)\n",
    "# node_sets = [np.union1d(G[0].values, G[1].values) for G in self.graphs]\n",
    "# union = reduce(np.union1d, node_sets)\n",
    "# return node_sets, union"
   ]
  },
  {
   "cell_type": "markdown",
   "id": "2574bfbe-44eb-4c39-b30b-2236ac273c33",
   "metadata": {},
   "source": [
    "Creating hashmap for the gene/nodes"
   ]
  },
  {
   "cell_type": "code",
   "execution_count": 78,
   "id": "1cb0799d-68a3-459d-9f2d-3770afa44ed8",
   "metadata": {},
   "outputs": [
    {
     "data": {
      "text/html": [
       "<pre style=\"white-space:pre;overflow-x:auto;line-height:normal;font-family:Menlo,'DejaVu Sans Mono',consolas,'Courier New',monospace\"><span style=\"color: #008080; text-decoration-color: #008080; font-weight: bold\">733</span>\n",
       "</pre>\n"
      ],
      "text/plain": [
       "\u001b[1;36m733\u001b[0m\n"
      ]
     },
     "metadata": {},
     "output_type": "display_data"
    }
   ],
   "source": [
    "v = np.union1d(src, tgt)\n",
    "v_hashmap = dict(enumerate(v))\n",
    "v_invmap = {v: k for k, v in v_hashmap.items()}\n",
    "len(v_hashmap.keys())"
   ]
  },
  {
   "cell_type": "code",
   "execution_count": 79,
   "id": "7930075f-97df-4b1e-bf44-48925b3a2633",
   "metadata": {},
   "outputs": [
    {
     "data": {
      "text/html": [
       "<div>\n",
       "<style scoped>\n",
       "    .dataframe tbody tr th:only-of-type {\n",
       "        vertical-align: middle;\n",
       "    }\n",
       "\n",
       "    .dataframe tbody tr th {\n",
       "        vertical-align: top;\n",
       "    }\n",
       "\n",
       "    .dataframe thead th {\n",
       "        text-align: right;\n",
       "    }\n",
       "</style>\n",
       "<table border=\"1\" class=\"dataframe\">\n",
       "  <thead>\n",
       "    <tr style=\"text-align: right;\">\n",
       "      <th></th>\n",
       "      <th>wormbase_gene_id</th>\n",
       "      <th>target_gene_id</th>\n",
       "      <th>go_n_common_ancestors_max</th>\n",
       "      <th>go_n_common_ancestors_avg</th>\n",
       "      <th>go_n_common_ancestors_bma</th>\n",
       "      <th>go_n_union_ancestors_max</th>\n",
       "      <th>go_n_union_ancestors_avg</th>\n",
       "      <th>go_n_union_ancestors_bma</th>\n",
       "      <th>go_batet_max</th>\n",
       "      <th>go_batet_avg</th>\n",
       "      <th>...</th>\n",
       "      <th>wpo_lin_avg</th>\n",
       "      <th>wpo_lin_bma</th>\n",
       "      <th>wpo_jiang_max</th>\n",
       "      <th>wpo_jiang_avg</th>\n",
       "      <th>wpo_jiang_bma</th>\n",
       "      <th>wpo_jiang_seco_max</th>\n",
       "      <th>wpo_jiang_seco_avg</th>\n",
       "      <th>wpo_jiang_seco_bma</th>\n",
       "      <th>vx</th>\n",
       "      <th>vy</th>\n",
       "    </tr>\n",
       "  </thead>\n",
       "  <tbody>\n",
       "    <tr>\n",
       "      <th>0</th>\n",
       "      <td>WBGene00013931</td>\n",
       "      <td>WBGene00013177</td>\n",
       "      <td>2.0</td>\n",
       "      <td>2.00</td>\n",
       "      <td>2.0</td>\n",
       "      <td>19.0</td>\n",
       "      <td>11.000000</td>\n",
       "      <td>12.600000</td>\n",
       "      <td>0.500000</td>\n",
       "      <td>0.500000</td>\n",
       "      <td>...</td>\n",
       "      <td>0.120405</td>\n",
       "      <td>0.120405</td>\n",
       "      <td>0.073647</td>\n",
       "      <td>0.073647</td>\n",
       "      <td>0.073647</td>\n",
       "      <td>0.145140</td>\n",
       "      <td>0.145140</td>\n",
       "      <td>0.145140</td>\n",
       "      <td>451</td>\n",
       "      <td>420</td>\n",
       "    </tr>\n",
       "    <tr>\n",
       "      <th>1</th>\n",
       "      <td>WBGene00013931</td>\n",
       "      <td>WBGene00021689</td>\n",
       "      <td>2.0</td>\n",
       "      <td>2.00</td>\n",
       "      <td>2.0</td>\n",
       "      <td>89.0</td>\n",
       "      <td>46.200000</td>\n",
       "      <td>53.333333</td>\n",
       "      <td>0.133333</td>\n",
       "      <td>0.077903</td>\n",
       "      <td>...</td>\n",
       "      <td>0.136612</td>\n",
       "      <td>0.140814</td>\n",
       "      <td>0.092446</td>\n",
       "      <td>0.084209</td>\n",
       "      <td>0.086955</td>\n",
       "      <td>0.332797</td>\n",
       "      <td>0.253088</td>\n",
       "      <td>0.279658</td>\n",
       "      <td>451</td>\n",
       "      <td>668</td>\n",
       "    </tr>\n",
       "    <tr>\n",
       "      <th>2</th>\n",
       "      <td>WBGene00013931</td>\n",
       "      <td>WBGene00004225</td>\n",
       "      <td>0.0</td>\n",
       "      <td>0.00</td>\n",
       "      <td>0.0</td>\n",
       "      <td>18.0</td>\n",
       "      <td>10.666667</td>\n",
       "      <td>11.714286</td>\n",
       "      <td>0.000000</td>\n",
       "      <td>0.000000</td>\n",
       "      <td>...</td>\n",
       "      <td>0.349787</td>\n",
       "      <td>0.418544</td>\n",
       "      <td>0.137472</td>\n",
       "      <td>0.081294</td>\n",
       "      <td>0.089319</td>\n",
       "      <td>0.573584</td>\n",
       "      <td>0.165064</td>\n",
       "      <td>0.223424</td>\n",
       "      <td>451</td>\n",
       "      <td>137</td>\n",
       "    </tr>\n",
       "    <tr>\n",
       "      <th>3</th>\n",
       "      <td>WBGene00013931</td>\n",
       "      <td>WBGene00006771</td>\n",
       "      <td>2.0</td>\n",
       "      <td>1.75</td>\n",
       "      <td>1.8</td>\n",
       "      <td>32.0</td>\n",
       "      <td>12.631579</td>\n",
       "      <td>13.600000</td>\n",
       "      <td>0.333333</td>\n",
       "      <td>0.221491</td>\n",
       "      <td>...</td>\n",
       "      <td>0.221559</td>\n",
       "      <td>0.231321</td>\n",
       "      <td>0.140949</td>\n",
       "      <td>0.082794</td>\n",
       "      <td>0.083981</td>\n",
       "      <td>0.585782</td>\n",
       "      <td>0.207192</td>\n",
       "      <td>0.214919</td>\n",
       "      <td>451</td>\n",
       "      <td>208</td>\n",
       "    </tr>\n",
       "    <tr>\n",
       "      <th>4</th>\n",
       "      <td>WBGene00013931</td>\n",
       "      <td>WBGene00021771</td>\n",
       "      <td>2.0</td>\n",
       "      <td>2.00</td>\n",
       "      <td>2.0</td>\n",
       "      <td>45.0</td>\n",
       "      <td>26.666667</td>\n",
       "      <td>31.250000</td>\n",
       "      <td>0.333333</td>\n",
       "      <td>0.333333</td>\n",
       "      <td>...</td>\n",
       "      <td>0.120484</td>\n",
       "      <td>0.120568</td>\n",
       "      <td>0.073968</td>\n",
       "      <td>0.073698</td>\n",
       "      <td>0.073752</td>\n",
       "      <td>0.149139</td>\n",
       "      <td>0.145779</td>\n",
       "      <td>0.146451</td>\n",
       "      <td>451</td>\n",
       "      <td>669</td>\n",
       "    </tr>\n",
       "  </tbody>\n",
       "</table>\n",
       "<p>5 rows × 58 columns</p>\n",
       "</div>"
      ]
     },
     "execution_count": 79,
     "metadata": {},
     "output_type": "execute_result"
    }
   ],
   "source": [
    "df['vx'] = df.apply(lambda r: v_invmap[r['wormbase_gene_id']], axis=1)\n",
    "df['vy'] = df.apply(lambda r: v_invmap[r['target_gene_id']], axis=1)\n",
    "df.head()"
   ]
  },
  {
   "cell_type": "markdown",
   "id": "6428a494-e8df-4a70-9b60-860f1748b3c1",
   "metadata": {},
   "source": [
    "Create Tensors for PyG object"
   ]
  },
  {
   "cell_type": "code",
   "execution_count": 80,
   "id": "36e1e428-271b-479b-b2eb-3f903b1828d4",
   "metadata": {},
   "outputs": [
    {
     "data": {
      "text/html": [
       "<pre style=\"white-space:pre;overflow-x:auto;line-height:normal;font-family:Menlo,'DejaVu Sans Mono',consolas,'Courier New',monospace\"><span style=\"font-weight: bold\">[</span><span style=\"color: #008080; text-decoration-color: #008080; font-weight: bold\">451</span> <span style=\"color: #008080; text-decoration-color: #008080; font-weight: bold\">451</span> <span style=\"color: #008080; text-decoration-color: #008080; font-weight: bold\">451</span> <span style=\"color: #808000; text-decoration-color: #808000\">...</span> <span style=\"color: #008080; text-decoration-color: #008080; font-weight: bold\">252</span> <span style=\"color: #008080; text-decoration-color: #008080; font-weight: bold\">252</span> <span style=\"color: #008080; text-decoration-color: #008080; font-weight: bold\">522</span><span style=\"font-weight: bold\">]</span> <span style=\"font-weight: bold\">[</span><span style=\"color: #008080; text-decoration-color: #008080; font-weight: bold\">420</span> <span style=\"color: #008080; text-decoration-color: #008080; font-weight: bold\">668</span> <span style=\"color: #008080; text-decoration-color: #008080; font-weight: bold\">137</span> <span style=\"color: #808000; text-decoration-color: #808000\">...</span> <span style=\"color: #008080; text-decoration-color: #008080; font-weight: bold\">522</span> <span style=\"color: #008080; text-decoration-color: #008080; font-weight: bold\">227</span> <span style=\"color: #008080; text-decoration-color: #008080; font-weight: bold\">227</span><span style=\"font-weight: bold\">]</span> <span style=\"font-weight: bold\">[</span><span style=\"color: #008080; text-decoration-color: #008080; font-weight: bold\">0.5</span>        <span style=\"color: #008080; text-decoration-color: #008080; font-weight: bold\">0.09637953</span> <span style=\"color: #008080; text-decoration-color: #008080; font-weight: bold\">0</span>.        \n",
       "<span style=\"color: #808000; text-decoration-color: #808000\">...</span> <span style=\"color: #008080; text-decoration-color: #008080; font-weight: bold\">0.45518207</span> <span style=\"color: #008080; text-decoration-color: #008080; font-weight: bold\">0.39176449</span> <span style=\"color: #008080; text-decoration-color: #008080; font-weight: bold\">0.2168107</span> <span style=\"font-weight: bold\">]</span>\n",
       "</pre>\n"
      ],
      "text/plain": [
       "\u001b[1m[\u001b[0m\u001b[1;36m451\u001b[0m \u001b[1;36m451\u001b[0m \u001b[1;36m451\u001b[0m \u001b[33m...\u001b[0m \u001b[1;36m252\u001b[0m \u001b[1;36m252\u001b[0m \u001b[1;36m522\u001b[0m\u001b[1m]\u001b[0m \u001b[1m[\u001b[0m\u001b[1;36m420\u001b[0m \u001b[1;36m668\u001b[0m \u001b[1;36m137\u001b[0m \u001b[33m...\u001b[0m \u001b[1;36m522\u001b[0m \u001b[1;36m227\u001b[0m \u001b[1;36m227\u001b[0m\u001b[1m]\u001b[0m \u001b[1m[\u001b[0m\u001b[1;36m0.5\u001b[0m        \u001b[1;36m0.09637953\u001b[0m \u001b[1;36m0\u001b[0m.        \n",
       "\u001b[33m...\u001b[0m \u001b[1;36m0.45518207\u001b[0m \u001b[1;36m0.39176449\u001b[0m \u001b[1;36m0.2168107\u001b[0m \u001b[1m]\u001b[0m\n"
      ]
     },
     "metadata": {},
     "output_type": "display_data"
    }
   ],
   "source": [
    "vx = df['vx'].to_numpy()\n",
    "vy = df['vy'].to_numpy()\n",
    "e = df['go_batet_bma'].to_numpy()\n",
    "print(vx, vy, e)"
   ]
  },
  {
   "cell_type": "code",
   "execution_count": 81,
   "id": "f6039bb5-2c91-4270-9f23-67d1a7823525",
   "metadata": {},
   "outputs": [],
   "source": [
    "nodes = np.union1d(vx,vy)\n",
    "n = len(nodes)"
   ]
  },
  {
   "cell_type": "code",
   "execution_count": 82,
   "id": "2369020b-e1ef-4595-9889-741eb33945d5",
   "metadata": {},
   "outputs": [
    {
     "data": {
      "text/html": [
       "<pre style=\"white-space:pre;overflow-x:auto;line-height:normal;font-family:Menlo,'DejaVu Sans Mono',consolas,'Courier New',monospace\"><span style=\"color: #800080; text-decoration-color: #800080; font-weight: bold\">tensor</span><span style=\"font-weight: bold\">([[</span><span style=\"color: #008080; text-decoration-color: #008080; font-weight: bold\">451</span>, <span style=\"color: #008080; text-decoration-color: #008080; font-weight: bold\">451</span>, <span style=\"color: #008080; text-decoration-color: #008080; font-weight: bold\">451</span>,  <span style=\"color: #808000; text-decoration-color: #808000\">...</span>, <span style=\"color: #008080; text-decoration-color: #008080; font-weight: bold\">252</span>, <span style=\"color: #008080; text-decoration-color: #008080; font-weight: bold\">252</span>, <span style=\"color: #008080; text-decoration-color: #008080; font-weight: bold\">522</span><span style=\"font-weight: bold\">]</span>,\n",
       "        <span style=\"font-weight: bold\">[</span><span style=\"color: #008080; text-decoration-color: #008080; font-weight: bold\">420</span>, <span style=\"color: #008080; text-decoration-color: #008080; font-weight: bold\">668</span>, <span style=\"color: #008080; text-decoration-color: #008080; font-weight: bold\">137</span>,  <span style=\"color: #808000; text-decoration-color: #808000\">...</span>, <span style=\"color: #008080; text-decoration-color: #008080; font-weight: bold\">522</span>, <span style=\"color: #008080; text-decoration-color: #008080; font-weight: bold\">227</span>, <span style=\"color: #008080; text-decoration-color: #008080; font-weight: bold\">227</span><span style=\"font-weight: bold\">]])</span> <span style=\"color: #800080; text-decoration-color: #800080; font-weight: bold\">tensor</span><span style=\"font-weight: bold\">([</span><span style=\"color: #008080; text-decoration-color: #008080; font-weight: bold\">0.5000</span>, <span style=\"color: #008080; text-decoration-color: #008080; font-weight: bold\">0.0964</span>, <span style=\"color: #008080; text-decoration-color: #008080; font-weight: bold\">0.0000</span>,  <span style=\"color: #808000; text-decoration-color: #808000\">...</span>, <span style=\"color: #008080; text-decoration-color: #008080; font-weight: bold\">0.4552</span>, \n",
       "<span style=\"color: #008080; text-decoration-color: #008080; font-weight: bold\">0.3918</span>, <span style=\"color: #008080; text-decoration-color: #008080; font-weight: bold\">0.2168</span><span style=\"font-weight: bold\">])</span>\n",
       "</pre>\n"
      ],
      "text/plain": [
       "\u001b[1;35mtensor\u001b[0m\u001b[1m(\u001b[0m\u001b[1m[\u001b[0m\u001b[1m[\u001b[0m\u001b[1;36m451\u001b[0m, \u001b[1;36m451\u001b[0m, \u001b[1;36m451\u001b[0m,  \u001b[33m...\u001b[0m, \u001b[1;36m252\u001b[0m, \u001b[1;36m252\u001b[0m, \u001b[1;36m522\u001b[0m\u001b[1m]\u001b[0m,\n",
       "        \u001b[1m[\u001b[0m\u001b[1;36m420\u001b[0m, \u001b[1;36m668\u001b[0m, \u001b[1;36m137\u001b[0m,  \u001b[33m...\u001b[0m, \u001b[1;36m522\u001b[0m, \u001b[1;36m227\u001b[0m, \u001b[1;36m227\u001b[0m\u001b[1m]\u001b[0m\u001b[1m]\u001b[0m\u001b[1m)\u001b[0m \u001b[1;35mtensor\u001b[0m\u001b[1m(\u001b[0m\u001b[1m[\u001b[0m\u001b[1;36m0.5000\u001b[0m, \u001b[1;36m0.0964\u001b[0m, \u001b[1;36m0.0000\u001b[0m,  \u001b[33m...\u001b[0m, \u001b[1;36m0.4552\u001b[0m, \n",
       "\u001b[1;36m0.3918\u001b[0m, \u001b[1;36m0.2168\u001b[0m\u001b[1m]\u001b[0m\u001b[1m)\u001b[0m\n"
      ]
     },
     "metadata": {},
     "output_type": "display_data"
    }
   ],
   "source": [
    "edge_index = torch.tensor(np.array([vx, vy]), dtype=torch.long)\n",
    "edge_attr = torch.tensor(e, dtype=torch.float)\n",
    "print(edge_index, edge_attr)"
   ]
  },
  {
   "cell_type": "code",
   "execution_count": 83,
   "id": "6138f67e-e926-4ec9-9746-a956483f0960",
   "metadata": {},
   "outputs": [
    {
     "data": {
      "text/html": [
       "<pre style=\"white-space:pre;overflow-x:auto;line-height:normal;font-family:Menlo,'DejaVu Sans Mono',consolas,'Courier New',monospace\"><span style=\"color: #800080; text-decoration-color: #800080; font-weight: bold\">Data</span><span style=\"font-weight: bold\">(</span><span style=\"color: #808000; text-decoration-color: #808000\">x</span>=<span style=\"font-weight: bold\">[</span><span style=\"color: #008080; text-decoration-color: #008080; font-weight: bold\">733</span>, <span style=\"color: #008080; text-decoration-color: #008080; font-weight: bold\">3</span><span style=\"font-weight: bold\">]</span>, <span style=\"color: #808000; text-decoration-color: #808000\">edge_index</span>=<span style=\"font-weight: bold\">[</span><span style=\"color: #008080; text-decoration-color: #008080; font-weight: bold\">2</span>, <span style=\"color: #008080; text-decoration-color: #008080; font-weight: bold\">268278</span><span style=\"font-weight: bold\">]</span>, <span style=\"color: #808000; text-decoration-color: #808000\">edge_attr</span>=<span style=\"font-weight: bold\">[</span><span style=\"color: #008080; text-decoration-color: #008080; font-weight: bold\">268278</span><span style=\"font-weight: bold\">])</span>\n",
       "</pre>\n"
      ],
      "text/plain": [
       "\u001b[1;35mData\u001b[0m\u001b[1m(\u001b[0m\u001b[33mx\u001b[0m=\u001b[1m[\u001b[0m\u001b[1;36m733\u001b[0m, \u001b[1;36m3\u001b[0m\u001b[1m]\u001b[0m, \u001b[33medge_index\u001b[0m=\u001b[1m[\u001b[0m\u001b[1;36m2\u001b[0m, \u001b[1;36m268278\u001b[0m\u001b[1m]\u001b[0m, \u001b[33medge_attr\u001b[0m=\u001b[1m[\u001b[0m\u001b[1;36m268278\u001b[0m\u001b[1m]\u001b[0m\u001b[1m)\u001b[0m\n"
      ]
     },
     "metadata": {},
     "output_type": "display_data"
    }
   ],
   "source": [
    "data = Data(x=torch.zeros((n,3)), edge_index=edge_index, edge_attr=edge_attr)\n",
    "print(data)"
   ]
  },
  {
   "cell_type": "code",
   "execution_count": 84,
   "id": "5464353f-a9e5-4623-91fa-1fc1f669a9b0",
   "metadata": {},
   "outputs": [
    {
     "data": {
      "text/html": [
       "<pre style=\"white-space:pre;overflow-x:auto;line-height:normal;font-family:Menlo,'DejaVu Sans Mono',consolas,'Courier New',monospace\">\n",
       "<span style=\"color: #800080; text-decoration-color: #800080; font-weight: bold\">tensor</span><span style=\"font-weight: bold\">([[</span><span style=\"color: #008080; text-decoration-color: #008080; font-weight: bold\">451</span>, <span style=\"color: #008080; text-decoration-color: #008080; font-weight: bold\">451</span>, <span style=\"color: #008080; text-decoration-color: #008080; font-weight: bold\">451</span>,  <span style=\"color: #808000; text-decoration-color: #808000\">...</span>, <span style=\"color: #008080; text-decoration-color: #008080; font-weight: bold\">252</span>, <span style=\"color: #008080; text-decoration-color: #008080; font-weight: bold\">252</span>, <span style=\"color: #008080; text-decoration-color: #008080; font-weight: bold\">522</span><span style=\"font-weight: bold\">]</span>,\n",
       "        <span style=\"font-weight: bold\">[</span><span style=\"color: #008080; text-decoration-color: #008080; font-weight: bold\">420</span>, <span style=\"color: #008080; text-decoration-color: #008080; font-weight: bold\">668</span>, <span style=\"color: #008080; text-decoration-color: #008080; font-weight: bold\">137</span>,  <span style=\"color: #808000; text-decoration-color: #808000\">...</span>, <span style=\"color: #008080; text-decoration-color: #008080; font-weight: bold\">522</span>, <span style=\"color: #008080; text-decoration-color: #008080; font-weight: bold\">227</span>, <span style=\"color: #008080; text-decoration-color: #008080; font-weight: bold\">227</span><span style=\"font-weight: bold\">]])</span>\n",
       "</pre>\n"
      ],
      "text/plain": [
       "\n",
       "\u001b[1;35mtensor\u001b[0m\u001b[1m(\u001b[0m\u001b[1m[\u001b[0m\u001b[1m[\u001b[0m\u001b[1;36m451\u001b[0m, \u001b[1;36m451\u001b[0m, \u001b[1;36m451\u001b[0m,  \u001b[33m...\u001b[0m, \u001b[1;36m252\u001b[0m, \u001b[1;36m252\u001b[0m, \u001b[1;36m522\u001b[0m\u001b[1m]\u001b[0m,\n",
       "        \u001b[1m[\u001b[0m\u001b[1;36m420\u001b[0m, \u001b[1;36m668\u001b[0m, \u001b[1;36m137\u001b[0m,  \u001b[33m...\u001b[0m, \u001b[1;36m522\u001b[0m, \u001b[1;36m227\u001b[0m, \u001b[1;36m227\u001b[0m\u001b[1m]\u001b[0m\u001b[1m]\u001b[0m\u001b[1m)\u001b[0m\n"
      ]
     },
     "metadata": {},
     "output_type": "display_data"
    }
   ],
   "source": [
    "data['edge_index']"
   ]
  },
  {
   "cell_type": "code",
   "execution_count": 85,
   "id": "dff13ad6-c9ed-471e-8e0d-028c49be27ac",
   "metadata": {},
   "outputs": [
    {
     "data": {
      "text/html": [
       "<pre style=\"white-space:pre;overflow-x:auto;line-height:normal;font-family:Menlo,'DejaVu Sans Mono',consolas,'Courier New',monospace\"># Nodes:  <span style=\"color: #008080; text-decoration-color: #008080; font-weight: bold\">733</span>\n",
       "</pre>\n"
      ],
      "text/plain": [
       "# Nodes:  \u001b[1;36m733\u001b[0m\n"
      ]
     },
     "metadata": {},
     "output_type": "display_data"
    },
    {
     "data": {
      "text/html": [
       "<pre style=\"white-space:pre;overflow-x:auto;line-height:normal;font-family:Menlo,'DejaVu Sans Mono',consolas,'Courier New',monospace\"># Edges:  <span style=\"color: #008080; text-decoration-color: #008080; font-weight: bold\">268278</span>\n",
       "</pre>\n"
      ],
      "text/plain": [
       "# Edges:  \u001b[1;36m268278\u001b[0m\n"
      ]
     },
     "metadata": {},
     "output_type": "display_data"
    },
    {
     "data": {
      "text/html": [
       "<pre style=\"white-space:pre;overflow-x:auto;line-height:normal;font-family:Menlo,'DejaVu Sans Mono',consolas,'Courier New',monospace\"># Node Features:  <span style=\"color: #008080; text-decoration-color: #008080; font-weight: bold\">3</span>\n",
       "</pre>\n"
      ],
      "text/plain": [
       "# Node Features:  \u001b[1;36m3\u001b[0m\n"
      ]
     },
     "metadata": {},
     "output_type": "display_data"
    },
    {
     "data": {
      "text/html": [
       "<pre style=\"white-space:pre;overflow-x:auto;line-height:normal;font-family:Menlo,'DejaVu Sans Mono',consolas,'Courier New',monospace\">Has isolated nodes?  <span style=\"color: #ff0000; text-decoration-color: #ff0000; font-style: italic\">False</span>\n",
       "</pre>\n"
      ],
      "text/plain": [
       "Has isolated nodes?  \u001b[3;91mFalse\u001b[0m\n"
      ]
     },
     "metadata": {},
     "output_type": "display_data"
    },
    {
     "data": {
      "text/html": [
       "<pre style=\"white-space:pre;overflow-x:auto;line-height:normal;font-family:Menlo,'DejaVu Sans Mono',consolas,'Courier New',monospace\">Has self loops?  <span style=\"color: #ff0000; text-decoration-color: #ff0000; font-style: italic\">False</span>\n",
       "</pre>\n"
      ],
      "text/plain": [
       "Has self loops?  \u001b[3;91mFalse\u001b[0m\n"
      ]
     },
     "metadata": {},
     "output_type": "display_data"
    },
    {
     "data": {
      "text/html": [
       "<pre style=\"white-space:pre;overflow-x:auto;line-height:normal;font-family:Menlo,'DejaVu Sans Mono',consolas,'Courier New',monospace\">Directed?  <span style=\"color: #00ff00; text-decoration-color: #00ff00; font-style: italic\">True</span>\n",
       "</pre>\n"
      ],
      "text/plain": [
       "Directed?  \u001b[3;92mTrue\u001b[0m\n"
      ]
     },
     "metadata": {},
     "output_type": "display_data"
    }
   ],
   "source": [
    "print(\"# Nodes: \", data.num_nodes)\n",
    "print(\"# Edges: \", data.num_edges)\n",
    "print(\"# Node Features: \", data.num_node_features)\n",
    "print(\"Has isolated nodes? \", data.has_isolated_nodes())\n",
    "print(\"Has self loops? \", data.has_self_loops())\n",
    "print(\"Directed? \", data.is_directed())"
   ]
  },
  {
   "cell_type": "code",
   "execution_count": null,
   "id": "3b2f765f-79da-4375-b041-aca67dc27680",
   "metadata": {},
   "outputs": [],
   "source": []
  },
  {
   "cell_type": "markdown",
   "id": "739be9bb-bd19-4f85-b55d-168397eb0762",
   "metadata": {},
   "source": [
    "We do not want our model to learn label while embed. So we will do embedding in unsupervised way"
   ]
  },
  {
   "cell_type": "code",
   "execution_count": 86,
   "id": "5fbc6ea5-2099-4c41-95bc-276a4970e4ff",
   "metadata": {},
   "outputs": [],
   "source": [
    "from torch_geometric.nn import GCNConv\n",
    "# from torch.utils.tensorboard import SummaryWriter\n",
    "from torch_geometric.utils import train_test_split_edges\n",
    "from torch_geometric.nn import GAE\n",
    "from torch_geometric.nn import VGAE"
   ]
  },
  {
   "cell_type": "code",
   "execution_count": 87,
   "id": "82437aac-27c6-4a4a-b36d-5030cd297a58",
   "metadata": {},
   "outputs": [],
   "source": [
    "class GCNEncoder(torch.nn.Module):\n",
    "    def __init__(self, in_channels, out_channels):\n",
    "        super(GCNEncoder, self).__init__()\n",
    "        self.conv1 = GCNConv(in_channels, 2 * out_channels, cached=True) # cached only for transductive learning\n",
    "        self.conv2 = GCNConv(2 * out_channels, out_channels, cached=True) # cached only for transductive learning\n",
    "\n",
    "    def forward(self, x, edge_index):\n",
    "        x = self.conv1(x, edge_index).relu()\n",
    "        return self.conv2(x, edge_index)\n",
    "    \n",
    "class VariationalGCNEncoder(torch.nn.Module):\n",
    "    def __init__(self, in_channels, out_channels):\n",
    "        super(VariationalGCNEncoder, self).__init__()\n",
    "        self.conv1 = GCNConv(in_channels, 2 * out_channels, cached=True) # cached only for transductive learning\n",
    "        self.conv_mu = GCNConv(2 * out_channels, out_channels, cached=True)\n",
    "        self.conv_logstd = GCNConv(2 * out_channels, out_channels, cached=True)\n",
    "\n",
    "    def forward(self, x, edge_index):\n",
    "        x = self.conv1(x, edge_index).relu()\n",
    "        return self.conv_mu(x, edge_index), self.conv_logstd(x, edge_index)"
   ]
  },
  {
   "cell_type": "code",
   "execution_count": 88,
   "id": "f8fc58e8-06e1-4f8a-ad61-b8a3faf8a4e5",
   "metadata": {},
   "outputs": [
    {
     "name": "stderr",
     "output_type": "stream",
     "text": [
      "/home/rahit/.cache/pypoetry/virtualenvs/gemo-data-DHiuQg47-py3.8/lib/python3.8/site-packages/torch_geometric/deprecation.py:12: UserWarning: 'train_test_split_edges' is deprecated, use 'transforms.RandomLinkSplit' instead\n",
      "  warnings.warn(out)\n"
     ]
    },
    {
     "data": {
      "text/html": [
       "<pre style=\"white-space:pre;overflow-x:auto;line-height:normal;font-family:Menlo,'DejaVu Sans Mono',consolas,'Courier New',monospace\"><span style=\"color: #800080; text-decoration-color: #800080; font-weight: bold\">Data</span><span style=\"font-weight: bold\">(</span><span style=\"color: #808000; text-decoration-color: #808000\">x</span>=<span style=\"font-weight: bold\">[</span><span style=\"color: #008080; text-decoration-color: #008080; font-weight: bold\">733</span>, <span style=\"color: #008080; text-decoration-color: #008080; font-weight: bold\">3</span><span style=\"font-weight: bold\">]</span>, <span style=\"color: #808000; text-decoration-color: #808000\">val_pos_edge_index</span>=<span style=\"font-weight: bold\">[</span><span style=\"color: #008080; text-decoration-color: #008080; font-weight: bold\">2</span>, <span style=\"color: #008080; text-decoration-color: #008080; font-weight: bold\">6800</span><span style=\"font-weight: bold\">]</span>, <span style=\"color: #808000; text-decoration-color: #808000\">val_pos_edge_attr</span>=<span style=\"font-weight: bold\">[</span><span style=\"color: #008080; text-decoration-color: #008080; font-weight: bold\">6800</span><span style=\"font-weight: bold\">]</span>, <span style=\"color: #808000; text-decoration-color: #808000\">test_pos_edge_index</span>=<span style=\"font-weight: bold\">[</span><span style=\"color: #008080; text-decoration-color: #008080; font-weight: bold\">2</span>, <span style=\"color: #008080; text-decoration-color: #008080; font-weight: bold\">13601</span><span style=\"font-weight: bold\">]</span>, <span style=\"color: #808000; text-decoration-color: #808000\">test_pos_edge_attr</span>=<span style=\"font-weight: bold\">[</span><span style=\"color: #008080; text-decoration-color: #008080; font-weight: bold\">13601</span><span style=\"font-weight: bold\">]</span>, <span style=\"color: #808000; text-decoration-color: #808000\">train_pos_edge_index</span>=<span style=\"font-weight: bold\">[</span><span style=\"color: #008080; text-decoration-color: #008080; font-weight: bold\">2</span>, <span style=\"color: #008080; text-decoration-color: #008080; font-weight: bold\">231230</span><span style=\"font-weight: bold\">]</span>, <span style=\"color: #808000; text-decoration-color: #808000\">train_pos_edge_attr</span>=<span style=\"font-weight: bold\">[</span><span style=\"color: #008080; text-decoration-color: #008080; font-weight: bold\">231230</span><span style=\"font-weight: bold\">]</span>, <span style=\"color: #808000; text-decoration-color: #808000\">train_neg_adj_mask</span>=<span style=\"font-weight: bold\">[</span><span style=\"color: #008080; text-decoration-color: #008080; font-weight: bold\">733</span>, <span style=\"color: #008080; text-decoration-color: #008080; font-weight: bold\">733</span><span style=\"font-weight: bold\">]</span>, <span style=\"color: #808000; text-decoration-color: #808000\">val_neg_edge_index</span>=<span style=\"font-weight: bold\">[</span><span style=\"color: #008080; text-decoration-color: #008080; font-weight: bold\">2</span>, <span style=\"color: #008080; text-decoration-color: #008080; font-weight: bold\">6800</span><span style=\"font-weight: bold\">]</span>, <span style=\"color: #808000; text-decoration-color: #808000\">test_neg_edge_index</span>=<span style=\"font-weight: bold\">[</span><span style=\"color: #008080; text-decoration-color: #008080; font-weight: bold\">2</span>, <span style=\"color: #008080; text-decoration-color: #008080; font-weight: bold\">13601</span><span style=\"font-weight: bold\">])</span>\n",
       "</pre>\n"
      ],
      "text/plain": [
       "\u001b[1;35mData\u001b[0m\u001b[1m(\u001b[0m\u001b[33mx\u001b[0m=\u001b[1m[\u001b[0m\u001b[1;36m733\u001b[0m, \u001b[1;36m3\u001b[0m\u001b[1m]\u001b[0m, \u001b[33mval_pos_edge_index\u001b[0m=\u001b[1m[\u001b[0m\u001b[1;36m2\u001b[0m, \u001b[1;36m6800\u001b[0m\u001b[1m]\u001b[0m, \u001b[33mval_pos_edge_attr\u001b[0m=\u001b[1m[\u001b[0m\u001b[1;36m6800\u001b[0m\u001b[1m]\u001b[0m, \u001b[33mtest_pos_edge_index\u001b[0m=\u001b[1m[\u001b[0m\u001b[1;36m2\u001b[0m, \u001b[1;36m13601\u001b[0m\u001b[1m]\u001b[0m, \u001b[33mtest_pos_edge_attr\u001b[0m=\u001b[1m[\u001b[0m\u001b[1;36m13601\u001b[0m\u001b[1m]\u001b[0m, \u001b[33mtrain_pos_edge_index\u001b[0m=\u001b[1m[\u001b[0m\u001b[1;36m2\u001b[0m, \u001b[1;36m231230\u001b[0m\u001b[1m]\u001b[0m, \u001b[33mtrain_pos_edge_attr\u001b[0m=\u001b[1m[\u001b[0m\u001b[1;36m231230\u001b[0m\u001b[1m]\u001b[0m, \u001b[33mtrain_neg_adj_mask\u001b[0m=\u001b[1m[\u001b[0m\u001b[1;36m733\u001b[0m, \u001b[1;36m733\u001b[0m\u001b[1m]\u001b[0m, \u001b[33mval_neg_edge_index\u001b[0m=\u001b[1m[\u001b[0m\u001b[1;36m2\u001b[0m, \u001b[1;36m6800\u001b[0m\u001b[1m]\u001b[0m, \u001b[33mtest_neg_edge_index\u001b[0m=\u001b[1m[\u001b[0m\u001b[1;36m2\u001b[0m, \u001b[1;36m13601\u001b[0m\u001b[1m]\u001b[0m\u001b[1m)\u001b[0m\n"
      ]
     },
     "metadata": {},
     "output_type": "display_data"
    }
   ],
   "source": [
    "data = train_test_split_edges(data)\n",
    "data"
   ]
  },
  {
   "cell_type": "code",
   "execution_count": 89,
   "id": "8529dab8-dad0-496d-8a9d-fa9d5ccee655",
   "metadata": {},
   "outputs": [],
   "source": [
    "out_channels = 2\n",
    "num_features = 3\n",
    "epochs = 300\n",
    "\n",
    "\n",
    "model = VGAE(VariationalGCNEncoder(num_features, out_channels))  # new line\n",
    "\n",
    "device = torch.device('cuda' if torch.cuda.is_available() else 'cpu')\n",
    "model = model.to(device)\n",
    "x = data.x.to(device)\n",
    "train_pos_edge_index = data.train_pos_edge_index.to(device)\n",
    "optimizer = torch.optim.Adam(model.parameters(), lr=0.01)"
   ]
  },
  {
   "cell_type": "code",
   "execution_count": 72,
   "id": "bd1cce7f-206f-4216-8f17-5b2bac244a6b",
   "metadata": {},
   "outputs": [
    {
     "data": {
      "text/html": [
       "<pre style=\"white-space:pre;overflow-x:auto;line-height:normal;font-family:Menlo,'DejaVu Sans Mono',consolas,'Courier New',monospace\"><span style=\"color: #ff0000; text-decoration-color: #ff0000\">╭──────────────────────────── </span><span style=\"color: #800000; text-decoration-color: #800000; font-weight: bold\">Traceback </span><span style=\"color: #bf7f7f; text-decoration-color: #bf7f7f; font-weight: bold\">(most recent call last)</span><span style=\"color: #ff0000; text-decoration-color: #ff0000\"> ────────────────────────────╮</span>\n",
       "<span style=\"color: #ff0000; text-decoration-color: #ff0000\">│</span>                                                                                           <span style=\"color: #ff0000; text-decoration-color: #ff0000\">│</span>\n",
       "<span style=\"color: #ff0000; text-decoration-color: #ff0000\">│</span> <span style=\"color: #bfbf7f; text-decoration-color: #bfbf7f\">/tmp/ipykernel_12274/</span><span style=\"color: #808000; text-decoration-color: #808000; font-weight: bold\">1614924763.py</span>:<span style=\"color: #0000ff; text-decoration-color: #0000ff\">1</span> in <span style=\"color: #00ff00; text-decoration-color: #00ff00\">&lt;module&gt;</span>                                          <span style=\"color: #ff0000; text-decoration-color: #ff0000\">│</span>\n",
       "<span style=\"color: #ff0000; text-decoration-color: #ff0000\">│</span>                                                                                           <span style=\"color: #ff0000; text-decoration-color: #ff0000\">│</span>\n",
       "<span style=\"color: #ff0000; text-decoration-color: #ff0000\">│</span> <span style=\"color: #800000; text-decoration-color: #800000; font-style: italic\">[Errno 2] No such file or directory: '/tmp/ipykernel_12274/1614924763.py'</span>                 <span style=\"color: #ff0000; text-decoration-color: #ff0000\">│</span>\n",
       "<span style=\"color: #ff0000; text-decoration-color: #ff0000\">╰───────────────────────────────────────────────────────────────────────────────────────────╯</span>\n",
       "<span style=\"color: #ff0000; text-decoration-color: #ff0000; font-weight: bold\">NameError: </span>name <span style=\"color: #008000; text-decoration-color: #008000\">'SummaryWriter'</span> is not defined\n",
       "</pre>\n"
      ],
      "text/plain": [
       "\u001b[91m╭─\u001b[0m\u001b[91m─────────────────────────── \u001b[0m\u001b[1;31mTraceback \u001b[0m\u001b[1;2;31m(most recent call last)\u001b[0m\u001b[91m ───────────────────────────\u001b[0m\u001b[91m─╮\u001b[0m\n",
       "\u001b[91m│\u001b[0m                                                                                           \u001b[91m│\u001b[0m\n",
       "\u001b[91m│\u001b[0m \u001b[2;33m/tmp/ipykernel_12274/\u001b[0m\u001b[1;33m1614924763.py\u001b[0m:\u001b[94m1\u001b[0m in \u001b[92m<module>\u001b[0m                                          \u001b[91m│\u001b[0m\n",
       "\u001b[91m│\u001b[0m                                                                                           \u001b[91m│\u001b[0m\n",
       "\u001b[91m│\u001b[0m \u001b[3;31m[Errno 2] No such file or directory: '/tmp/ipykernel_12274/1614924763.py'\u001b[0m                 \u001b[91m│\u001b[0m\n",
       "\u001b[91m╰───────────────────────────────────────────────────────────────────────────────────────────╯\u001b[0m\n",
       "\u001b[1;91mNameError: \u001b[0mname \u001b[32m'SummaryWriter'\u001b[0m is not defined\n"
      ]
     },
     "metadata": {},
     "output_type": "display_data"
    }
   ],
   "source": [
    "writer = SummaryWriter('runs/GAE1_experiment_'+'2d_100_epochs')"
   ]
  },
  {
   "cell_type": "code",
   "execution_count": 90,
   "id": "7a826a36-aede-4229-9d39-1baa96c4a95d",
   "metadata": {},
   "outputs": [],
   "source": [
    "def train():\n",
    "    model.train()\n",
    "    optimizer.zero_grad()\n",
    "    z = model.encode(x, train_pos_edge_index)\n",
    "    loss = model.recon_loss(z, train_pos_edge_index)\n",
    "    \n",
    "    loss = loss + (1 / data.num_nodes) * model.kl_loss()  # new line\n",
    "    loss.backward()\n",
    "    optimizer.step()\n",
    "    return float(loss)\n",
    "\n",
    "\n",
    "def test(pos_edge_index, neg_edge_index):\n",
    "    model.eval()\n",
    "    with torch.no_grad():\n",
    "        z = model.encode(x, train_pos_edge_index)\n",
    "    return model.test(z, pos_edge_index, neg_edge_index)"
   ]
  },
  {
   "cell_type": "code",
   "execution_count": null,
   "id": "ba9330c0-6b93-42a2-97dc-92bcf7641d61",
   "metadata": {},
   "outputs": [
    {
     "data": {
      "text/html": [
       "<pre style=\"white-space:pre;overflow-x:auto;line-height:normal;font-family:Menlo,'DejaVu Sans Mono',consolas,'Courier New',monospace\">Epoch: <span style=\"color: #008080; text-decoration-color: #008080; font-weight: bold\">001</span>, AUC: <span style=\"color: #008080; text-decoration-color: #008080; font-weight: bold\">0.5000</span>, AP: <span style=\"color: #008080; text-decoration-color: #008080; font-weight: bold\">0.5000</span>\n",
       "</pre>\n"
      ],
      "text/plain": [
       "Epoch: \u001b[1;36m001\u001b[0m, AUC: \u001b[1;36m0.5000\u001b[0m, AP: \u001b[1;36m0.5000\u001b[0m\n"
      ]
     },
     "metadata": {},
     "output_type": "display_data"
    }
   ],
   "source": [
    "\n",
    "for epoch in range(1, epochs + 1):\n",
    "    loss = train()\n",
    "    auc, ap = test(data.test_pos_edge_index, data.test_neg_edge_index)\n",
    "    print('Epoch: {:03d}, AUC: {:.4f}, AP: {:.4f}'.format(epoch, auc, ap))\n",
    "    \n",
    "    # writer.add_scalar('auc train',auc,epoch) # new line\n",
    "    # writer.add_scalar('ap train',ap,epoch)   # new line"
   ]
  },
  {
   "cell_type": "code",
   "execution_count": null,
   "id": "1a1539ed-876b-4e11-bbe9-bcd063df7910",
   "metadata": {},
   "outputs": [],
   "source": []
  },
  {
   "cell_type": "code",
   "execution_count": null,
   "id": "656fdaa7-1a43-45df-bc2d-a953fd1d09d5",
   "metadata": {},
   "outputs": [],
   "source": []
  },
  {
   "cell_type": "code",
   "execution_count": null,
   "id": "2be830ff-f94f-4d6b-821b-a1db6796775a",
   "metadata": {},
   "outputs": [],
   "source": []
  },
  {
   "cell_type": "code",
   "execution_count": null,
   "id": "81a925ad-d31e-4f7c-aadf-308d86a57a34",
   "metadata": {},
   "outputs": [],
   "source": []
  },
  {
   "cell_type": "code",
   "execution_count": null,
   "id": "87940611-5c67-4adc-8535-4cc65d639f5a",
   "metadata": {},
   "outputs": [],
   "source": []
  },
  {
   "cell_type": "code",
   "execution_count": null,
   "id": "21fae1b5-139a-46fd-abb9-4da1729d0447",
   "metadata": {},
   "outputs": [],
   "source": []
  },
  {
   "cell_type": "code",
   "execution_count": null,
   "id": "7227589c-57f8-4d55-997a-a608b6739ca9",
   "metadata": {},
   "outputs": [],
   "source": []
  },
  {
   "cell_type": "code",
   "execution_count": null,
   "id": "2e8480a8-7d96-4dd8-a47a-bcc8b4871909",
   "metadata": {},
   "outputs": [],
   "source": []
  },
  {
   "cell_type": "code",
   "execution_count": null,
   "id": "484adc70-8563-4be3-8b52-da49921d4124",
   "metadata": {},
   "outputs": [],
   "source": []
  },
  {
   "cell_type": "code",
   "execution_count": null,
   "id": "6bf46163-2806-438a-ba11-dc94c0752046",
   "metadata": {},
   "outputs": [],
   "source": []
  },
  {
   "cell_type": "code",
   "execution_count": null,
   "id": "45bd1a45-1791-4e0b-811d-5f6839d5048f",
   "metadata": {},
   "outputs": [],
   "source": []
  },
  {
   "cell_type": "code",
   "execution_count": null,
   "id": "288b94a8-2d58-43ba-a367-4b332e5ecc6e",
   "metadata": {},
   "outputs": [],
   "source": []
  },
  {
   "cell_type": "code",
   "execution_count": null,
   "id": "d55eec35-a34e-485c-999f-41af8693299f",
   "metadata": {},
   "outputs": [],
   "source": []
  },
  {
   "cell_type": "code",
   "execution_count": null,
   "id": "c75cd204-fb4c-47e0-a1a0-ffaa95625145",
   "metadata": {},
   "outputs": [],
   "source": []
  },
  {
   "cell_type": "code",
   "execution_count": null,
   "id": "3dee82ec-eebb-4804-b560-98d456ed0fa2",
   "metadata": {},
   "outputs": [],
   "source": []
  },
  {
   "cell_type": "code",
   "execution_count": null,
   "id": "d009aa52-61bc-474b-8967-144737667d80",
   "metadata": {},
   "outputs": [],
   "source": []
  },
  {
   "cell_type": "code",
   "execution_count": null,
   "id": "8b2c7a0c-9dfc-4957-8f81-8bfb6b580901",
   "metadata": {},
   "outputs": [],
   "source": []
  },
  {
   "cell_type": "code",
   "execution_count": null,
   "id": "e24cbdda-683f-4d10-8b09-edb581413e9c",
   "metadata": {},
   "outputs": [],
   "source": []
  },
  {
   "cell_type": "code",
   "execution_count": null,
   "id": "e460803a-0c65-4d6d-8b4c-fe522bf89cdf",
   "metadata": {},
   "outputs": [],
   "source": []
  },
  {
   "cell_type": "code",
   "execution_count": null,
   "id": "f0ac4cc2-8741-46d8-b858-a46bc1251e64",
   "metadata": {},
   "outputs": [],
   "source": []
  },
  {
   "cell_type": "code",
   "execution_count": null,
   "id": "4f09fe6e-17d8-425a-9534-fdb9167ccc85",
   "metadata": {},
   "outputs": [],
   "source": []
  },
  {
   "cell_type": "code",
   "execution_count": 40,
   "id": "c10b80fb-5f80-4cec-9e6b-65f7053ab4b4",
   "metadata": {},
   "outputs": [],
   "source": [
    "\n",
    "cluster.close()\n",
    "client.close()"
   ]
  },
  {
   "cell_type": "code",
   "execution_count": null,
   "id": "4d5589d6-58e5-4e83-8bb5-628c5a314da8",
   "metadata": {},
   "outputs": [],
   "source": []
  }
 ],
 "metadata": {
  "kernelspec": {
   "display_name": "Kedro (modspy_data)",
   "language": "python",
   "name": "kedro_modspy_data"
  },
  "language_info": {
   "codemirror_mode": {
    "name": "ipython",
    "version": 3
   },
   "file_extension": ".py",
   "mimetype": "text/x-python",
   "name": "python",
   "nbconvert_exporter": "python",
   "pygments_lexer": "ipython3",
   "version": "3.8.10"
  },
  "toc-autonumbering": true,
  "toc-showcode": true,
  "toc-showmarkdowntxt": true,
  "toc-showtags": false
 },
 "nbformat": 4,
 "nbformat_minor": 5
}
