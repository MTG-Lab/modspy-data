{
 "cells": [
  {
   "cell_type": "markdown",
   "id": "23e45ac0",
   "metadata": {},
   "source": [
    "# Predicting the Modifier Susceptibility"
   ]
  },
  {
   "cell_type": "markdown",
   "id": "2bd6582a",
   "metadata": {},
   "source": [
    "This notebook outlines the steps taken to predict the `is_modifier` column from a given dataset."
   ]
  },
  {
   "cell_type": "markdown",
   "id": "fba905fd",
   "metadata": {},
   "source": [
    "## Import Libraries"
   ]
  },
  {
   "cell_type": "code",
   "execution_count": 1,
   "id": "a2e6e07c",
   "metadata": {},
   "outputs": [
    {
     "data": {
      "text/html": [
       "<pre style=\"white-space:pre;overflow-x:auto;line-height:normal;font-family:Menlo,'DejaVu Sans Mono',consolas,'Courier New',monospace\"><span style=\"color: #7fbfbf; text-decoration-color: #7fbfbf\">[11/23/23 21:58:09] </span><span style=\"color: #000080; text-decoration-color: #000080\">INFO    </span> Resolved project path as: <span style=\"color: #800080; text-decoration-color: #800080\">/project/6013424/rahit/</span><span style=\"color: #ff00ff; text-decoration-color: #ff00ff\">modspy-data.</span>          <a href=\"file:///home/rahit/jupyter_py3/lib/python3.8/site-packages/kedro/ipython/__init__.py\" target=\"_blank\"><span style=\"color: #7f7f7f; text-decoration-color: #7f7f7f\">__init__.py</span></a><span style=\"color: #7f7f7f; text-decoration-color: #7f7f7f\">:</span><a href=\"file:///home/rahit/jupyter_py3/lib/python3.8/site-packages/kedro/ipython/__init__.py#139\" target=\"_blank\"><span style=\"color: #7f7f7f; text-decoration-color: #7f7f7f\">139</span></a>\n",
       "<span style=\"color: #7fbfbf; text-decoration-color: #7fbfbf\">                    </span>         To set a different path, run <span style=\"color: #008000; text-decoration-color: #008000\">'%reload_kedro &lt;project_root&gt;'</span>            <span style=\"color: #7f7f7f; text-decoration-color: #7f7f7f\">               </span>\n",
       "</pre>\n"
      ],
      "text/plain": [
       "\u001b[2;36m[11/23/23 21:58:09]\u001b[0m\u001b[2;36m \u001b[0m\u001b[34mINFO    \u001b[0m Resolved project path as: \u001b[35m/project/6013424/rahit/\u001b[0m\u001b[95mmodspy-data.\u001b[0m          \u001b]8;id=696722;file:///home/rahit/jupyter_py3/lib/python3.8/site-packages/kedro/ipython/__init__.py\u001b\\\u001b[2m__init__.py\u001b[0m\u001b]8;;\u001b\\\u001b[2m:\u001b[0m\u001b]8;id=122870;file:///home/rahit/jupyter_py3/lib/python3.8/site-packages/kedro/ipython/__init__.py#139\u001b\\\u001b[2m139\u001b[0m\u001b]8;;\u001b\\\n",
       "\u001b[2;36m                    \u001b[0m         To set a different path, run \u001b[32m'%reload_kedro \u001b[0m\u001b[32m<\u001b[0m\u001b[32mproject_root\u001b[0m\u001b[32m>\u001b[0m\u001b[32m'\u001b[0m            \u001b[2m               \u001b[0m\n"
      ]
     },
     "metadata": {},
     "output_type": "display_data"
    },
    {
     "data": {
      "text/html": [
       "<pre style=\"white-space:pre;overflow-x:auto;line-height:normal;font-family:Menlo,'DejaVu Sans Mono',consolas,'Courier New',monospace\"><span style=\"color: #7fbfbf; text-decoration-color: #7fbfbf\">[11/23/23 21:58:09] </span><span style=\"color: #000080; text-decoration-color: #000080\">INFO    </span> Kedro project ModSpy-Data                                              <a href=\"file:///home/rahit/jupyter_py3/lib/python3.8/site-packages/kedro/ipython/__init__.py\" target=\"_blank\"><span style=\"color: #7f7f7f; text-decoration-color: #7f7f7f\">__init__.py</span></a><span style=\"color: #7f7f7f; text-decoration-color: #7f7f7f\">:</span><a href=\"file:///home/rahit/jupyter_py3/lib/python3.8/site-packages/kedro/ipython/__init__.py#108\" target=\"_blank\"><span style=\"color: #7f7f7f; text-decoration-color: #7f7f7f\">108</span></a>\n",
       "</pre>\n"
      ],
      "text/plain": [
       "\u001b[2;36m[11/23/23 21:58:09]\u001b[0m\u001b[2;36m \u001b[0m\u001b[34mINFO    \u001b[0m Kedro project ModSpy-Data                                              \u001b]8;id=219496;file:///home/rahit/jupyter_py3/lib/python3.8/site-packages/kedro/ipython/__init__.py\u001b\\\u001b[2m__init__.py\u001b[0m\u001b]8;;\u001b\\\u001b[2m:\u001b[0m\u001b]8;id=907126;file:///home/rahit/jupyter_py3/lib/python3.8/site-packages/kedro/ipython/__init__.py#108\u001b\\\u001b[2m108\u001b[0m\u001b]8;;\u001b\\\n"
      ]
     },
     "metadata": {},
     "output_type": "display_data"
    },
    {
     "data": {
      "text/html": [
       "<pre style=\"white-space:pre;overflow-x:auto;line-height:normal;font-family:Menlo,'DejaVu Sans Mono',consolas,'Courier New',monospace\"><span style=\"color: #7fbfbf; text-decoration-color: #7fbfbf\">                    </span><span style=\"color: #000080; text-decoration-color: #000080\">INFO    </span> Defined global variable <span style=\"color: #008000; text-decoration-color: #008000\">'context'</span>, <span style=\"color: #008000; text-decoration-color: #008000\">'session'</span>, <span style=\"color: #008000; text-decoration-color: #008000\">'catalog'</span> and            <a href=\"file:///home/rahit/jupyter_py3/lib/python3.8/site-packages/kedro/ipython/__init__.py\" target=\"_blank\"><span style=\"color: #7f7f7f; text-decoration-color: #7f7f7f\">__init__.py</span></a><span style=\"color: #7f7f7f; text-decoration-color: #7f7f7f\">:</span><a href=\"file:///home/rahit/jupyter_py3/lib/python3.8/site-packages/kedro/ipython/__init__.py#109\" target=\"_blank\"><span style=\"color: #7f7f7f; text-decoration-color: #7f7f7f\">109</span></a>\n",
       "<span style=\"color: #7fbfbf; text-decoration-color: #7fbfbf\">                    </span>         <span style=\"color: #008000; text-decoration-color: #008000\">'pipelines'</span>                                                            <span style=\"color: #7f7f7f; text-decoration-color: #7f7f7f\">               </span>\n",
       "</pre>\n"
      ],
      "text/plain": [
       "\u001b[2;36m                   \u001b[0m\u001b[2;36m \u001b[0m\u001b[34mINFO    \u001b[0m Defined global variable \u001b[32m'context'\u001b[0m, \u001b[32m'session'\u001b[0m, \u001b[32m'catalog'\u001b[0m and            \u001b]8;id=710770;file:///home/rahit/jupyter_py3/lib/python3.8/site-packages/kedro/ipython/__init__.py\u001b\\\u001b[2m__init__.py\u001b[0m\u001b]8;;\u001b\\\u001b[2m:\u001b[0m\u001b]8;id=409758;file:///home/rahit/jupyter_py3/lib/python3.8/site-packages/kedro/ipython/__init__.py#109\u001b\\\u001b[2m109\u001b[0m\u001b]8;;\u001b\\\n",
       "\u001b[2;36m                    \u001b[0m         \u001b[32m'pipelines'\u001b[0m                                                            \u001b[2m               \u001b[0m\n"
      ]
     },
     "metadata": {},
     "output_type": "display_data"
    }
   ],
   "source": [
    "%reload_kedro"
   ]
  },
  {
   "cell_type": "code",
   "execution_count": 51,
   "id": "dc05cf6a",
   "metadata": {},
   "outputs": [],
   "source": [
    "# -*- coding: utf-8 -*-\n",
    "# from __future__ import absolute_import, division, print_function, unicode_literals\n",
    "\n",
    "import os\n",
    "import tempfile\n",
    "import re\n",
    "import sys\n",
    "import itertools\n",
    "from pathlib import Path\n",
    "import warnings\n",
    "import datetime\n",
    "\n",
    "from loguru import logger\n",
    "from joblib import dump, load\n",
    "from tqdm import tqdm\n",
    "from tqdm.notebook import trange, tqdm\n",
    "import shutil\n",
    "from urllib.request import Request, urlopen\n",
    "import fastsemsim\n",
    "import gemo.config as config\n",
    "from gemo.features.build_features import filter_annotations, cook_dataset, batch_process\n",
    "\n",
    "\n",
    "import pandas as pd\n",
    "import numpy as np\n",
    "import numpy as np\n",
    "import pandas as pd\n",
    "import xarray as xr\n",
    "\n",
    "from sklearn.model_selection import train_test_split\n",
    "from sklearn.ensemble import RandomForestClassifier\n",
    "from sklearn.linear_model import LogisticRegression\n",
    "from sklearn.feature_selection import SelectFromModel\n",
    "from sklearn.metrics import classification_report, accuracy_score, precision_recall_curve\n",
    "from scipy.special import logit, expit\n",
    "from scipy.stats import loguniform\n",
    "from sklearn.metrics import *\n",
    "from dotenv import find_dotenv, load_dotenv\n",
    "from sklearn.preprocessing import StandardScaler\n",
    "from sklearn.datasets import make_classification\n",
    "from sklearn.feature_selection import RFECV, SelectKBest, f_classif\n",
    "from sklearn.linear_model import LogisticRegression\n",
    "from statsmodels.discrete.conditional_models import ConditionalLogit\n",
    "from statsmodels.genmod.bayes_mixed_glm import BinomialBayesMixedGLM\n",
    "from sklearn.model_selection import StratifiedKFold, GroupKFold, train_test_split, GroupShuffleSplit, GridSearchCV, LeavePGroupsOut\n",
    "\n",
    "\n",
    "import matplotlib.pyplot as plt\n",
    "import matplotlib as mpl\n",
    "import matplotlib.pyplot as plt\n",
    "import seaborn as sns\n",
    "import plotly.graph_objects as go\n",
    "import plotly.express as px"
   ]
  },
  {
   "cell_type": "markdown",
   "id": "edbe8ae7",
   "metadata": {},
   "source": [
    "## Data Preprocessing"
   ]
  },
  {
   "cell_type": "code",
   "execution_count": 99,
   "metadata": {},
   "outputs": [
    {
     "data": {
      "text/html": [
       "<pre style=\"white-space:pre;overflow-x:auto;line-height:normal;font-family:Menlo,'DejaVu Sans Mono',consolas,'Courier New',monospace\"><span style=\"color: #7fbfbf; text-decoration-color: #7fbfbf\">[11/24/23 01:13:48] </span><span style=\"color: #000080; text-decoration-color: #000080\">INFO    </span> Loading data from <span style=\"color: #008000; text-decoration-color: #008000\">'modifiers'</span> <span style=\"font-weight: bold\">(</span>CSVDataSet<span style=\"font-weight: bold\">)</span><span style=\"color: #808000; text-decoration-color: #808000\">...</span>                      <a href=\"file:///home/rahit/jupyter_py3/lib/python3.8/site-packages/kedro/io/data_catalog.py\" target=\"_blank\"><span style=\"color: #7f7f7f; text-decoration-color: #7f7f7f\">data_catalog.py</span></a><span style=\"color: #7f7f7f; text-decoration-color: #7f7f7f\">:</span><a href=\"file:///home/rahit/jupyter_py3/lib/python3.8/site-packages/kedro/io/data_catalog.py#492\" target=\"_blank\"><span style=\"color: #7f7f7f; text-decoration-color: #7f7f7f\">492</span></a>\n",
       "</pre>\n"
      ],
      "text/plain": [
       "\u001b[2;36m[11/24/23 01:13:48]\u001b[0m\u001b[2;36m \u001b[0m\u001b[34mINFO    \u001b[0m Loading data from \u001b[32m'modifiers'\u001b[0m \u001b[1m(\u001b[0mCSVDataSet\u001b[1m)\u001b[0m\u001b[33m...\u001b[0m                      \u001b]8;id=444902;file:///home/rahit/jupyter_py3/lib/python3.8/site-packages/kedro/io/data_catalog.py\u001b\\\u001b[2mdata_catalog.py\u001b[0m\u001b]8;;\u001b\\\u001b[2m:\u001b[0m\u001b]8;id=864869;file:///home/rahit/jupyter_py3/lib/python3.8/site-packages/kedro/io/data_catalog.py#492\u001b\\\u001b[2m492\u001b[0m\u001b]8;;\u001b\\\n"
      ]
     },
     "metadata": {},
     "output_type": "display_data"
    },
    {
     "data": {
      "text/html": [
       "<div>\n",
       "<style scoped>\n",
       "    .dataframe tbody tr th:only-of-type {\n",
       "        vertical-align: middle;\n",
       "    }\n",
       "\n",
       "    .dataframe tbody tr th {\n",
       "        vertical-align: top;\n",
       "    }\n",
       "\n",
       "    .dataframe thead th {\n",
       "        text-align: right;\n",
       "    }\n",
       "</style>\n",
       "<table border=\"1\" class=\"dataframe\">\n",
       "  <thead>\n",
       "    <tr style=\"text-align: right;\">\n",
       "      <th></th>\n",
       "      <th>target_gene_symbol</th>\n",
       "      <th>modifier_gene_symbol</th>\n",
       "      <th>go_n_common_ancestors_max</th>\n",
       "      <th>go_n_common_ancestors_avg</th>\n",
       "      <th>go_n_common_ancestors_bma</th>\n",
       "      <th>go_n_union_ancestors_max</th>\n",
       "      <th>go_n_union_ancestors_avg</th>\n",
       "      <th>go_n_union_ancestors_bma</th>\n",
       "      <th>go_batet_max</th>\n",
       "      <th>go_batet_avg</th>\n",
       "      <th>...</th>\n",
       "      <th>go_lin_avg</th>\n",
       "      <th>go_lin_bma</th>\n",
       "      <th>go_jiang_max</th>\n",
       "      <th>go_jiang_avg</th>\n",
       "      <th>go_jiang_bma</th>\n",
       "      <th>go_jiang_seco_max</th>\n",
       "      <th>go_jiang_seco_avg</th>\n",
       "      <th>go_jiang_seco_bma</th>\n",
       "      <th>is_modifier</th>\n",
       "      <th>Sample</th>\n",
       "    </tr>\n",
       "  </thead>\n",
       "  <tbody>\n",
       "    <tr>\n",
       "      <th>0</th>\n",
       "      <td>ATR</td>\n",
       "      <td>TERT</td>\n",
       "      <td>56.0</td>\n",
       "      <td>2.992471</td>\n",
       "      <td>8.027273</td>\n",
       "      <td>107.0</td>\n",
       "      <td>28.313613</td>\n",
       "      <td>76.984848</td>\n",
       "      <td>1.0</td>\n",
       "      <td>0.120300</td>\n",
       "      <td>...</td>\n",
       "      <td>0.265784</td>\n",
       "      <td>0.657466</td>\n",
       "      <td>1.0</td>\n",
       "      <td>0.063390</td>\n",
       "      <td>0.265030</td>\n",
       "      <td>1.0</td>\n",
       "      <td>0.180231</td>\n",
       "      <td>0.714237</td>\n",
       "      <td>1.0</td>\n",
       "      <td>JVL</td>\n",
       "    </tr>\n",
       "    <tr>\n",
       "      <th>1</th>\n",
       "      <td>BBS4</td>\n",
       "      <td>PCF11</td>\n",
       "      <td>11.0</td>\n",
       "      <td>2.779736</td>\n",
       "      <td>3.311688</td>\n",
       "      <td>73.0</td>\n",
       "      <td>27.040299</td>\n",
       "      <td>44.350649</td>\n",
       "      <td>1.0</td>\n",
       "      <td>0.145836</td>\n",
       "      <td>...</td>\n",
       "      <td>0.307401</td>\n",
       "      <td>0.358265</td>\n",
       "      <td>1.0</td>\n",
       "      <td>0.065845</td>\n",
       "      <td>0.127221</td>\n",
       "      <td>1.0</td>\n",
       "      <td>0.206274</td>\n",
       "      <td>0.473575</td>\n",
       "      <td>1.0</td>\n",
       "      <td>JVL</td>\n",
       "    </tr>\n",
       "    <tr>\n",
       "      <th>2</th>\n",
       "      <td>BBS4</td>\n",
       "      <td>USP35</td>\n",
       "      <td>8.0</td>\n",
       "      <td>2.072289</td>\n",
       "      <td>2.126761</td>\n",
       "      <td>59.0</td>\n",
       "      <td>22.190299</td>\n",
       "      <td>29.253521</td>\n",
       "      <td>1.0</td>\n",
       "      <td>0.145601</td>\n",
       "      <td>...</td>\n",
       "      <td>0.263192</td>\n",
       "      <td>0.250892</td>\n",
       "      <td>1.0</td>\n",
       "      <td>0.068862</td>\n",
       "      <td>0.130189</td>\n",
       "      <td>1.0</td>\n",
       "      <td>0.195530</td>\n",
       "      <td>0.375772</td>\n",
       "      <td>1.0</td>\n",
       "      <td>JVL</td>\n",
       "    </tr>\n",
       "    <tr>\n",
       "      <th>3</th>\n",
       "      <td>BRCA1</td>\n",
       "      <td>ASTE1</td>\n",
       "      <td>3.0</td>\n",
       "      <td>1.714286</td>\n",
       "      <td>2.437500</td>\n",
       "      <td>64.0</td>\n",
       "      <td>22.500000</td>\n",
       "      <td>24.573171</td>\n",
       "      <td>1.0</td>\n",
       "      <td>0.287505</td>\n",
       "      <td>...</td>\n",
       "      <td>0.348560</td>\n",
       "      <td>0.581542</td>\n",
       "      <td>1.0</td>\n",
       "      <td>0.077160</td>\n",
       "      <td>0.105624</td>\n",
       "      <td>1.0</td>\n",
       "      <td>0.299402</td>\n",
       "      <td>0.401114</td>\n",
       "      <td>1.0</td>\n",
       "      <td>JVL</td>\n",
       "    </tr>\n",
       "    <tr>\n",
       "      <th>4</th>\n",
       "      <td>CDK6</td>\n",
       "      <td>ERBB2</td>\n",
       "      <td>43.0</td>\n",
       "      <td>3.467509</td>\n",
       "      <td>9.188811</td>\n",
       "      <td>136.0</td>\n",
       "      <td>27.932018</td>\n",
       "      <td>78.384615</td>\n",
       "      <td>1.0</td>\n",
       "      <td>0.142690</td>\n",
       "      <td>...</td>\n",
       "      <td>0.306914</td>\n",
       "      <td>0.713913</td>\n",
       "      <td>1.0</td>\n",
       "      <td>0.071939</td>\n",
       "      <td>0.334014</td>\n",
       "      <td>1.0</td>\n",
       "      <td>0.256735</td>\n",
       "      <td>0.784365</td>\n",
       "      <td>1.0</td>\n",
       "      <td>JVL</td>\n",
       "    </tr>\n",
       "  </tbody>\n",
       "</table>\n",
       "<p>5 rows × 31 columns</p>\n",
       "</div>"
      ],
      "text/plain": [
       "  target_gene_symbol modifier_gene_symbol  go_n_common_ancestors_max  \\\n",
       "0                ATR                 TERT                       56.0   \n",
       "1               BBS4                PCF11                       11.0   \n",
       "2               BBS4                USP35                        8.0   \n",
       "3              BRCA1                ASTE1                        3.0   \n",
       "4               CDK6                ERBB2                       43.0   \n",
       "\n",
       "   go_n_common_ancestors_avg  go_n_common_ancestors_bma  \\\n",
       "0                   2.992471                   8.027273   \n",
       "1                   2.779736                   3.311688   \n",
       "2                   2.072289                   2.126761   \n",
       "3                   1.714286                   2.437500   \n",
       "4                   3.467509                   9.188811   \n",
       "\n",
       "   go_n_union_ancestors_max  go_n_union_ancestors_avg  \\\n",
       "0                     107.0                 28.313613   \n",
       "1                      73.0                 27.040299   \n",
       "2                      59.0                 22.190299   \n",
       "3                      64.0                 22.500000   \n",
       "4                     136.0                 27.932018   \n",
       "\n",
       "   go_n_union_ancestors_bma  go_batet_max  go_batet_avg  ...  go_lin_avg  \\\n",
       "0                 76.984848           1.0      0.120300  ...    0.265784   \n",
       "1                 44.350649           1.0      0.145836  ...    0.307401   \n",
       "2                 29.253521           1.0      0.145601  ...    0.263192   \n",
       "3                 24.573171           1.0      0.287505  ...    0.348560   \n",
       "4                 78.384615           1.0      0.142690  ...    0.306914   \n",
       "\n",
       "   go_lin_bma  go_jiang_max  go_jiang_avg  go_jiang_bma  go_jiang_seco_max  \\\n",
       "0    0.657466           1.0      0.063390      0.265030                1.0   \n",
       "1    0.358265           1.0      0.065845      0.127221                1.0   \n",
       "2    0.250892           1.0      0.068862      0.130189                1.0   \n",
       "3    0.581542           1.0      0.077160      0.105624                1.0   \n",
       "4    0.713913           1.0      0.071939      0.334014                1.0   \n",
       "\n",
       "   go_jiang_seco_avg  go_jiang_seco_bma  is_modifier  Sample  \n",
       "0           0.180231           0.714237          1.0     JVL  \n",
       "1           0.206274           0.473575          1.0     JVL  \n",
       "2           0.195530           0.375772          1.0     JVL  \n",
       "3           0.299402           0.401114          1.0     JVL  \n",
       "4           0.256735           0.784365          1.0     JVL  \n",
       "\n",
       "[5 rows x 31 columns]"
      ]
     },
     "execution_count": 99,
     "metadata": {},
     "output_type": "execute_result"
    }
   ],
   "source": [
    "# Load the dataset and drop columns with missing values\n",
    "dataset = catalog.load(\"modifiers\")\n",
    "dataset_clean = dataset.dropna(axis=1)\n",
    "dataset_clean.head()"
   ]
  },
  {
   "cell_type": "code",
   "execution_count": 100,
   "id": "5f4f4202",
   "metadata": {},
   "outputs": [],
   "source": [
    "# Split the data into features and target\n",
    "X = dataset_clean.drop(['is_modifier'], axis=1)\n",
    "y = dataset_clean['is_modifier']\n",
    "\n",
    "# Select only numerical features\n",
    "X_numeric = X.select_dtypes(include=['float64'])\n",
    "\n",
    "# Split the dataset into training and test sets\n",
    "X_train, X_test, y_train, y_test = train_test_split(X_numeric, y, test_size=0.40, random_state=42, stratify=y)"
   ]
  },
  {
   "cell_type": "markdown",
   "id": "fc8ecb5f",
   "metadata": {},
   "source": [
    "## Feature Selection"
   ]
  },
  {
   "cell_type": "code",
   "execution_count": 96,
   "metadata": {},
   "outputs": [],
   "source": [
    "id_cols = [\n",
    "    'Sample',\n",
    "    'gene_symbol',\n",
    "    'target_gene_symbol', \n",
    "    'modifier_gene_symbol',\n",
    "]\n",
    "non_feat_cols = [    \n",
    "    'chromosome',\n",
    "    'position',\n",
    "    'ref',\n",
    "    'alt',\n",
    "    'wormbase_gene_id',    \n",
    "    'gene_start_position',\n",
    "    'gene_end_position',\n",
    "    'variant_id',\n",
    "    'target_gene_id',\n",
    "    'target_gene_symbol',\n",
    "    'protein1',\n",
    "    'protein2'\n",
    "]\n",
    "# non feature column from JVL-MTG merged dataset\n",
    "non_feat_extra = [\n",
    "    'QueryGene', 'SuppressorGene', 'QueryGene_norm',\n",
    "    'SuppressorGene_norm', 'protein_x', 'alias_x', 'source_x',\n",
    "    'alias_norm_x', 'protein_y', 'alias_y', 'source_y', 'alias_norm_y',\n",
    "    'protein1', 'protein2', 'Sample', 'strain',\n",
    "    'chromosome'\n",
    "]\n",
    "target_attr = 'is_modifier'\n",
    "sim_methods = ['Resnik', 'Lin', 'Jiang-Conrath',\n",
    "               'SimRel', 'SimIC', 'G-SESAME', 'SimICND', 'SimICNP']\n",
    "mix_methods = ['max', 'BMA', 'avg']\n",
    "method_combs = list(itertools.product(sim_methods, mix_methods))\n",
    "ontos = ['go', 'wpo', 'wpo_not']"
   ]
  },
  {
   "cell_type": "code",
   "execution_count": 97,
   "metadata": {},
   "outputs": [
    {
     "name": "stdout",
     "output_type": "stream",
     "text": [
      "Training size: 762\n",
      "Testing size: 7101\n"
     ]
    }
   ],
   "source": [
    "train_ids = [26, 27, 28, 30, 34, 37, 76, 105, 120, 121, 139]\n",
    "train_samples = [\"MTG\"+str(n) for n in train_ids]\n",
    "train = dataset_clean[dataset_clean['Sample'].isin(train_samples)]\n",
    "test = dataset_clean[~dataset_clean['Sample'].isin(train_samples)]\n",
    "print(\"Training size: {}\".format(train.shape[0]))\n",
    "print(\"Testing size: {}\".format(test.shape[0]))"
   ]
  },
  {
   "cell_type": "code",
   "execution_count": 75,
   "metadata": {},
   "outputs": [
    {
     "name": "stdout",
     "output_type": "stream",
     "text": [
      "Training shpae: (762, 27)\n",
      "Testing shpae: (7101, 27)\n"
     ]
    }
   ],
   "source": [
    "# Training data as numpy array\n",
    "train_arr = train[train.columns.difference(id_cols+non_feat_cols+non_feat_extra+[target_attr])].to_numpy()\n",
    "train_y = train[target_attr].to_numpy()\n",
    "print(f\"Training shpae: {train_arr.shape}\")\n",
    "\n",
    "# Testing data as numpy array\n",
    "test_arr = test[test.columns.difference(id_cols+non_feat_cols+non_feat_extra+[target_attr])].to_numpy()\n",
    "test_y = test[target_attr].to_numpy()\n",
    "print(f\"Testing shpae: {test_arr.shape}\")"
   ]
  },
  {
   "cell_type": "code",
   "execution_count": 55,
   "metadata": {},
   "outputs": [],
   "source": [
    "non_feat_cols += non_feat_extra\n",
    "corr = train[train.columns.difference(id_cols+non_feat_cols)].corr(method='spearman')"
   ]
  },
  {
   "cell_type": "code",
   "execution_count": 56,
   "metadata": {},
   "outputs": [],
   "source": [
    "def get_origin(row):\n",
    "    # print(row)\n",
    "    m = re.search('(go|wpo_not|wpo)', row['Features'])\n",
    "    if m:\n",
    "        return m.group(0)\n",
    "    else:\n",
    "        return 'interaction'"
   ]
  },
  {
   "cell_type": "code",
   "execution_count": 87,
   "metadata": {},
   "outputs": [
    {
     "data": {
      "text/plain": [
       "Index(['target_gene_symbol', 'modifier_gene_symbol',\n",
       "       'go_n_common_ancestors_max', 'go_n_common_ancestors_avg',\n",
       "       'go_n_common_ancestors_bma', 'go_n_union_ancestors_max',\n",
       "       'go_n_union_ancestors_avg', 'go_n_union_ancestors_bma', 'go_batet_max',\n",
       "       'go_batet_avg', 'go_batet_bma', 'go_batet_log_max', 'go_batet_log_avg',\n",
       "       'go_batet_log_bma', 'go_resnik_max', 'go_resnik_avg', 'go_resnik_bma',\n",
       "       'go_resnik_scaled_max', 'go_resnik_scaled_avg', 'go_resnik_scaled_bma',\n",
       "       'go_lin_max', 'go_lin_avg', 'go_lin_bma', 'go_jiang_max',\n",
       "       'go_jiang_avg', 'go_jiang_bma', 'go_jiang_seco_max',\n",
       "       'go_jiang_seco_avg', 'go_jiang_seco_bma', 'is_modifier', 'Sample'],\n",
       "      dtype='object')"
      ]
     },
     "execution_count": 87,
     "metadata": {},
     "output_type": "execute_result"
    }
   ],
   "source": [
    "dataset_clean.columns"
   ]
  },
  {
   "cell_type": "code",
   "execution_count": 88,
   "metadata": {},
   "outputs": [],
   "source": [
    "cols = ['go_n_common_ancestors_max', 'go_n_union_ancestors_max', \n",
    "        'go_batet_max', 'go_resnik_max', 'go_lin_max']"
   ]
  },
  {
   "cell_type": "code",
   "execution_count": 89,
   "metadata": {},
   "outputs": [
    {
     "name": "stdout",
     "output_type": "stream",
     "text": [
      "# of training samples:762 (9.690957649752002%)\n",
      "# of testing samples:7101 (90.30904235024799%)\n"
     ]
    }
   ],
   "source": [
    "grouping_col = 'Sample'\n",
    "id_cols = ['Sample','modifier_gene_symbol','target_gene_symbol']\n",
    "# cols = list(sel_feats['Features'])\n",
    "models = []\n",
    "groups = set(dataset_clean[grouping_col].values)\n",
    "cleaned_df = dataset_clean.fillna(0)\n",
    "# cleaned_df['combined_score'] = cleaned_df['combined_score']/1000\n",
    "\n",
    "cleaned_df.fillna(0, inplace=True)\n",
    "# cleaned_df[target_attr] = cleaned_df[target_attr].values.astype(int)\n",
    "train_ids = [26, 27, 28, 30, 34, 37, 76, 105, 120, 121, 139]\n",
    "train_samples = [\"MTG\"+str(n) for n in train_ids]\n",
    "id_train = cleaned_df[cleaned_df[grouping_col].isin(train_samples)][id_cols]\n",
    "id_test = cleaned_df[~cleaned_df[grouping_col].isin(train_samples)][id_cols]\n",
    "X_train = cleaned_df[cleaned_df[grouping_col].isin(train_samples)][cols]\n",
    "X_test = cleaned_df[~cleaned_df[grouping_col].isin(train_samples)][cols]\n",
    "y_train = cleaned_df[cleaned_df[grouping_col].isin(train_samples)][target_attr]\n",
    "y_test = cleaned_df[~cleaned_df[grouping_col].isin(train_samples)][target_attr]\n",
    "\n",
    "# X_train, X_test, y_train, y_test = data_split(cleaned_df, cols, 'is_modifier')\n",
    "print(\"# of training samples:{} ({}%)\".format(len(X_train), (100*len(X_train)/(len(X_train)+len(X_test))) ))\n",
    "print(\"# of testing samples:{} ({}%)\".format(len(X_test), (100*len(X_test)/(len(X_train)+len(X_test))) ))"
   ]
  },
  {
   "cell_type": "code",
   "execution_count": 101,
   "id": "aceee42b",
   "metadata": {},
   "outputs": [
    {
     "name": "stdout",
     "output_type": "stream",
     "text": [
      "Selected training set shape: (4717, 4)\n",
      "Selected testing set shape: (3146, 4)\n",
      "['go_resnik_max' 'go_resnik_bma' 'go_jiang_seco_max' 'go_jiang_seco_avg']\n"
     ]
    }
   ],
   "source": [
    "# Initialize a random forest classifier and fit it to the training data\n",
    "rf_classifier = RandomForestClassifier(n_estimators=100, random_state=42, class_weight='balanced')\n",
    "rf_classifier.fit(X_train, y_train)\n",
    "\n",
    "# Use SelectFromModel for feature selection\n",
    "sfm = SelectFromModel(rf_classifier, threshold='mean', max_features=4)\n",
    "sfm.fit(X_train, y_train)\n",
    "\n",
    "# Select the important features\n",
    "X_important_train = sfm.transform(X_train)\n",
    "X_important_test = sfm.transform(X_test)\n",
    "\n",
    "print(f\"Selected training set shape: {X_important_train.shape}\")\n",
    "print(f\"Selected testing set shape: {X_important_test.shape}\")\n",
    "\n",
    "mask = sfm.get_support()\n",
    "selected_features = np.array(X_train.columns)[mask]\n",
    "print(selected_features)"
   ]
  },
  {
   "cell_type": "markdown",
   "id": "194ce819",
   "metadata": {},
   "source": [
    "## Model Building and Evaluation"
   ]
  },
  {
   "cell_type": "code",
   "execution_count": 126,
   "id": "f6a9fc43",
   "metadata": {},
   "outputs": [
    {
     "data": {
      "text/plain": [
       "(0.9783852511125238,\n",
       " '              precision    recall  f1-score   support\\n\\n         0.0       0.99      0.99      0.99      2927\\n         1.0       0.87      0.81      0.84       219\\n\\n    accuracy                           0.98      3146\\n   macro avg       0.93      0.90      0.91      3146\\nweighted avg       0.98      0.98      0.98      3146\\n')"
      ]
     },
     "execution_count": 126,
     "metadata": {},
     "output_type": "execute_result"
    }
   ],
   "source": [
    "# Train a new random forest classifier on the important features\n",
    "rf_classifier_v02 = RandomForestClassifier(n_estimators=3, random_state=42, class_weight='balanced')\n",
    "rf_classifier_v02.fit(X_important_train, y_train)\n",
    "\n",
    "# Predict the target for the test set\n",
    "y_pred_rf_v02 = rf_classifier_v02.predict(X_important_test)\n",
    "\n",
    "# Evaluate the model\n",
    "accuracy = accuracy_score(y_test, y_pred_rf_v02)\n",
    "classification_rep = classification_report(y_test, y_pred_rf_v02)\n",
    "accuracy, classification_rep"
   ]
  },
  {
   "cell_type": "code",
   "execution_count": 127,
   "metadata": {},
   "outputs": [
    {
     "data": {
      "text/plain": [
       "(0.9841068022886205,\n",
       " '              precision    recall  f1-score   support\\n\\n         0.0       0.99      1.00      0.99      2927\\n         1.0       0.95      0.81      0.88       219\\n\\n    accuracy                           0.98      3146\\n   macro avg       0.97      0.90      0.93      3146\\nweighted avg       0.98      0.98      0.98      3146\\n')"
      ]
     },
     "execution_count": 127,
     "metadata": {},
     "output_type": "execute_result"
    }
   ],
   "source": [
    "# Train a new random forest classifier on the important features\n",
    "rf_classifier_v03 = RandomForestClassifier(n_estimators=100, random_state=42, class_weight='balanced')\n",
    "rf_classifier_v03.fit(X_important_train, y_train)\n",
    "\n",
    "# Predict the target for the test set\n",
    "y_pred_rf_v03 = rf_classifier_v03.predict(X_important_test)\n",
    "\n",
    "# Evaluate the model\n",
    "accuracy = accuracy_score(y_test, y_pred_rf_v03)\n",
    "classification_rep = classification_report(y_test, y_pred_rf_v03)\n",
    "accuracy, classification_rep"
   ]
  },
  {
   "cell_type": "code",
   "execution_count": 128,
   "metadata": {},
   "outputs": [
    {
     "data": {
      "text/plain": [
       "(0.8766687857596949,\n",
       " '              precision    recall  f1-score   support\\n\\n         0.0       0.99      0.87      0.93      2927\\n         1.0       0.35      0.92      0.51       219\\n\\n    accuracy                           0.88      3146\\n   macro avg       0.67      0.90      0.72      3146\\nweighted avg       0.95      0.88      0.90      3146\\n')"
      ]
     },
     "execution_count": 128,
     "metadata": {},
     "output_type": "execute_result"
    }
   ],
   "source": [
    "# Train a new random forest classifier on the important features\n",
    "lr_classifier_v01 = LogisticRegression(C=0.9192796263326164, class_weight='balanced', dual=False,\n",
    "            fit_intercept=True, intercept_scaling=1, max_iter=100,\n",
    "            n_jobs=None, penalty='l1', random_state=500,\n",
    "            solver='liblinear', tol=0.0001, verbose=0, warm_start=False)\n",
    "lr_classifier_v01.fit(X_important_train, y_train)\n",
    "\n",
    "# Predict the target for the test set\n",
    "y_pred_lr_v01 = lr_classifier_v01.predict(X_important_test)\n",
    "\n",
    "# Evaluate the model\n",
    "accuracy = accuracy_score(y_test, y_pred_lr_v01)\n",
    "classification_rep = classification_report(y_test, y_pred_lr_v01)\n",
    "accuracy, classification_rep"
   ]
  },
  {
   "cell_type": "code",
   "execution_count": 134,
   "metadata": {},
   "outputs": [
    {
     "name": "stdout",
     "output_type": "stream",
     "text": [
      "Epoch 1/100\n"
     ]
    },
    {
     "name": "stdout",
     "output_type": "stream",
     "text": [
      "148/148 [==============================] - 2s 5ms/step - loss: 0.4094 - auc_2: 0.0383 - val_loss: 0.3330 - val_auc_2: 0.0413\n",
      "Epoch 2/100\n",
      "148/148 [==============================] - 0s 3ms/step - loss: 0.2698 - auc_2: 0.0688 - val_loss: 0.2115 - val_auc_2: 0.5442\n",
      "Epoch 3/100\n",
      "148/148 [==============================] - 0s 3ms/step - loss: 0.1883 - auc_2: 0.4114 - val_loss: 0.1681 - val_auc_2: 0.5664\n",
      "Epoch 4/100\n",
      "148/148 [==============================] - 0s 3ms/step - loss: 0.1656 - auc_2: 0.4715 - val_loss: 0.1534 - val_auc_2: 0.5439\n",
      "Epoch 5/100\n",
      "148/148 [==============================] - 0s 3ms/step - loss: 0.1546 - auc_2: 0.5128 - val_loss: 0.1486 - val_auc_2: 0.5475\n",
      "Epoch 6/100\n",
      "148/148 [==============================] - 0s 3ms/step - loss: 0.1503 - auc_2: 0.5647 - val_loss: 0.1454 - val_auc_2: 0.5728\n",
      "Epoch 7/100\n",
      "148/148 [==============================] - 0s 3ms/step - loss: 0.1505 - auc_2: 0.5488 - val_loss: 0.1464 - val_auc_2: 0.5645\n",
      "Epoch 8/100\n",
      "148/148 [==============================] - 0s 3ms/step - loss: 0.1485 - auc_2: 0.5716 - val_loss: 0.1426 - val_auc_2: 0.5847\n",
      "Epoch 9/100\n",
      "148/148 [==============================] - 0s 3ms/step - loss: 0.1466 - auc_2: 0.5712 - val_loss: 0.1562 - val_auc_2: 0.5643\n",
      "Epoch 10/100\n",
      "148/148 [==============================] - 0s 3ms/step - loss: 0.1464 - auc_2: 0.5665 - val_loss: 0.1505 - val_auc_2: 0.5896\n",
      "Epoch 11/100\n",
      "148/148 [==============================] - 0s 3ms/step - loss: 0.1461 - auc_2: 0.5751 - val_loss: 0.1437 - val_auc_2: 0.6047\n",
      "Epoch 12/100\n",
      "148/148 [==============================] - 0s 3ms/step - loss: 0.1475 - auc_2: 0.5694 - val_loss: 0.1520 - val_auc_2: 0.6106\n",
      "Epoch 13/100\n",
      "148/148 [==============================] - 0s 3ms/step - loss: 0.1428 - auc_2: 0.6053 - val_loss: 0.1402 - val_auc_2: 0.5981\n",
      "Epoch 14/100\n",
      "148/148 [==============================] - 0s 3ms/step - loss: 0.1410 - auc_2: 0.6049 - val_loss: 0.1374 - val_auc_2: 0.6132\n",
      "Epoch 15/100\n",
      "148/148 [==============================] - 0s 3ms/step - loss: 0.1415 - auc_2: 0.6102 - val_loss: 0.1352 - val_auc_2: 0.6248\n",
      "Epoch 16/100\n",
      "148/148 [==============================] - 0s 3ms/step - loss: 0.1387 - auc_2: 0.6153 - val_loss: 0.1339 - val_auc_2: 0.6325\n",
      "Epoch 17/100\n",
      "148/148 [==============================] - 0s 3ms/step - loss: 0.1371 - auc_2: 0.6315 - val_loss: 0.1482 - val_auc_2: 0.6532\n",
      "Epoch 18/100\n",
      "148/148 [==============================] - 0s 3ms/step - loss: 0.1374 - auc_2: 0.6219 - val_loss: 0.1318 - val_auc_2: 0.6425\n",
      "Epoch 19/100\n",
      "148/148 [==============================] - 0s 3ms/step - loss: 0.1362 - auc_2: 0.6281 - val_loss: 0.1328 - val_auc_2: 0.6501\n",
      "Epoch 20/100\n",
      "148/148 [==============================] - 0s 3ms/step - loss: 0.1368 - auc_2: 0.6282 - val_loss: 0.1313 - val_auc_2: 0.6614\n",
      "Epoch 21/100\n",
      "148/148 [==============================] - 0s 3ms/step - loss: 0.1340 - auc_2: 0.6421 - val_loss: 0.1294 - val_auc_2: 0.6712\n",
      "Epoch 22/100\n",
      "148/148 [==============================] - 0s 3ms/step - loss: 0.1324 - auc_2: 0.6554 - val_loss: 0.1291 - val_auc_2: 0.6837\n",
      "Epoch 23/100\n",
      "148/148 [==============================] - 0s 3ms/step - loss: 0.1298 - auc_2: 0.6688 - val_loss: 0.1252 - val_auc_2: 0.6879\n",
      "Epoch 24/100\n",
      "148/148 [==============================] - 0s 3ms/step - loss: 0.1299 - auc_2: 0.6621 - val_loss: 0.1236 - val_auc_2: 0.6913\n",
      "Epoch 25/100\n",
      "148/148 [==============================] - 0s 3ms/step - loss: 0.1265 - auc_2: 0.6876 - val_loss: 0.1308 - val_auc_2: 0.7073\n",
      "Epoch 26/100\n",
      "148/148 [==============================] - 0s 3ms/step - loss: 0.1270 - auc_2: 0.6839 - val_loss: 0.1204 - val_auc_2: 0.7110\n",
      "Epoch 27/100\n",
      "148/148 [==============================] - 0s 3ms/step - loss: 0.1279 - auc_2: 0.6825 - val_loss: 0.1185 - val_auc_2: 0.7203\n",
      "Epoch 28/100\n",
      "148/148 [==============================] - 0s 3ms/step - loss: 0.1223 - auc_2: 0.7113 - val_loss: 0.1248 - val_auc_2: 0.7264\n",
      "Epoch 29/100\n",
      "148/148 [==============================] - 0s 3ms/step - loss: 0.1209 - auc_2: 0.7109 - val_loss: 0.1150 - val_auc_2: 0.7394\n",
      "Epoch 30/100\n",
      "148/148 [==============================] - 0s 3ms/step - loss: 0.1203 - auc_2: 0.7235 - val_loss: 0.1170 - val_auc_2: 0.7433\n",
      "Epoch 31/100\n",
      "148/148 [==============================] - 0s 3ms/step - loss: 0.1197 - auc_2: 0.7150 - val_loss: 0.1150 - val_auc_2: 0.7440\n",
      "Epoch 32/100\n",
      "148/148 [==============================] - 0s 3ms/step - loss: 0.1195 - auc_2: 0.7168 - val_loss: 0.1140 - val_auc_2: 0.7607\n",
      "Epoch 33/100\n",
      "148/148 [==============================] - 0s 3ms/step - loss: 0.1169 - auc_2: 0.7338 - val_loss: 0.1076 - val_auc_2: 0.7707\n",
      "Epoch 34/100\n",
      "148/148 [==============================] - 0s 3ms/step - loss: 0.1142 - auc_2: 0.7535 - val_loss: 0.1124 - val_auc_2: 0.7704\n",
      "Epoch 35/100\n",
      "148/148 [==============================] - 0s 3ms/step - loss: 0.1129 - auc_2: 0.7563 - val_loss: 0.1060 - val_auc_2: 0.7864\n",
      "Epoch 36/100\n",
      "148/148 [==============================] - 0s 3ms/step - loss: 0.1128 - auc_2: 0.7573 - val_loss: 0.1036 - val_auc_2: 0.7912\n",
      "Epoch 37/100\n",
      "148/148 [==============================] - 0s 3ms/step - loss: 0.1088 - auc_2: 0.7792 - val_loss: 0.1058 - val_auc_2: 0.7883\n",
      "Epoch 38/100\n",
      "148/148 [==============================] - 0s 3ms/step - loss: 0.1087 - auc_2: 0.7732 - val_loss: 0.1009 - val_auc_2: 0.8016\n",
      "Epoch 39/100\n",
      "148/148 [==============================] - 0s 3ms/step - loss: 0.1087 - auc_2: 0.7761 - val_loss: 0.1015 - val_auc_2: 0.8126\n",
      "Epoch 40/100\n",
      "148/148 [==============================] - 0s 3ms/step - loss: 0.1073 - auc_2: 0.7738 - val_loss: 0.1082 - val_auc_2: 0.8194\n",
      "Epoch 41/100\n",
      "148/148 [==============================] - 0s 3ms/step - loss: 0.1050 - auc_2: 0.7930 - val_loss: 0.0987 - val_auc_2: 0.8084\n",
      "Epoch 42/100\n",
      "148/148 [==============================] - 0s 3ms/step - loss: 0.1119 - auc_2: 0.7617 - val_loss: 0.1010 - val_auc_2: 0.8154\n",
      "Epoch 43/100\n",
      "148/148 [==============================] - 0s 3ms/step - loss: 0.1086 - auc_2: 0.7747 - val_loss: 0.1091 - val_auc_2: 0.8141\n",
      "Epoch 44/100\n",
      "148/148 [==============================] - 0s 3ms/step - loss: 0.1062 - auc_2: 0.7845 - val_loss: 0.0978 - val_auc_2: 0.8232\n",
      "Epoch 45/100\n",
      "148/148 [==============================] - 0s 3ms/step - loss: 0.1065 - auc_2: 0.7839 - val_loss: 0.0975 - val_auc_2: 0.8328\n",
      "Epoch 46/100\n",
      "148/148 [==============================] - 0s 3ms/step - loss: 0.1007 - auc_2: 0.8060 - val_loss: 0.0932 - val_auc_2: 0.8322\n",
      "Epoch 47/100\n",
      "148/148 [==============================] - 0s 3ms/step - loss: 0.1020 - auc_2: 0.8018 - val_loss: 0.0935 - val_auc_2: 0.8317\n",
      "Epoch 48/100\n",
      "148/148 [==============================] - 0s 3ms/step - loss: 0.1037 - auc_2: 0.7963 - val_loss: 0.1007 - val_auc_2: 0.8319\n",
      "Epoch 49/100\n",
      "148/148 [==============================] - 0s 3ms/step - loss: 0.1021 - auc_2: 0.8017 - val_loss: 0.0941 - val_auc_2: 0.8376\n",
      "Epoch 50/100\n",
      "148/148 [==============================] - 0s 3ms/step - loss: 0.1046 - auc_2: 0.7947 - val_loss: 0.0955 - val_auc_2: 0.8339\n",
      "Epoch 51/100\n",
      "148/148 [==============================] - 0s 3ms/step - loss: 0.0997 - auc_2: 0.8109 - val_loss: 0.0954 - val_auc_2: 0.8413\n",
      "Epoch 52/100\n",
      "148/148 [==============================] - 0s 3ms/step - loss: 0.1010 - auc_2: 0.8063 - val_loss: 0.0926 - val_auc_2: 0.8323\n",
      "Epoch 53/100\n",
      "148/148 [==============================] - 0s 3ms/step - loss: 0.1003 - auc_2: 0.8097 - val_loss: 0.1111 - val_auc_2: 0.8344\n",
      "Epoch 54/100\n",
      "148/148 [==============================] - 0s 3ms/step - loss: 0.1012 - auc_2: 0.8042 - val_loss: 0.1108 - val_auc_2: 0.8455\n",
      "Epoch 55/100\n",
      "148/148 [==============================] - 0s 3ms/step - loss: 0.1016 - auc_2: 0.8049 - val_loss: 0.0929 - val_auc_2: 0.8347\n",
      "Epoch 56/100\n",
      "148/148 [==============================] - 0s 3ms/step - loss: 0.0989 - auc_2: 0.8152 - val_loss: 0.0917 - val_auc_2: 0.8411\n",
      "Epoch 57/100\n",
      "148/148 [==============================] - 0s 3ms/step - loss: 0.0979 - auc_2: 0.8191 - val_loss: 0.0901 - val_auc_2: 0.8422\n",
      "Epoch 58/100\n",
      "148/148 [==============================] - 0s 3ms/step - loss: 0.0992 - auc_2: 0.8125 - val_loss: 0.0935 - val_auc_2: 0.8501\n",
      "Epoch 59/100\n",
      "148/148 [==============================] - 0s 3ms/step - loss: 0.0978 - auc_2: 0.8178 - val_loss: 0.0899 - val_auc_2: 0.8501\n",
      "Epoch 60/100\n",
      "148/148 [==============================] - 0s 3ms/step - loss: 0.1061 - auc_2: 0.7856 - val_loss: 0.0899 - val_auc_2: 0.8401\n",
      "Epoch 61/100\n",
      "148/148 [==============================] - 0s 3ms/step - loss: 0.1003 - auc_2: 0.8105 - val_loss: 0.0887 - val_auc_2: 0.8459\n",
      "Epoch 62/100\n",
      "148/148 [==============================] - 0s 3ms/step - loss: 0.0967 - auc_2: 0.8229 - val_loss: 0.0884 - val_auc_2: 0.8469\n",
      "Epoch 63/100\n",
      "148/148 [==============================] - 0s 3ms/step - loss: 0.0975 - auc_2: 0.8172 - val_loss: 0.0898 - val_auc_2: 0.8429\n",
      "Epoch 64/100\n",
      "148/148 [==============================] - 0s 3ms/step - loss: 0.1002 - auc_2: 0.8085 - val_loss: 0.1312 - val_auc_2: 0.8458\n",
      "Epoch 65/100\n",
      "148/148 [==============================] - 0s 3ms/step - loss: 0.0979 - auc_2: 0.8177 - val_loss: 0.0896 - val_auc_2: 0.8453\n",
      "Epoch 66/100\n",
      "148/148 [==============================] - 0s 3ms/step - loss: 0.0968 - auc_2: 0.8214 - val_loss: 0.0919 - val_auc_2: 0.8512\n",
      "Epoch 67/100\n",
      "148/148 [==============================] - 0s 3ms/step - loss: 0.0986 - auc_2: 0.8143 - val_loss: 0.0925 - val_auc_2: 0.8473\n",
      "Epoch 68/100\n",
      "148/148 [==============================] - 0s 3ms/step - loss: 0.0970 - auc_2: 0.8226 - val_loss: 0.0871 - val_auc_2: 0.8530\n",
      "Epoch 69/100\n",
      "148/148 [==============================] - 0s 3ms/step - loss: 0.0988 - auc_2: 0.8133 - val_loss: 0.0994 - val_auc_2: 0.8422\n",
      "Epoch 70/100\n",
      "148/148 [==============================] - 0s 3ms/step - loss: 0.0954 - auc_2: 0.8264 - val_loss: 0.0867 - val_auc_2: 0.8545\n",
      "Epoch 71/100\n",
      "148/148 [==============================] - 0s 3ms/step - loss: 0.0963 - auc_2: 0.8217 - val_loss: 0.0904 - val_auc_2: 0.8461\n",
      "Epoch 72/100\n",
      "148/148 [==============================] - 0s 3ms/step - loss: 0.0975 - auc_2: 0.8188 - val_loss: 0.1070 - val_auc_2: 0.8495\n",
      "Epoch 73/100\n",
      "148/148 [==============================] - 0s 3ms/step - loss: 0.0955 - auc_2: 0.8274 - val_loss: 0.0873 - val_auc_2: 0.8514\n",
      "Epoch 74/100\n",
      "148/148 [==============================] - 0s 3ms/step - loss: 0.0935 - auc_2: 0.8311 - val_loss: 0.0873 - val_auc_2: 0.8573\n",
      "Epoch 75/100\n",
      "148/148 [==============================] - 0s 3ms/step - loss: 0.0949 - auc_2: 0.8270 - val_loss: 0.0865 - val_auc_2: 0.8504\n",
      "Epoch 76/100\n",
      "148/148 [==============================] - 0s 3ms/step - loss: 0.0942 - auc_2: 0.8280 - val_loss: 0.0910 - val_auc_2: 0.8437\n",
      "Epoch 77/100\n",
      "148/148 [==============================] - 0s 3ms/step - loss: 0.0994 - auc_2: 0.8095 - val_loss: 0.0970 - val_auc_2: 0.8510\n",
      "Epoch 78/100\n",
      "148/148 [==============================] - 0s 3ms/step - loss: 0.0954 - auc_2: 0.8254 - val_loss: 0.0848 - val_auc_2: 0.8570\n",
      "Epoch 79/100\n",
      "148/148 [==============================] - 0s 3ms/step - loss: 0.0934 - auc_2: 0.8301 - val_loss: 0.0855 - val_auc_2: 0.8557\n",
      "Epoch 80/100\n",
      "148/148 [==============================] - 0s 3ms/step - loss: 0.0952 - auc_2: 0.8253 - val_loss: 0.0944 - val_auc_2: 0.8476\n",
      "Epoch 81/100\n",
      "148/148 [==============================] - 0s 3ms/step - loss: 0.0950 - auc_2: 0.8249 - val_loss: 0.0849 - val_auc_2: 0.8547\n",
      "Epoch 82/100\n",
      "148/148 [==============================] - 0s 3ms/step - loss: 0.1008 - auc_2: 0.8030 - val_loss: 0.0901 - val_auc_2: 0.8431\n",
      "Epoch 83/100\n",
      "148/148 [==============================] - 0s 3ms/step - loss: 0.0918 - auc_2: 0.8364 - val_loss: 0.0927 - val_auc_2: 0.8570\n",
      "Epoch 84/100\n",
      "148/148 [==============================] - 0s 3ms/step - loss: 0.0924 - auc_2: 0.8319 - val_loss: 0.0840 - val_auc_2: 0.8591\n",
      "Epoch 85/100\n",
      "148/148 [==============================] - 0s 3ms/step - loss: 0.0945 - auc_2: 0.8243 - val_loss: 0.0847 - val_auc_2: 0.8544\n",
      "Epoch 86/100\n",
      "148/148 [==============================] - 0s 3ms/step - loss: 0.0962 - auc_2: 0.8210 - val_loss: 0.1295 - val_auc_2: 0.8561\n",
      "Epoch 87/100\n",
      "148/148 [==============================] - 0s 3ms/step - loss: 0.0937 - auc_2: 0.8278 - val_loss: 0.0881 - val_auc_2: 0.8490\n",
      "Epoch 88/100\n",
      "148/148 [==============================] - 0s 3ms/step - loss: 0.0912 - auc_2: 0.8362 - val_loss: 0.0912 - val_auc_2: 0.8516\n",
      "Epoch 89/100\n",
      "148/148 [==============================] - 0s 3ms/step - loss: 0.0929 - auc_2: 0.8321 - val_loss: 0.0886 - val_auc_2: 0.8490\n",
      "Epoch 90/100\n",
      "148/148 [==============================] - 0s 3ms/step - loss: 0.0951 - auc_2: 0.8235 - val_loss: 0.0846 - val_auc_2: 0.8567\n",
      "Epoch 91/100\n",
      "148/148 [==============================] - 0s 3ms/step - loss: 0.0937 - auc_2: 0.8281 - val_loss: 0.0923 - val_auc_2: 0.8610\n",
      "Epoch 92/100\n",
      "148/148 [==============================] - 0s 3ms/step - loss: 0.0943 - auc_2: 0.8264 - val_loss: 0.0883 - val_auc_2: 0.8518\n",
      "Epoch 93/100\n",
      "148/148 [==============================] - 0s 3ms/step - loss: 0.0982 - auc_2: 0.8116 - val_loss: 0.0870 - val_auc_2: 0.8545\n",
      "Epoch 94/100\n",
      "148/148 [==============================] - 0s 3ms/step - loss: 0.0915 - auc_2: 0.8359 - val_loss: 0.0838 - val_auc_2: 0.8606\n",
      "Epoch 95/100\n",
      "148/148 [==============================] - 0s 3ms/step - loss: 0.0959 - auc_2: 0.8174 - val_loss: 0.0834 - val_auc_2: 0.8601\n",
      "Epoch 96/100\n",
      "148/148 [==============================] - 0s 3ms/step - loss: 0.0938 - auc_2: 0.8274 - val_loss: 0.0873 - val_auc_2: 0.8619\n",
      "Epoch 97/100\n",
      "148/148 [==============================] - 0s 3ms/step - loss: 0.0925 - auc_2: 0.8335 - val_loss: 0.0924 - val_auc_2: 0.8644\n",
      "Epoch 98/100\n",
      "148/148 [==============================] - 0s 3ms/step - loss: 0.0925 - auc_2: 0.8319 - val_loss: 0.0821 - val_auc_2: 0.8643\n",
      "Epoch 99/100\n",
      "148/148 [==============================] - 0s 3ms/step - loss: 0.0929 - auc_2: 0.8315 - val_loss: 0.0821 - val_auc_2: 0.8626\n",
      "Epoch 100/100\n",
      "148/148 [==============================] - 0s 3ms/step - loss: 0.0929 - auc_2: 0.8285 - val_loss: 0.0888 - val_auc_2: 0.8629\n"
     ]
    },
    {
     "data": {
      "image/png": "[encoded data removed]",
      "text/plain": [
       "<Figure size 1000x600 with 1 Axes>"
      ]
     },
     "metadata": {},
     "output_type": "display_data"
    }
   ],
   "source": [
    "from tensorflow.keras.models import Sequential\n",
    "from tensorflow.keras.layers import Dense\n",
    "from tensorflow.keras.metrics import AUC, TruePositives, Precision, Recall\n",
    "\n",
    "# Define the model\n",
    "nn_classifier = Sequential()\n",
    "nn_classifier.add(Dense(32, input_dim=X_important_train.shape[1], activation='relu'))  # Input layer\n",
    "nn_classifier.add(Dense(16, activation='relu'))  # Hidden layer\n",
    "nn_classifier.add(Dense(8, activation='relu'))  # Hidden layer\n",
    "nn_classifier.add(Dense(1, activation='sigmoid'))  # Output layer\n",
    "\n",
    "# Compile the model\n",
    "nn_classifier.compile(loss='binary_crossentropy', optimizer='adam', metrics=[AUC(curve='PR')])\n",
    "\n",
    "# Fit the model\n",
    "history = nn_classifier.fit(X_important_train, y_train, epochs=100, batch_size=32, validation_data=(X_important_test, y_test))\n",
    "\n",
    "# Plot the training and validation loss\n",
    "plt.figure(figsize=(10, 6))\n",
    "plt.plot(history.history['loss'], label='Training Loss')\n",
    "plt.plot(history.history['val_loss'], label='Validation Loss')\n",
    "plt.title('Training and Validation Loss Over Time')\n",
    "plt.xlabel('Epoch')\n",
    "plt.ylabel('Loss')\n",
    "plt.legend()\n",
    "plt.show()"
   ]
  },
  {
   "cell_type": "markdown",
   "id": "9a5caf90",
   "metadata": {},
   "source": [
    "## PR Curve"
   ]
  },
  {
   "cell_type": "code",
   "execution_count": 135,
   "metadata": {},
   "outputs": [
    {
     "name": "stdout",
     "output_type": "stream",
     "text": [
      "99/99 [==============================] - 0s 1ms/step\n"
     ]
    },
    {
     "data": {
      "image/png": "[encoded data removed]",
      "text/plain": [
       "<Figure size 1000x600 with 1 Axes>"
      ]
     },
     "metadata": {},
     "output_type": "display_data"
    }
   ],
   "source": [
    "# Compute precision-recall pairs for different probability thresholds\n",
    "y_scores_lr_v01 = lr_classifier_v01.predict_proba(X_important_test)[:, 1]\n",
    "y_scores_rf_v02 = rf_classifier_v02.predict_proba(X_important_test)[:, 1]\n",
    "y_scores_rf_v03 = rf_classifier_v03.predict_proba(X_important_test)[:, 1]\n",
    "y_scores_nn_v03 = nn_classifier.predict(X_important_test)\n",
    "\n",
    "precision_1, recall_1, _ = precision_recall_curve(y_test, y_scores_lr_v01)\n",
    "precision_2, recall_2, _ = precision_recall_curve(y_test, y_scores_rf_v02)\n",
    "precision_3, recall_3, _ = precision_recall_curve(y_test, y_scores_rf_v03)\n",
    "precision_4, recall_4, _ = precision_recall_curve(y_test, y_scores_nn_v03)\n",
    "\n",
    "# Plot the Precision-Recall curve\n",
    "plt.figure(figsize=(10, 6))\n",
    "plt.plot(recall_1, precision_1, marker='+', label='LR')\n",
    "plt.plot(recall_2, precision_2, marker='.', label='RF-3')\n",
    "plt.plot(recall_3, precision_3, marker='_', label='RF-100')\n",
    "plt.plot(recall_4, precision_4, marker='*', label='NN')\n",
    "plt.xlabel('Recall')\n",
    "plt.ylabel('Precision')\n",
    "plt.title('Precision-Recall Curve')\n",
    "plt.legend()\n",
    "plt.grid(True)\n",
    "plt.show()\n"
   ]
  },
  {
   "cell_type": "code",
   "execution_count": null,
   "metadata": {},
   "outputs": [
    {
     "data": {
      "image/png": "[encoded data removed]",
      "text/plain": [
       "<Figure size 1000x600 with 1 Axes>"
      ]
     },
     "metadata": {},
     "output_type": "display_data"
    }
   ],
   "source": [
    "# Compute precision-recall pairs for different probability thresholds\n",
    "y_scores = rf_classifier_important.predict_proba(X_important_test)[:, 1]\n",
    "precision, recall, _ = precision_recall_curve(y_test, y_scores)\n",
    "\n",
    "# Plot the Precision-Recall curve\n",
    "plt.figure(figsize=(10, 6))\n",
    "plt.plot(recall, precision, marker='.')\n",
    "plt.xlabel('Recall')\n",
    "plt.ylabel('Precision')\n",
    "plt.title('Precision-Recall Curve')\n",
    "plt.grid(True)\n",
    "plt.show()\n"
   ]
  },
  {
   "cell_type": "code",
   "execution_count": null,
   "id": "9d9964a3",
   "metadata": {},
   "outputs": [],
   "source": []
  }
 ],
 "metadata": {
  "kernelspec": {
   "display_name": "Kedro (modspy_data)",
   "language": "python",
   "name": "kedro_modspy_data"
  },
  "language_info": {
   "codemirror_mode": {
    "name": "ipython",
    "version": 3
   },
   "file_extension": ".py",
   "mimetype": "text/x-python",
   "name": "python",
   "nbconvert_exporter": "python",
   "pygments_lexer": "ipython3",
   "version": "3.8.10"
  }
 },
 "nbformat": 4,
 "nbformat_minor": 5
}
