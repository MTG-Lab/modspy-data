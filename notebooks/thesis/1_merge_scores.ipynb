{
 "cells": [
  {
   "cell_type": "markdown",
   "id": "b47f92b9",
   "metadata": {},
   "source": [
    "## Libraries & Modules"
   ]
  },
  {
   "cell_type": "code",
   "execution_count": 1,
   "id": "a0f6f41c-1644-4ba3-870f-6bba2dc88c54",
   "metadata": {
    "tags": []
   },
   "outputs": [
    {
     "data": {
      "text/html": [
       "<pre style=\"white-space:pre;overflow-x:auto;line-height:normal;font-family:Menlo,'DejaVu Sans Mono',consolas,'Courier New',monospace\"><span style=\"color: #7fbfbf; text-decoration-color: #7fbfbf\">                    </span><span style=\"color: #000080; text-decoration-color: #000080\">INFO    </span> Resolved project path as:                                              <a href=\"file:///home/rahit/jupyter_py3/lib/python3.8/site-packages/kedro/ipython/__init__.py\" target=\"_blank\"><span style=\"color: #7f7f7f; text-decoration-color: #7f7f7f\">__init__.py</span></a><span style=\"color: #7f7f7f; text-decoration-color: #7f7f7f\">:</span><a href=\"file:///home/rahit/jupyter_py3/lib/python3.8/site-packages/kedro/ipython/__init__.py#139\" target=\"_blank\"><span style=\"color: #7f7f7f; text-decoration-color: #7f7f7f\">139</span></a>\n",
       "<span style=\"color: #7fbfbf; text-decoration-color: #7fbfbf\">                    </span>         <span style=\"color: #800080; text-decoration-color: #800080\">/project/6013424/rahit/from_scratch/</span><span style=\"color: #ff00ff; text-decoration-color: #ff00ff\">modspy-data.</span>                       <span style=\"color: #7f7f7f; text-decoration-color: #7f7f7f\">               </span>\n",
       "<span style=\"color: #7fbfbf; text-decoration-color: #7fbfbf\">                    </span>         To set a different path, run <span style=\"color: #008000; text-decoration-color: #008000\">'%reload_kedro &lt;project_root&gt;'</span>            <span style=\"color: #7f7f7f; text-decoration-color: #7f7f7f\">               </span>\n",
       "</pre>\n"
      ],
      "text/plain": [
       "\u001b[2;36m                   \u001b[0m\u001b[2;36m \u001b[0m\u001b[34mINFO    \u001b[0m Resolved project path as:                                              \u001b]8;id=8369;file:///home/rahit/jupyter_py3/lib/python3.8/site-packages/kedro/ipython/__init__.py\u001b\\\u001b[2m__init__.py\u001b[0m\u001b]8;;\u001b\\\u001b[2m:\u001b[0m\u001b]8;id=504454;file:///home/rahit/jupyter_py3/lib/python3.8/site-packages/kedro/ipython/__init__.py#139\u001b\\\u001b[2m139\u001b[0m\u001b]8;;\u001b\\\n",
       "\u001b[2;36m                    \u001b[0m         \u001b[35m/project/6013424/rahit/from_scratch/\u001b[0m\u001b[95mmodspy-data.\u001b[0m                       \u001b[2m               \u001b[0m\n",
       "\u001b[2;36m                    \u001b[0m         To set a different path, run \u001b[32m'%reload_kedro \u001b[0m\u001b[32m<\u001b[0m\u001b[32mproject_root\u001b[0m\u001b[32m>\u001b[0m\u001b[32m'\u001b[0m            \u001b[2m               \u001b[0m\n"
      ]
     },
     "metadata": {},
     "output_type": "display_data"
    },
    {
     "data": {
      "text/html": [
       "<pre style=\"white-space:pre;overflow-x:auto;line-height:normal;font-family:Menlo,'DejaVu Sans Mono',consolas,'Courier New',monospace\"><span style=\"color: #7fbfbf; text-decoration-color: #7fbfbf\">                    </span><span style=\"color: #000080; text-decoration-color: #000080\">INFO    </span> Resolved project path as:                                              <a href=\"file:///home/rahit/jupyter_py3/lib/python3.8/site-packages/kedro/ipython/__init__.py\" target=\"_blank\"><span style=\"color: #7f7f7f; text-decoration-color: #7f7f7f\">__init__.py</span></a><span style=\"color: #7f7f7f; text-decoration-color: #7f7f7f\">:</span><a href=\"file:///home/rahit/jupyter_py3/lib/python3.8/site-packages/kedro/ipython/__init__.py#139\" target=\"_blank\"><span style=\"color: #7f7f7f; text-decoration-color: #7f7f7f\">139</span></a>\n",
       "<span style=\"color: #7fbfbf; text-decoration-color: #7fbfbf\">                    </span>         <span style=\"color: #800080; text-decoration-color: #800080\">/project/6013424/rahit/from_scratch/</span><span style=\"color: #ff00ff; text-decoration-color: #ff00ff\">modspy-data.</span>                       <span style=\"color: #7f7f7f; text-decoration-color: #7f7f7f\">               </span>\n",
       "<span style=\"color: #7fbfbf; text-decoration-color: #7fbfbf\">                    </span>         To set a different path, run <span style=\"color: #008000; text-decoration-color: #008000\">'%reload_kedro &lt;project_root&gt;'</span>            <span style=\"color: #7f7f7f; text-decoration-color: #7f7f7f\">               </span>\n",
       "</pre>\n"
      ],
      "text/plain": [
       "\u001b[2;36m                   \u001b[0m\u001b[2;36m \u001b[0m\u001b[34mINFO    \u001b[0m Resolved project path as:                                              \u001b]8;id=645822;file:///home/rahit/jupyter_py3/lib/python3.8/site-packages/kedro/ipython/__init__.py\u001b\\\u001b[2m__init__.py\u001b[0m\u001b]8;;\u001b\\\u001b[2m:\u001b[0m\u001b]8;id=441455;file:///home/rahit/jupyter_py3/lib/python3.8/site-packages/kedro/ipython/__init__.py#139\u001b\\\u001b[2m139\u001b[0m\u001b]8;;\u001b\\\n",
       "\u001b[2;36m                    \u001b[0m         \u001b[35m/project/6013424/rahit/from_scratch/\u001b[0m\u001b[95mmodspy-data.\u001b[0m                       \u001b[2m               \u001b[0m\n",
       "\u001b[2;36m                    \u001b[0m         To set a different path, run \u001b[32m'%reload_kedro \u001b[0m\u001b[32m<\u001b[0m\u001b[32mproject_root\u001b[0m\u001b[32m>\u001b[0m\u001b[32m'\u001b[0m            \u001b[2m               \u001b[0m\n"
      ]
     },
     "metadata": {},
     "output_type": "display_data"
    },
    {
     "data": {
      "text/html": [
       "<pre style=\"white-space:pre;overflow-x:auto;line-height:normal;font-family:Menlo,'DejaVu Sans Mono',consolas,'Courier New',monospace\"><span style=\"color: #7fbfbf; text-decoration-color: #7fbfbf\">[06/11/24 11:41:21] </span><span style=\"color: #800000; text-decoration-color: #800000\">WARNING </span> <span style=\"color: #800080; text-decoration-color: #800080\">/home/rahit/jupyter_py3/lib/python3.8/site-packages/lazy_loader/</span><span style=\"color: #ff00ff; text-decoration-color: #ff00ff\">__init</span> <a href=\"file:///cvmfs/soft.computecanada.ca/easybuild/software/2020/avx2/Core/python/3.8.10/lib/python3.8/warnings.py\" target=\"_blank\"><span style=\"color: #7f7f7f; text-decoration-color: #7f7f7f\">warnings.py</span></a><span style=\"color: #7f7f7f; text-decoration-color: #7f7f7f\">:</span><a href=\"file:///cvmfs/soft.computecanada.ca/easybuild/software/2020/avx2/Core/python/3.8.10/lib/python3.8/warnings.py#109\" target=\"_blank\"><span style=\"color: #7f7f7f; text-decoration-color: #7f7f7f\">109</span></a>\n",
       "<span style=\"color: #7fbfbf; text-decoration-color: #7fbfbf\">                    </span>         <span style=\"color: #ff00ff; text-decoration-color: #ff00ff\">__.py</span>:<span style=\"color: #008080; text-decoration-color: #008080; font-weight: bold\">78</span>: KedroDeprecationWarning: <span style=\"color: #008000; text-decoration-color: #008000\">'CSVDataSet'</span> has been renamed to    <span style=\"color: #7f7f7f; text-decoration-color: #7f7f7f\">               </span>\n",
       "<span style=\"color: #7fbfbf; text-decoration-color: #7fbfbf\">                    </span>         <span style=\"color: #008000; text-decoration-color: #008000\">'CSVDataset'</span>, and the alias will be removed in Kedro-Datasets <span style=\"color: #008080; text-decoration-color: #008080; font-weight: bold\">2.0</span>.<span style=\"color: #008080; text-decoration-color: #008080; font-weight: bold\">0</span>    <span style=\"color: #7f7f7f; text-decoration-color: #7f7f7f\">               </span>\n",
       "<span style=\"color: #7fbfbf; text-decoration-color: #7fbfbf\">                    </span>           attr = <span style=\"color: #800080; text-decoration-color: #800080; font-weight: bold\">getattr</span><span style=\"font-weight: bold\">(</span>submod, name<span style=\"font-weight: bold\">)</span>                                         <span style=\"color: #7f7f7f; text-decoration-color: #7f7f7f\">               </span>\n",
       "<span style=\"color: #7fbfbf; text-decoration-color: #7fbfbf\">                    </span>                                                                                <span style=\"color: #7f7f7f; text-decoration-color: #7f7f7f\">               </span>\n",
       "</pre>\n"
      ],
      "text/plain": [
       "\u001b[2;36m[06/11/24 11:41:21]\u001b[0m\u001b[2;36m \u001b[0m\u001b[31mWARNING \u001b[0m \u001b[35m/home/rahit/jupyter_py3/lib/python3.8/site-packages/lazy_loader/\u001b[0m\u001b[95m__init\u001b[0m \u001b]8;id=686186;file:///cvmfs/soft.computecanada.ca/easybuild/software/2020/avx2/Core/python/3.8.10/lib/python3.8/warnings.py\u001b\\\u001b[2mwarnings.py\u001b[0m\u001b]8;;\u001b\\\u001b[2m:\u001b[0m\u001b]8;id=533345;file:///cvmfs/soft.computecanada.ca/easybuild/software/2020/avx2/Core/python/3.8.10/lib/python3.8/warnings.py#109\u001b\\\u001b[2m109\u001b[0m\u001b]8;;\u001b\\\n",
       "\u001b[2;36m                    \u001b[0m         \u001b[95m__.py\u001b[0m:\u001b[1;36m78\u001b[0m: KedroDeprecationWarning: \u001b[32m'CSVDataSet'\u001b[0m has been renamed to    \u001b[2m               \u001b[0m\n",
       "\u001b[2;36m                    \u001b[0m         \u001b[32m'CSVDataset'\u001b[0m, and the alias will be removed in Kedro-Datasets \u001b[1;36m2.0\u001b[0m.\u001b[1;36m0\u001b[0m    \u001b[2m               \u001b[0m\n",
       "\u001b[2;36m                    \u001b[0m           attr = \u001b[1;35mgetattr\u001b[0m\u001b[1m(\u001b[0msubmod, name\u001b[1m)\u001b[0m                                         \u001b[2m               \u001b[0m\n",
       "\u001b[2;36m                    \u001b[0m                                                                                \u001b[2m               \u001b[0m\n"
      ]
     },
     "metadata": {},
     "output_type": "display_data"
    },
    {
     "data": {
      "text/html": [
       "<pre style=\"white-space:pre;overflow-x:auto;line-height:normal;font-family:Menlo,'DejaVu Sans Mono',consolas,'Courier New',monospace\"><span style=\"color: #7fbfbf; text-decoration-color: #7fbfbf\">                    </span><span style=\"color: #800000; text-decoration-color: #800000\">WARNING </span> <span style=\"color: #800080; text-decoration-color: #800080\">/home/rahit/jupyter_py3/lib/python3.8/site-packages/lazy_loader/</span><span style=\"color: #ff00ff; text-decoration-color: #ff00ff\">__init</span> <a href=\"file:///cvmfs/soft.computecanada.ca/easybuild/software/2020/avx2/Core/python/3.8.10/lib/python3.8/warnings.py\" target=\"_blank\"><span style=\"color: #7f7f7f; text-decoration-color: #7f7f7f\">warnings.py</span></a><span style=\"color: #7f7f7f; text-decoration-color: #7f7f7f\">:</span><a href=\"file:///cvmfs/soft.computecanada.ca/easybuild/software/2020/avx2/Core/python/3.8.10/lib/python3.8/warnings.py#109\" target=\"_blank\"><span style=\"color: #7f7f7f; text-decoration-color: #7f7f7f\">109</span></a>\n",
       "<span style=\"color: #7fbfbf; text-decoration-color: #7fbfbf\">                    </span>         <span style=\"color: #ff00ff; text-decoration-color: #ff00ff\">__.py</span>:<span style=\"color: #008080; text-decoration-color: #008080; font-weight: bold\">78</span>: KedroDeprecationWarning: <span style=\"color: #008000; text-decoration-color: #008000\">'ExcelDataSet'</span> has been renamed to  <span style=\"color: #7f7f7f; text-decoration-color: #7f7f7f\">               </span>\n",
       "<span style=\"color: #7fbfbf; text-decoration-color: #7fbfbf\">                    </span>         <span style=\"color: #008000; text-decoration-color: #008000\">'ExcelDataset'</span>, and the alias will be removed in Kedro-Datasets <span style=\"color: #008080; text-decoration-color: #008080; font-weight: bold\">2.0</span>.<span style=\"color: #008080; text-decoration-color: #008080; font-weight: bold\">0</span>  <span style=\"color: #7f7f7f; text-decoration-color: #7f7f7f\">               </span>\n",
       "<span style=\"color: #7fbfbf; text-decoration-color: #7fbfbf\">                    </span>           attr = <span style=\"color: #800080; text-decoration-color: #800080; font-weight: bold\">getattr</span><span style=\"font-weight: bold\">(</span>submod, name<span style=\"font-weight: bold\">)</span>                                         <span style=\"color: #7f7f7f; text-decoration-color: #7f7f7f\">               </span>\n",
       "<span style=\"color: #7fbfbf; text-decoration-color: #7fbfbf\">                    </span>                                                                                <span style=\"color: #7f7f7f; text-decoration-color: #7f7f7f\">               </span>\n",
       "</pre>\n"
      ],
      "text/plain": [
       "\u001b[2;36m                   \u001b[0m\u001b[2;36m \u001b[0m\u001b[31mWARNING \u001b[0m \u001b[35m/home/rahit/jupyter_py3/lib/python3.8/site-packages/lazy_loader/\u001b[0m\u001b[95m__init\u001b[0m \u001b]8;id=155670;file:///cvmfs/soft.computecanada.ca/easybuild/software/2020/avx2/Core/python/3.8.10/lib/python3.8/warnings.py\u001b\\\u001b[2mwarnings.py\u001b[0m\u001b]8;;\u001b\\\u001b[2m:\u001b[0m\u001b]8;id=669484;file:///cvmfs/soft.computecanada.ca/easybuild/software/2020/avx2/Core/python/3.8.10/lib/python3.8/warnings.py#109\u001b\\\u001b[2m109\u001b[0m\u001b]8;;\u001b\\\n",
       "\u001b[2;36m                    \u001b[0m         \u001b[95m__.py\u001b[0m:\u001b[1;36m78\u001b[0m: KedroDeprecationWarning: \u001b[32m'ExcelDataSet'\u001b[0m has been renamed to  \u001b[2m               \u001b[0m\n",
       "\u001b[2;36m                    \u001b[0m         \u001b[32m'ExcelDataset'\u001b[0m, and the alias will be removed in Kedro-Datasets \u001b[1;36m2.0\u001b[0m.\u001b[1;36m0\u001b[0m  \u001b[2m               \u001b[0m\n",
       "\u001b[2;36m                    \u001b[0m           attr = \u001b[1;35mgetattr\u001b[0m\u001b[1m(\u001b[0msubmod, name\u001b[1m)\u001b[0m                                         \u001b[2m               \u001b[0m\n",
       "\u001b[2;36m                    \u001b[0m                                                                                \u001b[2m               \u001b[0m\n"
      ]
     },
     "metadata": {},
     "output_type": "display_data"
    },
    {
     "data": {
      "text/html": [
       "<pre style=\"white-space:pre;overflow-x:auto;line-height:normal;font-family:Menlo,'DejaVu Sans Mono',consolas,'Courier New',monospace\"><span style=\"color: #7fbfbf; text-decoration-color: #7fbfbf\">                    </span><span style=\"color: #800000; text-decoration-color: #800000\">WARNING </span> <span style=\"color: #800080; text-decoration-color: #800080\">/home/rahit/jupyter_py3/lib/python3.8/site-packages/lazy_loader/</span><span style=\"color: #ff00ff; text-decoration-color: #ff00ff\">__init</span> <a href=\"file:///cvmfs/soft.computecanada.ca/easybuild/software/2020/avx2/Core/python/3.8.10/lib/python3.8/warnings.py\" target=\"_blank\"><span style=\"color: #7f7f7f; text-decoration-color: #7f7f7f\">warnings.py</span></a><span style=\"color: #7f7f7f; text-decoration-color: #7f7f7f\">:</span><a href=\"file:///cvmfs/soft.computecanada.ca/easybuild/software/2020/avx2/Core/python/3.8.10/lib/python3.8/warnings.py#109\" target=\"_blank\"><span style=\"color: #7f7f7f; text-decoration-color: #7f7f7f\">109</span></a>\n",
       "<span style=\"color: #7fbfbf; text-decoration-color: #7fbfbf\">                    </span>         <span style=\"color: #ff00ff; text-decoration-color: #ff00ff\">__.py</span>:<span style=\"color: #008080; text-decoration-color: #008080; font-weight: bold\">78</span>: KedroDeprecationWarning: <span style=\"color: #008000; text-decoration-color: #008000\">'ParquetDataSet'</span> has been renamed   <span style=\"color: #7f7f7f; text-decoration-color: #7f7f7f\">               </span>\n",
       "<span style=\"color: #7fbfbf; text-decoration-color: #7fbfbf\">                    </span>         to <span style=\"color: #008000; text-decoration-color: #008000\">'ParquetDataset'</span>, and the alias will be removed in Kedro-Datasets   <span style=\"color: #7f7f7f; text-decoration-color: #7f7f7f\">               </span>\n",
       "<span style=\"color: #7fbfbf; text-decoration-color: #7fbfbf\">                    </span>         <span style=\"color: #008080; text-decoration-color: #008080; font-weight: bold\">2.0</span>.<span style=\"color: #008080; text-decoration-color: #008080; font-weight: bold\">0</span>                                                                  <span style=\"color: #7f7f7f; text-decoration-color: #7f7f7f\">               </span>\n",
       "<span style=\"color: #7fbfbf; text-decoration-color: #7fbfbf\">                    </span>           attr = <span style=\"color: #800080; text-decoration-color: #800080; font-weight: bold\">getattr</span><span style=\"font-weight: bold\">(</span>submod, name<span style=\"font-weight: bold\">)</span>                                         <span style=\"color: #7f7f7f; text-decoration-color: #7f7f7f\">               </span>\n",
       "<span style=\"color: #7fbfbf; text-decoration-color: #7fbfbf\">                    </span>                                                                                <span style=\"color: #7f7f7f; text-decoration-color: #7f7f7f\">               </span>\n",
       "</pre>\n"
      ],
      "text/plain": [
       "\u001b[2;36m                   \u001b[0m\u001b[2;36m \u001b[0m\u001b[31mWARNING \u001b[0m \u001b[35m/home/rahit/jupyter_py3/lib/python3.8/site-packages/lazy_loader/\u001b[0m\u001b[95m__init\u001b[0m \u001b]8;id=678614;file:///cvmfs/soft.computecanada.ca/easybuild/software/2020/avx2/Core/python/3.8.10/lib/python3.8/warnings.py\u001b\\\u001b[2mwarnings.py\u001b[0m\u001b]8;;\u001b\\\u001b[2m:\u001b[0m\u001b]8;id=48218;file:///cvmfs/soft.computecanada.ca/easybuild/software/2020/avx2/Core/python/3.8.10/lib/python3.8/warnings.py#109\u001b\\\u001b[2m109\u001b[0m\u001b]8;;\u001b\\\n",
       "\u001b[2;36m                    \u001b[0m         \u001b[95m__.py\u001b[0m:\u001b[1;36m78\u001b[0m: KedroDeprecationWarning: \u001b[32m'ParquetDataSet'\u001b[0m has been renamed   \u001b[2m               \u001b[0m\n",
       "\u001b[2;36m                    \u001b[0m         to \u001b[32m'ParquetDataset'\u001b[0m, and the alias will be removed in Kedro-Datasets   \u001b[2m               \u001b[0m\n",
       "\u001b[2;36m                    \u001b[0m         \u001b[1;36m2.0\u001b[0m.\u001b[1;36m0\u001b[0m                                                                  \u001b[2m               \u001b[0m\n",
       "\u001b[2;36m                    \u001b[0m           attr = \u001b[1;35mgetattr\u001b[0m\u001b[1m(\u001b[0msubmod, name\u001b[1m)\u001b[0m                                         \u001b[2m               \u001b[0m\n",
       "\u001b[2;36m                    \u001b[0m                                                                                \u001b[2m               \u001b[0m\n"
      ]
     },
     "metadata": {},
     "output_type": "display_data"
    },
    {
     "data": {
      "text/html": [
       "<pre style=\"white-space:pre;overflow-x:auto;line-height:normal;font-family:Menlo,'DejaVu Sans Mono',consolas,'Courier New',monospace\"><span style=\"color: #7fbfbf; text-decoration-color: #7fbfbf\">                    </span><span style=\"color: #000080; text-decoration-color: #000080\">INFO    </span> Kedro project ModSpy-Data                                              <a href=\"file:///home/rahit/jupyter_py3/lib/python3.8/site-packages/kedro/ipython/__init__.py\" target=\"_blank\"><span style=\"color: #7f7f7f; text-decoration-color: #7f7f7f\">__init__.py</span></a><span style=\"color: #7f7f7f; text-decoration-color: #7f7f7f\">:</span><a href=\"file:///home/rahit/jupyter_py3/lib/python3.8/site-packages/kedro/ipython/__init__.py#108\" target=\"_blank\"><span style=\"color: #7f7f7f; text-decoration-color: #7f7f7f\">108</span></a>\n",
       "</pre>\n"
      ],
      "text/plain": [
       "\u001b[2;36m                   \u001b[0m\u001b[2;36m \u001b[0m\u001b[34mINFO    \u001b[0m Kedro project ModSpy-Data                                              \u001b]8;id=40444;file:///home/rahit/jupyter_py3/lib/python3.8/site-packages/kedro/ipython/__init__.py\u001b\\\u001b[2m__init__.py\u001b[0m\u001b]8;;\u001b\\\u001b[2m:\u001b[0m\u001b]8;id=740631;file:///home/rahit/jupyter_py3/lib/python3.8/site-packages/kedro/ipython/__init__.py#108\u001b\\\u001b[2m108\u001b[0m\u001b]8;;\u001b\\\n"
      ]
     },
     "metadata": {},
     "output_type": "display_data"
    },
    {
     "data": {
      "text/html": [
       "<pre style=\"white-space:pre;overflow-x:auto;line-height:normal;font-family:Menlo,'DejaVu Sans Mono',consolas,'Courier New',monospace\"><span style=\"color: #7fbfbf; text-decoration-color: #7fbfbf\">                    </span><span style=\"color: #000080; text-decoration-color: #000080\">INFO    </span> Kedro project ModSpy-Data                                              <a href=\"file:///home/rahit/jupyter_py3/lib/python3.8/site-packages/kedro/ipython/__init__.py\" target=\"_blank\"><span style=\"color: #7f7f7f; text-decoration-color: #7f7f7f\">__init__.py</span></a><span style=\"color: #7f7f7f; text-decoration-color: #7f7f7f\">:</span><a href=\"file:///home/rahit/jupyter_py3/lib/python3.8/site-packages/kedro/ipython/__init__.py#108\" target=\"_blank\"><span style=\"color: #7f7f7f; text-decoration-color: #7f7f7f\">108</span></a>\n",
       "</pre>\n"
      ],
      "text/plain": [
       "\u001b[2;36m                   \u001b[0m\u001b[2;36m \u001b[0m\u001b[34mINFO    \u001b[0m Kedro project ModSpy-Data                                              \u001b]8;id=77390;file:///home/rahit/jupyter_py3/lib/python3.8/site-packages/kedro/ipython/__init__.py\u001b\\\u001b[2m__init__.py\u001b[0m\u001b]8;;\u001b\\\u001b[2m:\u001b[0m\u001b]8;id=932591;file:///home/rahit/jupyter_py3/lib/python3.8/site-packages/kedro/ipython/__init__.py#108\u001b\\\u001b[2m108\u001b[0m\u001b]8;;\u001b\\\n"
      ]
     },
     "metadata": {},
     "output_type": "display_data"
    },
    {
     "data": {
      "text/html": [
       "<pre style=\"white-space:pre;overflow-x:auto;line-height:normal;font-family:Menlo,'DejaVu Sans Mono',consolas,'Courier New',monospace\"><span style=\"color: #7fbfbf; text-decoration-color: #7fbfbf\">                    </span><span style=\"color: #000080; text-decoration-color: #000080\">INFO    </span> Defined global variable <span style=\"color: #008000; text-decoration-color: #008000\">'context'</span>, <span style=\"color: #008000; text-decoration-color: #008000\">'session'</span>, <span style=\"color: #008000; text-decoration-color: #008000\">'catalog'</span> and            <a href=\"file:///home/rahit/jupyter_py3/lib/python3.8/site-packages/kedro/ipython/__init__.py\" target=\"_blank\"><span style=\"color: #7f7f7f; text-decoration-color: #7f7f7f\">__init__.py</span></a><span style=\"color: #7f7f7f; text-decoration-color: #7f7f7f\">:</span><a href=\"file:///home/rahit/jupyter_py3/lib/python3.8/site-packages/kedro/ipython/__init__.py#109\" target=\"_blank\"><span style=\"color: #7f7f7f; text-decoration-color: #7f7f7f\">109</span></a>\n",
       "<span style=\"color: #7fbfbf; text-decoration-color: #7fbfbf\">                    </span>         <span style=\"color: #008000; text-decoration-color: #008000\">'pipelines'</span>                                                            <span style=\"color: #7f7f7f; text-decoration-color: #7f7f7f\">               </span>\n",
       "</pre>\n"
      ],
      "text/plain": [
       "\u001b[2;36m                   \u001b[0m\u001b[2;36m \u001b[0m\u001b[34mINFO    \u001b[0m Defined global variable \u001b[32m'context'\u001b[0m, \u001b[32m'session'\u001b[0m, \u001b[32m'catalog'\u001b[0m and            \u001b]8;id=523350;file:///home/rahit/jupyter_py3/lib/python3.8/site-packages/kedro/ipython/__init__.py\u001b\\\u001b[2m__init__.py\u001b[0m\u001b]8;;\u001b\\\u001b[2m:\u001b[0m\u001b]8;id=660179;file:///home/rahit/jupyter_py3/lib/python3.8/site-packages/kedro/ipython/__init__.py#109\u001b\\\u001b[2m109\u001b[0m\u001b]8;;\u001b\\\n",
       "\u001b[2;36m                    \u001b[0m         \u001b[32m'pipelines'\u001b[0m                                                            \u001b[2m               \u001b[0m\n"
      ]
     },
     "metadata": {},
     "output_type": "display_data"
    },
    {
     "data": {
      "text/html": [
       "<pre style=\"white-space:pre;overflow-x:auto;line-height:normal;font-family:Menlo,'DejaVu Sans Mono',consolas,'Courier New',monospace\"><span style=\"color: #7fbfbf; text-decoration-color: #7fbfbf\">                    </span><span style=\"color: #000080; text-decoration-color: #000080\">INFO    </span> Defined global variable <span style=\"color: #008000; text-decoration-color: #008000\">'context'</span>, <span style=\"color: #008000; text-decoration-color: #008000\">'session'</span>, <span style=\"color: #008000; text-decoration-color: #008000\">'catalog'</span> and            <a href=\"file:///home/rahit/jupyter_py3/lib/python3.8/site-packages/kedro/ipython/__init__.py\" target=\"_blank\"><span style=\"color: #7f7f7f; text-decoration-color: #7f7f7f\">__init__.py</span></a><span style=\"color: #7f7f7f; text-decoration-color: #7f7f7f\">:</span><a href=\"file:///home/rahit/jupyter_py3/lib/python3.8/site-packages/kedro/ipython/__init__.py#109\" target=\"_blank\"><span style=\"color: #7f7f7f; text-decoration-color: #7f7f7f\">109</span></a>\n",
       "<span style=\"color: #7fbfbf; text-decoration-color: #7fbfbf\">                    </span>         <span style=\"color: #008000; text-decoration-color: #008000\">'pipelines'</span>                                                            <span style=\"color: #7f7f7f; text-decoration-color: #7f7f7f\">               </span>\n",
       "</pre>\n"
      ],
      "text/plain": [
       "\u001b[2;36m                   \u001b[0m\u001b[2;36m \u001b[0m\u001b[34mINFO    \u001b[0m Defined global variable \u001b[32m'context'\u001b[0m, \u001b[32m'session'\u001b[0m, \u001b[32m'catalog'\u001b[0m and            \u001b]8;id=781247;file:///home/rahit/jupyter_py3/lib/python3.8/site-packages/kedro/ipython/__init__.py\u001b\\\u001b[2m__init__.py\u001b[0m\u001b]8;;\u001b\\\u001b[2m:\u001b[0m\u001b]8;id=921598;file:///home/rahit/jupyter_py3/lib/python3.8/site-packages/kedro/ipython/__init__.py#109\u001b\\\u001b[2m109\u001b[0m\u001b]8;;\u001b\\\n",
       "\u001b[2;36m                    \u001b[0m         \u001b[32m'pipelines'\u001b[0m                                                            \u001b[2m               \u001b[0m\n"
      ]
     },
     "metadata": {},
     "output_type": "display_data"
    }
   ],
   "source": [
    "%reload_kedro"
   ]
  },
  {
   "cell_type": "code",
   "execution_count": 2,
   "id": "fa301208-3e92-4d72-9ee4-ed979dbbd3f7",
   "metadata": {
    "tags": []
   },
   "outputs": [],
   "source": [
    "from loguru import logger\n",
    "import string\n",
    "from rich import print\n",
    "\n",
    "# Data manipulation\n",
    "import pandas as pd\n",
    "import numpy as np\n",
    "from modspy_data.helpers import KnowledgeGraphScores\n",
    "\n",
    "# Distributed\n",
    "import dask.dataframe as dd\n",
    "from dask.distributed import Client, progress, performance_report\n",
    "from dask_jobqueue import SLURMCluster\n",
    "from dask import delayed\n",
    "import dask"
   ]
  },
  {
   "cell_type": "markdown",
   "id": "9a0cf0ab",
   "metadata": {},
   "source": [
    "#### SLURM cluster setup"
   ]
  },
  {
   "cell_type": "code",
   "execution_count": 3,
   "id": "21aee8ff",
   "metadata": {},
   "outputs": [
    {
     "data": {
      "text/html": [
       "<pre style=\"white-space:pre;overflow-x:auto;line-height:normal;font-family:Menlo,'DejaVu Sans Mono',consolas,'Courier New',monospace\"><span style=\"color: #7fbfbf; text-decoration-color: #7fbfbf\">[06/11/24 11:41:28] </span><span style=\"color: #000080; text-decoration-color: #000080\">INFO    </span> State start                                                          <a href=\"file:///home/rahit/jupyter_py3/lib/python3.8/site-packages/distributed/scheduler.py\" target=\"_blank\"><span style=\"color: #7f7f7f; text-decoration-color: #7f7f7f\">scheduler.py</span></a><span style=\"color: #7f7f7f; text-decoration-color: #7f7f7f\">:</span><a href=\"file:///home/rahit/jupyter_py3/lib/python3.8/site-packages/distributed/scheduler.py#1624\" target=\"_blank\"><span style=\"color: #7f7f7f; text-decoration-color: #7f7f7f\">1624</span></a>\n",
       "</pre>\n"
      ],
      "text/plain": [
       "\u001b[2;36m[06/11/24 11:41:28]\u001b[0m\u001b[2;36m \u001b[0m\u001b[34mINFO    \u001b[0m State start                                                          \u001b]8;id=433875;file:///home/rahit/jupyter_py3/lib/python3.8/site-packages/distributed/scheduler.py\u001b\\\u001b[2mscheduler.py\u001b[0m\u001b]8;;\u001b\\\u001b[2m:\u001b[0m\u001b]8;id=76990;file:///home/rahit/jupyter_py3/lib/python3.8/site-packages/distributed/scheduler.py#1624\u001b\\\u001b[2m1624\u001b[0m\u001b]8;;\u001b\\\n"
      ]
     },
     "metadata": {},
     "output_type": "display_data"
    },
    {
     "data": {
      "text/html": [
       "<pre style=\"white-space:pre;overflow-x:auto;line-height:normal;font-family:Menlo,'DejaVu Sans Mono',consolas,'Courier New',monospace\"><span style=\"color: #7fbfbf; text-decoration-color: #7fbfbf\">                    </span><span style=\"color: #000080; text-decoration-color: #000080\">INFO    </span>   Scheduler at: tcp:<span style=\"color: #800080; text-decoration-color: #800080\">//</span><span style=\"color: #ff00ff; text-decoration-color: #ff00ff\">199.241.166.2</span>:<span style=\"color: #008080; text-decoration-color: #008080; font-weight: bold\">38167</span>                            <a href=\"file:///home/rahit/jupyter_py3/lib/python3.8/site-packages/distributed/scheduler.py\" target=\"_blank\"><span style=\"color: #7f7f7f; text-decoration-color: #7f7f7f\">scheduler.py</span></a><span style=\"color: #7f7f7f; text-decoration-color: #7f7f7f\">:</span><a href=\"file:///home/rahit/jupyter_py3/lib/python3.8/site-packages/distributed/scheduler.py#3871\" target=\"_blank\"><span style=\"color: #7f7f7f; text-decoration-color: #7f7f7f\">3871</span></a>\n",
       "</pre>\n"
      ],
      "text/plain": [
       "\u001b[2;36m                   \u001b[0m\u001b[2;36m \u001b[0m\u001b[34mINFO    \u001b[0m   Scheduler at: tcp:\u001b[35m/\u001b[0m\u001b[35m/\u001b[0m\u001b[95m199.241.166.2\u001b[0m:\u001b[1;36m38167\u001b[0m                            \u001b]8;id=451606;file:///home/rahit/jupyter_py3/lib/python3.8/site-packages/distributed/scheduler.py\u001b\\\u001b[2mscheduler.py\u001b[0m\u001b]8;;\u001b\\\u001b[2m:\u001b[0m\u001b]8;id=237321;file:///home/rahit/jupyter_py3/lib/python3.8/site-packages/distributed/scheduler.py#3871\u001b\\\u001b[2m3871\u001b[0m\u001b]8;;\u001b\\\n"
      ]
     },
     "metadata": {},
     "output_type": "display_data"
    },
    {
     "data": {
      "text/html": [
       "<pre style=\"white-space:pre;overflow-x:auto;line-height:normal;font-family:Menlo,'DejaVu Sans Mono',consolas,'Courier New',monospace\"><span style=\"color: #7fbfbf; text-decoration-color: #7fbfbf\">                    </span><span style=\"color: #000080; text-decoration-color: #000080\">INFO    </span>   dashboard at:  <span style=\"color: #0000ff; text-decoration-color: #0000ff; text-decoration: underline\">http://199.241.166.2:8787/status</span>                    <a href=\"file:///home/rahit/jupyter_py3/lib/python3.8/site-packages/distributed/scheduler.py\" target=\"_blank\"><span style=\"color: #7f7f7f; text-decoration-color: #7f7f7f\">scheduler.py</span></a><span style=\"color: #7f7f7f; text-decoration-color: #7f7f7f\">:</span><a href=\"file:///home/rahit/jupyter_py3/lib/python3.8/site-packages/distributed/scheduler.py#3886\" target=\"_blank\"><span style=\"color: #7f7f7f; text-decoration-color: #7f7f7f\">3886</span></a>\n",
       "</pre>\n"
      ],
      "text/plain": [
       "\u001b[2;36m                   \u001b[0m\u001b[2;36m \u001b[0m\u001b[34mINFO    \u001b[0m   dashboard at:  \u001b[4;94mhttp://199.241.166.2:8787/status\u001b[0m                    \u001b]8;id=316644;file:///home/rahit/jupyter_py3/lib/python3.8/site-packages/distributed/scheduler.py\u001b\\\u001b[2mscheduler.py\u001b[0m\u001b]8;;\u001b\\\u001b[2m:\u001b[0m\u001b]8;id=533964;file:///home/rahit/jupyter_py3/lib/python3.8/site-packages/distributed/scheduler.py#3886\u001b\\\u001b[2m3886\u001b[0m\u001b]8;;\u001b\\\n"
      ]
     },
     "metadata": {},
     "output_type": "display_data"
    },
    {
     "data": {
      "text/html": [
       "<pre style=\"white-space:pre;overflow-x:auto;line-height:normal;font-family:Menlo,'DejaVu Sans Mono',consolas,'Courier New',monospace\"><span style=\"color: #7fbfbf; text-decoration-color: #7fbfbf\">                    </span><span style=\"color: #000080; text-decoration-color: #000080\">INFO    </span> Receive client connection:                                           <a href=\"file:///home/rahit/jupyter_py3/lib/python3.8/site-packages/distributed/scheduler.py\" target=\"_blank\"><span style=\"color: #7f7f7f; text-decoration-color: #7f7f7f\">scheduler.py</span></a><span style=\"color: #7f7f7f; text-decoration-color: #7f7f7f\">:</span><a href=\"file:///home/rahit/jupyter_py3/lib/python3.8/site-packages/distributed/scheduler.py#5362\" target=\"_blank\"><span style=\"color: #7f7f7f; text-decoration-color: #7f7f7f\">5362</span></a>\n",
       "<span style=\"color: #7fbfbf; text-decoration-color: #7fbfbf\">                    </span>         Client-<span style=\"color: #ffff00; text-decoration-color: #ffff00\">11802cb8-2809-11ef-baf5-a4c64f3ec044</span>                          <span style=\"color: #7f7f7f; text-decoration-color: #7f7f7f\">                 </span>\n",
       "</pre>\n"
      ],
      "text/plain": [
       "\u001b[2;36m                   \u001b[0m\u001b[2;36m \u001b[0m\u001b[34mINFO    \u001b[0m Receive client connection:                                           \u001b]8;id=976063;file:///home/rahit/jupyter_py3/lib/python3.8/site-packages/distributed/scheduler.py\u001b\\\u001b[2mscheduler.py\u001b[0m\u001b]8;;\u001b\\\u001b[2m:\u001b[0m\u001b]8;id=968295;file:///home/rahit/jupyter_py3/lib/python3.8/site-packages/distributed/scheduler.py#5362\u001b\\\u001b[2m5362\u001b[0m\u001b]8;;\u001b\\\n",
       "\u001b[2;36m                    \u001b[0m         Client-\u001b[93m11802cb8-2809-11ef-baf5-a4c64f3ec044\u001b[0m                          \u001b[2m                 \u001b[0m\n"
      ]
     },
     "metadata": {},
     "output_type": "display_data"
    },
    {
     "data": {
      "text/html": [
       "<pre style=\"white-space:pre;overflow-x:auto;line-height:normal;font-family:Menlo,'DejaVu Sans Mono',consolas,'Courier New',monospace\"><span style=\"color: #7fbfbf; text-decoration-color: #7fbfbf\">                    </span><span style=\"color: #000080; text-decoration-color: #000080\">INFO    </span> Starting established connection to tcp:<span style=\"color: #800080; text-decoration-color: #800080\">//</span><span style=\"color: #ff00ff; text-decoration-color: #ff00ff\">199.241.166.2</span>:<span style=\"color: #008080; text-decoration-color: #008080; font-weight: bold\">37448</span>               <a href=\"file:///home/rahit/jupyter_py3/lib/python3.8/site-packages/distributed/core.py\" target=\"_blank\"><span style=\"color: #7f7f7f; text-decoration-color: #7f7f7f\">core.py</span></a><span style=\"color: #7f7f7f; text-decoration-color: #7f7f7f\">:</span><a href=\"file:///home/rahit/jupyter_py3/lib/python3.8/site-packages/distributed/core.py#969\" target=\"_blank\"><span style=\"color: #7f7f7f; text-decoration-color: #7f7f7f\">969</span></a>\n",
       "</pre>\n"
      ],
      "text/plain": [
       "\u001b[2;36m                   \u001b[0m\u001b[2;36m \u001b[0m\u001b[34mINFO    \u001b[0m Starting established connection to tcp:\u001b[35m/\u001b[0m\u001b[35m/\u001b[0m\u001b[95m199.241.166.2\u001b[0m:\u001b[1;36m37448\u001b[0m               \u001b]8;id=121760;file:///home/rahit/jupyter_py3/lib/python3.8/site-packages/distributed/core.py\u001b\\\u001b[2mcore.py\u001b[0m\u001b]8;;\u001b\\\u001b[2m:\u001b[0m\u001b]8;id=417613;file:///home/rahit/jupyter_py3/lib/python3.8/site-packages/distributed/core.py#969\u001b\\\u001b[2m969\u001b[0m\u001b]8;;\u001b\\\n"
      ]
     },
     "metadata": {},
     "output_type": "display_data"
    },
    {
     "data": {
      "application/vnd.jupyter.widget-view+json": {
       "model_id": "a798bac145084162abbf2d8d2a656934",
       "version_major": 2,
       "version_minor": 0
      },
      "text/plain": [
       "Tab(children=(HTML(value='<div class=\"jp-RenderedHTMLCommon jp-RenderedHTML jp-mod-trusted jp-OutputArea-outpu…"
      ]
     },
     "metadata": {},
     "output_type": "display_data"
    }
   ],
   "source": [
    "cluster = SLURMCluster(cores=1,\n",
    "                       processes=1,\n",
    "                       memory=\"8GB\",\n",
    "                       account=\"def-mtarailo_cpu\",\n",
    "                       walltime=\"00:10:00\",\n",
    "                       log_directory='./logs')\n",
    "client = Client(cluster)\n",
    "cluster"
   ]
  },
  {
   "cell_type": "code",
   "execution_count": 4,
   "id": "f26a989f",
   "metadata": {},
   "outputs": [],
   "source": [
    "cluster.scale(1)"
   ]
  },
  {
   "cell_type": "code",
   "execution_count": 6,
   "id": "30c79737",
   "metadata": {},
   "outputs": [
    {
     "name": "stdout",
     "output_type": "stream",
     "text": [
      "            JOBID     USER              ACCOUNT           NAME  ST  TIME_LEFT NODES CPUS TRES_PER_N MIN_MEM NODELIST (REASON) \n",
      "         21653141    rahit     def-mtarailo_cpu    dask-worker   R       9:52     1    1        N/A      8G gra316 (None) \n",
      "         21648366    rahit     def-mtarailo_cpu    interactive   R    7:18:01     1    1        N/A     12G gra149 (None) \n"
     ]
    }
   ],
   "source": [
    "!sq"
   ]
  },
  {
   "cell_type": "markdown",
   "id": "e082c7d1",
   "metadata": {},
   "source": [
    "## Loading STRINGDB data"
   ]
  },
  {
   "cell_type": "code",
   "execution_count": 7,
   "id": "4936735c-2331-43eb-9826-9c0b672e195e",
   "metadata": {
    "tags": []
   },
   "outputs": [
    {
     "data": {
      "text/html": [
       "<pre style=\"white-space:pre;overflow-x:auto;line-height:normal;font-family:Menlo,'DejaVu Sans Mono',consolas,'Courier New',monospace\"><span style=\"color: #7fbfbf; text-decoration-color: #7fbfbf\">[06/11/24 11:41:55] </span><span style=\"color: #000080; text-decoration-color: #000080\">INFO    </span> Loading data from <span style=\"color: #008000; text-decoration-color: #008000\">'string_interactions'</span> <span style=\"font-weight: bold\">(</span>DaskDataFrameDataSet<span style=\"font-weight: bold\">)</span><span style=\"color: #808000; text-decoration-color: #808000\">...</span>  <a href=\"file:///home/rahit/jupyter_py3/lib/python3.8/site-packages/kedro/io/data_catalog.py\" target=\"_blank\"><span style=\"color: #7f7f7f; text-decoration-color: #7f7f7f\">data_catalog.py</span></a><span style=\"color: #7f7f7f; text-decoration-color: #7f7f7f\">:</span><a href=\"file:///home/rahit/jupyter_py3/lib/python3.8/site-packages/kedro/io/data_catalog.py#492\" target=\"_blank\"><span style=\"color: #7f7f7f; text-decoration-color: #7f7f7f\">492</span></a>\n",
       "</pre>\n"
      ],
      "text/plain": [
       "\u001b[2;36m[06/11/24 11:41:55]\u001b[0m\u001b[2;36m \u001b[0m\u001b[34mINFO    \u001b[0m Loading data from \u001b[32m'string_interactions'\u001b[0m \u001b[1m(\u001b[0mDaskDataFrameDataSet\u001b[1m)\u001b[0m\u001b[33m...\u001b[0m  \u001b]8;id=952468;file:///home/rahit/jupyter_py3/lib/python3.8/site-packages/kedro/io/data_catalog.py\u001b\\\u001b[2mdata_catalog.py\u001b[0m\u001b]8;;\u001b\\\u001b[2m:\u001b[0m\u001b]8;id=476371;file:///home/rahit/jupyter_py3/lib/python3.8/site-packages/kedro/io/data_catalog.py#492\u001b\\\u001b[2m492\u001b[0m\u001b]8;;\u001b\\\n"
      ]
     },
     "metadata": {},
     "output_type": "display_data"
    },
    {
     "data": {
      "text/html": [
       "<pre style=\"white-space:pre;overflow-x:auto;line-height:normal;font-family:Menlo,'DejaVu Sans Mono',consolas,'Courier New',monospace\"><span style=\"color: #7fbfbf; text-decoration-color: #7fbfbf\">                    </span><span style=\"color: #000080; text-decoration-color: #000080\">INFO    </span> Loading data from <span style=\"color: #008000; text-decoration-color: #008000\">'string_interactions'</span> <span style=\"font-weight: bold\">(</span>DaskDataFrameDataSet<span style=\"font-weight: bold\">)</span><span style=\"color: #808000; text-decoration-color: #808000\">...</span>  <a href=\"file:///home/rahit/jupyter_py3/lib/python3.8/site-packages/kedro/io/data_catalog.py\" target=\"_blank\"><span style=\"color: #7f7f7f; text-decoration-color: #7f7f7f\">data_catalog.py</span></a><span style=\"color: #7f7f7f; text-decoration-color: #7f7f7f\">:</span><a href=\"file:///home/rahit/jupyter_py3/lib/python3.8/site-packages/kedro/io/data_catalog.py#492\" target=\"_blank\"><span style=\"color: #7f7f7f; text-decoration-color: #7f7f7f\">492</span></a>\n",
       "</pre>\n"
      ],
      "text/plain": [
       "\u001b[2;36m                   \u001b[0m\u001b[2;36m \u001b[0m\u001b[34mINFO    \u001b[0m Loading data from \u001b[32m'string_interactions'\u001b[0m \u001b[1m(\u001b[0mDaskDataFrameDataSet\u001b[1m)\u001b[0m\u001b[33m...\u001b[0m  \u001b]8;id=45004;file:///home/rahit/jupyter_py3/lib/python3.8/site-packages/kedro/io/data_catalog.py\u001b\\\u001b[2mdata_catalog.py\u001b[0m\u001b]8;;\u001b\\\u001b[2m:\u001b[0m\u001b]8;id=262234;file:///home/rahit/jupyter_py3/lib/python3.8/site-packages/kedro/io/data_catalog.py#492\u001b\\\u001b[2m492\u001b[0m\u001b]8;;\u001b\\\n"
      ]
     },
     "metadata": {},
     "output_type": "display_data"
    },
    {
     "data": {
      "text/html": [
       "<pre style=\"white-space:pre;overflow-x:auto;line-height:normal;font-family:Menlo,'DejaVu Sans Mono',consolas,'Courier New',monospace\"><span style=\"color: #7fbfbf; text-decoration-color: #7fbfbf\">                    </span><span style=\"color: #000080; text-decoration-color: #000080\">INFO    </span> Loading data from <span style=\"color: #008000; text-decoration-color: #008000\">'string_alias'</span> <span style=\"font-weight: bold\">(</span>DaskDataFrameDataSet<span style=\"font-weight: bold\">)</span><span style=\"color: #808000; text-decoration-color: #808000\">...</span>         <a href=\"file:///home/rahit/jupyter_py3/lib/python3.8/site-packages/kedro/io/data_catalog.py\" target=\"_blank\"><span style=\"color: #7f7f7f; text-decoration-color: #7f7f7f\">data_catalog.py</span></a><span style=\"color: #7f7f7f; text-decoration-color: #7f7f7f\">:</span><a href=\"file:///home/rahit/jupyter_py3/lib/python3.8/site-packages/kedro/io/data_catalog.py#492\" target=\"_blank\"><span style=\"color: #7f7f7f; text-decoration-color: #7f7f7f\">492</span></a>\n",
       "</pre>\n"
      ],
      "text/plain": [
       "\u001b[2;36m                   \u001b[0m\u001b[2;36m \u001b[0m\u001b[34mINFO    \u001b[0m Loading data from \u001b[32m'string_alias'\u001b[0m \u001b[1m(\u001b[0mDaskDataFrameDataSet\u001b[1m)\u001b[0m\u001b[33m...\u001b[0m         \u001b]8;id=81113;file:///home/rahit/jupyter_py3/lib/python3.8/site-packages/kedro/io/data_catalog.py\u001b\\\u001b[2mdata_catalog.py\u001b[0m\u001b]8;;\u001b\\\u001b[2m:\u001b[0m\u001b]8;id=748891;file:///home/rahit/jupyter_py3/lib/python3.8/site-packages/kedro/io/data_catalog.py#492\u001b\\\u001b[2m492\u001b[0m\u001b]8;;\u001b\\\n"
      ]
     },
     "metadata": {},
     "output_type": "display_data"
    },
    {
     "data": {
      "text/html": [
       "<pre style=\"white-space:pre;overflow-x:auto;line-height:normal;font-family:Menlo,'DejaVu Sans Mono',consolas,'Courier New',monospace\"><span style=\"color: #7fbfbf; text-decoration-color: #7fbfbf\">                    </span><span style=\"color: #000080; text-decoration-color: #000080\">INFO    </span> Loading data from <span style=\"color: #008000; text-decoration-color: #008000\">'string_alias'</span> <span style=\"font-weight: bold\">(</span>DaskDataFrameDataSet<span style=\"font-weight: bold\">)</span><span style=\"color: #808000; text-decoration-color: #808000\">...</span>         <a href=\"file:///home/rahit/jupyter_py3/lib/python3.8/site-packages/kedro/io/data_catalog.py\" target=\"_blank\"><span style=\"color: #7f7f7f; text-decoration-color: #7f7f7f\">data_catalog.py</span></a><span style=\"color: #7f7f7f; text-decoration-color: #7f7f7f\">:</span><a href=\"file:///home/rahit/jupyter_py3/lib/python3.8/site-packages/kedro/io/data_catalog.py#492\" target=\"_blank\"><span style=\"color: #7f7f7f; text-decoration-color: #7f7f7f\">492</span></a>\n",
       "</pre>\n"
      ],
      "text/plain": [
       "\u001b[2;36m                   \u001b[0m\u001b[2;36m \u001b[0m\u001b[34mINFO    \u001b[0m Loading data from \u001b[32m'string_alias'\u001b[0m \u001b[1m(\u001b[0mDaskDataFrameDataSet\u001b[1m)\u001b[0m\u001b[33m...\u001b[0m         \u001b]8;id=197353;file:///home/rahit/jupyter_py3/lib/python3.8/site-packages/kedro/io/data_catalog.py\u001b\\\u001b[2mdata_catalog.py\u001b[0m\u001b]8;;\u001b\\\u001b[2m:\u001b[0m\u001b]8;id=109406;file:///home/rahit/jupyter_py3/lib/python3.8/site-packages/kedro/io/data_catalog.py#492\u001b\\\u001b[2m492\u001b[0m\u001b]8;;\u001b\\\n"
      ]
     },
     "metadata": {},
     "output_type": "display_data"
    },
    {
     "data": {
      "text/html": [
       "<pre style=\"white-space:pre;overflow-x:auto;line-height:normal;font-family:Menlo,'DejaVu Sans Mono',consolas,'Courier New',monospace\"><span style=\"color: #7fbfbf; text-decoration-color: #7fbfbf\">                    </span><span style=\"color: #800000; text-decoration-color: #800000\">WARNING </span> <span style=\"color: #800080; text-decoration-color: #800080\">/home/rahit/jupyter_py3/lib/python3.8/site-packages/dask/dataframe/io/</span> <a href=\"file:///cvmfs/soft.computecanada.ca/easybuild/software/2020/avx2/Core/python/3.8.10/lib/python3.8/warnings.py\" target=\"_blank\"><span style=\"color: #7f7f7f; text-decoration-color: #7f7f7f\">warnings.py</span></a><span style=\"color: #7f7f7f; text-decoration-color: #7f7f7f\">:</span><a href=\"file:///cvmfs/soft.computecanada.ca/easybuild/software/2020/avx2/Core/python/3.8.10/lib/python3.8/warnings.py#109\" target=\"_blank\"><span style=\"color: #7f7f7f; text-decoration-color: #7f7f7f\">109</span></a>\n",
       "<span style=\"color: #7fbfbf; text-decoration-color: #7fbfbf\">                    </span>         <span style=\"color: #ff00ff; text-decoration-color: #ff00ff\">csv.py</span>:<span style=\"color: #008080; text-decoration-color: #008080; font-weight: bold\">542</span>: UserWarning: Warning gzip compression does not support     <span style=\"color: #7f7f7f; text-decoration-color: #7f7f7f\">               </span>\n",
       "<span style=\"color: #7fbfbf; text-decoration-color: #7fbfbf\">                    </span>         breaking apart files                                                   <span style=\"color: #7f7f7f; text-decoration-color: #7f7f7f\">               </span>\n",
       "<span style=\"color: #7fbfbf; text-decoration-color: #7fbfbf\">                    </span>         Please ensure that each individual file can fit in memory and          <span style=\"color: #7f7f7f; text-decoration-color: #7f7f7f\">               </span>\n",
       "<span style=\"color: #7fbfbf; text-decoration-color: #7fbfbf\">                    </span>         use the keyword ``<span style=\"color: #808000; text-decoration-color: #808000\">blocksize</span>=<span style=\"color: #800080; text-decoration-color: #800080; font-style: italic\">None</span> to remove this message``              <span style=\"color: #7f7f7f; text-decoration-color: #7f7f7f\">               </span>\n",
       "<span style=\"color: #7fbfbf; text-decoration-color: #7fbfbf\">                    </span>         Setting ``<span style=\"color: #808000; text-decoration-color: #808000\">blocksize</span>=<span style=\"color: #800080; text-decoration-color: #800080; font-style: italic\">None</span>``                                             <span style=\"color: #7f7f7f; text-decoration-color: #7f7f7f\">               </span>\n",
       "<span style=\"color: #7fbfbf; text-decoration-color: #7fbfbf\">                    </span>           <span style=\"color: #800080; text-decoration-color: #800080; font-weight: bold\">warn</span><span style=\"font-weight: bold\">(</span>                                                                <span style=\"color: #7f7f7f; text-decoration-color: #7f7f7f\">               </span>\n",
       "<span style=\"color: #7fbfbf; text-decoration-color: #7fbfbf\">                    </span>                                                                                <span style=\"color: #7f7f7f; text-decoration-color: #7f7f7f\">               </span>\n",
       "</pre>\n"
      ],
      "text/plain": [
       "\u001b[2;36m                   \u001b[0m\u001b[2;36m \u001b[0m\u001b[31mWARNING \u001b[0m \u001b[35m/home/rahit/jupyter_py3/lib/python3.8/site-packages/dask/dataframe/io/\u001b[0m \u001b]8;id=281323;file:///cvmfs/soft.computecanada.ca/easybuild/software/2020/avx2/Core/python/3.8.10/lib/python3.8/warnings.py\u001b\\\u001b[2mwarnings.py\u001b[0m\u001b]8;;\u001b\\\u001b[2m:\u001b[0m\u001b]8;id=454199;file:///cvmfs/soft.computecanada.ca/easybuild/software/2020/avx2/Core/python/3.8.10/lib/python3.8/warnings.py#109\u001b\\\u001b[2m109\u001b[0m\u001b]8;;\u001b\\\n",
       "\u001b[2;36m                    \u001b[0m         \u001b[95mcsv.py\u001b[0m:\u001b[1;36m542\u001b[0m: UserWarning: Warning gzip compression does not support     \u001b[2m               \u001b[0m\n",
       "\u001b[2;36m                    \u001b[0m         breaking apart files                                                   \u001b[2m               \u001b[0m\n",
       "\u001b[2;36m                    \u001b[0m         Please ensure that each individual file can fit in memory and          \u001b[2m               \u001b[0m\n",
       "\u001b[2;36m                    \u001b[0m         use the keyword ``\u001b[33mblocksize\u001b[0m=\u001b[3;35mNone\u001b[0m to remove this message``              \u001b[2m               \u001b[0m\n",
       "\u001b[2;36m                    \u001b[0m         Setting ``\u001b[33mblocksize\u001b[0m=\u001b[3;35mNone\u001b[0m``                                             \u001b[2m               \u001b[0m\n",
       "\u001b[2;36m                    \u001b[0m           \u001b[1;35mwarn\u001b[0m\u001b[1m(\u001b[0m                                                                \u001b[2m               \u001b[0m\n",
       "\u001b[2;36m                    \u001b[0m                                                                                \u001b[2m               \u001b[0m\n"
      ]
     },
     "metadata": {},
     "output_type": "display_data"
    }
   ],
   "source": [
    "# Loading Interaction\n",
    "ppi = catalog.load('string_interactions')\n",
    "# Loading gene-protein map/alias file. Because ppi is indicated using stringdb ID.\n",
    "ppi_alias = catalog.load('string_alias')"
   ]
  },
  {
   "cell_type": "code",
   "execution_count": 8,
   "id": "edd8bc0c-263d-49de-a0b3-9542e53d5903",
   "metadata": {
    "tags": []
   },
   "outputs": [
    {
     "data": {
      "text/plain": [
       "Index(['protein1', 'protein2', 'neighborhood', 'neighborhood_transferred',\n",
       "       'fusion', 'cooccurence', 'homology', 'coexpression',\n",
       "       'coexpression_transferred', 'experiments', 'experiments_transferred',\n",
       "       'database', 'database_transferred', 'textmining',\n",
       "       'textmining_transferred', 'combined_score'],\n",
       "      dtype='object')"
      ]
     },
     "execution_count": 8,
     "metadata": {},
     "output_type": "execute_result"
    }
   ],
   "source": [
    "ppi.columns"
   ]
  },
  {
   "cell_type": "markdown",
   "id": "c1ed16b6-06f4-49d1-9101-fc1730bc65d6",
   "metadata": {},
   "source": [
    "## Loading Scored Dataset"
   ]
  },
  {
   "cell_type": "markdown",
   "id": "f7af16dc",
   "metadata": {},
   "source": [
    "Scores are collected by running the Kedro pipeline. The pipeline is run in the following way:\n",
    "\n",
    "```bash\n",
    "kedro run --runner=\"modspy_data.runner.SLURMRunner\"\n",
    "```\n",
    "\n",
    "Only GO and POs are used for the analysis. zyg-1 does not have any DO score hence dropped."
   ]
  },
  {
   "cell_type": "code",
   "execution_count": 9,
   "id": "d1c0bcb2-acec-4fdb-b5e5-c2305b068826",
   "metadata": {
    "tags": []
   },
   "outputs": [
    {
     "data": {
      "text/html": [
       "<pre style=\"white-space:pre;overflow-x:auto;line-height:normal;font-family:Menlo,'DejaVu Sans Mono',consolas,'Courier New',monospace\"><span style=\"color: #7fbfbf; text-decoration-color: #7fbfbf\">[06/11/24 11:41:57] </span><span style=\"color: #000080; text-decoration-color: #000080\">INFO    </span> Loading data from <span style=\"color: #008000; text-decoration-color: #008000\">'jvl_scored@pandas'</span> <span style=\"font-weight: bold\">(</span>CSVDataset<span style=\"font-weight: bold\">)</span><span style=\"color: #808000; text-decoration-color: #808000\">...</span>              <a href=\"file:///home/rahit/jupyter_py3/lib/python3.8/site-packages/kedro/io/data_catalog.py\" target=\"_blank\"><span style=\"color: #7f7f7f; text-decoration-color: #7f7f7f\">data_catalog.py</span></a><span style=\"color: #7f7f7f; text-decoration-color: #7f7f7f\">:</span><a href=\"file:///home/rahit/jupyter_py3/lib/python3.8/site-packages/kedro/io/data_catalog.py#492\" target=\"_blank\"><span style=\"color: #7f7f7f; text-decoration-color: #7f7f7f\">492</span></a>\n",
       "</pre>\n"
      ],
      "text/plain": [
       "\u001b[2;36m[06/11/24 11:41:57]\u001b[0m\u001b[2;36m \u001b[0m\u001b[34mINFO    \u001b[0m Loading data from \u001b[32m'jvl_scored@pandas'\u001b[0m \u001b[1m(\u001b[0mCSVDataset\u001b[1m)\u001b[0m\u001b[33m...\u001b[0m              \u001b]8;id=576275;file:///home/rahit/jupyter_py3/lib/python3.8/site-packages/kedro/io/data_catalog.py\u001b\\\u001b[2mdata_catalog.py\u001b[0m\u001b]8;;\u001b\\\u001b[2m:\u001b[0m\u001b]8;id=755351;file:///home/rahit/jupyter_py3/lib/python3.8/site-packages/kedro/io/data_catalog.py#492\u001b\\\u001b[2m492\u001b[0m\u001b]8;;\u001b\\\n"
      ]
     },
     "metadata": {},
     "output_type": "display_data"
    },
    {
     "data": {
      "text/html": [
       "<pre style=\"white-space:pre;overflow-x:auto;line-height:normal;font-family:Menlo,'DejaVu Sans Mono',consolas,'Courier New',monospace\"><span style=\"color: #7fbfbf; text-decoration-color: #7fbfbf\">                    </span><span style=\"color: #000080; text-decoration-color: #000080\">INFO    </span> Loading data from <span style=\"color: #008000; text-decoration-color: #008000\">'jvl_scored@pandas'</span> <span style=\"font-weight: bold\">(</span>CSVDataset<span style=\"font-weight: bold\">)</span><span style=\"color: #808000; text-decoration-color: #808000\">...</span>              <a href=\"file:///home/rahit/jupyter_py3/lib/python3.8/site-packages/kedro/io/data_catalog.py\" target=\"_blank\"><span style=\"color: #7f7f7f; text-decoration-color: #7f7f7f\">data_catalog.py</span></a><span style=\"color: #7f7f7f; text-decoration-color: #7f7f7f\">:</span><a href=\"file:///home/rahit/jupyter_py3/lib/python3.8/site-packages/kedro/io/data_catalog.py#492\" target=\"_blank\"><span style=\"color: #7f7f7f; text-decoration-color: #7f7f7f\">492</span></a>\n",
       "</pre>\n"
      ],
      "text/plain": [
       "\u001b[2;36m                   \u001b[0m\u001b[2;36m \u001b[0m\u001b[34mINFO    \u001b[0m Loading data from \u001b[32m'jvl_scored@pandas'\u001b[0m \u001b[1m(\u001b[0mCSVDataset\u001b[1m)\u001b[0m\u001b[33m...\u001b[0m              \u001b]8;id=373018;file:///home/rahit/jupyter_py3/lib/python3.8/site-packages/kedro/io/data_catalog.py\u001b\\\u001b[2mdata_catalog.py\u001b[0m\u001b]8;;\u001b\\\u001b[2m:\u001b[0m\u001b]8;id=909404;file:///home/rahit/jupyter_py3/lib/python3.8/site-packages/kedro/io/data_catalog.py#492\u001b\\\u001b[2m492\u001b[0m\u001b]8;;\u001b\\\n"
      ]
     },
     "metadata": {},
     "output_type": "display_data"
    },
    {
     "data": {
      "text/html": [
       "<pre style=\"white-space:pre;overflow-x:auto;line-height:normal;font-family:Menlo,'DejaVu Sans Mono',consolas,'Courier New',monospace\"><span style=\"color: #7fbfbf; text-decoration-color: #7fbfbf\">                    </span><span style=\"color: #000080; text-decoration-color: #000080\">INFO    </span> Loading data from <span style=\"color: #008000; text-decoration-color: #008000\">'jvl_scored_pheno'</span> <span style=\"font-weight: bold\">(</span>CSVDataset<span style=\"font-weight: bold\">)</span><span style=\"color: #808000; text-decoration-color: #808000\">...</span>               <a href=\"file:///home/rahit/jupyter_py3/lib/python3.8/site-packages/kedro/io/data_catalog.py\" target=\"_blank\"><span style=\"color: #7f7f7f; text-decoration-color: #7f7f7f\">data_catalog.py</span></a><span style=\"color: #7f7f7f; text-decoration-color: #7f7f7f\">:</span><a href=\"file:///home/rahit/jupyter_py3/lib/python3.8/site-packages/kedro/io/data_catalog.py#492\" target=\"_blank\"><span style=\"color: #7f7f7f; text-decoration-color: #7f7f7f\">492</span></a>\n",
       "</pre>\n"
      ],
      "text/plain": [
       "\u001b[2;36m                   \u001b[0m\u001b[2;36m \u001b[0m\u001b[34mINFO    \u001b[0m Loading data from \u001b[32m'jvl_scored_pheno'\u001b[0m \u001b[1m(\u001b[0mCSVDataset\u001b[1m)\u001b[0m\u001b[33m...\u001b[0m               \u001b]8;id=738828;file:///home/rahit/jupyter_py3/lib/python3.8/site-packages/kedro/io/data_catalog.py\u001b\\\u001b[2mdata_catalog.py\u001b[0m\u001b]8;;\u001b\\\u001b[2m:\u001b[0m\u001b]8;id=558369;file:///home/rahit/jupyter_py3/lib/python3.8/site-packages/kedro/io/data_catalog.py#492\u001b\\\u001b[2m492\u001b[0m\u001b]8;;\u001b\\\n"
      ]
     },
     "metadata": {},
     "output_type": "display_data"
    },
    {
     "data": {
      "text/html": [
       "<pre style=\"white-space:pre;overflow-x:auto;line-height:normal;font-family:Menlo,'DejaVu Sans Mono',consolas,'Courier New',monospace\"><span style=\"color: #7fbfbf; text-decoration-color: #7fbfbf\">                    </span><span style=\"color: #000080; text-decoration-color: #000080\">INFO    </span> Loading data from <span style=\"color: #008000; text-decoration-color: #008000\">'jvl_scored_pheno'</span> <span style=\"font-weight: bold\">(</span>CSVDataset<span style=\"font-weight: bold\">)</span><span style=\"color: #808000; text-decoration-color: #808000\">...</span>               <a href=\"file:///home/rahit/jupyter_py3/lib/python3.8/site-packages/kedro/io/data_catalog.py\" target=\"_blank\"><span style=\"color: #7f7f7f; text-decoration-color: #7f7f7f\">data_catalog.py</span></a><span style=\"color: #7f7f7f; text-decoration-color: #7f7f7f\">:</span><a href=\"file:///home/rahit/jupyter_py3/lib/python3.8/site-packages/kedro/io/data_catalog.py#492\" target=\"_blank\"><span style=\"color: #7f7f7f; text-decoration-color: #7f7f7f\">492</span></a>\n",
       "</pre>\n"
      ],
      "text/plain": [
       "\u001b[2;36m                   \u001b[0m\u001b[2;36m \u001b[0m\u001b[34mINFO    \u001b[0m Loading data from \u001b[32m'jvl_scored_pheno'\u001b[0m \u001b[1m(\u001b[0mCSVDataset\u001b[1m)\u001b[0m\u001b[33m...\u001b[0m               \u001b]8;id=425091;file:///home/rahit/jupyter_py3/lib/python3.8/site-packages/kedro/io/data_catalog.py\u001b\\\u001b[2mdata_catalog.py\u001b[0m\u001b]8;;\u001b\\\u001b[2m:\u001b[0m\u001b]8;id=383251;file:///home/rahit/jupyter_py3/lib/python3.8/site-packages/kedro/io/data_catalog.py#492\u001b\\\u001b[2m492\u001b[0m\u001b]8;;\u001b\\\n"
      ]
     },
     "metadata": {},
     "output_type": "display_data"
    },
    {
     "data": {
      "text/html": [
       "<pre style=\"white-space:pre;overflow-x:auto;line-height:normal;font-family:Menlo,'DejaVu Sans Mono',consolas,'Courier New',monospace\"><span style=\"color: #7fbfbf; text-decoration-color: #7fbfbf\">                    </span><span style=\"color: #000080; text-decoration-color: #000080\">INFO    </span> Loading data from <span style=\"color: #008000; text-decoration-color: #008000\">'olida_scored'</span> <span style=\"font-weight: bold\">(</span>CSVDataset<span style=\"font-weight: bold\">)</span><span style=\"color: #808000; text-decoration-color: #808000\">...</span>                   <a href=\"file:///home/rahit/jupyter_py3/lib/python3.8/site-packages/kedro/io/data_catalog.py\" target=\"_blank\"><span style=\"color: #7f7f7f; text-decoration-color: #7f7f7f\">data_catalog.py</span></a><span style=\"color: #7f7f7f; text-decoration-color: #7f7f7f\">:</span><a href=\"file:///home/rahit/jupyter_py3/lib/python3.8/site-packages/kedro/io/data_catalog.py#492\" target=\"_blank\"><span style=\"color: #7f7f7f; text-decoration-color: #7f7f7f\">492</span></a>\n",
       "</pre>\n"
      ],
      "text/plain": [
       "\u001b[2;36m                   \u001b[0m\u001b[2;36m \u001b[0m\u001b[34mINFO    \u001b[0m Loading data from \u001b[32m'olida_scored'\u001b[0m \u001b[1m(\u001b[0mCSVDataset\u001b[1m)\u001b[0m\u001b[33m...\u001b[0m                   \u001b]8;id=500643;file:///home/rahit/jupyter_py3/lib/python3.8/site-packages/kedro/io/data_catalog.py\u001b\\\u001b[2mdata_catalog.py\u001b[0m\u001b]8;;\u001b\\\u001b[2m:\u001b[0m\u001b]8;id=146284;file:///home/rahit/jupyter_py3/lib/python3.8/site-packages/kedro/io/data_catalog.py#492\u001b\\\u001b[2m492\u001b[0m\u001b]8;;\u001b\\\n"
      ]
     },
     "metadata": {},
     "output_type": "display_data"
    },
    {
     "data": {
      "text/html": [
       "<pre style=\"white-space:pre;overflow-x:auto;line-height:normal;font-family:Menlo,'DejaVu Sans Mono',consolas,'Courier New',monospace\"><span style=\"color: #7fbfbf; text-decoration-color: #7fbfbf\">                    </span><span style=\"color: #000080; text-decoration-color: #000080\">INFO    </span> Loading data from <span style=\"color: #008000; text-decoration-color: #008000\">'olida_scored'</span> <span style=\"font-weight: bold\">(</span>CSVDataset<span style=\"font-weight: bold\">)</span><span style=\"color: #808000; text-decoration-color: #808000\">...</span>                   <a href=\"file:///home/rahit/jupyter_py3/lib/python3.8/site-packages/kedro/io/data_catalog.py\" target=\"_blank\"><span style=\"color: #7f7f7f; text-decoration-color: #7f7f7f\">data_catalog.py</span></a><span style=\"color: #7f7f7f; text-decoration-color: #7f7f7f\">:</span><a href=\"file:///home/rahit/jupyter_py3/lib/python3.8/site-packages/kedro/io/data_catalog.py#492\" target=\"_blank\"><span style=\"color: #7f7f7f; text-decoration-color: #7f7f7f\">492</span></a>\n",
       "</pre>\n"
      ],
      "text/plain": [
       "\u001b[2;36m                   \u001b[0m\u001b[2;36m \u001b[0m\u001b[34mINFO    \u001b[0m Loading data from \u001b[32m'olida_scored'\u001b[0m \u001b[1m(\u001b[0mCSVDataset\u001b[1m)\u001b[0m\u001b[33m...\u001b[0m                   \u001b]8;id=132714;file:///home/rahit/jupyter_py3/lib/python3.8/site-packages/kedro/io/data_catalog.py\u001b\\\u001b[2mdata_catalog.py\u001b[0m\u001b]8;;\u001b\\\u001b[2m:\u001b[0m\u001b]8;id=443532;file:///home/rahit/jupyter_py3/lib/python3.8/site-packages/kedro/io/data_catalog.py#492\u001b\\\u001b[2m492\u001b[0m\u001b]8;;\u001b\\\n"
      ]
     },
     "metadata": {},
     "output_type": "display_data"
    },
    {
     "data": {
      "text/html": [
       "<pre style=\"white-space:pre;overflow-x:auto;line-height:normal;font-family:Menlo,'DejaVu Sans Mono',consolas,'Courier New',monospace\"><span style=\"color: #7fbfbf; text-decoration-color: #7fbfbf\">                    </span><span style=\"color: #000080; text-decoration-color: #000080\">INFO    </span> Loading data from <span style=\"color: #008000; text-decoration-color: #008000\">'olida_scored_pheno'</span> <span style=\"font-weight: bold\">(</span>CSVDataset<span style=\"font-weight: bold\">)</span><span style=\"color: #808000; text-decoration-color: #808000\">...</span>             <a href=\"file:///home/rahit/jupyter_py3/lib/python3.8/site-packages/kedro/io/data_catalog.py\" target=\"_blank\"><span style=\"color: #7f7f7f; text-decoration-color: #7f7f7f\">data_catalog.py</span></a><span style=\"color: #7f7f7f; text-decoration-color: #7f7f7f\">:</span><a href=\"file:///home/rahit/jupyter_py3/lib/python3.8/site-packages/kedro/io/data_catalog.py#492\" target=\"_blank\"><span style=\"color: #7f7f7f; text-decoration-color: #7f7f7f\">492</span></a>\n",
       "</pre>\n"
      ],
      "text/plain": [
       "\u001b[2;36m                   \u001b[0m\u001b[2;36m \u001b[0m\u001b[34mINFO    \u001b[0m Loading data from \u001b[32m'olida_scored_pheno'\u001b[0m \u001b[1m(\u001b[0mCSVDataset\u001b[1m)\u001b[0m\u001b[33m...\u001b[0m             \u001b]8;id=329932;file:///home/rahit/jupyter_py3/lib/python3.8/site-packages/kedro/io/data_catalog.py\u001b\\\u001b[2mdata_catalog.py\u001b[0m\u001b]8;;\u001b\\\u001b[2m:\u001b[0m\u001b]8;id=601189;file:///home/rahit/jupyter_py3/lib/python3.8/site-packages/kedro/io/data_catalog.py#492\u001b\\\u001b[2m492\u001b[0m\u001b]8;;\u001b\\\n"
      ]
     },
     "metadata": {},
     "output_type": "display_data"
    },
    {
     "data": {
      "text/html": [
       "<pre style=\"white-space:pre;overflow-x:auto;line-height:normal;font-family:Menlo,'DejaVu Sans Mono',consolas,'Courier New',monospace\"><span style=\"color: #7fbfbf; text-decoration-color: #7fbfbf\">                    </span><span style=\"color: #000080; text-decoration-color: #000080\">INFO    </span> Loading data from <span style=\"color: #008000; text-decoration-color: #008000\">'olida_scored_pheno'</span> <span style=\"font-weight: bold\">(</span>CSVDataset<span style=\"font-weight: bold\">)</span><span style=\"color: #808000; text-decoration-color: #808000\">...</span>             <a href=\"file:///home/rahit/jupyter_py3/lib/python3.8/site-packages/kedro/io/data_catalog.py\" target=\"_blank\"><span style=\"color: #7f7f7f; text-decoration-color: #7f7f7f\">data_catalog.py</span></a><span style=\"color: #7f7f7f; text-decoration-color: #7f7f7f\">:</span><a href=\"file:///home/rahit/jupyter_py3/lib/python3.8/site-packages/kedro/io/data_catalog.py#492\" target=\"_blank\"><span style=\"color: #7f7f7f; text-decoration-color: #7f7f7f\">492</span></a>\n",
       "</pre>\n"
      ],
      "text/plain": [
       "\u001b[2;36m                   \u001b[0m\u001b[2;36m \u001b[0m\u001b[34mINFO    \u001b[0m Loading data from \u001b[32m'olida_scored_pheno'\u001b[0m \u001b[1m(\u001b[0mCSVDataset\u001b[1m)\u001b[0m\u001b[33m...\u001b[0m             \u001b]8;id=69764;file:///home/rahit/jupyter_py3/lib/python3.8/site-packages/kedro/io/data_catalog.py\u001b\\\u001b[2mdata_catalog.py\u001b[0m\u001b]8;;\u001b\\\u001b[2m:\u001b[0m\u001b]8;id=954939;file:///home/rahit/jupyter_py3/lib/python3.8/site-packages/kedro/io/data_catalog.py#492\u001b\\\u001b[2m492\u001b[0m\u001b]8;;\u001b\\\n"
      ]
     },
     "metadata": {},
     "output_type": "display_data"
    },
    {
     "data": {
      "text/html": [
       "<pre style=\"white-space:pre;overflow-x:auto;line-height:normal;font-family:Menlo,'DejaVu Sans Mono',consolas,'Courier New',monospace\"><span style=\"color: #7fbfbf; text-decoration-color: #7fbfbf\">                    </span><span style=\"color: #000080; text-decoration-color: #000080\">INFO    </span> Loading data from <span style=\"color: #008000; text-decoration-color: #008000\">'zyg1_raw'</span> <span style=\"font-weight: bold\">(</span>CSVDataset<span style=\"font-weight: bold\">)</span><span style=\"color: #808000; text-decoration-color: #808000\">...</span>                       <a href=\"file:///home/rahit/jupyter_py3/lib/python3.8/site-packages/kedro/io/data_catalog.py\" target=\"_blank\"><span style=\"color: #7f7f7f; text-decoration-color: #7f7f7f\">data_catalog.py</span></a><span style=\"color: #7f7f7f; text-decoration-color: #7f7f7f\">:</span><a href=\"file:///home/rahit/jupyter_py3/lib/python3.8/site-packages/kedro/io/data_catalog.py#492\" target=\"_blank\"><span style=\"color: #7f7f7f; text-decoration-color: #7f7f7f\">492</span></a>\n",
       "</pre>\n"
      ],
      "text/plain": [
       "\u001b[2;36m                   \u001b[0m\u001b[2;36m \u001b[0m\u001b[34mINFO    \u001b[0m Loading data from \u001b[32m'zyg1_raw'\u001b[0m \u001b[1m(\u001b[0mCSVDataset\u001b[1m)\u001b[0m\u001b[33m...\u001b[0m                       \u001b]8;id=635604;file:///home/rahit/jupyter_py3/lib/python3.8/site-packages/kedro/io/data_catalog.py\u001b\\\u001b[2mdata_catalog.py\u001b[0m\u001b]8;;\u001b\\\u001b[2m:\u001b[0m\u001b]8;id=187360;file:///home/rahit/jupyter_py3/lib/python3.8/site-packages/kedro/io/data_catalog.py#492\u001b\\\u001b[2m492\u001b[0m\u001b]8;;\u001b\\\n"
      ]
     },
     "metadata": {},
     "output_type": "display_data"
    },
    {
     "data": {
      "text/html": [
       "<pre style=\"white-space:pre;overflow-x:auto;line-height:normal;font-family:Menlo,'DejaVu Sans Mono',consolas,'Courier New',monospace\"><span style=\"color: #7fbfbf; text-decoration-color: #7fbfbf\">                    </span><span style=\"color: #000080; text-decoration-color: #000080\">INFO    </span> Loading data from <span style=\"color: #008000; text-decoration-color: #008000\">'zyg1_raw'</span> <span style=\"font-weight: bold\">(</span>CSVDataset<span style=\"font-weight: bold\">)</span><span style=\"color: #808000; text-decoration-color: #808000\">...</span>                       <a href=\"file:///home/rahit/jupyter_py3/lib/python3.8/site-packages/kedro/io/data_catalog.py\" target=\"_blank\"><span style=\"color: #7f7f7f; text-decoration-color: #7f7f7f\">data_catalog.py</span></a><span style=\"color: #7f7f7f; text-decoration-color: #7f7f7f\">:</span><a href=\"file:///home/rahit/jupyter_py3/lib/python3.8/site-packages/kedro/io/data_catalog.py#492\" target=\"_blank\"><span style=\"color: #7f7f7f; text-decoration-color: #7f7f7f\">492</span></a>\n",
       "</pre>\n"
      ],
      "text/plain": [
       "\u001b[2;36m                   \u001b[0m\u001b[2;36m \u001b[0m\u001b[34mINFO    \u001b[0m Loading data from \u001b[32m'zyg1_raw'\u001b[0m \u001b[1m(\u001b[0mCSVDataset\u001b[1m)\u001b[0m\u001b[33m...\u001b[0m                       \u001b]8;id=537044;file:///home/rahit/jupyter_py3/lib/python3.8/site-packages/kedro/io/data_catalog.py\u001b\\\u001b[2mdata_catalog.py\u001b[0m\u001b]8;;\u001b\\\u001b[2m:\u001b[0m\u001b]8;id=667810;file:///home/rahit/jupyter_py3/lib/python3.8/site-packages/kedro/io/data_catalog.py#492\u001b\\\u001b[2m492\u001b[0m\u001b]8;;\u001b\\\n"
      ]
     },
     "metadata": {},
     "output_type": "display_data"
    },
    {
     "data": {
      "text/html": [
       "<pre style=\"white-space:pre;overflow-x:auto;line-height:normal;font-family:Menlo,'DejaVu Sans Mono',consolas,'Courier New',monospace\"><span style=\"color: #7fbfbf; text-decoration-color: #7fbfbf\">                    </span><span style=\"color: #000080; text-decoration-color: #000080\">INFO    </span> Loading data from <span style=\"color: #008000; text-decoration-color: #008000\">'zyg1_scored'</span> <span style=\"font-weight: bold\">(</span>CSVDataset<span style=\"font-weight: bold\">)</span><span style=\"color: #808000; text-decoration-color: #808000\">...</span>                    <a href=\"file:///home/rahit/jupyter_py3/lib/python3.8/site-packages/kedro/io/data_catalog.py\" target=\"_blank\"><span style=\"color: #7f7f7f; text-decoration-color: #7f7f7f\">data_catalog.py</span></a><span style=\"color: #7f7f7f; text-decoration-color: #7f7f7f\">:</span><a href=\"file:///home/rahit/jupyter_py3/lib/python3.8/site-packages/kedro/io/data_catalog.py#492\" target=\"_blank\"><span style=\"color: #7f7f7f; text-decoration-color: #7f7f7f\">492</span></a>\n",
       "</pre>\n"
      ],
      "text/plain": [
       "\u001b[2;36m                   \u001b[0m\u001b[2;36m \u001b[0m\u001b[34mINFO    \u001b[0m Loading data from \u001b[32m'zyg1_scored'\u001b[0m \u001b[1m(\u001b[0mCSVDataset\u001b[1m)\u001b[0m\u001b[33m...\u001b[0m                    \u001b]8;id=993942;file:///home/rahit/jupyter_py3/lib/python3.8/site-packages/kedro/io/data_catalog.py\u001b\\\u001b[2mdata_catalog.py\u001b[0m\u001b]8;;\u001b\\\u001b[2m:\u001b[0m\u001b]8;id=315806;file:///home/rahit/jupyter_py3/lib/python3.8/site-packages/kedro/io/data_catalog.py#492\u001b\\\u001b[2m492\u001b[0m\u001b]8;;\u001b\\\n"
      ]
     },
     "metadata": {},
     "output_type": "display_data"
    },
    {
     "data": {
      "text/html": [
       "<pre style=\"white-space:pre;overflow-x:auto;line-height:normal;font-family:Menlo,'DejaVu Sans Mono',consolas,'Courier New',monospace\"><span style=\"color: #7fbfbf; text-decoration-color: #7fbfbf\">                    </span><span style=\"color: #000080; text-decoration-color: #000080\">INFO    </span> Loading data from <span style=\"color: #008000; text-decoration-color: #008000\">'zyg1_scored'</span> <span style=\"font-weight: bold\">(</span>CSVDataset<span style=\"font-weight: bold\">)</span><span style=\"color: #808000; text-decoration-color: #808000\">...</span>                    <a href=\"file:///home/rahit/jupyter_py3/lib/python3.8/site-packages/kedro/io/data_catalog.py\" target=\"_blank\"><span style=\"color: #7f7f7f; text-decoration-color: #7f7f7f\">data_catalog.py</span></a><span style=\"color: #7f7f7f; text-decoration-color: #7f7f7f\">:</span><a href=\"file:///home/rahit/jupyter_py3/lib/python3.8/site-packages/kedro/io/data_catalog.py#492\" target=\"_blank\"><span style=\"color: #7f7f7f; text-decoration-color: #7f7f7f\">492</span></a>\n",
       "</pre>\n"
      ],
      "text/plain": [
       "\u001b[2;36m                   \u001b[0m\u001b[2;36m \u001b[0m\u001b[34mINFO    \u001b[0m Loading data from \u001b[32m'zyg1_scored'\u001b[0m \u001b[1m(\u001b[0mCSVDataset\u001b[1m)\u001b[0m\u001b[33m...\u001b[0m                    \u001b]8;id=440931;file:///home/rahit/jupyter_py3/lib/python3.8/site-packages/kedro/io/data_catalog.py\u001b\\\u001b[2mdata_catalog.py\u001b[0m\u001b]8;;\u001b\\\u001b[2m:\u001b[0m\u001b]8;id=899107;file:///home/rahit/jupyter_py3/lib/python3.8/site-packages/kedro/io/data_catalog.py#492\u001b\\\u001b[2m492\u001b[0m\u001b]8;;\u001b\\\n"
      ]
     },
     "metadata": {},
     "output_type": "display_data"
    },
    {
     "data": {
      "text/html": [
       "<pre style=\"white-space:pre;overflow-x:auto;line-height:normal;font-family:Menlo,'DejaVu Sans Mono',consolas,'Courier New',monospace\"><span style=\"color: #7fbfbf; text-decoration-color: #7fbfbf\">                    </span><span style=\"color: #000080; text-decoration-color: #000080\">INFO    </span> Loading data from <span style=\"color: #008000; text-decoration-color: #008000\">'zyg1_scored_pheno'</span> <span style=\"font-weight: bold\">(</span>CSVDataset<span style=\"font-weight: bold\">)</span><span style=\"color: #808000; text-decoration-color: #808000\">...</span>              <a href=\"file:///home/rahit/jupyter_py3/lib/python3.8/site-packages/kedro/io/data_catalog.py\" target=\"_blank\"><span style=\"color: #7f7f7f; text-decoration-color: #7f7f7f\">data_catalog.py</span></a><span style=\"color: #7f7f7f; text-decoration-color: #7f7f7f\">:</span><a href=\"file:///home/rahit/jupyter_py3/lib/python3.8/site-packages/kedro/io/data_catalog.py#492\" target=\"_blank\"><span style=\"color: #7f7f7f; text-decoration-color: #7f7f7f\">492</span></a>\n",
       "</pre>\n"
      ],
      "text/plain": [
       "\u001b[2;36m                   \u001b[0m\u001b[2;36m \u001b[0m\u001b[34mINFO    \u001b[0m Loading data from \u001b[32m'zyg1_scored_pheno'\u001b[0m \u001b[1m(\u001b[0mCSVDataset\u001b[1m)\u001b[0m\u001b[33m...\u001b[0m              \u001b]8;id=253379;file:///home/rahit/jupyter_py3/lib/python3.8/site-packages/kedro/io/data_catalog.py\u001b\\\u001b[2mdata_catalog.py\u001b[0m\u001b]8;;\u001b\\\u001b[2m:\u001b[0m\u001b]8;id=502150;file:///home/rahit/jupyter_py3/lib/python3.8/site-packages/kedro/io/data_catalog.py#492\u001b\\\u001b[2m492\u001b[0m\u001b]8;;\u001b\\\n"
      ]
     },
     "metadata": {},
     "output_type": "display_data"
    },
    {
     "data": {
      "text/html": [
       "<pre style=\"white-space:pre;overflow-x:auto;line-height:normal;font-family:Menlo,'DejaVu Sans Mono',consolas,'Courier New',monospace\"><span style=\"color: #7fbfbf; text-decoration-color: #7fbfbf\">                    </span><span style=\"color: #000080; text-decoration-color: #000080\">INFO    </span> Loading data from <span style=\"color: #008000; text-decoration-color: #008000\">'zyg1_scored_pheno'</span> <span style=\"font-weight: bold\">(</span>CSVDataset<span style=\"font-weight: bold\">)</span><span style=\"color: #808000; text-decoration-color: #808000\">...</span>              <a href=\"file:///home/rahit/jupyter_py3/lib/python3.8/site-packages/kedro/io/data_catalog.py\" target=\"_blank\"><span style=\"color: #7f7f7f; text-decoration-color: #7f7f7f\">data_catalog.py</span></a><span style=\"color: #7f7f7f; text-decoration-color: #7f7f7f\">:</span><a href=\"file:///home/rahit/jupyter_py3/lib/python3.8/site-packages/kedro/io/data_catalog.py#492\" target=\"_blank\"><span style=\"color: #7f7f7f; text-decoration-color: #7f7f7f\">492</span></a>\n",
       "</pre>\n"
      ],
      "text/plain": [
       "\u001b[2;36m                   \u001b[0m\u001b[2;36m \u001b[0m\u001b[34mINFO    \u001b[0m Loading data from \u001b[32m'zyg1_scored_pheno'\u001b[0m \u001b[1m(\u001b[0mCSVDataset\u001b[1m)\u001b[0m\u001b[33m...\u001b[0m              \u001b]8;id=932068;file:///home/rahit/jupyter_py3/lib/python3.8/site-packages/kedro/io/data_catalog.py\u001b\\\u001b[2mdata_catalog.py\u001b[0m\u001b]8;;\u001b\\\u001b[2m:\u001b[0m\u001b]8;id=908190;file:///home/rahit/jupyter_py3/lib/python3.8/site-packages/kedro/io/data_catalog.py#492\u001b\\\u001b[2m492\u001b[0m\u001b]8;;\u001b\\\n"
      ]
     },
     "metadata": {},
     "output_type": "display_data"
    },
    {
     "data": {
      "text/html": [
       "<pre style=\"white-space:pre;overflow-x:auto;line-height:normal;font-family:Menlo,'DejaVu Sans Mono',consolas,'Courier New',monospace\"><span style=\"color: #7fbfbf; text-decoration-color: #7fbfbf\">                    </span><span style=\"color: #000080; text-decoration-color: #000080\">INFO    </span> Loading data from <span style=\"color: #008000; text-decoration-color: #008000\">'zyg1_truemods'</span> <span style=\"font-weight: bold\">(</span>CSVDataset<span style=\"font-weight: bold\">)</span><span style=\"color: #808000; text-decoration-color: #808000\">...</span>                  <a href=\"file:///home/rahit/jupyter_py3/lib/python3.8/site-packages/kedro/io/data_catalog.py\" target=\"_blank\"><span style=\"color: #7f7f7f; text-decoration-color: #7f7f7f\">data_catalog.py</span></a><span style=\"color: #7f7f7f; text-decoration-color: #7f7f7f\">:</span><a href=\"file:///home/rahit/jupyter_py3/lib/python3.8/site-packages/kedro/io/data_catalog.py#492\" target=\"_blank\"><span style=\"color: #7f7f7f; text-decoration-color: #7f7f7f\">492</span></a>\n",
       "</pre>\n"
      ],
      "text/plain": [
       "\u001b[2;36m                   \u001b[0m\u001b[2;36m \u001b[0m\u001b[34mINFO    \u001b[0m Loading data from \u001b[32m'zyg1_truemods'\u001b[0m \u001b[1m(\u001b[0mCSVDataset\u001b[1m)\u001b[0m\u001b[33m...\u001b[0m                  \u001b]8;id=923091;file:///home/rahit/jupyter_py3/lib/python3.8/site-packages/kedro/io/data_catalog.py\u001b\\\u001b[2mdata_catalog.py\u001b[0m\u001b]8;;\u001b\\\u001b[2m:\u001b[0m\u001b]8;id=580452;file:///home/rahit/jupyter_py3/lib/python3.8/site-packages/kedro/io/data_catalog.py#492\u001b\\\u001b[2m492\u001b[0m\u001b]8;;\u001b\\\n"
      ]
     },
     "metadata": {},
     "output_type": "display_data"
    },
    {
     "data": {
      "text/html": [
       "<pre style=\"white-space:pre;overflow-x:auto;line-height:normal;font-family:Menlo,'DejaVu Sans Mono',consolas,'Courier New',monospace\"><span style=\"color: #7fbfbf; text-decoration-color: #7fbfbf\">                    </span><span style=\"color: #000080; text-decoration-color: #000080\">INFO    </span> Loading data from <span style=\"color: #008000; text-decoration-color: #008000\">'zyg1_truemods'</span> <span style=\"font-weight: bold\">(</span>CSVDataset<span style=\"font-weight: bold\">)</span><span style=\"color: #808000; text-decoration-color: #808000\">...</span>                  <a href=\"file:///home/rahit/jupyter_py3/lib/python3.8/site-packages/kedro/io/data_catalog.py\" target=\"_blank\"><span style=\"color: #7f7f7f; text-decoration-color: #7f7f7f\">data_catalog.py</span></a><span style=\"color: #7f7f7f; text-decoration-color: #7f7f7f\">:</span><a href=\"file:///home/rahit/jupyter_py3/lib/python3.8/site-packages/kedro/io/data_catalog.py#492\" target=\"_blank\"><span style=\"color: #7f7f7f; text-decoration-color: #7f7f7f\">492</span></a>\n",
       "</pre>\n"
      ],
      "text/plain": [
       "\u001b[2;36m                   \u001b[0m\u001b[2;36m \u001b[0m\u001b[34mINFO    \u001b[0m Loading data from \u001b[32m'zyg1_truemods'\u001b[0m \u001b[1m(\u001b[0mCSVDataset\u001b[1m)\u001b[0m\u001b[33m...\u001b[0m                  \u001b]8;id=451203;file:///home/rahit/jupyter_py3/lib/python3.8/site-packages/kedro/io/data_catalog.py\u001b\\\u001b[2mdata_catalog.py\u001b[0m\u001b]8;;\u001b\\\u001b[2m:\u001b[0m\u001b]8;id=74001;file:///home/rahit/jupyter_py3/lib/python3.8/site-packages/kedro/io/data_catalog.py#492\u001b\\\u001b[2m492\u001b[0m\u001b]8;;\u001b\\\n"
      ]
     },
     "metadata": {},
     "output_type": "display_data"
    }
   ],
   "source": [
    "# jvl = catalog.load('jvl_scored')\n",
    "jvl_go = catalog.load('jvl_scored@pandas')\n",
    "jvl_po = catalog.load('jvl_scored_pheno')\n",
    "\n",
    "olida_go = catalog.load('olida_scored')\n",
    "olida_po = catalog.load('olida_scored_pheno')\n",
    "\n",
    "mtg_raw = catalog.load('zyg1_raw')\n",
    "mtg_go = catalog.load('zyg1_scored')\n",
    "mtg_po = catalog.load('zyg1_scored_pheno')\n",
    "true_mods = catalog.load('zyg1_truemods')"
   ]
  },
  {
   "cell_type": "markdown",
   "id": "f8415d91",
   "metadata": {},
   "source": [
    "# Take unique pairs"
   ]
  },
  {
   "cell_type": "code",
   "execution_count": 10,
   "id": "18b08289-c61e-4805-8b83-c77bc4c19fd1",
   "metadata": {
    "tags": []
   },
   "outputs": [
    {
     "data": {
      "text/html": [
       "<pre style=\"white-space:pre;overflow-x:auto;line-height:normal;font-family:Menlo,'DejaVu Sans Mono',consolas,'Courier New',monospace\">JVL scores\n",
       "</pre>\n"
      ],
      "text/plain": [
       "JVL scores\n"
      ]
     },
     "metadata": {},
     "output_type": "display_data"
    },
    {
     "data": {
      "text/html": [
       "<pre style=\"white-space:pre;overflow-x:auto;line-height:normal;font-family:Menlo,'DejaVu Sans Mono',consolas,'Courier New',monospace\"><span style=\"font-weight: bold\">(</span><span style=\"color: #008080; text-decoration-color: #008080; font-weight: bold\">932</span>, <span style=\"color: #008080; text-decoration-color: #008080; font-weight: bold\">29</span><span style=\"font-weight: bold\">)</span>\n",
       "</pre>\n"
      ],
      "text/plain": [
       "\u001b[1m(\u001b[0m\u001b[1;36m932\u001b[0m, \u001b[1;36m29\u001b[0m\u001b[1m)\u001b[0m\n"
      ]
     },
     "metadata": {},
     "output_type": "display_data"
    },
    {
     "data": {
      "text/html": [
       "<pre style=\"white-space:pre;overflow-x:auto;line-height:normal;font-family:Menlo,'DejaVu Sans Mono',consolas,'Courier New',monospace\"><span style=\"font-weight: bold\">(</span><span style=\"color: #008080; text-decoration-color: #008080; font-weight: bold\">476</span>, <span style=\"color: #008080; text-decoration-color: #008080; font-weight: bold\">29</span><span style=\"font-weight: bold\">)</span>\n",
       "</pre>\n"
      ],
      "text/plain": [
       "\u001b[1m(\u001b[0m\u001b[1;36m476\u001b[0m, \u001b[1;36m29\u001b[0m\u001b[1m)\u001b[0m\n"
      ]
     },
     "metadata": {},
     "output_type": "display_data"
    },
    {
     "data": {
      "text/html": [
       "<pre style=\"white-space:pre;overflow-x:auto;line-height:normal;font-family:Menlo,'DejaVu Sans Mono',consolas,'Courier New',monospace\">After removing dups\n",
       "</pre>\n"
      ],
      "text/plain": [
       "After removing dups\n"
      ]
     },
     "metadata": {},
     "output_type": "display_data"
    },
    {
     "data": {
      "text/html": [
       "<pre style=\"white-space:pre;overflow-x:auto;line-height:normal;font-family:Menlo,'DejaVu Sans Mono',consolas,'Courier New',monospace\"><span style=\"font-weight: bold\">(</span><span style=\"color: #008080; text-decoration-color: #008080; font-weight: bold\">476</span>, <span style=\"color: #008080; text-decoration-color: #008080; font-weight: bold\">29</span><span style=\"font-weight: bold\">)</span>\n",
       "</pre>\n"
      ],
      "text/plain": [
       "\u001b[1m(\u001b[0m\u001b[1;36m476\u001b[0m, \u001b[1;36m29\u001b[0m\u001b[1m)\u001b[0m\n"
      ]
     },
     "metadata": {},
     "output_type": "display_data"
    },
    {
     "data": {
      "text/html": [
       "<pre style=\"white-space:pre;overflow-x:auto;line-height:normal;font-family:Menlo,'DejaVu Sans Mono',consolas,'Courier New',monospace\"><span style=\"font-weight: bold\">(</span><span style=\"color: #008080; text-decoration-color: #008080; font-weight: bold\">476</span>, <span style=\"color: #008080; text-decoration-color: #008080; font-weight: bold\">29</span><span style=\"font-weight: bold\">)</span>\n",
       "</pre>\n"
      ],
      "text/plain": [
       "\u001b[1m(\u001b[0m\u001b[1;36m476\u001b[0m, \u001b[1;36m29\u001b[0m\u001b[1m)\u001b[0m\n"
      ]
     },
     "metadata": {},
     "output_type": "display_data"
    },
    {
     "data": {
      "text/html": [
       "<pre style=\"white-space:pre;overflow-x:auto;line-height:normal;font-family:Menlo,'DejaVu Sans Mono',consolas,'Courier New',monospace\">\n",
       "OLIDA scores\n",
       "</pre>\n"
      ],
      "text/plain": [
       "\n",
       "OLIDA scores\n"
      ]
     },
     "metadata": {},
     "output_type": "display_data"
    },
    {
     "data": {
      "text/html": [
       "<pre style=\"white-space:pre;overflow-x:auto;line-height:normal;font-family:Menlo,'DejaVu Sans Mono',consolas,'Courier New',monospace\"><span style=\"font-weight: bold\">(</span><span style=\"color: #008080; text-decoration-color: #008080; font-weight: bold\">141</span>, <span style=\"color: #008080; text-decoration-color: #008080; font-weight: bold\">29</span><span style=\"font-weight: bold\">)</span>\n",
       "</pre>\n"
      ],
      "text/plain": [
       "\u001b[1m(\u001b[0m\u001b[1;36m141\u001b[0m, \u001b[1;36m29\u001b[0m\u001b[1m)\u001b[0m\n"
      ]
     },
     "metadata": {},
     "output_type": "display_data"
    },
    {
     "data": {
      "text/html": [
       "<pre style=\"white-space:pre;overflow-x:auto;line-height:normal;font-family:Menlo,'DejaVu Sans Mono',consolas,'Courier New',monospace\"><span style=\"font-weight: bold\">(</span><span style=\"color: #008080; text-decoration-color: #008080; font-weight: bold\">138</span>, <span style=\"color: #008080; text-decoration-color: #008080; font-weight: bold\">29</span><span style=\"font-weight: bold\">)</span>\n",
       "</pre>\n"
      ],
      "text/plain": [
       "\u001b[1m(\u001b[0m\u001b[1;36m138\u001b[0m, \u001b[1;36m29\u001b[0m\u001b[1m)\u001b[0m\n"
      ]
     },
     "metadata": {},
     "output_type": "display_data"
    },
    {
     "data": {
      "text/html": [
       "<pre style=\"white-space:pre;overflow-x:auto;line-height:normal;font-family:Menlo,'DejaVu Sans Mono',consolas,'Courier New',monospace\">After removing dups\n",
       "</pre>\n"
      ],
      "text/plain": [
       "After removing dups\n"
      ]
     },
     "metadata": {},
     "output_type": "display_data"
    },
    {
     "data": {
      "text/html": [
       "<pre style=\"white-space:pre;overflow-x:auto;line-height:normal;font-family:Menlo,'DejaVu Sans Mono',consolas,'Courier New',monospace\"><span style=\"font-weight: bold\">(</span><span style=\"color: #008080; text-decoration-color: #008080; font-weight: bold\">138</span>, <span style=\"color: #008080; text-decoration-color: #008080; font-weight: bold\">29</span><span style=\"font-weight: bold\">)</span>\n",
       "</pre>\n"
      ],
      "text/plain": [
       "\u001b[1m(\u001b[0m\u001b[1;36m138\u001b[0m, \u001b[1;36m29\u001b[0m\u001b[1m)\u001b[0m\n"
      ]
     },
     "metadata": {},
     "output_type": "display_data"
    },
    {
     "data": {
      "text/html": [
       "<pre style=\"white-space:pre;overflow-x:auto;line-height:normal;font-family:Menlo,'DejaVu Sans Mono',consolas,'Courier New',monospace\"><span style=\"font-weight: bold\">(</span><span style=\"color: #008080; text-decoration-color: #008080; font-weight: bold\">138</span>, <span style=\"color: #008080; text-decoration-color: #008080; font-weight: bold\">29</span><span style=\"font-weight: bold\">)</span>\n",
       "</pre>\n"
      ],
      "text/plain": [
       "\u001b[1m(\u001b[0m\u001b[1;36m138\u001b[0m, \u001b[1;36m29\u001b[0m\u001b[1m)\u001b[0m\n"
      ]
     },
     "metadata": {},
     "output_type": "display_data"
    },
    {
     "data": {
      "text/html": [
       "<pre style=\"white-space:pre;overflow-x:auto;line-height:normal;font-family:Menlo,'DejaVu Sans Mono',consolas,'Courier New',monospace\">\n",
       "MTG scores\n",
       "</pre>\n"
      ],
      "text/plain": [
       "\n",
       "MTG scores\n"
      ]
     },
     "metadata": {},
     "output_type": "display_data"
    },
    {
     "data": {
      "text/html": [
       "<pre style=\"white-space:pre;overflow-x:auto;line-height:normal;font-family:Menlo,'DejaVu Sans Mono',consolas,'Courier New',monospace\"><span style=\"font-weight: bold\">(</span><span style=\"color: #008080; text-decoration-color: #008080; font-weight: bold\">7330</span>, <span style=\"color: #008080; text-decoration-color: #008080; font-weight: bold\">30</span><span style=\"font-weight: bold\">)</span>\n",
       "</pre>\n"
      ],
      "text/plain": [
       "\u001b[1m(\u001b[0m\u001b[1;36m7330\u001b[0m, \u001b[1;36m30\u001b[0m\u001b[1m)\u001b[0m\n"
      ]
     },
     "metadata": {},
     "output_type": "display_data"
    },
    {
     "data": {
      "text/html": [
       "<pre style=\"white-space:pre;overflow-x:auto;line-height:normal;font-family:Menlo,'DejaVu Sans Mono',consolas,'Courier New',monospace\"><span style=\"font-weight: bold\">(</span><span style=\"color: #008080; text-decoration-color: #008080; font-weight: bold\">7330</span>, <span style=\"color: #008080; text-decoration-color: #008080; font-weight: bold\">29</span><span style=\"font-weight: bold\">)</span>\n",
       "</pre>\n"
      ],
      "text/plain": [
       "\u001b[1m(\u001b[0m\u001b[1;36m7330\u001b[0m, \u001b[1;36m29\u001b[0m\u001b[1m)\u001b[0m\n"
      ]
     },
     "metadata": {},
     "output_type": "display_data"
    },
    {
     "data": {
      "text/html": [
       "<pre style=\"white-space:pre;overflow-x:auto;line-height:normal;font-family:Menlo,'DejaVu Sans Mono',consolas,'Courier New',monospace\">After removing dups\n",
       "</pre>\n"
      ],
      "text/plain": [
       "After removing dups\n"
      ]
     },
     "metadata": {},
     "output_type": "display_data"
    },
    {
     "data": {
      "text/html": [
       "<pre style=\"white-space:pre;overflow-x:auto;line-height:normal;font-family:Menlo,'DejaVu Sans Mono',consolas,'Courier New',monospace\"><span style=\"font-weight: bold\">(</span><span style=\"color: #008080; text-decoration-color: #008080; font-weight: bold\">5182</span>, <span style=\"color: #008080; text-decoration-color: #008080; font-weight: bold\">30</span><span style=\"font-weight: bold\">)</span>\n",
       "</pre>\n"
      ],
      "text/plain": [
       "\u001b[1m(\u001b[0m\u001b[1;36m5182\u001b[0m, \u001b[1;36m30\u001b[0m\u001b[1m)\u001b[0m\n"
      ]
     },
     "metadata": {},
     "output_type": "display_data"
    },
    {
     "data": {
      "text/html": [
       "<pre style=\"white-space:pre;overflow-x:auto;line-height:normal;font-family:Menlo,'DejaVu Sans Mono',consolas,'Courier New',monospace\"><span style=\"font-weight: bold\">(</span><span style=\"color: #008080; text-decoration-color: #008080; font-weight: bold\">5182</span>, <span style=\"color: #008080; text-decoration-color: #008080; font-weight: bold\">29</span><span style=\"font-weight: bold\">)</span>\n",
       "</pre>\n"
      ],
      "text/plain": [
       "\u001b[1m(\u001b[0m\u001b[1;36m5182\u001b[0m, \u001b[1;36m29\u001b[0m\u001b[1m)\u001b[0m\n"
      ]
     },
     "metadata": {},
     "output_type": "display_data"
    }
   ],
   "source": [
    "print(\"JVL scores\")\n",
    "print(jvl_go.shape)\n",
    "print(jvl_po.shape)\n",
    "jvl_go.drop_duplicates(subset=['QueryGene','SuppressorGene',], inplace=True)\n",
    "jvl_po.drop_duplicates(subset=['QueryGene','SuppressorGene',], inplace=True)\n",
    "print('After removing dups')\n",
    "print(jvl_go.shape)\n",
    "print(jvl_po.shape)\n",
    "\n",
    "print(\"\\nOLIDA scores\")\n",
    "print(olida_go.shape)\n",
    "print(olida_po.shape)\n",
    "olida_go.drop_duplicates(subset=['gene_a', 'gene_b'], inplace=True)\n",
    "olida_po.drop_duplicates(subset=['gene_a', 'gene_b'], inplace=True)\n",
    "print('After removing dups')\n",
    "print(olida_go.shape)\n",
    "print(olida_po.shape)\n",
    "\n",
    "print(\"\\nMTG scores\")\n",
    "print(mtg_go.shape)\n",
    "print(mtg_po.shape)\n",
    "mtg_go.drop_duplicates(subset=['gene_symbol','target_gene_symbol'], inplace=True)\n",
    "mtg_po.drop_duplicates(subset=['gene_symbol','target_gene_symbol'], inplace=True)\n",
    "print('After removing dups')\n",
    "print(mtg_go.shape)\n",
    "print(mtg_po.shape)"
   ]
  },
  {
   "cell_type": "markdown",
   "id": "6d655a2f",
   "metadata": {},
   "source": [
    "Consolidate all scores from multiple dataframe into a single dataframe <b>for each dataset<b>."
   ]
  },
  {
   "cell_type": "code",
   "execution_count": 11,
   "id": "c30ae755",
   "metadata": {},
   "outputs": [],
   "source": [
    "_jvl = jvl_go.merge(jvl_po, how='left', on=['QueryGene','SuppressorGene'])\n",
    "_olida = olida_go.merge(olida_po, how='left', on=['gene_a','gene_b'])\n",
    "_mtg = mtg_go.merge(mtg_po, how='left', on=['gene_symbol','target_gene_symbol'])"
   ]
  },
  {
   "cell_type": "code",
   "execution_count": 12,
   "id": "baf0cdd8",
   "metadata": {},
   "outputs": [
    {
     "data": {
      "text/html": [
       "<pre style=\"white-space:pre;overflow-x:auto;line-height:normal;font-family:Menlo,'DejaVu Sans Mono',consolas,'Courier New',monospace\"><span style=\"color: #800080; text-decoration-color: #800080; font-weight: bold\">Index</span><span style=\"font-weight: bold\">([</span><span style=\"color: #008000; text-decoration-color: #008000\">'QueryGene'</span>, <span style=\"color: #008000; text-decoration-color: #008000\">'SuppressorGene'</span>, <span style=\"color: #008000; text-decoration-color: #008000\">'go_n_common_ancestors_max'</span>,\n",
       "       <span style=\"color: #008000; text-decoration-color: #008000\">'go_n_common_ancestors_avg'</span>, <span style=\"color: #008000; text-decoration-color: #008000\">'go_n_common_ancestors_bma'</span>,\n",
       "       <span style=\"color: #008000; text-decoration-color: #008000\">'go_n_union_ancestors_max'</span>, <span style=\"color: #008000; text-decoration-color: #008000\">'go_n_union_ancestors_avg'</span>,\n",
       "       <span style=\"color: #008000; text-decoration-color: #008000\">'go_n_union_ancestors_bma'</span>, <span style=\"color: #008000; text-decoration-color: #008000\">'go_batet_max'</span>, <span style=\"color: #008000; text-decoration-color: #008000\">'go_batet_avg'</span>,\n",
       "       <span style=\"color: #008000; text-decoration-color: #008000\">'go_batet_bma'</span>, <span style=\"color: #008000; text-decoration-color: #008000\">'go_batet_log_max'</span>, <span style=\"color: #008000; text-decoration-color: #008000\">'go_batet_log_avg'</span>,\n",
       "       <span style=\"color: #008000; text-decoration-color: #008000\">'go_batet_log_bma'</span>, <span style=\"color: #008000; text-decoration-color: #008000\">'go_resnik_max'</span>, <span style=\"color: #008000; text-decoration-color: #008000\">'go_resnik_avg'</span>, <span style=\"color: #008000; text-decoration-color: #008000\">'go_resnik_bma'</span>,\n",
       "       <span style=\"color: #008000; text-decoration-color: #008000\">'go_resnik_scaled_max'</span>, <span style=\"color: #008000; text-decoration-color: #008000\">'go_resnik_scaled_avg'</span>, <span style=\"color: #008000; text-decoration-color: #008000\">'go_resnik_scaled_bma'</span>,\n",
       "       <span style=\"color: #008000; text-decoration-color: #008000\">'go_lin_max'</span>, <span style=\"color: #008000; text-decoration-color: #008000\">'go_lin_avg'</span>, <span style=\"color: #008000; text-decoration-color: #008000\">'go_lin_bma'</span>, <span style=\"color: #008000; text-decoration-color: #008000\">'go_jiang_max'</span>,\n",
       "       <span style=\"color: #008000; text-decoration-color: #008000\">'go_jiang_avg'</span>, <span style=\"color: #008000; text-decoration-color: #008000\">'go_jiang_bma'</span>, <span style=\"color: #008000; text-decoration-color: #008000\">'go_jiang_seco_max'</span>,\n",
       "       <span style=\"color: #008000; text-decoration-color: #008000\">'go_jiang_seco_avg'</span>, <span style=\"color: #008000; text-decoration-color: #008000\">'go_jiang_seco_bma'</span>, <span style=\"color: #008000; text-decoration-color: #008000\">'HP_n_common_ancestors_max'</span>,\n",
       "       <span style=\"color: #008000; text-decoration-color: #008000\">'HP_n_common_ancestors_avg'</span>, <span style=\"color: #008000; text-decoration-color: #008000\">'HP_n_common_ancestors_bma'</span>,\n",
       "       <span style=\"color: #008000; text-decoration-color: #008000\">'HP_n_union_ancestors_max'</span>, <span style=\"color: #008000; text-decoration-color: #008000\">'HP_n_union_ancestors_avg'</span>,\n",
       "       <span style=\"color: #008000; text-decoration-color: #008000\">'HP_n_union_ancestors_bma'</span>, <span style=\"color: #008000; text-decoration-color: #008000\">'HP_batet_max'</span>, <span style=\"color: #008000; text-decoration-color: #008000\">'HP_batet_avg'</span>,\n",
       "       <span style=\"color: #008000; text-decoration-color: #008000\">'HP_batet_bma'</span>, <span style=\"color: #008000; text-decoration-color: #008000\">'HP_batet_log_max'</span>, <span style=\"color: #008000; text-decoration-color: #008000\">'HP_batet_log_avg'</span>,\n",
       "       <span style=\"color: #008000; text-decoration-color: #008000\">'HP_batet_log_bma'</span>, <span style=\"color: #008000; text-decoration-color: #008000\">'HP_resnik_max'</span>, <span style=\"color: #008000; text-decoration-color: #008000\">'HP_resnik_avg'</span>, <span style=\"color: #008000; text-decoration-color: #008000\">'HP_resnik_bma'</span>,\n",
       "       <span style=\"color: #008000; text-decoration-color: #008000\">'HP_resnik_scaled_max'</span>, <span style=\"color: #008000; text-decoration-color: #008000\">'HP_resnik_scaled_avg'</span>, <span style=\"color: #008000; text-decoration-color: #008000\">'HP_resnik_scaled_bma'</span>,\n",
       "       <span style=\"color: #008000; text-decoration-color: #008000\">'HP_lin_max'</span>, <span style=\"color: #008000; text-decoration-color: #008000\">'HP_lin_avg'</span>, <span style=\"color: #008000; text-decoration-color: #008000\">'HP_lin_bma'</span>, <span style=\"color: #008000; text-decoration-color: #008000\">'HP_jiang_max'</span>,\n",
       "       <span style=\"color: #008000; text-decoration-color: #008000\">'HP_jiang_avg'</span>, <span style=\"color: #008000; text-decoration-color: #008000\">'HP_jiang_bma'</span>, <span style=\"color: #008000; text-decoration-color: #008000\">'HP_jiang_seco_max'</span>,\n",
       "       <span style=\"color: #008000; text-decoration-color: #008000\">'HP_jiang_seco_avg'</span>, <span style=\"color: #008000; text-decoration-color: #008000\">'HP_jiang_seco_bma'</span><span style=\"font-weight: bold\">]</span>,\n",
       "      <span style=\"color: #808000; text-decoration-color: #808000\">dtype</span>=<span style=\"color: #008000; text-decoration-color: #008000\">'object'</span><span style=\"font-weight: bold\">)</span>\n",
       "</pre>\n"
      ],
      "text/plain": [
       "\u001b[1;35mIndex\u001b[0m\u001b[1m(\u001b[0m\u001b[1m[\u001b[0m\u001b[32m'QueryGene'\u001b[0m, \u001b[32m'SuppressorGene'\u001b[0m, \u001b[32m'go_n_common_ancestors_max'\u001b[0m,\n",
       "       \u001b[32m'go_n_common_ancestors_avg'\u001b[0m, \u001b[32m'go_n_common_ancestors_bma'\u001b[0m,\n",
       "       \u001b[32m'go_n_union_ancestors_max'\u001b[0m, \u001b[32m'go_n_union_ancestors_avg'\u001b[0m,\n",
       "       \u001b[32m'go_n_union_ancestors_bma'\u001b[0m, \u001b[32m'go_batet_max'\u001b[0m, \u001b[32m'go_batet_avg'\u001b[0m,\n",
       "       \u001b[32m'go_batet_bma'\u001b[0m, \u001b[32m'go_batet_log_max'\u001b[0m, \u001b[32m'go_batet_log_avg'\u001b[0m,\n",
       "       \u001b[32m'go_batet_log_bma'\u001b[0m, \u001b[32m'go_resnik_max'\u001b[0m, \u001b[32m'go_resnik_avg'\u001b[0m, \u001b[32m'go_resnik_bma'\u001b[0m,\n",
       "       \u001b[32m'go_resnik_scaled_max'\u001b[0m, \u001b[32m'go_resnik_scaled_avg'\u001b[0m, \u001b[32m'go_resnik_scaled_bma'\u001b[0m,\n",
       "       \u001b[32m'go_lin_max'\u001b[0m, \u001b[32m'go_lin_avg'\u001b[0m, \u001b[32m'go_lin_bma'\u001b[0m, \u001b[32m'go_jiang_max'\u001b[0m,\n",
       "       \u001b[32m'go_jiang_avg'\u001b[0m, \u001b[32m'go_jiang_bma'\u001b[0m, \u001b[32m'go_jiang_seco_max'\u001b[0m,\n",
       "       \u001b[32m'go_jiang_seco_avg'\u001b[0m, \u001b[32m'go_jiang_seco_bma'\u001b[0m, \u001b[32m'HP_n_common_ancestors_max'\u001b[0m,\n",
       "       \u001b[32m'HP_n_common_ancestors_avg'\u001b[0m, \u001b[32m'HP_n_common_ancestors_bma'\u001b[0m,\n",
       "       \u001b[32m'HP_n_union_ancestors_max'\u001b[0m, \u001b[32m'HP_n_union_ancestors_avg'\u001b[0m,\n",
       "       \u001b[32m'HP_n_union_ancestors_bma'\u001b[0m, \u001b[32m'HP_batet_max'\u001b[0m, \u001b[32m'HP_batet_avg'\u001b[0m,\n",
       "       \u001b[32m'HP_batet_bma'\u001b[0m, \u001b[32m'HP_batet_log_max'\u001b[0m, \u001b[32m'HP_batet_log_avg'\u001b[0m,\n",
       "       \u001b[32m'HP_batet_log_bma'\u001b[0m, \u001b[32m'HP_resnik_max'\u001b[0m, \u001b[32m'HP_resnik_avg'\u001b[0m, \u001b[32m'HP_resnik_bma'\u001b[0m,\n",
       "       \u001b[32m'HP_resnik_scaled_max'\u001b[0m, \u001b[32m'HP_resnik_scaled_avg'\u001b[0m, \u001b[32m'HP_resnik_scaled_bma'\u001b[0m,\n",
       "       \u001b[32m'HP_lin_max'\u001b[0m, \u001b[32m'HP_lin_avg'\u001b[0m, \u001b[32m'HP_lin_bma'\u001b[0m, \u001b[32m'HP_jiang_max'\u001b[0m,\n",
       "       \u001b[32m'HP_jiang_avg'\u001b[0m, \u001b[32m'HP_jiang_bma'\u001b[0m, \u001b[32m'HP_jiang_seco_max'\u001b[0m,\n",
       "       \u001b[32m'HP_jiang_seco_avg'\u001b[0m, \u001b[32m'HP_jiang_seco_bma'\u001b[0m\u001b[1m]\u001b[0m,\n",
       "      \u001b[33mdtype\u001b[0m=\u001b[32m'object'\u001b[0m\u001b[1m)\u001b[0m\n"
      ]
     },
     "metadata": {},
     "output_type": "display_data"
    },
    {
     "data": {
      "text/html": [
       "<pre style=\"white-space:pre;overflow-x:auto;line-height:normal;font-family:Menlo,'DejaVu Sans Mono',consolas,'Courier New',monospace\"><span style=\"color: #800080; text-decoration-color: #800080; font-weight: bold\">Index</span><span style=\"font-weight: bold\">([</span><span style=\"color: #008000; text-decoration-color: #008000\">'gene_a'</span>, <span style=\"color: #008000; text-decoration-color: #008000\">'gene_b'</span>, <span style=\"color: #008000; text-decoration-color: #008000\">'go_n_common_ancestors_max'</span>,\n",
       "       <span style=\"color: #008000; text-decoration-color: #008000\">'go_n_common_ancestors_avg'</span>, <span style=\"color: #008000; text-decoration-color: #008000\">'go_n_common_ancestors_bma'</span>,\n",
       "       <span style=\"color: #008000; text-decoration-color: #008000\">'go_n_union_ancestors_max'</span>, <span style=\"color: #008000; text-decoration-color: #008000\">'go_n_union_ancestors_avg'</span>,\n",
       "       <span style=\"color: #008000; text-decoration-color: #008000\">'go_n_union_ancestors_bma'</span>, <span style=\"color: #008000; text-decoration-color: #008000\">'go_batet_max'</span>, <span style=\"color: #008000; text-decoration-color: #008000\">'go_batet_avg'</span>,\n",
       "       <span style=\"color: #008000; text-decoration-color: #008000\">'go_batet_bma'</span>, <span style=\"color: #008000; text-decoration-color: #008000\">'go_batet_log_max'</span>, <span style=\"color: #008000; text-decoration-color: #008000\">'go_batet_log_avg'</span>,\n",
       "       <span style=\"color: #008000; text-decoration-color: #008000\">'go_batet_log_bma'</span>, <span style=\"color: #008000; text-decoration-color: #008000\">'go_resnik_max'</span>, <span style=\"color: #008000; text-decoration-color: #008000\">'go_resnik_avg'</span>, <span style=\"color: #008000; text-decoration-color: #008000\">'go_resnik_bma'</span>,\n",
       "       <span style=\"color: #008000; text-decoration-color: #008000\">'go_resnik_scaled_max'</span>, <span style=\"color: #008000; text-decoration-color: #008000\">'go_resnik_scaled_avg'</span>, <span style=\"color: #008000; text-decoration-color: #008000\">'go_resnik_scaled_bma'</span>,\n",
       "       <span style=\"color: #008000; text-decoration-color: #008000\">'go_lin_max'</span>, <span style=\"color: #008000; text-decoration-color: #008000\">'go_lin_avg'</span>, <span style=\"color: #008000; text-decoration-color: #008000\">'go_lin_bma'</span>, <span style=\"color: #008000; text-decoration-color: #008000\">'go_jiang_max'</span>,\n",
       "       <span style=\"color: #008000; text-decoration-color: #008000\">'go_jiang_avg'</span>, <span style=\"color: #008000; text-decoration-color: #008000\">'go_jiang_bma'</span>, <span style=\"color: #008000; text-decoration-color: #008000\">'go_jiang_seco_max'</span>,\n",
       "       <span style=\"color: #008000; text-decoration-color: #008000\">'go_jiang_seco_avg'</span>, <span style=\"color: #008000; text-decoration-color: #008000\">'go_jiang_seco_bma'</span>, <span style=\"color: #008000; text-decoration-color: #008000\">'HP_n_common_ancestors_max'</span>,\n",
       "       <span style=\"color: #008000; text-decoration-color: #008000\">'HP_n_common_ancestors_avg'</span>, <span style=\"color: #008000; text-decoration-color: #008000\">'HP_n_common_ancestors_bma'</span>,\n",
       "       <span style=\"color: #008000; text-decoration-color: #008000\">'HP_n_union_ancestors_max'</span>, <span style=\"color: #008000; text-decoration-color: #008000\">'HP_n_union_ancestors_avg'</span>,\n",
       "       <span style=\"color: #008000; text-decoration-color: #008000\">'HP_n_union_ancestors_bma'</span>, <span style=\"color: #008000; text-decoration-color: #008000\">'HP_batet_max'</span>, <span style=\"color: #008000; text-decoration-color: #008000\">'HP_batet_avg'</span>,\n",
       "       <span style=\"color: #008000; text-decoration-color: #008000\">'HP_batet_bma'</span>, <span style=\"color: #008000; text-decoration-color: #008000\">'HP_batet_log_max'</span>, <span style=\"color: #008000; text-decoration-color: #008000\">'HP_batet_log_avg'</span>,\n",
       "       <span style=\"color: #008000; text-decoration-color: #008000\">'HP_batet_log_bma'</span>, <span style=\"color: #008000; text-decoration-color: #008000\">'HP_resnik_max'</span>, <span style=\"color: #008000; text-decoration-color: #008000\">'HP_resnik_avg'</span>, <span style=\"color: #008000; text-decoration-color: #008000\">'HP_resnik_bma'</span>,\n",
       "       <span style=\"color: #008000; text-decoration-color: #008000\">'HP_resnik_scaled_max'</span>, <span style=\"color: #008000; text-decoration-color: #008000\">'HP_resnik_scaled_avg'</span>, <span style=\"color: #008000; text-decoration-color: #008000\">'HP_resnik_scaled_bma'</span>,\n",
       "       <span style=\"color: #008000; text-decoration-color: #008000\">'HP_lin_max'</span>, <span style=\"color: #008000; text-decoration-color: #008000\">'HP_lin_avg'</span>, <span style=\"color: #008000; text-decoration-color: #008000\">'HP_lin_bma'</span>, <span style=\"color: #008000; text-decoration-color: #008000\">'HP_jiang_max'</span>,\n",
       "       <span style=\"color: #008000; text-decoration-color: #008000\">'HP_jiang_avg'</span>, <span style=\"color: #008000; text-decoration-color: #008000\">'HP_jiang_bma'</span>, <span style=\"color: #008000; text-decoration-color: #008000\">'HP_jiang_seco_max'</span>,\n",
       "       <span style=\"color: #008000; text-decoration-color: #008000\">'HP_jiang_seco_avg'</span>, <span style=\"color: #008000; text-decoration-color: #008000\">'HP_jiang_seco_bma'</span><span style=\"font-weight: bold\">]</span>,\n",
       "      <span style=\"color: #808000; text-decoration-color: #808000\">dtype</span>=<span style=\"color: #008000; text-decoration-color: #008000\">'object'</span><span style=\"font-weight: bold\">)</span>\n",
       "</pre>\n"
      ],
      "text/plain": [
       "\u001b[1;35mIndex\u001b[0m\u001b[1m(\u001b[0m\u001b[1m[\u001b[0m\u001b[32m'gene_a'\u001b[0m, \u001b[32m'gene_b'\u001b[0m, \u001b[32m'go_n_common_ancestors_max'\u001b[0m,\n",
       "       \u001b[32m'go_n_common_ancestors_avg'\u001b[0m, \u001b[32m'go_n_common_ancestors_bma'\u001b[0m,\n",
       "       \u001b[32m'go_n_union_ancestors_max'\u001b[0m, \u001b[32m'go_n_union_ancestors_avg'\u001b[0m,\n",
       "       \u001b[32m'go_n_union_ancestors_bma'\u001b[0m, \u001b[32m'go_batet_max'\u001b[0m, \u001b[32m'go_batet_avg'\u001b[0m,\n",
       "       \u001b[32m'go_batet_bma'\u001b[0m, \u001b[32m'go_batet_log_max'\u001b[0m, \u001b[32m'go_batet_log_avg'\u001b[0m,\n",
       "       \u001b[32m'go_batet_log_bma'\u001b[0m, \u001b[32m'go_resnik_max'\u001b[0m, \u001b[32m'go_resnik_avg'\u001b[0m, \u001b[32m'go_resnik_bma'\u001b[0m,\n",
       "       \u001b[32m'go_resnik_scaled_max'\u001b[0m, \u001b[32m'go_resnik_scaled_avg'\u001b[0m, \u001b[32m'go_resnik_scaled_bma'\u001b[0m,\n",
       "       \u001b[32m'go_lin_max'\u001b[0m, \u001b[32m'go_lin_avg'\u001b[0m, \u001b[32m'go_lin_bma'\u001b[0m, \u001b[32m'go_jiang_max'\u001b[0m,\n",
       "       \u001b[32m'go_jiang_avg'\u001b[0m, \u001b[32m'go_jiang_bma'\u001b[0m, \u001b[32m'go_jiang_seco_max'\u001b[0m,\n",
       "       \u001b[32m'go_jiang_seco_avg'\u001b[0m, \u001b[32m'go_jiang_seco_bma'\u001b[0m, \u001b[32m'HP_n_common_ancestors_max'\u001b[0m,\n",
       "       \u001b[32m'HP_n_common_ancestors_avg'\u001b[0m, \u001b[32m'HP_n_common_ancestors_bma'\u001b[0m,\n",
       "       \u001b[32m'HP_n_union_ancestors_max'\u001b[0m, \u001b[32m'HP_n_union_ancestors_avg'\u001b[0m,\n",
       "       \u001b[32m'HP_n_union_ancestors_bma'\u001b[0m, \u001b[32m'HP_batet_max'\u001b[0m, \u001b[32m'HP_batet_avg'\u001b[0m,\n",
       "       \u001b[32m'HP_batet_bma'\u001b[0m, \u001b[32m'HP_batet_log_max'\u001b[0m, \u001b[32m'HP_batet_log_avg'\u001b[0m,\n",
       "       \u001b[32m'HP_batet_log_bma'\u001b[0m, \u001b[32m'HP_resnik_max'\u001b[0m, \u001b[32m'HP_resnik_avg'\u001b[0m, \u001b[32m'HP_resnik_bma'\u001b[0m,\n",
       "       \u001b[32m'HP_resnik_scaled_max'\u001b[0m, \u001b[32m'HP_resnik_scaled_avg'\u001b[0m, \u001b[32m'HP_resnik_scaled_bma'\u001b[0m,\n",
       "       \u001b[32m'HP_lin_max'\u001b[0m, \u001b[32m'HP_lin_avg'\u001b[0m, \u001b[32m'HP_lin_bma'\u001b[0m, \u001b[32m'HP_jiang_max'\u001b[0m,\n",
       "       \u001b[32m'HP_jiang_avg'\u001b[0m, \u001b[32m'HP_jiang_bma'\u001b[0m, \u001b[32m'HP_jiang_seco_max'\u001b[0m,\n",
       "       \u001b[32m'HP_jiang_seco_avg'\u001b[0m, \u001b[32m'HP_jiang_seco_bma'\u001b[0m\u001b[1m]\u001b[0m,\n",
       "      \u001b[33mdtype\u001b[0m=\u001b[32m'object'\u001b[0m\u001b[1m)\u001b[0m\n"
      ]
     },
     "metadata": {},
     "output_type": "display_data"
    },
    {
     "data": {
      "text/html": [
       "<pre style=\"white-space:pre;overflow-x:auto;line-height:normal;font-family:Menlo,'DejaVu Sans Mono',consolas,'Courier New',monospace\"><span style=\"color: #800080; text-decoration-color: #800080; font-weight: bold\">Index</span><span style=\"font-weight: bold\">([</span><span style=\"color: #008000; text-decoration-color: #008000\">'gene_symbol'</span>, <span style=\"color: #008000; text-decoration-color: #008000\">'target_gene_symbol'</span>, <span style=\"color: #008000; text-decoration-color: #008000\">'go_n_common_ancestors_max'</span>,\n",
       "       <span style=\"color: #008000; text-decoration-color: #008000\">'go_n_common_ancestors_avg'</span>, <span style=\"color: #008000; text-decoration-color: #008000\">'go_n_common_ancestors_bma'</span>,\n",
       "       <span style=\"color: #008000; text-decoration-color: #008000\">'go_n_union_ancestors_max'</span>, <span style=\"color: #008000; text-decoration-color: #008000\">'go_n_union_ancestors_avg'</span>,\n",
       "       <span style=\"color: #008000; text-decoration-color: #008000\">'go_n_union_ancestors_bma'</span>, <span style=\"color: #008000; text-decoration-color: #008000\">'go_batet_max'</span>, <span style=\"color: #008000; text-decoration-color: #008000\">'go_batet_avg'</span>,\n",
       "       <span style=\"color: #008000; text-decoration-color: #008000\">'go_batet_bma'</span>, <span style=\"color: #008000; text-decoration-color: #008000\">'go_batet_log_max'</span>, <span style=\"color: #008000; text-decoration-color: #008000\">'go_batet_log_avg'</span>,\n",
       "       <span style=\"color: #008000; text-decoration-color: #008000\">'go_batet_log_bma'</span>, <span style=\"color: #008000; text-decoration-color: #008000\">'go_resnik_max'</span>, <span style=\"color: #008000; text-decoration-color: #008000\">'go_resnik_avg'</span>, <span style=\"color: #008000; text-decoration-color: #008000\">'go_resnik_bma'</span>,\n",
       "       <span style=\"color: #008000; text-decoration-color: #008000\">'go_resnik_scaled_max'</span>, <span style=\"color: #008000; text-decoration-color: #008000\">'go_resnik_scaled_avg'</span>, <span style=\"color: #008000; text-decoration-color: #008000\">'go_resnik_scaled_bma'</span>,\n",
       "       <span style=\"color: #008000; text-decoration-color: #008000\">'go_lin_max'</span>, <span style=\"color: #008000; text-decoration-color: #008000\">'go_lin_avg'</span>, <span style=\"color: #008000; text-decoration-color: #008000\">'go_lin_bma'</span>, <span style=\"color: #008000; text-decoration-color: #008000\">'go_jiang_max'</span>,\n",
       "       <span style=\"color: #008000; text-decoration-color: #008000\">'go_jiang_avg'</span>, <span style=\"color: #008000; text-decoration-color: #008000\">'go_jiang_bma'</span>, <span style=\"color: #008000; text-decoration-color: #008000\">'go_jiang_seco_max'</span>,\n",
       "       <span style=\"color: #008000; text-decoration-color: #008000\">'go_jiang_seco_avg'</span>, <span style=\"color: #008000; text-decoration-color: #008000\">'go_jiang_seco_bma'</span>, <span style=\"color: #008000; text-decoration-color: #008000\">'is_modifier'</span>,\n",
       "       <span style=\"color: #008000; text-decoration-color: #008000\">'PO_n_common_ancestors_max'</span>, <span style=\"color: #008000; text-decoration-color: #008000\">'PO_n_common_ancestors_avg'</span>,\n",
       "       <span style=\"color: #008000; text-decoration-color: #008000\">'PO_n_common_ancestors_bma'</span>, <span style=\"color: #008000; text-decoration-color: #008000\">'PO_n_union_ancestors_max'</span>,\n",
       "       <span style=\"color: #008000; text-decoration-color: #008000\">'PO_n_union_ancestors_avg'</span>, <span style=\"color: #008000; text-decoration-color: #008000\">'PO_n_union_ancestors_bma'</span>, <span style=\"color: #008000; text-decoration-color: #008000\">'PO_batet_max'</span>,\n",
       "       <span style=\"color: #008000; text-decoration-color: #008000\">'PO_batet_avg'</span>, <span style=\"color: #008000; text-decoration-color: #008000\">'PO_batet_bma'</span>, <span style=\"color: #008000; text-decoration-color: #008000\">'PO_batet_log_max'</span>, <span style=\"color: #008000; text-decoration-color: #008000\">'PO_batet_log_avg'</span>,\n",
       "       <span style=\"color: #008000; text-decoration-color: #008000\">'PO_batet_log_bma'</span>, <span style=\"color: #008000; text-decoration-color: #008000\">'PO_resnik_max'</span>, <span style=\"color: #008000; text-decoration-color: #008000\">'PO_resnik_avg'</span>, <span style=\"color: #008000; text-decoration-color: #008000\">'PO_resnik_bma'</span>,\n",
       "       <span style=\"color: #008000; text-decoration-color: #008000\">'PO_resnik_scaled_max'</span>, <span style=\"color: #008000; text-decoration-color: #008000\">'PO_resnik_scaled_avg'</span>, <span style=\"color: #008000; text-decoration-color: #008000\">'PO_resnik_scaled_bma'</span>,\n",
       "       <span style=\"color: #008000; text-decoration-color: #008000\">'PO_lin_max'</span>, <span style=\"color: #008000; text-decoration-color: #008000\">'PO_lin_avg'</span>, <span style=\"color: #008000; text-decoration-color: #008000\">'PO_lin_bma'</span>, <span style=\"color: #008000; text-decoration-color: #008000\">'PO_jiang_max'</span>,\n",
       "       <span style=\"color: #008000; text-decoration-color: #008000\">'PO_jiang_avg'</span>, <span style=\"color: #008000; text-decoration-color: #008000\">'PO_jiang_bma'</span>, <span style=\"color: #008000; text-decoration-color: #008000\">'PO_jiang_seco_max'</span>,\n",
       "       <span style=\"color: #008000; text-decoration-color: #008000\">'PO_jiang_seco_avg'</span>, <span style=\"color: #008000; text-decoration-color: #008000\">'PO_jiang_seco_bma'</span><span style=\"font-weight: bold\">]</span>,\n",
       "      <span style=\"color: #808000; text-decoration-color: #808000\">dtype</span>=<span style=\"color: #008000; text-decoration-color: #008000\">'object'</span><span style=\"font-weight: bold\">)</span>\n",
       "</pre>\n"
      ],
      "text/plain": [
       "\u001b[1;35mIndex\u001b[0m\u001b[1m(\u001b[0m\u001b[1m[\u001b[0m\u001b[32m'gene_symbol'\u001b[0m, \u001b[32m'target_gene_symbol'\u001b[0m, \u001b[32m'go_n_common_ancestors_max'\u001b[0m,\n",
       "       \u001b[32m'go_n_common_ancestors_avg'\u001b[0m, \u001b[32m'go_n_common_ancestors_bma'\u001b[0m,\n",
       "       \u001b[32m'go_n_union_ancestors_max'\u001b[0m, \u001b[32m'go_n_union_ancestors_avg'\u001b[0m,\n",
       "       \u001b[32m'go_n_union_ancestors_bma'\u001b[0m, \u001b[32m'go_batet_max'\u001b[0m, \u001b[32m'go_batet_avg'\u001b[0m,\n",
       "       \u001b[32m'go_batet_bma'\u001b[0m, \u001b[32m'go_batet_log_max'\u001b[0m, \u001b[32m'go_batet_log_avg'\u001b[0m,\n",
       "       \u001b[32m'go_batet_log_bma'\u001b[0m, \u001b[32m'go_resnik_max'\u001b[0m, \u001b[32m'go_resnik_avg'\u001b[0m, \u001b[32m'go_resnik_bma'\u001b[0m,\n",
       "       \u001b[32m'go_resnik_scaled_max'\u001b[0m, \u001b[32m'go_resnik_scaled_avg'\u001b[0m, \u001b[32m'go_resnik_scaled_bma'\u001b[0m,\n",
       "       \u001b[32m'go_lin_max'\u001b[0m, \u001b[32m'go_lin_avg'\u001b[0m, \u001b[32m'go_lin_bma'\u001b[0m, \u001b[32m'go_jiang_max'\u001b[0m,\n",
       "       \u001b[32m'go_jiang_avg'\u001b[0m, \u001b[32m'go_jiang_bma'\u001b[0m, \u001b[32m'go_jiang_seco_max'\u001b[0m,\n",
       "       \u001b[32m'go_jiang_seco_avg'\u001b[0m, \u001b[32m'go_jiang_seco_bma'\u001b[0m, \u001b[32m'is_modifier'\u001b[0m,\n",
       "       \u001b[32m'PO_n_common_ancestors_max'\u001b[0m, \u001b[32m'PO_n_common_ancestors_avg'\u001b[0m,\n",
       "       \u001b[32m'PO_n_common_ancestors_bma'\u001b[0m, \u001b[32m'PO_n_union_ancestors_max'\u001b[0m,\n",
       "       \u001b[32m'PO_n_union_ancestors_avg'\u001b[0m, \u001b[32m'PO_n_union_ancestors_bma'\u001b[0m, \u001b[32m'PO_batet_max'\u001b[0m,\n",
       "       \u001b[32m'PO_batet_avg'\u001b[0m, \u001b[32m'PO_batet_bma'\u001b[0m, \u001b[32m'PO_batet_log_max'\u001b[0m, \u001b[32m'PO_batet_log_avg'\u001b[0m,\n",
       "       \u001b[32m'PO_batet_log_bma'\u001b[0m, \u001b[32m'PO_resnik_max'\u001b[0m, \u001b[32m'PO_resnik_avg'\u001b[0m, \u001b[32m'PO_resnik_bma'\u001b[0m,\n",
       "       \u001b[32m'PO_resnik_scaled_max'\u001b[0m, \u001b[32m'PO_resnik_scaled_avg'\u001b[0m, \u001b[32m'PO_resnik_scaled_bma'\u001b[0m,\n",
       "       \u001b[32m'PO_lin_max'\u001b[0m, \u001b[32m'PO_lin_avg'\u001b[0m, \u001b[32m'PO_lin_bma'\u001b[0m, \u001b[32m'PO_jiang_max'\u001b[0m,\n",
       "       \u001b[32m'PO_jiang_avg'\u001b[0m, \u001b[32m'PO_jiang_bma'\u001b[0m, \u001b[32m'PO_jiang_seco_max'\u001b[0m,\n",
       "       \u001b[32m'PO_jiang_seco_avg'\u001b[0m, \u001b[32m'PO_jiang_seco_bma'\u001b[0m\u001b[1m]\u001b[0m,\n",
       "      \u001b[33mdtype\u001b[0m=\u001b[32m'object'\u001b[0m\u001b[1m)\u001b[0m\n"
      ]
     },
     "metadata": {},
     "output_type": "display_data"
    }
   ],
   "source": [
    "print(_jvl.columns)\n",
    "print(_olida.columns)\n",
    "print(_mtg.columns)"
   ]
  },
  {
   "cell_type": "markdown",
   "id": "2e4d1633",
   "metadata": {},
   "source": [
    "Looks like there is difference in the column names. i.e. PO and HP are used for phenotype"
   ]
  },
  {
   "cell_type": "code",
   "execution_count": 13,
   "id": "5f045025",
   "metadata": {},
   "outputs": [
    {
     "data": {
      "text/html": [
       "<pre style=\"white-space:pre;overflow-x:auto;line-height:normal;font-family:Menlo,'DejaVu Sans Mono',consolas,'Courier New',monospace\"><span style=\"color: #800080; text-decoration-color: #800080; font-weight: bold\">Index</span><span style=\"font-weight: bold\">([</span><span style=\"color: #008000; text-decoration-color: #008000\">'target_gene_symbol'</span>, <span style=\"color: #008000; text-decoration-color: #008000\">'modifier_gene_symbol'</span>,\n",
       "       <span style=\"color: #008000; text-decoration-color: #008000\">'go_n_common_ancestors_max'</span>, <span style=\"color: #008000; text-decoration-color: #008000\">'go_n_common_ancestors_avg'</span>,\n",
       "       <span style=\"color: #008000; text-decoration-color: #008000\">'go_n_common_ancestors_bma'</span>, <span style=\"color: #008000; text-decoration-color: #008000\">'go_n_union_ancestors_max'</span>,\n",
       "       <span style=\"color: #008000; text-decoration-color: #008000\">'go_n_union_ancestors_avg'</span>, <span style=\"color: #008000; text-decoration-color: #008000\">'go_n_union_ancestors_bma'</span>, <span style=\"color: #008000; text-decoration-color: #008000\">'go_batet_max'</span>,\n",
       "       <span style=\"color: #008000; text-decoration-color: #008000\">'go_batet_avg'</span>, <span style=\"color: #008000; text-decoration-color: #008000\">'go_batet_bma'</span>, <span style=\"color: #008000; text-decoration-color: #008000\">'go_batet_log_max'</span>, <span style=\"color: #008000; text-decoration-color: #008000\">'go_batet_log_avg'</span>,\n",
       "       <span style=\"color: #008000; text-decoration-color: #008000\">'go_batet_log_bma'</span>, <span style=\"color: #008000; text-decoration-color: #008000\">'go_resnik_max'</span>, <span style=\"color: #008000; text-decoration-color: #008000\">'go_resnik_avg'</span>, <span style=\"color: #008000; text-decoration-color: #008000\">'go_resnik_bma'</span>,\n",
       "       <span style=\"color: #008000; text-decoration-color: #008000\">'go_resnik_scaled_max'</span>, <span style=\"color: #008000; text-decoration-color: #008000\">'go_resnik_scaled_avg'</span>, <span style=\"color: #008000; text-decoration-color: #008000\">'go_resnik_scaled_bma'</span>,\n",
       "       <span style=\"color: #008000; text-decoration-color: #008000\">'go_lin_max'</span>, <span style=\"color: #008000; text-decoration-color: #008000\">'go_lin_avg'</span>, <span style=\"color: #008000; text-decoration-color: #008000\">'go_lin_bma'</span>, <span style=\"color: #008000; text-decoration-color: #008000\">'go_jiang_max'</span>,\n",
       "       <span style=\"color: #008000; text-decoration-color: #008000\">'go_jiang_avg'</span>, <span style=\"color: #008000; text-decoration-color: #008000\">'go_jiang_bma'</span>, <span style=\"color: #008000; text-decoration-color: #008000\">'go_jiang_seco_max'</span>,\n",
       "       <span style=\"color: #008000; text-decoration-color: #008000\">'go_jiang_seco_avg'</span>, <span style=\"color: #008000; text-decoration-color: #008000\">'go_jiang_seco_bma'</span>,\n",
       "       <span style=\"color: #008000; text-decoration-color: #008000\">'pheno_n_common_ancestors_max'</span>, <span style=\"color: #008000; text-decoration-color: #008000\">'pheno_n_common_ancestors_avg'</span>,\n",
       "       <span style=\"color: #008000; text-decoration-color: #008000\">'pheno_n_common_ancestors_bma'</span>, <span style=\"color: #008000; text-decoration-color: #008000\">'pheno_n_union_ancestors_max'</span>,\n",
       "       <span style=\"color: #008000; text-decoration-color: #008000\">'pheno_n_union_ancestors_avg'</span>, <span style=\"color: #008000; text-decoration-color: #008000\">'pheno_n_union_ancestors_bma'</span>,\n",
       "       <span style=\"color: #008000; text-decoration-color: #008000\">'pheno_batet_max'</span>, <span style=\"color: #008000; text-decoration-color: #008000\">'pheno_batet_avg'</span>, <span style=\"color: #008000; text-decoration-color: #008000\">'pheno_batet_bma'</span>,\n",
       "       <span style=\"color: #008000; text-decoration-color: #008000\">'pheno_batet_log_max'</span>, <span style=\"color: #008000; text-decoration-color: #008000\">'pheno_batet_log_avg'</span>, <span style=\"color: #008000; text-decoration-color: #008000\">'pheno_batet_log_bma'</span>,\n",
       "       <span style=\"color: #008000; text-decoration-color: #008000\">'pheno_resnik_max'</span>, <span style=\"color: #008000; text-decoration-color: #008000\">'pheno_resnik_avg'</span>, <span style=\"color: #008000; text-decoration-color: #008000\">'pheno_resnik_bma'</span>,\n",
       "       <span style=\"color: #008000; text-decoration-color: #008000\">'pheno_resnik_scaled_max'</span>, <span style=\"color: #008000; text-decoration-color: #008000\">'pheno_resnik_scaled_avg'</span>,\n",
       "       <span style=\"color: #008000; text-decoration-color: #008000\">'pheno_resnik_scaled_bma'</span>, <span style=\"color: #008000; text-decoration-color: #008000\">'pheno_lin_max'</span>, <span style=\"color: #008000; text-decoration-color: #008000\">'pheno_lin_avg'</span>,\n",
       "       <span style=\"color: #008000; text-decoration-color: #008000\">'pheno_lin_bma'</span>, <span style=\"color: #008000; text-decoration-color: #008000\">'pheno_jiang_max'</span>, <span style=\"color: #008000; text-decoration-color: #008000\">'pheno_jiang_avg'</span>,\n",
       "       <span style=\"color: #008000; text-decoration-color: #008000\">'pheno_jiang_bma'</span>, <span style=\"color: #008000; text-decoration-color: #008000\">'pheno_jiang_seco_max'</span>, <span style=\"color: #008000; text-decoration-color: #008000\">'pheno_jiang_seco_avg'</span>,\n",
       "       <span style=\"color: #008000; text-decoration-color: #008000\">'pheno_jiang_seco_bma'</span><span style=\"font-weight: bold\">]</span>,\n",
       "      <span style=\"color: #808000; text-decoration-color: #808000\">dtype</span>=<span style=\"color: #008000; text-decoration-color: #008000\">'object'</span><span style=\"font-weight: bold\">)</span>\n",
       "</pre>\n"
      ],
      "text/plain": [
       "\u001b[1;35mIndex\u001b[0m\u001b[1m(\u001b[0m\u001b[1m[\u001b[0m\u001b[32m'target_gene_symbol'\u001b[0m, \u001b[32m'modifier_gene_symbol'\u001b[0m,\n",
       "       \u001b[32m'go_n_common_ancestors_max'\u001b[0m, \u001b[32m'go_n_common_ancestors_avg'\u001b[0m,\n",
       "       \u001b[32m'go_n_common_ancestors_bma'\u001b[0m, \u001b[32m'go_n_union_ancestors_max'\u001b[0m,\n",
       "       \u001b[32m'go_n_union_ancestors_avg'\u001b[0m, \u001b[32m'go_n_union_ancestors_bma'\u001b[0m, \u001b[32m'go_batet_max'\u001b[0m,\n",
       "       \u001b[32m'go_batet_avg'\u001b[0m, \u001b[32m'go_batet_bma'\u001b[0m, \u001b[32m'go_batet_log_max'\u001b[0m, \u001b[32m'go_batet_log_avg'\u001b[0m,\n",
       "       \u001b[32m'go_batet_log_bma'\u001b[0m, \u001b[32m'go_resnik_max'\u001b[0m, \u001b[32m'go_resnik_avg'\u001b[0m, \u001b[32m'go_resnik_bma'\u001b[0m,\n",
       "       \u001b[32m'go_resnik_scaled_max'\u001b[0m, \u001b[32m'go_resnik_scaled_avg'\u001b[0m, \u001b[32m'go_resnik_scaled_bma'\u001b[0m,\n",
       "       \u001b[32m'go_lin_max'\u001b[0m, \u001b[32m'go_lin_avg'\u001b[0m, \u001b[32m'go_lin_bma'\u001b[0m, \u001b[32m'go_jiang_max'\u001b[0m,\n",
       "       \u001b[32m'go_jiang_avg'\u001b[0m, \u001b[32m'go_jiang_bma'\u001b[0m, \u001b[32m'go_jiang_seco_max'\u001b[0m,\n",
       "       \u001b[32m'go_jiang_seco_avg'\u001b[0m, \u001b[32m'go_jiang_seco_bma'\u001b[0m,\n",
       "       \u001b[32m'pheno_n_common_ancestors_max'\u001b[0m, \u001b[32m'pheno_n_common_ancestors_avg'\u001b[0m,\n",
       "       \u001b[32m'pheno_n_common_ancestors_bma'\u001b[0m, \u001b[32m'pheno_n_union_ancestors_max'\u001b[0m,\n",
       "       \u001b[32m'pheno_n_union_ancestors_avg'\u001b[0m, \u001b[32m'pheno_n_union_ancestors_bma'\u001b[0m,\n",
       "       \u001b[32m'pheno_batet_max'\u001b[0m, \u001b[32m'pheno_batet_avg'\u001b[0m, \u001b[32m'pheno_batet_bma'\u001b[0m,\n",
       "       \u001b[32m'pheno_batet_log_max'\u001b[0m, \u001b[32m'pheno_batet_log_avg'\u001b[0m, \u001b[32m'pheno_batet_log_bma'\u001b[0m,\n",
       "       \u001b[32m'pheno_resnik_max'\u001b[0m, \u001b[32m'pheno_resnik_avg'\u001b[0m, \u001b[32m'pheno_resnik_bma'\u001b[0m,\n",
       "       \u001b[32m'pheno_resnik_scaled_max'\u001b[0m, \u001b[32m'pheno_resnik_scaled_avg'\u001b[0m,\n",
       "       \u001b[32m'pheno_resnik_scaled_bma'\u001b[0m, \u001b[32m'pheno_lin_max'\u001b[0m, \u001b[32m'pheno_lin_avg'\u001b[0m,\n",
       "       \u001b[32m'pheno_lin_bma'\u001b[0m, \u001b[32m'pheno_jiang_max'\u001b[0m, \u001b[32m'pheno_jiang_avg'\u001b[0m,\n",
       "       \u001b[32m'pheno_jiang_bma'\u001b[0m, \u001b[32m'pheno_jiang_seco_max'\u001b[0m, \u001b[32m'pheno_jiang_seco_avg'\u001b[0m,\n",
       "       \u001b[32m'pheno_jiang_seco_bma'\u001b[0m\u001b[1m]\u001b[0m,\n",
       "      \u001b[33mdtype\u001b[0m=\u001b[32m'object'\u001b[0m\u001b[1m)\u001b[0m\n"
      ]
     },
     "metadata": {},
     "output_type": "display_data"
    },
    {
     "data": {
      "text/html": [
       "<pre style=\"white-space:pre;overflow-x:auto;line-height:normal;font-family:Menlo,'DejaVu Sans Mono',consolas,'Courier New',monospace\"><span style=\"color: #800080; text-decoration-color: #800080; font-weight: bold\">Index</span><span style=\"font-weight: bold\">([</span><span style=\"color: #008000; text-decoration-color: #008000\">'modifier_gene_symbol'</span>, <span style=\"color: #008000; text-decoration-color: #008000\">'target_gene_symbol'</span>,\n",
       "       <span style=\"color: #008000; text-decoration-color: #008000\">'go_n_common_ancestors_max'</span>, <span style=\"color: #008000; text-decoration-color: #008000\">'go_n_common_ancestors_avg'</span>,\n",
       "       <span style=\"color: #008000; text-decoration-color: #008000\">'go_n_common_ancestors_bma'</span>, <span style=\"color: #008000; text-decoration-color: #008000\">'go_n_union_ancestors_max'</span>,\n",
       "       <span style=\"color: #008000; text-decoration-color: #008000\">'go_n_union_ancestors_avg'</span>, <span style=\"color: #008000; text-decoration-color: #008000\">'go_n_union_ancestors_bma'</span>, <span style=\"color: #008000; text-decoration-color: #008000\">'go_batet_max'</span>,\n",
       "       <span style=\"color: #008000; text-decoration-color: #008000\">'go_batet_avg'</span>, <span style=\"color: #008000; text-decoration-color: #008000\">'go_batet_bma'</span>, <span style=\"color: #008000; text-decoration-color: #008000\">'go_batet_log_max'</span>, <span style=\"color: #008000; text-decoration-color: #008000\">'go_batet_log_avg'</span>,\n",
       "       <span style=\"color: #008000; text-decoration-color: #008000\">'go_batet_log_bma'</span>, <span style=\"color: #008000; text-decoration-color: #008000\">'go_resnik_max'</span>, <span style=\"color: #008000; text-decoration-color: #008000\">'go_resnik_avg'</span>, <span style=\"color: #008000; text-decoration-color: #008000\">'go_resnik_bma'</span>,\n",
       "       <span style=\"color: #008000; text-decoration-color: #008000\">'go_resnik_scaled_max'</span>, <span style=\"color: #008000; text-decoration-color: #008000\">'go_resnik_scaled_avg'</span>, <span style=\"color: #008000; text-decoration-color: #008000\">'go_resnik_scaled_bma'</span>,\n",
       "       <span style=\"color: #008000; text-decoration-color: #008000\">'go_lin_max'</span>, <span style=\"color: #008000; text-decoration-color: #008000\">'go_lin_avg'</span>, <span style=\"color: #008000; text-decoration-color: #008000\">'go_lin_bma'</span>, <span style=\"color: #008000; text-decoration-color: #008000\">'go_jiang_max'</span>,\n",
       "       <span style=\"color: #008000; text-decoration-color: #008000\">'go_jiang_avg'</span>, <span style=\"color: #008000; text-decoration-color: #008000\">'go_jiang_bma'</span>, <span style=\"color: #008000; text-decoration-color: #008000\">'go_jiang_seco_max'</span>,\n",
       "       <span style=\"color: #008000; text-decoration-color: #008000\">'go_jiang_seco_avg'</span>, <span style=\"color: #008000; text-decoration-color: #008000\">'go_jiang_seco_bma'</span>,\n",
       "       <span style=\"color: #008000; text-decoration-color: #008000\">'pheno_n_common_ancestors_max'</span>, <span style=\"color: #008000; text-decoration-color: #008000\">'pheno_n_common_ancestors_avg'</span>,\n",
       "       <span style=\"color: #008000; text-decoration-color: #008000\">'pheno_n_common_ancestors_bma'</span>, <span style=\"color: #008000; text-decoration-color: #008000\">'pheno_n_union_ancestors_max'</span>,\n",
       "       <span style=\"color: #008000; text-decoration-color: #008000\">'pheno_n_union_ancestors_avg'</span>, <span style=\"color: #008000; text-decoration-color: #008000\">'pheno_n_union_ancestors_bma'</span>,\n",
       "       <span style=\"color: #008000; text-decoration-color: #008000\">'pheno_batet_max'</span>, <span style=\"color: #008000; text-decoration-color: #008000\">'pheno_batet_avg'</span>, <span style=\"color: #008000; text-decoration-color: #008000\">'pheno_batet_bma'</span>,\n",
       "       <span style=\"color: #008000; text-decoration-color: #008000\">'pheno_batet_log_max'</span>, <span style=\"color: #008000; text-decoration-color: #008000\">'pheno_batet_log_avg'</span>, <span style=\"color: #008000; text-decoration-color: #008000\">'pheno_batet_log_bma'</span>,\n",
       "       <span style=\"color: #008000; text-decoration-color: #008000\">'pheno_resnik_max'</span>, <span style=\"color: #008000; text-decoration-color: #008000\">'pheno_resnik_avg'</span>, <span style=\"color: #008000; text-decoration-color: #008000\">'pheno_resnik_bma'</span>,\n",
       "       <span style=\"color: #008000; text-decoration-color: #008000\">'pheno_resnik_scaled_max'</span>, <span style=\"color: #008000; text-decoration-color: #008000\">'pheno_resnik_scaled_avg'</span>,\n",
       "       <span style=\"color: #008000; text-decoration-color: #008000\">'pheno_resnik_scaled_bma'</span>, <span style=\"color: #008000; text-decoration-color: #008000\">'pheno_lin_max'</span>, <span style=\"color: #008000; text-decoration-color: #008000\">'pheno_lin_avg'</span>,\n",
       "       <span style=\"color: #008000; text-decoration-color: #008000\">'pheno_lin_bma'</span>, <span style=\"color: #008000; text-decoration-color: #008000\">'pheno_jiang_max'</span>, <span style=\"color: #008000; text-decoration-color: #008000\">'pheno_jiang_avg'</span>,\n",
       "       <span style=\"color: #008000; text-decoration-color: #008000\">'pheno_jiang_bma'</span>, <span style=\"color: #008000; text-decoration-color: #008000\">'pheno_jiang_seco_max'</span>, <span style=\"color: #008000; text-decoration-color: #008000\">'pheno_jiang_seco_avg'</span>,\n",
       "       <span style=\"color: #008000; text-decoration-color: #008000\">'pheno_jiang_seco_bma'</span><span style=\"font-weight: bold\">]</span>,\n",
       "      <span style=\"color: #808000; text-decoration-color: #808000\">dtype</span>=<span style=\"color: #008000; text-decoration-color: #008000\">'object'</span><span style=\"font-weight: bold\">)</span>\n",
       "</pre>\n"
      ],
      "text/plain": [
       "\u001b[1;35mIndex\u001b[0m\u001b[1m(\u001b[0m\u001b[1m[\u001b[0m\u001b[32m'modifier_gene_symbol'\u001b[0m, \u001b[32m'target_gene_symbol'\u001b[0m,\n",
       "       \u001b[32m'go_n_common_ancestors_max'\u001b[0m, \u001b[32m'go_n_common_ancestors_avg'\u001b[0m,\n",
       "       \u001b[32m'go_n_common_ancestors_bma'\u001b[0m, \u001b[32m'go_n_union_ancestors_max'\u001b[0m,\n",
       "       \u001b[32m'go_n_union_ancestors_avg'\u001b[0m, \u001b[32m'go_n_union_ancestors_bma'\u001b[0m, \u001b[32m'go_batet_max'\u001b[0m,\n",
       "       \u001b[32m'go_batet_avg'\u001b[0m, \u001b[32m'go_batet_bma'\u001b[0m, \u001b[32m'go_batet_log_max'\u001b[0m, \u001b[32m'go_batet_log_avg'\u001b[0m,\n",
       "       \u001b[32m'go_batet_log_bma'\u001b[0m, \u001b[32m'go_resnik_max'\u001b[0m, \u001b[32m'go_resnik_avg'\u001b[0m, \u001b[32m'go_resnik_bma'\u001b[0m,\n",
       "       \u001b[32m'go_resnik_scaled_max'\u001b[0m, \u001b[32m'go_resnik_scaled_avg'\u001b[0m, \u001b[32m'go_resnik_scaled_bma'\u001b[0m,\n",
       "       \u001b[32m'go_lin_max'\u001b[0m, \u001b[32m'go_lin_avg'\u001b[0m, \u001b[32m'go_lin_bma'\u001b[0m, \u001b[32m'go_jiang_max'\u001b[0m,\n",
       "       \u001b[32m'go_jiang_avg'\u001b[0m, \u001b[32m'go_jiang_bma'\u001b[0m, \u001b[32m'go_jiang_seco_max'\u001b[0m,\n",
       "       \u001b[32m'go_jiang_seco_avg'\u001b[0m, \u001b[32m'go_jiang_seco_bma'\u001b[0m,\n",
       "       \u001b[32m'pheno_n_common_ancestors_max'\u001b[0m, \u001b[32m'pheno_n_common_ancestors_avg'\u001b[0m,\n",
       "       \u001b[32m'pheno_n_common_ancestors_bma'\u001b[0m, \u001b[32m'pheno_n_union_ancestors_max'\u001b[0m,\n",
       "       \u001b[32m'pheno_n_union_ancestors_avg'\u001b[0m, \u001b[32m'pheno_n_union_ancestors_bma'\u001b[0m,\n",
       "       \u001b[32m'pheno_batet_max'\u001b[0m, \u001b[32m'pheno_batet_avg'\u001b[0m, \u001b[32m'pheno_batet_bma'\u001b[0m,\n",
       "       \u001b[32m'pheno_batet_log_max'\u001b[0m, \u001b[32m'pheno_batet_log_avg'\u001b[0m, \u001b[32m'pheno_batet_log_bma'\u001b[0m,\n",
       "       \u001b[32m'pheno_resnik_max'\u001b[0m, \u001b[32m'pheno_resnik_avg'\u001b[0m, \u001b[32m'pheno_resnik_bma'\u001b[0m,\n",
       "       \u001b[32m'pheno_resnik_scaled_max'\u001b[0m, \u001b[32m'pheno_resnik_scaled_avg'\u001b[0m,\n",
       "       \u001b[32m'pheno_resnik_scaled_bma'\u001b[0m, \u001b[32m'pheno_lin_max'\u001b[0m, \u001b[32m'pheno_lin_avg'\u001b[0m,\n",
       "       \u001b[32m'pheno_lin_bma'\u001b[0m, \u001b[32m'pheno_jiang_max'\u001b[0m, \u001b[32m'pheno_jiang_avg'\u001b[0m,\n",
       "       \u001b[32m'pheno_jiang_bma'\u001b[0m, \u001b[32m'pheno_jiang_seco_max'\u001b[0m, \u001b[32m'pheno_jiang_seco_avg'\u001b[0m,\n",
       "       \u001b[32m'pheno_jiang_seco_bma'\u001b[0m\u001b[1m]\u001b[0m,\n",
       "      \u001b[33mdtype\u001b[0m=\u001b[32m'object'\u001b[0m\u001b[1m)\u001b[0m\n"
      ]
     },
     "metadata": {},
     "output_type": "display_data"
    },
    {
     "data": {
      "text/html": [
       "<pre style=\"white-space:pre;overflow-x:auto;line-height:normal;font-family:Menlo,'DejaVu Sans Mono',consolas,'Courier New',monospace\"><span style=\"color: #800080; text-decoration-color: #800080; font-weight: bold\">Index</span><span style=\"font-weight: bold\">([</span><span style=\"color: #008000; text-decoration-color: #008000\">'modifier_gene_symbol'</span>, <span style=\"color: #008000; text-decoration-color: #008000\">'target_gene_symbol'</span>,\n",
       "       <span style=\"color: #008000; text-decoration-color: #008000\">'go_n_common_ancestors_max'</span>, <span style=\"color: #008000; text-decoration-color: #008000\">'go_n_common_ancestors_avg'</span>,\n",
       "       <span style=\"color: #008000; text-decoration-color: #008000\">'go_n_common_ancestors_bma'</span>, <span style=\"color: #008000; text-decoration-color: #008000\">'go_n_union_ancestors_max'</span>,\n",
       "       <span style=\"color: #008000; text-decoration-color: #008000\">'go_n_union_ancestors_avg'</span>, <span style=\"color: #008000; text-decoration-color: #008000\">'go_n_union_ancestors_bma'</span>, <span style=\"color: #008000; text-decoration-color: #008000\">'go_batet_max'</span>,\n",
       "       <span style=\"color: #008000; text-decoration-color: #008000\">'go_batet_avg'</span>, <span style=\"color: #008000; text-decoration-color: #008000\">'go_batet_bma'</span>, <span style=\"color: #008000; text-decoration-color: #008000\">'go_batet_log_max'</span>, <span style=\"color: #008000; text-decoration-color: #008000\">'go_batet_log_avg'</span>,\n",
       "       <span style=\"color: #008000; text-decoration-color: #008000\">'go_batet_log_bma'</span>, <span style=\"color: #008000; text-decoration-color: #008000\">'go_resnik_max'</span>, <span style=\"color: #008000; text-decoration-color: #008000\">'go_resnik_avg'</span>, <span style=\"color: #008000; text-decoration-color: #008000\">'go_resnik_bma'</span>,\n",
       "       <span style=\"color: #008000; text-decoration-color: #008000\">'go_resnik_scaled_max'</span>, <span style=\"color: #008000; text-decoration-color: #008000\">'go_resnik_scaled_avg'</span>, <span style=\"color: #008000; text-decoration-color: #008000\">'go_resnik_scaled_bma'</span>,\n",
       "       <span style=\"color: #008000; text-decoration-color: #008000\">'go_lin_max'</span>, <span style=\"color: #008000; text-decoration-color: #008000\">'go_lin_avg'</span>, <span style=\"color: #008000; text-decoration-color: #008000\">'go_lin_bma'</span>, <span style=\"color: #008000; text-decoration-color: #008000\">'go_jiang_max'</span>,\n",
       "       <span style=\"color: #008000; text-decoration-color: #008000\">'go_jiang_avg'</span>, <span style=\"color: #008000; text-decoration-color: #008000\">'go_jiang_bma'</span>, <span style=\"color: #008000; text-decoration-color: #008000\">'go_jiang_seco_max'</span>,\n",
       "       <span style=\"color: #008000; text-decoration-color: #008000\">'go_jiang_seco_avg'</span>, <span style=\"color: #008000; text-decoration-color: #008000\">'go_jiang_seco_bma'</span>, <span style=\"color: #008000; text-decoration-color: #008000\">'is_modifier'</span>,\n",
       "       <span style=\"color: #008000; text-decoration-color: #008000\">'pheno_n_common_ancestors_max'</span>, <span style=\"color: #008000; text-decoration-color: #008000\">'pheno_n_common_ancestors_avg'</span>,\n",
       "       <span style=\"color: #008000; text-decoration-color: #008000\">'pheno_n_common_ancestors_bma'</span>, <span style=\"color: #008000; text-decoration-color: #008000\">'pheno_n_union_ancestors_max'</span>,\n",
       "       <span style=\"color: #008000; text-decoration-color: #008000\">'pheno_n_union_ancestors_avg'</span>, <span style=\"color: #008000; text-decoration-color: #008000\">'pheno_n_union_ancestors_bma'</span>,\n",
       "       <span style=\"color: #008000; text-decoration-color: #008000\">'pheno_batet_max'</span>, <span style=\"color: #008000; text-decoration-color: #008000\">'pheno_batet_avg'</span>, <span style=\"color: #008000; text-decoration-color: #008000\">'pheno_batet_bma'</span>,\n",
       "       <span style=\"color: #008000; text-decoration-color: #008000\">'pheno_batet_log_max'</span>, <span style=\"color: #008000; text-decoration-color: #008000\">'pheno_batet_log_avg'</span>, <span style=\"color: #008000; text-decoration-color: #008000\">'pheno_batet_log_bma'</span>,\n",
       "       <span style=\"color: #008000; text-decoration-color: #008000\">'pheno_resnik_max'</span>, <span style=\"color: #008000; text-decoration-color: #008000\">'pheno_resnik_avg'</span>, <span style=\"color: #008000; text-decoration-color: #008000\">'pheno_resnik_bma'</span>,\n",
       "       <span style=\"color: #008000; text-decoration-color: #008000\">'pheno_resnik_scaled_max'</span>, <span style=\"color: #008000; text-decoration-color: #008000\">'pheno_resnik_scaled_avg'</span>,\n",
       "       <span style=\"color: #008000; text-decoration-color: #008000\">'pheno_resnik_scaled_bma'</span>, <span style=\"color: #008000; text-decoration-color: #008000\">'pheno_lin_max'</span>, <span style=\"color: #008000; text-decoration-color: #008000\">'pheno_lin_avg'</span>,\n",
       "       <span style=\"color: #008000; text-decoration-color: #008000\">'pheno_lin_bma'</span>, <span style=\"color: #008000; text-decoration-color: #008000\">'pheno_jiang_max'</span>, <span style=\"color: #008000; text-decoration-color: #008000\">'pheno_jiang_avg'</span>,\n",
       "       <span style=\"color: #008000; text-decoration-color: #008000\">'pheno_jiang_bma'</span>, <span style=\"color: #008000; text-decoration-color: #008000\">'pheno_jiang_seco_max'</span>, <span style=\"color: #008000; text-decoration-color: #008000\">'pheno_jiang_seco_avg'</span>,\n",
       "       <span style=\"color: #008000; text-decoration-color: #008000\">'pheno_jiang_seco_bma'</span><span style=\"font-weight: bold\">]</span>,\n",
       "      <span style=\"color: #808000; text-decoration-color: #808000\">dtype</span>=<span style=\"color: #008000; text-decoration-color: #008000\">'object'</span><span style=\"font-weight: bold\">)</span>\n",
       "</pre>\n"
      ],
      "text/plain": [
       "\u001b[1;35mIndex\u001b[0m\u001b[1m(\u001b[0m\u001b[1m[\u001b[0m\u001b[32m'modifier_gene_symbol'\u001b[0m, \u001b[32m'target_gene_symbol'\u001b[0m,\n",
       "       \u001b[32m'go_n_common_ancestors_max'\u001b[0m, \u001b[32m'go_n_common_ancestors_avg'\u001b[0m,\n",
       "       \u001b[32m'go_n_common_ancestors_bma'\u001b[0m, \u001b[32m'go_n_union_ancestors_max'\u001b[0m,\n",
       "       \u001b[32m'go_n_union_ancestors_avg'\u001b[0m, \u001b[32m'go_n_union_ancestors_bma'\u001b[0m, \u001b[32m'go_batet_max'\u001b[0m,\n",
       "       \u001b[32m'go_batet_avg'\u001b[0m, \u001b[32m'go_batet_bma'\u001b[0m, \u001b[32m'go_batet_log_max'\u001b[0m, \u001b[32m'go_batet_log_avg'\u001b[0m,\n",
       "       \u001b[32m'go_batet_log_bma'\u001b[0m, \u001b[32m'go_resnik_max'\u001b[0m, \u001b[32m'go_resnik_avg'\u001b[0m, \u001b[32m'go_resnik_bma'\u001b[0m,\n",
       "       \u001b[32m'go_resnik_scaled_max'\u001b[0m, \u001b[32m'go_resnik_scaled_avg'\u001b[0m, \u001b[32m'go_resnik_scaled_bma'\u001b[0m,\n",
       "       \u001b[32m'go_lin_max'\u001b[0m, \u001b[32m'go_lin_avg'\u001b[0m, \u001b[32m'go_lin_bma'\u001b[0m, \u001b[32m'go_jiang_max'\u001b[0m,\n",
       "       \u001b[32m'go_jiang_avg'\u001b[0m, \u001b[32m'go_jiang_bma'\u001b[0m, \u001b[32m'go_jiang_seco_max'\u001b[0m,\n",
       "       \u001b[32m'go_jiang_seco_avg'\u001b[0m, \u001b[32m'go_jiang_seco_bma'\u001b[0m, \u001b[32m'is_modifier'\u001b[0m,\n",
       "       \u001b[32m'pheno_n_common_ancestors_max'\u001b[0m, \u001b[32m'pheno_n_common_ancestors_avg'\u001b[0m,\n",
       "       \u001b[32m'pheno_n_common_ancestors_bma'\u001b[0m, \u001b[32m'pheno_n_union_ancestors_max'\u001b[0m,\n",
       "       \u001b[32m'pheno_n_union_ancestors_avg'\u001b[0m, \u001b[32m'pheno_n_union_ancestors_bma'\u001b[0m,\n",
       "       \u001b[32m'pheno_batet_max'\u001b[0m, \u001b[32m'pheno_batet_avg'\u001b[0m, \u001b[32m'pheno_batet_bma'\u001b[0m,\n",
       "       \u001b[32m'pheno_batet_log_max'\u001b[0m, \u001b[32m'pheno_batet_log_avg'\u001b[0m, \u001b[32m'pheno_batet_log_bma'\u001b[0m,\n",
       "       \u001b[32m'pheno_resnik_max'\u001b[0m, \u001b[32m'pheno_resnik_avg'\u001b[0m, \u001b[32m'pheno_resnik_bma'\u001b[0m,\n",
       "       \u001b[32m'pheno_resnik_scaled_max'\u001b[0m, \u001b[32m'pheno_resnik_scaled_avg'\u001b[0m,\n",
       "       \u001b[32m'pheno_resnik_scaled_bma'\u001b[0m, \u001b[32m'pheno_lin_max'\u001b[0m, \u001b[32m'pheno_lin_avg'\u001b[0m,\n",
       "       \u001b[32m'pheno_lin_bma'\u001b[0m, \u001b[32m'pheno_jiang_max'\u001b[0m, \u001b[32m'pheno_jiang_avg'\u001b[0m,\n",
       "       \u001b[32m'pheno_jiang_bma'\u001b[0m, \u001b[32m'pheno_jiang_seco_max'\u001b[0m, \u001b[32m'pheno_jiang_seco_avg'\u001b[0m,\n",
       "       \u001b[32m'pheno_jiang_seco_bma'\u001b[0m\u001b[1m]\u001b[0m,\n",
       "      \u001b[33mdtype\u001b[0m=\u001b[32m'object'\u001b[0m\u001b[1m)\u001b[0m\n"
      ]
     },
     "metadata": {},
     "output_type": "display_data"
    }
   ],
   "source": [
    "# Change column names\n",
    "_jvl.rename(columns={'QueryGene': 'target_gene_symbol', 'SuppressorGene': 'modifier_gene_symbol'}, inplace=True)\n",
    "_olida.rename(columns={'gene_b': 'target_gene_symbol', 'gene_a': 'modifier_gene_symbol'}, inplace=True)\n",
    "_mtg.rename(columns={'gene_symbol': 'modifier_gene_symbol'}, inplace=True)\n",
    "\n",
    "_jvl.columns = _jvl.columns.str.replace(r'^(HP|PO)', 'pheno', regex=True)\n",
    "_olida.columns = _olida.columns.str.replace(r'^(HP|PO)', 'pheno', regex=True)\n",
    "_mtg.columns = _mtg.columns.str.replace(r'^(HP|PO)', 'pheno', regex=True)\n",
    "\n",
    "print(_jvl.columns)\n",
    "print(_olida.columns)\n",
    "print(_mtg.columns)"
   ]
  },
  {
   "cell_type": "markdown",
   "id": "30e7ded4",
   "metadata": {},
   "source": [
    "# Labeling Dataset"
   ]
  },
  {
   "cell_type": "code",
   "execution_count": 14,
   "id": "bd0727be",
   "metadata": {},
   "outputs": [],
   "source": [
    "# Adding true mods columns\n",
    "# true_mods.rename(columns={\"strain\": \"Sample\", \"true_modifier\": \"modifier_gene_symbol\"}, inplace=True)\n",
    "# true_mods['is_modifier'] = 1\n",
    "# _mtg = pd.merge(_mtg, true_mods, how='left', on=['modifier_gene_symbol']).fillna(0)\n",
    "# # _mtg.rename(columns={\"is_modifier_y\": \"is_modifier\"}, inplace=True)\n",
    "\n",
    "_mtg['datasource'] = 'MTG'\n",
    "\n",
    "_jvl['is_modifier'] = 1\n",
    "_jvl['datasource'] = 'JVL'\n",
    "\n",
    "_olida['datasource'] = 'OLIDA'"
   ]
  },
  {
   "cell_type": "code",
   "execution_count": 15,
   "id": "ea37ce97",
   "metadata": {},
   "outputs": [
    {
     "data": {
      "text/plain": [
       "Index(['modifier_gene_symbol', 'target_gene_symbol',\n",
       "       'go_n_common_ancestors_max', 'go_n_common_ancestors_avg',\n",
       "       'go_n_common_ancestors_bma', 'go_n_union_ancestors_max',\n",
       "       'go_n_union_ancestors_avg', 'go_n_union_ancestors_bma', 'go_batet_max',\n",
       "       'go_batet_avg', 'go_batet_bma', 'go_batet_log_max', 'go_batet_log_avg',\n",
       "       'go_batet_log_bma', 'go_resnik_max', 'go_resnik_avg', 'go_resnik_bma',\n",
       "       'go_resnik_scaled_max', 'go_resnik_scaled_avg', 'go_resnik_scaled_bma',\n",
       "       'go_lin_max', 'go_lin_avg', 'go_lin_bma', 'go_jiang_max',\n",
       "       'go_jiang_avg', 'go_jiang_bma', 'go_jiang_seco_max',\n",
       "       'go_jiang_seco_avg', 'go_jiang_seco_bma', 'is_modifier',\n",
       "       'pheno_n_common_ancestors_max', 'pheno_n_common_ancestors_avg',\n",
       "       'pheno_n_common_ancestors_bma', 'pheno_n_union_ancestors_max',\n",
       "       'pheno_n_union_ancestors_avg', 'pheno_n_union_ancestors_bma',\n",
       "       'pheno_batet_max', 'pheno_batet_avg', 'pheno_batet_bma',\n",
       "       'pheno_batet_log_max', 'pheno_batet_log_avg', 'pheno_batet_log_bma',\n",
       "       'pheno_resnik_max', 'pheno_resnik_avg', 'pheno_resnik_bma',\n",
       "       'pheno_resnik_scaled_max', 'pheno_resnik_scaled_avg',\n",
       "       'pheno_resnik_scaled_bma', 'pheno_lin_max', 'pheno_lin_avg',\n",
       "       'pheno_lin_bma', 'pheno_jiang_max', 'pheno_jiang_avg',\n",
       "       'pheno_jiang_bma', 'pheno_jiang_seco_max', 'pheno_jiang_seco_avg',\n",
       "       'pheno_jiang_seco_bma', 'datasource'],\n",
       "      dtype='object')"
      ]
     },
     "execution_count": 15,
     "metadata": {},
     "output_type": "execute_result"
    }
   ],
   "source": [
    "_mtg.columns"
   ]
  },
  {
   "cell_type": "code",
   "execution_count": 16,
   "id": "35606c58",
   "metadata": {},
   "outputs": [
    {
     "data": {
      "text/html": [
       "<pre style=\"white-space:pre;overflow-x:auto;line-height:normal;font-family:Menlo,'DejaVu Sans Mono',consolas,'Courier New',monospace\"><span style=\"font-weight: bold\">(</span><span style=\"color: #008080; text-decoration-color: #008080; font-weight: bold\">5182</span>, <span style=\"color: #008080; text-decoration-color: #008080; font-weight: bold\">58</span><span style=\"font-weight: bold\">)</span>\n",
       "</pre>\n"
      ],
      "text/plain": [
       "\u001b[1m(\u001b[0m\u001b[1;36m5182\u001b[0m, \u001b[1;36m58\u001b[0m\u001b[1m)\u001b[0m\n"
      ]
     },
     "metadata": {},
     "output_type": "display_data"
    },
    {
     "data": {
      "text/html": [
       "<pre style=\"white-space:pre;overflow-x:auto;line-height:normal;font-family:Menlo,'DejaVu Sans Mono',consolas,'Courier New',monospace\"><span style=\"font-weight: bold\">(</span><span style=\"color: #008080; text-decoration-color: #008080; font-weight: bold\">5182</span>, <span style=\"color: #008080; text-decoration-color: #008080; font-weight: bold\">72</span><span style=\"font-weight: bold\">)</span>\n",
       "</pre>\n"
      ],
      "text/plain": [
       "\u001b[1m(\u001b[0m\u001b[1;36m5182\u001b[0m, \u001b[1;36m72\u001b[0m\u001b[1m)\u001b[0m\n"
      ]
     },
     "metadata": {},
     "output_type": "display_data"
    }
   ],
   "source": [
    "# Adding interaction to MTG from previously computed/collected dataset\n",
    "mtg_raw = mtg_raw.drop_duplicates(subset=('target_gene_symbol', 'gene_symbol'), keep='first')\n",
    "print(_mtg.shape)\n",
    "\n",
    "int_cols = ['neighborhood','neighborhood_transferred', 'fusion', 'cooccurence', 'homology', 'coexpression', 'coexpression_transferred', \n",
    "                  'experiments', 'experiments_transferred', 'database', 'database_transferred', 'textmining', 'textmining_transferred', 'combined_score']\n",
    "_mtg = _mtg.merge(mtg_raw[['gene_symbol', 'target_gene_symbol']+int_cols], how='left', left_on=['modifier_gene_symbol', 'target_gene_symbol', ], right_on=['gene_symbol', 'target_gene_symbol'])\n",
    "_mtg = _mtg.drop('gene_symbol', axis=1)\n",
    "print(_mtg.shape)"
   ]
  },
  {
   "cell_type": "markdown",
   "id": "603709b7",
   "metadata": {},
   "source": [
    "## Add interaction score from STRING-DB"
   ]
  },
  {
   "cell_type": "code",
   "execution_count": 17,
   "id": "0f2b2774",
   "metadata": {},
   "outputs": [],
   "source": [
    "merged_df = pd.concat([_jvl,_olida], ignore_index=True).fillna(0)\n",
    "\n",
    "# apply lowercasing and removing punctuation to the textual column\n",
    "merged_df['modifier_gene_symbol_norm'] = merged_df['modifier_gene_symbol'].str.lower().str.replace('[{}]-'.format(string.punctuation), '', regex=True)\n",
    "merged_df['target_gene_symbol_norm'] = merged_df['target_gene_symbol'].str.lower().str.replace('[{}]-'.format(string.punctuation), '', regex=True)\n",
    "ppi_alias['alias_norm'] = ppi_alias['alias'].str.lower().str.replace('[{}]-'.format(string.punctuation), '', regex=True)\n",
    "\n",
    "# Removing duplicates\n",
    "merged_df = merged_df.drop_duplicates(subset=('target_gene_symbol', 'modifier_gene_symbol'), keep='first')\n",
    "ppi_alias = ppi_alias.drop_duplicates(subset='alias_norm', keep='first').drop('source', axis=1)"
   ]
  },
  {
   "cell_type": "code",
   "execution_count": 18,
   "id": "103847e4",
   "metadata": {},
   "outputs": [],
   "source": [
    "merged_ddf = dd.from_pandas(merged_df, npartitions=2)"
   ]
  },
  {
   "cell_type": "code",
   "execution_count": 19,
   "id": "d0fbada4",
   "metadata": {},
   "outputs": [
    {
     "data": {
      "text/html": [
       "<pre style=\"white-space:pre;overflow-x:auto;line-height:normal;font-family:Menlo,'DejaVu Sans Mono',consolas,'Courier New',monospace\"><span style=\"color: #800080; text-decoration-color: #800080; font-weight: bold\">Index</span><span style=\"font-weight: bold\">([</span><span style=\"color: #008000; text-decoration-color: #008000\">'target_gene_symbol'</span>, <span style=\"color: #008000; text-decoration-color: #008000\">'modifier_gene_symbol'</span>,\n",
       "       <span style=\"color: #008000; text-decoration-color: #008000\">'go_n_common_ancestors_max'</span>, <span style=\"color: #008000; text-decoration-color: #008000\">'go_n_common_ancestors_avg'</span>,\n",
       "       <span style=\"color: #008000; text-decoration-color: #008000\">'go_n_common_ancestors_bma'</span>, <span style=\"color: #008000; text-decoration-color: #008000\">'go_n_union_ancestors_max'</span>,\n",
       "       <span style=\"color: #008000; text-decoration-color: #008000\">'go_n_union_ancestors_avg'</span>, <span style=\"color: #008000; text-decoration-color: #008000\">'go_n_union_ancestors_bma'</span>, <span style=\"color: #008000; text-decoration-color: #008000\">'go_batet_max'</span>,\n",
       "       <span style=\"color: #008000; text-decoration-color: #008000\">'go_batet_avg'</span>, <span style=\"color: #008000; text-decoration-color: #008000\">'go_batet_bma'</span>, <span style=\"color: #008000; text-decoration-color: #008000\">'go_batet_log_max'</span>, <span style=\"color: #008000; text-decoration-color: #008000\">'go_batet_log_avg'</span>,\n",
       "       <span style=\"color: #008000; text-decoration-color: #008000\">'go_batet_log_bma'</span>, <span style=\"color: #008000; text-decoration-color: #008000\">'go_resnik_max'</span>, <span style=\"color: #008000; text-decoration-color: #008000\">'go_resnik_avg'</span>, <span style=\"color: #008000; text-decoration-color: #008000\">'go_resnik_bma'</span>,\n",
       "       <span style=\"color: #008000; text-decoration-color: #008000\">'go_resnik_scaled_max'</span>, <span style=\"color: #008000; text-decoration-color: #008000\">'go_resnik_scaled_avg'</span>, <span style=\"color: #008000; text-decoration-color: #008000\">'go_resnik_scaled_bma'</span>,\n",
       "       <span style=\"color: #008000; text-decoration-color: #008000\">'go_lin_max'</span>, <span style=\"color: #008000; text-decoration-color: #008000\">'go_lin_avg'</span>, <span style=\"color: #008000; text-decoration-color: #008000\">'go_lin_bma'</span>, <span style=\"color: #008000; text-decoration-color: #008000\">'go_jiang_max'</span>,\n",
       "       <span style=\"color: #008000; text-decoration-color: #008000\">'go_jiang_avg'</span>, <span style=\"color: #008000; text-decoration-color: #008000\">'go_jiang_bma'</span>, <span style=\"color: #008000; text-decoration-color: #008000\">'go_jiang_seco_max'</span>,\n",
       "       <span style=\"color: #008000; text-decoration-color: #008000\">'go_jiang_seco_avg'</span>, <span style=\"color: #008000; text-decoration-color: #008000\">'go_jiang_seco_bma'</span>,\n",
       "       <span style=\"color: #008000; text-decoration-color: #008000\">'pheno_n_common_ancestors_max'</span>, <span style=\"color: #008000; text-decoration-color: #008000\">'pheno_n_common_ancestors_avg'</span>,\n",
       "       <span style=\"color: #008000; text-decoration-color: #008000\">'pheno_n_common_ancestors_bma'</span>, <span style=\"color: #008000; text-decoration-color: #008000\">'pheno_n_union_ancestors_max'</span>,\n",
       "       <span style=\"color: #008000; text-decoration-color: #008000\">'pheno_n_union_ancestors_avg'</span>, <span style=\"color: #008000; text-decoration-color: #008000\">'pheno_n_union_ancestors_bma'</span>,\n",
       "       <span style=\"color: #008000; text-decoration-color: #008000\">'pheno_batet_max'</span>, <span style=\"color: #008000; text-decoration-color: #008000\">'pheno_batet_avg'</span>, <span style=\"color: #008000; text-decoration-color: #008000\">'pheno_batet_bma'</span>,\n",
       "       <span style=\"color: #008000; text-decoration-color: #008000\">'pheno_batet_log_max'</span>, <span style=\"color: #008000; text-decoration-color: #008000\">'pheno_batet_log_avg'</span>, <span style=\"color: #008000; text-decoration-color: #008000\">'pheno_batet_log_bma'</span>,\n",
       "       <span style=\"color: #008000; text-decoration-color: #008000\">'pheno_resnik_max'</span>, <span style=\"color: #008000; text-decoration-color: #008000\">'pheno_resnik_avg'</span>, <span style=\"color: #008000; text-decoration-color: #008000\">'pheno_resnik_bma'</span>,\n",
       "       <span style=\"color: #008000; text-decoration-color: #008000\">'pheno_resnik_scaled_max'</span>, <span style=\"color: #008000; text-decoration-color: #008000\">'pheno_resnik_scaled_avg'</span>,\n",
       "       <span style=\"color: #008000; text-decoration-color: #008000\">'pheno_resnik_scaled_bma'</span>, <span style=\"color: #008000; text-decoration-color: #008000\">'pheno_lin_max'</span>, <span style=\"color: #008000; text-decoration-color: #008000\">'pheno_lin_avg'</span>,\n",
       "       <span style=\"color: #008000; text-decoration-color: #008000\">'pheno_lin_bma'</span>, <span style=\"color: #008000; text-decoration-color: #008000\">'pheno_jiang_max'</span>, <span style=\"color: #008000; text-decoration-color: #008000\">'pheno_jiang_avg'</span>,\n",
       "       <span style=\"color: #008000; text-decoration-color: #008000\">'pheno_jiang_bma'</span>, <span style=\"color: #008000; text-decoration-color: #008000\">'pheno_jiang_seco_max'</span>, <span style=\"color: #008000; text-decoration-color: #008000\">'pheno_jiang_seco_avg'</span>,\n",
       "       <span style=\"color: #008000; text-decoration-color: #008000\">'pheno_jiang_seco_bma'</span>, <span style=\"color: #008000; text-decoration-color: #008000\">'is_modifier'</span>, <span style=\"color: #008000; text-decoration-color: #008000\">'datasource'</span>,\n",
       "       <span style=\"color: #008000; text-decoration-color: #008000\">'modifier_gene_symbol_norm'</span>, <span style=\"color: #008000; text-decoration-color: #008000\">'target_gene_symbol_norm'</span>, <span style=\"color: #008000; text-decoration-color: #008000\">'protein'</span>,\n",
       "       <span style=\"color: #008000; text-decoration-color: #008000\">'alias'</span>, <span style=\"color: #008000; text-decoration-color: #008000\">'alias_norm'</span><span style=\"font-weight: bold\">]</span>,\n",
       "      <span style=\"color: #808000; text-decoration-color: #808000\">dtype</span>=<span style=\"color: #008000; text-decoration-color: #008000\">'object'</span><span style=\"font-weight: bold\">)</span>\n",
       "</pre>\n"
      ],
      "text/plain": [
       "\u001b[1;35mIndex\u001b[0m\u001b[1m(\u001b[0m\u001b[1m[\u001b[0m\u001b[32m'target_gene_symbol'\u001b[0m, \u001b[32m'modifier_gene_symbol'\u001b[0m,\n",
       "       \u001b[32m'go_n_common_ancestors_max'\u001b[0m, \u001b[32m'go_n_common_ancestors_avg'\u001b[0m,\n",
       "       \u001b[32m'go_n_common_ancestors_bma'\u001b[0m, \u001b[32m'go_n_union_ancestors_max'\u001b[0m,\n",
       "       \u001b[32m'go_n_union_ancestors_avg'\u001b[0m, \u001b[32m'go_n_union_ancestors_bma'\u001b[0m, \u001b[32m'go_batet_max'\u001b[0m,\n",
       "       \u001b[32m'go_batet_avg'\u001b[0m, \u001b[32m'go_batet_bma'\u001b[0m, \u001b[32m'go_batet_log_max'\u001b[0m, \u001b[32m'go_batet_log_avg'\u001b[0m,\n",
       "       \u001b[32m'go_batet_log_bma'\u001b[0m, \u001b[32m'go_resnik_max'\u001b[0m, \u001b[32m'go_resnik_avg'\u001b[0m, \u001b[32m'go_resnik_bma'\u001b[0m,\n",
       "       \u001b[32m'go_resnik_scaled_max'\u001b[0m, \u001b[32m'go_resnik_scaled_avg'\u001b[0m, \u001b[32m'go_resnik_scaled_bma'\u001b[0m,\n",
       "       \u001b[32m'go_lin_max'\u001b[0m, \u001b[32m'go_lin_avg'\u001b[0m, \u001b[32m'go_lin_bma'\u001b[0m, \u001b[32m'go_jiang_max'\u001b[0m,\n",
       "       \u001b[32m'go_jiang_avg'\u001b[0m, \u001b[32m'go_jiang_bma'\u001b[0m, \u001b[32m'go_jiang_seco_max'\u001b[0m,\n",
       "       \u001b[32m'go_jiang_seco_avg'\u001b[0m, \u001b[32m'go_jiang_seco_bma'\u001b[0m,\n",
       "       \u001b[32m'pheno_n_common_ancestors_max'\u001b[0m, \u001b[32m'pheno_n_common_ancestors_avg'\u001b[0m,\n",
       "       \u001b[32m'pheno_n_common_ancestors_bma'\u001b[0m, \u001b[32m'pheno_n_union_ancestors_max'\u001b[0m,\n",
       "       \u001b[32m'pheno_n_union_ancestors_avg'\u001b[0m, \u001b[32m'pheno_n_union_ancestors_bma'\u001b[0m,\n",
       "       \u001b[32m'pheno_batet_max'\u001b[0m, \u001b[32m'pheno_batet_avg'\u001b[0m, \u001b[32m'pheno_batet_bma'\u001b[0m,\n",
       "       \u001b[32m'pheno_batet_log_max'\u001b[0m, \u001b[32m'pheno_batet_log_avg'\u001b[0m, \u001b[32m'pheno_batet_log_bma'\u001b[0m,\n",
       "       \u001b[32m'pheno_resnik_max'\u001b[0m, \u001b[32m'pheno_resnik_avg'\u001b[0m, \u001b[32m'pheno_resnik_bma'\u001b[0m,\n",
       "       \u001b[32m'pheno_resnik_scaled_max'\u001b[0m, \u001b[32m'pheno_resnik_scaled_avg'\u001b[0m,\n",
       "       \u001b[32m'pheno_resnik_scaled_bma'\u001b[0m, \u001b[32m'pheno_lin_max'\u001b[0m, \u001b[32m'pheno_lin_avg'\u001b[0m,\n",
       "       \u001b[32m'pheno_lin_bma'\u001b[0m, \u001b[32m'pheno_jiang_max'\u001b[0m, \u001b[32m'pheno_jiang_avg'\u001b[0m,\n",
       "       \u001b[32m'pheno_jiang_bma'\u001b[0m, \u001b[32m'pheno_jiang_seco_max'\u001b[0m, \u001b[32m'pheno_jiang_seco_avg'\u001b[0m,\n",
       "       \u001b[32m'pheno_jiang_seco_bma'\u001b[0m, \u001b[32m'is_modifier'\u001b[0m, \u001b[32m'datasource'\u001b[0m,\n",
       "       \u001b[32m'modifier_gene_symbol_norm'\u001b[0m, \u001b[32m'target_gene_symbol_norm'\u001b[0m, \u001b[32m'protein'\u001b[0m,\n",
       "       \u001b[32m'alias'\u001b[0m, \u001b[32m'alias_norm'\u001b[0m\u001b[1m]\u001b[0m,\n",
       "      \u001b[33mdtype\u001b[0m=\u001b[32m'object'\u001b[0m\u001b[1m)\u001b[0m\n"
      ]
     },
     "metadata": {},
     "output_type": "display_data"
    },
    {
     "data": {
      "text/html": [
       "<pre style=\"white-space:pre;overflow-x:auto;line-height:normal;font-family:Menlo,'DejaVu Sans Mono',consolas,'Courier New',monospace\"><span style=\"color: #800080; text-decoration-color: #800080; font-weight: bold\">Index</span><span style=\"font-weight: bold\">([</span><span style=\"color: #008000; text-decoration-color: #008000\">'target_gene_symbol'</span>, <span style=\"color: #008000; text-decoration-color: #008000\">'modifier_gene_symbol'</span>,\n",
       "       <span style=\"color: #008000; text-decoration-color: #008000\">'go_n_common_ancestors_max'</span>, <span style=\"color: #008000; text-decoration-color: #008000\">'go_n_common_ancestors_avg'</span>,\n",
       "       <span style=\"color: #008000; text-decoration-color: #008000\">'go_n_common_ancestors_bma'</span>, <span style=\"color: #008000; text-decoration-color: #008000\">'go_n_union_ancestors_max'</span>,\n",
       "       <span style=\"color: #008000; text-decoration-color: #008000\">'go_n_union_ancestors_avg'</span>, <span style=\"color: #008000; text-decoration-color: #008000\">'go_n_union_ancestors_bma'</span>, <span style=\"color: #008000; text-decoration-color: #008000\">'go_batet_max'</span>,\n",
       "       <span style=\"color: #008000; text-decoration-color: #008000\">'go_batet_avg'</span>, <span style=\"color: #008000; text-decoration-color: #008000\">'go_batet_bma'</span>, <span style=\"color: #008000; text-decoration-color: #008000\">'go_batet_log_max'</span>, <span style=\"color: #008000; text-decoration-color: #008000\">'go_batet_log_avg'</span>,\n",
       "       <span style=\"color: #008000; text-decoration-color: #008000\">'go_batet_log_bma'</span>, <span style=\"color: #008000; text-decoration-color: #008000\">'go_resnik_max'</span>, <span style=\"color: #008000; text-decoration-color: #008000\">'go_resnik_avg'</span>, <span style=\"color: #008000; text-decoration-color: #008000\">'go_resnik_bma'</span>,\n",
       "       <span style=\"color: #008000; text-decoration-color: #008000\">'go_resnik_scaled_max'</span>, <span style=\"color: #008000; text-decoration-color: #008000\">'go_resnik_scaled_avg'</span>, <span style=\"color: #008000; text-decoration-color: #008000\">'go_resnik_scaled_bma'</span>,\n",
       "       <span style=\"color: #008000; text-decoration-color: #008000\">'go_lin_max'</span>, <span style=\"color: #008000; text-decoration-color: #008000\">'go_lin_avg'</span>, <span style=\"color: #008000; text-decoration-color: #008000\">'go_lin_bma'</span>, <span style=\"color: #008000; text-decoration-color: #008000\">'go_jiang_max'</span>,\n",
       "       <span style=\"color: #008000; text-decoration-color: #008000\">'go_jiang_avg'</span>, <span style=\"color: #008000; text-decoration-color: #008000\">'go_jiang_bma'</span>, <span style=\"color: #008000; text-decoration-color: #008000\">'go_jiang_seco_max'</span>,\n",
       "       <span style=\"color: #008000; text-decoration-color: #008000\">'go_jiang_seco_avg'</span>, <span style=\"color: #008000; text-decoration-color: #008000\">'go_jiang_seco_bma'</span>,\n",
       "       <span style=\"color: #008000; text-decoration-color: #008000\">'pheno_n_common_ancestors_max'</span>, <span style=\"color: #008000; text-decoration-color: #008000\">'pheno_n_common_ancestors_avg'</span>,\n",
       "       <span style=\"color: #008000; text-decoration-color: #008000\">'pheno_n_common_ancestors_bma'</span>, <span style=\"color: #008000; text-decoration-color: #008000\">'pheno_n_union_ancestors_max'</span>,\n",
       "       <span style=\"color: #008000; text-decoration-color: #008000\">'pheno_n_union_ancestors_avg'</span>, <span style=\"color: #008000; text-decoration-color: #008000\">'pheno_n_union_ancestors_bma'</span>,\n",
       "       <span style=\"color: #008000; text-decoration-color: #008000\">'pheno_batet_max'</span>, <span style=\"color: #008000; text-decoration-color: #008000\">'pheno_batet_avg'</span>, <span style=\"color: #008000; text-decoration-color: #008000\">'pheno_batet_bma'</span>,\n",
       "       <span style=\"color: #008000; text-decoration-color: #008000\">'pheno_batet_log_max'</span>, <span style=\"color: #008000; text-decoration-color: #008000\">'pheno_batet_log_avg'</span>, <span style=\"color: #008000; text-decoration-color: #008000\">'pheno_batet_log_bma'</span>,\n",
       "       <span style=\"color: #008000; text-decoration-color: #008000\">'pheno_resnik_max'</span>, <span style=\"color: #008000; text-decoration-color: #008000\">'pheno_resnik_avg'</span>, <span style=\"color: #008000; text-decoration-color: #008000\">'pheno_resnik_bma'</span>,\n",
       "       <span style=\"color: #008000; text-decoration-color: #008000\">'pheno_resnik_scaled_max'</span>, <span style=\"color: #008000; text-decoration-color: #008000\">'pheno_resnik_scaled_avg'</span>,\n",
       "       <span style=\"color: #008000; text-decoration-color: #008000\">'pheno_resnik_scaled_bma'</span>, <span style=\"color: #008000; text-decoration-color: #008000\">'pheno_lin_max'</span>, <span style=\"color: #008000; text-decoration-color: #008000\">'pheno_lin_avg'</span>,\n",
       "       <span style=\"color: #008000; text-decoration-color: #008000\">'pheno_lin_bma'</span>, <span style=\"color: #008000; text-decoration-color: #008000\">'pheno_jiang_max'</span>, <span style=\"color: #008000; text-decoration-color: #008000\">'pheno_jiang_avg'</span>,\n",
       "       <span style=\"color: #008000; text-decoration-color: #008000\">'pheno_jiang_bma'</span>, <span style=\"color: #008000; text-decoration-color: #008000\">'pheno_jiang_seco_max'</span>, <span style=\"color: #008000; text-decoration-color: #008000\">'pheno_jiang_seco_avg'</span>,\n",
       "       <span style=\"color: #008000; text-decoration-color: #008000\">'pheno_jiang_seco_bma'</span>, <span style=\"color: #008000; text-decoration-color: #008000\">'is_modifier'</span>, <span style=\"color: #008000; text-decoration-color: #008000\">'datasource'</span>,\n",
       "       <span style=\"color: #008000; text-decoration-color: #008000\">'modifier_gene_symbol_norm'</span>, <span style=\"color: #008000; text-decoration-color: #008000\">'target_gene_symbol_norm'</span>, <span style=\"color: #008000; text-decoration-color: #008000\">'protein_x'</span>,\n",
       "       <span style=\"color: #008000; text-decoration-color: #008000\">'alias_x'</span>, <span style=\"color: #008000; text-decoration-color: #008000\">'alias_norm_x'</span>, <span style=\"color: #008000; text-decoration-color: #008000\">'protein_y'</span>, <span style=\"color: #008000; text-decoration-color: #008000\">'alias_y'</span>, <span style=\"color: #008000; text-decoration-color: #008000\">'alias_norm_y'</span><span style=\"font-weight: bold\">]</span>,\n",
       "      <span style=\"color: #808000; text-decoration-color: #808000\">dtype</span>=<span style=\"color: #008000; text-decoration-color: #008000\">'object'</span><span style=\"font-weight: bold\">)</span>\n",
       "</pre>\n"
      ],
      "text/plain": [
       "\u001b[1;35mIndex\u001b[0m\u001b[1m(\u001b[0m\u001b[1m[\u001b[0m\u001b[32m'target_gene_symbol'\u001b[0m, \u001b[32m'modifier_gene_symbol'\u001b[0m,\n",
       "       \u001b[32m'go_n_common_ancestors_max'\u001b[0m, \u001b[32m'go_n_common_ancestors_avg'\u001b[0m,\n",
       "       \u001b[32m'go_n_common_ancestors_bma'\u001b[0m, \u001b[32m'go_n_union_ancestors_max'\u001b[0m,\n",
       "       \u001b[32m'go_n_union_ancestors_avg'\u001b[0m, \u001b[32m'go_n_union_ancestors_bma'\u001b[0m, \u001b[32m'go_batet_max'\u001b[0m,\n",
       "       \u001b[32m'go_batet_avg'\u001b[0m, \u001b[32m'go_batet_bma'\u001b[0m, \u001b[32m'go_batet_log_max'\u001b[0m, \u001b[32m'go_batet_log_avg'\u001b[0m,\n",
       "       \u001b[32m'go_batet_log_bma'\u001b[0m, \u001b[32m'go_resnik_max'\u001b[0m, \u001b[32m'go_resnik_avg'\u001b[0m, \u001b[32m'go_resnik_bma'\u001b[0m,\n",
       "       \u001b[32m'go_resnik_scaled_max'\u001b[0m, \u001b[32m'go_resnik_scaled_avg'\u001b[0m, \u001b[32m'go_resnik_scaled_bma'\u001b[0m,\n",
       "       \u001b[32m'go_lin_max'\u001b[0m, \u001b[32m'go_lin_avg'\u001b[0m, \u001b[32m'go_lin_bma'\u001b[0m, \u001b[32m'go_jiang_max'\u001b[0m,\n",
       "       \u001b[32m'go_jiang_avg'\u001b[0m, \u001b[32m'go_jiang_bma'\u001b[0m, \u001b[32m'go_jiang_seco_max'\u001b[0m,\n",
       "       \u001b[32m'go_jiang_seco_avg'\u001b[0m, \u001b[32m'go_jiang_seco_bma'\u001b[0m,\n",
       "       \u001b[32m'pheno_n_common_ancestors_max'\u001b[0m, \u001b[32m'pheno_n_common_ancestors_avg'\u001b[0m,\n",
       "       \u001b[32m'pheno_n_common_ancestors_bma'\u001b[0m, \u001b[32m'pheno_n_union_ancestors_max'\u001b[0m,\n",
       "       \u001b[32m'pheno_n_union_ancestors_avg'\u001b[0m, \u001b[32m'pheno_n_union_ancestors_bma'\u001b[0m,\n",
       "       \u001b[32m'pheno_batet_max'\u001b[0m, \u001b[32m'pheno_batet_avg'\u001b[0m, \u001b[32m'pheno_batet_bma'\u001b[0m,\n",
       "       \u001b[32m'pheno_batet_log_max'\u001b[0m, \u001b[32m'pheno_batet_log_avg'\u001b[0m, \u001b[32m'pheno_batet_log_bma'\u001b[0m,\n",
       "       \u001b[32m'pheno_resnik_max'\u001b[0m, \u001b[32m'pheno_resnik_avg'\u001b[0m, \u001b[32m'pheno_resnik_bma'\u001b[0m,\n",
       "       \u001b[32m'pheno_resnik_scaled_max'\u001b[0m, \u001b[32m'pheno_resnik_scaled_avg'\u001b[0m,\n",
       "       \u001b[32m'pheno_resnik_scaled_bma'\u001b[0m, \u001b[32m'pheno_lin_max'\u001b[0m, \u001b[32m'pheno_lin_avg'\u001b[0m,\n",
       "       \u001b[32m'pheno_lin_bma'\u001b[0m, \u001b[32m'pheno_jiang_max'\u001b[0m, \u001b[32m'pheno_jiang_avg'\u001b[0m,\n",
       "       \u001b[32m'pheno_jiang_bma'\u001b[0m, \u001b[32m'pheno_jiang_seco_max'\u001b[0m, \u001b[32m'pheno_jiang_seco_avg'\u001b[0m,\n",
       "       \u001b[32m'pheno_jiang_seco_bma'\u001b[0m, \u001b[32m'is_modifier'\u001b[0m, \u001b[32m'datasource'\u001b[0m,\n",
       "       \u001b[32m'modifier_gene_symbol_norm'\u001b[0m, \u001b[32m'target_gene_symbol_norm'\u001b[0m, \u001b[32m'protein_x'\u001b[0m,\n",
       "       \u001b[32m'alias_x'\u001b[0m, \u001b[32m'alias_norm_x'\u001b[0m, \u001b[32m'protein_y'\u001b[0m, \u001b[32m'alias_y'\u001b[0m, \u001b[32m'alias_norm_y'\u001b[0m\u001b[1m]\u001b[0m,\n",
       "      \u001b[33mdtype\u001b[0m=\u001b[32m'object'\u001b[0m\u001b[1m)\u001b[0m\n"
      ]
     },
     "metadata": {},
     "output_type": "display_data"
    }
   ],
   "source": [
    "# Adding alias for query gene\n",
    "_merged_df = merged_ddf.merge(ppi_alias, how='left', left_on='modifier_gene_symbol_norm', right_on=\"alias_norm\")\n",
    "print(_merged_df.columns)\n",
    "# Adding alias for suppressor gene\n",
    "_merged_df = _merged_df.merge(ppi_alias, how='left', left_on='target_gene_symbol_norm', right_on=\"alias_norm\")\n",
    "print(_merged_df.columns)"
   ]
  },
  {
   "cell_type": "markdown",
   "id": "90eefe89",
   "metadata": {},
   "source": [
    "Before adding (by merge) PPI data,  make sure the types are correct and the column names are consistent."
   ]
  },
  {
   "cell_type": "code",
   "execution_count": 20,
   "id": "b9025855",
   "metadata": {},
   "outputs": [
    {
     "data": {
      "text/html": [
       "<pre style=\"white-space:pre;overflow-x:auto;line-height:normal;font-family:Menlo,'DejaVu Sans Mono',consolas,'Courier New',monospace\"><span style=\"color: #800080; text-decoration-color: #800080; font-weight: bold\">Index</span><span style=\"font-weight: bold\">([</span><span style=\"color: #008000; text-decoration-color: #008000\">'target_gene_symbol'</span>, <span style=\"color: #008000; text-decoration-color: #008000\">'modifier_gene_symbol'</span>,\n",
       "       <span style=\"color: #008000; text-decoration-color: #008000\">'go_n_common_ancestors_max'</span>, <span style=\"color: #008000; text-decoration-color: #008000\">'go_n_common_ancestors_avg'</span>,\n",
       "       <span style=\"color: #008000; text-decoration-color: #008000\">'go_n_common_ancestors_bma'</span>, <span style=\"color: #008000; text-decoration-color: #008000\">'go_n_union_ancestors_max'</span>,\n",
       "       <span style=\"color: #008000; text-decoration-color: #008000\">'go_n_union_ancestors_avg'</span>, <span style=\"color: #008000; text-decoration-color: #008000\">'go_n_union_ancestors_bma'</span>, <span style=\"color: #008000; text-decoration-color: #008000\">'go_batet_max'</span>,\n",
       "       <span style=\"color: #008000; text-decoration-color: #008000\">'go_batet_avg'</span>, <span style=\"color: #008000; text-decoration-color: #008000\">'go_batet_bma'</span>, <span style=\"color: #008000; text-decoration-color: #008000\">'go_batet_log_max'</span>, <span style=\"color: #008000; text-decoration-color: #008000\">'go_batet_log_avg'</span>,\n",
       "       <span style=\"color: #008000; text-decoration-color: #008000\">'go_batet_log_bma'</span>, <span style=\"color: #008000; text-decoration-color: #008000\">'go_resnik_max'</span>, <span style=\"color: #008000; text-decoration-color: #008000\">'go_resnik_avg'</span>, <span style=\"color: #008000; text-decoration-color: #008000\">'go_resnik_bma'</span>,\n",
       "       <span style=\"color: #008000; text-decoration-color: #008000\">'go_resnik_scaled_max'</span>, <span style=\"color: #008000; text-decoration-color: #008000\">'go_resnik_scaled_avg'</span>, <span style=\"color: #008000; text-decoration-color: #008000\">'go_resnik_scaled_bma'</span>,\n",
       "       <span style=\"color: #008000; text-decoration-color: #008000\">'go_lin_max'</span>, <span style=\"color: #008000; text-decoration-color: #008000\">'go_lin_avg'</span>, <span style=\"color: #008000; text-decoration-color: #008000\">'go_lin_bma'</span>, <span style=\"color: #008000; text-decoration-color: #008000\">'go_jiang_max'</span>,\n",
       "       <span style=\"color: #008000; text-decoration-color: #008000\">'go_jiang_avg'</span>, <span style=\"color: #008000; text-decoration-color: #008000\">'go_jiang_bma'</span>, <span style=\"color: #008000; text-decoration-color: #008000\">'go_jiang_seco_max'</span>,\n",
       "       <span style=\"color: #008000; text-decoration-color: #008000\">'go_jiang_seco_avg'</span>, <span style=\"color: #008000; text-decoration-color: #008000\">'go_jiang_seco_bma'</span>,\n",
       "       <span style=\"color: #008000; text-decoration-color: #008000\">'pheno_n_common_ancestors_max'</span>, <span style=\"color: #008000; text-decoration-color: #008000\">'pheno_n_common_ancestors_avg'</span>,\n",
       "       <span style=\"color: #008000; text-decoration-color: #008000\">'pheno_n_common_ancestors_bma'</span>, <span style=\"color: #008000; text-decoration-color: #008000\">'pheno_n_union_ancestors_max'</span>,\n",
       "       <span style=\"color: #008000; text-decoration-color: #008000\">'pheno_n_union_ancestors_avg'</span>, <span style=\"color: #008000; text-decoration-color: #008000\">'pheno_n_union_ancestors_bma'</span>,\n",
       "       <span style=\"color: #008000; text-decoration-color: #008000\">'pheno_batet_max'</span>, <span style=\"color: #008000; text-decoration-color: #008000\">'pheno_batet_avg'</span>, <span style=\"color: #008000; text-decoration-color: #008000\">'pheno_batet_bma'</span>,\n",
       "       <span style=\"color: #008000; text-decoration-color: #008000\">'pheno_batet_log_max'</span>, <span style=\"color: #008000; text-decoration-color: #008000\">'pheno_batet_log_avg'</span>, <span style=\"color: #008000; text-decoration-color: #008000\">'pheno_batet_log_bma'</span>,\n",
       "       <span style=\"color: #008000; text-decoration-color: #008000\">'pheno_resnik_max'</span>, <span style=\"color: #008000; text-decoration-color: #008000\">'pheno_resnik_avg'</span>, <span style=\"color: #008000; text-decoration-color: #008000\">'pheno_resnik_bma'</span>,\n",
       "       <span style=\"color: #008000; text-decoration-color: #008000\">'pheno_resnik_scaled_max'</span>, <span style=\"color: #008000; text-decoration-color: #008000\">'pheno_resnik_scaled_avg'</span>,\n",
       "       <span style=\"color: #008000; text-decoration-color: #008000\">'pheno_resnik_scaled_bma'</span>, <span style=\"color: #008000; text-decoration-color: #008000\">'pheno_lin_max'</span>, <span style=\"color: #008000; text-decoration-color: #008000\">'pheno_lin_avg'</span>,\n",
       "       <span style=\"color: #008000; text-decoration-color: #008000\">'pheno_lin_bma'</span>, <span style=\"color: #008000; text-decoration-color: #008000\">'pheno_jiang_max'</span>, <span style=\"color: #008000; text-decoration-color: #008000\">'pheno_jiang_avg'</span>,\n",
       "       <span style=\"color: #008000; text-decoration-color: #008000\">'pheno_jiang_bma'</span>, <span style=\"color: #008000; text-decoration-color: #008000\">'pheno_jiang_seco_max'</span>, <span style=\"color: #008000; text-decoration-color: #008000\">'pheno_jiang_seco_avg'</span>,\n",
       "       <span style=\"color: #008000; text-decoration-color: #008000\">'pheno_jiang_seco_bma'</span>, <span style=\"color: #008000; text-decoration-color: #008000\">'is_modifier'</span>, <span style=\"color: #008000; text-decoration-color: #008000\">'datasource'</span>,\n",
       "       <span style=\"color: #008000; text-decoration-color: #008000\">'modifier_gene_symbol_norm'</span>, <span style=\"color: #008000; text-decoration-color: #008000\">'target_gene_symbol_norm'</span>, <span style=\"color: #008000; text-decoration-color: #008000\">'protein_x'</span>,\n",
       "       <span style=\"color: #008000; text-decoration-color: #008000\">'alias_x'</span>, <span style=\"color: #008000; text-decoration-color: #008000\">'alias_norm_x'</span>, <span style=\"color: #008000; text-decoration-color: #008000\">'protein_y'</span>, <span style=\"color: #008000; text-decoration-color: #008000\">'alias_y'</span>, <span style=\"color: #008000; text-decoration-color: #008000\">'alias_norm_y'</span>,\n",
       "       <span style=\"color: #008000; text-decoration-color: #008000\">'protein1'</span>, <span style=\"color: #008000; text-decoration-color: #008000\">'protein2'</span>, <span style=\"color: #008000; text-decoration-color: #008000\">'neighborhood'</span>, <span style=\"color: #008000; text-decoration-color: #008000\">'neighborhood_transferred'</span>,\n",
       "       <span style=\"color: #008000; text-decoration-color: #008000\">'fusion'</span>, <span style=\"color: #008000; text-decoration-color: #008000\">'cooccurence'</span>, <span style=\"color: #008000; text-decoration-color: #008000\">'homology'</span>, <span style=\"color: #008000; text-decoration-color: #008000\">'coexpression'</span>,\n",
       "       <span style=\"color: #008000; text-decoration-color: #008000\">'coexpression_transferred'</span>, <span style=\"color: #008000; text-decoration-color: #008000\">'experiments'</span>, <span style=\"color: #008000; text-decoration-color: #008000\">'experiments_transferred'</span>,\n",
       "       <span style=\"color: #008000; text-decoration-color: #008000\">'database'</span>, <span style=\"color: #008000; text-decoration-color: #008000\">'database_transferred'</span>, <span style=\"color: #008000; text-decoration-color: #008000\">'textmining'</span>,\n",
       "       <span style=\"color: #008000; text-decoration-color: #008000\">'textmining_transferred'</span>, <span style=\"color: #008000; text-decoration-color: #008000\">'combined_score'</span><span style=\"font-weight: bold\">]</span>,\n",
       "      <span style=\"color: #808000; text-decoration-color: #808000\">dtype</span>=<span style=\"color: #008000; text-decoration-color: #008000\">'object'</span><span style=\"font-weight: bold\">)</span>\n",
       "</pre>\n"
      ],
      "text/plain": [
       "\u001b[1;35mIndex\u001b[0m\u001b[1m(\u001b[0m\u001b[1m[\u001b[0m\u001b[32m'target_gene_symbol'\u001b[0m, \u001b[32m'modifier_gene_symbol'\u001b[0m,\n",
       "       \u001b[32m'go_n_common_ancestors_max'\u001b[0m, \u001b[32m'go_n_common_ancestors_avg'\u001b[0m,\n",
       "       \u001b[32m'go_n_common_ancestors_bma'\u001b[0m, \u001b[32m'go_n_union_ancestors_max'\u001b[0m,\n",
       "       \u001b[32m'go_n_union_ancestors_avg'\u001b[0m, \u001b[32m'go_n_union_ancestors_bma'\u001b[0m, \u001b[32m'go_batet_max'\u001b[0m,\n",
       "       \u001b[32m'go_batet_avg'\u001b[0m, \u001b[32m'go_batet_bma'\u001b[0m, \u001b[32m'go_batet_log_max'\u001b[0m, \u001b[32m'go_batet_log_avg'\u001b[0m,\n",
       "       \u001b[32m'go_batet_log_bma'\u001b[0m, \u001b[32m'go_resnik_max'\u001b[0m, \u001b[32m'go_resnik_avg'\u001b[0m, \u001b[32m'go_resnik_bma'\u001b[0m,\n",
       "       \u001b[32m'go_resnik_scaled_max'\u001b[0m, \u001b[32m'go_resnik_scaled_avg'\u001b[0m, \u001b[32m'go_resnik_scaled_bma'\u001b[0m,\n",
       "       \u001b[32m'go_lin_max'\u001b[0m, \u001b[32m'go_lin_avg'\u001b[0m, \u001b[32m'go_lin_bma'\u001b[0m, \u001b[32m'go_jiang_max'\u001b[0m,\n",
       "       \u001b[32m'go_jiang_avg'\u001b[0m, \u001b[32m'go_jiang_bma'\u001b[0m, \u001b[32m'go_jiang_seco_max'\u001b[0m,\n",
       "       \u001b[32m'go_jiang_seco_avg'\u001b[0m, \u001b[32m'go_jiang_seco_bma'\u001b[0m,\n",
       "       \u001b[32m'pheno_n_common_ancestors_max'\u001b[0m, \u001b[32m'pheno_n_common_ancestors_avg'\u001b[0m,\n",
       "       \u001b[32m'pheno_n_common_ancestors_bma'\u001b[0m, \u001b[32m'pheno_n_union_ancestors_max'\u001b[0m,\n",
       "       \u001b[32m'pheno_n_union_ancestors_avg'\u001b[0m, \u001b[32m'pheno_n_union_ancestors_bma'\u001b[0m,\n",
       "       \u001b[32m'pheno_batet_max'\u001b[0m, \u001b[32m'pheno_batet_avg'\u001b[0m, \u001b[32m'pheno_batet_bma'\u001b[0m,\n",
       "       \u001b[32m'pheno_batet_log_max'\u001b[0m, \u001b[32m'pheno_batet_log_avg'\u001b[0m, \u001b[32m'pheno_batet_log_bma'\u001b[0m,\n",
       "       \u001b[32m'pheno_resnik_max'\u001b[0m, \u001b[32m'pheno_resnik_avg'\u001b[0m, \u001b[32m'pheno_resnik_bma'\u001b[0m,\n",
       "       \u001b[32m'pheno_resnik_scaled_max'\u001b[0m, \u001b[32m'pheno_resnik_scaled_avg'\u001b[0m,\n",
       "       \u001b[32m'pheno_resnik_scaled_bma'\u001b[0m, \u001b[32m'pheno_lin_max'\u001b[0m, \u001b[32m'pheno_lin_avg'\u001b[0m,\n",
       "       \u001b[32m'pheno_lin_bma'\u001b[0m, \u001b[32m'pheno_jiang_max'\u001b[0m, \u001b[32m'pheno_jiang_avg'\u001b[0m,\n",
       "       \u001b[32m'pheno_jiang_bma'\u001b[0m, \u001b[32m'pheno_jiang_seco_max'\u001b[0m, \u001b[32m'pheno_jiang_seco_avg'\u001b[0m,\n",
       "       \u001b[32m'pheno_jiang_seco_bma'\u001b[0m, \u001b[32m'is_modifier'\u001b[0m, \u001b[32m'datasource'\u001b[0m,\n",
       "       \u001b[32m'modifier_gene_symbol_norm'\u001b[0m, \u001b[32m'target_gene_symbol_norm'\u001b[0m, \u001b[32m'protein_x'\u001b[0m,\n",
       "       \u001b[32m'alias_x'\u001b[0m, \u001b[32m'alias_norm_x'\u001b[0m, \u001b[32m'protein_y'\u001b[0m, \u001b[32m'alias_y'\u001b[0m, \u001b[32m'alias_norm_y'\u001b[0m,\n",
       "       \u001b[32m'protein1'\u001b[0m, \u001b[32m'protein2'\u001b[0m, \u001b[32m'neighborhood'\u001b[0m, \u001b[32m'neighborhood_transferred'\u001b[0m,\n",
       "       \u001b[32m'fusion'\u001b[0m, \u001b[32m'cooccurence'\u001b[0m, \u001b[32m'homology'\u001b[0m, \u001b[32m'coexpression'\u001b[0m,\n",
       "       \u001b[32m'coexpression_transferred'\u001b[0m, \u001b[32m'experiments'\u001b[0m, \u001b[32m'experiments_transferred'\u001b[0m,\n",
       "       \u001b[32m'database'\u001b[0m, \u001b[32m'database_transferred'\u001b[0m, \u001b[32m'textmining'\u001b[0m,\n",
       "       \u001b[32m'textmining_transferred'\u001b[0m, \u001b[32m'combined_score'\u001b[0m\u001b[1m]\u001b[0m,\n",
       "      \u001b[33mdtype\u001b[0m=\u001b[32m'object'\u001b[0m\u001b[1m)\u001b[0m\n"
      ]
     },
     "metadata": {},
     "output_type": "display_data"
    }
   ],
   "source": [
    "# _merged_df = _merged_df.fillna(0)\n",
    "_merged_df = _merged_df.fillna({'protein_x': '', 'protein_y': '', 'alias_x': '', 'alias_y': '', 'alias_norm_x': '', 'alias_norm_y': ''})\n",
    "\n",
    "# Explicitly cast columns to string type\n",
    "_merged_df['protein_x'] = _merged_df['protein_x'].astype(str)\n",
    "_merged_df['protein_y'] = _merged_df['protein_y'].astype(str)\n",
    "_merged_df['alias_x'] = _merged_df['alias_x'].astype(str)\n",
    "_merged_df['alias_y'] = _merged_df['alias_y'].astype(str)\n",
    "_merged_df['alias_norm_x'] = _merged_df['alias_norm_x'].astype(str)\n",
    "_merged_df['alias_norm_y'] = _merged_df['alias_norm_y'].astype(str)\n",
    "\n",
    "# Adding StringDB interaction score datasource\n",
    "_merged_df = _merged_df.merge(ppi, how='left', left_on=['protein_x','protein_y'], right_on=['protein1', 'protein2'])\n",
    "\n",
    "_merged_df_computed = _merged_df.compute()\n",
    "print(_merged_df_computed.columns)\n",
    "# null_counts = _merged_df.isnull().sum().compute()\n",
    "# print(null_counts)"
   ]
  },
  {
   "cell_type": "markdown",
   "id": "7cc25e2e",
   "metadata": {},
   "source": [
    "## Keep only the relevant columns"
   ]
  },
  {
   "cell_type": "code",
   "execution_count": 21,
   "id": "5858b2ee",
   "metadata": {},
   "outputs": [
    {
     "data": {
      "text/html": [
       "<pre style=\"white-space:pre;overflow-x:auto;line-height:normal;font-family:Menlo,'DejaVu Sans Mono',consolas,'Courier New',monospace\"><span style=\"font-weight: bold\">(</span><span style=\"color: #008080; text-decoration-color: #008080; font-weight: bold\">614</span>, <span style=\"color: #008080; text-decoration-color: #008080; font-weight: bold\">72</span><span style=\"font-weight: bold\">)</span>\n",
       "</pre>\n"
      ],
      "text/plain": [
       "\u001b[1m(\u001b[0m\u001b[1;36m614\u001b[0m, \u001b[1;36m72\u001b[0m\u001b[1m)\u001b[0m\n"
      ]
     },
     "metadata": {},
     "output_type": "display_data"
    },
    {
     "data": {
      "text/html": [
       "<pre style=\"white-space:pre;overflow-x:auto;line-height:normal;font-family:Menlo,'DejaVu Sans Mono',consolas,'Courier New',monospace\"><span style=\"font-weight: bold\">(</span><span style=\"color: #008080; text-decoration-color: #008080; font-weight: bold\">5182</span>, <span style=\"color: #008080; text-decoration-color: #008080; font-weight: bold\">72</span><span style=\"font-weight: bold\">)</span>\n",
       "</pre>\n"
      ],
      "text/plain": [
       "\u001b[1m(\u001b[0m\u001b[1;36m5182\u001b[0m, \u001b[1;36m72\u001b[0m\u001b[1m)\u001b[0m\n"
      ]
     },
     "metadata": {},
     "output_type": "display_data"
    },
    {
     "data": {
      "text/html": [
       "<div>\n",
       "<style scoped>\n",
       "    .dataframe tbody tr th:only-of-type {\n",
       "        vertical-align: middle;\n",
       "    }\n",
       "\n",
       "    .dataframe tbody tr th {\n",
       "        vertical-align: top;\n",
       "    }\n",
       "\n",
       "    .dataframe thead th {\n",
       "        text-align: right;\n",
       "    }\n",
       "</style>\n",
       "<table border=\"1\" class=\"dataframe\">\n",
       "  <thead>\n",
       "    <tr style=\"text-align: right;\">\n",
       "      <th></th>\n",
       "      <th>datasource</th>\n",
       "      <th>modifier_gene_symbol</th>\n",
       "      <th>target_gene_symbol</th>\n",
       "      <th>go_n_common_ancestors_max</th>\n",
       "      <th>go_n_common_ancestors_avg</th>\n",
       "      <th>go_n_common_ancestors_bma</th>\n",
       "      <th>go_n_union_ancestors_max</th>\n",
       "      <th>go_n_union_ancestors_avg</th>\n",
       "      <th>go_n_union_ancestors_bma</th>\n",
       "      <th>go_batet_max</th>\n",
       "      <th>...</th>\n",
       "      <th>coexpression</th>\n",
       "      <th>coexpression_transferred</th>\n",
       "      <th>experiments</th>\n",
       "      <th>experiments_transferred</th>\n",
       "      <th>database</th>\n",
       "      <th>database_transferred</th>\n",
       "      <th>textmining</th>\n",
       "      <th>textmining_transferred</th>\n",
       "      <th>combined_score</th>\n",
       "      <th>is_modifier</th>\n",
       "    </tr>\n",
       "  </thead>\n",
       "  <tbody>\n",
       "    <tr>\n",
       "      <th>0</th>\n",
       "      <td>JVL</td>\n",
       "      <td>ETV1</td>\n",
       "      <td>ATR</td>\n",
       "      <td>59.0</td>\n",
       "      <td>2.960317</td>\n",
       "      <td>6.109155</td>\n",
       "      <td>101.0</td>\n",
       "      <td>28.846782</td>\n",
       "      <td>70.535211</td>\n",
       "      <td>1.0</td>\n",
       "      <td>...</td>\n",
       "      <td>0.0</td>\n",
       "      <td>0.0</td>\n",
       "      <td>0.0</td>\n",
       "      <td>0.0</td>\n",
       "      <td>0.0</td>\n",
       "      <td>0.0</td>\n",
       "      <td>0.0</td>\n",
       "      <td>0.0</td>\n",
       "      <td>0.0</td>\n",
       "      <td>1.0</td>\n",
       "    </tr>\n",
       "    <tr>\n",
       "      <th>1</th>\n",
       "      <td>JVL</td>\n",
       "      <td>DCLRE1C</td>\n",
       "      <td>BRCA1</td>\n",
       "      <td>22.0</td>\n",
       "      <td>4.163090</td>\n",
       "      <td>7.260417</td>\n",
       "      <td>75.0</td>\n",
       "      <td>29.659375</td>\n",
       "      <td>46.791667</td>\n",
       "      <td>1.0</td>\n",
       "      <td>...</td>\n",
       "      <td>80.0</td>\n",
       "      <td>0.0</td>\n",
       "      <td>292.0</td>\n",
       "      <td>0.0</td>\n",
       "      <td>540.0</td>\n",
       "      <td>0.0</td>\n",
       "      <td>321.0</td>\n",
       "      <td>83.0</td>\n",
       "      <td>779.0</td>\n",
       "      <td>1.0</td>\n",
       "    </tr>\n",
       "    <tr>\n",
       "      <th>2</th>\n",
       "      <td>JVL</td>\n",
       "      <td>SMARCAL1</td>\n",
       "      <td>BRCA1</td>\n",
       "      <td>45.0</td>\n",
       "      <td>5.598765</td>\n",
       "      <td>10.268041</td>\n",
       "      <td>87.0</td>\n",
       "      <td>31.152206</td>\n",
       "      <td>59.731959</td>\n",
       "      <td>1.0</td>\n",
       "      <td>...</td>\n",
       "      <td>49.0</td>\n",
       "      <td>62.0</td>\n",
       "      <td>0.0</td>\n",
       "      <td>0.0</td>\n",
       "      <td>0.0</td>\n",
       "      <td>0.0</td>\n",
       "      <td>506.0</td>\n",
       "      <td>204.0</td>\n",
       "      <td>602.0</td>\n",
       "      <td>1.0</td>\n",
       "    </tr>\n",
       "    <tr>\n",
       "      <th>3</th>\n",
       "      <td>JVL</td>\n",
       "      <td>TRIP13</td>\n",
       "      <td>BRCA1</td>\n",
       "      <td>43.0</td>\n",
       "      <td>4.515110</td>\n",
       "      <td>11.198020</td>\n",
       "      <td>128.0</td>\n",
       "      <td>39.033929</td>\n",
       "      <td>86.455446</td>\n",
       "      <td>1.0</td>\n",
       "      <td>...</td>\n",
       "      <td>243.0</td>\n",
       "      <td>110.0</td>\n",
       "      <td>0.0</td>\n",
       "      <td>0.0</td>\n",
       "      <td>0.0</td>\n",
       "      <td>0.0</td>\n",
       "      <td>285.0</td>\n",
       "      <td>95.0</td>\n",
       "      <td>505.0</td>\n",
       "      <td>1.0</td>\n",
       "    </tr>\n",
       "    <tr>\n",
       "      <th>4</th>\n",
       "      <td>JVL</td>\n",
       "      <td>MUS81</td>\n",
       "      <td>BRCA2</td>\n",
       "      <td>29.0</td>\n",
       "      <td>4.599469</td>\n",
       "      <td>9.086957</td>\n",
       "      <td>88.0</td>\n",
       "      <td>28.369439</td>\n",
       "      <td>55.318841</td>\n",
       "      <td>1.0</td>\n",
       "      <td>...</td>\n",
       "      <td>0.0</td>\n",
       "      <td>61.0</td>\n",
       "      <td>0.0</td>\n",
       "      <td>0.0</td>\n",
       "      <td>500.0</td>\n",
       "      <td>0.0</td>\n",
       "      <td>768.0</td>\n",
       "      <td>350.0</td>\n",
       "      <td>919.0</td>\n",
       "      <td>1.0</td>\n",
       "    </tr>\n",
       "  </tbody>\n",
       "</table>\n",
       "<p>5 rows × 72 columns</p>\n",
       "</div>"
      ],
      "text/plain": [
       "  datasource modifier_gene_symbol target_gene_symbol  \\\n",
       "0        JVL                 ETV1                ATR   \n",
       "1        JVL              DCLRE1C              BRCA1   \n",
       "2        JVL             SMARCAL1              BRCA1   \n",
       "3        JVL               TRIP13              BRCA1   \n",
       "4        JVL                MUS81              BRCA2   \n",
       "\n",
       "   go_n_common_ancestors_max  go_n_common_ancestors_avg  \\\n",
       "0                       59.0                   2.960317   \n",
       "1                       22.0                   4.163090   \n",
       "2                       45.0                   5.598765   \n",
       "3                       43.0                   4.515110   \n",
       "4                       29.0                   4.599469   \n",
       "\n",
       "   go_n_common_ancestors_bma  go_n_union_ancestors_max  \\\n",
       "0                   6.109155                     101.0   \n",
       "1                   7.260417                      75.0   \n",
       "2                  10.268041                      87.0   \n",
       "3                  11.198020                     128.0   \n",
       "4                   9.086957                      88.0   \n",
       "\n",
       "   go_n_union_ancestors_avg  go_n_union_ancestors_bma  go_batet_max  ...  \\\n",
       "0                 28.846782                 70.535211           1.0  ...   \n",
       "1                 29.659375                 46.791667           1.0  ...   \n",
       "2                 31.152206                 59.731959           1.0  ...   \n",
       "3                 39.033929                 86.455446           1.0  ...   \n",
       "4                 28.369439                 55.318841           1.0  ...   \n",
       "\n",
       "   coexpression  coexpression_transferred  experiments  \\\n",
       "0           0.0                       0.0          0.0   \n",
       "1          80.0                       0.0        292.0   \n",
       "2          49.0                      62.0          0.0   \n",
       "3         243.0                     110.0          0.0   \n",
       "4           0.0                      61.0          0.0   \n",
       "\n",
       "   experiments_transferred  database  database_transferred  textmining  \\\n",
       "0                      0.0       0.0                   0.0         0.0   \n",
       "1                      0.0     540.0                   0.0       321.0   \n",
       "2                      0.0       0.0                   0.0       506.0   \n",
       "3                      0.0       0.0                   0.0       285.0   \n",
       "4                      0.0     500.0                   0.0       768.0   \n",
       "\n",
       "   textmining_transferred  combined_score  is_modifier  \n",
       "0                     0.0             0.0          1.0  \n",
       "1                    83.0           779.0          1.0  \n",
       "2                   204.0           602.0          1.0  \n",
       "3                    95.0           505.0          1.0  \n",
       "4                   350.0           919.0          1.0  \n",
       "\n",
       "[5 rows x 72 columns]"
      ]
     },
     "metadata": {},
     "output_type": "display_data"
    },
    {
     "data": {
      "text/html": [
       "<pre style=\"white-space:pre;overflow-x:auto;line-height:normal;font-family:Menlo,'DejaVu Sans Mono',consolas,'Courier New',monospace\"><span style=\"font-weight: bold\">(</span><span style=\"color: #008080; text-decoration-color: #008080; font-weight: bold\">5796</span>, <span style=\"color: #008080; text-decoration-color: #008080; font-weight: bold\">72</span><span style=\"font-weight: bold\">)</span>\n",
       "</pre>\n"
      ],
      "text/plain": [
       "\u001b[1m(\u001b[0m\u001b[1;36m5796\u001b[0m, \u001b[1;36m72\u001b[0m\u001b[1m)\u001b[0m\n"
      ]
     },
     "metadata": {},
     "output_type": "display_data"
    }
   ],
   "source": [
    "from re import T\n",
    "\n",
    "\n",
    "feat_cols = ['go_n_common_ancestors_max', 'go_n_common_ancestors_avg',\n",
    "       'go_n_common_ancestors_bma', 'go_n_union_ancestors_max',\n",
    "       'go_n_union_ancestors_avg', 'go_n_union_ancestors_bma', 'go_batet_max',\n",
    "       'go_batet_avg', 'go_batet_bma', 'go_batet_log_max', 'go_batet_log_avg',\n",
    "       'go_batet_log_bma', 'go_resnik_max', 'go_resnik_avg', 'go_resnik_bma',\n",
    "       'go_resnik_scaled_max', 'go_resnik_scaled_avg', 'go_resnik_scaled_bma',\n",
    "       'go_lin_max', 'go_lin_avg', 'go_lin_bma', 'go_jiang_max',\n",
    "       'go_jiang_avg', 'go_jiang_bma', 'go_jiang_seco_max',\n",
    "       'go_jiang_seco_avg', 'go_jiang_seco_bma', \n",
    "       'pheno_n_common_ancestors_max', 'pheno_n_common_ancestors_avg',\n",
    "       'pheno_n_common_ancestors_bma', 'pheno_n_union_ancestors_max',\n",
    "       'pheno_n_union_ancestors_avg', 'pheno_n_union_ancestors_bma',\n",
    "       'pheno_batet_max', 'pheno_batet_avg', 'pheno_batet_bma',\n",
    "       'pheno_batet_log_max', 'pheno_batet_log_avg', 'pheno_batet_log_bma',\n",
    "       'pheno_resnik_max', 'pheno_resnik_avg', 'pheno_resnik_bma',\n",
    "       'pheno_resnik_scaled_max', 'pheno_resnik_scaled_avg',\n",
    "       'pheno_resnik_scaled_bma', 'pheno_lin_max', 'pheno_lin_avg',\n",
    "       'pheno_lin_bma', 'pheno_jiang_max', 'pheno_jiang_avg',\n",
    "       'pheno_jiang_bma', 'pheno_jiang_seco_max', 'pheno_jiang_seco_avg',\n",
    "       'pheno_jiang_seco_bma', 'neighborhood', 'neighborhood_transferred',\n",
    "       'fusion', 'cooccurence', 'homology', 'coexpression',\n",
    "       'coexpression_transferred', 'experiments', 'experiments_transferred',\n",
    "       'database', 'database_transferred', 'textmining',\n",
    "       'textmining_transferred', 'combined_score']\n",
    "target_attr = 'is_modifier'\n",
    "id_cols = ['datasource', 'modifier_gene_symbol', 'target_gene_symbol']\n",
    "\n",
    "print(_merged_df_computed[id_cols+feat_cols+[target_attr]].shape)\n",
    "print(_mtg.shape)\n",
    "\n",
    "dataset_df = pd.concat([_merged_df_computed[id_cols+feat_cols+[target_attr]],_mtg], ignore_index=True).fillna(0)\n",
    "display(dataset_df.head())\n",
    "print(dataset_df.shape)"
   ]
  },
  {
   "cell_type": "code",
   "execution_count": 24,
   "id": "062c8ce0",
   "metadata": {},
   "outputs": [
    {
     "data": {
      "text/html": [
       "<pre style=\"white-space:pre;overflow-x:auto;line-height:normal;font-family:Menlo,'DejaVu Sans Mono',consolas,'Courier New',monospace\">MTG      <span style=\"color: #008080; text-decoration-color: #008080; font-weight: bold\">5182</span>\n",
       "JVL       <span style=\"color: #008080; text-decoration-color: #008080; font-weight: bold\">476</span>\n",
       "OLIDA     <span style=\"color: #008080; text-decoration-color: #008080; font-weight: bold\">138</span>\n",
       "Name: datasource, dtype: int64\n",
       "</pre>\n"
      ],
      "text/plain": [
       "MTG      \u001b[1;36m5182\u001b[0m\n",
       "JVL       \u001b[1;36m476\u001b[0m\n",
       "OLIDA     \u001b[1;36m138\u001b[0m\n",
       "Name: datasource, dtype: int64\n"
      ]
     },
     "metadata": {},
     "output_type": "display_data"
    }
   ],
   "source": [
    "print(dataset_df['datasource'].value_counts())"
   ]
  },
  {
   "cell_type": "code",
   "execution_count": 23,
   "id": "96ce354a",
   "metadata": {},
   "outputs": [
    {
     "data": {
      "text/html": [
       "<pre style=\"white-space:pre;overflow-x:auto;line-height:normal;font-family:Menlo,'DejaVu Sans Mono',consolas,'Courier New',monospace\"><span style=\"color: #7fbfbf; text-decoration-color: #7fbfbf\">[06/11/24 11:49:35] </span><span style=\"color: #000080; text-decoration-color: #000080\">INFO    </span> Saving data to <span style=\"color: #008000; text-decoration-color: #008000\">'modifiers'</span> <span style=\"font-weight: bold\">(</span>CSVDataset<span style=\"font-weight: bold\">)</span><span style=\"color: #808000; text-decoration-color: #808000\">...</span>                         <a href=\"file:///home/rahit/jupyter_py3/lib/python3.8/site-packages/kedro/io/data_catalog.py\" target=\"_blank\"><span style=\"color: #7f7f7f; text-decoration-color: #7f7f7f\">data_catalog.py</span></a><span style=\"color: #7f7f7f; text-decoration-color: #7f7f7f\">:</span><a href=\"file:///home/rahit/jupyter_py3/lib/python3.8/site-packages/kedro/io/data_catalog.py#531\" target=\"_blank\"><span style=\"color: #7f7f7f; text-decoration-color: #7f7f7f\">531</span></a>\n",
       "</pre>\n"
      ],
      "text/plain": [
       "\u001b[2;36m[06/11/24 11:49:35]\u001b[0m\u001b[2;36m \u001b[0m\u001b[34mINFO    \u001b[0m Saving data to \u001b[32m'modifiers'\u001b[0m \u001b[1m(\u001b[0mCSVDataset\u001b[1m)\u001b[0m\u001b[33m...\u001b[0m                         \u001b]8;id=107964;file:///home/rahit/jupyter_py3/lib/python3.8/site-packages/kedro/io/data_catalog.py\u001b\\\u001b[2mdata_catalog.py\u001b[0m\u001b]8;;\u001b\\\u001b[2m:\u001b[0m\u001b]8;id=898530;file:///home/rahit/jupyter_py3/lib/python3.8/site-packages/kedro/io/data_catalog.py#531\u001b\\\u001b[2m531\u001b[0m\u001b]8;;\u001b\\\n"
      ]
     },
     "metadata": {},
     "output_type": "display_data"
    },
    {
     "data": {
      "text/html": [
       "<pre style=\"white-space:pre;overflow-x:auto;line-height:normal;font-family:Menlo,'DejaVu Sans Mono',consolas,'Courier New',monospace\"><span style=\"color: #7fbfbf; text-decoration-color: #7fbfbf\">                    </span><span style=\"color: #000080; text-decoration-color: #000080\">INFO    </span> Saving data to <span style=\"color: #008000; text-decoration-color: #008000\">'modifiers'</span> <span style=\"font-weight: bold\">(</span>CSVDataset<span style=\"font-weight: bold\">)</span><span style=\"color: #808000; text-decoration-color: #808000\">...</span>                         <a href=\"file:///home/rahit/jupyter_py3/lib/python3.8/site-packages/kedro/io/data_catalog.py\" target=\"_blank\"><span style=\"color: #7f7f7f; text-decoration-color: #7f7f7f\">data_catalog.py</span></a><span style=\"color: #7f7f7f; text-decoration-color: #7f7f7f\">:</span><a href=\"file:///home/rahit/jupyter_py3/lib/python3.8/site-packages/kedro/io/data_catalog.py#531\" target=\"_blank\"><span style=\"color: #7f7f7f; text-decoration-color: #7f7f7f\">531</span></a>\n",
       "</pre>\n"
      ],
      "text/plain": [
       "\u001b[2;36m                   \u001b[0m\u001b[2;36m \u001b[0m\u001b[34mINFO    \u001b[0m Saving data to \u001b[32m'modifiers'\u001b[0m \u001b[1m(\u001b[0mCSVDataset\u001b[1m)\u001b[0m\u001b[33m...\u001b[0m                         \u001b]8;id=16429;file:///home/rahit/jupyter_py3/lib/python3.8/site-packages/kedro/io/data_catalog.py\u001b\\\u001b[2mdata_catalog.py\u001b[0m\u001b]8;;\u001b\\\u001b[2m:\u001b[0m\u001b]8;id=585234;file:///home/rahit/jupyter_py3/lib/python3.8/site-packages/kedro/io/data_catalog.py#531\u001b\\\u001b[2m531\u001b[0m\u001b]8;;\u001b\\\n"
      ]
     },
     "metadata": {},
     "output_type": "display_data"
    },
    {
     "data": {
      "text/html": [
       "<pre style=\"white-space:pre;overflow-x:auto;line-height:normal;font-family:Menlo,'DejaVu Sans Mono',consolas,'Courier New',monospace\"><span style=\"color: #7fbfbf; text-decoration-color: #7fbfbf\">[06/11/24 11:51:49] </span><span style=\"color: #000080; text-decoration-color: #000080\">INFO    </span> Connection to tcp:<span style=\"color: #800080; text-decoration-color: #800080\">//</span><span style=\"color: #ff00ff; text-decoration-color: #ff00ff\">199.241.164.201</span>:<span style=\"color: #008080; text-decoration-color: #008080; font-weight: bold\">22211</span> has been closed.                 <a href=\"file:///home/rahit/jupyter_py3/lib/python3.8/site-packages/distributed/core.py\" target=\"_blank\"><span style=\"color: #7f7f7f; text-decoration-color: #7f7f7f\">core.py</span></a><span style=\"color: #7f7f7f; text-decoration-color: #7f7f7f\">:</span><a href=\"file:///home/rahit/jupyter_py3/lib/python3.8/site-packages/distributed/core.py#979\" target=\"_blank\"><span style=\"color: #7f7f7f; text-decoration-color: #7f7f7f\">979</span></a>\n",
       "</pre>\n"
      ],
      "text/plain": [
       "\u001b[2;36m[06/11/24 11:51:49]\u001b[0m\u001b[2;36m \u001b[0m\u001b[34mINFO    \u001b[0m Connection to tcp:\u001b[35m/\u001b[0m\u001b[35m/\u001b[0m\u001b[95m199.241.164.201\u001b[0m:\u001b[1;36m22211\u001b[0m has been closed.                 \u001b]8;id=78568;file:///home/rahit/jupyter_py3/lib/python3.8/site-packages/distributed/core.py\u001b\\\u001b[2mcore.py\u001b[0m\u001b]8;;\u001b\\\u001b[2m:\u001b[0m\u001b]8;id=949388;file:///home/rahit/jupyter_py3/lib/python3.8/site-packages/distributed/core.py#979\u001b\\\u001b[2m979\u001b[0m\u001b]8;;\u001b\\\n"
      ]
     },
     "metadata": {},
     "output_type": "display_data"
    },
    {
     "data": {
      "text/html": [
       "<pre style=\"white-space:pre;overflow-x:auto;line-height:normal;font-family:Menlo,'DejaVu Sans Mono',consolas,'Courier New',monospace\"><span style=\"color: #7fbfbf; text-decoration-color: #7fbfbf\">                    </span><span style=\"color: #000080; text-decoration-color: #000080\">INFO    </span> Remove worker <span style=\"font-weight: bold\">&lt;</span><span style=\"color: #ff00ff; text-decoration-color: #ff00ff; font-weight: bold\">WorkerState</span><span style=\"color: #000000; text-decoration-color: #000000\"> </span><span style=\"color: #008000; text-decoration-color: #008000\">'tcp://10.29.82.93:42597'</span><span style=\"color: #000000; text-decoration-color: #000000\">, name: </span>         <a href=\"file:///home/rahit/jupyter_py3/lib/python3.8/site-packages/distributed/scheduler.py\" target=\"_blank\"><span style=\"color: #7f7f7f; text-decoration-color: #7f7f7f\">scheduler.py</span></a><span style=\"color: #7f7f7f; text-decoration-color: #7f7f7f\">:</span><a href=\"file:///home/rahit/jupyter_py3/lib/python3.8/site-packages/distributed/scheduler.py#4920\" target=\"_blank\"><span style=\"color: #7f7f7f; text-decoration-color: #7f7f7f\">4920</span></a>\n",
       "<span style=\"color: #7fbfbf; text-decoration-color: #7fbfbf\">                    </span>         <span style=\"color: #000000; text-decoration-color: #000000\">SLURMCluster-</span><span style=\"color: #008080; text-decoration-color: #008080; font-weight: bold\">0</span><span style=\"color: #000000; text-decoration-color: #000000\">, status: running, memory: </span><span style=\"color: #008080; text-decoration-color: #008080; font-weight: bold\">0</span><span style=\"color: #000000; text-decoration-color: #000000\">, processing: </span><span style=\"color: #008080; text-decoration-color: #008080; font-weight: bold\">0</span><span style=\"font-weight: bold\">&gt;</span>           <span style=\"color: #7f7f7f; text-decoration-color: #7f7f7f\">                 </span>\n",
       "</pre>\n"
      ],
      "text/plain": [
       "\u001b[2;36m                   \u001b[0m\u001b[2;36m \u001b[0m\u001b[34mINFO    \u001b[0m Remove worker \u001b[1m<\u001b[0m\u001b[1;95mWorkerState\u001b[0m\u001b[39m \u001b[0m\u001b[32m'tcp://10.29.82.93:42597'\u001b[0m\u001b[39m, name: \u001b[0m         \u001b]8;id=912261;file:///home/rahit/jupyter_py3/lib/python3.8/site-packages/distributed/scheduler.py\u001b\\\u001b[2mscheduler.py\u001b[0m\u001b]8;;\u001b\\\u001b[2m:\u001b[0m\u001b]8;id=70107;file:///home/rahit/jupyter_py3/lib/python3.8/site-packages/distributed/scheduler.py#4920\u001b\\\u001b[2m4920\u001b[0m\u001b]8;;\u001b\\\n",
       "\u001b[2;36m                    \u001b[0m         \u001b[39mSLURMCluster-\u001b[0m\u001b[1;36m0\u001b[0m\u001b[39m, status: running, memory: \u001b[0m\u001b[1;36m0\u001b[0m\u001b[39m, processing: \u001b[0m\u001b[1;36m0\u001b[0m\u001b[1m>\u001b[0m           \u001b[2m                 \u001b[0m\n"
      ]
     },
     "metadata": {},
     "output_type": "display_data"
    },
    {
     "data": {
      "text/html": [
       "<pre style=\"white-space:pre;overflow-x:auto;line-height:normal;font-family:Menlo,'DejaVu Sans Mono',consolas,'Courier New',monospace\"><span style=\"color: #7fbfbf; text-decoration-color: #7fbfbf\">                    </span><span style=\"color: #000080; text-decoration-color: #000080\">INFO    </span> Removing comms to tcp:<span style=\"color: #800080; text-decoration-color: #800080\">//</span><span style=\"color: #ff00ff; text-decoration-color: #ff00ff\">10.29.82.93</span>:<span style=\"color: #008080; text-decoration-color: #008080; font-weight: bold\">42597</span>                                 <a href=\"file:///home/rahit/jupyter_py3/lib/python3.8/site-packages/distributed/core.py\" target=\"_blank\"><span style=\"color: #7f7f7f; text-decoration-color: #7f7f7f\">core.py</span></a><span style=\"color: #7f7f7f; text-decoration-color: #7f7f7f\">:</span><a href=\"file:///home/rahit/jupyter_py3/lib/python3.8/site-packages/distributed/core.py#1641\" target=\"_blank\"><span style=\"color: #7f7f7f; text-decoration-color: #7f7f7f\">1641</span></a>\n",
       "</pre>\n"
      ],
      "text/plain": [
       "\u001b[2;36m                   \u001b[0m\u001b[2;36m \u001b[0m\u001b[34mINFO    \u001b[0m Removing comms to tcp:\u001b[35m/\u001b[0m\u001b[35m/\u001b[0m\u001b[95m10.29.82.93\u001b[0m:\u001b[1;36m42597\u001b[0m                                 \u001b]8;id=947795;file:///home/rahit/jupyter_py3/lib/python3.8/site-packages/distributed/core.py\u001b\\\u001b[2mcore.py\u001b[0m\u001b]8;;\u001b\\\u001b[2m:\u001b[0m\u001b]8;id=297094;file:///home/rahit/jupyter_py3/lib/python3.8/site-packages/distributed/core.py#1641\u001b\\\u001b[2m1641\u001b[0m\u001b]8;;\u001b\\\n"
      ]
     },
     "metadata": {},
     "output_type": "display_data"
    },
    {
     "data": {
      "text/html": [
       "<pre style=\"white-space:pre;overflow-x:auto;line-height:normal;font-family:Menlo,'DejaVu Sans Mono',consolas,'Courier New',monospace\"><span style=\"color: #7fbfbf; text-decoration-color: #7fbfbf\">                    </span><span style=\"color: #000080; text-decoration-color: #000080\">INFO    </span> Lost all workers                                                     <a href=\"file:///home/rahit/jupyter_py3/lib/python3.8/site-packages/distributed/scheduler.py\" target=\"_blank\"><span style=\"color: #7f7f7f; text-decoration-color: #7f7f7f\">scheduler.py</span></a><span style=\"color: #7f7f7f; text-decoration-color: #7f7f7f\">:</span><a href=\"file:///home/rahit/jupyter_py3/lib/python3.8/site-packages/distributed/scheduler.py#5006\" target=\"_blank\"><span style=\"color: #7f7f7f; text-decoration-color: #7f7f7f\">5006</span></a>\n",
       "</pre>\n"
      ],
      "text/plain": [
       "\u001b[2;36m                   \u001b[0m\u001b[2;36m \u001b[0m\u001b[34mINFO    \u001b[0m Lost all workers                                                     \u001b]8;id=975988;file:///home/rahit/jupyter_py3/lib/python3.8/site-packages/distributed/scheduler.py\u001b\\\u001b[2mscheduler.py\u001b[0m\u001b]8;;\u001b\\\u001b[2m:\u001b[0m\u001b]8;id=962485;file:///home/rahit/jupyter_py3/lib/python3.8/site-packages/distributed/scheduler.py#5006\u001b\\\u001b[2m5006\u001b[0m\u001b]8;;\u001b\\\n"
      ]
     },
     "metadata": {},
     "output_type": "display_data"
    },
    {
     "data": {
      "text/html": [
       "<pre style=\"white-space:pre;overflow-x:auto;line-height:normal;font-family:Menlo,'DejaVu Sans Mono',consolas,'Courier New',monospace\"><span style=\"color: #7fbfbf; text-decoration-color: #7fbfbf\">[06/11/24 11:52:08] </span><span style=\"color: #000080; text-decoration-color: #000080\">INFO    </span> Event loop was unresponsive in Scheduler for <span style=\"color: #008080; text-decoration-color: #008080; font-weight: bold\">3.</span>72s.  This is often caused  <a href=\"file:///home/rahit/jupyter_py3/lib/python3.8/site-packages/distributed/core.py\" target=\"_blank\"><span style=\"color: #7f7f7f; text-decoration-color: #7f7f7f\">core.py</span></a><span style=\"color: #7f7f7f; text-decoration-color: #7f7f7f\">:</span><a href=\"file:///home/rahit/jupyter_py3/lib/python3.8/site-packages/distributed/core.py#697\" target=\"_blank\"><span style=\"color: #7f7f7f; text-decoration-color: #7f7f7f\">697</span></a>\n",
       "<span style=\"color: #7fbfbf; text-decoration-color: #7fbfbf\">                    </span>         by long-running GIL-holding functions or moving large chunks of data. This <span style=\"color: #7f7f7f; text-decoration-color: #7f7f7f\">           </span>\n",
       "<span style=\"color: #7fbfbf; text-decoration-color: #7fbfbf\">                    </span>         can cause timeouts and instability.                                        <span style=\"color: #7f7f7f; text-decoration-color: #7f7f7f\">           </span>\n",
       "</pre>\n"
      ],
      "text/plain": [
       "\u001b[2;36m[06/11/24 11:52:08]\u001b[0m\u001b[2;36m \u001b[0m\u001b[34mINFO    \u001b[0m Event loop was unresponsive in Scheduler for \u001b[1;36m3.\u001b[0m72s.  This is often caused  \u001b]8;id=714802;file:///home/rahit/jupyter_py3/lib/python3.8/site-packages/distributed/core.py\u001b\\\u001b[2mcore.py\u001b[0m\u001b]8;;\u001b\\\u001b[2m:\u001b[0m\u001b]8;id=938459;file:///home/rahit/jupyter_py3/lib/python3.8/site-packages/distributed/core.py#697\u001b\\\u001b[2m697\u001b[0m\u001b]8;;\u001b\\\n",
       "\u001b[2;36m                    \u001b[0m         by long-running GIL-holding functions or moving large chunks of data. This \u001b[2m           \u001b[0m\n",
       "\u001b[2;36m                    \u001b[0m         can cause timeouts and instability.                                        \u001b[2m           \u001b[0m\n"
      ]
     },
     "metadata": {},
     "output_type": "display_data"
    }
   ],
   "source": [
    "catalog.save('modifiers', dataset_df)"
   ]
  }
 ],
 "metadata": {
  "kernelspec": {
   "display_name": "Kedro (modspy_data)",
   "language": "python",
   "name": "kedro_modspy_data"
  },
  "language_info": {
   "codemirror_mode": {
    "name": "ipython",
    "version": 3
   },
   "file_extension": ".py",
   "mimetype": "text/x-python",
   "name": "python",
   "nbconvert_exporter": "python",
   "pygments_lexer": "ipython3",
   "version": "3.8.10"
  }
 },
 "nbformat": 4,
 "nbformat_minor": 5
}
