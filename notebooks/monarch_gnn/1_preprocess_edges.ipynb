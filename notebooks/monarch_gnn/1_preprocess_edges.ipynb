{
 "cells": [
  {
   "cell_type": "code",
   "execution_count": 20,
   "id": "b7f9b9dd-97bd-4c38-b610-7c3b534276d7",
   "metadata": {},
   "outputs": [
    {
     "data": {
      "text/html": [
       "<pre style=\"white-space:pre;overflow-x:auto;line-height:normal;font-family:Menlo,'DejaVu Sans Mono',consolas,'Courier New',monospace\"><span style=\"color: #7fbfbf; text-decoration-color: #7fbfbf\">[02/08/24 01:24:39] </span><span style=\"color: #000080; text-decoration-color: #000080\">INFO    </span> Resolved project path as: <span style=\"color: #800080; text-decoration-color: #800080\">/scratch/rahit/</span><span style=\"color: #ff00ff; text-decoration-color: #ff00ff\">modspy-data.</span>                  <a href=\"file:///home/rahit/jupyter_py3/lib/python3.8/site-packages/kedro/ipython/__init__.py\" target=\"_blank\"><span style=\"color: #7f7f7f; text-decoration-color: #7f7f7f\">__init__.py</span></a><span style=\"color: #7f7f7f; text-decoration-color: #7f7f7f\">:</span><a href=\"file:///home/rahit/jupyter_py3/lib/python3.8/site-packages/kedro/ipython/__init__.py#139\" target=\"_blank\"><span style=\"color: #7f7f7f; text-decoration-color: #7f7f7f\">139</span></a>\n",
       "<span style=\"color: #7fbfbf; text-decoration-color: #7fbfbf\">                    </span>         To set a different path, run <span style=\"color: #008000; text-decoration-color: #008000\">'%reload_kedro &lt;project_root&gt;'</span>            <span style=\"color: #7f7f7f; text-decoration-color: #7f7f7f\">               </span>\n",
       "</pre>\n"
      ],
      "text/plain": [
       "\u001b[2;36m[02/08/24 01:24:39]\u001b[0m\u001b[2;36m \u001b[0m\u001b[34mINFO    \u001b[0m Resolved project path as: \u001b[35m/scratch/rahit/\u001b[0m\u001b[95mmodspy-data.\u001b[0m                  \u001b]8;id=672918;file:///home/rahit/jupyter_py3/lib/python3.8/site-packages/kedro/ipython/__init__.py\u001b\\\u001b[2m__init__.py\u001b[0m\u001b]8;;\u001b\\\u001b[2m:\u001b[0m\u001b]8;id=252431;file:///home/rahit/jupyter_py3/lib/python3.8/site-packages/kedro/ipython/__init__.py#139\u001b\\\u001b[2m139\u001b[0m\u001b]8;;\u001b\\\n",
       "\u001b[2;36m                    \u001b[0m         To set a different path, run \u001b[32m'%reload_kedro \u001b[0m\u001b[32m<\u001b[0m\u001b[32mproject_root\u001b[0m\u001b[32m>\u001b[0m\u001b[32m'\u001b[0m            \u001b[2m               \u001b[0m\n"
      ]
     },
     "metadata": {},
     "output_type": "display_data"
    },
    {
     "data": {
      "text/html": [
       "<pre style=\"white-space:pre;overflow-x:auto;line-height:normal;font-family:Menlo,'DejaVu Sans Mono',consolas,'Courier New',monospace\"><span style=\"color: #7fbfbf; text-decoration-color: #7fbfbf\">                    </span><span style=\"color: #000080; text-decoration-color: #000080\">INFO    </span> Resolved project path as: <span style=\"color: #800080; text-decoration-color: #800080\">/scratch/rahit/</span><span style=\"color: #ff00ff; text-decoration-color: #ff00ff\">modspy-data.</span>                  <a href=\"file:///home/rahit/jupyter_py3/lib/python3.8/site-packages/kedro/ipython/__init__.py\" target=\"_blank\"><span style=\"color: #7f7f7f; text-decoration-color: #7f7f7f\">__init__.py</span></a><span style=\"color: #7f7f7f; text-decoration-color: #7f7f7f\">:</span><a href=\"file:///home/rahit/jupyter_py3/lib/python3.8/site-packages/kedro/ipython/__init__.py#139\" target=\"_blank\"><span style=\"color: #7f7f7f; text-decoration-color: #7f7f7f\">139</span></a>\n",
       "<span style=\"color: #7fbfbf; text-decoration-color: #7fbfbf\">                    </span>         To set a different path, run <span style=\"color: #008000; text-decoration-color: #008000\">'%reload_kedro &lt;project_root&gt;'</span>            <span style=\"color: #7f7f7f; text-decoration-color: #7f7f7f\">               </span>\n",
       "</pre>\n"
      ],
      "text/plain": [
       "\u001b[2;36m                   \u001b[0m\u001b[2;36m \u001b[0m\u001b[34mINFO    \u001b[0m Resolved project path as: \u001b[35m/scratch/rahit/\u001b[0m\u001b[95mmodspy-data.\u001b[0m                  \u001b]8;id=12178;file:///home/rahit/jupyter_py3/lib/python3.8/site-packages/kedro/ipython/__init__.py\u001b\\\u001b[2m__init__.py\u001b[0m\u001b]8;;\u001b\\\u001b[2m:\u001b[0m\u001b]8;id=778501;file:///home/rahit/jupyter_py3/lib/python3.8/site-packages/kedro/ipython/__init__.py#139\u001b\\\u001b[2m139\u001b[0m\u001b]8;;\u001b\\\n",
       "\u001b[2;36m                    \u001b[0m         To set a different path, run \u001b[32m'%reload_kedro \u001b[0m\u001b[32m<\u001b[0m\u001b[32mproject_root\u001b[0m\u001b[32m>\u001b[0m\u001b[32m'\u001b[0m            \u001b[2m               \u001b[0m\n"
      ]
     },
     "metadata": {},
     "output_type": "display_data"
    },
    {
     "data": {
      "text/html": [
       "<pre style=\"white-space:pre;overflow-x:auto;line-height:normal;font-family:Menlo,'DejaVu Sans Mono',consolas,'Courier New',monospace\"><span style=\"color: #7fbfbf; text-decoration-color: #7fbfbf\">[02/08/24 01:24:46] </span><span style=\"color: #000080; text-decoration-color: #000080\">INFO    </span> Kedro project ModSpy-Data                                              <a href=\"file:///home/rahit/jupyter_py3/lib/python3.8/site-packages/kedro/ipython/__init__.py\" target=\"_blank\"><span style=\"color: #7f7f7f; text-decoration-color: #7f7f7f\">__init__.py</span></a><span style=\"color: #7f7f7f; text-decoration-color: #7f7f7f\">:</span><a href=\"file:///home/rahit/jupyter_py3/lib/python3.8/site-packages/kedro/ipython/__init__.py#108\" target=\"_blank\"><span style=\"color: #7f7f7f; text-decoration-color: #7f7f7f\">108</span></a>\n",
       "</pre>\n"
      ],
      "text/plain": [
       "\u001b[2;36m[02/08/24 01:24:46]\u001b[0m\u001b[2;36m \u001b[0m\u001b[34mINFO    \u001b[0m Kedro project ModSpy-Data                                              \u001b]8;id=713822;file:///home/rahit/jupyter_py3/lib/python3.8/site-packages/kedro/ipython/__init__.py\u001b\\\u001b[2m__init__.py\u001b[0m\u001b]8;;\u001b\\\u001b[2m:\u001b[0m\u001b]8;id=727984;file:///home/rahit/jupyter_py3/lib/python3.8/site-packages/kedro/ipython/__init__.py#108\u001b\\\u001b[2m108\u001b[0m\u001b]8;;\u001b\\\n"
      ]
     },
     "metadata": {},
     "output_type": "display_data"
    },
    {
     "data": {
      "text/html": [
       "<pre style=\"white-space:pre;overflow-x:auto;line-height:normal;font-family:Menlo,'DejaVu Sans Mono',consolas,'Courier New',monospace\"><span style=\"color: #7fbfbf; text-decoration-color: #7fbfbf\">                    </span><span style=\"color: #000080; text-decoration-color: #000080\">INFO    </span> Kedro project ModSpy-Data                                              <a href=\"file:///home/rahit/jupyter_py3/lib/python3.8/site-packages/kedro/ipython/__init__.py\" target=\"_blank\"><span style=\"color: #7f7f7f; text-decoration-color: #7f7f7f\">__init__.py</span></a><span style=\"color: #7f7f7f; text-decoration-color: #7f7f7f\">:</span><a href=\"file:///home/rahit/jupyter_py3/lib/python3.8/site-packages/kedro/ipython/__init__.py#108\" target=\"_blank\"><span style=\"color: #7f7f7f; text-decoration-color: #7f7f7f\">108</span></a>\n",
       "</pre>\n"
      ],
      "text/plain": [
       "\u001b[2;36m                   \u001b[0m\u001b[2;36m \u001b[0m\u001b[34mINFO    \u001b[0m Kedro project ModSpy-Data                                              \u001b]8;id=930068;file:///home/rahit/jupyter_py3/lib/python3.8/site-packages/kedro/ipython/__init__.py\u001b\\\u001b[2m__init__.py\u001b[0m\u001b]8;;\u001b\\\u001b[2m:\u001b[0m\u001b]8;id=814161;file:///home/rahit/jupyter_py3/lib/python3.8/site-packages/kedro/ipython/__init__.py#108\u001b\\\u001b[2m108\u001b[0m\u001b]8;;\u001b\\\n"
      ]
     },
     "metadata": {},
     "output_type": "display_data"
    },
    {
     "data": {
      "text/html": [
       "<pre style=\"white-space:pre;overflow-x:auto;line-height:normal;font-family:Menlo,'DejaVu Sans Mono',consolas,'Courier New',monospace\"><span style=\"color: #7fbfbf; text-decoration-color: #7fbfbf\">                    </span><span style=\"color: #000080; text-decoration-color: #000080\">INFO    </span> Defined global variable <span style=\"color: #008000; text-decoration-color: #008000\">'context'</span>, <span style=\"color: #008000; text-decoration-color: #008000\">'session'</span>, <span style=\"color: #008000; text-decoration-color: #008000\">'catalog'</span> and            <a href=\"file:///home/rahit/jupyter_py3/lib/python3.8/site-packages/kedro/ipython/__init__.py\" target=\"_blank\"><span style=\"color: #7f7f7f; text-decoration-color: #7f7f7f\">__init__.py</span></a><span style=\"color: #7f7f7f; text-decoration-color: #7f7f7f\">:</span><a href=\"file:///home/rahit/jupyter_py3/lib/python3.8/site-packages/kedro/ipython/__init__.py#109\" target=\"_blank\"><span style=\"color: #7f7f7f; text-decoration-color: #7f7f7f\">109</span></a>\n",
       "<span style=\"color: #7fbfbf; text-decoration-color: #7fbfbf\">                    </span>         <span style=\"color: #008000; text-decoration-color: #008000\">'pipelines'</span>                                                            <span style=\"color: #7f7f7f; text-decoration-color: #7f7f7f\">               </span>\n",
       "</pre>\n"
      ],
      "text/plain": [
       "\u001b[2;36m                   \u001b[0m\u001b[2;36m \u001b[0m\u001b[34mINFO    \u001b[0m Defined global variable \u001b[32m'context'\u001b[0m, \u001b[32m'session'\u001b[0m, \u001b[32m'catalog'\u001b[0m and            \u001b]8;id=145773;file:///home/rahit/jupyter_py3/lib/python3.8/site-packages/kedro/ipython/__init__.py\u001b\\\u001b[2m__init__.py\u001b[0m\u001b]8;;\u001b\\\u001b[2m:\u001b[0m\u001b]8;id=890472;file:///home/rahit/jupyter_py3/lib/python3.8/site-packages/kedro/ipython/__init__.py#109\u001b\\\u001b[2m109\u001b[0m\u001b]8;;\u001b\\\n",
       "\u001b[2;36m                    \u001b[0m         \u001b[32m'pipelines'\u001b[0m                                                            \u001b[2m               \u001b[0m\n"
      ]
     },
     "metadata": {},
     "output_type": "display_data"
    },
    {
     "data": {
      "text/html": [
       "<pre style=\"white-space:pre;overflow-x:auto;line-height:normal;font-family:Menlo,'DejaVu Sans Mono',consolas,'Courier New',monospace\"><span style=\"color: #7fbfbf; text-decoration-color: #7fbfbf\">                    </span><span style=\"color: #000080; text-decoration-color: #000080\">INFO    </span> Defined global variable <span style=\"color: #008000; text-decoration-color: #008000\">'context'</span>, <span style=\"color: #008000; text-decoration-color: #008000\">'session'</span>, <span style=\"color: #008000; text-decoration-color: #008000\">'catalog'</span> and            <a href=\"file:///home/rahit/jupyter_py3/lib/python3.8/site-packages/kedro/ipython/__init__.py\" target=\"_blank\"><span style=\"color: #7f7f7f; text-decoration-color: #7f7f7f\">__init__.py</span></a><span style=\"color: #7f7f7f; text-decoration-color: #7f7f7f\">:</span><a href=\"file:///home/rahit/jupyter_py3/lib/python3.8/site-packages/kedro/ipython/__init__.py#109\" target=\"_blank\"><span style=\"color: #7f7f7f; text-decoration-color: #7f7f7f\">109</span></a>\n",
       "<span style=\"color: #7fbfbf; text-decoration-color: #7fbfbf\">                    </span>         <span style=\"color: #008000; text-decoration-color: #008000\">'pipelines'</span>                                                            <span style=\"color: #7f7f7f; text-decoration-color: #7f7f7f\">               </span>\n",
       "</pre>\n"
      ],
      "text/plain": [
       "\u001b[2;36m                   \u001b[0m\u001b[2;36m \u001b[0m\u001b[34mINFO    \u001b[0m Defined global variable \u001b[32m'context'\u001b[0m, \u001b[32m'session'\u001b[0m, \u001b[32m'catalog'\u001b[0m and            \u001b]8;id=246366;file:///home/rahit/jupyter_py3/lib/python3.8/site-packages/kedro/ipython/__init__.py\u001b\\\u001b[2m__init__.py\u001b[0m\u001b]8;;\u001b\\\u001b[2m:\u001b[0m\u001b]8;id=918144;file:///home/rahit/jupyter_py3/lib/python3.8/site-packages/kedro/ipython/__init__.py#109\u001b\\\u001b[2m109\u001b[0m\u001b]8;;\u001b\\\n",
       "\u001b[2;36m                    \u001b[0m         \u001b[32m'pipelines'\u001b[0m                                                            \u001b[2m               \u001b[0m\n"
      ]
     },
     "metadata": {},
     "output_type": "display_data"
    }
   ],
   "source": [
    "%reload_kedro"
   ]
  },
  {
   "cell_type": "code",
   "execution_count": 21,
   "id": "bf9cc0b9-c95b-431b-bc81-1c5fd911c4b2",
   "metadata": {
    "tags": []
   },
   "outputs": [],
   "source": [
    "import itertools\n",
    "from collections import defaultdict\n",
    "from rich import print\n",
    "from IPython.display import display, HTML\n",
    "\n",
    "import dask\n",
    "import dask.dataframe as dd\n",
    "import dask.array as da\n",
    "from dask.distributed import Client, progress, performance_report\n",
    "from dask_jobqueue import SLURMCluster"
   ]
  },
  {
   "cell_type": "code",
   "execution_count": 22,
   "id": "b0006bf9-df4d-4d27-8e00-94a750c95122",
   "metadata": {},
   "outputs": [
    {
     "data": {
      "text/html": [
       "<pre style=\"white-space:pre;overflow-x:auto;line-height:normal;font-family:Menlo,'DejaVu Sans Mono',consolas,'Courier New',monospace\"><span style=\"color: #7fbfbf; text-decoration-color: #7fbfbf\">[02/08/24 01:24:47] </span><span style=\"color: #800000; text-decoration-color: #800000\">WARNING </span> <span style=\"color: #800080; text-decoration-color: #800080\">/home/rahit/jupyter_py3/lib/python3.8/site-packages/distributed/</span><span style=\"color: #ff00ff; text-decoration-color: #ff00ff\">node.p</span> <a href=\"file:///cvmfs/soft.computecanada.ca/easybuild/software/2020/avx2/Core/python/3.8.10/lib/python3.8/warnings.py\" target=\"_blank\"><span style=\"color: #7f7f7f; text-decoration-color: #7f7f7f\">warnings.py</span></a><span style=\"color: #7f7f7f; text-decoration-color: #7f7f7f\">:</span><a href=\"file:///cvmfs/soft.computecanada.ca/easybuild/software/2020/avx2/Core/python/3.8.10/lib/python3.8/warnings.py#109\" target=\"_blank\"><span style=\"color: #7f7f7f; text-decoration-color: #7f7f7f\">109</span></a>\n",
       "<span style=\"color: #7fbfbf; text-decoration-color: #7fbfbf\">                    </span>         <span style=\"color: #ff00ff; text-decoration-color: #ff00ff\">y</span>:<span style=\"color: #008080; text-decoration-color: #008080; font-weight: bold\">182</span>: UserWarning: Port <span style=\"color: #008080; text-decoration-color: #008080; font-weight: bold\">8787</span> is already in use.                       <span style=\"color: #7f7f7f; text-decoration-color: #7f7f7f\">               </span>\n",
       "<span style=\"color: #7fbfbf; text-decoration-color: #7fbfbf\">                    </span>         Perhaps you already have a cluster running?                            <span style=\"color: #7f7f7f; text-decoration-color: #7f7f7f\">               </span>\n",
       "<span style=\"color: #7fbfbf; text-decoration-color: #7fbfbf\">                    </span>         Hosting the HTTP server on port <span style=\"color: #008080; text-decoration-color: #008080; font-weight: bold\">34342</span> instead                          <span style=\"color: #7f7f7f; text-decoration-color: #7f7f7f\">               </span>\n",
       "<span style=\"color: #7fbfbf; text-decoration-color: #7fbfbf\">                    </span>           <span style=\"color: #800080; text-decoration-color: #800080; font-weight: bold\">warnings.warn</span><span style=\"font-weight: bold\">(</span>                                                       <span style=\"color: #7f7f7f; text-decoration-color: #7f7f7f\">               </span>\n",
       "<span style=\"color: #7fbfbf; text-decoration-color: #7fbfbf\">                    </span>                                                                                <span style=\"color: #7f7f7f; text-decoration-color: #7f7f7f\">               </span>\n",
       "</pre>\n"
      ],
      "text/plain": [
       "\u001b[2;36m[02/08/24 01:24:47]\u001b[0m\u001b[2;36m \u001b[0m\u001b[31mWARNING \u001b[0m \u001b[35m/home/rahit/jupyter_py3/lib/python3.8/site-packages/distributed/\u001b[0m\u001b[95mnode.p\u001b[0m \u001b]8;id=49712;file:///cvmfs/soft.computecanada.ca/easybuild/software/2020/avx2/Core/python/3.8.10/lib/python3.8/warnings.py\u001b\\\u001b[2mwarnings.py\u001b[0m\u001b]8;;\u001b\\\u001b[2m:\u001b[0m\u001b]8;id=902306;file:///cvmfs/soft.computecanada.ca/easybuild/software/2020/avx2/Core/python/3.8.10/lib/python3.8/warnings.py#109\u001b\\\u001b[2m109\u001b[0m\u001b]8;;\u001b\\\n",
       "\u001b[2;36m                    \u001b[0m         \u001b[95my\u001b[0m:\u001b[1;36m182\u001b[0m: UserWarning: Port \u001b[1;36m8787\u001b[0m is already in use.                       \u001b[2m               \u001b[0m\n",
       "\u001b[2;36m                    \u001b[0m         Perhaps you already have a cluster running?                            \u001b[2m               \u001b[0m\n",
       "\u001b[2;36m                    \u001b[0m         Hosting the HTTP server on port \u001b[1;36m34342\u001b[0m instead                          \u001b[2m               \u001b[0m\n",
       "\u001b[2;36m                    \u001b[0m           \u001b[1;35mwarnings.warn\u001b[0m\u001b[1m(\u001b[0m                                                       \u001b[2m               \u001b[0m\n",
       "\u001b[2;36m                    \u001b[0m                                                                                \u001b[2m               \u001b[0m\n"
      ]
     },
     "metadata": {},
     "output_type": "display_data"
    },
    {
     "data": {
      "text/html": [
       "<pre style=\"white-space:pre;overflow-x:auto;line-height:normal;font-family:Menlo,'DejaVu Sans Mono',consolas,'Courier New',monospace\"><span style=\"color: #7fbfbf; text-decoration-color: #7fbfbf\">                    </span><span style=\"color: #000080; text-decoration-color: #000080\">INFO    </span> State start                                                          <a href=\"file:///home/rahit/jupyter_py3/lib/python3.8/site-packages/distributed/scheduler.py\" target=\"_blank\"><span style=\"color: #7f7f7f; text-decoration-color: #7f7f7f\">scheduler.py</span></a><span style=\"color: #7f7f7f; text-decoration-color: #7f7f7f\">:</span><a href=\"file:///home/rahit/jupyter_py3/lib/python3.8/site-packages/distributed/scheduler.py#1615\" target=\"_blank\"><span style=\"color: #7f7f7f; text-decoration-color: #7f7f7f\">1615</span></a>\n",
       "</pre>\n"
      ],
      "text/plain": [
       "\u001b[2;36m                   \u001b[0m\u001b[2;36m \u001b[0m\u001b[34mINFO    \u001b[0m State start                                                          \u001b]8;id=342018;file:///home/rahit/jupyter_py3/lib/python3.8/site-packages/distributed/scheduler.py\u001b\\\u001b[2mscheduler.py\u001b[0m\u001b]8;;\u001b\\\u001b[2m:\u001b[0m\u001b]8;id=647013;file:///home/rahit/jupyter_py3/lib/python3.8/site-packages/distributed/scheduler.py#1615\u001b\\\u001b[2m1615\u001b[0m\u001b]8;;\u001b\\\n"
      ]
     },
     "metadata": {},
     "output_type": "display_data"
    },
    {
     "data": {
      "text/html": [
       "<pre style=\"white-space:pre;overflow-x:auto;line-height:normal;font-family:Menlo,'DejaVu Sans Mono',consolas,'Courier New',monospace\"><span style=\"color: #7fbfbf; text-decoration-color: #7fbfbf\">                    </span><span style=\"color: #000080; text-decoration-color: #000080\">INFO    </span>   Scheduler at:  tcp:<span style=\"color: #800080; text-decoration-color: #800080\">//</span><span style=\"color: #ff00ff; text-decoration-color: #ff00ff\">10.29.84.182</span>:<span style=\"color: #008080; text-decoration-color: #008080; font-weight: bold\">36718</span>                            <a href=\"file:///home/rahit/jupyter_py3/lib/python3.8/site-packages/distributed/scheduler.py\" target=\"_blank\"><span style=\"color: #7f7f7f; text-decoration-color: #7f7f7f\">scheduler.py</span></a><span style=\"color: #7f7f7f; text-decoration-color: #7f7f7f\">:</span><a href=\"file:///home/rahit/jupyter_py3/lib/python3.8/site-packages/distributed/scheduler.py#3860\" target=\"_blank\"><span style=\"color: #7f7f7f; text-decoration-color: #7f7f7f\">3860</span></a>\n",
       "</pre>\n"
      ],
      "text/plain": [
       "\u001b[2;36m                   \u001b[0m\u001b[2;36m \u001b[0m\u001b[34mINFO    \u001b[0m   Scheduler at:  tcp:\u001b[35m/\u001b[0m\u001b[35m/\u001b[0m\u001b[95m10.29.84.182\u001b[0m:\u001b[1;36m36718\u001b[0m                            \u001b]8;id=892883;file:///home/rahit/jupyter_py3/lib/python3.8/site-packages/distributed/scheduler.py\u001b\\\u001b[2mscheduler.py\u001b[0m\u001b]8;;\u001b\\\u001b[2m:\u001b[0m\u001b]8;id=336282;file:///home/rahit/jupyter_py3/lib/python3.8/site-packages/distributed/scheduler.py#3860\u001b\\\u001b[2m3860\u001b[0m\u001b]8;;\u001b\\\n"
      ]
     },
     "metadata": {},
     "output_type": "display_data"
    },
    {
     "data": {
      "text/html": [
       "<pre style=\"white-space:pre;overflow-x:auto;line-height:normal;font-family:Menlo,'DejaVu Sans Mono',consolas,'Courier New',monospace\"><span style=\"color: #7fbfbf; text-decoration-color: #7fbfbf\">                    </span><span style=\"color: #000080; text-decoration-color: #000080\">INFO    </span>   dashboard at:                    :<span style=\"color: #008080; text-decoration-color: #008080; font-weight: bold\">34342</span>                            <a href=\"file:///home/rahit/jupyter_py3/lib/python3.8/site-packages/distributed/scheduler.py\" target=\"_blank\"><span style=\"color: #7f7f7f; text-decoration-color: #7f7f7f\">scheduler.py</span></a><span style=\"color: #7f7f7f; text-decoration-color: #7f7f7f\">:</span><a href=\"file:///home/rahit/jupyter_py3/lib/python3.8/site-packages/distributed/scheduler.py#3862\" target=\"_blank\"><span style=\"color: #7f7f7f; text-decoration-color: #7f7f7f\">3862</span></a>\n",
       "</pre>\n"
      ],
      "text/plain": [
       "\u001b[2;36m                   \u001b[0m\u001b[2;36m \u001b[0m\u001b[34mINFO    \u001b[0m   dashboard at:                    :\u001b[1;36m34342\u001b[0m                            \u001b]8;id=672894;file:///home/rahit/jupyter_py3/lib/python3.8/site-packages/distributed/scheduler.py\u001b\\\u001b[2mscheduler.py\u001b[0m\u001b]8;;\u001b\\\u001b[2m:\u001b[0m\u001b]8;id=86146;file:///home/rahit/jupyter_py3/lib/python3.8/site-packages/distributed/scheduler.py#3862\u001b\\\u001b[2m3862\u001b[0m\u001b]8;;\u001b\\\n"
      ]
     },
     "metadata": {},
     "output_type": "display_data"
    }
   ],
   "source": [
    "cluster = SLURMCluster(\n",
    "    cores=16,  # Number of cores per job\n",
    "    processes=1,\n",
    "    memory='32GB',  # Memory allocated to each worker\n",
    "    walltime='00:30:00',  # Walltime limit for each job\n",
    "    # Specify any additional SLURM or Dask configurations as needed\n",
    ")"
   ]
  },
  {
   "cell_type": "code",
   "execution_count": 23,
   "id": "a9cc5c6f-c959-48d8-803b-2e90f71ec802",
   "metadata": {},
   "outputs": [
    {
     "data": {
      "text/html": [
       "<pre style=\"white-space:pre;overflow-x:auto;line-height:normal;font-family:Menlo,'DejaVu Sans Mono',consolas,'Courier New',monospace\"><span style=\"color: #7fbfbf; text-decoration-color: #7fbfbf\">[02/08/24 01:24:48] </span><span style=\"color: #000080; text-decoration-color: #000080\">INFO    </span> Receive client connection:                                           <a href=\"file:///home/rahit/jupyter_py3/lib/python3.8/site-packages/distributed/scheduler.py\" target=\"_blank\"><span style=\"color: #7f7f7f; text-decoration-color: #7f7f7f\">scheduler.py</span></a><span style=\"color: #7f7f7f; text-decoration-color: #7f7f7f\">:</span><a href=\"file:///home/rahit/jupyter_py3/lib/python3.8/site-packages/distributed/scheduler.py#5228\" target=\"_blank\"><span style=\"color: #7f7f7f; text-decoration-color: #7f7f7f\">5228</span></a>\n",
       "<span style=\"color: #7fbfbf; text-decoration-color: #7fbfbf\">                    </span>         Client-<span style=\"color: #ffff00; text-decoration-color: #ffff00\">c266267c-c64a-11ee-8fd0-707990595d1c</span>                          <span style=\"color: #7f7f7f; text-decoration-color: #7f7f7f\">                 </span>\n",
       "</pre>\n"
      ],
      "text/plain": [
       "\u001b[2;36m[02/08/24 01:24:48]\u001b[0m\u001b[2;36m \u001b[0m\u001b[34mINFO    \u001b[0m Receive client connection:                                           \u001b]8;id=912296;file:///home/rahit/jupyter_py3/lib/python3.8/site-packages/distributed/scheduler.py\u001b\\\u001b[2mscheduler.py\u001b[0m\u001b]8;;\u001b\\\u001b[2m:\u001b[0m\u001b]8;id=623157;file:///home/rahit/jupyter_py3/lib/python3.8/site-packages/distributed/scheduler.py#5228\u001b\\\u001b[2m5228\u001b[0m\u001b]8;;\u001b\\\n",
       "\u001b[2;36m                    \u001b[0m         Client-\u001b[93mc266267c-c64a-11ee-8fd0-707990595d1c\u001b[0m                          \u001b[2m                 \u001b[0m\n"
      ]
     },
     "metadata": {},
     "output_type": "display_data"
    },
    {
     "data": {
      "text/html": [
       "<pre style=\"white-space:pre;overflow-x:auto;line-height:normal;font-family:Menlo,'DejaVu Sans Mono',consolas,'Courier New',monospace\"><span style=\"color: #7fbfbf; text-decoration-color: #7fbfbf\">                    </span><span style=\"color: #000080; text-decoration-color: #000080\">INFO    </span> Starting established connection to tcp:<span style=\"color: #800080; text-decoration-color: #800080\">//</span><span style=\"color: #ff00ff; text-decoration-color: #ff00ff\">10.29.84.182</span>:<span style=\"color: #008080; text-decoration-color: #008080; font-weight: bold\">41028</span>                <a href=\"file:///home/rahit/jupyter_py3/lib/python3.8/site-packages/distributed/core.py\" target=\"_blank\"><span style=\"color: #7f7f7f; text-decoration-color: #7f7f7f\">core.py</span></a><span style=\"color: #7f7f7f; text-decoration-color: #7f7f7f\">:</span><a href=\"file:///home/rahit/jupyter_py3/lib/python3.8/site-packages/distributed/core.py#867\" target=\"_blank\"><span style=\"color: #7f7f7f; text-decoration-color: #7f7f7f\">867</span></a>\n",
       "</pre>\n"
      ],
      "text/plain": [
       "\u001b[2;36m                   \u001b[0m\u001b[2;36m \u001b[0m\u001b[34mINFO    \u001b[0m Starting established connection to tcp:\u001b[35m/\u001b[0m\u001b[35m/\u001b[0m\u001b[95m10.29.84.182\u001b[0m:\u001b[1;36m41028\u001b[0m                \u001b]8;id=823737;file:///home/rahit/jupyter_py3/lib/python3.8/site-packages/distributed/core.py\u001b\\\u001b[2mcore.py\u001b[0m\u001b]8;;\u001b\\\u001b[2m:\u001b[0m\u001b]8;id=264190;file:///home/rahit/jupyter_py3/lib/python3.8/site-packages/distributed/core.py#867\u001b\\\u001b[2m867\u001b[0m\u001b]8;;\u001b\\\n"
      ]
     },
     "metadata": {},
     "output_type": "display_data"
    }
   ],
   "source": [
    "client = Client(cluster)  # start distributed scheduler locally."
   ]
  },
  {
   "cell_type": "code",
   "execution_count": 24,
   "id": "3b8319e3-5d86-45c8-9364-ccdc6782455a",
   "metadata": {},
   "outputs": [],
   "source": [
    "# Scale the cluster to the desired number of workers\n",
    "cluster.scale(jobs=1)  # Request 10 jobs, adjust based on your needs"
   ]
  },
  {
   "cell_type": "code",
   "execution_count": 25,
   "id": "356c7894-e8f6-4b5b-b430-9038d320fe8d",
   "metadata": {},
   "outputs": [
    {
     "name": "stdout",
     "output_type": "stream",
     "text": [
      "/scratch/rahit/modspy-data/notebooks/monarch_gnn\n"
     ]
    }
   ],
   "source": [
    "!pwd"
   ]
  },
  {
   "cell_type": "code",
   "execution_count": 26,
   "id": "1593e9e0-fedd-4f46-b48e-3807f80e0b40",
   "metadata": {},
   "outputs": [
    {
     "data": {
      "text/html": [
       "<pre style=\"white-space:pre;overflow-x:auto;line-height:normal;font-family:Menlo,'DejaVu Sans Mono',consolas,'Courier New',monospace\"><span style=\"color: #7fbfbf; text-decoration-color: #7fbfbf\">[02/08/24 01:25:05] </span><span style=\"color: #000080; text-decoration-color: #000080\">INFO    </span> Register worker <span style=\"font-weight: bold\">&lt;</span><span style=\"color: #ff00ff; text-decoration-color: #ff00ff; font-weight: bold\">WorkerState</span><span style=\"color: #000000; text-decoration-color: #000000\"> </span><span style=\"color: #008000; text-decoration-color: #008000\">'tcp://10.29.83.200:39622'</span><span style=\"color: #000000; text-decoration-color: #000000\">, name: </span>      <a href=\"file:///home/rahit/jupyter_py3/lib/python3.8/site-packages/distributed/scheduler.py\" target=\"_blank\"><span style=\"color: #7f7f7f; text-decoration-color: #7f7f7f\">scheduler.py</span></a><span style=\"color: #7f7f7f; text-decoration-color: #7f7f7f\">:</span><a href=\"file:///home/rahit/jupyter_py3/lib/python3.8/site-packages/distributed/scheduler.py#4212\" target=\"_blank\"><span style=\"color: #7f7f7f; text-decoration-color: #7f7f7f\">4212</span></a>\n",
       "<span style=\"color: #7fbfbf; text-decoration-color: #7fbfbf\">                    </span>         <span style=\"color: #000000; text-decoration-color: #000000\">SLURMCluster-</span><span style=\"color: #008080; text-decoration-color: #008080; font-weight: bold\">0</span><span style=\"color: #000000; text-decoration-color: #000000\">, status: init, memory: </span><span style=\"color: #008080; text-decoration-color: #008080; font-weight: bold\">0</span><span style=\"color: #000000; text-decoration-color: #000000\">, processing: </span><span style=\"color: #008080; text-decoration-color: #008080; font-weight: bold\">0</span><span style=\"font-weight: bold\">&gt;</span>              <span style=\"color: #7f7f7f; text-decoration-color: #7f7f7f\">                 </span>\n",
       "</pre>\n"
      ],
      "text/plain": [
       "\u001b[2;36m[02/08/24 01:25:05]\u001b[0m\u001b[2;36m \u001b[0m\u001b[34mINFO    \u001b[0m Register worker \u001b[1m<\u001b[0m\u001b[1;95mWorkerState\u001b[0m\u001b[39m \u001b[0m\u001b[32m'tcp://10.29.83.200:39622'\u001b[0m\u001b[39m, name: \u001b[0m      \u001b]8;id=18255;file:///home/rahit/jupyter_py3/lib/python3.8/site-packages/distributed/scheduler.py\u001b\\\u001b[2mscheduler.py\u001b[0m\u001b]8;;\u001b\\\u001b[2m:\u001b[0m\u001b]8;id=975121;file:///home/rahit/jupyter_py3/lib/python3.8/site-packages/distributed/scheduler.py#4212\u001b\\\u001b[2m4212\u001b[0m\u001b]8;;\u001b\\\n",
       "\u001b[2;36m                    \u001b[0m         \u001b[39mSLURMCluster-\u001b[0m\u001b[1;36m0\u001b[0m\u001b[39m, status: init, memory: \u001b[0m\u001b[1;36m0\u001b[0m\u001b[39m, processing: \u001b[0m\u001b[1;36m0\u001b[0m\u001b[1m>\u001b[0m              \u001b[2m                 \u001b[0m\n"
      ]
     },
     "metadata": {},
     "output_type": "display_data"
    },
    {
     "data": {
      "text/html": [
       "<pre style=\"white-space:pre;overflow-x:auto;line-height:normal;font-family:Menlo,'DejaVu Sans Mono',consolas,'Courier New',monospace\"><span style=\"color: #7fbfbf; text-decoration-color: #7fbfbf\">                    </span><span style=\"color: #000080; text-decoration-color: #000080\">INFO    </span> Starting worker compute stream, tcp:<span style=\"color: #800080; text-decoration-color: #800080\">//</span><span style=\"color: #ff00ff; text-decoration-color: #ff00ff\">10.29.83.200</span>:<span style=\"color: #008080; text-decoration-color: #008080; font-weight: bold\">39622</span>             <a href=\"file:///home/rahit/jupyter_py3/lib/python3.8/site-packages/distributed/scheduler.py\" target=\"_blank\"><span style=\"color: #7f7f7f; text-decoration-color: #7f7f7f\">scheduler.py</span></a><span style=\"color: #7f7f7f; text-decoration-color: #7f7f7f\">:</span><a href=\"file:///home/rahit/jupyter_py3/lib/python3.8/site-packages/distributed/scheduler.py#5468\" target=\"_blank\"><span style=\"color: #7f7f7f; text-decoration-color: #7f7f7f\">5468</span></a>\n",
       "</pre>\n"
      ],
      "text/plain": [
       "\u001b[2;36m                   \u001b[0m\u001b[2;36m \u001b[0m\u001b[34mINFO    \u001b[0m Starting worker compute stream, tcp:\u001b[35m/\u001b[0m\u001b[35m/\u001b[0m\u001b[95m10.29.83.200\u001b[0m:\u001b[1;36m39622\u001b[0m             \u001b]8;id=395044;file:///home/rahit/jupyter_py3/lib/python3.8/site-packages/distributed/scheduler.py\u001b\\\u001b[2mscheduler.py\u001b[0m\u001b]8;;\u001b\\\u001b[2m:\u001b[0m\u001b]8;id=791322;file:///home/rahit/jupyter_py3/lib/python3.8/site-packages/distributed/scheduler.py#5468\u001b\\\u001b[2m5468\u001b[0m\u001b]8;;\u001b\\\n"
      ]
     },
     "metadata": {},
     "output_type": "display_data"
    },
    {
     "data": {
      "text/html": [
       "<pre style=\"white-space:pre;overflow-x:auto;line-height:normal;font-family:Menlo,'DejaVu Sans Mono',consolas,'Courier New',monospace\"><span style=\"color: #7fbfbf; text-decoration-color: #7fbfbf\">                    </span><span style=\"color: #000080; text-decoration-color: #000080\">INFO    </span> Starting established connection to tcp:<span style=\"color: #800080; text-decoration-color: #800080\">//</span><span style=\"color: #ff00ff; text-decoration-color: #ff00ff\">10.29.83.200</span>:<span style=\"color: #008080; text-decoration-color: #008080; font-weight: bold\">60878</span>                <a href=\"file:///home/rahit/jupyter_py3/lib/python3.8/site-packages/distributed/core.py\" target=\"_blank\"><span style=\"color: #7f7f7f; text-decoration-color: #7f7f7f\">core.py</span></a><span style=\"color: #7f7f7f; text-decoration-color: #7f7f7f\">:</span><a href=\"file:///home/rahit/jupyter_py3/lib/python3.8/site-packages/distributed/core.py#867\" target=\"_blank\"><span style=\"color: #7f7f7f; text-decoration-color: #7f7f7f\">867</span></a>\n",
       "</pre>\n"
      ],
      "text/plain": [
       "\u001b[2;36m                   \u001b[0m\u001b[2;36m \u001b[0m\u001b[34mINFO    \u001b[0m Starting established connection to tcp:\u001b[35m/\u001b[0m\u001b[35m/\u001b[0m\u001b[95m10.29.83.200\u001b[0m:\u001b[1;36m60878\u001b[0m                \u001b]8;id=231703;file:///home/rahit/jupyter_py3/lib/python3.8/site-packages/distributed/core.py\u001b\\\u001b[2mcore.py\u001b[0m\u001b]8;;\u001b\\\u001b[2m:\u001b[0m\u001b]8;id=733597;file:///home/rahit/jupyter_py3/lib/python3.8/site-packages/distributed/core.py#867\u001b\\\u001b[2m867\u001b[0m\u001b]8;;\u001b\\\n"
      ]
     },
     "metadata": {},
     "output_type": "display_data"
    }
   ],
   "source": [
    "nodes_df = dd.read_csv('../../data/01_raw/monarch/monarch-kg_nodes.tsv', sep='\\t', usecols=['id', 'category', 'name', 'in_taxon', 'in_taxon_label', 'symbol'], dtype={'id':'object', \n",
    "                        'category':'object', 'name':'object', 'in_taxon':'object', 'in_taxon_label':'object', 'symbol':'object'})\n",
    "edges_df = dd.read_csv('../../data/01_raw/monarch/monarch-kg_edges.tsv', sep='\\t', usecols=['id', 'original_subject', 'predicate', 'original_object', 'category', 'subject', 'object'],\n",
    "                      dtype={'id':'object', 'original_subject':'object', 'predicate':'object', 'original_object':'object', 'category':'object', 'subject':'object', 'object':'object'})"
   ]
  },
  {
   "cell_type": "code",
   "execution_count": 8,
   "id": "88061895-4329-4c19-a319-80379c808855",
   "metadata": {},
   "outputs": [
    {
     "data": {
      "text/html": [
       "<pre style=\"white-space:pre;overflow-x:auto;line-height:normal;font-family:Menlo,'DejaVu Sans Mono',consolas,'Courier New',monospace\"><span style=\"color: #7fbfbf; text-decoration-color: #7fbfbf\">[02/07/24 19:13:27] </span><span style=\"color: #000080; text-decoration-color: #000080\">INFO    </span> Register worker <span style=\"font-weight: bold\">&lt;</span><span style=\"color: #ff00ff; text-decoration-color: #ff00ff; font-weight: bold\">WorkerState</span><span style=\"color: #000000; text-decoration-color: #000000\"> </span><span style=\"color: #008000; text-decoration-color: #008000\">'tcp://10.29.83.188:43549'</span><span style=\"color: #000000; text-decoration-color: #000000\">, name: </span>      <a href=\"file:///home/rahit/jupyter_py3/lib/python3.8/site-packages/distributed/scheduler.py\" target=\"_blank\"><span style=\"color: #7f7f7f; text-decoration-color: #7f7f7f\">scheduler.py</span></a><span style=\"color: #7f7f7f; text-decoration-color: #7f7f7f\">:</span><a href=\"file:///home/rahit/jupyter_py3/lib/python3.8/site-packages/distributed/scheduler.py#4212\" target=\"_blank\"><span style=\"color: #7f7f7f; text-decoration-color: #7f7f7f\">4212</span></a>\n",
       "<span style=\"color: #7fbfbf; text-decoration-color: #7fbfbf\">                    </span>         <span style=\"color: #000000; text-decoration-color: #000000\">SLURMCluster-</span><span style=\"color: #008080; text-decoration-color: #008080; font-weight: bold\">0</span><span style=\"color: #000000; text-decoration-color: #000000\">, status: init, memory: </span><span style=\"color: #008080; text-decoration-color: #008080; font-weight: bold\">0</span><span style=\"color: #000000; text-decoration-color: #000000\">, processing: </span><span style=\"color: #008080; text-decoration-color: #008080; font-weight: bold\">0</span><span style=\"font-weight: bold\">&gt;</span>              <span style=\"color: #7f7f7f; text-decoration-color: #7f7f7f\">                 </span>\n",
       "</pre>\n"
      ],
      "text/plain": [
       "\u001b[2;36m[02/07/24 19:13:27]\u001b[0m\u001b[2;36m \u001b[0m\u001b[34mINFO    \u001b[0m Register worker \u001b[1m<\u001b[0m\u001b[1;95mWorkerState\u001b[0m\u001b[39m \u001b[0m\u001b[32m'tcp://10.29.83.188:43549'\u001b[0m\u001b[39m, name: \u001b[0m      \u001b]8;id=934367;file:///home/rahit/jupyter_py3/lib/python3.8/site-packages/distributed/scheduler.py\u001b\\\u001b[2mscheduler.py\u001b[0m\u001b]8;;\u001b\\\u001b[2m:\u001b[0m\u001b]8;id=492190;file:///home/rahit/jupyter_py3/lib/python3.8/site-packages/distributed/scheduler.py#4212\u001b\\\u001b[2m4212\u001b[0m\u001b]8;;\u001b\\\n",
       "\u001b[2;36m                    \u001b[0m         \u001b[39mSLURMCluster-\u001b[0m\u001b[1;36m0\u001b[0m\u001b[39m, status: init, memory: \u001b[0m\u001b[1;36m0\u001b[0m\u001b[39m, processing: \u001b[0m\u001b[1;36m0\u001b[0m\u001b[1m>\u001b[0m              \u001b[2m                 \u001b[0m\n"
      ]
     },
     "metadata": {},
     "output_type": "display_data"
    },
    {
     "data": {
      "text/html": [
       "<pre style=\"white-space:pre;overflow-x:auto;line-height:normal;font-family:Menlo,'DejaVu Sans Mono',consolas,'Courier New',monospace\"><span style=\"color: #7fbfbf; text-decoration-color: #7fbfbf\">                    </span><span style=\"color: #000080; text-decoration-color: #000080\">INFO    </span> Starting worker compute stream, tcp:<span style=\"color: #800080; text-decoration-color: #800080\">//</span><span style=\"color: #ff00ff; text-decoration-color: #ff00ff\">10.29.83.188</span>:<span style=\"color: #008080; text-decoration-color: #008080; font-weight: bold\">43549</span>             <a href=\"file:///home/rahit/jupyter_py3/lib/python3.8/site-packages/distributed/scheduler.py\" target=\"_blank\"><span style=\"color: #7f7f7f; text-decoration-color: #7f7f7f\">scheduler.py</span></a><span style=\"color: #7f7f7f; text-decoration-color: #7f7f7f\">:</span><a href=\"file:///home/rahit/jupyter_py3/lib/python3.8/site-packages/distributed/scheduler.py#5468\" target=\"_blank\"><span style=\"color: #7f7f7f; text-decoration-color: #7f7f7f\">5468</span></a>\n",
       "</pre>\n"
      ],
      "text/plain": [
       "\u001b[2;36m                   \u001b[0m\u001b[2;36m \u001b[0m\u001b[34mINFO    \u001b[0m Starting worker compute stream, tcp:\u001b[35m/\u001b[0m\u001b[35m/\u001b[0m\u001b[95m10.29.83.188\u001b[0m:\u001b[1;36m43549\u001b[0m             \u001b]8;id=412962;file:///home/rahit/jupyter_py3/lib/python3.8/site-packages/distributed/scheduler.py\u001b\\\u001b[2mscheduler.py\u001b[0m\u001b]8;;\u001b\\\u001b[2m:\u001b[0m\u001b]8;id=91683;file:///home/rahit/jupyter_py3/lib/python3.8/site-packages/distributed/scheduler.py#5468\u001b\\\u001b[2m5468\u001b[0m\u001b]8;;\u001b\\\n"
      ]
     },
     "metadata": {},
     "output_type": "display_data"
    },
    {
     "data": {
      "text/html": [
       "<pre style=\"white-space:pre;overflow-x:auto;line-height:normal;font-family:Menlo,'DejaVu Sans Mono',consolas,'Courier New',monospace\"><span style=\"color: #7fbfbf; text-decoration-color: #7fbfbf\">                    </span><span style=\"color: #000080; text-decoration-color: #000080\">INFO    </span> Starting established connection to tcp:<span style=\"color: #800080; text-decoration-color: #800080\">//</span><span style=\"color: #ff00ff; text-decoration-color: #ff00ff\">10.29.83.188</span>:<span style=\"color: #008080; text-decoration-color: #008080; font-weight: bold\">38936</span>                <a href=\"file:///home/rahit/jupyter_py3/lib/python3.8/site-packages/distributed/core.py\" target=\"_blank\"><span style=\"color: #7f7f7f; text-decoration-color: #7f7f7f\">core.py</span></a><span style=\"color: #7f7f7f; text-decoration-color: #7f7f7f\">:</span><a href=\"file:///home/rahit/jupyter_py3/lib/python3.8/site-packages/distributed/core.py#867\" target=\"_blank\"><span style=\"color: #7f7f7f; text-decoration-color: #7f7f7f\">867</span></a>\n",
       "</pre>\n"
      ],
      "text/plain": [
       "\u001b[2;36m                   \u001b[0m\u001b[2;36m \u001b[0m\u001b[34mINFO    \u001b[0m Starting established connection to tcp:\u001b[35m/\u001b[0m\u001b[35m/\u001b[0m\u001b[95m10.29.83.188\u001b[0m:\u001b[1;36m38936\u001b[0m                \u001b]8;id=737969;file:///home/rahit/jupyter_py3/lib/python3.8/site-packages/distributed/core.py\u001b\\\u001b[2mcore.py\u001b[0m\u001b]8;;\u001b\\\u001b[2m:\u001b[0m\u001b]8;id=909091;file:///home/rahit/jupyter_py3/lib/python3.8/site-packages/distributed/core.py#867\u001b\\\u001b[2m867\u001b[0m\u001b]8;;\u001b\\\n"
      ]
     },
     "metadata": {},
     "output_type": "display_data"
    },
    {
     "data": {
      "text/html": [
       "<div>\n",
       "<style scoped>\n",
       "    .dataframe tbody tr th:only-of-type {\n",
       "        vertical-align: middle;\n",
       "    }\n",
       "\n",
       "    .dataframe tbody tr th {\n",
       "        vertical-align: top;\n",
       "    }\n",
       "\n",
       "    .dataframe thead th {\n",
       "        text-align: right;\n",
       "    }\n",
       "</style>\n",
       "<table border=\"1\" class=\"dataframe\">\n",
       "  <thead>\n",
       "    <tr style=\"text-align: right;\">\n",
       "      <th></th>\n",
       "      <th>id</th>\n",
       "      <th>original_subject</th>\n",
       "      <th>predicate</th>\n",
       "      <th>original_object</th>\n",
       "      <th>category</th>\n",
       "      <th>subject</th>\n",
       "      <th>object</th>\n",
       "    </tr>\n",
       "  </thead>\n",
       "  <tbody>\n",
       "    <tr>\n",
       "      <th>0</th>\n",
       "      <td>uuid:68d6e706-9bb0-11ee-b780-6b2918cfaf31</td>\n",
       "      <td>NCBIGene:64170</td>\n",
       "      <td>biolink:causes</td>\n",
       "      <td>OMIM:212050</td>\n",
       "      <td>biolink:CausalGeneToDiseaseAssociation</td>\n",
       "      <td>HGNC:16391</td>\n",
       "      <td>MONDO:0008905</td>\n",
       "    </tr>\n",
       "    <tr>\n",
       "      <th>1</th>\n",
       "      <td>uuid:68d6e707-9bb0-11ee-b780-6b2918cfaf31</td>\n",
       "      <td>NCBIGene:51256</td>\n",
       "      <td>biolink:causes</td>\n",
       "      <td>OMIM:248000</td>\n",
       "      <td>biolink:CausalGeneToDiseaseAssociation</td>\n",
       "      <td>HGNC:21066</td>\n",
       "      <td>MONDO:0009544</td>\n",
       "    </tr>\n",
       "    <tr>\n",
       "      <th>2</th>\n",
       "      <td>uuid:68d6e708-9bb0-11ee-b780-6b2918cfaf31</td>\n",
       "      <td>NCBIGene:28981</td>\n",
       "      <td>biolink:causes</td>\n",
       "      <td>OMIM:617895</td>\n",
       "      <td>biolink:CausalGeneToDiseaseAssociation</td>\n",
       "      <td>HGNC:14313</td>\n",
       "      <td>MONDO:0033485</td>\n",
       "    </tr>\n",
       "    <tr>\n",
       "      <th>3</th>\n",
       "      <td>uuid:68d6e709-9bb0-11ee-b780-6b2918cfaf31</td>\n",
       "      <td>NCBIGene:8216</td>\n",
       "      <td>biolink:causes</td>\n",
       "      <td>OMIM:616564</td>\n",
       "      <td>biolink:CausalGeneToDiseaseAssociation</td>\n",
       "      <td>HGNC:6742</td>\n",
       "      <td>MONDO:0014693</td>\n",
       "    </tr>\n",
       "    <tr>\n",
       "      <th>4</th>\n",
       "      <td>uuid:68d6e70a-9bb0-11ee-b780-6b2918cfaf31</td>\n",
       "      <td>NCBIGene:6505</td>\n",
       "      <td>biolink:contributes_to</td>\n",
       "      <td>OMIM:615232</td>\n",
       "      <td>biolink:CorrelatedGeneToDiseaseAssociation</td>\n",
       "      <td>HGNC:10939</td>\n",
       "      <td>MONDO:0014092</td>\n",
       "    </tr>\n",
       "  </tbody>\n",
       "</table>\n",
       "</div>"
      ],
      "text/plain": [
       "                                          id original_subject  \\\n",
       "0  uuid:68d6e706-9bb0-11ee-b780-6b2918cfaf31   NCBIGene:64170   \n",
       "1  uuid:68d6e707-9bb0-11ee-b780-6b2918cfaf31   NCBIGene:51256   \n",
       "2  uuid:68d6e708-9bb0-11ee-b780-6b2918cfaf31   NCBIGene:28981   \n",
       "3  uuid:68d6e709-9bb0-11ee-b780-6b2918cfaf31    NCBIGene:8216   \n",
       "4  uuid:68d6e70a-9bb0-11ee-b780-6b2918cfaf31    NCBIGene:6505   \n",
       "\n",
       "                predicate original_object  \\\n",
       "0          biolink:causes     OMIM:212050   \n",
       "1          biolink:causes     OMIM:248000   \n",
       "2          biolink:causes     OMIM:617895   \n",
       "3          biolink:causes     OMIM:616564   \n",
       "4  biolink:contributes_to     OMIM:615232   \n",
       "\n",
       "                                     category     subject         object  \n",
       "0      biolink:CausalGeneToDiseaseAssociation  HGNC:16391  MONDO:0008905  \n",
       "1      biolink:CausalGeneToDiseaseAssociation  HGNC:21066  MONDO:0009544  \n",
       "2      biolink:CausalGeneToDiseaseAssociation  HGNC:14313  MONDO:0033485  \n",
       "3      biolink:CausalGeneToDiseaseAssociation   HGNC:6742  MONDO:0014693  \n",
       "4  biolink:CorrelatedGeneToDiseaseAssociation  HGNC:10939  MONDO:0014092  "
      ]
     },
     "execution_count": 8,
     "metadata": {},
     "output_type": "execute_result"
    }
   ],
   "source": [
    "edges_df.head()"
   ]
  },
  {
   "cell_type": "markdown",
   "id": "b30cb540-ba7b-4155-9973-3031b3d8c7f6",
   "metadata": {},
   "source": [
    "Adding nodes' category information by merging node dataframe on the subject and object column."
   ]
  },
  {
   "cell_type": "code",
   "execution_count": 27,
   "id": "9774a65a-ae7e-4254-a799-2c9b36aef1be",
   "metadata": {},
   "outputs": [],
   "source": [
    "nodes_df = nodes_df.set_index('id')"
   ]
  },
  {
   "cell_type": "code",
   "execution_count": 10,
   "id": "3989bd9c-b4f6-4a3c-b14c-94204eba6713",
   "metadata": {
    "tags": []
   },
   "outputs": [
    {
     "data": {
      "text/html": [
       "<pre style=\"white-space:pre;overflow-x:auto;line-height:normal;font-family:Menlo,'DejaVu Sans Mono',consolas,'Courier New',monospace\">Columns after merging on subject category: <span style=\"color: #800080; text-decoration-color: #800080; font-weight: bold\">Index</span><span style=\"font-weight: bold\">([</span><span style=\"color: #008000; text-decoration-color: #008000\">'id'</span>, <span style=\"color: #008000; text-decoration-color: #008000\">'original_subject'</span>, <span style=\"color: #008000; text-decoration-color: #008000\">'predicate'</span>, <span style=\"color: #008000; text-decoration-color: #008000\">'original_object'</span>,\n",
       "       <span style=\"color: #008000; text-decoration-color: #008000\">'subject_category'</span>, <span style=\"color: #008000; text-decoration-color: #008000\">'subject'</span>, <span style=\"color: #008000; text-decoration-color: #008000\">'object'</span>, <span style=\"color: #008000; text-decoration-color: #008000\">'edge_category'</span>, <span style=\"color: #008000; text-decoration-color: #008000\">'name'</span>,\n",
       "       <span style=\"color: #008000; text-decoration-color: #008000\">'in_taxon'</span>, <span style=\"color: #008000; text-decoration-color: #008000\">'in_taxon_label'</span>, <span style=\"color: #008000; text-decoration-color: #008000\">'symbol'</span><span style=\"font-weight: bold\">]</span>,\n",
       "      <span style=\"color: #808000; text-decoration-color: #808000\">dtype</span>=<span style=\"color: #008000; text-decoration-color: #008000\">'object'</span><span style=\"font-weight: bold\">)</span>\n",
       "</pre>\n"
      ],
      "text/plain": [
       "Columns after merging on subject category: \u001b[1;35mIndex\u001b[0m\u001b[1m(\u001b[0m\u001b[1m[\u001b[0m\u001b[32m'id'\u001b[0m, \u001b[32m'original_subject'\u001b[0m, \u001b[32m'predicate'\u001b[0m, \u001b[32m'original_object'\u001b[0m,\n",
       "       \u001b[32m'subject_category'\u001b[0m, \u001b[32m'subject'\u001b[0m, \u001b[32m'object'\u001b[0m, \u001b[32m'edge_category'\u001b[0m, \u001b[32m'name'\u001b[0m,\n",
       "       \u001b[32m'in_taxon'\u001b[0m, \u001b[32m'in_taxon_label'\u001b[0m, \u001b[32m'symbol'\u001b[0m\u001b[1m]\u001b[0m,\n",
       "      \u001b[33mdtype\u001b[0m=\u001b[32m'object'\u001b[0m\u001b[1m)\u001b[0m\n"
      ]
     },
     "metadata": {},
     "output_type": "display_data"
    },
    {
     "data": {
      "text/html": [
       "<pre style=\"white-space:pre;overflow-x:auto;line-height:normal;font-family:Menlo,'DejaVu Sans Mono',consolas,'Courier New',monospace\">Columns after merging on object category: <span style=\"color: #800080; text-decoration-color: #800080; font-weight: bold\">Index</span><span style=\"font-weight: bold\">([</span><span style=\"color: #008000; text-decoration-color: #008000\">'id'</span>, <span style=\"color: #008000; text-decoration-color: #008000\">'original_subject'</span>, <span style=\"color: #008000; text-decoration-color: #008000\">'predicate'</span>, <span style=\"color: #008000; text-decoration-color: #008000\">'original_object'</span>,\n",
       "       <span style=\"color: #008000; text-decoration-color: #008000\">'subject_category'</span>, <span style=\"color: #008000; text-decoration-color: #008000\">'subject'</span>, <span style=\"color: #008000; text-decoration-color: #008000\">'object'</span>, <span style=\"color: #008000; text-decoration-color: #008000\">'edge_category'</span>, <span style=\"color: #008000; text-decoration-color: #008000\">'name_ndf'</span>,\n",
       "       <span style=\"color: #008000; text-decoration-color: #008000\">'in_taxon_ndf'</span>, <span style=\"color: #008000; text-decoration-color: #008000\">'in_taxon_label_ndf'</span>, <span style=\"color: #008000; text-decoration-color: #008000\">'symbol_ndf'</span>, <span style=\"color: #008000; text-decoration-color: #008000\">'object_category'</span>,\n",
       "       <span style=\"color: #008000; text-decoration-color: #008000\">'name_edf'</span>, <span style=\"color: #008000; text-decoration-color: #008000\">'in_taxon_edf'</span>, <span style=\"color: #008000; text-decoration-color: #008000\">'in_taxon_label_edf'</span>, <span style=\"color: #008000; text-decoration-color: #008000\">'symbol_edf'</span><span style=\"font-weight: bold\">]</span>,\n",
       "      <span style=\"color: #808000; text-decoration-color: #808000\">dtype</span>=<span style=\"color: #008000; text-decoration-color: #008000\">'object'</span><span style=\"font-weight: bold\">)</span>\n",
       "</pre>\n"
      ],
      "text/plain": [
       "Columns after merging on object category: \u001b[1;35mIndex\u001b[0m\u001b[1m(\u001b[0m\u001b[1m[\u001b[0m\u001b[32m'id'\u001b[0m, \u001b[32m'original_subject'\u001b[0m, \u001b[32m'predicate'\u001b[0m, \u001b[32m'original_object'\u001b[0m,\n",
       "       \u001b[32m'subject_category'\u001b[0m, \u001b[32m'subject'\u001b[0m, \u001b[32m'object'\u001b[0m, \u001b[32m'edge_category'\u001b[0m, \u001b[32m'name_ndf'\u001b[0m,\n",
       "       \u001b[32m'in_taxon_ndf'\u001b[0m, \u001b[32m'in_taxon_label_ndf'\u001b[0m, \u001b[32m'symbol_ndf'\u001b[0m, \u001b[32m'object_category'\u001b[0m,\n",
       "       \u001b[32m'name_edf'\u001b[0m, \u001b[32m'in_taxon_edf'\u001b[0m, \u001b[32m'in_taxon_label_edf'\u001b[0m, \u001b[32m'symbol_edf'\u001b[0m\u001b[1m]\u001b[0m,\n",
       "      \u001b[33mdtype\u001b[0m=\u001b[32m'object'\u001b[0m\u001b[1m)\u001b[0m\n"
      ]
     },
     "metadata": {},
     "output_type": "display_data"
    }
   ],
   "source": [
    "_edf = edges_df.merge(nodes_df, left_on='subject', right_index=True, suffixes=('_ndf', '_edf'))    # @TODO swap _ndf and _edf \n",
    "_edf = _edf.rename(columns={'category_ndf': 'subject_category', 'category_edf': 'edge_category'})\n",
    "print(f\"Columns after merging on subject category: {_edf.columns}\")\n",
    "\n",
    "_edf = _edf.merge(nodes_df, left_on='object', right_index=True, suffixes=('_ndf', '_edf'))\n",
    "_edf = _edf.rename(columns={'category': 'object_category'})\n",
    "print(f\"Columns after merging on object category: {_edf.columns}\")"
   ]
  },
  {
   "cell_type": "code",
   "execution_count": 11,
   "id": "15d75432-4e06-4bbe-af37-8b1b673c4280",
   "metadata": {},
   "outputs": [
    {
     "data": {
      "text/html": [
       "<pre style=\"white-space:pre;overflow-x:auto;line-height:normal;font-family:Menlo,'DejaVu Sans Mono',consolas,'Courier New',monospace\">Columns after renaming and triming: <span style=\"color: #800080; text-decoration-color: #800080; font-weight: bold\">Index</span><span style=\"font-weight: bold\">([</span><span style=\"color: #008000; text-decoration-color: #008000\">'id'</span>, <span style=\"color: #008000; text-decoration-color: #008000\">'subject'</span>, <span style=\"color: #008000; text-decoration-color: #008000\">'subject_category'</span>, <span style=\"color: #008000; text-decoration-color: #008000\">'predicate'</span>, <span style=\"color: #008000; text-decoration-color: #008000\">'edge_category'</span>,\n",
       "       <span style=\"color: #008000; text-decoration-color: #008000\">'object_category'</span>, <span style=\"color: #008000; text-decoration-color: #008000\">'object'</span><span style=\"font-weight: bold\">]</span>,\n",
       "      <span style=\"color: #808000; text-decoration-color: #808000\">dtype</span>=<span style=\"color: #008000; text-decoration-color: #008000\">'object'</span><span style=\"font-weight: bold\">)</span>\n",
       "</pre>\n"
      ],
      "text/plain": [
       "Columns after renaming and triming: \u001b[1;35mIndex\u001b[0m\u001b[1m(\u001b[0m\u001b[1m[\u001b[0m\u001b[32m'id'\u001b[0m, \u001b[32m'subject'\u001b[0m, \u001b[32m'subject_category'\u001b[0m, \u001b[32m'predicate'\u001b[0m, \u001b[32m'edge_category'\u001b[0m,\n",
       "       \u001b[32m'object_category'\u001b[0m, \u001b[32m'object'\u001b[0m\u001b[1m]\u001b[0m,\n",
       "      \u001b[33mdtype\u001b[0m=\u001b[32m'object'\u001b[0m\u001b[1m)\u001b[0m\n"
      ]
     },
     "metadata": {},
     "output_type": "display_data"
    }
   ],
   "source": [
    "edges = _edf[['id','subject', 'subject_category', 'predicate', 'edge_category', 'object_category', 'object']]\n",
    "print(f\"Columns after renaming and triming: {edges.columns}\")"
   ]
  },
  {
   "cell_type": "code",
   "execution_count": 12,
   "id": "84616d1b-1de6-4135-922c-871f2ba4b93b",
   "metadata": {},
   "outputs": [
    {
     "data": {
      "text/plain": [
       "Index(['id', 'subject', 'subject_category', 'predicate', 'edge_category',\n",
       "       'object_category', 'object'],\n",
       "      dtype='object')"
      ]
     },
     "execution_count": 12,
     "metadata": {},
     "output_type": "execute_result"
    }
   ],
   "source": [
    "# edges['edge_key']  = edges.apply(lambda row:(row['subject_category'], row['predicate'], row['object_category']), axis=1, meta=pd.Series(dtype=(set<str>)))\n",
    "edges = edges.reset_index(drop=True)\n",
    "edges.columns"
   ]
  },
  {
   "cell_type": "code",
   "execution_count": 13,
   "id": "5d7d2536-e7e5-434b-9d8a-7d9dbbeb4f75",
   "metadata": {},
   "outputs": [],
   "source": [
    "edges.to_parquet('../../data/02_intermediate/monarch/edges_with_node_cat', write_index=False)  "
   ]
  },
  {
   "cell_type": "code",
   "execution_count": 19,
   "id": "6256e348-0664-4bc7-9ad5-11b871dfa948",
   "metadata": {},
   "outputs": [
    {
     "name": "stdout",
     "output_type": "stream",
     "text": [
      "total 168M\n",
      "drwxr-x--- 2 rahit rahit  33K Feb  7 19:15 .\n",
      "drwxr-x--- 3 rahit rahit  33K Feb  7 18:17 ..\n",
      "-rw-r----- 1 rahit rahit 100M Feb  7 19:15 part.0.parquet\n",
      "-rw-r----- 1 rahit rahit  16M Feb  7 19:15 part.1.parquet\n",
      "-rw-r----- 1 rahit rahit  53M Feb  7 19:15 part.2.parquet\n"
     ]
    }
   ],
   "source": [
    "!ls -ahl '../../data/02_intermediate/monarch/edges_with_node_cat'"
   ]
  },
  {
   "cell_type": "code",
   "execution_count": 15,
   "id": "a89f3379-8753-418f-8c20-98d809fc52eb",
   "metadata": {},
   "outputs": [
    {
     "data": {
      "text/plain": [
       "11412471"
      ]
     },
     "execution_count": 15,
     "metadata": {},
     "output_type": "execute_result"
    }
   ],
   "source": [
    "edges.shape[0].compute()"
   ]
  },
  {
   "cell_type": "code",
   "execution_count": 34,
   "id": "99e7072c-29e1-40a2-8eb2-02e7c22ecf72",
   "metadata": {},
   "outputs": [
    {
     "data": {
      "text/html": [
       "<pre style=\"white-space:pre;overflow-x:auto;line-height:normal;font-family:Menlo,'DejaVu Sans Mono',consolas,'Courier New',monospace\"><span style=\"color: #7fbfbf; text-decoration-color: #7fbfbf\">[02/08/24 01:50:47] </span><span style=\"color: #000080; text-decoration-color: #000080\">INFO    </span> Scheduler closing<span style=\"color: #808000; text-decoration-color: #808000\">...</span>                                                 <a href=\"file:///home/rahit/jupyter_py3/lib/python3.8/site-packages/distributed/scheduler.py\" target=\"_blank\"><span style=\"color: #7f7f7f; text-decoration-color: #7f7f7f\">scheduler.py</span></a><span style=\"color: #7f7f7f; text-decoration-color: #7f7f7f\">:</span><a href=\"file:///home/rahit/jupyter_py3/lib/python3.8/site-packages/distributed/scheduler.py#3925\" target=\"_blank\"><span style=\"color: #7f7f7f; text-decoration-color: #7f7f7f\">3925</span></a>\n",
       "</pre>\n"
      ],
      "text/plain": [
       "\u001b[2;36m[02/08/24 01:50:47]\u001b[0m\u001b[2;36m \u001b[0m\u001b[34mINFO    \u001b[0m Scheduler closing\u001b[33m...\u001b[0m                                                 \u001b]8;id=426356;file:///home/rahit/jupyter_py3/lib/python3.8/site-packages/distributed/scheduler.py\u001b\\\u001b[2mscheduler.py\u001b[0m\u001b]8;;\u001b\\\u001b[2m:\u001b[0m\u001b]8;id=993055;file:///home/rahit/jupyter_py3/lib/python3.8/site-packages/distributed/scheduler.py#3925\u001b\\\u001b[2m3925\u001b[0m\u001b]8;;\u001b\\\n"
      ]
     },
     "metadata": {},
     "output_type": "display_data"
    },
    {
     "data": {
      "text/html": [
       "<pre style=\"white-space:pre;overflow-x:auto;line-height:normal;font-family:Menlo,'DejaVu Sans Mono',consolas,'Courier New',monospace\"><span style=\"color: #7fbfbf; text-decoration-color: #7fbfbf\">                    </span><span style=\"color: #000080; text-decoration-color: #000080\">INFO    </span> Scheduler closing all comms                                          <a href=\"file:///home/rahit/jupyter_py3/lib/python3.8/site-packages/distributed/scheduler.py\" target=\"_blank\"><span style=\"color: #7f7f7f; text-decoration-color: #7f7f7f\">scheduler.py</span></a><span style=\"color: #7f7f7f; text-decoration-color: #7f7f7f\">:</span><a href=\"file:///home/rahit/jupyter_py3/lib/python3.8/site-packages/distributed/scheduler.py#3947\" target=\"_blank\"><span style=\"color: #7f7f7f; text-decoration-color: #7f7f7f\">3947</span></a>\n",
       "</pre>\n"
      ],
      "text/plain": [
       "\u001b[2;36m                   \u001b[0m\u001b[2;36m \u001b[0m\u001b[34mINFO    \u001b[0m Scheduler closing all comms                                          \u001b]8;id=32209;file:///home/rahit/jupyter_py3/lib/python3.8/site-packages/distributed/scheduler.py\u001b\\\u001b[2mscheduler.py\u001b[0m\u001b]8;;\u001b\\\u001b[2m:\u001b[0m\u001b]8;id=256358;file:///home/rahit/jupyter_py3/lib/python3.8/site-packages/distributed/scheduler.py#3947\u001b\\\u001b[2m3947\u001b[0m\u001b]8;;\u001b\\\n"
      ]
     },
     "metadata": {},
     "output_type": "display_data"
    },
    {
     "data": {
      "text/html": [
       "<pre style=\"white-space:pre;overflow-x:auto;line-height:normal;font-family:Menlo,'DejaVu Sans Mono',consolas,'Courier New',monospace\"><span style=\"color: #7fbfbf; text-decoration-color: #7fbfbf\">                    </span><span style=\"color: #000080; text-decoration-color: #000080\">INFO    </span> Connection to tcp:<span style=\"color: #800080; text-decoration-color: #800080\">//</span><span style=\"color: #ff00ff; text-decoration-color: #ff00ff\">10.29.83.200</span>:<span style=\"color: #008080; text-decoration-color: #008080; font-weight: bold\">60878</span> has been closed.                    <a href=\"file:///home/rahit/jupyter_py3/lib/python3.8/site-packages/distributed/core.py\" target=\"_blank\"><span style=\"color: #7f7f7f; text-decoration-color: #7f7f7f\">core.py</span></a><span style=\"color: #7f7f7f; text-decoration-color: #7f7f7f\">:</span><a href=\"file:///home/rahit/jupyter_py3/lib/python3.8/site-packages/distributed/core.py#877\" target=\"_blank\"><span style=\"color: #7f7f7f; text-decoration-color: #7f7f7f\">877</span></a>\n",
       "</pre>\n"
      ],
      "text/plain": [
       "\u001b[2;36m                   \u001b[0m\u001b[2;36m \u001b[0m\u001b[34mINFO    \u001b[0m Connection to tcp:\u001b[35m/\u001b[0m\u001b[35m/\u001b[0m\u001b[95m10.29.83.200\u001b[0m:\u001b[1;36m60878\u001b[0m has been closed.                    \u001b]8;id=476174;file:///home/rahit/jupyter_py3/lib/python3.8/site-packages/distributed/core.py\u001b\\\u001b[2mcore.py\u001b[0m\u001b]8;;\u001b\\\u001b[2m:\u001b[0m\u001b]8;id=766114;file:///home/rahit/jupyter_py3/lib/python3.8/site-packages/distributed/core.py#877\u001b\\\u001b[2m877\u001b[0m\u001b]8;;\u001b\\\n"
      ]
     },
     "metadata": {},
     "output_type": "display_data"
    },
    {
     "data": {
      "text/html": [
       "<pre style=\"white-space:pre;overflow-x:auto;line-height:normal;font-family:Menlo,'DejaVu Sans Mono',consolas,'Courier New',monospace\"><span style=\"color: #7fbfbf; text-decoration-color: #7fbfbf\">                    </span><span style=\"color: #000080; text-decoration-color: #000080\">INFO    </span> Remove worker <span style=\"font-weight: bold\">&lt;</span><span style=\"color: #ff00ff; text-decoration-color: #ff00ff; font-weight: bold\">WorkerState</span><span style=\"color: #000000; text-decoration-color: #000000\"> </span><span style=\"color: #008000; text-decoration-color: #008000\">'tcp://10.29.83.200:39622'</span><span style=\"color: #000000; text-decoration-color: #000000\">, name: </span>        <a href=\"file:///home/rahit/jupyter_py3/lib/python3.8/site-packages/distributed/scheduler.py\" target=\"_blank\"><span style=\"color: #7f7f7f; text-decoration-color: #7f7f7f\">scheduler.py</span></a><span style=\"color: #7f7f7f; text-decoration-color: #7f7f7f\">:</span><a href=\"file:///home/rahit/jupyter_py3/lib/python3.8/site-packages/distributed/scheduler.py#4795\" target=\"_blank\"><span style=\"color: #7f7f7f; text-decoration-color: #7f7f7f\">4795</span></a>\n",
       "<span style=\"color: #7fbfbf; text-decoration-color: #7fbfbf\">                    </span>         <span style=\"color: #000000; text-decoration-color: #000000\">SLURMCluster-</span><span style=\"color: #008080; text-decoration-color: #008080; font-weight: bold\">0</span><span style=\"color: #000000; text-decoration-color: #000000\">, status: running, memory: </span><span style=\"color: #008080; text-decoration-color: #008080; font-weight: bold\">0</span><span style=\"color: #000000; text-decoration-color: #000000\">, processing: </span><span style=\"color: #008080; text-decoration-color: #008080; font-weight: bold\">0</span><span style=\"font-weight: bold\">&gt;</span>           <span style=\"color: #7f7f7f; text-decoration-color: #7f7f7f\">                 </span>\n",
       "</pre>\n"
      ],
      "text/plain": [
       "\u001b[2;36m                   \u001b[0m\u001b[2;36m \u001b[0m\u001b[34mINFO    \u001b[0m Remove worker \u001b[1m<\u001b[0m\u001b[1;95mWorkerState\u001b[0m\u001b[39m \u001b[0m\u001b[32m'tcp://10.29.83.200:39622'\u001b[0m\u001b[39m, name: \u001b[0m        \u001b]8;id=744247;file:///home/rahit/jupyter_py3/lib/python3.8/site-packages/distributed/scheduler.py\u001b\\\u001b[2mscheduler.py\u001b[0m\u001b]8;;\u001b\\\u001b[2m:\u001b[0m\u001b]8;id=469053;file:///home/rahit/jupyter_py3/lib/python3.8/site-packages/distributed/scheduler.py#4795\u001b\\\u001b[2m4795\u001b[0m\u001b]8;;\u001b\\\n",
       "\u001b[2;36m                    \u001b[0m         \u001b[39mSLURMCluster-\u001b[0m\u001b[1;36m0\u001b[0m\u001b[39m, status: running, memory: \u001b[0m\u001b[1;36m0\u001b[0m\u001b[39m, processing: \u001b[0m\u001b[1;36m0\u001b[0m\u001b[1m>\u001b[0m           \u001b[2m                 \u001b[0m\n"
      ]
     },
     "metadata": {},
     "output_type": "display_data"
    },
    {
     "data": {
      "text/html": [
       "<pre style=\"white-space:pre;overflow-x:auto;line-height:normal;font-family:Menlo,'DejaVu Sans Mono',consolas,'Courier New',monospace\"><span style=\"color: #7fbfbf; text-decoration-color: #7fbfbf\">                    </span><span style=\"color: #000080; text-decoration-color: #000080\">INFO    </span> Removing comms to tcp:<span style=\"color: #800080; text-decoration-color: #800080\">//</span><span style=\"color: #ff00ff; text-decoration-color: #ff00ff\">10.29.83.200</span>:<span style=\"color: #008080; text-decoration-color: #008080; font-weight: bold\">39622</span>                                <a href=\"file:///home/rahit/jupyter_py3/lib/python3.8/site-packages/distributed/core.py\" target=\"_blank\"><span style=\"color: #7f7f7f; text-decoration-color: #7f7f7f\">core.py</span></a><span style=\"color: #7f7f7f; text-decoration-color: #7f7f7f\">:</span><a href=\"file:///home/rahit/jupyter_py3/lib/python3.8/site-packages/distributed/core.py#1480\" target=\"_blank\"><span style=\"color: #7f7f7f; text-decoration-color: #7f7f7f\">1480</span></a>\n",
       "</pre>\n"
      ],
      "text/plain": [
       "\u001b[2;36m                   \u001b[0m\u001b[2;36m \u001b[0m\u001b[34mINFO    \u001b[0m Removing comms to tcp:\u001b[35m/\u001b[0m\u001b[35m/\u001b[0m\u001b[95m10.29.83.200\u001b[0m:\u001b[1;36m39622\u001b[0m                                \u001b]8;id=722640;file:///home/rahit/jupyter_py3/lib/python3.8/site-packages/distributed/core.py\u001b\\\u001b[2mcore.py\u001b[0m\u001b]8;;\u001b\\\u001b[2m:\u001b[0m\u001b]8;id=231679;file:///home/rahit/jupyter_py3/lib/python3.8/site-packages/distributed/core.py#1480\u001b\\\u001b[2m1480\u001b[0m\u001b]8;;\u001b\\\n"
      ]
     },
     "metadata": {},
     "output_type": "display_data"
    },
    {
     "data": {
      "text/html": [
       "<pre style=\"white-space:pre;overflow-x:auto;line-height:normal;font-family:Menlo,'DejaVu Sans Mono',consolas,'Courier New',monospace\"><span style=\"color: #7fbfbf; text-decoration-color: #7fbfbf\">                    </span><span style=\"color: #000080; text-decoration-color: #000080\">INFO    </span> Lost all workers                                                     <a href=\"file:///home/rahit/jupyter_py3/lib/python3.8/site-packages/distributed/scheduler.py\" target=\"_blank\"><span style=\"color: #7f7f7f; text-decoration-color: #7f7f7f\">scheduler.py</span></a><span style=\"color: #7f7f7f; text-decoration-color: #7f7f7f\">:</span><a href=\"file:///home/rahit/jupyter_py3/lib/python3.8/site-packages/distributed/scheduler.py#4875\" target=\"_blank\"><span style=\"color: #7f7f7f; text-decoration-color: #7f7f7f\">4875</span></a>\n",
       "</pre>\n"
      ],
      "text/plain": [
       "\u001b[2;36m                   \u001b[0m\u001b[2;36m \u001b[0m\u001b[34mINFO    \u001b[0m Lost all workers                                                     \u001b]8;id=667104;file:///home/rahit/jupyter_py3/lib/python3.8/site-packages/distributed/scheduler.py\u001b\\\u001b[2mscheduler.py\u001b[0m\u001b]8;;\u001b\\\u001b[2m:\u001b[0m\u001b]8;id=441229;file:///home/rahit/jupyter_py3/lib/python3.8/site-packages/distributed/scheduler.py#4875\u001b\\\u001b[2m4875\u001b[0m\u001b]8;;\u001b\\\n"
      ]
     },
     "metadata": {},
     "output_type": "display_data"
    }
   ],
   "source": [
    "cluster.close()"
   ]
  },
  {
   "cell_type": "code",
   "execution_count": 35,
   "id": "2dcce4ae-0847-44cc-9c28-e7a63776d21d",
   "metadata": {},
   "outputs": [],
   "source": [
    "client.close()"
   ]
  }
 ],
 "metadata": {
  "kernelspec": {
   "display_name": "Kedro (modspy_data)",
   "language": "python",
   "name": "kedro_modspy_data"
  },
  "language_info": {
   "codemirror_mode": {
    "name": "ipython",
    "version": 3
   },
   "file_extension": ".py",
   "mimetype": "text/x-python",
   "name": "python",
   "nbconvert_exporter": "python",
   "pygments_lexer": "ipython3",
   "version": "3.8.10"
  }
 },
 "nbformat": 4,
 "nbformat_minor": 5
}
