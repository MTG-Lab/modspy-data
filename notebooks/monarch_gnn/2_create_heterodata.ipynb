{
 "cells": [
  {
   "cell_type": "code",
   "execution_count": 1,
   "id": "308676ed-fad3-4b2a-b996-c4d71dbebd54",
   "metadata": {},
   "outputs": [
    {
     "data": {
      "text/html": [
       "<pre style=\"white-space:pre;overflow-x:auto;line-height:normal;font-family:Menlo,'DejaVu Sans Mono',consolas,'Courier New',monospace\"><span style=\"color: #7fbfbf; text-decoration-color: #7fbfbf\">[02/23/24 02:17:32] </span><span style=\"color: #000080; text-decoration-color: #000080\">INFO    </span> Resolved project path as: <span style=\"color: #800080; text-decoration-color: #800080\">/scratch/rahit/</span><span style=\"color: #ff00ff; text-decoration-color: #ff00ff\">modspy-data.</span>                  <a href=\"file:///home/rahit/jupyter_py3/lib/python3.8/site-packages/kedro/ipython/__init__.py\" target=\"_blank\"><span style=\"color: #7f7f7f; text-decoration-color: #7f7f7f\">__init__.py</span></a><span style=\"color: #7f7f7f; text-decoration-color: #7f7f7f\">:</span><a href=\"file:///home/rahit/jupyter_py3/lib/python3.8/site-packages/kedro/ipython/__init__.py#139\" target=\"_blank\"><span style=\"color: #7f7f7f; text-decoration-color: #7f7f7f\">139</span></a>\n",
       "<span style=\"color: #7fbfbf; text-decoration-color: #7fbfbf\">                    </span>         To set a different path, run <span style=\"color: #008000; text-decoration-color: #008000\">'%reload_kedro &lt;project_root&gt;'</span>            <span style=\"color: #7f7f7f; text-decoration-color: #7f7f7f\">               </span>\n",
       "</pre>\n"
      ],
      "text/plain": [
       "\u001b[2;36m[02/23/24 02:17:32]\u001b[0m\u001b[2;36m \u001b[0m\u001b[34mINFO    \u001b[0m Resolved project path as: \u001b[35m/scratch/rahit/\u001b[0m\u001b[95mmodspy-data.\u001b[0m                  \u001b]8;id=29941;file:///home/rahit/jupyter_py3/lib/python3.8/site-packages/kedro/ipython/__init__.py\u001b\\\u001b[2m__init__.py\u001b[0m\u001b]8;;\u001b\\\u001b[2m:\u001b[0m\u001b]8;id=326869;file:///home/rahit/jupyter_py3/lib/python3.8/site-packages/kedro/ipython/__init__.py#139\u001b\\\u001b[2m139\u001b[0m\u001b]8;;\u001b\\\n",
       "\u001b[2;36m                    \u001b[0m         To set a different path, run \u001b[32m'%reload_kedro \u001b[0m\u001b[32m<\u001b[0m\u001b[32mproject_root\u001b[0m\u001b[32m>\u001b[0m\u001b[32m'\u001b[0m            \u001b[2m               \u001b[0m\n"
      ]
     },
     "metadata": {},
     "output_type": "display_data"
    },
    {
     "data": {
      "text/html": [
       "<pre style=\"white-space:pre;overflow-x:auto;line-height:normal;font-family:Menlo,'DejaVu Sans Mono',consolas,'Courier New',monospace\"><span style=\"color: #7fbfbf; text-decoration-color: #7fbfbf\">                    </span><span style=\"color: #000080; text-decoration-color: #000080\">INFO    </span> Resolved project path as: <span style=\"color: #800080; text-decoration-color: #800080\">/scratch/rahit/</span><span style=\"color: #ff00ff; text-decoration-color: #ff00ff\">modspy-data.</span>                  <a href=\"file:///home/rahit/jupyter_py3/lib/python3.8/site-packages/kedro/ipython/__init__.py\" target=\"_blank\"><span style=\"color: #7f7f7f; text-decoration-color: #7f7f7f\">__init__.py</span></a><span style=\"color: #7f7f7f; text-decoration-color: #7f7f7f\">:</span><a href=\"file:///home/rahit/jupyter_py3/lib/python3.8/site-packages/kedro/ipython/__init__.py#139\" target=\"_blank\"><span style=\"color: #7f7f7f; text-decoration-color: #7f7f7f\">139</span></a>\n",
       "<span style=\"color: #7fbfbf; text-decoration-color: #7fbfbf\">                    </span>         To set a different path, run <span style=\"color: #008000; text-decoration-color: #008000\">'%reload_kedro &lt;project_root&gt;'</span>            <span style=\"color: #7f7f7f; text-decoration-color: #7f7f7f\">               </span>\n",
       "</pre>\n"
      ],
      "text/plain": [
       "\u001b[2;36m                   \u001b[0m\u001b[2;36m \u001b[0m\u001b[34mINFO    \u001b[0m Resolved project path as: \u001b[35m/scratch/rahit/\u001b[0m\u001b[95mmodspy-data.\u001b[0m                  \u001b]8;id=53599;file:///home/rahit/jupyter_py3/lib/python3.8/site-packages/kedro/ipython/__init__.py\u001b\\\u001b[2m__init__.py\u001b[0m\u001b]8;;\u001b\\\u001b[2m:\u001b[0m\u001b]8;id=258163;file:///home/rahit/jupyter_py3/lib/python3.8/site-packages/kedro/ipython/__init__.py#139\u001b\\\u001b[2m139\u001b[0m\u001b]8;;\u001b\\\n",
       "\u001b[2;36m                    \u001b[0m         To set a different path, run \u001b[32m'%reload_kedro \u001b[0m\u001b[32m<\u001b[0m\u001b[32mproject_root\u001b[0m\u001b[32m>\u001b[0m\u001b[32m'\u001b[0m            \u001b[2m               \u001b[0m\n"
      ]
     },
     "metadata": {},
     "output_type": "display_data"
    },
    {
     "data": {
      "text/html": [
       "<pre style=\"white-space:pre;overflow-x:auto;line-height:normal;font-family:Menlo,'DejaVu Sans Mono',consolas,'Courier New',monospace\"><span style=\"color: #7fbfbf; text-decoration-color: #7fbfbf\">[02/23/24 02:17:34] </span><span style=\"color: #800000; text-decoration-color: #800000\">WARNING </span> <span style=\"color: #800080; text-decoration-color: #800080\">/home/rahit/jupyter_py3/lib/python3.8/site-packages/lazy_loader/</span><span style=\"color: #ff00ff; text-decoration-color: #ff00ff\">__init</span> <a href=\"file:///cvmfs/soft.computecanada.ca/easybuild/software/2020/avx2/Core/python/3.8.10/lib/python3.8/warnings.py\" target=\"_blank\"><span style=\"color: #7f7f7f; text-decoration-color: #7f7f7f\">warnings.py</span></a><span style=\"color: #7f7f7f; text-decoration-color: #7f7f7f\">:</span><a href=\"file:///cvmfs/soft.computecanada.ca/easybuild/software/2020/avx2/Core/python/3.8.10/lib/python3.8/warnings.py#109\" target=\"_blank\"><span style=\"color: #7f7f7f; text-decoration-color: #7f7f7f\">109</span></a>\n",
       "<span style=\"color: #7fbfbf; text-decoration-color: #7fbfbf\">                    </span>         <span style=\"color: #ff00ff; text-decoration-color: #ff00ff\">__.py</span>:<span style=\"color: #008080; text-decoration-color: #008080; font-weight: bold\">78</span>: KedroDeprecationWarning: <span style=\"color: #008000; text-decoration-color: #008000\">'CSVDataSet'</span> has been renamed to    <span style=\"color: #7f7f7f; text-decoration-color: #7f7f7f\">               </span>\n",
       "<span style=\"color: #7fbfbf; text-decoration-color: #7fbfbf\">                    </span>         <span style=\"color: #008000; text-decoration-color: #008000\">'CSVDataset'</span>, and the alias will be removed in Kedro-Datasets <span style=\"color: #008080; text-decoration-color: #008080; font-weight: bold\">2.0</span>.<span style=\"color: #008080; text-decoration-color: #008080; font-weight: bold\">0</span>    <span style=\"color: #7f7f7f; text-decoration-color: #7f7f7f\">               </span>\n",
       "<span style=\"color: #7fbfbf; text-decoration-color: #7fbfbf\">                    </span>           attr = <span style=\"color: #800080; text-decoration-color: #800080; font-weight: bold\">getattr</span><span style=\"font-weight: bold\">(</span>submod, name<span style=\"font-weight: bold\">)</span>                                         <span style=\"color: #7f7f7f; text-decoration-color: #7f7f7f\">               </span>\n",
       "<span style=\"color: #7fbfbf; text-decoration-color: #7fbfbf\">                    </span>                                                                                <span style=\"color: #7f7f7f; text-decoration-color: #7f7f7f\">               </span>\n",
       "</pre>\n"
      ],
      "text/plain": [
       "\u001b[2;36m[02/23/24 02:17:34]\u001b[0m\u001b[2;36m \u001b[0m\u001b[31mWARNING \u001b[0m \u001b[35m/home/rahit/jupyter_py3/lib/python3.8/site-packages/lazy_loader/\u001b[0m\u001b[95m__init\u001b[0m \u001b]8;id=806894;file:///cvmfs/soft.computecanada.ca/easybuild/software/2020/avx2/Core/python/3.8.10/lib/python3.8/warnings.py\u001b\\\u001b[2mwarnings.py\u001b[0m\u001b]8;;\u001b\\\u001b[2m:\u001b[0m\u001b]8;id=684623;file:///cvmfs/soft.computecanada.ca/easybuild/software/2020/avx2/Core/python/3.8.10/lib/python3.8/warnings.py#109\u001b\\\u001b[2m109\u001b[0m\u001b]8;;\u001b\\\n",
       "\u001b[2;36m                    \u001b[0m         \u001b[95m__.py\u001b[0m:\u001b[1;36m78\u001b[0m: KedroDeprecationWarning: \u001b[32m'CSVDataSet'\u001b[0m has been renamed to    \u001b[2m               \u001b[0m\n",
       "\u001b[2;36m                    \u001b[0m         \u001b[32m'CSVDataset'\u001b[0m, and the alias will be removed in Kedro-Datasets \u001b[1;36m2.0\u001b[0m.\u001b[1;36m0\u001b[0m    \u001b[2m               \u001b[0m\n",
       "\u001b[2;36m                    \u001b[0m           attr = \u001b[1;35mgetattr\u001b[0m\u001b[1m(\u001b[0msubmod, name\u001b[1m)\u001b[0m                                         \u001b[2m               \u001b[0m\n",
       "\u001b[2;36m                    \u001b[0m                                                                                \u001b[2m               \u001b[0m\n"
      ]
     },
     "metadata": {},
     "output_type": "display_data"
    },
    {
     "data": {
      "text/html": [
       "<pre style=\"white-space:pre;overflow-x:auto;line-height:normal;font-family:Menlo,'DejaVu Sans Mono',consolas,'Courier New',monospace\"><span style=\"color: #7fbfbf; text-decoration-color: #7fbfbf\">                    </span><span style=\"color: #800000; text-decoration-color: #800000\">WARNING </span> <span style=\"color: #800080; text-decoration-color: #800080\">/home/rahit/jupyter_py3/lib/python3.8/site-packages/lazy_loader/</span><span style=\"color: #ff00ff; text-decoration-color: #ff00ff\">__init</span> <a href=\"file:///cvmfs/soft.computecanada.ca/easybuild/software/2020/avx2/Core/python/3.8.10/lib/python3.8/warnings.py\" target=\"_blank\"><span style=\"color: #7f7f7f; text-decoration-color: #7f7f7f\">warnings.py</span></a><span style=\"color: #7f7f7f; text-decoration-color: #7f7f7f\">:</span><a href=\"file:///cvmfs/soft.computecanada.ca/easybuild/software/2020/avx2/Core/python/3.8.10/lib/python3.8/warnings.py#109\" target=\"_blank\"><span style=\"color: #7f7f7f; text-decoration-color: #7f7f7f\">109</span></a>\n",
       "<span style=\"color: #7fbfbf; text-decoration-color: #7fbfbf\">                    </span>         <span style=\"color: #ff00ff; text-decoration-color: #ff00ff\">__.py</span>:<span style=\"color: #008080; text-decoration-color: #008080; font-weight: bold\">78</span>: KedroDeprecationWarning: <span style=\"color: #008000; text-decoration-color: #008000\">'ExcelDataSet'</span> has been renamed to  <span style=\"color: #7f7f7f; text-decoration-color: #7f7f7f\">               </span>\n",
       "<span style=\"color: #7fbfbf; text-decoration-color: #7fbfbf\">                    </span>         <span style=\"color: #008000; text-decoration-color: #008000\">'ExcelDataset'</span>, and the alias will be removed in Kedro-Datasets <span style=\"color: #008080; text-decoration-color: #008080; font-weight: bold\">2.0</span>.<span style=\"color: #008080; text-decoration-color: #008080; font-weight: bold\">0</span>  <span style=\"color: #7f7f7f; text-decoration-color: #7f7f7f\">               </span>\n",
       "<span style=\"color: #7fbfbf; text-decoration-color: #7fbfbf\">                    </span>           attr = <span style=\"color: #800080; text-decoration-color: #800080; font-weight: bold\">getattr</span><span style=\"font-weight: bold\">(</span>submod, name<span style=\"font-weight: bold\">)</span>                                         <span style=\"color: #7f7f7f; text-decoration-color: #7f7f7f\">               </span>\n",
       "<span style=\"color: #7fbfbf; text-decoration-color: #7fbfbf\">                    </span>                                                                                <span style=\"color: #7f7f7f; text-decoration-color: #7f7f7f\">               </span>\n",
       "</pre>\n"
      ],
      "text/plain": [
       "\u001b[2;36m                   \u001b[0m\u001b[2;36m \u001b[0m\u001b[31mWARNING \u001b[0m \u001b[35m/home/rahit/jupyter_py3/lib/python3.8/site-packages/lazy_loader/\u001b[0m\u001b[95m__init\u001b[0m \u001b]8;id=924968;file:///cvmfs/soft.computecanada.ca/easybuild/software/2020/avx2/Core/python/3.8.10/lib/python3.8/warnings.py\u001b\\\u001b[2mwarnings.py\u001b[0m\u001b]8;;\u001b\\\u001b[2m:\u001b[0m\u001b]8;id=537323;file:///cvmfs/soft.computecanada.ca/easybuild/software/2020/avx2/Core/python/3.8.10/lib/python3.8/warnings.py#109\u001b\\\u001b[2m109\u001b[0m\u001b]8;;\u001b\\\n",
       "\u001b[2;36m                    \u001b[0m         \u001b[95m__.py\u001b[0m:\u001b[1;36m78\u001b[0m: KedroDeprecationWarning: \u001b[32m'ExcelDataSet'\u001b[0m has been renamed to  \u001b[2m               \u001b[0m\n",
       "\u001b[2;36m                    \u001b[0m         \u001b[32m'ExcelDataset'\u001b[0m, and the alias will be removed in Kedro-Datasets \u001b[1;36m2.0\u001b[0m.\u001b[1;36m0\u001b[0m  \u001b[2m               \u001b[0m\n",
       "\u001b[2;36m                    \u001b[0m           attr = \u001b[1;35mgetattr\u001b[0m\u001b[1m(\u001b[0msubmod, name\u001b[1m)\u001b[0m                                         \u001b[2m               \u001b[0m\n",
       "\u001b[2;36m                    \u001b[0m                                                                                \u001b[2m               \u001b[0m\n"
      ]
     },
     "metadata": {},
     "output_type": "display_data"
    },
    {
     "data": {
      "text/html": [
       "<pre style=\"white-space:pre;overflow-x:auto;line-height:normal;font-family:Menlo,'DejaVu Sans Mono',consolas,'Courier New',monospace\"><span style=\"color: #7fbfbf; text-decoration-color: #7fbfbf\">                    </span><span style=\"color: #800000; text-decoration-color: #800000\">WARNING </span> <span style=\"color: #800080; text-decoration-color: #800080\">/home/rahit/jupyter_py3/lib/python3.8/site-packages/lazy_loader/</span><span style=\"color: #ff00ff; text-decoration-color: #ff00ff\">__init</span> <a href=\"file:///cvmfs/soft.computecanada.ca/easybuild/software/2020/avx2/Core/python/3.8.10/lib/python3.8/warnings.py\" target=\"_blank\"><span style=\"color: #7f7f7f; text-decoration-color: #7f7f7f\">warnings.py</span></a><span style=\"color: #7f7f7f; text-decoration-color: #7f7f7f\">:</span><a href=\"file:///cvmfs/soft.computecanada.ca/easybuild/software/2020/avx2/Core/python/3.8.10/lib/python3.8/warnings.py#109\" target=\"_blank\"><span style=\"color: #7f7f7f; text-decoration-color: #7f7f7f\">109</span></a>\n",
       "<span style=\"color: #7fbfbf; text-decoration-color: #7fbfbf\">                    </span>         <span style=\"color: #ff00ff; text-decoration-color: #ff00ff\">__.py</span>:<span style=\"color: #008080; text-decoration-color: #008080; font-weight: bold\">78</span>: KedroDeprecationWarning: <span style=\"color: #008000; text-decoration-color: #008000\">'ParquetDataSet'</span> has been renamed   <span style=\"color: #7f7f7f; text-decoration-color: #7f7f7f\">               </span>\n",
       "<span style=\"color: #7fbfbf; text-decoration-color: #7fbfbf\">                    </span>         to <span style=\"color: #008000; text-decoration-color: #008000\">'ParquetDataset'</span>, and the alias will be removed in Kedro-Datasets   <span style=\"color: #7f7f7f; text-decoration-color: #7f7f7f\">               </span>\n",
       "<span style=\"color: #7fbfbf; text-decoration-color: #7fbfbf\">                    </span>         <span style=\"color: #008080; text-decoration-color: #008080; font-weight: bold\">2.0</span>.<span style=\"color: #008080; text-decoration-color: #008080; font-weight: bold\">0</span>                                                                  <span style=\"color: #7f7f7f; text-decoration-color: #7f7f7f\">               </span>\n",
       "<span style=\"color: #7fbfbf; text-decoration-color: #7fbfbf\">                    </span>           attr = <span style=\"color: #800080; text-decoration-color: #800080; font-weight: bold\">getattr</span><span style=\"font-weight: bold\">(</span>submod, name<span style=\"font-weight: bold\">)</span>                                         <span style=\"color: #7f7f7f; text-decoration-color: #7f7f7f\">               </span>\n",
       "<span style=\"color: #7fbfbf; text-decoration-color: #7fbfbf\">                    </span>                                                                                <span style=\"color: #7f7f7f; text-decoration-color: #7f7f7f\">               </span>\n",
       "</pre>\n"
      ],
      "text/plain": [
       "\u001b[2;36m                   \u001b[0m\u001b[2;36m \u001b[0m\u001b[31mWARNING \u001b[0m \u001b[35m/home/rahit/jupyter_py3/lib/python3.8/site-packages/lazy_loader/\u001b[0m\u001b[95m__init\u001b[0m \u001b]8;id=525565;file:///cvmfs/soft.computecanada.ca/easybuild/software/2020/avx2/Core/python/3.8.10/lib/python3.8/warnings.py\u001b\\\u001b[2mwarnings.py\u001b[0m\u001b]8;;\u001b\\\u001b[2m:\u001b[0m\u001b]8;id=850109;file:///cvmfs/soft.computecanada.ca/easybuild/software/2020/avx2/Core/python/3.8.10/lib/python3.8/warnings.py#109\u001b\\\u001b[2m109\u001b[0m\u001b]8;;\u001b\\\n",
       "\u001b[2;36m                    \u001b[0m         \u001b[95m__.py\u001b[0m:\u001b[1;36m78\u001b[0m: KedroDeprecationWarning: \u001b[32m'ParquetDataSet'\u001b[0m has been renamed   \u001b[2m               \u001b[0m\n",
       "\u001b[2;36m                    \u001b[0m         to \u001b[32m'ParquetDataset'\u001b[0m, and the alias will be removed in Kedro-Datasets   \u001b[2m               \u001b[0m\n",
       "\u001b[2;36m                    \u001b[0m         \u001b[1;36m2.0\u001b[0m.\u001b[1;36m0\u001b[0m                                                                  \u001b[2m               \u001b[0m\n",
       "\u001b[2;36m                    \u001b[0m           attr = \u001b[1;35mgetattr\u001b[0m\u001b[1m(\u001b[0msubmod, name\u001b[1m)\u001b[0m                                         \u001b[2m               \u001b[0m\n",
       "\u001b[2;36m                    \u001b[0m                                                                                \u001b[2m               \u001b[0m\n"
      ]
     },
     "metadata": {},
     "output_type": "display_data"
    },
    {
     "data": {
      "text/html": [
       "<pre style=\"white-space:pre;overflow-x:auto;line-height:normal;font-family:Menlo,'DejaVu Sans Mono',consolas,'Courier New',monospace\"><span style=\"color: #7fbfbf; text-decoration-color: #7fbfbf\">                    </span><span style=\"color: #000080; text-decoration-color: #000080\">INFO    </span> Kedro project ModSpy-Data                                              <a href=\"file:///home/rahit/jupyter_py3/lib/python3.8/site-packages/kedro/ipython/__init__.py\" target=\"_blank\"><span style=\"color: #7f7f7f; text-decoration-color: #7f7f7f\">__init__.py</span></a><span style=\"color: #7f7f7f; text-decoration-color: #7f7f7f\">:</span><a href=\"file:///home/rahit/jupyter_py3/lib/python3.8/site-packages/kedro/ipython/__init__.py#108\" target=\"_blank\"><span style=\"color: #7f7f7f; text-decoration-color: #7f7f7f\">108</span></a>\n",
       "</pre>\n"
      ],
      "text/plain": [
       "\u001b[2;36m                   \u001b[0m\u001b[2;36m \u001b[0m\u001b[34mINFO    \u001b[0m Kedro project ModSpy-Data                                              \u001b]8;id=792983;file:///home/rahit/jupyter_py3/lib/python3.8/site-packages/kedro/ipython/__init__.py\u001b\\\u001b[2m__init__.py\u001b[0m\u001b]8;;\u001b\\\u001b[2m:\u001b[0m\u001b]8;id=527675;file:///home/rahit/jupyter_py3/lib/python3.8/site-packages/kedro/ipython/__init__.py#108\u001b\\\u001b[2m108\u001b[0m\u001b]8;;\u001b\\\n"
      ]
     },
     "metadata": {},
     "output_type": "display_data"
    },
    {
     "data": {
      "text/html": [
       "<pre style=\"white-space:pre;overflow-x:auto;line-height:normal;font-family:Menlo,'DejaVu Sans Mono',consolas,'Courier New',monospace\"><span style=\"color: #7fbfbf; text-decoration-color: #7fbfbf\">                    </span><span style=\"color: #000080; text-decoration-color: #000080\">INFO    </span> Kedro project ModSpy-Data                                              <a href=\"file:///home/rahit/jupyter_py3/lib/python3.8/site-packages/kedro/ipython/__init__.py\" target=\"_blank\"><span style=\"color: #7f7f7f; text-decoration-color: #7f7f7f\">__init__.py</span></a><span style=\"color: #7f7f7f; text-decoration-color: #7f7f7f\">:</span><a href=\"file:///home/rahit/jupyter_py3/lib/python3.8/site-packages/kedro/ipython/__init__.py#108\" target=\"_blank\"><span style=\"color: #7f7f7f; text-decoration-color: #7f7f7f\">108</span></a>\n",
       "</pre>\n"
      ],
      "text/plain": [
       "\u001b[2;36m                   \u001b[0m\u001b[2;36m \u001b[0m\u001b[34mINFO    \u001b[0m Kedro project ModSpy-Data                                              \u001b]8;id=612749;file:///home/rahit/jupyter_py3/lib/python3.8/site-packages/kedro/ipython/__init__.py\u001b\\\u001b[2m__init__.py\u001b[0m\u001b]8;;\u001b\\\u001b[2m:\u001b[0m\u001b]8;id=603480;file:///home/rahit/jupyter_py3/lib/python3.8/site-packages/kedro/ipython/__init__.py#108\u001b\\\u001b[2m108\u001b[0m\u001b]8;;\u001b\\\n"
      ]
     },
     "metadata": {},
     "output_type": "display_data"
    },
    {
     "data": {
      "text/html": [
       "<pre style=\"white-space:pre;overflow-x:auto;line-height:normal;font-family:Menlo,'DejaVu Sans Mono',consolas,'Courier New',monospace\"><span style=\"color: #7fbfbf; text-decoration-color: #7fbfbf\">                    </span><span style=\"color: #000080; text-decoration-color: #000080\">INFO    </span> Defined global variable <span style=\"color: #008000; text-decoration-color: #008000\">'context'</span>, <span style=\"color: #008000; text-decoration-color: #008000\">'session'</span>, <span style=\"color: #008000; text-decoration-color: #008000\">'catalog'</span> and            <a href=\"file:///home/rahit/jupyter_py3/lib/python3.8/site-packages/kedro/ipython/__init__.py\" target=\"_blank\"><span style=\"color: #7f7f7f; text-decoration-color: #7f7f7f\">__init__.py</span></a><span style=\"color: #7f7f7f; text-decoration-color: #7f7f7f\">:</span><a href=\"file:///home/rahit/jupyter_py3/lib/python3.8/site-packages/kedro/ipython/__init__.py#109\" target=\"_blank\"><span style=\"color: #7f7f7f; text-decoration-color: #7f7f7f\">109</span></a>\n",
       "<span style=\"color: #7fbfbf; text-decoration-color: #7fbfbf\">                    </span>         <span style=\"color: #008000; text-decoration-color: #008000\">'pipelines'</span>                                                            <span style=\"color: #7f7f7f; text-decoration-color: #7f7f7f\">               </span>\n",
       "</pre>\n"
      ],
      "text/plain": [
       "\u001b[2;36m                   \u001b[0m\u001b[2;36m \u001b[0m\u001b[34mINFO    \u001b[0m Defined global variable \u001b[32m'context'\u001b[0m, \u001b[32m'session'\u001b[0m, \u001b[32m'catalog'\u001b[0m and            \u001b]8;id=183031;file:///home/rahit/jupyter_py3/lib/python3.8/site-packages/kedro/ipython/__init__.py\u001b\\\u001b[2m__init__.py\u001b[0m\u001b]8;;\u001b\\\u001b[2m:\u001b[0m\u001b]8;id=873539;file:///home/rahit/jupyter_py3/lib/python3.8/site-packages/kedro/ipython/__init__.py#109\u001b\\\u001b[2m109\u001b[0m\u001b]8;;\u001b\\\n",
       "\u001b[2;36m                    \u001b[0m         \u001b[32m'pipelines'\u001b[0m                                                            \u001b[2m               \u001b[0m\n"
      ]
     },
     "metadata": {},
     "output_type": "display_data"
    },
    {
     "data": {
      "text/html": [
       "<pre style=\"white-space:pre;overflow-x:auto;line-height:normal;font-family:Menlo,'DejaVu Sans Mono',consolas,'Courier New',monospace\"><span style=\"color: #7fbfbf; text-decoration-color: #7fbfbf\">                    </span><span style=\"color: #000080; text-decoration-color: #000080\">INFO    </span> Defined global variable <span style=\"color: #008000; text-decoration-color: #008000\">'context'</span>, <span style=\"color: #008000; text-decoration-color: #008000\">'session'</span>, <span style=\"color: #008000; text-decoration-color: #008000\">'catalog'</span> and            <a href=\"file:///home/rahit/jupyter_py3/lib/python3.8/site-packages/kedro/ipython/__init__.py\" target=\"_blank\"><span style=\"color: #7f7f7f; text-decoration-color: #7f7f7f\">__init__.py</span></a><span style=\"color: #7f7f7f; text-decoration-color: #7f7f7f\">:</span><a href=\"file:///home/rahit/jupyter_py3/lib/python3.8/site-packages/kedro/ipython/__init__.py#109\" target=\"_blank\"><span style=\"color: #7f7f7f; text-decoration-color: #7f7f7f\">109</span></a>\n",
       "<span style=\"color: #7fbfbf; text-decoration-color: #7fbfbf\">                    </span>         <span style=\"color: #008000; text-decoration-color: #008000\">'pipelines'</span>                                                            <span style=\"color: #7f7f7f; text-decoration-color: #7f7f7f\">               </span>\n",
       "</pre>\n"
      ],
      "text/plain": [
       "\u001b[2;36m                   \u001b[0m\u001b[2;36m \u001b[0m\u001b[34mINFO    \u001b[0m Defined global variable \u001b[32m'context'\u001b[0m, \u001b[32m'session'\u001b[0m, \u001b[32m'catalog'\u001b[0m and            \u001b]8;id=17451;file:///home/rahit/jupyter_py3/lib/python3.8/site-packages/kedro/ipython/__init__.py\u001b\\\u001b[2m__init__.py\u001b[0m\u001b]8;;\u001b\\\u001b[2m:\u001b[0m\u001b]8;id=116596;file:///home/rahit/jupyter_py3/lib/python3.8/site-packages/kedro/ipython/__init__.py#109\u001b\\\u001b[2m109\u001b[0m\u001b]8;;\u001b\\\n",
       "\u001b[2;36m                    \u001b[0m         \u001b[32m'pipelines'\u001b[0m                                                            \u001b[2m               \u001b[0m\n"
      ]
     },
     "metadata": {},
     "output_type": "display_data"
    }
   ],
   "source": [
    "%reload_kedro"
   ]
  },
  {
   "cell_type": "code",
   "execution_count": 3,
   "id": "50348483-4ce8-4f4b-9bfb-3b8ed83aa1a3",
   "metadata": {
    "tags": []
   },
   "outputs": [],
   "source": [
    "# import itertools\n",
    "# import logging\n",
    "# from collections import defaultdict\n",
    "\n",
    "from tqdm import tqdm\n",
    "from rich import print\n",
    "from IPython.display import display, HTML\n",
    "\n",
    "import dask\n",
    "import dask.dataframe as dd\n",
    "import dask.array as da\n",
    "import dask.bag as db\n",
    "from dask.distributed import Client, progress, performance_report\n",
    "from dask_jobqueue import SLURMCluster\n",
    "\n",
    "import torch\n",
    "from torch_geometric.data import HeteroData"
   ]
  },
  {
   "cell_type": "code",
   "execution_count": 19,
   "id": "1d4c3a5e-cbb2-47f5-a77a-568276b6ddb2",
   "metadata": {},
   "outputs": [
    {
     "data": {
      "text/html": [
       "<pre style=\"white-space:pre;overflow-x:auto;line-height:normal;font-family:Menlo,'DejaVu Sans Mono',consolas,'Courier New',monospace\"><span style=\"color: #7fbfbf; text-decoration-color: #7fbfbf\">[02/22/24 23:47:26] </span><span style=\"color: #000080; text-decoration-color: #000080\">INFO    </span> State start                                                          <a href=\"file:///home/rahit/jupyter_py3/lib/python3.8/site-packages/distributed/scheduler.py\" target=\"_blank\"><span style=\"color: #7f7f7f; text-decoration-color: #7f7f7f\">scheduler.py</span></a><span style=\"color: #7f7f7f; text-decoration-color: #7f7f7f\">:</span><a href=\"file:///home/rahit/jupyter_py3/lib/python3.8/site-packages/distributed/scheduler.py#1624\" target=\"_blank\"><span style=\"color: #7f7f7f; text-decoration-color: #7f7f7f\">1624</span></a>\n",
       "</pre>\n"
      ],
      "text/plain": [
       "\u001b[2;36m[02/22/24 23:47:26]\u001b[0m\u001b[2;36m \u001b[0m\u001b[34mINFO    \u001b[0m State start                                                          \u001b]8;id=595367;file:///home/rahit/jupyter_py3/lib/python3.8/site-packages/distributed/scheduler.py\u001b\\\u001b[2mscheduler.py\u001b[0m\u001b]8;;\u001b\\\u001b[2m:\u001b[0m\u001b]8;id=446748;file:///home/rahit/jupyter_py3/lib/python3.8/site-packages/distributed/scheduler.py#1624\u001b\\\u001b[2m1624\u001b[0m\u001b]8;;\u001b\\\n"
      ]
     },
     "metadata": {},
     "output_type": "display_data"
    },
    {
     "data": {
      "text/html": [
       "<pre style=\"white-space:pre;overflow-x:auto;line-height:normal;font-family:Menlo,'DejaVu Sans Mono',consolas,'Courier New',monospace\"><span style=\"color: #7fbfbf; text-decoration-color: #7fbfbf\">                    </span><span style=\"color: #000080; text-decoration-color: #000080\">INFO    </span>   Scheduler at:   tcp:<span style=\"color: #800080; text-decoration-color: #800080\">//</span><span style=\"color: #ff00ff; text-decoration-color: #ff00ff\">10.29.86.12</span>:<span style=\"color: #008080; text-decoration-color: #008080; font-weight: bold\">33233</span>                            <a href=\"file:///home/rahit/jupyter_py3/lib/python3.8/site-packages/distributed/scheduler.py\" target=\"_blank\"><span style=\"color: #7f7f7f; text-decoration-color: #7f7f7f\">scheduler.py</span></a><span style=\"color: #7f7f7f; text-decoration-color: #7f7f7f\">:</span><a href=\"file:///home/rahit/jupyter_py3/lib/python3.8/site-packages/distributed/scheduler.py#3871\" target=\"_blank\"><span style=\"color: #7f7f7f; text-decoration-color: #7f7f7f\">3871</span></a>\n",
       "</pre>\n"
      ],
      "text/plain": [
       "\u001b[2;36m                   \u001b[0m\u001b[2;36m \u001b[0m\u001b[34mINFO    \u001b[0m   Scheduler at:   tcp:\u001b[35m/\u001b[0m\u001b[35m/\u001b[0m\u001b[95m10.29.86.12\u001b[0m:\u001b[1;36m33233\u001b[0m                            \u001b]8;id=208827;file:///home/rahit/jupyter_py3/lib/python3.8/site-packages/distributed/scheduler.py\u001b\\\u001b[2mscheduler.py\u001b[0m\u001b]8;;\u001b\\\u001b[2m:\u001b[0m\u001b]8;id=790638;file:///home/rahit/jupyter_py3/lib/python3.8/site-packages/distributed/scheduler.py#3871\u001b\\\u001b[2m3871\u001b[0m\u001b]8;;\u001b\\\n"
      ]
     },
     "metadata": {},
     "output_type": "display_data"
    },
    {
     "data": {
      "text/html": [
       "<pre style=\"white-space:pre;overflow-x:auto;line-height:normal;font-family:Menlo,'DejaVu Sans Mono',consolas,'Courier New',monospace\"><span style=\"color: #7fbfbf; text-decoration-color: #7fbfbf\">                    </span><span style=\"color: #000080; text-decoration-color: #000080\">INFO    </span>   dashboard at:  <span style=\"color: #0000ff; text-decoration-color: #0000ff; text-decoration: underline\">http://10.29.86.12:8787/status</span>                      <a href=\"file:///home/rahit/jupyter_py3/lib/python3.8/site-packages/distributed/scheduler.py\" target=\"_blank\"><span style=\"color: #7f7f7f; text-decoration-color: #7f7f7f\">scheduler.py</span></a><span style=\"color: #7f7f7f; text-decoration-color: #7f7f7f\">:</span><a href=\"file:///home/rahit/jupyter_py3/lib/python3.8/site-packages/distributed/scheduler.py#3886\" target=\"_blank\"><span style=\"color: #7f7f7f; text-decoration-color: #7f7f7f\">3886</span></a>\n",
       "</pre>\n"
      ],
      "text/plain": [
       "\u001b[2;36m                   \u001b[0m\u001b[2;36m \u001b[0m\u001b[34mINFO    \u001b[0m   dashboard at:  \u001b[4;94mhttp://10.29.86.12:8787/status\u001b[0m                      \u001b]8;id=735973;file:///home/rahit/jupyter_py3/lib/python3.8/site-packages/distributed/scheduler.py\u001b\\\u001b[2mscheduler.py\u001b[0m\u001b]8;;\u001b\\\u001b[2m:\u001b[0m\u001b]8;id=899720;file:///home/rahit/jupyter_py3/lib/python3.8/site-packages/distributed/scheduler.py#3886\u001b\\\u001b[2m3886\u001b[0m\u001b]8;;\u001b\\\n"
      ]
     },
     "metadata": {},
     "output_type": "display_data"
    }
   ],
   "source": [
    "cluster = SLURMCluster(\n",
    "    cores=1,  # Number of cores per job\n",
    "    processes=1,\n",
    "    memory='68GB',  # Memory allocated to each worker\n",
    "    walltime='01:30:00',  # Walltime limit for each job\n",
    "    # Specify any additional SLURM or Dask configurations as needed\n",
    ")"
   ]
  },
  {
   "cell_type": "code",
   "execution_count": 20,
   "id": "dd07fa2c-9091-4730-9ee1-071c3170bf2f",
   "metadata": {},
   "outputs": [
    {
     "data": {
      "text/html": [
       "<pre style=\"white-space:pre;overflow-x:auto;line-height:normal;font-family:Menlo,'DejaVu Sans Mono',consolas,'Courier New',monospace\"><span style=\"color: #7fbfbf; text-decoration-color: #7fbfbf\">[02/22/24 23:47:29] </span><span style=\"color: #000080; text-decoration-color: #000080\">INFO    </span> Receive client connection:                                           <a href=\"file:///home/rahit/jupyter_py3/lib/python3.8/site-packages/distributed/scheduler.py\" target=\"_blank\"><span style=\"color: #7f7f7f; text-decoration-color: #7f7f7f\">scheduler.py</span></a><span style=\"color: #7f7f7f; text-decoration-color: #7f7f7f\">:</span><a href=\"file:///home/rahit/jupyter_py3/lib/python3.8/site-packages/distributed/scheduler.py#5362\" target=\"_blank\"><span style=\"color: #7f7f7f; text-decoration-color: #7f7f7f\">5362</span></a>\n",
       "<span style=\"color: #7fbfbf; text-decoration-color: #7fbfbf\">                    </span>         Client-<span style=\"color: #ffff00; text-decoration-color: #ffff00\">a649c3a1-d206-11ee-8f6c-70799057d294</span>                          <span style=\"color: #7f7f7f; text-decoration-color: #7f7f7f\">                 </span>\n",
       "</pre>\n"
      ],
      "text/plain": [
       "\u001b[2;36m[02/22/24 23:47:29]\u001b[0m\u001b[2;36m \u001b[0m\u001b[34mINFO    \u001b[0m Receive client connection:                                           \u001b]8;id=401646;file:///home/rahit/jupyter_py3/lib/python3.8/site-packages/distributed/scheduler.py\u001b\\\u001b[2mscheduler.py\u001b[0m\u001b]8;;\u001b\\\u001b[2m:\u001b[0m\u001b]8;id=680002;file:///home/rahit/jupyter_py3/lib/python3.8/site-packages/distributed/scheduler.py#5362\u001b\\\u001b[2m5362\u001b[0m\u001b]8;;\u001b\\\n",
       "\u001b[2;36m                    \u001b[0m         Client-\u001b[93ma649c3a1-d206-11ee-8f6c-70799057d294\u001b[0m                          \u001b[2m                 \u001b[0m\n"
      ]
     },
     "metadata": {},
     "output_type": "display_data"
    },
    {
     "data": {
      "text/html": [
       "<pre style=\"white-space:pre;overflow-x:auto;line-height:normal;font-family:Menlo,'DejaVu Sans Mono',consolas,'Courier New',monospace\"><span style=\"color: #7fbfbf; text-decoration-color: #7fbfbf\">                    </span><span style=\"color: #000080; text-decoration-color: #000080\">INFO    </span> Starting established connection to tcp:<span style=\"color: #800080; text-decoration-color: #800080\">//</span><span style=\"color: #ff00ff; text-decoration-color: #ff00ff\">10.29.86.12</span>:<span style=\"color: #008080; text-decoration-color: #008080; font-weight: bold\">44554</span>                 <a href=\"file:///home/rahit/jupyter_py3/lib/python3.8/site-packages/distributed/core.py\" target=\"_blank\"><span style=\"color: #7f7f7f; text-decoration-color: #7f7f7f\">core.py</span></a><span style=\"color: #7f7f7f; text-decoration-color: #7f7f7f\">:</span><a href=\"file:///home/rahit/jupyter_py3/lib/python3.8/site-packages/distributed/core.py#969\" target=\"_blank\"><span style=\"color: #7f7f7f; text-decoration-color: #7f7f7f\">969</span></a>\n",
       "</pre>\n"
      ],
      "text/plain": [
       "\u001b[2;36m                   \u001b[0m\u001b[2;36m \u001b[0m\u001b[34mINFO    \u001b[0m Starting established connection to tcp:\u001b[35m/\u001b[0m\u001b[35m/\u001b[0m\u001b[95m10.29.86.12\u001b[0m:\u001b[1;36m44554\u001b[0m                 \u001b]8;id=802580;file:///home/rahit/jupyter_py3/lib/python3.8/site-packages/distributed/core.py\u001b\\\u001b[2mcore.py\u001b[0m\u001b]8;;\u001b\\\u001b[2m:\u001b[0m\u001b]8;id=373218;file:///home/rahit/jupyter_py3/lib/python3.8/site-packages/distributed/core.py#969\u001b\\\u001b[2m969\u001b[0m\u001b]8;;\u001b\\\n"
      ]
     },
     "metadata": {},
     "output_type": "display_data"
    }
   ],
   "source": [
    "client = Client(cluster)  # start distributed scheduler locally."
   ]
  },
  {
   "cell_type": "code",
   "execution_count": 21,
   "id": "22bf0f03-cbb6-466f-a7e4-1903d37035c3",
   "metadata": {},
   "outputs": [
    {
     "data": {
      "application/vnd.jupyter.widget-view+json": {
       "model_id": "111765ae97c449d7bcd664355efb39ee",
       "version_major": 2,
       "version_minor": 0
      },
      "text/plain": [
       "Tab(children=(HTML(value='<div class=\"jp-RenderedHTMLCommon jp-RenderedHTML jp-mod-trusted jp-OutputArea-outpu…"
      ]
     },
     "metadata": {},
     "output_type": "display_data"
    },
    {
     "data": {
      "text/html": [
       "<div>\n",
       "    <div style=\"width: 24px; height: 24px; background-color: #e1e1e1; border: 3px solid #9D9D9D; border-radius: 5px; position: absolute;\"> </div>\n",
       "    <div style=\"margin-left: 48px;\">\n",
       "        <h3 style=\"margin-bottom: 0px;\">Client</h3>\n",
       "        <p style=\"color: #9D9D9D; margin-bottom: 0px;\">Client-a649c3a1-d206-11ee-8f6c-70799057d294</p>\n",
       "        <table style=\"width: 100%; text-align: left;\">\n",
       "\n",
       "        <tr>\n",
       "        \n",
       "            <td style=\"text-align: left;\"><strong>Connection method:</strong> Cluster object</td>\n",
       "            <td style=\"text-align: left;\"><strong>Cluster type:</strong> dask_jobqueue.SLURMCluster</td>\n",
       "        \n",
       "        </tr>\n",
       "\n",
       "        \n",
       "            <tr>\n",
       "                <td style=\"text-align: left;\">\n",
       "                    <strong>Dashboard: </strong> <a href=\"http://10.29.86.12:8787/status\" target=\"_blank\">http://10.29.86.12:8787/status</a>\n",
       "                </td>\n",
       "                <td style=\"text-align: left;\"></td>\n",
       "            </tr>\n",
       "        \n",
       "\n",
       "        </table>\n",
       "\n",
       "        \n",
       "            <button style=\"margin-bottom: 12px;\" data-commandlinker-command=\"dask:populate-and-launch-layout\" data-commandlinker-args='{\"url\": \"http://10.29.86.12:8787/status\" }'>\n",
       "                Launch dashboard in JupyterLab\n",
       "            </button>\n",
       "        \n",
       "\n",
       "        \n",
       "            <details>\n",
       "            <summary style=\"margin-bottom: 20px;\"><h3 style=\"display: inline;\">Cluster Info</h3></summary>\n",
       "            <div class=\"jp-RenderedHTMLCommon jp-RenderedHTML jp-mod-trusted jp-OutputArea-output\">\n",
       "    <div style=\"width: 24px; height: 24px; background-color: #e1e1e1; border: 3px solid #9D9D9D; border-radius: 5px; position: absolute;\">\n",
       "    </div>\n",
       "    <div style=\"margin-left: 48px;\">\n",
       "        <h3 style=\"margin-bottom: 0px; margin-top: 0px;\">SLURMCluster</h3>\n",
       "        <p style=\"color: #9D9D9D; margin-bottom: 0px;\">e20b4c91</p>\n",
       "        <table style=\"width: 100%; text-align: left;\">\n",
       "            <tr>\n",
       "                <td style=\"text-align: left;\">\n",
       "                    <strong>Dashboard:</strong> <a href=\"http://10.29.86.12:8787/status\" target=\"_blank\">http://10.29.86.12:8787/status</a>\n",
       "                </td>\n",
       "                <td style=\"text-align: left;\">\n",
       "                    <strong>Workers:</strong> 0\n",
       "                </td>\n",
       "            </tr>\n",
       "            <tr>\n",
       "                <td style=\"text-align: left;\">\n",
       "                    <strong>Total threads:</strong> 0\n",
       "                </td>\n",
       "                <td style=\"text-align: left;\">\n",
       "                    <strong>Total memory:</strong> 0 B\n",
       "                </td>\n",
       "            </tr>\n",
       "            \n",
       "        </table>\n",
       "\n",
       "        <details>\n",
       "            <summary style=\"margin-bottom: 20px;\">\n",
       "                <h3 style=\"display: inline;\">Scheduler Info</h3>\n",
       "            </summary>\n",
       "\n",
       "            <div style=\"\">\n",
       "    <div>\n",
       "        <div style=\"width: 24px; height: 24px; background-color: #FFF7E5; border: 3px solid #FF6132; border-radius: 5px; position: absolute;\"> </div>\n",
       "        <div style=\"margin-left: 48px;\">\n",
       "            <h3 style=\"margin-bottom: 0px;\">Scheduler</h3>\n",
       "            <p style=\"color: #9D9D9D; margin-bottom: 0px;\">Scheduler-0d4098e3-edd5-4a66-a4fc-ae73ea4289c8</p>\n",
       "            <table style=\"width: 100%; text-align: left;\">\n",
       "                <tr>\n",
       "                    <td style=\"text-align: left;\">\n",
       "                        <strong>Comm:</strong> tcp://10.29.86.12:33233\n",
       "                    </td>\n",
       "                    <td style=\"text-align: left;\">\n",
       "                        <strong>Workers:</strong> 0\n",
       "                    </td>\n",
       "                </tr>\n",
       "                <tr>\n",
       "                    <td style=\"text-align: left;\">\n",
       "                        <strong>Dashboard:</strong> <a href=\"http://10.29.86.12:8787/status\" target=\"_blank\">http://10.29.86.12:8787/status</a>\n",
       "                    </td>\n",
       "                    <td style=\"text-align: left;\">\n",
       "                        <strong>Total threads:</strong> 0\n",
       "                    </td>\n",
       "                </tr>\n",
       "                <tr>\n",
       "                    <td style=\"text-align: left;\">\n",
       "                        <strong>Started:</strong> Just now\n",
       "                    </td>\n",
       "                    <td style=\"text-align: left;\">\n",
       "                        <strong>Total memory:</strong> 0 B\n",
       "                    </td>\n",
       "                </tr>\n",
       "            </table>\n",
       "        </div>\n",
       "    </div>\n",
       "\n",
       "    <details style=\"margin-left: 48px;\">\n",
       "        <summary style=\"margin-bottom: 20px;\">\n",
       "            <h3 style=\"display: inline;\">Workers</h3>\n",
       "        </summary>\n",
       "\n",
       "        \n",
       "\n",
       "    </details>\n",
       "</div>\n",
       "\n",
       "        </details>\n",
       "    </div>\n",
       "</div>\n",
       "            </details>\n",
       "        \n",
       "\n",
       "    </div>\n",
       "</div>"
      ],
      "text/plain": [
       "<Client: 'tcp://10.29.86.12:33233' processes=0 threads=0, memory=0 B>"
      ]
     },
     "metadata": {},
     "output_type": "display_data"
    }
   ],
   "source": [
    "display(cluster)\n",
    "display(client)"
   ]
  },
  {
   "cell_type": "code",
   "execution_count": 22,
   "id": "7fc3a787-966c-4a45-a60b-afee7b643f29",
   "metadata": {},
   "outputs": [],
   "source": [
    "# Scale the cluster to the desired number of workers\n",
    "cluster.scale(jobs=4)  # Request 10 jobs, adjust based on your needs"
   ]
  },
  {
   "cell_type": "code",
   "execution_count": 7,
   "id": "89b3b162-4805-4959-9d81-366b4e55112a",
   "metadata": {},
   "outputs": [
    {
     "name": "stdout",
     "output_type": "stream",
     "text": [
      "/home/rahit/scratch/modspy-data\n"
     ]
    }
   ],
   "source": [
    "!pwd"
   ]
  },
  {
   "cell_type": "code",
   "execution_count": 4,
   "id": "6d846045-ba81-4058-aaa1-61ca15b95fab",
   "metadata": {},
   "outputs": [],
   "source": [
    "# nodes_df = dd.read_csv('./data/01_raw/monarch/monarch-kg_nodes.tsv', sep='\\t', usecols=['id', 'category', 'name', 'in_taxon', 'in_taxon_label', 'symbol'], dtype={'id':'object', \n",
    "#                         'category':'object', 'name':'object', 'in_taxon':'object', 'in_taxon_label':'object', 'symbol':'object'})\n",
    "nodes_df = dd.read_parquet('./data/02_intermediate/monarch/nodes_with_type_idx')  \n",
    "# edges_df = dd.read_parquet('./data/02_intermediate/monarch/edges_with_node_cat')"
   ]
  },
  {
   "cell_type": "code",
   "execution_count": 23,
   "id": "7370d934",
   "metadata": {},
   "outputs": [],
   "source": [
    "\n",
    "# Function to convert DataFrame rows to tuples for the Bag\n",
    "def create_edge_tuple(row):\n",
    "    return row['subject_category'], row['predicate'], row['object_category'], row['subject_id'], row['object_id']\n",
    "\n",
    "def binop(accumulator, edge):\n",
    "    if accumulator is None:\n",
    "        accumulator = []  # Initialize accumulator if it's None\n",
    "    accumulator.append((edge[3], edge[4]))\n",
    "    return accumulator\n",
    "\n",
    "# def combine(accumulator1, accumulator2):\n",
    "#     return accumulator1.extend(accumulator2)\n",
    "def combine(accumulator1, accumulator2):\n",
    "    if accumulator1 is None:\n",
    "        accumulator1 = []\n",
    "    if accumulator2 is None:\n",
    "        accumulator2 = []\n",
    "    return accumulator1 + accumulator2  # Use + for list concatenation\n",
    "\n"
   ]
  },
  {
   "cell_type": "code",
   "execution_count": 38,
   "id": "77628a0b",
   "metadata": {},
   "outputs": [],
   "source": [
    "edges_df = edges_df.repartition(npartitions=16)  # only 1/100th of the data\n",
    "edges_df = edges_df.persist()  # if on a distributed system"
   ]
  },
  {
   "cell_type": "code",
   "execution_count": null,
   "id": "16e4bbe2",
   "metadata": {},
   "outputs": [],
   "source": [
    "############# CHANGE ME #######################\n",
    "# Should be removed. It is added because the edge dataframe has erroneous column names.\n",
    "edges_df = edges_df.rename(columns={'subject_category': 'e_category', 'edge_category': 'subject_category'}).rename(columns={'e_category': 'edge_category'})\n",
    "###############################################\n",
    "# display(edges_df.head())\n",
    "_edf = edges_df.merge(nodes_df, left_on='subject', right_on='id', suffixes=('_ndf', '_edf'))\n",
    "# print(f\"Columns after merging on subject category: {_edf.columns}\")\n",
    "# display(_edf.head())\n",
    "_edf = _edf.rename(columns={'type_index': 'subject_id'})\n",
    "# print(f\"Columns after merging on subject category: {_edf.columns}\")\n",
    "# display(_edf.head())\n",
    "_edf = _edf.merge(nodes_df, left_on='object', right_on='id', suffixes=('_ndf', '_edf'))\n",
    "# print(f\"Columns after merging on object category: {_edf.columns}\")\n",
    "_edf = _edf.rename(columns={'type_index': 'object_id'})\n",
    "# print(f\"Columns after merging on object category: {_edf.columns}\")\n",
    "# display(_edf.head())\n",
    "\n",
    "# Keep only the columns we need\n",
    "edges = _edf[['id','subject', 'subject_id', 'subject_category', 'predicate', 'edge_category', 'object_category', 'object_id', 'object']].copy()\n",
    "# print(f\"Columns after renaming and trimming: {edges.columns}\")\n",
    "    \n",
    "# logger.info(f\"➡️ Creating edges\")\n",
    "\n",
    "################## INITIALIZE EDGES ##################\n",
    "# Convert the edge categories to categoricals for efficiency\n",
    "edges['subject_category'] = edges['subject_category'].astype('category')\n",
    "edges['predicate'] = edges['predicate'].astype('category')\n",
    "edges['object_category'] = edges['object_category'].astype('category')\n",
    "# edges['edge_category'] = edges['edge_category'].astype('category')\n",
    "\n",
    "# From unknown type categorical to known type categorical\n",
    "edges = edges.categorize(columns=['subject_category','predicate','object_category'])\n",
    "\n",
    "# Map ('subject_category','predicate','object_category') to integer index for optimization purpose\n",
    "edges['edge_key'] = list(zip(edges['subject_category'], edges['predicate'], edges['object_category']))\n",
    "mapping_dict = {k: i for i, k in enumerate(edges['edge_key'].unique().compute())}\n",
    "edges['edge_key_id'] = edges['combined'].map(mapping_dict)\n",
    "edges['edge_key_id'] = edges['edge_key_id'].astype('category')\n",
    "edges = edges.categorize(columns=['edge_key_id'])   # From unknown type categorical to known type categorical\n",
    "\n",
    "# Save edges dataframe at current state before reducing.\n",
    "edges.to_parquet()\n"
   ]
  },
  {
   "cell_type": "code",
   "execution_count": null,
   "id": "30737fed",
   "metadata": {},
   "outputs": [],
   "source": [
    "\n",
    "# Reduce edges dataframe to reduce memory overhead\n",
    "edges = _edf[['edge_key_id','subject_id','object_id']].copy()\n",
    "\n",
    "\n",
    "# # Prepare edge types and mappings\n",
    "# edge_types = edges['edge_category'].unique().compute()  # Compute edge types on scheduler\n",
    "\n",
    "# Create a Bag from the DataFrame, and map the conversion function to each row\n",
    "edges_bag = edges.map_partitions(lambda df: df.apply(create_edge_tuple, axis=1)).to_bag()\n",
    "# display(edges_bag.compute())\n",
    "# # Use map_partitions with itertuples to convert each row to the desired tuple format\n",
    "# edges_bag = edges.map_partitions(\n",
    "#     lambda df: [create_edge_tuple_optimized(row) for row in df.itertuples(index=False)],\n",
    "#     meta=(('edge_type', 'object'), ('subject_id', 'int64'), ('object_id', 'int64'))\n",
    "# ).to_bag()\n",
    "\n",
    "# # Function to convert a tuple to a string\n",
    "# def tuple_to_string(t):\n",
    "#     # Convert the tuple to a string format of your choice\n",
    "#     # This example uses a simple comma-separated format\n",
    "#     return ','.join(map(str, t))\n",
    "\n",
    "# # Map the conversion function over the bag to convert tuples to strings\n",
    "edges_bag = edges_bag.map(lambda x: str(x))\n"
   ]
  },
  {
   "cell_type": "code",
   "execution_count": 39,
   "id": "8529cbed",
   "metadata": {},
   "outputs": [
    {
     "data": {
      "text/plain": [
       "['/scratch/rahit/modspy-data/./data/02_intermediate/monarch/edges_bag/00.json.gz',\n",
       " '/scratch/rahit/modspy-data/./data/02_intermediate/monarch/edges_bag/01.json.gz',\n",
       " '/scratch/rahit/modspy-data/./data/02_intermediate/monarch/edges_bag/02.json.gz',\n",
       " '/scratch/rahit/modspy-data/./data/02_intermediate/monarch/edges_bag/03.json.gz',\n",
       " '/scratch/rahit/modspy-data/./data/02_intermediate/monarch/edges_bag/04.json.gz',\n",
       " '/scratch/rahit/modspy-data/./data/02_intermediate/monarch/edges_bag/05.json.gz',\n",
       " '/scratch/rahit/modspy-data/./data/02_intermediate/monarch/edges_bag/06.json.gz',\n",
       " '/scratch/rahit/modspy-data/./data/02_intermediate/monarch/edges_bag/07.json.gz',\n",
       " '/scratch/rahit/modspy-data/./data/02_intermediate/monarch/edges_bag/08.json.gz',\n",
       " '/scratch/rahit/modspy-data/./data/02_intermediate/monarch/edges_bag/09.json.gz',\n",
       " '/scratch/rahit/modspy-data/./data/02_intermediate/monarch/edges_bag/10.json.gz',\n",
       " '/scratch/rahit/modspy-data/./data/02_intermediate/monarch/edges_bag/11.json.gz',\n",
       " '/scratch/rahit/modspy-data/./data/02_intermediate/monarch/edges_bag/12.json.gz',\n",
       " '/scratch/rahit/modspy-data/./data/02_intermediate/monarch/edges_bag/13.json.gz',\n",
       " '/scratch/rahit/modspy-data/./data/02_intermediate/monarch/edges_bag/14.json.gz',\n",
       " '/scratch/rahit/modspy-data/./data/02_intermediate/monarch/edges_bag/15.json.gz']"
      ]
     },
     "execution_count": 39,
     "metadata": {},
     "output_type": "execute_result"
    }
   ],
   "source": [
    "\n",
    "# # Persist the intermediate result\n",
    "# edges_bag = edges_bag.persist()\n",
    "edges_bag.to_textfiles('./data/02_intermediate/monarch/edges_bag/*.json.gz')\n",
    "\n"
   ]
  },
  {
   "cell_type": "code",
   "execution_count": 24,
   "id": "fcb20024",
   "metadata": {},
   "outputs": [],
   "source": [
    "import ast\n",
    "\n",
    "# Define a function to convert a line (string) back into a tuple\n",
    "def parse_line(line):\n",
    "    # Strip leading/trailing whitespace and newline characters\n",
    "    line = line.strip()\n",
    "    # Use `ast.literal_eval` to safely evaluate the string as a Python literal\n",
    "    # This converts the string representation of a tuple back into an actual tuple\n",
    "    return ast.literal_eval(line)"
   ]
  },
  {
   "cell_type": "code",
   "execution_count": 25,
   "id": "273d4ec3",
   "metadata": {},
   "outputs": [],
   "source": [
    "edges_bag = db.read_text('./data/02_intermediate/monarch/edges_bag/*.json.gz').map(parse_line).persist()"
   ]
  },
  {
   "cell_type": "code",
   "execution_count": null,
   "id": "6b85fac2",
   "metadata": {},
   "outputs": [],
   "source": [
    "import json\n",
    "\n",
    "# ebag = edges_bag.repartition(npartitions=32)\n",
    "\n",
    "# Use foldby with the process_tuples function\n",
    "edge_type_mappings = edges_bag.foldby(key=lambda x: (x[0],x[1],x[2]), binop=binop, combine=combine, initial=[], split_every=8)\n",
    "# edge_type_mappings = edge_type_mappings.compute()  # Trigger the computation\n",
    "\n",
    "# http://gra998.graham.sharcnet:8888/lab?token=acc796a9ad732594aeb992ab092a14b4313b11b43159228e\n",
    "edge_type_mappings.map(json.dumps).to_textfiles('./data/02_intermediate/monarch/edges_index_v1/*.json.gz')\n",
    "# etm = edge_type_mappings.compute()  # Trigger the computation"
   ]
  },
  {
   "cell_type": "code",
   "execution_count": null,
   "id": "e03847b8",
   "metadata": {},
   "outputs": [],
   "source": [
    "edges_type_index = db.read_text('./data/02_intermediate/monarch/edges_index/*.json.gz').map(parse_line).persist()\n"
   ]
  },
  {
   "cell_type": "code",
   "execution_count": 56,
   "id": "390985c5",
   "metadata": {},
   "outputs": [],
   "source": [
    "edges = dd.read_parquet('./data/02_intermediate/monarch/edges_pre_df_reduction_v2')"
   ]
  },
  {
   "cell_type": "code",
   "execution_count": 57,
   "id": "11f222a6",
   "metadata": {},
   "outputs": [
    {
     "data": {
      "text/plain": [
       "biolink:Gene-biolink:interacts_with-biolink:Gene                                 4096780\n",
       "biolink:Gene-biolink:expressed_in-biolink:GrossAnatomicalStructure               1472390\n",
       "biolink:Gene-biolink:has_phenotype-biolink:PhenotypicFeature                      883206\n",
       "biolink:Gene-biolink:enables-biolink:BiologicalProcessOrActivity                  841329\n",
       "biolink:Gene-biolink:actively_involved_in-biolink:BiologicalProcessOrActivity     747796\n",
       "                                                                                  ...   \n",
       "biolink:MacromolecularComplex-biolink:related_to-biolink:RNAProduct                    1\n",
       "biolink:MacromolecularComplex-biolink:related_to-biolink:Vertebrate                    1\n",
       "biolink:GrossAnatomicalStructure-biolink:related_to-biolink:OrganismTaxon              1\n",
       "biolink:PhenotypicFeature-biolink:subclass_of-biolink:PhenotypicQuality                1\n",
       "biolink:Transcript-biolink:subclass_of-biolink:NucleicAcidEntity                       1\n",
       "Name: edge_key, Length: 289, dtype: int64"
      ]
     },
     "metadata": {},
     "output_type": "display_data"
    }
   ],
   "source": [
    "edge_kvs = edges['edge_key'].value_counts().compute()\n",
    "display(edge_kvs)"
   ]
  },
  {
   "cell_type": "code",
   "execution_count": 12,
   "id": "c53da770",
   "metadata": {},
   "outputs": [
    {
     "name": "stderr",
     "output_type": "stream",
     "text": [
      "Downloading https://www.dropbox.com/s/1bnz8r7mofx0osf/net_aminer.zip?dl=1\n",
      "Extracting data/01_raw/AMiner/net_aminer.zip\n",
      "Downloading https://www.dropbox.com/s/nkocx16rpl4ydde/label.zip?dl=1\n",
      "Extracting data/01_raw/AMiner/raw/label.zip\n",
      "Processing...\n",
      "Done!\n"
     ]
    },
    {
     "data": {
      "text/plain": [
       "{('paper',\n",
       "  'written_by',\n",
       "  'author'): tensor([[      0,       1,       2,  ..., 3194404, 3194404, 3194404],\n",
       "         [      0,       1,       2,  ...,    4393,   21681,  317436]]),\n",
       " ('author',\n",
       "  'writes',\n",
       "  'paper'): tensor([[      0,       1,       2,  ...,    4393,   21681,  317436],\n",
       "         [      0,       1,       2,  ..., 3194404, 3194404, 3194404]]),\n",
       " ('paper',\n",
       "  'published_in',\n",
       "  'venue'): tensor([[      0,       1,       2,  ..., 3194402, 3194403, 3194404],\n",
       "         [   2190,    2190,    2190,  ...,    3148,    3148,    3148]]),\n",
       " ('venue',\n",
       "  'publishes',\n",
       "  'paper'): tensor([[   2190,    2190,    2190,  ...,    3148,    3148,    3148],\n",
       "         [      0,       1,       2,  ..., 3194402, 3194403, 3194404]])}"
      ]
     },
     "metadata": {},
     "output_type": "display_data"
    }
   ],
   "source": [
    "from torch_geometric.datasets import AMiner\n",
    "from torch_geometric.nn import MetaPath2Vec\n",
    "\n",
    "dataset = AMiner(root='./data/01_raw/AMiner')\n",
    "data = dataset[0]\n",
    "display(data.edge_index_dict)"
   ]
  },
  {
   "cell_type": "code",
   "execution_count": 5,
   "id": "deefbd18",
   "metadata": {},
   "outputs": [
    {
     "data": {
      "text/plain": [
       "category\n",
       "biolink:Gene                              559272\n",
       "biolink:PhenotypicFeature                 117145\n",
       "biolink:BiologicalProcessOrActivity        38789\n",
       "biolink:GrossAnatomicalStructure           28387\n",
       "biolink:Disease                            26940\n",
       "                                           ...  \n",
       "biolink:SiRNA                                  1\n",
       "biolink:Snv                                    1\n",
       "biolink:StudyVariable                          1\n",
       "biolink:TranscriptionFactorBindingSite         1\n",
       "biolink:Zygosity                               1\n",
       "Name: count, Length: 88, dtype: int64[pyarrow]"
      ]
     },
     "execution_count": 5,
     "metadata": {},
     "output_type": "execute_result"
    }
   ],
   "source": [
    "nodes_df['category'].value_counts().compute()"
   ]
  },
  {
   "cell_type": "code",
   "execution_count": 6,
   "id": "3232d724",
   "metadata": {},
   "outputs": [
    {
     "name": "stderr",
     "output_type": "stream",
     "text": [
      "  0%|          | 0/88 [00:00<?, ?it/s]"
     ]
    },
    {
     "data": {
      "text/html": [
       "<pre style=\"white-space:pre;overflow-x:auto;line-height:normal;font-family:Menlo,'DejaVu Sans Mono',consolas,'Courier New',monospace\"><span style=\"color: #008080; text-decoration-color: #008080; font-weight: bold\">559272</span>\n",
       "</pre>\n"
      ],
      "text/plain": [
       "\u001b[1;36m559272\u001b[0m\n"
      ]
     },
     "metadata": {},
     "output_type": "display_data"
    },
    {
     "name": "stderr",
     "output_type": "stream",
     "text": [
      "100%|██████████| 88/88 [00:00<00:00, 345.64it/s]\n"
     ]
    }
   ],
   "source": [
    "\n",
    "# Prepare node mapping and node types\n",
    "# node_mapping = {node_id: i for i, node_id in enumerate(nodes_df['id'].unique())}\n",
    "node_types = nodes_df['category'].unique()\n",
    "\n",
    "# Add nodes to the graph\n",
    "for node_type in tqdm(node_types):\n",
    "    if node_type == 'biolink:Gene':\n",
    "        mask = nodes_df['category'] == node_type\n",
    "        type_nodes = nodes_df[mask].compute()\n",
    "        print(type_nodes.shape[0])"
   ]
  },
  {
   "cell_type": "code",
   "execution_count": 58,
   "id": "ca38e333",
   "metadata": {},
   "outputs": [
    {
     "name": "stderr",
     "output_type": "stream",
     "text": [
      "100%|██████████| 88/88 [01:54<00:00,  1.30s/it]\n",
      "100%|██████████| 289/289 [03:56<00:00,  1.22it/s]\n"
     ]
    }
   ],
   "source": [
    "################## INITIALIZE NODES ##################\n",
    "\n",
    "# Prepare node mapping and node types\n",
    "# node_mapping = {node_id: i for i, node_id in enumerate(nodes_df.index.unique())}\n",
    "# node_types = nodes_df['category'].unique()\n",
    "\n",
    "# Initialize HeteroData for the heterogeneous graph\n",
    "data = HeteroData()\n",
    "    \n",
    "# Prepare node mapping and node types\n",
    "# node_mapping = {node_id: i for i, node_id in enumerate(nodes_df['id'].unique())}\n",
    "node_types = nodes_df['category'].unique()\n",
    "\n",
    "# Add nodes to the graph\n",
    "for node_type in tqdm(node_types):\n",
    "    # get nodes of type `node_type`\n",
    "    mask = nodes_df['category'] == node_type\n",
    "    type_nodes = nodes_df[mask].compute()\n",
    "    \n",
    "    # node_features = torch.ones((type_nodes.shape[0], 1))\n",
    "    data[node_type].num_nodes = type_nodes.shape[0] # node_features # torch.tensor(type_nodes.index.to_list(), dtype=torch.long).view(len(type_nodes.index.to_list()),1)\n",
    "\n",
    "    # Add dummy features (e.g., a simple constant feature)\n",
    "    data[node_type].x = torch.ones((data[node_type].num_nodes, 1))  # Each user has a feature vector of [1]\n",
    "\n",
    "\n",
    "################## INITIALIZE EDGES ##################\n",
    "\n",
    "# Prepare edge types and mappings\n",
    "edge_types = edges['edge_key'].unique().compute()\n",
    "\n",
    "# Add edges to the graph\n",
    "for i in tqdm(edge_types):\n",
    "    edge_key = tuple(i.split('-'))\n",
    "    edge_idx = edges[edges['edge_key'] == i][['subject_id','object_id']].compute()\n",
    "    data[edge_key].edge_index = torch.tensor(edge_idx.values, dtype=torch.long).t().contiguous()\n",
    "    "
   ]
  },
  {
   "cell_type": "code",
   "execution_count": 59,
   "id": "f528f5c1",
   "metadata": {},
   "outputs": [],
   "source": [
    "torch.save(data, './data/05_model_input/2024-02-monarch_heterodata_v1.pt')"
   ]
  },
  {
   "cell_type": "code",
   "execution_count": 69,
   "id": "713d145f",
   "metadata": {},
   "outputs": [
    {
     "data": {
      "text/plain": [
       "True"
      ]
     },
     "execution_count": 69,
     "metadata": {},
     "output_type": "execute_result"
    }
   ],
   "source": [
    "data.has_isolated_nodes()"
   ]
  },
  {
   "cell_type": "code",
   "execution_count": 70,
   "id": "baf54605",
   "metadata": {},
   "outputs": [
    {
     "data": {
      "text/plain": [
       "False"
      ]
     },
     "execution_count": 70,
     "metadata": {},
     "output_type": "execute_result"
    }
   ],
   "source": [
    "data.is_undirected()"
   ]
  },
  {
   "cell_type": "code",
   "execution_count": 71,
   "id": "4c4a85a4",
   "metadata": {},
   "outputs": [
    {
     "data": {
      "text/html": [
       "<pre style=\"white-space:pre;overflow-x:auto;line-height:normal;font-family:Menlo,'DejaVu Sans Mono',consolas,'Courier New',monospace\"><span style=\"color: #7fbfbf; text-decoration-color: #7fbfbf\">[02/23/24 04:40:52] </span><span style=\"color: #800000; text-decoration-color: #800000\">WARNING </span> <span style=\"color: #800080; text-decoration-color: #800080\">/home/rahit/jupyter_py3/lib/python3.8/site-packages/torch_geometric/da</span> <a href=\"file:///cvmfs/soft.computecanada.ca/easybuild/software/2020/avx2/Core/python/3.8.10/lib/python3.8/warnings.py\" target=\"_blank\"><span style=\"color: #7f7f7f; text-decoration-color: #7f7f7f\">warnings.py</span></a><span style=\"color: #7f7f7f; text-decoration-color: #7f7f7f\">:</span><a href=\"file:///cvmfs/soft.computecanada.ca/easybuild/software/2020/avx2/Core/python/3.8.10/lib/python3.8/warnings.py#109\" target=\"_blank\"><span style=\"color: #7f7f7f; text-decoration-color: #7f7f7f\">109</span></a>\n",
       "<span style=\"color: #7fbfbf; text-decoration-color: #7fbfbf\">                    </span>         <span style=\"color: #800080; text-decoration-color: #800080\">ta/</span><span style=\"color: #ff00ff; text-decoration-color: #ff00ff\">data.py</span>:<span style=\"color: #008080; text-decoration-color: #008080; font-weight: bold\">1038</span>: UserWarning: The node types <span style=\"font-weight: bold\">{</span><span style=\"color: #008000; text-decoration-color: #008000\">'biolink:Activity'</span>,      <span style=\"color: #7f7f7f; text-decoration-color: #7f7f7f\">               </span>\n",
       "<span style=\"color: #7fbfbf; text-decoration-color: #7fbfbf\">                    </span>         <span style=\"color: #008000; text-decoration-color: #008000\">'biolink:NoncodingRNAProduct'</span>, <span style=\"color: #008000; text-decoration-color: #008000\">'biolink:RegulatoryRegion'</span>,             <span style=\"color: #7f7f7f; text-decoration-color: #7f7f7f\">               </span>\n",
       "<span style=\"color: #7fbfbf; text-decoration-color: #7fbfbf\">                    </span>         <span style=\"color: #008000; text-decoration-color: #008000\">'biolink:GeographicExposure'</span>, <span style=\"color: #008000; text-decoration-color: #008000\">'biolink:Haplotype'</span>,                     <span style=\"color: #7f7f7f; text-decoration-color: #7f7f7f\">               </span>\n",
       "<span style=\"color: #7fbfbf; text-decoration-color: #7fbfbf\">                    </span>         <span style=\"color: #008000; text-decoration-color: #008000\">'biolink:CodingSequence'</span>, <span style=\"color: #008000; text-decoration-color: #008000\">'biolink:DatasetDistribution'</span>,               <span style=\"color: #7f7f7f; text-decoration-color: #7f7f7f\">               </span>\n",
       "<span style=\"color: #7fbfbf; text-decoration-color: #7fbfbf\">                    </span>         <span style=\"color: #008000; text-decoration-color: #008000\">'biolink:WebPage'</span>, <span style=\"color: #008000; text-decoration-color: #008000\">'biolink:Invertebrate'</span>, <span style=\"color: #008000; text-decoration-color: #008000\">'biolink:Attribute'</span>,        <span style=\"color: #7f7f7f; text-decoration-color: #7f7f7f\">               </span>\n",
       "<span style=\"color: #7fbfbf; text-decoration-color: #7fbfbf\">                    </span>         <span style=\"color: #008000; text-decoration-color: #008000\">'biolink:ProteinDomain'</span>, <span style=\"color: #008000; text-decoration-color: #008000\">'biolink:BiologicalSex'</span>, <span style=\"color: #008000; text-decoration-color: #008000\">'biolink:Dataset'</span>,   <span style=\"color: #7f7f7f; text-decoration-color: #7f7f7f\">               </span>\n",
       "<span style=\"color: #7fbfbf; text-decoration-color: #7fbfbf\">                    </span>         <span style=\"color: #008000; text-decoration-color: #008000\">'biolink:Snv'</span>, <span style=\"color: #008000; text-decoration-color: #008000\">'biolink:Mammal'</span>, <span style=\"color: #008000; text-decoration-color: #008000\">'biolink:OrganismalEntity'</span>,           <span style=\"color: #7f7f7f; text-decoration-color: #7f7f7f\">               </span>\n",
       "<span style=\"color: #7fbfbf; text-decoration-color: #7fbfbf\">                    </span>         <span style=\"color: #008000; text-decoration-color: #008000\">'biolink:ChemicalMixture'</span>, <span style=\"color: #008000; text-decoration-color: #008000\">'biolink:Patent'</span>,                           <span style=\"color: #7f7f7f; text-decoration-color: #7f7f7f\">               </span>\n",
       "<span style=\"color: #7fbfbf; text-decoration-color: #7fbfbf\">                    </span>         <span style=\"color: #008000; text-decoration-color: #008000\">'biolink:EnvironmentalProcess'</span>, <span style=\"color: #008000; text-decoration-color: #008000\">'biolink:PhenotypicSex'</span>,               <span style=\"color: #7f7f7f; text-decoration-color: #7f7f7f\">               </span>\n",
       "<span style=\"color: #7fbfbf; text-decoration-color: #7fbfbf\">                    </span>         <span style=\"color: #008000; text-decoration-color: #008000\">'biolink:Procedure'</span>, <span style=\"color: #008000; text-decoration-color: #008000\">'biolink:Fungus'</span>, <span style=\"color: #008000; text-decoration-color: #008000\">'biolink:Treatment'</span>,            <span style=\"color: #7f7f7f; text-decoration-color: #7f7f7f\">               </span>\n",
       "<span style=\"color: #7fbfbf; text-decoration-color: #7fbfbf\">                    </span>         <span style=\"color: #008000; text-decoration-color: #008000\">'biolink:Human'</span>, <span style=\"color: #008000; text-decoration-color: #008000\">'biolink:ProteinFamily'</span>, <span style=\"color: #008000; text-decoration-color: #008000\">'biolink:ConfidenceLevel'</span>,   <span style=\"color: #7f7f7f; text-decoration-color: #7f7f7f\">               </span>\n",
       "<span style=\"color: #7fbfbf; text-decoration-color: #7fbfbf\">                    </span>         <span style=\"color: #008000; text-decoration-color: #008000\">'biolink:Study'</span>, <span style=\"color: #008000; text-decoration-color: #008000\">'biolink:Exon'</span>, <span style=\"color: #008000; text-decoration-color: #008000\">'biolink:Genotype'</span>,                   <span style=\"color: #7f7f7f; text-decoration-color: #7f7f7f\">               </span>\n",
       "<span style=\"color: #7fbfbf; text-decoration-color: #7fbfbf\">                    </span>         <span style=\"color: #008000; text-decoration-color: #008000\">'biolink:MaterialSample'</span>, <span style=\"color: #008000; text-decoration-color: #008000\">'biolink:DiagnosticAid'</span>, <span style=\"color: #008000; text-decoration-color: #008000\">'biolink:Article'</span>,  <span style=\"color: #7f7f7f; text-decoration-color: #7f7f7f\">               </span>\n",
       "<span style=\"color: #7fbfbf; text-decoration-color: #7fbfbf\">                    </span>         <span style=\"color: #008000; text-decoration-color: #008000\">'biolink:Bacterium'</span>, <span style=\"color: #008000; text-decoration-color: #008000\">'biolink:Event'</span>, <span style=\"color: #008000; text-decoration-color: #008000\">'biolink:SiRNA'</span>,                 <span style=\"color: #7f7f7f; text-decoration-color: #7f7f7f\">               </span>\n",
       "<span style=\"color: #7fbfbf; text-decoration-color: #7fbfbf\">                    </span>         <span style=\"color: #008000; text-decoration-color: #008000\">'biolink:GeneticInheritance'</span>, <span style=\"color: #008000; text-decoration-color: #008000\">'biolink:Agent'</span>, <span style=\"color: #008000; text-decoration-color: #008000\">'biolink:CellLine'</span>,     <span style=\"color: #7f7f7f; text-decoration-color: #7f7f7f\">               </span>\n",
       "<span style=\"color: #7fbfbf; text-decoration-color: #7fbfbf\">                    </span>         <span style=\"color: #008000; text-decoration-color: #008000\">'biolink:ProcessedMaterial'</span>, <span style=\"color: #008000; text-decoration-color: #008000\">'biolink:Genome'</span>,                         <span style=\"color: #7f7f7f; text-decoration-color: #7f7f7f\">               </span>\n",
       "<span style=\"color: #7fbfbf; text-decoration-color: #7fbfbf\">                    </span>         <span style=\"color: #008000; text-decoration-color: #008000\">'biolink:StudyVariable'</span>, <span style=\"color: #008000; text-decoration-color: #008000\">'biolink:ReagentTargetedGene'</span>,                <span style=\"color: #7f7f7f; text-decoration-color: #7f7f7f\">               </span>\n",
       "<span style=\"color: #7fbfbf; text-decoration-color: #7fbfbf\">                    </span>         <span style=\"color: #008000; text-decoration-color: #008000\">'biolink:MicroRNA'</span>, <span style=\"color: #008000; text-decoration-color: #008000\">'biolink:Publication'</span>,                             <span style=\"color: #7f7f7f; text-decoration-color: #7f7f7f\">               </span>\n",
       "<span style=\"color: #7fbfbf; text-decoration-color: #7fbfbf\">                    </span>         <span style=\"color: #008000; text-decoration-color: #008000\">'biolink:TranscriptionFactorBindingSite'</span>,                              <span style=\"color: #7f7f7f; text-decoration-color: #7f7f7f\">               </span>\n",
       "<span style=\"color: #7fbfbf; text-decoration-color: #7fbfbf\">                    </span>         <span style=\"color: #008000; text-decoration-color: #008000\">'biolink:IndividualOrganism'</span>, <span style=\"color: #008000; text-decoration-color: #008000\">'biolink:Zygosity'</span>,                      <span style=\"color: #7f7f7f; text-decoration-color: #7f7f7f\">               </span>\n",
       "<span style=\"color: #7fbfbf; text-decoration-color: #7fbfbf\">                    </span>         <span style=\"color: #008000; text-decoration-color: #008000\">'biolink:AccessibleDnaRegion'</span>, <span style=\"color: #008000; text-decoration-color: #008000\">'biolink:GenotypicSex'</span>,                 <span style=\"color: #7f7f7f; text-decoration-color: #7f7f7f\">               </span>\n",
       "<span style=\"color: #7fbfbf; text-decoration-color: #7fbfbf\">                    </span>         <span style=\"color: #008000; text-decoration-color: #008000\">'biolink:BiologicalEntity'</span>, <span style=\"color: #008000; text-decoration-color: #008000\">'biolink:PopulationOfIndividualOrganisms'</span>, <span style=\"color: #7f7f7f; text-decoration-color: #7f7f7f\">               </span>\n",
       "<span style=\"color: #7fbfbf; text-decoration-color: #7fbfbf\">                    </span>         <span style=\"color: #008000; text-decoration-color: #008000\">'biolink:ChemicalExposure'</span><span style=\"font-weight: bold\">}</span> are isolated and are not referenced by any <span style=\"color: #7f7f7f; text-decoration-color: #7f7f7f\">               </span>\n",
       "<span style=\"color: #7fbfbf; text-decoration-color: #7fbfbf\">                    </span>         edge type                                                              <span style=\"color: #7f7f7f; text-decoration-color: #7f7f7f\">               </span>\n",
       "<span style=\"color: #7fbfbf; text-decoration-color: #7fbfbf\">                    </span>           <span style=\"color: #800080; text-decoration-color: #800080; font-weight: bold\">warnings.warn</span><span style=\"font-weight: bold\">(</span>msg<span style=\"font-weight: bold\">)</span>                                                   <span style=\"color: #7f7f7f; text-decoration-color: #7f7f7f\">               </span>\n",
       "<span style=\"color: #7fbfbf; text-decoration-color: #7fbfbf\">                    </span>                                                                                <span style=\"color: #7f7f7f; text-decoration-color: #7f7f7f\">               </span>\n",
       "</pre>\n"
      ],
      "text/plain": [
       "\u001b[2;36m[02/23/24 04:40:52]\u001b[0m\u001b[2;36m \u001b[0m\u001b[31mWARNING \u001b[0m \u001b[35m/home/rahit/jupyter_py3/lib/python3.8/site-packages/torch_geometric/da\u001b[0m \u001b]8;id=299331;file:///cvmfs/soft.computecanada.ca/easybuild/software/2020/avx2/Core/python/3.8.10/lib/python3.8/warnings.py\u001b\\\u001b[2mwarnings.py\u001b[0m\u001b]8;;\u001b\\\u001b[2m:\u001b[0m\u001b]8;id=172803;file:///cvmfs/soft.computecanada.ca/easybuild/software/2020/avx2/Core/python/3.8.10/lib/python3.8/warnings.py#109\u001b\\\u001b[2m109\u001b[0m\u001b]8;;\u001b\\\n",
       "\u001b[2;36m                    \u001b[0m         \u001b[35mta/\u001b[0m\u001b[95mdata.py\u001b[0m:\u001b[1;36m1038\u001b[0m: UserWarning: The node types \u001b[1m{\u001b[0m\u001b[32m'biolink:Activity'\u001b[0m,      \u001b[2m               \u001b[0m\n",
       "\u001b[2;36m                    \u001b[0m         \u001b[32m'biolink:NoncodingRNAProduct'\u001b[0m, \u001b[32m'biolink:RegulatoryRegion'\u001b[0m,             \u001b[2m               \u001b[0m\n",
       "\u001b[2;36m                    \u001b[0m         \u001b[32m'biolink:GeographicExposure'\u001b[0m, \u001b[32m'biolink:Haplotype'\u001b[0m,                     \u001b[2m               \u001b[0m\n",
       "\u001b[2;36m                    \u001b[0m         \u001b[32m'biolink:CodingSequence'\u001b[0m, \u001b[32m'biolink:DatasetDistribution'\u001b[0m,               \u001b[2m               \u001b[0m\n",
       "\u001b[2;36m                    \u001b[0m         \u001b[32m'biolink:WebPage'\u001b[0m, \u001b[32m'biolink:Invertebrate'\u001b[0m, \u001b[32m'biolink:Attribute'\u001b[0m,        \u001b[2m               \u001b[0m\n",
       "\u001b[2;36m                    \u001b[0m         \u001b[32m'biolink:ProteinDomain'\u001b[0m, \u001b[32m'biolink:BiologicalSex'\u001b[0m, \u001b[32m'biolink:Dataset'\u001b[0m,   \u001b[2m               \u001b[0m\n",
       "\u001b[2;36m                    \u001b[0m         \u001b[32m'biolink:Snv'\u001b[0m, \u001b[32m'biolink:Mammal'\u001b[0m, \u001b[32m'biolink:OrganismalEntity'\u001b[0m,           \u001b[2m               \u001b[0m\n",
       "\u001b[2;36m                    \u001b[0m         \u001b[32m'biolink:ChemicalMixture'\u001b[0m, \u001b[32m'biolink:Patent'\u001b[0m,                           \u001b[2m               \u001b[0m\n",
       "\u001b[2;36m                    \u001b[0m         \u001b[32m'biolink:EnvironmentalProcess'\u001b[0m, \u001b[32m'biolink:PhenotypicSex'\u001b[0m,               \u001b[2m               \u001b[0m\n",
       "\u001b[2;36m                    \u001b[0m         \u001b[32m'biolink:Procedure'\u001b[0m, \u001b[32m'biolink:Fungus'\u001b[0m, \u001b[32m'biolink:Treatment'\u001b[0m,            \u001b[2m               \u001b[0m\n",
       "\u001b[2;36m                    \u001b[0m         \u001b[32m'biolink:Human'\u001b[0m, \u001b[32m'biolink:ProteinFamily'\u001b[0m, \u001b[32m'biolink:ConfidenceLevel'\u001b[0m,   \u001b[2m               \u001b[0m\n",
       "\u001b[2;36m                    \u001b[0m         \u001b[32m'biolink:Study'\u001b[0m, \u001b[32m'biolink:Exon'\u001b[0m, \u001b[32m'biolink:Genotype'\u001b[0m,                   \u001b[2m               \u001b[0m\n",
       "\u001b[2;36m                    \u001b[0m         \u001b[32m'biolink:MaterialSample'\u001b[0m, \u001b[32m'biolink:DiagnosticAid'\u001b[0m, \u001b[32m'biolink:Article'\u001b[0m,  \u001b[2m               \u001b[0m\n",
       "\u001b[2;36m                    \u001b[0m         \u001b[32m'biolink:Bacterium'\u001b[0m, \u001b[32m'biolink:Event'\u001b[0m, \u001b[32m'biolink:SiRNA'\u001b[0m,                 \u001b[2m               \u001b[0m\n",
       "\u001b[2;36m                    \u001b[0m         \u001b[32m'biolink:GeneticInheritance'\u001b[0m, \u001b[32m'biolink:Agent'\u001b[0m, \u001b[32m'biolink:CellLine'\u001b[0m,     \u001b[2m               \u001b[0m\n",
       "\u001b[2;36m                    \u001b[0m         \u001b[32m'biolink:ProcessedMaterial'\u001b[0m, \u001b[32m'biolink:Genome'\u001b[0m,                         \u001b[2m               \u001b[0m\n",
       "\u001b[2;36m                    \u001b[0m         \u001b[32m'biolink:StudyVariable'\u001b[0m, \u001b[32m'biolink:ReagentTargetedGene'\u001b[0m,                \u001b[2m               \u001b[0m\n",
       "\u001b[2;36m                    \u001b[0m         \u001b[32m'biolink:MicroRNA'\u001b[0m, \u001b[32m'biolink:Publication'\u001b[0m,                             \u001b[2m               \u001b[0m\n",
       "\u001b[2;36m                    \u001b[0m         \u001b[32m'biolink:TranscriptionFactorBindingSite'\u001b[0m,                              \u001b[2m               \u001b[0m\n",
       "\u001b[2;36m                    \u001b[0m         \u001b[32m'biolink:IndividualOrganism'\u001b[0m, \u001b[32m'biolink:Zygosity'\u001b[0m,                      \u001b[2m               \u001b[0m\n",
       "\u001b[2;36m                    \u001b[0m         \u001b[32m'biolink:AccessibleDnaRegion'\u001b[0m, \u001b[32m'biolink:GenotypicSex'\u001b[0m,                 \u001b[2m               \u001b[0m\n",
       "\u001b[2;36m                    \u001b[0m         \u001b[32m'biolink:BiologicalEntity'\u001b[0m, \u001b[32m'biolink:PopulationOfIndividualOrganisms'\u001b[0m, \u001b[2m               \u001b[0m\n",
       "\u001b[2;36m                    \u001b[0m         \u001b[32m'biolink:ChemicalExposure'\u001b[0m\u001b[1m}\u001b[0m are isolated and are not referenced by any \u001b[2m               \u001b[0m\n",
       "\u001b[2;36m                    \u001b[0m         edge type                                                              \u001b[2m               \u001b[0m\n",
       "\u001b[2;36m                    \u001b[0m           \u001b[1;35mwarnings.warn\u001b[0m\u001b[1m(\u001b[0mmsg\u001b[1m)\u001b[0m                                                   \u001b[2m               \u001b[0m\n",
       "\u001b[2;36m                    \u001b[0m                                                                                \u001b[2m               \u001b[0m\n"
      ]
     },
     "metadata": {},
     "output_type": "display_data"
    },
    {
     "data": {
      "text/plain": [
       "True"
      ]
     },
     "execution_count": 71,
     "metadata": {},
     "output_type": "execute_result"
    }
   ],
   "source": [
    "data.validate()"
   ]
  },
  {
   "cell_type": "code",
   "execution_count": 17,
   "id": "97371371-f43f-4c34-98dc-274a4ad443d1",
   "metadata": {},
   "outputs": [
    {
     "data": {
      "text/html": [
       "<pre style=\"white-space:pre;overflow-x:auto;line-height:normal;font-family:Menlo,'DejaVu Sans Mono',consolas,'Courier New',monospace\"><span style=\"color: #7fbfbf; text-decoration-color: #7fbfbf\">[02/22/24 23:46:44] </span><span style=\"color: #000080; text-decoration-color: #000080\">INFO    </span> Scheduler closing<span style=\"color: #808000; text-decoration-color: #808000\">...</span>                                                 <a href=\"file:///home/rahit/jupyter_py3/lib/python3.8/site-packages/distributed/scheduler.py\" target=\"_blank\"><span style=\"color: #7f7f7f; text-decoration-color: #7f7f7f\">scheduler.py</span></a><span style=\"color: #7f7f7f; text-decoration-color: #7f7f7f\">:</span><a href=\"file:///home/rahit/jupyter_py3/lib/python3.8/site-packages/distributed/scheduler.py#3949\" target=\"_blank\"><span style=\"color: #7f7f7f; text-decoration-color: #7f7f7f\">3949</span></a>\n",
       "</pre>\n"
      ],
      "text/plain": [
       "\u001b[2;36m[02/22/24 23:46:44]\u001b[0m\u001b[2;36m \u001b[0m\u001b[34mINFO    \u001b[0m Scheduler closing\u001b[33m...\u001b[0m                                                 \u001b]8;id=295869;file:///home/rahit/jupyter_py3/lib/python3.8/site-packages/distributed/scheduler.py\u001b\\\u001b[2mscheduler.py\u001b[0m\u001b]8;;\u001b\\\u001b[2m:\u001b[0m\u001b]8;id=433701;file:///home/rahit/jupyter_py3/lib/python3.8/site-packages/distributed/scheduler.py#3949\u001b\\\u001b[2m3949\u001b[0m\u001b]8;;\u001b\\\n"
      ]
     },
     "metadata": {},
     "output_type": "display_data"
    },
    {
     "data": {
      "text/html": [
       "<pre style=\"white-space:pre;overflow-x:auto;line-height:normal;font-family:Menlo,'DejaVu Sans Mono',consolas,'Courier New',monospace\"><span style=\"color: #7fbfbf; text-decoration-color: #7fbfbf\">                    </span><span style=\"color: #000080; text-decoration-color: #000080\">INFO    </span> Scheduler closing all comms                                          <a href=\"file:///home/rahit/jupyter_py3/lib/python3.8/site-packages/distributed/scheduler.py\" target=\"_blank\"><span style=\"color: #7f7f7f; text-decoration-color: #7f7f7f\">scheduler.py</span></a><span style=\"color: #7f7f7f; text-decoration-color: #7f7f7f\">:</span><a href=\"file:///home/rahit/jupyter_py3/lib/python3.8/site-packages/distributed/scheduler.py#3971\" target=\"_blank\"><span style=\"color: #7f7f7f; text-decoration-color: #7f7f7f\">3971</span></a>\n",
       "</pre>\n"
      ],
      "text/plain": [
       "\u001b[2;36m                   \u001b[0m\u001b[2;36m \u001b[0m\u001b[34mINFO    \u001b[0m Scheduler closing all comms                                          \u001b]8;id=274560;file:///home/rahit/jupyter_py3/lib/python3.8/site-packages/distributed/scheduler.py\u001b\\\u001b[2mscheduler.py\u001b[0m\u001b]8;;\u001b\\\u001b[2m:\u001b[0m\u001b]8;id=69727;file:///home/rahit/jupyter_py3/lib/python3.8/site-packages/distributed/scheduler.py#3971\u001b\\\u001b[2m3971\u001b[0m\u001b]8;;\u001b\\\n"
      ]
     },
     "metadata": {},
     "output_type": "display_data"
    }
   ],
   "source": [
    "cluster.close()"
   ]
  },
  {
   "cell_type": "code",
   "execution_count": 18,
   "id": "77794891-f9d5-4f36-b6e2-fd771b4ae381",
   "metadata": {},
   "outputs": [],
   "source": [
    "client.close()"
   ]
  }
 ],
 "metadata": {
  "kernelspec": {
   "display_name": "Python 3 (ipykernel)",
   "language": "python",
   "name": "python3"
  },
  "language_info": {
   "codemirror_mode": {
    "name": "ipython",
    "version": 3
   },
   "file_extension": ".py",
   "mimetype": "text/x-python",
   "name": "python",
   "nbconvert_exporter": "python",
   "pygments_lexer": "ipython3",
   "version": "3.10.2"
  }
 },
 "nbformat": 4,
 "nbformat_minor": 5
}
