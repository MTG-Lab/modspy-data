{
 "cells": [
  {
   "cell_type": "markdown",
   "metadata": {},
   "source": [
    "Training Playground for ModSpy with Ray + PyTorch Lightning ⚡"
   ]
  },
  {
   "cell_type": "code",
   "execution_count": 1,
   "metadata": {},
   "outputs": [
    {
     "name": "stdout",
     "output_type": "stream",
     "text": [
      "Total GPU memory: 12.0 GB\n",
      "Free GPU memory: 11.9072265625 GB\n",
      "Used GPU memory: 0.0 GB\n"
     ]
    }
   ],
   "source": [
    "import GPUtil\n",
    "\n",
    "# Get the first available GPU\n",
    "gpu = GPUtil.getGPUs()[0]\n",
    "\n",
    "print(f\"Total GPU memory: {gpu.memoryTotal / 1024} GB\")\n",
    "print(f\"Free GPU memory: {gpu.memoryFree / 1024} GB\")\n",
    "print(f\"Used GPU memory: {gpu.memoryUsed / 1024} GB\")"
   ]
  },
  {
   "cell_type": "code",
   "execution_count": 2,
   "metadata": {},
   "outputs": [],
   "source": [
    "import sys\n",
    "sys.path.insert(0, '/home/rahit/projects/def-mtarailo/rahit/from_scratch/modspy-data/src/modspy_data')"
   ]
  },
  {
   "cell_type": "code",
   "execution_count": 3,
   "metadata": {},
   "outputs": [],
   "source": [
    "from comet_ml import Experiment\n",
    "\n",
    "\n",
    "import os\n",
    "import time\n",
    "\n",
    "from typing import List, Optional, Tuple, Union, cast\n",
    "from traitlets import default\n",
    "from rich import print\n",
    "\n",
    "import numpy as np\n",
    "import pandas as pd\n",
    "import torch\n",
    "import torchmetrics\n",
    "from torch_geometric.transforms import AddSelfLoops\n",
    "from torch_geometric.typing import EdgeType\n",
    "from torch_geometric.data import HeteroData\n",
    "\n",
    "import optuna\n",
    "from pytorch_lightning.loggers import CometLogger\n",
    "\n",
    "# import wandb\n",
    "import faiss\n",
    "import pytorch_lightning as pl\n",
    "from torch.utils.data import Dataset, DataLoader\n",
    "from torch_geometric.nn import MetaPath2Vec\n",
    "import torch_geometric.utils as utils\n",
    "\n",
    "from torch.nn.functional import cosine_similarity\n",
    "from sklearn.metrics import accuracy_score\n",
    "\n",
    "from ray import tune\n",
    "from ray.tune.schedulers import ASHAScheduler\n",
    "\n",
    "\n",
    "import ray.train.lightning\n",
    "from ray.air.integrations.comet import CometLoggerCallback\n",
    "from ray.tune.integration.pytorch_lightning import TuneReportCheckpointCallback\n",
    "\n",
    "import networkx as nx\n",
    "import plotly.express as px\n",
    "\n",
    "from models.embed import MetaPath2VecLightningModule\n",
    "\n"
   ]
  },
  {
   "cell_type": "code",
   "execution_count": 4,
   "metadata": {},
   "outputs": [],
   "source": [
    "device = 'cpu'"
   ]
  },
  {
   "cell_type": "code",
   "execution_count": 5,
   "metadata": {},
   "outputs": [],
   "source": [
    "# Top models\n",
    "# Consolidated meptapaths: /home/rahit/projects/def-mtarailo/rahit/from_scratch/modspy-data/data/06_models/modspy-experiments/ray-reults/train_m2vec_2024-04-18_17-24-55/train_m2vec_19f34_00000_0_batch_size=512,embedding_dim=128,lr=0.0029,num_negative_samples=5,walk_length=21,walks_per_node=12_2024-04-18_17-25-05/checkpoint_000000\n",
    "# entire elk: /home/rahit/projects/def-mtarailo/rahit/from_scratch/modspy-data/data/06_models/modspy-experiments/ray-reults/train_m2vec_2024-04-13_02-43-09/train_m2vec_178a4_00000_0_batch_size=256,embedding_dim=128,lr=0.0248,metapath=biolink_Gene_biolink_interacts_with_biolink_Gene_bio_2024-04-13_02-43-23/checkpoint_000000\n",
    "# \"/home/rahit/projects/def-mtarailo/rahit/from_scratch/modspy-data/data/06_models/modspy-experiments/ray-reults/train_m2vec_2024-04-18_17-24-55/train_m2vec_19f34_00000_0_batch_size=512,embedding_dim=128,lr=0.0029,num_negative_samples=5,walk_length=21,walks_per_node=12_2024-04-18_17-25-05/checkpoint_000000/checkpoint\"\n",
    "# precious_carp_5539: /home/rahit/projects/def-mtarailo/rahit/from_scratch/modspy-data/data/06_models/modspy-experiments/ray-reults/train_m2vec_2024-04-03_01-44-54/train_m2vec_4bf4d_00001_1_batch_size=128,embedding_dim=128,lr=0.0050,walk_length=12_2024-04-03_01-44-55/checkpoint_000000/checkpoint\n",
    "\n",
    "chkpt_filepath = \"/home/rahit/projects/def-mtarailo/rahit/from_scratch/modspy-data/data/06_models/modspy-experiments/ray-reults/train_m2vec_2024-04-14_17-21-49/train_m2vec_016cc_00000_0_batch_size=32,embedding_dim=128,lr=0.0104,metapath=biolink_Gene_biolink_interacts_with_biolink_Gene_biol_2024-04-14_17-22-01/checkpoint_000000/checkpoint\"\n",
    "# chkpt_filepath = \"/home/rahit/projects/def-mtarailo/rahit/from_scratch/modspy-data/data/06_models/modspy-experiments/ray-reults/train_m2vec_2024-04-03_01-44-54/train_m2vec_4bf4d_00001_1_batch_size=128,embedding_dim=128,lr=0.0050,walk_length=12_2024-04-03_01-44-55/checkpoint_000000/checkpoint\""
   ]
  },
  {
   "cell_type": "code",
   "execution_count": 6,
   "metadata": {},
   "outputs": [
    {
     "name": "stdout",
     "output_type": "stream",
     "text": [
      "Computing on cpu\n",
      "True\n",
      "1\n",
      "Tesla P100-PCIE-12GB\n",
      " \n",
      "        Metapath: [('biolink:Gene', 'biolink:interacts_with', 'biolink:Gene'), ('biolink:Gene', 'biolink:orthologous_to', 'biolink:Gene'), ('biolink:Gene', 'biolink:interacts_with', 'biolink:Gene')]\n",
      "        Total nodes: 862115\n",
      "        Total node types: 88\n",
      "\n",
      "        Total edges: 11412471\n",
      "        Total edge types: 289                \n",
      "        \n"
     ]
    }
   ],
   "source": [
    "model = MetaPath2VecLightningModule.load_from_checkpoint(chkpt_filepath).to(device)"
   ]
  },
  {
   "cell_type": "code",
   "execution_count": 7,
   "metadata": {},
   "outputs": [
    {
     "data": {
      "text/plain": [
       "device(type='cpu')"
      ]
     },
     "execution_count": 7,
     "metadata": {},
     "output_type": "execute_result"
    }
   ],
   "source": [
    "model.device"
   ]
  },
  {
   "cell_type": "code",
   "execution_count": 8,
   "metadata": {},
   "outputs": [
    {
     "data": {
      "text/plain": [
       "MetaPath2VecLightningModule(\n",
       "  (model): MetaPath2Vec(559272, 128)\n",
       "  (val_precision): BinaryPrecision()\n",
       "  (val_recall): BinaryRecall()\n",
       ")"
      ]
     },
     "execution_count": 8,
     "metadata": {},
     "output_type": "execute_result"
    }
   ],
   "source": [
    "model.eval()"
   ]
  },
  {
   "cell_type": "code",
   "execution_count": 32,
   "metadata": {},
   "outputs": [],
   "source": [
    "graph = torch.load(model.hparams['network_filepath']).to(device)"
   ]
  },
  {
   "cell_type": "code",
   "execution_count": 33,
   "metadata": {},
   "outputs": [],
   "source": [
    "df = pd.read_csv('./data/02_intermediate/2024-03-31-merged-dataset.tsv', sep=\"\\t\")"
   ]
  },
  {
   "cell_type": "code",
   "execution_count": 34,
   "metadata": {},
   "outputs": [],
   "source": [
    "dataset = torch.load('./data/05_model_input/2024-03-31-merged-dataset.pt', map_location=device).detach().numpy()"
   ]
  },
  {
   "cell_type": "code",
   "execution_count": 35,
   "metadata": {},
   "outputs": [],
   "source": [
    "metapath = model.hparams.metapath"
   ]
  },
  {
   "cell_type": "code",
   "execution_count": 36,
   "metadata": {},
   "outputs": [],
   "source": [
    "if metapath is None:\n",
    "    metapath = model.metapath\n",
    "    print(metapath)"
   ]
  },
  {
   "cell_type": "code",
   "execution_count": 37,
   "metadata": {},
   "outputs": [
    {
     "data": {
      "text/html": [
       "<pre style=\"white-space:pre;overflow-x:auto;line-height:normal;font-family:Menlo,'DejaVu Sans Mono',consolas,'Courier New',monospace\"><span style=\"font-weight: bold\">[</span><span style=\"color: #008000; text-decoration-color: #008000\">'biolink:Gene'</span><span style=\"font-weight: bold\">]</span>\n",
       "</pre>\n"
      ],
      "text/plain": [
       "\u001b[1m[\u001b[0m\u001b[32m'biolink:Gene'\u001b[0m\u001b[1m]\u001b[0m\n"
      ]
     },
     "metadata": {},
     "output_type": "display_data"
    }
   ],
   "source": [
    "types = set([x[0] for x in metapath]) | set([x[-1] for x in metapath])\n",
    "types = sorted(list(types))\n",
    "print(types)"
   ]
  },
  {
   "cell_type": "code",
   "execution_count": 38,
   "metadata": {},
   "outputs": [
    {
     "data": {
      "text/plain": [
       "torch.Size([7958, 2])"
      ]
     },
     "execution_count": 38,
     "metadata": {},
     "output_type": "execute_result"
    }
   ],
   "source": [
    "torch.tensor(dataset[:,:2]).shape"
   ]
  },
  {
   "cell_type": "code",
   "execution_count": 39,
   "metadata": {},
   "outputs": [],
   "source": [
    "dataset_gene_idx = np.unique(dataset.flatten())"
   ]
  },
  {
   "cell_type": "code",
   "execution_count": 40,
   "metadata": {},
   "outputs": [],
   "source": [
    "graph[('biolink:Gene', 'IS_MODIFIER', 'biolink:Gene')].edge_index = torch.tensor(dataset[:,:2]).t().contiguous()\n",
    "\n",
    "# rev_edge_index = data.edge_index_dict[edge_type].flip([0])\n",
    "# graph[(edge_type[2], edge_type[1], edge_type[0])].edge_index = rev_edge_index"
   ]
  },
  {
   "cell_type": "code",
   "execution_count": 50,
   "metadata": {},
   "outputs": [],
   "source": [
    "# We can choose to take dataset-only subgraph for better resolution in training.\n",
    "# However, we are trying all gene subgraph first\n",
    "subgraph = graph.node_type_subgraph('biolink:Gene')"
   ]
  },
  {
   "cell_type": "code",
   "execution_count": 51,
   "metadata": {},
   "outputs": [],
   "source": [
    "assert subgraph['biolink:Gene'].num_nodes ==  subgraph['biolink:Gene'].x.shape[0]"
   ]
  },
  {
   "cell_type": "code",
   "execution_count": 52,
   "metadata": {},
   "outputs": [],
   "source": [
    "subgraph[(\"biolink:Gene\", 'IS_MODIFIER', \"biolink:Gene\")].y = torch.tensor(dataset[:,2]).t().contiguous().to(torch.long)"
   ]
  },
  {
   "cell_type": "code",
   "execution_count": 53,
   "metadata": {},
   "outputs": [
    {
     "data": {
      "text/plain": [
       "{'edge_index': tensor([[516790, 516790, 516790,  ...,  86692,  86692,  86692],\n",
       "        [518908, 526845, 529553,  ...,  93262,  86304,  89182]],\n",
       "       dtype=torch.int32), 'y': tensor([1, 1, 1,  ..., 0, 0, 0])}"
      ]
     },
     "metadata": {},
     "output_type": "display_data"
    },
    {
     "data": {
      "text/html": [
       "<pre style=\"white-space:pre;overflow-x:auto;line-height:normal;font-family:Menlo,'DejaVu Sans Mono',consolas,'Courier New',monospace\"><span style=\"color: #008080; text-decoration-color: #008080; font-weight: bold\">7958</span>\n",
       "</pre>\n"
      ],
      "text/plain": [
       "\u001b[1;36m7958\u001b[0m\n"
      ]
     },
     "metadata": {},
     "output_type": "display_data"
    }
   ],
   "source": [
    "display(subgraph[(\"biolink:Gene\", 'IS_MODIFIER', \"biolink:Gene\")])\n",
    "print(subgraph[(\"biolink:Gene\", 'IS_MODIFIER', \"biolink:Gene\")].num_edges)"
   ]
  },
  {
   "cell_type": "code",
   "execution_count": null,
   "metadata": {},
   "outputs": [],
   "source": []
  },
  {
   "cell_type": "code",
   "execution_count": null,
   "metadata": {},
   "outputs": [],
   "source": []
  },
  {
   "cell_type": "code",
   "execution_count": 54,
   "metadata": {},
   "outputs": [
    {
     "data": {
      "text/plain": [
       "True"
      ]
     },
     "execution_count": 54,
     "metadata": {},
     "output_type": "execute_result"
    }
   ],
   "source": [
    "subgraph.validate()"
   ]
  },
  {
   "cell_type": "code",
   "execution_count": 55,
   "metadata": {},
   "outputs": [
    {
     "data": {
      "text/plain": [
       "[('biolink:Gene', 'biolink:orthologous_to', 'biolink:Gene'),\n",
       " ('biolink:Gene', 'biolink:interacts_with', 'biolink:Gene'),\n",
       " ('biolink:Gene', 'IS_MODIFIER', 'biolink:Gene')]"
      ]
     },
     "execution_count": 55,
     "metadata": {},
     "output_type": "execute_result"
    }
   ],
   "source": [
    "subgraph.edge_types"
   ]
  },
  {
   "cell_type": "code",
   "execution_count": 56,
   "metadata": {},
   "outputs": [],
   "source": [
    "# Assuming `data` is your HeteroData object\n",
    "# node_types_to_remove = [node_type for node_type, node_store in subgraph.node_stores.items() if node_store.num_nodes == 0]\n",
    "\n",
    "for idx in range(len(subgraph.node_stores)):\n",
    "    if 'num_nodes' not in subgraph.node_stores[idx]:\n",
    "        print(subgraph.node_stores[idx])\n",
    "        del subgraph.node_stores[idx]"
   ]
  },
  {
   "cell_type": "code",
   "execution_count": 57,
   "metadata": {},
   "outputs": [
    {
     "data": {
      "text/plain": [
       "[{'num_nodes': 559272, 'x': tensor([[1.],\n",
       "         [1.],\n",
       "         [1.],\n",
       "         ...,\n",
       "         [1.],\n",
       "         [1.],\n",
       "         [1.]])}]"
      ]
     },
     "execution_count": 57,
     "metadata": {},
     "output_type": "execute_result"
    }
   ],
   "source": [
    "subgraph.node_stores"
   ]
  },
  {
   "cell_type": "code",
   "execution_count": 58,
   "metadata": {},
   "outputs": [
    {
     "data": {
      "text/html": [
       "<pre style=\"white-space:pre;overflow-x:auto;line-height:normal;font-family:Menlo,'DejaVu Sans Mono',consolas,'Courier New',monospace\">==============\n",
       "</pre>\n"
      ],
      "text/plain": [
       "==============\n"
      ]
     },
     "metadata": {},
     "output_type": "display_data"
    },
    {
     "data": {
      "text/html": [
       "<pre style=\"white-space:pre;overflow-x:auto;line-height:normal;font-family:Menlo,'DejaVu Sans Mono',consolas,'Courier New',monospace\">Before Split:\n",
       "</pre>\n"
      ],
      "text/plain": [
       "Before Split:\n"
      ]
     },
     "metadata": {},
     "output_type": "display_data"
    },
    {
     "data": {
      "text/html": [
       "<pre style=\"white-space:pre;overflow-x:auto;line-height:normal;font-family:Menlo,'DejaVu Sans Mono',consolas,'Courier New',monospace\">==============\n",
       "</pre>\n"
      ],
      "text/plain": [
       "==============\n"
      ]
     },
     "metadata": {},
     "output_type": "display_data"
    },
    {
     "data": {
      "text/html": [
       "<pre style=\"white-space:pre;overflow-x:auto;line-height:normal;font-family:Menlo,'DejaVu Sans Mono',consolas,'Courier New',monospace\"><span style=\"color: #800080; text-decoration-color: #800080; font-weight: bold\">HeteroData</span><span style=\"font-weight: bold\">(</span>\n",
       "  biolink:<span style=\"color: #808000; text-decoration-color: #808000\">Gene</span>=<span style=\"font-weight: bold\">{</span>\n",
       "    <span style=\"color: #808000; text-decoration-color: #808000\">num_nodes</span>=<span style=\"color: #008080; text-decoration-color: #008080; font-weight: bold\">559272</span>,\n",
       "    <span style=\"color: #808000; text-decoration-color: #808000\">x</span>=<span style=\"font-weight: bold\">[</span><span style=\"color: #008080; text-decoration-color: #008080; font-weight: bold\">559272</span>, <span style=\"color: #008080; text-decoration-color: #008080; font-weight: bold\">1</span><span style=\"font-weight: bold\">]</span>,\n",
       "  <span style=\"font-weight: bold\">}</span>,\n",
       "  <span style=\"font-weight: bold\">(</span>biolink:Gene, biolink:orthologous_to, biolink:Gene<span style=\"font-weight: bold\">)</span>=<span style=\"font-weight: bold\">{</span> <span style=\"color: #808000; text-decoration-color: #808000\">edge_index</span>=<span style=\"font-weight: bold\">[</span><span style=\"color: #008080; text-decoration-color: #008080; font-weight: bold\">2</span>, <span style=\"color: #008080; text-decoration-color: #008080; font-weight: bold\">551383</span><span style=\"font-weight: bold\">]</span> <span style=\"font-weight: bold\">}</span>,\n",
       "  <span style=\"font-weight: bold\">(</span>biolink:Gene, biolink:interacts_with, biolink:Gene<span style=\"font-weight: bold\">)</span>=<span style=\"font-weight: bold\">{</span> <span style=\"color: #808000; text-decoration-color: #808000\">edge_index</span>=<span style=\"font-weight: bold\">[</span><span style=\"color: #008080; text-decoration-color: #008080; font-weight: bold\">2</span>, <span style=\"color: #008080; text-decoration-color: #008080; font-weight: bold\">4096780</span><span style=\"font-weight: bold\">]</span> <span style=\"font-weight: bold\">}</span>,\n",
       "  <span style=\"font-weight: bold\">(</span>biolink:Gene, IS_MODIFIER, biolink:Gene<span style=\"font-weight: bold\">)</span>=<span style=\"font-weight: bold\">{</span>\n",
       "    <span style=\"color: #808000; text-decoration-color: #808000\">edge_index</span>=<span style=\"font-weight: bold\">[</span><span style=\"color: #008080; text-decoration-color: #008080; font-weight: bold\">2</span>, <span style=\"color: #008080; text-decoration-color: #008080; font-weight: bold\">7958</span><span style=\"font-weight: bold\">]</span>,\n",
       "    <span style=\"color: #808000; text-decoration-color: #808000\">y</span>=<span style=\"font-weight: bold\">[</span><span style=\"color: #008080; text-decoration-color: #008080; font-weight: bold\">7958</span><span style=\"font-weight: bold\">]</span>,\n",
       "  <span style=\"font-weight: bold\">}</span>\n",
       "<span style=\"font-weight: bold\">)</span>\n",
       "</pre>\n"
      ],
      "text/plain": [
       "\u001b[1;35mHeteroData\u001b[0m\u001b[1m(\u001b[0m\n",
       "  biolink:\u001b[33mGene\u001b[0m=\u001b[1m{\u001b[0m\n",
       "    \u001b[33mnum_nodes\u001b[0m=\u001b[1;36m559272\u001b[0m,\n",
       "    \u001b[33mx\u001b[0m=\u001b[1m[\u001b[0m\u001b[1;36m559272\u001b[0m, \u001b[1;36m1\u001b[0m\u001b[1m]\u001b[0m,\n",
       "  \u001b[1m}\u001b[0m,\n",
       "  \u001b[1m(\u001b[0mbiolink:Gene, biolink:orthologous_to, biolink:Gene\u001b[1m)\u001b[0m=\u001b[1m{\u001b[0m \u001b[33medge_index\u001b[0m=\u001b[1m[\u001b[0m\u001b[1;36m2\u001b[0m, \u001b[1;36m551383\u001b[0m\u001b[1m]\u001b[0m \u001b[1m}\u001b[0m,\n",
       "  \u001b[1m(\u001b[0mbiolink:Gene, biolink:interacts_with, biolink:Gene\u001b[1m)\u001b[0m=\u001b[1m{\u001b[0m \u001b[33medge_index\u001b[0m=\u001b[1m[\u001b[0m\u001b[1;36m2\u001b[0m, \u001b[1;36m4096780\u001b[0m\u001b[1m]\u001b[0m \u001b[1m}\u001b[0m,\n",
       "  \u001b[1m(\u001b[0mbiolink:Gene, IS_MODIFIER, biolink:Gene\u001b[1m)\u001b[0m=\u001b[1m{\u001b[0m\n",
       "    \u001b[33medge_index\u001b[0m=\u001b[1m[\u001b[0m\u001b[1;36m2\u001b[0m, \u001b[1;36m7958\u001b[0m\u001b[1m]\u001b[0m,\n",
       "    \u001b[33my\u001b[0m=\u001b[1m[\u001b[0m\u001b[1;36m7958\u001b[0m\u001b[1m]\u001b[0m,\n",
       "  \u001b[1m}\u001b[0m\n",
       "\u001b[1m)\u001b[0m\n"
      ]
     },
     "metadata": {},
     "output_type": "display_data"
    },
    {
     "data": {
      "text/html": [
       "<pre style=\"white-space:pre;overflow-x:auto;line-height:normal;font-family:Menlo,'DejaVu Sans Mono',consolas,'Courier New',monospace\">==============\n",
       "</pre>\n"
      ],
      "text/plain": [
       "==============\n"
      ]
     },
     "metadata": {},
     "output_type": "display_data"
    },
    {
     "data": {
      "text/html": [
       "<pre style=\"white-space:pre;overflow-x:auto;line-height:normal;font-family:Menlo,'DejaVu Sans Mono',consolas,'Courier New',monospace\">Training data:\n",
       "</pre>\n"
      ],
      "text/plain": [
       "Training data:\n"
      ]
     },
     "metadata": {},
     "output_type": "display_data"
    },
    {
     "data": {
      "text/html": [
       "<pre style=\"white-space:pre;overflow-x:auto;line-height:normal;font-family:Menlo,'DejaVu Sans Mono',consolas,'Courier New',monospace\">==============\n",
       "</pre>\n"
      ],
      "text/plain": [
       "==============\n"
      ]
     },
     "metadata": {},
     "output_type": "display_data"
    },
    {
     "data": {
      "text/html": [
       "<pre style=\"white-space:pre;overflow-x:auto;line-height:normal;font-family:Menlo,'DejaVu Sans Mono',consolas,'Courier New',monospace\"><span style=\"color: #800080; text-decoration-color: #800080; font-weight: bold\">HeteroData</span><span style=\"font-weight: bold\">(</span>\n",
       "  biolink:<span style=\"color: #808000; text-decoration-color: #808000\">Gene</span>=<span style=\"font-weight: bold\">{</span>\n",
       "    <span style=\"color: #808000; text-decoration-color: #808000\">num_nodes</span>=<span style=\"color: #008080; text-decoration-color: #008080; font-weight: bold\">559272</span>,\n",
       "    <span style=\"color: #808000; text-decoration-color: #808000\">x</span>=<span style=\"font-weight: bold\">[</span><span style=\"color: #008080; text-decoration-color: #008080; font-weight: bold\">559272</span>, <span style=\"color: #008080; text-decoration-color: #008080; font-weight: bold\">1</span><span style=\"font-weight: bold\">]</span>,\n",
       "  <span style=\"font-weight: bold\">}</span>,\n",
       "  <span style=\"font-weight: bold\">(</span>biolink:Gene, biolink:orthologous_to, biolink:Gene<span style=\"font-weight: bold\">)</span>=<span style=\"font-weight: bold\">{</span> <span style=\"color: #808000; text-decoration-color: #808000\">edge_index</span>=<span style=\"font-weight: bold\">[</span><span style=\"color: #008080; text-decoration-color: #008080; font-weight: bold\">2</span>, <span style=\"color: #008080; text-decoration-color: #008080; font-weight: bold\">551383</span><span style=\"font-weight: bold\">]</span> <span style=\"font-weight: bold\">}</span>,\n",
       "  <span style=\"font-weight: bold\">(</span>biolink:Gene, biolink:interacts_with, biolink:Gene<span style=\"font-weight: bold\">)</span>=<span style=\"font-weight: bold\">{</span> <span style=\"color: #808000; text-decoration-color: #808000\">edge_index</span>=<span style=\"font-weight: bold\">[</span><span style=\"color: #008080; text-decoration-color: #008080; font-weight: bold\">2</span>, <span style=\"color: #008080; text-decoration-color: #008080; font-weight: bold\">4096780</span><span style=\"font-weight: bold\">]</span> <span style=\"font-weight: bold\">}</span>,\n",
       "  <span style=\"font-weight: bold\">(</span>biolink:Gene, IS_MODIFIER, biolink:Gene<span style=\"font-weight: bold\">)</span>=<span style=\"font-weight: bold\">{</span>\n",
       "    <span style=\"color: #808000; text-decoration-color: #808000\">edge_index</span>=<span style=\"font-weight: bold\">[</span><span style=\"color: #008080; text-decoration-color: #008080; font-weight: bold\">2</span>, <span style=\"color: #008080; text-decoration-color: #008080; font-weight: bold\">5970</span><span style=\"font-weight: bold\">]</span>,\n",
       "    <span style=\"color: #808000; text-decoration-color: #808000\">y</span>=<span style=\"font-weight: bold\">[</span><span style=\"color: #008080; text-decoration-color: #008080; font-weight: bold\">11940</span><span style=\"font-weight: bold\">]</span>,\n",
       "    <span style=\"color: #808000; text-decoration-color: #808000\">y_index</span>=<span style=\"font-weight: bold\">[</span><span style=\"color: #008080; text-decoration-color: #008080; font-weight: bold\">2</span>, <span style=\"color: #008080; text-decoration-color: #008080; font-weight: bold\">11940</span><span style=\"font-weight: bold\">]</span>,\n",
       "  <span style=\"font-weight: bold\">}</span>\n",
       "<span style=\"font-weight: bold\">)</span>\n",
       "</pre>\n"
      ],
      "text/plain": [
       "\u001b[1;35mHeteroData\u001b[0m\u001b[1m(\u001b[0m\n",
       "  biolink:\u001b[33mGene\u001b[0m=\u001b[1m{\u001b[0m\n",
       "    \u001b[33mnum_nodes\u001b[0m=\u001b[1;36m559272\u001b[0m,\n",
       "    \u001b[33mx\u001b[0m=\u001b[1m[\u001b[0m\u001b[1;36m559272\u001b[0m, \u001b[1;36m1\u001b[0m\u001b[1m]\u001b[0m,\n",
       "  \u001b[1m}\u001b[0m,\n",
       "  \u001b[1m(\u001b[0mbiolink:Gene, biolink:orthologous_to, biolink:Gene\u001b[1m)\u001b[0m=\u001b[1m{\u001b[0m \u001b[33medge_index\u001b[0m=\u001b[1m[\u001b[0m\u001b[1;36m2\u001b[0m, \u001b[1;36m551383\u001b[0m\u001b[1m]\u001b[0m \u001b[1m}\u001b[0m,\n",
       "  \u001b[1m(\u001b[0mbiolink:Gene, biolink:interacts_with, biolink:Gene\u001b[1m)\u001b[0m=\u001b[1m{\u001b[0m \u001b[33medge_index\u001b[0m=\u001b[1m[\u001b[0m\u001b[1;36m2\u001b[0m, \u001b[1;36m4096780\u001b[0m\u001b[1m]\u001b[0m \u001b[1m}\u001b[0m,\n",
       "  \u001b[1m(\u001b[0mbiolink:Gene, IS_MODIFIER, biolink:Gene\u001b[1m)\u001b[0m=\u001b[1m{\u001b[0m\n",
       "    \u001b[33medge_index\u001b[0m=\u001b[1m[\u001b[0m\u001b[1;36m2\u001b[0m, \u001b[1;36m5970\u001b[0m\u001b[1m]\u001b[0m,\n",
       "    \u001b[33my\u001b[0m=\u001b[1m[\u001b[0m\u001b[1;36m11940\u001b[0m\u001b[1m]\u001b[0m,\n",
       "    \u001b[33my_index\u001b[0m=\u001b[1m[\u001b[0m\u001b[1;36m2\u001b[0m, \u001b[1;36m11940\u001b[0m\u001b[1m]\u001b[0m,\n",
       "  \u001b[1m}\u001b[0m\n",
       "\u001b[1m)\u001b[0m\n"
      ]
     },
     "metadata": {},
     "output_type": "display_data"
    },
    {
     "data": {
      "text/html": [
       "<pre style=\"white-space:pre;overflow-x:auto;line-height:normal;font-family:Menlo,'DejaVu Sans Mono',consolas,'Courier New',monospace\">================\n",
       "</pre>\n"
      ],
      "text/plain": [
       "================\n"
      ]
     },
     "metadata": {},
     "output_type": "display_data"
    },
    {
     "data": {
      "text/html": [
       "<pre style=\"white-space:pre;overflow-x:auto;line-height:normal;font-family:Menlo,'DejaVu Sans Mono',consolas,'Courier New',monospace\">Validation data:\n",
       "</pre>\n"
      ],
      "text/plain": [
       "Validation data:\n"
      ]
     },
     "metadata": {},
     "output_type": "display_data"
    },
    {
     "data": {
      "text/html": [
       "<pre style=\"white-space:pre;overflow-x:auto;line-height:normal;font-family:Menlo,'DejaVu Sans Mono',consolas,'Courier New',monospace\">================\n",
       "</pre>\n"
      ],
      "text/plain": [
       "================\n"
      ]
     },
     "metadata": {},
     "output_type": "display_data"
    },
    {
     "data": {
      "text/html": [
       "<pre style=\"white-space:pre;overflow-x:auto;line-height:normal;font-family:Menlo,'DejaVu Sans Mono',consolas,'Courier New',monospace\"><span style=\"color: #800080; text-decoration-color: #800080; font-weight: bold\">HeteroData</span><span style=\"font-weight: bold\">(</span>\n",
       "  biolink:<span style=\"color: #808000; text-decoration-color: #808000\">Gene</span>=<span style=\"font-weight: bold\">{</span>\n",
       "    <span style=\"color: #808000; text-decoration-color: #808000\">num_nodes</span>=<span style=\"color: #008080; text-decoration-color: #008080; font-weight: bold\">559272</span>,\n",
       "    <span style=\"color: #808000; text-decoration-color: #808000\">x</span>=<span style=\"font-weight: bold\">[</span><span style=\"color: #008080; text-decoration-color: #008080; font-weight: bold\">559272</span>, <span style=\"color: #008080; text-decoration-color: #008080; font-weight: bold\">1</span><span style=\"font-weight: bold\">]</span>,\n",
       "  <span style=\"font-weight: bold\">}</span>,\n",
       "  <span style=\"font-weight: bold\">(</span>biolink:Gene, biolink:orthologous_to, biolink:Gene<span style=\"font-weight: bold\">)</span>=<span style=\"font-weight: bold\">{</span> <span style=\"color: #808000; text-decoration-color: #808000\">edge_index</span>=<span style=\"font-weight: bold\">[</span><span style=\"color: #008080; text-decoration-color: #008080; font-weight: bold\">2</span>, <span style=\"color: #008080; text-decoration-color: #008080; font-weight: bold\">551383</span><span style=\"font-weight: bold\">]</span> <span style=\"font-weight: bold\">}</span>,\n",
       "  <span style=\"font-weight: bold\">(</span>biolink:Gene, biolink:interacts_with, biolink:Gene<span style=\"font-weight: bold\">)</span>=<span style=\"font-weight: bold\">{</span> <span style=\"color: #808000; text-decoration-color: #808000\">edge_index</span>=<span style=\"font-weight: bold\">[</span><span style=\"color: #008080; text-decoration-color: #008080; font-weight: bold\">2</span>, <span style=\"color: #008080; text-decoration-color: #008080; font-weight: bold\">4096780</span><span style=\"font-weight: bold\">]</span> <span style=\"font-weight: bold\">}</span>,\n",
       "  <span style=\"font-weight: bold\">(</span>biolink:Gene, IS_MODIFIER, biolink:Gene<span style=\"font-weight: bold\">)</span>=<span style=\"font-weight: bold\">{</span>\n",
       "    <span style=\"color: #808000; text-decoration-color: #808000\">edge_index</span>=<span style=\"font-weight: bold\">[</span><span style=\"color: #008080; text-decoration-color: #008080; font-weight: bold\">2</span>, <span style=\"color: #008080; text-decoration-color: #008080; font-weight: bold\">5970</span><span style=\"font-weight: bold\">]</span>,\n",
       "    <span style=\"color: #808000; text-decoration-color: #808000\">y</span>=<span style=\"font-weight: bold\">[</span><span style=\"color: #008080; text-decoration-color: #008080; font-weight: bold\">3182</span><span style=\"font-weight: bold\">]</span>,\n",
       "    <span style=\"color: #808000; text-decoration-color: #808000\">y_index</span>=<span style=\"font-weight: bold\">[</span><span style=\"color: #008080; text-decoration-color: #008080; font-weight: bold\">2</span>, <span style=\"color: #008080; text-decoration-color: #008080; font-weight: bold\">3182</span><span style=\"font-weight: bold\">]</span>,\n",
       "  <span style=\"font-weight: bold\">}</span>\n",
       "<span style=\"font-weight: bold\">)</span>\n",
       "</pre>\n"
      ],
      "text/plain": [
       "\u001b[1;35mHeteroData\u001b[0m\u001b[1m(\u001b[0m\n",
       "  biolink:\u001b[33mGene\u001b[0m=\u001b[1m{\u001b[0m\n",
       "    \u001b[33mnum_nodes\u001b[0m=\u001b[1;36m559272\u001b[0m,\n",
       "    \u001b[33mx\u001b[0m=\u001b[1m[\u001b[0m\u001b[1;36m559272\u001b[0m, \u001b[1;36m1\u001b[0m\u001b[1m]\u001b[0m,\n",
       "  \u001b[1m}\u001b[0m,\n",
       "  \u001b[1m(\u001b[0mbiolink:Gene, biolink:orthologous_to, biolink:Gene\u001b[1m)\u001b[0m=\u001b[1m{\u001b[0m \u001b[33medge_index\u001b[0m=\u001b[1m[\u001b[0m\u001b[1;36m2\u001b[0m, \u001b[1;36m551383\u001b[0m\u001b[1m]\u001b[0m \u001b[1m}\u001b[0m,\n",
       "  \u001b[1m(\u001b[0mbiolink:Gene, biolink:interacts_with, biolink:Gene\u001b[1m)\u001b[0m=\u001b[1m{\u001b[0m \u001b[33medge_index\u001b[0m=\u001b[1m[\u001b[0m\u001b[1;36m2\u001b[0m, \u001b[1;36m4096780\u001b[0m\u001b[1m]\u001b[0m \u001b[1m}\u001b[0m,\n",
       "  \u001b[1m(\u001b[0mbiolink:Gene, IS_MODIFIER, biolink:Gene\u001b[1m)\u001b[0m=\u001b[1m{\u001b[0m\n",
       "    \u001b[33medge_index\u001b[0m=\u001b[1m[\u001b[0m\u001b[1;36m2\u001b[0m, \u001b[1;36m5970\u001b[0m\u001b[1m]\u001b[0m,\n",
       "    \u001b[33my\u001b[0m=\u001b[1m[\u001b[0m\u001b[1;36m3182\u001b[0m\u001b[1m]\u001b[0m,\n",
       "    \u001b[33my_index\u001b[0m=\u001b[1m[\u001b[0m\u001b[1;36m2\u001b[0m, \u001b[1;36m3182\u001b[0m\u001b[1m]\u001b[0m,\n",
       "  \u001b[1m}\u001b[0m\n",
       "\u001b[1m)\u001b[0m\n"
      ]
     },
     "metadata": {},
     "output_type": "display_data"
    },
    {
     "data": {
      "text/html": [
       "<pre style=\"white-space:pre;overflow-x:auto;line-height:normal;font-family:Menlo,'DejaVu Sans Mono',consolas,'Courier New',monospace\">================\n",
       "</pre>\n"
      ],
      "text/plain": [
       "================\n"
      ]
     },
     "metadata": {},
     "output_type": "display_data"
    },
    {
     "data": {
      "text/html": [
       "<pre style=\"white-space:pre;overflow-x:auto;line-height:normal;font-family:Menlo,'DejaVu Sans Mono',consolas,'Courier New',monospace\">Test data:\n",
       "</pre>\n"
      ],
      "text/plain": [
       "Test data:\n"
      ]
     },
     "metadata": {},
     "output_type": "display_data"
    },
    {
     "data": {
      "text/html": [
       "<pre style=\"white-space:pre;overflow-x:auto;line-height:normal;font-family:Menlo,'DejaVu Sans Mono',consolas,'Courier New',monospace\">================\n",
       "</pre>\n"
      ],
      "text/plain": [
       "================\n"
      ]
     },
     "metadata": {},
     "output_type": "display_data"
    },
    {
     "data": {
      "text/html": [
       "<pre style=\"white-space:pre;overflow-x:auto;line-height:normal;font-family:Menlo,'DejaVu Sans Mono',consolas,'Courier New',monospace\"><span style=\"color: #800080; text-decoration-color: #800080; font-weight: bold\">HeteroData</span><span style=\"font-weight: bold\">(</span>\n",
       "  biolink:<span style=\"color: #808000; text-decoration-color: #808000\">Gene</span>=<span style=\"font-weight: bold\">{</span>\n",
       "    <span style=\"color: #808000; text-decoration-color: #808000\">num_nodes</span>=<span style=\"color: #008080; text-decoration-color: #008080; font-weight: bold\">559272</span>,\n",
       "    <span style=\"color: #808000; text-decoration-color: #808000\">x</span>=<span style=\"font-weight: bold\">[</span><span style=\"color: #008080; text-decoration-color: #008080; font-weight: bold\">559272</span>, <span style=\"color: #008080; text-decoration-color: #008080; font-weight: bold\">1</span><span style=\"font-weight: bold\">]</span>,\n",
       "  <span style=\"font-weight: bold\">}</span>,\n",
       "  <span style=\"font-weight: bold\">(</span>biolink:Gene, biolink:orthologous_to, biolink:Gene<span style=\"font-weight: bold\">)</span>=<span style=\"font-weight: bold\">{</span> <span style=\"color: #808000; text-decoration-color: #808000\">edge_index</span>=<span style=\"font-weight: bold\">[</span><span style=\"color: #008080; text-decoration-color: #008080; font-weight: bold\">2</span>, <span style=\"color: #008080; text-decoration-color: #008080; font-weight: bold\">551383</span><span style=\"font-weight: bold\">]</span> <span style=\"font-weight: bold\">}</span>,\n",
       "  <span style=\"font-weight: bold\">(</span>biolink:Gene, biolink:interacts_with, biolink:Gene<span style=\"font-weight: bold\">)</span>=<span style=\"font-weight: bold\">{</span> <span style=\"color: #808000; text-decoration-color: #808000\">edge_index</span>=<span style=\"font-weight: bold\">[</span><span style=\"color: #008080; text-decoration-color: #008080; font-weight: bold\">2</span>, <span style=\"color: #008080; text-decoration-color: #008080; font-weight: bold\">4096780</span><span style=\"font-weight: bold\">]</span> <span style=\"font-weight: bold\">}</span>,\n",
       "  <span style=\"font-weight: bold\">(</span>biolink:Gene, IS_MODIFIER, biolink:Gene<span style=\"font-weight: bold\">)</span>=<span style=\"font-weight: bold\">{</span>\n",
       "    <span style=\"color: #808000; text-decoration-color: #808000\">edge_index</span>=<span style=\"font-weight: bold\">[</span><span style=\"color: #008080; text-decoration-color: #008080; font-weight: bold\">2</span>, <span style=\"color: #008080; text-decoration-color: #008080; font-weight: bold\">7561</span><span style=\"font-weight: bold\">]</span>,\n",
       "    <span style=\"color: #808000; text-decoration-color: #808000\">y</span>=<span style=\"font-weight: bold\">[</span><span style=\"color: #008080; text-decoration-color: #008080; font-weight: bold\">794</span><span style=\"font-weight: bold\">]</span>,\n",
       "    <span style=\"color: #808000; text-decoration-color: #808000\">y_index</span>=<span style=\"font-weight: bold\">[</span><span style=\"color: #008080; text-decoration-color: #008080; font-weight: bold\">2</span>, <span style=\"color: #008080; text-decoration-color: #008080; font-weight: bold\">794</span><span style=\"font-weight: bold\">]</span>,\n",
       "  <span style=\"font-weight: bold\">}</span>\n",
       "<span style=\"font-weight: bold\">)</span>\n",
       "</pre>\n"
      ],
      "text/plain": [
       "\u001b[1;35mHeteroData\u001b[0m\u001b[1m(\u001b[0m\n",
       "  biolink:\u001b[33mGene\u001b[0m=\u001b[1m{\u001b[0m\n",
       "    \u001b[33mnum_nodes\u001b[0m=\u001b[1;36m559272\u001b[0m,\n",
       "    \u001b[33mx\u001b[0m=\u001b[1m[\u001b[0m\u001b[1;36m559272\u001b[0m, \u001b[1;36m1\u001b[0m\u001b[1m]\u001b[0m,\n",
       "  \u001b[1m}\u001b[0m,\n",
       "  \u001b[1m(\u001b[0mbiolink:Gene, biolink:orthologous_to, biolink:Gene\u001b[1m)\u001b[0m=\u001b[1m{\u001b[0m \u001b[33medge_index\u001b[0m=\u001b[1m[\u001b[0m\u001b[1;36m2\u001b[0m, \u001b[1;36m551383\u001b[0m\u001b[1m]\u001b[0m \u001b[1m}\u001b[0m,\n",
       "  \u001b[1m(\u001b[0mbiolink:Gene, biolink:interacts_with, biolink:Gene\u001b[1m)\u001b[0m=\u001b[1m{\u001b[0m \u001b[33medge_index\u001b[0m=\u001b[1m[\u001b[0m\u001b[1;36m2\u001b[0m, \u001b[1;36m4096780\u001b[0m\u001b[1m]\u001b[0m \u001b[1m}\u001b[0m,\n",
       "  \u001b[1m(\u001b[0mbiolink:Gene, IS_MODIFIER, biolink:Gene\u001b[1m)\u001b[0m=\u001b[1m{\u001b[0m\n",
       "    \u001b[33medge_index\u001b[0m=\u001b[1m[\u001b[0m\u001b[1;36m2\u001b[0m, \u001b[1;36m7561\u001b[0m\u001b[1m]\u001b[0m,\n",
       "    \u001b[33my\u001b[0m=\u001b[1m[\u001b[0m\u001b[1;36m794\u001b[0m\u001b[1m]\u001b[0m,\n",
       "    \u001b[33my_index\u001b[0m=\u001b[1m[\u001b[0m\u001b[1;36m2\u001b[0m, \u001b[1;36m794\u001b[0m\u001b[1m]\u001b[0m,\n",
       "  \u001b[1m}\u001b[0m\n",
       "\u001b[1m)\u001b[0m\n"
      ]
     },
     "metadata": {},
     "output_type": "display_data"
    }
   ],
   "source": [
    "# For this, we first split the set of edges into\n",
    "# training (80%), validation (10%), and testing edges (10%).\n",
    "# Across the training edges, we use 70% of edges for message passing,\n",
    "# and 30% of edges for supervision.\n",
    "# We further want to generate fixed negative edges for evaluation with a ratio of 2:1.\n",
    "# Negative edges during training will be generated on-the-fly, so we don't want to\n",
    "# add them to the graph right away.\n",
    "# Overall, we can leverage the `RandomLinkSplit()` transform for this from PyG:\n",
    "from torch_geometric.transforms import RandomLinkSplit\n",
    "\n",
    "transform = RandomLinkSplit(\n",
    "    num_val=0.20,  # TODO\n",
    "    num_test=0.05,  # TODO\n",
    "    # disjoint_train_ratio=...,  # TODO\n",
    "    # neg_sampling_ratio=...,  # TODO\n",
    "    # add_negative_train_samples=...,  # TODO\n",
    "    key='y',\n",
    "    edge_types=((\"biolink:Gene\", 'IS_MODIFIER', \"biolink:Gene\")),\n",
    "    # rev_edge_types=(\"movie\", \"rev_rates\", \"user\"),\n",
    ")\n",
    "\n",
    "train_data, val_data, test_data = transform(subgraph)\n",
    "print(\"==============\")\n",
    "print(\"Before Split:\")\n",
    "print(\"==============\")\n",
    "print(subgraph)\n",
    "print(\"==============\")\n",
    "print(\"Training data:\")\n",
    "print(\"==============\")\n",
    "print(train_data)\n",
    "print(\"================\")\n",
    "print(\"Validation data:\")\n",
    "print(\"================\")\n",
    "print(val_data)\n",
    "print(\"================\")\n",
    "print(\"Test data:\")\n",
    "print(\"================\")\n",
    "print(test_data)\n",
    "\n",
    "# assert train_data[\"user\", \"rates\", \"movie\"].num_edges == 56469\n",
    "# assert train_data[\"user\", \"rates\", \"movie\"].edge_label_index.size(1) == 24201\n",
    "# assert train_data[\"movie\", \"rev_rates\", \"user\"].num_edges == 56469\n",
    "# # No negative edges added:\n",
    "# assert train_data[\"user\", \"rates\", \"movie\"].edge_label.min() == 1\n",
    "# assert train_data[\"user\", \"rates\", \"movie\"].edge_label.max() == 1\n",
    "\n",
    "# assert val_data[\"user\", \"rates\", \"movie\"].num_edges == 80670\n",
    "# assert val_data[\"user\", \"rates\", \"movie\"].edge_label_index.size(1) == 30249\n",
    "# assert val_data[\"movie\", \"rev_rates\", \"user\"].num_edges == 80670\n",
    "# # Negative edges with ratio 2:1:\n",
    "# assert val_data[\"user\", \"rates\", \"movie\"].edge_label.long().bincount().tolist() == [20166, 10083]"
   ]
  },
  {
   "cell_type": "code",
   "execution_count": null,
   "metadata": {},
   "outputs": [],
   "source": []
  }
 ],
 "metadata": {
  "kernelspec": {
   "display_name": "Python 3.11.5 (ModSpy CUDA) Kernel",
   "language": "python",
   "name": "modspy-py311-cuda"
  },
  "language_info": {
   "codemirror_mode": {
    "name": "ipython",
    "version": 3
   },
   "file_extension": ".py",
   "mimetype": "text/x-python",
   "name": "python",
   "nbconvert_exporter": "python",
   "pygments_lexer": "ipython3",
   "version": "3.11.5"
  }
 },
 "nbformat": 4,
 "nbformat_minor": 2
}
