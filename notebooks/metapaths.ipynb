{
 "cells": [
  {
   "cell_type": "code",
   "execution_count": 1,
   "metadata": {},
   "outputs": [
    {
     "data": {
      "text/html": [
       "<pre style=\"white-space:pre;overflow-x:auto;line-height:normal;font-family:Menlo,'DejaVu Sans Mono',consolas,'Courier New',monospace\"><span style=\"color: #7fbfbf; text-decoration-color: #7fbfbf\">[01/19/24 00:41:20] </span><span style=\"color: #000080; text-decoration-color: #000080\">INFO    </span> Resolved project path as:                                              <a href=\"file://C:\\Users\\Tahsin\\miniconda3\\envs\\modspy\\lib\\site-packages\\kedro\\ipython\\__init__.py\" target=\"_blank\"><span style=\"color: #7f7f7f; text-decoration-color: #7f7f7f\">__init__.py</span></a><span style=\"color: #7f7f7f; text-decoration-color: #7f7f7f\">:</span><a href=\"file://C:\\Users\\Tahsin\\miniconda3\\envs\\modspy\\lib\\site-packages\\kedro\\ipython\\__init__.py#139\" target=\"_blank\"><span style=\"color: #7f7f7f; text-decoration-color: #7f7f7f\">139</span></a>\n",
       "<span style=\"color: #7fbfbf; text-decoration-color: #7fbfbf\">                    </span>         C:\\Users\\Tahsin\\Documents\\Projects\\modspy-data.                        <span style=\"color: #7f7f7f; text-decoration-color: #7f7f7f\">               </span>\n",
       "<span style=\"color: #7fbfbf; text-decoration-color: #7fbfbf\">                    </span>         To set a different path, run <span style=\"color: #008000; text-decoration-color: #008000\">'%reload_kedro &lt;project_root&gt;'</span>            <span style=\"color: #7f7f7f; text-decoration-color: #7f7f7f\">               </span>\n",
       "</pre>\n"
      ],
      "text/plain": [
       "\u001b[2;36m[01/19/24 00:41:20]\u001b[0m\u001b[2;36m \u001b[0m\u001b[34mINFO    \u001b[0m Resolved project path as:                                              \u001b]8;id=83324;file://C:\\Users\\Tahsin\\miniconda3\\envs\\modspy\\lib\\site-packages\\kedro\\ipython\\__init__.py\u001b\\\u001b[2m__init__.py\u001b[0m\u001b]8;;\u001b\\\u001b[2m:\u001b[0m\u001b]8;id=348432;file://C:\\Users\\Tahsin\\miniconda3\\envs\\modspy\\lib\\site-packages\\kedro\\ipython\\__init__.py#139\u001b\\\u001b[2m139\u001b[0m\u001b]8;;\u001b\\\n",
       "\u001b[2;36m                    \u001b[0m         C:\\Users\\Tahsin\\Documents\\Projects\\modspy-data.                        \u001b[2m               \u001b[0m\n",
       "\u001b[2;36m                    \u001b[0m         To set a different path, run \u001b[32m'%reload_kedro \u001b[0m\u001b[32m<\u001b[0m\u001b[32mproject_root\u001b[0m\u001b[32m>\u001b[0m\u001b[32m'\u001b[0m            \u001b[2m               \u001b[0m\n"
      ]
     },
     "metadata": {},
     "output_type": "display_data"
    },
    {
     "data": {
      "text/html": [
       "<pre style=\"white-space:pre;overflow-x:auto;line-height:normal;font-family:Menlo,'DejaVu Sans Mono',consolas,'Courier New',monospace\"><span style=\"color: #7fbfbf; text-decoration-color: #7fbfbf\">                    </span><span style=\"color: #000080; text-decoration-color: #000080\">INFO    </span> Resolved project path as:                                              <a href=\"file://C:\\Users\\Tahsin\\miniconda3\\envs\\modspy\\lib\\site-packages\\kedro\\ipython\\__init__.py\" target=\"_blank\"><span style=\"color: #7f7f7f; text-decoration-color: #7f7f7f\">__init__.py</span></a><span style=\"color: #7f7f7f; text-decoration-color: #7f7f7f\">:</span><a href=\"file://C:\\Users\\Tahsin\\miniconda3\\envs\\modspy\\lib\\site-packages\\kedro\\ipython\\__init__.py#139\" target=\"_blank\"><span style=\"color: #7f7f7f; text-decoration-color: #7f7f7f\">139</span></a>\n",
       "<span style=\"color: #7fbfbf; text-decoration-color: #7fbfbf\">                    </span>         C:\\Users\\Tahsin\\Documents\\Projects\\modspy-data.                        <span style=\"color: #7f7f7f; text-decoration-color: #7f7f7f\">               </span>\n",
       "<span style=\"color: #7fbfbf; text-decoration-color: #7fbfbf\">                    </span>         To set a different path, run <span style=\"color: #008000; text-decoration-color: #008000\">'%reload_kedro &lt;project_root&gt;'</span>            <span style=\"color: #7f7f7f; text-decoration-color: #7f7f7f\">               </span>\n",
       "</pre>\n"
      ],
      "text/plain": [
       "\u001b[2;36m                   \u001b[0m\u001b[2;36m \u001b[0m\u001b[34mINFO    \u001b[0m Resolved project path as:                                              \u001b]8;id=133357;file://C:\\Users\\Tahsin\\miniconda3\\envs\\modspy\\lib\\site-packages\\kedro\\ipython\\__init__.py\u001b\\\u001b[2m__init__.py\u001b[0m\u001b]8;;\u001b\\\u001b[2m:\u001b[0m\u001b]8;id=917496;file://C:\\Users\\Tahsin\\miniconda3\\envs\\modspy\\lib\\site-packages\\kedro\\ipython\\__init__.py#139\u001b\\\u001b[2m139\u001b[0m\u001b]8;;\u001b\\\n",
       "\u001b[2;36m                    \u001b[0m         C:\\Users\\Tahsin\\Documents\\Projects\\modspy-data.                        \u001b[2m               \u001b[0m\n",
       "\u001b[2;36m                    \u001b[0m         To set a different path, run \u001b[32m'%reload_kedro \u001b[0m\u001b[32m<\u001b[0m\u001b[32mproject_root\u001b[0m\u001b[32m>\u001b[0m\u001b[32m'\u001b[0m            \u001b[2m               \u001b[0m\n"
      ]
     },
     "metadata": {},
     "output_type": "display_data"
    },
    {
     "data": {
      "text/html": [
       "<pre style=\"white-space:pre;overflow-x:auto;line-height:normal;font-family:Menlo,'DejaVu Sans Mono',consolas,'Courier New',monospace\"><span style=\"color: #7fbfbf; text-decoration-color: #7fbfbf\">[01/19/24 00:41:21] </span><span style=\"color: #800000; text-decoration-color: #800000\">WARNING </span> C:\\Users\\Tahsin\\miniconda3\\envs\\modspy\\lib\\site-packages\\kedro\\io\\__in <a href=\"file://C:\\Users\\Tahsin\\miniconda3\\envs\\modspy\\lib\\warnings.py\" target=\"_blank\"><span style=\"color: #7f7f7f; text-decoration-color: #7f7f7f\">warnings.py</span></a><span style=\"color: #7f7f7f; text-decoration-color: #7f7f7f\">:</span><a href=\"file://C:\\Users\\Tahsin\\miniconda3\\envs\\modspy\\lib\\warnings.py#109\" target=\"_blank\"><span style=\"color: #7f7f7f; text-decoration-color: #7f7f7f\">109</span></a>\n",
       "<span style=\"color: #7fbfbf; text-decoration-color: #7fbfbf\">                    </span>         it__.py:<span style=\"color: #008080; text-decoration-color: #008080; font-weight: bold\">44</span>: KedroDeprecationWarning: <span style=\"color: #008000; text-decoration-color: #008000\">'AbstractDataSet'</span> has been        <span style=\"color: #7f7f7f; text-decoration-color: #7f7f7f\">               </span>\n",
       "<span style=\"color: #7fbfbf; text-decoration-color: #7fbfbf\">                    </span>         renamed to <span style=\"color: #008000; text-decoration-color: #008000\">'AbstractDataset'</span>, and the alias will be removed in Kedro   <span style=\"color: #7f7f7f; text-decoration-color: #7f7f7f\">               </span>\n",
       "<span style=\"color: #7fbfbf; text-decoration-color: #7fbfbf\">                    </span>         <span style=\"color: #008080; text-decoration-color: #008080; font-weight: bold\">0.19</span>.<span style=\"color: #008080; text-decoration-color: #008080; font-weight: bold\">0</span>                                                                 <span style=\"color: #7f7f7f; text-decoration-color: #7f7f7f\">               </span>\n",
       "<span style=\"color: #7fbfbf; text-decoration-color: #7fbfbf\">                    </span>           return <span style=\"color: #800080; text-decoration-color: #800080; font-weight: bold\">getattr</span><span style=\"font-weight: bold\">(</span>kedro.io.core, name<span style=\"font-weight: bold\">)</span>                                  <span style=\"color: #7f7f7f; text-decoration-color: #7f7f7f\">               </span>\n",
       "<span style=\"color: #7fbfbf; text-decoration-color: #7fbfbf\">                    </span>                                                                                <span style=\"color: #7f7f7f; text-decoration-color: #7f7f7f\">               </span>\n",
       "</pre>\n"
      ],
      "text/plain": [
       "\u001b[2;36m[01/19/24 00:41:21]\u001b[0m\u001b[2;36m \u001b[0m\u001b[31mWARNING \u001b[0m C:\\Users\\Tahsin\\miniconda3\\envs\\modspy\\lib\\site-packages\\kedro\\io\\__in \u001b]8;id=815877;file://C:\\Users\\Tahsin\\miniconda3\\envs\\modspy\\lib\\warnings.py\u001b\\\u001b[2mwarnings.py\u001b[0m\u001b]8;;\u001b\\\u001b[2m:\u001b[0m\u001b]8;id=780225;file://C:\\Users\\Tahsin\\miniconda3\\envs\\modspy\\lib\\warnings.py#109\u001b\\\u001b[2m109\u001b[0m\u001b]8;;\u001b\\\n",
       "\u001b[2;36m                    \u001b[0m         it__.py:\u001b[1;36m44\u001b[0m: KedroDeprecationWarning: \u001b[32m'AbstractDataSet'\u001b[0m has been        \u001b[2m               \u001b[0m\n",
       "\u001b[2;36m                    \u001b[0m         renamed to \u001b[32m'AbstractDataset'\u001b[0m, and the alias will be removed in Kedro   \u001b[2m               \u001b[0m\n",
       "\u001b[2;36m                    \u001b[0m         \u001b[1;36m0.19\u001b[0m.\u001b[1;36m0\u001b[0m                                                                 \u001b[2m               \u001b[0m\n",
       "\u001b[2;36m                    \u001b[0m           return \u001b[1;35mgetattr\u001b[0m\u001b[1m(\u001b[0mkedro.io.core, name\u001b[1m)\u001b[0m                                  \u001b[2m               \u001b[0m\n",
       "\u001b[2;36m                    \u001b[0m                                                                                \u001b[2m               \u001b[0m\n"
      ]
     },
     "metadata": {},
     "output_type": "display_data"
    },
    {
     "data": {
      "text/html": [
       "<pre style=\"white-space:pre;overflow-x:auto;line-height:normal;font-family:Menlo,'DejaVu Sans Mono',consolas,'Courier New',monospace\"><span style=\"color: #7fbfbf; text-decoration-color: #7fbfbf\">                    </span><span style=\"color: #800000; text-decoration-color: #800000\">WARNING </span> C:\\Users\\Tahsin\\miniconda3\\envs\\modspy\\lib\\site-packages\\kedro\\io\\__in <a href=\"file://C:\\Users\\Tahsin\\miniconda3\\envs\\modspy\\lib\\warnings.py\" target=\"_blank\"><span style=\"color: #7f7f7f; text-decoration-color: #7f7f7f\">warnings.py</span></a><span style=\"color: #7f7f7f; text-decoration-color: #7f7f7f\">:</span><a href=\"file://C:\\Users\\Tahsin\\miniconda3\\envs\\modspy\\lib\\warnings.py#109\" target=\"_blank\"><span style=\"color: #7f7f7f; text-decoration-color: #7f7f7f\">109</span></a>\n",
       "<span style=\"color: #7fbfbf; text-decoration-color: #7fbfbf\">                    </span>         it__.py:<span style=\"color: #008080; text-decoration-color: #008080; font-weight: bold\">44</span>: KedroDeprecationWarning: <span style=\"color: #008000; text-decoration-color: #008000\">'AbstractVersionedDataSet'</span> has    <span style=\"color: #7f7f7f; text-decoration-color: #7f7f7f\">               </span>\n",
       "<span style=\"color: #7fbfbf; text-decoration-color: #7fbfbf\">                    </span>         been renamed to <span style=\"color: #008000; text-decoration-color: #008000\">'AbstractVersionedDataset'</span>, and the alias will be      <span style=\"color: #7f7f7f; text-decoration-color: #7f7f7f\">               </span>\n",
       "<span style=\"color: #7fbfbf; text-decoration-color: #7fbfbf\">                    </span>         removed in Kedro <span style=\"color: #008080; text-decoration-color: #008080; font-weight: bold\">0.19</span>.<span style=\"color: #008080; text-decoration-color: #008080; font-weight: bold\">0</span>                                                <span style=\"color: #7f7f7f; text-decoration-color: #7f7f7f\">               </span>\n",
       "<span style=\"color: #7fbfbf; text-decoration-color: #7fbfbf\">                    </span>           return <span style=\"color: #800080; text-decoration-color: #800080; font-weight: bold\">getattr</span><span style=\"font-weight: bold\">(</span>kedro.io.core, name<span style=\"font-weight: bold\">)</span>                                  <span style=\"color: #7f7f7f; text-decoration-color: #7f7f7f\">               </span>\n",
       "<span style=\"color: #7fbfbf; text-decoration-color: #7fbfbf\">                    </span>                                                                                <span style=\"color: #7f7f7f; text-decoration-color: #7f7f7f\">               </span>\n",
       "</pre>\n"
      ],
      "text/plain": [
       "\u001b[2;36m                   \u001b[0m\u001b[2;36m \u001b[0m\u001b[31mWARNING \u001b[0m C:\\Users\\Tahsin\\miniconda3\\envs\\modspy\\lib\\site-packages\\kedro\\io\\__in \u001b]8;id=80899;file://C:\\Users\\Tahsin\\miniconda3\\envs\\modspy\\lib\\warnings.py\u001b\\\u001b[2mwarnings.py\u001b[0m\u001b]8;;\u001b\\\u001b[2m:\u001b[0m\u001b]8;id=652375;file://C:\\Users\\Tahsin\\miniconda3\\envs\\modspy\\lib\\warnings.py#109\u001b\\\u001b[2m109\u001b[0m\u001b]8;;\u001b\\\n",
       "\u001b[2;36m                    \u001b[0m         it__.py:\u001b[1;36m44\u001b[0m: KedroDeprecationWarning: \u001b[32m'AbstractVersionedDataSet'\u001b[0m has    \u001b[2m               \u001b[0m\n",
       "\u001b[2;36m                    \u001b[0m         been renamed to \u001b[32m'AbstractVersionedDataset'\u001b[0m, and the alias will be      \u001b[2m               \u001b[0m\n",
       "\u001b[2;36m                    \u001b[0m         removed in Kedro \u001b[1;36m0.19\u001b[0m.\u001b[1;36m0\u001b[0m                                                \u001b[2m               \u001b[0m\n",
       "\u001b[2;36m                    \u001b[0m           return \u001b[1;35mgetattr\u001b[0m\u001b[1m(\u001b[0mkedro.io.core, name\u001b[1m)\u001b[0m                                  \u001b[2m               \u001b[0m\n",
       "\u001b[2;36m                    \u001b[0m                                                                                \u001b[2m               \u001b[0m\n"
      ]
     },
     "metadata": {},
     "output_type": "display_data"
    },
    {
     "data": {
      "text/html": [
       "<pre style=\"white-space:pre;overflow-x:auto;line-height:normal;font-family:Menlo,'DejaVu Sans Mono',consolas,'Courier New',monospace\"><span style=\"color: #7fbfbf; text-decoration-color: #7fbfbf\">                    </span><span style=\"color: #800000; text-decoration-color: #800000\">WARNING </span> C:\\Users\\Tahsin\\miniconda3\\envs\\modspy\\lib\\site-packages\\kedro\\io\\__in <a href=\"file://C:\\Users\\Tahsin\\miniconda3\\envs\\modspy\\lib\\warnings.py\" target=\"_blank\"><span style=\"color: #7f7f7f; text-decoration-color: #7f7f7f\">warnings.py</span></a><span style=\"color: #7f7f7f; text-decoration-color: #7f7f7f\">:</span><a href=\"file://C:\\Users\\Tahsin\\miniconda3\\envs\\modspy\\lib\\warnings.py#109\" target=\"_blank\"><span style=\"color: #7f7f7f; text-decoration-color: #7f7f7f\">109</span></a>\n",
       "<span style=\"color: #7fbfbf; text-decoration-color: #7fbfbf\">                    </span>         it__.py:<span style=\"color: #008080; text-decoration-color: #008080; font-weight: bold\">44</span>: KedroDeprecationWarning: <span style=\"color: #008000; text-decoration-color: #008000\">'DataSetAlreadyExistsError'</span> has   <span style=\"color: #7f7f7f; text-decoration-color: #7f7f7f\">               </span>\n",
       "<span style=\"color: #7fbfbf; text-decoration-color: #7fbfbf\">                    </span>         been renamed to <span style=\"color: #008000; text-decoration-color: #008000\">'DatasetAlreadyExistsError'</span>, and the alias will be     <span style=\"color: #7f7f7f; text-decoration-color: #7f7f7f\">               </span>\n",
       "<span style=\"color: #7fbfbf; text-decoration-color: #7fbfbf\">                    </span>         removed in Kedro <span style=\"color: #008080; text-decoration-color: #008080; font-weight: bold\">0.19</span>.<span style=\"color: #008080; text-decoration-color: #008080; font-weight: bold\">0</span>                                                <span style=\"color: #7f7f7f; text-decoration-color: #7f7f7f\">               </span>\n",
       "<span style=\"color: #7fbfbf; text-decoration-color: #7fbfbf\">                    </span>           return <span style=\"color: #800080; text-decoration-color: #800080; font-weight: bold\">getattr</span><span style=\"font-weight: bold\">(</span>kedro.io.core, name<span style=\"font-weight: bold\">)</span>                                  <span style=\"color: #7f7f7f; text-decoration-color: #7f7f7f\">               </span>\n",
       "<span style=\"color: #7fbfbf; text-decoration-color: #7fbfbf\">                    </span>                                                                                <span style=\"color: #7f7f7f; text-decoration-color: #7f7f7f\">               </span>\n",
       "</pre>\n"
      ],
      "text/plain": [
       "\u001b[2;36m                   \u001b[0m\u001b[2;36m \u001b[0m\u001b[31mWARNING \u001b[0m C:\\Users\\Tahsin\\miniconda3\\envs\\modspy\\lib\\site-packages\\kedro\\io\\__in \u001b]8;id=807481;file://C:\\Users\\Tahsin\\miniconda3\\envs\\modspy\\lib\\warnings.py\u001b\\\u001b[2mwarnings.py\u001b[0m\u001b]8;;\u001b\\\u001b[2m:\u001b[0m\u001b]8;id=656638;file://C:\\Users\\Tahsin\\miniconda3\\envs\\modspy\\lib\\warnings.py#109\u001b\\\u001b[2m109\u001b[0m\u001b]8;;\u001b\\\n",
       "\u001b[2;36m                    \u001b[0m         it__.py:\u001b[1;36m44\u001b[0m: KedroDeprecationWarning: \u001b[32m'DataSetAlreadyExistsError'\u001b[0m has   \u001b[2m               \u001b[0m\n",
       "\u001b[2;36m                    \u001b[0m         been renamed to \u001b[32m'DatasetAlreadyExistsError'\u001b[0m, and the alias will be     \u001b[2m               \u001b[0m\n",
       "\u001b[2;36m                    \u001b[0m         removed in Kedro \u001b[1;36m0.19\u001b[0m.\u001b[1;36m0\u001b[0m                                                \u001b[2m               \u001b[0m\n",
       "\u001b[2;36m                    \u001b[0m           return \u001b[1;35mgetattr\u001b[0m\u001b[1m(\u001b[0mkedro.io.core, name\u001b[1m)\u001b[0m                                  \u001b[2m               \u001b[0m\n",
       "\u001b[2;36m                    \u001b[0m                                                                                \u001b[2m               \u001b[0m\n"
      ]
     },
     "metadata": {},
     "output_type": "display_data"
    },
    {
     "data": {
      "text/html": [
       "<pre style=\"white-space:pre;overflow-x:auto;line-height:normal;font-family:Menlo,'DejaVu Sans Mono',consolas,'Courier New',monospace\"><span style=\"color: #7fbfbf; text-decoration-color: #7fbfbf\">                    </span><span style=\"color: #800000; text-decoration-color: #800000\">WARNING </span> C:\\Users\\Tahsin\\miniconda3\\envs\\modspy\\lib\\site-packages\\kedro\\io\\__in <a href=\"file://C:\\Users\\Tahsin\\miniconda3\\envs\\modspy\\lib\\warnings.py\" target=\"_blank\"><span style=\"color: #7f7f7f; text-decoration-color: #7f7f7f\">warnings.py</span></a><span style=\"color: #7f7f7f; text-decoration-color: #7f7f7f\">:</span><a href=\"file://C:\\Users\\Tahsin\\miniconda3\\envs\\modspy\\lib\\warnings.py#109\" target=\"_blank\"><span style=\"color: #7f7f7f; text-decoration-color: #7f7f7f\">109</span></a>\n",
       "<span style=\"color: #7fbfbf; text-decoration-color: #7fbfbf\">                    </span>         it__.py:<span style=\"color: #008080; text-decoration-color: #008080; font-weight: bold\">44</span>: KedroDeprecationWarning: <span style=\"color: #008000; text-decoration-color: #008000\">'DataSetError'</span> has been renamed   <span style=\"color: #7f7f7f; text-decoration-color: #7f7f7f\">               </span>\n",
       "<span style=\"color: #7fbfbf; text-decoration-color: #7fbfbf\">                    </span>         to <span style=\"color: #008000; text-decoration-color: #008000\">'DatasetError'</span>, and the alias will be removed in Kedro <span style=\"color: #008080; text-decoration-color: #008080; font-weight: bold\">0.19</span>.<span style=\"color: #008080; text-decoration-color: #008080; font-weight: bold\">0</span>       <span style=\"color: #7f7f7f; text-decoration-color: #7f7f7f\">               </span>\n",
       "<span style=\"color: #7fbfbf; text-decoration-color: #7fbfbf\">                    </span>           return <span style=\"color: #800080; text-decoration-color: #800080; font-weight: bold\">getattr</span><span style=\"font-weight: bold\">(</span>kedro.io.core, name<span style=\"font-weight: bold\">)</span>                                  <span style=\"color: #7f7f7f; text-decoration-color: #7f7f7f\">               </span>\n",
       "<span style=\"color: #7fbfbf; text-decoration-color: #7fbfbf\">                    </span>                                                                                <span style=\"color: #7f7f7f; text-decoration-color: #7f7f7f\">               </span>\n",
       "</pre>\n"
      ],
      "text/plain": [
       "\u001b[2;36m                   \u001b[0m\u001b[2;36m \u001b[0m\u001b[31mWARNING \u001b[0m C:\\Users\\Tahsin\\miniconda3\\envs\\modspy\\lib\\site-packages\\kedro\\io\\__in \u001b]8;id=204428;file://C:\\Users\\Tahsin\\miniconda3\\envs\\modspy\\lib\\warnings.py\u001b\\\u001b[2mwarnings.py\u001b[0m\u001b]8;;\u001b\\\u001b[2m:\u001b[0m\u001b]8;id=959224;file://C:\\Users\\Tahsin\\miniconda3\\envs\\modspy\\lib\\warnings.py#109\u001b\\\u001b[2m109\u001b[0m\u001b]8;;\u001b\\\n",
       "\u001b[2;36m                    \u001b[0m         it__.py:\u001b[1;36m44\u001b[0m: KedroDeprecationWarning: \u001b[32m'DataSetError'\u001b[0m has been renamed   \u001b[2m               \u001b[0m\n",
       "\u001b[2;36m                    \u001b[0m         to \u001b[32m'DatasetError'\u001b[0m, and the alias will be removed in Kedro \u001b[1;36m0.19\u001b[0m.\u001b[1;36m0\u001b[0m       \u001b[2m               \u001b[0m\n",
       "\u001b[2;36m                    \u001b[0m           return \u001b[1;35mgetattr\u001b[0m\u001b[1m(\u001b[0mkedro.io.core, name\u001b[1m)\u001b[0m                                  \u001b[2m               \u001b[0m\n",
       "\u001b[2;36m                    \u001b[0m                                                                                \u001b[2m               \u001b[0m\n"
      ]
     },
     "metadata": {},
     "output_type": "display_data"
    },
    {
     "data": {
      "text/html": [
       "<pre style=\"white-space:pre;overflow-x:auto;line-height:normal;font-family:Menlo,'DejaVu Sans Mono',consolas,'Courier New',monospace\"><span style=\"color: #7fbfbf; text-decoration-color: #7fbfbf\">                    </span><span style=\"color: #800000; text-decoration-color: #800000\">WARNING </span> C:\\Users\\Tahsin\\miniconda3\\envs\\modspy\\lib\\site-packages\\kedro\\io\\__in <a href=\"file://C:\\Users\\Tahsin\\miniconda3\\envs\\modspy\\lib\\warnings.py\" target=\"_blank\"><span style=\"color: #7f7f7f; text-decoration-color: #7f7f7f\">warnings.py</span></a><span style=\"color: #7f7f7f; text-decoration-color: #7f7f7f\">:</span><a href=\"file://C:\\Users\\Tahsin\\miniconda3\\envs\\modspy\\lib\\warnings.py#109\" target=\"_blank\"><span style=\"color: #7f7f7f; text-decoration-color: #7f7f7f\">109</span></a>\n",
       "<span style=\"color: #7fbfbf; text-decoration-color: #7fbfbf\">                    </span>         it__.py:<span style=\"color: #008080; text-decoration-color: #008080; font-weight: bold\">44</span>: KedroDeprecationWarning: <span style=\"color: #008000; text-decoration-color: #008000\">'DataSetNotFoundError'</span> has been   <span style=\"color: #7f7f7f; text-decoration-color: #7f7f7f\">               </span>\n",
       "<span style=\"color: #7fbfbf; text-decoration-color: #7fbfbf\">                    </span>         renamed to <span style=\"color: #008000; text-decoration-color: #008000\">'DatasetNotFoundError'</span>, and the alias will be removed in    <span style=\"color: #7f7f7f; text-decoration-color: #7f7f7f\">               </span>\n",
       "<span style=\"color: #7fbfbf; text-decoration-color: #7fbfbf\">                    </span>         Kedro <span style=\"color: #008080; text-decoration-color: #008080; font-weight: bold\">0.19</span>.<span style=\"color: #008080; text-decoration-color: #008080; font-weight: bold\">0</span>                                                           <span style=\"color: #7f7f7f; text-decoration-color: #7f7f7f\">               </span>\n",
       "<span style=\"color: #7fbfbf; text-decoration-color: #7fbfbf\">                    </span>           return <span style=\"color: #800080; text-decoration-color: #800080; font-weight: bold\">getattr</span><span style=\"font-weight: bold\">(</span>kedro.io.core, name<span style=\"font-weight: bold\">)</span>                                  <span style=\"color: #7f7f7f; text-decoration-color: #7f7f7f\">               </span>\n",
       "<span style=\"color: #7fbfbf; text-decoration-color: #7fbfbf\">                    </span>                                                                                <span style=\"color: #7f7f7f; text-decoration-color: #7f7f7f\">               </span>\n",
       "</pre>\n"
      ],
      "text/plain": [
       "\u001b[2;36m                   \u001b[0m\u001b[2;36m \u001b[0m\u001b[31mWARNING \u001b[0m C:\\Users\\Tahsin\\miniconda3\\envs\\modspy\\lib\\site-packages\\kedro\\io\\__in \u001b]8;id=751950;file://C:\\Users\\Tahsin\\miniconda3\\envs\\modspy\\lib\\warnings.py\u001b\\\u001b[2mwarnings.py\u001b[0m\u001b]8;;\u001b\\\u001b[2m:\u001b[0m\u001b]8;id=664688;file://C:\\Users\\Tahsin\\miniconda3\\envs\\modspy\\lib\\warnings.py#109\u001b\\\u001b[2m109\u001b[0m\u001b]8;;\u001b\\\n",
       "\u001b[2;36m                    \u001b[0m         it__.py:\u001b[1;36m44\u001b[0m: KedroDeprecationWarning: \u001b[32m'DataSetNotFoundError'\u001b[0m has been   \u001b[2m               \u001b[0m\n",
       "\u001b[2;36m                    \u001b[0m         renamed to \u001b[32m'DatasetNotFoundError'\u001b[0m, and the alias will be removed in    \u001b[2m               \u001b[0m\n",
       "\u001b[2;36m                    \u001b[0m         Kedro \u001b[1;36m0.19\u001b[0m.\u001b[1;36m0\u001b[0m                                                           \u001b[2m               \u001b[0m\n",
       "\u001b[2;36m                    \u001b[0m           return \u001b[1;35mgetattr\u001b[0m\u001b[1m(\u001b[0mkedro.io.core, name\u001b[1m)\u001b[0m                                  \u001b[2m               \u001b[0m\n",
       "\u001b[2;36m                    \u001b[0m                                                                                \u001b[2m               \u001b[0m\n"
      ]
     },
     "metadata": {},
     "output_type": "display_data"
    },
    {
     "data": {
      "text/html": [
       "<pre style=\"white-space:pre;overflow-x:auto;line-height:normal;font-family:Menlo,'DejaVu Sans Mono',consolas,'Courier New',monospace\"><span style=\"color: #7fbfbf; text-decoration-color: #7fbfbf\">[01/19/24 00:41:22] </span><span style=\"color: #000080; text-decoration-color: #000080\">INFO    </span> Kedro project ModSpy-Data                                              <a href=\"file://C:\\Users\\Tahsin\\miniconda3\\envs\\modspy\\lib\\site-packages\\kedro\\ipython\\__init__.py\" target=\"_blank\"><span style=\"color: #7f7f7f; text-decoration-color: #7f7f7f\">__init__.py</span></a><span style=\"color: #7f7f7f; text-decoration-color: #7f7f7f\">:</span><a href=\"file://C:\\Users\\Tahsin\\miniconda3\\envs\\modspy\\lib\\site-packages\\kedro\\ipython\\__init__.py#108\" target=\"_blank\"><span style=\"color: #7f7f7f; text-decoration-color: #7f7f7f\">108</span></a>\n",
       "</pre>\n"
      ],
      "text/plain": [
       "\u001b[2;36m[01/19/24 00:41:22]\u001b[0m\u001b[2;36m \u001b[0m\u001b[34mINFO    \u001b[0m Kedro project ModSpy-Data                                              \u001b]8;id=112021;file://C:\\Users\\Tahsin\\miniconda3\\envs\\modspy\\lib\\site-packages\\kedro\\ipython\\__init__.py\u001b\\\u001b[2m__init__.py\u001b[0m\u001b]8;;\u001b\\\u001b[2m:\u001b[0m\u001b]8;id=82295;file://C:\\Users\\Tahsin\\miniconda3\\envs\\modspy\\lib\\site-packages\\kedro\\ipython\\__init__.py#108\u001b\\\u001b[2m108\u001b[0m\u001b]8;;\u001b\\\n"
      ]
     },
     "metadata": {},
     "output_type": "display_data"
    },
    {
     "data": {
      "text/html": [
       "<pre style=\"white-space:pre;overflow-x:auto;line-height:normal;font-family:Menlo,'DejaVu Sans Mono',consolas,'Courier New',monospace\"><span style=\"color: #7fbfbf; text-decoration-color: #7fbfbf\">                    </span><span style=\"color: #000080; text-decoration-color: #000080\">INFO    </span> Kedro project ModSpy-Data                                              <a href=\"file://C:\\Users\\Tahsin\\miniconda3\\envs\\modspy\\lib\\site-packages\\kedro\\ipython\\__init__.py\" target=\"_blank\"><span style=\"color: #7f7f7f; text-decoration-color: #7f7f7f\">__init__.py</span></a><span style=\"color: #7f7f7f; text-decoration-color: #7f7f7f\">:</span><a href=\"file://C:\\Users\\Tahsin\\miniconda3\\envs\\modspy\\lib\\site-packages\\kedro\\ipython\\__init__.py#108\" target=\"_blank\"><span style=\"color: #7f7f7f; text-decoration-color: #7f7f7f\">108</span></a>\n",
       "</pre>\n"
      ],
      "text/plain": [
       "\u001b[2;36m                   \u001b[0m\u001b[2;36m \u001b[0m\u001b[34mINFO    \u001b[0m Kedro project ModSpy-Data                                              \u001b]8;id=757394;file://C:\\Users\\Tahsin\\miniconda3\\envs\\modspy\\lib\\site-packages\\kedro\\ipython\\__init__.py\u001b\\\u001b[2m__init__.py\u001b[0m\u001b]8;;\u001b\\\u001b[2m:\u001b[0m\u001b]8;id=754160;file://C:\\Users\\Tahsin\\miniconda3\\envs\\modspy\\lib\\site-packages\\kedro\\ipython\\__init__.py#108\u001b\\\u001b[2m108\u001b[0m\u001b]8;;\u001b\\\n"
      ]
     },
     "metadata": {},
     "output_type": "display_data"
    },
    {
     "data": {
      "text/html": [
       "<pre style=\"white-space:pre;overflow-x:auto;line-height:normal;font-family:Menlo,'DejaVu Sans Mono',consolas,'Courier New',monospace\"><span style=\"color: #7fbfbf; text-decoration-color: #7fbfbf\">                    </span><span style=\"color: #000080; text-decoration-color: #000080\">INFO    </span> Defined global variable <span style=\"color: #008000; text-decoration-color: #008000\">'context'</span>, <span style=\"color: #008000; text-decoration-color: #008000\">'session'</span>, <span style=\"color: #008000; text-decoration-color: #008000\">'catalog'</span> and            <a href=\"file://C:\\Users\\Tahsin\\miniconda3\\envs\\modspy\\lib\\site-packages\\kedro\\ipython\\__init__.py\" target=\"_blank\"><span style=\"color: #7f7f7f; text-decoration-color: #7f7f7f\">__init__.py</span></a><span style=\"color: #7f7f7f; text-decoration-color: #7f7f7f\">:</span><a href=\"file://C:\\Users\\Tahsin\\miniconda3\\envs\\modspy\\lib\\site-packages\\kedro\\ipython\\__init__.py#109\" target=\"_blank\"><span style=\"color: #7f7f7f; text-decoration-color: #7f7f7f\">109</span></a>\n",
       "<span style=\"color: #7fbfbf; text-decoration-color: #7fbfbf\">                    </span>         <span style=\"color: #008000; text-decoration-color: #008000\">'pipelines'</span>                                                            <span style=\"color: #7f7f7f; text-decoration-color: #7f7f7f\">               </span>\n",
       "</pre>\n"
      ],
      "text/plain": [
       "\u001b[2;36m                   \u001b[0m\u001b[2;36m \u001b[0m\u001b[34mINFO    \u001b[0m Defined global variable \u001b[32m'context'\u001b[0m, \u001b[32m'session'\u001b[0m, \u001b[32m'catalog'\u001b[0m and            \u001b]8;id=70074;file://C:\\Users\\Tahsin\\miniconda3\\envs\\modspy\\lib\\site-packages\\kedro\\ipython\\__init__.py\u001b\\\u001b[2m__init__.py\u001b[0m\u001b]8;;\u001b\\\u001b[2m:\u001b[0m\u001b]8;id=841200;file://C:\\Users\\Tahsin\\miniconda3\\envs\\modspy\\lib\\site-packages\\kedro\\ipython\\__init__.py#109\u001b\\\u001b[2m109\u001b[0m\u001b]8;;\u001b\\\n",
       "\u001b[2;36m                    \u001b[0m         \u001b[32m'pipelines'\u001b[0m                                                            \u001b[2m               \u001b[0m\n"
      ]
     },
     "metadata": {},
     "output_type": "display_data"
    },
    {
     "data": {
      "text/html": [
       "<pre style=\"white-space:pre;overflow-x:auto;line-height:normal;font-family:Menlo,'DejaVu Sans Mono',consolas,'Courier New',monospace\"><span style=\"color: #7fbfbf; text-decoration-color: #7fbfbf\">                    </span><span style=\"color: #000080; text-decoration-color: #000080\">INFO    </span> Defined global variable <span style=\"color: #008000; text-decoration-color: #008000\">'context'</span>, <span style=\"color: #008000; text-decoration-color: #008000\">'session'</span>, <span style=\"color: #008000; text-decoration-color: #008000\">'catalog'</span> and            <a href=\"file://C:\\Users\\Tahsin\\miniconda3\\envs\\modspy\\lib\\site-packages\\kedro\\ipython\\__init__.py\" target=\"_blank\"><span style=\"color: #7f7f7f; text-decoration-color: #7f7f7f\">__init__.py</span></a><span style=\"color: #7f7f7f; text-decoration-color: #7f7f7f\">:</span><a href=\"file://C:\\Users\\Tahsin\\miniconda3\\envs\\modspy\\lib\\site-packages\\kedro\\ipython\\__init__.py#109\" target=\"_blank\"><span style=\"color: #7f7f7f; text-decoration-color: #7f7f7f\">109</span></a>\n",
       "<span style=\"color: #7fbfbf; text-decoration-color: #7fbfbf\">                    </span>         <span style=\"color: #008000; text-decoration-color: #008000\">'pipelines'</span>                                                            <span style=\"color: #7f7f7f; text-decoration-color: #7f7f7f\">               </span>\n",
       "</pre>\n"
      ],
      "text/plain": [
       "\u001b[2;36m                   \u001b[0m\u001b[2;36m \u001b[0m\u001b[34mINFO    \u001b[0m Defined global variable \u001b[32m'context'\u001b[0m, \u001b[32m'session'\u001b[0m, \u001b[32m'catalog'\u001b[0m and            \u001b]8;id=435628;file://C:\\Users\\Tahsin\\miniconda3\\envs\\modspy\\lib\\site-packages\\kedro\\ipython\\__init__.py\u001b\\\u001b[2m__init__.py\u001b[0m\u001b]8;;\u001b\\\u001b[2m:\u001b[0m\u001b]8;id=152236;file://C:\\Users\\Tahsin\\miniconda3\\envs\\modspy\\lib\\site-packages\\kedro\\ipython\\__init__.py#109\u001b\\\u001b[2m109\u001b[0m\u001b]8;;\u001b\\\n",
       "\u001b[2;36m                    \u001b[0m         \u001b[32m'pipelines'\u001b[0m                                                            \u001b[2m               \u001b[0m\n"
      ]
     },
     "metadata": {},
     "output_type": "display_data"
    }
   ],
   "source": [
    "%reload_kedro"
   ]
  },
  {
   "cell_type": "code",
   "execution_count": 2,
   "metadata": {},
   "outputs": [],
   "source": [
    "# -*- coding: utf-8 -*-\n",
    "# from __future__ import absolute_import, division, print_function, unicode_literals\n",
    "import random\n",
    "import logging\n",
    "import itertools\n",
    "from collections import defaultdict\n",
    "from rich import print\n",
    "from IPython.display import display, HTML\n",
    "from tqdm.notebook import trange, tqdm\n",
    "\n",
    "import pandas as pd\n",
    "import numpy as np\n",
    "from modspy_data.helpers import KnowledgeGraphScores\n",
    "\n",
    "import matplotlib.pyplot as plt\n",
    "import seaborn as sns\n",
    "\n",
    "import dask\n",
    "import dask.dataframe as dd\n",
    "import dask.array as da\n",
    "from dask.distributed import Client, progress, performance_report\n",
    "from dask_jobqueue import SLURMCluster\n",
    "\n",
    "\n",
    "import torch\n",
    "import pronto\n",
    "import networkx as nx\n",
    "# from utils import visualize\n",
    "from pyvis.network import Network\n",
    "from sklearn.preprocessing import LabelEncoder\n",
    "# from stellargraph import StellarGraph    # Lovin' it!\n",
    "from sklearn.manifold import TSNE\n",
    "from sklearn.decomposition import PCA\n",
    "\n",
    "import dgl\n",
    "# import optuna\n",
    "from nxontology import NXOntology\n",
    "from nxontology.imports import (from_file, multidigraph_to_digraph,\n",
    "                                pronto_to_multidigraph)\n",
    "from networkx.drawing.nx_agraph import graphviz_layout\n",
    "from nxontology.viz import create_similarity_graphviz\n",
    "from torch_geometric.data import Data, InMemoryDataset, download_url\n",
    "import torch_geometric.transforms as T\n",
    "from torch_geometric.utils.convert import from_networkx\n",
    "from torch.nn import Linear, ModuleList\n",
    "from torch_geometric.nn import GATConv, GraphConv, MetaPath2Vec\n",
    "# from torch_geometric.loaders import DataLoader, Dataset\n",
    "from torch_geometric.data import HeteroData, DataLoader\n",
    "from torch_geometric.utils import convert"
   ]
  },
  {
   "cell_type": "markdown",
   "metadata": {},
   "source": [
    "# Combined dateset"
   ]
  },
  {
   "cell_type": "code",
   "execution_count": 3,
   "metadata": {},
   "outputs": [
    {
     "data": {
      "text/html": [
       "<pre style=\"white-space:pre;overflow-x:auto;line-height:normal;font-family:Menlo,'DejaVu Sans Mono',consolas,'Courier New',monospace\"><span style=\"color: #7fbfbf; text-decoration-color: #7fbfbf\">[01/19/24 00:42:09] </span><span style=\"color: #000080; text-decoration-color: #000080\">INFO    </span> Loading data from <span style=\"color: #008000; text-decoration-color: #008000\">'jvl_annotated'</span> <span style=\"font-weight: bold\">(</span>CSVDataSet<span style=\"font-weight: bold\">)</span><span style=\"color: #808000; text-decoration-color: #808000\">...</span>                  <a href=\"file://C:\\Users\\Tahsin\\miniconda3\\envs\\modspy\\lib\\site-packages\\kedro\\io\\data_catalog.py\" target=\"_blank\"><span style=\"color: #7f7f7f; text-decoration-color: #7f7f7f\">data_catalog.py</span></a><span style=\"color: #7f7f7f; text-decoration-color: #7f7f7f\">:</span><a href=\"file://C:\\Users\\Tahsin\\miniconda3\\envs\\modspy\\lib\\site-packages\\kedro\\io\\data_catalog.py#502\" target=\"_blank\"><span style=\"color: #7f7f7f; text-decoration-color: #7f7f7f\">502</span></a>\n",
       "</pre>\n"
      ],
      "text/plain": [
       "\u001b[2;36m[01/19/24 00:42:09]\u001b[0m\u001b[2;36m \u001b[0m\u001b[34mINFO    \u001b[0m Loading data from \u001b[32m'jvl_annotated'\u001b[0m \u001b[1m(\u001b[0mCSVDataSet\u001b[1m)\u001b[0m\u001b[33m...\u001b[0m                  \u001b]8;id=41023;file://C:\\Users\\Tahsin\\miniconda3\\envs\\modspy\\lib\\site-packages\\kedro\\io\\data_catalog.py\u001b\\\u001b[2mdata_catalog.py\u001b[0m\u001b]8;;\u001b\\\u001b[2m:\u001b[0m\u001b]8;id=50294;file://C:\\Users\\Tahsin\\miniconda3\\envs\\modspy\\lib\\site-packages\\kedro\\io\\data_catalog.py#502\u001b\\\u001b[2m502\u001b[0m\u001b]8;;\u001b\\\n"
      ]
     },
     "metadata": {},
     "output_type": "display_data"
    },
    {
     "data": {
      "text/html": [
       "<pre style=\"white-space:pre;overflow-x:auto;line-height:normal;font-family:Menlo,'DejaVu Sans Mono',consolas,'Courier New',monospace\"><span style=\"color: #7fbfbf; text-decoration-color: #7fbfbf\">                    </span><span style=\"color: #000080; text-decoration-color: #000080\">INFO    </span> Loading data from <span style=\"color: #008000; text-decoration-color: #008000\">'jvl_annotated'</span> <span style=\"font-weight: bold\">(</span>CSVDataSet<span style=\"font-weight: bold\">)</span><span style=\"color: #808000; text-decoration-color: #808000\">...</span>                  <a href=\"file://C:\\Users\\Tahsin\\miniconda3\\envs\\modspy\\lib\\site-packages\\kedro\\io\\data_catalog.py\" target=\"_blank\"><span style=\"color: #7f7f7f; text-decoration-color: #7f7f7f\">data_catalog.py</span></a><span style=\"color: #7f7f7f; text-decoration-color: #7f7f7f\">:</span><a href=\"file://C:\\Users\\Tahsin\\miniconda3\\envs\\modspy\\lib\\site-packages\\kedro\\io\\data_catalog.py#502\" target=\"_blank\"><span style=\"color: #7f7f7f; text-decoration-color: #7f7f7f\">502</span></a>\n",
       "</pre>\n"
      ],
      "text/plain": [
       "\u001b[2;36m                   \u001b[0m\u001b[2;36m \u001b[0m\u001b[34mINFO    \u001b[0m Loading data from \u001b[32m'jvl_annotated'\u001b[0m \u001b[1m(\u001b[0mCSVDataSet\u001b[1m)\u001b[0m\u001b[33m...\u001b[0m                  \u001b]8;id=316152;file://C:\\Users\\Tahsin\\miniconda3\\envs\\modspy\\lib\\site-packages\\kedro\\io\\data_catalog.py\u001b\\\u001b[2mdata_catalog.py\u001b[0m\u001b]8;;\u001b\\\u001b[2m:\u001b[0m\u001b]8;id=564216;file://C:\\Users\\Tahsin\\miniconda3\\envs\\modspy\\lib\\site-packages\\kedro\\io\\data_catalog.py#502\u001b\\\u001b[2m502\u001b[0m\u001b]8;;\u001b\\\n"
      ]
     },
     "metadata": {},
     "output_type": "display_data"
    },
    {
     "data": {
      "text/html": [
       "<pre style=\"white-space:pre;overflow-x:auto;line-height:normal;font-family:Menlo,'DejaVu Sans Mono',consolas,'Courier New',monospace\"><span style=\"color: #7fbfbf; text-decoration-color: #7fbfbf\">                    </span><span style=\"color: #000080; text-decoration-color: #000080\">INFO    </span> Loading data from <span style=\"color: #008000; text-decoration-color: #008000\">'olida_annotated'</span> <span style=\"font-weight: bold\">(</span>CSVDataSet<span style=\"font-weight: bold\">)</span><span style=\"color: #808000; text-decoration-color: #808000\">...</span>                <a href=\"file://C:\\Users\\Tahsin\\miniconda3\\envs\\modspy\\lib\\site-packages\\kedro\\io\\data_catalog.py\" target=\"_blank\"><span style=\"color: #7f7f7f; text-decoration-color: #7f7f7f\">data_catalog.py</span></a><span style=\"color: #7f7f7f; text-decoration-color: #7f7f7f\">:</span><a href=\"file://C:\\Users\\Tahsin\\miniconda3\\envs\\modspy\\lib\\site-packages\\kedro\\io\\data_catalog.py#502\" target=\"_blank\"><span style=\"color: #7f7f7f; text-decoration-color: #7f7f7f\">502</span></a>\n",
       "</pre>\n"
      ],
      "text/plain": [
       "\u001b[2;36m                   \u001b[0m\u001b[2;36m \u001b[0m\u001b[34mINFO    \u001b[0m Loading data from \u001b[32m'olida_annotated'\u001b[0m \u001b[1m(\u001b[0mCSVDataSet\u001b[1m)\u001b[0m\u001b[33m...\u001b[0m                \u001b]8;id=111200;file://C:\\Users\\Tahsin\\miniconda3\\envs\\modspy\\lib\\site-packages\\kedro\\io\\data_catalog.py\u001b\\\u001b[2mdata_catalog.py\u001b[0m\u001b]8;;\u001b\\\u001b[2m:\u001b[0m\u001b]8;id=958713;file://C:\\Users\\Tahsin\\miniconda3\\envs\\modspy\\lib\\site-packages\\kedro\\io\\data_catalog.py#502\u001b\\\u001b[2m502\u001b[0m\u001b]8;;\u001b\\\n"
      ]
     },
     "metadata": {},
     "output_type": "display_data"
    },
    {
     "data": {
      "text/html": [
       "<pre style=\"white-space:pre;overflow-x:auto;line-height:normal;font-family:Menlo,'DejaVu Sans Mono',consolas,'Courier New',monospace\"><span style=\"color: #7fbfbf; text-decoration-color: #7fbfbf\">                    </span><span style=\"color: #000080; text-decoration-color: #000080\">INFO    </span> Loading data from <span style=\"color: #008000; text-decoration-color: #008000\">'olida_annotated'</span> <span style=\"font-weight: bold\">(</span>CSVDataSet<span style=\"font-weight: bold\">)</span><span style=\"color: #808000; text-decoration-color: #808000\">...</span>                <a href=\"file://C:\\Users\\Tahsin\\miniconda3\\envs\\modspy\\lib\\site-packages\\kedro\\io\\data_catalog.py\" target=\"_blank\"><span style=\"color: #7f7f7f; text-decoration-color: #7f7f7f\">data_catalog.py</span></a><span style=\"color: #7f7f7f; text-decoration-color: #7f7f7f\">:</span><a href=\"file://C:\\Users\\Tahsin\\miniconda3\\envs\\modspy\\lib\\site-packages\\kedro\\io\\data_catalog.py#502\" target=\"_blank\"><span style=\"color: #7f7f7f; text-decoration-color: #7f7f7f\">502</span></a>\n",
       "</pre>\n"
      ],
      "text/plain": [
       "\u001b[2;36m                   \u001b[0m\u001b[2;36m \u001b[0m\u001b[34mINFO    \u001b[0m Loading data from \u001b[32m'olida_annotated'\u001b[0m \u001b[1m(\u001b[0mCSVDataSet\u001b[1m)\u001b[0m\u001b[33m...\u001b[0m                \u001b]8;id=556540;file://C:\\Users\\Tahsin\\miniconda3\\envs\\modspy\\lib\\site-packages\\kedro\\io\\data_catalog.py\u001b\\\u001b[2mdata_catalog.py\u001b[0m\u001b]8;;\u001b\\\u001b[2m:\u001b[0m\u001b]8;id=812470;file://C:\\Users\\Tahsin\\miniconda3\\envs\\modspy\\lib\\site-packages\\kedro\\io\\data_catalog.py#502\u001b\\\u001b[2m502\u001b[0m\u001b]8;;\u001b\\\n"
      ]
     },
     "metadata": {},
     "output_type": "display_data"
    },
    {
     "data": {
      "text/html": [
       "<pre style=\"white-space:pre;overflow-x:auto;line-height:normal;font-family:Menlo,'DejaVu Sans Mono',consolas,'Courier New',monospace\"><span style=\"color: #7fbfbf; text-decoration-color: #7fbfbf\">                    </span><span style=\"color: #000080; text-decoration-color: #000080\">INFO    </span> Loading data from <span style=\"color: #008000; text-decoration-color: #008000\">'zyg1_annotated'</span> <span style=\"font-weight: bold\">(</span>CSVDataSet<span style=\"font-weight: bold\">)</span><span style=\"color: #808000; text-decoration-color: #808000\">...</span>                 <a href=\"file://C:\\Users\\Tahsin\\miniconda3\\envs\\modspy\\lib\\site-packages\\kedro\\io\\data_catalog.py\" target=\"_blank\"><span style=\"color: #7f7f7f; text-decoration-color: #7f7f7f\">data_catalog.py</span></a><span style=\"color: #7f7f7f; text-decoration-color: #7f7f7f\">:</span><a href=\"file://C:\\Users\\Tahsin\\miniconda3\\envs\\modspy\\lib\\site-packages\\kedro\\io\\data_catalog.py#502\" target=\"_blank\"><span style=\"color: #7f7f7f; text-decoration-color: #7f7f7f\">502</span></a>\n",
       "</pre>\n"
      ],
      "text/plain": [
       "\u001b[2;36m                   \u001b[0m\u001b[2;36m \u001b[0m\u001b[34mINFO    \u001b[0m Loading data from \u001b[32m'zyg1_annotated'\u001b[0m \u001b[1m(\u001b[0mCSVDataSet\u001b[1m)\u001b[0m\u001b[33m...\u001b[0m                 \u001b]8;id=496540;file://C:\\Users\\Tahsin\\miniconda3\\envs\\modspy\\lib\\site-packages\\kedro\\io\\data_catalog.py\u001b\\\u001b[2mdata_catalog.py\u001b[0m\u001b]8;;\u001b\\\u001b[2m:\u001b[0m\u001b]8;id=416194;file://C:\\Users\\Tahsin\\miniconda3\\envs\\modspy\\lib\\site-packages\\kedro\\io\\data_catalog.py#502\u001b\\\u001b[2m502\u001b[0m\u001b]8;;\u001b\\\n"
      ]
     },
     "metadata": {},
     "output_type": "display_data"
    },
    {
     "data": {
      "text/html": [
       "<pre style=\"white-space:pre;overflow-x:auto;line-height:normal;font-family:Menlo,'DejaVu Sans Mono',consolas,'Courier New',monospace\"><span style=\"color: #7fbfbf; text-decoration-color: #7fbfbf\">                    </span><span style=\"color: #000080; text-decoration-color: #000080\">INFO    </span> Loading data from <span style=\"color: #008000; text-decoration-color: #008000\">'zyg1_annotated'</span> <span style=\"font-weight: bold\">(</span>CSVDataSet<span style=\"font-weight: bold\">)</span><span style=\"color: #808000; text-decoration-color: #808000\">...</span>                 <a href=\"file://C:\\Users\\Tahsin\\miniconda3\\envs\\modspy\\lib\\site-packages\\kedro\\io\\data_catalog.py\" target=\"_blank\"><span style=\"color: #7f7f7f; text-decoration-color: #7f7f7f\">data_catalog.py</span></a><span style=\"color: #7f7f7f; text-decoration-color: #7f7f7f\">:</span><a href=\"file://C:\\Users\\Tahsin\\miniconda3\\envs\\modspy\\lib\\site-packages\\kedro\\io\\data_catalog.py#502\" target=\"_blank\"><span style=\"color: #7f7f7f; text-decoration-color: #7f7f7f\">502</span></a>\n",
       "</pre>\n"
      ],
      "text/plain": [
       "\u001b[2;36m                   \u001b[0m\u001b[2;36m \u001b[0m\u001b[34mINFO    \u001b[0m Loading data from \u001b[32m'zyg1_annotated'\u001b[0m \u001b[1m(\u001b[0mCSVDataSet\u001b[1m)\u001b[0m\u001b[33m...\u001b[0m                 \u001b]8;id=880676;file://C:\\Users\\Tahsin\\miniconda3\\envs\\modspy\\lib\\site-packages\\kedro\\io\\data_catalog.py\u001b\\\u001b[2mdata_catalog.py\u001b[0m\u001b]8;;\u001b\\\u001b[2m:\u001b[0m\u001b]8;id=153035;file://C:\\Users\\Tahsin\\miniconda3\\envs\\modspy\\lib\\site-packages\\kedro\\io\\data_catalog.py#502\u001b\\\u001b[2m502\u001b[0m\u001b]8;;\u001b\\\n"
      ]
     },
     "metadata": {},
     "output_type": "display_data"
    }
   ],
   "source": [
    "jvl = catalog.load('jvl_annotated')\n",
    "olida = catalog.load('olida_annotated')\n",
    "mtg = catalog.load('zyg1_annotated')"
   ]
  },
  {
   "cell_type": "code",
   "execution_count": 4,
   "metadata": {},
   "outputs": [],
   "source": [
    "olida = olida[olida['Oligogenic Effect']!='Monogenic+Modifier']"
   ]
  },
  {
   "cell_type": "code",
   "execution_count": 5,
   "metadata": {},
   "outputs": [
    {
     "data": {
      "text/html": [
       "<pre style=\"white-space:pre;overflow-x:auto;line-height:normal;font-family:Menlo,'DejaVu Sans Mono',consolas,'Courier New',monospace\">Oligogenic Effect\n",
       "<span style=\"color: #00ff00; text-decoration-color: #00ff00; font-style: italic\">True</span> Digenic                <span style=\"color: #008080; text-decoration-color: #008080; font-weight: bold\">47</span>\n",
       "Dual Molecular Diagnosis    <span style=\"color: #008080; text-decoration-color: #008080; font-weight: bold\">28</span>\n",
       "Name: count, dtype: int64\n",
       "</pre>\n"
      ],
      "text/plain": [
       "Oligogenic Effect\n",
       "\u001b[3;92mTrue\u001b[0m Digenic                \u001b[1;36m47\u001b[0m\n",
       "Dual Molecular Diagnosis    \u001b[1;36m28\u001b[0m\n",
       "Name: count, dtype: int64\n"
      ]
     },
     "metadata": {},
     "output_type": "display_data"
    },
    {
     "data": {
      "text/html": [
       "<pre style=\"white-space:pre;overflow-x:auto;line-height:normal;font-family:Menlo,'DejaVu Sans Mono',consolas,'Courier New',monospace\"><span style=\"font-weight: bold\">(</span><span style=\"color: #008080; text-decoration-color: #008080; font-weight: bold\">75</span>, <span style=\"color: #008080; text-decoration-color: #008080; font-weight: bold\">47</span><span style=\"font-weight: bold\">)</span>\n",
       "</pre>\n"
      ],
      "text/plain": [
       "\u001b[1m(\u001b[0m\u001b[1;36m75\u001b[0m, \u001b[1;36m47\u001b[0m\u001b[1m)\u001b[0m\n"
      ]
     },
     "metadata": {},
     "output_type": "display_data"
    }
   ],
   "source": [
    "print(olida['Oligogenic Effect'].value_counts())\n",
    "print(olida.shape)"
   ]
  },
  {
   "cell_type": "code",
   "execution_count": 6,
   "metadata": {},
   "outputs": [],
   "source": [
    "# Adding source column\n",
    "jvl['source'] = 'JVL'\n",
    "olida['source'] = 'OLIDA'\n",
    "mtg['source'] = 'MTG'\n",
    "\n",
    "# Classification labels\n",
    "jvl['is_modifier'] = 1\n",
    "olida['is_modifier'] = 0\n",
    "\n",
    "# Rename columns to indicate same information\n",
    "jvl.rename(columns={'QueryGene': 'target_gene', 'SuppressorGene': 'modifier_gene'}, inplace=True)\n",
    "olida.rename(columns={'gene_a': 'target_gene', 'gene_b': 'modifier_gene'}, inplace=True)\n",
    "mtg.rename(columns={'gene_symbol': 'modifier_gene', 'target_gene_symbol': 'target_gene'}, inplace=True)\n"
   ]
  },
  {
   "cell_type": "code",
   "execution_count": 7,
   "metadata": {},
   "outputs": [
    {
     "data": {
      "text/html": [
       "<pre style=\"white-space:pre;overflow-x:auto;line-height:normal;font-family:Menlo,'DejaVu Sans Mono',consolas,'Courier New',monospace\"><span style=\"font-weight: bold\">(</span><span style=\"color: #008080; text-decoration-color: #008080; font-weight: bold\">8337</span>, <span style=\"color: #008080; text-decoration-color: #008080; font-weight: bold\">218</span><span style=\"font-weight: bold\">)</span>\n",
       "</pre>\n"
      ],
      "text/plain": [
       "\u001b[1m(\u001b[0m\u001b[1;36m8337\u001b[0m, \u001b[1;36m218\u001b[0m\u001b[1m)\u001b[0m\n"
      ]
     },
     "metadata": {},
     "output_type": "display_data"
    },
    {
     "data": {
      "text/html": [
       "<pre style=\"white-space:pre;overflow-x:auto;line-height:normal;font-family:Menlo,'DejaVu Sans Mono',consolas,'Courier New',monospace\">source\n",
       "MTG      <span style=\"color: #008080; text-decoration-color: #008080; font-weight: bold\">7330</span>\n",
       "JVL       <span style=\"color: #008080; text-decoration-color: #008080; font-weight: bold\">932</span>\n",
       "OLIDA      <span style=\"color: #008080; text-decoration-color: #008080; font-weight: bold\">75</span>\n",
       "Name: count, dtype: int64\n",
       "</pre>\n"
      ],
      "text/plain": [
       "source\n",
       "MTG      \u001b[1;36m7330\u001b[0m\n",
       "JVL       \u001b[1;36m932\u001b[0m\n",
       "OLIDA      \u001b[1;36m75\u001b[0m\n",
       "Name: count, dtype: int64\n"
      ]
     },
     "metadata": {},
     "output_type": "display_data"
    }
   ],
   "source": [
    "dataset_df = pd.concat([jvl, olida, mtg])\n",
    "print(dataset_df.shape)\n",
    "print(dataset_df['source'].value_counts())"
   ]
  },
  {
   "cell_type": "code",
   "execution_count": 8,
   "metadata": {},
   "outputs": [
    {
     "data": {
      "text/html": [
       "<pre style=\"white-space:pre;overflow-x:auto;line-height:normal;font-family:Menlo,'DejaVu Sans Mono',consolas,'Courier New',monospace\"></pre>\n"
      ],
      "text/plain": []
     },
     "metadata": {},
     "output_type": "display_data"
    },
    {
     "data": {
      "text/plain": [
       "\n",
       "\u001b[1m[\u001b[0m\n",
       "    \u001b[32m'PubmedID'\u001b[0m,\n",
       "    \u001b[32m'Category'\u001b[0m,\n",
       "    \u001b[32m'Tissue'\u001b[0m,\n",
       "    \u001b[32m'target_gene'\u001b[0m,\n",
       "    \u001b[32m'QueryFunction'\u001b[0m,\n",
       "    \u001b[32m'QueryMutation'\u001b[0m,\n",
       "    \u001b[32m'QueryType'\u001b[0m,\n",
       "    \u001b[32m'modifier_gene'\u001b[0m,\n",
       "    \u001b[32m'SuppressorFunction'\u001b[0m,\n",
       "    \u001b[32m'SuppressorMutation'\u001b[0m,\n",
       "    \u001b[32m'SNP_ID'\u001b[0m,\n",
       "    \u001b[32m'SuppressorType'\u001b[0m,\n",
       "    \u001b[32m'EffectSize'\u001b[0m,\n",
       "    \u001b[32m'Disease'\u001b[0m,\n",
       "    \u001b[32m'DiseaseSubType'\u001b[0m,\n",
       "    \u001b[32m'CellLineIdentified'\u001b[0m,\n",
       "    \u001b[32m'ModelSystemValidated'\u001b[0m,\n",
       "    \u001b[32m'Drugs'\u001b[0m,\n",
       "    \u001b[32m'target_GOs'\u001b[0m,\n",
       "    \u001b[32m'target_GOs_count'\u001b[0m,\n",
       "    \u001b[32m'modifier_GOs'\u001b[0m,\n",
       "    \u001b[32m'modifier_GOs_count'\u001b[0m,\n",
       "    \u001b[32m'target_POs'\u001b[0m,\n",
       "    \u001b[32m'target_POs_count'\u001b[0m,\n",
       "    \u001b[32m'modifier_POs'\u001b[0m,\n",
       "    \u001b[32m'modifier_POs_count'\u001b[0m,\n",
       "    \u001b[32m'target_DOs'\u001b[0m,\n",
       "    \u001b[32m'target_DOs_count'\u001b[0m,\n",
       "    \u001b[32m'modifier_DOs'\u001b[0m,\n",
       "    \u001b[32m'modifier_DOs_count'\u001b[0m,\n",
       "    \u001b[32m'source'\u001b[0m,\n",
       "    \u001b[32m'is_modifier'\u001b[0m,\n",
       "    \u001b[32m'Entry Id'\u001b[0m,\n",
       "    \u001b[32m'Genes'\u001b[0m,\n",
       "    \u001b[32m'Genes Relationship'\u001b[0m,\n",
       "    \u001b[32m'Protein Interactions'\u001b[0m,\n",
       "    \u001b[32m'Common Pathways'\u001b[0m,\n",
       "    \u001b[32m'GENEmeta_x'\u001b[0m,\n",
       "    \u001b[32m'Oligogenic variant combinations'\u001b[0m,\n",
       "    \u001b[32m'olida_id'\u001b[0m,\n",
       "    \u001b[32m'OLIDA ID'\u001b[0m,\n",
       "    \u001b[32m'Omim Id'\u001b[0m,\n",
       "    \u001b[32m'Diseases'\u001b[0m,\n",
       "    \u001b[32m'Oligogenic Effect'\u001b[0m,\n",
       "    \u001b[32m'Ethnicity'\u001b[0m,\n",
       "    \u001b[32m'References'\u001b[0m,\n",
       "    \u001b[32m'Associated Variants'\u001b[0m,\n",
       "    \u001b[32m'FAMmanual'\u001b[0m,\n",
       "    \u001b[32m'STATmanual'\u001b[0m,\n",
       "    \u001b[32m'STATknowledge'\u001b[0m,\n",
       "    \u001b[32m'STATmeta'\u001b[0m,\n",
       "    \u001b[32m'GENEmanual'\u001b[0m,\n",
       "    \u001b[32m'GENEmanual harmonized'\u001b[0m,\n",
       "    \u001b[32m'GENEknowledge'\u001b[0m,\n",
       "    \u001b[32m'GENEmeta_y'\u001b[0m,\n",
       "    \u001b[32m'VARmanual'\u001b[0m,\n",
       "    \u001b[32m'VARknowledge'\u001b[0m,\n",
       "    \u001b[32m'VARmeta'\u001b[0m,\n",
       "    \u001b[32m'FUNmanual'\u001b[0m,\n",
       "    \u001b[32m'FUNmeta'\u001b[0m,\n",
       "    \u001b[32m'FINALmanual'\u001b[0m,\n",
       "    \u001b[32m'FINALmeta'\u001b[0m,\n",
       "    \u001b[32m'gene_list'\u001b[0m,\n",
       "    \u001b[32m'gene_list_len'\u001b[0m,\n",
       "    \u001b[32m'gene_pairs'\u001b[0m,\n",
       "    \u001b[32m'Sample'\u001b[0m,\n",
       "    \u001b[32m'chromosome'\u001b[0m,\n",
       "    \u001b[32m'position'\u001b[0m,\n",
       "    \u001b[32m'ref'\u001b[0m,\n",
       "    \u001b[32m'alt'\u001b[0m,\n",
       "    \u001b[32m'wormbase_gene_id'\u001b[0m,\n",
       "    \u001b[32m'gene_start_position'\u001b[0m,\n",
       "    \u001b[32m'gene_end_position'\u001b[0m,\n",
       "    \u001b[32m'strain'\u001b[0m,\n",
       "    \u001b[32m'variant_id'\u001b[0m,\n",
       "    \u001b[32m'target_gene_id'\u001b[0m,\n",
       "    \u001b[32m'go_Resnik_max_similarity'\u001b[0m,\n",
       "    \u001b[32m'go_Resnik_BMA_similarity'\u001b[0m,\n",
       "    \u001b[32m'go_Resnik_avg_similarity'\u001b[0m,\n",
       "    \u001b[32m'go_Lin_max_similarity'\u001b[0m,\n",
       "    \u001b[32m'go_Lin_BMA_similarity'\u001b[0m,\n",
       "    \u001b[32m'go_Lin_avg_similarity'\u001b[0m,\n",
       "    \u001b[32m'go_Jiang-Conrath_max_similarity'\u001b[0m,\n",
       "    \u001b[32m'go_Jiang-Conrath_BMA_similarity'\u001b[0m,\n",
       "    \u001b[32m'go_Jiang-Conrath_avg_similarity'\u001b[0m,\n",
       "    \u001b[32m'go_SimRel_max_similarity'\u001b[0m,\n",
       "    \u001b[32m'go_SimRel_BMA_similarity'\u001b[0m,\n",
       "    \u001b[32m'go_SimRel_avg_similarity'\u001b[0m,\n",
       "    \u001b[32m'go_SimIC_max_similarity'\u001b[0m,\n",
       "    \u001b[32m'go_SimIC_BMA_similarity'\u001b[0m,\n",
       "    \u001b[32m'go_SimIC_avg_similarity'\u001b[0m,\n",
       "    \u001b[32m'go_G-SESAME_max_similarity'\u001b[0m,\n",
       "    \u001b[32m'go_G-SESAME_BMA_similarity'\u001b[0m,\n",
       "    \u001b[32m'go_G-SESAME_avg_similarity'\u001b[0m,\n",
       "    \u001b[32m'go_SimICND_max_similarity'\u001b[0m,\n",
       "    \u001b[32m'go_SimICND_BMA_similarity'\u001b[0m,\n",
       "    \u001b[32m'go_SimICND_avg_similarity'\u001b[0m,\n",
       "    \u001b[32m'go_SimICNP_max_similarity'\u001b[0m,\n",
       "    \u001b[32m'go_SimICNP_BMA_similarity'\u001b[0m,\n",
       "    \u001b[32m'go_SimICNP_avg_similarity'\u001b[0m,\n",
       "    \u001b[32m'wpo_Resnik_max_similarity'\u001b[0m,\n",
       "    \u001b[32m'wpo_Resnik_BMA_similarity'\u001b[0m,\n",
       "    \u001b[32m'wpo_Resnik_avg_similarity'\u001b[0m,\n",
       "    \u001b[32m'wpo_Lin_max_similarity'\u001b[0m,\n",
       "    \u001b[32m'wpo_Lin_BMA_similarity'\u001b[0m,\n",
       "    \u001b[32m'wpo_Lin_avg_similarity'\u001b[0m,\n",
       "    \u001b[32m'wpo_Jiang-Conrath_max_similarity'\u001b[0m,\n",
       "    \u001b[32m'wpo_Jiang-Conrath_BMA_similarity'\u001b[0m,\n",
       "    \u001b[32m'wpo_Jiang-Conrath_avg_similarity'\u001b[0m,\n",
       "    \u001b[32m'wpo_SimRel_max_similarity'\u001b[0m,\n",
       "    \u001b[32m'wpo_SimRel_BMA_similarity'\u001b[0m,\n",
       "    \u001b[32m'wpo_SimRel_avg_similarity'\u001b[0m,\n",
       "    \u001b[32m'wpo_SimIC_max_similarity'\u001b[0m,\n",
       "    \u001b[32m'wpo_SimIC_BMA_similarity'\u001b[0m,\n",
       "    \u001b[32m'wpo_SimIC_avg_similarity'\u001b[0m,\n",
       "    \u001b[32m'wpo_G-SESAME_max_similarity'\u001b[0m,\n",
       "    \u001b[32m'wpo_G-SESAME_BMA_similarity'\u001b[0m,\n",
       "    \u001b[32m'wpo_G-SESAME_avg_similarity'\u001b[0m,\n",
       "    \u001b[32m'wpo_SimICND_max_similarity'\u001b[0m,\n",
       "    \u001b[32m'wpo_SimICND_BMA_similarity'\u001b[0m,\n",
       "    \u001b[32m'wpo_SimICND_avg_similarity'\u001b[0m,\n",
       "    \u001b[32m'wpo_SimICNP_max_similarity'\u001b[0m,\n",
       "    \u001b[32m'wpo_SimICNP_BMA_similarity'\u001b[0m,\n",
       "    \u001b[32m'wpo_SimICNP_avg_similarity'\u001b[0m,\n",
       "    \u001b[32m'wpo_not_Resnik_max_similarity'\u001b[0m,\n",
       "    \u001b[32m'wpo_not_Resnik_BMA_similarity'\u001b[0m,\n",
       "    \u001b[32m'wpo_not_Resnik_avg_similarity'\u001b[0m,\n",
       "    \u001b[32m'wpo_not_Lin_max_similarity'\u001b[0m,\n",
       "    \u001b[32m'wpo_not_Lin_BMA_similarity'\u001b[0m,\n",
       "    \u001b[32m'wpo_not_Lin_avg_similarity'\u001b[0m,\n",
       "    \u001b[32m'wpo_not_Jiang-Conrath_max_similarity'\u001b[0m,\n",
       "    \u001b[32m'wpo_not_Jiang-Conrath_BMA_similarity'\u001b[0m,\n",
       "    \u001b[32m'wpo_not_Jiang-Conrath_avg_similarity'\u001b[0m,\n",
       "    \u001b[32m'wpo_not_SimRel_max_similarity'\u001b[0m,\n",
       "    \u001b[32m'wpo_not_SimRel_BMA_similarity'\u001b[0m,\n",
       "    \u001b[32m'wpo_not_SimRel_avg_similarity'\u001b[0m,\n",
       "    \u001b[32m'wpo_not_SimIC_max_similarity'\u001b[0m,\n",
       "    \u001b[32m'wpo_not_SimIC_BMA_similarity'\u001b[0m,\n",
       "    \u001b[32m'wpo_not_SimIC_avg_similarity'\u001b[0m,\n",
       "    \u001b[32m'wpo_not_G-SESAME_max_similarity'\u001b[0m,\n",
       "    \u001b[32m'wpo_not_G-SESAME_BMA_similarity'\u001b[0m,\n",
       "    \u001b[32m'wpo_not_G-SESAME_avg_similarity'\u001b[0m,\n",
       "    \u001b[32m'wpo_not_SimICND_max_similarity'\u001b[0m,\n",
       "    \u001b[32m'wpo_not_SimICND_BMA_similarity'\u001b[0m,\n",
       "    \u001b[32m'wpo_not_SimICND_avg_similarity'\u001b[0m,\n",
       "    \u001b[32m'wpo_not_SimICNP_max_similarity'\u001b[0m,\n",
       "    \u001b[32m'wpo_not_SimICNP_BMA_similarity'\u001b[0m,\n",
       "    \u001b[32m'wpo_not_SimICNP_avg_similarity'\u001b[0m,\n",
       "    \u001b[32m'protein1'\u001b[0m,\n",
       "    \u001b[32m'protein2'\u001b[0m,\n",
       "    \u001b[32m'neighborhood'\u001b[0m,\n",
       "    \u001b[32m'neighborhood_transferred'\u001b[0m,\n",
       "    \u001b[32m'fusion'\u001b[0m,\n",
       "    \u001b[32m'cooccurence'\u001b[0m,\n",
       "    \u001b[32m'homology'\u001b[0m,\n",
       "    \u001b[32m'coexpression'\u001b[0m,\n",
       "    \u001b[32m'coexpression_transferred'\u001b[0m,\n",
       "    \u001b[32m'experiments'\u001b[0m,\n",
       "    \u001b[32m'experiments_transferred'\u001b[0m,\n",
       "    \u001b[32m'database'\u001b[0m,\n",
       "    \u001b[32m'database_transferred'\u001b[0m,\n",
       "    \u001b[32m'textmining'\u001b[0m,\n",
       "    \u001b[32m'textmining_transferred'\u001b[0m,\n",
       "    \u001b[32m'combined_score'\u001b[0m,\n",
       "    \u001b[32m'go_n_common_ancestors_max'\u001b[0m,\n",
       "    \u001b[32m'go_n_common_ancestors_avg'\u001b[0m,\n",
       "    \u001b[32m'go_n_common_ancestors_bma'\u001b[0m,\n",
       "    \u001b[32m'go_n_union_ancestors_max'\u001b[0m,\n",
       "    \u001b[32m'go_n_union_ancestors_avg'\u001b[0m,\n",
       "    \u001b[32m'go_n_union_ancestors_bma'\u001b[0m,\n",
       "    \u001b[32m'go_batet_max'\u001b[0m,\n",
       "    \u001b[32m'go_batet_avg'\u001b[0m,\n",
       "    \u001b[32m'go_batet_bma'\u001b[0m,\n",
       "    \u001b[32m'go_batet_log_max'\u001b[0m,\n",
       "    \u001b[32m'go_batet_log_avg'\u001b[0m,\n",
       "    \u001b[32m'go_batet_log_bma'\u001b[0m,\n",
       "    \u001b[32m'go_resnik_max'\u001b[0m,\n",
       "    \u001b[32m'go_resnik_avg'\u001b[0m,\n",
       "    \u001b[32m'go_resnik_bma'\u001b[0m,\n",
       "    \u001b[32m'go_resnik_scaled_max'\u001b[0m,\n",
       "    \u001b[32m'go_resnik_scaled_avg'\u001b[0m,\n",
       "    \u001b[32m'go_resnik_scaled_bma'\u001b[0m,\n",
       "    \u001b[32m'go_lin_max'\u001b[0m,\n",
       "    \u001b[32m'go_lin_avg'\u001b[0m,\n",
       "    \u001b[32m'go_lin_bma'\u001b[0m,\n",
       "    \u001b[32m'go_jiang_max'\u001b[0m,\n",
       "    \u001b[32m'go_jiang_avg'\u001b[0m,\n",
       "    \u001b[32m'go_jiang_bma'\u001b[0m,\n",
       "    \u001b[32m'go_jiang_seco_max'\u001b[0m,\n",
       "    \u001b[32m'go_jiang_seco_avg'\u001b[0m,\n",
       "    \u001b[32m'go_jiang_seco_bma'\u001b[0m,\n",
       "    \u001b[32m'wpo_n_common_ancestors_max'\u001b[0m,\n",
       "    \u001b[32m'wpo_n_common_ancestors_avg'\u001b[0m,\n",
       "    \u001b[32m'wpo_n_common_ancestors_bma'\u001b[0m,\n",
       "    \u001b[32m'wpo_n_union_ancestors_max'\u001b[0m,\n",
       "    \u001b[32m'wpo_n_union_ancestors_avg'\u001b[0m,\n",
       "    \u001b[32m'wpo_n_union_ancestors_bma'\u001b[0m,\n",
       "    \u001b[32m'wpo_batet_max'\u001b[0m,\n",
       "    \u001b[32m'wpo_batet_avg'\u001b[0m,\n",
       "    \u001b[32m'wpo_batet_bma'\u001b[0m,\n",
       "    \u001b[32m'wpo_batet_log_max'\u001b[0m,\n",
       "    \u001b[32m'wpo_batet_log_avg'\u001b[0m,\n",
       "    \u001b[32m'wpo_batet_log_bma'\u001b[0m,\n",
       "    \u001b[32m'wpo_resnik_max'\u001b[0m,\n",
       "    \u001b[32m'wpo_resnik_avg'\u001b[0m,\n",
       "    \u001b[32m'wpo_resnik_bma'\u001b[0m,\n",
       "    \u001b[32m'wpo_resnik_scaled_max'\u001b[0m,\n",
       "    \u001b[32m'wpo_resnik_scaled_avg'\u001b[0m,\n",
       "    \u001b[32m'wpo_resnik_scaled_bma'\u001b[0m,\n",
       "    \u001b[32m'wpo_lin_max'\u001b[0m,\n",
       "    \u001b[32m'wpo_lin_avg'\u001b[0m,\n",
       "    \u001b[32m'wpo_lin_bma'\u001b[0m,\n",
       "    \u001b[32m'wpo_jiang_max'\u001b[0m,\n",
       "    \u001b[32m'wpo_jiang_avg'\u001b[0m,\n",
       "    \u001b[32m'wpo_jiang_bma'\u001b[0m,\n",
       "    \u001b[32m'wpo_jiang_seco_max'\u001b[0m,\n",
       "    \u001b[32m'wpo_jiang_seco_avg'\u001b[0m,\n",
       "    \u001b[32m'wpo_jiang_seco_bma'\u001b[0m\n",
       "\u001b[1m]\u001b[0m"
      ]
     },
     "execution_count": 8,
     "metadata": {},
     "output_type": "execute_result"
    }
   ],
   "source": [
    "list(dataset_df.columns)"
   ]
  },
  {
   "cell_type": "code",
   "execution_count": 9,
   "metadata": {},
   "outputs": [
    {
     "data": {
      "text/html": [
       "<pre style=\"white-space:pre;overflow-x:auto;line-height:normal;font-family:Menlo,'DejaVu Sans Mono',consolas,'Courier New',monospace\"></pre>\n"
      ],
      "text/plain": []
     },
     "metadata": {},
     "output_type": "display_data"
    },
    {
     "data": {
      "text/html": [
       "<div>\n",
       "<style scoped>\n",
       "    .dataframe tbody tr th:only-of-type {\n",
       "        vertical-align: middle;\n",
       "    }\n",
       "\n",
       "    .dataframe tbody tr th {\n",
       "        vertical-align: top;\n",
       "    }\n",
       "\n",
       "    .dataframe thead th {\n",
       "        text-align: right;\n",
       "    }\n",
       "</style>\n",
       "<table border=\"1\" class=\"dataframe\">\n",
       "  <thead>\n",
       "    <tr style=\"text-align: right;\">\n",
       "      <th></th>\n",
       "      <th>target_GOs</th>\n",
       "      <th>modifier_GOs</th>\n",
       "    </tr>\n",
       "  </thead>\n",
       "  <tbody>\n",
       "    <tr>\n",
       "      <th>1</th>\n",
       "      <td>GO:0005080,GO:0005200,GO:0005516,GO:0007010,GO...</td>\n",
       "      <td>GO:0000977,GO:0003682,GO:0003712,GO:0003712,GO...</td>\n",
       "    </tr>\n",
       "    <tr>\n",
       "      <th>3</th>\n",
       "      <td>GO:0071407,GO:0004497,GO:0004497,GO:0004497,GO...</td>\n",
       "      <td>GO:0051897,GO:0070374,GO:0001725,GO:0005884,GO...</td>\n",
       "    </tr>\n",
       "    <tr>\n",
       "      <th>4</th>\n",
       "      <td>GO:0005243,GO:0005243,GO:0005509,GO:0005515,GO...</td>\n",
       "      <td>GO:0006883,GO:0004252,GO:0004252,GO:0017080,GO...</td>\n",
       "    </tr>\n",
       "    <tr>\n",
       "      <th>6</th>\n",
       "      <td>GO:0005515,GO:0005515,GO:0005515,GO:0005515,GO...</td>\n",
       "      <td>GO:0002153,GO:0002153,GO:0006357,GO:1990904,GO...</td>\n",
       "    </tr>\n",
       "    <tr>\n",
       "      <th>10</th>\n",
       "      <td>GO:0003779,GO:0005515,GO:0005515,GO:0005515,GO...</td>\n",
       "      <td>GO:0003723,GO:0005164,GO:0005515,GO:0005515,GO...</td>\n",
       "    </tr>\n",
       "    <tr>\n",
       "      <th>...</th>\n",
       "      <td>...</td>\n",
       "      <td>...</td>\n",
       "    </tr>\n",
       "    <tr>\n",
       "      <th>129</th>\n",
       "      <td>GO:0005524,GO:0016887,GO:0120020,GO:0005515,GO...</td>\n",
       "      <td>GO:0003723,GO:0004252,GO:0005515,GO:0005515,GO...</td>\n",
       "    </tr>\n",
       "    <tr>\n",
       "      <th>130</th>\n",
       "      <td>GO:0001540,GO:0001540,GO:0001540,GO:0005041,GO...</td>\n",
       "      <td>GO:0003723,GO:0004252,GO:0005515,GO:0005515,GO...</td>\n",
       "    </tr>\n",
       "    <tr>\n",
       "      <th>135</th>\n",
       "      <td>GO:0000122,GO:0010628,GO:0010628,GO:0010628,GO...</td>\n",
       "      <td>GO:0000976,GO:0003682,GO:0005515,GO:0005515,GO...</td>\n",
       "    </tr>\n",
       "    <tr>\n",
       "      <th>136</th>\n",
       "      <td>GO:0030509,GO:0005179,GO:0005515,GO:0005515,GO...</td>\n",
       "      <td>GO:0003677,GO:0003714,GO:0005515,GO:0005515,GO...</td>\n",
       "    </tr>\n",
       "    <tr>\n",
       "      <th>139</th>\n",
       "      <td>GO:0005802,GO:0005802,GO:0016323,GO:0031410,GO...</td>\n",
       "      <td>GO:0016328,GO:0002162,GO:0002162,GO:0003779,GO...</td>\n",
       "    </tr>\n",
       "  </tbody>\n",
       "</table>\n",
       "<p>75 rows × 2 columns</p>\n",
       "</div>"
      ],
      "text/plain": [
       "\n",
       "                                            target_GOs  \\\n",
       "\u001b[1;36m1\u001b[0m    GO:\u001b[1;36m0005080\u001b[0m,GO:\u001b[1;36m0005200\u001b[0m,GO:\u001b[1;36m0005516\u001b[0m,GO:\u001b[1;36m0007010\u001b[0m,GO\u001b[33m...\u001b[0m   \n",
       "\u001b[1;36m3\u001b[0m    GO:\u001b[1;36m0071407\u001b[0m,GO:\u001b[1;36m0004497\u001b[0m,GO:\u001b[1;36m0004497\u001b[0m,GO:\u001b[1;36m0004497\u001b[0m,GO\u001b[33m...\u001b[0m   \n",
       "\u001b[1;36m4\u001b[0m    GO:\u001b[1;36m0005243\u001b[0m,GO:\u001b[1;36m0005243\u001b[0m,GO:\u001b[1;36m0005509\u001b[0m,GO:\u001b[1;36m0005515\u001b[0m,GO\u001b[33m...\u001b[0m   \n",
       "\u001b[1;36m6\u001b[0m    GO:\u001b[1;36m0005515\u001b[0m,GO:\u001b[1;36m0005515\u001b[0m,GO:\u001b[1;36m0005515\u001b[0m,GO:\u001b[1;36m0005515\u001b[0m,GO\u001b[33m...\u001b[0m   \n",
       "\u001b[1;36m10\u001b[0m   GO:\u001b[1;36m0003779\u001b[0m,GO:\u001b[1;36m0005515\u001b[0m,GO:\u001b[1;36m0005515\u001b[0m,GO:\u001b[1;36m0005515\u001b[0m,GO\u001b[33m...\u001b[0m   \n",
       "..                                                 \u001b[33m...\u001b[0m   \n",
       "\u001b[1;36m129\u001b[0m  GO:\u001b[1;36m0005524\u001b[0m,GO:\u001b[1;36m0016887\u001b[0m,GO:\u001b[1;36m0120020\u001b[0m,GO:\u001b[1;36m0005515\u001b[0m,GO\u001b[33m...\u001b[0m   \n",
       "\u001b[1;36m130\u001b[0m  GO:\u001b[1;36m0001540\u001b[0m,GO:\u001b[1;36m0001540\u001b[0m,GO:\u001b[1;36m0001540\u001b[0m,GO:\u001b[1;36m0005041\u001b[0m,GO\u001b[33m...\u001b[0m   \n",
       "\u001b[1;36m135\u001b[0m  GO:\u001b[1;36m0000122\u001b[0m,GO:\u001b[1;36m0010628\u001b[0m,GO:\u001b[1;36m0010628\u001b[0m,GO:\u001b[1;36m0010628\u001b[0m,GO\u001b[33m...\u001b[0m   \n",
       "\u001b[1;36m136\u001b[0m  GO:\u001b[1;36m0030509\u001b[0m,GO:\u001b[1;36m0005179\u001b[0m,GO:\u001b[1;36m0005515\u001b[0m,GO:\u001b[1;36m0005515\u001b[0m,GO\u001b[33m...\u001b[0m   \n",
       "\u001b[1;36m139\u001b[0m  GO:\u001b[1;36m0005802\u001b[0m,GO:\u001b[1;36m0005802\u001b[0m,GO:\u001b[1;36m0016323\u001b[0m,GO:\u001b[1;36m0031410\u001b[0m,GO\u001b[33m...\u001b[0m   \n",
       "\n",
       "                                          modifier_GOs  \n",
       "\u001b[1;36m1\u001b[0m    GO:\u001b[1;36m0000977\u001b[0m,GO:\u001b[1;36m0003682\u001b[0m,GO:\u001b[1;36m0003712\u001b[0m,GO:\u001b[1;36m0003712\u001b[0m,GO\u001b[33m...\u001b[0m  \n",
       "\u001b[1;36m3\u001b[0m    GO:\u001b[1;36m0051897\u001b[0m,GO:\u001b[1;36m0070374\u001b[0m,GO:\u001b[1;36m0001725\u001b[0m,GO:\u001b[1;36m0005884\u001b[0m,GO\u001b[33m...\u001b[0m  \n",
       "\u001b[1;36m4\u001b[0m    GO:\u001b[1;36m0006883\u001b[0m,GO:\u001b[1;36m0004252\u001b[0m,GO:\u001b[1;36m0004252\u001b[0m,GO:\u001b[1;36m0017080\u001b[0m,GO\u001b[33m...\u001b[0m  \n",
       "\u001b[1;36m6\u001b[0m    GO:\u001b[1;36m0002153\u001b[0m,GO:\u001b[1;36m0002153\u001b[0m,GO:\u001b[1;36m0006357\u001b[0m,GO:\u001b[1;36m1990904\u001b[0m,GO\u001b[33m...\u001b[0m  \n",
       "\u001b[1;36m10\u001b[0m   GO:\u001b[1;36m0003723\u001b[0m,GO:\u001b[1;36m0005164\u001b[0m,GO:\u001b[1;36m0005515\u001b[0m,GO:\u001b[1;36m0005515\u001b[0m,GO\u001b[33m...\u001b[0m  \n",
       "..                                                 \u001b[33m...\u001b[0m  \n",
       "\u001b[1;36m129\u001b[0m  GO:\u001b[1;36m0003723\u001b[0m,GO:\u001b[1;36m0004252\u001b[0m,GO:\u001b[1;36m0005515\u001b[0m,GO:\u001b[1;36m0005515\u001b[0m,GO\u001b[33m...\u001b[0m  \n",
       "\u001b[1;36m130\u001b[0m  GO:\u001b[1;36m0003723\u001b[0m,GO:\u001b[1;36m0004252\u001b[0m,GO:\u001b[1;36m0005515\u001b[0m,GO:\u001b[1;36m0005515\u001b[0m,GO\u001b[33m...\u001b[0m  \n",
       "\u001b[1;36m135\u001b[0m  GO:\u001b[1;36m0000976\u001b[0m,GO:\u001b[1;36m0003682\u001b[0m,GO:\u001b[1;36m0005515\u001b[0m,GO:\u001b[1;36m0005515\u001b[0m,GO\u001b[33m...\u001b[0m  \n",
       "\u001b[1;36m136\u001b[0m  GO:\u001b[1;36m0003677\u001b[0m,GO:\u001b[1;36m0003714\u001b[0m,GO:\u001b[1;36m0005515\u001b[0m,GO:\u001b[1;36m0005515\u001b[0m,GO\u001b[33m...\u001b[0m  \n",
       "\u001b[1;36m139\u001b[0m  GO:\u001b[1;36m0016328\u001b[0m,GO:\u001b[1;36m0002162\u001b[0m,GO:\u001b[1;36m0002162\u001b[0m,GO:\u001b[1;36m0003779\u001b[0m,GO\u001b[33m...\u001b[0m  \n",
       "\n",
       "\u001b[1m[\u001b[0m\u001b[1;36m75\u001b[0m rows x \u001b[1;36m2\u001b[0m columns\u001b[1m]\u001b[0m"
      ]
     },
     "execution_count": 9,
     "metadata": {},
     "output_type": "execute_result"
    }
   ],
   "source": [
    "olida[['target_GOs','modifier_GOs']]"
   ]
  },
  {
   "cell_type": "code",
   "execution_count": 10,
   "metadata": {},
   "outputs": [
    {
     "data": {
      "text/html": [
       "<pre style=\"white-space:pre;overflow-x:auto;line-height:normal;font-family:Menlo,'DejaVu Sans Mono',consolas,'Courier New',monospace\"></pre>\n"
      ],
      "text/plain": []
     },
     "metadata": {},
     "output_type": "display_data"
    },
    {
     "data": {
      "text/html": [
       "<div>\n",
       "<style scoped>\n",
       "    .dataframe tbody tr th:only-of-type {\n",
       "        vertical-align: middle;\n",
       "    }\n",
       "\n",
       "    .dataframe tbody tr th {\n",
       "        vertical-align: top;\n",
       "    }\n",
       "\n",
       "    .dataframe thead th {\n",
       "        text-align: right;\n",
       "    }\n",
       "</style>\n",
       "<table border=\"1\" class=\"dataframe\">\n",
       "  <thead>\n",
       "    <tr style=\"text-align: right;\">\n",
       "      <th></th>\n",
       "      <th>source</th>\n",
       "      <th>target_gene</th>\n",
       "      <th>modifier_gene</th>\n",
       "      <th>is_modifier</th>\n",
       "      <th>PubmedID</th>\n",
       "      <th>Category</th>\n",
       "      <th>Tissue</th>\n",
       "      <th>QueryFunction</th>\n",
       "      <th>QueryMutation</th>\n",
       "      <th>QueryType</th>\n",
       "      <th>...</th>\n",
       "      <th>wpo_resnik_scaled_bma</th>\n",
       "      <th>wpo_lin_max</th>\n",
       "      <th>wpo_lin_avg</th>\n",
       "      <th>wpo_lin_bma</th>\n",
       "      <th>wpo_jiang_max</th>\n",
       "      <th>wpo_jiang_avg</th>\n",
       "      <th>wpo_jiang_bma</th>\n",
       "      <th>wpo_jiang_seco_max</th>\n",
       "      <th>wpo_jiang_seco_avg</th>\n",
       "      <th>wpo_jiang_seco_bma</th>\n",
       "    </tr>\n",
       "  </thead>\n",
       "  <tbody>\n",
       "    <tr>\n",
       "      <th>0</th>\n",
       "      <td>JVL</td>\n",
       "      <td>APOE</td>\n",
       "      <td>CASP7</td>\n",
       "      <td>1.0</td>\n",
       "      <td>27358062.0</td>\n",
       "      <td>Patients</td>\n",
       "      <td>Neuron</td>\n",
       "      <td>Lipid and sterol biosynthesis &amp; transport</td>\n",
       "      <td>C112R/C112R</td>\n",
       "      <td>-</td>\n",
       "      <td>...</td>\n",
       "      <td>NaN</td>\n",
       "      <td>NaN</td>\n",
       "      <td>NaN</td>\n",
       "      <td>NaN</td>\n",
       "      <td>NaN</td>\n",
       "      <td>NaN</td>\n",
       "      <td>NaN</td>\n",
       "      <td>NaN</td>\n",
       "      <td>NaN</td>\n",
       "      <td>NaN</td>\n",
       "    </tr>\n",
       "    <tr>\n",
       "      <th>1</th>\n",
       "      <td>JVL</td>\n",
       "      <td>APOE</td>\n",
       "      <td>HBB</td>\n",
       "      <td>1.0</td>\n",
       "      <td>24116184.0</td>\n",
       "      <td>Patients</td>\n",
       "      <td>-</td>\n",
       "      <td>Lipid and sterol biosynthesis &amp; transport</td>\n",
       "      <td>C112R/?</td>\n",
       "      <td>-</td>\n",
       "      <td>...</td>\n",
       "      <td>NaN</td>\n",
       "      <td>NaN</td>\n",
       "      <td>NaN</td>\n",
       "      <td>NaN</td>\n",
       "      <td>NaN</td>\n",
       "      <td>NaN</td>\n",
       "      <td>NaN</td>\n",
       "      <td>NaN</td>\n",
       "      <td>NaN</td>\n",
       "      <td>NaN</td>\n",
       "    </tr>\n",
       "    <tr>\n",
       "      <th>2</th>\n",
       "      <td>JVL</td>\n",
       "      <td>APOE</td>\n",
       "      <td>KL</td>\n",
       "      <td>1.0</td>\n",
       "      <td>30867273.0</td>\n",
       "      <td>Patients</td>\n",
       "      <td>Neuron</td>\n",
       "      <td>Lipid and sterol biosynthesis &amp; transport</td>\n",
       "      <td>C112R/?</td>\n",
       "      <td>-</td>\n",
       "      <td>...</td>\n",
       "      <td>NaN</td>\n",
       "      <td>NaN</td>\n",
       "      <td>NaN</td>\n",
       "      <td>NaN</td>\n",
       "      <td>NaN</td>\n",
       "      <td>NaN</td>\n",
       "      <td>NaN</td>\n",
       "      <td>NaN</td>\n",
       "      <td>NaN</td>\n",
       "      <td>NaN</td>\n",
       "    </tr>\n",
       "    <tr>\n",
       "      <th>3</th>\n",
       "      <td>JVL</td>\n",
       "      <td>APOE</td>\n",
       "      <td>KL</td>\n",
       "      <td>1.0</td>\n",
       "      <td>32282020.0</td>\n",
       "      <td>Patients</td>\n",
       "      <td>Neuron</td>\n",
       "      <td>Lipid and sterol biosynthesis &amp; transport</td>\n",
       "      <td>C112R/?</td>\n",
       "      <td>-</td>\n",
       "      <td>...</td>\n",
       "      <td>NaN</td>\n",
       "      <td>NaN</td>\n",
       "      <td>NaN</td>\n",
       "      <td>NaN</td>\n",
       "      <td>NaN</td>\n",
       "      <td>NaN</td>\n",
       "      <td>NaN</td>\n",
       "      <td>NaN</td>\n",
       "      <td>NaN</td>\n",
       "      <td>NaN</td>\n",
       "    </tr>\n",
       "    <tr>\n",
       "      <th>4</th>\n",
       "      <td>JVL</td>\n",
       "      <td>ATR</td>\n",
       "      <td>ETV1</td>\n",
       "      <td>1.0</td>\n",
       "      <td>23284306.0</td>\n",
       "      <td>Cells</td>\n",
       "      <td>-</td>\n",
       "      <td>DNA replication and repair;Signaling &amp; stress ...</td>\n",
       "      <td>silencing/silencing</td>\n",
       "      <td>LOF</td>\n",
       "      <td>...</td>\n",
       "      <td>NaN</td>\n",
       "      <td>NaN</td>\n",
       "      <td>NaN</td>\n",
       "      <td>NaN</td>\n",
       "      <td>NaN</td>\n",
       "      <td>NaN</td>\n",
       "      <td>NaN</td>\n",
       "      <td>NaN</td>\n",
       "      <td>NaN</td>\n",
       "      <td>NaN</td>\n",
       "    </tr>\n",
       "  </tbody>\n",
       "</table>\n",
       "<p>5 rows × 218 columns</p>\n",
       "</div>"
      ],
      "text/plain": [
       "\n",
       "  source target_gene modifier_gene  is_modifier    PubmedID  Category  Tissue  \\\n",
       "\u001b[1;36m0\u001b[0m    JVL        APOE         CASP7          \u001b[1;36m1.0\u001b[0m  \u001b[1;36m27358062.0\u001b[0m  Patients  Neuron   \n",
       "\u001b[1;36m1\u001b[0m    JVL        APOE           HBB          \u001b[1;36m1.0\u001b[0m  \u001b[1;36m24116184.0\u001b[0m  Patients       -   \n",
       "\u001b[1;36m2\u001b[0m    JVL        APOE            KL          \u001b[1;36m1.0\u001b[0m  \u001b[1;36m30867273.0\u001b[0m  Patients  Neuron   \n",
       "\u001b[1;36m3\u001b[0m    JVL        APOE            KL          \u001b[1;36m1.0\u001b[0m  \u001b[1;36m32282020.0\u001b[0m  Patients  Neuron   \n",
       "\u001b[1;36m4\u001b[0m    JVL         ATR          ETV1          \u001b[1;36m1.0\u001b[0m  \u001b[1;36m23284306.0\u001b[0m     Cells       -   \n",
       "\n",
       "                                       QueryFunction        QueryMutation  \\\n",
       "\u001b[1;36m0\u001b[0m          Lipid and sterol biosynthesis & transport          C112R/C112R   \n",
       "\u001b[1;36m1\u001b[0m          Lipid and sterol biosynthesis & transport              C112R/?   \n",
       "\u001b[1;36m2\u001b[0m          Lipid and sterol biosynthesis & transport              C112R/?   \n",
       "\u001b[1;36m3\u001b[0m          Lipid and sterol biosynthesis & transport              C112R/?   \n",
       "\u001b[1;36m4\u001b[0m  DNA replication and repair;Signaling & stress \u001b[33m...\u001b[0m  silencing/silencing   \n",
       "\n",
       "  QueryType  \u001b[33m...\u001b[0m wpo_resnik_scaled_bma wpo_lin_max wpo_lin_avg wpo_lin_bma  \\\n",
       "\u001b[1;36m0\u001b[0m         -  \u001b[33m...\u001b[0m                   NaN         NaN         NaN         NaN   \n",
       "\u001b[1;36m1\u001b[0m         -  \u001b[33m...\u001b[0m                   NaN         NaN         NaN         NaN   \n",
       "\u001b[1;36m2\u001b[0m         -  \u001b[33m...\u001b[0m                   NaN         NaN         NaN         NaN   \n",
       "\u001b[1;36m3\u001b[0m         -  \u001b[33m...\u001b[0m                   NaN         NaN         NaN         NaN   \n",
       "\u001b[1;36m4\u001b[0m       LOF  \u001b[33m...\u001b[0m                   NaN         NaN         NaN         NaN   \n",
       "\n",
       "  wpo_jiang_max wpo_jiang_avg wpo_jiang_bma wpo_jiang_seco_max  \\\n",
       "\u001b[1;36m0\u001b[0m           NaN           NaN           NaN                NaN   \n",
       "\u001b[1;36m1\u001b[0m           NaN           NaN           NaN                NaN   \n",
       "\u001b[1;36m2\u001b[0m           NaN           NaN           NaN                NaN   \n",
       "\u001b[1;36m3\u001b[0m           NaN           NaN           NaN                NaN   \n",
       "\u001b[1;36m4\u001b[0m           NaN           NaN           NaN                NaN   \n",
       "\n",
       "  wpo_jiang_seco_avg wpo_jiang_seco_bma  \n",
       "\u001b[1;36m0\u001b[0m                NaN                NaN  \n",
       "\u001b[1;36m1\u001b[0m                NaN                NaN  \n",
       "\u001b[1;36m2\u001b[0m                NaN                NaN  \n",
       "\u001b[1;36m3\u001b[0m                NaN                NaN  \n",
       "\u001b[1;36m4\u001b[0m                NaN                NaN  \n",
       "\n",
       "\u001b[1m[\u001b[0m\u001b[1;36m5\u001b[0m rows x \u001b[1;36m218\u001b[0m columns\u001b[1m]\u001b[0m"
      ]
     },
     "execution_count": 10,
     "metadata": {},
     "output_type": "execute_result"
    }
   ],
   "source": [
    "# Reordering important columns\n",
    "desired_first_columns = ['source', 'target_gene', 'modifier_gene', 'is_modifier'] \n",
    "remaining_columns = [col for col in dataset_df.columns if col not in desired_first_columns]\n",
    "new_column_order = desired_first_columns + remaining_columns\n",
    "dataset_df = dataset_df[new_column_order]\n",
    "dataset_df.head()\n"
   ]
  },
  {
   "cell_type": "markdown",
   "metadata": {},
   "source": [
    "Loading Monarch KG"
   ]
  },
  {
   "cell_type": "code",
   "execution_count": 11,
   "metadata": {},
   "outputs": [
    {
     "data": {
      "text/html": [
       "<pre style=\"white-space:pre;overflow-x:auto;line-height:normal;font-family:Menlo,'DejaVu Sans Mono',consolas,'Courier New',monospace\"><span style=\"color: #7fbfbf; text-decoration-color: #7fbfbf\">[01/19/24 00:42:37] </span><span style=\"color: #000080; text-decoration-color: #000080\">INFO    </span> Loading data from <span style=\"color: #008000; text-decoration-color: #008000\">'monarch_nodes_sample'</span> <span style=\"font-weight: bold\">(</span>DaskDataFrameDataSet<span style=\"font-weight: bold\">)</span><span style=\"color: #808000; text-decoration-color: #808000\">...</span> <a href=\"file://C:\\Users\\Tahsin\\miniconda3\\envs\\modspy\\lib\\site-packages\\kedro\\io\\data_catalog.py\" target=\"_blank\"><span style=\"color: #7f7f7f; text-decoration-color: #7f7f7f\">data_catalog.py</span></a><span style=\"color: #7f7f7f; text-decoration-color: #7f7f7f\">:</span><a href=\"file://C:\\Users\\Tahsin\\miniconda3\\envs\\modspy\\lib\\site-packages\\kedro\\io\\data_catalog.py#502\" target=\"_blank\"><span style=\"color: #7f7f7f; text-decoration-color: #7f7f7f\">502</span></a>\n",
       "</pre>\n"
      ],
      "text/plain": [
       "\u001b[2;36m[01/19/24 00:42:37]\u001b[0m\u001b[2;36m \u001b[0m\u001b[34mINFO    \u001b[0m Loading data from \u001b[32m'monarch_nodes_sample'\u001b[0m \u001b[1m(\u001b[0mDaskDataFrameDataSet\u001b[1m)\u001b[0m\u001b[33m...\u001b[0m \u001b]8;id=633119;file://C:\\Users\\Tahsin\\miniconda3\\envs\\modspy\\lib\\site-packages\\kedro\\io\\data_catalog.py\u001b\\\u001b[2mdata_catalog.py\u001b[0m\u001b]8;;\u001b\\\u001b[2m:\u001b[0m\u001b]8;id=887223;file://C:\\Users\\Tahsin\\miniconda3\\envs\\modspy\\lib\\site-packages\\kedro\\io\\data_catalog.py#502\u001b\\\u001b[2m502\u001b[0m\u001b]8;;\u001b\\\n"
      ]
     },
     "metadata": {},
     "output_type": "display_data"
    },
    {
     "data": {
      "text/html": [
       "<pre style=\"white-space:pre;overflow-x:auto;line-height:normal;font-family:Menlo,'DejaVu Sans Mono',consolas,'Courier New',monospace\"><span style=\"color: #7fbfbf; text-decoration-color: #7fbfbf\">                    </span><span style=\"color: #000080; text-decoration-color: #000080\">INFO    </span> Loading data from <span style=\"color: #008000; text-decoration-color: #008000\">'monarch_nodes_sample'</span> <span style=\"font-weight: bold\">(</span>DaskDataFrameDataSet<span style=\"font-weight: bold\">)</span><span style=\"color: #808000; text-decoration-color: #808000\">...</span> <a href=\"file://C:\\Users\\Tahsin\\miniconda3\\envs\\modspy\\lib\\site-packages\\kedro\\io\\data_catalog.py\" target=\"_blank\"><span style=\"color: #7f7f7f; text-decoration-color: #7f7f7f\">data_catalog.py</span></a><span style=\"color: #7f7f7f; text-decoration-color: #7f7f7f\">:</span><a href=\"file://C:\\Users\\Tahsin\\miniconda3\\envs\\modspy\\lib\\site-packages\\kedro\\io\\data_catalog.py#502\" target=\"_blank\"><span style=\"color: #7f7f7f; text-decoration-color: #7f7f7f\">502</span></a>\n",
       "</pre>\n"
      ],
      "text/plain": [
       "\u001b[2;36m                   \u001b[0m\u001b[2;36m \u001b[0m\u001b[34mINFO    \u001b[0m Loading data from \u001b[32m'monarch_nodes_sample'\u001b[0m \u001b[1m(\u001b[0mDaskDataFrameDataSet\u001b[1m)\u001b[0m\u001b[33m...\u001b[0m \u001b]8;id=856002;file://C:\\Users\\Tahsin\\miniconda3\\envs\\modspy\\lib\\site-packages\\kedro\\io\\data_catalog.py\u001b\\\u001b[2mdata_catalog.py\u001b[0m\u001b]8;;\u001b\\\u001b[2m:\u001b[0m\u001b]8;id=656976;file://C:\\Users\\Tahsin\\miniconda3\\envs\\modspy\\lib\\site-packages\\kedro\\io\\data_catalog.py#502\u001b\\\u001b[2m502\u001b[0m\u001b]8;;\u001b\\\n"
      ]
     },
     "metadata": {},
     "output_type": "display_data"
    }
   ],
   "source": [
    "nodes_ddf = catalog.load('monarch_nodes_sample')"
   ]
  },
  {
   "cell_type": "code",
   "execution_count": 12,
   "metadata": {},
   "outputs": [
    {
     "data": {
      "text/html": [
       "<pre style=\"white-space:pre;overflow-x:auto;line-height:normal;font-family:Menlo,'DejaVu Sans Mono',consolas,'Courier New',monospace\"></pre>\n"
      ],
      "text/plain": []
     },
     "metadata": {},
     "output_type": "display_data"
    },
    {
     "data": {
      "text/plain": [
       "\u001b[1m(\u001b[0m\u001b[1;36m5773\u001b[0m,\u001b[1m)\u001b[0m"
      ]
     },
     "execution_count": 12,
     "metadata": {},
     "output_type": "execute_result"
    }
   ],
   "source": [
    "# List of genes from ModSpy dataset\n",
    "all_genes = np.union1d(dataset_df['target_gene'], dataset_df['modifier_gene'])\n",
    "all_genes.shape "
   ]
  },
  {
   "cell_type": "code",
   "execution_count": 13,
   "metadata": {},
   "outputs": [],
   "source": [
    "ndf = nodes_ddf.dropna(subset=['symbol', 'in_taxon'], how='any')    # Dropping rows with missing values"
   ]
  },
  {
   "cell_type": "code",
   "execution_count": 14,
   "metadata": {},
   "outputs": [],
   "source": [
    "# Select nodes (of Monarch KG) that are in ModeSpy dataset\n",
    "# Human and Worm genes\n",
    "selected_nodes = ndf[((ndf['in_taxon']=='NCBITaxon:9606')|(ndf['in_taxon']=='NCBITaxon:6239')) & (ndf['symbol'].isin(all_genes))] "
   ]
  },
  {
   "cell_type": "code",
   "execution_count": 15,
   "metadata": {},
   "outputs": [],
   "source": [
    "sel_nodes = selected_nodes.compute()"
   ]
  },
  {
   "cell_type": "code",
   "execution_count": 16,
   "metadata": {},
   "outputs": [
    {
     "data": {
      "text/html": [
       "<pre style=\"white-space:pre;overflow-x:auto;line-height:normal;font-family:Menlo,'DejaVu Sans Mono',consolas,'Courier New',monospace\"></pre>\n"
      ],
      "text/plain": []
     },
     "metadata": {},
     "output_type": "display_data"
    },
    {
     "data": {
      "text/plain": [
       "\u001b[1m(\u001b[0m\u001b[1;36m460\u001b[0m, \u001b[1;36m16\u001b[0m\u001b[1m)\u001b[0m"
      ]
     },
     "execution_count": 16,
     "metadata": {},
     "output_type": "execute_result"
    }
   ],
   "source": [
    "sel_nodes.shape"
   ]
  },
  {
   "cell_type": "code",
   "execution_count": 17,
   "metadata": {},
   "outputs": [
    {
     "data": {
      "text/html": [
       "<pre style=\"white-space:pre;overflow-x:auto;line-height:normal;font-family:Menlo,'DejaVu Sans Mono',consolas,'Courier New',monospace\"></pre>\n"
      ],
      "text/plain": []
     },
     "metadata": {},
     "output_type": "display_data"
    },
    {
     "data": {
      "text/plain": [
       "\n",
       "in_taxon_label\n",
       "Caenorhabditis elegans    \u001b[1;36m236\u001b[0m\n",
       "Homo sapiens              \u001b[1;36m224\u001b[0m\n",
       "Name: count, dtype: int64\u001b[1m[\u001b[0mpyarrow\u001b[1m]\u001b[0m"
      ]
     },
     "execution_count": 17,
     "metadata": {},
     "output_type": "execute_result"
    }
   ],
   "source": [
    "sel_nodes['in_taxon_label'].value_counts()"
   ]
  },
  {
   "cell_type": "code",
   "execution_count": 18,
   "metadata": {},
   "outputs": [
    {
     "data": {
      "text/html": [
       "<pre style=\"white-space:pre;overflow-x:auto;line-height:normal;font-family:Menlo,'DejaVu Sans Mono',consolas,'Courier New',monospace\"><span style=\"color: #7fbfbf; text-decoration-color: #7fbfbf\">[01/19/24 00:42:47] </span><span style=\"color: #000080; text-decoration-color: #000080\">INFO    </span> Loading data from <span style=\"color: #008000; text-decoration-color: #008000\">'monarch_nodes_sample'</span> <span style=\"font-weight: bold\">(</span>DaskDataFrameDataSet<span style=\"font-weight: bold\">)</span><span style=\"color: #808000; text-decoration-color: #808000\">...</span> <a href=\"file://C:\\Users\\Tahsin\\miniconda3\\envs\\modspy\\lib\\site-packages\\kedro\\io\\data_catalog.py\" target=\"_blank\"><span style=\"color: #7f7f7f; text-decoration-color: #7f7f7f\">data_catalog.py</span></a><span style=\"color: #7f7f7f; text-decoration-color: #7f7f7f\">:</span><a href=\"file://C:\\Users\\Tahsin\\miniconda3\\envs\\modspy\\lib\\site-packages\\kedro\\io\\data_catalog.py#502\" target=\"_blank\"><span style=\"color: #7f7f7f; text-decoration-color: #7f7f7f\">502</span></a>\n",
       "</pre>\n"
      ],
      "text/plain": [
       "\u001b[2;36m[01/19/24 00:42:47]\u001b[0m\u001b[2;36m \u001b[0m\u001b[34mINFO    \u001b[0m Loading data from \u001b[32m'monarch_nodes_sample'\u001b[0m \u001b[1m(\u001b[0mDaskDataFrameDataSet\u001b[1m)\u001b[0m\u001b[33m...\u001b[0m \u001b]8;id=489450;file://C:\\Users\\Tahsin\\miniconda3\\envs\\modspy\\lib\\site-packages\\kedro\\io\\data_catalog.py\u001b\\\u001b[2mdata_catalog.py\u001b[0m\u001b]8;;\u001b\\\u001b[2m:\u001b[0m\u001b]8;id=790223;file://C:\\Users\\Tahsin\\miniconda3\\envs\\modspy\\lib\\site-packages\\kedro\\io\\data_catalog.py#502\u001b\\\u001b[2m502\u001b[0m\u001b]8;;\u001b\\\n"
      ]
     },
     "metadata": {},
     "output_type": "display_data"
    },
    {
     "data": {
      "text/html": [
       "<pre style=\"white-space:pre;overflow-x:auto;line-height:normal;font-family:Menlo,'DejaVu Sans Mono',consolas,'Courier New',monospace\"><span style=\"color: #7fbfbf; text-decoration-color: #7fbfbf\">                    </span><span style=\"color: #000080; text-decoration-color: #000080\">INFO    </span> Loading data from <span style=\"color: #008000; text-decoration-color: #008000\">'monarch_nodes_sample'</span> <span style=\"font-weight: bold\">(</span>DaskDataFrameDataSet<span style=\"font-weight: bold\">)</span><span style=\"color: #808000; text-decoration-color: #808000\">...</span> <a href=\"file://C:\\Users\\Tahsin\\miniconda3\\envs\\modspy\\lib\\site-packages\\kedro\\io\\data_catalog.py\" target=\"_blank\"><span style=\"color: #7f7f7f; text-decoration-color: #7f7f7f\">data_catalog.py</span></a><span style=\"color: #7f7f7f; text-decoration-color: #7f7f7f\">:</span><a href=\"file://C:\\Users\\Tahsin\\miniconda3\\envs\\modspy\\lib\\site-packages\\kedro\\io\\data_catalog.py#502\" target=\"_blank\"><span style=\"color: #7f7f7f; text-decoration-color: #7f7f7f\">502</span></a>\n",
       "</pre>\n"
      ],
      "text/plain": [
       "\u001b[2;36m                   \u001b[0m\u001b[2;36m \u001b[0m\u001b[34mINFO    \u001b[0m Loading data from \u001b[32m'monarch_nodes_sample'\u001b[0m \u001b[1m(\u001b[0mDaskDataFrameDataSet\u001b[1m)\u001b[0m\u001b[33m...\u001b[0m \u001b]8;id=218743;file://C:\\Users\\Tahsin\\miniconda3\\envs\\modspy\\lib\\site-packages\\kedro\\io\\data_catalog.py\u001b\\\u001b[2mdata_catalog.py\u001b[0m\u001b]8;;\u001b\\\u001b[2m:\u001b[0m\u001b]8;id=112487;file://C:\\Users\\Tahsin\\miniconda3\\envs\\modspy\\lib\\site-packages\\kedro\\io\\data_catalog.py#502\u001b\\\u001b[2m502\u001b[0m\u001b]8;;\u001b\\\n"
      ]
     },
     "metadata": {},
     "output_type": "display_data"
    },
    {
     "data": {
      "text/html": [
       "<pre style=\"white-space:pre;overflow-x:auto;line-height:normal;font-family:Menlo,'DejaVu Sans Mono',consolas,'Courier New',monospace\"><span style=\"color: #7fbfbf; text-decoration-color: #7fbfbf\">                    </span><span style=\"color: #000080; text-decoration-color: #000080\">INFO    </span> Loading data from <span style=\"color: #008000; text-decoration-color: #008000\">'monarch_edges_sample'</span> <span style=\"font-weight: bold\">(</span>DaskDataFrameDataSet<span style=\"font-weight: bold\">)</span><span style=\"color: #808000; text-decoration-color: #808000\">...</span> <a href=\"file://C:\\Users\\Tahsin\\miniconda3\\envs\\modspy\\lib\\site-packages\\kedro\\io\\data_catalog.py\" target=\"_blank\"><span style=\"color: #7f7f7f; text-decoration-color: #7f7f7f\">data_catalog.py</span></a><span style=\"color: #7f7f7f; text-decoration-color: #7f7f7f\">:</span><a href=\"file://C:\\Users\\Tahsin\\miniconda3\\envs\\modspy\\lib\\site-packages\\kedro\\io\\data_catalog.py#502\" target=\"_blank\"><span style=\"color: #7f7f7f; text-decoration-color: #7f7f7f\">502</span></a>\n",
       "</pre>\n"
      ],
      "text/plain": [
       "\u001b[2;36m                   \u001b[0m\u001b[2;36m \u001b[0m\u001b[34mINFO    \u001b[0m Loading data from \u001b[32m'monarch_edges_sample'\u001b[0m \u001b[1m(\u001b[0mDaskDataFrameDataSet\u001b[1m)\u001b[0m\u001b[33m...\u001b[0m \u001b]8;id=843678;file://C:\\Users\\Tahsin\\miniconda3\\envs\\modspy\\lib\\site-packages\\kedro\\io\\data_catalog.py\u001b\\\u001b[2mdata_catalog.py\u001b[0m\u001b]8;;\u001b\\\u001b[2m:\u001b[0m\u001b]8;id=695260;file://C:\\Users\\Tahsin\\miniconda3\\envs\\modspy\\lib\\site-packages\\kedro\\io\\data_catalog.py#502\u001b\\\u001b[2m502\u001b[0m\u001b]8;;\u001b\\\n"
      ]
     },
     "metadata": {},
     "output_type": "display_data"
    },
    {
     "data": {
      "text/html": [
       "<pre style=\"white-space:pre;overflow-x:auto;line-height:normal;font-family:Menlo,'DejaVu Sans Mono',consolas,'Courier New',monospace\"><span style=\"color: #7fbfbf; text-decoration-color: #7fbfbf\">                    </span><span style=\"color: #000080; text-decoration-color: #000080\">INFO    </span> Loading data from <span style=\"color: #008000; text-decoration-color: #008000\">'monarch_edges_sample'</span> <span style=\"font-weight: bold\">(</span>DaskDataFrameDataSet<span style=\"font-weight: bold\">)</span><span style=\"color: #808000; text-decoration-color: #808000\">...</span> <a href=\"file://C:\\Users\\Tahsin\\miniconda3\\envs\\modspy\\lib\\site-packages\\kedro\\io\\data_catalog.py\" target=\"_blank\"><span style=\"color: #7f7f7f; text-decoration-color: #7f7f7f\">data_catalog.py</span></a><span style=\"color: #7f7f7f; text-decoration-color: #7f7f7f\">:</span><a href=\"file://C:\\Users\\Tahsin\\miniconda3\\envs\\modspy\\lib\\site-packages\\kedro\\io\\data_catalog.py#502\" target=\"_blank\"><span style=\"color: #7f7f7f; text-decoration-color: #7f7f7f\">502</span></a>\n",
       "</pre>\n"
      ],
      "text/plain": [
       "\u001b[2;36m                   \u001b[0m\u001b[2;36m \u001b[0m\u001b[34mINFO    \u001b[0m Loading data from \u001b[32m'monarch_edges_sample'\u001b[0m \u001b[1m(\u001b[0mDaskDataFrameDataSet\u001b[1m)\u001b[0m\u001b[33m...\u001b[0m \u001b]8;id=336449;file://C:\\Users\\Tahsin\\miniconda3\\envs\\modspy\\lib\\site-packages\\kedro\\io\\data_catalog.py\u001b\\\u001b[2mdata_catalog.py\u001b[0m\u001b]8;;\u001b\\\u001b[2m:\u001b[0m\u001b]8;id=810426;file://C:\\Users\\Tahsin\\miniconda3\\envs\\modspy\\lib\\site-packages\\kedro\\io\\data_catalog.py#502\u001b\\\u001b[2m502\u001b[0m\u001b]8;;\u001b\\\n"
      ]
     },
     "metadata": {},
     "output_type": "display_data"
    }
   ],
   "source": [
    "nodes = catalog.load('monarch_nodes_sample').compute()\n",
    "edges = catalog.load('monarch_edges_sample').compute()"
   ]
  },
  {
   "cell_type": "code",
   "execution_count": 19,
   "metadata": {},
   "outputs": [
    {
     "data": {
      "text/html": [
       "<pre style=\"white-space:pre;overflow-x:auto;line-height:normal;font-family:Menlo,'DejaVu Sans Mono',consolas,'Courier New',monospace\"><span style=\"color: #800080; text-decoration-color: #800080; font-weight: bold\">Index</span><span style=\"font-weight: bold\">([</span><span style=\"color: #008000; text-decoration-color: #008000\">'id'</span>, <span style=\"color: #008000; text-decoration-color: #008000\">'category'</span>, <span style=\"color: #008000; text-decoration-color: #008000\">'name'</span>, <span style=\"color: #008000; text-decoration-color: #008000\">'xref'</span>, <span style=\"color: #008000; text-decoration-color: #008000\">'provided_by'</span>, <span style=\"color: #008000; text-decoration-color: #008000\">'synonym'</span>, <span style=\"color: #008000; text-decoration-color: #008000\">'full_name'</span>,\n",
       "       <span style=\"color: #008000; text-decoration-color: #008000\">'in_taxon'</span>, <span style=\"color: #008000; text-decoration-color: #008000\">'in_taxon_label'</span>, <span style=\"color: #008000; text-decoration-color: #008000\">'symbol'</span>, <span style=\"color: #008000; text-decoration-color: #008000\">'description'</span>, <span style=\"color: #008000; text-decoration-color: #008000\">'deprecated'</span>,\n",
       "       <span style=\"color: #008000; text-decoration-color: #008000\">'iri'</span>, <span style=\"color: #008000; text-decoration-color: #008000\">'same_as'</span>, <span style=\"color: #008000; text-decoration-color: #008000\">'id_tensor'</span>, <span style=\"color: #008000; text-decoration-color: #008000\">'id_encoded'</span><span style=\"font-weight: bold\">]</span>,\n",
       "      <span style=\"color: #808000; text-decoration-color: #808000\">dtype</span>=<span style=\"color: #008000; text-decoration-color: #008000\">'object'</span><span style=\"font-weight: bold\">)</span>\n",
       "</pre>\n"
      ],
      "text/plain": [
       "\u001b[1;35mIndex\u001b[0m\u001b[1m(\u001b[0m\u001b[1m[\u001b[0m\u001b[32m'id'\u001b[0m, \u001b[32m'category'\u001b[0m, \u001b[32m'name'\u001b[0m, \u001b[32m'xref'\u001b[0m, \u001b[32m'provided_by'\u001b[0m, \u001b[32m'synonym'\u001b[0m, \u001b[32m'full_name'\u001b[0m,\n",
       "       \u001b[32m'in_taxon'\u001b[0m, \u001b[32m'in_taxon_label'\u001b[0m, \u001b[32m'symbol'\u001b[0m, \u001b[32m'description'\u001b[0m, \u001b[32m'deprecated'\u001b[0m,\n",
       "       \u001b[32m'iri'\u001b[0m, \u001b[32m'same_as'\u001b[0m, \u001b[32m'id_tensor'\u001b[0m, \u001b[32m'id_encoded'\u001b[0m\u001b[1m]\u001b[0m,\n",
       "      \u001b[33mdtype\u001b[0m=\u001b[32m'object'\u001b[0m\u001b[1m)\u001b[0m\n"
      ]
     },
     "metadata": {},
     "output_type": "display_data"
    },
    {
     "data": {
      "text/html": [
       "<pre style=\"white-space:pre;overflow-x:auto;line-height:normal;font-family:Menlo,'DejaVu Sans Mono',consolas,'Courier New',monospace\"><span style=\"color: #800080; text-decoration-color: #800080; font-weight: bold\">Index</span><span style=\"font-weight: bold\">([</span><span style=\"color: #008000; text-decoration-color: #008000\">'id'</span>, <span style=\"color: #008000; text-decoration-color: #008000\">'original_subject'</span>, <span style=\"color: #008000; text-decoration-color: #008000\">'predicate'</span>, <span style=\"color: #008000; text-decoration-color: #008000\">'original_object'</span>, <span style=\"color: #008000; text-decoration-color: #008000\">'category'</span>,\n",
       "       <span style=\"color: #008000; text-decoration-color: #008000\">'aggregator_knowledge_source'</span>, <span style=\"color: #008000; text-decoration-color: #008000\">'primary_knowledge_source'</span>,\n",
       "       <span style=\"color: #008000; text-decoration-color: #008000\">'provided_by'</span>, <span style=\"color: #008000; text-decoration-color: #008000\">'publications'</span>, <span style=\"color: #008000; text-decoration-color: #008000\">'qualifiers'</span>, <span style=\"color: #008000; text-decoration-color: #008000\">'frequency_qualifier'</span>,\n",
       "       <span style=\"color: #008000; text-decoration-color: #008000\">'has_evidence'</span>, <span style=\"color: #008000; text-decoration-color: #008000\">'negated'</span>, <span style=\"color: #008000; text-decoration-color: #008000\">'onset_qualifier'</span>, <span style=\"color: #008000; text-decoration-color: #008000\">'sex_qualifier'</span>,\n",
       "       <span style=\"color: #008000; text-decoration-color: #008000\">'stage_qualifier'</span>, <span style=\"color: #008000; text-decoration-color: #008000\">'relation'</span>, <span style=\"color: #008000; text-decoration-color: #008000\">'subject'</span>, <span style=\"color: #008000; text-decoration-color: #008000\">'object'</span>, <span style=\"color: #008000; text-decoration-color: #008000\">'subject_encoded'</span>,\n",
       "       <span style=\"color: #008000; text-decoration-color: #008000\">'object_encoded'</span><span style=\"font-weight: bold\">]</span>,\n",
       "      <span style=\"color: #808000; text-decoration-color: #808000\">dtype</span>=<span style=\"color: #008000; text-decoration-color: #008000\">'object'</span><span style=\"font-weight: bold\">)</span>\n",
       "</pre>\n"
      ],
      "text/plain": [
       "\u001b[1;35mIndex\u001b[0m\u001b[1m(\u001b[0m\u001b[1m[\u001b[0m\u001b[32m'id'\u001b[0m, \u001b[32m'original_subject'\u001b[0m, \u001b[32m'predicate'\u001b[0m, \u001b[32m'original_object'\u001b[0m, \u001b[32m'category'\u001b[0m,\n",
       "       \u001b[32m'aggregator_knowledge_source'\u001b[0m, \u001b[32m'primary_knowledge_source'\u001b[0m,\n",
       "       \u001b[32m'provided_by'\u001b[0m, \u001b[32m'publications'\u001b[0m, \u001b[32m'qualifiers'\u001b[0m, \u001b[32m'frequency_qualifier'\u001b[0m,\n",
       "       \u001b[32m'has_evidence'\u001b[0m, \u001b[32m'negated'\u001b[0m, \u001b[32m'onset_qualifier'\u001b[0m, \u001b[32m'sex_qualifier'\u001b[0m,\n",
       "       \u001b[32m'stage_qualifier'\u001b[0m, \u001b[32m'relation'\u001b[0m, \u001b[32m'subject'\u001b[0m, \u001b[32m'object'\u001b[0m, \u001b[32m'subject_encoded'\u001b[0m,\n",
       "       \u001b[32m'object_encoded'\u001b[0m\u001b[1m]\u001b[0m,\n",
       "      \u001b[33mdtype\u001b[0m=\u001b[32m'object'\u001b[0m\u001b[1m)\u001b[0m\n"
      ]
     },
     "metadata": {},
     "output_type": "display_data"
    }
   ],
   "source": [
    "print(nodes.columns)\n",
    "print(edges.columns)"
   ]
  },
  {
   "cell_type": "code",
   "execution_count": 20,
   "metadata": {},
   "outputs": [
    {
     "data": {
      "text/html": [
       "<pre style=\"white-space:pre;overflow-x:auto;line-height:normal;font-family:Menlo,'DejaVu Sans Mono',consolas,'Courier New',monospace\"><span style=\"color: #008080; text-decoration-color: #008080; font-weight: bold\">18033</span>\n",
       "</pre>\n"
      ],
      "text/plain": [
       "\u001b[1;36m18033\u001b[0m\n"
      ]
     },
     "metadata": {},
     "output_type": "display_data"
    },
    {
     "data": {
      "text/html": [
       "<pre style=\"white-space:pre;overflow-x:auto;line-height:normal;font-family:Menlo,'DejaVu Sans Mono',consolas,'Courier New',monospace\"><span style=\"color: #008080; text-decoration-color: #008080; font-weight: bold\">11410</span>\n",
       "</pre>\n"
      ],
      "text/plain": [
       "\u001b[1;36m11410\u001b[0m\n"
      ]
     },
     "metadata": {},
     "output_type": "display_data"
    }
   ],
   "source": [
    "# Create a directed multigraph\n",
    "G = nx.MultiDiGraph()\n",
    "\n",
    "# Add nodes to the graph\n",
    "for _, row in nodes.iterrows():\n",
    "    node_id = row['id_encoded'] # could reliably use any `id_encoded` column\n",
    "    node_attr = row.to_dict()\n",
    "    # node_attr = row[['category']].to_dict()\n",
    "    G.add_node(node_id, **node_attr)\n",
    "\n",
    "# Add edges to the graph\n",
    "for _, row in edges.iterrows():\n",
    "    subject = row['subject_encoded']    # could reliably use any `subject_encoded` column\n",
    "    object_ = row['object_encoded']    # could reliably use any `object_encoded` column\n",
    "    edge_attr = row.to_dict()\n",
    "    # edge_attr = row[['category']].to_dict()\n",
    "    G.add_edge(subject, object_, **edge_attr)\n",
    "\n",
    "# # Information about the created graph\n",
    "print(G.number_of_nodes())\n",
    "print(G.number_of_edges())\n",
    "# graph_info = nx.info(G)\n",
    "# graph_info\n"
   ]
  },
  {
   "cell_type": "code",
   "execution_count": 21,
   "metadata": {},
   "outputs": [],
   "source": [
    "g_degree = np.array(G.degree())"
   ]
  },
  {
   "cell_type": "code",
   "execution_count": 22,
   "metadata": {},
   "outputs": [
    {
     "data": {
      "text/html": [
       "<pre style=\"white-space:pre;overflow-x:auto;line-height:normal;font-family:Menlo,'DejaVu Sans Mono',consolas,'Courier New',monospace\"><span style=\"font-weight: bold\">[[</span><span style=\"color: #008080; text-decoration-color: #008080; font-weight: bold\">12342</span>     <span style=\"color: #008080; text-decoration-color: #008080; font-weight: bold\">1</span><span style=\"font-weight: bold\">]</span>\n",
       " <span style=\"font-weight: bold\">[</span> <span style=\"color: #008080; text-decoration-color: #008080; font-weight: bold\">6049</span>     <span style=\"color: #008080; text-decoration-color: #008080; font-weight: bold\">1</span><span style=\"font-weight: bold\">]</span>\n",
       " <span style=\"font-weight: bold\">[</span> <span style=\"color: #008080; text-decoration-color: #008080; font-weight: bold\">6050</span>     <span style=\"color: #008080; text-decoration-color: #008080; font-weight: bold\">1</span><span style=\"font-weight: bold\">]</span>\n",
       " <span style=\"color: #808000; text-decoration-color: #808000\">...</span>\n",
       " <span style=\"font-weight: bold\">[</span><span style=\"color: #008080; text-decoration-color: #008080; font-weight: bold\">16052</span>   <span style=\"color: #008080; text-decoration-color: #008080; font-weight: bold\">105</span><span style=\"font-weight: bold\">]</span>\n",
       " <span style=\"font-weight: bold\">[</span><span style=\"color: #008080; text-decoration-color: #008080; font-weight: bold\">16053</span>   <span style=\"color: #008080; text-decoration-color: #008080; font-weight: bold\">138</span><span style=\"font-weight: bold\">]</span>\n",
       " <span style=\"font-weight: bold\">[</span> <span style=\"color: #008080; text-decoration-color: #008080; font-weight: bold\">2279</span>   <span style=\"color: #008080; text-decoration-color: #008080; font-weight: bold\">247</span><span style=\"font-weight: bold\">]]</span>\n",
       "</pre>\n"
      ],
      "text/plain": [
       "\u001b[1m[\u001b[0m\u001b[1m[\u001b[0m\u001b[1;36m12342\u001b[0m     \u001b[1;36m1\u001b[0m\u001b[1m]\u001b[0m\n",
       " \u001b[1m[\u001b[0m \u001b[1;36m6049\u001b[0m     \u001b[1;36m1\u001b[0m\u001b[1m]\u001b[0m\n",
       " \u001b[1m[\u001b[0m \u001b[1;36m6050\u001b[0m     \u001b[1;36m1\u001b[0m\u001b[1m]\u001b[0m\n",
       " \u001b[33m...\u001b[0m\n",
       " \u001b[1m[\u001b[0m\u001b[1;36m16052\u001b[0m   \u001b[1;36m105\u001b[0m\u001b[1m]\u001b[0m\n",
       " \u001b[1m[\u001b[0m\u001b[1;36m16053\u001b[0m   \u001b[1;36m138\u001b[0m\u001b[1m]\u001b[0m\n",
       " \u001b[1m[\u001b[0m \u001b[1;36m2279\u001b[0m   \u001b[1;36m247\u001b[0m\u001b[1m]\u001b[0m\u001b[1m]\u001b[0m\n"
      ]
     },
     "metadata": {},
     "output_type": "display_data"
    }
   ],
   "source": [
    "# Assume your_array is a 2D array and you want to sort by the second dimension (i.e., degree count)\n",
    "sorted_indices = np.argsort(g_degree[:, 1])\n",
    "sorted_array = g_degree[sorted_indices]\n",
    "print(sorted_array)"
   ]
  },
  {
   "cell_type": "code",
   "execution_count": 23,
   "metadata": {},
   "outputs": [
    {
     "data": {
      "text/html": [
       "<pre style=\"white-space:pre;overflow-x:auto;line-height:normal;font-family:Menlo,'DejaVu Sans Mono',consolas,'Courier New',monospace\">Number of nodes with <span style=\"color: #008080; text-decoration-color: #008080; font-weight: bold\">10</span> or more edges: <span style=\"color: #008080; text-decoration-color: #008080; font-weight: bold\">41</span>\n",
       "</pre>\n"
      ],
      "text/plain": [
       "Number of nodes with \u001b[1;36m10\u001b[0m or more edges: \u001b[1;36m41\u001b[0m\n"
      ]
     },
     "metadata": {},
     "output_type": "display_data"
    },
    {
     "data": {
      "text/html": [
       "<pre style=\"white-space:pre;overflow-x:auto;line-height:normal;font-family:Menlo,'DejaVu Sans Mono',consolas,'Courier New',monospace\"></pre>\n"
      ],
      "text/plain": []
     },
     "metadata": {},
     "output_type": "display_data"
    },
    {
     "data": {
      "text/plain": [
       "\u001b[32m'## High degree nodes ##'\u001b[0m"
      ]
     },
     "metadata": {},
     "output_type": "display_data"
    },
    {
     "data": {
      "text/html": [
       "<pre style=\"white-space:pre;overflow-x:auto;line-height:normal;font-family:Menlo,'DejaVu Sans Mono',consolas,'Courier New',monospace\"></pre>\n"
      ],
      "text/plain": []
     },
     "metadata": {},
     "output_type": "display_data"
    },
    {
     "data": {
      "text/html": [
       "<div>\n",
       "<style scoped>\n",
       "    .dataframe tbody tr th:only-of-type {\n",
       "        vertical-align: middle;\n",
       "    }\n",
       "\n",
       "    .dataframe tbody tr th {\n",
       "        vertical-align: top;\n",
       "    }\n",
       "\n",
       "    .dataframe thead th {\n",
       "        text-align: right;\n",
       "    }\n",
       "</style>\n",
       "<table border=\"1\" class=\"dataframe\">\n",
       "  <thead>\n",
       "    <tr style=\"text-align: right;\">\n",
       "      <th></th>\n",
       "      <th>name</th>\n",
       "      <th>category</th>\n",
       "    </tr>\n",
       "  </thead>\n",
       "  <tbody>\n",
       "    <tr>\n",
       "      <th>13155</th>\n",
       "      <td>TP53</td>\n",
       "      <td>biolink:Gene</td>\n",
       "    </tr>\n",
       "    <tr>\n",
       "      <th>13568</th>\n",
       "      <td>embryo</td>\n",
       "      <td>biolink:GrossAnatomicalStructure</td>\n",
       "    </tr>\n",
       "    <tr>\n",
       "      <th>13581</th>\n",
       "      <td>heart</td>\n",
       "      <td>biolink:GrossAnatomicalStructure</td>\n",
       "    </tr>\n",
       "    <tr>\n",
       "      <th>13628</th>\n",
       "      <td>lung</td>\n",
       "      <td>biolink:GrossAnatomicalStructure</td>\n",
       "    </tr>\n",
       "    <tr>\n",
       "      <th>13637</th>\n",
       "      <td>liver</td>\n",
       "      <td>biolink:GrossAnatomicalStructure</td>\n",
       "    </tr>\n",
       "    <tr>\n",
       "      <th>13642</th>\n",
       "      <td>brain</td>\n",
       "      <td>biolink:GrossAnatomicalStructure</td>\n",
       "    </tr>\n",
       "    <tr>\n",
       "      <th>13647</th>\n",
       "      <td>telencephalon</td>\n",
       "      <td>biolink:GrossAnatomicalStructure</td>\n",
       "    </tr>\n",
       "    <tr>\n",
       "      <th>13649</th>\n",
       "      <td>hindbrain</td>\n",
       "      <td>biolink:GrossAnatomicalStructure</td>\n",
       "    </tr>\n",
       "    <tr>\n",
       "      <th>13709</th>\n",
       "      <td>spinal cord</td>\n",
       "      <td>biolink:GrossAnatomicalStructure</td>\n",
       "    </tr>\n",
       "    <tr>\n",
       "      <th>13729</th>\n",
       "      <td>cerebellum</td>\n",
       "      <td>biolink:GrossAnatomicalStructure</td>\n",
       "    </tr>\n",
       "    <tr>\n",
       "      <th>13741</th>\n",
       "      <td>testis</td>\n",
       "      <td>biolink:GrossAnatomicalStructure</td>\n",
       "    </tr>\n",
       "    <tr>\n",
       "      <th>13871</th>\n",
       "      <td>hippocampus</td>\n",
       "      <td>biolink:GrossAnatomicalStructure</td>\n",
       "    </tr>\n",
       "    <tr>\n",
       "      <th>13940</th>\n",
       "      <td>organism</td>\n",
       "      <td>biolink:GrossAnatomicalStructure</td>\n",
       "    </tr>\n",
       "    <tr>\n",
       "      <th>14009</th>\n",
       "      <td>adult heart</td>\n",
       "      <td>biolink:GrossAnatomicalStructure</td>\n",
       "    </tr>\n",
       "    <tr>\n",
       "      <th>14475</th>\n",
       "      <td>molecular_function</td>\n",
       "      <td>biolink:BiologicalProcessOrActivity</td>\n",
       "    </tr>\n",
       "    <tr>\n",
       "      <th>14477</th>\n",
       "      <td>DNA binding</td>\n",
       "      <td>biolink:BiologicalProcessOrActivity</td>\n",
       "    </tr>\n",
       "    <tr>\n",
       "      <th>14533</th>\n",
       "      <td>protein serine/threonine kinase activity</td>\n",
       "      <td>biolink:BiologicalProcessOrActivity</td>\n",
       "    </tr>\n",
       "    <tr>\n",
       "      <th>14584</th>\n",
       "      <td>protein binding</td>\n",
       "      <td>biolink:BiologicalProcessOrActivity</td>\n",
       "    </tr>\n",
       "    <tr>\n",
       "      <th>14586</th>\n",
       "      <td>ATP binding</td>\n",
       "      <td>biolink:BiologicalProcessOrActivity</td>\n",
       "    </tr>\n",
       "    <tr>\n",
       "      <th>14587</th>\n",
       "      <td>GTP binding</td>\n",
       "      <td>biolink:BiologicalProcessOrActivity</td>\n",
       "    </tr>\n",
       "    <tr>\n",
       "      <th>14591</th>\n",
       "      <td>cellular_component</td>\n",
       "      <td>biolink:CellularComponent</td>\n",
       "    </tr>\n",
       "    <tr>\n",
       "      <th>14592</th>\n",
       "      <td>extracellular region</td>\n",
       "      <td>biolink:CellularComponent</td>\n",
       "    </tr>\n",
       "    <tr>\n",
       "      <th>14595</th>\n",
       "      <td>nucleus</td>\n",
       "      <td>biolink:CellularComponent</td>\n",
       "    </tr>\n",
       "    <tr>\n",
       "      <th>14600</th>\n",
       "      <td>nucleoplasm</td>\n",
       "      <td>biolink:CellularComponent</td>\n",
       "    </tr>\n",
       "    <tr>\n",
       "      <th>14609</th>\n",
       "      <td>nucleolus</td>\n",
       "      <td>biolink:CellularComponent</td>\n",
       "    </tr>\n",
       "    <tr>\n",
       "      <th>14610</th>\n",
       "      <td>cytoplasm</td>\n",
       "      <td>biolink:CellularComponent</td>\n",
       "    </tr>\n",
       "    <tr>\n",
       "      <th>14611</th>\n",
       "      <td>mitochondrion</td>\n",
       "      <td>biolink:CellularComponent</td>\n",
       "    </tr>\n",
       "    <tr>\n",
       "      <th>14625</th>\n",
       "      <td>endoplasmic reticulum membrane</td>\n",
       "      <td>biolink:CellularComponent</td>\n",
       "    </tr>\n",
       "    <tr>\n",
       "      <th>14633</th>\n",
       "      <td>cytosol</td>\n",
       "      <td>biolink:CellularComponent</td>\n",
       "    </tr>\n",
       "    <tr>\n",
       "      <th>14644</th>\n",
       "      <td>plasma membrane</td>\n",
       "      <td>biolink:CellularComponent</td>\n",
       "    </tr>\n",
       "    <tr>\n",
       "      <th>14805</th>\n",
       "      <td>biological_process</td>\n",
       "      <td>biolink:BiologicalProcessOrActivity</td>\n",
       "    </tr>\n",
       "    <tr>\n",
       "      <th>14941</th>\n",
       "      <td>membrane</td>\n",
       "      <td>biolink:CellularComponent</td>\n",
       "    </tr>\n",
       "    <tr>\n",
       "      <th>15294</th>\n",
       "      <td>identical protein binding</td>\n",
       "      <td>biolink:BiologicalProcessOrActivity</td>\n",
       "    </tr>\n",
       "    <tr>\n",
       "      <th>15409</th>\n",
       "      <td>positive regulation of transcription by RNA po...</td>\n",
       "      <td>biolink:BiologicalProcessOrActivity</td>\n",
       "    </tr>\n",
       "    <tr>\n",
       "      <th>15426</th>\n",
       "      <td>metal ion binding</td>\n",
       "      <td>biolink:BiologicalProcessOrActivity</td>\n",
       "    </tr>\n",
       "    <tr>\n",
       "      <th>15864</th>\n",
       "      <td>Autosomal recessive inheritance (HPO)</td>\n",
       "      <td>biolink:PhenotypicFeature</td>\n",
       "    </tr>\n",
       "    <tr>\n",
       "      <th>15995</th>\n",
       "      <td>Intellectual disability (HPO)</td>\n",
       "      <td>biolink:PhenotypicFeature</td>\n",
       "    </tr>\n",
       "    <tr>\n",
       "      <th>17397</th>\n",
       "      <td>C. elegans anatomical entity</td>\n",
       "      <td>biolink:AnatomicalEntity</td>\n",
       "    </tr>\n",
       "    <tr>\n",
       "      <th>17637</th>\n",
       "      <td>eye</td>\n",
       "      <td>biolink:GrossAnatomicalStructure</td>\n",
       "    </tr>\n",
       "    <tr>\n",
       "      <th>17702</th>\n",
       "      <td>unspecified</td>\n",
       "      <td>biolink:AnatomicalEntity</td>\n",
       "    </tr>\n",
       "    <tr>\n",
       "      <th>17703</th>\n",
       "      <td>whole organism</td>\n",
       "      <td>biolink:GrossAnatomicalStructure</td>\n",
       "    </tr>\n",
       "  </tbody>\n",
       "</table>\n",
       "</div>"
      ],
      "text/plain": [
       "\n",
       "                                                    name  \\\n",
       "\u001b[1;36m13155\u001b[0m                                               TP53   \n",
       "\u001b[1;36m13568\u001b[0m                                             embryo   \n",
       "\u001b[1;36m13581\u001b[0m                                              heart   \n",
       "\u001b[1;36m13628\u001b[0m                                               lung   \n",
       "\u001b[1;36m13637\u001b[0m                                              liver   \n",
       "\u001b[1;36m13642\u001b[0m                                              brain   \n",
       "\u001b[1;36m13647\u001b[0m                                      telencephalon   \n",
       "\u001b[1;36m13649\u001b[0m                                          hindbrain   \n",
       "\u001b[1;36m13709\u001b[0m                                        spinal cord   \n",
       "\u001b[1;36m13729\u001b[0m                                         cerebellum   \n",
       "\u001b[1;36m13741\u001b[0m                                             testis   \n",
       "\u001b[1;36m13871\u001b[0m                                        hippocampus   \n",
       "\u001b[1;36m13940\u001b[0m                                           organism   \n",
       "\u001b[1;36m14009\u001b[0m                                        adult heart   \n",
       "\u001b[1;36m14475\u001b[0m                                 molecular_function   \n",
       "\u001b[1;36m14477\u001b[0m                                        DNA binding   \n",
       "\u001b[1;36m14533\u001b[0m           protein serine/threonine kinase activity   \n",
       "\u001b[1;36m14584\u001b[0m                                    protein binding   \n",
       "\u001b[1;36m14586\u001b[0m                                        ATP binding   \n",
       "\u001b[1;36m14587\u001b[0m                                        GTP binding   \n",
       "\u001b[1;36m14591\u001b[0m                                 cellular_component   \n",
       "\u001b[1;36m14592\u001b[0m                               extracellular region   \n",
       "\u001b[1;36m14595\u001b[0m                                            nucleus   \n",
       "\u001b[1;36m14600\u001b[0m                                        nucleoplasm   \n",
       "\u001b[1;36m14609\u001b[0m                                          nucleolus   \n",
       "\u001b[1;36m14610\u001b[0m                                          cytoplasm   \n",
       "\u001b[1;36m14611\u001b[0m                                      mitochondrion   \n",
       "\u001b[1;36m14625\u001b[0m                     endoplasmic reticulum membrane   \n",
       "\u001b[1;36m14633\u001b[0m                                            cytosol   \n",
       "\u001b[1;36m14644\u001b[0m                                    plasma membrane   \n",
       "\u001b[1;36m14805\u001b[0m                                 biological_process   \n",
       "\u001b[1;36m14941\u001b[0m                                           membrane   \n",
       "\u001b[1;36m15294\u001b[0m                          identical protein binding   \n",
       "\u001b[1;36m15409\u001b[0m  positive regulation of transcription by RNA po\u001b[33m...\u001b[0m   \n",
       "\u001b[1;36m15426\u001b[0m                                  metal ion binding   \n",
       "\u001b[1;36m15864\u001b[0m              Autosomal recessive inheritance \u001b[1m(\u001b[0mHPO\u001b[1m)\u001b[0m   \n",
       "\u001b[1;36m15995\u001b[0m                      Intellectual disability \u001b[1m(\u001b[0mHPO\u001b[1m)\u001b[0m   \n",
       "\u001b[1;36m17397\u001b[0m                       C. elegans anatomical entity   \n",
       "\u001b[1;36m17637\u001b[0m                                                eye   \n",
       "\u001b[1;36m17702\u001b[0m                                        unspecified   \n",
       "\u001b[1;36m17703\u001b[0m                                     whole organism   \n",
       "\n",
       "                                  category  \n",
       "\u001b[1;36m13155\u001b[0m                         biolink:Gene  \n",
       "\u001b[1;36m13568\u001b[0m     biolink:GrossAnatomicalStructure  \n",
       "\u001b[1;36m13581\u001b[0m     biolink:GrossAnatomicalStructure  \n",
       "\u001b[1;36m13628\u001b[0m     biolink:GrossAnatomicalStructure  \n",
       "\u001b[1;36m13637\u001b[0m     biolink:GrossAnatomicalStructure  \n",
       "\u001b[1;36m13642\u001b[0m     biolink:GrossAnatomicalStructure  \n",
       "\u001b[1;36m13647\u001b[0m     biolink:GrossAnatomicalStructure  \n",
       "\u001b[1;36m13649\u001b[0m     biolink:GrossAnatomicalStructure  \n",
       "\u001b[1;36m13709\u001b[0m     biolink:GrossAnatomicalStructure  \n",
       "\u001b[1;36m13729\u001b[0m     biolink:GrossAnatomicalStructure  \n",
       "\u001b[1;36m13741\u001b[0m     biolink:GrossAnatomicalStructure  \n",
       "\u001b[1;36m13871\u001b[0m     biolink:GrossAnatomicalStructure  \n",
       "\u001b[1;36m13940\u001b[0m     biolink:GrossAnatomicalStructure  \n",
       "\u001b[1;36m14009\u001b[0m     biolink:GrossAnatomicalStructure  \n",
       "\u001b[1;36m14475\u001b[0m  biolink:BiologicalProcessOrActivity  \n",
       "\u001b[1;36m14477\u001b[0m  biolink:BiologicalProcessOrActivity  \n",
       "\u001b[1;36m14533\u001b[0m  biolink:BiologicalProcessOrActivity  \n",
       "\u001b[1;36m14584\u001b[0m  biolink:BiologicalProcessOrActivity  \n",
       "\u001b[1;36m14586\u001b[0m  biolink:BiologicalProcessOrActivity  \n",
       "\u001b[1;36m14587\u001b[0m  biolink:BiologicalProcessOrActivity  \n",
       "\u001b[1;36m14591\u001b[0m            biolink:CellularComponent  \n",
       "\u001b[1;36m14592\u001b[0m            biolink:CellularComponent  \n",
       "\u001b[1;36m14595\u001b[0m            biolink:CellularComponent  \n",
       "\u001b[1;36m14600\u001b[0m            biolink:CellularComponent  \n",
       "\u001b[1;36m14609\u001b[0m            biolink:CellularComponent  \n",
       "\u001b[1;36m14610\u001b[0m            biolink:CellularComponent  \n",
       "\u001b[1;36m14611\u001b[0m            biolink:CellularComponent  \n",
       "\u001b[1;36m14625\u001b[0m            biolink:CellularComponent  \n",
       "\u001b[1;36m14633\u001b[0m            biolink:CellularComponent  \n",
       "\u001b[1;36m14644\u001b[0m            biolink:CellularComponent  \n",
       "\u001b[1;36m14805\u001b[0m  biolink:BiologicalProcessOrActivity  \n",
       "\u001b[1;36m14941\u001b[0m            biolink:CellularComponent  \n",
       "\u001b[1;36m15294\u001b[0m  biolink:BiologicalProcessOrActivity  \n",
       "\u001b[1;36m15409\u001b[0m  biolink:BiologicalProcessOrActivity  \n",
       "\u001b[1;36m15426\u001b[0m  biolink:BiologicalProcessOrActivity  \n",
       "\u001b[1;36m15864\u001b[0m            biolink:PhenotypicFeature  \n",
       "\u001b[1;36m15995\u001b[0m            biolink:PhenotypicFeature  \n",
       "\u001b[1;36m17397\u001b[0m             biolink:AnatomicalEntity  \n",
       "\u001b[1;36m17637\u001b[0m     biolink:GrossAnatomicalStructure  \n",
       "\u001b[1;36m17702\u001b[0m             biolink:AnatomicalEntity  \n",
       "\u001b[1;36m17703\u001b[0m     biolink:GrossAnatomicalStructure  "
      ]
     },
     "metadata": {},
     "output_type": "display_data"
    }
   ],
   "source": [
    "# Considering nodes with 10 or more edges\n",
    "high_degree = sorted_array[(sorted_array[:, 1] > 10),:] \n",
    "print(f\"Number of nodes with 10 or more edges: {high_degree.shape[0]}\")\n",
    "\n",
    "# indentifying the nodes with high degree\n",
    "hd_nodes = nodes[nodes['id_encoded'].isin(high_degree[:,0])]\n",
    "display(\"## High degree nodes ##\")\n",
    "display(hd_nodes[['name', 'category']])"
   ]
  },
  {
   "cell_type": "code",
   "execution_count": 24,
   "metadata": {},
   "outputs": [
    {
     "data": {
      "text/html": [
       "<pre style=\"white-space:pre;overflow-x:auto;line-height:normal;font-family:Menlo,'DejaVu Sans Mono',consolas,'Courier New',monospace\">Number of nodes with single edge: <span style=\"color: #008080; text-decoration-color: #008080; font-weight: bold\">15749</span>\n",
       "</pre>\n"
      ],
      "text/plain": [
       "Number of nodes with single edge: \u001b[1;36m15749\u001b[0m\n"
      ]
     },
     "metadata": {},
     "output_type": "display_data"
    },
    {
     "data": {
      "text/html": [
       "<pre style=\"white-space:pre;overflow-x:auto;line-height:normal;font-family:Menlo,'DejaVu Sans Mono',consolas,'Courier New',monospace\"></pre>\n"
      ],
      "text/plain": []
     },
     "metadata": {},
     "output_type": "display_data"
    },
    {
     "data": {
      "text/plain": [
       "\u001b[32m'## Low degree nodes ##'\u001b[0m"
      ]
     },
     "metadata": {},
     "output_type": "display_data"
    },
    {
     "data": {
      "text/html": [
       "<pre style=\"white-space:pre;overflow-x:auto;line-height:normal;font-family:Menlo,'DejaVu Sans Mono',consolas,'Courier New',monospace\"></pre>\n"
      ],
      "text/plain": []
     },
     "metadata": {},
     "output_type": "display_data"
    },
    {
     "data": {
      "text/plain": [
       "\n",
       "category\n",
       "biolink:Gene                           \u001b[1;36m11736\u001b[0m\n",
       "biolink:PhenotypicFeature               \u001b[1;36m1304\u001b[0m\n",
       "biolink:BiologicalProcessOrActivity     \u001b[1;36m1003\u001b[0m\n",
       "biolink:GrossAnatomicalStructure         \u001b[1;36m441\u001b[0m\n",
       "biolink:Disease                          \u001b[1;36m314\u001b[0m\n",
       "biolink:Pathway                          \u001b[1;36m286\u001b[0m\n",
       "biolink:Cell                             \u001b[1;36m203\u001b[0m\n",
       "biolink:AnatomicalEntity                 \u001b[1;36m154\u001b[0m\n",
       "biolink:CellularComponent                 \u001b[1;36m98\u001b[0m\n",
       "biolink:MacromolecularComplex             \u001b[1;36m79\u001b[0m\n",
       "biolink:NamedThing                        \u001b[1;36m63\u001b[0m\n",
       "biolink:MolecularEntity                   \u001b[1;36m44\u001b[0m\n",
       "biolink:Protein                            \u001b[1;36m8\u001b[0m\n",
       "biolink:PhenotypicQuality                  \u001b[1;36m5\u001b[0m\n",
       "biolink:ChemicalEntity                     \u001b[1;36m2\u001b[0m\n",
       "biolink:LifeStage                          \u001b[1;36m2\u001b[0m\n",
       "biolink:Virus                              \u001b[1;36m2\u001b[0m\n",
       "biolink:CellularOrganism                   \u001b[1;36m2\u001b[0m\n",
       "biolink:SmallMolecule                      \u001b[1;36m1\u001b[0m\n",
       "biolink:PathologicalProcess                \u001b[1;36m1\u001b[0m\n",
       "biolink:Vertebrate                         \u001b[1;36m1\u001b[0m\n",
       "Name: count, dtype: int64\u001b[1m[\u001b[0mpyarrow\u001b[1m]\u001b[0m"
      ]
     },
     "metadata": {},
     "output_type": "display_data"
    }
   ],
   "source": [
    "# Considering nodes with single edge\n",
    "low_degree = sorted_array[(sorted_array[:, 1] == 1),:] \n",
    "print(f\"Number of nodes with single edge: {low_degree.shape[0]}\")\n",
    "\n",
    "# indentifying the nodes with low degree\n",
    "ld_nodes = nodes[nodes['id_encoded'].isin(low_degree[:,0])]\n",
    "display(\"## Low degree nodes ##\")\n",
    "display(ld_nodes[['name', 'category']]['category'].value_counts())"
   ]
  },
  {
   "cell_type": "markdown",
   "metadata": {},
   "source": [
    "Calculating paths between nodes"
   ]
  },
  {
   "cell_type": "code",
   "execution_count": 25,
   "metadata": {},
   "outputs": [
    {
     "data": {
      "text/html": [
       "<pre style=\"white-space:pre;overflow-x:auto;line-height:normal;font-family:Menlo,'DejaVu Sans Mono',consolas,'Courier New',monospace\"></pre>\n"
      ],
      "text/plain": []
     },
     "metadata": {},
     "output_type": "display_data"
    },
    {
     "data": {
      "text/plain": [
       "\u001b[1m(\u001b[0m\u001b[1;36m13224\u001b[0m,\u001b[1m)\u001b[0m"
      ]
     },
     "execution_count": 25,
     "metadata": {},
     "output_type": "execute_result"
    }
   ],
   "source": [
    "gene_node_ids = nodes[nodes['category']=='biolink:Gene']['id_encoded'].values\n",
    "gene_node_ids.shape"
   ]
  },
  {
   "cell_type": "code",
   "execution_count": 28,
   "metadata": {},
   "outputs": [
    {
     "data": {
      "text/html": [
       "<pre style=\"white-space:pre;overflow-x:auto;line-height:normal;font-family:Menlo,'DejaVu Sans Mono',consolas,'Courier New',monospace\">Number of pairs: <span style=\"color: #008080; text-decoration-color: #008080; font-weight: bold\">87430476</span>\n",
       "</pre>\n"
      ],
      "text/plain": [
       "Number of pairs: \u001b[1;36m87430476\u001b[0m\n"
      ]
     },
     "metadata": {},
     "output_type": "display_data"
    },
    {
     "data": {
      "text/html": [
       "<pre style=\"white-space:pre;overflow-x:auto;line-height:normal;font-family:Menlo,'DejaVu Sans Mono',consolas,'Courier New',monospace\"><span style=\"font-weight: bold\">[(</span><span style=\"color: #008080; text-decoration-color: #008080; font-weight: bold\">12342</span>, <span style=\"color: #008080; text-decoration-color: #008080; font-weight: bold\">12343</span><span style=\"font-weight: bold\">)</span>, <span style=\"font-weight: bold\">(</span><span style=\"color: #008080; text-decoration-color: #008080; font-weight: bold\">12342</span>, <span style=\"color: #008080; text-decoration-color: #008080; font-weight: bold\">12344</span><span style=\"font-weight: bold\">)</span>, <span style=\"font-weight: bold\">(</span><span style=\"color: #008080; text-decoration-color: #008080; font-weight: bold\">12342</span>, <span style=\"color: #008080; text-decoration-color: #008080; font-weight: bold\">12345</span><span style=\"font-weight: bold\">)</span>, <span style=\"font-weight: bold\">(</span><span style=\"color: #008080; text-decoration-color: #008080; font-weight: bold\">12342</span>, <span style=\"color: #008080; text-decoration-color: #008080; font-weight: bold\">12346</span><span style=\"font-weight: bold\">)</span>, <span style=\"font-weight: bold\">(</span><span style=\"color: #008080; text-decoration-color: #008080; font-weight: bold\">12342</span>, <span style=\"color: #008080; text-decoration-color: #008080; font-weight: bold\">12347</span><span style=\"font-weight: bold\">)]</span>\n",
       "</pre>\n"
      ],
      "text/plain": [
       "\u001b[1m[\u001b[0m\u001b[1m(\u001b[0m\u001b[1;36m12342\u001b[0m, \u001b[1;36m12343\u001b[0m\u001b[1m)\u001b[0m, \u001b[1m(\u001b[0m\u001b[1;36m12342\u001b[0m, \u001b[1;36m12344\u001b[0m\u001b[1m)\u001b[0m, \u001b[1m(\u001b[0m\u001b[1;36m12342\u001b[0m, \u001b[1;36m12345\u001b[0m\u001b[1m)\u001b[0m, \u001b[1m(\u001b[0m\u001b[1;36m12342\u001b[0m, \u001b[1;36m12346\u001b[0m\u001b[1m)\u001b[0m, \u001b[1m(\u001b[0m\u001b[1;36m12342\u001b[0m, \u001b[1;36m12347\u001b[0m\u001b[1m)\u001b[0m\u001b[1m]\u001b[0m\n"
      ]
     },
     "metadata": {},
     "output_type": "display_data"
    }
   ],
   "source": [
    "pairs = list(itertools.combinations(gene_node_ids, 2))\n",
    "print(f\"Number of pairs: {len(pairs)}\")\n",
    "print(pairs[:5])"
   ]
  },
  {
   "cell_type": "code",
   "execution_count": 29,
   "metadata": {},
   "outputs": [
    {
     "data": {
      "text/html": [
       "<pre style=\"white-space:pre;overflow-x:auto;line-height:normal;font-family:Menlo,'DejaVu Sans Mono',consolas,'Courier New',monospace\"></pre>\n"
      ],
      "text/plain": []
     },
     "metadata": {},
     "output_type": "display_data"
    },
    {
     "data": {
      "text/plain": [
       "\u001b[1;36m10000\u001b[0m"
      ]
     },
     "execution_count": 29,
     "metadata": {},
     "output_type": "execute_result"
    }
   ],
   "source": [
    "_s_pairs = random.sample(pairs, 10000)\n",
    "len(_s_pairs)"
   ]
  },
  {
   "cell_type": "code",
   "execution_count": null,
   "metadata": {},
   "outputs": [],
   "source": [
    "import dask.array as da\n",
    "\n",
    "pairs_arr = da.from_array(_s_pairs, chunks=(10000, 2))  # Divide into chunks"
   ]
  },
  {
   "cell_type": "code",
   "execution_count": 30,
   "metadata": {},
   "outputs": [
    {
     "data": {
      "text/html": [
       "<pre style=\"white-space:pre;overflow-x:auto;line-height:normal;font-family:Menlo,'DejaVu Sans Mono',consolas,'Courier New',monospace\"><span style=\"color: #7fbfbf; text-decoration-color: #7fbfbf\">[01/19/24 00:43:54] </span><span style=\"color: #000080; text-decoration-color: #000080\">INFO    </span> To route to workers diagnostics web server please install                  <a href=\"file://C:\\Users\\Tahsin\\miniconda3\\envs\\modspy\\lib\\site-packages\\distributed\\http\\proxy.py\" target=\"_blank\"><span style=\"color: #7f7f7f; text-decoration-color: #7f7f7f\">proxy.py</span></a><span style=\"color: #7f7f7f; text-decoration-color: #7f7f7f\">:</span><a href=\"file://C:\\Users\\Tahsin\\miniconda3\\envs\\modspy\\lib\\site-packages\\distributed\\http\\proxy.py#71\" target=\"_blank\"><span style=\"color: #7f7f7f; text-decoration-color: #7f7f7f\">71</span></a>\n",
       "<span style=\"color: #7fbfbf; text-decoration-color: #7fbfbf\">                    </span>         jupyter-server-proxy: python -m pip install jupyter-server-proxy           <span style=\"color: #7f7f7f; text-decoration-color: #7f7f7f\">           </span>\n",
       "</pre>\n"
      ],
      "text/plain": [
       "\u001b[2;36m[01/19/24 00:43:54]\u001b[0m\u001b[2;36m \u001b[0m\u001b[34mINFO    \u001b[0m To route to workers diagnostics web server please install                  \u001b]8;id=299403;file://C:\\Users\\Tahsin\\miniconda3\\envs\\modspy\\lib\\site-packages\\distributed\\http\\proxy.py\u001b\\\u001b[2mproxy.py\u001b[0m\u001b]8;;\u001b\\\u001b[2m:\u001b[0m\u001b]8;id=715270;file://C:\\Users\\Tahsin\\miniconda3\\envs\\modspy\\lib\\site-packages\\distributed\\http\\proxy.py#71\u001b\\\u001b[2m71\u001b[0m\u001b]8;;\u001b\\\n",
       "\u001b[2;36m                    \u001b[0m         jupyter-server-proxy: python -m pip install jupyter-server-proxy           \u001b[2m           \u001b[0m\n"
      ]
     },
     "metadata": {},
     "output_type": "display_data"
    },
    {
     "data": {
      "text/html": [
       "<pre style=\"white-space:pre;overflow-x:auto;line-height:normal;font-family:Menlo,'DejaVu Sans Mono',consolas,'Courier New',monospace\"><span style=\"color: #7fbfbf; text-decoration-color: #7fbfbf\">                    </span><span style=\"color: #000080; text-decoration-color: #000080\">INFO    </span> State start                                                          <a href=\"file://C:\\Users\\Tahsin\\miniconda3\\envs\\modspy\\lib\\site-packages\\distributed\\scheduler.py\" target=\"_blank\"><span style=\"color: #7f7f7f; text-decoration-color: #7f7f7f\">scheduler.py</span></a><span style=\"color: #7f7f7f; text-decoration-color: #7f7f7f\">:</span><a href=\"file://C:\\Users\\Tahsin\\miniconda3\\envs\\modspy\\lib\\site-packages\\distributed\\scheduler.py#1707\" target=\"_blank\"><span style=\"color: #7f7f7f; text-decoration-color: #7f7f7f\">1707</span></a>\n",
       "</pre>\n"
      ],
      "text/plain": [
       "\u001b[2;36m                   \u001b[0m\u001b[2;36m \u001b[0m\u001b[34mINFO    \u001b[0m State start                                                          \u001b]8;id=471954;file://C:\\Users\\Tahsin\\miniconda3\\envs\\modspy\\lib\\site-packages\\distributed\\scheduler.py\u001b\\\u001b[2mscheduler.py\u001b[0m\u001b]8;;\u001b\\\u001b[2m:\u001b[0m\u001b]8;id=564271;file://C:\\Users\\Tahsin\\miniconda3\\envs\\modspy\\lib\\site-packages\\distributed\\scheduler.py#1707\u001b\\\u001b[2m1707\u001b[0m\u001b]8;;\u001b\\\n"
      ]
     },
     "metadata": {},
     "output_type": "display_data"
    },
    {
     "data": {
      "text/html": [
       "<pre style=\"white-space:pre;overflow-x:auto;line-height:normal;font-family:Menlo,'DejaVu Sans Mono',consolas,'Courier New',monospace\"><span style=\"color: #7fbfbf; text-decoration-color: #7fbfbf\">                    </span><span style=\"color: #000080; text-decoration-color: #000080\">INFO    </span> Found stale lock file and directory                                   <a href=\"file://C:\\Users\\Tahsin\\miniconda3\\envs\\modspy\\lib\\site-packages\\distributed\\diskutils.py\" target=\"_blank\"><span style=\"color: #7f7f7f; text-decoration-color: #7f7f7f\">diskutils.py</span></a><span style=\"color: #7f7f7f; text-decoration-color: #7f7f7f\">:</span><a href=\"file://C:\\Users\\Tahsin\\miniconda3\\envs\\modspy\\lib\\site-packages\\distributed\\diskutils.py#252\" target=\"_blank\"><span style=\"color: #7f7f7f; text-decoration-color: #7f7f7f\">252</span></a>\n",
       "<span style=\"color: #7fbfbf; text-decoration-color: #7fbfbf\">                    </span>         <span style=\"color: #008000; text-decoration-color: #008000\">'C:\\\\Users\\\\Tahsin\\\\AppData\\\\Local\\\\Temp\\\\dask-scratch-space\\\\schedul</span> <span style=\"color: #7f7f7f; text-decoration-color: #7f7f7f\">                </span>\n",
       "<span style=\"color: #7fbfbf; text-decoration-color: #7fbfbf\">                    </span>         <span style=\"color: #008000; text-decoration-color: #008000\">er-xj0hoi4h'</span>, purging                                                 <span style=\"color: #7f7f7f; text-decoration-color: #7f7f7f\">                </span>\n",
       "</pre>\n"
      ],
      "text/plain": [
       "\u001b[2;36m                   \u001b[0m\u001b[2;36m \u001b[0m\u001b[34mINFO    \u001b[0m Found stale lock file and directory                                   \u001b]8;id=244005;file://C:\\Users\\Tahsin\\miniconda3\\envs\\modspy\\lib\\site-packages\\distributed\\diskutils.py\u001b\\\u001b[2mdiskutils.py\u001b[0m\u001b]8;;\u001b\\\u001b[2m:\u001b[0m\u001b]8;id=926494;file://C:\\Users\\Tahsin\\miniconda3\\envs\\modspy\\lib\\site-packages\\distributed\\diskutils.py#252\u001b\\\u001b[2m252\u001b[0m\u001b]8;;\u001b\\\n",
       "\u001b[2;36m                    \u001b[0m         \u001b[32m'C:\\\\Users\\\\Tahsin\\\\AppData\\\\Local\\\\Temp\\\\dask-scratch-space\\\\schedul\u001b[0m \u001b[2m                \u001b[0m\n",
       "\u001b[2;36m                    \u001b[0m         \u001b[32mer-xj0hoi4h'\u001b[0m, purging                                                 \u001b[2m                \u001b[0m\n"
      ]
     },
     "metadata": {},
     "output_type": "display_data"
    },
    {
     "data": {
      "text/html": [
       "<pre style=\"white-space:pre;overflow-x:auto;line-height:normal;font-family:Menlo,'DejaVu Sans Mono',consolas,'Courier New',monospace\"><span style=\"color: #7fbfbf; text-decoration-color: #7fbfbf\">                    </span><span style=\"color: #000080; text-decoration-color: #000080\">INFO    </span>   Scheduler at:     tcp:<span style=\"color: #800080; text-decoration-color: #800080\">//</span><span style=\"color: #ff00ff; text-decoration-color: #ff00ff\">127.0.0.1</span>:<span style=\"color: #008080; text-decoration-color: #008080; font-weight: bold\">62070</span>                            <a href=\"file://C:\\Users\\Tahsin\\miniconda3\\envs\\modspy\\lib\\site-packages\\distributed\\scheduler.py\" target=\"_blank\"><span style=\"color: #7f7f7f; text-decoration-color: #7f7f7f\">scheduler.py</span></a><span style=\"color: #7f7f7f; text-decoration-color: #7f7f7f\">:</span><a href=\"file://C:\\Users\\Tahsin\\miniconda3\\envs\\modspy\\lib\\site-packages\\distributed\\scheduler.py#4058\" target=\"_blank\"><span style=\"color: #7f7f7f; text-decoration-color: #7f7f7f\">4058</span></a>\n",
       "</pre>\n"
      ],
      "text/plain": [
       "\u001b[2;36m                   \u001b[0m\u001b[2;36m \u001b[0m\u001b[34mINFO    \u001b[0m   Scheduler at:     tcp:\u001b[35m/\u001b[0m\u001b[35m/\u001b[0m\u001b[95m127.0.0.1\u001b[0m:\u001b[1;36m62070\u001b[0m                            \u001b]8;id=676813;file://C:\\Users\\Tahsin\\miniconda3\\envs\\modspy\\lib\\site-packages\\distributed\\scheduler.py\u001b\\\u001b[2mscheduler.py\u001b[0m\u001b]8;;\u001b\\\u001b[2m:\u001b[0m\u001b]8;id=615017;file://C:\\Users\\Tahsin\\miniconda3\\envs\\modspy\\lib\\site-packages\\distributed\\scheduler.py#4058\u001b\\\u001b[2m4058\u001b[0m\u001b]8;;\u001b\\\n"
      ]
     },
     "metadata": {},
     "output_type": "display_data"
    },
    {
     "data": {
      "text/html": [
       "<pre style=\"white-space:pre;overflow-x:auto;line-height:normal;font-family:Menlo,'DejaVu Sans Mono',consolas,'Courier New',monospace\"><span style=\"color: #7fbfbf; text-decoration-color: #7fbfbf\">                    </span><span style=\"color: #000080; text-decoration-color: #000080\">INFO    </span>   dashboard at:  <span style=\"color: #0000ff; text-decoration-color: #0000ff; text-decoration: underline\">http://127.0.0.1:8787/status</span>                        <a href=\"file://C:\\Users\\Tahsin\\miniconda3\\envs\\modspy\\lib\\site-packages\\distributed\\scheduler.py\" target=\"_blank\"><span style=\"color: #7f7f7f; text-decoration-color: #7f7f7f\">scheduler.py</span></a><span style=\"color: #7f7f7f; text-decoration-color: #7f7f7f\">:</span><a href=\"file://C:\\Users\\Tahsin\\miniconda3\\envs\\modspy\\lib\\site-packages\\distributed\\scheduler.py#4073\" target=\"_blank\"><span style=\"color: #7f7f7f; text-decoration-color: #7f7f7f\">4073</span></a>\n",
       "</pre>\n"
      ],
      "text/plain": [
       "\u001b[2;36m                   \u001b[0m\u001b[2;36m \u001b[0m\u001b[34mINFO    \u001b[0m   dashboard at:  \u001b[4;94mhttp://127.0.0.1:8787/status\u001b[0m                        \u001b]8;id=976416;file://C:\\Users\\Tahsin\\miniconda3\\envs\\modspy\\lib\\site-packages\\distributed\\scheduler.py\u001b\\\u001b[2mscheduler.py\u001b[0m\u001b]8;;\u001b\\\u001b[2m:\u001b[0m\u001b]8;id=747299;file://C:\\Users\\Tahsin\\miniconda3\\envs\\modspy\\lib\\site-packages\\distributed\\scheduler.py#4073\u001b\\\u001b[2m4073\u001b[0m\u001b]8;;\u001b\\\n"
      ]
     },
     "metadata": {},
     "output_type": "display_data"
    },
    {
     "data": {
      "text/html": [
       "<pre style=\"white-space:pre;overflow-x:auto;line-height:normal;font-family:Menlo,'DejaVu Sans Mono',consolas,'Courier New',monospace\"><span style=\"color: #7fbfbf; text-decoration-color: #7fbfbf\">                    </span><span style=\"color: #000080; text-decoration-color: #000080\">INFO    </span> Registering Worker plugin shuffle                                    <a href=\"file://C:\\Users\\Tahsin\\miniconda3\\envs\\modspy\\lib\\site-packages\\distributed\\scheduler.py\" target=\"_blank\"><span style=\"color: #7f7f7f; text-decoration-color: #7f7f7f\">scheduler.py</span></a><span style=\"color: #7f7f7f; text-decoration-color: #7f7f7f\">:</span><a href=\"file://C:\\Users\\Tahsin\\miniconda3\\envs\\modspy\\lib\\site-packages\\distributed\\scheduler.py#7605\" target=\"_blank\"><span style=\"color: #7f7f7f; text-decoration-color: #7f7f7f\">7605</span></a>\n",
       "</pre>\n"
      ],
      "text/plain": [
       "\u001b[2;36m                   \u001b[0m\u001b[2;36m \u001b[0m\u001b[34mINFO    \u001b[0m Registering Worker plugin shuffle                                    \u001b]8;id=272562;file://C:\\Users\\Tahsin\\miniconda3\\envs\\modspy\\lib\\site-packages\\distributed\\scheduler.py\u001b\\\u001b[2mscheduler.py\u001b[0m\u001b]8;;\u001b\\\u001b[2m:\u001b[0m\u001b]8;id=706556;file://C:\\Users\\Tahsin\\miniconda3\\envs\\modspy\\lib\\site-packages\\distributed\\scheduler.py#7605\u001b\\\u001b[2m7605\u001b[0m\u001b]8;;\u001b\\\n"
      ]
     },
     "metadata": {},
     "output_type": "display_data"
    },
    {
     "data": {
      "text/html": [
       "<pre style=\"white-space:pre;overflow-x:auto;line-height:normal;font-family:Menlo,'DejaVu Sans Mono',consolas,'Courier New',monospace\"><span style=\"color: #7fbfbf; text-decoration-color: #7fbfbf\">                    </span><span style=\"color: #000080; text-decoration-color: #000080\">INFO    </span>         Start Nanny at: <span style=\"color: #008000; text-decoration-color: #008000\">'tcp://127.0.0.1:62105'</span>                           <a href=\"file://C:\\Users\\Tahsin\\miniconda3\\envs\\modspy\\lib\\site-packages\\distributed\\nanny.py\" target=\"_blank\"><span style=\"color: #7f7f7f; text-decoration-color: #7f7f7f\">nanny.py</span></a><span style=\"color: #7f7f7f; text-decoration-color: #7f7f7f\">:</span><a href=\"file://C:\\Users\\Tahsin\\miniconda3\\envs\\modspy\\lib\\site-packages\\distributed\\nanny.py#368\" target=\"_blank\"><span style=\"color: #7f7f7f; text-decoration-color: #7f7f7f\">368</span></a>\n",
       "</pre>\n"
      ],
      "text/plain": [
       "\u001b[2;36m                   \u001b[0m\u001b[2;36m \u001b[0m\u001b[34mINFO    \u001b[0m         Start Nanny at: \u001b[32m'tcp://127.0.0.1:62105'\u001b[0m                           \u001b]8;id=780281;file://C:\\Users\\Tahsin\\miniconda3\\envs\\modspy\\lib\\site-packages\\distributed\\nanny.py\u001b\\\u001b[2mnanny.py\u001b[0m\u001b]8;;\u001b\\\u001b[2m:\u001b[0m\u001b]8;id=464878;file://C:\\Users\\Tahsin\\miniconda3\\envs\\modspy\\lib\\site-packages\\distributed\\nanny.py#368\u001b\\\u001b[2m368\u001b[0m\u001b]8;;\u001b\\\n"
      ]
     },
     "metadata": {},
     "output_type": "display_data"
    },
    {
     "data": {
      "text/html": [
       "<pre style=\"white-space:pre;overflow-x:auto;line-height:normal;font-family:Menlo,'DejaVu Sans Mono',consolas,'Courier New',monospace\"><span style=\"color: #7fbfbf; text-decoration-color: #7fbfbf\">                    </span><span style=\"color: #000080; text-decoration-color: #000080\">INFO    </span>         Start Nanny at: <span style=\"color: #008000; text-decoration-color: #008000\">'tcp://127.0.0.1:62104'</span>                           <a href=\"file://C:\\Users\\Tahsin\\miniconda3\\envs\\modspy\\lib\\site-packages\\distributed\\nanny.py\" target=\"_blank\"><span style=\"color: #7f7f7f; text-decoration-color: #7f7f7f\">nanny.py</span></a><span style=\"color: #7f7f7f; text-decoration-color: #7f7f7f\">:</span><a href=\"file://C:\\Users\\Tahsin\\miniconda3\\envs\\modspy\\lib\\site-packages\\distributed\\nanny.py#368\" target=\"_blank\"><span style=\"color: #7f7f7f; text-decoration-color: #7f7f7f\">368</span></a>\n",
       "</pre>\n"
      ],
      "text/plain": [
       "\u001b[2;36m                   \u001b[0m\u001b[2;36m \u001b[0m\u001b[34mINFO    \u001b[0m         Start Nanny at: \u001b[32m'tcp://127.0.0.1:62104'\u001b[0m                           \u001b]8;id=543629;file://C:\\Users\\Tahsin\\miniconda3\\envs\\modspy\\lib\\site-packages\\distributed\\nanny.py\u001b\\\u001b[2mnanny.py\u001b[0m\u001b]8;;\u001b\\\u001b[2m:\u001b[0m\u001b]8;id=2484;file://C:\\Users\\Tahsin\\miniconda3\\envs\\modspy\\lib\\site-packages\\distributed\\nanny.py#368\u001b\\\u001b[2m368\u001b[0m\u001b]8;;\u001b\\\n"
      ]
     },
     "metadata": {},
     "output_type": "display_data"
    },
    {
     "data": {
      "text/html": [
       "<pre style=\"white-space:pre;overflow-x:auto;line-height:normal;font-family:Menlo,'DejaVu Sans Mono',consolas,'Courier New',monospace\"><span style=\"color: #7fbfbf; text-decoration-color: #7fbfbf\">                    </span><span style=\"color: #000080; text-decoration-color: #000080\">INFO    </span>         Start Nanny at: <span style=\"color: #008000; text-decoration-color: #008000\">'tcp://127.0.0.1:62102'</span>                           <a href=\"file://C:\\Users\\Tahsin\\miniconda3\\envs\\modspy\\lib\\site-packages\\distributed\\nanny.py\" target=\"_blank\"><span style=\"color: #7f7f7f; text-decoration-color: #7f7f7f\">nanny.py</span></a><span style=\"color: #7f7f7f; text-decoration-color: #7f7f7f\">:</span><a href=\"file://C:\\Users\\Tahsin\\miniconda3\\envs\\modspy\\lib\\site-packages\\distributed\\nanny.py#368\" target=\"_blank\"><span style=\"color: #7f7f7f; text-decoration-color: #7f7f7f\">368</span></a>\n",
       "</pre>\n"
      ],
      "text/plain": [
       "\u001b[2;36m                   \u001b[0m\u001b[2;36m \u001b[0m\u001b[34mINFO    \u001b[0m         Start Nanny at: \u001b[32m'tcp://127.0.0.1:62102'\u001b[0m                           \u001b]8;id=258395;file://C:\\Users\\Tahsin\\miniconda3\\envs\\modspy\\lib\\site-packages\\distributed\\nanny.py\u001b\\\u001b[2mnanny.py\u001b[0m\u001b]8;;\u001b\\\u001b[2m:\u001b[0m\u001b]8;id=484526;file://C:\\Users\\Tahsin\\miniconda3\\envs\\modspy\\lib\\site-packages\\distributed\\nanny.py#368\u001b\\\u001b[2m368\u001b[0m\u001b]8;;\u001b\\\n"
      ]
     },
     "metadata": {},
     "output_type": "display_data"
    },
    {
     "data": {
      "text/html": [
       "<pre style=\"white-space:pre;overflow-x:auto;line-height:normal;font-family:Menlo,'DejaVu Sans Mono',consolas,'Courier New',monospace\"><span style=\"color: #7fbfbf; text-decoration-color: #7fbfbf\">                    </span><span style=\"color: #000080; text-decoration-color: #000080\">INFO    </span>         Start Nanny at: <span style=\"color: #008000; text-decoration-color: #008000\">'tcp://127.0.0.1:62103'</span>                           <a href=\"file://C:\\Users\\Tahsin\\miniconda3\\envs\\modspy\\lib\\site-packages\\distributed\\nanny.py\" target=\"_blank\"><span style=\"color: #7f7f7f; text-decoration-color: #7f7f7f\">nanny.py</span></a><span style=\"color: #7f7f7f; text-decoration-color: #7f7f7f\">:</span><a href=\"file://C:\\Users\\Tahsin\\miniconda3\\envs\\modspy\\lib\\site-packages\\distributed\\nanny.py#368\" target=\"_blank\"><span style=\"color: #7f7f7f; text-decoration-color: #7f7f7f\">368</span></a>\n",
       "</pre>\n"
      ],
      "text/plain": [
       "\u001b[2;36m                   \u001b[0m\u001b[2;36m \u001b[0m\u001b[34mINFO    \u001b[0m         Start Nanny at: \u001b[32m'tcp://127.0.0.1:62103'\u001b[0m                           \u001b]8;id=547160;file://C:\\Users\\Tahsin\\miniconda3\\envs\\modspy\\lib\\site-packages\\distributed\\nanny.py\u001b\\\u001b[2mnanny.py\u001b[0m\u001b]8;;\u001b\\\u001b[2m:\u001b[0m\u001b]8;id=260196;file://C:\\Users\\Tahsin\\miniconda3\\envs\\modspy\\lib\\site-packages\\distributed\\nanny.py#368\u001b\\\u001b[2m368\u001b[0m\u001b]8;;\u001b\\\n"
      ]
     },
     "metadata": {},
     "output_type": "display_data"
    },
    {
     "data": {
      "text/html": [
       "<pre style=\"white-space:pre;overflow-x:auto;line-height:normal;font-family:Menlo,'DejaVu Sans Mono',consolas,'Courier New',monospace\"><span style=\"color: #7fbfbf; text-decoration-color: #7fbfbf\">[01/19/24 00:43:57] </span><span style=\"color: #000080; text-decoration-color: #000080\">INFO    </span> Register worker <span style=\"font-weight: bold\">&lt;</span><span style=\"color: #ff00ff; text-decoration-color: #ff00ff; font-weight: bold\">WorkerState</span><span style=\"color: #000000; text-decoration-color: #000000\"> </span><span style=\"color: #008000; text-decoration-color: #008000\">'tcp://127.0.0.1:62466'</span><span style=\"color: #000000; text-decoration-color: #000000\">, name: </span><span style=\"color: #008080; text-decoration-color: #008080; font-weight: bold\">0</span><span style=\"color: #000000; text-decoration-color: #000000\">, </span>      <a href=\"file://C:\\Users\\Tahsin\\miniconda3\\envs\\modspy\\lib\\site-packages\\distributed\\scheduler.py\" target=\"_blank\"><span style=\"color: #7f7f7f; text-decoration-color: #7f7f7f\">scheduler.py</span></a><span style=\"color: #7f7f7f; text-decoration-color: #7f7f7f\">:</span><a href=\"file://C:\\Users\\Tahsin\\miniconda3\\envs\\modspy\\lib\\site-packages\\distributed\\scheduler.py#4410\" target=\"_blank\"><span style=\"color: #7f7f7f; text-decoration-color: #7f7f7f\">4410</span></a>\n",
       "<span style=\"color: #7fbfbf; text-decoration-color: #7fbfbf\">                    </span>         <span style=\"color: #000000; text-decoration-color: #000000\">status: init, memory: </span><span style=\"color: #008080; text-decoration-color: #008080; font-weight: bold\">0</span><span style=\"color: #000000; text-decoration-color: #000000\">, processing: </span><span style=\"color: #008080; text-decoration-color: #008080; font-weight: bold\">0</span><span style=\"font-weight: bold\">&gt;</span>                              <span style=\"color: #7f7f7f; text-decoration-color: #7f7f7f\">                 </span>\n",
       "</pre>\n"
      ],
      "text/plain": [
       "\u001b[2;36m[01/19/24 00:43:57]\u001b[0m\u001b[2;36m \u001b[0m\u001b[34mINFO    \u001b[0m Register worker \u001b[1m<\u001b[0m\u001b[1;95mWorkerState\u001b[0m\u001b[39m \u001b[0m\u001b[32m'tcp://127.0.0.1:62466'\u001b[0m\u001b[39m, name: \u001b[0m\u001b[1;36m0\u001b[0m\u001b[39m, \u001b[0m      \u001b]8;id=386162;file://C:\\Users\\Tahsin\\miniconda3\\envs\\modspy\\lib\\site-packages\\distributed\\scheduler.py\u001b\\\u001b[2mscheduler.py\u001b[0m\u001b]8;;\u001b\\\u001b[2m:\u001b[0m\u001b]8;id=782975;file://C:\\Users\\Tahsin\\miniconda3\\envs\\modspy\\lib\\site-packages\\distributed\\scheduler.py#4410\u001b\\\u001b[2m4410\u001b[0m\u001b]8;;\u001b\\\n",
       "\u001b[2;36m                    \u001b[0m         \u001b[39mstatus: init, memory: \u001b[0m\u001b[1;36m0\u001b[0m\u001b[39m, processing: \u001b[0m\u001b[1;36m0\u001b[0m\u001b[1m>\u001b[0m                              \u001b[2m                 \u001b[0m\n"
      ]
     },
     "metadata": {},
     "output_type": "display_data"
    },
    {
     "data": {
      "text/html": [
       "<pre style=\"white-space:pre;overflow-x:auto;line-height:normal;font-family:Menlo,'DejaVu Sans Mono',consolas,'Courier New',monospace\"><span style=\"color: #7fbfbf; text-decoration-color: #7fbfbf\">                    </span><span style=\"color: #000080; text-decoration-color: #000080\">INFO    </span> Starting worker compute stream, tcp:<span style=\"color: #800080; text-decoration-color: #800080\">//</span><span style=\"color: #ff00ff; text-decoration-color: #ff00ff\">127.0.0.1</span>:<span style=\"color: #008080; text-decoration-color: #008080; font-weight: bold\">62466</span>                <a href=\"file://C:\\Users\\Tahsin\\miniconda3\\envs\\modspy\\lib\\site-packages\\distributed\\scheduler.py\" target=\"_blank\"><span style=\"color: #7f7f7f; text-decoration-color: #7f7f7f\">scheduler.py</span></a><span style=\"color: #7f7f7f; text-decoration-color: #7f7f7f\">:</span><a href=\"file://C:\\Users\\Tahsin\\miniconda3\\envs\\modspy\\lib\\site-packages\\distributed\\scheduler.py#5820\" target=\"_blank\"><span style=\"color: #7f7f7f; text-decoration-color: #7f7f7f\">5820</span></a>\n",
       "</pre>\n"
      ],
      "text/plain": [
       "\u001b[2;36m                   \u001b[0m\u001b[2;36m \u001b[0m\u001b[34mINFO    \u001b[0m Starting worker compute stream, tcp:\u001b[35m/\u001b[0m\u001b[35m/\u001b[0m\u001b[95m127.0.0.1\u001b[0m:\u001b[1;36m62466\u001b[0m                \u001b]8;id=687990;file://C:\\Users\\Tahsin\\miniconda3\\envs\\modspy\\lib\\site-packages\\distributed\\scheduler.py\u001b\\\u001b[2mscheduler.py\u001b[0m\u001b]8;;\u001b\\\u001b[2m:\u001b[0m\u001b]8;id=911387;file://C:\\Users\\Tahsin\\miniconda3\\envs\\modspy\\lib\\site-packages\\distributed\\scheduler.py#5820\u001b\\\u001b[2m5820\u001b[0m\u001b]8;;\u001b\\\n"
      ]
     },
     "metadata": {},
     "output_type": "display_data"
    },
    {
     "data": {
      "text/html": [
       "<pre style=\"white-space:pre;overflow-x:auto;line-height:normal;font-family:Menlo,'DejaVu Sans Mono',consolas,'Courier New',monospace\"><span style=\"color: #7fbfbf; text-decoration-color: #7fbfbf\">                    </span><span style=\"color: #000080; text-decoration-color: #000080\">INFO    </span> Starting established connection to tcp:<span style=\"color: #800080; text-decoration-color: #800080\">//</span><span style=\"color: #ff00ff; text-decoration-color: #ff00ff\">127.0.0.1</span>:<span style=\"color: #008080; text-decoration-color: #008080; font-weight: bold\">62487</span>                  <a href=\"file://C:\\Users\\Tahsin\\miniconda3\\envs\\modspy\\lib\\site-packages\\distributed\\core.py\" target=\"_blank\"><span style=\"color: #7f7f7f; text-decoration-color: #7f7f7f\">core.py</span></a><span style=\"color: #7f7f7f; text-decoration-color: #7f7f7f\">:</span><a href=\"file://C:\\Users\\Tahsin\\miniconda3\\envs\\modspy\\lib\\site-packages\\distributed\\core.py#1018\" target=\"_blank\"><span style=\"color: #7f7f7f; text-decoration-color: #7f7f7f\">1018</span></a>\n",
       "</pre>\n"
      ],
      "text/plain": [
       "\u001b[2;36m                   \u001b[0m\u001b[2;36m \u001b[0m\u001b[34mINFO    \u001b[0m Starting established connection to tcp:\u001b[35m/\u001b[0m\u001b[35m/\u001b[0m\u001b[95m127.0.0.1\u001b[0m:\u001b[1;36m62487\u001b[0m                  \u001b]8;id=999008;file://C:\\Users\\Tahsin\\miniconda3\\envs\\modspy\\lib\\site-packages\\distributed\\core.py\u001b\\\u001b[2mcore.py\u001b[0m\u001b]8;;\u001b\\\u001b[2m:\u001b[0m\u001b]8;id=886931;file://C:\\Users\\Tahsin\\miniconda3\\envs\\modspy\\lib\\site-packages\\distributed\\core.py#1018\u001b\\\u001b[2m1018\u001b[0m\u001b]8;;\u001b\\\n"
      ]
     },
     "metadata": {},
     "output_type": "display_data"
    },
    {
     "data": {
      "text/html": [
       "<pre style=\"white-space:pre;overflow-x:auto;line-height:normal;font-family:Menlo,'DejaVu Sans Mono',consolas,'Courier New',monospace\"><span style=\"color: #7fbfbf; text-decoration-color: #7fbfbf\">                    </span><span style=\"color: #000080; text-decoration-color: #000080\">INFO    </span> Register worker <span style=\"font-weight: bold\">&lt;</span><span style=\"color: #ff00ff; text-decoration-color: #ff00ff; font-weight: bold\">WorkerState</span><span style=\"color: #000000; text-decoration-color: #000000\"> </span><span style=\"color: #008000; text-decoration-color: #008000\">'tcp://127.0.0.1:62458'</span><span style=\"color: #000000; text-decoration-color: #000000\">, name: </span><span style=\"color: #008080; text-decoration-color: #008080; font-weight: bold\">2</span><span style=\"color: #000000; text-decoration-color: #000000\">, </span>      <a href=\"file://C:\\Users\\Tahsin\\miniconda3\\envs\\modspy\\lib\\site-packages\\distributed\\scheduler.py\" target=\"_blank\"><span style=\"color: #7f7f7f; text-decoration-color: #7f7f7f\">scheduler.py</span></a><span style=\"color: #7f7f7f; text-decoration-color: #7f7f7f\">:</span><a href=\"file://C:\\Users\\Tahsin\\miniconda3\\envs\\modspy\\lib\\site-packages\\distributed\\scheduler.py#4410\" target=\"_blank\"><span style=\"color: #7f7f7f; text-decoration-color: #7f7f7f\">4410</span></a>\n",
       "<span style=\"color: #7fbfbf; text-decoration-color: #7fbfbf\">                    </span>         <span style=\"color: #000000; text-decoration-color: #000000\">status: init, memory: </span><span style=\"color: #008080; text-decoration-color: #008080; font-weight: bold\">0</span><span style=\"color: #000000; text-decoration-color: #000000\">, processing: </span><span style=\"color: #008080; text-decoration-color: #008080; font-weight: bold\">0</span><span style=\"font-weight: bold\">&gt;</span>                              <span style=\"color: #7f7f7f; text-decoration-color: #7f7f7f\">                 </span>\n",
       "</pre>\n"
      ],
      "text/plain": [
       "\u001b[2;36m                   \u001b[0m\u001b[2;36m \u001b[0m\u001b[34mINFO    \u001b[0m Register worker \u001b[1m<\u001b[0m\u001b[1;95mWorkerState\u001b[0m\u001b[39m \u001b[0m\u001b[32m'tcp://127.0.0.1:62458'\u001b[0m\u001b[39m, name: \u001b[0m\u001b[1;36m2\u001b[0m\u001b[39m, \u001b[0m      \u001b]8;id=511906;file://C:\\Users\\Tahsin\\miniconda3\\envs\\modspy\\lib\\site-packages\\distributed\\scheduler.py\u001b\\\u001b[2mscheduler.py\u001b[0m\u001b]8;;\u001b\\\u001b[2m:\u001b[0m\u001b]8;id=499090;file://C:\\Users\\Tahsin\\miniconda3\\envs\\modspy\\lib\\site-packages\\distributed\\scheduler.py#4410\u001b\\\u001b[2m4410\u001b[0m\u001b]8;;\u001b\\\n",
       "\u001b[2;36m                    \u001b[0m         \u001b[39mstatus: init, memory: \u001b[0m\u001b[1;36m0\u001b[0m\u001b[39m, processing: \u001b[0m\u001b[1;36m0\u001b[0m\u001b[1m>\u001b[0m                              \u001b[2m                 \u001b[0m\n"
      ]
     },
     "metadata": {},
     "output_type": "display_data"
    },
    {
     "data": {
      "text/html": [
       "<pre style=\"white-space:pre;overflow-x:auto;line-height:normal;font-family:Menlo,'DejaVu Sans Mono',consolas,'Courier New',monospace\"><span style=\"color: #7fbfbf; text-decoration-color: #7fbfbf\">                    </span><span style=\"color: #000080; text-decoration-color: #000080\">INFO    </span> Starting worker compute stream, tcp:<span style=\"color: #800080; text-decoration-color: #800080\">//</span><span style=\"color: #ff00ff; text-decoration-color: #ff00ff\">127.0.0.1</span>:<span style=\"color: #008080; text-decoration-color: #008080; font-weight: bold\">62458</span>                <a href=\"file://C:\\Users\\Tahsin\\miniconda3\\envs\\modspy\\lib\\site-packages\\distributed\\scheduler.py\" target=\"_blank\"><span style=\"color: #7f7f7f; text-decoration-color: #7f7f7f\">scheduler.py</span></a><span style=\"color: #7f7f7f; text-decoration-color: #7f7f7f\">:</span><a href=\"file://C:\\Users\\Tahsin\\miniconda3\\envs\\modspy\\lib\\site-packages\\distributed\\scheduler.py#5820\" target=\"_blank\"><span style=\"color: #7f7f7f; text-decoration-color: #7f7f7f\">5820</span></a>\n",
       "</pre>\n"
      ],
      "text/plain": [
       "\u001b[2;36m                   \u001b[0m\u001b[2;36m \u001b[0m\u001b[34mINFO    \u001b[0m Starting worker compute stream, tcp:\u001b[35m/\u001b[0m\u001b[35m/\u001b[0m\u001b[95m127.0.0.1\u001b[0m:\u001b[1;36m62458\u001b[0m                \u001b]8;id=784827;file://C:\\Users\\Tahsin\\miniconda3\\envs\\modspy\\lib\\site-packages\\distributed\\scheduler.py\u001b\\\u001b[2mscheduler.py\u001b[0m\u001b]8;;\u001b\\\u001b[2m:\u001b[0m\u001b]8;id=305352;file://C:\\Users\\Tahsin\\miniconda3\\envs\\modspy\\lib\\site-packages\\distributed\\scheduler.py#5820\u001b\\\u001b[2m5820\u001b[0m\u001b]8;;\u001b\\\n"
      ]
     },
     "metadata": {},
     "output_type": "display_data"
    },
    {
     "data": {
      "text/html": [
       "<pre style=\"white-space:pre;overflow-x:auto;line-height:normal;font-family:Menlo,'DejaVu Sans Mono',consolas,'Courier New',monospace\"><span style=\"color: #7fbfbf; text-decoration-color: #7fbfbf\">                    </span><span style=\"color: #000080; text-decoration-color: #000080\">INFO    </span> Starting established connection to tcp:<span style=\"color: #800080; text-decoration-color: #800080\">//</span><span style=\"color: #ff00ff; text-decoration-color: #ff00ff\">127.0.0.1</span>:<span style=\"color: #008080; text-decoration-color: #008080; font-weight: bold\">62480</span>                  <a href=\"file://C:\\Users\\Tahsin\\miniconda3\\envs\\modspy\\lib\\site-packages\\distributed\\core.py\" target=\"_blank\"><span style=\"color: #7f7f7f; text-decoration-color: #7f7f7f\">core.py</span></a><span style=\"color: #7f7f7f; text-decoration-color: #7f7f7f\">:</span><a href=\"file://C:\\Users\\Tahsin\\miniconda3\\envs\\modspy\\lib\\site-packages\\distributed\\core.py#1018\" target=\"_blank\"><span style=\"color: #7f7f7f; text-decoration-color: #7f7f7f\">1018</span></a>\n",
       "</pre>\n"
      ],
      "text/plain": [
       "\u001b[2;36m                   \u001b[0m\u001b[2;36m \u001b[0m\u001b[34mINFO    \u001b[0m Starting established connection to tcp:\u001b[35m/\u001b[0m\u001b[35m/\u001b[0m\u001b[95m127.0.0.1\u001b[0m:\u001b[1;36m62480\u001b[0m                  \u001b]8;id=75919;file://C:\\Users\\Tahsin\\miniconda3\\envs\\modspy\\lib\\site-packages\\distributed\\core.py\u001b\\\u001b[2mcore.py\u001b[0m\u001b]8;;\u001b\\\u001b[2m:\u001b[0m\u001b]8;id=834074;file://C:\\Users\\Tahsin\\miniconda3\\envs\\modspy\\lib\\site-packages\\distributed\\core.py#1018\u001b\\\u001b[2m1018\u001b[0m\u001b]8;;\u001b\\\n"
      ]
     },
     "metadata": {},
     "output_type": "display_data"
    },
    {
     "data": {
      "text/html": [
       "<pre style=\"white-space:pre;overflow-x:auto;line-height:normal;font-family:Menlo,'DejaVu Sans Mono',consolas,'Courier New',monospace\"><span style=\"color: #7fbfbf; text-decoration-color: #7fbfbf\">                    </span><span style=\"color: #000080; text-decoration-color: #000080\">INFO    </span> Register worker <span style=\"font-weight: bold\">&lt;</span><span style=\"color: #ff00ff; text-decoration-color: #ff00ff; font-weight: bold\">WorkerState</span><span style=\"color: #000000; text-decoration-color: #000000\"> </span><span style=\"color: #008000; text-decoration-color: #008000\">'tcp://127.0.0.1:62472'</span><span style=\"color: #000000; text-decoration-color: #000000\">, name: </span><span style=\"color: #008080; text-decoration-color: #008080; font-weight: bold\">1</span><span style=\"color: #000000; text-decoration-color: #000000\">, </span>      <a href=\"file://C:\\Users\\Tahsin\\miniconda3\\envs\\modspy\\lib\\site-packages\\distributed\\scheduler.py\" target=\"_blank\"><span style=\"color: #7f7f7f; text-decoration-color: #7f7f7f\">scheduler.py</span></a><span style=\"color: #7f7f7f; text-decoration-color: #7f7f7f\">:</span><a href=\"file://C:\\Users\\Tahsin\\miniconda3\\envs\\modspy\\lib\\site-packages\\distributed\\scheduler.py#4410\" target=\"_blank\"><span style=\"color: #7f7f7f; text-decoration-color: #7f7f7f\">4410</span></a>\n",
       "<span style=\"color: #7fbfbf; text-decoration-color: #7fbfbf\">                    </span>         <span style=\"color: #000000; text-decoration-color: #000000\">status: init, memory: </span><span style=\"color: #008080; text-decoration-color: #008080; font-weight: bold\">0</span><span style=\"color: #000000; text-decoration-color: #000000\">, processing: </span><span style=\"color: #008080; text-decoration-color: #008080; font-weight: bold\">0</span><span style=\"font-weight: bold\">&gt;</span>                              <span style=\"color: #7f7f7f; text-decoration-color: #7f7f7f\">                 </span>\n",
       "</pre>\n"
      ],
      "text/plain": [
       "\u001b[2;36m                   \u001b[0m\u001b[2;36m \u001b[0m\u001b[34mINFO    \u001b[0m Register worker \u001b[1m<\u001b[0m\u001b[1;95mWorkerState\u001b[0m\u001b[39m \u001b[0m\u001b[32m'tcp://127.0.0.1:62472'\u001b[0m\u001b[39m, name: \u001b[0m\u001b[1;36m1\u001b[0m\u001b[39m, \u001b[0m      \u001b]8;id=88216;file://C:\\Users\\Tahsin\\miniconda3\\envs\\modspy\\lib\\site-packages\\distributed\\scheduler.py\u001b\\\u001b[2mscheduler.py\u001b[0m\u001b]8;;\u001b\\\u001b[2m:\u001b[0m\u001b]8;id=489455;file://C:\\Users\\Tahsin\\miniconda3\\envs\\modspy\\lib\\site-packages\\distributed\\scheduler.py#4410\u001b\\\u001b[2m4410\u001b[0m\u001b]8;;\u001b\\\n",
       "\u001b[2;36m                    \u001b[0m         \u001b[39mstatus: init, memory: \u001b[0m\u001b[1;36m0\u001b[0m\u001b[39m, processing: \u001b[0m\u001b[1;36m0\u001b[0m\u001b[1m>\u001b[0m                              \u001b[2m                 \u001b[0m\n"
      ]
     },
     "metadata": {},
     "output_type": "display_data"
    },
    {
     "data": {
      "text/html": [
       "<pre style=\"white-space:pre;overflow-x:auto;line-height:normal;font-family:Menlo,'DejaVu Sans Mono',consolas,'Courier New',monospace\"><span style=\"color: #7fbfbf; text-decoration-color: #7fbfbf\">                    </span><span style=\"color: #000080; text-decoration-color: #000080\">INFO    </span> Starting worker compute stream, tcp:<span style=\"color: #800080; text-decoration-color: #800080\">//</span><span style=\"color: #ff00ff; text-decoration-color: #ff00ff\">127.0.0.1</span>:<span style=\"color: #008080; text-decoration-color: #008080; font-weight: bold\">62472</span>                <a href=\"file://C:\\Users\\Tahsin\\miniconda3\\envs\\modspy\\lib\\site-packages\\distributed\\scheduler.py\" target=\"_blank\"><span style=\"color: #7f7f7f; text-decoration-color: #7f7f7f\">scheduler.py</span></a><span style=\"color: #7f7f7f; text-decoration-color: #7f7f7f\">:</span><a href=\"file://C:\\Users\\Tahsin\\miniconda3\\envs\\modspy\\lib\\site-packages\\distributed\\scheduler.py#5820\" target=\"_blank\"><span style=\"color: #7f7f7f; text-decoration-color: #7f7f7f\">5820</span></a>\n",
       "</pre>\n"
      ],
      "text/plain": [
       "\u001b[2;36m                   \u001b[0m\u001b[2;36m \u001b[0m\u001b[34mINFO    \u001b[0m Starting worker compute stream, tcp:\u001b[35m/\u001b[0m\u001b[35m/\u001b[0m\u001b[95m127.0.0.1\u001b[0m:\u001b[1;36m62472\u001b[0m                \u001b]8;id=804281;file://C:\\Users\\Tahsin\\miniconda3\\envs\\modspy\\lib\\site-packages\\distributed\\scheduler.py\u001b\\\u001b[2mscheduler.py\u001b[0m\u001b]8;;\u001b\\\u001b[2m:\u001b[0m\u001b]8;id=87639;file://C:\\Users\\Tahsin\\miniconda3\\envs\\modspy\\lib\\site-packages\\distributed\\scheduler.py#5820\u001b\\\u001b[2m5820\u001b[0m\u001b]8;;\u001b\\\n"
      ]
     },
     "metadata": {},
     "output_type": "display_data"
    },
    {
     "data": {
      "text/html": [
       "<pre style=\"white-space:pre;overflow-x:auto;line-height:normal;font-family:Menlo,'DejaVu Sans Mono',consolas,'Courier New',monospace\"><span style=\"color: #7fbfbf; text-decoration-color: #7fbfbf\">                    </span><span style=\"color: #000080; text-decoration-color: #000080\">INFO    </span> Starting established connection to tcp:<span style=\"color: #800080; text-decoration-color: #800080\">//</span><span style=\"color: #ff00ff; text-decoration-color: #ff00ff\">127.0.0.1</span>:<span style=\"color: #008080; text-decoration-color: #008080; font-weight: bold\">62498</span>                  <a href=\"file://C:\\Users\\Tahsin\\miniconda3\\envs\\modspy\\lib\\site-packages\\distributed\\core.py\" target=\"_blank\"><span style=\"color: #7f7f7f; text-decoration-color: #7f7f7f\">core.py</span></a><span style=\"color: #7f7f7f; text-decoration-color: #7f7f7f\">:</span><a href=\"file://C:\\Users\\Tahsin\\miniconda3\\envs\\modspy\\lib\\site-packages\\distributed\\core.py#1018\" target=\"_blank\"><span style=\"color: #7f7f7f; text-decoration-color: #7f7f7f\">1018</span></a>\n",
       "</pre>\n"
      ],
      "text/plain": [
       "\u001b[2;36m                   \u001b[0m\u001b[2;36m \u001b[0m\u001b[34mINFO    \u001b[0m Starting established connection to tcp:\u001b[35m/\u001b[0m\u001b[35m/\u001b[0m\u001b[95m127.0.0.1\u001b[0m:\u001b[1;36m62498\u001b[0m                  \u001b]8;id=280641;file://C:\\Users\\Tahsin\\miniconda3\\envs\\modspy\\lib\\site-packages\\distributed\\core.py\u001b\\\u001b[2mcore.py\u001b[0m\u001b]8;;\u001b\\\u001b[2m:\u001b[0m\u001b]8;id=366670;file://C:\\Users\\Tahsin\\miniconda3\\envs\\modspy\\lib\\site-packages\\distributed\\core.py#1018\u001b\\\u001b[2m1018\u001b[0m\u001b]8;;\u001b\\\n"
      ]
     },
     "metadata": {},
     "output_type": "display_data"
    },
    {
     "data": {
      "text/html": [
       "<pre style=\"white-space:pre;overflow-x:auto;line-height:normal;font-family:Menlo,'DejaVu Sans Mono',consolas,'Courier New',monospace\"><span style=\"color: #7fbfbf; text-decoration-color: #7fbfbf\">                    </span><span style=\"color: #000080; text-decoration-color: #000080\">INFO    </span> Register worker <span style=\"font-weight: bold\">&lt;</span><span style=\"color: #ff00ff; text-decoration-color: #ff00ff; font-weight: bold\">WorkerState</span><span style=\"color: #000000; text-decoration-color: #000000\"> </span><span style=\"color: #008000; text-decoration-color: #008000\">'tcp://127.0.0.1:62488'</span><span style=\"color: #000000; text-decoration-color: #000000\">, name: </span><span style=\"color: #008080; text-decoration-color: #008080; font-weight: bold\">3</span><span style=\"color: #000000; text-decoration-color: #000000\">, </span>      <a href=\"file://C:\\Users\\Tahsin\\miniconda3\\envs\\modspy\\lib\\site-packages\\distributed\\scheduler.py\" target=\"_blank\"><span style=\"color: #7f7f7f; text-decoration-color: #7f7f7f\">scheduler.py</span></a><span style=\"color: #7f7f7f; text-decoration-color: #7f7f7f\">:</span><a href=\"file://C:\\Users\\Tahsin\\miniconda3\\envs\\modspy\\lib\\site-packages\\distributed\\scheduler.py#4410\" target=\"_blank\"><span style=\"color: #7f7f7f; text-decoration-color: #7f7f7f\">4410</span></a>\n",
       "<span style=\"color: #7fbfbf; text-decoration-color: #7fbfbf\">                    </span>         <span style=\"color: #000000; text-decoration-color: #000000\">status: init, memory: </span><span style=\"color: #008080; text-decoration-color: #008080; font-weight: bold\">0</span><span style=\"color: #000000; text-decoration-color: #000000\">, processing: </span><span style=\"color: #008080; text-decoration-color: #008080; font-weight: bold\">0</span><span style=\"font-weight: bold\">&gt;</span>                              <span style=\"color: #7f7f7f; text-decoration-color: #7f7f7f\">                 </span>\n",
       "</pre>\n"
      ],
      "text/plain": [
       "\u001b[2;36m                   \u001b[0m\u001b[2;36m \u001b[0m\u001b[34mINFO    \u001b[0m Register worker \u001b[1m<\u001b[0m\u001b[1;95mWorkerState\u001b[0m\u001b[39m \u001b[0m\u001b[32m'tcp://127.0.0.1:62488'\u001b[0m\u001b[39m, name: \u001b[0m\u001b[1;36m3\u001b[0m\u001b[39m, \u001b[0m      \u001b]8;id=829655;file://C:\\Users\\Tahsin\\miniconda3\\envs\\modspy\\lib\\site-packages\\distributed\\scheduler.py\u001b\\\u001b[2mscheduler.py\u001b[0m\u001b]8;;\u001b\\\u001b[2m:\u001b[0m\u001b]8;id=790032;file://C:\\Users\\Tahsin\\miniconda3\\envs\\modspy\\lib\\site-packages\\distributed\\scheduler.py#4410\u001b\\\u001b[2m4410\u001b[0m\u001b]8;;\u001b\\\n",
       "\u001b[2;36m                    \u001b[0m         \u001b[39mstatus: init, memory: \u001b[0m\u001b[1;36m0\u001b[0m\u001b[39m, processing: \u001b[0m\u001b[1;36m0\u001b[0m\u001b[1m>\u001b[0m                              \u001b[2m                 \u001b[0m\n"
      ]
     },
     "metadata": {},
     "output_type": "display_data"
    },
    {
     "data": {
      "text/html": [
       "<pre style=\"white-space:pre;overflow-x:auto;line-height:normal;font-family:Menlo,'DejaVu Sans Mono',consolas,'Courier New',monospace\"><span style=\"color: #7fbfbf; text-decoration-color: #7fbfbf\">                    </span><span style=\"color: #000080; text-decoration-color: #000080\">INFO    </span> Starting worker compute stream, tcp:<span style=\"color: #800080; text-decoration-color: #800080\">//</span><span style=\"color: #ff00ff; text-decoration-color: #ff00ff\">127.0.0.1</span>:<span style=\"color: #008080; text-decoration-color: #008080; font-weight: bold\">62488</span>                <a href=\"file://C:\\Users\\Tahsin\\miniconda3\\envs\\modspy\\lib\\site-packages\\distributed\\scheduler.py\" target=\"_blank\"><span style=\"color: #7f7f7f; text-decoration-color: #7f7f7f\">scheduler.py</span></a><span style=\"color: #7f7f7f; text-decoration-color: #7f7f7f\">:</span><a href=\"file://C:\\Users\\Tahsin\\miniconda3\\envs\\modspy\\lib\\site-packages\\distributed\\scheduler.py#5820\" target=\"_blank\"><span style=\"color: #7f7f7f; text-decoration-color: #7f7f7f\">5820</span></a>\n",
       "</pre>\n"
      ],
      "text/plain": [
       "\u001b[2;36m                   \u001b[0m\u001b[2;36m \u001b[0m\u001b[34mINFO    \u001b[0m Starting worker compute stream, tcp:\u001b[35m/\u001b[0m\u001b[35m/\u001b[0m\u001b[95m127.0.0.1\u001b[0m:\u001b[1;36m62488\u001b[0m                \u001b]8;id=375653;file://C:\\Users\\Tahsin\\miniconda3\\envs\\modspy\\lib\\site-packages\\distributed\\scheduler.py\u001b\\\u001b[2mscheduler.py\u001b[0m\u001b]8;;\u001b\\\u001b[2m:\u001b[0m\u001b]8;id=3419;file://C:\\Users\\Tahsin\\miniconda3\\envs\\modspy\\lib\\site-packages\\distributed\\scheduler.py#5820\u001b\\\u001b[2m5820\u001b[0m\u001b]8;;\u001b\\\n"
      ]
     },
     "metadata": {},
     "output_type": "display_data"
    },
    {
     "data": {
      "text/html": [
       "<pre style=\"white-space:pre;overflow-x:auto;line-height:normal;font-family:Menlo,'DejaVu Sans Mono',consolas,'Courier New',monospace\"><span style=\"color: #7fbfbf; text-decoration-color: #7fbfbf\">                    </span><span style=\"color: #000080; text-decoration-color: #000080\">INFO    </span> Starting established connection to tcp:<span style=\"color: #800080; text-decoration-color: #800080\">//</span><span style=\"color: #ff00ff; text-decoration-color: #ff00ff\">127.0.0.1</span>:<span style=\"color: #008080; text-decoration-color: #008080; font-weight: bold\">62510</span>                  <a href=\"file://C:\\Users\\Tahsin\\miniconda3\\envs\\modspy\\lib\\site-packages\\distributed\\core.py\" target=\"_blank\"><span style=\"color: #7f7f7f; text-decoration-color: #7f7f7f\">core.py</span></a><span style=\"color: #7f7f7f; text-decoration-color: #7f7f7f\">:</span><a href=\"file://C:\\Users\\Tahsin\\miniconda3\\envs\\modspy\\lib\\site-packages\\distributed\\core.py#1018\" target=\"_blank\"><span style=\"color: #7f7f7f; text-decoration-color: #7f7f7f\">1018</span></a>\n",
       "</pre>\n"
      ],
      "text/plain": [
       "\u001b[2;36m                   \u001b[0m\u001b[2;36m \u001b[0m\u001b[34mINFO    \u001b[0m Starting established connection to tcp:\u001b[35m/\u001b[0m\u001b[35m/\u001b[0m\u001b[95m127.0.0.1\u001b[0m:\u001b[1;36m62510\u001b[0m                  \u001b]8;id=677631;file://C:\\Users\\Tahsin\\miniconda3\\envs\\modspy\\lib\\site-packages\\distributed\\core.py\u001b\\\u001b[2mcore.py\u001b[0m\u001b]8;;\u001b\\\u001b[2m:\u001b[0m\u001b]8;id=549992;file://C:\\Users\\Tahsin\\miniconda3\\envs\\modspy\\lib\\site-packages\\distributed\\core.py#1018\u001b\\\u001b[2m1018\u001b[0m\u001b]8;;\u001b\\\n"
      ]
     },
     "metadata": {},
     "output_type": "display_data"
    },
    {
     "data": {
      "text/html": [
       "<pre style=\"white-space:pre;overflow-x:auto;line-height:normal;font-family:Menlo,'DejaVu Sans Mono',consolas,'Courier New',monospace\"><span style=\"color: #7fbfbf; text-decoration-color: #7fbfbf\">                    </span><span style=\"color: #000080; text-decoration-color: #000080\">INFO    </span> Receive client connection:                                           <a href=\"file://C:\\Users\\Tahsin\\miniconda3\\envs\\modspy\\lib\\site-packages\\distributed\\scheduler.py\" target=\"_blank\"><span style=\"color: #7f7f7f; text-decoration-color: #7f7f7f\">scheduler.py</span></a><span style=\"color: #7f7f7f; text-decoration-color: #7f7f7f\">:</span><a href=\"file://C:\\Users\\Tahsin\\miniconda3\\envs\\modspy\\lib\\site-packages\\distributed\\scheduler.py#5578\" target=\"_blank\"><span style=\"color: #7f7f7f; text-decoration-color: #7f7f7f\">5578</span></a>\n",
       "<span style=\"color: #7fbfbf; text-decoration-color: #7fbfbf\">                    </span>         Client-<span style=\"color: #ffff00; text-decoration-color: #ffff00\">7e7bde97-b69e-11ee-99f8-9c2dcda68bb5</span>                          <span style=\"color: #7f7f7f; text-decoration-color: #7f7f7f\">                 </span>\n",
       "</pre>\n"
      ],
      "text/plain": [
       "\u001b[2;36m                   \u001b[0m\u001b[2;36m \u001b[0m\u001b[34mINFO    \u001b[0m Receive client connection:                                           \u001b]8;id=535009;file://C:\\Users\\Tahsin\\miniconda3\\envs\\modspy\\lib\\site-packages\\distributed\\scheduler.py\u001b\\\u001b[2mscheduler.py\u001b[0m\u001b]8;;\u001b\\\u001b[2m:\u001b[0m\u001b]8;id=83256;file://C:\\Users\\Tahsin\\miniconda3\\envs\\modspy\\lib\\site-packages\\distributed\\scheduler.py#5578\u001b\\\u001b[2m5578\u001b[0m\u001b]8;;\u001b\\\n",
       "\u001b[2;36m                    \u001b[0m         Client-\u001b[93m7e7bde97-b69e-11ee-99f8-9c2dcda68bb5\u001b[0m                          \u001b[2m                 \u001b[0m\n"
      ]
     },
     "metadata": {},
     "output_type": "display_data"
    },
    {
     "data": {
      "text/html": [
       "<pre style=\"white-space:pre;overflow-x:auto;line-height:normal;font-family:Menlo,'DejaVu Sans Mono',consolas,'Courier New',monospace\"><span style=\"color: #7fbfbf; text-decoration-color: #7fbfbf\">                    </span><span style=\"color: #000080; text-decoration-color: #000080\">INFO    </span> Starting established connection to tcp:<span style=\"color: #800080; text-decoration-color: #800080\">//</span><span style=\"color: #ff00ff; text-decoration-color: #ff00ff\">127.0.0.1</span>:<span style=\"color: #008080; text-decoration-color: #008080; font-weight: bold\">62663</span>                  <a href=\"file://C:\\Users\\Tahsin\\miniconda3\\envs\\modspy\\lib\\site-packages\\distributed\\core.py\" target=\"_blank\"><span style=\"color: #7f7f7f; text-decoration-color: #7f7f7f\">core.py</span></a><span style=\"color: #7f7f7f; text-decoration-color: #7f7f7f\">:</span><a href=\"file://C:\\Users\\Tahsin\\miniconda3\\envs\\modspy\\lib\\site-packages\\distributed\\core.py#1018\" target=\"_blank\"><span style=\"color: #7f7f7f; text-decoration-color: #7f7f7f\">1018</span></a>\n",
       "</pre>\n"
      ],
      "text/plain": [
       "\u001b[2;36m                   \u001b[0m\u001b[2;36m \u001b[0m\u001b[34mINFO    \u001b[0m Starting established connection to tcp:\u001b[35m/\u001b[0m\u001b[35m/\u001b[0m\u001b[95m127.0.0.1\u001b[0m:\u001b[1;36m62663\u001b[0m                  \u001b]8;id=5600;file://C:\\Users\\Tahsin\\miniconda3\\envs\\modspy\\lib\\site-packages\\distributed\\core.py\u001b\\\u001b[2mcore.py\u001b[0m\u001b]8;;\u001b\\\u001b[2m:\u001b[0m\u001b]8;id=83185;file://C:\\Users\\Tahsin\\miniconda3\\envs\\modspy\\lib\\site-packages\\distributed\\core.py#1018\u001b\\\u001b[2m1018\u001b[0m\u001b]8;;\u001b\\\n"
      ]
     },
     "metadata": {},
     "output_type": "display_data"
    }
   ],
   "source": [
    "client = Client()  # start distributed scheduler locally."
   ]
  },
  {
   "cell_type": "code",
   "execution_count": 31,
   "metadata": {},
   "outputs": [
    {
     "data": {
      "text/html": [
       "<pre style=\"white-space:pre;overflow-x:auto;line-height:normal;font-family:Menlo,'DejaVu Sans Mono',consolas,'Courier New',monospace\"><span style=\"color: #7fbfbf; text-decoration-color: #7fbfbf\">[01/19/24 00:47:40] </span><span style=\"color: #800000; text-decoration-color: #800000\">WARNING </span> C:\\Users\\Tahsin\\miniconda3\\envs\\modspy\\lib\\site-packages\\distributed\\c <a href=\"file://C:\\Users\\Tahsin\\miniconda3\\envs\\modspy\\lib\\warnings.py\" target=\"_blank\"><span style=\"color: #7f7f7f; text-decoration-color: #7f7f7f\">warnings.py</span></a><span style=\"color: #7f7f7f; text-decoration-color: #7f7f7f\">:</span><a href=\"file://C:\\Users\\Tahsin\\miniconda3\\envs\\modspy\\lib\\warnings.py#109\" target=\"_blank\"><span style=\"color: #7f7f7f; text-decoration-color: #7f7f7f\">109</span></a>\n",
       "<span style=\"color: #7fbfbf; text-decoration-color: #7fbfbf\">                    </span>         lient.py:<span style=\"color: #008080; text-decoration-color: #008080; font-weight: bold\">3162</span>: UserWarning: Sending large graph of size <span style=\"color: #008080; text-decoration-color: #008080; font-weight: bold\">12.96</span> MiB.     <span style=\"color: #7f7f7f; text-decoration-color: #7f7f7f\">               </span>\n",
       "<span style=\"color: #7fbfbf; text-decoration-color: #7fbfbf\">                    </span>         This may cause some slowdown.                                          <span style=\"color: #7f7f7f; text-decoration-color: #7f7f7f\">               </span>\n",
       "<span style=\"color: #7fbfbf; text-decoration-color: #7fbfbf\">                    </span>         Consider scattering data ahead of time and using futures.              <span style=\"color: #7f7f7f; text-decoration-color: #7f7f7f\">               </span>\n",
       "<span style=\"color: #7fbfbf; text-decoration-color: #7fbfbf\">                    </span>           <span style=\"color: #800080; text-decoration-color: #800080; font-weight: bold\">warnings.warn</span><span style=\"font-weight: bold\">(</span>                                                       <span style=\"color: #7f7f7f; text-decoration-color: #7f7f7f\">               </span>\n",
       "<span style=\"color: #7fbfbf; text-decoration-color: #7fbfbf\">                    </span>                                                                                <span style=\"color: #7f7f7f; text-decoration-color: #7f7f7f\">               </span>\n",
       "</pre>\n"
      ],
      "text/plain": [
       "\u001b[2;36m[01/19/24 00:47:40]\u001b[0m\u001b[2;36m \u001b[0m\u001b[31mWARNING \u001b[0m C:\\Users\\Tahsin\\miniconda3\\envs\\modspy\\lib\\site-packages\\distributed\\c \u001b]8;id=148610;file://C:\\Users\\Tahsin\\miniconda3\\envs\\modspy\\lib\\warnings.py\u001b\\\u001b[2mwarnings.py\u001b[0m\u001b]8;;\u001b\\\u001b[2m:\u001b[0m\u001b]8;id=957962;file://C:\\Users\\Tahsin\\miniconda3\\envs\\modspy\\lib\\warnings.py#109\u001b\\\u001b[2m109\u001b[0m\u001b]8;;\u001b\\\n",
       "\u001b[2;36m                    \u001b[0m         lient.py:\u001b[1;36m3162\u001b[0m: UserWarning: Sending large graph of size \u001b[1;36m12.96\u001b[0m MiB.     \u001b[2m               \u001b[0m\n",
       "\u001b[2;36m                    \u001b[0m         This may cause some slowdown.                                          \u001b[2m               \u001b[0m\n",
       "\u001b[2;36m                    \u001b[0m         Consider scattering data ahead of time and using futures.              \u001b[2m               \u001b[0m\n",
       "\u001b[2;36m                    \u001b[0m           \u001b[1;35mwarnings.warn\u001b[0m\u001b[1m(\u001b[0m                                                       \u001b[2m               \u001b[0m\n",
       "\u001b[2;36m                    \u001b[0m                                                                                \u001b[2m               \u001b[0m\n"
      ]
     },
     "metadata": {},
     "output_type": "display_data"
    },
    {
     "data": {
      "text/html": [
       "<pre style=\"white-space:pre;overflow-x:auto;line-height:normal;font-family:Menlo,'DejaVu Sans Mono',consolas,'Courier New',monospace\"><span style=\"color: #7fbfbf; text-decoration-color: #7fbfbf\">[01/19/24 00:47:49] </span><span style=\"color: #000080; text-decoration-color: #000080\">INFO    </span> Event loop was unresponsive in Nanny for <span style=\"color: #008080; text-decoration-color: #008080; font-weight: bold\">5.</span>59s.  This is often caused by   <a href=\"file://C:\\Users\\Tahsin\\miniconda3\\envs\\modspy\\lib\\site-packages\\distributed\\core.py\" target=\"_blank\"><span style=\"color: #7f7f7f; text-decoration-color: #7f7f7f\">core.py</span></a><span style=\"color: #7f7f7f; text-decoration-color: #7f7f7f\">:</span><a href=\"file://C:\\Users\\Tahsin\\miniconda3\\envs\\modspy\\lib\\site-packages\\distributed\\core.py#743\" target=\"_blank\"><span style=\"color: #7f7f7f; text-decoration-color: #7f7f7f\">743</span></a>\n",
       "<span style=\"color: #7fbfbf; text-decoration-color: #7fbfbf\">                    </span>         long-running GIL-holding functions or moving large chunks of data. This    <span style=\"color: #7f7f7f; text-decoration-color: #7f7f7f\">           </span>\n",
       "<span style=\"color: #7fbfbf; text-decoration-color: #7fbfbf\">                    </span>         can cause timeouts and instability.                                        <span style=\"color: #7f7f7f; text-decoration-color: #7f7f7f\">           </span>\n",
       "</pre>\n"
      ],
      "text/plain": [
       "\u001b[2;36m[01/19/24 00:47:49]\u001b[0m\u001b[2;36m \u001b[0m\u001b[34mINFO    \u001b[0m Event loop was unresponsive in Nanny for \u001b[1;36m5.\u001b[0m59s.  This is often caused by   \u001b]8;id=473893;file://C:\\Users\\Tahsin\\miniconda3\\envs\\modspy\\lib\\site-packages\\distributed\\core.py\u001b\\\u001b[2mcore.py\u001b[0m\u001b]8;;\u001b\\\u001b[2m:\u001b[0m\u001b]8;id=802535;file://C:\\Users\\Tahsin\\miniconda3\\envs\\modspy\\lib\\site-packages\\distributed\\core.py#743\u001b\\\u001b[2m743\u001b[0m\u001b]8;;\u001b\\\n",
       "\u001b[2;36m                    \u001b[0m         long-running GIL-holding functions or moving large chunks of data. This    \u001b[2m           \u001b[0m\n",
       "\u001b[2;36m                    \u001b[0m         can cause timeouts and instability.                                        \u001b[2m           \u001b[0m\n"
      ]
     },
     "metadata": {},
     "output_type": "display_data"
    },
    {
     "data": {
      "text/html": [
       "<pre style=\"white-space:pre;overflow-x:auto;line-height:normal;font-family:Menlo,'DejaVu Sans Mono',consolas,'Courier New',monospace\"><span style=\"color: #7fbfbf; text-decoration-color: #7fbfbf\">                    </span><span style=\"color: #000080; text-decoration-color: #000080\">INFO    </span> Event loop was unresponsive in Nanny for <span style=\"color: #008080; text-decoration-color: #008080; font-weight: bold\">5.</span>59s.  This is often caused by   <a href=\"file://C:\\Users\\Tahsin\\miniconda3\\envs\\modspy\\lib\\site-packages\\distributed\\core.py\" target=\"_blank\"><span style=\"color: #7f7f7f; text-decoration-color: #7f7f7f\">core.py</span></a><span style=\"color: #7f7f7f; text-decoration-color: #7f7f7f\">:</span><a href=\"file://C:\\Users\\Tahsin\\miniconda3\\envs\\modspy\\lib\\site-packages\\distributed\\core.py#743\" target=\"_blank\"><span style=\"color: #7f7f7f; text-decoration-color: #7f7f7f\">743</span></a>\n",
       "<span style=\"color: #7fbfbf; text-decoration-color: #7fbfbf\">                    </span>         long-running GIL-holding functions or moving large chunks of data. This    <span style=\"color: #7f7f7f; text-decoration-color: #7f7f7f\">           </span>\n",
       "<span style=\"color: #7fbfbf; text-decoration-color: #7fbfbf\">                    </span>         can cause timeouts and instability.                                        <span style=\"color: #7f7f7f; text-decoration-color: #7f7f7f\">           </span>\n",
       "</pre>\n"
      ],
      "text/plain": [
       "\u001b[2;36m                   \u001b[0m\u001b[2;36m \u001b[0m\u001b[34mINFO    \u001b[0m Event loop was unresponsive in Nanny for \u001b[1;36m5.\u001b[0m59s.  This is often caused by   \u001b]8;id=436566;file://C:\\Users\\Tahsin\\miniconda3\\envs\\modspy\\lib\\site-packages\\distributed\\core.py\u001b\\\u001b[2mcore.py\u001b[0m\u001b]8;;\u001b\\\u001b[2m:\u001b[0m\u001b]8;id=958669;file://C:\\Users\\Tahsin\\miniconda3\\envs\\modspy\\lib\\site-packages\\distributed\\core.py#743\u001b\\\u001b[2m743\u001b[0m\u001b]8;;\u001b\\\n",
       "\u001b[2;36m                    \u001b[0m         long-running GIL-holding functions or moving large chunks of data. This    \u001b[2m           \u001b[0m\n",
       "\u001b[2;36m                    \u001b[0m         can cause timeouts and instability.                                        \u001b[2m           \u001b[0m\n"
      ]
     },
     "metadata": {},
     "output_type": "display_data"
    },
    {
     "data": {
      "text/html": [
       "<pre style=\"white-space:pre;overflow-x:auto;line-height:normal;font-family:Menlo,'DejaVu Sans Mono',consolas,'Courier New',monospace\"><span style=\"color: #7fbfbf; text-decoration-color: #7fbfbf\">                    </span><span style=\"color: #000080; text-decoration-color: #000080\">INFO    </span> Event loop was unresponsive in Nanny for <span style=\"color: #008080; text-decoration-color: #008080; font-weight: bold\">5.</span>60s.  This is often caused by   <a href=\"file://C:\\Users\\Tahsin\\miniconda3\\envs\\modspy\\lib\\site-packages\\distributed\\core.py\" target=\"_blank\"><span style=\"color: #7f7f7f; text-decoration-color: #7f7f7f\">core.py</span></a><span style=\"color: #7f7f7f; text-decoration-color: #7f7f7f\">:</span><a href=\"file://C:\\Users\\Tahsin\\miniconda3\\envs\\modspy\\lib\\site-packages\\distributed\\core.py#743\" target=\"_blank\"><span style=\"color: #7f7f7f; text-decoration-color: #7f7f7f\">743</span></a>\n",
       "<span style=\"color: #7fbfbf; text-decoration-color: #7fbfbf\">                    </span>         long-running GIL-holding functions or moving large chunks of data. This    <span style=\"color: #7f7f7f; text-decoration-color: #7f7f7f\">           </span>\n",
       "<span style=\"color: #7fbfbf; text-decoration-color: #7fbfbf\">                    </span>         can cause timeouts and instability.                                        <span style=\"color: #7f7f7f; text-decoration-color: #7f7f7f\">           </span>\n",
       "</pre>\n"
      ],
      "text/plain": [
       "\u001b[2;36m                   \u001b[0m\u001b[2;36m \u001b[0m\u001b[34mINFO    \u001b[0m Event loop was unresponsive in Nanny for \u001b[1;36m5.\u001b[0m60s.  This is often caused by   \u001b]8;id=208764;file://C:\\Users\\Tahsin\\miniconda3\\envs\\modspy\\lib\\site-packages\\distributed\\core.py\u001b\\\u001b[2mcore.py\u001b[0m\u001b]8;;\u001b\\\u001b[2m:\u001b[0m\u001b]8;id=481374;file://C:\\Users\\Tahsin\\miniconda3\\envs\\modspy\\lib\\site-packages\\distributed\\core.py#743\u001b\\\u001b[2m743\u001b[0m\u001b]8;;\u001b\\\n",
       "\u001b[2;36m                    \u001b[0m         long-running GIL-holding functions or moving large chunks of data. This    \u001b[2m           \u001b[0m\n",
       "\u001b[2;36m                    \u001b[0m         can cause timeouts and instability.                                        \u001b[2m           \u001b[0m\n"
      ]
     },
     "metadata": {},
     "output_type": "display_data"
    },
    {
     "data": {
      "text/html": [
       "<pre style=\"white-space:pre;overflow-x:auto;line-height:normal;font-family:Menlo,'DejaVu Sans Mono',consolas,'Courier New',monospace\"><span style=\"color: #7fbfbf; text-decoration-color: #7fbfbf\">                    </span><span style=\"color: #000080; text-decoration-color: #000080\">INFO    </span> Event loop was unresponsive in Scheduler for <span style=\"color: #008080; text-decoration-color: #008080; font-weight: bold\">3.</span>87s.  This is often caused  <a href=\"file://C:\\Users\\Tahsin\\miniconda3\\envs\\modspy\\lib\\site-packages\\distributed\\core.py\" target=\"_blank\"><span style=\"color: #7f7f7f; text-decoration-color: #7f7f7f\">core.py</span></a><span style=\"color: #7f7f7f; text-decoration-color: #7f7f7f\">:</span><a href=\"file://C:\\Users\\Tahsin\\miniconda3\\envs\\modspy\\lib\\site-packages\\distributed\\core.py#743\" target=\"_blank\"><span style=\"color: #7f7f7f; text-decoration-color: #7f7f7f\">743</span></a>\n",
       "<span style=\"color: #7fbfbf; text-decoration-color: #7fbfbf\">                    </span>         by long-running GIL-holding functions or moving large chunks of data. This <span style=\"color: #7f7f7f; text-decoration-color: #7f7f7f\">           </span>\n",
       "<span style=\"color: #7fbfbf; text-decoration-color: #7fbfbf\">                    </span>         can cause timeouts and instability.                                        <span style=\"color: #7f7f7f; text-decoration-color: #7f7f7f\">           </span>\n",
       "</pre>\n"
      ],
      "text/plain": [
       "\u001b[2;36m                   \u001b[0m\u001b[2;36m \u001b[0m\u001b[34mINFO    \u001b[0m Event loop was unresponsive in Scheduler for \u001b[1;36m3.\u001b[0m87s.  This is often caused  \u001b]8;id=220336;file://C:\\Users\\Tahsin\\miniconda3\\envs\\modspy\\lib\\site-packages\\distributed\\core.py\u001b\\\u001b[2mcore.py\u001b[0m\u001b]8;;\u001b\\\u001b[2m:\u001b[0m\u001b]8;id=954447;file://C:\\Users\\Tahsin\\miniconda3\\envs\\modspy\\lib\\site-packages\\distributed\\core.py#743\u001b\\\u001b[2m743\u001b[0m\u001b]8;;\u001b\\\n",
       "\u001b[2;36m                    \u001b[0m         by long-running GIL-holding functions or moving large chunks of data. This \u001b[2m           \u001b[0m\n",
       "\u001b[2;36m                    \u001b[0m         can cause timeouts and instability.                                        \u001b[2m           \u001b[0m\n"
      ]
     },
     "metadata": {},
     "output_type": "display_data"
    },
    {
     "data": {
      "text/html": [
       "<pre style=\"white-space:pre;overflow-x:auto;line-height:normal;font-family:Menlo,'DejaVu Sans Mono',consolas,'Courier New',monospace\"><span style=\"color: #7fbfbf; text-decoration-color: #7fbfbf\">                    </span><span style=\"color: #000080; text-decoration-color: #000080\">INFO    </span> Event loop was unresponsive in Nanny for <span style=\"color: #008080; text-decoration-color: #008080; font-weight: bold\">3.</span>88s.  This is often caused by   <a href=\"file://C:\\Users\\Tahsin\\miniconda3\\envs\\modspy\\lib\\site-packages\\distributed\\core.py\" target=\"_blank\"><span style=\"color: #7f7f7f; text-decoration-color: #7f7f7f\">core.py</span></a><span style=\"color: #7f7f7f; text-decoration-color: #7f7f7f\">:</span><a href=\"file://C:\\Users\\Tahsin\\miniconda3\\envs\\modspy\\lib\\site-packages\\distributed\\core.py#743\" target=\"_blank\"><span style=\"color: #7f7f7f; text-decoration-color: #7f7f7f\">743</span></a>\n",
       "<span style=\"color: #7fbfbf; text-decoration-color: #7fbfbf\">                    </span>         long-running GIL-holding functions or moving large chunks of data. This    <span style=\"color: #7f7f7f; text-decoration-color: #7f7f7f\">           </span>\n",
       "<span style=\"color: #7fbfbf; text-decoration-color: #7fbfbf\">                    </span>         can cause timeouts and instability.                                        <span style=\"color: #7f7f7f; text-decoration-color: #7f7f7f\">           </span>\n",
       "</pre>\n"
      ],
      "text/plain": [
       "\u001b[2;36m                   \u001b[0m\u001b[2;36m \u001b[0m\u001b[34mINFO    \u001b[0m Event loop was unresponsive in Nanny for \u001b[1;36m3.\u001b[0m88s.  This is often caused by   \u001b]8;id=495095;file://C:\\Users\\Tahsin\\miniconda3\\envs\\modspy\\lib\\site-packages\\distributed\\core.py\u001b\\\u001b[2mcore.py\u001b[0m\u001b]8;;\u001b\\\u001b[2m:\u001b[0m\u001b]8;id=728664;file://C:\\Users\\Tahsin\\miniconda3\\envs\\modspy\\lib\\site-packages\\distributed\\core.py#743\u001b\\\u001b[2m743\u001b[0m\u001b]8;;\u001b\\\n",
       "\u001b[2;36m                    \u001b[0m         long-running GIL-holding functions or moving large chunks of data. This    \u001b[2m           \u001b[0m\n",
       "\u001b[2;36m                    \u001b[0m         can cause timeouts and instability.                                        \u001b[2m           \u001b[0m\n"
      ]
     },
     "metadata": {},
     "output_type": "display_data"
    },
    {
     "data": {
      "text/html": [
       "<pre style=\"white-space:pre;overflow-x:auto;line-height:normal;font-family:Menlo,'DejaVu Sans Mono',consolas,'Courier New',monospace\"><span style=\"color: #7fbfbf; text-decoration-color: #7fbfbf\">[01/19/24 00:47:52] </span><span style=\"color: #000080; text-decoration-color: #000080\">INFO    </span> Event loop was unresponsive in Nanny for <span style=\"color: #008080; text-decoration-color: #008080; font-weight: bold\">3.</span>24s.  This is often caused by   <a href=\"file://C:\\Users\\Tahsin\\miniconda3\\envs\\modspy\\lib\\site-packages\\distributed\\core.py\" target=\"_blank\"><span style=\"color: #7f7f7f; text-decoration-color: #7f7f7f\">core.py</span></a><span style=\"color: #7f7f7f; text-decoration-color: #7f7f7f\">:</span><a href=\"file://C:\\Users\\Tahsin\\miniconda3\\envs\\modspy\\lib\\site-packages\\distributed\\core.py#743\" target=\"_blank\"><span style=\"color: #7f7f7f; text-decoration-color: #7f7f7f\">743</span></a>\n",
       "<span style=\"color: #7fbfbf; text-decoration-color: #7fbfbf\">                    </span>         long-running GIL-holding functions or moving large chunks of data. This    <span style=\"color: #7f7f7f; text-decoration-color: #7f7f7f\">           </span>\n",
       "<span style=\"color: #7fbfbf; text-decoration-color: #7fbfbf\">                    </span>         can cause timeouts and instability.                                        <span style=\"color: #7f7f7f; text-decoration-color: #7f7f7f\">           </span>\n",
       "</pre>\n"
      ],
      "text/plain": [
       "\u001b[2;36m[01/19/24 00:47:52]\u001b[0m\u001b[2;36m \u001b[0m\u001b[34mINFO    \u001b[0m Event loop was unresponsive in Nanny for \u001b[1;36m3.\u001b[0m24s.  This is often caused by   \u001b]8;id=105690;file://C:\\Users\\Tahsin\\miniconda3\\envs\\modspy\\lib\\site-packages\\distributed\\core.py\u001b\\\u001b[2mcore.py\u001b[0m\u001b]8;;\u001b\\\u001b[2m:\u001b[0m\u001b]8;id=284768;file://C:\\Users\\Tahsin\\miniconda3\\envs\\modspy\\lib\\site-packages\\distributed\\core.py#743\u001b\\\u001b[2m743\u001b[0m\u001b]8;;\u001b\\\n",
       "\u001b[2;36m                    \u001b[0m         long-running GIL-holding functions or moving large chunks of data. This    \u001b[2m           \u001b[0m\n",
       "\u001b[2;36m                    \u001b[0m         can cause timeouts and instability.                                        \u001b[2m           \u001b[0m\n"
      ]
     },
     "metadata": {},
     "output_type": "display_data"
    },
    {
     "data": {
      "text/html": [
       "<pre style=\"white-space:pre;overflow-x:auto;line-height:normal;font-family:Menlo,'DejaVu Sans Mono',consolas,'Courier New',monospace\"><span style=\"color: #7fbfbf; text-decoration-color: #7fbfbf\">                    </span><span style=\"color: #000080; text-decoration-color: #000080\">INFO    </span> Event loop was unresponsive in Nanny for <span style=\"color: #008080; text-decoration-color: #008080; font-weight: bold\">3.</span>24s.  This is often caused by   <a href=\"file://C:\\Users\\Tahsin\\miniconda3\\envs\\modspy\\lib\\site-packages\\distributed\\core.py\" target=\"_blank\"><span style=\"color: #7f7f7f; text-decoration-color: #7f7f7f\">core.py</span></a><span style=\"color: #7f7f7f; text-decoration-color: #7f7f7f\">:</span><a href=\"file://C:\\Users\\Tahsin\\miniconda3\\envs\\modspy\\lib\\site-packages\\distributed\\core.py#743\" target=\"_blank\"><span style=\"color: #7f7f7f; text-decoration-color: #7f7f7f\">743</span></a>\n",
       "<span style=\"color: #7fbfbf; text-decoration-color: #7fbfbf\">                    </span>         long-running GIL-holding functions or moving large chunks of data. This    <span style=\"color: #7f7f7f; text-decoration-color: #7f7f7f\">           </span>\n",
       "<span style=\"color: #7fbfbf; text-decoration-color: #7fbfbf\">                    </span>         can cause timeouts and instability.                                        <span style=\"color: #7f7f7f; text-decoration-color: #7f7f7f\">           </span>\n",
       "</pre>\n"
      ],
      "text/plain": [
       "\u001b[2;36m                   \u001b[0m\u001b[2;36m \u001b[0m\u001b[34mINFO    \u001b[0m Event loop was unresponsive in Nanny for \u001b[1;36m3.\u001b[0m24s.  This is often caused by   \u001b]8;id=704963;file://C:\\Users\\Tahsin\\miniconda3\\envs\\modspy\\lib\\site-packages\\distributed\\core.py\u001b\\\u001b[2mcore.py\u001b[0m\u001b]8;;\u001b\\\u001b[2m:\u001b[0m\u001b]8;id=398243;file://C:\\Users\\Tahsin\\miniconda3\\envs\\modspy\\lib\\site-packages\\distributed\\core.py#743\u001b\\\u001b[2m743\u001b[0m\u001b]8;;\u001b\\\n",
       "\u001b[2;36m                    \u001b[0m         long-running GIL-holding functions or moving large chunks of data. This    \u001b[2m           \u001b[0m\n",
       "\u001b[2;36m                    \u001b[0m         can cause timeouts and instability.                                        \u001b[2m           \u001b[0m\n"
      ]
     },
     "metadata": {},
     "output_type": "display_data"
    },
    {
     "data": {
      "text/html": [
       "<pre style=\"white-space:pre;overflow-x:auto;line-height:normal;font-family:Menlo,'DejaVu Sans Mono',consolas,'Courier New',monospace\"><span style=\"color: #7fbfbf; text-decoration-color: #7fbfbf\">                    </span><span style=\"color: #000080; text-decoration-color: #000080\">INFO    </span> Event loop was unresponsive in Nanny for <span style=\"color: #008080; text-decoration-color: #008080; font-weight: bold\">3.</span>25s.  This is often caused by   <a href=\"file://C:\\Users\\Tahsin\\miniconda3\\envs\\modspy\\lib\\site-packages\\distributed\\core.py\" target=\"_blank\"><span style=\"color: #7f7f7f; text-decoration-color: #7f7f7f\">core.py</span></a><span style=\"color: #7f7f7f; text-decoration-color: #7f7f7f\">:</span><a href=\"file://C:\\Users\\Tahsin\\miniconda3\\envs\\modspy\\lib\\site-packages\\distributed\\core.py#743\" target=\"_blank\"><span style=\"color: #7f7f7f; text-decoration-color: #7f7f7f\">743</span></a>\n",
       "<span style=\"color: #7fbfbf; text-decoration-color: #7fbfbf\">                    </span>         long-running GIL-holding functions or moving large chunks of data. This    <span style=\"color: #7f7f7f; text-decoration-color: #7f7f7f\">           </span>\n",
       "<span style=\"color: #7fbfbf; text-decoration-color: #7fbfbf\">                    </span>         can cause timeouts and instability.                                        <span style=\"color: #7f7f7f; text-decoration-color: #7f7f7f\">           </span>\n",
       "</pre>\n"
      ],
      "text/plain": [
       "\u001b[2;36m                   \u001b[0m\u001b[2;36m \u001b[0m\u001b[34mINFO    \u001b[0m Event loop was unresponsive in Nanny for \u001b[1;36m3.\u001b[0m25s.  This is often caused by   \u001b]8;id=270857;file://C:\\Users\\Tahsin\\miniconda3\\envs\\modspy\\lib\\site-packages\\distributed\\core.py\u001b\\\u001b[2mcore.py\u001b[0m\u001b]8;;\u001b\\\u001b[2m:\u001b[0m\u001b]8;id=386659;file://C:\\Users\\Tahsin\\miniconda3\\envs\\modspy\\lib\\site-packages\\distributed\\core.py#743\u001b\\\u001b[2m743\u001b[0m\u001b]8;;\u001b\\\n",
       "\u001b[2;36m                    \u001b[0m         long-running GIL-holding functions or moving large chunks of data. This    \u001b[2m           \u001b[0m\n",
       "\u001b[2;36m                    \u001b[0m         can cause timeouts and instability.                                        \u001b[2m           \u001b[0m\n"
      ]
     },
     "metadata": {},
     "output_type": "display_data"
    },
    {
     "data": {
      "text/html": [
       "<pre style=\"white-space:pre;overflow-x:auto;line-height:normal;font-family:Menlo,'DejaVu Sans Mono',consolas,'Courier New',monospace\"><span style=\"color: #7fbfbf; text-decoration-color: #7fbfbf\">                    </span><span style=\"color: #000080; text-decoration-color: #000080\">INFO    </span> Event loop was unresponsive in Scheduler for <span style=\"color: #008080; text-decoration-color: #008080; font-weight: bold\">3.</span>25s.  This is often caused  <a href=\"file://C:\\Users\\Tahsin\\miniconda3\\envs\\modspy\\lib\\site-packages\\distributed\\core.py\" target=\"_blank\"><span style=\"color: #7f7f7f; text-decoration-color: #7f7f7f\">core.py</span></a><span style=\"color: #7f7f7f; text-decoration-color: #7f7f7f\">:</span><a href=\"file://C:\\Users\\Tahsin\\miniconda3\\envs\\modspy\\lib\\site-packages\\distributed\\core.py#743\" target=\"_blank\"><span style=\"color: #7f7f7f; text-decoration-color: #7f7f7f\">743</span></a>\n",
       "<span style=\"color: #7fbfbf; text-decoration-color: #7fbfbf\">                    </span>         by long-running GIL-holding functions or moving large chunks of data. This <span style=\"color: #7f7f7f; text-decoration-color: #7f7f7f\">           </span>\n",
       "<span style=\"color: #7fbfbf; text-decoration-color: #7fbfbf\">                    </span>         can cause timeouts and instability.                                        <span style=\"color: #7f7f7f; text-decoration-color: #7f7f7f\">           </span>\n",
       "</pre>\n"
      ],
      "text/plain": [
       "\u001b[2;36m                   \u001b[0m\u001b[2;36m \u001b[0m\u001b[34mINFO    \u001b[0m Event loop was unresponsive in Scheduler for \u001b[1;36m3.\u001b[0m25s.  This is often caused  \u001b]8;id=379240;file://C:\\Users\\Tahsin\\miniconda3\\envs\\modspy\\lib\\site-packages\\distributed\\core.py\u001b\\\u001b[2mcore.py\u001b[0m\u001b]8;;\u001b\\\u001b[2m:\u001b[0m\u001b]8;id=407196;file://C:\\Users\\Tahsin\\miniconda3\\envs\\modspy\\lib\\site-packages\\distributed\\core.py#743\u001b\\\u001b[2m743\u001b[0m\u001b]8;;\u001b\\\n",
       "\u001b[2;36m                    \u001b[0m         by long-running GIL-holding functions or moving large chunks of data. This \u001b[2m           \u001b[0m\n",
       "\u001b[2;36m                    \u001b[0m         can cause timeouts and instability.                                        \u001b[2m           \u001b[0m\n"
      ]
     },
     "metadata": {},
     "output_type": "display_data"
    },
    {
     "data": {
      "text/html": [
       "<pre style=\"white-space:pre;overflow-x:auto;line-height:normal;font-family:Menlo,'DejaVu Sans Mono',consolas,'Courier New',monospace\"><span style=\"color: #7fbfbf; text-decoration-color: #7fbfbf\">                    </span><span style=\"color: #000080; text-decoration-color: #000080\">INFO    </span> Event loop was unresponsive in Nanny for <span style=\"color: #008080; text-decoration-color: #008080; font-weight: bold\">3.</span>26s.  This is often caused by   <a href=\"file://C:\\Users\\Tahsin\\miniconda3\\envs\\modspy\\lib\\site-packages\\distributed\\core.py\" target=\"_blank\"><span style=\"color: #7f7f7f; text-decoration-color: #7f7f7f\">core.py</span></a><span style=\"color: #7f7f7f; text-decoration-color: #7f7f7f\">:</span><a href=\"file://C:\\Users\\Tahsin\\miniconda3\\envs\\modspy\\lib\\site-packages\\distributed\\core.py#743\" target=\"_blank\"><span style=\"color: #7f7f7f; text-decoration-color: #7f7f7f\">743</span></a>\n",
       "<span style=\"color: #7fbfbf; text-decoration-color: #7fbfbf\">                    </span>         long-running GIL-holding functions or moving large chunks of data. This    <span style=\"color: #7f7f7f; text-decoration-color: #7f7f7f\">           </span>\n",
       "<span style=\"color: #7fbfbf; text-decoration-color: #7fbfbf\">                    </span>         can cause timeouts and instability.                                        <span style=\"color: #7f7f7f; text-decoration-color: #7f7f7f\">           </span>\n",
       "</pre>\n"
      ],
      "text/plain": [
       "\u001b[2;36m                   \u001b[0m\u001b[2;36m \u001b[0m\u001b[34mINFO    \u001b[0m Event loop was unresponsive in Nanny for \u001b[1;36m3.\u001b[0m26s.  This is often caused by   \u001b]8;id=292517;file://C:\\Users\\Tahsin\\miniconda3\\envs\\modspy\\lib\\site-packages\\distributed\\core.py\u001b\\\u001b[2mcore.py\u001b[0m\u001b]8;;\u001b\\\u001b[2m:\u001b[0m\u001b]8;id=991751;file://C:\\Users\\Tahsin\\miniconda3\\envs\\modspy\\lib\\site-packages\\distributed\\core.py#743\u001b\\\u001b[2m743\u001b[0m\u001b]8;;\u001b\\\n",
       "\u001b[2;36m                    \u001b[0m         long-running GIL-holding functions or moving large chunks of data. This    \u001b[2m           \u001b[0m\n",
       "\u001b[2;36m                    \u001b[0m         can cause timeouts and instability.                                        \u001b[2m           \u001b[0m\n"
      ]
     },
     "metadata": {},
     "output_type": "display_data"
    },
    {
     "data": {
      "text/html": [
       "<pre style=\"white-space:pre;overflow-x:auto;line-height:normal;font-family:Menlo,'DejaVu Sans Mono',consolas,'Courier New',monospace\"><span style=\"color: #7fbfbf; text-decoration-color: #7fbfbf\">[01/19/24 00:47:59] </span><span style=\"color: #000080; text-decoration-color: #000080\">INFO    </span> Event loop was unresponsive in Nanny for <span style=\"color: #008080; text-decoration-color: #008080; font-weight: bold\">6.</span>85s.  This is often caused by   <a href=\"file://C:\\Users\\Tahsin\\miniconda3\\envs\\modspy\\lib\\site-packages\\distributed\\core.py\" target=\"_blank\"><span style=\"color: #7f7f7f; text-decoration-color: #7f7f7f\">core.py</span></a><span style=\"color: #7f7f7f; text-decoration-color: #7f7f7f\">:</span><a href=\"file://C:\\Users\\Tahsin\\miniconda3\\envs\\modspy\\lib\\site-packages\\distributed\\core.py#743\" target=\"_blank\"><span style=\"color: #7f7f7f; text-decoration-color: #7f7f7f\">743</span></a>\n",
       "<span style=\"color: #7fbfbf; text-decoration-color: #7fbfbf\">                    </span>         long-running GIL-holding functions or moving large chunks of data. This    <span style=\"color: #7f7f7f; text-decoration-color: #7f7f7f\">           </span>\n",
       "<span style=\"color: #7fbfbf; text-decoration-color: #7fbfbf\">                    </span>         can cause timeouts and instability.                                        <span style=\"color: #7f7f7f; text-decoration-color: #7f7f7f\">           </span>\n",
       "</pre>\n"
      ],
      "text/plain": [
       "\u001b[2;36m[01/19/24 00:47:59]\u001b[0m\u001b[2;36m \u001b[0m\u001b[34mINFO    \u001b[0m Event loop was unresponsive in Nanny for \u001b[1;36m6.\u001b[0m85s.  This is often caused by   \u001b]8;id=15884;file://C:\\Users\\Tahsin\\miniconda3\\envs\\modspy\\lib\\site-packages\\distributed\\core.py\u001b\\\u001b[2mcore.py\u001b[0m\u001b]8;;\u001b\\\u001b[2m:\u001b[0m\u001b]8;id=320742;file://C:\\Users\\Tahsin\\miniconda3\\envs\\modspy\\lib\\site-packages\\distributed\\core.py#743\u001b\\\u001b[2m743\u001b[0m\u001b]8;;\u001b\\\n",
       "\u001b[2;36m                    \u001b[0m         long-running GIL-holding functions or moving large chunks of data. This    \u001b[2m           \u001b[0m\n",
       "\u001b[2;36m                    \u001b[0m         can cause timeouts and instability.                                        \u001b[2m           \u001b[0m\n"
      ]
     },
     "metadata": {},
     "output_type": "display_data"
    },
    {
     "data": {
      "text/html": [
       "<pre style=\"white-space:pre;overflow-x:auto;line-height:normal;font-family:Menlo,'DejaVu Sans Mono',consolas,'Courier New',monospace\"><span style=\"color: #7fbfbf; text-decoration-color: #7fbfbf\">                    </span><span style=\"color: #000080; text-decoration-color: #000080\">INFO    </span> Event loop was unresponsive in Nanny for <span style=\"color: #008080; text-decoration-color: #008080; font-weight: bold\">6.</span>86s.  This is often caused by   <a href=\"file://C:\\Users\\Tahsin\\miniconda3\\envs\\modspy\\lib\\site-packages\\distributed\\core.py\" target=\"_blank\"><span style=\"color: #7f7f7f; text-decoration-color: #7f7f7f\">core.py</span></a><span style=\"color: #7f7f7f; text-decoration-color: #7f7f7f\">:</span><a href=\"file://C:\\Users\\Tahsin\\miniconda3\\envs\\modspy\\lib\\site-packages\\distributed\\core.py#743\" target=\"_blank\"><span style=\"color: #7f7f7f; text-decoration-color: #7f7f7f\">743</span></a>\n",
       "<span style=\"color: #7fbfbf; text-decoration-color: #7fbfbf\">                    </span>         long-running GIL-holding functions or moving large chunks of data. This    <span style=\"color: #7f7f7f; text-decoration-color: #7f7f7f\">           </span>\n",
       "<span style=\"color: #7fbfbf; text-decoration-color: #7fbfbf\">                    </span>         can cause timeouts and instability.                                        <span style=\"color: #7f7f7f; text-decoration-color: #7f7f7f\">           </span>\n",
       "</pre>\n"
      ],
      "text/plain": [
       "\u001b[2;36m                   \u001b[0m\u001b[2;36m \u001b[0m\u001b[34mINFO    \u001b[0m Event loop was unresponsive in Nanny for \u001b[1;36m6.\u001b[0m86s.  This is often caused by   \u001b]8;id=648334;file://C:\\Users\\Tahsin\\miniconda3\\envs\\modspy\\lib\\site-packages\\distributed\\core.py\u001b\\\u001b[2mcore.py\u001b[0m\u001b]8;;\u001b\\\u001b[2m:\u001b[0m\u001b]8;id=541273;file://C:\\Users\\Tahsin\\miniconda3\\envs\\modspy\\lib\\site-packages\\distributed\\core.py#743\u001b\\\u001b[2m743\u001b[0m\u001b]8;;\u001b\\\n",
       "\u001b[2;36m                    \u001b[0m         long-running GIL-holding functions or moving large chunks of data. This    \u001b[2m           \u001b[0m\n",
       "\u001b[2;36m                    \u001b[0m         can cause timeouts and instability.                                        \u001b[2m           \u001b[0m\n"
      ]
     },
     "metadata": {},
     "output_type": "display_data"
    },
    {
     "data": {
      "text/html": [
       "<pre style=\"white-space:pre;overflow-x:auto;line-height:normal;font-family:Menlo,'DejaVu Sans Mono',consolas,'Courier New',monospace\"><span style=\"color: #7fbfbf; text-decoration-color: #7fbfbf\">                    </span><span style=\"color: #000080; text-decoration-color: #000080\">INFO    </span> Event loop was unresponsive in Nanny for <span style=\"color: #008080; text-decoration-color: #008080; font-weight: bold\">6.</span>86s.  This is often caused by   <a href=\"file://C:\\Users\\Tahsin\\miniconda3\\envs\\modspy\\lib\\site-packages\\distributed\\core.py\" target=\"_blank\"><span style=\"color: #7f7f7f; text-decoration-color: #7f7f7f\">core.py</span></a><span style=\"color: #7f7f7f; text-decoration-color: #7f7f7f\">:</span><a href=\"file://C:\\Users\\Tahsin\\miniconda3\\envs\\modspy\\lib\\site-packages\\distributed\\core.py#743\" target=\"_blank\"><span style=\"color: #7f7f7f; text-decoration-color: #7f7f7f\">743</span></a>\n",
       "<span style=\"color: #7fbfbf; text-decoration-color: #7fbfbf\">                    </span>         long-running GIL-holding functions or moving large chunks of data. This    <span style=\"color: #7f7f7f; text-decoration-color: #7f7f7f\">           </span>\n",
       "<span style=\"color: #7fbfbf; text-decoration-color: #7fbfbf\">                    </span>         can cause timeouts and instability.                                        <span style=\"color: #7f7f7f; text-decoration-color: #7f7f7f\">           </span>\n",
       "</pre>\n"
      ],
      "text/plain": [
       "\u001b[2;36m                   \u001b[0m\u001b[2;36m \u001b[0m\u001b[34mINFO    \u001b[0m Event loop was unresponsive in Nanny for \u001b[1;36m6.\u001b[0m86s.  This is often caused by   \u001b]8;id=618070;file://C:\\Users\\Tahsin\\miniconda3\\envs\\modspy\\lib\\site-packages\\distributed\\core.py\u001b\\\u001b[2mcore.py\u001b[0m\u001b]8;;\u001b\\\u001b[2m:\u001b[0m\u001b]8;id=284786;file://C:\\Users\\Tahsin\\miniconda3\\envs\\modspy\\lib\\site-packages\\distributed\\core.py#743\u001b\\\u001b[2m743\u001b[0m\u001b]8;;\u001b\\\n",
       "\u001b[2;36m                    \u001b[0m         long-running GIL-holding functions or moving large chunks of data. This    \u001b[2m           \u001b[0m\n",
       "\u001b[2;36m                    \u001b[0m         can cause timeouts and instability.                                        \u001b[2m           \u001b[0m\n"
      ]
     },
     "metadata": {},
     "output_type": "display_data"
    },
    {
     "data": {
      "text/html": [
       "<pre style=\"white-space:pre;overflow-x:auto;line-height:normal;font-family:Menlo,'DejaVu Sans Mono',consolas,'Courier New',monospace\"><span style=\"color: #7fbfbf; text-decoration-color: #7fbfbf\">                    </span><span style=\"color: #000080; text-decoration-color: #000080\">INFO    </span> Event loop was unresponsive in Scheduler for <span style=\"color: #008080; text-decoration-color: #008080; font-weight: bold\">6.</span>95s.  This is often caused  <a href=\"file://C:\\Users\\Tahsin\\miniconda3\\envs\\modspy\\lib\\site-packages\\distributed\\core.py\" target=\"_blank\"><span style=\"color: #7f7f7f; text-decoration-color: #7f7f7f\">core.py</span></a><span style=\"color: #7f7f7f; text-decoration-color: #7f7f7f\">:</span><a href=\"file://C:\\Users\\Tahsin\\miniconda3\\envs\\modspy\\lib\\site-packages\\distributed\\core.py#743\" target=\"_blank\"><span style=\"color: #7f7f7f; text-decoration-color: #7f7f7f\">743</span></a>\n",
       "<span style=\"color: #7fbfbf; text-decoration-color: #7fbfbf\">                    </span>         by long-running GIL-holding functions or moving large chunks of data. This <span style=\"color: #7f7f7f; text-decoration-color: #7f7f7f\">           </span>\n",
       "<span style=\"color: #7fbfbf; text-decoration-color: #7fbfbf\">                    </span>         can cause timeouts and instability.                                        <span style=\"color: #7f7f7f; text-decoration-color: #7f7f7f\">           </span>\n",
       "</pre>\n"
      ],
      "text/plain": [
       "\u001b[2;36m                   \u001b[0m\u001b[2;36m \u001b[0m\u001b[34mINFO    \u001b[0m Event loop was unresponsive in Scheduler for \u001b[1;36m6.\u001b[0m95s.  This is often caused  \u001b]8;id=989135;file://C:\\Users\\Tahsin\\miniconda3\\envs\\modspy\\lib\\site-packages\\distributed\\core.py\u001b\\\u001b[2mcore.py\u001b[0m\u001b]8;;\u001b\\\u001b[2m:\u001b[0m\u001b]8;id=340865;file://C:\\Users\\Tahsin\\miniconda3\\envs\\modspy\\lib\\site-packages\\distributed\\core.py#743\u001b\\\u001b[2m743\u001b[0m\u001b]8;;\u001b\\\n",
       "\u001b[2;36m                    \u001b[0m         by long-running GIL-holding functions or moving large chunks of data. This \u001b[2m           \u001b[0m\n",
       "\u001b[2;36m                    \u001b[0m         can cause timeouts and instability.                                        \u001b[2m           \u001b[0m\n"
      ]
     },
     "metadata": {},
     "output_type": "display_data"
    },
    {
     "data": {
      "text/html": [
       "<pre style=\"white-space:pre;overflow-x:auto;line-height:normal;font-family:Menlo,'DejaVu Sans Mono',consolas,'Courier New',monospace\"><span style=\"color: #7fbfbf; text-decoration-color: #7fbfbf\">                    </span><span style=\"color: #000080; text-decoration-color: #000080\">INFO    </span> Event loop was unresponsive in Nanny for <span style=\"color: #008080; text-decoration-color: #008080; font-weight: bold\">6.</span>97s.  This is often caused by   <a href=\"file://C:\\Users\\Tahsin\\miniconda3\\envs\\modspy\\lib\\site-packages\\distributed\\core.py\" target=\"_blank\"><span style=\"color: #7f7f7f; text-decoration-color: #7f7f7f\">core.py</span></a><span style=\"color: #7f7f7f; text-decoration-color: #7f7f7f\">:</span><a href=\"file://C:\\Users\\Tahsin\\miniconda3\\envs\\modspy\\lib\\site-packages\\distributed\\core.py#743\" target=\"_blank\"><span style=\"color: #7f7f7f; text-decoration-color: #7f7f7f\">743</span></a>\n",
       "<span style=\"color: #7fbfbf; text-decoration-color: #7fbfbf\">                    </span>         long-running GIL-holding functions or moving large chunks of data. This    <span style=\"color: #7f7f7f; text-decoration-color: #7f7f7f\">           </span>\n",
       "<span style=\"color: #7fbfbf; text-decoration-color: #7fbfbf\">                    </span>         can cause timeouts and instability.                                        <span style=\"color: #7f7f7f; text-decoration-color: #7f7f7f\">           </span>\n",
       "</pre>\n"
      ],
      "text/plain": [
       "\u001b[2;36m                   \u001b[0m\u001b[2;36m \u001b[0m\u001b[34mINFO    \u001b[0m Event loop was unresponsive in Nanny for \u001b[1;36m6.\u001b[0m97s.  This is often caused by   \u001b]8;id=987779;file://C:\\Users\\Tahsin\\miniconda3\\envs\\modspy\\lib\\site-packages\\distributed\\core.py\u001b\\\u001b[2mcore.py\u001b[0m\u001b]8;;\u001b\\\u001b[2m:\u001b[0m\u001b]8;id=824252;file://C:\\Users\\Tahsin\\miniconda3\\envs\\modspy\\lib\\site-packages\\distributed\\core.py#743\u001b\\\u001b[2m743\u001b[0m\u001b]8;;\u001b\\\n",
       "\u001b[2;36m                    \u001b[0m         long-running GIL-holding functions or moving large chunks of data. This    \u001b[2m           \u001b[0m\n",
       "\u001b[2;36m                    \u001b[0m         can cause timeouts and instability.                                        \u001b[2m           \u001b[0m\n"
      ]
     },
     "metadata": {},
     "output_type": "display_data"
    },
    {
     "data": {
      "text/html": [
       "<pre style=\"white-space:pre;overflow-x:auto;line-height:normal;font-family:Menlo,'DejaVu Sans Mono',consolas,'Courier New',monospace\"><span style=\"color: #7fbfbf; text-decoration-color: #7fbfbf\">[01/19/24 00:48:05] </span><span style=\"color: #000080; text-decoration-color: #000080\">INFO    </span> Event loop was unresponsive in Scheduler for <span style=\"color: #008080; text-decoration-color: #008080; font-weight: bold\">5.</span>93s.  This is often caused  <a href=\"file://C:\\Users\\Tahsin\\miniconda3\\envs\\modspy\\lib\\site-packages\\distributed\\core.py\" target=\"_blank\"><span style=\"color: #7f7f7f; text-decoration-color: #7f7f7f\">core.py</span></a><span style=\"color: #7f7f7f; text-decoration-color: #7f7f7f\">:</span><a href=\"file://C:\\Users\\Tahsin\\miniconda3\\envs\\modspy\\lib\\site-packages\\distributed\\core.py#743\" target=\"_blank\"><span style=\"color: #7f7f7f; text-decoration-color: #7f7f7f\">743</span></a>\n",
       "<span style=\"color: #7fbfbf; text-decoration-color: #7fbfbf\">                    </span>         by long-running GIL-holding functions or moving large chunks of data. This <span style=\"color: #7f7f7f; text-decoration-color: #7f7f7f\">           </span>\n",
       "<span style=\"color: #7fbfbf; text-decoration-color: #7fbfbf\">                    </span>         can cause timeouts and instability.                                        <span style=\"color: #7f7f7f; text-decoration-color: #7f7f7f\">           </span>\n",
       "</pre>\n"
      ],
      "text/plain": [
       "\u001b[2;36m[01/19/24 00:48:05]\u001b[0m\u001b[2;36m \u001b[0m\u001b[34mINFO    \u001b[0m Event loop was unresponsive in Scheduler for \u001b[1;36m5.\u001b[0m93s.  This is often caused  \u001b]8;id=365885;file://C:\\Users\\Tahsin\\miniconda3\\envs\\modspy\\lib\\site-packages\\distributed\\core.py\u001b\\\u001b[2mcore.py\u001b[0m\u001b]8;;\u001b\\\u001b[2m:\u001b[0m\u001b]8;id=919409;file://C:\\Users\\Tahsin\\miniconda3\\envs\\modspy\\lib\\site-packages\\distributed\\core.py#743\u001b\\\u001b[2m743\u001b[0m\u001b]8;;\u001b\\\n",
       "\u001b[2;36m                    \u001b[0m         by long-running GIL-holding functions or moving large chunks of data. This \u001b[2m           \u001b[0m\n",
       "\u001b[2;36m                    \u001b[0m         can cause timeouts and instability.                                        \u001b[2m           \u001b[0m\n"
      ]
     },
     "metadata": {},
     "output_type": "display_data"
    },
    {
     "data": {
      "text/html": [
       "<pre style=\"white-space:pre;overflow-x:auto;line-height:normal;font-family:Menlo,'DejaVu Sans Mono',consolas,'Courier New',monospace\"><span style=\"color: #7fbfbf; text-decoration-color: #7fbfbf\">                    </span><span style=\"color: #000080; text-decoration-color: #000080\">INFO    </span> Event loop was unresponsive in Nanny for <span style=\"color: #008080; text-decoration-color: #008080; font-weight: bold\">5.</span>91s.  This is often caused by   <a href=\"file://C:\\Users\\Tahsin\\miniconda3\\envs\\modspy\\lib\\site-packages\\distributed\\core.py\" target=\"_blank\"><span style=\"color: #7f7f7f; text-decoration-color: #7f7f7f\">core.py</span></a><span style=\"color: #7f7f7f; text-decoration-color: #7f7f7f\">:</span><a href=\"file://C:\\Users\\Tahsin\\miniconda3\\envs\\modspy\\lib\\site-packages\\distributed\\core.py#743\" target=\"_blank\"><span style=\"color: #7f7f7f; text-decoration-color: #7f7f7f\">743</span></a>\n",
       "<span style=\"color: #7fbfbf; text-decoration-color: #7fbfbf\">                    </span>         long-running GIL-holding functions or moving large chunks of data. This    <span style=\"color: #7f7f7f; text-decoration-color: #7f7f7f\">           </span>\n",
       "<span style=\"color: #7fbfbf; text-decoration-color: #7fbfbf\">                    </span>         can cause timeouts and instability.                                        <span style=\"color: #7f7f7f; text-decoration-color: #7f7f7f\">           </span>\n",
       "</pre>\n"
      ],
      "text/plain": [
       "\u001b[2;36m                   \u001b[0m\u001b[2;36m \u001b[0m\u001b[34mINFO    \u001b[0m Event loop was unresponsive in Nanny for \u001b[1;36m5.\u001b[0m91s.  This is often caused by   \u001b]8;id=983107;file://C:\\Users\\Tahsin\\miniconda3\\envs\\modspy\\lib\\site-packages\\distributed\\core.py\u001b\\\u001b[2mcore.py\u001b[0m\u001b]8;;\u001b\\\u001b[2m:\u001b[0m\u001b]8;id=436545;file://C:\\Users\\Tahsin\\miniconda3\\envs\\modspy\\lib\\site-packages\\distributed\\core.py#743\u001b\\\u001b[2m743\u001b[0m\u001b]8;;\u001b\\\n",
       "\u001b[2;36m                    \u001b[0m         long-running GIL-holding functions or moving large chunks of data. This    \u001b[2m           \u001b[0m\n",
       "\u001b[2;36m                    \u001b[0m         can cause timeouts and instability.                                        \u001b[2m           \u001b[0m\n"
      ]
     },
     "metadata": {},
     "output_type": "display_data"
    },
    {
     "data": {
      "text/html": [
       "<pre style=\"white-space:pre;overflow-x:auto;line-height:normal;font-family:Menlo,'DejaVu Sans Mono',consolas,'Courier New',monospace\"><span style=\"color: #7fbfbf; text-decoration-color: #7fbfbf\">                    </span><span style=\"color: #000080; text-decoration-color: #000080\">INFO    </span> Event loop was unresponsive in Nanny for <span style=\"color: #008080; text-decoration-color: #008080; font-weight: bold\">5.</span>83s.  This is often caused by   <a href=\"file://C:\\Users\\Tahsin\\miniconda3\\envs\\modspy\\lib\\site-packages\\distributed\\core.py\" target=\"_blank\"><span style=\"color: #7f7f7f; text-decoration-color: #7f7f7f\">core.py</span></a><span style=\"color: #7f7f7f; text-decoration-color: #7f7f7f\">:</span><a href=\"file://C:\\Users\\Tahsin\\miniconda3\\envs\\modspy\\lib\\site-packages\\distributed\\core.py#743\" target=\"_blank\"><span style=\"color: #7f7f7f; text-decoration-color: #7f7f7f\">743</span></a>\n",
       "<span style=\"color: #7fbfbf; text-decoration-color: #7fbfbf\">                    </span>         long-running GIL-holding functions or moving large chunks of data. This    <span style=\"color: #7f7f7f; text-decoration-color: #7f7f7f\">           </span>\n",
       "<span style=\"color: #7fbfbf; text-decoration-color: #7fbfbf\">                    </span>         can cause timeouts and instability.                                        <span style=\"color: #7f7f7f; text-decoration-color: #7f7f7f\">           </span>\n",
       "</pre>\n"
      ],
      "text/plain": [
       "\u001b[2;36m                   \u001b[0m\u001b[2;36m \u001b[0m\u001b[34mINFO    \u001b[0m Event loop was unresponsive in Nanny for \u001b[1;36m5.\u001b[0m83s.  This is often caused by   \u001b]8;id=381112;file://C:\\Users\\Tahsin\\miniconda3\\envs\\modspy\\lib\\site-packages\\distributed\\core.py\u001b\\\u001b[2mcore.py\u001b[0m\u001b]8;;\u001b\\\u001b[2m:\u001b[0m\u001b]8;id=547690;file://C:\\Users\\Tahsin\\miniconda3\\envs\\modspy\\lib\\site-packages\\distributed\\core.py#743\u001b\\\u001b[2m743\u001b[0m\u001b]8;;\u001b\\\n",
       "\u001b[2;36m                    \u001b[0m         long-running GIL-holding functions or moving large chunks of data. This    \u001b[2m           \u001b[0m\n",
       "\u001b[2;36m                    \u001b[0m         can cause timeouts and instability.                                        \u001b[2m           \u001b[0m\n"
      ]
     },
     "metadata": {},
     "output_type": "display_data"
    },
    {
     "data": {
      "text/html": [
       "<pre style=\"white-space:pre;overflow-x:auto;line-height:normal;font-family:Menlo,'DejaVu Sans Mono',consolas,'Courier New',monospace\"><span style=\"color: #7fbfbf; text-decoration-color: #7fbfbf\">                    </span><span style=\"color: #000080; text-decoration-color: #000080\">INFO    </span> Event loop was unresponsive in Nanny for <span style=\"color: #008080; text-decoration-color: #008080; font-weight: bold\">5.</span>93s.  This is often caused by   <a href=\"file://C:\\Users\\Tahsin\\miniconda3\\envs\\modspy\\lib\\site-packages\\distributed\\core.py\" target=\"_blank\"><span style=\"color: #7f7f7f; text-decoration-color: #7f7f7f\">core.py</span></a><span style=\"color: #7f7f7f; text-decoration-color: #7f7f7f\">:</span><a href=\"file://C:\\Users\\Tahsin\\miniconda3\\envs\\modspy\\lib\\site-packages\\distributed\\core.py#743\" target=\"_blank\"><span style=\"color: #7f7f7f; text-decoration-color: #7f7f7f\">743</span></a>\n",
       "<span style=\"color: #7fbfbf; text-decoration-color: #7fbfbf\">                    </span>         long-running GIL-holding functions or moving large chunks of data. This    <span style=\"color: #7f7f7f; text-decoration-color: #7f7f7f\">           </span>\n",
       "<span style=\"color: #7fbfbf; text-decoration-color: #7fbfbf\">                    </span>         can cause timeouts and instability.                                        <span style=\"color: #7f7f7f; text-decoration-color: #7f7f7f\">           </span>\n",
       "</pre>\n"
      ],
      "text/plain": [
       "\u001b[2;36m                   \u001b[0m\u001b[2;36m \u001b[0m\u001b[34mINFO    \u001b[0m Event loop was unresponsive in Nanny for \u001b[1;36m5.\u001b[0m93s.  This is often caused by   \u001b]8;id=29807;file://C:\\Users\\Tahsin\\miniconda3\\envs\\modspy\\lib\\site-packages\\distributed\\core.py\u001b\\\u001b[2mcore.py\u001b[0m\u001b]8;;\u001b\\\u001b[2m:\u001b[0m\u001b]8;id=332905;file://C:\\Users\\Tahsin\\miniconda3\\envs\\modspy\\lib\\site-packages\\distributed\\core.py#743\u001b\\\u001b[2m743\u001b[0m\u001b]8;;\u001b\\\n",
       "\u001b[2;36m                    \u001b[0m         long-running GIL-holding functions or moving large chunks of data. This    \u001b[2m           \u001b[0m\n",
       "\u001b[2;36m                    \u001b[0m         can cause timeouts and instability.                                        \u001b[2m           \u001b[0m\n"
      ]
     },
     "metadata": {},
     "output_type": "display_data"
    },
    {
     "data": {
      "text/html": [
       "<pre style=\"white-space:pre;overflow-x:auto;line-height:normal;font-family:Menlo,'DejaVu Sans Mono',consolas,'Courier New',monospace\"><span style=\"color: #7fbfbf; text-decoration-color: #7fbfbf\">                    </span><span style=\"color: #000080; text-decoration-color: #000080\">INFO    </span> Event loop was unresponsive in Nanny for <span style=\"color: #008080; text-decoration-color: #008080; font-weight: bold\">5.</span>94s.  This is often caused by   <a href=\"file://C:\\Users\\Tahsin\\miniconda3\\envs\\modspy\\lib\\site-packages\\distributed\\core.py\" target=\"_blank\"><span style=\"color: #7f7f7f; text-decoration-color: #7f7f7f\">core.py</span></a><span style=\"color: #7f7f7f; text-decoration-color: #7f7f7f\">:</span><a href=\"file://C:\\Users\\Tahsin\\miniconda3\\envs\\modspy\\lib\\site-packages\\distributed\\core.py#743\" target=\"_blank\"><span style=\"color: #7f7f7f; text-decoration-color: #7f7f7f\">743</span></a>\n",
       "<span style=\"color: #7fbfbf; text-decoration-color: #7fbfbf\">                    </span>         long-running GIL-holding functions or moving large chunks of data. This    <span style=\"color: #7f7f7f; text-decoration-color: #7f7f7f\">           </span>\n",
       "<span style=\"color: #7fbfbf; text-decoration-color: #7fbfbf\">                    </span>         can cause timeouts and instability.                                        <span style=\"color: #7f7f7f; text-decoration-color: #7f7f7f\">           </span>\n",
       "</pre>\n"
      ],
      "text/plain": [
       "\u001b[2;36m                   \u001b[0m\u001b[2;36m \u001b[0m\u001b[34mINFO    \u001b[0m Event loop was unresponsive in Nanny for \u001b[1;36m5.\u001b[0m94s.  This is often caused by   \u001b]8;id=649365;file://C:\\Users\\Tahsin\\miniconda3\\envs\\modspy\\lib\\site-packages\\distributed\\core.py\u001b\\\u001b[2mcore.py\u001b[0m\u001b]8;;\u001b\\\u001b[2m:\u001b[0m\u001b]8;id=742140;file://C:\\Users\\Tahsin\\miniconda3\\envs\\modspy\\lib\\site-packages\\distributed\\core.py#743\u001b\\\u001b[2m743\u001b[0m\u001b]8;;\u001b\\\n",
       "\u001b[2;36m                    \u001b[0m         long-running GIL-holding functions or moving large chunks of data. This    \u001b[2m           \u001b[0m\n",
       "\u001b[2;36m                    \u001b[0m         can cause timeouts and instability.                                        \u001b[2m           \u001b[0m\n"
      ]
     },
     "metadata": {},
     "output_type": "display_data"
    },
    {
     "data": {
      "text/html": [
       "<pre style=\"white-space:pre;overflow-x:auto;line-height:normal;font-family:Menlo,'DejaVu Sans Mono',consolas,'Courier New',monospace\"><span style=\"color: #7fbfbf; text-decoration-color: #7fbfbf\">                    </span><span style=\"color: #800000; text-decoration-color: #800000; font-weight: bold\">ERROR   </span> Uncaught exception <span style=\"color: #808000; text-decoration-color: #808000; font-weight: bold\">GET</span> <span style=\"color: #800080; text-decoration-color: #800080\">/status/</span><span style=\"color: #ff00ff; text-decoration-color: #ff00ff\">ws</span> <span style=\"font-weight: bold\">(</span><span style=\"color: #00ff00; text-decoration-color: #00ff00; font-weight: bold\">127.0.0.1</span><span style=\"font-weight: bold\">)</span>                              <a href=\"file://C:\\Users\\Tahsin\\miniconda3\\envs\\modspy\\lib\\site-packages\\tornado\\web.py\" target=\"_blank\"><span style=\"color: #7f7f7f; text-decoration-color: #7f7f7f\">web.py</span></a><span style=\"color: #7f7f7f; text-decoration-color: #7f7f7f\">:</span><a href=\"file://C:\\Users\\Tahsin\\miniconda3\\envs\\modspy\\lib\\site-packages\\tornado\\web.py#1871\" target=\"_blank\"><span style=\"color: #7f7f7f; text-decoration-color: #7f7f7f\">1871</span></a>\n",
       "<span style=\"color: #7fbfbf; text-decoration-color: #7fbfbf\">                    </span>         <span style=\"color: #800080; text-decoration-color: #800080; font-weight: bold\">HTTPServerRequest</span><span style=\"font-weight: bold\">(</span><span style=\"color: #808000; text-decoration-color: #808000\">protocol</span>=<span style=\"color: #008000; text-decoration-color: #008000\">'http'</span>, <span style=\"color: #808000; text-decoration-color: #808000\">host</span>=<span style=\"color: #008000; text-decoration-color: #008000\">'127.0.0.1:8787'</span>, <span style=\"color: #808000; text-decoration-color: #808000\">method</span>=<span style=\"color: #008000; text-decoration-color: #008000\">'</span><span style=\"color: #808000; text-decoration-color: #808000; font-weight: bold\">GET</span><span style=\"color: #008000; text-decoration-color: #008000\">'</span>,    <span style=\"color: #7f7f7f; text-decoration-color: #7f7f7f\">           </span>\n",
       "<span style=\"color: #7fbfbf; text-decoration-color: #7fbfbf\">                    </span>         <span style=\"color: #808000; text-decoration-color: #808000\">uri</span>=<span style=\"color: #008000; text-decoration-color: #008000\">'/status/ws'</span>, <span style=\"color: #808000; text-decoration-color: #808000\">version</span>=<span style=\"color: #008000; text-decoration-color: #008000\">'HTTP/1.1'</span>, <span style=\"color: #808000; text-decoration-color: #808000\">remote_ip</span>=<span style=\"color: #008000; text-decoration-color: #008000\">'127.0.0.1'</span><span style=\"font-weight: bold\">)</span>               <span style=\"color: #7f7f7f; text-decoration-color: #7f7f7f\">           </span>\n",
       "<span style=\"color: #7fbfbf; text-decoration-color: #7fbfbf\">                    </span>         <span style=\"color: #800000; text-decoration-color: #800000\">╭────────────────── </span><span style=\"color: #800000; text-decoration-color: #800000; font-weight: bold\">Traceback </span><span style=\"color: #bf7f7f; text-decoration-color: #bf7f7f; font-weight: bold\">(most recent call last)</span><span style=\"color: #800000; text-decoration-color: #800000\"> ───────────────────╮</span> <span style=\"color: #7f7f7f; text-decoration-color: #7f7f7f\">           </span>\n",
       "<span style=\"color: #7fbfbf; text-decoration-color: #7fbfbf\">                    </span>         <span style=\"color: #800000; text-decoration-color: #800000\">│</span> <span style=\"color: #808000; text-decoration-color: #808000\">C:\\Users\\Tahsin\\miniconda3\\envs\\modspy\\lib\\site-packages\\tornado\\webso</span> <span style=\"color: #800000; text-decoration-color: #800000\">│</span> <span style=\"color: #7f7f7f; text-decoration-color: #7f7f7f\">           </span>\n",
       "<span style=\"color: #7fbfbf; text-decoration-color: #7fbfbf\">                    </span>         <span style=\"color: #800000; text-decoration-color: #800000\">│</span> <span style=\"color: #808000; text-decoration-color: #808000\">cket.py</span>:<span style=\"color: #0000ff; text-decoration-color: #0000ff\">937</span> in <span style=\"color: #00ff00; text-decoration-color: #00ff00\">_accept_connection</span>                                      <span style=\"color: #800000; text-decoration-color: #800000\">│</span> <span style=\"color: #7f7f7f; text-decoration-color: #7f7f7f\">           </span>\n",
       "<span style=\"color: #7fbfbf; text-decoration-color: #7fbfbf\">                    </span>         <span style=\"color: #800000; text-decoration-color: #800000\">│</span>                                                                        <span style=\"color: #800000; text-decoration-color: #800000\">│</span> <span style=\"color: #7f7f7f; text-decoration-color: #7f7f7f\">           </span>\n",
       "<span style=\"color: #7fbfbf; text-decoration-color: #7fbfbf\">                    </span>         <span style=\"color: #800000; text-decoration-color: #800000\">│</span>   <span style=\"color: #7f7f7f; text-decoration-color: #7f7f7f\"> 934 </span><span style=\"color: #7f7f7f; text-decoration-color: #7f7f7f\">│   │   </span>                                                        <span style=\"color: #800000; text-decoration-color: #800000\">│</span> <span style=\"color: #7f7f7f; text-decoration-color: #7f7f7f\">           </span>\n",
       "<span style=\"color: #7fbfbf; text-decoration-color: #7fbfbf\">                    </span>         <span style=\"color: #800000; text-decoration-color: #800000\">│</span>   <span style=\"color: #7f7f7f; text-decoration-color: #7f7f7f\"> 935 </span><span style=\"color: #7f7f7f; text-decoration-color: #7f7f7f\">│   │   </span><span style=\"color: #00ffff; text-decoration-color: #00ffff\">self</span>.start_pinging()                                    <span style=\"color: #800000; text-decoration-color: #800000\">│</span> <span style=\"color: #7f7f7f; text-decoration-color: #7f7f7f\">           </span>\n",
       "<span style=\"color: #7fbfbf; text-decoration-color: #7fbfbf\">                    </span>         <span style=\"color: #800000; text-decoration-color: #800000\">│</span>   <span style=\"color: #7f7f7f; text-decoration-color: #7f7f7f\"> 936 </span><span style=\"color: #7f7f7f; text-decoration-color: #7f7f7f\">│   │   </span><span style=\"color: #0000ff; text-decoration-color: #0000ff\">try</span>:                                                    <span style=\"color: #800000; text-decoration-color: #800000\">│</span> <span style=\"color: #7f7f7f; text-decoration-color: #7f7f7f\">           </span>\n",
       "<span style=\"color: #7fbfbf; text-decoration-color: #7fbfbf\">                    </span>         <span style=\"color: #800000; text-decoration-color: #800000\">│</span> <span style=\"color: #800000; text-decoration-color: #800000\">❱ </span> 937 <span style=\"color: #7f7f7f; text-decoration-color: #7f7f7f\">│   │   │   </span>open_result = handler.open(*handler.open_args, **ha <span style=\"color: #800000; text-decoration-color: #800000\">│</span> <span style=\"color: #7f7f7f; text-decoration-color: #7f7f7f\">           </span>\n",
       "<span style=\"color: #7fbfbf; text-decoration-color: #7fbfbf\">                    </span>         <span style=\"color: #800000; text-decoration-color: #800000\">│</span>   <span style=\"color: #7f7f7f; text-decoration-color: #7f7f7f\"> 938 </span><span style=\"color: #7f7f7f; text-decoration-color: #7f7f7f\">│   │   │   </span><span style=\"color: #0000ff; text-decoration-color: #0000ff\">if</span> open_result <span style=\"color: #ff00ff; text-decoration-color: #ff00ff\">is</span> <span style=\"color: #ff00ff; text-decoration-color: #ff00ff\">not</span> <span style=\"color: #0000ff; text-decoration-color: #0000ff\">None</span>:                         <span style=\"color: #800000; text-decoration-color: #800000\">│</span> <span style=\"color: #7f7f7f; text-decoration-color: #7f7f7f\">           </span>\n",
       "<span style=\"color: #7fbfbf; text-decoration-color: #7fbfbf\">                    </span>         <span style=\"color: #800000; text-decoration-color: #800000\">│</span>   <span style=\"color: #7f7f7f; text-decoration-color: #7f7f7f\"> 939 </span><span style=\"color: #7f7f7f; text-decoration-color: #7f7f7f\">│   │   │   │   </span><span style=\"color: #0000ff; text-decoration-color: #0000ff\">await</span> open_result                               <span style=\"color: #800000; text-decoration-color: #800000\">│</span> <span style=\"color: #7f7f7f; text-decoration-color: #7f7f7f\">           </span>\n",
       "<span style=\"color: #7fbfbf; text-decoration-color: #7fbfbf\">                    </span>         <span style=\"color: #800000; text-decoration-color: #800000\">│</span>   <span style=\"color: #7f7f7f; text-decoration-color: #7f7f7f\"> 940 </span><span style=\"color: #7f7f7f; text-decoration-color: #7f7f7f\">│   │   </span><span style=\"color: #0000ff; text-decoration-color: #0000ff\">except</span> <span style=\"color: #00ffff; text-decoration-color: #00ffff\">Exception</span>:                                       <span style=\"color: #800000; text-decoration-color: #800000\">│</span> <span style=\"color: #7f7f7f; text-decoration-color: #7f7f7f\">           </span>\n",
       "<span style=\"color: #7fbfbf; text-decoration-color: #7fbfbf\">                    </span>         <span style=\"color: #800000; text-decoration-color: #800000\">│</span>                                                                        <span style=\"color: #800000; text-decoration-color: #800000\">│</span> <span style=\"color: #7f7f7f; text-decoration-color: #7f7f7f\">           </span>\n",
       "<span style=\"color: #7fbfbf; text-decoration-color: #7fbfbf\">                    </span>         <span style=\"color: #800000; text-decoration-color: #800000\">│</span> <span style=\"color: #808000; text-decoration-color: #808000\">C:\\Users\\Tahsin\\miniconda3\\envs\\modspy\\lib\\site-packages\\tornado\\web.p</span> <span style=\"color: #800000; text-decoration-color: #800000\">│</span> <span style=\"color: #7f7f7f; text-decoration-color: #7f7f7f\">           </span>\n",
       "<span style=\"color: #7fbfbf; text-decoration-color: #7fbfbf\">                    </span>         <span style=\"color: #800000; text-decoration-color: #800000\">│</span> <span style=\"color: #808000; text-decoration-color: #808000\">y</span>:<span style=\"color: #0000ff; text-decoration-color: #0000ff\">3290</span> in <span style=\"color: #00ff00; text-decoration-color: #00ff00\">wrapper</span>                                                      <span style=\"color: #800000; text-decoration-color: #800000\">│</span> <span style=\"color: #7f7f7f; text-decoration-color: #7f7f7f\">           </span>\n",
       "<span style=\"color: #7fbfbf; text-decoration-color: #7fbfbf\">                    </span>         <span style=\"color: #800000; text-decoration-color: #800000\">│</span>                                                                        <span style=\"color: #800000; text-decoration-color: #800000\">│</span> <span style=\"color: #7f7f7f; text-decoration-color: #7f7f7f\">           </span>\n",
       "<span style=\"color: #7fbfbf; text-decoration-color: #7fbfbf\">                    </span>         <span style=\"color: #800000; text-decoration-color: #800000\">│</span>   <span style=\"color: #7f7f7f; text-decoration-color: #7f7f7f\">3287 </span><span style=\"color: #7f7f7f; text-decoration-color: #7f7f7f\">│   │   │   │   </span><span style=\"color: #00ffff; text-decoration-color: #00ffff\">self</span>.redirect(url)                              <span style=\"color: #800000; text-decoration-color: #800000\">│</span> <span style=\"color: #7f7f7f; text-decoration-color: #7f7f7f\">           </span>\n",
       "<span style=\"color: #7fbfbf; text-decoration-color: #7fbfbf\">                    </span>         <span style=\"color: #800000; text-decoration-color: #800000\">│</span>   <span style=\"color: #7f7f7f; text-decoration-color: #7f7f7f\">3288 </span><span style=\"color: #7f7f7f; text-decoration-color: #7f7f7f\">│   │   │   │   </span><span style=\"color: #0000ff; text-decoration-color: #0000ff\">return</span> <span style=\"color: #0000ff; text-decoration-color: #0000ff\">None</span>                                     <span style=\"color: #800000; text-decoration-color: #800000\">│</span> <span style=\"color: #7f7f7f; text-decoration-color: #7f7f7f\">           </span>\n",
       "<span style=\"color: #7fbfbf; text-decoration-color: #7fbfbf\">                    </span>         <span style=\"color: #800000; text-decoration-color: #800000\">│</span>   <span style=\"color: #7f7f7f; text-decoration-color: #7f7f7f\">3289 </span><span style=\"color: #7f7f7f; text-decoration-color: #7f7f7f\">│   │   │   </span><span style=\"color: #0000ff; text-decoration-color: #0000ff\">raise</span> HTTPError(<span style=\"color: #0000ff; text-decoration-color: #0000ff\">403</span>)                                <span style=\"color: #800000; text-decoration-color: #800000\">│</span> <span style=\"color: #7f7f7f; text-decoration-color: #7f7f7f\">           </span>\n",
       "<span style=\"color: #7fbfbf; text-decoration-color: #7fbfbf\">                    </span>         <span style=\"color: #800000; text-decoration-color: #800000\">│</span> <span style=\"color: #800000; text-decoration-color: #800000\">❱ </span>3290 <span style=\"color: #7f7f7f; text-decoration-color: #7f7f7f\">│   │   </span><span style=\"color: #0000ff; text-decoration-color: #0000ff\">return</span> method(<span style=\"color: #00ffff; text-decoration-color: #00ffff\">self</span>, *args, **kwargs)                    <span style=\"color: #800000; text-decoration-color: #800000\">│</span> <span style=\"color: #7f7f7f; text-decoration-color: #7f7f7f\">           </span>\n",
       "<span style=\"color: #7fbfbf; text-decoration-color: #7fbfbf\">                    </span>         <span style=\"color: #800000; text-decoration-color: #800000\">│</span>   <span style=\"color: #7f7f7f; text-decoration-color: #7f7f7f\">3291 </span><span style=\"color: #7f7f7f; text-decoration-color: #7f7f7f\">│   </span>                                                            <span style=\"color: #800000; text-decoration-color: #800000\">│</span> <span style=\"color: #7f7f7f; text-decoration-color: #7f7f7f\">           </span>\n",
       "<span style=\"color: #7fbfbf; text-decoration-color: #7fbfbf\">                    </span>         <span style=\"color: #800000; text-decoration-color: #800000\">│</span>   <span style=\"color: #7f7f7f; text-decoration-color: #7f7f7f\">3292 </span><span style=\"color: #7f7f7f; text-decoration-color: #7f7f7f\">│   </span><span style=\"color: #0000ff; text-decoration-color: #0000ff\">return</span> wrapper                                              <span style=\"color: #800000; text-decoration-color: #800000\">│</span> <span style=\"color: #7f7f7f; text-decoration-color: #7f7f7f\">           </span>\n",
       "<span style=\"color: #7fbfbf; text-decoration-color: #7fbfbf\">                    </span>         <span style=\"color: #800000; text-decoration-color: #800000\">│</span>   <span style=\"color: #7f7f7f; text-decoration-color: #7f7f7f\">3293 </span>                                                                <span style=\"color: #800000; text-decoration-color: #800000\">│</span> <span style=\"color: #7f7f7f; text-decoration-color: #7f7f7f\">           </span>\n",
       "<span style=\"color: #7fbfbf; text-decoration-color: #7fbfbf\">                    </span>         <span style=\"color: #800000; text-decoration-color: #800000\">│</span>                                                                        <span style=\"color: #800000; text-decoration-color: #800000\">│</span> <span style=\"color: #7f7f7f; text-decoration-color: #7f7f7f\">           </span>\n",
       "<span style=\"color: #7fbfbf; text-decoration-color: #7fbfbf\">                    </span>         <span style=\"color: #800000; text-decoration-color: #800000\">│</span> <span style=\"color: #808000; text-decoration-color: #808000\">C:\\Users\\Tahsin\\miniconda3\\envs\\modspy\\lib\\site-packages\\bokeh\\server\\</span> <span style=\"color: #800000; text-decoration-color: #800000\">│</span> <span style=\"color: #7f7f7f; text-decoration-color: #7f7f7f\">           </span>\n",
       "<span style=\"color: #7fbfbf; text-decoration-color: #7fbfbf\">                    </span>         <span style=\"color: #800000; text-decoration-color: #800000\">│</span> <span style=\"color: #808000; text-decoration-color: #808000\">views\\ws.py</span>:<span style=\"color: #0000ff; text-decoration-color: #0000ff\">149</span> in <span style=\"color: #00ff00; text-decoration-color: #00ff00\">open</span>                                                <span style=\"color: #800000; text-decoration-color: #800000\">│</span> <span style=\"color: #7f7f7f; text-decoration-color: #7f7f7f\">           </span>\n",
       "<span style=\"color: #7fbfbf; text-decoration-color: #7fbfbf\">                    </span>         <span style=\"color: #800000; text-decoration-color: #800000\">│</span>                                                                        <span style=\"color: #800000; text-decoration-color: #800000\">│</span> <span style=\"color: #7f7f7f; text-decoration-color: #7f7f7f\">           </span>\n",
       "<span style=\"color: #7fbfbf; text-decoration-color: #7fbfbf\">                    </span>         <span style=\"color: #800000; text-decoration-color: #800000\">│</span>   <span style=\"color: #7f7f7f; text-decoration-color: #7f7f7f\">146 </span><span style=\"color: #7f7f7f; text-decoration-color: #7f7f7f\">│   │   │   </span><span style=\"color: #0000ff; text-decoration-color: #0000ff\">raise</span> ProtocolError(<span style=\"color: #808000; text-decoration-color: #808000\">\"Session expiry has not been pro</span> <span style=\"color: #800000; text-decoration-color: #800000\">│</span> <span style=\"color: #7f7f7f; text-decoration-color: #7f7f7f\">           </span>\n",
       "<span style=\"color: #7fbfbf; text-decoration-color: #7fbfbf\">                    </span>         <span style=\"color: #800000; text-decoration-color: #800000\">│</span>   <span style=\"color: #7f7f7f; text-decoration-color: #7f7f7f\">147 </span><span style=\"color: #7f7f7f; text-decoration-color: #7f7f7f\">│   │   </span><span style=\"color: #0000ff; text-decoration-color: #0000ff\">elif</span> now &gt;= payload[<span style=\"color: #808000; text-decoration-color: #808000\">'session_expiry'</span>]:                   <span style=\"color: #800000; text-decoration-color: #800000\">│</span> <span style=\"color: #7f7f7f; text-decoration-color: #7f7f7f\">           </span>\n",
       "<span style=\"color: #7fbfbf; text-decoration-color: #7fbfbf\">                    </span>         <span style=\"color: #800000; text-decoration-color: #800000\">│</span>   <span style=\"color: #7f7f7f; text-decoration-color: #7f7f7f\">148 </span><span style=\"color: #7f7f7f; text-decoration-color: #7f7f7f\">│   │   │   </span><span style=\"color: #00ffff; text-decoration-color: #00ffff\">self</span>.close()                                         <span style=\"color: #800000; text-decoration-color: #800000\">│</span> <span style=\"color: #7f7f7f; text-decoration-color: #7f7f7f\">           </span>\n",
       "<span style=\"color: #7fbfbf; text-decoration-color: #7fbfbf\">                    </span>         <span style=\"color: #800000; text-decoration-color: #800000\">│</span> <span style=\"color: #800000; text-decoration-color: #800000\">❱ </span>149 <span style=\"color: #7f7f7f; text-decoration-color: #7f7f7f\">│   │   │   </span><span style=\"color: #0000ff; text-decoration-color: #0000ff\">raise</span> ProtocolError(<span style=\"color: #808000; text-decoration-color: #808000\">\"Token is expired.\"</span>)             <span style=\"color: #800000; text-decoration-color: #800000\">│</span> <span style=\"color: #7f7f7f; text-decoration-color: #7f7f7f\">           </span>\n",
       "<span style=\"color: #7fbfbf; text-decoration-color: #7fbfbf\">                    </span>         <span style=\"color: #800000; text-decoration-color: #800000\">│</span>   <span style=\"color: #7f7f7f; text-decoration-color: #7f7f7f\">150 </span><span style=\"color: #7f7f7f; text-decoration-color: #7f7f7f\">│   │   </span><span style=\"color: #0000ff; text-decoration-color: #0000ff\">elif</span> <span style=\"color: #ff00ff; text-decoration-color: #ff00ff\">not</span> check_token_signature(token,                    <span style=\"color: #800000; text-decoration-color: #800000\">│</span> <span style=\"color: #7f7f7f; text-decoration-color: #7f7f7f\">           </span>\n",
       "<span style=\"color: #7fbfbf; text-decoration-color: #7fbfbf\">                    </span>         <span style=\"color: #800000; text-decoration-color: #800000\">│</span>   <span style=\"color: #7f7f7f; text-decoration-color: #7f7f7f\">151 </span><span style=\"color: #7f7f7f; text-decoration-color: #7f7f7f\">│   │   │   │   │   │   │   │   │      </span>signed=<span style=\"color: #00ffff; text-decoration-color: #00ffff\">self</span>.application.s <span style=\"color: #800000; text-decoration-color: #800000\">│</span> <span style=\"color: #7f7f7f; text-decoration-color: #7f7f7f\">           </span>\n",
       "<span style=\"color: #7fbfbf; text-decoration-color: #7fbfbf\">                    </span>         <span style=\"color: #800000; text-decoration-color: #800000\">│</span>   <span style=\"color: #7f7f7f; text-decoration-color: #7f7f7f\">152 </span><span style=\"color: #7f7f7f; text-decoration-color: #7f7f7f\">│   │   │   │   │   │   │   │   │      </span>secret_key=<span style=\"color: #00ffff; text-decoration-color: #00ffff\">self</span>.applicati <span style=\"color: #800000; text-decoration-color: #800000\">│</span> <span style=\"color: #7f7f7f; text-decoration-color: #7f7f7f\">           </span>\n",
       "<span style=\"color: #7fbfbf; text-decoration-color: #7fbfbf\">                    </span>         <span style=\"color: #800000; text-decoration-color: #800000\">╰────────────────────────────────────────────────────────────────────────╯</span> <span style=\"color: #7f7f7f; text-decoration-color: #7f7f7f\">           </span>\n",
       "<span style=\"color: #7fbfbf; text-decoration-color: #7fbfbf\">                    </span>         <span style=\"color: #ff0000; text-decoration-color: #ff0000; font-weight: bold\">ProtocolError: </span>Token is expired.                                           <span style=\"color: #7f7f7f; text-decoration-color: #7f7f7f\">           </span>\n",
       "</pre>\n"
      ],
      "text/plain": [
       "\u001b[2;36m                   \u001b[0m\u001b[2;36m \u001b[0m\u001b[1;31mERROR   \u001b[0m Uncaught exception \u001b[1;33mGET\u001b[0m \u001b[35m/status/\u001b[0m\u001b[95mws\u001b[0m \u001b[1m(\u001b[0m\u001b[1;92m127.0.0.1\u001b[0m\u001b[1m)\u001b[0m                              \u001b]8;id=58198;file://C:\\Users\\Tahsin\\miniconda3\\envs\\modspy\\lib\\site-packages\\tornado\\web.py\u001b\\\u001b[2mweb.py\u001b[0m\u001b]8;;\u001b\\\u001b[2m:\u001b[0m\u001b]8;id=876957;file://C:\\Users\\Tahsin\\miniconda3\\envs\\modspy\\lib\\site-packages\\tornado\\web.py#1871\u001b\\\u001b[2m1871\u001b[0m\u001b]8;;\u001b\\\n",
       "\u001b[2;36m                    \u001b[0m         \u001b[1;35mHTTPServerRequest\u001b[0m\u001b[1m(\u001b[0m\u001b[33mprotocol\u001b[0m=\u001b[32m'http'\u001b[0m, \u001b[33mhost\u001b[0m=\u001b[32m'127.0.0.1:8787'\u001b[0m, \u001b[33mmethod\u001b[0m=\u001b[32m'\u001b[0m\u001b[1;33mGET\u001b[0m\u001b[32m'\u001b[0m,    \u001b[2m           \u001b[0m\n",
       "\u001b[2;36m                    \u001b[0m         \u001b[33muri\u001b[0m=\u001b[32m'/status/ws'\u001b[0m, \u001b[33mversion\u001b[0m=\u001b[32m'HTTP/1.1'\u001b[0m, \u001b[33mremote_ip\u001b[0m=\u001b[32m'127.0.0.1'\u001b[0m\u001b[1m)\u001b[0m               \u001b[2m           \u001b[0m\n",
       "\u001b[2;36m                    \u001b[0m         \u001b[31m╭─\u001b[0m\u001b[31m─────────────────\u001b[0m\u001b[31m \u001b[0m\u001b[1;31mTraceback \u001b[0m\u001b[1;2;31m(most recent call last)\u001b[0m\u001b[31m \u001b[0m\u001b[31m──────────────────\u001b[0m\u001b[31m─╮\u001b[0m \u001b[2m           \u001b[0m\n",
       "\u001b[2;36m                    \u001b[0m         \u001b[31m│\u001b[0m \u001b[33mC:\\Users\\Tahsin\\miniconda3\\envs\\modspy\\lib\\site-packages\\tornado\\webso\u001b[0m \u001b[31m│\u001b[0m \u001b[2m           \u001b[0m\n",
       "\u001b[2;36m                    \u001b[0m         \u001b[31m│\u001b[0m \u001b[33mcket.py\u001b[0m:\u001b[94m937\u001b[0m in \u001b[92m_accept_connection\u001b[0m                                      \u001b[31m│\u001b[0m \u001b[2m           \u001b[0m\n",
       "\u001b[2;36m                    \u001b[0m         \u001b[31m│\u001b[0m                                                                        \u001b[31m│\u001b[0m \u001b[2m           \u001b[0m\n",
       "\u001b[2;36m                    \u001b[0m         \u001b[31m│\u001b[0m   \u001b[2m 934 \u001b[0m\u001b[2m│   │   \u001b[0m                                                        \u001b[31m│\u001b[0m \u001b[2m           \u001b[0m\n",
       "\u001b[2;36m                    \u001b[0m         \u001b[31m│\u001b[0m   \u001b[2m 935 \u001b[0m\u001b[2m│   │   \u001b[0m\u001b[96mself\u001b[0m.start_pinging()                                    \u001b[31m│\u001b[0m \u001b[2m           \u001b[0m\n",
       "\u001b[2;36m                    \u001b[0m         \u001b[31m│\u001b[0m   \u001b[2m 936 \u001b[0m\u001b[2m│   │   \u001b[0m\u001b[94mtry\u001b[0m:                                                    \u001b[31m│\u001b[0m \u001b[2m           \u001b[0m\n",
       "\u001b[2;36m                    \u001b[0m         \u001b[31m│\u001b[0m \u001b[31m❱ \u001b[0m 937 \u001b[2m│   │   │   \u001b[0mopen_result = handler.open(*handler.open_args, **ha \u001b[31m│\u001b[0m \u001b[2m           \u001b[0m\n",
       "\u001b[2;36m                    \u001b[0m         \u001b[31m│\u001b[0m   \u001b[2m 938 \u001b[0m\u001b[2m│   │   │   \u001b[0m\u001b[94mif\u001b[0m open_result \u001b[95mis\u001b[0m \u001b[95mnot\u001b[0m \u001b[94mNone\u001b[0m:                         \u001b[31m│\u001b[0m \u001b[2m           \u001b[0m\n",
       "\u001b[2;36m                    \u001b[0m         \u001b[31m│\u001b[0m   \u001b[2m 939 \u001b[0m\u001b[2m│   │   │   │   \u001b[0m\u001b[94mawait\u001b[0m open_result                               \u001b[31m│\u001b[0m \u001b[2m           \u001b[0m\n",
       "\u001b[2;36m                    \u001b[0m         \u001b[31m│\u001b[0m   \u001b[2m 940 \u001b[0m\u001b[2m│   │   \u001b[0m\u001b[94mexcept\u001b[0m \u001b[96mException\u001b[0m:                                       \u001b[31m│\u001b[0m \u001b[2m           \u001b[0m\n",
       "\u001b[2;36m                    \u001b[0m         \u001b[31m│\u001b[0m                                                                        \u001b[31m│\u001b[0m \u001b[2m           \u001b[0m\n",
       "\u001b[2;36m                    \u001b[0m         \u001b[31m│\u001b[0m \u001b[33mC:\\Users\\Tahsin\\miniconda3\\envs\\modspy\\lib\\site-packages\\tornado\\web.p\u001b[0m \u001b[31m│\u001b[0m \u001b[2m           \u001b[0m\n",
       "\u001b[2;36m                    \u001b[0m         \u001b[31m│\u001b[0m \u001b[33my\u001b[0m:\u001b[94m3290\u001b[0m in \u001b[92mwrapper\u001b[0m                                                      \u001b[31m│\u001b[0m \u001b[2m           \u001b[0m\n",
       "\u001b[2;36m                    \u001b[0m         \u001b[31m│\u001b[0m                                                                        \u001b[31m│\u001b[0m \u001b[2m           \u001b[0m\n",
       "\u001b[2;36m                    \u001b[0m         \u001b[31m│\u001b[0m   \u001b[2m3287 \u001b[0m\u001b[2m│   │   │   │   \u001b[0m\u001b[96mself\u001b[0m.redirect(url)                              \u001b[31m│\u001b[0m \u001b[2m           \u001b[0m\n",
       "\u001b[2;36m                    \u001b[0m         \u001b[31m│\u001b[0m   \u001b[2m3288 \u001b[0m\u001b[2m│   │   │   │   \u001b[0m\u001b[94mreturn\u001b[0m \u001b[94mNone\u001b[0m                                     \u001b[31m│\u001b[0m \u001b[2m           \u001b[0m\n",
       "\u001b[2;36m                    \u001b[0m         \u001b[31m│\u001b[0m   \u001b[2m3289 \u001b[0m\u001b[2m│   │   │   \u001b[0m\u001b[94mraise\u001b[0m HTTPError(\u001b[94m403\u001b[0m)                                \u001b[31m│\u001b[0m \u001b[2m           \u001b[0m\n",
       "\u001b[2;36m                    \u001b[0m         \u001b[31m│\u001b[0m \u001b[31m❱ \u001b[0m3290 \u001b[2m│   │   \u001b[0m\u001b[94mreturn\u001b[0m method(\u001b[96mself\u001b[0m, *args, **kwargs)                    \u001b[31m│\u001b[0m \u001b[2m           \u001b[0m\n",
       "\u001b[2;36m                    \u001b[0m         \u001b[31m│\u001b[0m   \u001b[2m3291 \u001b[0m\u001b[2m│   \u001b[0m                                                            \u001b[31m│\u001b[0m \u001b[2m           \u001b[0m\n",
       "\u001b[2;36m                    \u001b[0m         \u001b[31m│\u001b[0m   \u001b[2m3292 \u001b[0m\u001b[2m│   \u001b[0m\u001b[94mreturn\u001b[0m wrapper                                              \u001b[31m│\u001b[0m \u001b[2m           \u001b[0m\n",
       "\u001b[2;36m                    \u001b[0m         \u001b[31m│\u001b[0m   \u001b[2m3293 \u001b[0m                                                                \u001b[31m│\u001b[0m \u001b[2m           \u001b[0m\n",
       "\u001b[2;36m                    \u001b[0m         \u001b[31m│\u001b[0m                                                                        \u001b[31m│\u001b[0m \u001b[2m           \u001b[0m\n",
       "\u001b[2;36m                    \u001b[0m         \u001b[31m│\u001b[0m \u001b[33mC:\\Users\\Tahsin\\miniconda3\\envs\\modspy\\lib\\site-packages\\bokeh\\server\\\u001b[0m \u001b[31m│\u001b[0m \u001b[2m           \u001b[0m\n",
       "\u001b[2;36m                    \u001b[0m         \u001b[31m│\u001b[0m \u001b[33mviews\\ws.py\u001b[0m:\u001b[94m149\u001b[0m in \u001b[92mopen\u001b[0m                                                \u001b[31m│\u001b[0m \u001b[2m           \u001b[0m\n",
       "\u001b[2;36m                    \u001b[0m         \u001b[31m│\u001b[0m                                                                        \u001b[31m│\u001b[0m \u001b[2m           \u001b[0m\n",
       "\u001b[2;36m                    \u001b[0m         \u001b[31m│\u001b[0m   \u001b[2m146 \u001b[0m\u001b[2m│   │   │   \u001b[0m\u001b[94mraise\u001b[0m ProtocolError(\u001b[33m\"\u001b[0m\u001b[33mSession expiry has not been pro\u001b[0m \u001b[31m│\u001b[0m \u001b[2m           \u001b[0m\n",
       "\u001b[2;36m                    \u001b[0m         \u001b[31m│\u001b[0m   \u001b[2m147 \u001b[0m\u001b[2m│   │   \u001b[0m\u001b[94melif\u001b[0m now >= payload[\u001b[33m'\u001b[0m\u001b[33msession_expiry\u001b[0m\u001b[33m'\u001b[0m]:                   \u001b[31m│\u001b[0m \u001b[2m           \u001b[0m\n",
       "\u001b[2;36m                    \u001b[0m         \u001b[31m│\u001b[0m   \u001b[2m148 \u001b[0m\u001b[2m│   │   │   \u001b[0m\u001b[96mself\u001b[0m.close()                                         \u001b[31m│\u001b[0m \u001b[2m           \u001b[0m\n",
       "\u001b[2;36m                    \u001b[0m         \u001b[31m│\u001b[0m \u001b[31m❱ \u001b[0m149 \u001b[2m│   │   │   \u001b[0m\u001b[94mraise\u001b[0m ProtocolError(\u001b[33m\"\u001b[0m\u001b[33mToken is expired.\u001b[0m\u001b[33m\"\u001b[0m)             \u001b[31m│\u001b[0m \u001b[2m           \u001b[0m\n",
       "\u001b[2;36m                    \u001b[0m         \u001b[31m│\u001b[0m   \u001b[2m150 \u001b[0m\u001b[2m│   │   \u001b[0m\u001b[94melif\u001b[0m \u001b[95mnot\u001b[0m check_token_signature(token,                    \u001b[31m│\u001b[0m \u001b[2m           \u001b[0m\n",
       "\u001b[2;36m                    \u001b[0m         \u001b[31m│\u001b[0m   \u001b[2m151 \u001b[0m\u001b[2m│   │   │   │   │   │   │   │   │      \u001b[0msigned=\u001b[96mself\u001b[0m.application.s \u001b[31m│\u001b[0m \u001b[2m           \u001b[0m\n",
       "\u001b[2;36m                    \u001b[0m         \u001b[31m│\u001b[0m   \u001b[2m152 \u001b[0m\u001b[2m│   │   │   │   │   │   │   │   │      \u001b[0msecret_key=\u001b[96mself\u001b[0m.applicati \u001b[31m│\u001b[0m \u001b[2m           \u001b[0m\n",
       "\u001b[2;36m                    \u001b[0m         \u001b[31m╰────────────────────────────────────────────────────────────────────────╯\u001b[0m \u001b[2m           \u001b[0m\n",
       "\u001b[2;36m                    \u001b[0m         \u001b[1;91mProtocolError: \u001b[0mToken is expired.                                           \u001b[2m           \u001b[0m\n"
      ]
     },
     "metadata": {},
     "output_type": "display_data"
    },
    {
     "data": {
      "text/html": [
       "<pre style=\"white-space:pre;overflow-x:auto;line-height:normal;font-family:Menlo,'DejaVu Sans Mono',consolas,'Courier New',monospace\"><span style=\"color: #7fbfbf; text-decoration-color: #7fbfbf\">[01/19/24 00:48:09] </span><span style=\"color: #000080; text-decoration-color: #000080\">INFO    </span> Event loop was unresponsive in Nanny for <span style=\"color: #008080; text-decoration-color: #008080; font-weight: bold\">3.</span>69s.  This is often caused by   <a href=\"file://C:\\Users\\Tahsin\\miniconda3\\envs\\modspy\\lib\\site-packages\\distributed\\core.py\" target=\"_blank\"><span style=\"color: #7f7f7f; text-decoration-color: #7f7f7f\">core.py</span></a><span style=\"color: #7f7f7f; text-decoration-color: #7f7f7f\">:</span><a href=\"file://C:\\Users\\Tahsin\\miniconda3\\envs\\modspy\\lib\\site-packages\\distributed\\core.py#743\" target=\"_blank\"><span style=\"color: #7f7f7f; text-decoration-color: #7f7f7f\">743</span></a>\n",
       "<span style=\"color: #7fbfbf; text-decoration-color: #7fbfbf\">                    </span>         long-running GIL-holding functions or moving large chunks of data. This    <span style=\"color: #7f7f7f; text-decoration-color: #7f7f7f\">           </span>\n",
       "<span style=\"color: #7fbfbf; text-decoration-color: #7fbfbf\">                    </span>         can cause timeouts and instability.                                        <span style=\"color: #7f7f7f; text-decoration-color: #7f7f7f\">           </span>\n",
       "</pre>\n"
      ],
      "text/plain": [
       "\u001b[2;36m[01/19/24 00:48:09]\u001b[0m\u001b[2;36m \u001b[0m\u001b[34mINFO    \u001b[0m Event loop was unresponsive in Nanny for \u001b[1;36m3.\u001b[0m69s.  This is often caused by   \u001b]8;id=582022;file://C:\\Users\\Tahsin\\miniconda3\\envs\\modspy\\lib\\site-packages\\distributed\\core.py\u001b\\\u001b[2mcore.py\u001b[0m\u001b]8;;\u001b\\\u001b[2m:\u001b[0m\u001b]8;id=56525;file://C:\\Users\\Tahsin\\miniconda3\\envs\\modspy\\lib\\site-packages\\distributed\\core.py#743\u001b\\\u001b[2m743\u001b[0m\u001b]8;;\u001b\\\n",
       "\u001b[2;36m                    \u001b[0m         long-running GIL-holding functions or moving large chunks of data. This    \u001b[2m           \u001b[0m\n",
       "\u001b[2;36m                    \u001b[0m         can cause timeouts and instability.                                        \u001b[2m           \u001b[0m\n"
      ]
     },
     "metadata": {},
     "output_type": "display_data"
    },
    {
     "data": {
      "text/html": [
       "<pre style=\"white-space:pre;overflow-x:auto;line-height:normal;font-family:Menlo,'DejaVu Sans Mono',consolas,'Courier New',monospace\"><span style=\"color: #7fbfbf; text-decoration-color: #7fbfbf\">                    </span><span style=\"color: #000080; text-decoration-color: #000080\">INFO    </span> Event loop was unresponsive in Nanny for <span style=\"color: #008080; text-decoration-color: #008080; font-weight: bold\">3.</span>71s.  This is often caused by   <a href=\"file://C:\\Users\\Tahsin\\miniconda3\\envs\\modspy\\lib\\site-packages\\distributed\\core.py\" target=\"_blank\"><span style=\"color: #7f7f7f; text-decoration-color: #7f7f7f\">core.py</span></a><span style=\"color: #7f7f7f; text-decoration-color: #7f7f7f\">:</span><a href=\"file://C:\\Users\\Tahsin\\miniconda3\\envs\\modspy\\lib\\site-packages\\distributed\\core.py#743\" target=\"_blank\"><span style=\"color: #7f7f7f; text-decoration-color: #7f7f7f\">743</span></a>\n",
       "<span style=\"color: #7fbfbf; text-decoration-color: #7fbfbf\">                    </span>         long-running GIL-holding functions or moving large chunks of data. This    <span style=\"color: #7f7f7f; text-decoration-color: #7f7f7f\">           </span>\n",
       "<span style=\"color: #7fbfbf; text-decoration-color: #7fbfbf\">                    </span>         can cause timeouts and instability.                                        <span style=\"color: #7f7f7f; text-decoration-color: #7f7f7f\">           </span>\n",
       "</pre>\n"
      ],
      "text/plain": [
       "\u001b[2;36m                   \u001b[0m\u001b[2;36m \u001b[0m\u001b[34mINFO    \u001b[0m Event loop was unresponsive in Nanny for \u001b[1;36m3.\u001b[0m71s.  This is often caused by   \u001b]8;id=645580;file://C:\\Users\\Tahsin\\miniconda3\\envs\\modspy\\lib\\site-packages\\distributed\\core.py\u001b\\\u001b[2mcore.py\u001b[0m\u001b]8;;\u001b\\\u001b[2m:\u001b[0m\u001b]8;id=952257;file://C:\\Users\\Tahsin\\miniconda3\\envs\\modspy\\lib\\site-packages\\distributed\\core.py#743\u001b\\\u001b[2m743\u001b[0m\u001b]8;;\u001b\\\n",
       "\u001b[2;36m                    \u001b[0m         long-running GIL-holding functions or moving large chunks of data. This    \u001b[2m           \u001b[0m\n",
       "\u001b[2;36m                    \u001b[0m         can cause timeouts and instability.                                        \u001b[2m           \u001b[0m\n"
      ]
     },
     "metadata": {},
     "output_type": "display_data"
    },
    {
     "data": {
      "text/html": [
       "<pre style=\"white-space:pre;overflow-x:auto;line-height:normal;font-family:Menlo,'DejaVu Sans Mono',consolas,'Courier New',monospace\"><span style=\"color: #7fbfbf; text-decoration-color: #7fbfbf\">                    </span><span style=\"color: #000080; text-decoration-color: #000080\">INFO    </span> Event loop was unresponsive in Nanny for <span style=\"color: #008080; text-decoration-color: #008080; font-weight: bold\">3.</span>63s.  This is often caused by   <a href=\"file://C:\\Users\\Tahsin\\miniconda3\\envs\\modspy\\lib\\site-packages\\distributed\\core.py\" target=\"_blank\"><span style=\"color: #7f7f7f; text-decoration-color: #7f7f7f\">core.py</span></a><span style=\"color: #7f7f7f; text-decoration-color: #7f7f7f\">:</span><a href=\"file://C:\\Users\\Tahsin\\miniconda3\\envs\\modspy\\lib\\site-packages\\distributed\\core.py#743\" target=\"_blank\"><span style=\"color: #7f7f7f; text-decoration-color: #7f7f7f\">743</span></a>\n",
       "<span style=\"color: #7fbfbf; text-decoration-color: #7fbfbf\">                    </span>         long-running GIL-holding functions or moving large chunks of data. This    <span style=\"color: #7f7f7f; text-decoration-color: #7f7f7f\">           </span>\n",
       "<span style=\"color: #7fbfbf; text-decoration-color: #7fbfbf\">                    </span>         can cause timeouts and instability.                                        <span style=\"color: #7f7f7f; text-decoration-color: #7f7f7f\">           </span>\n",
       "</pre>\n"
      ],
      "text/plain": [
       "\u001b[2;36m                   \u001b[0m\u001b[2;36m \u001b[0m\u001b[34mINFO    \u001b[0m Event loop was unresponsive in Nanny for \u001b[1;36m3.\u001b[0m63s.  This is often caused by   \u001b]8;id=639543;file://C:\\Users\\Tahsin\\miniconda3\\envs\\modspy\\lib\\site-packages\\distributed\\core.py\u001b\\\u001b[2mcore.py\u001b[0m\u001b]8;;\u001b\\\u001b[2m:\u001b[0m\u001b]8;id=507359;file://C:\\Users\\Tahsin\\miniconda3\\envs\\modspy\\lib\\site-packages\\distributed\\core.py#743\u001b\\\u001b[2m743\u001b[0m\u001b]8;;\u001b\\\n",
       "\u001b[2;36m                    \u001b[0m         long-running GIL-holding functions or moving large chunks of data. This    \u001b[2m           \u001b[0m\n",
       "\u001b[2;36m                    \u001b[0m         can cause timeouts and instability.                                        \u001b[2m           \u001b[0m\n"
      ]
     },
     "metadata": {},
     "output_type": "display_data"
    },
    {
     "data": {
      "text/html": [
       "<pre style=\"white-space:pre;overflow-x:auto;line-height:normal;font-family:Menlo,'DejaVu Sans Mono',consolas,'Courier New',monospace\"><span style=\"color: #7fbfbf; text-decoration-color: #7fbfbf\">                    </span><span style=\"color: #000080; text-decoration-color: #000080\">INFO    </span> Event loop was unresponsive in Scheduler for <span style=\"color: #008080; text-decoration-color: #008080; font-weight: bold\">3.</span>64s.  This is often caused  <a href=\"file://C:\\Users\\Tahsin\\miniconda3\\envs\\modspy\\lib\\site-packages\\distributed\\core.py\" target=\"_blank\"><span style=\"color: #7f7f7f; text-decoration-color: #7f7f7f\">core.py</span></a><span style=\"color: #7f7f7f; text-decoration-color: #7f7f7f\">:</span><a href=\"file://C:\\Users\\Tahsin\\miniconda3\\envs\\modspy\\lib\\site-packages\\distributed\\core.py#743\" target=\"_blank\"><span style=\"color: #7f7f7f; text-decoration-color: #7f7f7f\">743</span></a>\n",
       "<span style=\"color: #7fbfbf; text-decoration-color: #7fbfbf\">                    </span>         by long-running GIL-holding functions or moving large chunks of data. This <span style=\"color: #7f7f7f; text-decoration-color: #7f7f7f\">           </span>\n",
       "<span style=\"color: #7fbfbf; text-decoration-color: #7fbfbf\">                    </span>         can cause timeouts and instability.                                        <span style=\"color: #7f7f7f; text-decoration-color: #7f7f7f\">           </span>\n",
       "</pre>\n"
      ],
      "text/plain": [
       "\u001b[2;36m                   \u001b[0m\u001b[2;36m \u001b[0m\u001b[34mINFO    \u001b[0m Event loop was unresponsive in Scheduler for \u001b[1;36m3.\u001b[0m64s.  This is often caused  \u001b]8;id=76867;file://C:\\Users\\Tahsin\\miniconda3\\envs\\modspy\\lib\\site-packages\\distributed\\core.py\u001b\\\u001b[2mcore.py\u001b[0m\u001b]8;;\u001b\\\u001b[2m:\u001b[0m\u001b]8;id=300375;file://C:\\Users\\Tahsin\\miniconda3\\envs\\modspy\\lib\\site-packages\\distributed\\core.py#743\u001b\\\u001b[2m743\u001b[0m\u001b]8;;\u001b\\\n",
       "\u001b[2;36m                    \u001b[0m         by long-running GIL-holding functions or moving large chunks of data. This \u001b[2m           \u001b[0m\n",
       "\u001b[2;36m                    \u001b[0m         can cause timeouts and instability.                                        \u001b[2m           \u001b[0m\n"
      ]
     },
     "metadata": {},
     "output_type": "display_data"
    },
    {
     "data": {
      "text/html": [
       "<pre style=\"white-space:pre;overflow-x:auto;line-height:normal;font-family:Menlo,'DejaVu Sans Mono',consolas,'Courier New',monospace\"><span style=\"color: #7fbfbf; text-decoration-color: #7fbfbf\">                    </span><span style=\"color: #000080; text-decoration-color: #000080\">INFO    </span> Event loop was unresponsive in Nanny for <span style=\"color: #008080; text-decoration-color: #008080; font-weight: bold\">3.</span>17s.  This is often caused by   <a href=\"file://C:\\Users\\Tahsin\\miniconda3\\envs\\modspy\\lib\\site-packages\\distributed\\core.py\" target=\"_blank\"><span style=\"color: #7f7f7f; text-decoration-color: #7f7f7f\">core.py</span></a><span style=\"color: #7f7f7f; text-decoration-color: #7f7f7f\">:</span><a href=\"file://C:\\Users\\Tahsin\\miniconda3\\envs\\modspy\\lib\\site-packages\\distributed\\core.py#743\" target=\"_blank\"><span style=\"color: #7f7f7f; text-decoration-color: #7f7f7f\">743</span></a>\n",
       "<span style=\"color: #7fbfbf; text-decoration-color: #7fbfbf\">                    </span>         long-running GIL-holding functions or moving large chunks of data. This    <span style=\"color: #7f7f7f; text-decoration-color: #7f7f7f\">           </span>\n",
       "<span style=\"color: #7fbfbf; text-decoration-color: #7fbfbf\">                    </span>         can cause timeouts and instability.                                        <span style=\"color: #7f7f7f; text-decoration-color: #7f7f7f\">           </span>\n",
       "</pre>\n"
      ],
      "text/plain": [
       "\u001b[2;36m                   \u001b[0m\u001b[2;36m \u001b[0m\u001b[34mINFO    \u001b[0m Event loop was unresponsive in Nanny for \u001b[1;36m3.\u001b[0m17s.  This is often caused by   \u001b]8;id=141167;file://C:\\Users\\Tahsin\\miniconda3\\envs\\modspy\\lib\\site-packages\\distributed\\core.py\u001b\\\u001b[2mcore.py\u001b[0m\u001b]8;;\u001b\\\u001b[2m:\u001b[0m\u001b]8;id=468611;file://C:\\Users\\Tahsin\\miniconda3\\envs\\modspy\\lib\\site-packages\\distributed\\core.py#743\u001b\\\u001b[2m743\u001b[0m\u001b]8;;\u001b\\\n",
       "\u001b[2;36m                    \u001b[0m         long-running GIL-holding functions or moving large chunks of data. This    \u001b[2m           \u001b[0m\n",
       "\u001b[2;36m                    \u001b[0m         can cause timeouts and instability.                                        \u001b[2m           \u001b[0m\n"
      ]
     },
     "metadata": {},
     "output_type": "display_data"
    },
    {
     "data": {
      "text/html": [
       "<pre style=\"white-space:pre;overflow-x:auto;line-height:normal;font-family:Menlo,'DejaVu Sans Mono',consolas,'Courier New',monospace\"><span style=\"color: #7fbfbf; text-decoration-color: #7fbfbf\">[01/19/24 00:48:12] </span><span style=\"color: #000080; text-decoration-color: #000080\">INFO    </span> Event loop was unresponsive in Nanny for <span style=\"color: #008080; text-decoration-color: #008080; font-weight: bold\">3.</span>42s.  This is often caused by   <a href=\"file://C:\\Users\\Tahsin\\miniconda3\\envs\\modspy\\lib\\site-packages\\distributed\\core.py\" target=\"_blank\"><span style=\"color: #7f7f7f; text-decoration-color: #7f7f7f\">core.py</span></a><span style=\"color: #7f7f7f; text-decoration-color: #7f7f7f\">:</span><a href=\"file://C:\\Users\\Tahsin\\miniconda3\\envs\\modspy\\lib\\site-packages\\distributed\\core.py#743\" target=\"_blank\"><span style=\"color: #7f7f7f; text-decoration-color: #7f7f7f\">743</span></a>\n",
       "<span style=\"color: #7fbfbf; text-decoration-color: #7fbfbf\">                    </span>         long-running GIL-holding functions or moving large chunks of data. This    <span style=\"color: #7f7f7f; text-decoration-color: #7f7f7f\">           </span>\n",
       "<span style=\"color: #7fbfbf; text-decoration-color: #7fbfbf\">                    </span>         can cause timeouts and instability.                                        <span style=\"color: #7f7f7f; text-decoration-color: #7f7f7f\">           </span>\n",
       "</pre>\n"
      ],
      "text/plain": [
       "\u001b[2;36m[01/19/24 00:48:12]\u001b[0m\u001b[2;36m \u001b[0m\u001b[34mINFO    \u001b[0m Event loop was unresponsive in Nanny for \u001b[1;36m3.\u001b[0m42s.  This is often caused by   \u001b]8;id=663150;file://C:\\Users\\Tahsin\\miniconda3\\envs\\modspy\\lib\\site-packages\\distributed\\core.py\u001b\\\u001b[2mcore.py\u001b[0m\u001b]8;;\u001b\\\u001b[2m:\u001b[0m\u001b]8;id=45813;file://C:\\Users\\Tahsin\\miniconda3\\envs\\modspy\\lib\\site-packages\\distributed\\core.py#743\u001b\\\u001b[2m743\u001b[0m\u001b]8;;\u001b\\\n",
       "\u001b[2;36m                    \u001b[0m         long-running GIL-holding functions or moving large chunks of data. This    \u001b[2m           \u001b[0m\n",
       "\u001b[2;36m                    \u001b[0m         can cause timeouts and instability.                                        \u001b[2m           \u001b[0m\n"
      ]
     },
     "metadata": {},
     "output_type": "display_data"
    },
    {
     "data": {
      "text/html": [
       "<pre style=\"white-space:pre;overflow-x:auto;line-height:normal;font-family:Menlo,'DejaVu Sans Mono',consolas,'Courier New',monospace\"><span style=\"color: #7fbfbf; text-decoration-color: #7fbfbf\">                    </span><span style=\"color: #000080; text-decoration-color: #000080\">INFO    </span> Event loop was unresponsive in Scheduler for <span style=\"color: #008080; text-decoration-color: #008080; font-weight: bold\">3.</span>43s.  This is often caused  <a href=\"file://C:\\Users\\Tahsin\\miniconda3\\envs\\modspy\\lib\\site-packages\\distributed\\core.py\" target=\"_blank\"><span style=\"color: #7f7f7f; text-decoration-color: #7f7f7f\">core.py</span></a><span style=\"color: #7f7f7f; text-decoration-color: #7f7f7f\">:</span><a href=\"file://C:\\Users\\Tahsin\\miniconda3\\envs\\modspy\\lib\\site-packages\\distributed\\core.py#743\" target=\"_blank\"><span style=\"color: #7f7f7f; text-decoration-color: #7f7f7f\">743</span></a>\n",
       "<span style=\"color: #7fbfbf; text-decoration-color: #7fbfbf\">                    </span>         by long-running GIL-holding functions or moving large chunks of data. This <span style=\"color: #7f7f7f; text-decoration-color: #7f7f7f\">           </span>\n",
       "<span style=\"color: #7fbfbf; text-decoration-color: #7fbfbf\">                    </span>         can cause timeouts and instability.                                        <span style=\"color: #7f7f7f; text-decoration-color: #7f7f7f\">           </span>\n",
       "</pre>\n"
      ],
      "text/plain": [
       "\u001b[2;36m                   \u001b[0m\u001b[2;36m \u001b[0m\u001b[34mINFO    \u001b[0m Event loop was unresponsive in Scheduler for \u001b[1;36m3.\u001b[0m43s.  This is often caused  \u001b]8;id=471420;file://C:\\Users\\Tahsin\\miniconda3\\envs\\modspy\\lib\\site-packages\\distributed\\core.py\u001b\\\u001b[2mcore.py\u001b[0m\u001b]8;;\u001b\\\u001b[2m:\u001b[0m\u001b]8;id=685981;file://C:\\Users\\Tahsin\\miniconda3\\envs\\modspy\\lib\\site-packages\\distributed\\core.py#743\u001b\\\u001b[2m743\u001b[0m\u001b]8;;\u001b\\\n",
       "\u001b[2;36m                    \u001b[0m         by long-running GIL-holding functions or moving large chunks of data. This \u001b[2m           \u001b[0m\n",
       "\u001b[2;36m                    \u001b[0m         can cause timeouts and instability.                                        \u001b[2m           \u001b[0m\n"
      ]
     },
     "metadata": {},
     "output_type": "display_data"
    },
    {
     "data": {
      "text/html": [
       "<pre style=\"white-space:pre;overflow-x:auto;line-height:normal;font-family:Menlo,'DejaVu Sans Mono',consolas,'Courier New',monospace\"><span style=\"color: #7fbfbf; text-decoration-color: #7fbfbf\">                    </span><span style=\"color: #000080; text-decoration-color: #000080\">INFO    </span> Event loop was unresponsive in Nanny for <span style=\"color: #008080; text-decoration-color: #008080; font-weight: bold\">3.</span>44s.  This is often caused by   <a href=\"file://C:\\Users\\Tahsin\\miniconda3\\envs\\modspy\\lib\\site-packages\\distributed\\core.py\" target=\"_blank\"><span style=\"color: #7f7f7f; text-decoration-color: #7f7f7f\">core.py</span></a><span style=\"color: #7f7f7f; text-decoration-color: #7f7f7f\">:</span><a href=\"file://C:\\Users\\Tahsin\\miniconda3\\envs\\modspy\\lib\\site-packages\\distributed\\core.py#743\" target=\"_blank\"><span style=\"color: #7f7f7f; text-decoration-color: #7f7f7f\">743</span></a>\n",
       "<span style=\"color: #7fbfbf; text-decoration-color: #7fbfbf\">                    </span>         long-running GIL-holding functions or moving large chunks of data. This    <span style=\"color: #7f7f7f; text-decoration-color: #7f7f7f\">           </span>\n",
       "<span style=\"color: #7fbfbf; text-decoration-color: #7fbfbf\">                    </span>         can cause timeouts and instability.                                        <span style=\"color: #7f7f7f; text-decoration-color: #7f7f7f\">           </span>\n",
       "</pre>\n"
      ],
      "text/plain": [
       "\u001b[2;36m                   \u001b[0m\u001b[2;36m \u001b[0m\u001b[34mINFO    \u001b[0m Event loop was unresponsive in Nanny for \u001b[1;36m3.\u001b[0m44s.  This is often caused by   \u001b]8;id=408956;file://C:\\Users\\Tahsin\\miniconda3\\envs\\modspy\\lib\\site-packages\\distributed\\core.py\u001b\\\u001b[2mcore.py\u001b[0m\u001b]8;;\u001b\\\u001b[2m:\u001b[0m\u001b]8;id=612599;file://C:\\Users\\Tahsin\\miniconda3\\envs\\modspy\\lib\\site-packages\\distributed\\core.py#743\u001b\\\u001b[2m743\u001b[0m\u001b]8;;\u001b\\\n",
       "\u001b[2;36m                    \u001b[0m         long-running GIL-holding functions or moving large chunks of data. This    \u001b[2m           \u001b[0m\n",
       "\u001b[2;36m                    \u001b[0m         can cause timeouts and instability.                                        \u001b[2m           \u001b[0m\n"
      ]
     },
     "metadata": {},
     "output_type": "display_data"
    },
    {
     "data": {
      "text/html": [
       "<pre style=\"white-space:pre;overflow-x:auto;line-height:normal;font-family:Menlo,'DejaVu Sans Mono',consolas,'Courier New',monospace\"><span style=\"color: #7fbfbf; text-decoration-color: #7fbfbf\">                    </span><span style=\"color: #000080; text-decoration-color: #000080\">INFO    </span> Event loop was unresponsive in Nanny for <span style=\"color: #008080; text-decoration-color: #008080; font-weight: bold\">3.</span>46s.  This is often caused by   <a href=\"file://C:\\Users\\Tahsin\\miniconda3\\envs\\modspy\\lib\\site-packages\\distributed\\core.py\" target=\"_blank\"><span style=\"color: #7f7f7f; text-decoration-color: #7f7f7f\">core.py</span></a><span style=\"color: #7f7f7f; text-decoration-color: #7f7f7f\">:</span><a href=\"file://C:\\Users\\Tahsin\\miniconda3\\envs\\modspy\\lib\\site-packages\\distributed\\core.py#743\" target=\"_blank\"><span style=\"color: #7f7f7f; text-decoration-color: #7f7f7f\">743</span></a>\n",
       "<span style=\"color: #7fbfbf; text-decoration-color: #7fbfbf\">                    </span>         long-running GIL-holding functions or moving large chunks of data. This    <span style=\"color: #7f7f7f; text-decoration-color: #7f7f7f\">           </span>\n",
       "<span style=\"color: #7fbfbf; text-decoration-color: #7fbfbf\">                    </span>         can cause timeouts and instability.                                        <span style=\"color: #7f7f7f; text-decoration-color: #7f7f7f\">           </span>\n",
       "</pre>\n"
      ],
      "text/plain": [
       "\u001b[2;36m                   \u001b[0m\u001b[2;36m \u001b[0m\u001b[34mINFO    \u001b[0m Event loop was unresponsive in Nanny for \u001b[1;36m3.\u001b[0m46s.  This is often caused by   \u001b]8;id=50085;file://C:\\Users\\Tahsin\\miniconda3\\envs\\modspy\\lib\\site-packages\\distributed\\core.py\u001b\\\u001b[2mcore.py\u001b[0m\u001b]8;;\u001b\\\u001b[2m:\u001b[0m\u001b]8;id=932558;file://C:\\Users\\Tahsin\\miniconda3\\envs\\modspy\\lib\\site-packages\\distributed\\core.py#743\u001b\\\u001b[2m743\u001b[0m\u001b]8;;\u001b\\\n",
       "\u001b[2;36m                    \u001b[0m         long-running GIL-holding functions or moving large chunks of data. This    \u001b[2m           \u001b[0m\n",
       "\u001b[2;36m                    \u001b[0m         can cause timeouts and instability.                                        \u001b[2m           \u001b[0m\n"
      ]
     },
     "metadata": {},
     "output_type": "display_data"
    },
    {
     "data": {
      "text/html": [
       "<pre style=\"white-space:pre;overflow-x:auto;line-height:normal;font-family:Menlo,'DejaVu Sans Mono',consolas,'Courier New',monospace\"><span style=\"color: #7fbfbf; text-decoration-color: #7fbfbf\">                    </span><span style=\"color: #000080; text-decoration-color: #000080\">INFO    </span> Event loop was unresponsive in Nanny for <span style=\"color: #008080; text-decoration-color: #008080; font-weight: bold\">3.</span>47s.  This is often caused by   <a href=\"file://C:\\Users\\Tahsin\\miniconda3\\envs\\modspy\\lib\\site-packages\\distributed\\core.py\" target=\"_blank\"><span style=\"color: #7f7f7f; text-decoration-color: #7f7f7f\">core.py</span></a><span style=\"color: #7f7f7f; text-decoration-color: #7f7f7f\">:</span><a href=\"file://C:\\Users\\Tahsin\\miniconda3\\envs\\modspy\\lib\\site-packages\\distributed\\core.py#743\" target=\"_blank\"><span style=\"color: #7f7f7f; text-decoration-color: #7f7f7f\">743</span></a>\n",
       "<span style=\"color: #7fbfbf; text-decoration-color: #7fbfbf\">                    </span>         long-running GIL-holding functions or moving large chunks of data. This    <span style=\"color: #7f7f7f; text-decoration-color: #7f7f7f\">           </span>\n",
       "<span style=\"color: #7fbfbf; text-decoration-color: #7fbfbf\">                    </span>         can cause timeouts and instability.                                        <span style=\"color: #7f7f7f; text-decoration-color: #7f7f7f\">           </span>\n",
       "</pre>\n"
      ],
      "text/plain": [
       "\u001b[2;36m                   \u001b[0m\u001b[2;36m \u001b[0m\u001b[34mINFO    \u001b[0m Event loop was unresponsive in Nanny for \u001b[1;36m3.\u001b[0m47s.  This is often caused by   \u001b]8;id=17830;file://C:\\Users\\Tahsin\\miniconda3\\envs\\modspy\\lib\\site-packages\\distributed\\core.py\u001b\\\u001b[2mcore.py\u001b[0m\u001b]8;;\u001b\\\u001b[2m:\u001b[0m\u001b]8;id=578196;file://C:\\Users\\Tahsin\\miniconda3\\envs\\modspy\\lib\\site-packages\\distributed\\core.py#743\u001b\\\u001b[2m743\u001b[0m\u001b]8;;\u001b\\\n",
       "\u001b[2;36m                    \u001b[0m         long-running GIL-holding functions or moving large chunks of data. This    \u001b[2m           \u001b[0m\n",
       "\u001b[2;36m                    \u001b[0m         can cause timeouts and instability.                                        \u001b[2m           \u001b[0m\n"
      ]
     },
     "metadata": {},
     "output_type": "display_data"
    },
    {
     "data": {
      "text/html": [
       "<pre style=\"white-space:pre;overflow-x:auto;line-height:normal;font-family:Menlo,'DejaVu Sans Mono',consolas,'Courier New',monospace\"><span style=\"color: #7fbfbf; text-decoration-color: #7fbfbf\">[01/19/24 00:48:22] </span><span style=\"color: #000080; text-decoration-color: #000080\">INFO    </span> Event loop was unresponsive in Scheduler for <span style=\"color: #008080; text-decoration-color: #008080; font-weight: bold\">3.</span>78s.  This is often caused  <a href=\"file://C:\\Users\\Tahsin\\miniconda3\\envs\\modspy\\lib\\site-packages\\distributed\\core.py\" target=\"_blank\"><span style=\"color: #7f7f7f; text-decoration-color: #7f7f7f\">core.py</span></a><span style=\"color: #7f7f7f; text-decoration-color: #7f7f7f\">:</span><a href=\"file://C:\\Users\\Tahsin\\miniconda3\\envs\\modspy\\lib\\site-packages\\distributed\\core.py#743\" target=\"_blank\"><span style=\"color: #7f7f7f; text-decoration-color: #7f7f7f\">743</span></a>\n",
       "<span style=\"color: #7fbfbf; text-decoration-color: #7fbfbf\">                    </span>         by long-running GIL-holding functions or moving large chunks of data. This <span style=\"color: #7f7f7f; text-decoration-color: #7f7f7f\">           </span>\n",
       "<span style=\"color: #7fbfbf; text-decoration-color: #7fbfbf\">                    </span>         can cause timeouts and instability.                                        <span style=\"color: #7f7f7f; text-decoration-color: #7f7f7f\">           </span>\n",
       "</pre>\n"
      ],
      "text/plain": [
       "\u001b[2;36m[01/19/24 00:48:22]\u001b[0m\u001b[2;36m \u001b[0m\u001b[34mINFO    \u001b[0m Event loop was unresponsive in Scheduler for \u001b[1;36m3.\u001b[0m78s.  This is often caused  \u001b]8;id=239743;file://C:\\Users\\Tahsin\\miniconda3\\envs\\modspy\\lib\\site-packages\\distributed\\core.py\u001b\\\u001b[2mcore.py\u001b[0m\u001b]8;;\u001b\\\u001b[2m:\u001b[0m\u001b]8;id=611380;file://C:\\Users\\Tahsin\\miniconda3\\envs\\modspy\\lib\\site-packages\\distributed\\core.py#743\u001b\\\u001b[2m743\u001b[0m\u001b]8;;\u001b\\\n",
       "\u001b[2;36m                    \u001b[0m         by long-running GIL-holding functions or moving large chunks of data. This \u001b[2m           \u001b[0m\n",
       "\u001b[2;36m                    \u001b[0m         can cause timeouts and instability.                                        \u001b[2m           \u001b[0m\n"
      ]
     },
     "metadata": {},
     "output_type": "display_data"
    },
    {
     "data": {
      "text/html": [
       "<pre style=\"white-space:pre;overflow-x:auto;line-height:normal;font-family:Menlo,'DejaVu Sans Mono',consolas,'Courier New',monospace\"><span style=\"color: #7fbfbf; text-decoration-color: #7fbfbf\">                    </span><span style=\"color: #000080; text-decoration-color: #000080\">INFO    </span> Event loop was unresponsive in Nanny for <span style=\"color: #008080; text-decoration-color: #008080; font-weight: bold\">3.</span>68s.  This is often caused by   <a href=\"file://C:\\Users\\Tahsin\\miniconda3\\envs\\modspy\\lib\\site-packages\\distributed\\core.py\" target=\"_blank\"><span style=\"color: #7f7f7f; text-decoration-color: #7f7f7f\">core.py</span></a><span style=\"color: #7f7f7f; text-decoration-color: #7f7f7f\">:</span><a href=\"file://C:\\Users\\Tahsin\\miniconda3\\envs\\modspy\\lib\\site-packages\\distributed\\core.py#743\" target=\"_blank\"><span style=\"color: #7f7f7f; text-decoration-color: #7f7f7f\">743</span></a>\n",
       "<span style=\"color: #7fbfbf; text-decoration-color: #7fbfbf\">                    </span>         long-running GIL-holding functions or moving large chunks of data. This    <span style=\"color: #7f7f7f; text-decoration-color: #7f7f7f\">           </span>\n",
       "<span style=\"color: #7fbfbf; text-decoration-color: #7fbfbf\">                    </span>         can cause timeouts and instability.                                        <span style=\"color: #7f7f7f; text-decoration-color: #7f7f7f\">           </span>\n",
       "</pre>\n"
      ],
      "text/plain": [
       "\u001b[2;36m                   \u001b[0m\u001b[2;36m \u001b[0m\u001b[34mINFO    \u001b[0m Event loop was unresponsive in Nanny for \u001b[1;36m3.\u001b[0m68s.  This is often caused by   \u001b]8;id=481466;file://C:\\Users\\Tahsin\\miniconda3\\envs\\modspy\\lib\\site-packages\\distributed\\core.py\u001b\\\u001b[2mcore.py\u001b[0m\u001b]8;;\u001b\\\u001b[2m:\u001b[0m\u001b]8;id=223604;file://C:\\Users\\Tahsin\\miniconda3\\envs\\modspy\\lib\\site-packages\\distributed\\core.py#743\u001b\\\u001b[2m743\u001b[0m\u001b]8;;\u001b\\\n",
       "\u001b[2;36m                    \u001b[0m         long-running GIL-holding functions or moving large chunks of data. This    \u001b[2m           \u001b[0m\n",
       "\u001b[2;36m                    \u001b[0m         can cause timeouts and instability.                                        \u001b[2m           \u001b[0m\n"
      ]
     },
     "metadata": {},
     "output_type": "display_data"
    },
    {
     "data": {
      "text/html": [
       "<pre style=\"white-space:pre;overflow-x:auto;line-height:normal;font-family:Menlo,'DejaVu Sans Mono',consolas,'Courier New',monospace\"><span style=\"color: #7fbfbf; text-decoration-color: #7fbfbf\">                    </span><span style=\"color: #000080; text-decoration-color: #000080\">INFO    </span> Event loop was unresponsive in Nanny for <span style=\"color: #008080; text-decoration-color: #008080; font-weight: bold\">3.</span>68s.  This is often caused by   <a href=\"file://C:\\Users\\Tahsin\\miniconda3\\envs\\modspy\\lib\\site-packages\\distributed\\core.py\" target=\"_blank\"><span style=\"color: #7f7f7f; text-decoration-color: #7f7f7f\">core.py</span></a><span style=\"color: #7f7f7f; text-decoration-color: #7f7f7f\">:</span><a href=\"file://C:\\Users\\Tahsin\\miniconda3\\envs\\modspy\\lib\\site-packages\\distributed\\core.py#743\" target=\"_blank\"><span style=\"color: #7f7f7f; text-decoration-color: #7f7f7f\">743</span></a>\n",
       "<span style=\"color: #7fbfbf; text-decoration-color: #7fbfbf\">                    </span>         long-running GIL-holding functions or moving large chunks of data. This    <span style=\"color: #7f7f7f; text-decoration-color: #7f7f7f\">           </span>\n",
       "<span style=\"color: #7fbfbf; text-decoration-color: #7fbfbf\">                    </span>         can cause timeouts and instability.                                        <span style=\"color: #7f7f7f; text-decoration-color: #7f7f7f\">           </span>\n",
       "</pre>\n"
      ],
      "text/plain": [
       "\u001b[2;36m                   \u001b[0m\u001b[2;36m \u001b[0m\u001b[34mINFO    \u001b[0m Event loop was unresponsive in Nanny for \u001b[1;36m3.\u001b[0m68s.  This is often caused by   \u001b]8;id=257546;file://C:\\Users\\Tahsin\\miniconda3\\envs\\modspy\\lib\\site-packages\\distributed\\core.py\u001b\\\u001b[2mcore.py\u001b[0m\u001b]8;;\u001b\\\u001b[2m:\u001b[0m\u001b]8;id=882515;file://C:\\Users\\Tahsin\\miniconda3\\envs\\modspy\\lib\\site-packages\\distributed\\core.py#743\u001b\\\u001b[2m743\u001b[0m\u001b]8;;\u001b\\\n",
       "\u001b[2;36m                    \u001b[0m         long-running GIL-holding functions or moving large chunks of data. This    \u001b[2m           \u001b[0m\n",
       "\u001b[2;36m                    \u001b[0m         can cause timeouts and instability.                                        \u001b[2m           \u001b[0m\n"
      ]
     },
     "metadata": {},
     "output_type": "display_data"
    },
    {
     "data": {
      "text/html": [
       "<pre style=\"white-space:pre;overflow-x:auto;line-height:normal;font-family:Menlo,'DejaVu Sans Mono',consolas,'Courier New',monospace\"><span style=\"color: #7fbfbf; text-decoration-color: #7fbfbf\">                    </span><span style=\"color: #000080; text-decoration-color: #000080\">INFO    </span> Event loop was unresponsive in Nanny for <span style=\"color: #008080; text-decoration-color: #008080; font-weight: bold\">3.</span>70s.  This is often caused by   <a href=\"file://C:\\Users\\Tahsin\\miniconda3\\envs\\modspy\\lib\\site-packages\\distributed\\core.py\" target=\"_blank\"><span style=\"color: #7f7f7f; text-decoration-color: #7f7f7f\">core.py</span></a><span style=\"color: #7f7f7f; text-decoration-color: #7f7f7f\">:</span><a href=\"file://C:\\Users\\Tahsin\\miniconda3\\envs\\modspy\\lib\\site-packages\\distributed\\core.py#743\" target=\"_blank\"><span style=\"color: #7f7f7f; text-decoration-color: #7f7f7f\">743</span></a>\n",
       "<span style=\"color: #7fbfbf; text-decoration-color: #7fbfbf\">                    </span>         long-running GIL-holding functions or moving large chunks of data. This    <span style=\"color: #7f7f7f; text-decoration-color: #7f7f7f\">           </span>\n",
       "<span style=\"color: #7fbfbf; text-decoration-color: #7fbfbf\">                    </span>         can cause timeouts and instability.                                        <span style=\"color: #7f7f7f; text-decoration-color: #7f7f7f\">           </span>\n",
       "</pre>\n"
      ],
      "text/plain": [
       "\u001b[2;36m                   \u001b[0m\u001b[2;36m \u001b[0m\u001b[34mINFO    \u001b[0m Event loop was unresponsive in Nanny for \u001b[1;36m3.\u001b[0m70s.  This is often caused by   \u001b]8;id=972154;file://C:\\Users\\Tahsin\\miniconda3\\envs\\modspy\\lib\\site-packages\\distributed\\core.py\u001b\\\u001b[2mcore.py\u001b[0m\u001b]8;;\u001b\\\u001b[2m:\u001b[0m\u001b]8;id=469287;file://C:\\Users\\Tahsin\\miniconda3\\envs\\modspy\\lib\\site-packages\\distributed\\core.py#743\u001b\\\u001b[2m743\u001b[0m\u001b]8;;\u001b\\\n",
       "\u001b[2;36m                    \u001b[0m         long-running GIL-holding functions or moving large chunks of data. This    \u001b[2m           \u001b[0m\n",
       "\u001b[2;36m                    \u001b[0m         can cause timeouts and instability.                                        \u001b[2m           \u001b[0m\n"
      ]
     },
     "metadata": {},
     "output_type": "display_data"
    },
    {
     "data": {
      "text/html": [
       "<pre style=\"white-space:pre;overflow-x:auto;line-height:normal;font-family:Menlo,'DejaVu Sans Mono',consolas,'Courier New',monospace\"><span style=\"color: #7fbfbf; text-decoration-color: #7fbfbf\">                    </span><span style=\"color: #000080; text-decoration-color: #000080\">INFO    </span> Event loop was unresponsive in Nanny for <span style=\"color: #008080; text-decoration-color: #008080; font-weight: bold\">3.</span>70s.  This is often caused by   <a href=\"file://C:\\Users\\Tahsin\\miniconda3\\envs\\modspy\\lib\\site-packages\\distributed\\core.py\" target=\"_blank\"><span style=\"color: #7f7f7f; text-decoration-color: #7f7f7f\">core.py</span></a><span style=\"color: #7f7f7f; text-decoration-color: #7f7f7f\">:</span><a href=\"file://C:\\Users\\Tahsin\\miniconda3\\envs\\modspy\\lib\\site-packages\\distributed\\core.py#743\" target=\"_blank\"><span style=\"color: #7f7f7f; text-decoration-color: #7f7f7f\">743</span></a>\n",
       "<span style=\"color: #7fbfbf; text-decoration-color: #7fbfbf\">                    </span>         long-running GIL-holding functions or moving large chunks of data. This    <span style=\"color: #7f7f7f; text-decoration-color: #7f7f7f\">           </span>\n",
       "<span style=\"color: #7fbfbf; text-decoration-color: #7fbfbf\">                    </span>         can cause timeouts and instability.                                        <span style=\"color: #7f7f7f; text-decoration-color: #7f7f7f\">           </span>\n",
       "</pre>\n"
      ],
      "text/plain": [
       "\u001b[2;36m                   \u001b[0m\u001b[2;36m \u001b[0m\u001b[34mINFO    \u001b[0m Event loop was unresponsive in Nanny for \u001b[1;36m3.\u001b[0m70s.  This is often caused by   \u001b]8;id=11667;file://C:\\Users\\Tahsin\\miniconda3\\envs\\modspy\\lib\\site-packages\\distributed\\core.py\u001b\\\u001b[2mcore.py\u001b[0m\u001b]8;;\u001b\\\u001b[2m:\u001b[0m\u001b]8;id=268172;file://C:\\Users\\Tahsin\\miniconda3\\envs\\modspy\\lib\\site-packages\\distributed\\core.py#743\u001b\\\u001b[2m743\u001b[0m\u001b]8;;\u001b\\\n",
       "\u001b[2;36m                    \u001b[0m         long-running GIL-holding functions or moving large chunks of data. This    \u001b[2m           \u001b[0m\n",
       "\u001b[2;36m                    \u001b[0m         can cause timeouts and instability.                                        \u001b[2m           \u001b[0m\n"
      ]
     },
     "metadata": {},
     "output_type": "display_data"
    },
    {
     "data": {
      "text/html": [
       "<pre style=\"white-space:pre;overflow-x:auto;line-height:normal;font-family:Menlo,'DejaVu Sans Mono',consolas,'Courier New',monospace\"><span style=\"color: #7fbfbf; text-decoration-color: #7fbfbf\">[01/19/24 00:48:26] </span><span style=\"color: #000080; text-decoration-color: #000080\">INFO    </span> Event loop was unresponsive in Nanny for <span style=\"color: #008080; text-decoration-color: #008080; font-weight: bold\">3.</span>16s.  This is often caused by   <a href=\"file://C:\\Users\\Tahsin\\miniconda3\\envs\\modspy\\lib\\site-packages\\distributed\\core.py\" target=\"_blank\"><span style=\"color: #7f7f7f; text-decoration-color: #7f7f7f\">core.py</span></a><span style=\"color: #7f7f7f; text-decoration-color: #7f7f7f\">:</span><a href=\"file://C:\\Users\\Tahsin\\miniconda3\\envs\\modspy\\lib\\site-packages\\distributed\\core.py#743\" target=\"_blank\"><span style=\"color: #7f7f7f; text-decoration-color: #7f7f7f\">743</span></a>\n",
       "<span style=\"color: #7fbfbf; text-decoration-color: #7fbfbf\">                    </span>         long-running GIL-holding functions or moving large chunks of data. This    <span style=\"color: #7f7f7f; text-decoration-color: #7f7f7f\">           </span>\n",
       "<span style=\"color: #7fbfbf; text-decoration-color: #7fbfbf\">                    </span>         can cause timeouts and instability.                                        <span style=\"color: #7f7f7f; text-decoration-color: #7f7f7f\">           </span>\n",
       "</pre>\n"
      ],
      "text/plain": [
       "\u001b[2;36m[01/19/24 00:48:26]\u001b[0m\u001b[2;36m \u001b[0m\u001b[34mINFO    \u001b[0m Event loop was unresponsive in Nanny for \u001b[1;36m3.\u001b[0m16s.  This is often caused by   \u001b]8;id=397979;file://C:\\Users\\Tahsin\\miniconda3\\envs\\modspy\\lib\\site-packages\\distributed\\core.py\u001b\\\u001b[2mcore.py\u001b[0m\u001b]8;;\u001b\\\u001b[2m:\u001b[0m\u001b]8;id=383875;file://C:\\Users\\Tahsin\\miniconda3\\envs\\modspy\\lib\\site-packages\\distributed\\core.py#743\u001b\\\u001b[2m743\u001b[0m\u001b]8;;\u001b\\\n",
       "\u001b[2;36m                    \u001b[0m         long-running GIL-holding functions or moving large chunks of data. This    \u001b[2m           \u001b[0m\n",
       "\u001b[2;36m                    \u001b[0m         can cause timeouts and instability.                                        \u001b[2m           \u001b[0m\n"
      ]
     },
     "metadata": {},
     "output_type": "display_data"
    },
    {
     "data": {
      "text/html": [
       "<pre style=\"white-space:pre;overflow-x:auto;line-height:normal;font-family:Menlo,'DejaVu Sans Mono',consolas,'Courier New',monospace\"><span style=\"color: #7fbfbf; text-decoration-color: #7fbfbf\">[01/19/24 00:48:33] </span><span style=\"color: #000080; text-decoration-color: #000080\">INFO    </span> Event loop was unresponsive in Nanny for <span style=\"color: #008080; text-decoration-color: #008080; font-weight: bold\">3.</span>03s.  This is often caused by   <a href=\"file://C:\\Users\\Tahsin\\miniconda3\\envs\\modspy\\lib\\site-packages\\distributed\\core.py\" target=\"_blank\"><span style=\"color: #7f7f7f; text-decoration-color: #7f7f7f\">core.py</span></a><span style=\"color: #7f7f7f; text-decoration-color: #7f7f7f\">:</span><a href=\"file://C:\\Users\\Tahsin\\miniconda3\\envs\\modspy\\lib\\site-packages\\distributed\\core.py#743\" target=\"_blank\"><span style=\"color: #7f7f7f; text-decoration-color: #7f7f7f\">743</span></a>\n",
       "<span style=\"color: #7fbfbf; text-decoration-color: #7fbfbf\">                    </span>         long-running GIL-holding functions or moving large chunks of data. This    <span style=\"color: #7f7f7f; text-decoration-color: #7f7f7f\">           </span>\n",
       "<span style=\"color: #7fbfbf; text-decoration-color: #7fbfbf\">                    </span>         can cause timeouts and instability.                                        <span style=\"color: #7f7f7f; text-decoration-color: #7f7f7f\">           </span>\n",
       "</pre>\n"
      ],
      "text/plain": [
       "\u001b[2;36m[01/19/24 00:48:33]\u001b[0m\u001b[2;36m \u001b[0m\u001b[34mINFO    \u001b[0m Event loop was unresponsive in Nanny for \u001b[1;36m3.\u001b[0m03s.  This is often caused by   \u001b]8;id=87299;file://C:\\Users\\Tahsin\\miniconda3\\envs\\modspy\\lib\\site-packages\\distributed\\core.py\u001b\\\u001b[2mcore.py\u001b[0m\u001b]8;;\u001b\\\u001b[2m:\u001b[0m\u001b]8;id=489475;file://C:\\Users\\Tahsin\\miniconda3\\envs\\modspy\\lib\\site-packages\\distributed\\core.py#743\u001b\\\u001b[2m743\u001b[0m\u001b]8;;\u001b\\\n",
       "\u001b[2;36m                    \u001b[0m         long-running GIL-holding functions or moving large chunks of data. This    \u001b[2m           \u001b[0m\n",
       "\u001b[2;36m                    \u001b[0m         can cause timeouts and instability.                                        \u001b[2m           \u001b[0m\n"
      ]
     },
     "metadata": {},
     "output_type": "display_data"
    },
    {
     "data": {
      "text/html": [
       "<pre style=\"white-space:pre;overflow-x:auto;line-height:normal;font-family:Menlo,'DejaVu Sans Mono',consolas,'Courier New',monospace\"><span style=\"color: #7fbfbf; text-decoration-color: #7fbfbf\">[01/19/24 00:48:39] </span><span style=\"color: #000080; text-decoration-color: #000080\">INFO    </span> Event loop was unresponsive in Scheduler for <span style=\"color: #008080; text-decoration-color: #008080; font-weight: bold\">3.</span>80s.  This is often caused  <a href=\"file://C:\\Users\\Tahsin\\miniconda3\\envs\\modspy\\lib\\site-packages\\distributed\\core.py\" target=\"_blank\"><span style=\"color: #7f7f7f; text-decoration-color: #7f7f7f\">core.py</span></a><span style=\"color: #7f7f7f; text-decoration-color: #7f7f7f\">:</span><a href=\"file://C:\\Users\\Tahsin\\miniconda3\\envs\\modspy\\lib\\site-packages\\distributed\\core.py#743\" target=\"_blank\"><span style=\"color: #7f7f7f; text-decoration-color: #7f7f7f\">743</span></a>\n",
       "<span style=\"color: #7fbfbf; text-decoration-color: #7fbfbf\">                    </span>         by long-running GIL-holding functions or moving large chunks of data. This <span style=\"color: #7f7f7f; text-decoration-color: #7f7f7f\">           </span>\n",
       "<span style=\"color: #7fbfbf; text-decoration-color: #7fbfbf\">                    </span>         can cause timeouts and instability.                                        <span style=\"color: #7f7f7f; text-decoration-color: #7f7f7f\">           </span>\n",
       "</pre>\n"
      ],
      "text/plain": [
       "\u001b[2;36m[01/19/24 00:48:39]\u001b[0m\u001b[2;36m \u001b[0m\u001b[34mINFO    \u001b[0m Event loop was unresponsive in Scheduler for \u001b[1;36m3.\u001b[0m80s.  This is often caused  \u001b]8;id=439852;file://C:\\Users\\Tahsin\\miniconda3\\envs\\modspy\\lib\\site-packages\\distributed\\core.py\u001b\\\u001b[2mcore.py\u001b[0m\u001b]8;;\u001b\\\u001b[2m:\u001b[0m\u001b]8;id=306914;file://C:\\Users\\Tahsin\\miniconda3\\envs\\modspy\\lib\\site-packages\\distributed\\core.py#743\u001b\\\u001b[2m743\u001b[0m\u001b]8;;\u001b\\\n",
       "\u001b[2;36m                    \u001b[0m         by long-running GIL-holding functions or moving large chunks of data. This \u001b[2m           \u001b[0m\n",
       "\u001b[2;36m                    \u001b[0m         can cause timeouts and instability.                                        \u001b[2m           \u001b[0m\n"
      ]
     },
     "metadata": {},
     "output_type": "display_data"
    },
    {
     "data": {
      "text/html": [
       "<pre style=\"white-space:pre;overflow-x:auto;line-height:normal;font-family:Menlo,'DejaVu Sans Mono',consolas,'Courier New',monospace\"><span style=\"color: #7fbfbf; text-decoration-color: #7fbfbf\">                    </span><span style=\"color: #000080; text-decoration-color: #000080\">INFO    </span> Event loop was unresponsive in Nanny for <span style=\"color: #008080; text-decoration-color: #008080; font-weight: bold\">3.</span>74s.  This is often caused by   <a href=\"file://C:\\Users\\Tahsin\\miniconda3\\envs\\modspy\\lib\\site-packages\\distributed\\core.py\" target=\"_blank\"><span style=\"color: #7f7f7f; text-decoration-color: #7f7f7f\">core.py</span></a><span style=\"color: #7f7f7f; text-decoration-color: #7f7f7f\">:</span><a href=\"file://C:\\Users\\Tahsin\\miniconda3\\envs\\modspy\\lib\\site-packages\\distributed\\core.py#743\" target=\"_blank\"><span style=\"color: #7f7f7f; text-decoration-color: #7f7f7f\">743</span></a>\n",
       "<span style=\"color: #7fbfbf; text-decoration-color: #7fbfbf\">                    </span>         long-running GIL-holding functions or moving large chunks of data. This    <span style=\"color: #7f7f7f; text-decoration-color: #7f7f7f\">           </span>\n",
       "<span style=\"color: #7fbfbf; text-decoration-color: #7fbfbf\">                    </span>         can cause timeouts and instability.                                        <span style=\"color: #7f7f7f; text-decoration-color: #7f7f7f\">           </span>\n",
       "</pre>\n"
      ],
      "text/plain": [
       "\u001b[2;36m                   \u001b[0m\u001b[2;36m \u001b[0m\u001b[34mINFO    \u001b[0m Event loop was unresponsive in Nanny for \u001b[1;36m3.\u001b[0m74s.  This is often caused by   \u001b]8;id=838705;file://C:\\Users\\Tahsin\\miniconda3\\envs\\modspy\\lib\\site-packages\\distributed\\core.py\u001b\\\u001b[2mcore.py\u001b[0m\u001b]8;;\u001b\\\u001b[2m:\u001b[0m\u001b]8;id=920850;file://C:\\Users\\Tahsin\\miniconda3\\envs\\modspy\\lib\\site-packages\\distributed\\core.py#743\u001b\\\u001b[2m743\u001b[0m\u001b]8;;\u001b\\\n",
       "\u001b[2;36m                    \u001b[0m         long-running GIL-holding functions or moving large chunks of data. This    \u001b[2m           \u001b[0m\n",
       "\u001b[2;36m                    \u001b[0m         can cause timeouts and instability.                                        \u001b[2m           \u001b[0m\n"
      ]
     },
     "metadata": {},
     "output_type": "display_data"
    },
    {
     "data": {
      "text/html": [
       "<pre style=\"white-space:pre;overflow-x:auto;line-height:normal;font-family:Menlo,'DejaVu Sans Mono',consolas,'Courier New',monospace\"><span style=\"color: #7fbfbf; text-decoration-color: #7fbfbf\">                    </span><span style=\"color: #000080; text-decoration-color: #000080\">INFO    </span> Event loop was unresponsive in Nanny for <span style=\"color: #008080; text-decoration-color: #008080; font-weight: bold\">3.</span>76s.  This is often caused by   <a href=\"file://C:\\Users\\Tahsin\\miniconda3\\envs\\modspy\\lib\\site-packages\\distributed\\core.py\" target=\"_blank\"><span style=\"color: #7f7f7f; text-decoration-color: #7f7f7f\">core.py</span></a><span style=\"color: #7f7f7f; text-decoration-color: #7f7f7f\">:</span><a href=\"file://C:\\Users\\Tahsin\\miniconda3\\envs\\modspy\\lib\\site-packages\\distributed\\core.py#743\" target=\"_blank\"><span style=\"color: #7f7f7f; text-decoration-color: #7f7f7f\">743</span></a>\n",
       "<span style=\"color: #7fbfbf; text-decoration-color: #7fbfbf\">                    </span>         long-running GIL-holding functions or moving large chunks of data. This    <span style=\"color: #7f7f7f; text-decoration-color: #7f7f7f\">           </span>\n",
       "<span style=\"color: #7fbfbf; text-decoration-color: #7fbfbf\">                    </span>         can cause timeouts and instability.                                        <span style=\"color: #7f7f7f; text-decoration-color: #7f7f7f\">           </span>\n",
       "</pre>\n"
      ],
      "text/plain": [
       "\u001b[2;36m                   \u001b[0m\u001b[2;36m \u001b[0m\u001b[34mINFO    \u001b[0m Event loop was unresponsive in Nanny for \u001b[1;36m3.\u001b[0m76s.  This is often caused by   \u001b]8;id=935150;file://C:\\Users\\Tahsin\\miniconda3\\envs\\modspy\\lib\\site-packages\\distributed\\core.py\u001b\\\u001b[2mcore.py\u001b[0m\u001b]8;;\u001b\\\u001b[2m:\u001b[0m\u001b]8;id=109236;file://C:\\Users\\Tahsin\\miniconda3\\envs\\modspy\\lib\\site-packages\\distributed\\core.py#743\u001b\\\u001b[2m743\u001b[0m\u001b]8;;\u001b\\\n",
       "\u001b[2;36m                    \u001b[0m         long-running GIL-holding functions or moving large chunks of data. This    \u001b[2m           \u001b[0m\n",
       "\u001b[2;36m                    \u001b[0m         can cause timeouts and instability.                                        \u001b[2m           \u001b[0m\n"
      ]
     },
     "metadata": {},
     "output_type": "display_data"
    },
    {
     "data": {
      "text/html": [
       "<pre style=\"white-space:pre;overflow-x:auto;line-height:normal;font-family:Menlo,'DejaVu Sans Mono',consolas,'Courier New',monospace\"><span style=\"color: #7fbfbf; text-decoration-color: #7fbfbf\">                    </span><span style=\"color: #000080; text-decoration-color: #000080\">INFO    </span> Event loop was unresponsive in Nanny for <span style=\"color: #008080; text-decoration-color: #008080; font-weight: bold\">3.</span>77s.  This is often caused by   <a href=\"file://C:\\Users\\Tahsin\\miniconda3\\envs\\modspy\\lib\\site-packages\\distributed\\core.py\" target=\"_blank\"><span style=\"color: #7f7f7f; text-decoration-color: #7f7f7f\">core.py</span></a><span style=\"color: #7f7f7f; text-decoration-color: #7f7f7f\">:</span><a href=\"file://C:\\Users\\Tahsin\\miniconda3\\envs\\modspy\\lib\\site-packages\\distributed\\core.py#743\" target=\"_blank\"><span style=\"color: #7f7f7f; text-decoration-color: #7f7f7f\">743</span></a>\n",
       "<span style=\"color: #7fbfbf; text-decoration-color: #7fbfbf\">                    </span>         long-running GIL-holding functions or moving large chunks of data. This    <span style=\"color: #7f7f7f; text-decoration-color: #7f7f7f\">           </span>\n",
       "<span style=\"color: #7fbfbf; text-decoration-color: #7fbfbf\">                    </span>         can cause timeouts and instability.                                        <span style=\"color: #7f7f7f; text-decoration-color: #7f7f7f\">           </span>\n",
       "</pre>\n"
      ],
      "text/plain": [
       "\u001b[2;36m                   \u001b[0m\u001b[2;36m \u001b[0m\u001b[34mINFO    \u001b[0m Event loop was unresponsive in Nanny for \u001b[1;36m3.\u001b[0m77s.  This is often caused by   \u001b]8;id=741863;file://C:\\Users\\Tahsin\\miniconda3\\envs\\modspy\\lib\\site-packages\\distributed\\core.py\u001b\\\u001b[2mcore.py\u001b[0m\u001b]8;;\u001b\\\u001b[2m:\u001b[0m\u001b]8;id=123843;file://C:\\Users\\Tahsin\\miniconda3\\envs\\modspy\\lib\\site-packages\\distributed\\core.py#743\u001b\\\u001b[2m743\u001b[0m\u001b]8;;\u001b\\\n",
       "\u001b[2;36m                    \u001b[0m         long-running GIL-holding functions or moving large chunks of data. This    \u001b[2m           \u001b[0m\n",
       "\u001b[2;36m                    \u001b[0m         can cause timeouts and instability.                                        \u001b[2m           \u001b[0m\n"
      ]
     },
     "metadata": {},
     "output_type": "display_data"
    },
    {
     "data": {
      "text/html": [
       "<pre style=\"white-space:pre;overflow-x:auto;line-height:normal;font-family:Menlo,'DejaVu Sans Mono',consolas,'Courier New',monospace\"><span style=\"color: #7fbfbf; text-decoration-color: #7fbfbf\">                    </span><span style=\"color: #000080; text-decoration-color: #000080\">INFO    </span> Event loop was unresponsive in Nanny for <span style=\"color: #008080; text-decoration-color: #008080; font-weight: bold\">3.</span>78s.  This is often caused by   <a href=\"file://C:\\Users\\Tahsin\\miniconda3\\envs\\modspy\\lib\\site-packages\\distributed\\core.py\" target=\"_blank\"><span style=\"color: #7f7f7f; text-decoration-color: #7f7f7f\">core.py</span></a><span style=\"color: #7f7f7f; text-decoration-color: #7f7f7f\">:</span><a href=\"file://C:\\Users\\Tahsin\\miniconda3\\envs\\modspy\\lib\\site-packages\\distributed\\core.py#743\" target=\"_blank\"><span style=\"color: #7f7f7f; text-decoration-color: #7f7f7f\">743</span></a>\n",
       "<span style=\"color: #7fbfbf; text-decoration-color: #7fbfbf\">                    </span>         long-running GIL-holding functions or moving large chunks of data. This    <span style=\"color: #7f7f7f; text-decoration-color: #7f7f7f\">           </span>\n",
       "<span style=\"color: #7fbfbf; text-decoration-color: #7fbfbf\">                    </span>         can cause timeouts and instability.                                        <span style=\"color: #7f7f7f; text-decoration-color: #7f7f7f\">           </span>\n",
       "</pre>\n"
      ],
      "text/plain": [
       "\u001b[2;36m                   \u001b[0m\u001b[2;36m \u001b[0m\u001b[34mINFO    \u001b[0m Event loop was unresponsive in Nanny for \u001b[1;36m3.\u001b[0m78s.  This is often caused by   \u001b]8;id=626226;file://C:\\Users\\Tahsin\\miniconda3\\envs\\modspy\\lib\\site-packages\\distributed\\core.py\u001b\\\u001b[2mcore.py\u001b[0m\u001b]8;;\u001b\\\u001b[2m:\u001b[0m\u001b]8;id=135615;file://C:\\Users\\Tahsin\\miniconda3\\envs\\modspy\\lib\\site-packages\\distributed\\core.py#743\u001b\\\u001b[2m743\u001b[0m\u001b]8;;\u001b\\\n",
       "\u001b[2;36m                    \u001b[0m         long-running GIL-holding functions or moving large chunks of data. This    \u001b[2m           \u001b[0m\n",
       "\u001b[2;36m                    \u001b[0m         can cause timeouts and instability.                                        \u001b[2m           \u001b[0m\n"
      ]
     },
     "metadata": {},
     "output_type": "display_data"
    },
    {
     "data": {
      "text/html": [
       "<pre style=\"white-space:pre;overflow-x:auto;line-height:normal;font-family:Menlo,'DejaVu Sans Mono',consolas,'Courier New',monospace\"><span style=\"color: #7fbfbf; text-decoration-color: #7fbfbf\">[01/19/24 00:48:44] </span><span style=\"color: #000080; text-decoration-color: #000080\">INFO    </span> Event loop was unresponsive in Nanny for <span style=\"color: #008080; text-decoration-color: #008080; font-weight: bold\">3.</span>04s.  This is often caused by   <a href=\"file://C:\\Users\\Tahsin\\miniconda3\\envs\\modspy\\lib\\site-packages\\distributed\\core.py\" target=\"_blank\"><span style=\"color: #7f7f7f; text-decoration-color: #7f7f7f\">core.py</span></a><span style=\"color: #7f7f7f; text-decoration-color: #7f7f7f\">:</span><a href=\"file://C:\\Users\\Tahsin\\miniconda3\\envs\\modspy\\lib\\site-packages\\distributed\\core.py#743\" target=\"_blank\"><span style=\"color: #7f7f7f; text-decoration-color: #7f7f7f\">743</span></a>\n",
       "<span style=\"color: #7fbfbf; text-decoration-color: #7fbfbf\">                    </span>         long-running GIL-holding functions or moving large chunks of data. This    <span style=\"color: #7f7f7f; text-decoration-color: #7f7f7f\">           </span>\n",
       "<span style=\"color: #7fbfbf; text-decoration-color: #7fbfbf\">                    </span>         can cause timeouts and instability.                                        <span style=\"color: #7f7f7f; text-decoration-color: #7f7f7f\">           </span>\n",
       "</pre>\n"
      ],
      "text/plain": [
       "\u001b[2;36m[01/19/24 00:48:44]\u001b[0m\u001b[2;36m \u001b[0m\u001b[34mINFO    \u001b[0m Event loop was unresponsive in Nanny for \u001b[1;36m3.\u001b[0m04s.  This is often caused by   \u001b]8;id=417812;file://C:\\Users\\Tahsin\\miniconda3\\envs\\modspy\\lib\\site-packages\\distributed\\core.py\u001b\\\u001b[2mcore.py\u001b[0m\u001b]8;;\u001b\\\u001b[2m:\u001b[0m\u001b]8;id=795177;file://C:\\Users\\Tahsin\\miniconda3\\envs\\modspy\\lib\\site-packages\\distributed\\core.py#743\u001b\\\u001b[2m743\u001b[0m\u001b]8;;\u001b\\\n",
       "\u001b[2;36m                    \u001b[0m         long-running GIL-holding functions or moving large chunks of data. This    \u001b[2m           \u001b[0m\n",
       "\u001b[2;36m                    \u001b[0m         can cause timeouts and instability.                                        \u001b[2m           \u001b[0m\n"
      ]
     },
     "metadata": {},
     "output_type": "display_data"
    },
    {
     "data": {
      "text/html": [
       "<pre style=\"white-space:pre;overflow-x:auto;line-height:normal;font-family:Menlo,'DejaVu Sans Mono',consolas,'Courier New',monospace\"><span style=\"color: #7fbfbf; text-decoration-color: #7fbfbf\">                    </span><span style=\"color: #000080; text-decoration-color: #000080\">INFO    </span> Event loop was unresponsive in Nanny for <span style=\"color: #008080; text-decoration-color: #008080; font-weight: bold\">3.</span>00s.  This is often caused by   <a href=\"file://C:\\Users\\Tahsin\\miniconda3\\envs\\modspy\\lib\\site-packages\\distributed\\core.py\" target=\"_blank\"><span style=\"color: #7f7f7f; text-decoration-color: #7f7f7f\">core.py</span></a><span style=\"color: #7f7f7f; text-decoration-color: #7f7f7f\">:</span><a href=\"file://C:\\Users\\Tahsin\\miniconda3\\envs\\modspy\\lib\\site-packages\\distributed\\core.py#743\" target=\"_blank\"><span style=\"color: #7f7f7f; text-decoration-color: #7f7f7f\">743</span></a>\n",
       "<span style=\"color: #7fbfbf; text-decoration-color: #7fbfbf\">                    </span>         long-running GIL-holding functions or moving large chunks of data. This    <span style=\"color: #7f7f7f; text-decoration-color: #7f7f7f\">           </span>\n",
       "<span style=\"color: #7fbfbf; text-decoration-color: #7fbfbf\">                    </span>         can cause timeouts and instability.                                        <span style=\"color: #7f7f7f; text-decoration-color: #7f7f7f\">           </span>\n",
       "</pre>\n"
      ],
      "text/plain": [
       "\u001b[2;36m                   \u001b[0m\u001b[2;36m \u001b[0m\u001b[34mINFO    \u001b[0m Event loop was unresponsive in Nanny for \u001b[1;36m3.\u001b[0m00s.  This is often caused by   \u001b]8;id=458427;file://C:\\Users\\Tahsin\\miniconda3\\envs\\modspy\\lib\\site-packages\\distributed\\core.py\u001b\\\u001b[2mcore.py\u001b[0m\u001b]8;;\u001b\\\u001b[2m:\u001b[0m\u001b]8;id=994870;file://C:\\Users\\Tahsin\\miniconda3\\envs\\modspy\\lib\\site-packages\\distributed\\core.py#743\u001b\\\u001b[2m743\u001b[0m\u001b]8;;\u001b\\\n",
       "\u001b[2;36m                    \u001b[0m         long-running GIL-holding functions or moving large chunks of data. This    \u001b[2m           \u001b[0m\n",
       "\u001b[2;36m                    \u001b[0m         can cause timeouts and instability.                                        \u001b[2m           \u001b[0m\n"
      ]
     },
     "metadata": {},
     "output_type": "display_data"
    },
    {
     "data": {
      "text/html": [
       "<pre style=\"white-space:pre;overflow-x:auto;line-height:normal;font-family:Menlo,'DejaVu Sans Mono',consolas,'Courier New',monospace\"><span style=\"color: #7fbfbf; text-decoration-color: #7fbfbf\">                    </span><span style=\"color: #000080; text-decoration-color: #000080\">INFO    </span> Event loop was unresponsive in Scheduler for <span style=\"color: #008080; text-decoration-color: #008080; font-weight: bold\">3.</span>02s.  This is often caused  <a href=\"file://C:\\Users\\Tahsin\\miniconda3\\envs\\modspy\\lib\\site-packages\\distributed\\core.py\" target=\"_blank\"><span style=\"color: #7f7f7f; text-decoration-color: #7f7f7f\">core.py</span></a><span style=\"color: #7f7f7f; text-decoration-color: #7f7f7f\">:</span><a href=\"file://C:\\Users\\Tahsin\\miniconda3\\envs\\modspy\\lib\\site-packages\\distributed\\core.py#743\" target=\"_blank\"><span style=\"color: #7f7f7f; text-decoration-color: #7f7f7f\">743</span></a>\n",
       "<span style=\"color: #7fbfbf; text-decoration-color: #7fbfbf\">                    </span>         by long-running GIL-holding functions or moving large chunks of data. This <span style=\"color: #7f7f7f; text-decoration-color: #7f7f7f\">           </span>\n",
       "<span style=\"color: #7fbfbf; text-decoration-color: #7fbfbf\">                    </span>         can cause timeouts and instability.                                        <span style=\"color: #7f7f7f; text-decoration-color: #7f7f7f\">           </span>\n",
       "</pre>\n"
      ],
      "text/plain": [
       "\u001b[2;36m                   \u001b[0m\u001b[2;36m \u001b[0m\u001b[34mINFO    \u001b[0m Event loop was unresponsive in Scheduler for \u001b[1;36m3.\u001b[0m02s.  This is often caused  \u001b]8;id=917580;file://C:\\Users\\Tahsin\\miniconda3\\envs\\modspy\\lib\\site-packages\\distributed\\core.py\u001b\\\u001b[2mcore.py\u001b[0m\u001b]8;;\u001b\\\u001b[2m:\u001b[0m\u001b]8;id=853436;file://C:\\Users\\Tahsin\\miniconda3\\envs\\modspy\\lib\\site-packages\\distributed\\core.py#743\u001b\\\u001b[2m743\u001b[0m\u001b]8;;\u001b\\\n",
       "\u001b[2;36m                    \u001b[0m         by long-running GIL-holding functions or moving large chunks of data. This \u001b[2m           \u001b[0m\n",
       "\u001b[2;36m                    \u001b[0m         can cause timeouts and instability.                                        \u001b[2m           \u001b[0m\n"
      ]
     },
     "metadata": {},
     "output_type": "display_data"
    },
    {
     "data": {
      "text/html": [
       "<pre style=\"white-space:pre;overflow-x:auto;line-height:normal;font-family:Menlo,'DejaVu Sans Mono',consolas,'Courier New',monospace\"><span style=\"color: #7fbfbf; text-decoration-color: #7fbfbf\">                    </span><span style=\"color: #000080; text-decoration-color: #000080\">INFO    </span> Event loop was unresponsive in Nanny for <span style=\"color: #008080; text-decoration-color: #008080; font-weight: bold\">3.</span>03s.  This is often caused by   <a href=\"file://C:\\Users\\Tahsin\\miniconda3\\envs\\modspy\\lib\\site-packages\\distributed\\core.py\" target=\"_blank\"><span style=\"color: #7f7f7f; text-decoration-color: #7f7f7f\">core.py</span></a><span style=\"color: #7f7f7f; text-decoration-color: #7f7f7f\">:</span><a href=\"file://C:\\Users\\Tahsin\\miniconda3\\envs\\modspy\\lib\\site-packages\\distributed\\core.py#743\" target=\"_blank\"><span style=\"color: #7f7f7f; text-decoration-color: #7f7f7f\">743</span></a>\n",
       "<span style=\"color: #7fbfbf; text-decoration-color: #7fbfbf\">                    </span>         long-running GIL-holding functions or moving large chunks of data. This    <span style=\"color: #7f7f7f; text-decoration-color: #7f7f7f\">           </span>\n",
       "<span style=\"color: #7fbfbf; text-decoration-color: #7fbfbf\">                    </span>         can cause timeouts and instability.                                        <span style=\"color: #7f7f7f; text-decoration-color: #7f7f7f\">           </span>\n",
       "</pre>\n"
      ],
      "text/plain": [
       "\u001b[2;36m                   \u001b[0m\u001b[2;36m \u001b[0m\u001b[34mINFO    \u001b[0m Event loop was unresponsive in Nanny for \u001b[1;36m3.\u001b[0m03s.  This is often caused by   \u001b]8;id=715074;file://C:\\Users\\Tahsin\\miniconda3\\envs\\modspy\\lib\\site-packages\\distributed\\core.py\u001b\\\u001b[2mcore.py\u001b[0m\u001b]8;;\u001b\\\u001b[2m:\u001b[0m\u001b]8;id=38769;file://C:\\Users\\Tahsin\\miniconda3\\envs\\modspy\\lib\\site-packages\\distributed\\core.py#743\u001b\\\u001b[2m743\u001b[0m\u001b]8;;\u001b\\\n",
       "\u001b[2;36m                    \u001b[0m         long-running GIL-holding functions or moving large chunks of data. This    \u001b[2m           \u001b[0m\n",
       "\u001b[2;36m                    \u001b[0m         can cause timeouts and instability.                                        \u001b[2m           \u001b[0m\n"
      ]
     },
     "metadata": {},
     "output_type": "display_data"
    },
    {
     "data": {
      "text/html": [
       "<pre style=\"white-space:pre;overflow-x:auto;line-height:normal;font-family:Menlo,'DejaVu Sans Mono',consolas,'Courier New',monospace\"><span style=\"color: #7fbfbf; text-decoration-color: #7fbfbf\">                    </span><span style=\"color: #000080; text-decoration-color: #000080\">INFO    </span> Event loop was unresponsive in Nanny for <span style=\"color: #008080; text-decoration-color: #008080; font-weight: bold\">3.</span>04s.  This is often caused by   <a href=\"file://C:\\Users\\Tahsin\\miniconda3\\envs\\modspy\\lib\\site-packages\\distributed\\core.py\" target=\"_blank\"><span style=\"color: #7f7f7f; text-decoration-color: #7f7f7f\">core.py</span></a><span style=\"color: #7f7f7f; text-decoration-color: #7f7f7f\">:</span><a href=\"file://C:\\Users\\Tahsin\\miniconda3\\envs\\modspy\\lib\\site-packages\\distributed\\core.py#743\" target=\"_blank\"><span style=\"color: #7f7f7f; text-decoration-color: #7f7f7f\">743</span></a>\n",
       "<span style=\"color: #7fbfbf; text-decoration-color: #7fbfbf\">                    </span>         long-running GIL-holding functions or moving large chunks of data. This    <span style=\"color: #7f7f7f; text-decoration-color: #7f7f7f\">           </span>\n",
       "<span style=\"color: #7fbfbf; text-decoration-color: #7fbfbf\">                    </span>         can cause timeouts and instability.                                        <span style=\"color: #7f7f7f; text-decoration-color: #7f7f7f\">           </span>\n",
       "</pre>\n"
      ],
      "text/plain": [
       "\u001b[2;36m                   \u001b[0m\u001b[2;36m \u001b[0m\u001b[34mINFO    \u001b[0m Event loop was unresponsive in Nanny for \u001b[1;36m3.\u001b[0m04s.  This is often caused by   \u001b]8;id=795441;file://C:\\Users\\Tahsin\\miniconda3\\envs\\modspy\\lib\\site-packages\\distributed\\core.py\u001b\\\u001b[2mcore.py\u001b[0m\u001b]8;;\u001b\\\u001b[2m:\u001b[0m\u001b]8;id=737490;file://C:\\Users\\Tahsin\\miniconda3\\envs\\modspy\\lib\\site-packages\\distributed\\core.py#743\u001b\\\u001b[2m743\u001b[0m\u001b]8;;\u001b\\\n",
       "\u001b[2;36m                    \u001b[0m         long-running GIL-holding functions or moving large chunks of data. This    \u001b[2m           \u001b[0m\n",
       "\u001b[2;36m                    \u001b[0m         can cause timeouts and instability.                                        \u001b[2m           \u001b[0m\n"
      ]
     },
     "metadata": {},
     "output_type": "display_data"
    },
    {
     "data": {
      "text/html": [
       "<pre style=\"white-space:pre;overflow-x:auto;line-height:normal;font-family:Menlo,'DejaVu Sans Mono',consolas,'Courier New',monospace\"><span style=\"color: #7fbfbf; text-decoration-color: #7fbfbf\">[01/19/24 00:49:00] </span><span style=\"color: #000080; text-decoration-color: #000080\">INFO    </span> Event loop was unresponsive in Scheduler for <span style=\"color: #008080; text-decoration-color: #008080; font-weight: bold\">3.</span>89s.  This is often caused  <a href=\"file://C:\\Users\\Tahsin\\miniconda3\\envs\\modspy\\lib\\site-packages\\distributed\\core.py\" target=\"_blank\"><span style=\"color: #7f7f7f; text-decoration-color: #7f7f7f\">core.py</span></a><span style=\"color: #7f7f7f; text-decoration-color: #7f7f7f\">:</span><a href=\"file://C:\\Users\\Tahsin\\miniconda3\\envs\\modspy\\lib\\site-packages\\distributed\\core.py#743\" target=\"_blank\"><span style=\"color: #7f7f7f; text-decoration-color: #7f7f7f\">743</span></a>\n",
       "<span style=\"color: #7fbfbf; text-decoration-color: #7fbfbf\">                    </span>         by long-running GIL-holding functions or moving large chunks of data. This <span style=\"color: #7f7f7f; text-decoration-color: #7f7f7f\">           </span>\n",
       "<span style=\"color: #7fbfbf; text-decoration-color: #7fbfbf\">                    </span>         can cause timeouts and instability.                                        <span style=\"color: #7f7f7f; text-decoration-color: #7f7f7f\">           </span>\n",
       "</pre>\n"
      ],
      "text/plain": [
       "\u001b[2;36m[01/19/24 00:49:00]\u001b[0m\u001b[2;36m \u001b[0m\u001b[34mINFO    \u001b[0m Event loop was unresponsive in Scheduler for \u001b[1;36m3.\u001b[0m89s.  This is often caused  \u001b]8;id=267603;file://C:\\Users\\Tahsin\\miniconda3\\envs\\modspy\\lib\\site-packages\\distributed\\core.py\u001b\\\u001b[2mcore.py\u001b[0m\u001b]8;;\u001b\\\u001b[2m:\u001b[0m\u001b]8;id=355860;file://C:\\Users\\Tahsin\\miniconda3\\envs\\modspy\\lib\\site-packages\\distributed\\core.py#743\u001b\\\u001b[2m743\u001b[0m\u001b]8;;\u001b\\\n",
       "\u001b[2;36m                    \u001b[0m         by long-running GIL-holding functions or moving large chunks of data. This \u001b[2m           \u001b[0m\n",
       "\u001b[2;36m                    \u001b[0m         can cause timeouts and instability.                                        \u001b[2m           \u001b[0m\n"
      ]
     },
     "metadata": {},
     "output_type": "display_data"
    },
    {
     "data": {
      "text/html": [
       "<pre style=\"white-space:pre;overflow-x:auto;line-height:normal;font-family:Menlo,'DejaVu Sans Mono',consolas,'Courier New',monospace\"><span style=\"color: #7fbfbf; text-decoration-color: #7fbfbf\">                    </span><span style=\"color: #000080; text-decoration-color: #000080\">INFO    </span> Event loop was unresponsive in Nanny for <span style=\"color: #008080; text-decoration-color: #008080; font-weight: bold\">3.</span>83s.  This is often caused by   <a href=\"file://C:\\Users\\Tahsin\\miniconda3\\envs\\modspy\\lib\\site-packages\\distributed\\core.py\" target=\"_blank\"><span style=\"color: #7f7f7f; text-decoration-color: #7f7f7f\">core.py</span></a><span style=\"color: #7f7f7f; text-decoration-color: #7f7f7f\">:</span><a href=\"file://C:\\Users\\Tahsin\\miniconda3\\envs\\modspy\\lib\\site-packages\\distributed\\core.py#743\" target=\"_blank\"><span style=\"color: #7f7f7f; text-decoration-color: #7f7f7f\">743</span></a>\n",
       "<span style=\"color: #7fbfbf; text-decoration-color: #7fbfbf\">                    </span>         long-running GIL-holding functions or moving large chunks of data. This    <span style=\"color: #7f7f7f; text-decoration-color: #7f7f7f\">           </span>\n",
       "<span style=\"color: #7fbfbf; text-decoration-color: #7fbfbf\">                    </span>         can cause timeouts and instability.                                        <span style=\"color: #7f7f7f; text-decoration-color: #7f7f7f\">           </span>\n",
       "</pre>\n"
      ],
      "text/plain": [
       "\u001b[2;36m                   \u001b[0m\u001b[2;36m \u001b[0m\u001b[34mINFO    \u001b[0m Event loop was unresponsive in Nanny for \u001b[1;36m3.\u001b[0m83s.  This is often caused by   \u001b]8;id=729068;file://C:\\Users\\Tahsin\\miniconda3\\envs\\modspy\\lib\\site-packages\\distributed\\core.py\u001b\\\u001b[2mcore.py\u001b[0m\u001b]8;;\u001b\\\u001b[2m:\u001b[0m\u001b]8;id=98885;file://C:\\Users\\Tahsin\\miniconda3\\envs\\modspy\\lib\\site-packages\\distributed\\core.py#743\u001b\\\u001b[2m743\u001b[0m\u001b]8;;\u001b\\\n",
       "\u001b[2;36m                    \u001b[0m         long-running GIL-holding functions or moving large chunks of data. This    \u001b[2m           \u001b[0m\n",
       "\u001b[2;36m                    \u001b[0m         can cause timeouts and instability.                                        \u001b[2m           \u001b[0m\n"
      ]
     },
     "metadata": {},
     "output_type": "display_data"
    },
    {
     "data": {
      "text/html": [
       "<pre style=\"white-space:pre;overflow-x:auto;line-height:normal;font-family:Menlo,'DejaVu Sans Mono',consolas,'Courier New',monospace\"><span style=\"color: #7fbfbf; text-decoration-color: #7fbfbf\">                    </span><span style=\"color: #000080; text-decoration-color: #000080\">INFO    </span> Event loop was unresponsive in Nanny for <span style=\"color: #008080; text-decoration-color: #008080; font-weight: bold\">3.</span>90s.  This is often caused by   <a href=\"file://C:\\Users\\Tahsin\\miniconda3\\envs\\modspy\\lib\\site-packages\\distributed\\core.py\" target=\"_blank\"><span style=\"color: #7f7f7f; text-decoration-color: #7f7f7f\">core.py</span></a><span style=\"color: #7f7f7f; text-decoration-color: #7f7f7f\">:</span><a href=\"file://C:\\Users\\Tahsin\\miniconda3\\envs\\modspy\\lib\\site-packages\\distributed\\core.py#743\" target=\"_blank\"><span style=\"color: #7f7f7f; text-decoration-color: #7f7f7f\">743</span></a>\n",
       "<span style=\"color: #7fbfbf; text-decoration-color: #7fbfbf\">                    </span>         long-running GIL-holding functions or moving large chunks of data. This    <span style=\"color: #7f7f7f; text-decoration-color: #7f7f7f\">           </span>\n",
       "<span style=\"color: #7fbfbf; text-decoration-color: #7fbfbf\">                    </span>         can cause timeouts and instability.                                        <span style=\"color: #7f7f7f; text-decoration-color: #7f7f7f\">           </span>\n",
       "</pre>\n"
      ],
      "text/plain": [
       "\u001b[2;36m                   \u001b[0m\u001b[2;36m \u001b[0m\u001b[34mINFO    \u001b[0m Event loop was unresponsive in Nanny for \u001b[1;36m3.\u001b[0m90s.  This is often caused by   \u001b]8;id=596833;file://C:\\Users\\Tahsin\\miniconda3\\envs\\modspy\\lib\\site-packages\\distributed\\core.py\u001b\\\u001b[2mcore.py\u001b[0m\u001b]8;;\u001b\\\u001b[2m:\u001b[0m\u001b]8;id=208929;file://C:\\Users\\Tahsin\\miniconda3\\envs\\modspy\\lib\\site-packages\\distributed\\core.py#743\u001b\\\u001b[2m743\u001b[0m\u001b]8;;\u001b\\\n",
       "\u001b[2;36m                    \u001b[0m         long-running GIL-holding functions or moving large chunks of data. This    \u001b[2m           \u001b[0m\n",
       "\u001b[2;36m                    \u001b[0m         can cause timeouts and instability.                                        \u001b[2m           \u001b[0m\n"
      ]
     },
     "metadata": {},
     "output_type": "display_data"
    },
    {
     "data": {
      "text/html": [
       "<pre style=\"white-space:pre;overflow-x:auto;line-height:normal;font-family:Menlo,'DejaVu Sans Mono',consolas,'Courier New',monospace\"><span style=\"color: #7fbfbf; text-decoration-color: #7fbfbf\">                    </span><span style=\"color: #000080; text-decoration-color: #000080\">INFO    </span> Event loop was unresponsive in Nanny for <span style=\"color: #008080; text-decoration-color: #008080; font-weight: bold\">3.</span>91s.  This is often caused by   <a href=\"file://C:\\Users\\Tahsin\\miniconda3\\envs\\modspy\\lib\\site-packages\\distributed\\core.py\" target=\"_blank\"><span style=\"color: #7f7f7f; text-decoration-color: #7f7f7f\">core.py</span></a><span style=\"color: #7f7f7f; text-decoration-color: #7f7f7f\">:</span><a href=\"file://C:\\Users\\Tahsin\\miniconda3\\envs\\modspy\\lib\\site-packages\\distributed\\core.py#743\" target=\"_blank\"><span style=\"color: #7f7f7f; text-decoration-color: #7f7f7f\">743</span></a>\n",
       "<span style=\"color: #7fbfbf; text-decoration-color: #7fbfbf\">                    </span>         long-running GIL-holding functions or moving large chunks of data. This    <span style=\"color: #7f7f7f; text-decoration-color: #7f7f7f\">           </span>\n",
       "<span style=\"color: #7fbfbf; text-decoration-color: #7fbfbf\">                    </span>         can cause timeouts and instability.                                        <span style=\"color: #7f7f7f; text-decoration-color: #7f7f7f\">           </span>\n",
       "</pre>\n"
      ],
      "text/plain": [
       "\u001b[2;36m                   \u001b[0m\u001b[2;36m \u001b[0m\u001b[34mINFO    \u001b[0m Event loop was unresponsive in Nanny for \u001b[1;36m3.\u001b[0m91s.  This is often caused by   \u001b]8;id=512610;file://C:\\Users\\Tahsin\\miniconda3\\envs\\modspy\\lib\\site-packages\\distributed\\core.py\u001b\\\u001b[2mcore.py\u001b[0m\u001b]8;;\u001b\\\u001b[2m:\u001b[0m\u001b]8;id=479603;file://C:\\Users\\Tahsin\\miniconda3\\envs\\modspy\\lib\\site-packages\\distributed\\core.py#743\u001b\\\u001b[2m743\u001b[0m\u001b]8;;\u001b\\\n",
       "\u001b[2;36m                    \u001b[0m         long-running GIL-holding functions or moving large chunks of data. This    \u001b[2m           \u001b[0m\n",
       "\u001b[2;36m                    \u001b[0m         can cause timeouts and instability.                                        \u001b[2m           \u001b[0m\n"
      ]
     },
     "metadata": {},
     "output_type": "display_data"
    },
    {
     "data": {
      "text/html": [
       "<pre style=\"white-space:pre;overflow-x:auto;line-height:normal;font-family:Menlo,'DejaVu Sans Mono',consolas,'Courier New',monospace\"><span style=\"color: #7fbfbf; text-decoration-color: #7fbfbf\">                    </span><span style=\"color: #000080; text-decoration-color: #000080\">INFO    </span> Event loop was unresponsive in Nanny for <span style=\"color: #008080; text-decoration-color: #008080; font-weight: bold\">3.</span>92s.  This is often caused by   <a href=\"file://C:\\Users\\Tahsin\\miniconda3\\envs\\modspy\\lib\\site-packages\\distributed\\core.py\" target=\"_blank\"><span style=\"color: #7f7f7f; text-decoration-color: #7f7f7f\">core.py</span></a><span style=\"color: #7f7f7f; text-decoration-color: #7f7f7f\">:</span><a href=\"file://C:\\Users\\Tahsin\\miniconda3\\envs\\modspy\\lib\\site-packages\\distributed\\core.py#743\" target=\"_blank\"><span style=\"color: #7f7f7f; text-decoration-color: #7f7f7f\">743</span></a>\n",
       "<span style=\"color: #7fbfbf; text-decoration-color: #7fbfbf\">                    </span>         long-running GIL-holding functions or moving large chunks of data. This    <span style=\"color: #7f7f7f; text-decoration-color: #7f7f7f\">           </span>\n",
       "<span style=\"color: #7fbfbf; text-decoration-color: #7fbfbf\">                    </span>         can cause timeouts and instability.                                        <span style=\"color: #7f7f7f; text-decoration-color: #7f7f7f\">           </span>\n",
       "</pre>\n"
      ],
      "text/plain": [
       "\u001b[2;36m                   \u001b[0m\u001b[2;36m \u001b[0m\u001b[34mINFO    \u001b[0m Event loop was unresponsive in Nanny for \u001b[1;36m3.\u001b[0m92s.  This is often caused by   \u001b]8;id=670681;file://C:\\Users\\Tahsin\\miniconda3\\envs\\modspy\\lib\\site-packages\\distributed\\core.py\u001b\\\u001b[2mcore.py\u001b[0m\u001b]8;;\u001b\\\u001b[2m:\u001b[0m\u001b]8;id=952651;file://C:\\Users\\Tahsin\\miniconda3\\envs\\modspy\\lib\\site-packages\\distributed\\core.py#743\u001b\\\u001b[2m743\u001b[0m\u001b]8;;\u001b\\\n",
       "\u001b[2;36m                    \u001b[0m         long-running GIL-holding functions or moving large chunks of data. This    \u001b[2m           \u001b[0m\n",
       "\u001b[2;36m                    \u001b[0m         can cause timeouts and instability.                                        \u001b[2m           \u001b[0m\n"
      ]
     },
     "metadata": {},
     "output_type": "display_data"
    },
    {
     "data": {
      "text/html": [
       "<pre style=\"white-space:pre;overflow-x:auto;line-height:normal;font-family:Menlo,'DejaVu Sans Mono',consolas,'Courier New',monospace\"><span style=\"color: #7fbfbf; text-decoration-color: #7fbfbf\">[01/19/24 00:49:07] </span><span style=\"color: #000080; text-decoration-color: #000080\">INFO    </span> Event loop was unresponsive in Scheduler for <span style=\"color: #008080; text-decoration-color: #008080; font-weight: bold\">3.</span>93s.  This is often caused  <a href=\"file://C:\\Users\\Tahsin\\miniconda3\\envs\\modspy\\lib\\site-packages\\distributed\\core.py\" target=\"_blank\"><span style=\"color: #7f7f7f; text-decoration-color: #7f7f7f\">core.py</span></a><span style=\"color: #7f7f7f; text-decoration-color: #7f7f7f\">:</span><a href=\"file://C:\\Users\\Tahsin\\miniconda3\\envs\\modspy\\lib\\site-packages\\distributed\\core.py#743\" target=\"_blank\"><span style=\"color: #7f7f7f; text-decoration-color: #7f7f7f\">743</span></a>\n",
       "<span style=\"color: #7fbfbf; text-decoration-color: #7fbfbf\">                    </span>         by long-running GIL-holding functions or moving large chunks of data. This <span style=\"color: #7f7f7f; text-decoration-color: #7f7f7f\">           </span>\n",
       "<span style=\"color: #7fbfbf; text-decoration-color: #7fbfbf\">                    </span>         can cause timeouts and instability.                                        <span style=\"color: #7f7f7f; text-decoration-color: #7f7f7f\">           </span>\n",
       "</pre>\n"
      ],
      "text/plain": [
       "\u001b[2;36m[01/19/24 00:49:07]\u001b[0m\u001b[2;36m \u001b[0m\u001b[34mINFO    \u001b[0m Event loop was unresponsive in Scheduler for \u001b[1;36m3.\u001b[0m93s.  This is often caused  \u001b]8;id=168789;file://C:\\Users\\Tahsin\\miniconda3\\envs\\modspy\\lib\\site-packages\\distributed\\core.py\u001b\\\u001b[2mcore.py\u001b[0m\u001b]8;;\u001b\\\u001b[2m:\u001b[0m\u001b]8;id=315449;file://C:\\Users\\Tahsin\\miniconda3\\envs\\modspy\\lib\\site-packages\\distributed\\core.py#743\u001b\\\u001b[2m743\u001b[0m\u001b]8;;\u001b\\\n",
       "\u001b[2;36m                    \u001b[0m         by long-running GIL-holding functions or moving large chunks of data. This \u001b[2m           \u001b[0m\n",
       "\u001b[2;36m                    \u001b[0m         can cause timeouts and instability.                                        \u001b[2m           \u001b[0m\n"
      ]
     },
     "metadata": {},
     "output_type": "display_data"
    },
    {
     "data": {
      "text/html": [
       "<pre style=\"white-space:pre;overflow-x:auto;line-height:normal;font-family:Menlo,'DejaVu Sans Mono',consolas,'Courier New',monospace\"><span style=\"color: #7fbfbf; text-decoration-color: #7fbfbf\">                    </span><span style=\"color: #000080; text-decoration-color: #000080\">INFO    </span> Event loop was unresponsive in Nanny for <span style=\"color: #008080; text-decoration-color: #008080; font-weight: bold\">3.</span>94s.  This is often caused by   <a href=\"file://C:\\Users\\Tahsin\\miniconda3\\envs\\modspy\\lib\\site-packages\\distributed\\core.py\" target=\"_blank\"><span style=\"color: #7f7f7f; text-decoration-color: #7f7f7f\">core.py</span></a><span style=\"color: #7f7f7f; text-decoration-color: #7f7f7f\">:</span><a href=\"file://C:\\Users\\Tahsin\\miniconda3\\envs\\modspy\\lib\\site-packages\\distributed\\core.py#743\" target=\"_blank\"><span style=\"color: #7f7f7f; text-decoration-color: #7f7f7f\">743</span></a>\n",
       "<span style=\"color: #7fbfbf; text-decoration-color: #7fbfbf\">                    </span>         long-running GIL-holding functions or moving large chunks of data. This    <span style=\"color: #7f7f7f; text-decoration-color: #7f7f7f\">           </span>\n",
       "<span style=\"color: #7fbfbf; text-decoration-color: #7fbfbf\">                    </span>         can cause timeouts and instability.                                        <span style=\"color: #7f7f7f; text-decoration-color: #7f7f7f\">           </span>\n",
       "</pre>\n"
      ],
      "text/plain": [
       "\u001b[2;36m                   \u001b[0m\u001b[2;36m \u001b[0m\u001b[34mINFO    \u001b[0m Event loop was unresponsive in Nanny for \u001b[1;36m3.\u001b[0m94s.  This is often caused by   \u001b]8;id=440060;file://C:\\Users\\Tahsin\\miniconda3\\envs\\modspy\\lib\\site-packages\\distributed\\core.py\u001b\\\u001b[2mcore.py\u001b[0m\u001b]8;;\u001b\\\u001b[2m:\u001b[0m\u001b]8;id=294377;file://C:\\Users\\Tahsin\\miniconda3\\envs\\modspy\\lib\\site-packages\\distributed\\core.py#743\u001b\\\u001b[2m743\u001b[0m\u001b]8;;\u001b\\\n",
       "\u001b[2;36m                    \u001b[0m         long-running GIL-holding functions or moving large chunks of data. This    \u001b[2m           \u001b[0m\n",
       "\u001b[2;36m                    \u001b[0m         can cause timeouts and instability.                                        \u001b[2m           \u001b[0m\n"
      ]
     },
     "metadata": {},
     "output_type": "display_data"
    },
    {
     "data": {
      "text/html": [
       "<pre style=\"white-space:pre;overflow-x:auto;line-height:normal;font-family:Menlo,'DejaVu Sans Mono',consolas,'Courier New',monospace\"><span style=\"color: #7fbfbf; text-decoration-color: #7fbfbf\">                    </span><span style=\"color: #000080; text-decoration-color: #000080\">INFO    </span> Event loop was unresponsive in Nanny for <span style=\"color: #008080; text-decoration-color: #008080; font-weight: bold\">3.</span>94s.  This is often caused by   <a href=\"file://C:\\Users\\Tahsin\\miniconda3\\envs\\modspy\\lib\\site-packages\\distributed\\core.py\" target=\"_blank\"><span style=\"color: #7f7f7f; text-decoration-color: #7f7f7f\">core.py</span></a><span style=\"color: #7f7f7f; text-decoration-color: #7f7f7f\">:</span><a href=\"file://C:\\Users\\Tahsin\\miniconda3\\envs\\modspy\\lib\\site-packages\\distributed\\core.py#743\" target=\"_blank\"><span style=\"color: #7f7f7f; text-decoration-color: #7f7f7f\">743</span></a>\n",
       "<span style=\"color: #7fbfbf; text-decoration-color: #7fbfbf\">                    </span>         long-running GIL-holding functions or moving large chunks of data. This    <span style=\"color: #7f7f7f; text-decoration-color: #7f7f7f\">           </span>\n",
       "<span style=\"color: #7fbfbf; text-decoration-color: #7fbfbf\">                    </span>         can cause timeouts and instability.                                        <span style=\"color: #7f7f7f; text-decoration-color: #7f7f7f\">           </span>\n",
       "</pre>\n"
      ],
      "text/plain": [
       "\u001b[2;36m                   \u001b[0m\u001b[2;36m \u001b[0m\u001b[34mINFO    \u001b[0m Event loop was unresponsive in Nanny for \u001b[1;36m3.\u001b[0m94s.  This is often caused by   \u001b]8;id=687082;file://C:\\Users\\Tahsin\\miniconda3\\envs\\modspy\\lib\\site-packages\\distributed\\core.py\u001b\\\u001b[2mcore.py\u001b[0m\u001b]8;;\u001b\\\u001b[2m:\u001b[0m\u001b]8;id=835518;file://C:\\Users\\Tahsin\\miniconda3\\envs\\modspy\\lib\\site-packages\\distributed\\core.py#743\u001b\\\u001b[2m743\u001b[0m\u001b]8;;\u001b\\\n",
       "\u001b[2;36m                    \u001b[0m         long-running GIL-holding functions or moving large chunks of data. This    \u001b[2m           \u001b[0m\n",
       "\u001b[2;36m                    \u001b[0m         can cause timeouts and instability.                                        \u001b[2m           \u001b[0m\n"
      ]
     },
     "metadata": {},
     "output_type": "display_data"
    },
    {
     "data": {
      "text/html": [
       "<pre style=\"white-space:pre;overflow-x:auto;line-height:normal;font-family:Menlo,'DejaVu Sans Mono',consolas,'Courier New',monospace\"><span style=\"color: #7fbfbf; text-decoration-color: #7fbfbf\">                    </span><span style=\"color: #000080; text-decoration-color: #000080\">INFO    </span> Event loop was unresponsive in Nanny for <span style=\"color: #008080; text-decoration-color: #008080; font-weight: bold\">3.</span>95s.  This is often caused by   <a href=\"file://C:\\Users\\Tahsin\\miniconda3\\envs\\modspy\\lib\\site-packages\\distributed\\core.py\" target=\"_blank\"><span style=\"color: #7f7f7f; text-decoration-color: #7f7f7f\">core.py</span></a><span style=\"color: #7f7f7f; text-decoration-color: #7f7f7f\">:</span><a href=\"file://C:\\Users\\Tahsin\\miniconda3\\envs\\modspy\\lib\\site-packages\\distributed\\core.py#743\" target=\"_blank\"><span style=\"color: #7f7f7f; text-decoration-color: #7f7f7f\">743</span></a>\n",
       "<span style=\"color: #7fbfbf; text-decoration-color: #7fbfbf\">                    </span>         long-running GIL-holding functions or moving large chunks of data. This    <span style=\"color: #7f7f7f; text-decoration-color: #7f7f7f\">           </span>\n",
       "<span style=\"color: #7fbfbf; text-decoration-color: #7fbfbf\">                    </span>         can cause timeouts and instability.                                        <span style=\"color: #7f7f7f; text-decoration-color: #7f7f7f\">           </span>\n",
       "</pre>\n"
      ],
      "text/plain": [
       "\u001b[2;36m                   \u001b[0m\u001b[2;36m \u001b[0m\u001b[34mINFO    \u001b[0m Event loop was unresponsive in Nanny for \u001b[1;36m3.\u001b[0m95s.  This is often caused by   \u001b]8;id=299518;file://C:\\Users\\Tahsin\\miniconda3\\envs\\modspy\\lib\\site-packages\\distributed\\core.py\u001b\\\u001b[2mcore.py\u001b[0m\u001b]8;;\u001b\\\u001b[2m:\u001b[0m\u001b]8;id=872329;file://C:\\Users\\Tahsin\\miniconda3\\envs\\modspy\\lib\\site-packages\\distributed\\core.py#743\u001b\\\u001b[2m743\u001b[0m\u001b]8;;\u001b\\\n",
       "\u001b[2;36m                    \u001b[0m         long-running GIL-holding functions or moving large chunks of data. This    \u001b[2m           \u001b[0m\n",
       "\u001b[2;36m                    \u001b[0m         can cause timeouts and instability.                                        \u001b[2m           \u001b[0m\n"
      ]
     },
     "metadata": {},
     "output_type": "display_data"
    },
    {
     "data": {
      "text/html": [
       "<pre style=\"white-space:pre;overflow-x:auto;line-height:normal;font-family:Menlo,'DejaVu Sans Mono',consolas,'Courier New',monospace\"><span style=\"color: #7fbfbf; text-decoration-color: #7fbfbf\">                    </span><span style=\"color: #000080; text-decoration-color: #000080\">INFO    </span> Event loop was unresponsive in Nanny for <span style=\"color: #008080; text-decoration-color: #008080; font-weight: bold\">3.</span>96s.  This is often caused by   <a href=\"file://C:\\Users\\Tahsin\\miniconda3\\envs\\modspy\\lib\\site-packages\\distributed\\core.py\" target=\"_blank\"><span style=\"color: #7f7f7f; text-decoration-color: #7f7f7f\">core.py</span></a><span style=\"color: #7f7f7f; text-decoration-color: #7f7f7f\">:</span><a href=\"file://C:\\Users\\Tahsin\\miniconda3\\envs\\modspy\\lib\\site-packages\\distributed\\core.py#743\" target=\"_blank\"><span style=\"color: #7f7f7f; text-decoration-color: #7f7f7f\">743</span></a>\n",
       "<span style=\"color: #7fbfbf; text-decoration-color: #7fbfbf\">                    </span>         long-running GIL-holding functions or moving large chunks of data. This    <span style=\"color: #7f7f7f; text-decoration-color: #7f7f7f\">           </span>\n",
       "<span style=\"color: #7fbfbf; text-decoration-color: #7fbfbf\">                    </span>         can cause timeouts and instability.                                        <span style=\"color: #7f7f7f; text-decoration-color: #7f7f7f\">           </span>\n",
       "</pre>\n"
      ],
      "text/plain": [
       "\u001b[2;36m                   \u001b[0m\u001b[2;36m \u001b[0m\u001b[34mINFO    \u001b[0m Event loop was unresponsive in Nanny for \u001b[1;36m3.\u001b[0m96s.  This is often caused by   \u001b]8;id=433381;file://C:\\Users\\Tahsin\\miniconda3\\envs\\modspy\\lib\\site-packages\\distributed\\core.py\u001b\\\u001b[2mcore.py\u001b[0m\u001b]8;;\u001b\\\u001b[2m:\u001b[0m\u001b]8;id=247715;file://C:\\Users\\Tahsin\\miniconda3\\envs\\modspy\\lib\\site-packages\\distributed\\core.py#743\u001b\\\u001b[2m743\u001b[0m\u001b]8;;\u001b\\\n",
       "\u001b[2;36m                    \u001b[0m         long-running GIL-holding functions or moving large chunks of data. This    \u001b[2m           \u001b[0m\n",
       "\u001b[2;36m                    \u001b[0m         can cause timeouts and instability.                                        \u001b[2m           \u001b[0m\n"
      ]
     },
     "metadata": {},
     "output_type": "display_data"
    },
    {
     "data": {
      "text/html": [
       "<pre style=\"white-space:pre;overflow-x:auto;line-height:normal;font-family:Menlo,'DejaVu Sans Mono',consolas,'Courier New',monospace\"><span style=\"color: #7fbfbf; text-decoration-color: #7fbfbf\">[01/19/24 00:49:12] </span><span style=\"color: #000080; text-decoration-color: #000080\">INFO    </span> Event loop was unresponsive in Scheduler for <span style=\"color: #008080; text-decoration-color: #008080; font-weight: bold\">3.</span>11s.  This is often caused  <a href=\"file://C:\\Users\\Tahsin\\miniconda3\\envs\\modspy\\lib\\site-packages\\distributed\\core.py\" target=\"_blank\"><span style=\"color: #7f7f7f; text-decoration-color: #7f7f7f\">core.py</span></a><span style=\"color: #7f7f7f; text-decoration-color: #7f7f7f\">:</span><a href=\"file://C:\\Users\\Tahsin\\miniconda3\\envs\\modspy\\lib\\site-packages\\distributed\\core.py#743\" target=\"_blank\"><span style=\"color: #7f7f7f; text-decoration-color: #7f7f7f\">743</span></a>\n",
       "<span style=\"color: #7fbfbf; text-decoration-color: #7fbfbf\">                    </span>         by long-running GIL-holding functions or moving large chunks of data. This <span style=\"color: #7f7f7f; text-decoration-color: #7f7f7f\">           </span>\n",
       "<span style=\"color: #7fbfbf; text-decoration-color: #7fbfbf\">                    </span>         can cause timeouts and instability.                                        <span style=\"color: #7f7f7f; text-decoration-color: #7f7f7f\">           </span>\n",
       "</pre>\n"
      ],
      "text/plain": [
       "\u001b[2;36m[01/19/24 00:49:12]\u001b[0m\u001b[2;36m \u001b[0m\u001b[34mINFO    \u001b[0m Event loop was unresponsive in Scheduler for \u001b[1;36m3.\u001b[0m11s.  This is often caused  \u001b]8;id=995998;file://C:\\Users\\Tahsin\\miniconda3\\envs\\modspy\\lib\\site-packages\\distributed\\core.py\u001b\\\u001b[2mcore.py\u001b[0m\u001b]8;;\u001b\\\u001b[2m:\u001b[0m\u001b]8;id=207220;file://C:\\Users\\Tahsin\\miniconda3\\envs\\modspy\\lib\\site-packages\\distributed\\core.py#743\u001b\\\u001b[2m743\u001b[0m\u001b]8;;\u001b\\\n",
       "\u001b[2;36m                    \u001b[0m         by long-running GIL-holding functions or moving large chunks of data. This \u001b[2m           \u001b[0m\n",
       "\u001b[2;36m                    \u001b[0m         can cause timeouts and instability.                                        \u001b[2m           \u001b[0m\n"
      ]
     },
     "metadata": {},
     "output_type": "display_data"
    },
    {
     "data": {
      "text/html": [
       "<pre style=\"white-space:pre;overflow-x:auto;line-height:normal;font-family:Menlo,'DejaVu Sans Mono',consolas,'Courier New',monospace\"><span style=\"color: #7fbfbf; text-decoration-color: #7fbfbf\">                    </span><span style=\"color: #000080; text-decoration-color: #000080\">INFO    </span> Event loop was unresponsive in Nanny for <span style=\"color: #008080; text-decoration-color: #008080; font-weight: bold\">3.</span>12s.  This is often caused by   <a href=\"file://C:\\Users\\Tahsin\\miniconda3\\envs\\modspy\\lib\\site-packages\\distributed\\core.py\" target=\"_blank\"><span style=\"color: #7f7f7f; text-decoration-color: #7f7f7f\">core.py</span></a><span style=\"color: #7f7f7f; text-decoration-color: #7f7f7f\">:</span><a href=\"file://C:\\Users\\Tahsin\\miniconda3\\envs\\modspy\\lib\\site-packages\\distributed\\core.py#743\" target=\"_blank\"><span style=\"color: #7f7f7f; text-decoration-color: #7f7f7f\">743</span></a>\n",
       "<span style=\"color: #7fbfbf; text-decoration-color: #7fbfbf\">                    </span>         long-running GIL-holding functions or moving large chunks of data. This    <span style=\"color: #7f7f7f; text-decoration-color: #7f7f7f\">           </span>\n",
       "<span style=\"color: #7fbfbf; text-decoration-color: #7fbfbf\">                    </span>         can cause timeouts and instability.                                        <span style=\"color: #7f7f7f; text-decoration-color: #7f7f7f\">           </span>\n",
       "</pre>\n"
      ],
      "text/plain": [
       "\u001b[2;36m                   \u001b[0m\u001b[2;36m \u001b[0m\u001b[34mINFO    \u001b[0m Event loop was unresponsive in Nanny for \u001b[1;36m3.\u001b[0m12s.  This is often caused by   \u001b]8;id=271745;file://C:\\Users\\Tahsin\\miniconda3\\envs\\modspy\\lib\\site-packages\\distributed\\core.py\u001b\\\u001b[2mcore.py\u001b[0m\u001b]8;;\u001b\\\u001b[2m:\u001b[0m\u001b]8;id=481274;file://C:\\Users\\Tahsin\\miniconda3\\envs\\modspy\\lib\\site-packages\\distributed\\core.py#743\u001b\\\u001b[2m743\u001b[0m\u001b]8;;\u001b\\\n",
       "\u001b[2;36m                    \u001b[0m         long-running GIL-holding functions or moving large chunks of data. This    \u001b[2m           \u001b[0m\n",
       "\u001b[2;36m                    \u001b[0m         can cause timeouts and instability.                                        \u001b[2m           \u001b[0m\n"
      ]
     },
     "metadata": {},
     "output_type": "display_data"
    },
    {
     "data": {
      "text/html": [
       "<pre style=\"white-space:pre;overflow-x:auto;line-height:normal;font-family:Menlo,'DejaVu Sans Mono',consolas,'Courier New',monospace\"><span style=\"color: #7fbfbf; text-decoration-color: #7fbfbf\">                    </span><span style=\"color: #000080; text-decoration-color: #000080\">INFO    </span> Event loop was unresponsive in Nanny for <span style=\"color: #008080; text-decoration-color: #008080; font-weight: bold\">3.</span>06s.  This is often caused by   <a href=\"file://C:\\Users\\Tahsin\\miniconda3\\envs\\modspy\\lib\\site-packages\\distributed\\core.py\" target=\"_blank\"><span style=\"color: #7f7f7f; text-decoration-color: #7f7f7f\">core.py</span></a><span style=\"color: #7f7f7f; text-decoration-color: #7f7f7f\">:</span><a href=\"file://C:\\Users\\Tahsin\\miniconda3\\envs\\modspy\\lib\\site-packages\\distributed\\core.py#743\" target=\"_blank\"><span style=\"color: #7f7f7f; text-decoration-color: #7f7f7f\">743</span></a>\n",
       "<span style=\"color: #7fbfbf; text-decoration-color: #7fbfbf\">                    </span>         long-running GIL-holding functions or moving large chunks of data. This    <span style=\"color: #7f7f7f; text-decoration-color: #7f7f7f\">           </span>\n",
       "<span style=\"color: #7fbfbf; text-decoration-color: #7fbfbf\">                    </span>         can cause timeouts and instability.                                        <span style=\"color: #7f7f7f; text-decoration-color: #7f7f7f\">           </span>\n",
       "</pre>\n"
      ],
      "text/plain": [
       "\u001b[2;36m                   \u001b[0m\u001b[2;36m \u001b[0m\u001b[34mINFO    \u001b[0m Event loop was unresponsive in Nanny for \u001b[1;36m3.\u001b[0m06s.  This is often caused by   \u001b]8;id=113859;file://C:\\Users\\Tahsin\\miniconda3\\envs\\modspy\\lib\\site-packages\\distributed\\core.py\u001b\\\u001b[2mcore.py\u001b[0m\u001b]8;;\u001b\\\u001b[2m:\u001b[0m\u001b]8;id=126761;file://C:\\Users\\Tahsin\\miniconda3\\envs\\modspy\\lib\\site-packages\\distributed\\core.py#743\u001b\\\u001b[2m743\u001b[0m\u001b]8;;\u001b\\\n",
       "\u001b[2;36m                    \u001b[0m         long-running GIL-holding functions or moving large chunks of data. This    \u001b[2m           \u001b[0m\n",
       "\u001b[2;36m                    \u001b[0m         can cause timeouts and instability.                                        \u001b[2m           \u001b[0m\n"
      ]
     },
     "metadata": {},
     "output_type": "display_data"
    },
    {
     "data": {
      "text/html": [
       "<pre style=\"white-space:pre;overflow-x:auto;line-height:normal;font-family:Menlo,'DejaVu Sans Mono',consolas,'Courier New',monospace\"><span style=\"color: #7fbfbf; text-decoration-color: #7fbfbf\">                    </span><span style=\"color: #000080; text-decoration-color: #000080\">INFO    </span> Event loop was unresponsive in Nanny for <span style=\"color: #008080; text-decoration-color: #008080; font-weight: bold\">3.</span>07s.  This is often caused by   <a href=\"file://C:\\Users\\Tahsin\\miniconda3\\envs\\modspy\\lib\\site-packages\\distributed\\core.py\" target=\"_blank\"><span style=\"color: #7f7f7f; text-decoration-color: #7f7f7f\">core.py</span></a><span style=\"color: #7f7f7f; text-decoration-color: #7f7f7f\">:</span><a href=\"file://C:\\Users\\Tahsin\\miniconda3\\envs\\modspy\\lib\\site-packages\\distributed\\core.py#743\" target=\"_blank\"><span style=\"color: #7f7f7f; text-decoration-color: #7f7f7f\">743</span></a>\n",
       "<span style=\"color: #7fbfbf; text-decoration-color: #7fbfbf\">                    </span>         long-running GIL-holding functions or moving large chunks of data. This    <span style=\"color: #7f7f7f; text-decoration-color: #7f7f7f\">           </span>\n",
       "<span style=\"color: #7fbfbf; text-decoration-color: #7fbfbf\">                    </span>         can cause timeouts and instability.                                        <span style=\"color: #7f7f7f; text-decoration-color: #7f7f7f\">           </span>\n",
       "</pre>\n"
      ],
      "text/plain": [
       "\u001b[2;36m                   \u001b[0m\u001b[2;36m \u001b[0m\u001b[34mINFO    \u001b[0m Event loop was unresponsive in Nanny for \u001b[1;36m3.\u001b[0m07s.  This is often caused by   \u001b]8;id=662028;file://C:\\Users\\Tahsin\\miniconda3\\envs\\modspy\\lib\\site-packages\\distributed\\core.py\u001b\\\u001b[2mcore.py\u001b[0m\u001b]8;;\u001b\\\u001b[2m:\u001b[0m\u001b]8;id=644291;file://C:\\Users\\Tahsin\\miniconda3\\envs\\modspy\\lib\\site-packages\\distributed\\core.py#743\u001b\\\u001b[2m743\u001b[0m\u001b]8;;\u001b\\\n",
       "\u001b[2;36m                    \u001b[0m         long-running GIL-holding functions or moving large chunks of data. This    \u001b[2m           \u001b[0m\n",
       "\u001b[2;36m                    \u001b[0m         can cause timeouts and instability.                                        \u001b[2m           \u001b[0m\n"
      ]
     },
     "metadata": {},
     "output_type": "display_data"
    },
    {
     "data": {
      "text/html": [
       "<pre style=\"white-space:pre;overflow-x:auto;line-height:normal;font-family:Menlo,'DejaVu Sans Mono',consolas,'Courier New',monospace\"><span style=\"color: #7fbfbf; text-decoration-color: #7fbfbf\">                    </span><span style=\"color: #000080; text-decoration-color: #000080\">INFO    </span> Event loop was unresponsive in Nanny for <span style=\"color: #008080; text-decoration-color: #008080; font-weight: bold\">3.</span>07s.  This is often caused by   <a href=\"file://C:\\Users\\Tahsin\\miniconda3\\envs\\modspy\\lib\\site-packages\\distributed\\core.py\" target=\"_blank\"><span style=\"color: #7f7f7f; text-decoration-color: #7f7f7f\">core.py</span></a><span style=\"color: #7f7f7f; text-decoration-color: #7f7f7f\">:</span><a href=\"file://C:\\Users\\Tahsin\\miniconda3\\envs\\modspy\\lib\\site-packages\\distributed\\core.py#743\" target=\"_blank\"><span style=\"color: #7f7f7f; text-decoration-color: #7f7f7f\">743</span></a>\n",
       "<span style=\"color: #7fbfbf; text-decoration-color: #7fbfbf\">                    </span>         long-running GIL-holding functions or moving large chunks of data. This    <span style=\"color: #7f7f7f; text-decoration-color: #7f7f7f\">           </span>\n",
       "<span style=\"color: #7fbfbf; text-decoration-color: #7fbfbf\">                    </span>         can cause timeouts and instability.                                        <span style=\"color: #7f7f7f; text-decoration-color: #7f7f7f\">           </span>\n",
       "</pre>\n"
      ],
      "text/plain": [
       "\u001b[2;36m                   \u001b[0m\u001b[2;36m \u001b[0m\u001b[34mINFO    \u001b[0m Event loop was unresponsive in Nanny for \u001b[1;36m3.\u001b[0m07s.  This is often caused by   \u001b]8;id=957414;file://C:\\Users\\Tahsin\\miniconda3\\envs\\modspy\\lib\\site-packages\\distributed\\core.py\u001b\\\u001b[2mcore.py\u001b[0m\u001b]8;;\u001b\\\u001b[2m:\u001b[0m\u001b]8;id=625329;file://C:\\Users\\Tahsin\\miniconda3\\envs\\modspy\\lib\\site-packages\\distributed\\core.py#743\u001b\\\u001b[2m743\u001b[0m\u001b]8;;\u001b\\\n",
       "\u001b[2;36m                    \u001b[0m         long-running GIL-holding functions or moving large chunks of data. This    \u001b[2m           \u001b[0m\n",
       "\u001b[2;36m                    \u001b[0m         can cause timeouts and instability.                                        \u001b[2m           \u001b[0m\n"
      ]
     },
     "metadata": {},
     "output_type": "display_data"
    },
    {
     "data": {
      "text/html": [
       "<pre style=\"white-space:pre;overflow-x:auto;line-height:normal;font-family:Menlo,'DejaVu Sans Mono',consolas,'Courier New',monospace\"><span style=\"color: #7fbfbf; text-decoration-color: #7fbfbf\">[01/19/24 00:49:18] </span><span style=\"color: #000080; text-decoration-color: #000080\">INFO    </span> Event loop was unresponsive in Nanny for <span style=\"color: #008080; text-decoration-color: #008080; font-weight: bold\">3.</span>03s.  This is often caused by   <a href=\"file://C:\\Users\\Tahsin\\miniconda3\\envs\\modspy\\lib\\site-packages\\distributed\\core.py\" target=\"_blank\"><span style=\"color: #7f7f7f; text-decoration-color: #7f7f7f\">core.py</span></a><span style=\"color: #7f7f7f; text-decoration-color: #7f7f7f\">:</span><a href=\"file://C:\\Users\\Tahsin\\miniconda3\\envs\\modspy\\lib\\site-packages\\distributed\\core.py#743\" target=\"_blank\"><span style=\"color: #7f7f7f; text-decoration-color: #7f7f7f\">743</span></a>\n",
       "<span style=\"color: #7fbfbf; text-decoration-color: #7fbfbf\">                    </span>         long-running GIL-holding functions or moving large chunks of data. This    <span style=\"color: #7f7f7f; text-decoration-color: #7f7f7f\">           </span>\n",
       "<span style=\"color: #7fbfbf; text-decoration-color: #7fbfbf\">                    </span>         can cause timeouts and instability.                                        <span style=\"color: #7f7f7f; text-decoration-color: #7f7f7f\">           </span>\n",
       "</pre>\n"
      ],
      "text/plain": [
       "\u001b[2;36m[01/19/24 00:49:18]\u001b[0m\u001b[2;36m \u001b[0m\u001b[34mINFO    \u001b[0m Event loop was unresponsive in Nanny for \u001b[1;36m3.\u001b[0m03s.  This is often caused by   \u001b]8;id=864432;file://C:\\Users\\Tahsin\\miniconda3\\envs\\modspy\\lib\\site-packages\\distributed\\core.py\u001b\\\u001b[2mcore.py\u001b[0m\u001b]8;;\u001b\\\u001b[2m:\u001b[0m\u001b]8;id=588130;file://C:\\Users\\Tahsin\\miniconda3\\envs\\modspy\\lib\\site-packages\\distributed\\core.py#743\u001b\\\u001b[2m743\u001b[0m\u001b]8;;\u001b\\\n",
       "\u001b[2;36m                    \u001b[0m         long-running GIL-holding functions or moving large chunks of data. This    \u001b[2m           \u001b[0m\n",
       "\u001b[2;36m                    \u001b[0m         can cause timeouts and instability.                                        \u001b[2m           \u001b[0m\n"
      ]
     },
     "metadata": {},
     "output_type": "display_data"
    },
    {
     "data": {
      "text/html": [
       "<pre style=\"white-space:pre;overflow-x:auto;line-height:normal;font-family:Menlo,'DejaVu Sans Mono',consolas,'Courier New',monospace\"><span style=\"color: #7fbfbf; text-decoration-color: #7fbfbf\">                    </span><span style=\"color: #000080; text-decoration-color: #000080\">INFO    </span> Event loop was unresponsive in Nanny for <span style=\"color: #008080; text-decoration-color: #008080; font-weight: bold\">3.</span>04s.  This is often caused by   <a href=\"file://C:\\Users\\Tahsin\\miniconda3\\envs\\modspy\\lib\\site-packages\\distributed\\core.py\" target=\"_blank\"><span style=\"color: #7f7f7f; text-decoration-color: #7f7f7f\">core.py</span></a><span style=\"color: #7f7f7f; text-decoration-color: #7f7f7f\">:</span><a href=\"file://C:\\Users\\Tahsin\\miniconda3\\envs\\modspy\\lib\\site-packages\\distributed\\core.py#743\" target=\"_blank\"><span style=\"color: #7f7f7f; text-decoration-color: #7f7f7f\">743</span></a>\n",
       "<span style=\"color: #7fbfbf; text-decoration-color: #7fbfbf\">                    </span>         long-running GIL-holding functions or moving large chunks of data. This    <span style=\"color: #7f7f7f; text-decoration-color: #7f7f7f\">           </span>\n",
       "<span style=\"color: #7fbfbf; text-decoration-color: #7fbfbf\">                    </span>         can cause timeouts and instability.                                        <span style=\"color: #7f7f7f; text-decoration-color: #7f7f7f\">           </span>\n",
       "</pre>\n"
      ],
      "text/plain": [
       "\u001b[2;36m                   \u001b[0m\u001b[2;36m \u001b[0m\u001b[34mINFO    \u001b[0m Event loop was unresponsive in Nanny for \u001b[1;36m3.\u001b[0m04s.  This is often caused by   \u001b]8;id=470046;file://C:\\Users\\Tahsin\\miniconda3\\envs\\modspy\\lib\\site-packages\\distributed\\core.py\u001b\\\u001b[2mcore.py\u001b[0m\u001b]8;;\u001b\\\u001b[2m:\u001b[0m\u001b]8;id=533072;file://C:\\Users\\Tahsin\\miniconda3\\envs\\modspy\\lib\\site-packages\\distributed\\core.py#743\u001b\\\u001b[2m743\u001b[0m\u001b]8;;\u001b\\\n",
       "\u001b[2;36m                    \u001b[0m         long-running GIL-holding functions or moving large chunks of data. This    \u001b[2m           \u001b[0m\n",
       "\u001b[2;36m                    \u001b[0m         can cause timeouts and instability.                                        \u001b[2m           \u001b[0m\n"
      ]
     },
     "metadata": {},
     "output_type": "display_data"
    },
    {
     "data": {
      "text/html": [
       "<pre style=\"white-space:pre;overflow-x:auto;line-height:normal;font-family:Menlo,'DejaVu Sans Mono',consolas,'Courier New',monospace\"><span style=\"color: #7fbfbf; text-decoration-color: #7fbfbf\">                    </span><span style=\"color: #000080; text-decoration-color: #000080\">INFO    </span> Event loop was unresponsive in Nanny for <span style=\"color: #008080; text-decoration-color: #008080; font-weight: bold\">3.</span>05s.  This is often caused by   <a href=\"file://C:\\Users\\Tahsin\\miniconda3\\envs\\modspy\\lib\\site-packages\\distributed\\core.py\" target=\"_blank\"><span style=\"color: #7f7f7f; text-decoration-color: #7f7f7f\">core.py</span></a><span style=\"color: #7f7f7f; text-decoration-color: #7f7f7f\">:</span><a href=\"file://C:\\Users\\Tahsin\\miniconda3\\envs\\modspy\\lib\\site-packages\\distributed\\core.py#743\" target=\"_blank\"><span style=\"color: #7f7f7f; text-decoration-color: #7f7f7f\">743</span></a>\n",
       "<span style=\"color: #7fbfbf; text-decoration-color: #7fbfbf\">                    </span>         long-running GIL-holding functions or moving large chunks of data. This    <span style=\"color: #7f7f7f; text-decoration-color: #7f7f7f\">           </span>\n",
       "<span style=\"color: #7fbfbf; text-decoration-color: #7fbfbf\">                    </span>         can cause timeouts and instability.                                        <span style=\"color: #7f7f7f; text-decoration-color: #7f7f7f\">           </span>\n",
       "</pre>\n"
      ],
      "text/plain": [
       "\u001b[2;36m                   \u001b[0m\u001b[2;36m \u001b[0m\u001b[34mINFO    \u001b[0m Event loop was unresponsive in Nanny for \u001b[1;36m3.\u001b[0m05s.  This is often caused by   \u001b]8;id=986687;file://C:\\Users\\Tahsin\\miniconda3\\envs\\modspy\\lib\\site-packages\\distributed\\core.py\u001b\\\u001b[2mcore.py\u001b[0m\u001b]8;;\u001b\\\u001b[2m:\u001b[0m\u001b]8;id=527449;file://C:\\Users\\Tahsin\\miniconda3\\envs\\modspy\\lib\\site-packages\\distributed\\core.py#743\u001b\\\u001b[2m743\u001b[0m\u001b]8;;\u001b\\\n",
       "\u001b[2;36m                    \u001b[0m         long-running GIL-holding functions or moving large chunks of data. This    \u001b[2m           \u001b[0m\n",
       "\u001b[2;36m                    \u001b[0m         can cause timeouts and instability.                                        \u001b[2m           \u001b[0m\n"
      ]
     },
     "metadata": {},
     "output_type": "display_data"
    },
    {
     "data": {
      "text/html": [
       "<pre style=\"white-space:pre;overflow-x:auto;line-height:normal;font-family:Menlo,'DejaVu Sans Mono',consolas,'Courier New',monospace\"><span style=\"color: #7fbfbf; text-decoration-color: #7fbfbf\">                    </span><span style=\"color: #000080; text-decoration-color: #000080\">INFO    </span> Event loop was unresponsive in Scheduler for <span style=\"color: #008080; text-decoration-color: #008080; font-weight: bold\">3.</span>10s.  This is often caused  <a href=\"file://C:\\Users\\Tahsin\\miniconda3\\envs\\modspy\\lib\\site-packages\\distributed\\core.py\" target=\"_blank\"><span style=\"color: #7f7f7f; text-decoration-color: #7f7f7f\">core.py</span></a><span style=\"color: #7f7f7f; text-decoration-color: #7f7f7f\">:</span><a href=\"file://C:\\Users\\Tahsin\\miniconda3\\envs\\modspy\\lib\\site-packages\\distributed\\core.py#743\" target=\"_blank\"><span style=\"color: #7f7f7f; text-decoration-color: #7f7f7f\">743</span></a>\n",
       "<span style=\"color: #7fbfbf; text-decoration-color: #7fbfbf\">                    </span>         by long-running GIL-holding functions or moving large chunks of data. This <span style=\"color: #7f7f7f; text-decoration-color: #7f7f7f\">           </span>\n",
       "<span style=\"color: #7fbfbf; text-decoration-color: #7fbfbf\">                    </span>         can cause timeouts and instability.                                        <span style=\"color: #7f7f7f; text-decoration-color: #7f7f7f\">           </span>\n",
       "</pre>\n"
      ],
      "text/plain": [
       "\u001b[2;36m                   \u001b[0m\u001b[2;36m \u001b[0m\u001b[34mINFO    \u001b[0m Event loop was unresponsive in Scheduler for \u001b[1;36m3.\u001b[0m10s.  This is often caused  \u001b]8;id=376525;file://C:\\Users\\Tahsin\\miniconda3\\envs\\modspy\\lib\\site-packages\\distributed\\core.py\u001b\\\u001b[2mcore.py\u001b[0m\u001b]8;;\u001b\\\u001b[2m:\u001b[0m\u001b]8;id=776712;file://C:\\Users\\Tahsin\\miniconda3\\envs\\modspy\\lib\\site-packages\\distributed\\core.py#743\u001b\\\u001b[2m743\u001b[0m\u001b]8;;\u001b\\\n",
       "\u001b[2;36m                    \u001b[0m         by long-running GIL-holding functions or moving large chunks of data. This \u001b[2m           \u001b[0m\n",
       "\u001b[2;36m                    \u001b[0m         can cause timeouts and instability.                                        \u001b[2m           \u001b[0m\n"
      ]
     },
     "metadata": {},
     "output_type": "display_data"
    },
    {
     "data": {
      "text/html": [
       "<pre style=\"white-space:pre;overflow-x:auto;line-height:normal;font-family:Menlo,'DejaVu Sans Mono',consolas,'Courier New',monospace\"><span style=\"color: #7fbfbf; text-decoration-color: #7fbfbf\">                    </span><span style=\"color: #000080; text-decoration-color: #000080\">INFO    </span> Event loop was unresponsive in Nanny for <span style=\"color: #008080; text-decoration-color: #008080; font-weight: bold\">3.</span>11s.  This is often caused by   <a href=\"file://C:\\Users\\Tahsin\\miniconda3\\envs\\modspy\\lib\\site-packages\\distributed\\core.py\" target=\"_blank\"><span style=\"color: #7f7f7f; text-decoration-color: #7f7f7f\">core.py</span></a><span style=\"color: #7f7f7f; text-decoration-color: #7f7f7f\">:</span><a href=\"file://C:\\Users\\Tahsin\\miniconda3\\envs\\modspy\\lib\\site-packages\\distributed\\core.py#743\" target=\"_blank\"><span style=\"color: #7f7f7f; text-decoration-color: #7f7f7f\">743</span></a>\n",
       "<span style=\"color: #7fbfbf; text-decoration-color: #7fbfbf\">                    </span>         long-running GIL-holding functions or moving large chunks of data. This    <span style=\"color: #7f7f7f; text-decoration-color: #7f7f7f\">           </span>\n",
       "<span style=\"color: #7fbfbf; text-decoration-color: #7fbfbf\">                    </span>         can cause timeouts and instability.                                        <span style=\"color: #7f7f7f; text-decoration-color: #7f7f7f\">           </span>\n",
       "</pre>\n"
      ],
      "text/plain": [
       "\u001b[2;36m                   \u001b[0m\u001b[2;36m \u001b[0m\u001b[34mINFO    \u001b[0m Event loop was unresponsive in Nanny for \u001b[1;36m3.\u001b[0m11s.  This is often caused by   \u001b]8;id=20071;file://C:\\Users\\Tahsin\\miniconda3\\envs\\modspy\\lib\\site-packages\\distributed\\core.py\u001b\\\u001b[2mcore.py\u001b[0m\u001b]8;;\u001b\\\u001b[2m:\u001b[0m\u001b]8;id=67990;file://C:\\Users\\Tahsin\\miniconda3\\envs\\modspy\\lib\\site-packages\\distributed\\core.py#743\u001b\\\u001b[2m743\u001b[0m\u001b]8;;\u001b\\\n",
       "\u001b[2;36m                    \u001b[0m         long-running GIL-holding functions or moving large chunks of data. This    \u001b[2m           \u001b[0m\n",
       "\u001b[2;36m                    \u001b[0m         can cause timeouts and instability.                                        \u001b[2m           \u001b[0m\n"
      ]
     },
     "metadata": {},
     "output_type": "display_data"
    },
    {
     "data": {
      "text/html": [
       "<pre style=\"white-space:pre;overflow-x:auto;line-height:normal;font-family:Menlo,'DejaVu Sans Mono',consolas,'Courier New',monospace\"><span style=\"color: #7fbfbf; text-decoration-color: #7fbfbf\">[01/19/24 00:49:38] </span><span style=\"color: #000080; text-decoration-color: #000080\">INFO    </span> Event loop was unresponsive in Scheduler for <span style=\"color: #008080; text-decoration-color: #008080; font-weight: bold\">4.</span>09s.  This is often caused  <a href=\"file://C:\\Users\\Tahsin\\miniconda3\\envs\\modspy\\lib\\site-packages\\distributed\\core.py\" target=\"_blank\"><span style=\"color: #7f7f7f; text-decoration-color: #7f7f7f\">core.py</span></a><span style=\"color: #7f7f7f; text-decoration-color: #7f7f7f\">:</span><a href=\"file://C:\\Users\\Tahsin\\miniconda3\\envs\\modspy\\lib\\site-packages\\distributed\\core.py#743\" target=\"_blank\"><span style=\"color: #7f7f7f; text-decoration-color: #7f7f7f\">743</span></a>\n",
       "<span style=\"color: #7fbfbf; text-decoration-color: #7fbfbf\">                    </span>         by long-running GIL-holding functions or moving large chunks of data. This <span style=\"color: #7f7f7f; text-decoration-color: #7f7f7f\">           </span>\n",
       "<span style=\"color: #7fbfbf; text-decoration-color: #7fbfbf\">                    </span>         can cause timeouts and instability.                                        <span style=\"color: #7f7f7f; text-decoration-color: #7f7f7f\">           </span>\n",
       "</pre>\n"
      ],
      "text/plain": [
       "\u001b[2;36m[01/19/24 00:49:38]\u001b[0m\u001b[2;36m \u001b[0m\u001b[34mINFO    \u001b[0m Event loop was unresponsive in Scheduler for \u001b[1;36m4.\u001b[0m09s.  This is often caused  \u001b]8;id=557415;file://C:\\Users\\Tahsin\\miniconda3\\envs\\modspy\\lib\\site-packages\\distributed\\core.py\u001b\\\u001b[2mcore.py\u001b[0m\u001b]8;;\u001b\\\u001b[2m:\u001b[0m\u001b]8;id=615671;file://C:\\Users\\Tahsin\\miniconda3\\envs\\modspy\\lib\\site-packages\\distributed\\core.py#743\u001b\\\u001b[2m743\u001b[0m\u001b]8;;\u001b\\\n",
       "\u001b[2;36m                    \u001b[0m         by long-running GIL-holding functions or moving large chunks of data. This \u001b[2m           \u001b[0m\n",
       "\u001b[2;36m                    \u001b[0m         can cause timeouts and instability.                                        \u001b[2m           \u001b[0m\n"
      ]
     },
     "metadata": {},
     "output_type": "display_data"
    },
    {
     "data": {
      "text/html": [
       "<pre style=\"white-space:pre;overflow-x:auto;line-height:normal;font-family:Menlo,'DejaVu Sans Mono',consolas,'Courier New',monospace\"><span style=\"color: #7fbfbf; text-decoration-color: #7fbfbf\">                    </span><span style=\"color: #000080; text-decoration-color: #000080\">INFO    </span> Event loop was unresponsive in Nanny for <span style=\"color: #008080; text-decoration-color: #008080; font-weight: bold\">4.</span>12s.  This is often caused by   <a href=\"file://C:\\Users\\Tahsin\\miniconda3\\envs\\modspy\\lib\\site-packages\\distributed\\core.py\" target=\"_blank\"><span style=\"color: #7f7f7f; text-decoration-color: #7f7f7f\">core.py</span></a><span style=\"color: #7f7f7f; text-decoration-color: #7f7f7f\">:</span><a href=\"file://C:\\Users\\Tahsin\\miniconda3\\envs\\modspy\\lib\\site-packages\\distributed\\core.py#743\" target=\"_blank\"><span style=\"color: #7f7f7f; text-decoration-color: #7f7f7f\">743</span></a>\n",
       "<span style=\"color: #7fbfbf; text-decoration-color: #7fbfbf\">                    </span>         long-running GIL-holding functions or moving large chunks of data. This    <span style=\"color: #7f7f7f; text-decoration-color: #7f7f7f\">           </span>\n",
       "<span style=\"color: #7fbfbf; text-decoration-color: #7fbfbf\">                    </span>         can cause timeouts and instability.                                        <span style=\"color: #7f7f7f; text-decoration-color: #7f7f7f\">           </span>\n",
       "</pre>\n"
      ],
      "text/plain": [
       "\u001b[2;36m                   \u001b[0m\u001b[2;36m \u001b[0m\u001b[34mINFO    \u001b[0m Event loop was unresponsive in Nanny for \u001b[1;36m4.\u001b[0m12s.  This is often caused by   \u001b]8;id=78515;file://C:\\Users\\Tahsin\\miniconda3\\envs\\modspy\\lib\\site-packages\\distributed\\core.py\u001b\\\u001b[2mcore.py\u001b[0m\u001b]8;;\u001b\\\u001b[2m:\u001b[0m\u001b]8;id=485451;file://C:\\Users\\Tahsin\\miniconda3\\envs\\modspy\\lib\\site-packages\\distributed\\core.py#743\u001b\\\u001b[2m743\u001b[0m\u001b]8;;\u001b\\\n",
       "\u001b[2;36m                    \u001b[0m         long-running GIL-holding functions or moving large chunks of data. This    \u001b[2m           \u001b[0m\n",
       "\u001b[2;36m                    \u001b[0m         can cause timeouts and instability.                                        \u001b[2m           \u001b[0m\n"
      ]
     },
     "metadata": {},
     "output_type": "display_data"
    },
    {
     "data": {
      "text/html": [
       "<pre style=\"white-space:pre;overflow-x:auto;line-height:normal;font-family:Menlo,'DejaVu Sans Mono',consolas,'Courier New',monospace\"><span style=\"color: #7fbfbf; text-decoration-color: #7fbfbf\">                    </span><span style=\"color: #000080; text-decoration-color: #000080\">INFO    </span> Event loop was unresponsive in Nanny for <span style=\"color: #008080; text-decoration-color: #008080; font-weight: bold\">4.</span>13s.  This is often caused by   <a href=\"file://C:\\Users\\Tahsin\\miniconda3\\envs\\modspy\\lib\\site-packages\\distributed\\core.py\" target=\"_blank\"><span style=\"color: #7f7f7f; text-decoration-color: #7f7f7f\">core.py</span></a><span style=\"color: #7f7f7f; text-decoration-color: #7f7f7f\">:</span><a href=\"file://C:\\Users\\Tahsin\\miniconda3\\envs\\modspy\\lib\\site-packages\\distributed\\core.py#743\" target=\"_blank\"><span style=\"color: #7f7f7f; text-decoration-color: #7f7f7f\">743</span></a>\n",
       "<span style=\"color: #7fbfbf; text-decoration-color: #7fbfbf\">                    </span>         long-running GIL-holding functions or moving large chunks of data. This    <span style=\"color: #7f7f7f; text-decoration-color: #7f7f7f\">           </span>\n",
       "<span style=\"color: #7fbfbf; text-decoration-color: #7fbfbf\">                    </span>         can cause timeouts and instability.                                        <span style=\"color: #7f7f7f; text-decoration-color: #7f7f7f\">           </span>\n",
       "</pre>\n"
      ],
      "text/plain": [
       "\u001b[2;36m                   \u001b[0m\u001b[2;36m \u001b[0m\u001b[34mINFO    \u001b[0m Event loop was unresponsive in Nanny for \u001b[1;36m4.\u001b[0m13s.  This is often caused by   \u001b]8;id=209257;file://C:\\Users\\Tahsin\\miniconda3\\envs\\modspy\\lib\\site-packages\\distributed\\core.py\u001b\\\u001b[2mcore.py\u001b[0m\u001b]8;;\u001b\\\u001b[2m:\u001b[0m\u001b]8;id=612402;file://C:\\Users\\Tahsin\\miniconda3\\envs\\modspy\\lib\\site-packages\\distributed\\core.py#743\u001b\\\u001b[2m743\u001b[0m\u001b]8;;\u001b\\\n",
       "\u001b[2;36m                    \u001b[0m         long-running GIL-holding functions or moving large chunks of data. This    \u001b[2m           \u001b[0m\n",
       "\u001b[2;36m                    \u001b[0m         can cause timeouts and instability.                                        \u001b[2m           \u001b[0m\n"
      ]
     },
     "metadata": {},
     "output_type": "display_data"
    },
    {
     "data": {
      "text/html": [
       "<pre style=\"white-space:pre;overflow-x:auto;line-height:normal;font-family:Menlo,'DejaVu Sans Mono',consolas,'Courier New',monospace\"><span style=\"color: #7fbfbf; text-decoration-color: #7fbfbf\">                    </span><span style=\"color: #000080; text-decoration-color: #000080\">INFO    </span> Event loop was unresponsive in Nanny for <span style=\"color: #008080; text-decoration-color: #008080; font-weight: bold\">4.</span>06s.  This is often caused by   <a href=\"file://C:\\Users\\Tahsin\\miniconda3\\envs\\modspy\\lib\\site-packages\\distributed\\core.py\" target=\"_blank\"><span style=\"color: #7f7f7f; text-decoration-color: #7f7f7f\">core.py</span></a><span style=\"color: #7f7f7f; text-decoration-color: #7f7f7f\">:</span><a href=\"file://C:\\Users\\Tahsin\\miniconda3\\envs\\modspy\\lib\\site-packages\\distributed\\core.py#743\" target=\"_blank\"><span style=\"color: #7f7f7f; text-decoration-color: #7f7f7f\">743</span></a>\n",
       "<span style=\"color: #7fbfbf; text-decoration-color: #7fbfbf\">                    </span>         long-running GIL-holding functions or moving large chunks of data. This    <span style=\"color: #7f7f7f; text-decoration-color: #7f7f7f\">           </span>\n",
       "<span style=\"color: #7fbfbf; text-decoration-color: #7fbfbf\">                    </span>         can cause timeouts and instability.                                        <span style=\"color: #7f7f7f; text-decoration-color: #7f7f7f\">           </span>\n",
       "</pre>\n"
      ],
      "text/plain": [
       "\u001b[2;36m                   \u001b[0m\u001b[2;36m \u001b[0m\u001b[34mINFO    \u001b[0m Event loop was unresponsive in Nanny for \u001b[1;36m4.\u001b[0m06s.  This is often caused by   \u001b]8;id=543598;file://C:\\Users\\Tahsin\\miniconda3\\envs\\modspy\\lib\\site-packages\\distributed\\core.py\u001b\\\u001b[2mcore.py\u001b[0m\u001b]8;;\u001b\\\u001b[2m:\u001b[0m\u001b]8;id=71803;file://C:\\Users\\Tahsin\\miniconda3\\envs\\modspy\\lib\\site-packages\\distributed\\core.py#743\u001b\\\u001b[2m743\u001b[0m\u001b]8;;\u001b\\\n",
       "\u001b[2;36m                    \u001b[0m         long-running GIL-holding functions or moving large chunks of data. This    \u001b[2m           \u001b[0m\n",
       "\u001b[2;36m                    \u001b[0m         can cause timeouts and instability.                                        \u001b[2m           \u001b[0m\n"
      ]
     },
     "metadata": {},
     "output_type": "display_data"
    },
    {
     "data": {
      "text/html": [
       "<pre style=\"white-space:pre;overflow-x:auto;line-height:normal;font-family:Menlo,'DejaVu Sans Mono',consolas,'Courier New',monospace\"><span style=\"color: #7fbfbf; text-decoration-color: #7fbfbf\">                    </span><span style=\"color: #000080; text-decoration-color: #000080\">INFO    </span> Event loop was unresponsive in Nanny for <span style=\"color: #008080; text-decoration-color: #008080; font-weight: bold\">4.</span>07s.  This is often caused by   <a href=\"file://C:\\Users\\Tahsin\\miniconda3\\envs\\modspy\\lib\\site-packages\\distributed\\core.py\" target=\"_blank\"><span style=\"color: #7f7f7f; text-decoration-color: #7f7f7f\">core.py</span></a><span style=\"color: #7f7f7f; text-decoration-color: #7f7f7f\">:</span><a href=\"file://C:\\Users\\Tahsin\\miniconda3\\envs\\modspy\\lib\\site-packages\\distributed\\core.py#743\" target=\"_blank\"><span style=\"color: #7f7f7f; text-decoration-color: #7f7f7f\">743</span></a>\n",
       "<span style=\"color: #7fbfbf; text-decoration-color: #7fbfbf\">                    </span>         long-running GIL-holding functions or moving large chunks of data. This    <span style=\"color: #7f7f7f; text-decoration-color: #7f7f7f\">           </span>\n",
       "<span style=\"color: #7fbfbf; text-decoration-color: #7fbfbf\">                    </span>         can cause timeouts and instability.                                        <span style=\"color: #7f7f7f; text-decoration-color: #7f7f7f\">           </span>\n",
       "</pre>\n"
      ],
      "text/plain": [
       "\u001b[2;36m                   \u001b[0m\u001b[2;36m \u001b[0m\u001b[34mINFO    \u001b[0m Event loop was unresponsive in Nanny for \u001b[1;36m4.\u001b[0m07s.  This is often caused by   \u001b]8;id=472209;file://C:\\Users\\Tahsin\\miniconda3\\envs\\modspy\\lib\\site-packages\\distributed\\core.py\u001b\\\u001b[2mcore.py\u001b[0m\u001b]8;;\u001b\\\u001b[2m:\u001b[0m\u001b]8;id=682443;file://C:\\Users\\Tahsin\\miniconda3\\envs\\modspy\\lib\\site-packages\\distributed\\core.py#743\u001b\\\u001b[2m743\u001b[0m\u001b]8;;\u001b\\\n",
       "\u001b[2;36m                    \u001b[0m         long-running GIL-holding functions or moving large chunks of data. This    \u001b[2m           \u001b[0m\n",
       "\u001b[2;36m                    \u001b[0m         can cause timeouts and instability.                                        \u001b[2m           \u001b[0m\n"
      ]
     },
     "metadata": {},
     "output_type": "display_data"
    },
    {
     "data": {
      "text/html": [
       "<pre style=\"white-space:pre;overflow-x:auto;line-height:normal;font-family:Menlo,'DejaVu Sans Mono',consolas,'Courier New',monospace\"><span style=\"color: #7fbfbf; text-decoration-color: #7fbfbf\">[01/19/24 00:50:43] </span><span style=\"color: #000080; text-decoration-color: #000080\">INFO    </span> Event loop was unresponsive in Scheduler for <span style=\"color: #008080; text-decoration-color: #008080; font-weight: bold\">4.</span>71s.  This is often caused  <a href=\"file://C:\\Users\\Tahsin\\miniconda3\\envs\\modspy\\lib\\site-packages\\distributed\\core.py\" target=\"_blank\"><span style=\"color: #7f7f7f; text-decoration-color: #7f7f7f\">core.py</span></a><span style=\"color: #7f7f7f; text-decoration-color: #7f7f7f\">:</span><a href=\"file://C:\\Users\\Tahsin\\miniconda3\\envs\\modspy\\lib\\site-packages\\distributed\\core.py#743\" target=\"_blank\"><span style=\"color: #7f7f7f; text-decoration-color: #7f7f7f\">743</span></a>\n",
       "<span style=\"color: #7fbfbf; text-decoration-color: #7fbfbf\">                    </span>         by long-running GIL-holding functions or moving large chunks of data. This <span style=\"color: #7f7f7f; text-decoration-color: #7f7f7f\">           </span>\n",
       "<span style=\"color: #7fbfbf; text-decoration-color: #7fbfbf\">                    </span>         can cause timeouts and instability.                                        <span style=\"color: #7f7f7f; text-decoration-color: #7f7f7f\">           </span>\n",
       "</pre>\n"
      ],
      "text/plain": [
       "\u001b[2;36m[01/19/24 00:50:43]\u001b[0m\u001b[2;36m \u001b[0m\u001b[34mINFO    \u001b[0m Event loop was unresponsive in Scheduler for \u001b[1;36m4.\u001b[0m71s.  This is often caused  \u001b]8;id=772204;file://C:\\Users\\Tahsin\\miniconda3\\envs\\modspy\\lib\\site-packages\\distributed\\core.py\u001b\\\u001b[2mcore.py\u001b[0m\u001b]8;;\u001b\\\u001b[2m:\u001b[0m\u001b]8;id=483023;file://C:\\Users\\Tahsin\\miniconda3\\envs\\modspy\\lib\\site-packages\\distributed\\core.py#743\u001b\\\u001b[2m743\u001b[0m\u001b]8;;\u001b\\\n",
       "\u001b[2;36m                    \u001b[0m         by long-running GIL-holding functions or moving large chunks of data. This \u001b[2m           \u001b[0m\n",
       "\u001b[2;36m                    \u001b[0m         can cause timeouts and instability.                                        \u001b[2m           \u001b[0m\n"
      ]
     },
     "metadata": {},
     "output_type": "display_data"
    },
    {
     "data": {
      "text/html": [
       "<pre style=\"white-space:pre;overflow-x:auto;line-height:normal;font-family:Menlo,'DejaVu Sans Mono',consolas,'Courier New',monospace\"><span style=\"color: #7fbfbf; text-decoration-color: #7fbfbf\">                    </span><span style=\"color: #000080; text-decoration-color: #000080\">INFO    </span> Event loop was unresponsive in Nanny for <span style=\"color: #008080; text-decoration-color: #008080; font-weight: bold\">5.</span>24s.  This is often caused by   <a href=\"file://C:\\Users\\Tahsin\\miniconda3\\envs\\modspy\\lib\\site-packages\\distributed\\core.py\" target=\"_blank\"><span style=\"color: #7f7f7f; text-decoration-color: #7f7f7f\">core.py</span></a><span style=\"color: #7f7f7f; text-decoration-color: #7f7f7f\">:</span><a href=\"file://C:\\Users\\Tahsin\\miniconda3\\envs\\modspy\\lib\\site-packages\\distributed\\core.py#743\" target=\"_blank\"><span style=\"color: #7f7f7f; text-decoration-color: #7f7f7f\">743</span></a>\n",
       "<span style=\"color: #7fbfbf; text-decoration-color: #7fbfbf\">                    </span>         long-running GIL-holding functions or moving large chunks of data. This    <span style=\"color: #7f7f7f; text-decoration-color: #7f7f7f\">           </span>\n",
       "<span style=\"color: #7fbfbf; text-decoration-color: #7fbfbf\">                    </span>         can cause timeouts and instability.                                        <span style=\"color: #7f7f7f; text-decoration-color: #7f7f7f\">           </span>\n",
       "</pre>\n"
      ],
      "text/plain": [
       "\u001b[2;36m                   \u001b[0m\u001b[2;36m \u001b[0m\u001b[34mINFO    \u001b[0m Event loop was unresponsive in Nanny for \u001b[1;36m5.\u001b[0m24s.  This is often caused by   \u001b]8;id=889059;file://C:\\Users\\Tahsin\\miniconda3\\envs\\modspy\\lib\\site-packages\\distributed\\core.py\u001b\\\u001b[2mcore.py\u001b[0m\u001b]8;;\u001b\\\u001b[2m:\u001b[0m\u001b]8;id=546741;file://C:\\Users\\Tahsin\\miniconda3\\envs\\modspy\\lib\\site-packages\\distributed\\core.py#743\u001b\\\u001b[2m743\u001b[0m\u001b]8;;\u001b\\\n",
       "\u001b[2;36m                    \u001b[0m         long-running GIL-holding functions or moving large chunks of data. This    \u001b[2m           \u001b[0m\n",
       "\u001b[2;36m                    \u001b[0m         can cause timeouts and instability.                                        \u001b[2m           \u001b[0m\n"
      ]
     },
     "metadata": {},
     "output_type": "display_data"
    },
    {
     "data": {
      "text/html": [
       "<pre style=\"white-space:pre;overflow-x:auto;line-height:normal;font-family:Menlo,'DejaVu Sans Mono',consolas,'Courier New',monospace\"><span style=\"color: #7fbfbf; text-decoration-color: #7fbfbf\">                    </span><span style=\"color: #000080; text-decoration-color: #000080\">INFO    </span> Event loop was unresponsive in Nanny for <span style=\"color: #008080; text-decoration-color: #008080; font-weight: bold\">5.</span>26s.  This is often caused by   <a href=\"file://C:\\Users\\Tahsin\\miniconda3\\envs\\modspy\\lib\\site-packages\\distributed\\core.py\" target=\"_blank\"><span style=\"color: #7f7f7f; text-decoration-color: #7f7f7f\">core.py</span></a><span style=\"color: #7f7f7f; text-decoration-color: #7f7f7f\">:</span><a href=\"file://C:\\Users\\Tahsin\\miniconda3\\envs\\modspy\\lib\\site-packages\\distributed\\core.py#743\" target=\"_blank\"><span style=\"color: #7f7f7f; text-decoration-color: #7f7f7f\">743</span></a>\n",
       "<span style=\"color: #7fbfbf; text-decoration-color: #7fbfbf\">                    </span>         long-running GIL-holding functions or moving large chunks of data. This    <span style=\"color: #7f7f7f; text-decoration-color: #7f7f7f\">           </span>\n",
       "<span style=\"color: #7fbfbf; text-decoration-color: #7fbfbf\">                    </span>         can cause timeouts and instability.                                        <span style=\"color: #7f7f7f; text-decoration-color: #7f7f7f\">           </span>\n",
       "</pre>\n"
      ],
      "text/plain": [
       "\u001b[2;36m                   \u001b[0m\u001b[2;36m \u001b[0m\u001b[34mINFO    \u001b[0m Event loop was unresponsive in Nanny for \u001b[1;36m5.\u001b[0m26s.  This is often caused by   \u001b]8;id=916577;file://C:\\Users\\Tahsin\\miniconda3\\envs\\modspy\\lib\\site-packages\\distributed\\core.py\u001b\\\u001b[2mcore.py\u001b[0m\u001b]8;;\u001b\\\u001b[2m:\u001b[0m\u001b]8;id=418380;file://C:\\Users\\Tahsin\\miniconda3\\envs\\modspy\\lib\\site-packages\\distributed\\core.py#743\u001b\\\u001b[2m743\u001b[0m\u001b]8;;\u001b\\\n",
       "\u001b[2;36m                    \u001b[0m         long-running GIL-holding functions or moving large chunks of data. This    \u001b[2m           \u001b[0m\n",
       "\u001b[2;36m                    \u001b[0m         can cause timeouts and instability.                                        \u001b[2m           \u001b[0m\n"
      ]
     },
     "metadata": {},
     "output_type": "display_data"
    },
    {
     "data": {
      "text/html": [
       "<pre style=\"white-space:pre;overflow-x:auto;line-height:normal;font-family:Menlo,'DejaVu Sans Mono',consolas,'Courier New',monospace\"><span style=\"color: #7fbfbf; text-decoration-color: #7fbfbf\">                    </span><span style=\"color: #000080; text-decoration-color: #000080\">INFO    </span> Event loop was unresponsive in Nanny for <span style=\"color: #008080; text-decoration-color: #008080; font-weight: bold\">5.</span>28s.  This is often caused by   <a href=\"file://C:\\Users\\Tahsin\\miniconda3\\envs\\modspy\\lib\\site-packages\\distributed\\core.py\" target=\"_blank\"><span style=\"color: #7f7f7f; text-decoration-color: #7f7f7f\">core.py</span></a><span style=\"color: #7f7f7f; text-decoration-color: #7f7f7f\">:</span><a href=\"file://C:\\Users\\Tahsin\\miniconda3\\envs\\modspy\\lib\\site-packages\\distributed\\core.py#743\" target=\"_blank\"><span style=\"color: #7f7f7f; text-decoration-color: #7f7f7f\">743</span></a>\n",
       "<span style=\"color: #7fbfbf; text-decoration-color: #7fbfbf\">                    </span>         long-running GIL-holding functions or moving large chunks of data. This    <span style=\"color: #7f7f7f; text-decoration-color: #7f7f7f\">           </span>\n",
       "<span style=\"color: #7fbfbf; text-decoration-color: #7fbfbf\">                    </span>         can cause timeouts and instability.                                        <span style=\"color: #7f7f7f; text-decoration-color: #7f7f7f\">           </span>\n",
       "</pre>\n"
      ],
      "text/plain": [
       "\u001b[2;36m                   \u001b[0m\u001b[2;36m \u001b[0m\u001b[34mINFO    \u001b[0m Event loop was unresponsive in Nanny for \u001b[1;36m5.\u001b[0m28s.  This is often caused by   \u001b]8;id=605619;file://C:\\Users\\Tahsin\\miniconda3\\envs\\modspy\\lib\\site-packages\\distributed\\core.py\u001b\\\u001b[2mcore.py\u001b[0m\u001b]8;;\u001b\\\u001b[2m:\u001b[0m\u001b]8;id=809178;file://C:\\Users\\Tahsin\\miniconda3\\envs\\modspy\\lib\\site-packages\\distributed\\core.py#743\u001b\\\u001b[2m743\u001b[0m\u001b]8;;\u001b\\\n",
       "\u001b[2;36m                    \u001b[0m         long-running GIL-holding functions or moving large chunks of data. This    \u001b[2m           \u001b[0m\n",
       "\u001b[2;36m                    \u001b[0m         can cause timeouts and instability.                                        \u001b[2m           \u001b[0m\n"
      ]
     },
     "metadata": {},
     "output_type": "display_data"
    },
    {
     "data": {
      "text/html": [
       "<pre style=\"white-space:pre;overflow-x:auto;line-height:normal;font-family:Menlo,'DejaVu Sans Mono',consolas,'Courier New',monospace\"><span style=\"color: #7fbfbf; text-decoration-color: #7fbfbf\">                    </span><span style=\"color: #000080; text-decoration-color: #000080\">INFO    </span> Event loop was unresponsive in Nanny for <span style=\"color: #008080; text-decoration-color: #008080; font-weight: bold\">5.</span>29s.  This is often caused by   <a href=\"file://C:\\Users\\Tahsin\\miniconda3\\envs\\modspy\\lib\\site-packages\\distributed\\core.py\" target=\"_blank\"><span style=\"color: #7f7f7f; text-decoration-color: #7f7f7f\">core.py</span></a><span style=\"color: #7f7f7f; text-decoration-color: #7f7f7f\">:</span><a href=\"file://C:\\Users\\Tahsin\\miniconda3\\envs\\modspy\\lib\\site-packages\\distributed\\core.py#743\" target=\"_blank\"><span style=\"color: #7f7f7f; text-decoration-color: #7f7f7f\">743</span></a>\n",
       "<span style=\"color: #7fbfbf; text-decoration-color: #7fbfbf\">                    </span>         long-running GIL-holding functions or moving large chunks of data. This    <span style=\"color: #7f7f7f; text-decoration-color: #7f7f7f\">           </span>\n",
       "<span style=\"color: #7fbfbf; text-decoration-color: #7fbfbf\">                    </span>         can cause timeouts and instability.                                        <span style=\"color: #7f7f7f; text-decoration-color: #7f7f7f\">           </span>\n",
       "</pre>\n"
      ],
      "text/plain": [
       "\u001b[2;36m                   \u001b[0m\u001b[2;36m \u001b[0m\u001b[34mINFO    \u001b[0m Event loop was unresponsive in Nanny for \u001b[1;36m5.\u001b[0m29s.  This is often caused by   \u001b]8;id=564753;file://C:\\Users\\Tahsin\\miniconda3\\envs\\modspy\\lib\\site-packages\\distributed\\core.py\u001b\\\u001b[2mcore.py\u001b[0m\u001b]8;;\u001b\\\u001b[2m:\u001b[0m\u001b]8;id=520478;file://C:\\Users\\Tahsin\\miniconda3\\envs\\modspy\\lib\\site-packages\\distributed\\core.py#743\u001b\\\u001b[2m743\u001b[0m\u001b]8;;\u001b\\\n",
       "\u001b[2;36m                    \u001b[0m         long-running GIL-holding functions or moving large chunks of data. This    \u001b[2m           \u001b[0m\n",
       "\u001b[2;36m                    \u001b[0m         can cause timeouts and instability.                                        \u001b[2m           \u001b[0m\n"
      ]
     },
     "metadata": {},
     "output_type": "display_data"
    },
    {
     "data": {
      "text/html": [
       "<pre style=\"white-space:pre;overflow-x:auto;line-height:normal;font-family:Menlo,'DejaVu Sans Mono',consolas,'Courier New',monospace\"><span style=\"color: #7fbfbf; text-decoration-color: #7fbfbf\">[01/19/24 00:50:48] </span><span style=\"color: #000080; text-decoration-color: #000080\">INFO    </span> Event loop was unresponsive in Scheduler for <span style=\"color: #008080; text-decoration-color: #008080; font-weight: bold\">4.</span>26s.  This is often caused  <a href=\"file://C:\\Users\\Tahsin\\miniconda3\\envs\\modspy\\lib\\site-packages\\distributed\\core.py\" target=\"_blank\"><span style=\"color: #7f7f7f; text-decoration-color: #7f7f7f\">core.py</span></a><span style=\"color: #7f7f7f; text-decoration-color: #7f7f7f\">:</span><a href=\"file://C:\\Users\\Tahsin\\miniconda3\\envs\\modspy\\lib\\site-packages\\distributed\\core.py#743\" target=\"_blank\"><span style=\"color: #7f7f7f; text-decoration-color: #7f7f7f\">743</span></a>\n",
       "<span style=\"color: #7fbfbf; text-decoration-color: #7fbfbf\">                    </span>         by long-running GIL-holding functions or moving large chunks of data. This <span style=\"color: #7f7f7f; text-decoration-color: #7f7f7f\">           </span>\n",
       "<span style=\"color: #7fbfbf; text-decoration-color: #7fbfbf\">                    </span>         can cause timeouts and instability.                                        <span style=\"color: #7f7f7f; text-decoration-color: #7f7f7f\">           </span>\n",
       "</pre>\n"
      ],
      "text/plain": [
       "\u001b[2;36m[01/19/24 00:50:48]\u001b[0m\u001b[2;36m \u001b[0m\u001b[34mINFO    \u001b[0m Event loop was unresponsive in Scheduler for \u001b[1;36m4.\u001b[0m26s.  This is often caused  \u001b]8;id=600113;file://C:\\Users\\Tahsin\\miniconda3\\envs\\modspy\\lib\\site-packages\\distributed\\core.py\u001b\\\u001b[2mcore.py\u001b[0m\u001b]8;;\u001b\\\u001b[2m:\u001b[0m\u001b]8;id=897091;file://C:\\Users\\Tahsin\\miniconda3\\envs\\modspy\\lib\\site-packages\\distributed\\core.py#743\u001b\\\u001b[2m743\u001b[0m\u001b]8;;\u001b\\\n",
       "\u001b[2;36m                    \u001b[0m         by long-running GIL-holding functions or moving large chunks of data. This \u001b[2m           \u001b[0m\n",
       "\u001b[2;36m                    \u001b[0m         can cause timeouts and instability.                                        \u001b[2m           \u001b[0m\n"
      ]
     },
     "metadata": {},
     "output_type": "display_data"
    },
    {
     "data": {
      "text/html": [
       "<pre style=\"white-space:pre;overflow-x:auto;line-height:normal;font-family:Menlo,'DejaVu Sans Mono',consolas,'Courier New',monospace\"><span style=\"color: #7fbfbf; text-decoration-color: #7fbfbf\">                    </span><span style=\"color: #000080; text-decoration-color: #000080\">INFO    </span> Event loop was unresponsive in Nanny for <span style=\"color: #008080; text-decoration-color: #008080; font-weight: bold\">4.</span>30s.  This is often caused by   <a href=\"file://C:\\Users\\Tahsin\\miniconda3\\envs\\modspy\\lib\\site-packages\\distributed\\core.py\" target=\"_blank\"><span style=\"color: #7f7f7f; text-decoration-color: #7f7f7f\">core.py</span></a><span style=\"color: #7f7f7f; text-decoration-color: #7f7f7f\">:</span><a href=\"file://C:\\Users\\Tahsin\\miniconda3\\envs\\modspy\\lib\\site-packages\\distributed\\core.py#743\" target=\"_blank\"><span style=\"color: #7f7f7f; text-decoration-color: #7f7f7f\">743</span></a>\n",
       "<span style=\"color: #7fbfbf; text-decoration-color: #7fbfbf\">                    </span>         long-running GIL-holding functions or moving large chunks of data. This    <span style=\"color: #7f7f7f; text-decoration-color: #7f7f7f\">           </span>\n",
       "<span style=\"color: #7fbfbf; text-decoration-color: #7fbfbf\">                    </span>         can cause timeouts and instability.                                        <span style=\"color: #7f7f7f; text-decoration-color: #7f7f7f\">           </span>\n",
       "</pre>\n"
      ],
      "text/plain": [
       "\u001b[2;36m                   \u001b[0m\u001b[2;36m \u001b[0m\u001b[34mINFO    \u001b[0m Event loop was unresponsive in Nanny for \u001b[1;36m4.\u001b[0m30s.  This is often caused by   \u001b]8;id=230082;file://C:\\Users\\Tahsin\\miniconda3\\envs\\modspy\\lib\\site-packages\\distributed\\core.py\u001b\\\u001b[2mcore.py\u001b[0m\u001b]8;;\u001b\\\u001b[2m:\u001b[0m\u001b]8;id=164067;file://C:\\Users\\Tahsin\\miniconda3\\envs\\modspy\\lib\\site-packages\\distributed\\core.py#743\u001b\\\u001b[2m743\u001b[0m\u001b]8;;\u001b\\\n",
       "\u001b[2;36m                    \u001b[0m         long-running GIL-holding functions or moving large chunks of data. This    \u001b[2m           \u001b[0m\n",
       "\u001b[2;36m                    \u001b[0m         can cause timeouts and instability.                                        \u001b[2m           \u001b[0m\n"
      ]
     },
     "metadata": {},
     "output_type": "display_data"
    },
    {
     "data": {
      "text/html": [
       "<pre style=\"white-space:pre;overflow-x:auto;line-height:normal;font-family:Menlo,'DejaVu Sans Mono',consolas,'Courier New',monospace\"><span style=\"color: #7fbfbf; text-decoration-color: #7fbfbf\">                    </span><span style=\"color: #000080; text-decoration-color: #000080\">INFO    </span> Event loop was unresponsive in Nanny for <span style=\"color: #008080; text-decoration-color: #008080; font-weight: bold\">4.</span>31s.  This is often caused by   <a href=\"file://C:\\Users\\Tahsin\\miniconda3\\envs\\modspy\\lib\\site-packages\\distributed\\core.py\" target=\"_blank\"><span style=\"color: #7f7f7f; text-decoration-color: #7f7f7f\">core.py</span></a><span style=\"color: #7f7f7f; text-decoration-color: #7f7f7f\">:</span><a href=\"file://C:\\Users\\Tahsin\\miniconda3\\envs\\modspy\\lib\\site-packages\\distributed\\core.py#743\" target=\"_blank\"><span style=\"color: #7f7f7f; text-decoration-color: #7f7f7f\">743</span></a>\n",
       "<span style=\"color: #7fbfbf; text-decoration-color: #7fbfbf\">                    </span>         long-running GIL-holding functions or moving large chunks of data. This    <span style=\"color: #7f7f7f; text-decoration-color: #7f7f7f\">           </span>\n",
       "<span style=\"color: #7fbfbf; text-decoration-color: #7fbfbf\">                    </span>         can cause timeouts and instability.                                        <span style=\"color: #7f7f7f; text-decoration-color: #7f7f7f\">           </span>\n",
       "</pre>\n"
      ],
      "text/plain": [
       "\u001b[2;36m                   \u001b[0m\u001b[2;36m \u001b[0m\u001b[34mINFO    \u001b[0m Event loop was unresponsive in Nanny for \u001b[1;36m4.\u001b[0m31s.  This is often caused by   \u001b]8;id=220686;file://C:\\Users\\Tahsin\\miniconda3\\envs\\modspy\\lib\\site-packages\\distributed\\core.py\u001b\\\u001b[2mcore.py\u001b[0m\u001b]8;;\u001b\\\u001b[2m:\u001b[0m\u001b]8;id=966556;file://C:\\Users\\Tahsin\\miniconda3\\envs\\modspy\\lib\\site-packages\\distributed\\core.py#743\u001b\\\u001b[2m743\u001b[0m\u001b]8;;\u001b\\\n",
       "\u001b[2;36m                    \u001b[0m         long-running GIL-holding functions or moving large chunks of data. This    \u001b[2m           \u001b[0m\n",
       "\u001b[2;36m                    \u001b[0m         can cause timeouts and instability.                                        \u001b[2m           \u001b[0m\n"
      ]
     },
     "metadata": {},
     "output_type": "display_data"
    },
    {
     "data": {
      "text/html": [
       "<pre style=\"white-space:pre;overflow-x:auto;line-height:normal;font-family:Menlo,'DejaVu Sans Mono',consolas,'Courier New',monospace\"><span style=\"color: #7fbfbf; text-decoration-color: #7fbfbf\">                    </span><span style=\"color: #000080; text-decoration-color: #000080\">INFO    </span> Event loop was unresponsive in Nanny for <span style=\"color: #008080; text-decoration-color: #008080; font-weight: bold\">4.</span>42s.  This is often caused by   <a href=\"file://C:\\Users\\Tahsin\\miniconda3\\envs\\modspy\\lib\\site-packages\\distributed\\core.py\" target=\"_blank\"><span style=\"color: #7f7f7f; text-decoration-color: #7f7f7f\">core.py</span></a><span style=\"color: #7f7f7f; text-decoration-color: #7f7f7f\">:</span><a href=\"file://C:\\Users\\Tahsin\\miniconda3\\envs\\modspy\\lib\\site-packages\\distributed\\core.py#743\" target=\"_blank\"><span style=\"color: #7f7f7f; text-decoration-color: #7f7f7f\">743</span></a>\n",
       "<span style=\"color: #7fbfbf; text-decoration-color: #7fbfbf\">                    </span>         long-running GIL-holding functions or moving large chunks of data. This    <span style=\"color: #7f7f7f; text-decoration-color: #7f7f7f\">           </span>\n",
       "<span style=\"color: #7fbfbf; text-decoration-color: #7fbfbf\">                    </span>         can cause timeouts and instability.                                        <span style=\"color: #7f7f7f; text-decoration-color: #7f7f7f\">           </span>\n",
       "</pre>\n"
      ],
      "text/plain": [
       "\u001b[2;36m                   \u001b[0m\u001b[2;36m \u001b[0m\u001b[34mINFO    \u001b[0m Event loop was unresponsive in Nanny for \u001b[1;36m4.\u001b[0m42s.  This is often caused by   \u001b]8;id=77259;file://C:\\Users\\Tahsin\\miniconda3\\envs\\modspy\\lib\\site-packages\\distributed\\core.py\u001b\\\u001b[2mcore.py\u001b[0m\u001b]8;;\u001b\\\u001b[2m:\u001b[0m\u001b]8;id=460126;file://C:\\Users\\Tahsin\\miniconda3\\envs\\modspy\\lib\\site-packages\\distributed\\core.py#743\u001b\\\u001b[2m743\u001b[0m\u001b]8;;\u001b\\\n",
       "\u001b[2;36m                    \u001b[0m         long-running GIL-holding functions or moving large chunks of data. This    \u001b[2m           \u001b[0m\n",
       "\u001b[2;36m                    \u001b[0m         can cause timeouts and instability.                                        \u001b[2m           \u001b[0m\n"
      ]
     },
     "metadata": {},
     "output_type": "display_data"
    },
    {
     "data": {
      "text/html": [
       "<pre style=\"white-space:pre;overflow-x:auto;line-height:normal;font-family:Menlo,'DejaVu Sans Mono',consolas,'Courier New',monospace\"><span style=\"color: #7fbfbf; text-decoration-color: #7fbfbf\">                    </span><span style=\"color: #000080; text-decoration-color: #000080\">INFO    </span> Event loop was unresponsive in Nanny for <span style=\"color: #008080; text-decoration-color: #008080; font-weight: bold\">4.</span>44s.  This is often caused by   <a href=\"file://C:\\Users\\Tahsin\\miniconda3\\envs\\modspy\\lib\\site-packages\\distributed\\core.py\" target=\"_blank\"><span style=\"color: #7f7f7f; text-decoration-color: #7f7f7f\">core.py</span></a><span style=\"color: #7f7f7f; text-decoration-color: #7f7f7f\">:</span><a href=\"file://C:\\Users\\Tahsin\\miniconda3\\envs\\modspy\\lib\\site-packages\\distributed\\core.py#743\" target=\"_blank\"><span style=\"color: #7f7f7f; text-decoration-color: #7f7f7f\">743</span></a>\n",
       "<span style=\"color: #7fbfbf; text-decoration-color: #7fbfbf\">                    </span>         long-running GIL-holding functions or moving large chunks of data. This    <span style=\"color: #7f7f7f; text-decoration-color: #7f7f7f\">           </span>\n",
       "<span style=\"color: #7fbfbf; text-decoration-color: #7fbfbf\">                    </span>         can cause timeouts and instability.                                        <span style=\"color: #7f7f7f; text-decoration-color: #7f7f7f\">           </span>\n",
       "</pre>\n"
      ],
      "text/plain": [
       "\u001b[2;36m                   \u001b[0m\u001b[2;36m \u001b[0m\u001b[34mINFO    \u001b[0m Event loop was unresponsive in Nanny for \u001b[1;36m4.\u001b[0m44s.  This is often caused by   \u001b]8;id=229210;file://C:\\Users\\Tahsin\\miniconda3\\envs\\modspy\\lib\\site-packages\\distributed\\core.py\u001b\\\u001b[2mcore.py\u001b[0m\u001b]8;;\u001b\\\u001b[2m:\u001b[0m\u001b]8;id=440553;file://C:\\Users\\Tahsin\\miniconda3\\envs\\modspy\\lib\\site-packages\\distributed\\core.py#743\u001b\\\u001b[2m743\u001b[0m\u001b]8;;\u001b\\\n",
       "\u001b[2;36m                    \u001b[0m         long-running GIL-holding functions or moving large chunks of data. This    \u001b[2m           \u001b[0m\n",
       "\u001b[2;36m                    \u001b[0m         can cause timeouts and instability.                                        \u001b[2m           \u001b[0m\n"
      ]
     },
     "metadata": {},
     "output_type": "display_data"
    },
    {
     "data": {
      "text/html": [
       "<pre style=\"white-space:pre;overflow-x:auto;line-height:normal;font-family:Menlo,'DejaVu Sans Mono',consolas,'Courier New',monospace\"><span style=\"color: #7fbfbf; text-decoration-color: #7fbfbf\">[01/19/24 00:50:51] </span><span style=\"color: #000080; text-decoration-color: #000080\">INFO    </span> Event loop was unresponsive in Nanny for <span style=\"color: #008080; text-decoration-color: #008080; font-weight: bold\">3.</span>03s.  This is often caused by   <a href=\"file://C:\\Users\\Tahsin\\miniconda3\\envs\\modspy\\lib\\site-packages\\distributed\\core.py\" target=\"_blank\"><span style=\"color: #7f7f7f; text-decoration-color: #7f7f7f\">core.py</span></a><span style=\"color: #7f7f7f; text-decoration-color: #7f7f7f\">:</span><a href=\"file://C:\\Users\\Tahsin\\miniconda3\\envs\\modspy\\lib\\site-packages\\distributed\\core.py#743\" target=\"_blank\"><span style=\"color: #7f7f7f; text-decoration-color: #7f7f7f\">743</span></a>\n",
       "<span style=\"color: #7fbfbf; text-decoration-color: #7fbfbf\">                    </span>         long-running GIL-holding functions or moving large chunks of data. This    <span style=\"color: #7f7f7f; text-decoration-color: #7f7f7f\">           </span>\n",
       "<span style=\"color: #7fbfbf; text-decoration-color: #7fbfbf\">                    </span>         can cause timeouts and instability.                                        <span style=\"color: #7f7f7f; text-decoration-color: #7f7f7f\">           </span>\n",
       "</pre>\n"
      ],
      "text/plain": [
       "\u001b[2;36m[01/19/24 00:50:51]\u001b[0m\u001b[2;36m \u001b[0m\u001b[34mINFO    \u001b[0m Event loop was unresponsive in Nanny for \u001b[1;36m3.\u001b[0m03s.  This is often caused by   \u001b]8;id=472830;file://C:\\Users\\Tahsin\\miniconda3\\envs\\modspy\\lib\\site-packages\\distributed\\core.py\u001b\\\u001b[2mcore.py\u001b[0m\u001b]8;;\u001b\\\u001b[2m:\u001b[0m\u001b]8;id=313324;file://C:\\Users\\Tahsin\\miniconda3\\envs\\modspy\\lib\\site-packages\\distributed\\core.py#743\u001b\\\u001b[2m743\u001b[0m\u001b]8;;\u001b\\\n",
       "\u001b[2;36m                    \u001b[0m         long-running GIL-holding functions or moving large chunks of data. This    \u001b[2m           \u001b[0m\n",
       "\u001b[2;36m                    \u001b[0m         can cause timeouts and instability.                                        \u001b[2m           \u001b[0m\n"
      ]
     },
     "metadata": {},
     "output_type": "display_data"
    }
   ],
   "source": [
    "@dask.delayed\n",
    "def find_paths(pair):\n",
    "    if (nx.has_path(G, pair[0], pair[1])):\n",
    "        all_paths = nx.all_simple_paths(G, source=pair[0], target=pair[1])\n",
    "        return (pair[0], pair[1], all_paths)\n",
    "    return None\n",
    "\n",
    "# Create a list of delayed computations\n",
    "tasks = [find_paths(p) for p in _s_pairs]\n",
    "\n",
    "# Compute all results in parallel\n",
    "saved_path = dask.compute(*tasks)"
   ]
  },
  {
   "cell_type": "code",
   "execution_count": 30,
   "metadata": {},
   "outputs": [],
   "source": [
    "for p in _s_pairs[:10]:\n",
    "    # print(p)\n",
    "    # print(G.degree(p[0]))\n",
    "    # print(G.degree(p[1]))\n",
    "    if (nx.has_path(G, p[0], p[1])):\n",
    "        print(nx.shortest_path(G, p[0], p[1]))"
   ]
  },
  {
   "cell_type": "code",
   "execution_count": 131,
   "metadata": {},
   "outputs": [
    {
     "data": {
      "application/vnd.jupyter.widget-view+json": {
       "model_id": "73e1763d249f439da9c0e7127affce5b",
       "version_major": 2,
       "version_minor": 0
      },
      "text/plain": [
       "  0%|          | 0/87430476 [00:00<?, ?it/s]"
      ]
     },
     "metadata": {},
     "output_type": "display_data"
    },
    {
     "data": {
      "text/html": [
       "<pre style=\"white-space:pre;overflow-x:auto;line-height:normal;font-family:Menlo,'DejaVu Sans Mono',consolas,'Courier New',monospace\"><span style=\"color: #800000; text-decoration-color: #800000\">╭─────────────────────────────── </span><span style=\"color: #800000; text-decoration-color: #800000; font-weight: bold\">Traceback </span><span style=\"color: #bf7f7f; text-decoration-color: #bf7f7f; font-weight: bold\">(most recent call last)</span><span style=\"color: #800000; text-decoration-color: #800000\"> ────────────────────────────────╮</span>\n",
       "<span style=\"color: #800000; text-decoration-color: #800000\">│</span> in <span style=\"color: #00ff00; text-decoration-color: #00ff00\">&lt;module&gt;</span>:<span style=\"color: #0000ff; text-decoration-color: #0000ff\">4</span>                                                                                    <span style=\"color: #800000; text-decoration-color: #800000\">│</span>\n",
       "<span style=\"color: #800000; text-decoration-color: #800000\">│</span>                                                                                                  <span style=\"color: #800000; text-decoration-color: #800000\">│</span>\n",
       "<span style=\"color: #800000; text-decoration-color: #800000\">│</span>   <span style=\"color: #7f7f7f; text-decoration-color: #7f7f7f\">1 </span>saved_path = []                                                                              <span style=\"color: #800000; text-decoration-color: #800000\">│</span>\n",
       "<span style=\"color: #800000; text-decoration-color: #800000\">│</span>   <span style=\"color: #7f7f7f; text-decoration-color: #7f7f7f\">2 </span><span style=\"color: #0000ff; text-decoration-color: #0000ff\">for</span> p <span style=\"color: #ff00ff; text-decoration-color: #ff00ff\">in</span> tqdm(pairs):                                                                        <span style=\"color: #800000; text-decoration-color: #800000\">│</span>\n",
       "<span style=\"color: #800000; text-decoration-color: #800000\">│</span>   <span style=\"color: #7f7f7f; text-decoration-color: #7f7f7f\">3 </span><span style=\"color: #7f7f7f; text-decoration-color: #7f7f7f\">│   </span>all_paths = nx.all_simple_paths(G, source=p[<span style=\"color: #0000ff; text-decoration-color: #0000ff\">0</span>], target=p[<span style=\"color: #0000ff; text-decoration-color: #0000ff\">1</span>])                             <span style=\"color: #800000; text-decoration-color: #800000\">│</span>\n",
       "<span style=\"color: #800000; text-decoration-color: #800000\">│</span> <span style=\"color: #800000; text-decoration-color: #800000\">❱ </span>4 <span style=\"color: #7f7f7f; text-decoration-color: #7f7f7f\">│   </span>saved_path.append((p[<span style=\"color: #0000ff; text-decoration-color: #0000ff\">0</span>], p[<span style=\"color: #0000ff; text-decoration-color: #0000ff\">1</span>], all_paths))                                               <span style=\"color: #800000; text-decoration-color: #800000\">│</span>\n",
       "<span style=\"color: #800000; text-decoration-color: #800000\">│</span>   <span style=\"color: #7f7f7f; text-decoration-color: #7f7f7f\">5 </span>                                                                                             <span style=\"color: #800000; text-decoration-color: #800000\">│</span>\n",
       "<span style=\"color: #800000; text-decoration-color: #800000\">╰──────────────────────────────────────────────────────────────────────────────────────────────────╯</span>\n",
       "<span style=\"color: #ff0000; text-decoration-color: #ff0000; font-weight: bold\">MemoryError</span>\n",
       "</pre>\n"
      ],
      "text/plain": [
       "\u001b[31m╭─\u001b[0m\u001b[31m──────────────────────────────\u001b[0m\u001b[31m \u001b[0m\u001b[1;31mTraceback \u001b[0m\u001b[1;2;31m(most recent call last)\u001b[0m\u001b[31m \u001b[0m\u001b[31m───────────────────────────────\u001b[0m\u001b[31m─╮\u001b[0m\n",
       "\u001b[31m│\u001b[0m in \u001b[92m<module>\u001b[0m:\u001b[94m4\u001b[0m                                                                                    \u001b[31m│\u001b[0m\n",
       "\u001b[31m│\u001b[0m                                                                                                  \u001b[31m│\u001b[0m\n",
       "\u001b[31m│\u001b[0m   \u001b[2m1 \u001b[0msaved_path = []                                                                              \u001b[31m│\u001b[0m\n",
       "\u001b[31m│\u001b[0m   \u001b[2m2 \u001b[0m\u001b[94mfor\u001b[0m p \u001b[95min\u001b[0m tqdm(pairs):                                                                        \u001b[31m│\u001b[0m\n",
       "\u001b[31m│\u001b[0m   \u001b[2m3 \u001b[0m\u001b[2m│   \u001b[0mall_paths = nx.all_simple_paths(G, source=p[\u001b[94m0\u001b[0m], target=p[\u001b[94m1\u001b[0m])                             \u001b[31m│\u001b[0m\n",
       "\u001b[31m│\u001b[0m \u001b[31m❱ \u001b[0m4 \u001b[2m│   \u001b[0msaved_path.append((p[\u001b[94m0\u001b[0m], p[\u001b[94m1\u001b[0m], all_paths))                                               \u001b[31m│\u001b[0m\n",
       "\u001b[31m│\u001b[0m   \u001b[2m5 \u001b[0m                                                                                             \u001b[31m│\u001b[0m\n",
       "\u001b[31m╰──────────────────────────────────────────────────────────────────────────────────────────────────╯\u001b[0m\n",
       "\u001b[1;91mMemoryError\u001b[0m\n"
      ]
     },
     "metadata": {},
     "output_type": "display_data"
    }
   ],
   "source": [
    "saved_path = []\n",
    "for p in tqdm(pairs):\n",
    "    all_paths = nx.all_simple_paths(G, source=p[0], target=p[1])\n",
    "    saved_path.append((p[0], p[1], all_paths))"
   ]
  },
  {
   "cell_type": "code",
   "execution_count": 135,
   "metadata": {},
   "outputs": [
    {
     "data": {
      "text/html": [
       "<pre style=\"white-space:pre;overflow-x:auto;line-height:normal;font-family:Menlo,'DejaVu Sans Mono',consolas,'Courier New',monospace\"></pre>\n"
      ],
      "text/plain": []
     },
     "metadata": {},
     "output_type": "display_data"
    },
    {
     "data": {
      "text/plain": [
       "\u001b[1;36m45771532\u001b[0m"
      ]
     },
     "execution_count": 135,
     "metadata": {},
     "output_type": "execute_result"
    }
   ],
   "source": [
    "len(saved_path)"
   ]
  },
  {
   "cell_type": "code",
   "execution_count": null,
   "metadata": {},
   "outputs": [],
   "source": []
  }
 ],
 "metadata": {
  "kernelspec": {
   "display_name": "Kedro (modspy_data)",
   "language": "python",
   "name": "kedro_modspy_data"
  },
  "language_info": {
   "codemirror_mode": {
    "name": "ipython",
    "version": 3
   },
   "file_extension": ".py",
   "mimetype": "text/x-python",
   "name": "python",
   "nbconvert_exporter": "python",
   "pygments_lexer": "ipython3",
   "version": "3.10.12"
  }
 },
 "nbformat": 4,
 "nbformat_minor": 2
}
