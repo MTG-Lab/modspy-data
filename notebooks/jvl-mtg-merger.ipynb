{
 "cells": [
  {
   "cell_type": "code",
   "execution_count": 10,
   "id": "19789080-59e6-479e-8b2c-513d40dab698",
   "metadata": {
    "tags": []
   },
   "outputs": [
    {
     "data": {
      "text/html": [
       "<pre style=\"white-space:pre;overflow-x:auto;line-height:normal;font-family:Menlo,'DejaVu Sans Mono',consolas,'Courier New',monospace\"><span style=\"color: #7fbfbf; text-decoration-color: #7fbfbf\">[09/13/23 00:29:38] </span><span style=\"color: #000080; text-decoration-color: #000080\">INFO    </span> Resolved project path as:                                              <a href=\"file://C:\\Users\\Tahsin\\Documents\\Projects\\modspy-data\\.env\\.modspy-data-p38\\lib\\site-packages\\kedro\\ipython\\__init__.py\" target=\"_blank\"><span style=\"color: #7f7f7f; text-decoration-color: #7f7f7f\">__init__.py</span></a><span style=\"color: #7f7f7f; text-decoration-color: #7f7f7f\">:</span><a href=\"file://C:\\Users\\Tahsin\\Documents\\Projects\\modspy-data\\.env\\.modspy-data-p38\\lib\\site-packages\\kedro\\ipython\\__init__.py#139\" target=\"_blank\"><span style=\"color: #7f7f7f; text-decoration-color: #7f7f7f\">139</span></a>\n",
       "<span style=\"color: #7fbfbf; text-decoration-color: #7fbfbf\">                    </span>         C:\\Users\\Tahsin\\Documents\\Projects\\modspy-data.                        <span style=\"color: #7f7f7f; text-decoration-color: #7f7f7f\">               </span>\n",
       "<span style=\"color: #7fbfbf; text-decoration-color: #7fbfbf\">                    </span>         To set a different path, run <span style=\"color: #008000; text-decoration-color: #008000\">'%reload_kedro &lt;project_root&gt;'</span>            <span style=\"color: #7f7f7f; text-decoration-color: #7f7f7f\">               </span>\n",
       "</pre>\n"
      ],
      "text/plain": [
       "\u001b[2;36m[09/13/23 00:29:38]\u001b[0m\u001b[2;36m \u001b[0m\u001b[34mINFO    \u001b[0m Resolved project path as:                                              \u001b]8;id=261385;file://C:\\Users\\Tahsin\\Documents\\Projects\\modspy-data\\.env\\.modspy-data-p38\\lib\\site-packages\\kedro\\ipython\\__init__.py\u001b\\\u001b[2m__init__.py\u001b[0m\u001b]8;;\u001b\\\u001b[2m:\u001b[0m\u001b]8;id=148773;file://C:\\Users\\Tahsin\\Documents\\Projects\\modspy-data\\.env\\.modspy-data-p38\\lib\\site-packages\\kedro\\ipython\\__init__.py#139\u001b\\\u001b[2m139\u001b[0m\u001b]8;;\u001b\\\n",
       "\u001b[2;36m                    \u001b[0m         C:\\Users\\Tahsin\\Documents\\Projects\\modspy-data.                        \u001b[2m               \u001b[0m\n",
       "\u001b[2;36m                    \u001b[0m         To set a different path, run \u001b[32m'%reload_kedro \u001b[0m\u001b[32m<\u001b[0m\u001b[32mproject_root\u001b[0m\u001b[32m>\u001b[0m\u001b[32m'\u001b[0m            \u001b[2m               \u001b[0m\n"
      ]
     },
     "metadata": {},
     "output_type": "display_data"
    },
    {
     "data": {
      "text/html": [
       "<pre style=\"white-space:pre;overflow-x:auto;line-height:normal;font-family:Menlo,'DejaVu Sans Mono',consolas,'Courier New',monospace\"><span style=\"color: #7fbfbf; text-decoration-color: #7fbfbf\">[09/13/23 00:29:38] </span><span style=\"color: #800000; text-decoration-color: #800000\">WARNING </span> C:\\Users\\Tahsin\\Documents\\Projects\\modspy-data\\.env\\.modspy-data-p38\\l <a href=\"file://C:\\Users\\Tahsin\\AppData\\Local\\Programs\\Python\\Python38\\lib\\warnings.py\" target=\"_blank\"><span style=\"color: #7f7f7f; text-decoration-color: #7f7f7f\">warnings.py</span></a><span style=\"color: #7f7f7f; text-decoration-color: #7f7f7f\">:</span><a href=\"file://C:\\Users\\Tahsin\\AppData\\Local\\Programs\\Python\\Python38\\lib\\warnings.py#109\" target=\"_blank\"><span style=\"color: #7f7f7f; text-decoration-color: #7f7f7f\">109</span></a>\n",
       "<span style=\"color: #7fbfbf; text-decoration-color: #7fbfbf\">                    </span>         ib\\site-packages\\kedro\\framework\\session\\session.py:<span style=\"color: #008080; text-decoration-color: #008080; font-weight: bold\">266</span>:               <span style=\"color: #7f7f7f; text-decoration-color: #7f7f7f\">               </span>\n",
       "<span style=\"color: #7fbfbf; text-decoration-color: #7fbfbf\">                    </span>         FutureWarning: ConfigLoader will be deprecated in Kedro <span style=\"color: #008080; text-decoration-color: #008080; font-weight: bold\">0.19</span>. Please   <span style=\"color: #7f7f7f; text-decoration-color: #7f7f7f\">               </span>\n",
       "<span style=\"color: #7fbfbf; text-decoration-color: #7fbfbf\">                    </span>         use the OmegaConfigLoader instead. To consult the documentation for    <span style=\"color: #7f7f7f; text-decoration-color: #7f7f7f\">               </span>\n",
       "<span style=\"color: #7fbfbf; text-decoration-color: #7fbfbf\">                    </span>         OmegaConfigLoader, see here:                                           <span style=\"color: #7f7f7f; text-decoration-color: #7f7f7f\">               </span>\n",
       "<span style=\"color: #7fbfbf; text-decoration-color: #7fbfbf\">                    </span>         <span style=\"color: #0000ff; text-decoration-color: #0000ff; text-decoration: underline\">https://docs.kedro.org/en/stable/configuration/advanced_configuration.</span> <span style=\"color: #7f7f7f; text-decoration-color: #7f7f7f\">               </span>\n",
       "<span style=\"color: #7fbfbf; text-decoration-color: #7fbfbf\">                    </span>         <span style=\"color: #0000ff; text-decoration-color: #0000ff; text-decoration: underline\">html#omegaconfigloader</span>                                                 <span style=\"color: #7f7f7f; text-decoration-color: #7f7f7f\">               </span>\n",
       "<span style=\"color: #7fbfbf; text-decoration-color: #7fbfbf\">                    </span>           <span style=\"color: #800080; text-decoration-color: #800080; font-weight: bold\">warnings.warn</span><span style=\"font-weight: bold\">(</span>                                                       <span style=\"color: #7f7f7f; text-decoration-color: #7f7f7f\">               </span>\n",
       "<span style=\"color: #7fbfbf; text-decoration-color: #7fbfbf\">                    </span>                                                                                <span style=\"color: #7f7f7f; text-decoration-color: #7f7f7f\">               </span>\n",
       "</pre>\n"
      ],
      "text/plain": [
       "\u001b[2;36m[09/13/23 00:29:38]\u001b[0m\u001b[2;36m \u001b[0m\u001b[31mWARNING \u001b[0m C:\\Users\\Tahsin\\Documents\\Projects\\modspy-data\\.env\\.modspy-data-p38\\l \u001b]8;id=961630;file://C:\\Users\\Tahsin\\AppData\\Local\\Programs\\Python\\Python38\\lib\\warnings.py\u001b\\\u001b[2mwarnings.py\u001b[0m\u001b]8;;\u001b\\\u001b[2m:\u001b[0m\u001b]8;id=505119;file://C:\\Users\\Tahsin\\AppData\\Local\\Programs\\Python\\Python38\\lib\\warnings.py#109\u001b\\\u001b[2m109\u001b[0m\u001b]8;;\u001b\\\n",
       "\u001b[2;36m                    \u001b[0m         ib\\site-packages\\kedro\\framework\\session\\session.py:\u001b[1;36m266\u001b[0m:               \u001b[2m               \u001b[0m\n",
       "\u001b[2;36m                    \u001b[0m         FutureWarning: ConfigLoader will be deprecated in Kedro \u001b[1;36m0.19\u001b[0m. Please   \u001b[2m               \u001b[0m\n",
       "\u001b[2;36m                    \u001b[0m         use the OmegaConfigLoader instead. To consult the documentation for    \u001b[2m               \u001b[0m\n",
       "\u001b[2;36m                    \u001b[0m         OmegaConfigLoader, see here:                                           \u001b[2m               \u001b[0m\n",
       "\u001b[2;36m                    \u001b[0m         \u001b[4;94mhttps://docs.kedro.org/en/stable/configuration/advanced_configuration.\u001b[0m \u001b[2m               \u001b[0m\n",
       "\u001b[2;36m                    \u001b[0m         \u001b[4;94mhtml#omegaconfigloader\u001b[0m                                                 \u001b[2m               \u001b[0m\n",
       "\u001b[2;36m                    \u001b[0m           \u001b[1;35mwarnings.warn\u001b[0m\u001b[1m(\u001b[0m                                                       \u001b[2m               \u001b[0m\n",
       "\u001b[2;36m                    \u001b[0m                                                                                \u001b[2m               \u001b[0m\n"
      ]
     },
     "metadata": {},
     "output_type": "display_data"
    },
    {
     "data": {
      "text/html": [
       "<pre style=\"white-space:pre;overflow-x:auto;line-height:normal;font-family:Menlo,'DejaVu Sans Mono',consolas,'Courier New',monospace\"><span style=\"color: #7fbfbf; text-decoration-color: #7fbfbf\">[09/13/23 00:29:39] </span><span style=\"color: #000080; text-decoration-color: #000080\">INFO    </span> Kedro project ModSpy-Data                                              <a href=\"file://C:\\Users\\Tahsin\\Documents\\Projects\\modspy-data\\.env\\.modspy-data-p38\\lib\\site-packages\\kedro\\ipython\\__init__.py\" target=\"_blank\"><span style=\"color: #7f7f7f; text-decoration-color: #7f7f7f\">__init__.py</span></a><span style=\"color: #7f7f7f; text-decoration-color: #7f7f7f\">:</span><a href=\"file://C:\\Users\\Tahsin\\Documents\\Projects\\modspy-data\\.env\\.modspy-data-p38\\lib\\site-packages\\kedro\\ipython\\__init__.py#108\" target=\"_blank\"><span style=\"color: #7f7f7f; text-decoration-color: #7f7f7f\">108</span></a>\n",
       "</pre>\n"
      ],
      "text/plain": [
       "\u001b[2;36m[09/13/23 00:29:39]\u001b[0m\u001b[2;36m \u001b[0m\u001b[34mINFO    \u001b[0m Kedro project ModSpy-Data                                              \u001b]8;id=486891;file://C:\\Users\\Tahsin\\Documents\\Projects\\modspy-data\\.env\\.modspy-data-p38\\lib\\site-packages\\kedro\\ipython\\__init__.py\u001b\\\u001b[2m__init__.py\u001b[0m\u001b]8;;\u001b\\\u001b[2m:\u001b[0m\u001b]8;id=486576;file://C:\\Users\\Tahsin\\Documents\\Projects\\modspy-data\\.env\\.modspy-data-p38\\lib\\site-packages\\kedro\\ipython\\__init__.py#108\u001b\\\u001b[2m108\u001b[0m\u001b]8;;\u001b\\\n"
      ]
     },
     "metadata": {},
     "output_type": "display_data"
    },
    {
     "data": {
      "text/html": [
       "<pre style=\"white-space:pre;overflow-x:auto;line-height:normal;font-family:Menlo,'DejaVu Sans Mono',consolas,'Courier New',monospace\"><span style=\"color: #7fbfbf; text-decoration-color: #7fbfbf\">                    </span><span style=\"color: #000080; text-decoration-color: #000080\">INFO    </span> Defined global variable <span style=\"color: #008000; text-decoration-color: #008000\">'context'</span>, <span style=\"color: #008000; text-decoration-color: #008000\">'session'</span>, <span style=\"color: #008000; text-decoration-color: #008000\">'catalog'</span> and            <a href=\"file://C:\\Users\\Tahsin\\Documents\\Projects\\modspy-data\\.env\\.modspy-data-p38\\lib\\site-packages\\kedro\\ipython\\__init__.py\" target=\"_blank\"><span style=\"color: #7f7f7f; text-decoration-color: #7f7f7f\">__init__.py</span></a><span style=\"color: #7f7f7f; text-decoration-color: #7f7f7f\">:</span><a href=\"file://C:\\Users\\Tahsin\\Documents\\Projects\\modspy-data\\.env\\.modspy-data-p38\\lib\\site-packages\\kedro\\ipython\\__init__.py#109\" target=\"_blank\"><span style=\"color: #7f7f7f; text-decoration-color: #7f7f7f\">109</span></a>\n",
       "<span style=\"color: #7fbfbf; text-decoration-color: #7fbfbf\">                    </span>         <span style=\"color: #008000; text-decoration-color: #008000\">'pipelines'</span>                                                            <span style=\"color: #7f7f7f; text-decoration-color: #7f7f7f\">               </span>\n",
       "</pre>\n"
      ],
      "text/plain": [
       "\u001b[2;36m                   \u001b[0m\u001b[2;36m \u001b[0m\u001b[34mINFO    \u001b[0m Defined global variable \u001b[32m'context'\u001b[0m, \u001b[32m'session'\u001b[0m, \u001b[32m'catalog'\u001b[0m and            \u001b]8;id=908237;file://C:\\Users\\Tahsin\\Documents\\Projects\\modspy-data\\.env\\.modspy-data-p38\\lib\\site-packages\\kedro\\ipython\\__init__.py\u001b\\\u001b[2m__init__.py\u001b[0m\u001b]8;;\u001b\\\u001b[2m:\u001b[0m\u001b]8;id=469169;file://C:\\Users\\Tahsin\\Documents\\Projects\\modspy-data\\.env\\.modspy-data-p38\\lib\\site-packages\\kedro\\ipython\\__init__.py#109\u001b\\\u001b[2m109\u001b[0m\u001b]8;;\u001b\\\n",
       "\u001b[2;36m                    \u001b[0m         \u001b[32m'pipelines'\u001b[0m                                                            \u001b[2m               \u001b[0m\n"
      ]
     },
     "metadata": {},
     "output_type": "display_data"
    },
    {
     "data": {
      "text/html": [
       "<pre style=\"white-space:pre;overflow-x:auto;line-height:normal;font-family:Menlo,'DejaVu Sans Mono',consolas,'Courier New',monospace\"><span style=\"color: #7fbfbf; text-decoration-color: #7fbfbf\">                    </span><span style=\"color: #000080; text-decoration-color: #000080\">INFO    </span> Registered line magic <span style=\"color: #008000; text-decoration-color: #008000\">'run_viz'</span>                                        <a href=\"file://C:\\Users\\Tahsin\\Documents\\Projects\\modspy-data\\.env\\.modspy-data-p38\\lib\\site-packages\\kedro\\ipython\\__init__.py\" target=\"_blank\"><span style=\"color: #7f7f7f; text-decoration-color: #7f7f7f\">__init__.py</span></a><span style=\"color: #7f7f7f; text-decoration-color: #7f7f7f\">:</span><a href=\"file://C:\\Users\\Tahsin\\Documents\\Projects\\modspy-data\\.env\\.modspy-data-p38\\lib\\site-packages\\kedro\\ipython\\__init__.py#115\" target=\"_blank\"><span style=\"color: #7f7f7f; text-decoration-color: #7f7f7f\">115</span></a>\n",
       "</pre>\n"
      ],
      "text/plain": [
       "\u001b[2;36m                   \u001b[0m\u001b[2;36m \u001b[0m\u001b[34mINFO    \u001b[0m Registered line magic \u001b[32m'run_viz'\u001b[0m                                        \u001b]8;id=211102;file://C:\\Users\\Tahsin\\Documents\\Projects\\modspy-data\\.env\\.modspy-data-p38\\lib\\site-packages\\kedro\\ipython\\__init__.py\u001b\\\u001b[2m__init__.py\u001b[0m\u001b]8;;\u001b\\\u001b[2m:\u001b[0m\u001b]8;id=690868;file://C:\\Users\\Tahsin\\Documents\\Projects\\modspy-data\\.env\\.modspy-data-p38\\lib\\site-packages\\kedro\\ipython\\__init__.py#115\u001b\\\u001b[2m115\u001b[0m\u001b]8;;\u001b\\\n"
      ]
     },
     "metadata": {},
     "output_type": "display_data"
    }
   ],
   "source": [
    "%reload_kedro"
   ]
  },
  {
   "cell_type": "code",
   "execution_count": 11,
   "id": "2803a12c-f37c-4128-ae0b-aeb3c9efb7b6",
   "metadata": {
    "tags": []
   },
   "outputs": [
    {
     "data": {
      "text/html": [
       "<pre style=\"white-space:pre;overflow-x:auto;line-height:normal;font-family:Menlo,'DejaVu Sans Mono',consolas,'Courier New',monospace\"><span style=\"color: #7fbfbf; text-decoration-color: #7fbfbf\">[09/13/23 00:29:40] </span><span style=\"color: #000080; text-decoration-color: #000080\">INFO    </span> Loading data from <span style=\"color: #008000; text-decoration-color: #008000\">'jvl_scored'</span> <span style=\"font-weight: bold\">(</span>CSVDataSet<span style=\"font-weight: bold\">)</span><span style=\"color: #808000; text-decoration-color: #808000\">...</span>                     <a href=\"file://C:\\Users\\Tahsin\\Documents\\Projects\\modspy-data\\.env\\.modspy-data-p38\\lib\\site-packages\\kedro\\io\\data_catalog.py\" target=\"_blank\"><span style=\"color: #7f7f7f; text-decoration-color: #7f7f7f\">data_catalog.py</span></a><span style=\"color: #7f7f7f; text-decoration-color: #7f7f7f\">:</span><a href=\"file://C:\\Users\\Tahsin\\Documents\\Projects\\modspy-data\\.env\\.modspy-data-p38\\lib\\site-packages\\kedro\\io\\data_catalog.py#492\" target=\"_blank\"><span style=\"color: #7f7f7f; text-decoration-color: #7f7f7f\">492</span></a>\n",
       "</pre>\n"
      ],
      "text/plain": [
       "\u001b[2;36m[09/13/23 00:29:40]\u001b[0m\u001b[2;36m \u001b[0m\u001b[34mINFO    \u001b[0m Loading data from \u001b[32m'jvl_scored'\u001b[0m \u001b[1m(\u001b[0mCSVDataSet\u001b[1m)\u001b[0m\u001b[33m...\u001b[0m                     \u001b]8;id=56219;file://C:\\Users\\Tahsin\\Documents\\Projects\\modspy-data\\.env\\.modspy-data-p38\\lib\\site-packages\\kedro\\io\\data_catalog.py\u001b\\\u001b[2mdata_catalog.py\u001b[0m\u001b]8;;\u001b\\\u001b[2m:\u001b[0m\u001b]8;id=2680;file://C:\\Users\\Tahsin\\Documents\\Projects\\modspy-data\\.env\\.modspy-data-p38\\lib\\site-packages\\kedro\\io\\data_catalog.py#492\u001b\\\u001b[2m492\u001b[0m\u001b]8;;\u001b\\\n"
      ]
     },
     "metadata": {},
     "output_type": "display_data"
    },
    {
     "data": {
      "text/html": [
       "<pre style=\"white-space:pre;overflow-x:auto;line-height:normal;font-family:Menlo,'DejaVu Sans Mono',consolas,'Courier New',monospace\"><span style=\"color: #7fbfbf; text-decoration-color: #7fbfbf\">                    </span><span style=\"color: #000080; text-decoration-color: #000080\">INFO    </span> Loading data from <span style=\"color: #008000; text-decoration-color: #008000\">'zyg1_scored'</span> <span style=\"font-weight: bold\">(</span>CSVDataSet<span style=\"font-weight: bold\">)</span><span style=\"color: #808000; text-decoration-color: #808000\">...</span>                    <a href=\"file://C:\\Users\\Tahsin\\Documents\\Projects\\modspy-data\\.env\\.modspy-data-p38\\lib\\site-packages\\kedro\\io\\data_catalog.py\" target=\"_blank\"><span style=\"color: #7f7f7f; text-decoration-color: #7f7f7f\">data_catalog.py</span></a><span style=\"color: #7f7f7f; text-decoration-color: #7f7f7f\">:</span><a href=\"file://C:\\Users\\Tahsin\\Documents\\Projects\\modspy-data\\.env\\.modspy-data-p38\\lib\\site-packages\\kedro\\io\\data_catalog.py#492\" target=\"_blank\"><span style=\"color: #7f7f7f; text-decoration-color: #7f7f7f\">492</span></a>\n",
       "</pre>\n"
      ],
      "text/plain": [
       "\u001b[2;36m                   \u001b[0m\u001b[2;36m \u001b[0m\u001b[34mINFO    \u001b[0m Loading data from \u001b[32m'zyg1_scored'\u001b[0m \u001b[1m(\u001b[0mCSVDataSet\u001b[1m)\u001b[0m\u001b[33m...\u001b[0m                    \u001b]8;id=971953;file://C:\\Users\\Tahsin\\Documents\\Projects\\modspy-data\\.env\\.modspy-data-p38\\lib\\site-packages\\kedro\\io\\data_catalog.py\u001b\\\u001b[2mdata_catalog.py\u001b[0m\u001b]8;;\u001b\\\u001b[2m:\u001b[0m\u001b]8;id=459594;file://C:\\Users\\Tahsin\\Documents\\Projects\\modspy-data\\.env\\.modspy-data-p38\\lib\\site-packages\\kedro\\io\\data_catalog.py#492\u001b\\\u001b[2m492\u001b[0m\u001b]8;;\u001b\\\n"
      ]
     },
     "metadata": {},
     "output_type": "display_data"
    }
   ],
   "source": [
    "jvl = catalog.load('jvl_scored')\n",
    "zyg1 = catalog.load('zyg1_scored')"
   ]
  },
  {
   "cell_type": "code",
   "execution_count": 13,
   "id": "4752a366-4664-4ed6-a4ce-5f8af3675d91",
   "metadata": {
    "tags": []
   },
   "outputs": [],
   "source": [
    "jvl['is_modifier'] = True"
   ]
  },
  {
   "cell_type": "code",
   "execution_count": 14,
   "id": "65a7893f-715f-45e0-b394-fe36e1887237",
   "metadata": {
    "tags": []
   },
   "outputs": [
    {
     "data": {
      "text/html": [
       "<pre style=\"white-space:pre;overflow-x:auto;line-height:normal;font-family:Menlo,'DejaVu Sans Mono',consolas,'Courier New',monospace\"></pre>\n"
      ],
      "text/plain": []
     },
     "metadata": {},
     "output_type": "display_data"
    },
    {
     "data": {
      "text/plain": [
       "\n",
       "\u001b[1;35mIndex\u001b[0m\u001b[1m(\u001b[0m\u001b[1m[\u001b[0m\u001b[32m'QueryGene'\u001b[0m, \u001b[32m'SuppressorGene'\u001b[0m, \u001b[32m'go_n_common_ancestors_max'\u001b[0m,\n",
       "       \u001b[32m'go_n_common_ancestors_avg'\u001b[0m, \u001b[32m'go_n_common_ancestors_bma'\u001b[0m,\n",
       "       \u001b[32m'go_n_union_ancestors_max'\u001b[0m, \u001b[32m'go_n_union_ancestors_avg'\u001b[0m,\n",
       "       \u001b[32m'go_n_union_ancestors_bma'\u001b[0m, \u001b[32m'go_batet_max'\u001b[0m, \u001b[32m'go_batet_avg'\u001b[0m,\n",
       "       \u001b[32m'go_batet_bma'\u001b[0m, \u001b[32m'go_batet_log_max'\u001b[0m, \u001b[32m'go_batet_log_avg'\u001b[0m,\n",
       "       \u001b[32m'go_batet_log_bma'\u001b[0m, \u001b[32m'go_resnik_max'\u001b[0m, \u001b[32m'go_resnik_avg'\u001b[0m, \u001b[32m'go_resnik_bma'\u001b[0m,\n",
       "       \u001b[32m'go_resnik_scaled_max'\u001b[0m, \u001b[32m'go_resnik_scaled_avg'\u001b[0m, \u001b[32m'go_resnik_scaled_bma'\u001b[0m,\n",
       "       \u001b[32m'go_lin_max'\u001b[0m, \u001b[32m'go_lin_avg'\u001b[0m, \u001b[32m'go_lin_bma'\u001b[0m, \u001b[32m'go_jiang_max'\u001b[0m,\n",
       "       \u001b[32m'go_jiang_avg'\u001b[0m, \u001b[32m'go_jiang_bma'\u001b[0m, \u001b[32m'go_jiang_seco_max'\u001b[0m,\n",
       "       \u001b[32m'go_jiang_seco_avg'\u001b[0m, \u001b[32m'go_jiang_seco_bma'\u001b[0m, \u001b[32m'is_modifier'\u001b[0m\u001b[1m]\u001b[0m,\n",
       "      \u001b[33mdtype\u001b[0m=\u001b[32m'object'\u001b[0m\u001b[1m)\u001b[0m"
      ]
     },
     "execution_count": 14,
     "metadata": {},
     "output_type": "execute_result"
    }
   ],
   "source": [
    "jvl.columns"
   ]
  },
  {
   "cell_type": "code",
   "execution_count": null,
   "id": "241e7a7f-7246-4170-8c60-c0bf17bc948d",
   "metadata": {},
   "outputs": [],
   "source": [
    "jvl.rename"
   ]
  },
  {
   "cell_type": "code",
   "execution_count": 8,
   "id": "f5c30e93-4f0c-4540-b634-9040f253dd91",
   "metadata": {
    "tags": []
   },
   "outputs": [
    {
     "data": {
      "text/html": [
       "<pre style=\"white-space:pre;overflow-x:auto;line-height:normal;font-family:Menlo,'DejaVu Sans Mono',consolas,'Courier New',monospace\"></pre>\n"
      ],
      "text/plain": []
     },
     "metadata": {},
     "output_type": "display_data"
    },
    {
     "data": {
      "text/plain": [
       "\n",
       "\u001b[1;35mIndex\u001b[0m\u001b[1m(\u001b[0m\u001b[1m[\u001b[0m\u001b[32m'gene_symbol'\u001b[0m, \u001b[32m'target_gene_symbol'\u001b[0m, \u001b[32m'go_n_common_ancestors_max'\u001b[0m,\n",
       "       \u001b[32m'go_n_common_ancestors_avg'\u001b[0m, \u001b[32m'go_n_common_ancestors_bma'\u001b[0m,\n",
       "       \u001b[32m'go_n_union_ancestors_max'\u001b[0m, \u001b[32m'go_n_union_ancestors_avg'\u001b[0m,\n",
       "       \u001b[32m'go_n_union_ancestors_bma'\u001b[0m, \u001b[32m'go_batet_max'\u001b[0m, \u001b[32m'go_batet_avg'\u001b[0m,\n",
       "       \u001b[32m'go_batet_bma'\u001b[0m, \u001b[32m'go_batet_log_max'\u001b[0m, \u001b[32m'go_batet_log_avg'\u001b[0m,\n",
       "       \u001b[32m'go_batet_log_bma'\u001b[0m, \u001b[32m'go_resnik_max'\u001b[0m, \u001b[32m'go_resnik_avg'\u001b[0m, \u001b[32m'go_resnik_bma'\u001b[0m,\n",
       "       \u001b[32m'go_resnik_scaled_max'\u001b[0m, \u001b[32m'go_resnik_scaled_avg'\u001b[0m, \u001b[32m'go_resnik_scaled_bma'\u001b[0m,\n",
       "       \u001b[32m'go_lin_max'\u001b[0m, \u001b[32m'go_lin_avg'\u001b[0m, \u001b[32m'go_lin_bma'\u001b[0m, \u001b[32m'go_jiang_max'\u001b[0m,\n",
       "       \u001b[32m'go_jiang_avg'\u001b[0m, \u001b[32m'go_jiang_bma'\u001b[0m, \u001b[32m'go_jiang_seco_max'\u001b[0m,\n",
       "       \u001b[32m'go_jiang_seco_avg'\u001b[0m, \u001b[32m'go_jiang_seco_bma'\u001b[0m, \u001b[32m'is_modifier'\u001b[0m\u001b[1m]\u001b[0m,\n",
       "      \u001b[33mdtype\u001b[0m=\u001b[32m'object'\u001b[0m\u001b[1m)\u001b[0m"
      ]
     },
     "execution_count": 8,
     "metadata": {},
     "output_type": "execute_result"
    }
   ],
   "source": [
    "zyg1.columns"
   ]
  },
  {
   "cell_type": "code",
   "execution_count": null,
   "id": "d2b50836-1cce-4135-8c9f-aedca5a56423",
   "metadata": {},
   "outputs": [],
   "source": []
  },
  {
   "cell_type": "code",
   "execution_count": null,
   "id": "7be41362-73c3-4369-8a9a-d7349df4c930",
   "metadata": {},
   "outputs": [],
   "source": []
  }
 ],
 "metadata": {
  "kernelspec": {
   "display_name": "Kedro (modspy_data)",
   "language": "python",
   "name": "kedro_modspy_data"
  },
  "language_info": {
   "codemirror_mode": {
    "name": "ipython",
    "version": 3
   },
   "file_extension": ".py",
   "mimetype": "text/x-python",
   "name": "python",
   "nbconvert_exporter": "python",
   "pygments_lexer": "ipython3",
   "version": "3.8.10"
  }
 },
 "nbformat": 4,
 "nbformat_minor": 5
}
